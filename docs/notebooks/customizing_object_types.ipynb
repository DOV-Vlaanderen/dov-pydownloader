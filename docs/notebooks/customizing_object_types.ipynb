{
 "cells": [
  {
   "cell_type": "markdown",
   "metadata": {},
   "source": [
    "## Adding XYZ methode fields to Boring dataframe"
   ]
  },
  {
   "cell_type": "code",
   "execution_count": 1,
   "metadata": {
    "collapsed": true
   },
   "outputs": [],
   "source": [
    "%matplotlib inline"
   ]
  },
  {
   "cell_type": "code",
   "execution_count": 2,
   "metadata": {
    "collapsed": true
   },
   "outputs": [],
   "source": [
    "from pydov.types.fields import XmlField, XsdType\n",
    "from pydov.types.boring import Boring\n",
    "\n",
    "class BoringMethodeXyz(Boring):\n",
    "    \n",
    "    __generiekeDataCodes = 'https://www.dov.vlaanderen.be/xdov/schema/latest/xsd/kern/generiek/GeneriekeDataCodes.xsd'\n",
    "    \n",
    "    fields = Boring.extend_fields([\n",
    "        XmlField(name='methode_xy',\n",
    "                 source_xpath='/boring/xy/methode_opmeten',\n",
    "                 definition='Methode waarop de x en y-coordinaat opgemeten werden.',\n",
    "                 datatype='string',\n",
    "                 xsd_type=XsdType(\n",
    "                     xsd_schema=__generiekeDataCodes,\n",
    "                     typename='MethodeOpmetenXyEnumType')),\n",
    "        XmlField(name='methode_mv',\n",
    "                 source_xpath='/boring/oorspronkelijk_maaiveld/methode_opmeten',\n",
    "                 definition='Methode waarop de Z-coördinaat van het maaiveld opgemeten werd.',\n",
    "                 datatype='string',\n",
    "                 xsd_type=XsdType(\n",
    "                     xsd_schema=__generiekeDataCodes,\n",
    "                     typename='MethodeOpmetenZEnumType')),\n",
    "        XmlField(name='aanvangspeil_mtaw',\n",
    "                 source_xpath='/boring/aanvangspeil/waarde',\n",
    "                 definition='Hoogte in mTAW van het startpunt van de boring (boortafel, bouwput etc).',\n",
    "                 datatype='float'),\n",
    "        XmlField(name='methode_aanvangspeil',\n",
    "                 source_xpath='/boring/aanvangspeil/methode_opmeten',\n",
    "                 definition='Methode waarop de Z-coördinaat van het aanvangspeil opgemeten werd.',\n",
    "                 datatype='string',\n",
    "                 xsd_type=XsdType(\n",
    "                     xsd_schema=__generiekeDataCodes,\n",
    "                     typename='MethodeOpmetenZEnumType'))\n",
    "    ])"
   ]
  },
  {
   "cell_type": "code",
   "execution_count": 3,
   "metadata": {
    "collapsed": true
   },
   "outputs": [],
   "source": [
    "from pydov.search.boring import BoringSearch\n",
    "\n",
    "bs = BoringSearch(objecttype=BoringMethodeXyz)"
   ]
  },
  {
   "cell_type": "code",
   "execution_count": 4,
   "metadata": {},
   "outputs": [
    {
     "data": {
      "text/plain": [
       "{'cost': 10,\n",
       " 'definition': 'Methode waarop de Z-co\\xc3\\xb6rdinaat van het maaiveld opgemeten werd.',\n",
       " 'name': 'methode_mv',\n",
       " 'notnull': False,\n",
       " 'query': False,\n",
       " 'type': 'string',\n",
       " 'values': {'DHM_v1 100m*100m': None,\n",
       "  'DHM_v1 25m*25m': None,\n",
       "  'DHM_v1 5m*5m': None,\n",
       "  'DHM_v2': None,\n",
       "  'GPS': None,\n",
       "  'GPS - RTK FLEPOS': None,\n",
       "  'GPS - RTK FLEPOS (model hBG03)': None,\n",
       "  'GPS - RTK FLEPOS (model hBG18)': None,\n",
       "  'GPS statische fasemeting': None,\n",
       "  'afgeleid van topokaart': None,\n",
       "  'berekend op basis van hoogteverschil met maaiveld': None,\n",
       "  'gedigitaliseerd in Google Earth': None,\n",
       "  'methode onbekend': None,\n",
       "  'niet te achterhalen': None,\n",
       "  'topografisch ingemeten': None,\n",
       "  'totaalstation': None,\n",
       "  'uit dossier': None}}"
      ]
     },
     "execution_count": 4,
     "metadata": {},
     "output_type": "execute_result"
    }
   ],
   "source": [
    "bs.get_fields()['methode_mv']"
   ]
  },
  {
   "cell_type": "code",
   "execution_count": 5,
   "metadata": {},
   "outputs": [
    {
     "name": "stdout",
     "output_type": "stream",
     "text": [
      "[000/361] ..................................................\n",
      "[050/361] ..................................................\n",
      "[100/361] ..................................................\n",
      "[150/361] ..................................................\n",
      "[200/361] ..................................................\n",
      "[250/361] ..................................................\n",
      "[300/361] ..................................................\n",
      "[350/361] ...........\n"
     ]
    }
   ],
   "source": [
    "from pydov.util.location import WithinDistance, Point\n",
    "\n",
    "df = bs.search(location=WithinDistance(Point(150000, 150000), 10000, 'meter'),\n",
    "               return_fields=('pkey_boring', 'boornummer', 'x', 'y', 'methode_xy', \n",
    "                              'mv_mtaw', 'methode_mv', 'aanvangspeil_mtaw', \n",
    "                              'methode_aanvangspeil', 'start_boring_mtaw'))"
   ]
  },
  {
   "cell_type": "code",
   "execution_count": 6,
   "metadata": {},
   "outputs": [
    {
     "data": {
      "text/html": [
       "<div>\n",
       "<style scoped>\n",
       "    .dataframe tbody tr th:only-of-type {\n",
       "        vertical-align: middle;\n",
       "    }\n",
       "\n",
       "    .dataframe tbody tr th {\n",
       "        vertical-align: top;\n",
       "    }\n",
       "\n",
       "    .dataframe thead th {\n",
       "        text-align: right;\n",
       "    }\n",
       "</style>\n",
       "<table border=\"1\" class=\"dataframe\">\n",
       "  <thead>\n",
       "    <tr style=\"text-align: right;\">\n",
       "      <th></th>\n",
       "      <th>pkey_boring</th>\n",
       "      <th>boornummer</th>\n",
       "      <th>x</th>\n",
       "      <th>y</th>\n",
       "      <th>mv_mtaw</th>\n",
       "      <th>start_boring_mtaw</th>\n",
       "      <th>methode_xy</th>\n",
       "      <th>methode_mv</th>\n",
       "      <th>aanvangspeil_mtaw</th>\n",
       "      <th>methode_aanvangspeil</th>\n",
       "    </tr>\n",
       "  </thead>\n",
       "  <tbody>\n",
       "    <tr>\n",
       "      <th>0</th>\n",
       "      <td>https://www.dov.vlaanderen.be/data/boring/1891...</td>\n",
       "      <td>BGD115E0018C.2</td>\n",
       "      <td>145692.0</td>\n",
       "      <td>157605.0</td>\n",
       "      <td>55.0</td>\n",
       "      <td>55.0</td>\n",
       "      <td>gedigitaliseerd op topokaart</td>\n",
       "      <td>afgeleid van topokaart</td>\n",
       "      <td>NaN</td>\n",
       "      <td>NaN</td>\n",
       "    </tr>\n",
       "    <tr>\n",
       "      <th>1</th>\n",
       "      <td>https://www.dov.vlaanderen.be/data/boring/1894...</td>\n",
       "      <td>vgmperceel6-B2</td>\n",
       "      <td>140857.0</td>\n",
       "      <td>151875.0</td>\n",
       "      <td>54.0</td>\n",
       "      <td>54.0</td>\n",
       "      <td>gedigitaliseerd op topokaart</td>\n",
       "      <td>afgeleid van topokaart</td>\n",
       "      <td>NaN</td>\n",
       "      <td>NaN</td>\n",
       "    </tr>\n",
       "    <tr>\n",
       "      <th>2</th>\n",
       "      <td>https://www.dov.vlaanderen.be/data/boring/1913...</td>\n",
       "      <td>vgmperceel6-B4</td>\n",
       "      <td>140236.0</td>\n",
       "      <td>150691.0</td>\n",
       "      <td>85.0</td>\n",
       "      <td>85.0</td>\n",
       "      <td>gedigitaliseerd op topokaart</td>\n",
       "      <td>afgeleid van topokaart</td>\n",
       "      <td>NaN</td>\n",
       "      <td>NaN</td>\n",
       "    </tr>\n",
       "    <tr>\n",
       "      <th>3</th>\n",
       "      <td>https://www.dov.vlaanderen.be/data/boring/1927...</td>\n",
       "      <td>vgmperceel6-B9</td>\n",
       "      <td>142139.0</td>\n",
       "      <td>151678.0</td>\n",
       "      <td>75.0</td>\n",
       "      <td>75.0</td>\n",
       "      <td>gedigitaliseerd op topokaart</td>\n",
       "      <td>afgeleid van topokaart</td>\n",
       "      <td>NaN</td>\n",
       "      <td>NaN</td>\n",
       "    </tr>\n",
       "    <tr>\n",
       "      <th>4</th>\n",
       "      <td>https://www.dov.vlaanderen.be/data/boring/1927...</td>\n",
       "      <td>vgmperceel6-B10</td>\n",
       "      <td>144692.0</td>\n",
       "      <td>152764.0</td>\n",
       "      <td>93.0</td>\n",
       "      <td>93.0</td>\n",
       "      <td>gedigitaliseerd op topokaart</td>\n",
       "      <td>afgeleid van topokaart</td>\n",
       "      <td>NaN</td>\n",
       "      <td>NaN</td>\n",
       "    </tr>\n",
       "  </tbody>\n",
       "</table>\n",
       "</div>"
      ],
      "text/plain": [
       "                                         pkey_boring       boornummer  \\\n",
       "0  https://www.dov.vlaanderen.be/data/boring/1891...   BGD115E0018C.2   \n",
       "1  https://www.dov.vlaanderen.be/data/boring/1894...   vgmperceel6-B2   \n",
       "2  https://www.dov.vlaanderen.be/data/boring/1913...   vgmperceel6-B4   \n",
       "3  https://www.dov.vlaanderen.be/data/boring/1927...   vgmperceel6-B9   \n",
       "4  https://www.dov.vlaanderen.be/data/boring/1927...  vgmperceel6-B10   \n",
       "\n",
       "          x         y  mv_mtaw  start_boring_mtaw  \\\n",
       "0  145692.0  157605.0     55.0               55.0   \n",
       "1  140857.0  151875.0     54.0               54.0   \n",
       "2  140236.0  150691.0     85.0               85.0   \n",
       "3  142139.0  151678.0     75.0               75.0   \n",
       "4  144692.0  152764.0     93.0               93.0   \n",
       "\n",
       "                     methode_xy              methode_mv  aanvangspeil_mtaw  \\\n",
       "0  gedigitaliseerd op topokaart  afgeleid van topokaart                NaN   \n",
       "1  gedigitaliseerd op topokaart  afgeleid van topokaart                NaN   \n",
       "2  gedigitaliseerd op topokaart  afgeleid van topokaart                NaN   \n",
       "3  gedigitaliseerd op topokaart  afgeleid van topokaart                NaN   \n",
       "4  gedigitaliseerd op topokaart  afgeleid van topokaart                NaN   \n",
       "\n",
       "  methode_aanvangspeil  \n",
       "0                  NaN  \n",
       "1                  NaN  \n",
       "2                  NaN  \n",
       "3                  NaN  \n",
       "4                  NaN  "
      ]
     },
     "execution_count": 6,
     "metadata": {},
     "output_type": "execute_result"
    }
   ],
   "source": [
    "df.head()"
   ]
  },
  {
   "cell_type": "code",
   "execution_count": 7,
   "metadata": {},
   "outputs": [
    {
     "data": {
      "text/plain": [
       "<matplotlib.legend.Legend at 0x114381d0>"
      ]
     },
     "execution_count": 7,
     "metadata": {},
     "output_type": "execute_result"
    },
    {
     "data": {
      "image/png": "[encoded data removed]",
      "text/plain": [
       "<matplotlib.figure.Figure at 0xe07c208>"
      ]
     },
     "metadata": {},
     "output_type": "display_data"
    }
   ],
   "source": [
    "df_plot = df.groupby('methode_xy').count().pkey_boring.sort_values()\n",
    "\n",
    "ax = df_plot.plot.pie(labels=None)\n",
    "\n",
    "ax.set_aspect('equal')\n",
    "ax.legend(loc=3, labels=df_plot.index)"
   ]
  },
  {
   "cell_type": "code",
   "execution_count": 8,
   "metadata": {},
   "outputs": [
    {
     "data": {
      "text/plain": [
       "<matplotlib.legend.Legend at 0x126afd30>"
      ]
     },
     "execution_count": 8,
     "metadata": {},
     "output_type": "execute_result"
    },
    {
     "data": {
      "image/png": "[encoded data removed]",
      "text/plain": [
       "<matplotlib.figure.Figure at 0xe06ab70>"
      ]
     },
     "metadata": {},
     "output_type": "display_data"
    }
   ],
   "source": [
    "df_plot = df.groupby('methode_mv').count().pkey_boring.sort_values()\n",
    "\n",
    "ax = df_plot.plot.pie(labels=None)\n",
    "ax.set_aspect('equal')\n",
    "ax.legend(loc=3, labels=df_plot.index)"
   ]
  },
  {
   "cell_type": "code",
   "execution_count": 9,
   "metadata": {},
   "outputs": [
    {
     "data": {
      "text/plain": [
       "<matplotlib.legend.Legend at 0x11422828>"
      ]
     },
     "execution_count": 9,
     "metadata": {},
     "output_type": "execute_result"
    },
    {
     "data": {
      "image/png": "[encoded data removed]",
      "text/plain": [
       "<matplotlib.figure.Figure at 0xe06a9e8>"
      ]
     },
     "metadata": {},
     "output_type": "display_data"
    }
   ],
   "source": [
    "df_plot = df.groupby('methode_aanvangspeil').count().pkey_boring.sort_values()\n",
    "\n",
    "ax = df_plot.plot.pie(labels=None)\n",
    "\n",
    "ax.set_aspect('equal')\n",
    "ax.legend(loc=3, labels=df_plot.index)"
   ]
  },
  {
   "cell_type": "markdown",
   "metadata": {},
   "source": [
    "## Listing techniques per CPT measurement"
   ]
  },
  {
   "cell_type": "code",
   "execution_count": 10,
   "metadata": {
    "collapsed": true
   },
   "outputs": [],
   "source": [
    "from pydov.types.fields import XmlField, XsdType\n",
    "from pydov.types.abstract import AbstractDovSubType\n",
    "from pydov.types.sondering import Sondering\n",
    "\n",
    "\n",
    "class Techniek(AbstractDovSubType):\n",
    "    \n",
    "    rootpath = './/sondering/sondeonderzoek/penetratietest/technieken'\n",
    "\n",
    "    fields = [\n",
    "        XmlField(name='techniek_diepte_van',\n",
    "                 source_xpath='/diepte_van',\n",
    "                 definition='Enkel van toepassing voor het plaatsen van voerbuizen - '\n",
    "                            '(code V) of het boren door een harde laag (code B).',\n",
    "                 datatype='float'),\n",
    "        XmlField(name='techniek_diepte',\n",
    "                 source_xpath='/diepte_techniek',\n",
    "                 definition='Diepte waarop techniek toegepast werd.',\n",
    "                 datatype='float'),\n",
    "        XmlField(name='techniek',\n",
    "                 source_xpath='/techniek',\n",
    "                 definition='De gebruikte techniek.',\n",
    "                 datatype='string',\n",
    "                 xsd_type=XsdType(\n",
    "                     xsd_schema='https://www.dov.vlaanderen.be/xdov/schema/latest/xsd/kern/sondering/SonderingDataCodes.xsd',\n",
    "                     typename='SondeerTechniekEnumType')),\n",
    "        XmlField(name='techniek_andere',\n",
    "                 source_xpath='/techniek_andere',\n",
    "                 definition=\"De gebruikte techniek (enkel van toepassing indien de techniek = 'andere').\",\n",
    "                 datatype='string')\n",
    "    ]\n",
    "\n",
    "\n",
    "class SonderingTechnieken(Sondering):\n",
    "    subtypes = [Techniek]"
   ]
  },
  {
   "cell_type": "code",
   "execution_count": 11,
   "metadata": {
    "collapsed": true
   },
   "outputs": [],
   "source": [
    "from pydov.search.sondering import SonderingSearch\n",
    "\n",
    "cpts = SonderingSearch(objecttype=SonderingTechnieken)"
   ]
  },
  {
   "cell_type": "code",
   "execution_count": 12,
   "metadata": {},
   "outputs": [
    {
     "data": {
      "text/plain": [
       "{'cost': 10,\n",
       " 'definition': 'De gebruikte techniek.',\n",
       " 'name': 'techniek',\n",
       " 'notnull': False,\n",
       " 'query': False,\n",
       " 'type': 'string',\n",
       " 'values': {'B': 'sondeerbuizen door een harde laag geduwd of geboord',\n",
       "  'E': 'sondeerbuizen op en neer bewogen',\n",
       "  'S': 'uitvoering sondering tijdelijk onderbroken',\n",
       "  'V': 'plaatsing van voerbuizen',\n",
       "  'andere': 'een andere dan de standaard voorziene technieken'}}"
      ]
     },
     "execution_count": 12,
     "metadata": {},
     "output_type": "execute_result"
    }
   ],
   "source": [
    "cpts.get_fields()['techniek']"
   ]
  },
  {
   "cell_type": "code",
   "execution_count": 13,
   "metadata": {},
   "outputs": [
    {
     "name": "stdout",
     "output_type": "stream",
     "text": [
      "[000/067] ..................................................\n",
      "[050/067] .................\n"
     ]
    }
   ],
   "source": [
    "from pydov.util.location import WithinDistance, Point\n",
    "\n",
    "df = cpts.search(location=WithinDistance(Point(150000, 150000), 10000, 'meter'))"
   ]
  },
  {
   "cell_type": "code",
   "execution_count": 14,
   "metadata": {
    "collapsed": true
   },
   "outputs": [],
   "source": [
    "df['techniek_label'] = df['techniek'].map(cpts.get_fields()['techniek']['values'])"
   ]
  },
  {
   "cell_type": "code",
   "execution_count": 15,
   "metadata": {},
   "outputs": [
    {
     "data": {
      "text/html": [
       "<div>\n",
       "<style scoped>\n",
       "    .dataframe tbody tr th:only-of-type {\n",
       "        vertical-align: middle;\n",
       "    }\n",
       "\n",
       "    .dataframe tbody tr th {\n",
       "        vertical-align: top;\n",
       "    }\n",
       "\n",
       "    .dataframe thead th {\n",
       "        text-align: right;\n",
       "    }\n",
       "</style>\n",
       "<table border=\"1\" class=\"dataframe\">\n",
       "  <thead>\n",
       "    <tr style=\"text-align: right;\">\n",
       "      <th></th>\n",
       "      <th>pkey_sondering</th>\n",
       "      <th>sondeernummer</th>\n",
       "      <th>x</th>\n",
       "      <th>y</th>\n",
       "      <th>start_sondering_mtaw</th>\n",
       "      <th>diepte_sondering_van</th>\n",
       "      <th>diepte_sondering_tot</th>\n",
       "      <th>datum_aanvang</th>\n",
       "      <th>uitvoerder</th>\n",
       "      <th>sondeermethode</th>\n",
       "      <th>apparaat</th>\n",
       "      <th>datum_gw_meting</th>\n",
       "      <th>diepte_gw_m</th>\n",
       "      <th>techniek_diepte_van</th>\n",
       "      <th>techniek_diepte</th>\n",
       "      <th>techniek</th>\n",
       "      <th>techniek_andere</th>\n",
       "      <th>techniek_label</th>\n",
       "    </tr>\n",
       "  </thead>\n",
       "  <tbody>\n",
       "    <tr>\n",
       "      <th>0</th>\n",
       "      <td>https://www.dov.vlaanderen.be/data/sondering/1...</td>\n",
       "      <td>GEO-79/291-SII</td>\n",
       "      <td>147245.0</td>\n",
       "      <td>158407.0</td>\n",
       "      <td>67.50</td>\n",
       "      <td>0.0</td>\n",
       "      <td>32.2</td>\n",
       "      <td>1979-08-20</td>\n",
       "      <td>Rijksinstituut voor Grondmechanica</td>\n",
       "      <td>discontinu mechanisch</td>\n",
       "      <td>200KN</td>\n",
       "      <td>NaT</td>\n",
       "      <td>1.95</td>\n",
       "      <td>7.4</td>\n",
       "      <td>7.4</td>\n",
       "      <td>V</td>\n",
       "      <td>NaN</td>\n",
       "      <td>plaatsing van voerbuizen</td>\n",
       "    </tr>\n",
       "    <tr>\n",
       "      <th>1</th>\n",
       "      <td>https://www.dov.vlaanderen.be/data/sondering/1...</td>\n",
       "      <td>GEO-79/291-SI</td>\n",
       "      <td>147231.0</td>\n",
       "      <td>158421.0</td>\n",
       "      <td>67.60</td>\n",
       "      <td>0.0</td>\n",
       "      <td>32.6</td>\n",
       "      <td>1979-08-17</td>\n",
       "      <td>Rijksinstituut voor Grondmechanica</td>\n",
       "      <td>discontinu mechanisch</td>\n",
       "      <td>200KN</td>\n",
       "      <td>NaT</td>\n",
       "      <td>2.10</td>\n",
       "      <td>6.4</td>\n",
       "      <td>6.4</td>\n",
       "      <td>V</td>\n",
       "      <td>NaN</td>\n",
       "      <td>plaatsing van voerbuizen</td>\n",
       "    </tr>\n",
       "    <tr>\n",
       "      <th>2</th>\n",
       "      <td>https://www.dov.vlaanderen.be/data/sondering/1...</td>\n",
       "      <td>GEO-79/291-SIII</td>\n",
       "      <td>147241.0</td>\n",
       "      <td>158388.0</td>\n",
       "      <td>69.40</td>\n",
       "      <td>0.0</td>\n",
       "      <td>33.2</td>\n",
       "      <td>1979-08-20</td>\n",
       "      <td>Rijksinstituut voor Grondmechanica</td>\n",
       "      <td>discontinu mechanisch</td>\n",
       "      <td>200KN</td>\n",
       "      <td>NaT</td>\n",
       "      <td>2.88</td>\n",
       "      <td>6.4</td>\n",
       "      <td>6.4</td>\n",
       "      <td>V</td>\n",
       "      <td>NaN</td>\n",
       "      <td>plaatsing van voerbuizen</td>\n",
       "    </tr>\n",
       "    <tr>\n",
       "      <th>3</th>\n",
       "      <td>https://www.dov.vlaanderen.be/data/sondering/1...</td>\n",
       "      <td>GEO-79/199-SIV</td>\n",
       "      <td>145564.0</td>\n",
       "      <td>149739.0</td>\n",
       "      <td>126.06</td>\n",
       "      <td>0.0</td>\n",
       "      <td>8.2</td>\n",
       "      <td>1970-06-26</td>\n",
       "      <td>Rijksinstituut voor Grondmechanica</td>\n",
       "      <td>discontinu mechanisch</td>\n",
       "      <td>100KN</td>\n",
       "      <td>NaT</td>\n",
       "      <td>NaN</td>\n",
       "      <td>NaN</td>\n",
       "      <td>NaN</td>\n",
       "      <td>NaN</td>\n",
       "      <td>NaN</td>\n",
       "      <td>NaN</td>\n",
       "    </tr>\n",
       "    <tr>\n",
       "      <th>4</th>\n",
       "      <td>https://www.dov.vlaanderen.be/data/sondering/1...</td>\n",
       "      <td>GEO-79/199-SV</td>\n",
       "      <td>145546.0</td>\n",
       "      <td>149746.0</td>\n",
       "      <td>126.03</td>\n",
       "      <td>0.0</td>\n",
       "      <td>10.2</td>\n",
       "      <td>1979-06-25</td>\n",
       "      <td>Rijksinstituut voor Grondmechanica</td>\n",
       "      <td>discontinu mechanisch</td>\n",
       "      <td>100KN</td>\n",
       "      <td>NaT</td>\n",
       "      <td>NaN</td>\n",
       "      <td>NaN</td>\n",
       "      <td>NaN</td>\n",
       "      <td>NaN</td>\n",
       "      <td>NaN</td>\n",
       "      <td>NaN</td>\n",
       "    </tr>\n",
       "  </tbody>\n",
       "</table>\n",
       "</div>"
      ],
      "text/plain": [
       "                                      pkey_sondering    sondeernummer  \\\n",
       "0  https://www.dov.vlaanderen.be/data/sondering/1...   GEO-79/291-SII   \n",
       "1  https://www.dov.vlaanderen.be/data/sondering/1...    GEO-79/291-SI   \n",
       "2  https://www.dov.vlaanderen.be/data/sondering/1...  GEO-79/291-SIII   \n",
       "3  https://www.dov.vlaanderen.be/data/sondering/1...   GEO-79/199-SIV   \n",
       "4  https://www.dov.vlaanderen.be/data/sondering/1...    GEO-79/199-SV   \n",
       "\n",
       "          x         y  start_sondering_mtaw  diepte_sondering_van  \\\n",
       "0  147245.0  158407.0                 67.50                   0.0   \n",
       "1  147231.0  158421.0                 67.60                   0.0   \n",
       "2  147241.0  158388.0                 69.40                   0.0   \n",
       "3  145564.0  149739.0                126.06                   0.0   \n",
       "4  145546.0  149746.0                126.03                   0.0   \n",
       "\n",
       "   diepte_sondering_tot datum_aanvang                          uitvoerder  \\\n",
       "0                  32.2    1979-08-20  Rijksinstituut voor Grondmechanica   \n",
       "1                  32.6    1979-08-17  Rijksinstituut voor Grondmechanica   \n",
       "2                  33.2    1979-08-20  Rijksinstituut voor Grondmechanica   \n",
       "3                   8.2    1970-06-26  Rijksinstituut voor Grondmechanica   \n",
       "4                  10.2    1979-06-25  Rijksinstituut voor Grondmechanica   \n",
       "\n",
       "          sondeermethode apparaat datum_gw_meting  diepte_gw_m  \\\n",
       "0  discontinu mechanisch    200KN             NaT         1.95   \n",
       "1  discontinu mechanisch    200KN             NaT         2.10   \n",
       "2  discontinu mechanisch    200KN             NaT         2.88   \n",
       "3  discontinu mechanisch    100KN             NaT          NaN   \n",
       "4  discontinu mechanisch    100KN             NaT          NaN   \n",
       "\n",
       "   techniek_diepte_van  techniek_diepte techniek  techniek_andere  \\\n",
       "0                  7.4              7.4        V              NaN   \n",
       "1                  6.4              6.4        V              NaN   \n",
       "2                  6.4              6.4        V              NaN   \n",
       "3                  NaN              NaN      NaN              NaN   \n",
       "4                  NaN              NaN      NaN              NaN   \n",
       "\n",
       "             techniek_label  \n",
       "0  plaatsing van voerbuizen  \n",
       "1  plaatsing van voerbuizen  \n",
       "2  plaatsing van voerbuizen  \n",
       "3                       NaN  \n",
       "4                       NaN  "
      ]
     },
     "execution_count": 15,
     "metadata": {},
     "output_type": "execute_result"
    }
   ],
   "source": [
    "df.head()"
   ]
  },
  {
   "cell_type": "markdown",
   "metadata": {},
   "source": [
    "## Listing GxG for GrondwaterFilters"
   ]
  },
  {
   "cell_type": "code",
   "execution_count": 16,
   "metadata": {
    "collapsed": true
   },
   "outputs": [],
   "source": [
    "from pydov.types.fields import XmlField, XsdType\n",
    "from pydov.types.abstract import AbstractDovSubType\n",
    "from pydov.types.grondwaterfilter import GrondwaterFilter\n",
    "\n",
    "\n",
    "class Gxg(AbstractDovSubType):\n",
    "    \n",
    "    rootpath = './/filtermeting/gxg'\n",
    "\n",
    "    fields = [\n",
    "        XmlField(name='gxg_jaar',\n",
    "                 source_xpath='/jaar',\n",
    "                 definition='jaar (hydrologisch jaar voor lg3 en hg3, kalenderjaar voor vg3)',\n",
    "                 datatype='integer'),\n",
    "        XmlField(name='gxg_hg3',\n",
    "                 source_xpath='/hg3',\n",
    "                 definition='gemiddelde van de drie hoogste grondwaterstanden in een hydrologisch '\n",
    "                            'jaar (1 april t/m 31 maart) bij een meetfrequentie van tweemaal per maand',\n",
    "                 datatype='float'),\n",
    "        XmlField(name='gxg_lg3',\n",
    "                 source_xpath='/lg3',\n",
    "                 definition='gemiddelde van de drie laagste grondwaterstanden in een hydrologisch jaar '\n",
    "                            '(1 april t/m 31 maart) bij een meetfrequentie van tweemaal per maand',\n",
    "                 datatype='float'),\n",
    "        XmlField(name='gxg_vg3',\n",
    "                 source_xpath='/vg3',\n",
    "                 definition='gemiddelde van de grondwaterstanden op 14 maart, 28 maart en 14 april in '\n",
    "                            'een bepaald kalenderjaar',\n",
    "                 datatype='float')\n",
    "    ]\n",
    "\n",
    "\n",
    "class GrondwaterFilterGxg(GrondwaterFilter):\n",
    "    subtypes = [Gxg]"
   ]
  },
  {
   "cell_type": "code",
   "execution_count": 17,
   "metadata": {
    "collapsed": true
   },
   "outputs": [],
   "source": [
    "from pydov.search.grondwaterfilter import GrondwaterFilterSearch\n",
    "from owslib.fes import PropertyIsEqualTo\n",
    "\n",
    "fs = GrondwaterFilterSearch(objecttype=GrondwaterFilterGxg)"
   ]
  },
  {
   "cell_type": "code",
   "execution_count": 18,
   "metadata": {},
   "outputs": [
    {
     "data": {
      "text/plain": [
       "{'cost': 10,\n",
       " 'definition': 'gemiddelde van de grondwaterstanden op 14 maart, 28 maart en 14 april in een bepaald kalenderjaar',\n",
       " 'name': 'gxg_vg3',\n",
       " 'notnull': False,\n",
       " 'query': False,\n",
       " 'type': 'float'}"
      ]
     },
     "execution_count": 18,
     "metadata": {},
     "output_type": "execute_result"
    }
   ],
   "source": [
    "fs.get_fields()['gxg_vg3']"
   ]
  },
  {
   "cell_type": "code",
   "execution_count": 19,
   "metadata": {},
   "outputs": [
    {
     "name": "stdout",
     "output_type": "stream",
     "text": [
      "[000/001] c\n"
     ]
    }
   ],
   "source": [
    "df = fs.search(\n",
    "    query=PropertyIsEqualTo('pkey_filter', 'https://www.dov.vlaanderen.be/data/filter/1999-009146')\n",
    ")"
   ]
  },
  {
   "cell_type": "code",
   "execution_count": 20,
   "metadata": {},
   "outputs": [
    {
     "data": {
      "text/html": [
       "<div>\n",
       "<style scoped>\n",
       "    .dataframe tbody tr th:only-of-type {\n",
       "        vertical-align: middle;\n",
       "    }\n",
       "\n",
       "    .dataframe tbody tr th {\n",
       "        vertical-align: top;\n",
       "    }\n",
       "\n",
       "    .dataframe thead th {\n",
       "        text-align: right;\n",
       "    }\n",
       "</style>\n",
       "<table border=\"1\" class=\"dataframe\">\n",
       "  <thead>\n",
       "    <tr style=\"text-align: right;\">\n",
       "      <th></th>\n",
       "      <th>pkey_filter</th>\n",
       "      <th>pkey_grondwaterlocatie</th>\n",
       "      <th>gw_id</th>\n",
       "      <th>filternummer</th>\n",
       "      <th>filtertype</th>\n",
       "      <th>x</th>\n",
       "      <th>y</th>\n",
       "      <th>mv_mtaw</th>\n",
       "      <th>gemeente</th>\n",
       "      <th>meetnet_code</th>\n",
       "      <th>aquifer_code</th>\n",
       "      <th>grondwaterlichaam_code</th>\n",
       "      <th>regime</th>\n",
       "      <th>diepte_onderkant_filter</th>\n",
       "      <th>lengte_filter</th>\n",
       "      <th>gxg_jaar</th>\n",
       "      <th>gxg_hg3</th>\n",
       "      <th>gxg_lg3</th>\n",
       "      <th>gxg_vg3</th>\n",
       "    </tr>\n",
       "  </thead>\n",
       "  <tbody>\n",
       "    <tr>\n",
       "      <th>0</th>\n",
       "      <td>https://www.dov.vlaanderen.be/data/filter/1999...</td>\n",
       "      <td>https://www.dov.vlaanderen.be/data/put/2018-00...</td>\n",
       "      <td>HOSP063</td>\n",
       "      <td>1</td>\n",
       "      <td>peilfilter</td>\n",
       "      <td>26878.0</td>\n",
       "      <td>199250.0</td>\n",
       "      <td>4.25</td>\n",
       "      <td>De Panne</td>\n",
       "      <td>9</td>\n",
       "      <td>0120</td>\n",
       "      <td>NaN</td>\n",
       "      <td>onbekend</td>\n",
       "      <td>1.69</td>\n",
       "      <td>0.75</td>\n",
       "      <td>2000</td>\n",
       "      <td>NaN</td>\n",
       "      <td>NaN</td>\n",
       "      <td>3.99</td>\n",
       "    </tr>\n",
       "    <tr>\n",
       "      <th>1</th>\n",
       "      <td>https://www.dov.vlaanderen.be/data/filter/1999...</td>\n",
       "      <td>https://www.dov.vlaanderen.be/data/put/2018-00...</td>\n",
       "      <td>HOSP063</td>\n",
       "      <td>1</td>\n",
       "      <td>peilfilter</td>\n",
       "      <td>26878.0</td>\n",
       "      <td>199250.0</td>\n",
       "      <td>4.25</td>\n",
       "      <td>De Panne</td>\n",
       "      <td>9</td>\n",
       "      <td>0120</td>\n",
       "      <td>NaN</td>\n",
       "      <td>onbekend</td>\n",
       "      <td>1.69</td>\n",
       "      <td>0.75</td>\n",
       "      <td>2001</td>\n",
       "      <td>NaN</td>\n",
       "      <td>NaN</td>\n",
       "      <td>4.14</td>\n",
       "    </tr>\n",
       "    <tr>\n",
       "      <th>2</th>\n",
       "      <td>https://www.dov.vlaanderen.be/data/filter/1999...</td>\n",
       "      <td>https://www.dov.vlaanderen.be/data/put/2018-00...</td>\n",
       "      <td>HOSP063</td>\n",
       "      <td>1</td>\n",
       "      <td>peilfilter</td>\n",
       "      <td>26878.0</td>\n",
       "      <td>199250.0</td>\n",
       "      <td>4.25</td>\n",
       "      <td>De Panne</td>\n",
       "      <td>9</td>\n",
       "      <td>0120</td>\n",
       "      <td>NaN</td>\n",
       "      <td>onbekend</td>\n",
       "      <td>1.69</td>\n",
       "      <td>0.75</td>\n",
       "      <td>2002</td>\n",
       "      <td>4.29</td>\n",
       "      <td>3.51</td>\n",
       "      <td>4.17</td>\n",
       "    </tr>\n",
       "    <tr>\n",
       "      <th>3</th>\n",
       "      <td>https://www.dov.vlaanderen.be/data/filter/1999...</td>\n",
       "      <td>https://www.dov.vlaanderen.be/data/put/2018-00...</td>\n",
       "      <td>HOSP063</td>\n",
       "      <td>1</td>\n",
       "      <td>peilfilter</td>\n",
       "      <td>26878.0</td>\n",
       "      <td>199250.0</td>\n",
       "      <td>4.25</td>\n",
       "      <td>De Panne</td>\n",
       "      <td>9</td>\n",
       "      <td>0120</td>\n",
       "      <td>NaN</td>\n",
       "      <td>onbekend</td>\n",
       "      <td>1.69</td>\n",
       "      <td>0.75</td>\n",
       "      <td>2003</td>\n",
       "      <td>4.10</td>\n",
       "      <td>2.82</td>\n",
       "      <td>4.04</td>\n",
       "    </tr>\n",
       "    <tr>\n",
       "      <th>4</th>\n",
       "      <td>https://www.dov.vlaanderen.be/data/filter/1999...</td>\n",
       "      <td>https://www.dov.vlaanderen.be/data/put/2018-00...</td>\n",
       "      <td>HOSP063</td>\n",
       "      <td>1</td>\n",
       "      <td>peilfilter</td>\n",
       "      <td>26878.0</td>\n",
       "      <td>199250.0</td>\n",
       "      <td>4.25</td>\n",
       "      <td>De Panne</td>\n",
       "      <td>9</td>\n",
       "      <td>0120</td>\n",
       "      <td>NaN</td>\n",
       "      <td>onbekend</td>\n",
       "      <td>1.69</td>\n",
       "      <td>0.75</td>\n",
       "      <td>2004</td>\n",
       "      <td>3.84</td>\n",
       "      <td>2.95</td>\n",
       "      <td>3.91</td>\n",
       "    </tr>\n",
       "  </tbody>\n",
       "</table>\n",
       "</div>"
      ],
      "text/plain": [
       "                                         pkey_filter  \\\n",
       "0  https://www.dov.vlaanderen.be/data/filter/1999...   \n",
       "1  https://www.dov.vlaanderen.be/data/filter/1999...   \n",
       "2  https://www.dov.vlaanderen.be/data/filter/1999...   \n",
       "3  https://www.dov.vlaanderen.be/data/filter/1999...   \n",
       "4  https://www.dov.vlaanderen.be/data/filter/1999...   \n",
       "\n",
       "                              pkey_grondwaterlocatie    gw_id filternummer  \\\n",
       "0  https://www.dov.vlaanderen.be/data/put/2018-00...  HOSP063            1   \n",
       "1  https://www.dov.vlaanderen.be/data/put/2018-00...  HOSP063            1   \n",
       "2  https://www.dov.vlaanderen.be/data/put/2018-00...  HOSP063            1   \n",
       "3  https://www.dov.vlaanderen.be/data/put/2018-00...  HOSP063            1   \n",
       "4  https://www.dov.vlaanderen.be/data/put/2018-00...  HOSP063            1   \n",
       "\n",
       "   filtertype        x         y  mv_mtaw  gemeente  meetnet_code  \\\n",
       "0  peilfilter  26878.0  199250.0     4.25  De Panne             9   \n",
       "1  peilfilter  26878.0  199250.0     4.25  De Panne             9   \n",
       "2  peilfilter  26878.0  199250.0     4.25  De Panne             9   \n",
       "3  peilfilter  26878.0  199250.0     4.25  De Panne             9   \n",
       "4  peilfilter  26878.0  199250.0     4.25  De Panne             9   \n",
       "\n",
       "  aquifer_code  grondwaterlichaam_code    regime  diepte_onderkant_filter  \\\n",
       "0         0120                     NaN  onbekend                     1.69   \n",
       "1         0120                     NaN  onbekend                     1.69   \n",
       "2         0120                     NaN  onbekend                     1.69   \n",
       "3         0120                     NaN  onbekend                     1.69   \n",
       "4         0120                     NaN  onbekend                     1.69   \n",
       "\n",
       "   lengte_filter  gxg_jaar  gxg_hg3  gxg_lg3  gxg_vg3  \n",
       "0           0.75      2000      NaN      NaN     3.99  \n",
       "1           0.75      2001      NaN      NaN     4.14  \n",
       "2           0.75      2002     4.29     3.51     4.17  \n",
       "3           0.75      2003     4.10     2.82     4.04  \n",
       "4           0.75      2004     3.84     2.95     3.91  "
      ]
     },
     "execution_count": 20,
     "metadata": {},
     "output_type": "execute_result"
    }
   ],
   "source": [
    "df.head()"
   ]
  }
 ],
 "metadata": {
  "kernelspec": {
   "display_name": "Python 2",
   "language": "python",
   "name": "python2"
  },
  "language_info": {
   "codemirror_mode": {
    "name": "ipython",
    "version": 2
   },
   "file_extension": ".py",
   "mimetype": "text/x-python",
   "name": "python",
   "nbconvert_exporter": "python",
   "pygments_lexer": "ipython2",
   "version": "2.7.13"
  }
 },
 "nbformat": 4,
 "nbformat_minor": 2
}
