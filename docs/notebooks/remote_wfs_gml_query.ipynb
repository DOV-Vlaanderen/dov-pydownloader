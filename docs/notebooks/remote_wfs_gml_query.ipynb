{
 "cells": [
  {
   "cell_type": "code",
   "execution_count": 45,
   "metadata": {},
   "outputs": [],
   "source": [
    "%matplotlib inline\n",
    "import matplotlib.pyplot as plt\n",
    "\n",
    "from owslib.etree import etree\n",
    "from owslib.fes import PropertyIsEqualTo\n",
    "from owslib.wfs import WebFeatureService\n",
    "\n",
    "from pydov.search.boring import BoringSearch\n",
    "from pydov.search.grondwaterfilter import GrondwaterFilterSearch\n",
    "from pydov.search.grondwatermonster import GrondwaterMonsterSearch\n",
    "\n",
    "from pydov.util.location import (\n",
    "    GmlFilter,\n",
    "    Within,\n",
    ")"
   ]
  },
  {
   "cell_type": "markdown",
   "metadata": {},
   "source": [
    "# Download data from a certain community using its geographic borders"
   ]
  },
  {
   "cell_type": "code",
   "execution_count": 16,
   "metadata": {},
   "outputs": [],
   "source": [
    "gemeentegrenzen = WebFeatureService(\n",
    "    'https://geoservices.informatievlaanderen.be/overdrachtdiensten/VRBG/wfs',\n",
    "    version='1.1.0')"
   ]
  },
  {
   "cell_type": "code",
   "execution_count": 17,
   "metadata": {},
   "outputs": [
    {
     "data": {
      "text/plain": [
       "{'UIDN': 'decimal',\n",
       " 'OIDN': 'decimal',\n",
       " 'TERRID': 'decimal',\n",
       " 'NISCODE': 'string',\n",
       " 'NAAM': 'string',\n",
       " 'DATPUBLBS': 'date',\n",
       " 'NUMAC': 'string'}"
      ]
     },
     "execution_count": 17,
     "metadata": {},
     "output_type": "execute_result"
    }
   ],
   "source": [
    "gemeentegrenzen.get_schema('VRBG:Refgem')['properties']"
   ]
  },
  {
   "cell_type": "code",
   "execution_count": null,
   "metadata": {},
   "outputs": [],
   "source": [
    "naam_filter = PropertyIsEqualTo(propertyname='NAAM', literal='Lievegem')"
   ]
  },
  {
   "cell_type": "code",
   "execution_count": null,
   "metadata": {},
   "outputs": [],
   "source": [
    "gemeente_poly = gemeentegrenzen.getfeature(\n",
    "    typename='VRBG:Refgem',\n",
    "    filter=etree.tostring(naam_filter.toXML()).decode(\"utf8\")).read()"
   ]
  },
  {
   "cell_type": "code",
   "execution_count": null,
   "metadata": {},
   "outputs": [],
   "source": [
    "bs = BoringSearch()\n",
    "df = bs.search(\n",
    "    location=GmlFilter(gemeente_poly, Within),\n",
    "    return_fields=('pkey_boring', 'gemeente'))"
   ]
  },
  {
   "cell_type": "code",
   "execution_count": null,
   "metadata": {},
   "outputs": [],
   "source": [
    "df.groupby('gemeente').size().reset_index(name='counts')"
   ]
  },
  {
   "cell_type": "markdown",
   "metadata": {},
   "source": [
    "# Download data van bekken"
   ]
  },
  {
   "cell_type": "code",
   "execution_count": null,
   "metadata": {},
   "outputs": [],
   "source": [
    "# Initialise WFS service\n",
    "bekkens = WebFeatureService(\n",
    "    'https://geoservices.informatievlaanderen.be/overdrachtdiensten/VHAZones/wfs',\n",
    "    version='1.1.0'\n",
    ")"
   ]
  },
  {
   "cell_type": "code",
   "execution_count": null,
   "metadata": {},
   "outputs": [],
   "source": [
    "# List available types (layers)\n",
    "list(bekkens.contents)"
   ]
  },
  {
   "cell_type": "code",
   "execution_count": null,
   "metadata": {},
   "outputs": [],
   "source": [
    "# Get available fields (properties) of a layer\n",
    "bekkens.get_schema('VHAZones:Bekken')['properties']"
   ]
  },
  {
   "cell_type": "code",
   "execution_count": null,
   "metadata": {},
   "outputs": [],
   "source": [
    "# Get distinct values of a field\n",
    "tree = etree.fromstring(bekkens.getfeature('VHAZones:Bekken', propertyname='BEKNAAM').read().encode(\"utf8\"))\n",
    "set((i.text for i in tree.findall('.//{%s}BEKNAAM' % tree.nsmap['VHAZones'])))"
   ]
  },
  {
   "cell_type": "code",
   "execution_count": null,
   "metadata": {},
   "outputs": [],
   "source": [
    "# Build filter\n",
    "naam_filter = PropertyIsEqualTo(propertyname='BEKNAAM', literal='Bekken Brugse polders')"
   ]
  },
  {
   "cell_type": "code",
   "execution_count": null,
   "metadata": {},
   "outputs": [],
   "source": [
    "# Get features matching filter\n",
    "bekken_poly = bekkens.getfeature(\n",
    "    typename='VHAZones:Bekken',\n",
    "    filter=etree.tostring(naam_filter.toXML()).decode(\"utf8\")).read()"
   ]
  },
  {
   "cell_type": "code",
   "execution_count": null,
   "metadata": {},
   "outputs": [],
   "source": [
    "# Get DOV data based on feature geometry\n",
    "filter_search = GrondwaterFilterSearch()\n",
    "df = filter_search.search(\n",
    "    location=GmlFilter(bekken_poly, Within),\n",
    "    return_fields=('pkey_filter', 'x', 'y')\n",
    ")"
   ]
  },
  {
   "cell_type": "code",
   "execution_count": null,
   "metadata": {},
   "outputs": [],
   "source": [
    "# import the necessary modules (not included in the requirements of pydov!)\n",
    "import folium\n",
    "from folium.plugins import MarkerCluster\n",
    "from pyproj import Proj, transform"
   ]
  },
  {
   "cell_type": "code",
   "execution_count": null,
   "metadata": {},
   "outputs": [],
   "source": [
    "# convert the coordinates to lat/lon for folium\n",
    "def convert_latlon(x1, y1):\n",
    "    inProj = Proj(init='epsg:31370')\n",
    "    outProj = Proj(init='epsg:4326')\n",
    "    x2,y2 = transform(inProj, outProj, x1, y1)\n",
    "    return x2, y2\n",
    "df['lon'], df['lat'] = zip(*map(convert_latlon, df['x'], df['y']))\n",
    "# convert to list\n",
    "loclist = df[['lat', 'lon']].values.tolist()"
   ]
  },
  {
   "cell_type": "code",
   "execution_count": null,
   "metadata": {},
   "outputs": [],
   "source": [
    "# initialize the Folium map on the centre of the selected locations, play with the zoom until ok\n",
    "fmap = folium.Map(location=[df['lat'].mean(), df['lon'].mean()], zoom_start=10)\n",
    "marker_cluster = MarkerCluster().add_to(fmap)\n",
    "for loc in range(0, len(loclist)):\n",
    "    folium.Marker(loclist[loc], popup=df['pkey_filter'][loc]).add_to(marker_cluster)\n",
    "fmap"
   ]
  },
  {
   "cell_type": "markdown",
   "metadata": {},
   "source": [
    "# Download data from Grondwaterlichamen"
   ]
  },
  {
   "cell_type": "code",
   "execution_count": 5,
   "metadata": {},
   "outputs": [],
   "source": [
    "hhz = WebFeatureService(\n",
    "    'https://www.dov.vlaanderen.be/geoserver/wfs',\n",
    "    version='1.1.0')"
   ]
  },
  {
   "cell_type": "code",
   "execution_count": 27,
   "metadata": {},
   "outputs": [
    {
     "data": {
      "text/plain": [
       "{'properties': {'id': 'long',\n",
       "  'grondwaterlichaam_afkorting': 'string',\n",
       "  'grondwaterlichaam': 'string',\n",
       "  'grondwatersysteem': 'string',\n",
       "  'EU_code': 'string',\n",
       "  'stroomgebiedsdistrict': 'string',\n",
       "  'horizonten': 'string'},\n",
       " 'geometry': '3D MultiPolygon',\n",
       " 'geometry_column': 'geom'}"
      ]
     },
     "execution_count": 27,
     "metadata": {},
     "output_type": "execute_result"
    }
   ],
   "source": [
    "hhz.get_schema(\"gw_beleid:gwlichamen\")"
   ]
  },
  {
   "cell_type": "code",
   "execution_count": 40,
   "metadata": {},
   "outputs": [],
   "source": [
    "grondwaterlichaam_filter = PropertyIsEqualTo(propertyname='grondwaterlichaam_afkorting', literal='BLKS_0600_GWL_1')"
   ]
  },
  {
   "cell_type": "code",
   "execution_count": 54,
   "metadata": {},
   "outputs": [],
   "source": [
    "grondwaterlichaam_poly = hhz.getfeature(\n",
    "    typename='gw_beleid:gwlichamen',\n",
    "    filter=etree.tostring(grondwaterlichaam_filter.toXML()).decode(\"utf8\")).read()"
   ]
  },
  {
   "cell_type": "code",
   "execution_count": 58,
   "metadata": {},
   "outputs": [],
   "source": [
    "gemeentegrenzen = WebFeatureService(\n",
    "    'https://geoservices.informatievlaanderen.be/overdrachtdiensten/VRBG/wfs',\n",
    "    version='1.1.0')"
   ]
  },
  {
   "cell_type": "code",
   "execution_count": 75,
   "metadata": {},
   "outputs": [],
   "source": [
    "naam_filter = PropertyIsEqualTo(propertyname='NAAM', literal='Hoegaarden')"
   ]
  },
  {
   "cell_type": "code",
   "execution_count": 76,
   "metadata": {},
   "outputs": [],
   "source": [
    "gemeente_poly = gemeentegrenzen.getfeature(\n",
    "    typename='VRBG:Refgem',\n",
    "    filter=etree.tostring(naam_filter.toXML()).decode(\"utf8\")).read()"
   ]
  },
  {
   "cell_type": "code",
   "execution_count": 77,
   "metadata": {},
   "outputs": [],
   "source": [
    "from owslib.fes import And"
   ]
  },
  {
   "cell_type": "code",
   "execution_count": 78,
   "metadata": {},
   "outputs": [],
   "source": [
    "ms = GrondwaterMonsterSearch()\n",
    "df = ms.search(\n",
    "    location=And([GmlFilter(grondwaterlichaam_poly, Within), GmlFilter(gemeente_poly, Within)]),\n",
    "    return_fields=('pkey_grondwatermonster', 'x', 'y', 'gemeente', 'datum_monstername'))"
   ]
  },
  {
   "cell_type": "code",
   "execution_count": 79,
   "metadata": {},
   "outputs": [
    {
     "data": {
      "text/html": [
       "<div>\n",
       "<style scoped>\n",
       "    .dataframe tbody tr th:only-of-type {\n",
       "        vertical-align: middle;\n",
       "    }\n",
       "\n",
       "    .dataframe tbody tr th {\n",
       "        vertical-align: top;\n",
       "    }\n",
       "\n",
       "    .dataframe thead th {\n",
       "        text-align: right;\n",
       "    }\n",
       "</style>\n",
       "<table border=\"1\" class=\"dataframe\">\n",
       "  <thead>\n",
       "    <tr style=\"text-align: right;\">\n",
       "      <th></th>\n",
       "      <th>gemeente</th>\n",
       "      <th>counts</th>\n",
       "    </tr>\n",
       "  </thead>\n",
       "  <tbody>\n",
       "    <tr>\n",
       "      <th>0</th>\n",
       "      <td>Hoegaarden</td>\n",
       "      <td>495</td>\n",
       "    </tr>\n",
       "  </tbody>\n",
       "</table>\n",
       "</div>"
      ],
      "text/plain": [
       "     gemeente  counts\n",
       "0  Hoegaarden     495"
      ]
     },
     "execution_count": 79,
     "metadata": {},
     "output_type": "execute_result"
    }
   ],
   "source": [
    "df.groupby('gemeente').size().reset_index(name='counts')"
   ]
  },
  {
   "cell_type": "code",
   "execution_count": null,
   "metadata": {},
   "outputs": [],
   "source": []
  }
 ],
 "metadata": {
  "kernelspec": {
   "display_name": "Python 3",
   "language": "python",
   "name": "python3"
  },
  "language_info": {
   "codemirror_mode": {
    "name": "ipython",
    "version": 3
   },
   "file_extension": ".py",
   "mimetype": "text/x-python",
   "name": "python",
   "nbconvert_exporter": "python",
   "pygments_lexer": "ipython3",
   "version": "3.7.3"
  }
 },
 "nbformat": 4,
 "nbformat_minor": 2
}
