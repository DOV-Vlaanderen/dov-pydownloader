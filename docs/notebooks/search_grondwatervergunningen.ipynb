{
 "cells": [
  {
   "cell_type": "markdown",
   "metadata": {},
   "source": [
    "# Example of DOV search methods for groundwater permits (vergunningen)"
   ]
  },
  {
   "cell_type": "markdown",
   "metadata": {},
   "source": [
    "[![Binder](https://mybinder.org/badge_logo.svg)](https://mybinder.org/v2/gh/DOV-Vlaanderen/pydov/master?filepath=docs%2Fnotebooks%2Fsearch_boringen.ipynb)"
   ]
  },
  {
   "cell_type": "markdown",
   "metadata": {},
   "source": [
    "Mind that the data source of groundwater permits is just a WFS. It can be accessed with simple WFS calls from OWSLib. It is included in the pydov API for ease of access for less experienced users. And to provide a general interface with unit testing to all considered objects."
   ]
  },
  {
   "cell_type": "markdown",
   "metadata": {},
   "source": [
    "## Use cases explained below\n",
    "* Get permits in a bounding box\n",
    "* Get permits in a bounding box based on specific properties\n",
    "* Select permits in a municipality and return depth\n",
    "* Get permits, returning fields not available in the standard output dataframe\n",
    "* Get for a certain permit the measured water quality parameters if available"
   ]
  },
  {
   "cell_type": "code",
   "execution_count": 2,
   "metadata": {},
   "outputs": [],
   "source": [
    "%matplotlib inline\n",
    "import inspect, sys\n",
    "import warnings; warnings.simplefilter('ignore')"
   ]
  },
  {
   "cell_type": "code",
   "execution_count": 3,
   "metadata": {},
   "outputs": [],
   "source": [
    "# check pydov path\n",
    "import pydov"
   ]
  },
  {
   "cell_type": "markdown",
   "metadata": {},
   "source": [
    "## Get information about the datatype 'Gwvergunningen'"
   ]
  },
  {
   "cell_type": "code",
   "execution_count": 4,
   "metadata": {},
   "outputs": [],
   "source": [
    "from pydov.search.gwvergunningen import GwvergunningenSearch\n",
    "gwv = GwvergunningenSearch()"
   ]
  },
  {
   "cell_type": "markdown",
   "metadata": {},
   "source": [
    "A description is provided for the 'Gwvergunningen' datatype (in Dutch):"
   ]
  },
  {
   "cell_type": "code",
   "execution_count": 5,
   "metadata": {},
   "outputs": [
    {
     "data": {
      "text/plain": [
       "'Vergunningen verleend voor het winnen van grondwater kunnen gevisualiseerd en bevraagd worden in de Databank Ondergrond Vlaanderen. \\r\\nSinds 1999 zijn vergunningen verleend volgens de VLAREM-wetgeving. Ze zijn ingedeeld in klasse 1, 2 of 3, waarbij er voor klasse 1 en 2 een vergunningsplicht geldt en voor klasse 3 een meldingsplicht. De indelingslijst is terug te vinden in VLAREM I (het winnen van grondwater is opgenomen onder rubriek 53). Oudere aanvragen zijn verleend volgens het Grondwaterdecreet. Deze zijn ingedeeld in categorie A, B en C.'"
      ]
     },
     "execution_count": 5,
     "metadata": {},
     "output_type": "execute_result"
    }
   ],
   "source": [
    "gwv.get_description()"
   ]
  },
  {
   "cell_type": "markdown",
   "metadata": {},
   "source": [
    "The different fields that are available for objects of the 'Gwvergunningen' datatype can be requested with the get_fields() method:"
   ]
  },
  {
   "cell_type": "code",
   "execution_count": 6,
   "metadata": {},
   "outputs": [
    {
     "name": "stdout",
     "output_type": "stream",
     "text": [
      "pkey_vergunning\n",
      "pkey_installatie\n",
      "exploitant_naam\n",
      "inrichtingsnummer\n",
      "watnr\n",
      "vlaremrubriek\n",
      "vergund_jaardebiet\n",
      "vergund_dagdebiet\n",
      "van_datum_termijn\n",
      "tot_datum_termijn\n",
      "aquifer_vergunning\n",
      "diepte\n",
      "vergund_aantal_putten\n",
      "inrichtingsklasse\n",
      "vergunningverlenende_overheid_VVO\n",
      "referentie_VVO\n",
      "nacebelcode\n",
      "IIOA_CBBnr\n",
      "IIOA_adres\n",
      "grondwaterlichaam\n",
      "actie_waakgebied\n",
      "x\n",
      "y\n",
      "exploitant_adres\n",
      "cbbnr\n",
      "kbonr\n",
      "heffingsnummer\n",
      "exploitant_namen\n"
     ]
    }
   ],
   "source": [
    "fields = gwv.get_fields()\n",
    "\n",
    "# print available fields\n",
    "for f in fields.values():\n",
    "    print(f['name'])"
   ]
  },
  {
   "cell_type": "markdown",
   "metadata": {},
   "source": [
    "You can get more information of a field by requesting it from the fields dictionary:\n",
    "* *name*: name of the field\n",
    "* *definition*: definition of this field\n",
    "* *cost*: currently this is either 1 or 10, depending on the datasource of the field. It is an indication of the expected time it will take to retrieve this field in the output dataframe. However, since the data source is currently a WFS, the cost of each field is 1\n",
    "* *notnull*: whether the field is mandatory or not\n",
    "* *type*: datatype of the values of this field"
   ]
  },
  {
   "cell_type": "code",
   "execution_count": 7,
   "metadata": {},
   "outputs": [
    {
     "data": {
      "text/plain": [
       "{'name': 'actie_waakgebied',\n",
       " 'definition': 'de actie- en waakgebieden afgebakend i.k.v. het gebiedspecifieke beleid zoals vastgesteld in de herstelprogrammas voor grondwaterlichamen in ontoereikende kwantitatieve toestand binnen het Centraal Vlaams Systeem, het Brulandkrijtsysteem en het Sokkelsysteem (2016-2021)',\n",
       " 'type': 'string',\n",
       " 'notnull': False,\n",
       " 'query': True,\n",
       " 'cost': 1}"
      ]
     },
     "execution_count": 7,
     "metadata": {},
     "output_type": "execute_result"
    }
   ],
   "source": [
    "fields['actie_waakgebied']"
   ]
  },
  {
   "cell_type": "markdown",
   "metadata": {},
   "source": [
    "## Example use cases"
   ]
  },
  {
   "cell_type": "markdown",
   "metadata": {},
   "source": [
    "### Get permits in a bounding box"
   ]
  },
  {
   "cell_type": "markdown",
   "metadata": {},
   "source": [
    "Get data for all the permits that are geographically located within the bounds of the specified box.\n",
    "\n",
    "The coordinates are in the Belgian Lambert72 (EPSG:31370) coordinate system and are given in the order of lower left x, lower left y, upper right x, upper right y."
   ]
  },
  {
   "cell_type": "code",
   "execution_count": 8,
   "metadata": {},
   "outputs": [
    {
     "data": {
      "text/html": [
       "<div>\n",
       "<style scoped>\n",
       "    .dataframe tbody tr th:only-of-type {\n",
       "        vertical-align: middle;\n",
       "    }\n",
       "\n",
       "    .dataframe tbody tr th {\n",
       "        vertical-align: top;\n",
       "    }\n",
       "\n",
       "    .dataframe thead th {\n",
       "        text-align: right;\n",
       "    }\n",
       "</style>\n",
       "<table border=\"1\" class=\"dataframe\">\n",
       "  <thead>\n",
       "    <tr style=\"text-align: right;\">\n",
       "      <th></th>\n",
       "      <th>pkey_vergunning</th>\n",
       "      <th>pkey_installatie</th>\n",
       "      <th>x</th>\n",
       "      <th>y</th>\n",
       "      <th>diepte</th>\n",
       "      <th>exploitant_naam</th>\n",
       "      <th>watnr</th>\n",
       "      <th>vlaremrubriek</th>\n",
       "      <th>vergund_jaardebiet</th>\n",
       "      <th>vergund_dagdebiet</th>\n",
       "      <th>van_datum_termijn</th>\n",
       "      <th>tot_datum_termijn</th>\n",
       "      <th>aquifer_vergunning</th>\n",
       "      <th>inrichtingsklasse</th>\n",
       "      <th>nacebelcode</th>\n",
       "      <th>actie_waakgebied</th>\n",
       "      <th>cbbnr</th>\n",
       "      <th>kbonr</th>\n",
       "    </tr>\n",
       "  </thead>\n",
       "  <tbody>\n",
       "    <tr>\n",
       "      <th>0</th>\n",
       "      <td>58293</td>\n",
       "      <td>https://www.dov.vlaanderen.be/data/installatie...</td>\n",
       "      <td>162520.0</td>\n",
       "      <td>216579.0</td>\n",
       "      <td>60.0</td>\n",
       "      <td>AERTS ROGER EN ELS</td>\n",
       "      <td>ANT/gw2-7136</td>\n",
       "      <td>53.8.2&lt;17</td>\n",
       "      <td>15150.0</td>\n",
       "      <td>730.0</td>\n",
       "      <td>2016-09-01</td>\n",
       "      <td>2021-04-11</td>\n",
       "      <td>0254: Zanden van Berchem en/of Voort</td>\n",
       "      <td>Klasse 2</td>\n",
       "      <td>0000: onbekend</td>\n",
       "      <td>geen actie/waakgebieden</td>\n",
       "      <td>NaN</td>\n",
       "      <td>NaN</td>\n",
       "    </tr>\n",
       "    <tr>\n",
       "      <th>1</th>\n",
       "      <td>58294</td>\n",
       "      <td>https://www.dov.vlaanderen.be/data/installatie...</td>\n",
       "      <td>162520.0</td>\n",
       "      <td>216579.0</td>\n",
       "      <td>60.0</td>\n",
       "      <td>AERTS ROGER EN ELS</td>\n",
       "      <td>ANT/gw2-7136</td>\n",
       "      <td>53.8.2&lt;17</td>\n",
       "      <td>4000.0</td>\n",
       "      <td>NaN</td>\n",
       "      <td>2016-04-11</td>\n",
       "      <td>2016-08-31</td>\n",
       "      <td>0254: Zanden van Berchem en/of Voort</td>\n",
       "      <td>Klasse 2</td>\n",
       "      <td>0000: onbekend</td>\n",
       "      <td>geen actie/waakgebieden</td>\n",
       "      <td>NaN</td>\n",
       "      <td>NaN</td>\n",
       "    </tr>\n",
       "    <tr>\n",
       "      <th>2</th>\n",
       "      <td>58282</td>\n",
       "      <td>https://www.dov.vlaanderen.be/data/installatie...</td>\n",
       "      <td>162520.0</td>\n",
       "      <td>216579.0</td>\n",
       "      <td>60.0</td>\n",
       "      <td>AERTS ROGER EN ELS</td>\n",
       "      <td>ANT/gw2-7136(1999)</td>\n",
       "      <td>53.8.2&lt;17</td>\n",
       "      <td>5000.0</td>\n",
       "      <td>15.0</td>\n",
       "      <td>2010-11-29</td>\n",
       "      <td>2016-04-10</td>\n",
       "      <td>0254: Zanden van Berchem en/of Voort</td>\n",
       "      <td>Klasse 2</td>\n",
       "      <td>0000: onbekend</td>\n",
       "      <td>geen actie/waakgebieden</td>\n",
       "      <td>NaN</td>\n",
       "      <td>NaN</td>\n",
       "    </tr>\n",
       "    <tr>\n",
       "      <th>3</th>\n",
       "      <td>58283</td>\n",
       "      <td>https://www.dov.vlaanderen.be/data/installatie...</td>\n",
       "      <td>162520.0</td>\n",
       "      <td>216579.0</td>\n",
       "      <td>60.0</td>\n",
       "      <td>AERTS ROGER</td>\n",
       "      <td>ANT/gw2-7136(1999)</td>\n",
       "      <td>53.8.2&lt;17</td>\n",
       "      <td>5000.0</td>\n",
       "      <td>15.0</td>\n",
       "      <td>1999-04-21</td>\n",
       "      <td>2010-11-28</td>\n",
       "      <td>0254: Zanden van Berchem en/of Voort</td>\n",
       "      <td>Klasse 2</td>\n",
       "      <td>0000: onbekend</td>\n",
       "      <td>geen actie/waakgebieden</td>\n",
       "      <td>NaN</td>\n",
       "      <td>NaN</td>\n",
       "    </tr>\n",
       "    <tr>\n",
       "      <th>4</th>\n",
       "      <td>14248</td>\n",
       "      <td>https://www.dov.vlaanderen.be/data/installatie...</td>\n",
       "      <td>162490.0</td>\n",
       "      <td>216210.0</td>\n",
       "      <td>30.0</td>\n",
       "      <td>WEZELSE WASSERIJ</td>\n",
       "      <td>ANT-Z1000257</td>\n",
       "      <td>99</td>\n",
       "      <td>18250.0</td>\n",
       "      <td>50.0</td>\n",
       "      <td>1972-06-12</td>\n",
       "      <td>2005-08-20</td>\n",
       "      <td>0250: Mioceen Aquifersysteem</td>\n",
       "      <td>Categorie A</td>\n",
       "      <td>9601: Wassen en (chemisch) reinigen van textie...</td>\n",
       "      <td>geen actie/waakgebieden</td>\n",
       "      <td>00121435000016</td>\n",
       "      <td>NaN</td>\n",
       "    </tr>\n",
       "  </tbody>\n",
       "</table>\n",
       "</div>"
      ],
      "text/plain": [
       "  pkey_vergunning                                   pkey_installatie  \\\n",
       "0           58293  https://www.dov.vlaanderen.be/data/installatie...   \n",
       "1           58294  https://www.dov.vlaanderen.be/data/installatie...   \n",
       "2           58282  https://www.dov.vlaanderen.be/data/installatie...   \n",
       "3           58283  https://www.dov.vlaanderen.be/data/installatie...   \n",
       "4           14248  https://www.dov.vlaanderen.be/data/installatie...   \n",
       "\n",
       "          x         y  diepte     exploitant_naam               watnr  \\\n",
       "0  162520.0  216579.0    60.0  AERTS ROGER EN ELS        ANT/gw2-7136   \n",
       "1  162520.0  216579.0    60.0  AERTS ROGER EN ELS        ANT/gw2-7136   \n",
       "2  162520.0  216579.0    60.0  AERTS ROGER EN ELS  ANT/gw2-7136(1999)   \n",
       "3  162520.0  216579.0    60.0         AERTS ROGER  ANT/gw2-7136(1999)   \n",
       "4  162490.0  216210.0    30.0    WEZELSE WASSERIJ        ANT-Z1000257   \n",
       "\n",
       "  vlaremrubriek  vergund_jaardebiet  vergund_dagdebiet van_datum_termijn  \\\n",
       "0     53.8.2<17             15150.0              730.0        2016-09-01   \n",
       "1     53.8.2<17              4000.0                NaN        2016-04-11   \n",
       "2     53.8.2<17              5000.0               15.0        2010-11-29   \n",
       "3     53.8.2<17              5000.0               15.0        1999-04-21   \n",
       "4            99             18250.0               50.0        1972-06-12   \n",
       "\n",
       "  tot_datum_termijn                    aquifer_vergunning inrichtingsklasse  \\\n",
       "0        2021-04-11  0254: Zanden van Berchem en/of Voort          Klasse 2   \n",
       "1        2016-08-31  0254: Zanden van Berchem en/of Voort          Klasse 2   \n",
       "2        2016-04-10  0254: Zanden van Berchem en/of Voort          Klasse 2   \n",
       "3        2010-11-28  0254: Zanden van Berchem en/of Voort          Klasse 2   \n",
       "4        2005-08-20          0250: Mioceen Aquifersysteem       Categorie A   \n",
       "\n",
       "                                         nacebelcode         actie_waakgebied  \\\n",
       "0                                     0000: onbekend  geen actie/waakgebieden   \n",
       "1                                     0000: onbekend  geen actie/waakgebieden   \n",
       "2                                     0000: onbekend  geen actie/waakgebieden   \n",
       "3                                     0000: onbekend  geen actie/waakgebieden   \n",
       "4  9601: Wassen en (chemisch) reinigen van textie...  geen actie/waakgebieden   \n",
       "\n",
       "            cbbnr kbonr  \n",
       "0             NaN   NaN  \n",
       "1             NaN   NaN  \n",
       "2             NaN   NaN  \n",
       "3             NaN   NaN  \n",
       "4  00121435000016   NaN  "
      ]
     },
     "execution_count": 8,
     "metadata": {},
     "output_type": "execute_result"
    }
   ],
   "source": [
    "from pydov.util.location import Within, Box\n",
    "\n",
    "df = gwv.search(location=Within(Box(153145, 206930, 163150, 216935)))\n",
    "df.head()"
   ]
  },
  {
   "cell_type": "code",
   "execution_count": 9,
   "metadata": {},
   "outputs": [
    {
     "data": {
      "text/plain": [
       "359"
      ]
     },
     "execution_count": 9,
     "metadata": {},
     "output_type": "execute_result"
    }
   ],
   "source": [
    "len(df)"
   ]
  },
  {
   "cell_type": "markdown",
   "metadata": {},
   "source": [
    "359 permits were obtained in this bbox. However, not all permits are stil active, indicated by *tot_datum_termijn*. For more information about the extracted volumes, referenced by *vlaremrubriek*, see Vlarem II. See [this link](https://navigator.emis.vito.be/mijn-navigator?woId=70336) for more information about the potential definitions."
   ]
  },
  {
   "cell_type": "code",
   "execution_count": 10,
   "metadata": {},
   "outputs": [
    {
     "data": {
      "text/plain": [
       "{'name': 'vlaremrubriek',\n",
       " 'definition': 'Code die gebruikt wordt in VLAREM (bijlage 1 VLAREM II) om een rubriek aan te duiden',\n",
       " 'type': 'string',\n",
       " 'notnull': False,\n",
       " 'query': True,\n",
       " 'cost': 1}"
      ]
     },
     "execution_count": 10,
     "metadata": {},
     "output_type": "execute_result"
    }
   ],
   "source": [
    "fields['vlaremrubriek']"
   ]
  },
  {
   "cell_type": "markdown",
   "metadata": {},
   "source": [
    "### Get permits in a bounding box with specific properties"
   ]
  },
  {
   "cell_type": "markdown",
   "metadata": {},
   "source": [
    "Next to querying permits based on their geographic location within a bounding box, we can also search for permits matching a specific set of properties. For this we can build a query using a combination of the 'Gwvergunningen' fields and operators provided by the WFS protocol.\n",
    "\n",
    "A list of possible operators can be found below:"
   ]
  },
  {
   "cell_type": "code",
   "execution_count": 11,
   "metadata": {},
   "outputs": [
    {
     "data": {
      "text/plain": [
       "['PropertyIsBetween',\n",
       " 'PropertyIsEqualTo',\n",
       " 'PropertyIsGreaterThan',\n",
       " 'PropertyIsGreaterThanOrEqualTo',\n",
       " 'PropertyIsLessThan',\n",
       " 'PropertyIsLessThanOrEqualTo',\n",
       " 'PropertyIsLike',\n",
       " 'PropertyIsNotEqualTo',\n",
       " 'PropertyIsNull',\n",
       " 'SortProperty']"
      ]
     },
     "execution_count": 11,
     "metadata": {},
     "output_type": "execute_result"
    }
   ],
   "source": [
    "[i for i,j in inspect.getmembers(sys.modules['owslib.fes'], inspect.isclass) if 'Property' in i]"
   ]
  },
  {
   "cell_type": "markdown",
   "metadata": {},
   "source": [
    "In this example we build a query using the *PropertyIsGreaterThan* operator in addition to the earlier bbox, to restrict the query to active permits:"
   ]
  },
  {
   "cell_type": "code",
   "execution_count": 12,
   "metadata": {},
   "outputs": [
    {
     "data": {
      "text/html": [
       "<div>\n",
       "<style scoped>\n",
       "    .dataframe tbody tr th:only-of-type {\n",
       "        vertical-align: middle;\n",
       "    }\n",
       "\n",
       "    .dataframe tbody tr th {\n",
       "        vertical-align: top;\n",
       "    }\n",
       "\n",
       "    .dataframe thead th {\n",
       "        text-align: right;\n",
       "    }\n",
       "</style>\n",
       "<table border=\"1\" class=\"dataframe\">\n",
       "  <thead>\n",
       "    <tr style=\"text-align: right;\">\n",
       "      <th></th>\n",
       "      <th>pkey_vergunning</th>\n",
       "      <th>pkey_installatie</th>\n",
       "      <th>x</th>\n",
       "      <th>y</th>\n",
       "      <th>diepte</th>\n",
       "      <th>exploitant_naam</th>\n",
       "      <th>watnr</th>\n",
       "      <th>vlaremrubriek</th>\n",
       "      <th>vergund_jaardebiet</th>\n",
       "      <th>vergund_dagdebiet</th>\n",
       "      <th>van_datum_termijn</th>\n",
       "      <th>tot_datum_termijn</th>\n",
       "      <th>aquifer_vergunning</th>\n",
       "      <th>inrichtingsklasse</th>\n",
       "      <th>nacebelcode</th>\n",
       "      <th>actie_waakgebied</th>\n",
       "      <th>cbbnr</th>\n",
       "      <th>kbonr</th>\n",
       "    </tr>\n",
       "  </thead>\n",
       "  <tbody>\n",
       "    <tr>\n",
       "      <th>0</th>\n",
       "      <td>58293</td>\n",
       "      <td>https://www.dov.vlaanderen.be/data/installatie...</td>\n",
       "      <td>162520.0</td>\n",
       "      <td>216579.0</td>\n",
       "      <td>60.0</td>\n",
       "      <td>AERTS ROGER EN ELS</td>\n",
       "      <td>ANT/gw2-7136</td>\n",
       "      <td>53.8.2&lt;17</td>\n",
       "      <td>15150.0</td>\n",
       "      <td>730.0</td>\n",
       "      <td>2016-09-01</td>\n",
       "      <td>2021-04-11</td>\n",
       "      <td>0254: Zanden van Berchem en/of Voort</td>\n",
       "      <td>Klasse 2</td>\n",
       "      <td>0000: onbekend</td>\n",
       "      <td>geen actie/waakgebieden</td>\n",
       "      <td>NaN</td>\n",
       "      <td>NaN</td>\n",
       "    </tr>\n",
       "    <tr>\n",
       "      <th>1</th>\n",
       "      <td>41235</td>\n",
       "      <td>https://www.dov.vlaanderen.be/data/installatie...</td>\n",
       "      <td>162500.0</td>\n",
       "      <td>216000.0</td>\n",
       "      <td>31.0</td>\n",
       "      <td>WEZELSE WASSERIJ</td>\n",
       "      <td>ant-gw2-4746</td>\n",
       "      <td>53.8.2&lt;17</td>\n",
       "      <td>501.0</td>\n",
       "      <td>NaN</td>\n",
       "      <td>2006-05-29</td>\n",
       "      <td>2026-05-29</td>\n",
       "      <td>0250: Mioceen Aquifersysteem</td>\n",
       "      <td>Klasse 2</td>\n",
       "      <td>9601: Wassen en (chemisch) reinigen van textie...</td>\n",
       "      <td>geen actie/waakgebieden</td>\n",
       "      <td>00121435000016</td>\n",
       "      <td>NaN</td>\n",
       "    </tr>\n",
       "    <tr>\n",
       "      <th>2</th>\n",
       "      <td>38307</td>\n",
       "      <td>https://www.dov.vlaanderen.be/data/installatie...</td>\n",
       "      <td>162282.0</td>\n",
       "      <td>214477.0</td>\n",
       "      <td>60.0</td>\n",
       "      <td>MORTELMANS LUC  WILFRIED</td>\n",
       "      <td>gw2-5102vl</td>\n",
       "      <td>53.8.2&lt;17</td>\n",
       "      <td>24000.0</td>\n",
       "      <td>66.0</td>\n",
       "      <td>2008-04-07</td>\n",
       "      <td>2028-04-07</td>\n",
       "      <td>0254: Zanden van Berchem en/of Voort</td>\n",
       "      <td>Klasse 2</td>\n",
       "      <td>0000: onbekend</td>\n",
       "      <td>geen actie/waakgebieden</td>\n",
       "      <td>NaN</td>\n",
       "      <td>NaN</td>\n",
       "    </tr>\n",
       "    <tr>\n",
       "      <th>3</th>\n",
       "      <td>61434</td>\n",
       "      <td>https://www.dov.vlaanderen.be/data/installatie...</td>\n",
       "      <td>157260.0</td>\n",
       "      <td>207850.0</td>\n",
       "      <td>70.0</td>\n",
       "      <td>AUTONOOM GEMEENTEBEDRIJF MORTSEL</td>\n",
       "      <td>ANT-00156-A</td>\n",
       "      <td>53.8.1.b</td>\n",
       "      <td>5000.0</td>\n",
       "      <td>100.0</td>\n",
       "      <td>2018-09-17</td>\n",
       "      <td>2999-12-31</td>\n",
       "      <td>0300: Boom Aquitard</td>\n",
       "      <td>Klasse 2</td>\n",
       "      <td>0000: onbekend</td>\n",
       "      <td>geen actie/waakgebieden</td>\n",
       "      <td>NaN</td>\n",
       "      <td>NaN</td>\n",
       "    </tr>\n",
       "    <tr>\n",
       "      <th>4</th>\n",
       "      <td>31902</td>\n",
       "      <td>https://www.dov.vlaanderen.be/data/installatie...</td>\n",
       "      <td>161030.0</td>\n",
       "      <td>210890.0</td>\n",
       "      <td>43.0</td>\n",
       "      <td>PLUMA NV</td>\n",
       "      <td>ANT-gw1/890</td>\n",
       "      <td>53.8.3</td>\n",
       "      <td>270000.0</td>\n",
       "      <td>1000.0</td>\n",
       "      <td>2005-02-17</td>\n",
       "      <td>2025-02-17</td>\n",
       "      <td>0250: Mioceen Aquifersysteem</td>\n",
       "      <td>Klasse 1</td>\n",
       "      <td>101: Verwerking en conservering van vlees en v...</td>\n",
       "      <td>geen actie/waakgebieden</td>\n",
       "      <td>00105718000086</td>\n",
       "      <td>NaN</td>\n",
       "    </tr>\n",
       "  </tbody>\n",
       "</table>\n",
       "</div>"
      ],
      "text/plain": [
       "  pkey_vergunning                                   pkey_installatie  \\\n",
       "0           58293  https://www.dov.vlaanderen.be/data/installatie...   \n",
       "1           41235  https://www.dov.vlaanderen.be/data/installatie...   \n",
       "2           38307  https://www.dov.vlaanderen.be/data/installatie...   \n",
       "3           61434  https://www.dov.vlaanderen.be/data/installatie...   \n",
       "4           31902  https://www.dov.vlaanderen.be/data/installatie...   \n",
       "\n",
       "          x         y  diepte                   exploitant_naam         watnr  \\\n",
       "0  162520.0  216579.0    60.0                AERTS ROGER EN ELS  ANT/gw2-7136   \n",
       "1  162500.0  216000.0    31.0                  WEZELSE WASSERIJ  ant-gw2-4746   \n",
       "2  162282.0  214477.0    60.0          MORTELMANS LUC  WILFRIED    gw2-5102vl   \n",
       "3  157260.0  207850.0    70.0  AUTONOOM GEMEENTEBEDRIJF MORTSEL   ANT-00156-A   \n",
       "4  161030.0  210890.0    43.0                          PLUMA NV   ANT-gw1/890   \n",
       "\n",
       "  vlaremrubriek  vergund_jaardebiet  vergund_dagdebiet van_datum_termijn  \\\n",
       "0     53.8.2<17             15150.0              730.0        2016-09-01   \n",
       "1     53.8.2<17               501.0                NaN        2006-05-29   \n",
       "2     53.8.2<17             24000.0               66.0        2008-04-07   \n",
       "3      53.8.1.b              5000.0              100.0        2018-09-17   \n",
       "4        53.8.3            270000.0             1000.0        2005-02-17   \n",
       "\n",
       "  tot_datum_termijn                    aquifer_vergunning inrichtingsklasse  \\\n",
       "0        2021-04-11  0254: Zanden van Berchem en/of Voort          Klasse 2   \n",
       "1        2026-05-29          0250: Mioceen Aquifersysteem          Klasse 2   \n",
       "2        2028-04-07  0254: Zanden van Berchem en/of Voort          Klasse 2   \n",
       "3        2999-12-31                   0300: Boom Aquitard          Klasse 2   \n",
       "4        2025-02-17          0250: Mioceen Aquifersysteem          Klasse 1   \n",
       "\n",
       "                                         nacebelcode         actie_waakgebied  \\\n",
       "0                                     0000: onbekend  geen actie/waakgebieden   \n",
       "1  9601: Wassen en (chemisch) reinigen van textie...  geen actie/waakgebieden   \n",
       "2                                     0000: onbekend  geen actie/waakgebieden   \n",
       "3                                     0000: onbekend  geen actie/waakgebieden   \n",
       "4  101: Verwerking en conservering van vlees en v...  geen actie/waakgebieden   \n",
       "\n",
       "            cbbnr kbonr  \n",
       "0             NaN   NaN  \n",
       "1  00121435000016   NaN  \n",
       "2             NaN   NaN  \n",
       "3             NaN   NaN  \n",
       "4  00105718000086   NaN  "
      ]
     },
     "execution_count": 12,
     "metadata": {},
     "output_type": "execute_result"
    }
   ],
   "source": [
    "from owslib.fes import PropertyIsGreaterThan\n",
    "\n",
    "query = PropertyIsGreaterThan(propertyname='tot_datum_termijn',\n",
    "                          literal='2020-09-01')\n",
    "df = gwv.search(query=query,\n",
    "                location=Within(Box(153145, 206930, 163150, 216935)))\n",
    "\n",
    "df.head()"
   ]
  },
  {
   "cell_type": "code",
   "execution_count": 13,
   "metadata": {},
   "outputs": [
    {
     "data": {
      "text/plain": [
       "61"
      ]
     },
     "execution_count": 13,
     "metadata": {},
     "output_type": "execute_result"
    }
   ],
   "source": [
    "len(df)"
   ]
  },
  {
   "cell_type": "markdown",
   "metadata": {},
   "source": [
    "Contrary to the earlier query, this result contains considerably less active permits in the considered bbox."
   ]
  },
  {
   "cell_type": "markdown",
   "metadata": {},
   "source": [
    "Mind that among these permits, there could also be permits for dewatering works, or ATES systems. Both of these are mostly not important in the development of a hydrogeological model. For dewatering works, it is currently not possible to see the operational status. These works could have well been finished some time ago, or not. See [this link](https://navigator.emis.vito.be/mijn-navigator?woId=70336) for more information about *vlaremrubriek* codes."
   ]
  },
  {
   "cell_type": "markdown",
   "metadata": {},
   "source": [
    "### Select permits in a municipality and return depth"
   ]
  },
  {
   "cell_type": "markdown",
   "metadata": {},
   "source": [
    "We can limit the columns in the output dataframe by specifying the *return_fields* parameter in our search.\n",
    "\n",
    "In this example we query all the permits in the city of Ghent and return their depth. For this a remote WFS GML query is used as described in [this notebook](https://github.com/DOV-Vlaanderen/pydov/blob/master/docs/notebooks/remote_wfs_gml_query.ipynb):"
   ]
  },
  {
   "cell_type": "code",
   "execution_count": 14,
   "metadata": {},
   "outputs": [
    {
     "data": {
      "text/plain": [
       "array([[<matplotlib.axes._subplots.AxesSubplot object at 0x000001A5F993DE48>]],\n",
       "      dtype=object)"
      ]
     },
     "execution_count": 14,
     "metadata": {},
     "output_type": "execute_result"
    },
    {
     "data": {
      "image/png": "[encoded data removed]",
      "text/plain": [
       "<Figure size 432x288 with 1 Axes>"
      ]
     },
     "metadata": {
      "needs_background": "light"
     },
     "output_type": "display_data"
    }
   ],
   "source": [
    "from owslib.etree import etree\n",
    "from owslib.wfs import WebFeatureService\n",
    "from owslib.fes import PropertyIsEqualTo\n",
    "\n",
    "from pydov.util.location import GmlFilter\n",
    "\n",
    "gemeentegrenzen = WebFeatureService(\n",
    "    'https://geoservices.informatievlaanderen.be/overdrachtdiensten/VRBG/wfs',\n",
    "    version='1.1.0')\n",
    "naam_filter = PropertyIsEqualTo(propertyname='NAAM', literal='Gent')\n",
    "gemeente_poly = gemeentegrenzen.getfeature(\n",
    "    typename='VRBG:Refgem',\n",
    "    filter=etree.tostring(naam_filter.toXML()).decode(\"utf8\")).read()\n",
    "\n",
    "df = gwv.search(\n",
    "    location=GmlFilter(gemeente_poly, Within), \n",
    "    return_fields=('pkey_vergunning', 'diepte'))\n",
    "# df.sort_values(by=['diepte'], ascending=False, inplace=True)\n",
    "df.hist(column='diepte')"
   ]
  },
  {
   "cell_type": "code",
   "execution_count": 15,
   "metadata": {},
   "outputs": [
    {
     "data": {
      "text/html": [
       "<div>\n",
       "<style scoped>\n",
       "    .dataframe tbody tr th:only-of-type {\n",
       "        vertical-align: middle;\n",
       "    }\n",
       "\n",
       "    .dataframe tbody tr th {\n",
       "        vertical-align: top;\n",
       "    }\n",
       "\n",
       "    .dataframe thead th {\n",
       "        text-align: right;\n",
       "    }\n",
       "</style>\n",
       "<table border=\"1\" class=\"dataframe\">\n",
       "  <thead>\n",
       "    <tr style=\"text-align: right;\">\n",
       "      <th></th>\n",
       "      <th>diepte</th>\n",
       "    </tr>\n",
       "  </thead>\n",
       "  <tbody>\n",
       "    <tr>\n",
       "      <th>count</th>\n",
       "      <td>785.000000</td>\n",
       "    </tr>\n",
       "    <tr>\n",
       "      <th>mean</th>\n",
       "      <td>30.765694</td>\n",
       "    </tr>\n",
       "    <tr>\n",
       "      <th>std</th>\n",
       "      <td>36.785930</td>\n",
       "    </tr>\n",
       "    <tr>\n",
       "      <th>min</th>\n",
       "      <td>-1.000000</td>\n",
       "    </tr>\n",
       "    <tr>\n",
       "      <th>25%</th>\n",
       "      <td>8.000000</td>\n",
       "    </tr>\n",
       "    <tr>\n",
       "      <th>50%</th>\n",
       "      <td>18.000000</td>\n",
       "    </tr>\n",
       "    <tr>\n",
       "      <th>75%</th>\n",
       "      <td>46.000000</td>\n",
       "    </tr>\n",
       "    <tr>\n",
       "      <th>max</th>\n",
       "      <td>290.000000</td>\n",
       "    </tr>\n",
       "  </tbody>\n",
       "</table>\n",
       "</div>"
      ],
      "text/plain": [
       "           diepte\n",
       "count  785.000000\n",
       "mean    30.765694\n",
       "std     36.785930\n",
       "min     -1.000000\n",
       "25%      8.000000\n",
       "50%     18.000000\n",
       "75%     46.000000\n",
       "max    290.000000"
      ]
     },
     "execution_count": 15,
     "metadata": {},
     "output_type": "execute_result"
    }
   ],
   "source": [
    "df.describe()"
   ]
  },
  {
   "cell_type": "markdown",
   "metadata": {},
   "source": [
    "### Get permit data, returning fields not available in the standard output dataframe"
   ]
  },
  {
   "cell_type": "markdown",
   "metadata": {},
   "source": [
    "Not all fields are available in the default output frame. However, you can examine the available fields with the *get_fields()* method and pass the desired field name to the *return_fields* parameter."
   ]
  },
  {
   "cell_type": "code",
   "execution_count": 16,
   "metadata": {},
   "outputs": [
    {
     "data": {
      "text/html": [
       "<div>\n",
       "<style scoped>\n",
       "    .dataframe tbody tr th:only-of-type {\n",
       "        vertical-align: middle;\n",
       "    }\n",
       "\n",
       "    .dataframe tbody tr th {\n",
       "        vertical-align: top;\n",
       "    }\n",
       "\n",
       "    .dataframe thead th {\n",
       "        text-align: right;\n",
       "    }\n",
       "</style>\n",
       "<table border=\"1\" class=\"dataframe\">\n",
       "  <thead>\n",
       "    <tr style=\"text-align: right;\">\n",
       "      <th></th>\n",
       "      <th>pkey_vergunning</th>\n",
       "      <th>diepte</th>\n",
       "      <th>vergunningverlenende_overheid_VVO</th>\n",
       "    </tr>\n",
       "  </thead>\n",
       "  <tbody>\n",
       "    <tr>\n",
       "      <th>0</th>\n",
       "      <td>64727</td>\n",
       "      <td>4.0</td>\n",
       "      <td>Gemeentebestuur GENT</td>\n",
       "    </tr>\n",
       "    <tr>\n",
       "      <th>1</th>\n",
       "      <td>67206</td>\n",
       "      <td>NaN</td>\n",
       "      <td>Gemeentebestuur GENT</td>\n",
       "    </tr>\n",
       "    <tr>\n",
       "      <th>2</th>\n",
       "      <td>68907</td>\n",
       "      <td>9.9</td>\n",
       "      <td>Gemeentebestuur GENT</td>\n",
       "    </tr>\n",
       "    <tr>\n",
       "      <th>3</th>\n",
       "      <td>63938</td>\n",
       "      <td>7.0</td>\n",
       "      <td>Gemeentebestuur GENT</td>\n",
       "    </tr>\n",
       "    <tr>\n",
       "      <th>4</th>\n",
       "      <td>66990</td>\n",
       "      <td>4.0</td>\n",
       "      <td>Gemeentebestuur GENT</td>\n",
       "    </tr>\n",
       "  </tbody>\n",
       "</table>\n",
       "</div>"
      ],
      "text/plain": [
       "  pkey_vergunning  diepte vergunningverlenende_overheid_VVO\n",
       "0           64727     4.0              Gemeentebestuur GENT\n",
       "1           67206     NaN              Gemeentebestuur GENT\n",
       "2           68907     9.9              Gemeentebestuur GENT\n",
       "3           63938     7.0              Gemeentebestuur GENT\n",
       "4           66990     4.0              Gemeentebestuur GENT"
      ]
     },
     "execution_count": 16,
     "metadata": {},
     "output_type": "execute_result"
    }
   ],
   "source": [
    "from owslib.fes import PropertyIsGreaterThanOrEqualTo\n",
    "\n",
    "query = PropertyIsGreaterThanOrEqualTo(\n",
    "            propertyname='diepte',\n",
    "            literal='200')\n",
    "\n",
    "df = gwv.search(\n",
    "    location=GmlFilter(gemeente_poly, Within),\n",
    "    return_fields=('pkey_vergunning', 'diepte', 'vergunningverlenende_overheid_VVO'))\n",
    "\n",
    "df.head()"
   ]
  },
  {
   "cell_type": "markdown",
   "metadata": {},
   "source": [
    "### Estimate groundwater quality data for a certain permit"
   ]
  },
  {
   "cell_type": "markdown",
   "metadata": {},
   "source": [
    "Given groundwater scarcity in Belgium, the reuse of dewatering drainage is increasingly being considerd. In some cases, this water contains a high iron load which is not desirable for a lot of applications.  \n",
    "Determine the groundwater quality for a certain permit, e.g. for the permit at Diestsestraat 209 3000 Leuven."
   ]
  },
  {
   "cell_type": "code",
   "execution_count": 36,
   "metadata": {},
   "outputs": [
    {
     "data": {
      "text/html": [
       "<div>\n",
       "<style scoped>\n",
       "    .dataframe tbody tr th:only-of-type {\n",
       "        vertical-align: middle;\n",
       "    }\n",
       "\n",
       "    .dataframe tbody tr th {\n",
       "        vertical-align: top;\n",
       "    }\n",
       "\n",
       "    .dataframe thead th {\n",
       "        text-align: right;\n",
       "    }\n",
       "</style>\n",
       "<table border=\"1\" class=\"dataframe\">\n",
       "  <thead>\n",
       "    <tr style=\"text-align: right;\">\n",
       "      <th></th>\n",
       "      <th>pkey_vergunning</th>\n",
       "      <th>pkey_installatie</th>\n",
       "      <th>x</th>\n",
       "      <th>y</th>\n",
       "      <th>diepte</th>\n",
       "      <th>exploitant_naam</th>\n",
       "      <th>watnr</th>\n",
       "      <th>vlaremrubriek</th>\n",
       "      <th>vergund_jaardebiet</th>\n",
       "      <th>vergund_dagdebiet</th>\n",
       "      <th>van_datum_termijn</th>\n",
       "      <th>tot_datum_termijn</th>\n",
       "      <th>aquifer_vergunning</th>\n",
       "      <th>inrichtingsklasse</th>\n",
       "      <th>nacebelcode</th>\n",
       "      <th>actie_waakgebied</th>\n",
       "      <th>cbbnr</th>\n",
       "      <th>kbonr</th>\n",
       "    </tr>\n",
       "  </thead>\n",
       "  <tbody>\n",
       "    <tr>\n",
       "      <th>0</th>\n",
       "      <td>64279</td>\n",
       "      <td>https://www.dov.vlaanderen.be/data/installatie...</td>\n",
       "      <td>174097.89</td>\n",
       "      <td>174672.54</td>\n",
       "      <td>11.0</td>\n",
       "      <td>Rialto Holding</td>\n",
       "      <td>VLB-00133-A</td>\n",
       "      <td>53.2.2.a)</td>\n",
       "      <td>22450.0</td>\n",
       "      <td>445.0</td>\n",
       "      <td>2019-05-29</td>\n",
       "      <td>NaN</td>\n",
       "      <td>0620: Zand van Brussel</td>\n",
       "      <td>Klasse 3</td>\n",
       "      <td>64200: Holdings</td>\n",
       "      <td>NaN</td>\n",
       "      <td>NaN</td>\n",
       "      <td>0675544028</td>\n",
       "    </tr>\n",
       "  </tbody>\n",
       "</table>\n",
       "</div>"
      ],
      "text/plain": [
       "  pkey_vergunning                                   pkey_installatie  \\\n",
       "0           64279  https://www.dov.vlaanderen.be/data/installatie...   \n",
       "\n",
       "           x          y  diepte exploitant_naam        watnr vlaremrubriek  \\\n",
       "0  174097.89  174672.54    11.0  Rialto Holding  VLB-00133-A     53.2.2.a)   \n",
       "\n",
       "   vergund_jaardebiet  vergund_dagdebiet van_datum_termijn  tot_datum_termijn  \\\n",
       "0             22450.0              445.0        2019-05-29                NaN   \n",
       "\n",
       "       aquifer_vergunning inrichtingsklasse      nacebelcode  \\\n",
       "0  0620: Zand van Brussel          Klasse 3  64200: Holdings   \n",
       "\n",
       "   actie_waakgebied  cbbnr       kbonr  \n",
       "0               NaN    NaN  0675544028  "
      ]
     },
     "execution_count": 36,
     "metadata": {},
     "output_type": "execute_result"
    }
   ],
   "source": [
    "from pydov.util.location import Within, Box\n",
    "import pandas as pd\n",
    "\n",
    "query = PropertyIsEqualTo(propertyname='inrichtingsnummer',\n",
    "                          literal='20181004-0018')\n",
    "df_permit = gwv.search(query=query)\n",
    "df_permit.head()"
   ]
  },
  {
   "cell_type": "markdown",
   "metadata": {},
   "source": [
    "The water is extracted from the hydrogeological layer 'Zand van Brussel' which is designated with the according HCOV code '0620'. We can now look in the data from the groundwater quality monitoring wells which wells are situated nearby for that specific hydrogeological layer. For this, we first have to look at the dataset comprising the head measurements, that also contains the HCOV code of the aquifer. Subsequently, we can fetch the water quality monitoring data of the selected well screens.  \n",
    "More information on the HCOV code can be found through this [link](https://www.dov.vlaanderen.be/index.php/page/hcov-kartering). "
   ]
  },
  {
   "cell_type": "code",
   "execution_count": 39,
   "metadata": {},
   "outputs": [
    {
     "name": "stdout",
     "output_type": "stream",
     "text": [
      "gw_id\n",
      "pkey_grondwaterlocatie\n",
      "filternummer\n",
      "pkey_filter\n",
      "namen\n",
      "filtergrafiek\n",
      "putgrafiek\n",
      "aquifer\n",
      "diepte_onderkant_filter\n",
      "lengte_filter\n",
      "putsoort\n",
      "filtertype\n",
      "meetnet\n",
      "x\n",
      "y\n",
      "start_grondwaterlocatie_mtaw\n",
      "gemeente\n",
      "grondwaterlichaam\n",
      "regime\n",
      "datum_in_filter\n",
      "datum_uit_filter\n",
      "stijghoogterapport\n",
      "analyserapport\n",
      "boornummer\n",
      "boringfiche\n",
      "peilmetingen_van\n",
      "peilmetingen_tot\n",
      "kwaliteitsmetingen_van\n",
      "kwaliteitsmetingen_tot\n",
      "recentste_exploitant\n",
      "beheerder\n",
      "mv_mtaw\n",
      "meetnet_code\n",
      "aquifer_code\n",
      "grondwaterlichaam_code\n",
      "datum\n",
      "tijdstip\n",
      "peil_mtaw\n",
      "betrouwbaarheid\n",
      "methode\n",
      "filterstatus\n",
      "filtertoestand\n"
     ]
    }
   ],
   "source": [
    "from pydov.search.grondwaterfilter import GrondwaterFilterSearch\n",
    "from pydov.search.grondwatermonster import GrondwaterMonsterSearch\n",
    "from pydov.util.query import Join\n",
    "\n",
    "gfs = GrondwaterFilterSearch()\n",
    "fields = gfs.get_fields()\n",
    "\n",
    "# print available fields\n",
    "for f in fields.values():\n",
    "    print(f['name'])\n"
   ]
  },
  {
   "cell_type": "code",
   "execution_count": 44,
   "metadata": {},
   "outputs": [
    {
     "data": {
      "text/html": [
       "<div>\n",
       "<style scoped>\n",
       "    .dataframe tbody tr th:only-of-type {\n",
       "        vertical-align: middle;\n",
       "    }\n",
       "\n",
       "    .dataframe tbody tr th {\n",
       "        vertical-align: top;\n",
       "    }\n",
       "\n",
       "    .dataframe thead th {\n",
       "        text-align: right;\n",
       "    }\n",
       "</style>\n",
       "<table border=\"1\" class=\"dataframe\">\n",
       "  <thead>\n",
       "    <tr style=\"text-align: right;\">\n",
       "      <th></th>\n",
       "      <th>pkey_filter</th>\n",
       "      <th>x</th>\n",
       "      <th>y</th>\n",
       "      <th>aquifer</th>\n",
       "      <th>diepte_onderkant_filter</th>\n",
       "    </tr>\n",
       "  </thead>\n",
       "  <tbody>\n",
       "    <tr>\n",
       "      <th>27</th>\n",
       "      <td>https://www.dov.vlaanderen.be/data/filter/1963...</td>\n",
       "      <td>178045.0</td>\n",
       "      <td>179645.0</td>\n",
       "      <td>0620 - Zand van Brussel</td>\n",
       "      <td>NaN</td>\n",
       "    </tr>\n",
       "    <tr>\n",
       "      <th>38</th>\n",
       "      <td>https://www.dov.vlaanderen.be/data/filter/1970...</td>\n",
       "      <td>173350.0</td>\n",
       "      <td>178850.0</td>\n",
       "      <td>0620 - Zand van Brussel</td>\n",
       "      <td>35.0</td>\n",
       "    </tr>\n",
       "    <tr>\n",
       "      <th>39</th>\n",
       "      <td>https://www.dov.vlaanderen.be/data/filter/1970...</td>\n",
       "      <td>173344.0</td>\n",
       "      <td>178861.0</td>\n",
       "      <td>0620 - Zand van Brussel</td>\n",
       "      <td>35.0</td>\n",
       "    </tr>\n",
       "    <tr>\n",
       "      <th>40</th>\n",
       "      <td>https://www.dov.vlaanderen.be/data/filter/1998...</td>\n",
       "      <td>172784.0</td>\n",
       "      <td>178377.0</td>\n",
       "      <td>0620 - Zand van Brussel</td>\n",
       "      <td>66.0</td>\n",
       "    </tr>\n",
       "    <tr>\n",
       "      <th>46</th>\n",
       "      <td>https://www.dov.vlaanderen.be/data/filter/1985...</td>\n",
       "      <td>173367.0</td>\n",
       "      <td>178215.0</td>\n",
       "      <td>0620 - Zand van Brussel</td>\n",
       "      <td>30.0</td>\n",
       "    </tr>\n",
       "  </tbody>\n",
       "</table>\n",
       "</div>"
      ],
      "text/plain": [
       "                                          pkey_filter         x         y  \\\n",
       "27  https://www.dov.vlaanderen.be/data/filter/1963...  178045.0  179645.0   \n",
       "38  https://www.dov.vlaanderen.be/data/filter/1970...  173350.0  178850.0   \n",
       "39  https://www.dov.vlaanderen.be/data/filter/1970...  173344.0  178861.0   \n",
       "40  https://www.dov.vlaanderen.be/data/filter/1998...  172784.0  178377.0   \n",
       "46  https://www.dov.vlaanderen.be/data/filter/1985...  173367.0  178215.0   \n",
       "\n",
       "                    aquifer  diepte_onderkant_filter  \n",
       "27  0620 - Zand van Brussel                      NaN  \n",
       "38  0620 - Zand van Brussel                     35.0  \n",
       "39  0620 - Zand van Brussel                     35.0  \n",
       "40  0620 - Zand van Brussel                     66.0  \n",
       "46  0620 - Zand van Brussel                     30.0  "
      ]
     },
     "execution_count": 44,
     "metadata": {},
     "output_type": "execute_result"
    }
   ],
   "source": [
    "from pydov.search.grondwaterfilter import GrondwaterFilterSearch\n",
    "from pydov.search.grondwatermonster import GrondwaterMonsterSearch\n",
    "from pydov.util.query import Join\n",
    "\n",
    "gfs = GrondwaterFilterSearch()\n",
    "gwmonster = GrondwaterMonsterSearch()\n",
    "\n",
    "df_gfs = gfs.search(location=Within(Box(170000, 174000, 190000, 180000)),\n",
    "                   return_fields=['pkey_filter', 'x', 'y', 'aquifer', 'diepte_onderkant_filter'])\n",
    "\n",
    "filters = df_gfs[(df_gfs['aquifer'].str.contains('0620')) ]\n",
    "filters.head()"
   ]
  },
  {
   "cell_type": "markdown",
   "metadata": {},
   "source": [
    "Now select the according water quality data"
   ]
  },
  {
   "cell_type": "code",
   "execution_count": 46,
   "metadata": {
    "scrolled": true
   },
   "outputs": [
    {
     "name": "stdout",
     "output_type": "stream",
     "text": [
      "[000/192] cccccccccccccccccccccccccccccccccccccccccccccccccc\n",
      "[050/192] cccccccccccccccccccccccccccccccccccccccccccccccccc\n",
      "[100/192] cccccccccccccccccccccccccccccccccccccccccccccccccc\n",
      "[150/192] cccccccccccccccccccccccccccccccccccccccccc\n"
     ]
    },
    {
     "data": {
      "text/plain": [
       "array([b'Na', b'EC', b'Mg', b'Cd', b'Ca', b'NO2', b'Zn', b'Al', b'CN',\n",
       "       b'Cr', b'K', b'HCO3', b'F', b'Cl', b'As', b'Cu', b'T', b'Ni',\n",
       "       b'Pb', b'NH4', b'TOC', b'Mn', b'NO3', b'CO3', b'Fe', b'O2',\n",
       "       b'Eh\\xc2\\xb0', b'PO4', b'Fe2+', b'SO4', b'Hg', b'pH', b'EC(Lab.)',\n",
       "       b'Co', b'pH(Lab.)', b'Isoprot', b'chazr', b'Bentaz', b'metola-S',\n",
       "       b'atr_des', b'Terbu', b'Diur', b'Simaz', b'VIS', b'DMS',\n",
       "       b'Chlortol', b'BAM', b'Atraz', b'AMPA', b'Chloridaz', b'Glyfos',\n",
       "       b'Linur', b'SomAN', b'SomKAT', b'B', b'%AfwijkBalans',\n",
       "       b'trichlorpyr', b'Mesotri', b'fluopicolide', b'meta9', b'Dchdzn',\n",
       "       b'meta4', b'meta11', b'Imida', b'Triflox', b'Metola-S-ESA',\n",
       "       b'flufe', b'meta8', b'Br', b'TDS', b'Temp.', b'PropaCl', b'24d',\n",
       "       b'Linur_mono', b'Propan', b'Terbu_des', b'Carben',\n",
       "       b'Atr_desisoprop', b'Propaz', b'brom', b'Ethofum', b'mcpa',\n",
       "       b'Carbet', b'Cyana', b'Metaza', b'Prometr', b'Clproph',\n",
       "       b'5ClFenol', b'Metox', b'Ala', b'Metobro', b'Metami', b'245t',\n",
       "       b'24db', b'Fenoprop', b'Mecopr', b'Fluroxypyr', b'Terbutryn',\n",
       "       b'mcpb', b'Methabenz', b'Dichlorpr', b'Sebu', b'Hexaz', b'Dicam',\n",
       "       b'Per', b'Tri'], dtype=object)"
      ]
     },
     "execution_count": 46,
     "metadata": {},
     "output_type": "execute_result"
    }
   ],
   "source": [
    "df_gwq = gwmonster.search(query=Join(filters, 'pkey_filter'),\n",
    "                         )\n",
    "df_gwq['parameter'] = df_gwq['parameter'].str.encode('utf-8')\n",
    "df_gwq['parameter'].unique()"
   ]
  },
  {
   "cell_type": "code",
   "execution_count": 57,
   "metadata": {},
   "outputs": [
    {
     "data": {
      "text/plain": [
       "               parameter\n",
       "waarde  count  b'Fe'        182.000000\n",
       "               b'Fe2+'       75.000000\n",
       "        mean   b'Fe'          1.524795\n",
       "               b'Fe2+'        0.701560\n",
       "        std    b'Fe'          1.972383\n",
       "               b'Fe2+'        1.268594\n",
       "        min    b'Fe'          0.000000\n",
       "               b'Fe2+'        0.000000\n",
       "        25%    b'Fe'          0.020000\n",
       "               b'Fe2+'        0.020000\n",
       "        50%    b'Fe'          0.437550\n",
       "               b'Fe2+'        0.070000\n",
       "        75%    b'Fe'          3.389250\n",
       "               b'Fe2+'        0.649000\n",
       "        max    b'Fe'         12.300000\n",
       "               b'Fe2+'        4.400000\n",
       "dtype: float64"
      ]
     },
     "execution_count": 57,
     "metadata": {},
     "output_type": "execute_result"
    }
   ],
   "source": [
    "pars_select = [b'Fe', b'Fe2+', b'Fe(Tot.)', b'Fe3+']\n",
    "df_selected = df_gwq.loc[df_gwq.parameter.isin(pars_select), :]\n",
    "df_stat = df_selected.loc[:, ['parameter', 'waarde']].groupby('parameter').describe().unstack(1)\n",
    "df_stat"
   ]
  },
  {
   "cell_type": "markdown",
   "metadata": {},
   "source": [
    "Mind the units of the values. "
   ]
  },
  {
   "cell_type": "code",
   "execution_count": 58,
   "metadata": {},
   "outputs": [
    {
     "data": {
      "text/plain": [
       "array(['mg/l'], dtype=object)"
      ]
     },
     "execution_count": 58,
     "metadata": {},
     "output_type": "execute_result"
    }
   ],
   "source": [
    "df_selected.eenheid.unique()"
   ]
  },
  {
   "cell_type": "markdown",
   "metadata": {},
   "source": [
    "As such, the iron content of the considered hydrogeological layer is on average 1.5 mg/L with a stdev of 1.97 mg/L. This is most likely above the standars for use as irrigation water (see this [link](https://lv.vlaanderen.be/nl/voorlichting-info/publicaties/praktijkgidsen/water/duurzaam-watergebruik-de-openluchtgroenteteelt-3#chemische))."
   ]
  },
  {
   "cell_type": "code",
   "execution_count": null,
   "metadata": {},
   "outputs": [],
   "source": []
  }
 ],
 "metadata": {
  "kernelspec": {
   "display_name": "Python 3",
   "language": "python",
   "name": "python3"
  },
  "language_info": {
   "codemirror_mode": {
    "name": "ipython",
    "version": 3
   },
   "file_extension": ".py",
   "mimetype": "text/x-python",
   "name": "python",
   "nbconvert_exporter": "python",
   "pygments_lexer": "ipython3",
   "version": "3.7.6"
  }
 },
 "nbformat": 4,
 "nbformat_minor": 4
}
