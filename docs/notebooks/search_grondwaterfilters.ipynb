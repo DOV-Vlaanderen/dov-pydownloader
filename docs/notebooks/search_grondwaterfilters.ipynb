{
 "cells": [
  {
   "cell_type": "markdown",
   "metadata": {},
   "source": [
    "# Example of DOV search methods for groundwater screens (grondwaterfilters)\n"
   ]
  },
  {
   "cell_type": "markdown",
   "metadata": {},
   "source": [
    "## Use cases:\n",
    "* Get groundwater screens in a bounding box\n",
    "* Get groundwater screens with specific properties\n",
    "* Get the coordinates of all groundwater screens in Ghent\n",
    "* Get the 'meetnet' and 'meetnet_code' for groundwater screens in Boortmeerbeek\n",
    "* Get all details of groundwaterscreens of 'meetnet 9' within the given bounding box\n",
    "* Get groundwater screens based on a combination of specific properties"
   ]
  },
  {
   "cell_type": "code",
   "execution_count": 1,
   "metadata": {
    "collapsed": true
   },
   "outputs": [],
   "source": [
    "%matplotlib inline\n",
    "import inspect, sys"
   ]
  },
  {
   "cell_type": "code",
   "execution_count": 2,
   "metadata": {
    "collapsed": true
   },
   "outputs": [],
   "source": [
    "# check pydov path\n",
    "import pydov"
   ]
  },
  {
   "cell_type": "markdown",
   "metadata": {},
   "source": [
    "## Get information about the datatype 'GrondwaterFilter'"
   ]
  },
  {
   "cell_type": "code",
   "execution_count": 3,
   "metadata": {
    "collapsed": true
   },
   "outputs": [],
   "source": [
    "from pydov.search.grondwaterfilter import GrondwaterFilterSearch\n",
    "gwfilter = GrondwaterFilterSearch()"
   ]
  },
  {
   "cell_type": "markdown",
   "metadata": {},
   "source": [
    "A description is provided for the 'GrondwaterFilter' datatype:"
   ]
  },
  {
   "cell_type": "code",
   "execution_count": 4,
   "metadata": {},
   "outputs": [
    {
     "data": {
      "text/plain": [
       "u'In de Databank Ondergrond Vlaanderen zijn verschillende grondwatermeetnetten opgenomen. Deze meetnetten staan in functie van uitgebreide monitoringprogramma\\u2019s met de bedoeling een goed beeld te krijgen van de beschikbare grondwaterkwantiteit en grondwaterkwaliteit van de watervoerende lagen in Vlaanderen.'"
      ]
     },
     "execution_count": 4,
     "metadata": {},
     "output_type": "execute_result"
    }
   ],
   "source": [
    "gwfilter.get_description()"
   ]
  },
  {
   "cell_type": "markdown",
   "metadata": {},
   "source": [
    "The different fields that are available for objects of the 'GrondwaterFilter' datatype can be requested with the get_fields() method:"
   ]
  },
  {
   "cell_type": "code",
   "execution_count": 5,
   "metadata": {},
   "outputs": [
    {
     "name": "stdout",
     "output_type": "stream",
     "text": [
      "betrouwbaarheid\n",
      "boringfiche\n",
      "grondwaterlichaam_code\n",
      "gw_id\n",
      "namen\n",
      "peilmetingen_van\n",
      "datum\n",
      "aquifer\n",
      "kwaliteitsmetingen_tot\n",
      "methode\n",
      "kwaliteitsmetingen_van\n",
      "filtergrafiek\n",
      "tijdstip\n",
      "regime\n",
      "filtertoestand\n",
      "meetnet_code\n",
      "beheerder\n",
      "stijghoogterapport\n",
      "filtertype\n",
      "datum_in_filter\n",
      "grondwaterlichaam\n",
      "putsoort\n",
      "filternummer\n",
      "diepte_onderkant_filter\n",
      "pkey_filter\n",
      "putgrafiek\n",
      "datum_uit_filter\n",
      "filterstatus\n",
      "recentste_exploitant\n",
      "meetnet\n",
      "peilmetingen_tot\n",
      "gemeente\n",
      "generated_id\n",
      "pkey_grondwaterlocatie\n",
      "peil_mtaw\n",
      "lengte_filter\n",
      "analyserapport\n",
      "mv_mtaw\n",
      "y\n",
      "x\n",
      "aquifer_code\n",
      "boornummer\n"
     ]
    }
   ],
   "source": [
    "fields = gwfilter.get_fields()\n",
    "\n",
    "# print available fields\n",
    "for f in fields.values():\n",
    "    print(f['name'])"
   ]
  },
  {
   "cell_type": "markdown",
   "metadata": {},
   "source": [
    "You can get more information of a field by requesting it from the fields dictionary:\n",
    "* *name*: name of the field\n",
    "* *definition*: definition of this field\n",
    "* *cost*: currently this is either 1 or 10, depending on the datasource of the field. It is an indication of the expected time it will take to retrieve this field in the output dataframe.\n",
    "* *notnull*: whether the field is mandatory or not\n",
    "* *type*: datatype of the values of this field"
   ]
  },
  {
   "cell_type": "code",
   "execution_count": 6,
   "metadata": {},
   "outputs": [
    {
     "data": {
      "text/plain": [
       "{'cost': 1,\n",
       " 'definition': 'De aquifer waarin de filter hangt. Als tekst, opgebouwd uit de HCOV code (vier karakters) en de naam gescheiden door \" - \"',\n",
       " 'name': 'aquifer',\n",
       " 'notnull': True,\n",
       " 'query': True,\n",
       " 'type': 'string'}"
      ]
     },
     "execution_count": 6,
     "metadata": {},
     "output_type": "execute_result"
    }
   ],
   "source": [
    "# print information for a certain field\n",
    "fields['aquifer']"
   ]
  },
  {
   "cell_type": "markdown",
   "metadata": {},
   "source": [
    "Optionally, if the values of the field have a specific domain the possible values are listed as *values*:"
   ]
  },
  {
   "cell_type": "code",
   "execution_count": 7,
   "metadata": {},
   "outputs": [
    {
     "data": {
      "text/plain": [
       "{'batterijput': None,\n",
       " 'bodemlus': None,\n",
       " 'bron, natuurlijke holte': None,\n",
       " 'bronbemaling': None,\n",
       " 'draineringsinrichting': None,\n",
       " 'galerij': None,\n",
       " 'graverij, mijn, groeve': None,\n",
       " 'installatie': None,\n",
       " 'niet-verbuisde boorput': None,\n",
       " 'onbekend': None,\n",
       " 'ring- of steenput': None,\n",
       " 'verbuisde boorput': None,\n",
       " 'vijver': None}"
      ]
     },
     "execution_count": 7,
     "metadata": {},
     "output_type": "execute_result"
    }
   ],
   "source": [
    "# if an attribute can have several values, these are listed under 'values', e.g. for 'putsoort':\n",
    "fields['putsoort']['values']"
   ]
  },
  {
   "cell_type": "markdown",
   "metadata": {},
   "source": [
    "## Example use cases"
   ]
  },
  {
   "cell_type": "markdown",
   "metadata": {},
   "source": [
    "### Get groundwater screens in a bounding box"
   ]
  },
  {
   "cell_type": "markdown",
   "metadata": {},
   "source": [
    "Get data for all the groundwater screens that are geographically located within the bounds of the specified box.\n",
    "\n",
    "The coordinates are in the Belgian Lambert72 (EPSG:31370) coordinate system and are given in the order of lower left x, lower left y, upper right x, upper right y."
   ]
  },
  {
   "cell_type": "code",
   "execution_count": 8,
   "metadata": {},
   "outputs": [
    {
     "name": "stdout",
     "output_type": "stream",
     "text": [
      "[000/026] cccccccccccccccccccccccccc\n"
     ]
    },
    {
     "data": {
      "text/html": [
       "<div>\n",
       "<style scoped>\n",
       "    .dataframe tbody tr th:only-of-type {\n",
       "        vertical-align: middle;\n",
       "    }\n",
       "\n",
       "    .dataframe tbody tr th {\n",
       "        vertical-align: top;\n",
       "    }\n",
       "\n",
       "    .dataframe thead th {\n",
       "        text-align: right;\n",
       "    }\n",
       "</style>\n",
       "<table border=\"1\" class=\"dataframe\">\n",
       "  <thead>\n",
       "    <tr style=\"text-align: right;\">\n",
       "      <th></th>\n",
       "      <th>pkey_filter</th>\n",
       "      <th>pkey_grondwaterlocatie</th>\n",
       "      <th>gw_id</th>\n",
       "      <th>filternummer</th>\n",
       "      <th>filtertype</th>\n",
       "      <th>x</th>\n",
       "      <th>y</th>\n",
       "      <th>mv_mtaw</th>\n",
       "      <th>gemeente</th>\n",
       "      <th>meetnet_code</th>\n",
       "      <th>...</th>\n",
       "      <th>regime</th>\n",
       "      <th>diepte_onderkant_filter</th>\n",
       "      <th>lengte_filter</th>\n",
       "      <th>datum</th>\n",
       "      <th>tijdstip</th>\n",
       "      <th>peil_mtaw</th>\n",
       "      <th>betrouwbaarheid</th>\n",
       "      <th>methode</th>\n",
       "      <th>filterstatus</th>\n",
       "      <th>filtertoestand</th>\n",
       "    </tr>\n",
       "  </thead>\n",
       "  <tbody>\n",
       "    <tr>\n",
       "      <th>0</th>\n",
       "      <td>https://www.dov.vlaanderen.be/data/filter/1999...</td>\n",
       "      <td>https://www.dov.vlaanderen.be/data/put/2018-00...</td>\n",
       "      <td>SWPP006</td>\n",
       "      <td>1</td>\n",
       "      <td>peilfilter</td>\n",
       "      <td>94147.0</td>\n",
       "      <td>169582.0</td>\n",
       "      <td>9.4</td>\n",
       "      <td>Wortegem-Petegem</td>\n",
       "      <td>9</td>\n",
       "      <td>...</td>\n",
       "      <td>onbekend</td>\n",
       "      <td>NaN</td>\n",
       "      <td>NaN</td>\n",
       "      <td>1999-04-13</td>\n",
       "      <td>NaN</td>\n",
       "      <td>9.22</td>\n",
       "      <td>onbekend</td>\n",
       "      <td>peillint</td>\n",
       "      <td>onbekend</td>\n",
       "      <td>1.0</td>\n",
       "    </tr>\n",
       "    <tr>\n",
       "      <th>1</th>\n",
       "      <td>https://www.dov.vlaanderen.be/data/filter/1999...</td>\n",
       "      <td>https://www.dov.vlaanderen.be/data/put/2018-00...</td>\n",
       "      <td>SWPP006</td>\n",
       "      <td>1</td>\n",
       "      <td>peilfilter</td>\n",
       "      <td>94147.0</td>\n",
       "      <td>169582.0</td>\n",
       "      <td>9.4</td>\n",
       "      <td>Wortegem-Petegem</td>\n",
       "      <td>9</td>\n",
       "      <td>...</td>\n",
       "      <td>onbekend</td>\n",
       "      <td>NaN</td>\n",
       "      <td>NaN</td>\n",
       "      <td>1999-04-14</td>\n",
       "      <td>NaN</td>\n",
       "      <td>9.41</td>\n",
       "      <td>onbekend</td>\n",
       "      <td>peillint</td>\n",
       "      <td>onbekend</td>\n",
       "      <td>1.0</td>\n",
       "    </tr>\n",
       "    <tr>\n",
       "      <th>2</th>\n",
       "      <td>https://www.dov.vlaanderen.be/data/filter/1999...</td>\n",
       "      <td>https://www.dov.vlaanderen.be/data/put/2018-00...</td>\n",
       "      <td>SWPP006</td>\n",
       "      <td>1</td>\n",
       "      <td>peilfilter</td>\n",
       "      <td>94147.0</td>\n",
       "      <td>169582.0</td>\n",
       "      <td>9.4</td>\n",
       "      <td>Wortegem-Petegem</td>\n",
       "      <td>9</td>\n",
       "      <td>...</td>\n",
       "      <td>onbekend</td>\n",
       "      <td>NaN</td>\n",
       "      <td>NaN</td>\n",
       "      <td>1999-04-22</td>\n",
       "      <td>NaN</td>\n",
       "      <td>9.29</td>\n",
       "      <td>onbekend</td>\n",
       "      <td>peillint</td>\n",
       "      <td>onbekend</td>\n",
       "      <td>1.0</td>\n",
       "    </tr>\n",
       "    <tr>\n",
       "      <th>3</th>\n",
       "      <td>https://www.dov.vlaanderen.be/data/filter/1999...</td>\n",
       "      <td>https://www.dov.vlaanderen.be/data/put/2018-00...</td>\n",
       "      <td>SWPP006</td>\n",
       "      <td>1</td>\n",
       "      <td>peilfilter</td>\n",
       "      <td>94147.0</td>\n",
       "      <td>169582.0</td>\n",
       "      <td>9.4</td>\n",
       "      <td>Wortegem-Petegem</td>\n",
       "      <td>9</td>\n",
       "      <td>...</td>\n",
       "      <td>onbekend</td>\n",
       "      <td>NaN</td>\n",
       "      <td>NaN</td>\n",
       "      <td>1999-05-06</td>\n",
       "      <td>NaN</td>\n",
       "      <td>9.11</td>\n",
       "      <td>onbekend</td>\n",
       "      <td>peillint</td>\n",
       "      <td>onbekend</td>\n",
       "      <td>1.0</td>\n",
       "    </tr>\n",
       "    <tr>\n",
       "      <th>4</th>\n",
       "      <td>https://www.dov.vlaanderen.be/data/filter/1999...</td>\n",
       "      <td>https://www.dov.vlaanderen.be/data/put/2018-00...</td>\n",
       "      <td>SWPP006</td>\n",
       "      <td>1</td>\n",
       "      <td>peilfilter</td>\n",
       "      <td>94147.0</td>\n",
       "      <td>169582.0</td>\n",
       "      <td>9.4</td>\n",
       "      <td>Wortegem-Petegem</td>\n",
       "      <td>9</td>\n",
       "      <td>...</td>\n",
       "      <td>onbekend</td>\n",
       "      <td>NaN</td>\n",
       "      <td>NaN</td>\n",
       "      <td>1999-05-18</td>\n",
       "      <td>NaN</td>\n",
       "      <td>9.01</td>\n",
       "      <td>onbekend</td>\n",
       "      <td>peillint</td>\n",
       "      <td>onbekend</td>\n",
       "      <td>1.0</td>\n",
       "    </tr>\n",
       "  </tbody>\n",
       "</table>\n",
       "<p>5 rows × 22 columns</p>\n",
       "</div>"
      ],
      "text/plain": [
       "                                         pkey_filter  \\\n",
       "0  https://www.dov.vlaanderen.be/data/filter/1999...   \n",
       "1  https://www.dov.vlaanderen.be/data/filter/1999...   \n",
       "2  https://www.dov.vlaanderen.be/data/filter/1999...   \n",
       "3  https://www.dov.vlaanderen.be/data/filter/1999...   \n",
       "4  https://www.dov.vlaanderen.be/data/filter/1999...   \n",
       "\n",
       "                              pkey_grondwaterlocatie    gw_id filternummer  \\\n",
       "0  https://www.dov.vlaanderen.be/data/put/2018-00...  SWPP006            1   \n",
       "1  https://www.dov.vlaanderen.be/data/put/2018-00...  SWPP006            1   \n",
       "2  https://www.dov.vlaanderen.be/data/put/2018-00...  SWPP006            1   \n",
       "3  https://www.dov.vlaanderen.be/data/put/2018-00...  SWPP006            1   \n",
       "4  https://www.dov.vlaanderen.be/data/put/2018-00...  SWPP006            1   \n",
       "\n",
       "   filtertype        x         y  mv_mtaw          gemeente  meetnet_code  \\\n",
       "0  peilfilter  94147.0  169582.0      9.4  Wortegem-Petegem             9   \n",
       "1  peilfilter  94147.0  169582.0      9.4  Wortegem-Petegem             9   \n",
       "2  peilfilter  94147.0  169582.0      9.4  Wortegem-Petegem             9   \n",
       "3  peilfilter  94147.0  169582.0      9.4  Wortegem-Petegem             9   \n",
       "4  peilfilter  94147.0  169582.0      9.4  Wortegem-Petegem             9   \n",
       "\n",
       "       ...          regime  diepte_onderkant_filter lengte_filter       datum  \\\n",
       "0      ...        onbekend                      NaN           NaN  1999-04-13   \n",
       "1      ...        onbekend                      NaN           NaN  1999-04-14   \n",
       "2      ...        onbekend                      NaN           NaN  1999-04-22   \n",
       "3      ...        onbekend                      NaN           NaN  1999-05-06   \n",
       "4      ...        onbekend                      NaN           NaN  1999-05-18   \n",
       "\n",
       "   tijdstip peil_mtaw  betrouwbaarheid   methode filterstatus filtertoestand  \n",
       "0       NaN      9.22         onbekend  peillint     onbekend            1.0  \n",
       "1       NaN      9.41         onbekend  peillint     onbekend            1.0  \n",
       "2       NaN      9.29         onbekend  peillint     onbekend            1.0  \n",
       "3       NaN      9.11         onbekend  peillint     onbekend            1.0  \n",
       "4       NaN      9.01         onbekend  peillint     onbekend            1.0  \n",
       "\n",
       "[5 rows x 22 columns]"
      ]
     },
     "execution_count": 8,
     "metadata": {},
     "output_type": "execute_result"
    }
   ],
   "source": [
    "from pydov.util.location import Within, Box\n",
    "\n",
    "df = gwfilter.search(location=Within(Box(93378, 168009, 94246, 169873)))\n",
    "df.head()"
   ]
  },
  {
   "cell_type": "markdown",
   "metadata": {},
   "source": [
    "Using the *pkey* attributes one can request the details of the corresponding *put* or *filter* in a webbrowser:"
   ]
  },
  {
   "cell_type": "code",
   "execution_count": 9,
   "metadata": {},
   "outputs": [
    {
     "name": "stdout",
     "output_type": "stream",
     "text": [
      "https://www.dov.vlaanderen.be/data/put/2019-019725\n",
      "https://www.dov.vlaanderen.be/data/put/2018-007292\n",
      "https://www.dov.vlaanderen.be/data/put/2018-007293\n",
      "https://www.dov.vlaanderen.be/data/put/2018-007290\n",
      "https://www.dov.vlaanderen.be/data/put/2018-007291\n",
      "https://www.dov.vlaanderen.be/data/put/2018-007296\n",
      "https://www.dov.vlaanderen.be/data/put/2018-007294\n",
      "https://www.dov.vlaanderen.be/data/put/2018-007295\n",
      "https://www.dov.vlaanderen.be/data/put/2018-007299\n",
      "https://www.dov.vlaanderen.be/data/put/2018-007313\n",
      "https://www.dov.vlaanderen.be/data/put/2018-007312\n",
      "https://www.dov.vlaanderen.be/data/put/2018-007311\n",
      "https://www.dov.vlaanderen.be/data/put/2018-007310\n",
      "https://www.dov.vlaanderen.be/data/put/2017-002867\n",
      "https://www.dov.vlaanderen.be/data/put/2017-002866\n",
      "https://www.dov.vlaanderen.be/data/put/2018-007285\n",
      "https://www.dov.vlaanderen.be/data/put/2019-020544\n",
      "https://www.dov.vlaanderen.be/data/put/2018-007287\n",
      "https://www.dov.vlaanderen.be/data/put/2018-007286\n",
      "https://www.dov.vlaanderen.be/data/put/2018-007289\n",
      "https://www.dov.vlaanderen.be/data/put/2018-007288\n",
      "https://www.dov.vlaanderen.be/data/put/2017-002868\n",
      "https://www.dov.vlaanderen.be/data/put/2018-007300\n",
      "https://www.dov.vlaanderen.be/data/put/2018-007304\n",
      "https://www.dov.vlaanderen.be/data/put/2018-007305\n",
      "https://www.dov.vlaanderen.be/data/put/2018-007307\n",
      "https://www.dov.vlaanderen.be/data/filter/2007-011019\n",
      "https://www.dov.vlaanderen.be/data/filter/2007-011018\n",
      "https://www.dov.vlaanderen.be/data/filter/1999-011012\n",
      "https://www.dov.vlaanderen.be/data/filter/1999-011013\n",
      "https://www.dov.vlaanderen.be/data/filter/1999-011010\n",
      "https://www.dov.vlaanderen.be/data/filter/1999-011011\n",
      "https://www.dov.vlaanderen.be/data/filter/1999-011014\n",
      "https://www.dov.vlaanderen.be/data/filter/1999-011015\n",
      "https://www.dov.vlaanderen.be/data/filter/1999-011030\n",
      "https://www.dov.vlaanderen.be/data/filter/1999-011031\n",
      "https://www.dov.vlaanderen.be/data/filter/1995-061303\n",
      "https://www.dov.vlaanderen.be/data/filter/1999-011007\n",
      "https://www.dov.vlaanderen.be/data/filter/2009-011026\n",
      "https://www.dov.vlaanderen.be/data/filter/2007-011023\n",
      "https://www.dov.vlaanderen.be/data/filter/2007-011024\n",
      "https://www.dov.vlaanderen.be/data/filter/1991-062098\n",
      "https://www.dov.vlaanderen.be/data/filter/1999-011032\n",
      "https://www.dov.vlaanderen.be/data/filter/1999-000605\n",
      "https://www.dov.vlaanderen.be/data/filter/1999-000607\n",
      "https://www.dov.vlaanderen.be/data/filter/1999-000606\n",
      "https://www.dov.vlaanderen.be/data/filter/1999-011005\n",
      "https://www.dov.vlaanderen.be/data/filter/1999-011004\n",
      "https://www.dov.vlaanderen.be/data/filter/1999-011029\n",
      "https://www.dov.vlaanderen.be/data/filter/1999-011006\n",
      "https://www.dov.vlaanderen.be/data/filter/1999-011009\n",
      "https://www.dov.vlaanderen.be/data/filter/1999-011008\n"
     ]
    }
   ],
   "source": [
    "for pkey_grondwaterlocatie in set(df.pkey_grondwaterlocatie):\n",
    "    print(pkey_grondwaterlocatie)\n",
    "\n",
    "for pkey_filter in set(df.pkey_filter):\n",
    "    print(pkey_filter)"
   ]
  },
  {
   "cell_type": "markdown",
   "metadata": {},
   "source": [
    "### Get groundwater screens with specific properties"
   ]
  },
  {
   "cell_type": "markdown",
   "metadata": {},
   "source": [
    "Next to querying groundwater screens based on their geographic location within a bounding box, we can also search for groundwater screens matching a specific set of properties. For this we can build a query using a combination of the 'GrondwaterFilter' fields and operators provided by the WFS protocol.\n",
    "\n",
    "A list of possible operators can be found below:"
   ]
  },
  {
   "cell_type": "code",
   "execution_count": 10,
   "metadata": {},
   "outputs": [
    {
     "data": {
      "text/plain": [
       "['PropertyIsBetween',\n",
       " 'PropertyIsEqualTo',\n",
       " 'PropertyIsGreaterThan',\n",
       " 'PropertyIsGreaterThanOrEqualTo',\n",
       " 'PropertyIsLessThan',\n",
       " 'PropertyIsLessThanOrEqualTo',\n",
       " 'PropertyIsLike',\n",
       " 'PropertyIsNotEqualTo',\n",
       " 'PropertyIsNull',\n",
       " 'SortProperty']"
      ]
     },
     "execution_count": 10,
     "metadata": {},
     "output_type": "execute_result"
    }
   ],
   "source": [
    "[i for i,j in inspect.getmembers(sys.modules['owslib.fes'], inspect.isclass) if 'Property' in i]"
   ]
  },
  {
   "cell_type": "markdown",
   "metadata": {},
   "source": [
    "In this example we build a query using the *PropertyIsEqualTo* operator to find all groundwater screens that are within the community (gemeente) of 'Hamme':"
   ]
  },
  {
   "cell_type": "code",
   "execution_count": 11,
   "metadata": {},
   "outputs": [
    {
     "name": "stdout",
     "output_type": "stream",
     "text": [
      "[000/002] cc\n"
     ]
    },
    {
     "data": {
      "text/html": [
       "<div>\n",
       "<style scoped>\n",
       "    .dataframe tbody tr th:only-of-type {\n",
       "        vertical-align: middle;\n",
       "    }\n",
       "\n",
       "    .dataframe tbody tr th {\n",
       "        vertical-align: top;\n",
       "    }\n",
       "\n",
       "    .dataframe thead th {\n",
       "        text-align: right;\n",
       "    }\n",
       "</style>\n",
       "<table border=\"1\" class=\"dataframe\">\n",
       "  <thead>\n",
       "    <tr style=\"text-align: right;\">\n",
       "      <th></th>\n",
       "      <th>pkey_filter</th>\n",
       "      <th>pkey_grondwaterlocatie</th>\n",
       "      <th>gw_id</th>\n",
       "      <th>filternummer</th>\n",
       "      <th>filtertype</th>\n",
       "      <th>x</th>\n",
       "      <th>y</th>\n",
       "      <th>mv_mtaw</th>\n",
       "      <th>gemeente</th>\n",
       "      <th>meetnet_code</th>\n",
       "      <th>...</th>\n",
       "      <th>regime</th>\n",
       "      <th>diepte_onderkant_filter</th>\n",
       "      <th>lengte_filter</th>\n",
       "      <th>datum</th>\n",
       "      <th>tijdstip</th>\n",
       "      <th>peil_mtaw</th>\n",
       "      <th>betrouwbaarheid</th>\n",
       "      <th>methode</th>\n",
       "      <th>filterstatus</th>\n",
       "      <th>filtertoestand</th>\n",
       "    </tr>\n",
       "  </thead>\n",
       "  <tbody>\n",
       "    <tr>\n",
       "      <th>0</th>\n",
       "      <td>https://www.dov.vlaanderen.be/data/filter/1993...</td>\n",
       "      <td>https://www.dov.vlaanderen.be/data/put/2019-02...</td>\n",
       "      <td>7-001016</td>\n",
       "      <td>1</td>\n",
       "      <td>pompfilter</td>\n",
       "      <td>224798.0</td>\n",
       "      <td>157819.0</td>\n",
       "      <td>130.8</td>\n",
       "      <td>Herstappe</td>\n",
       "      <td>7</td>\n",
       "      <td>...</td>\n",
       "      <td>freatisch</td>\n",
       "      <td>45.0</td>\n",
       "      <td>5.0</td>\n",
       "      <td>NaN</td>\n",
       "      <td>NaN</td>\n",
       "      <td>NaN</td>\n",
       "      <td>NaN</td>\n",
       "      <td>NaN</td>\n",
       "      <td>NaN</td>\n",
       "      <td>NaN</td>\n",
       "    </tr>\n",
       "    <tr>\n",
       "      <th>1</th>\n",
       "      <td>https://www.dov.vlaanderen.be/data/filter/1900...</td>\n",
       "      <td>https://www.dov.vlaanderen.be/data/put/2019-05...</td>\n",
       "      <td>7-97027</td>\n",
       "      <td>1</td>\n",
       "      <td>pompfilter</td>\n",
       "      <td>224843.0</td>\n",
       "      <td>157842.0</td>\n",
       "      <td>-1.0</td>\n",
       "      <td>Herstappe</td>\n",
       "      <td>7</td>\n",
       "      <td>...</td>\n",
       "      <td>onbekend</td>\n",
       "      <td>NaN</td>\n",
       "      <td>NaN</td>\n",
       "      <td>NaN</td>\n",
       "      <td>NaN</td>\n",
       "      <td>NaN</td>\n",
       "      <td>NaN</td>\n",
       "      <td>NaN</td>\n",
       "      <td>NaN</td>\n",
       "      <td>NaN</td>\n",
       "    </tr>\n",
       "  </tbody>\n",
       "</table>\n",
       "<p>2 rows × 22 columns</p>\n",
       "</div>"
      ],
      "text/plain": [
       "                                         pkey_filter  \\\n",
       "0  https://www.dov.vlaanderen.be/data/filter/1993...   \n",
       "1  https://www.dov.vlaanderen.be/data/filter/1900...   \n",
       "\n",
       "                              pkey_grondwaterlocatie     gw_id filternummer  \\\n",
       "0  https://www.dov.vlaanderen.be/data/put/2019-02...  7-001016            1   \n",
       "1  https://www.dov.vlaanderen.be/data/put/2019-05...   7-97027            1   \n",
       "\n",
       "   filtertype         x         y  mv_mtaw   gemeente  meetnet_code  \\\n",
       "0  pompfilter  224798.0  157819.0    130.8  Herstappe             7   \n",
       "1  pompfilter  224843.0  157842.0     -1.0  Herstappe             7   \n",
       "\n",
       "        ...           regime diepte_onderkant_filter lengte_filter  datum  \\\n",
       "0       ...        freatisch                    45.0           5.0    NaN   \n",
       "1       ...         onbekend                     NaN           NaN    NaN   \n",
       "\n",
       "   tijdstip  peil_mtaw  betrouwbaarheid  methode  filterstatus  filtertoestand  \n",
       "0       NaN        NaN              NaN      NaN           NaN             NaN  \n",
       "1       NaN        NaN              NaN      NaN           NaN             NaN  \n",
       "\n",
       "[2 rows x 22 columns]"
      ]
     },
     "execution_count": 11,
     "metadata": {},
     "output_type": "execute_result"
    }
   ],
   "source": [
    "from owslib.fes import PropertyIsEqualTo\n",
    "\n",
    "query = PropertyIsEqualTo(\n",
    "            propertyname='gemeente',\n",
    "            literal='Herstappe')\n",
    "\n",
    "df = gwfilter.search(query=query)\n",
    "df.head()"
   ]
  },
  {
   "cell_type": "markdown",
   "metadata": {},
   "source": [
    "Once again we can use the *pkey_filter* as a permanent link to the information of the groundwater screens:"
   ]
  },
  {
   "cell_type": "code",
   "execution_count": 12,
   "metadata": {},
   "outputs": [
    {
     "name": "stdout",
     "output_type": "stream",
     "text": [
      "https://www.dov.vlaanderen.be/data/filter/1900-050992\n",
      "https://www.dov.vlaanderen.be/data/filter/1993-065801\n"
     ]
    }
   ],
   "source": [
    "for pkey_filter in set(df.pkey_filter):\n",
    "    print(pkey_filter)"
   ]
  },
  {
   "cell_type": "markdown",
   "metadata": {},
   "source": [
    "### Get the coordinates of all groundwater screens in Ghent"
   ]
  },
  {
   "cell_type": "code",
   "execution_count": 13,
   "metadata": {},
   "outputs": [
    {
     "data": {
      "text/html": [
       "<div>\n",
       "<style scoped>\n",
       "    .dataframe tbody tr th:only-of-type {\n",
       "        vertical-align: middle;\n",
       "    }\n",
       "\n",
       "    .dataframe tbody tr th {\n",
       "        vertical-align: top;\n",
       "    }\n",
       "\n",
       "    .dataframe thead th {\n",
       "        text-align: right;\n",
       "    }\n",
       "</style>\n",
       "<table border=\"1\" class=\"dataframe\">\n",
       "  <thead>\n",
       "    <tr style=\"text-align: right;\">\n",
       "      <th></th>\n",
       "      <th>pkey_filter</th>\n",
       "      <th>x</th>\n",
       "      <th>y</th>\n",
       "      <th>meetnet</th>\n",
       "    </tr>\n",
       "  </thead>\n",
       "  <tbody>\n",
       "    <tr>\n",
       "      <th>0</th>\n",
       "      <td>https://www.dov.vlaanderen.be/data/filter/1999...</td>\n",
       "      <td>98347.0</td>\n",
       "      <td>191821.0</td>\n",
       "      <td>meetnet 9 - peilputten INBO en natuurorganisaties</td>\n",
       "    </tr>\n",
       "    <tr>\n",
       "      <th>1</th>\n",
       "      <td>https://www.dov.vlaanderen.be/data/filter/1999...</td>\n",
       "      <td>98514.0</td>\n",
       "      <td>191518.0</td>\n",
       "      <td>meetnet 9 - peilputten INBO en natuurorganisaties</td>\n",
       "    </tr>\n",
       "    <tr>\n",
       "      <th>2</th>\n",
       "      <td>https://www.dov.vlaanderen.be/data/filter/1999...</td>\n",
       "      <td>98630.0</td>\n",
       "      <td>191301.0</td>\n",
       "      <td>meetnet 9 - peilputten INBO en natuurorganisaties</td>\n",
       "    </tr>\n",
       "    <tr>\n",
       "      <th>3</th>\n",
       "      <td>https://www.dov.vlaanderen.be/data/filter/1999...</td>\n",
       "      <td>99017.0</td>\n",
       "      <td>191447.0</td>\n",
       "      <td>meetnet 9 - peilputten INBO en natuurorganisaties</td>\n",
       "    </tr>\n",
       "    <tr>\n",
       "      <th>4</th>\n",
       "      <td>https://www.dov.vlaanderen.be/data/filter/1999...</td>\n",
       "      <td>99104.0</td>\n",
       "      <td>191412.0</td>\n",
       "      <td>meetnet 9 - peilputten INBO en natuurorganisaties</td>\n",
       "    </tr>\n",
       "  </tbody>\n",
       "</table>\n",
       "</div>"
      ],
      "text/plain": [
       "                                         pkey_filter        x         y  \\\n",
       "0  https://www.dov.vlaanderen.be/data/filter/1999...  98347.0  191821.0   \n",
       "1  https://www.dov.vlaanderen.be/data/filter/1999...  98514.0  191518.0   \n",
       "2  https://www.dov.vlaanderen.be/data/filter/1999...  98630.0  191301.0   \n",
       "3  https://www.dov.vlaanderen.be/data/filter/1999...  99017.0  191447.0   \n",
       "4  https://www.dov.vlaanderen.be/data/filter/1999...  99104.0  191412.0   \n",
       "\n",
       "                                             meetnet  \n",
       "0  meetnet 9 - peilputten INBO en natuurorganisaties  \n",
       "1  meetnet 9 - peilputten INBO en natuurorganisaties  \n",
       "2  meetnet 9 - peilputten INBO en natuurorganisaties  \n",
       "3  meetnet 9 - peilputten INBO en natuurorganisaties  \n",
       "4  meetnet 9 - peilputten INBO en natuurorganisaties  "
      ]
     },
     "execution_count": 13,
     "metadata": {},
     "output_type": "execute_result"
    }
   ],
   "source": [
    "query = PropertyIsEqualTo(propertyname='gemeente',\n",
    "                          literal='Gent')\n",
    "\n",
    "df = gwfilter.search(query=query,\n",
    "                     return_fields=('pkey_filter', 'x', 'y', 'meetnet'))\n",
    "df.head()"
   ]
  },
  {
   "cell_type": "markdown",
   "metadata": {},
   "source": [
    "### Get the 'meetnet' and 'meetnet_code' for groundwater screens in Boortmeerbeek"
   ]
  },
  {
   "cell_type": "code",
   "execution_count": 14,
   "metadata": {},
   "outputs": [
    {
     "name": "stdout",
     "output_type": "stream",
     "text": [
      "[000/050] cccccccccccccccccccccccccccccccccccccccccccccccccc\n"
     ]
    },
    {
     "data": {
      "text/html": [
       "<div>\n",
       "<style scoped>\n",
       "    .dataframe tbody tr th:only-of-type {\n",
       "        vertical-align: middle;\n",
       "    }\n",
       "\n",
       "    .dataframe tbody tr th {\n",
       "        vertical-align: top;\n",
       "    }\n",
       "\n",
       "    .dataframe thead th {\n",
       "        text-align: right;\n",
       "    }\n",
       "</style>\n",
       "<table border=\"1\" class=\"dataframe\">\n",
       "  <thead>\n",
       "    <tr style=\"text-align: right;\">\n",
       "      <th></th>\n",
       "      <th>pkey_filter</th>\n",
       "      <th>meetnet_code</th>\n",
       "      <th>meetnet</th>\n",
       "    </tr>\n",
       "  </thead>\n",
       "  <tbody>\n",
       "    <tr>\n",
       "      <th>0</th>\n",
       "      <td>https://www.dov.vlaanderen.be/data/filter/2018...</td>\n",
       "      <td>7</td>\n",
       "      <td>meetnet 7 - winningsputten</td>\n",
       "    </tr>\n",
       "    <tr>\n",
       "      <th>1</th>\n",
       "      <td>https://www.dov.vlaanderen.be/data/filter/1976...</td>\n",
       "      <td>7</td>\n",
       "      <td>meetnet 7 - winningsputten</td>\n",
       "    </tr>\n",
       "    <tr>\n",
       "      <th>2</th>\n",
       "      <td>https://www.dov.vlaanderen.be/data/filter/1981...</td>\n",
       "      <td>7</td>\n",
       "      <td>meetnet 7 - winningsputten</td>\n",
       "    </tr>\n",
       "    <tr>\n",
       "      <th>3</th>\n",
       "      <td>https://www.dov.vlaanderen.be/data/filter/1980...</td>\n",
       "      <td>7</td>\n",
       "      <td>meetnet 7 - winningsputten</td>\n",
       "    </tr>\n",
       "    <tr>\n",
       "      <th>4</th>\n",
       "      <td>https://www.dov.vlaanderen.be/data/filter/1980...</td>\n",
       "      <td>7</td>\n",
       "      <td>meetnet 7 - winningsputten</td>\n",
       "    </tr>\n",
       "  </tbody>\n",
       "</table>\n",
       "</div>"
      ],
      "text/plain": [
       "                                         pkey_filter  meetnet_code  \\\n",
       "0  https://www.dov.vlaanderen.be/data/filter/2018...             7   \n",
       "1  https://www.dov.vlaanderen.be/data/filter/1976...             7   \n",
       "2  https://www.dov.vlaanderen.be/data/filter/1981...             7   \n",
       "3  https://www.dov.vlaanderen.be/data/filter/1980...             7   \n",
       "4  https://www.dov.vlaanderen.be/data/filter/1980...             7   \n",
       "\n",
       "                      meetnet  \n",
       "0  meetnet 7 - winningsputten  \n",
       "1  meetnet 7 - winningsputten  \n",
       "2  meetnet 7 - winningsputten  \n",
       "3  meetnet 7 - winningsputten  \n",
       "4  meetnet 7 - winningsputten  "
      ]
     },
     "execution_count": 14,
     "metadata": {},
     "output_type": "execute_result"
    }
   ],
   "source": [
    "query = PropertyIsEqualTo(propertyname='gemeente',\n",
    "                          literal='Boortmeerbeek')\n",
    "\n",
    "df = gwfilter.search(query=query,\n",
    "                   return_fields=('pkey_filter', 'meetnet', 'meetnet_code'))\n",
    "df.head()"
   ]
  },
  {
   "cell_type": "markdown",
   "metadata": {},
   "source": [
    "### Get all details of groundwaterscreens of 'meetnet 9' within the given bounding box"
   ]
  },
  {
   "cell_type": "code",
   "execution_count": 15,
   "metadata": {},
   "outputs": [
    {
     "name": "stdout",
     "output_type": "stream",
     "text": [
      "[000/005] ccccc\n"
     ]
    },
    {
     "data": {
      "text/html": [
       "<div>\n",
       "<style scoped>\n",
       "    .dataframe tbody tr th:only-of-type {\n",
       "        vertical-align: middle;\n",
       "    }\n",
       "\n",
       "    .dataframe tbody tr th {\n",
       "        vertical-align: top;\n",
       "    }\n",
       "\n",
       "    .dataframe thead th {\n",
       "        text-align: right;\n",
       "    }\n",
       "</style>\n",
       "<table border=\"1\" class=\"dataframe\">\n",
       "  <thead>\n",
       "    <tr style=\"text-align: right;\">\n",
       "      <th></th>\n",
       "      <th>pkey_filter</th>\n",
       "      <th>pkey_grondwaterlocatie</th>\n",
       "      <th>gw_id</th>\n",
       "      <th>filternummer</th>\n",
       "      <th>filtertype</th>\n",
       "      <th>x</th>\n",
       "      <th>y</th>\n",
       "      <th>mv_mtaw</th>\n",
       "      <th>gemeente</th>\n",
       "      <th>meetnet_code</th>\n",
       "      <th>...</th>\n",
       "      <th>regime</th>\n",
       "      <th>diepte_onderkant_filter</th>\n",
       "      <th>lengte_filter</th>\n",
       "      <th>datum</th>\n",
       "      <th>tijdstip</th>\n",
       "      <th>peil_mtaw</th>\n",
       "      <th>betrouwbaarheid</th>\n",
       "      <th>methode</th>\n",
       "      <th>filterstatus</th>\n",
       "      <th>filtertoestand</th>\n",
       "    </tr>\n",
       "  </thead>\n",
       "  <tbody>\n",
       "    <tr>\n",
       "      <th>0</th>\n",
       "      <td>https://www.dov.vlaanderen.be/data/filter/1999...</td>\n",
       "      <td>https://www.dov.vlaanderen.be/data/put/2017-00...</td>\n",
       "      <td>WVSP009</td>\n",
       "      <td>1</td>\n",
       "      <td>peilfilter</td>\n",
       "      <td>89720.046875</td>\n",
       "      <td>165712.140625</td>\n",
       "      <td>11.84</td>\n",
       "      <td>Avelgem</td>\n",
       "      <td>9</td>\n",
       "      <td>...</td>\n",
       "      <td>onbekend</td>\n",
       "      <td>5.78</td>\n",
       "      <td>1.0</td>\n",
       "      <td>1999-01-12</td>\n",
       "      <td>NaN</td>\n",
       "      <td>12.20</td>\n",
       "      <td>onbekend</td>\n",
       "      <td>peillint</td>\n",
       "      <td>in rust</td>\n",
       "      <td>1.0</td>\n",
       "    </tr>\n",
       "    <tr>\n",
       "      <th>1</th>\n",
       "      <td>https://www.dov.vlaanderen.be/data/filter/1999...</td>\n",
       "      <td>https://www.dov.vlaanderen.be/data/put/2017-00...</td>\n",
       "      <td>WVSP009</td>\n",
       "      <td>1</td>\n",
       "      <td>peilfilter</td>\n",
       "      <td>89720.046875</td>\n",
       "      <td>165712.140625</td>\n",
       "      <td>11.84</td>\n",
       "      <td>Avelgem</td>\n",
       "      <td>9</td>\n",
       "      <td>...</td>\n",
       "      <td>onbekend</td>\n",
       "      <td>5.78</td>\n",
       "      <td>1.0</td>\n",
       "      <td>1999-01-21</td>\n",
       "      <td>NaN</td>\n",
       "      <td>12.26</td>\n",
       "      <td>onbekend</td>\n",
       "      <td>peillint</td>\n",
       "      <td>in rust</td>\n",
       "      <td>1.0</td>\n",
       "    </tr>\n",
       "    <tr>\n",
       "      <th>2</th>\n",
       "      <td>https://www.dov.vlaanderen.be/data/filter/1999...</td>\n",
       "      <td>https://www.dov.vlaanderen.be/data/put/2017-00...</td>\n",
       "      <td>WVSP009</td>\n",
       "      <td>1</td>\n",
       "      <td>peilfilter</td>\n",
       "      <td>89720.046875</td>\n",
       "      <td>165712.140625</td>\n",
       "      <td>11.84</td>\n",
       "      <td>Avelgem</td>\n",
       "      <td>9</td>\n",
       "      <td>...</td>\n",
       "      <td>onbekend</td>\n",
       "      <td>5.78</td>\n",
       "      <td>1.0</td>\n",
       "      <td>1999-02-01</td>\n",
       "      <td>NaN</td>\n",
       "      <td>12.31</td>\n",
       "      <td>onbekend</td>\n",
       "      <td>peillint</td>\n",
       "      <td>in rust</td>\n",
       "      <td>1.0</td>\n",
       "    </tr>\n",
       "    <tr>\n",
       "      <th>3</th>\n",
       "      <td>https://www.dov.vlaanderen.be/data/filter/1999...</td>\n",
       "      <td>https://www.dov.vlaanderen.be/data/put/2017-00...</td>\n",
       "      <td>WVSP009</td>\n",
       "      <td>1</td>\n",
       "      <td>peilfilter</td>\n",
       "      <td>89720.046875</td>\n",
       "      <td>165712.140625</td>\n",
       "      <td>11.84</td>\n",
       "      <td>Avelgem</td>\n",
       "      <td>9</td>\n",
       "      <td>...</td>\n",
       "      <td>onbekend</td>\n",
       "      <td>5.78</td>\n",
       "      <td>1.0</td>\n",
       "      <td>1999-02-06</td>\n",
       "      <td>NaN</td>\n",
       "      <td>12.29</td>\n",
       "      <td>onbekend</td>\n",
       "      <td>peillint</td>\n",
       "      <td>in rust</td>\n",
       "      <td>1.0</td>\n",
       "    </tr>\n",
       "    <tr>\n",
       "      <th>4</th>\n",
       "      <td>https://www.dov.vlaanderen.be/data/filter/1999...</td>\n",
       "      <td>https://www.dov.vlaanderen.be/data/put/2017-00...</td>\n",
       "      <td>WVSP009</td>\n",
       "      <td>1</td>\n",
       "      <td>peilfilter</td>\n",
       "      <td>89720.046875</td>\n",
       "      <td>165712.140625</td>\n",
       "      <td>11.84</td>\n",
       "      <td>Avelgem</td>\n",
       "      <td>9</td>\n",
       "      <td>...</td>\n",
       "      <td>onbekend</td>\n",
       "      <td>5.78</td>\n",
       "      <td>1.0</td>\n",
       "      <td>1999-02-12</td>\n",
       "      <td>NaN</td>\n",
       "      <td>12.18</td>\n",
       "      <td>onbekend</td>\n",
       "      <td>peillint</td>\n",
       "      <td>in rust</td>\n",
       "      <td>1.0</td>\n",
       "    </tr>\n",
       "  </tbody>\n",
       "</table>\n",
       "<p>5 rows × 22 columns</p>\n",
       "</div>"
      ],
      "text/plain": [
       "                                         pkey_filter  \\\n",
       "0  https://www.dov.vlaanderen.be/data/filter/1999...   \n",
       "1  https://www.dov.vlaanderen.be/data/filter/1999...   \n",
       "2  https://www.dov.vlaanderen.be/data/filter/1999...   \n",
       "3  https://www.dov.vlaanderen.be/data/filter/1999...   \n",
       "4  https://www.dov.vlaanderen.be/data/filter/1999...   \n",
       "\n",
       "                              pkey_grondwaterlocatie    gw_id filternummer  \\\n",
       "0  https://www.dov.vlaanderen.be/data/put/2017-00...  WVSP009            1   \n",
       "1  https://www.dov.vlaanderen.be/data/put/2017-00...  WVSP009            1   \n",
       "2  https://www.dov.vlaanderen.be/data/put/2017-00...  WVSP009            1   \n",
       "3  https://www.dov.vlaanderen.be/data/put/2017-00...  WVSP009            1   \n",
       "4  https://www.dov.vlaanderen.be/data/put/2017-00...  WVSP009            1   \n",
       "\n",
       "   filtertype             x              y  mv_mtaw gemeente  meetnet_code  \\\n",
       "0  peilfilter  89720.046875  165712.140625    11.84  Avelgem             9   \n",
       "1  peilfilter  89720.046875  165712.140625    11.84  Avelgem             9   \n",
       "2  peilfilter  89720.046875  165712.140625    11.84  Avelgem             9   \n",
       "3  peilfilter  89720.046875  165712.140625    11.84  Avelgem             9   \n",
       "4  peilfilter  89720.046875  165712.140625    11.84  Avelgem             9   \n",
       "\n",
       "       ...          regime  diepte_onderkant_filter lengte_filter       datum  \\\n",
       "0      ...        onbekend                     5.78           1.0  1999-01-12   \n",
       "1      ...        onbekend                     5.78           1.0  1999-01-21   \n",
       "2      ...        onbekend                     5.78           1.0  1999-02-01   \n",
       "3      ...        onbekend                     5.78           1.0  1999-02-06   \n",
       "4      ...        onbekend                     5.78           1.0  1999-02-12   \n",
       "\n",
       "   tijdstip peil_mtaw  betrouwbaarheid   methode filterstatus filtertoestand  \n",
       "0       NaN     12.20         onbekend  peillint      in rust            1.0  \n",
       "1       NaN     12.26         onbekend  peillint      in rust            1.0  \n",
       "2       NaN     12.31         onbekend  peillint      in rust            1.0  \n",
       "3       NaN     12.29         onbekend  peillint      in rust            1.0  \n",
       "4       NaN     12.18         onbekend  peillint      in rust            1.0  \n",
       "\n",
       "[5 rows x 22 columns]"
      ]
     },
     "execution_count": 15,
     "metadata": {},
     "output_type": "execute_result"
    }
   ],
   "source": [
    "from owslib.fes import PropertyIsLike\n",
    "\n",
    "query = PropertyIsLike(propertyname='meetnet',\n",
    "                       literal='meetnet 9 %')\n",
    "df = gwfilter.search(query=query,\n",
    "                     location=Within(Box(87676, 163442, 91194, 168043)))\n",
    "df.head()"
   ]
  },
  {
   "cell_type": "markdown",
   "metadata": {},
   "source": [
    "### Get groundwater screens based on a combination of specific properties"
   ]
  },
  {
   "cell_type": "markdown",
   "metadata": {},
   "source": [
    "Get all groundwater screens in Hamme that have a value for length_filter and either belong to the primary meetnet of VMM or that have a depth bottom screen less than 3 meter."
   ]
  },
  {
   "cell_type": "code",
   "execution_count": 16,
   "metadata": {},
   "outputs": [
    {
     "data": {
      "text/html": [
       "<div>\n",
       "<style scoped>\n",
       "    .dataframe tbody tr th:only-of-type {\n",
       "        vertical-align: middle;\n",
       "    }\n",
       "\n",
       "    .dataframe tbody tr th {\n",
       "        vertical-align: top;\n",
       "    }\n",
       "\n",
       "    .dataframe thead th {\n",
       "        text-align: right;\n",
       "    }\n",
       "</style>\n",
       "<table border=\"1\" class=\"dataframe\">\n",
       "  <thead>\n",
       "    <tr style=\"text-align: right;\">\n",
       "      <th></th>\n",
       "      <th>pkey_filter</th>\n",
       "      <th>gw_id</th>\n",
       "      <th>filternummer</th>\n",
       "      <th>x</th>\n",
       "      <th>y</th>\n",
       "      <th>diepte_onderkant_filter</th>\n",
       "    </tr>\n",
       "  </thead>\n",
       "  <tbody>\n",
       "    <tr>\n",
       "      <th>0</th>\n",
       "      <td>https://www.dov.vlaanderen.be/data/filter/2001...</td>\n",
       "      <td>MORP002</td>\n",
       "      <td>1</td>\n",
       "      <td>130078.000000</td>\n",
       "      <td>196561.000000</td>\n",
       "      <td>1.91</td>\n",
       "    </tr>\n",
       "    <tr>\n",
       "      <th>1</th>\n",
       "      <td>https://www.dov.vlaanderen.be/data/filter/2003...</td>\n",
       "      <td>802/21/3</td>\n",
       "      <td>1</td>\n",
       "      <td>131763.200000</td>\n",
       "      <td>198674.500000</td>\n",
       "      <td>2.50</td>\n",
       "    </tr>\n",
       "    <tr>\n",
       "      <th>2</th>\n",
       "      <td>https://www.dov.vlaanderen.be/data/filter/2003...</td>\n",
       "      <td>810/21/1</td>\n",
       "      <td>1</td>\n",
       "      <td>131837.656250</td>\n",
       "      <td>197054.203125</td>\n",
       "      <td>2.50</td>\n",
       "    </tr>\n",
       "    <tr>\n",
       "      <th>3</th>\n",
       "      <td>https://www.dov.vlaanderen.be/data/filter/2003...</td>\n",
       "      <td>813/21/2</td>\n",
       "      <td>1</td>\n",
       "      <td>133865.921875</td>\n",
       "      <td>195656.328125</td>\n",
       "      <td>2.50</td>\n",
       "    </tr>\n",
       "    <tr>\n",
       "      <th>4</th>\n",
       "      <td>https://www.dov.vlaanderen.be/data/filter/2000...</td>\n",
       "      <td>MORP001</td>\n",
       "      <td>1</td>\n",
       "      <td>130190.000000</td>\n",
       "      <td>196378.000000</td>\n",
       "      <td>1.59</td>\n",
       "    </tr>\n",
       "  </tbody>\n",
       "</table>\n",
       "</div>"
      ],
      "text/plain": [
       "                                         pkey_filter     gw_id filternummer  \\\n",
       "0  https://www.dov.vlaanderen.be/data/filter/2001...   MORP002            1   \n",
       "1  https://www.dov.vlaanderen.be/data/filter/2003...  802/21/3            1   \n",
       "2  https://www.dov.vlaanderen.be/data/filter/2003...  810/21/1            1   \n",
       "3  https://www.dov.vlaanderen.be/data/filter/2003...  813/21/2            1   \n",
       "4  https://www.dov.vlaanderen.be/data/filter/2000...   MORP001            1   \n",
       "\n",
       "               x              y  diepte_onderkant_filter  \n",
       "0  130078.000000  196561.000000                     1.91  \n",
       "1  131763.200000  198674.500000                     2.50  \n",
       "2  131837.656250  197054.203125                     2.50  \n",
       "3  133865.921875  195656.328125                     2.50  \n",
       "4  130190.000000  196378.000000                     1.59  "
      ]
     },
     "execution_count": 16,
     "metadata": {},
     "output_type": "execute_result"
    }
   ],
   "source": [
    "from owslib.fes import Or, Not, PropertyIsNull, PropertyIsLessThanOrEqualTo, And\n",
    "\n",
    "query = And([PropertyIsEqualTo(propertyname='gemeente',\n",
    "                               literal='Hamme'),\n",
    "             Not([PropertyIsNull(propertyname='lengte_filter')]),\n",
    "             Or([PropertyIsLike(propertyname='meetnet',\n",
    "                                literal='meetnet 1%'),\n",
    "                 PropertyIsLessThanOrEqualTo(\n",
    "                     propertyname='diepte_onderkant_filter',\n",
    "                     literal='3')])])\n",
    "df_hamme = gwfilter.search(query=query,\n",
    "                     return_fields=('pkey_filter', 'x', 'y', 'gw_id', 'filternummer', 'diepte_onderkant_filter'))\n",
    "df_hamme.head()"
   ]
  },
  {
   "cell_type": "markdown",
   "metadata": {},
   "source": [
    "## Working with water head time series "
   ]
  },
  {
   "cell_type": "markdown",
   "metadata": {},
   "source": [
    "For further analysis and visualisation of the time series data, we can use the data analysis library [pandas](https://pandas.pydata.org/) and visualisation library [matplotlib](https://matplotlib.org/). "
   ]
  },
  {
   "cell_type": "code",
   "execution_count": 17,
   "metadata": {
    "collapsed": true
   },
   "outputs": [],
   "source": [
    "import pandas as pd\n",
    "import matplotlib.pyplot as plt"
   ]
  },
  {
   "cell_type": "markdown",
   "metadata": {},
   "source": [
    "Query the data of a specific filter using its `pkey`:"
   ]
  },
  {
   "cell_type": "code",
   "execution_count": 18,
   "metadata": {},
   "outputs": [
    {
     "name": "stdout",
     "output_type": "stream",
     "text": [
      "[000/001] c\n"
     ]
    },
    {
     "data": {
      "text/html": [
       "<div>\n",
       "<style scoped>\n",
       "    .dataframe tbody tr th:only-of-type {\n",
       "        vertical-align: middle;\n",
       "    }\n",
       "\n",
       "    .dataframe tbody tr th {\n",
       "        vertical-align: top;\n",
       "    }\n",
       "\n",
       "    .dataframe thead th {\n",
       "        text-align: right;\n",
       "    }\n",
       "</style>\n",
       "<table border=\"1\" class=\"dataframe\">\n",
       "  <thead>\n",
       "    <tr style=\"text-align: right;\">\n",
       "      <th></th>\n",
       "      <th>pkey_filter</th>\n",
       "      <th>pkey_grondwaterlocatie</th>\n",
       "      <th>gw_id</th>\n",
       "      <th>filternummer</th>\n",
       "      <th>filtertype</th>\n",
       "      <th>x</th>\n",
       "      <th>y</th>\n",
       "      <th>mv_mtaw</th>\n",
       "      <th>gemeente</th>\n",
       "      <th>meetnet_code</th>\n",
       "      <th>...</th>\n",
       "      <th>regime</th>\n",
       "      <th>diepte_onderkant_filter</th>\n",
       "      <th>lengte_filter</th>\n",
       "      <th>datum</th>\n",
       "      <th>tijdstip</th>\n",
       "      <th>peil_mtaw</th>\n",
       "      <th>betrouwbaarheid</th>\n",
       "      <th>methode</th>\n",
       "      <th>filterstatus</th>\n",
       "      <th>filtertoestand</th>\n",
       "    </tr>\n",
       "  </thead>\n",
       "  <tbody>\n",
       "    <tr>\n",
       "      <th>0</th>\n",
       "      <td>https://www.dov.vlaanderen.be/data/filter/2003...</td>\n",
       "      <td>https://www.dov.vlaanderen.be/data/put/2018-00...</td>\n",
       "      <td>ZWAP205</td>\n",
       "      <td>1</td>\n",
       "      <td>peilfilter</td>\n",
       "      <td>218953.0</td>\n",
       "      <td>198767.0</td>\n",
       "      <td>58.44</td>\n",
       "      <td>Houthalen-Helchteren</td>\n",
       "      <td>9</td>\n",
       "      <td>...</td>\n",
       "      <td>onbekend</td>\n",
       "      <td>0.68</td>\n",
       "      <td>0.3</td>\n",
       "      <td>2003-10-18</td>\n",
       "      <td>NaN</td>\n",
       "      <td>58.26</td>\n",
       "      <td>onbekend</td>\n",
       "      <td>peillint</td>\n",
       "      <td>onbekend</td>\n",
       "      <td>1</td>\n",
       "    </tr>\n",
       "    <tr>\n",
       "      <th>1</th>\n",
       "      <td>https://www.dov.vlaanderen.be/data/filter/2003...</td>\n",
       "      <td>https://www.dov.vlaanderen.be/data/put/2018-00...</td>\n",
       "      <td>ZWAP205</td>\n",
       "      <td>1</td>\n",
       "      <td>peilfilter</td>\n",
       "      <td>218953.0</td>\n",
       "      <td>198767.0</td>\n",
       "      <td>58.44</td>\n",
       "      <td>Houthalen-Helchteren</td>\n",
       "      <td>9</td>\n",
       "      <td>...</td>\n",
       "      <td>onbekend</td>\n",
       "      <td>0.68</td>\n",
       "      <td>0.3</td>\n",
       "      <td>2003-11-01</td>\n",
       "      <td>NaN</td>\n",
       "      <td>58.30</td>\n",
       "      <td>onbekend</td>\n",
       "      <td>peillint</td>\n",
       "      <td>onbekend</td>\n",
       "      <td>1</td>\n",
       "    </tr>\n",
       "    <tr>\n",
       "      <th>2</th>\n",
       "      <td>https://www.dov.vlaanderen.be/data/filter/2003...</td>\n",
       "      <td>https://www.dov.vlaanderen.be/data/put/2018-00...</td>\n",
       "      <td>ZWAP205</td>\n",
       "      <td>1</td>\n",
       "      <td>peilfilter</td>\n",
       "      <td>218953.0</td>\n",
       "      <td>198767.0</td>\n",
       "      <td>58.44</td>\n",
       "      <td>Houthalen-Helchteren</td>\n",
       "      <td>9</td>\n",
       "      <td>...</td>\n",
       "      <td>onbekend</td>\n",
       "      <td>0.68</td>\n",
       "      <td>0.3</td>\n",
       "      <td>2003-11-17</td>\n",
       "      <td>NaN</td>\n",
       "      <td>58.31</td>\n",
       "      <td>onbekend</td>\n",
       "      <td>peillint</td>\n",
       "      <td>onbekend</td>\n",
       "      <td>1</td>\n",
       "    </tr>\n",
       "    <tr>\n",
       "      <th>3</th>\n",
       "      <td>https://www.dov.vlaanderen.be/data/filter/2003...</td>\n",
       "      <td>https://www.dov.vlaanderen.be/data/put/2018-00...</td>\n",
       "      <td>ZWAP205</td>\n",
       "      <td>1</td>\n",
       "      <td>peilfilter</td>\n",
       "      <td>218953.0</td>\n",
       "      <td>198767.0</td>\n",
       "      <td>58.44</td>\n",
       "      <td>Houthalen-Helchteren</td>\n",
       "      <td>9</td>\n",
       "      <td>...</td>\n",
       "      <td>onbekend</td>\n",
       "      <td>0.68</td>\n",
       "      <td>0.3</td>\n",
       "      <td>2003-11-23</td>\n",
       "      <td>NaN</td>\n",
       "      <td>58.31</td>\n",
       "      <td>onbekend</td>\n",
       "      <td>peillint</td>\n",
       "      <td>onbekend</td>\n",
       "      <td>1</td>\n",
       "    </tr>\n",
       "    <tr>\n",
       "      <th>4</th>\n",
       "      <td>https://www.dov.vlaanderen.be/data/filter/2003...</td>\n",
       "      <td>https://www.dov.vlaanderen.be/data/put/2018-00...</td>\n",
       "      <td>ZWAP205</td>\n",
       "      <td>1</td>\n",
       "      <td>peilfilter</td>\n",
       "      <td>218953.0</td>\n",
       "      <td>198767.0</td>\n",
       "      <td>58.44</td>\n",
       "      <td>Houthalen-Helchteren</td>\n",
       "      <td>9</td>\n",
       "      <td>...</td>\n",
       "      <td>onbekend</td>\n",
       "      <td>0.68</td>\n",
       "      <td>0.3</td>\n",
       "      <td>2003-12-14</td>\n",
       "      <td>NaN</td>\n",
       "      <td>58.30</td>\n",
       "      <td>onbekend</td>\n",
       "      <td>peillint</td>\n",
       "      <td>onbekend</td>\n",
       "      <td>1</td>\n",
       "    </tr>\n",
       "  </tbody>\n",
       "</table>\n",
       "<p>5 rows × 22 columns</p>\n",
       "</div>"
      ],
      "text/plain": [
       "                                         pkey_filter  \\\n",
       "0  https://www.dov.vlaanderen.be/data/filter/2003...   \n",
       "1  https://www.dov.vlaanderen.be/data/filter/2003...   \n",
       "2  https://www.dov.vlaanderen.be/data/filter/2003...   \n",
       "3  https://www.dov.vlaanderen.be/data/filter/2003...   \n",
       "4  https://www.dov.vlaanderen.be/data/filter/2003...   \n",
       "\n",
       "                              pkey_grondwaterlocatie    gw_id filternummer  \\\n",
       "0  https://www.dov.vlaanderen.be/data/put/2018-00...  ZWAP205            1   \n",
       "1  https://www.dov.vlaanderen.be/data/put/2018-00...  ZWAP205            1   \n",
       "2  https://www.dov.vlaanderen.be/data/put/2018-00...  ZWAP205            1   \n",
       "3  https://www.dov.vlaanderen.be/data/put/2018-00...  ZWAP205            1   \n",
       "4  https://www.dov.vlaanderen.be/data/put/2018-00...  ZWAP205            1   \n",
       "\n",
       "   filtertype         x         y  mv_mtaw              gemeente  \\\n",
       "0  peilfilter  218953.0  198767.0    58.44  Houthalen-Helchteren   \n",
       "1  peilfilter  218953.0  198767.0    58.44  Houthalen-Helchteren   \n",
       "2  peilfilter  218953.0  198767.0    58.44  Houthalen-Helchteren   \n",
       "3  peilfilter  218953.0  198767.0    58.44  Houthalen-Helchteren   \n",
       "4  peilfilter  218953.0  198767.0    58.44  Houthalen-Helchteren   \n",
       "\n",
       "   meetnet_code      ...          regime  diepte_onderkant_filter  \\\n",
       "0             9      ...        onbekend                     0.68   \n",
       "1             9      ...        onbekend                     0.68   \n",
       "2             9      ...        onbekend                     0.68   \n",
       "3             9      ...        onbekend                     0.68   \n",
       "4             9      ...        onbekend                     0.68   \n",
       "\n",
       "  lengte_filter       datum  tijdstip peil_mtaw  betrouwbaarheid   methode  \\\n",
       "0           0.3  2003-10-18       NaN     58.26         onbekend  peillint   \n",
       "1           0.3  2003-11-01       NaN     58.30         onbekend  peillint   \n",
       "2           0.3  2003-11-17       NaN     58.31         onbekend  peillint   \n",
       "3           0.3  2003-11-23       NaN     58.31         onbekend  peillint   \n",
       "4           0.3  2003-12-14       NaN     58.30         onbekend  peillint   \n",
       "\n",
       "  filterstatus filtertoestand  \n",
       "0     onbekend              1  \n",
       "1     onbekend              1  \n",
       "2     onbekend              1  \n",
       "3     onbekend              1  \n",
       "4     onbekend              1  \n",
       "\n",
       "[5 rows x 22 columns]"
      ]
     },
     "execution_count": 18,
     "metadata": {},
     "output_type": "execute_result"
    }
   ],
   "source": [
    "query = PropertyIsEqualTo(\n",
    "            propertyname='pkey_filter',\n",
    "            literal='https://www.dov.vlaanderen.be/data/filter/2003-009883')\n",
    "\n",
    "df = gwfilter.search(query=query)\n",
    "df.head()"
   ]
  },
  {
   "cell_type": "markdown",
   "metadata": {},
   "source": [
    "The date is still stored as a string type. Transforming to a data type using the available pandas function [`to_datetime`](https://pandas.pydata.org/pandas-docs/stable/generated/pandas.to_datetime.html) and using these dates as row index:"
   ]
  },
  {
   "cell_type": "code",
   "execution_count": 19,
   "metadata": {
    "collapsed": true
   },
   "outputs": [],
   "source": [
    "df['datum'] = pd.to_datetime(df['datum'])\n",
    "df = df.set_index('datum')"
   ]
  },
  {
   "cell_type": "markdown",
   "metadata": {},
   "source": [
    "### Plotting"
   ]
  },
  {
   "cell_type": "markdown",
   "metadata": {},
   "source": [
    "The default plotting functionality of Pandas cen be used:"
   ]
  },
  {
   "cell_type": "code",
   "execution_count": 20,
   "metadata": {},
   "outputs": [
    {
     "data": {
      "text/plain": [
       "<matplotlib.axes._subplots.AxesSubplot at 0x12b8d588>"
      ]
     },
     "execution_count": 20,
     "metadata": {},
     "output_type": "execute_result"
    },
    {
     "data": {
      "image/png": "[encoded data removed]",
      "text/plain": [
       "<matplotlib.figure.Figure at 0x1156e6a0>"
      ]
     },
     "metadata": {},
     "output_type": "display_data"
    }
   ],
   "source": [
    "df['peil_mtaw'].plot(style='-', figsize=(12, 5))"
   ]
  },
  {
   "cell_type": "markdown",
   "metadata": {},
   "source": [
    "Or a combination with matplotlib to have full customization options:"
   ]
  },
  {
   "cell_type": "code",
   "execution_count": 21,
   "metadata": {},
   "outputs": [
    {
     "data": {
      "image/png": "[encoded data removed]",
      "text/plain": [
       "<matplotlib.figure.Figure at 0x12b18fd0>"
      ]
     },
     "metadata": {},
     "output_type": "display_data"
    }
   ],
   "source": [
    "from matplotlib.dates import MonthLocator, YearLocator, DateFormatter\n",
    "from matplotlib.ticker import MaxNLocator, MultipleLocator\n",
    "\n",
    "# Get height of ground surface\n",
    "ground_surface = df[\"mv_mtaw\"][0]\n",
    "\n",
    "# create a plot with 2 subplots\n",
    "fig, (ax1, ax2) = plt.subplots(2, 1, figsize=(12, 6), \n",
    "                               sharex=False, sharey=True)\n",
    "\n",
    "# Plot entire time series in the upper plot\n",
    "df['peil_mtaw'].plot(ax=ax1, title='Water heads `Put ZWAP205`')\n",
    "ax1.xaxis.set_major_locator(YearLocator(5))\n",
    "ax1.xaxis.set_major_formatter(DateFormatter('%Y'))\n",
    "\n",
    "# Plot the data for 2011 in the lower plot\n",
    "df['peil_mtaw'][\"2011\"].plot(ax=ax2,  title='Water heads `Put ZWAP205` year 2011')\n",
    "ax2.xaxis.set_major_locator(MonthLocator(interval=3))\n",
    "ax2.xaxis.set_major_formatter(DateFormatter('%Y-%m'))\n",
    "\n",
    "# Adjust configuration of plot\n",
    "for ax in (ax1, ax2):\n",
    "    ax.set_xlabel('')\n",
    "    ax.set_ylabel('head (mTAW)')\n",
    "    for tick in ax.get_xticklabels():\n",
    "        tick.set_rotation(0)\n",
    "        tick.set_horizontalalignment('center')\n",
    "\n",
    "    # Only draw spine between the y-ticks\n",
    "    ax.spines['left'].set_position(('outward', 10))\n",
    "    # Hide the right and top spines\n",
    "    ax.spines['right'].set_visible(False)\n",
    "    ax.spines['top'].set_visible(False)\n",
    "    ax.yaxis.set_major_locator(MultipleLocator(0.2))\n",
    "    \n",
    "    # Add the ground surface (provided in the data) on the subplots\n",
    "    ax.axhline(ground_surface, color = 'brown')\n",
    "    ax.annotate('Ground surface', \n",
    "            xy=(0.05, 0.68),\n",
    "            xycoords='axes fraction',\n",
    "            xytext=(-25, -15), textcoords='offset points', \n",
    "            fontsize=12, color='brown')   \n",
    "    \n",
    "fig.tight_layout(h_pad=5)"
   ]
  },
  {
   "cell_type": "markdown",
   "metadata": {},
   "source": [
    "### Analysis"
   ]
  },
  {
   "cell_type": "markdown",
   "metadata": {},
   "source": [
    "The Pandas package provides a the functionality to further analyze and process [time series](https://pandas.pydata.org/pandas-docs/stable/timeseries.html) data. Particularly, the [`resample`](https://pandas.pydata.org/pandas-docs/stable/generated/pandas.DataFrame.resample.html) function can be useful."
   ]
  },
  {
   "cell_type": "markdown",
   "metadata": {},
   "source": [
    "For example, calculate the yearly minima and maxima of the time series:"
   ]
  },
  {
   "cell_type": "code",
   "execution_count": 22,
   "metadata": {},
   "outputs": [
    {
     "data": {
      "text/html": [
       "<div>\n",
       "<style scoped>\n",
       "    .dataframe tbody tr th:only-of-type {\n",
       "        vertical-align: middle;\n",
       "    }\n",
       "\n",
       "    .dataframe tbody tr th {\n",
       "        vertical-align: top;\n",
       "    }\n",
       "\n",
       "    .dataframe thead th {\n",
       "        text-align: right;\n",
       "    }\n",
       "</style>\n",
       "<table border=\"1\" class=\"dataframe\">\n",
       "  <thead>\n",
       "    <tr style=\"text-align: right;\">\n",
       "      <th></th>\n",
       "      <th>min</th>\n",
       "      <th>max</th>\n",
       "    </tr>\n",
       "    <tr>\n",
       "      <th>datum</th>\n",
       "      <th></th>\n",
       "      <th></th>\n",
       "    </tr>\n",
       "  </thead>\n",
       "  <tbody>\n",
       "    <tr>\n",
       "      <th>2003-12-31</th>\n",
       "      <td>58.26</td>\n",
       "      <td>58.36</td>\n",
       "    </tr>\n",
       "    <tr>\n",
       "      <th>2004-12-31</th>\n",
       "      <td>58.22</td>\n",
       "      <td>58.36</td>\n",
       "    </tr>\n",
       "    <tr>\n",
       "      <th>2005-12-31</th>\n",
       "      <td>58.18</td>\n",
       "      <td>58.35</td>\n",
       "    </tr>\n",
       "    <tr>\n",
       "      <th>2006-12-31</th>\n",
       "      <td>58.10</td>\n",
       "      <td>58.42</td>\n",
       "    </tr>\n",
       "    <tr>\n",
       "      <th>2007-12-31</th>\n",
       "      <td>58.28</td>\n",
       "      <td>58.53</td>\n",
       "    </tr>\n",
       "    <tr>\n",
       "      <th>2008-12-31</th>\n",
       "      <td>58.34</td>\n",
       "      <td>58.60</td>\n",
       "    </tr>\n",
       "    <tr>\n",
       "      <th>2009-12-31</th>\n",
       "      <td>58.27</td>\n",
       "      <td>58.54</td>\n",
       "    </tr>\n",
       "    <tr>\n",
       "      <th>2010-12-31</th>\n",
       "      <td>58.21</td>\n",
       "      <td>58.56</td>\n",
       "    </tr>\n",
       "    <tr>\n",
       "      <th>2011-12-31</th>\n",
       "      <td>58.32</td>\n",
       "      <td>58.56</td>\n",
       "    </tr>\n",
       "    <tr>\n",
       "      <th>2012-12-31</th>\n",
       "      <td>58.32</td>\n",
       "      <td>58.55</td>\n",
       "    </tr>\n",
       "    <tr>\n",
       "      <th>2013-12-31</th>\n",
       "      <td>58.22</td>\n",
       "      <td>58.56</td>\n",
       "    </tr>\n",
       "    <tr>\n",
       "      <th>2014-12-31</th>\n",
       "      <td>58.21</td>\n",
       "      <td>58.54</td>\n",
       "    </tr>\n",
       "    <tr>\n",
       "      <th>2015-12-31</th>\n",
       "      <td>58.08</td>\n",
       "      <td>58.56</td>\n",
       "    </tr>\n",
       "    <tr>\n",
       "      <th>2016-12-31</th>\n",
       "      <td>58.24</td>\n",
       "      <td>58.54</td>\n",
       "    </tr>\n",
       "    <tr>\n",
       "      <th>2017-12-31</th>\n",
       "      <td>58.27</td>\n",
       "      <td>58.56</td>\n",
       "    </tr>\n",
       "    <tr>\n",
       "      <th>2018-12-31</th>\n",
       "      <td>58.08</td>\n",
       "      <td>58.53</td>\n",
       "    </tr>\n",
       "  </tbody>\n",
       "</table>\n",
       "</div>"
      ],
      "text/plain": [
       "              min    max\n",
       "datum                   \n",
       "2003-12-31  58.26  58.36\n",
       "2004-12-31  58.22  58.36\n",
       "2005-12-31  58.18  58.35\n",
       "2006-12-31  58.10  58.42\n",
       "2007-12-31  58.28  58.53\n",
       "2008-12-31  58.34  58.60\n",
       "2009-12-31  58.27  58.54\n",
       "2010-12-31  58.21  58.56\n",
       "2011-12-31  58.32  58.56\n",
       "2012-12-31  58.32  58.55\n",
       "2013-12-31  58.22  58.56\n",
       "2014-12-31  58.21  58.54\n",
       "2015-12-31  58.08  58.56\n",
       "2016-12-31  58.24  58.54\n",
       "2017-12-31  58.27  58.56\n",
       "2018-12-31  58.08  58.53"
      ]
     },
     "execution_count": 22,
     "metadata": {},
     "output_type": "execute_result"
    }
   ],
   "source": [
    "df[\"peil_mtaw\"].resample(\"Y\").agg(['min', 'max'])"
   ]
  },
  {
   "cell_type": "markdown",
   "metadata": {},
   "source": [
    "or the monthly minima and maxima:"
   ]
  },
  {
   "cell_type": "code",
   "execution_count": 23,
   "metadata": {},
   "outputs": [
    {
     "data": {
      "text/plain": [
       "<matplotlib.axes._subplots.AxesSubplot at 0x12b35080>"
      ]
     },
     "execution_count": 23,
     "metadata": {},
     "output_type": "execute_result"
    },
    {
     "data": {
      "image/png": "[encoded data removed]",
      "text/plain": [
       "<matplotlib.figure.Figure at 0x1481e080>"
      ]
     },
     "metadata": {},
     "output_type": "display_data"
    }
   ],
   "source": [
    "df[\"peil_mtaw\"].resample(\"M\").agg(['min', 'max']).plot()"
   ]
  },
  {
   "cell_type": "markdown",
   "metadata": {},
   "source": [
    "Calculate 10 and 90 percentiles of the time series with the `quantile` function:"
   ]
  },
  {
   "cell_type": "code",
   "execution_count": 24,
   "metadata": {},
   "outputs": [
    {
     "data": {
      "text/plain": [
       "<matplotlib.legend.Legend at 0x14b068d0>"
      ]
     },
     "execution_count": 24,
     "metadata": {},
     "output_type": "execute_result"
    },
    {
     "data": {
      "image/png": "[encoded data removed]",
      "text/plain": [
       "<matplotlib.figure.Figure at 0x1498f0f0>"
      ]
     },
     "metadata": {},
     "output_type": "display_data"
    }
   ],
   "source": [
    "fig, ax = plt.subplots(figsize=(12, 4))    \n",
    "ax.plot(df[\"peil_mtaw\"], label='head (mTAW)', linewidth=0.75)\n",
    "ax.axhline(df[\"peil_mtaw\"].quantile(0.1), color = 'brown', label='p10', linewidth=3)\n",
    "ax.axhline(df[\"peil_mtaw\"].quantile(0.9), color = 'darkblue', label='p90', linewidth=3)\n",
    "fig.legend(loc='upper center', ncol=3)"
   ]
  },
  {
   "cell_type": "markdown",
   "metadata": {},
   "source": [
    "A duration exceedance curve provides the percentage of time that the water head is above a given value:"
   ]
  },
  {
   "cell_type": "code",
   "execution_count": 25,
   "metadata": {
    "collapsed": true
   },
   "outputs": [],
   "source": [
    "import numpy as np"
   ]
  },
  {
   "cell_type": "code",
   "execution_count": 26,
   "metadata": {},
   "outputs": [
    {
     "data": {
      "image/png": "[encoded data removed]",
      "text/plain": [
       "<matplotlib.figure.Figure at 0x14995470>"
      ]
     },
     "metadata": {},
     "output_type": "display_data"
    }
   ],
   "source": [
    "sorted_heads = np.sort(df[\"peil_mtaw\"])[::-1]\n",
    "exceedence = np.arange(1.,len(sorted_heads)+1) / len(sorted_heads)\n",
    "\n",
    "plt.plot(exceedence*100, sorted_heads)\n",
    "plt.xlabel(\"Exceedence [%]\")\n",
    "plt.ylabel(\"Water head (mTAW)\")\n",
    "plt.show()"
   ]
  },
  {
   "cell_type": "markdown",
   "metadata": {},
   "source": [
    "## Visualize locations"
   ]
  },
  {
   "cell_type": "markdown",
   "metadata": {},
   "source": [
    "Using Folium, we can display the results of our search on a map."
   ]
  },
  {
   "cell_type": "code",
   "execution_count": 27,
   "metadata": {
    "collapsed": true
   },
   "outputs": [],
   "source": [
    "# import the necessary modules (not included in the requirements of pydov!)\n",
    "import folium\n",
    "from folium.plugins import MarkerCluster\n",
    "from pyproj import Proj, transform"
   ]
  },
  {
   "cell_type": "code",
   "execution_count": 28,
   "metadata": {
    "collapsed": true
   },
   "outputs": [],
   "source": [
    "# convert the coordinates to lat/lon for folium\n",
    "def convert_latlon(x1, y1):\n",
    "    inProj = Proj(init='epsg:31370')\n",
    "    outProj = Proj(init='epsg:4326')\n",
    "    x2,y2 = transform(inProj, outProj, x1, y1)\n",
    "    return x2, y2\n",
    "df_hamme['lon'], df_hamme['lat'] = zip(*map(convert_latlon, df_hamme['x'], df_hamme['y'])) \n",
    "# convert to list\n",
    "loclist = df_hamme[['lat', 'lon']].values.tolist()"
   ]
  },
  {
   "cell_type": "code",
   "execution_count": 29,
   "metadata": {},
   "outputs": [
    {
     "data": {
      "text/html": [
       "<div style=\"width:100%;\"><div style=\"position:relative;width:100%;height:0;padding-bottom:60%;\"><iframe src=\"data:text/html;charset=utf-8;base64,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\" style=\"position:absolute;width:100%;height:100%;left:0;top:0;border:none !important;\" allowfullscreen webkitallowfullscreen mozallowfullscreen></iframe></div></div>"
      ],
      "text/plain": [
       "<folium.folium.Map at 0x13f7d278>"
      ]
     },
     "execution_count": 29,
     "metadata": {},
     "output_type": "execute_result"
    }
   ],
   "source": [
    "# initialize the Folium map on the centre of the selected locations, play with the zoom until ok\n",
    "fmap = folium.Map(location=[df_hamme['lat'].mean(), df_hamme['lon'].mean()], zoom_start=12)\n",
    "marker_cluster = MarkerCluster().add_to(fmap)\n",
    "for loc in range(0, len(loclist)):\n",
    "    folium.Marker(loclist[loc], popup=df_hamme['gw_id'][loc]).add_to(marker_cluster)\n",
    "fmap\n"
   ]
  }
 ],
 "metadata": {
  "kernelspec": {
   "display_name": "Python 2",
   "language": "python",
   "name": "python2"
  },
  "language_info": {
   "codemirror_mode": {
    "name": "ipython",
    "version": 2
   },
   "file_extension": ".py",
   "mimetype": "text/x-python",
   "name": "python",
   "nbconvert_exporter": "python",
   "pygments_lexer": "ipython2",
   "version": "2.7.13"
  }
 },
 "nbformat": 4,
 "nbformat_minor": 2
}
