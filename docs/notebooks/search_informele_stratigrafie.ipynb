{
 "cells": [
  {
   "cell_type": "markdown",
   "metadata": {},
   "source": [
    "# Example of DOV search methods for interpretations (informele stratigrafie)"
   ]
  },
  {
   "cell_type": "markdown",
   "metadata": {},
   "source": [
    "## Use cases explained below\n",
    "* Get 'informele stratigrafie' in a bounding box\n",
    "* Get 'informele stratigrafie' with specific properties\n",
    "* Get 'informele stratigrafie' in a bounding box based on specific properties\n",
    "* Select 'informele stratigrafie' in a municipality and return date\n",
    "* Get 'informele stratigrafie' based on fields not available in the standard output dataframe\n",
    "* Get 'informele stratigrafie' data, returning fields not available in the standard output dataframe"
   ]
  },
  {
   "cell_type": "code",
   "execution_count": 1,
   "metadata": {
    "collapsed": true
   },
   "outputs": [],
   "source": [
    "%matplotlib inline\n",
    "import inspect, sys\n",
    "import warnings; warnings.simplefilter('ignore')"
   ]
  },
  {
   "cell_type": "code",
   "execution_count": 2,
   "metadata": {
    "collapsed": true
   },
   "outputs": [],
   "source": [
    "# check pydov path\n",
    "import pydov"
   ]
  },
  {
   "cell_type": "markdown",
   "metadata": {},
   "source": [
    "## Get information about the datatype 'Informele stratigrafie'"
   ]
  },
  {
   "cell_type": "code",
   "execution_count": 3,
   "metadata": {
    "collapsed": true
   },
   "outputs": [],
   "source": [
    "from pydov.search.interpretaties import InformeleStratigrafieSearch\n",
    "itp = InformeleStratigrafieSearch()"
   ]
  },
  {
   "cell_type": "markdown",
   "metadata": {},
   "source": [
    "A description is provided for the 'Informele stratigrafie' datatype:"
   ]
  },
  {
   "cell_type": "code",
   "execution_count": 4,
   "metadata": {},
   "outputs": [
    {
     "data": {
      "text/plain": [
       "'Een informele stratigrafie van een boring is, net als een formele stratigrafie, een lithostratigrafische interpretatie van een (gecodeerde) lithologische beschrijving per diepte-interval. Het verschil met de formele stratigrafie is dat de informele stratigrafie niet moet voldoen aan een algemeen aanvaarde standaard. De informele stratigrafie is een plaats in DOV om oude interpretaties of interpretaties die niet voldoen aan de huidige stratigrafische indeling toch weer te geven. De informele stratigrafie kan ook een gedetailleerde beschrijving bevatten van een lithostratigrafische eenheid.'"
      ]
     },
     "execution_count": 4,
     "metadata": {},
     "output_type": "execute_result"
    }
   ],
   "source": [
    "itp.get_description()"
   ]
  },
  {
   "cell_type": "markdown",
   "metadata": {},
   "source": [
    "The different fields that are available for objects of the 'Informele stratigrafie' datatype can be requested with the get_fields() method:"
   ]
  },
  {
   "cell_type": "code",
   "execution_count": 5,
   "metadata": {},
   "outputs": [
    {
     "name": "stdout",
     "output_type": "stream",
     "text": [
      "generated_id\n",
      "Auteurs\n",
      "Opdrachten\n",
      "pkey_sondering\n",
      "diepte_laag_van\n",
      "diepte_tot_m\n",
      "diepte_laag_tot\n",
      "Datum\n",
      "Proeffiche\n",
      "Z_mTAW\n",
      "Geldig_van\n",
      "beschrijving\n",
      "Proefnummer\n",
      "pkey_boring\n",
      "gemeente\n",
      "betrouwbaarheid_interpretatie\n",
      "x\n",
      "y\n",
      "pkey_interpretatie\n",
      "Type_proef\n",
      "Geldig_tot\n"
     ]
    }
   ],
   "source": [
    "fields = itp.get_fields()\n",
    "\n",
    "# print available fields\n",
    "for f in fields.values():\n",
    "    print(f['name'])"
   ]
  },
  {
   "cell_type": "markdown",
   "metadata": {},
   "source": [
    "You can get more information of a field by requesting it from the fields dictionary:\n",
    "* *name*: name of the field\n",
    "* *definition*: definition of this field\n",
    "* *cost*: currently this is either 1 or 10, depending on the datasource of the field. It is an indication of the expected time it will take to retrieve this field in the output dataframe.\n",
    "* *notnull*: whether the field is mandatory or not\n",
    "* *type*: datatype of the values of this field"
   ]
  },
  {
   "cell_type": "code",
   "execution_count": 6,
   "metadata": {},
   "outputs": [
    {
     "data": {
      "text/plain": [
       "{'cost': 1,\n",
       " 'definition': 'De datum waarop de informele stratigrafie werd beschreven.',\n",
       " 'name': 'Datum',\n",
       " 'notnull': False,\n",
       " 'type': 'date'}"
      ]
     },
     "execution_count": 6,
     "metadata": {},
     "output_type": "execute_result"
    }
   ],
   "source": [
    "fields['Datum']"
   ]
  },
  {
   "cell_type": "markdown",
   "metadata": {},
   "source": [
    "## Example use cases"
   ]
  },
  {
   "cell_type": "markdown",
   "metadata": {},
   "source": [
    "### Get 'informele stratigrafie' in a bounding box"
   ]
  },
  {
   "cell_type": "markdown",
   "metadata": {},
   "source": [
    "Get data for all the 'informele stratigrafie' interpretations that are geographically located within the bounds of the specified box.\n",
    "\n",
    "The coordinates are in the Belgian Lambert72 (EPSG:31370) coordinate system and are given in the order of lower left x, lower left y, upper right x, upper right y."
   ]
  },
  {
   "cell_type": "code",
   "execution_count": 7,
   "metadata": {},
   "outputs": [
    {
     "name": "stdout",
     "output_type": "stream",
     "text": [
      "[000/001] .\n"
     ]
    },
    {
     "data": {
      "text/html": [
       "<div>\n",
       "<style scoped>\n",
       "    .dataframe tbody tr th:only-of-type {\n",
       "        vertical-align: middle;\n",
       "    }\n",
       "\n",
       "    .dataframe tbody tr th {\n",
       "        vertical-align: top;\n",
       "    }\n",
       "\n",
       "    .dataframe thead th {\n",
       "        text-align: right;\n",
       "    }\n",
       "</style>\n",
       "<table border=\"1\" class=\"dataframe\">\n",
       "  <thead>\n",
       "    <tr style=\"text-align: right;\">\n",
       "      <th></th>\n",
       "      <th>pkey_interpretatie</th>\n",
       "      <th>pkey_boring</th>\n",
       "      <th>pkey_sondering</th>\n",
       "      <th>betrouwbaarheid_interpretatie</th>\n",
       "      <th>x</th>\n",
       "      <th>y</th>\n",
       "      <th>diepte_laag_van</th>\n",
       "      <th>diepte_laag_tot</th>\n",
       "      <th>beschrijving</th>\n",
       "    </tr>\n",
       "  </thead>\n",
       "  <tbody>\n",
       "    <tr>\n",
       "      <th>0</th>\n",
       "      <td>https://www.dov.vlaanderen.be/data/interpretat...</td>\n",
       "      <td>https://www.dov.vlaanderen.be/data/boring/1974...</td>\n",
       "      <td>NaN</td>\n",
       "      <td>goed</td>\n",
       "      <td>153147.0</td>\n",
       "      <td>206931.0</td>\n",
       "      <td>0.0</td>\n",
       "      <td>3.00</td>\n",
       "      <td>Quartair</td>\n",
       "    </tr>\n",
       "    <tr>\n",
       "      <th>1</th>\n",
       "      <td>https://www.dov.vlaanderen.be/data/interpretat...</td>\n",
       "      <td>https://www.dov.vlaanderen.be/data/boring/1974...</td>\n",
       "      <td>NaN</td>\n",
       "      <td>goed</td>\n",
       "      <td>153147.0</td>\n",
       "      <td>206931.0</td>\n",
       "      <td>3.0</td>\n",
       "      <td>14.05</td>\n",
       "      <td>Tertiair - Mioceen: Antwerpiaan</td>\n",
       "    </tr>\n",
       "  </tbody>\n",
       "</table>\n",
       "</div>"
      ],
      "text/plain": [
       "                                  pkey_interpretatie  \\\n",
       "0  https://www.dov.vlaanderen.be/data/interpretat...   \n",
       "1  https://www.dov.vlaanderen.be/data/interpretat...   \n",
       "\n",
       "                                         pkey_boring  pkey_sondering  \\\n",
       "0  https://www.dov.vlaanderen.be/data/boring/1974...             NaN   \n",
       "1  https://www.dov.vlaanderen.be/data/boring/1974...             NaN   \n",
       "\n",
       "  betrouwbaarheid_interpretatie         x         y  diepte_laag_van  \\\n",
       "0                          goed  153147.0  206931.0              0.0   \n",
       "1                          goed  153147.0  206931.0              3.0   \n",
       "\n",
       "   diepte_laag_tot                     beschrijving  \n",
       "0             3.00                         Quartair  \n",
       "1            14.05  Tertiair - Mioceen: Antwerpiaan  "
      ]
     },
     "execution_count": 7,
     "metadata": {},
     "output_type": "execute_result"
    }
   ],
   "source": [
    "from pydov.util.location import Within, Box\n",
    "\n",
    "df = itp.search(location=Within(Box(153145, 206930, 153150, 206935)))\n",
    "df.head()"
   ]
  },
  {
   "cell_type": "markdown",
   "metadata": {},
   "source": [
    "The dataframe contains one 'informele stratigrafie' interpretation where three layers ('laag') were identified. The available data are flattened to represent unique attributes per row of the dataframe.\n",
    "\n",
    "Using the *pkey_interpretatie* field one can request the details of this interpretation in a webbrowser:"
   ]
  },
  {
   "cell_type": "code",
   "execution_count": 8,
   "metadata": {},
   "outputs": [
    {
     "name": "stdout",
     "output_type": "stream",
     "text": [
      "https://www.dov.vlaanderen.be/data/interpretatie/1975-213484\n"
     ]
    }
   ],
   "source": [
    "for pkey_interpretatie in set(df.pkey_interpretatie):\n",
    "    print(pkey_interpretatie)"
   ]
  },
  {
   "cell_type": "markdown",
   "metadata": {},
   "source": [
    "### Get 'informele stratigrafie' with specific properties"
   ]
  },
  {
   "cell_type": "markdown",
   "metadata": {},
   "source": [
    "Next to querying interpretations based on their geographic location within a bounding box, we can also search for interpretations matching a specific set of properties. For this we can build a query using a combination of the 'InformeleStratigrafie' fields and operators provided by the WFS protocol.\n",
    "\n",
    "A list of possible operators can be found below:"
   ]
  },
  {
   "cell_type": "code",
   "execution_count": 9,
   "metadata": {},
   "outputs": [
    {
     "data": {
      "text/plain": [
       "['PropertyIsBetween',\n",
       " 'PropertyIsEqualTo',\n",
       " 'PropertyIsGreaterThan',\n",
       " 'PropertyIsGreaterThanOrEqualTo',\n",
       " 'PropertyIsLessThan',\n",
       " 'PropertyIsLessThanOrEqualTo',\n",
       " 'PropertyIsLike',\n",
       " 'PropertyIsNotEqualTo',\n",
       " 'PropertyIsNull',\n",
       " 'SortProperty']"
      ]
     },
     "execution_count": 9,
     "metadata": {},
     "output_type": "execute_result"
    }
   ],
   "source": [
    "[i for i,j in inspect.getmembers(sys.modules['owslib.fes'], inspect.isclass) if 'Property' in i]"
   ]
  },
  {
   "cell_type": "markdown",
   "metadata": {},
   "source": [
    "In this example we build a query using the *PropertyIsEqualTo* operator to find all interpretations that are within the community (gemeente) of 'Herstappe':"
   ]
  },
  {
   "cell_type": "code",
   "execution_count": 10,
   "metadata": {},
   "outputs": [
    {
     "name": "stdout",
     "output_type": "stream",
     "text": [
      "[000/003] ...\n"
     ]
    },
    {
     "data": {
      "text/html": [
       "<div>\n",
       "<style scoped>\n",
       "    .dataframe tbody tr th:only-of-type {\n",
       "        vertical-align: middle;\n",
       "    }\n",
       "\n",
       "    .dataframe tbody tr th {\n",
       "        vertical-align: top;\n",
       "    }\n",
       "\n",
       "    .dataframe thead th {\n",
       "        text-align: right;\n",
       "    }\n",
       "</style>\n",
       "<table border=\"1\" class=\"dataframe\">\n",
       "  <thead>\n",
       "    <tr style=\"text-align: right;\">\n",
       "      <th></th>\n",
       "      <th>pkey_interpretatie</th>\n",
       "      <th>pkey_boring</th>\n",
       "      <th>pkey_sondering</th>\n",
       "      <th>betrouwbaarheid_interpretatie</th>\n",
       "      <th>x</th>\n",
       "      <th>y</th>\n",
       "      <th>diepte_laag_van</th>\n",
       "      <th>diepte_laag_tot</th>\n",
       "      <th>beschrijving</th>\n",
       "    </tr>\n",
       "  </thead>\n",
       "  <tbody>\n",
       "    <tr>\n",
       "      <th>0</th>\n",
       "      <td>https://www.dov.vlaanderen.be/data/interpretat...</td>\n",
       "      <td>https://www.dov.vlaanderen.be/data/boring/2016...</td>\n",
       "      <td>NaN</td>\n",
       "      <td>goed</td>\n",
       "      <td>224687.4</td>\n",
       "      <td>158191.0</td>\n",
       "      <td>0.00</td>\n",
       "      <td>3.75</td>\n",
       "      <td>q2</td>\n",
       "    </tr>\n",
       "    <tr>\n",
       "      <th>1</th>\n",
       "      <td>https://www.dov.vlaanderen.be/data/interpretat...</td>\n",
       "      <td>https://www.dov.vlaanderen.be/data/boring/2016...</td>\n",
       "      <td>NaN</td>\n",
       "      <td>goed</td>\n",
       "      <td>224687.4</td>\n",
       "      <td>158191.0</td>\n",
       "      <td>3.75</td>\n",
       "      <td>6.00</td>\n",
       "      <td>q1c</td>\n",
       "    </tr>\n",
       "    <tr>\n",
       "      <th>2</th>\n",
       "      <td>https://www.dov.vlaanderen.be/data/interpretat...</td>\n",
       "      <td>https://www.dov.vlaanderen.be/data/boring/1993...</td>\n",
       "      <td>NaN</td>\n",
       "      <td>goed</td>\n",
       "      <td>224820.0</td>\n",
       "      <td>157794.0</td>\n",
       "      <td>0.00</td>\n",
       "      <td>50.00</td>\n",
       "      <td>?</td>\n",
       "    </tr>\n",
       "    <tr>\n",
       "      <th>3</th>\n",
       "      <td>https://www.dov.vlaanderen.be/data/interpretat...</td>\n",
       "      <td>https://www.dov.vlaanderen.be/data/boring/1993...</td>\n",
       "      <td>NaN</td>\n",
       "      <td>goed</td>\n",
       "      <td>224820.0</td>\n",
       "      <td>157794.0</td>\n",
       "      <td>5.00</td>\n",
       "      <td>50.00</td>\n",
       "      <td>Formatie van Gulpen</td>\n",
       "    </tr>\n",
       "  </tbody>\n",
       "</table>\n",
       "</div>"
      ],
      "text/plain": [
       "                                  pkey_interpretatie  \\\n",
       "0  https://www.dov.vlaanderen.be/data/interpretat...   \n",
       "1  https://www.dov.vlaanderen.be/data/interpretat...   \n",
       "2  https://www.dov.vlaanderen.be/data/interpretat...   \n",
       "3  https://www.dov.vlaanderen.be/data/interpretat...   \n",
       "\n",
       "                                         pkey_boring  pkey_sondering  \\\n",
       "0  https://www.dov.vlaanderen.be/data/boring/2016...             NaN   \n",
       "1  https://www.dov.vlaanderen.be/data/boring/2016...             NaN   \n",
       "2  https://www.dov.vlaanderen.be/data/boring/1993...             NaN   \n",
       "3  https://www.dov.vlaanderen.be/data/boring/1993...             NaN   \n",
       "\n",
       "  betrouwbaarheid_interpretatie         x         y  diepte_laag_van  \\\n",
       "0                          goed  224687.4  158191.0             0.00   \n",
       "1                          goed  224687.4  158191.0             3.75   \n",
       "2                          goed  224820.0  157794.0             0.00   \n",
       "3                          goed  224820.0  157794.0             5.00   \n",
       "\n",
       "   diepte_laag_tot         beschrijving  \n",
       "0             3.75                   q2  \n",
       "1             6.00                  q1c  \n",
       "2            50.00                    ?  \n",
       "3            50.00  Formatie van Gulpen  "
      ]
     },
     "execution_count": 10,
     "metadata": {},
     "output_type": "execute_result"
    }
   ],
   "source": [
    "from owslib.fes import PropertyIsEqualTo\n",
    "\n",
    "query = PropertyIsEqualTo(propertyname='gemeente',\n",
    "                          literal='Herstappe')\n",
    "df = itp.search(query=query)\n",
    "\n",
    "df.head()"
   ]
  },
  {
   "cell_type": "markdown",
   "metadata": {},
   "source": [
    "Once again we can use the *pkey_interpretatie* as a permanent link to the information of these interpretations:"
   ]
  },
  {
   "cell_type": "code",
   "execution_count": 11,
   "metadata": {},
   "outputs": [
    {
     "name": "stdout",
     "output_type": "stream",
     "text": [
      "https://www.dov.vlaanderen.be/data/interpretatie/1993-097697\n",
      "https://www.dov.vlaanderen.be/data/interpretatie/2016-271517\n",
      "https://www.dov.vlaanderen.be/data/interpretatie/2010-106477\n"
     ]
    }
   ],
   "source": [
    "for pkey_interpretatie in set(df.pkey_interpretatie):\n",
    "    print(pkey_interpretatie)"
   ]
  },
  {
   "cell_type": "markdown",
   "metadata": {},
   "source": [
    "### Get 'informele stratigrafie' in a bounding box based on specific properties"
   ]
  },
  {
   "cell_type": "markdown",
   "metadata": {},
   "source": [
    "We can combine a query on attributes with a query on geographic location to get the interpretations within a bounding box that have specific properties.\n",
    "\n",
    "The following example requests the interpretations of boreholes only, within the given bounding box.\n",
    "\n",
    "(Note that the datatype of the *literal* parameter should be a string, regardless of the datatype of this field in the output dataframe.)"
   ]
  },
  {
   "cell_type": "code",
   "execution_count": 13,
   "metadata": {},
   "outputs": [
    {
     "name": "stdout",
     "output_type": "stream",
     "text": [
      "[000/003] ...\n"
     ]
    },
    {
     "data": {
      "text/html": [
       "<div>\n",
       "<style scoped>\n",
       "    .dataframe tbody tr th:only-of-type {\n",
       "        vertical-align: middle;\n",
       "    }\n",
       "\n",
       "    .dataframe tbody tr th {\n",
       "        vertical-align: top;\n",
       "    }\n",
       "\n",
       "    .dataframe thead th {\n",
       "        text-align: right;\n",
       "    }\n",
       "</style>\n",
       "<table border=\"1\" class=\"dataframe\">\n",
       "  <thead>\n",
       "    <tr style=\"text-align: right;\">\n",
       "      <th></th>\n",
       "      <th>pkey_interpretatie</th>\n",
       "      <th>pkey_boring</th>\n",
       "      <th>pkey_sondering</th>\n",
       "      <th>betrouwbaarheid_interpretatie</th>\n",
       "      <th>x</th>\n",
       "      <th>y</th>\n",
       "      <th>diepte_laag_van</th>\n",
       "      <th>diepte_laag_tot</th>\n",
       "      <th>beschrijving</th>\n",
       "    </tr>\n",
       "  </thead>\n",
       "  <tbody>\n",
       "    <tr>\n",
       "      <th>0</th>\n",
       "      <td>https://www.dov.vlaanderen.be/data/interpretat...</td>\n",
       "      <td>https://www.dov.vlaanderen.be/data/boring/1975...</td>\n",
       "      <td>NaN</td>\n",
       "      <td>goed</td>\n",
       "      <td>205264.2</td>\n",
       "      <td>205607.5</td>\n",
       "      <td>0.0</td>\n",
       "      <td>8.0</td>\n",
       "      <td>Kwartair</td>\n",
       "    </tr>\n",
       "    <tr>\n",
       "      <th>1</th>\n",
       "      <td>https://www.dov.vlaanderen.be/data/interpretat...</td>\n",
       "      <td>https://www.dov.vlaanderen.be/data/boring/1896...</td>\n",
       "      <td>NaN</td>\n",
       "      <td>goed</td>\n",
       "      <td>205952.9</td>\n",
       "      <td>205993.0</td>\n",
       "      <td>0.0</td>\n",
       "      <td>1.0</td>\n",
       "      <td>R</td>\n",
       "    </tr>\n",
       "    <tr>\n",
       "      <th>2</th>\n",
       "      <td>https://www.dov.vlaanderen.be/data/interpretat...</td>\n",
       "      <td>https://www.dov.vlaanderen.be/data/boring/1896...</td>\n",
       "      <td>NaN</td>\n",
       "      <td>goed</td>\n",
       "      <td>205952.9</td>\n",
       "      <td>205993.0</td>\n",
       "      <td>1.0</td>\n",
       "      <td>2.3</td>\n",
       "      <td>q4</td>\n",
       "    </tr>\n",
       "    <tr>\n",
       "      <th>3</th>\n",
       "      <td>https://www.dov.vlaanderen.be/data/interpretat...</td>\n",
       "      <td>https://www.dov.vlaanderen.be/data/boring/1896...</td>\n",
       "      <td>NaN</td>\n",
       "      <td>goed</td>\n",
       "      <td>205970.0</td>\n",
       "      <td>205270.5</td>\n",
       "      <td>0.0</td>\n",
       "      <td>2.3</td>\n",
       "      <td>q4</td>\n",
       "    </tr>\n",
       "  </tbody>\n",
       "</table>\n",
       "</div>"
      ],
      "text/plain": [
       "                                  pkey_interpretatie  \\\n",
       "0  https://www.dov.vlaanderen.be/data/interpretat...   \n",
       "1  https://www.dov.vlaanderen.be/data/interpretat...   \n",
       "2  https://www.dov.vlaanderen.be/data/interpretat...   \n",
       "3  https://www.dov.vlaanderen.be/data/interpretat...   \n",
       "\n",
       "                                         pkey_boring  pkey_sondering  \\\n",
       "0  https://www.dov.vlaanderen.be/data/boring/1975...             NaN   \n",
       "1  https://www.dov.vlaanderen.be/data/boring/1896...             NaN   \n",
       "2  https://www.dov.vlaanderen.be/data/boring/1896...             NaN   \n",
       "3  https://www.dov.vlaanderen.be/data/boring/1896...             NaN   \n",
       "\n",
       "  betrouwbaarheid_interpretatie         x         y  diepte_laag_van  \\\n",
       "0                          goed  205264.2  205607.5              0.0   \n",
       "1                          goed  205952.9  205993.0              0.0   \n",
       "2                          goed  205952.9  205993.0              1.0   \n",
       "3                          goed  205970.0  205270.5              0.0   \n",
       "\n",
       "   diepte_laag_tot beschrijving  \n",
       "0              8.0     Kwartair  \n",
       "1              1.0            R  \n",
       "2              2.3           q4  \n",
       "3              2.3           q4  "
      ]
     },
     "execution_count": 13,
     "metadata": {},
     "output_type": "execute_result"
    }
   ],
   "source": [
    "from owslib.fes import PropertyIsEqualTo\n",
    "\n",
    "query = PropertyIsEqualTo(\n",
    "            propertyname='Type_proef',\n",
    "            literal='Boring')\n",
    "\n",
    "df = itp.search(\n",
    "    location=Within(Box(205000, 205000, 206000, 206000)),\n",
    "    query=query\n",
    "    )\n",
    "\n",
    "df.head()"
   ]
  },
  {
   "cell_type": "markdown",
   "metadata": {},
   "source": [
    "We can look at one of the interpretations in a webbrowser using its *pkey_interpretatie*:"
   ]
  },
  {
   "cell_type": "code",
   "execution_count": 14,
   "metadata": {},
   "outputs": [
    {
     "name": "stdout",
     "output_type": "stream",
     "text": [
      "https://www.dov.vlaanderen.be/data/interpretatie/1975-044576\n",
      "https://www.dov.vlaanderen.be/data/interpretatie/1896-044149\n",
      "https://www.dov.vlaanderen.be/data/interpretatie/1896-044150\n"
     ]
    }
   ],
   "source": [
    "for pkey_interpretatie in set(df.pkey_interpretatie):\n",
    "    print(pkey_interpretatie)"
   ]
  },
  {
   "cell_type": "markdown",
   "metadata": {},
   "source": [
    "### Select 'informele stratigrafie' in a municipality and return date"
   ]
  },
  {
   "cell_type": "markdown",
   "metadata": {},
   "source": [
    "We can limit the columns in the output dataframe by specifying the *return_fields* parameter in our search.\n",
    "\n",
    "In this example we query all the 'informele stratigrafie' interpretations in the city of Ghent and return their date:"
   ]
  },
  {
   "cell_type": "code",
   "execution_count": 15,
   "metadata": {},
   "outputs": [
    {
     "data": {
      "text/html": [
       "<div>\n",
       "<style scoped>\n",
       "    .dataframe tbody tr th:only-of-type {\n",
       "        vertical-align: middle;\n",
       "    }\n",
       "\n",
       "    .dataframe tbody tr th {\n",
       "        vertical-align: top;\n",
       "    }\n",
       "\n",
       "    .dataframe thead th {\n",
       "        text-align: right;\n",
       "    }\n",
       "</style>\n",
       "<table border=\"1\" class=\"dataframe\">\n",
       "  <thead>\n",
       "    <tr style=\"text-align: right;\">\n",
       "      <th></th>\n",
       "      <th>Datum</th>\n",
       "    </tr>\n",
       "  </thead>\n",
       "  <tbody>\n",
       "    <tr>\n",
       "      <th>0</th>\n",
       "      <td>NaN</td>\n",
       "    </tr>\n",
       "    <tr>\n",
       "      <th>1</th>\n",
       "      <td>NaN</td>\n",
       "    </tr>\n",
       "    <tr>\n",
       "      <th>2</th>\n",
       "      <td>1988-12-07</td>\n",
       "    </tr>\n",
       "    <tr>\n",
       "      <th>3</th>\n",
       "      <td>NaN</td>\n",
       "    </tr>\n",
       "    <tr>\n",
       "      <th>4</th>\n",
       "      <td>1996-11-25</td>\n",
       "    </tr>\n",
       "  </tbody>\n",
       "</table>\n",
       "</div>"
      ],
      "text/plain": [
       "        Datum\n",
       "0         NaN\n",
       "1         NaN\n",
       "2  1988-12-07\n",
       "3         NaN\n",
       "4  1996-11-25"
      ]
     },
     "execution_count": 15,
     "metadata": {},
     "output_type": "execute_result"
    }
   ],
   "source": [
    "query = PropertyIsEqualTo(propertyname='gemeente',\n",
    "                          literal='Gent')\n",
    "df = itp.search(query=query,\n",
    "                return_fields=('Datum',))\n",
    "df.head()"
   ]
  },
  {
   "cell_type": "code",
   "execution_count": 16,
   "metadata": {},
   "outputs": [
    {
     "data": {
      "text/html": [
       "<div>\n",
       "<style scoped>\n",
       "    .dataframe tbody tr th:only-of-type {\n",
       "        vertical-align: middle;\n",
       "    }\n",
       "\n",
       "    .dataframe tbody tr th {\n",
       "        vertical-align: top;\n",
       "    }\n",
       "\n",
       "    .dataframe thead th {\n",
       "        text-align: right;\n",
       "    }\n",
       "</style>\n",
       "<table border=\"1\" class=\"dataframe\">\n",
       "  <thead>\n",
       "    <tr style=\"text-align: right;\">\n",
       "      <th></th>\n",
       "      <th>Datum</th>\n",
       "    </tr>\n",
       "  </thead>\n",
       "  <tbody>\n",
       "    <tr>\n",
       "      <th>count</th>\n",
       "      <td>640</td>\n",
       "    </tr>\n",
       "    <tr>\n",
       "      <th>unique</th>\n",
       "      <td>247</td>\n",
       "    </tr>\n",
       "    <tr>\n",
       "      <th>top</th>\n",
       "      <td>1996-11-25</td>\n",
       "    </tr>\n",
       "    <tr>\n",
       "      <th>freq</th>\n",
       "      <td>41</td>\n",
       "    </tr>\n",
       "  </tbody>\n",
       "</table>\n",
       "</div>"
      ],
      "text/plain": [
       "             Datum\n",
       "count          640\n",
       "unique         247\n",
       "top     1996-11-25\n",
       "freq            41"
      ]
     },
     "execution_count": 16,
     "metadata": {},
     "output_type": "execute_result"
    }
   ],
   "source": [
    "df.describe()"
   ]
  },
  {
   "cell_type": "markdown",
   "metadata": {},
   "source": [
    "### Get 'informele stratigrafie' based on fields not available in the standard output dataframe"
   ]
  },
  {
   "cell_type": "markdown",
   "metadata": {},
   "source": [
    "To keep the output dataframe size acceptable, not all available WFS fields are included in the standard output. However, one can use this information to select interpretations as illustrated below.\n",
    "\n",
    "For example, make a selection of the interpretations in municipality the of Antwerp, before 1/1/1900:"
   ]
  },
  {
   "cell_type": "code",
   "execution_count": 17,
   "metadata": {},
   "outputs": [
    {
     "data": {
      "text/html": [
       "<div>\n",
       "<style scoped>\n",
       "    .dataframe tbody tr th:only-of-type {\n",
       "        vertical-align: middle;\n",
       "    }\n",
       "\n",
       "    .dataframe tbody tr th {\n",
       "        vertical-align: top;\n",
       "    }\n",
       "\n",
       "    .dataframe thead th {\n",
       "        text-align: right;\n",
       "    }\n",
       "</style>\n",
       "<table border=\"1\" class=\"dataframe\">\n",
       "  <thead>\n",
       "    <tr style=\"text-align: right;\">\n",
       "      <th></th>\n",
       "      <th>pkey_interpretatie</th>\n",
       "      <th>Datum</th>\n",
       "    </tr>\n",
       "  </thead>\n",
       "  <tbody>\n",
       "    <tr>\n",
       "      <th>0</th>\n",
       "      <td>https://www.dov.vlaanderen.be/data/interpretat...</td>\n",
       "      <td>1879-08-18</td>\n",
       "    </tr>\n",
       "    <tr>\n",
       "      <th>1</th>\n",
       "      <td>https://www.dov.vlaanderen.be/data/interpretat...</td>\n",
       "      <td>1894-04-27</td>\n",
       "    </tr>\n",
       "    <tr>\n",
       "      <th>2</th>\n",
       "      <td>https://www.dov.vlaanderen.be/data/interpretat...</td>\n",
       "      <td>1895-04-11</td>\n",
       "    </tr>\n",
       "    <tr>\n",
       "      <th>3</th>\n",
       "      <td>https://www.dov.vlaanderen.be/data/interpretat...</td>\n",
       "      <td>1895-04-08</td>\n",
       "    </tr>\n",
       "    <tr>\n",
       "      <th>4</th>\n",
       "      <td>https://www.dov.vlaanderen.be/data/interpretat...</td>\n",
       "      <td>1886-01-01</td>\n",
       "    </tr>\n",
       "  </tbody>\n",
       "</table>\n",
       "</div>"
      ],
      "text/plain": [
       "                                  pkey_interpretatie       Datum\n",
       "0  https://www.dov.vlaanderen.be/data/interpretat...  1879-08-18\n",
       "1  https://www.dov.vlaanderen.be/data/interpretat...  1894-04-27\n",
       "2  https://www.dov.vlaanderen.be/data/interpretat...  1895-04-11\n",
       "3  https://www.dov.vlaanderen.be/data/interpretat...  1895-04-08\n",
       "4  https://www.dov.vlaanderen.be/data/interpretat...  1886-01-01"
      ]
     },
     "execution_count": 17,
     "metadata": {},
     "output_type": "execute_result"
    }
   ],
   "source": [
    "from owslib.fes import And, PropertyIsEqualTo, PropertyIsLessThan\n",
    "\n",
    "query = And([PropertyIsEqualTo(propertyname='gemeente',\n",
    "                               literal='Antwerpen'),\n",
    "             PropertyIsLessThan(propertyname='Datum', \n",
    "                                 literal='1900-01-01')]\n",
    "            )\n",
    "df = itp.search(query=query,\n",
    "                return_fields=('pkey_interpretatie', 'Datum'))\n",
    "df.head()"
   ]
  },
  {
   "cell_type": "markdown",
   "metadata": {},
   "source": [
    "### Get 'informele stratigrafie' data, returning fields not available in the standard output dataframe"
   ]
  },
  {
   "cell_type": "markdown",
   "metadata": {},
   "source": [
    "As denoted in the previous example, not all available fields are available in the default output frame to keep its size limited. However, you can request any available field by including it in the *return_fields* parameter of the search:"
   ]
  },
  {
   "cell_type": "code",
   "execution_count": 18,
   "metadata": {},
   "outputs": [
    {
     "data": {
      "text/html": [
       "<div>\n",
       "<style scoped>\n",
       "    .dataframe tbody tr th:only-of-type {\n",
       "        vertical-align: middle;\n",
       "    }\n",
       "\n",
       "    .dataframe tbody tr th {\n",
       "        vertical-align: top;\n",
       "    }\n",
       "\n",
       "    .dataframe thead th {\n",
       "        text-align: right;\n",
       "    }\n",
       "</style>\n",
       "<table border=\"1\" class=\"dataframe\">\n",
       "  <thead>\n",
       "    <tr style=\"text-align: right;\">\n",
       "      <th></th>\n",
       "      <th>pkey_interpretatie</th>\n",
       "      <th>pkey_boring</th>\n",
       "      <th>pkey_sondering</th>\n",
       "      <th>x</th>\n",
       "      <th>y</th>\n",
       "      <th>Auteurs</th>\n",
       "      <th>Z_mTAW</th>\n",
       "      <th>Proefnummer</th>\n",
       "      <th>gemeente</th>\n",
       "    </tr>\n",
       "  </thead>\n",
       "  <tbody>\n",
       "    <tr>\n",
       "      <th>0</th>\n",
       "      <td>https://www.dov.vlaanderen.be/data/interpretat...</td>\n",
       "      <td>https://www.dov.vlaanderen.be/data/boring/2016...</td>\n",
       "      <td>NaN</td>\n",
       "      <td>224687.4</td>\n",
       "      <td>158191.0</td>\n",
       "      <td>Rutôt, A. - Belgische Geologische Dienst (BGD)</td>\n",
       "      <td>124.0</td>\n",
       "      <td>kb33d106e-B236</td>\n",
       "      <td>Herstappe</td>\n",
       "    </tr>\n",
       "    <tr>\n",
       "      <th>1</th>\n",
       "      <td>https://www.dov.vlaanderen.be/data/interpretat...</td>\n",
       "      <td>https://www.dov.vlaanderen.be/data/boring/1993...</td>\n",
       "      <td>NaN</td>\n",
       "      <td>224820.0</td>\n",
       "      <td>157794.0</td>\n",
       "      <td>boormeester - bedrijf-dienst onbekend</td>\n",
       "      <td>132.0</td>\n",
       "      <td>kb41d120e-B1027</td>\n",
       "      <td>Herstappe</td>\n",
       "    </tr>\n",
       "    <tr>\n",
       "      <th>2</th>\n",
       "      <td>https://www.dov.vlaanderen.be/data/interpretat...</td>\n",
       "      <td>https://www.dov.vlaanderen.be/data/boring/1993...</td>\n",
       "      <td>NaN</td>\n",
       "      <td>224820.0</td>\n",
       "      <td>157794.0</td>\n",
       "      <td>Lagrou, David - VLAKO</td>\n",
       "      <td>132.0</td>\n",
       "      <td>kb41d120e-B1027</td>\n",
       "      <td>Herstappe</td>\n",
       "    </tr>\n",
       "  </tbody>\n",
       "</table>\n",
       "</div>"
      ],
      "text/plain": [
       "                                  pkey_interpretatie  \\\n",
       "0  https://www.dov.vlaanderen.be/data/interpretat...   \n",
       "1  https://www.dov.vlaanderen.be/data/interpretat...   \n",
       "2  https://www.dov.vlaanderen.be/data/interpretat...   \n",
       "\n",
       "                                         pkey_boring  pkey_sondering  \\\n",
       "0  https://www.dov.vlaanderen.be/data/boring/2016...             NaN   \n",
       "1  https://www.dov.vlaanderen.be/data/boring/1993...             NaN   \n",
       "2  https://www.dov.vlaanderen.be/data/boring/1993...             NaN   \n",
       "\n",
       "          x         y                                         Auteurs  Z_mTAW  \\\n",
       "0  224687.4  158191.0  Rutôt, A. - Belgische Geologische Dienst (BGD)   124.0   \n",
       "1  224820.0  157794.0           boormeester - bedrijf-dienst onbekend   132.0   \n",
       "2  224820.0  157794.0                           Lagrou, David - VLAKO   132.0   \n",
       "\n",
       "       Proefnummer   gemeente  \n",
       "0   kb33d106e-B236  Herstappe  \n",
       "1  kb41d120e-B1027  Herstappe  \n",
       "2  kb41d120e-B1027  Herstappe  "
      ]
     },
     "execution_count": 18,
     "metadata": {},
     "output_type": "execute_result"
    }
   ],
   "source": [
    "query = PropertyIsEqualTo(\n",
    "            propertyname='gemeente',\n",
    "            literal='Herstappe')\n",
    "\n",
    "df = itp.search(query=query,\n",
    "                return_fields=('pkey_interpretatie', 'pkey_boring', 'pkey_sondering',\n",
    "                               'x', 'y', 'Z_mTAW', 'gemeente', 'Auteurs', 'Proefnummer'))\n",
    "\n",
    "df.head()"
   ]
  },
  {
   "cell_type": "markdown",
   "metadata": {},
   "source": [
    "## Visualize results"
   ]
  },
  {
   "cell_type": "markdown",
   "metadata": {},
   "source": [
    "Using Folium, we can display the results of our search on a map."
   ]
  },
  {
   "cell_type": "code",
   "execution_count": 19,
   "metadata": {
    "collapsed": true
   },
   "outputs": [],
   "source": [
    "# import the necessary modules (not included in the requirements of pydov!)\n",
    "import folium\n",
    "from folium.plugins import MarkerCluster\n",
    "from pyproj import Proj, transform"
   ]
  },
  {
   "cell_type": "code",
   "execution_count": 20,
   "metadata": {
    "collapsed": true
   },
   "outputs": [],
   "source": [
    "# convert the coordinates to lat/lon for folium\n",
    "def convert_latlon(x1, y1):\n",
    "    inProj = Proj(init='epsg:31370')\n",
    "    outProj = Proj(init='epsg:4326')\n",
    "    x2,y2 = transform(inProj, outProj, x1, y1)\n",
    "    return x2, y2\n",
    "df['lon'], df['lat'] = zip(*map(convert_latlon, df['x'], df['y'])) \n",
    "# convert to list\n",
    "loclist = df[['lat', 'lon']].values.tolist()"
   ]
  },
  {
   "cell_type": "code",
   "execution_count": 21,
   "metadata": {},
   "outputs": [
    {
     "data": {
      "text/html": [
       "<div style=\"width:100%;\"><div style=\"position:relative;width:100%;height:0;padding-bottom:60%;\"><iframe src=\"data:text/html;charset=utf-8;base64,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\" style=\"position:absolute;width:100%;height:100%;left:0;top:0;border:none !important;\" allowfullscreen webkitallowfullscreen mozallowfullscreen></iframe></div></div>"
      ],
      "text/plain": [
       "<folium.folium.Map at 0x119dac50>"
      ]
     },
     "execution_count": 21,
     "metadata": {},
     "output_type": "execute_result"
    }
   ],
   "source": [
    "# initialize the Folium map on the centre of the selected locations, play with the zoom until ok\n",
    "fmap = folium.Map(location=[df['lat'].mean(), df['lon'].mean()], zoom_start=12)\n",
    "marker_cluster = MarkerCluster().add_to(fmap)\n",
    "for loc in range(0, len(loclist)):\n",
    "    folium.Marker(loclist[loc], popup=df['Proefnummer'][loc]).add_to(marker_cluster)\n",
    "fmap\n"
   ]
  },
  {
   "cell_type": "code",
   "execution_count": null,
   "metadata": {
    "collapsed": true
   },
   "outputs": [],
   "source": []
  }
 ],
 "metadata": {
  "kernelspec": {
   "display_name": "Python 2",
   "language": "python",
   "name": "python2"
  },
  "language_info": {
   "codemirror_mode": {
    "name": "ipython",
    "version": 2
   },
   "file_extension": ".py",
   "mimetype": "text/x-python",
   "name": "python",
   "nbconvert_exporter": "python",
   "pygments_lexer": "ipython2",
   "version": "2.7.13"
  }
 },
 "nbformat": 4,
 "nbformat_minor": 2
}
