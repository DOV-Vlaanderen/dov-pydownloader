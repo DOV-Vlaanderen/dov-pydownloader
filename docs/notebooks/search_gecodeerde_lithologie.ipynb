{
 "cells": [
  {
   "cell_type": "markdown",
   "metadata": {},
   "source": [
    "# Example of DOV search methods for interpretations (gecodeerde lithologie)"
   ]
  },
  {
   "cell_type": "markdown",
   "metadata": {},
   "source": [
    "## Use cases explained below\n",
    "* Get 'gecodeerde lithologie' in a bounding box\n",
    "* Get 'gecodeerde lithologie' with specific properties within a distance from a point\n",
    "* Get 'gecodeerde lithologie' in a bounding box with specific properties\n",
    "* Get 'gecodeerde lithologie' based on fields not available in the standard output dataframe\n",
    "* Get 'gecodeerde lithologie' data, returning fields not available in the standard output dataframe"
   ]
  },
  {
   "cell_type": "code",
   "execution_count": 1,
   "metadata": {},
   "outputs": [],
   "source": [
    "%matplotlib inline\n",
    "import inspect, sys\n",
    "import warnings; warnings.simplefilter('ignore')"
   ]
  },
  {
   "cell_type": "code",
   "execution_count": 2,
   "metadata": {},
   "outputs": [],
   "source": [
    "# check pydov path\n",
    "import pydov"
   ]
  },
  {
   "cell_type": "markdown",
   "metadata": {},
   "source": [
    "## Get information about the datatype 'Gecodeerde lithologie'"
   ]
  },
  {
   "cell_type": "code",
   "execution_count": 5,
   "metadata": {},
   "outputs": [],
   "source": [
    "from pydov.search.interpretaties import GecodeerdeLithologieSearch\n",
    "itp = GecodeerdeLithologieSearch()"
   ]
  },
  {
   "cell_type": "markdown",
   "metadata": {},
   "source": [
    "A description is provided for the 'Gecodeerde lithologie' datatype:"
   ]
  },
  {
   "cell_type": "code",
   "execution_count": 6,
   "metadata": {},
   "outputs": [
    {
     "data": {
      "text/plain": [
       "'Een gecodeerde lithologie van een boring is een geologische codering van een lithologische beschrijving op basis van een vaste DOV-standaard per diepte-interval. U vindt een overzicht van de gebruikte standaarden op onze website.'"
      ]
     },
     "execution_count": 6,
     "metadata": {},
     "output_type": "execute_result"
    }
   ],
   "source": [
    "itp.get_description()"
   ]
  },
  {
   "cell_type": "markdown",
   "metadata": {},
   "source": [
    "The different fields that are available for objects of the 'Gecodeerde lithologie' datatype can be requested with the get_fields() method:"
   ]
  },
  {
   "cell_type": "code",
   "execution_count": 7,
   "metadata": {},
   "outputs": [
    {
     "name": "stdout",
     "output_type": "stream",
     "text": [
      "generated_id\n",
      "pkey_interpretatie\n",
      "Type_proef\n",
      "Proefnummer\n",
      "pkey_boring\n",
      "x\n",
      "y\n",
      "Z_mTAW\n",
      "diepte_tot_m\n",
      "gemeente\n",
      "Auteurs\n",
      "Datum\n",
      "Opdrachten\n",
      "betrouwbaarheid_interpretatie\n",
      "Geldig_van\n",
      "Geldig_tot\n",
      "diepte_laag_van\n",
      "diepte_laag_tot\n",
      "hoofdnaam1_grondsoort\n",
      "hoofdnaam2_grondsoort\n",
      "bijmenging1_plaatselijk\n",
      "bijmenging1_hoeveelheid\n",
      "bijmenging1_grondsoort\n",
      "bijmenging2_plaatselijk\n",
      "bijmenging2_hoeveelheid\n",
      "bijmenging2_grondsoort\n",
      "bijmenging3_plaatselijk\n",
      "bijmenging3_hoeveelheid\n",
      "bijmenging3_grondsoort\n"
     ]
    }
   ],
   "source": [
    "fields = itp.get_fields()\n",
    "\n",
    "# print available fields\n",
    "for f in fields.values():\n",
    "    print(f['name'])"
   ]
  },
  {
   "cell_type": "markdown",
   "metadata": {},
   "source": [
    "You can get more information of a field by requesting it from the fields dictionary:\n",
    "* *name*: name of the field\n",
    "* *definition*: definition of this field\n",
    "* *cost*: currently this is either 1 or 10, depending on the datasource of the field. It is an indication of the expected time it will take to retrieve this field in the output dataframe.\n",
    "* *notnull*: whether the field is mandatory or not\n",
    "* *type*: datatype of the values of this field"
   ]
  },
  {
   "cell_type": "code",
   "execution_count": 8,
   "metadata": {},
   "outputs": [
    {
     "data": {
      "text/plain": [
       "{'cost': 1,\n",
       " 'definition': 'De datum waarop de gecodeerde lithologie werd beschreven.',\n",
       " 'name': 'Datum',\n",
       " 'notnull': False,\n",
       " 'query': True,\n",
       " 'type': 'date'}"
      ]
     },
     "execution_count": 8,
     "metadata": {},
     "output_type": "execute_result"
    }
   ],
   "source": [
    "fields['Datum']"
   ]
  },
  {
   "cell_type": "markdown",
   "metadata": {},
   "source": [
    "## Example use cases"
   ]
  },
  {
   "cell_type": "markdown",
   "metadata": {},
   "source": [
    "### Get 'Gecodeerde lithologie' in a bounding box"
   ]
  },
  {
   "cell_type": "markdown",
   "metadata": {},
   "source": [
    "Get data for all the 'Gecodeerde lithologie' interpretations that are geographically located within the bounds of the specified box.\n",
    "\n",
    "The coordinates are in the Belgian Lambert72 (EPSG:31370) coordinate system and are given in the order of lower left x, lower left y, upper right x, upper right y."
   ]
  },
  {
   "cell_type": "code",
   "execution_count": 9,
   "metadata": {},
   "outputs": [
    {
     "name": "stdout",
     "output_type": "stream",
     "text": [
      "[000/001] .\n"
     ]
    },
    {
     "data": {
      "text/html": [
       "<div>\n",
       "<style scoped>\n",
       "    .dataframe tbody tr th:only-of-type {\n",
       "        vertical-align: middle;\n",
       "    }\n",
       "\n",
       "    .dataframe tbody tr th {\n",
       "        vertical-align: top;\n",
       "    }\n",
       "\n",
       "    .dataframe thead th {\n",
       "        text-align: right;\n",
       "    }\n",
       "</style>\n",
       "<table border=\"1\" class=\"dataframe\">\n",
       "  <thead>\n",
       "    <tr style=\"text-align: right;\">\n",
       "      <th></th>\n",
       "      <th>pkey_interpretatie</th>\n",
       "      <th>pkey_boring</th>\n",
       "      <th>betrouwbaarheid_interpretatie</th>\n",
       "      <th>x</th>\n",
       "      <th>y</th>\n",
       "      <th>diepte_laag_van</th>\n",
       "      <th>diepte_laag_tot</th>\n",
       "      <th>hoofdnaam1_grondsoort</th>\n",
       "      <th>hoofdnaam2_grondsoort</th>\n",
       "      <th>bijmenging1_plaatselijk</th>\n",
       "      <th>bijmenging1_hoeveelheid</th>\n",
       "      <th>bijmenging1_grondsoort</th>\n",
       "      <th>bijmenging2_plaatselijk</th>\n",
       "      <th>bijmenging2_hoeveelheid</th>\n",
       "      <th>bijmenging2_grondsoort</th>\n",
       "      <th>bijmenging3_plaatselijk</th>\n",
       "      <th>bijmenging3_hoeveelheid</th>\n",
       "      <th>bijmenging3_grondsoort</th>\n",
       "    </tr>\n",
       "  </thead>\n",
       "  <tbody>\n",
       "    <tr>\n",
       "      <th>0</th>\n",
       "      <td>https://www.dov.vlaanderen.be/data/interpretat...</td>\n",
       "      <td>https://www.dov.vlaanderen.be/data/boring/1974...</td>\n",
       "      <td>goed</td>\n",
       "      <td>153147.0</td>\n",
       "      <td>206931.0</td>\n",
       "      <td>0.0</td>\n",
       "      <td>0.5</td>\n",
       "      <td>LE</td>\n",
       "      <td>NaN</td>\n",
       "      <td>False</td>\n",
       "      <td>N</td>\n",
       "      <td>XZ</td>\n",
       "      <td>NaN</td>\n",
       "      <td>NaN</td>\n",
       "      <td>NaN</td>\n",
       "      <td>NaN</td>\n",
       "      <td>NaN</td>\n",
       "      <td>NaN</td>\n",
       "    </tr>\n",
       "    <tr>\n",
       "      <th>1</th>\n",
       "      <td>https://www.dov.vlaanderen.be/data/interpretat...</td>\n",
       "      <td>https://www.dov.vlaanderen.be/data/boring/1974...</td>\n",
       "      <td>goed</td>\n",
       "      <td>153147.0</td>\n",
       "      <td>206931.0</td>\n",
       "      <td>0.5</td>\n",
       "      <td>1.0</td>\n",
       "      <td>LE</td>\n",
       "      <td>NaN</td>\n",
       "      <td>NaN</td>\n",
       "      <td>NaN</td>\n",
       "      <td>NaN</td>\n",
       "      <td>NaN</td>\n",
       "      <td>NaN</td>\n",
       "      <td>NaN</td>\n",
       "      <td>NaN</td>\n",
       "      <td>NaN</td>\n",
       "      <td>NaN</td>\n",
       "    </tr>\n",
       "    <tr>\n",
       "      <th>2</th>\n",
       "      <td>https://www.dov.vlaanderen.be/data/interpretat...</td>\n",
       "      <td>https://www.dov.vlaanderen.be/data/boring/1974...</td>\n",
       "      <td>goed</td>\n",
       "      <td>153147.0</td>\n",
       "      <td>206931.0</td>\n",
       "      <td>1.0</td>\n",
       "      <td>2.5</td>\n",
       "      <td>KL</td>\n",
       "      <td>NaN</td>\n",
       "      <td>False</td>\n",
       "      <td>N</td>\n",
       "      <td>XZ</td>\n",
       "      <td>NaN</td>\n",
       "      <td>NaN</td>\n",
       "      <td>NaN</td>\n",
       "      <td>NaN</td>\n",
       "      <td>NaN</td>\n",
       "      <td>NaN</td>\n",
       "    </tr>\n",
       "    <tr>\n",
       "      <th>3</th>\n",
       "      <td>https://www.dov.vlaanderen.be/data/interpretat...</td>\n",
       "      <td>https://www.dov.vlaanderen.be/data/boring/1974...</td>\n",
       "      <td>goed</td>\n",
       "      <td>153147.0</td>\n",
       "      <td>206931.0</td>\n",
       "      <td>2.5</td>\n",
       "      <td>3.5</td>\n",
       "      <td>FZ</td>\n",
       "      <td>NaN</td>\n",
       "      <td>False</td>\n",
       "      <td>N</td>\n",
       "      <td>GL</td>\n",
       "      <td>False</td>\n",
       "      <td>N</td>\n",
       "      <td>KL</td>\n",
       "      <td>NaN</td>\n",
       "      <td>NaN</td>\n",
       "      <td>NaN</td>\n",
       "    </tr>\n",
       "    <tr>\n",
       "      <th>4</th>\n",
       "      <td>https://www.dov.vlaanderen.be/data/interpretat...</td>\n",
       "      <td>https://www.dov.vlaanderen.be/data/boring/1974...</td>\n",
       "      <td>goed</td>\n",
       "      <td>153147.0</td>\n",
       "      <td>206931.0</td>\n",
       "      <td>3.5</td>\n",
       "      <td>7.0</td>\n",
       "      <td>FZ</td>\n",
       "      <td>NaN</td>\n",
       "      <td>False</td>\n",
       "      <td>N</td>\n",
       "      <td>GL</td>\n",
       "      <td>NaN</td>\n",
       "      <td>NaN</td>\n",
       "      <td>NaN</td>\n",
       "      <td>NaN</td>\n",
       "      <td>NaN</td>\n",
       "      <td>NaN</td>\n",
       "    </tr>\n",
       "  </tbody>\n",
       "</table>\n",
       "</div>"
      ],
      "text/plain": [
       "                                  pkey_interpretatie  \\\n",
       "0  https://www.dov.vlaanderen.be/data/interpretat...   \n",
       "1  https://www.dov.vlaanderen.be/data/interpretat...   \n",
       "2  https://www.dov.vlaanderen.be/data/interpretat...   \n",
       "3  https://www.dov.vlaanderen.be/data/interpretat...   \n",
       "4  https://www.dov.vlaanderen.be/data/interpretat...   \n",
       "\n",
       "                                         pkey_boring  \\\n",
       "0  https://www.dov.vlaanderen.be/data/boring/1974...   \n",
       "1  https://www.dov.vlaanderen.be/data/boring/1974...   \n",
       "2  https://www.dov.vlaanderen.be/data/boring/1974...   \n",
       "3  https://www.dov.vlaanderen.be/data/boring/1974...   \n",
       "4  https://www.dov.vlaanderen.be/data/boring/1974...   \n",
       "\n",
       "  betrouwbaarheid_interpretatie         x         y  diepte_laag_van  \\\n",
       "0                          goed  153147.0  206931.0              0.0   \n",
       "1                          goed  153147.0  206931.0              0.5   \n",
       "2                          goed  153147.0  206931.0              1.0   \n",
       "3                          goed  153147.0  206931.0              2.5   \n",
       "4                          goed  153147.0  206931.0              3.5   \n",
       "\n",
       "   diepte_laag_tot hoofdnaam1_grondsoort  hoofdnaam2_grondsoort  \\\n",
       "0              0.5                    LE                    NaN   \n",
       "1              1.0                    LE                    NaN   \n",
       "2              2.5                    KL                    NaN   \n",
       "3              3.5                    FZ                    NaN   \n",
       "4              7.0                    FZ                    NaN   \n",
       "\n",
       "  bijmenging1_plaatselijk bijmenging1_hoeveelheid bijmenging1_grondsoort  \\\n",
       "0                   False                       N                     XZ   \n",
       "1                     NaN                     NaN                    NaN   \n",
       "2                   False                       N                     XZ   \n",
       "3                   False                       N                     GL   \n",
       "4                   False                       N                     GL   \n",
       "\n",
       "  bijmenging2_plaatselijk bijmenging2_hoeveelheid bijmenging2_grondsoort  \\\n",
       "0                     NaN                     NaN                    NaN   \n",
       "1                     NaN                     NaN                    NaN   \n",
       "2                     NaN                     NaN                    NaN   \n",
       "3                   False                       N                     KL   \n",
       "4                     NaN                     NaN                    NaN   \n",
       "\n",
       "   bijmenging3_plaatselijk  bijmenging3_hoeveelheid  bijmenging3_grondsoort  \n",
       "0                      NaN                      NaN                     NaN  \n",
       "1                      NaN                      NaN                     NaN  \n",
       "2                      NaN                      NaN                     NaN  \n",
       "3                      NaN                      NaN                     NaN  \n",
       "4                      NaN                      NaN                     NaN  "
      ]
     },
     "execution_count": 9,
     "metadata": {},
     "output_type": "execute_result"
    }
   ],
   "source": [
    "from pydov.util.location import Within, Box\n",
    "\n",
    "df = itp.search(location=Within(Box(153145, 206930, 153150, 206935)))\n",
    "df.head()"
   ]
  },
  {
   "cell_type": "markdown",
   "metadata": {},
   "source": [
    "The dataframe contains one 'Gecodeerde lithologie' interpretation where five layers ('laag') were identified. The available data are flattened to represent unique attributes per row of the dataframe.\n",
    "\n",
    "Using the *pkey_interpretatie* field one can request the details of this interpretation in a webbrowser:"
   ]
  },
  {
   "cell_type": "code",
   "execution_count": 10,
   "metadata": {},
   "outputs": [
    {
     "name": "stdout",
     "output_type": "stream",
     "text": [
      "https://www.dov.vlaanderen.be/data/interpretatie/2001-186544\n"
     ]
    }
   ],
   "source": [
    "for pkey_interpretatie in set(df.pkey_interpretatie):\n",
    "    print(pkey_interpretatie)"
   ]
  },
  {
   "cell_type": "markdown",
   "metadata": {},
   "source": [
    "### Get 'Gecodeerde lithologie' with specific properties within a distance from a point"
   ]
  },
  {
   "cell_type": "markdown",
   "metadata": {},
   "source": [
    "Next to querying interpretations based on their geographic location within a bounding box, we can also search for interpretations matching a specific set of properties. For this we can build a query using a combination of the 'Gecodeerde lithologie' fields and operators provided by the WFS protocol.\n",
    "\n",
    "A list of possible operators can be found below:"
   ]
  },
  {
   "cell_type": "code",
   "execution_count": 11,
   "metadata": {},
   "outputs": [
    {
     "data": {
      "text/plain": [
       "['PropertyIsBetween',\n",
       " 'PropertyIsEqualTo',\n",
       " 'PropertyIsGreaterThan',\n",
       " 'PropertyIsGreaterThanOrEqualTo',\n",
       " 'PropertyIsLessThan',\n",
       " 'PropertyIsLessThanOrEqualTo',\n",
       " 'PropertyIsLike',\n",
       " 'PropertyIsNotEqualTo',\n",
       " 'PropertyIsNull',\n",
       " 'SortProperty']"
      ]
     },
     "execution_count": 11,
     "metadata": {},
     "output_type": "execute_result"
    }
   ],
   "source": [
    "[i for i,j in inspect.getmembers(sys.modules['owslib.fes'], inspect.isclass) if 'Property' in i]"
   ]
  },
  {
   "cell_type": "markdown",
   "metadata": {},
   "source": [
    "In this example we build a query using the *PropertyIsGreaterThan* and *PropertyIsEqualTo* operators to find all interpretations that are at least 20 m deep, that are deemed appropriate for a range of 1 km from a defined point:"
   ]
  },
  {
   "cell_type": "code",
   "execution_count": 12,
   "metadata": {},
   "outputs": [
    {
     "name": "stdout",
     "output_type": "stream",
     "text": [
      "[000/002] ..\n"
     ]
    },
    {
     "data": {
      "text/html": [
       "<div>\n",
       "<style scoped>\n",
       "    .dataframe tbody tr th:only-of-type {\n",
       "        vertical-align: middle;\n",
       "    }\n",
       "\n",
       "    .dataframe tbody tr th {\n",
       "        vertical-align: top;\n",
       "    }\n",
       "\n",
       "    .dataframe thead th {\n",
       "        text-align: right;\n",
       "    }\n",
       "</style>\n",
       "<table border=\"1\" class=\"dataframe\">\n",
       "  <thead>\n",
       "    <tr style=\"text-align: right;\">\n",
       "      <th></th>\n",
       "      <th>pkey_interpretatie</th>\n",
       "      <th>pkey_boring</th>\n",
       "      <th>betrouwbaarheid_interpretatie</th>\n",
       "      <th>x</th>\n",
       "      <th>y</th>\n",
       "      <th>diepte_laag_van</th>\n",
       "      <th>diepte_laag_tot</th>\n",
       "      <th>hoofdnaam1_grondsoort</th>\n",
       "      <th>hoofdnaam2_grondsoort</th>\n",
       "      <th>bijmenging1_plaatselijk</th>\n",
       "      <th>bijmenging1_hoeveelheid</th>\n",
       "      <th>bijmenging1_grondsoort</th>\n",
       "      <th>bijmenging2_plaatselijk</th>\n",
       "      <th>bijmenging2_hoeveelheid</th>\n",
       "      <th>bijmenging2_grondsoort</th>\n",
       "      <th>bijmenging3_plaatselijk</th>\n",
       "      <th>bijmenging3_hoeveelheid</th>\n",
       "      <th>bijmenging3_grondsoort</th>\n",
       "    </tr>\n",
       "  </thead>\n",
       "  <tbody>\n",
       "    <tr>\n",
       "      <th>0</th>\n",
       "      <td>https://www.dov.vlaanderen.be/data/interpretat...</td>\n",
       "      <td>https://www.dov.vlaanderen.be/data/boring/1994...</td>\n",
       "      <td>goed</td>\n",
       "      <td>152565.03</td>\n",
       "      <td>207059.35</td>\n",
       "      <td>0.0</td>\n",
       "      <td>1.0</td>\n",
       "      <td>FZ</td>\n",
       "      <td>NaN</td>\n",
       "      <td>False</td>\n",
       "      <td>M</td>\n",
       "      <td>KA</td>\n",
       "      <td>NaN</td>\n",
       "      <td>NaN</td>\n",
       "      <td>NaN</td>\n",
       "      <td>NaN</td>\n",
       "      <td>NaN</td>\n",
       "      <td>NaN</td>\n",
       "    </tr>\n",
       "    <tr>\n",
       "      <th>1</th>\n",
       "      <td>https://www.dov.vlaanderen.be/data/interpretat...</td>\n",
       "      <td>https://www.dov.vlaanderen.be/data/boring/1994...</td>\n",
       "      <td>goed</td>\n",
       "      <td>152565.03</td>\n",
       "      <td>207059.35</td>\n",
       "      <td>1.0</td>\n",
       "      <td>2.0</td>\n",
       "      <td>FZ</td>\n",
       "      <td>NaN</td>\n",
       "      <td>False</td>\n",
       "      <td>M</td>\n",
       "      <td>SF</td>\n",
       "      <td>False</td>\n",
       "      <td>M</td>\n",
       "      <td>ST</td>\n",
       "      <td>NaN</td>\n",
       "      <td>NaN</td>\n",
       "      <td>NaN</td>\n",
       "    </tr>\n",
       "    <tr>\n",
       "      <th>2</th>\n",
       "      <td>https://www.dov.vlaanderen.be/data/interpretat...</td>\n",
       "      <td>https://www.dov.vlaanderen.be/data/boring/1994...</td>\n",
       "      <td>goed</td>\n",
       "      <td>152565.03</td>\n",
       "      <td>207059.35</td>\n",
       "      <td>2.0</td>\n",
       "      <td>4.0</td>\n",
       "      <td>FZ</td>\n",
       "      <td>NaN</td>\n",
       "      <td>False</td>\n",
       "      <td>M</td>\n",
       "      <td>SF</td>\n",
       "      <td>False</td>\n",
       "      <td>M</td>\n",
       "      <td>ST</td>\n",
       "      <td>NaN</td>\n",
       "      <td>NaN</td>\n",
       "      <td>NaN</td>\n",
       "    </tr>\n",
       "    <tr>\n",
       "      <th>3</th>\n",
       "      <td>https://www.dov.vlaanderen.be/data/interpretat...</td>\n",
       "      <td>https://www.dov.vlaanderen.be/data/boring/1994...</td>\n",
       "      <td>goed</td>\n",
       "      <td>152565.03</td>\n",
       "      <td>207059.35</td>\n",
       "      <td>4.0</td>\n",
       "      <td>18.0</td>\n",
       "      <td>FZ</td>\n",
       "      <td>NaN</td>\n",
       "      <td>False</td>\n",
       "      <td>M</td>\n",
       "      <td>GL</td>\n",
       "      <td>False</td>\n",
       "      <td>M</td>\n",
       "      <td>SF</td>\n",
       "      <td>False</td>\n",
       "      <td>M</td>\n",
       "      <td>ST</td>\n",
       "    </tr>\n",
       "    <tr>\n",
       "      <th>4</th>\n",
       "      <td>https://www.dov.vlaanderen.be/data/interpretat...</td>\n",
       "      <td>https://www.dov.vlaanderen.be/data/boring/1994...</td>\n",
       "      <td>goed</td>\n",
       "      <td>152565.03</td>\n",
       "      <td>207059.35</td>\n",
       "      <td>18.0</td>\n",
       "      <td>19.0</td>\n",
       "      <td>FZ</td>\n",
       "      <td>NaN</td>\n",
       "      <td>False</td>\n",
       "      <td>S</td>\n",
       "      <td>LE</td>\n",
       "      <td>NaN</td>\n",
       "      <td>NaN</td>\n",
       "      <td>NaN</td>\n",
       "      <td>NaN</td>\n",
       "      <td>NaN</td>\n",
       "      <td>NaN</td>\n",
       "    </tr>\n",
       "  </tbody>\n",
       "</table>\n",
       "</div>"
      ],
      "text/plain": [
       "                                  pkey_interpretatie  \\\n",
       "0  https://www.dov.vlaanderen.be/data/interpretat...   \n",
       "1  https://www.dov.vlaanderen.be/data/interpretat...   \n",
       "2  https://www.dov.vlaanderen.be/data/interpretat...   \n",
       "3  https://www.dov.vlaanderen.be/data/interpretat...   \n",
       "4  https://www.dov.vlaanderen.be/data/interpretat...   \n",
       "\n",
       "                                         pkey_boring  \\\n",
       "0  https://www.dov.vlaanderen.be/data/boring/1994...   \n",
       "1  https://www.dov.vlaanderen.be/data/boring/1994...   \n",
       "2  https://www.dov.vlaanderen.be/data/boring/1994...   \n",
       "3  https://www.dov.vlaanderen.be/data/boring/1994...   \n",
       "4  https://www.dov.vlaanderen.be/data/boring/1994...   \n",
       "\n",
       "  betrouwbaarheid_interpretatie          x          y  diepte_laag_van  \\\n",
       "0                          goed  152565.03  207059.35              0.0   \n",
       "1                          goed  152565.03  207059.35              1.0   \n",
       "2                          goed  152565.03  207059.35              2.0   \n",
       "3                          goed  152565.03  207059.35              4.0   \n",
       "4                          goed  152565.03  207059.35             18.0   \n",
       "\n",
       "   diepte_laag_tot hoofdnaam1_grondsoort hoofdnaam2_grondsoort  \\\n",
       "0              1.0                    FZ                   NaN   \n",
       "1              2.0                    FZ                   NaN   \n",
       "2              4.0                    FZ                   NaN   \n",
       "3             18.0                    FZ                   NaN   \n",
       "4             19.0                    FZ                   NaN   \n",
       "\n",
       "  bijmenging1_plaatselijk bijmenging1_hoeveelheid bijmenging1_grondsoort  \\\n",
       "0                   False                       M                     KA   \n",
       "1                   False                       M                     SF   \n",
       "2                   False                       M                     SF   \n",
       "3                   False                       M                     GL   \n",
       "4                   False                       S                     LE   \n",
       "\n",
       "  bijmenging2_plaatselijk bijmenging2_hoeveelheid bijmenging2_grondsoort  \\\n",
       "0                     NaN                     NaN                    NaN   \n",
       "1                   False                       M                     ST   \n",
       "2                   False                       M                     ST   \n",
       "3                   False                       M                     SF   \n",
       "4                     NaN                     NaN                    NaN   \n",
       "\n",
       "  bijmenging3_plaatselijk bijmenging3_hoeveelheid bijmenging3_grondsoort  \n",
       "0                     NaN                     NaN                    NaN  \n",
       "1                     NaN                     NaN                    NaN  \n",
       "2                     NaN                     NaN                    NaN  \n",
       "3                   False                       M                     ST  \n",
       "4                     NaN                     NaN                    NaN  "
      ]
     },
     "execution_count": 12,
     "metadata": {},
     "output_type": "execute_result"
    }
   ],
   "source": [
    "from owslib.fes import And, PropertyIsGreaterThan, PropertyIsEqualTo\n",
    "from pydov.util.location import WithinDistance, Point\n",
    "\n",
    "query = And([PropertyIsEqualTo(propertyname='Betrouwbaarheid',\n",
    "                              literal='goed'),\n",
    "            PropertyIsGreaterThan(propertyname='diepte_tot_m',\n",
    "                                 literal='20'),\n",
    "           ])\n",
    "            \n",
    "df = itp.search(query=query, \n",
    "                location=WithinDistance(Point(153145, 206930), 1000))\n",
    "\n",
    "df.head()"
   ]
  },
  {
   "cell_type": "markdown",
   "metadata": {},
   "source": [
    "Once again we can use the *pkey_interpretatie* as a permanent link to the information of these interpretations:"
   ]
  },
  {
   "cell_type": "code",
   "execution_count": 13,
   "metadata": {},
   "outputs": [
    {
     "name": "stdout",
     "output_type": "stream",
     "text": [
      "https://www.dov.vlaanderen.be/data/interpretatie/2016-294475\n",
      "https://www.dov.vlaanderen.be/data/interpretatie/2016-294473\n"
     ]
    }
   ],
   "source": [
    "for pkey_interpretatie in set(df.pkey_interpretatie):\n",
    "    print(pkey_interpretatie)"
   ]
  },
  {
   "cell_type": "markdown",
   "metadata": {},
   "source": [
    "### Get 'Gecodeerde lithologie' in a bounding box based on specific properties"
   ]
  },
  {
   "cell_type": "markdown",
   "metadata": {},
   "source": [
    "We can combine a query on attributes with a query on geographic location to get the interpretations within a bounding box that have specific properties.\n",
    "\n",
    "The following example requests the interpretations of boreholes only, within the given bounding box.\n",
    "\n",
    "(Note that the datatype of the *literal* parameter should be a string, regardless of the datatype of this field in the output dataframe.)"
   ]
  },
  {
   "cell_type": "code",
   "execution_count": 14,
   "metadata": {},
   "outputs": [
    {
     "name": "stdout",
     "output_type": "stream",
     "text": [
      "[000/001] c\n"
     ]
    },
    {
     "data": {
      "text/html": [
       "<div>\n",
       "<style scoped>\n",
       "    .dataframe tbody tr th:only-of-type {\n",
       "        vertical-align: middle;\n",
       "    }\n",
       "\n",
       "    .dataframe tbody tr th {\n",
       "        vertical-align: top;\n",
       "    }\n",
       "\n",
       "    .dataframe thead th {\n",
       "        text-align: right;\n",
       "    }\n",
       "</style>\n",
       "<table border=\"1\" class=\"dataframe\">\n",
       "  <thead>\n",
       "    <tr style=\"text-align: right;\">\n",
       "      <th></th>\n",
       "      <th>pkey_interpretatie</th>\n",
       "      <th>pkey_boring</th>\n",
       "      <th>betrouwbaarheid_interpretatie</th>\n",
       "      <th>x</th>\n",
       "      <th>y</th>\n",
       "      <th>diepte_laag_van</th>\n",
       "      <th>diepte_laag_tot</th>\n",
       "      <th>hoofdnaam1_grondsoort</th>\n",
       "      <th>hoofdnaam2_grondsoort</th>\n",
       "      <th>bijmenging1_plaatselijk</th>\n",
       "      <th>bijmenging1_hoeveelheid</th>\n",
       "      <th>bijmenging1_grondsoort</th>\n",
       "      <th>bijmenging2_plaatselijk</th>\n",
       "      <th>bijmenging2_hoeveelheid</th>\n",
       "      <th>bijmenging2_grondsoort</th>\n",
       "      <th>bijmenging3_plaatselijk</th>\n",
       "      <th>bijmenging3_hoeveelheid</th>\n",
       "      <th>bijmenging3_grondsoort</th>\n",
       "    </tr>\n",
       "  </thead>\n",
       "  <tbody>\n",
       "    <tr>\n",
       "      <th>0</th>\n",
       "      <td>https://www.dov.vlaanderen.be/data/interpretat...</td>\n",
       "      <td>https://www.dov.vlaanderen.be/data/boring/1974...</td>\n",
       "      <td>goed</td>\n",
       "      <td>153147.0</td>\n",
       "      <td>206931.0</td>\n",
       "      <td>0.0</td>\n",
       "      <td>0.5</td>\n",
       "      <td>LE</td>\n",
       "      <td>NaN</td>\n",
       "      <td>False</td>\n",
       "      <td>N</td>\n",
       "      <td>XZ</td>\n",
       "      <td>NaN</td>\n",
       "      <td>NaN</td>\n",
       "      <td>NaN</td>\n",
       "      <td>NaN</td>\n",
       "      <td>NaN</td>\n",
       "      <td>NaN</td>\n",
       "    </tr>\n",
       "    <tr>\n",
       "      <th>1</th>\n",
       "      <td>https://www.dov.vlaanderen.be/data/interpretat...</td>\n",
       "      <td>https://www.dov.vlaanderen.be/data/boring/1974...</td>\n",
       "      <td>goed</td>\n",
       "      <td>153147.0</td>\n",
       "      <td>206931.0</td>\n",
       "      <td>0.5</td>\n",
       "      <td>1.0</td>\n",
       "      <td>LE</td>\n",
       "      <td>NaN</td>\n",
       "      <td>NaN</td>\n",
       "      <td>NaN</td>\n",
       "      <td>NaN</td>\n",
       "      <td>NaN</td>\n",
       "      <td>NaN</td>\n",
       "      <td>NaN</td>\n",
       "      <td>NaN</td>\n",
       "      <td>NaN</td>\n",
       "      <td>NaN</td>\n",
       "    </tr>\n",
       "    <tr>\n",
       "      <th>2</th>\n",
       "      <td>https://www.dov.vlaanderen.be/data/interpretat...</td>\n",
       "      <td>https://www.dov.vlaanderen.be/data/boring/1974...</td>\n",
       "      <td>goed</td>\n",
       "      <td>153147.0</td>\n",
       "      <td>206931.0</td>\n",
       "      <td>1.0</td>\n",
       "      <td>2.5</td>\n",
       "      <td>KL</td>\n",
       "      <td>NaN</td>\n",
       "      <td>False</td>\n",
       "      <td>N</td>\n",
       "      <td>XZ</td>\n",
       "      <td>NaN</td>\n",
       "      <td>NaN</td>\n",
       "      <td>NaN</td>\n",
       "      <td>NaN</td>\n",
       "      <td>NaN</td>\n",
       "      <td>NaN</td>\n",
       "    </tr>\n",
       "    <tr>\n",
       "      <th>3</th>\n",
       "      <td>https://www.dov.vlaanderen.be/data/interpretat...</td>\n",
       "      <td>https://www.dov.vlaanderen.be/data/boring/1974...</td>\n",
       "      <td>goed</td>\n",
       "      <td>153147.0</td>\n",
       "      <td>206931.0</td>\n",
       "      <td>2.5</td>\n",
       "      <td>3.5</td>\n",
       "      <td>FZ</td>\n",
       "      <td>NaN</td>\n",
       "      <td>False</td>\n",
       "      <td>N</td>\n",
       "      <td>GL</td>\n",
       "      <td>False</td>\n",
       "      <td>N</td>\n",
       "      <td>KL</td>\n",
       "      <td>NaN</td>\n",
       "      <td>NaN</td>\n",
       "      <td>NaN</td>\n",
       "    </tr>\n",
       "    <tr>\n",
       "      <th>4</th>\n",
       "      <td>https://www.dov.vlaanderen.be/data/interpretat...</td>\n",
       "      <td>https://www.dov.vlaanderen.be/data/boring/1974...</td>\n",
       "      <td>goed</td>\n",
       "      <td>153147.0</td>\n",
       "      <td>206931.0</td>\n",
       "      <td>3.5</td>\n",
       "      <td>7.0</td>\n",
       "      <td>FZ</td>\n",
       "      <td>NaN</td>\n",
       "      <td>False</td>\n",
       "      <td>N</td>\n",
       "      <td>GL</td>\n",
       "      <td>NaN</td>\n",
       "      <td>NaN</td>\n",
       "      <td>NaN</td>\n",
       "      <td>NaN</td>\n",
       "      <td>NaN</td>\n",
       "      <td>NaN</td>\n",
       "    </tr>\n",
       "  </tbody>\n",
       "</table>\n",
       "</div>"
      ],
      "text/plain": [
       "                                  pkey_interpretatie  \\\n",
       "0  https://www.dov.vlaanderen.be/data/interpretat...   \n",
       "1  https://www.dov.vlaanderen.be/data/interpretat...   \n",
       "2  https://www.dov.vlaanderen.be/data/interpretat...   \n",
       "3  https://www.dov.vlaanderen.be/data/interpretat...   \n",
       "4  https://www.dov.vlaanderen.be/data/interpretat...   \n",
       "\n",
       "                                         pkey_boring  \\\n",
       "0  https://www.dov.vlaanderen.be/data/boring/1974...   \n",
       "1  https://www.dov.vlaanderen.be/data/boring/1974...   \n",
       "2  https://www.dov.vlaanderen.be/data/boring/1974...   \n",
       "3  https://www.dov.vlaanderen.be/data/boring/1974...   \n",
       "4  https://www.dov.vlaanderen.be/data/boring/1974...   \n",
       "\n",
       "  betrouwbaarheid_interpretatie         x         y  diepte_laag_van  \\\n",
       "0                          goed  153147.0  206931.0              0.0   \n",
       "1                          goed  153147.0  206931.0              0.5   \n",
       "2                          goed  153147.0  206931.0              1.0   \n",
       "3                          goed  153147.0  206931.0              2.5   \n",
       "4                          goed  153147.0  206931.0              3.5   \n",
       "\n",
       "   diepte_laag_tot hoofdnaam1_grondsoort  hoofdnaam2_grondsoort  \\\n",
       "0              0.5                    LE                    NaN   \n",
       "1              1.0                    LE                    NaN   \n",
       "2              2.5                    KL                    NaN   \n",
       "3              3.5                    FZ                    NaN   \n",
       "4              7.0                    FZ                    NaN   \n",
       "\n",
       "  bijmenging1_plaatselijk bijmenging1_hoeveelheid bijmenging1_grondsoort  \\\n",
       "0                   False                       N                     XZ   \n",
       "1                     NaN                     NaN                    NaN   \n",
       "2                   False                       N                     XZ   \n",
       "3                   False                       N                     GL   \n",
       "4                   False                       N                     GL   \n",
       "\n",
       "  bijmenging2_plaatselijk bijmenging2_hoeveelheid bijmenging2_grondsoort  \\\n",
       "0                     NaN                     NaN                    NaN   \n",
       "1                     NaN                     NaN                    NaN   \n",
       "2                     NaN                     NaN                    NaN   \n",
       "3                   False                       N                     KL   \n",
       "4                     NaN                     NaN                    NaN   \n",
       "\n",
       "   bijmenging3_plaatselijk  bijmenging3_hoeveelheid  bijmenging3_grondsoort  \n",
       "0                      NaN                      NaN                     NaN  \n",
       "1                      NaN                      NaN                     NaN  \n",
       "2                      NaN                      NaN                     NaN  \n",
       "3                      NaN                      NaN                     NaN  \n",
       "4                      NaN                      NaN                     NaN  "
      ]
     },
     "execution_count": 14,
     "metadata": {},
     "output_type": "execute_result"
    }
   ],
   "source": [
    "from owslib.fes import PropertyIsEqualTo\n",
    "\n",
    "query = PropertyIsEqualTo(\n",
    "            propertyname='Type_proef',\n",
    "            literal='Boring')\n",
    "\n",
    "df = itp.search(\n",
    "    location=Within(Box(153145, 206930, 154145, 207930)),\n",
    "    query=query\n",
    "    )\n",
    "\n",
    "df.head()"
   ]
  },
  {
   "cell_type": "markdown",
   "metadata": {},
   "source": [
    "We can look at one of the interpretations in a webbrowser using its *pkey_interpretatie*:"
   ]
  },
  {
   "cell_type": "code",
   "execution_count": 15,
   "metadata": {},
   "outputs": [
    {
     "name": "stdout",
     "output_type": "stream",
     "text": [
      "https://www.dov.vlaanderen.be/data/interpretatie/2001-186544\n"
     ]
    }
   ],
   "source": [
    "for pkey_interpretatie in set(df.pkey_interpretatie):\n",
    "    print(pkey_interpretatie)"
   ]
  },
  {
   "cell_type": "markdown",
   "metadata": {},
   "source": [
    "### Get 'Gecodeerde lithologie' based on fields not available in the standard output dataframe"
   ]
  },
  {
   "cell_type": "markdown",
   "metadata": {},
   "source": [
    "To keep the output dataframe size acceptable, not all available WFS fields are included in the standard output. However, one can use this information to select interpretations as illustrated below.\n",
    "\n",
    "For example, make a selection of the interpretations in municipality the of Antwerp, before 1/1/1990:\n",
    "\n",
    "!*remark: mind that the municipality attribute is merely an attribute that is defined by the person entering the data. It can be ok, empty, outdated or wrong*!"
   ]
  },
  {
   "cell_type": "code",
   "execution_count": 19,
   "metadata": {},
   "outputs": [
    {
     "data": {
      "text/html": [
       "<div>\n",
       "<style scoped>\n",
       "    .dataframe tbody tr th:only-of-type {\n",
       "        vertical-align: middle;\n",
       "    }\n",
       "\n",
       "    .dataframe tbody tr th {\n",
       "        vertical-align: top;\n",
       "    }\n",
       "\n",
       "    .dataframe thead th {\n",
       "        text-align: right;\n",
       "    }\n",
       "</style>\n",
       "<table border=\"1\" class=\"dataframe\">\n",
       "  <thead>\n",
       "    <tr style=\"text-align: right;\">\n",
       "      <th></th>\n",
       "      <th>pkey_interpretatie</th>\n",
       "      <th>Datum</th>\n",
       "    </tr>\n",
       "  </thead>\n",
       "  <tbody>\n",
       "    <tr>\n",
       "      <th>0</th>\n",
       "      <td>https://www.dov.vlaanderen.be/data/interpretat...</td>\n",
       "      <td>2001-09-27</td>\n",
       "    </tr>\n",
       "    <tr>\n",
       "      <th>1</th>\n",
       "      <td>https://www.dov.vlaanderen.be/data/interpretat...</td>\n",
       "      <td>2001-06-15</td>\n",
       "    </tr>\n",
       "    <tr>\n",
       "      <th>2</th>\n",
       "      <td>https://www.dov.vlaanderen.be/data/interpretat...</td>\n",
       "      <td>2001-06-19</td>\n",
       "    </tr>\n",
       "    <tr>\n",
       "      <th>3</th>\n",
       "      <td>https://www.dov.vlaanderen.be/data/interpretat...</td>\n",
       "      <td>2001-06-13</td>\n",
       "    </tr>\n",
       "    <tr>\n",
       "      <th>4</th>\n",
       "      <td>https://www.dov.vlaanderen.be/data/interpretat...</td>\n",
       "      <td>2001-06-27</td>\n",
       "    </tr>\n",
       "  </tbody>\n",
       "</table>\n",
       "</div>"
      ],
      "text/plain": [
       "                                  pkey_interpretatie       Datum\n",
       "0  https://www.dov.vlaanderen.be/data/interpretat...  2001-09-27\n",
       "1  https://www.dov.vlaanderen.be/data/interpretat...  2001-06-15\n",
       "2  https://www.dov.vlaanderen.be/data/interpretat...  2001-06-19\n",
       "3  https://www.dov.vlaanderen.be/data/interpretat...  2001-06-13\n",
       "4  https://www.dov.vlaanderen.be/data/interpretat...  2001-06-27"
      ]
     },
     "execution_count": 19,
     "metadata": {},
     "output_type": "execute_result"
    }
   ],
   "source": [
    "from owslib.fes import And, PropertyIsEqualTo, PropertyIsLessThan\n",
    "\n",
    "query = And([PropertyIsEqualTo(propertyname='gemeente',\n",
    "                               literal='Antwerpen'),\n",
    "             PropertyIsLessThan(propertyname='Datum', \n",
    "                                 literal='2010-01-01')]\n",
    "            )\n",
    "df = itp.search(query=query,\n",
    "                return_fields=('pkey_interpretatie', 'Datum'))\n",
    "df.head()"
   ]
  },
  {
   "cell_type": "markdown",
   "metadata": {},
   "source": [
    "### Get 'Gecodeerde lithologie' data, returning fields not available in the standard output dataframe"
   ]
  },
  {
   "cell_type": "markdown",
   "metadata": {},
   "source": [
    "As denoted in the previous example, not all available fields are available in the default output frame to keep its size limited. However, you can request any available field by including it in the *return_fields* parameter of the search:"
   ]
  },
  {
   "cell_type": "code",
   "execution_count": 21,
   "metadata": {},
   "outputs": [
    {
     "data": {
      "text/html": [
       "<div>\n",
       "<style scoped>\n",
       "    .dataframe tbody tr th:only-of-type {\n",
       "        vertical-align: middle;\n",
       "    }\n",
       "\n",
       "    .dataframe tbody tr th {\n",
       "        vertical-align: top;\n",
       "    }\n",
       "\n",
       "    .dataframe thead th {\n",
       "        text-align: right;\n",
       "    }\n",
       "</style>\n",
       "<table border=\"1\" class=\"dataframe\">\n",
       "  <thead>\n",
       "    <tr style=\"text-align: right;\">\n",
       "      <th></th>\n",
       "      <th>pkey_interpretatie</th>\n",
       "      <th>pkey_boring</th>\n",
       "      <th>x</th>\n",
       "      <th>y</th>\n",
       "      <th>Proefnummer</th>\n",
       "      <th>Z_mTAW</th>\n",
       "      <th>gemeente</th>\n",
       "      <th>Auteurs</th>\n",
       "    </tr>\n",
       "  </thead>\n",
       "  <tbody>\n",
       "    <tr>\n",
       "      <th>0</th>\n",
       "      <td>https://www.dov.vlaanderen.be/data/interpretat...</td>\n",
       "      <td>https://www.dov.vlaanderen.be/data/boring/1966...</td>\n",
       "      <td>172189.0</td>\n",
       "      <td>170809.0</td>\n",
       "      <td>kb32d89e-B260</td>\n",
       "      <td>53.50</td>\n",
       "      <td>Leuven</td>\n",
       "      <td>Buffel, Ph. - Matthijs-Buffel</td>\n",
       "    </tr>\n",
       "    <tr>\n",
       "      <th>1</th>\n",
       "      <td>https://www.dov.vlaanderen.be/data/interpretat...</td>\n",
       "      <td>https://www.dov.vlaanderen.be/data/boring/1993...</td>\n",
       "      <td>175434.0</td>\n",
       "      <td>172212.0</td>\n",
       "      <td>GEO-93/084-B35</td>\n",
       "      <td>48.54</td>\n",
       "      <td>Leuven</td>\n",
       "      <td>Buffel, Ph. - Matthijs-Buffel</td>\n",
       "    </tr>\n",
       "    <tr>\n",
       "      <th>2</th>\n",
       "      <td>https://www.dov.vlaanderen.be/data/interpretat...</td>\n",
       "      <td>https://www.dov.vlaanderen.be/data/boring/1977...</td>\n",
       "      <td>177257.0</td>\n",
       "      <td>175330.0</td>\n",
       "      <td>kb32d89e-B232</td>\n",
       "      <td>40.00</td>\n",
       "      <td>Leuven</td>\n",
       "      <td>Buffel, Ph. - Matthijs-Buffel</td>\n",
       "    </tr>\n",
       "    <tr>\n",
       "      <th>3</th>\n",
       "      <td>https://www.dov.vlaanderen.be/data/interpretat...</td>\n",
       "      <td>https://www.dov.vlaanderen.be/data/boring/1889...</td>\n",
       "      <td>169506.0</td>\n",
       "      <td>173442.0</td>\n",
       "      <td>kb32d89w-B21</td>\n",
       "      <td>38.00</td>\n",
       "      <td>Leuven</td>\n",
       "      <td>Buffel, Ph. - Matthijs-Buffel</td>\n",
       "    </tr>\n",
       "    <tr>\n",
       "      <th>4</th>\n",
       "      <td>https://www.dov.vlaanderen.be/data/interpretat...</td>\n",
       "      <td>https://www.dov.vlaanderen.be/data/boring/1966...</td>\n",
       "      <td>169676.0</td>\n",
       "      <td>171738.0</td>\n",
       "      <td>kb32d89w-B277</td>\n",
       "      <td>58.00</td>\n",
       "      <td>Leuven</td>\n",
       "      <td>Buffel, Ph. - Matthijs-Buffel</td>\n",
       "    </tr>\n",
       "  </tbody>\n",
       "</table>\n",
       "</div>"
      ],
      "text/plain": [
       "                                  pkey_interpretatie  \\\n",
       "0  https://www.dov.vlaanderen.be/data/interpretat...   \n",
       "1  https://www.dov.vlaanderen.be/data/interpretat...   \n",
       "2  https://www.dov.vlaanderen.be/data/interpretat...   \n",
       "3  https://www.dov.vlaanderen.be/data/interpretat...   \n",
       "4  https://www.dov.vlaanderen.be/data/interpretat...   \n",
       "\n",
       "                                         pkey_boring         x         y  \\\n",
       "0  https://www.dov.vlaanderen.be/data/boring/1966...  172189.0  170809.0   \n",
       "1  https://www.dov.vlaanderen.be/data/boring/1993...  175434.0  172212.0   \n",
       "2  https://www.dov.vlaanderen.be/data/boring/1977...  177257.0  175330.0   \n",
       "3  https://www.dov.vlaanderen.be/data/boring/1889...  169506.0  173442.0   \n",
       "4  https://www.dov.vlaanderen.be/data/boring/1966...  169676.0  171738.0   \n",
       "\n",
       "      Proefnummer  Z_mTAW gemeente                        Auteurs  \n",
       "0   kb32d89e-B260   53.50   Leuven  Buffel, Ph. - Matthijs-Buffel  \n",
       "1  GEO-93/084-B35   48.54   Leuven  Buffel, Ph. - Matthijs-Buffel  \n",
       "2   kb32d89e-B232   40.00   Leuven  Buffel, Ph. - Matthijs-Buffel  \n",
       "3    kb32d89w-B21   38.00   Leuven  Buffel, Ph. - Matthijs-Buffel  \n",
       "4   kb32d89w-B277   58.00   Leuven  Buffel, Ph. - Matthijs-Buffel  "
      ]
     },
     "execution_count": 21,
     "metadata": {},
     "output_type": "execute_result"
    }
   ],
   "source": [
    "query = PropertyIsEqualTo(\n",
    "            propertyname='gemeente',\n",
    "            literal='Leuven')\n",
    "\n",
    "df = itp.search(query=query,\n",
    "                return_fields=('pkey_interpretatie', 'pkey_boring',\n",
    "                               'x', 'y', 'Z_mTAW', 'gemeente', 'Auteurs', 'Proefnummer'))\n",
    "\n",
    "df.head()"
   ]
  },
  {
   "cell_type": "markdown",
   "metadata": {},
   "source": [
    "## Visualize results"
   ]
  },
  {
   "cell_type": "markdown",
   "metadata": {},
   "source": [
    "Using Folium, we can display the results of our search on a map."
   ]
  },
  {
   "cell_type": "code",
   "execution_count": 22,
   "metadata": {},
   "outputs": [],
   "source": [
    "# import the necessary modules (not included in the requirements of pydov!)\n",
    "import folium\n",
    "from folium.plugins import MarkerCluster\n",
    "from pyproj import Proj, transform"
   ]
  },
  {
   "cell_type": "code",
   "execution_count": 23,
   "metadata": {},
   "outputs": [],
   "source": [
    "# convert the coordinates to lat/lon for folium\n",
    "def convert_latlon(x1, y1):\n",
    "    inProj = Proj(init='epsg:31370')\n",
    "    outProj = Proj(init='epsg:4326')\n",
    "    x2,y2 = transform(inProj, outProj, x1, y1)\n",
    "    return x2, y2\n",
    "df['lon'], df['lat'] = zip(*map(convert_latlon, df['x'], df['y'])) \n",
    "# convert to list\n",
    "loclist = df[['lat', 'lon']].values.tolist()"
   ]
  },
  {
   "cell_type": "code",
   "execution_count": 24,
   "metadata": {},
   "outputs": [
    {
     "data": {
      "text/html": [
       "<div style=\"width:100%;\"><div style=\"position:relative;width:100%;height:0;padding-bottom:60%;\"><iframe src=\"data:text/html;charset=utf-8;base64,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\" style=\"position:absolute;width:100%;height:100%;left:0;top:0;border:none !important;\" allowfullscreen webkitallowfullscreen mozallowfullscreen></iframe></div></div>"
      ],
      "text/plain": [
       "<folium.folium.Map at 0x11e4c208>"
      ]
     },
     "execution_count": 24,
     "metadata": {},
     "output_type": "execute_result"
    }
   ],
   "source": [
    "# initialize the Folium map on the centre of the selected locations, play with the zoom until ok\n",
    "fmap = folium.Map(location=[df['lat'].mean(), df['lon'].mean()], zoom_start=12)\n",
    "marker_cluster = MarkerCluster().add_to(fmap)\n",
    "for loc in range(0, len(loclist)):\n",
    "    folium.Marker(loclist[loc], popup=df['Proefnummer'][loc]).add_to(marker_cluster)\n",
    "fmap\n"
   ]
  },
  {
   "cell_type": "code",
   "execution_count": null,
   "metadata": {},
   "outputs": [],
   "source": []
  }
 ],
 "metadata": {
  "kernelspec": {
   "display_name": "Python 3",
   "language": "python",
   "name": "python3"
  },
  "language_info": {
   "codemirror_mode": {
    "name": "ipython",
    "version": 3
   },
   "file_extension": ".py",
   "mimetype": "text/x-python",
   "name": "python",
   "nbconvert_exporter": "python",
   "pygments_lexer": "ipython3",
   "version": "3.6.4"
  }
 },
 "nbformat": 4,
 "nbformat_minor": 2
}
