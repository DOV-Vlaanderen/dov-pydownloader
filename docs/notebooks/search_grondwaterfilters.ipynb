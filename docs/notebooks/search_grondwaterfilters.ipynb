{
 "cells": [
  {
   "cell_type": "markdown",
   "metadata": {},
   "source": [
    "# Example of DOV search methods for groundwater screens (grondwaterfilters)\n"
   ]
  },
  {
   "cell_type": "markdown",
   "metadata": {},
   "source": [
    "## Use cases:\n",
    "* Get groundwater screens in a bounding box\n",
    "* Get groundwater screens with specific properties\n",
    "* Get the coordinates of all groundwater screens in Ghent\n",
    "* Get the 'meetnet' and 'meetnet_code' for groundwater screens in Boortmeerbeek\n",
    "* Get all details of groundwaterscreens of 'meetnet 9' within the given bounding box\n",
    "* Get groundwater screens based on a combination of specific properties\n",
    "* Get groundwater screens within a groundwater body"
   ]
  },
  {
   "cell_type": "code",
   "execution_count": 1,
   "metadata": {},
   "outputs": [],
   "source": [
    "%matplotlib inline\n",
    "import inspect, sys"
   ]
  },
  {
   "cell_type": "code",
   "execution_count": 2,
   "metadata": {
    "collapsed": true
   },
   "outputs": [],
   "source": [
    "# check pydov path\n",
    "import pydov"
   ]
  },
  {
   "cell_type": "markdown",
   "metadata": {},
   "source": [
    "## Get information about the datatype 'GrondwaterFilter'"
   ]
  },
  {
   "cell_type": "code",
   "execution_count": 3,
   "metadata": {},
   "outputs": [],
   "source": [
    "from pydov.search.grondwaterfilter import GrondwaterFilterSearch\n",
    "gwfilter = GrondwaterFilterSearch()"
   ]
  },
  {
   "cell_type": "markdown",
   "metadata": {},
   "source": [
    "A description is provided for the 'GrondwaterFilter' datatype:"
   ]
  },
  {
   "cell_type": "code",
   "execution_count": 4,
   "metadata": {},
   "outputs": [
    {
     "name": "stdout",
     "output_type": "stream",
     "text": [
      "In de Databank Ondergrond Vlaanderen zijn verschillende grondwatermeetnetten opgenomen. Deze meetnetten staan in functie van uitgebreide monitoringprogramma’s met de bedoeling een goed beeld te krijgen van de beschikbare grondwaterkwantiteit en grondwaterkwaliteit van de watervoerende lagen in Vlaanderen.\n"
     ]
    }
   ],
   "source": [
    "print(gwfilter.get_description())"
   ]
  },
  {
   "cell_type": "markdown",
   "metadata": {},
   "source": [
    "The different fields that are available for objects of the 'GrondwaterFilter' datatype can be requested with the get_fields() method:"
   ]
  },
  {
   "cell_type": "code",
   "execution_count": 5,
   "metadata": {},
   "outputs": [
    {
     "name": "stdout",
     "output_type": "stream",
     "text": [
      "gw_id\n",
      "pkey_grondwaterlocatie\n",
      "filternummer\n",
      "pkey_filter\n",
      "namen\n",
      "filtergrafiek\n",
      "putgrafiek\n",
      "aquifer\n",
      "diepte_onderkant_filter\n",
      "lengte_filter\n",
      "putsoort\n",
      "filtertype\n",
      "meetnet\n",
      "x\n",
      "y\n",
      "start_grondwaterlocatie_mtaw\n",
      "gemeente\n",
      "grondwaterlichaam\n",
      "regime\n",
      "datum_in_filter\n",
      "datum_uit_filter\n",
      "stijghoogterapport\n",
      "analyserapport\n",
      "boornummer\n",
      "boringfiche\n",
      "peilmetingen_van\n",
      "peilmetingen_tot\n",
      "kwaliteitsmetingen_van\n",
      "kwaliteitsmetingen_tot\n",
      "recentste_exploitant\n",
      "beheerder\n",
      "mv_mtaw\n",
      "meetnet_code\n",
      "aquifer_code\n",
      "grondwaterlichaam_code\n",
      "datum\n",
      "tijdstip\n",
      "peil_mtaw\n",
      "betrouwbaarheid\n",
      "methode\n",
      "filterstatus\n",
      "filtertoestand\n"
     ]
    }
   ],
   "source": [
    "fields = gwfilter.get_fields()\n",
    "\n",
    "# print available fields\n",
    "for f in fields.values():\n",
    "    print(f['name'])"
   ]
  },
  {
   "cell_type": "markdown",
   "metadata": {},
   "source": [
    "You can get more information of a field by requesting it from the fields dictionary:\n",
    "* *name*: name of the field\n",
    "* *definition*: definition of this field\n",
    "* *cost*: currently this is either 1 or 10, depending on the datasource of the field. It is an indication of the expected time it will take to retrieve this field in the output dataframe.\n",
    "* *notnull*: whether the field is mandatory or not\n",
    "* *type*: datatype of the values of this field"
   ]
  },
  {
   "cell_type": "code",
   "execution_count": 6,
   "metadata": {},
   "outputs": [
    {
     "data": {
      "text/plain": [
       "{'cost': 1,\n",
       " 'definition': 'De aquifer waarin de filter hangt. Als tekst, opgebouwd uit de HCOV code (vier karakters) en de naam gescheiden door \" - \"',\n",
       " 'name': 'aquifer',\n",
       " 'notnull': True,\n",
       " 'query': True,\n",
       " 'type': 'string'}"
      ]
     },
     "execution_count": 6,
     "metadata": {},
     "output_type": "execute_result"
    }
   ],
   "source": [
    "# print information for a certain field\n",
    "fields['aquifer']"
   ]
  },
  {
   "cell_type": "markdown",
   "metadata": {},
   "source": [
    "Optionally, if the values of the field have a specific domain the possible values are listed as *values*:"
   ]
  },
  {
   "cell_type": "code",
   "execution_count": 7,
   "metadata": {},
   "outputs": [
    {
     "data": {
      "text/plain": [
       "{'Installatie': None,\n",
       " 'batterijput': None,\n",
       " 'bodemlus': None,\n",
       " 'bron, natuurlijke holte': None,\n",
       " 'bronbemaling': None,\n",
       " 'draineringsinrichting': None,\n",
       " 'galerij': None,\n",
       " 'graverij, mijn, groeve': None,\n",
       " 'niet-verbuisde boorput': None,\n",
       " 'onbekend': None,\n",
       " 'ring- of steenput': None,\n",
       " 'verbuisde boorput': None,\n",
       " 'vijver': None}"
      ]
     },
     "execution_count": 7,
     "metadata": {},
     "output_type": "execute_result"
    }
   ],
   "source": [
    "# if an attribute can have several values, these are listed under 'values', e.g. for 'putsoort':\n",
    "fields['putsoort']['values']"
   ]
  },
  {
   "cell_type": "markdown",
   "metadata": {},
   "source": [
    "## Example use cases"
   ]
  },
  {
   "cell_type": "markdown",
   "metadata": {},
   "source": [
    "### Get groundwater screens in a bounding box"
   ]
  },
  {
   "cell_type": "markdown",
   "metadata": {},
   "source": [
    "Get data for all the groundwater screens that are geographically located within the bounds of the specified box.\n",
    "\n",
    "The coordinates are in the Belgian Lambert72 (EPSG:31370) coordinate system and are given in the order of lower left x, lower left y, upper right x, upper right y."
   ]
  },
  {
   "cell_type": "code",
   "execution_count": 8,
   "metadata": {},
   "outputs": [
    {
     "name": "stdout",
     "output_type": "stream",
     "text": [
      "[000/026] cccccccccccccccccccccccccc\n"
     ]
    },
    {
     "data": {
      "text/html": [
       "<div>\n",
       "<style>\n",
       "    .dataframe thead tr:only-child th {\n",
       "        text-align: right;\n",
       "    }\n",
       "\n",
       "    .dataframe thead th {\n",
       "        text-align: left;\n",
       "    }\n",
       "\n",
       "    .dataframe tbody tr th {\n",
       "        vertical-align: top;\n",
       "    }\n",
       "</style>\n",
       "<table border=\"1\" class=\"dataframe\">\n",
       "  <thead>\n",
       "    <tr style=\"text-align: right;\">\n",
       "      <th></th>\n",
       "      <th>pkey_filter</th>\n",
       "      <th>pkey_grondwaterlocatie</th>\n",
       "      <th>gw_id</th>\n",
       "      <th>filternummer</th>\n",
       "      <th>filtertype</th>\n",
       "      <th>x</th>\n",
       "      <th>y</th>\n",
       "      <th>start_grondwaterlocatie_mtaw</th>\n",
       "      <th>mv_mtaw</th>\n",
       "      <th>gemeente</th>\n",
       "      <th>...</th>\n",
       "      <th>regime</th>\n",
       "      <th>diepte_onderkant_filter</th>\n",
       "      <th>lengte_filter</th>\n",
       "      <th>datum</th>\n",
       "      <th>tijdstip</th>\n",
       "      <th>peil_mtaw</th>\n",
       "      <th>betrouwbaarheid</th>\n",
       "      <th>methode</th>\n",
       "      <th>filterstatus</th>\n",
       "      <th>filtertoestand</th>\n",
       "    </tr>\n",
       "  </thead>\n",
       "  <tbody>\n",
       "    <tr>\n",
       "      <th>0</th>\n",
       "      <td>https://www.dov.vlaanderen.be/data/filter/1999...</td>\n",
       "      <td>https://www.dov.vlaanderen.be/data/put/2018-00...</td>\n",
       "      <td>SWPP006</td>\n",
       "      <td>1</td>\n",
       "      <td>peilfilter</td>\n",
       "      <td>94147.0</td>\n",
       "      <td>169582.0</td>\n",
       "      <td>9.4</td>\n",
       "      <td>9.4</td>\n",
       "      <td>Wortegem-Petegem</td>\n",
       "      <td>...</td>\n",
       "      <td>onbekend</td>\n",
       "      <td>NaN</td>\n",
       "      <td>NaN</td>\n",
       "      <td>1999-04-13</td>\n",
       "      <td>NaN</td>\n",
       "      <td>9.22</td>\n",
       "      <td>onbekend</td>\n",
       "      <td>peillint</td>\n",
       "      <td>onbekend</td>\n",
       "      <td>1.0</td>\n",
       "    </tr>\n",
       "    <tr>\n",
       "      <th>1</th>\n",
       "      <td>https://www.dov.vlaanderen.be/data/filter/1999...</td>\n",
       "      <td>https://www.dov.vlaanderen.be/data/put/2018-00...</td>\n",
       "      <td>SWPP006</td>\n",
       "      <td>1</td>\n",
       "      <td>peilfilter</td>\n",
       "      <td>94147.0</td>\n",
       "      <td>169582.0</td>\n",
       "      <td>9.4</td>\n",
       "      <td>9.4</td>\n",
       "      <td>Wortegem-Petegem</td>\n",
       "      <td>...</td>\n",
       "      <td>onbekend</td>\n",
       "      <td>NaN</td>\n",
       "      <td>NaN</td>\n",
       "      <td>1999-04-14</td>\n",
       "      <td>NaN</td>\n",
       "      <td>9.41</td>\n",
       "      <td>onbekend</td>\n",
       "      <td>peillint</td>\n",
       "      <td>onbekend</td>\n",
       "      <td>1.0</td>\n",
       "    </tr>\n",
       "    <tr>\n",
       "      <th>2</th>\n",
       "      <td>https://www.dov.vlaanderen.be/data/filter/1999...</td>\n",
       "      <td>https://www.dov.vlaanderen.be/data/put/2018-00...</td>\n",
       "      <td>SWPP006</td>\n",
       "      <td>1</td>\n",
       "      <td>peilfilter</td>\n",
       "      <td>94147.0</td>\n",
       "      <td>169582.0</td>\n",
       "      <td>9.4</td>\n",
       "      <td>9.4</td>\n",
       "      <td>Wortegem-Petegem</td>\n",
       "      <td>...</td>\n",
       "      <td>onbekend</td>\n",
       "      <td>NaN</td>\n",
       "      <td>NaN</td>\n",
       "      <td>1999-04-22</td>\n",
       "      <td>NaN</td>\n",
       "      <td>9.29</td>\n",
       "      <td>onbekend</td>\n",
       "      <td>peillint</td>\n",
       "      <td>onbekend</td>\n",
       "      <td>1.0</td>\n",
       "    </tr>\n",
       "    <tr>\n",
       "      <th>3</th>\n",
       "      <td>https://www.dov.vlaanderen.be/data/filter/1999...</td>\n",
       "      <td>https://www.dov.vlaanderen.be/data/put/2018-00...</td>\n",
       "      <td>SWPP006</td>\n",
       "      <td>1</td>\n",
       "      <td>peilfilter</td>\n",
       "      <td>94147.0</td>\n",
       "      <td>169582.0</td>\n",
       "      <td>9.4</td>\n",
       "      <td>9.4</td>\n",
       "      <td>Wortegem-Petegem</td>\n",
       "      <td>...</td>\n",
       "      <td>onbekend</td>\n",
       "      <td>NaN</td>\n",
       "      <td>NaN</td>\n",
       "      <td>1999-05-06</td>\n",
       "      <td>NaN</td>\n",
       "      <td>9.11</td>\n",
       "      <td>onbekend</td>\n",
       "      <td>peillint</td>\n",
       "      <td>onbekend</td>\n",
       "      <td>1.0</td>\n",
       "    </tr>\n",
       "    <tr>\n",
       "      <th>4</th>\n",
       "      <td>https://www.dov.vlaanderen.be/data/filter/1999...</td>\n",
       "      <td>https://www.dov.vlaanderen.be/data/put/2018-00...</td>\n",
       "      <td>SWPP006</td>\n",
       "      <td>1</td>\n",
       "      <td>peilfilter</td>\n",
       "      <td>94147.0</td>\n",
       "      <td>169582.0</td>\n",
       "      <td>9.4</td>\n",
       "      <td>9.4</td>\n",
       "      <td>Wortegem-Petegem</td>\n",
       "      <td>...</td>\n",
       "      <td>onbekend</td>\n",
       "      <td>NaN</td>\n",
       "      <td>NaN</td>\n",
       "      <td>1999-05-18</td>\n",
       "      <td>NaN</td>\n",
       "      <td>9.01</td>\n",
       "      <td>onbekend</td>\n",
       "      <td>peillint</td>\n",
       "      <td>onbekend</td>\n",
       "      <td>1.0</td>\n",
       "    </tr>\n",
       "  </tbody>\n",
       "</table>\n",
       "<p>5 rows × 23 columns</p>\n",
       "</div>"
      ],
      "text/plain": [
       "                                         pkey_filter  \\\n",
       "0  https://www.dov.vlaanderen.be/data/filter/1999...   \n",
       "1  https://www.dov.vlaanderen.be/data/filter/1999...   \n",
       "2  https://www.dov.vlaanderen.be/data/filter/1999...   \n",
       "3  https://www.dov.vlaanderen.be/data/filter/1999...   \n",
       "4  https://www.dov.vlaanderen.be/data/filter/1999...   \n",
       "\n",
       "                              pkey_grondwaterlocatie    gw_id filternummer  \\\n",
       "0  https://www.dov.vlaanderen.be/data/put/2018-00...  SWPP006            1   \n",
       "1  https://www.dov.vlaanderen.be/data/put/2018-00...  SWPP006            1   \n",
       "2  https://www.dov.vlaanderen.be/data/put/2018-00...  SWPP006            1   \n",
       "3  https://www.dov.vlaanderen.be/data/put/2018-00...  SWPP006            1   \n",
       "4  https://www.dov.vlaanderen.be/data/put/2018-00...  SWPP006            1   \n",
       "\n",
       "   filtertype        x         y  start_grondwaterlocatie_mtaw  mv_mtaw  \\\n",
       "0  peilfilter  94147.0  169582.0                           9.4      9.4   \n",
       "1  peilfilter  94147.0  169582.0                           9.4      9.4   \n",
       "2  peilfilter  94147.0  169582.0                           9.4      9.4   \n",
       "3  peilfilter  94147.0  169582.0                           9.4      9.4   \n",
       "4  peilfilter  94147.0  169582.0                           9.4      9.4   \n",
       "\n",
       "           gemeente      ...          regime diepte_onderkant_filter  \\\n",
       "0  Wortegem-Petegem      ...        onbekend                     NaN   \n",
       "1  Wortegem-Petegem      ...        onbekend                     NaN   \n",
       "2  Wortegem-Petegem      ...        onbekend                     NaN   \n",
       "3  Wortegem-Petegem      ...        onbekend                     NaN   \n",
       "4  Wortegem-Petegem      ...        onbekend                     NaN   \n",
       "\n",
       "   lengte_filter       datum  tijdstip  peil_mtaw betrouwbaarheid   methode  \\\n",
       "0            NaN  1999-04-13       NaN       9.22        onbekend  peillint   \n",
       "1            NaN  1999-04-14       NaN       9.41        onbekend  peillint   \n",
       "2            NaN  1999-04-22       NaN       9.29        onbekend  peillint   \n",
       "3            NaN  1999-05-06       NaN       9.11        onbekend  peillint   \n",
       "4            NaN  1999-05-18       NaN       9.01        onbekend  peillint   \n",
       "\n",
       "   filterstatus filtertoestand  \n",
       "0      onbekend            1.0  \n",
       "1      onbekend            1.0  \n",
       "2      onbekend            1.0  \n",
       "3      onbekend            1.0  \n",
       "4      onbekend            1.0  \n",
       "\n",
       "[5 rows x 23 columns]"
      ]
     },
     "execution_count": 8,
     "metadata": {},
     "output_type": "execute_result"
    }
   ],
   "source": [
    "from pydov.util.location import Within, Box\n",
    "\n",
    "df = gwfilter.search(location=Within(Box(93378, 168009, 94246, 169873)))\n",
    "df.head()"
   ]
  },
  {
   "cell_type": "markdown",
   "metadata": {},
   "source": [
    "Using the *pkey* attributes one can request the details of the corresponding *put* or *filter* in a webbrowser:"
   ]
  },
  {
   "cell_type": "code",
   "execution_count": 9,
   "metadata": {},
   "outputs": [
    {
     "name": "stdout",
     "output_type": "stream",
     "text": [
      "https://www.dov.vlaanderen.be/data/put/2018-007307\n",
      "https://www.dov.vlaanderen.be/data/put/2018-007305\n",
      "https://www.dov.vlaanderen.be/data/put/2018-007286\n",
      "https://www.dov.vlaanderen.be/data/put/2018-007287\n",
      "https://www.dov.vlaanderen.be/data/put/2018-007294\n",
      "https://www.dov.vlaanderen.be/data/put/2019-020544\n",
      "https://www.dov.vlaanderen.be/data/put/2018-007295\n",
      "https://www.dov.vlaanderen.be/data/put/2018-007311\n",
      "https://www.dov.vlaanderen.be/data/put/2018-007296\n",
      "https://www.dov.vlaanderen.be/data/put/2018-007299\n",
      "https://www.dov.vlaanderen.be/data/put/2017-002868\n",
      "https://www.dov.vlaanderen.be/data/put/2018-007292\n",
      "https://www.dov.vlaanderen.be/data/put/2018-007310\n",
      "https://www.dov.vlaanderen.be/data/put/2018-007293\n",
      "https://www.dov.vlaanderen.be/data/put/2019-019725\n",
      "https://www.dov.vlaanderen.be/data/put/2017-002866\n",
      "https://www.dov.vlaanderen.be/data/put/2018-007313\n",
      "https://www.dov.vlaanderen.be/data/put/2018-007290\n",
      "https://www.dov.vlaanderen.be/data/put/2018-007288\n",
      "https://www.dov.vlaanderen.be/data/put/2018-007291\n",
      "https://www.dov.vlaanderen.be/data/put/2017-002867\n",
      "https://www.dov.vlaanderen.be/data/put/2018-007289\n",
      "https://www.dov.vlaanderen.be/data/put/2018-007312\n",
      "https://www.dov.vlaanderen.be/data/put/2018-007304\n",
      "https://www.dov.vlaanderen.be/data/put/2018-007285\n",
      "https://www.dov.vlaanderen.be/data/put/2018-007300\n",
      "https://www.dov.vlaanderen.be/data/filter/1999-011006\n",
      "https://www.dov.vlaanderen.be/data/filter/1999-011011\n",
      "https://www.dov.vlaanderen.be/data/filter/1999-000606\n",
      "https://www.dov.vlaanderen.be/data/filter/1999-011015\n",
      "https://www.dov.vlaanderen.be/data/filter/1999-011007\n",
      "https://www.dov.vlaanderen.be/data/filter/2007-011019\n",
      "https://www.dov.vlaanderen.be/data/filter/1999-011008\n",
      "https://www.dov.vlaanderen.be/data/filter/1995-061303\n",
      "https://www.dov.vlaanderen.be/data/filter/1999-011013\n",
      "https://www.dov.vlaanderen.be/data/filter/1999-011029\n",
      "https://www.dov.vlaanderen.be/data/filter/1999-011005\n",
      "https://www.dov.vlaanderen.be/data/filter/1999-011014\n",
      "https://www.dov.vlaanderen.be/data/filter/1999-011004\n",
      "https://www.dov.vlaanderen.be/data/filter/2009-011026\n",
      "https://www.dov.vlaanderen.be/data/filter/1999-011010\n",
      "https://www.dov.vlaanderen.be/data/filter/1999-000605\n",
      "https://www.dov.vlaanderen.be/data/filter/1999-011030\n",
      "https://www.dov.vlaanderen.be/data/filter/1999-011012\n",
      "https://www.dov.vlaanderen.be/data/filter/1999-011009\n",
      "https://www.dov.vlaanderen.be/data/filter/2007-011024\n",
      "https://www.dov.vlaanderen.be/data/filter/1991-062098\n",
      "https://www.dov.vlaanderen.be/data/filter/1999-000607\n",
      "https://www.dov.vlaanderen.be/data/filter/2007-011018\n",
      "https://www.dov.vlaanderen.be/data/filter/2007-011023\n",
      "https://www.dov.vlaanderen.be/data/filter/1999-011032\n",
      "https://www.dov.vlaanderen.be/data/filter/1999-011031\n"
     ]
    }
   ],
   "source": [
    "for pkey_grondwaterlocatie in set(df.pkey_grondwaterlocatie):\n",
    "    print(pkey_grondwaterlocatie)\n",
    "\n",
    "for pkey_filter in set(df.pkey_filter):\n",
    "    print(pkey_filter)"
   ]
  },
  {
   "cell_type": "markdown",
   "metadata": {},
   "source": [
    "### Get groundwater screens with specific properties"
   ]
  },
  {
   "cell_type": "markdown",
   "metadata": {},
   "source": [
    "Next to querying groundwater screens based on their geographic location within a bounding box, we can also search for groundwater screens matching a specific set of properties. For this we can build a query using a combination of the 'GrondwaterFilter' fields and operators provided by the WFS protocol.\n",
    "\n",
    "A list of possible operators can be found below:"
   ]
  },
  {
   "cell_type": "code",
   "execution_count": 10,
   "metadata": {},
   "outputs": [
    {
     "data": {
      "text/plain": [
       "['PropertyIsBetween',\n",
       " 'PropertyIsEqualTo',\n",
       " 'PropertyIsGreaterThan',\n",
       " 'PropertyIsGreaterThanOrEqualTo',\n",
       " 'PropertyIsLessThan',\n",
       " 'PropertyIsLessThanOrEqualTo',\n",
       " 'PropertyIsLike',\n",
       " 'PropertyIsNotEqualTo',\n",
       " 'PropertyIsNull',\n",
       " 'SortProperty']"
      ]
     },
     "execution_count": 10,
     "metadata": {},
     "output_type": "execute_result"
    }
   ],
   "source": [
    "[i for i,j in inspect.getmembers(sys.modules['owslib.fes'], inspect.isclass) if 'Property' in i]"
   ]
  },
  {
   "cell_type": "markdown",
   "metadata": {},
   "source": [
    "In this example we build a query using the *PropertyIsEqualTo* operator to find all groundwater screens that are within the community (gemeente) of 'Hamme':"
   ]
  },
  {
   "cell_type": "code",
   "execution_count": 11,
   "metadata": {},
   "outputs": [
    {
     "name": "stdout",
     "output_type": "stream",
     "text": [
      "[000/002] cc\n"
     ]
    },
    {
     "data": {
      "text/html": [
       "<div>\n",
       "<style>\n",
       "    .dataframe thead tr:only-child th {\n",
       "        text-align: right;\n",
       "    }\n",
       "\n",
       "    .dataframe thead th {\n",
       "        text-align: left;\n",
       "    }\n",
       "\n",
       "    .dataframe tbody tr th {\n",
       "        vertical-align: top;\n",
       "    }\n",
       "</style>\n",
       "<table border=\"1\" class=\"dataframe\">\n",
       "  <thead>\n",
       "    <tr style=\"text-align: right;\">\n",
       "      <th></th>\n",
       "      <th>pkey_filter</th>\n",
       "      <th>pkey_grondwaterlocatie</th>\n",
       "      <th>gw_id</th>\n",
       "      <th>filternummer</th>\n",
       "      <th>filtertype</th>\n",
       "      <th>x</th>\n",
       "      <th>y</th>\n",
       "      <th>start_grondwaterlocatie_mtaw</th>\n",
       "      <th>mv_mtaw</th>\n",
       "      <th>gemeente</th>\n",
       "      <th>...</th>\n",
       "      <th>regime</th>\n",
       "      <th>diepte_onderkant_filter</th>\n",
       "      <th>lengte_filter</th>\n",
       "      <th>datum</th>\n",
       "      <th>tijdstip</th>\n",
       "      <th>peil_mtaw</th>\n",
       "      <th>betrouwbaarheid</th>\n",
       "      <th>methode</th>\n",
       "      <th>filterstatus</th>\n",
       "      <th>filtertoestand</th>\n",
       "    </tr>\n",
       "  </thead>\n",
       "  <tbody>\n",
       "    <tr>\n",
       "      <th>0</th>\n",
       "      <td>https://www.dov.vlaanderen.be/data/filter/1993...</td>\n",
       "      <td>https://www.dov.vlaanderen.be/data/put/2019-02...</td>\n",
       "      <td>7-001016</td>\n",
       "      <td>1</td>\n",
       "      <td>pompfilter</td>\n",
       "      <td>224798.0</td>\n",
       "      <td>157819.0</td>\n",
       "      <td>130.8</td>\n",
       "      <td>130.8</td>\n",
       "      <td>Herstappe</td>\n",
       "      <td>...</td>\n",
       "      <td>freatisch</td>\n",
       "      <td>45.0</td>\n",
       "      <td>5.0</td>\n",
       "      <td>NaN</td>\n",
       "      <td>NaN</td>\n",
       "      <td>NaN</td>\n",
       "      <td>NaN</td>\n",
       "      <td>NaN</td>\n",
       "      <td>NaN</td>\n",
       "      <td>NaN</td>\n",
       "    </tr>\n",
       "    <tr>\n",
       "      <th>1</th>\n",
       "      <td>https://www.dov.vlaanderen.be/data/filter/1900...</td>\n",
       "      <td>https://www.dov.vlaanderen.be/data/put/2019-05...</td>\n",
       "      <td>7-97027</td>\n",
       "      <td>1</td>\n",
       "      <td>pompfilter</td>\n",
       "      <td>224843.0</td>\n",
       "      <td>157842.0</td>\n",
       "      <td>-1.0</td>\n",
       "      <td>-1.0</td>\n",
       "      <td>Herstappe</td>\n",
       "      <td>...</td>\n",
       "      <td>onbekend</td>\n",
       "      <td>NaN</td>\n",
       "      <td>NaN</td>\n",
       "      <td>NaN</td>\n",
       "      <td>NaN</td>\n",
       "      <td>NaN</td>\n",
       "      <td>NaN</td>\n",
       "      <td>NaN</td>\n",
       "      <td>NaN</td>\n",
       "      <td>NaN</td>\n",
       "    </tr>\n",
       "  </tbody>\n",
       "</table>\n",
       "<p>2 rows × 23 columns</p>\n",
       "</div>"
      ],
      "text/plain": [
       "                                         pkey_filter  \\\n",
       "0  https://www.dov.vlaanderen.be/data/filter/1993...   \n",
       "1  https://www.dov.vlaanderen.be/data/filter/1900...   \n",
       "\n",
       "                              pkey_grondwaterlocatie     gw_id filternummer  \\\n",
       "0  https://www.dov.vlaanderen.be/data/put/2019-02...  7-001016            1   \n",
       "1  https://www.dov.vlaanderen.be/data/put/2019-05...   7-97027            1   \n",
       "\n",
       "   filtertype         x         y  start_grondwaterlocatie_mtaw  mv_mtaw  \\\n",
       "0  pompfilter  224798.0  157819.0                         130.8    130.8   \n",
       "1  pompfilter  224843.0  157842.0                          -1.0     -1.0   \n",
       "\n",
       "    gemeente       ...           regime diepte_onderkant_filter lengte_filter  \\\n",
       "0  Herstappe       ...        freatisch                    45.0           5.0   \n",
       "1  Herstappe       ...         onbekend                     NaN           NaN   \n",
       "\n",
       "  datum  tijdstip  peil_mtaw  betrouwbaarheid  methode  filterstatus  \\\n",
       "0   NaN       NaN        NaN              NaN      NaN           NaN   \n",
       "1   NaN       NaN        NaN              NaN      NaN           NaN   \n",
       "\n",
       "   filtertoestand  \n",
       "0             NaN  \n",
       "1             NaN  \n",
       "\n",
       "[2 rows x 23 columns]"
      ]
     },
     "execution_count": 11,
     "metadata": {},
     "output_type": "execute_result"
    }
   ],
   "source": [
    "from owslib.fes import PropertyIsEqualTo\n",
    "\n",
    "query = PropertyIsEqualTo(\n",
    "            propertyname='gemeente',\n",
    "            literal='Herstappe')\n",
    "\n",
    "df = gwfilter.search(query=query)\n",
    "df.head()"
   ]
  },
  {
   "cell_type": "markdown",
   "metadata": {},
   "source": [
    "Once again we can use the *pkey_filter* as a permanent link to the information of the groundwater screens:"
   ]
  },
  {
   "cell_type": "code",
   "execution_count": 12,
   "metadata": {},
   "outputs": [
    {
     "name": "stdout",
     "output_type": "stream",
     "text": [
      "https://www.dov.vlaanderen.be/data/filter/1993-065801\n",
      "https://www.dov.vlaanderen.be/data/filter/1900-050992\n"
     ]
    }
   ],
   "source": [
    "for pkey_filter in set(df.pkey_filter):\n",
    "    print(pkey_filter)"
   ]
  },
  {
   "cell_type": "markdown",
   "metadata": {},
   "source": [
    "### Get the coordinates of all groundwater screens in Ghent"
   ]
  },
  {
   "cell_type": "code",
   "execution_count": 13,
   "metadata": {},
   "outputs": [
    {
     "data": {
      "text/html": [
       "<div>\n",
       "<style>\n",
       "    .dataframe thead tr:only-child th {\n",
       "        text-align: right;\n",
       "    }\n",
       "\n",
       "    .dataframe thead th {\n",
       "        text-align: left;\n",
       "    }\n",
       "\n",
       "    .dataframe tbody tr th {\n",
       "        vertical-align: top;\n",
       "    }\n",
       "</style>\n",
       "<table border=\"1\" class=\"dataframe\">\n",
       "  <thead>\n",
       "    <tr style=\"text-align: right;\">\n",
       "      <th></th>\n",
       "      <th>pkey_filter</th>\n",
       "      <th>x</th>\n",
       "      <th>y</th>\n",
       "      <th>meetnet</th>\n",
       "    </tr>\n",
       "  </thead>\n",
       "  <tbody>\n",
       "    <tr>\n",
       "      <th>0</th>\n",
       "      <td>https://www.dov.vlaanderen.be/data/filter/1999...</td>\n",
       "      <td>98347.0</td>\n",
       "      <td>191821.0</td>\n",
       "      <td>meetnet 9 - peilputten INBO en natuurorganisaties</td>\n",
       "    </tr>\n",
       "    <tr>\n",
       "      <th>1</th>\n",
       "      <td>https://www.dov.vlaanderen.be/data/filter/1999...</td>\n",
       "      <td>98514.0</td>\n",
       "      <td>191518.0</td>\n",
       "      <td>meetnet 9 - peilputten INBO en natuurorganisaties</td>\n",
       "    </tr>\n",
       "    <tr>\n",
       "      <th>2</th>\n",
       "      <td>https://www.dov.vlaanderen.be/data/filter/1999...</td>\n",
       "      <td>98630.0</td>\n",
       "      <td>191301.0</td>\n",
       "      <td>meetnet 9 - peilputten INBO en natuurorganisaties</td>\n",
       "    </tr>\n",
       "    <tr>\n",
       "      <th>3</th>\n",
       "      <td>https://www.dov.vlaanderen.be/data/filter/1999...</td>\n",
       "      <td>99017.0</td>\n",
       "      <td>191447.0</td>\n",
       "      <td>meetnet 9 - peilputten INBO en natuurorganisaties</td>\n",
       "    </tr>\n",
       "    <tr>\n",
       "      <th>4</th>\n",
       "      <td>https://www.dov.vlaanderen.be/data/filter/1999...</td>\n",
       "      <td>99104.0</td>\n",
       "      <td>191412.0</td>\n",
       "      <td>meetnet 9 - peilputten INBO en natuurorganisaties</td>\n",
       "    </tr>\n",
       "  </tbody>\n",
       "</table>\n",
       "</div>"
      ],
      "text/plain": [
       "                                         pkey_filter        x         y  \\\n",
       "0  https://www.dov.vlaanderen.be/data/filter/1999...  98347.0  191821.0   \n",
       "1  https://www.dov.vlaanderen.be/data/filter/1999...  98514.0  191518.0   \n",
       "2  https://www.dov.vlaanderen.be/data/filter/1999...  98630.0  191301.0   \n",
       "3  https://www.dov.vlaanderen.be/data/filter/1999...  99017.0  191447.0   \n",
       "4  https://www.dov.vlaanderen.be/data/filter/1999...  99104.0  191412.0   \n",
       "\n",
       "                                             meetnet  \n",
       "0  meetnet 9 - peilputten INBO en natuurorganisaties  \n",
       "1  meetnet 9 - peilputten INBO en natuurorganisaties  \n",
       "2  meetnet 9 - peilputten INBO en natuurorganisaties  \n",
       "3  meetnet 9 - peilputten INBO en natuurorganisaties  \n",
       "4  meetnet 9 - peilputten INBO en natuurorganisaties  "
      ]
     },
     "execution_count": 13,
     "metadata": {},
     "output_type": "execute_result"
    }
   ],
   "source": [
    "query = PropertyIsEqualTo(propertyname='gemeente',\n",
    "                          literal='Gent')\n",
    "\n",
    "df = gwfilter.search(query=query,\n",
    "                     return_fields=('pkey_filter', 'x', 'y', 'meetnet'))\n",
    "df.head()"
   ]
  },
  {
   "cell_type": "markdown",
   "metadata": {},
   "source": [
    "### Get the 'meetnet' and 'meetnet_code' for groundwater screens in Boortmeerbeek"
   ]
  },
  {
   "cell_type": "code",
   "execution_count": 14,
   "metadata": {},
   "outputs": [
    {
     "name": "stdout",
     "output_type": "stream",
     "text": [
      "[000/050] cccccccccccccccccccccccccccccccccccccccccccccccccc\n"
     ]
    },
    {
     "data": {
      "text/html": [
       "<div>\n",
       "<style>\n",
       "    .dataframe thead tr:only-child th {\n",
       "        text-align: right;\n",
       "    }\n",
       "\n",
       "    .dataframe thead th {\n",
       "        text-align: left;\n",
       "    }\n",
       "\n",
       "    .dataframe tbody tr th {\n",
       "        vertical-align: top;\n",
       "    }\n",
       "</style>\n",
       "<table border=\"1\" class=\"dataframe\">\n",
       "  <thead>\n",
       "    <tr style=\"text-align: right;\">\n",
       "      <th></th>\n",
       "      <th>pkey_filter</th>\n",
       "      <th>meetnet</th>\n",
       "      <th>meetnet_code</th>\n",
       "    </tr>\n",
       "  </thead>\n",
       "  <tbody>\n",
       "    <tr>\n",
       "      <th>0</th>\n",
       "      <td>https://www.dov.vlaanderen.be/data/filter/1981...</td>\n",
       "      <td>meetnet 7 - winningsputten</td>\n",
       "      <td>7</td>\n",
       "    </tr>\n",
       "    <tr>\n",
       "      <th>1</th>\n",
       "      <td>https://www.dov.vlaanderen.be/data/filter/2018...</td>\n",
       "      <td>meetnet 7 - winningsputten</td>\n",
       "      <td>7</td>\n",
       "    </tr>\n",
       "    <tr>\n",
       "      <th>2</th>\n",
       "      <td>https://www.dov.vlaanderen.be/data/filter/1976...</td>\n",
       "      <td>meetnet 7 - winningsputten</td>\n",
       "      <td>7</td>\n",
       "    </tr>\n",
       "    <tr>\n",
       "      <th>3</th>\n",
       "      <td>https://www.dov.vlaanderen.be/data/filter/1980...</td>\n",
       "      <td>meetnet 7 - winningsputten</td>\n",
       "      <td>7</td>\n",
       "    </tr>\n",
       "    <tr>\n",
       "      <th>4</th>\n",
       "      <td>https://www.dov.vlaanderen.be/data/filter/1980...</td>\n",
       "      <td>meetnet 7 - winningsputten</td>\n",
       "      <td>7</td>\n",
       "    </tr>\n",
       "  </tbody>\n",
       "</table>\n",
       "</div>"
      ],
      "text/plain": [
       "                                         pkey_filter  \\\n",
       "0  https://www.dov.vlaanderen.be/data/filter/1981...   \n",
       "1  https://www.dov.vlaanderen.be/data/filter/2018...   \n",
       "2  https://www.dov.vlaanderen.be/data/filter/1976...   \n",
       "3  https://www.dov.vlaanderen.be/data/filter/1980...   \n",
       "4  https://www.dov.vlaanderen.be/data/filter/1980...   \n",
       "\n",
       "                      meetnet meetnet_code  \n",
       "0  meetnet 7 - winningsputten            7  \n",
       "1  meetnet 7 - winningsputten            7  \n",
       "2  meetnet 7 - winningsputten            7  \n",
       "3  meetnet 7 - winningsputten            7  \n",
       "4  meetnet 7 - winningsputten            7  "
      ]
     },
     "execution_count": 14,
     "metadata": {},
     "output_type": "execute_result"
    }
   ],
   "source": [
    "query = PropertyIsEqualTo(propertyname='gemeente',\n",
    "                          literal='Boortmeerbeek')\n",
    "\n",
    "df = gwfilter.search(query=query,\n",
    "                   return_fields=('pkey_filter', 'meetnet', 'meetnet_code'))\n",
    "df.head()"
   ]
  },
  {
   "cell_type": "markdown",
   "metadata": {},
   "source": [
    "### Get all details of groundwaterscreens of 'meetnet 9' within the given bounding box"
   ]
  },
  {
   "cell_type": "code",
   "execution_count": 15,
   "metadata": {},
   "outputs": [
    {
     "name": "stdout",
     "output_type": "stream",
     "text": [
      "[000/016] cccccccccccccccc\n"
     ]
    },
    {
     "data": {
      "text/html": [
       "<div>\n",
       "<style>\n",
       "    .dataframe thead tr:only-child th {\n",
       "        text-align: right;\n",
       "    }\n",
       "\n",
       "    .dataframe thead th {\n",
       "        text-align: left;\n",
       "    }\n",
       "\n",
       "    .dataframe tbody tr th {\n",
       "        vertical-align: top;\n",
       "    }\n",
       "</style>\n",
       "<table border=\"1\" class=\"dataframe\">\n",
       "  <thead>\n",
       "    <tr style=\"text-align: right;\">\n",
       "      <th></th>\n",
       "      <th>pkey_filter</th>\n",
       "      <th>pkey_grondwaterlocatie</th>\n",
       "      <th>gw_id</th>\n",
       "      <th>filternummer</th>\n",
       "      <th>filtertype</th>\n",
       "      <th>x</th>\n",
       "      <th>y</th>\n",
       "      <th>start_grondwaterlocatie_mtaw</th>\n",
       "      <th>mv_mtaw</th>\n",
       "      <th>gemeente</th>\n",
       "      <th>...</th>\n",
       "      <th>regime</th>\n",
       "      <th>diepte_onderkant_filter</th>\n",
       "      <th>lengte_filter</th>\n",
       "      <th>datum</th>\n",
       "      <th>tijdstip</th>\n",
       "      <th>peil_mtaw</th>\n",
       "      <th>betrouwbaarheid</th>\n",
       "      <th>methode</th>\n",
       "      <th>filterstatus</th>\n",
       "      <th>filtertoestand</th>\n",
       "    </tr>\n",
       "  </thead>\n",
       "  <tbody>\n",
       "    <tr>\n",
       "      <th>0</th>\n",
       "      <td>https://www.dov.vlaanderen.be/data/filter/1999...</td>\n",
       "      <td>https://www.dov.vlaanderen.be/data/put/2017-00...</td>\n",
       "      <td>WVSP009</td>\n",
       "      <td>1</td>\n",
       "      <td>peilfilter</td>\n",
       "      <td>89720.046875</td>\n",
       "      <td>165712.140625</td>\n",
       "      <td>11.84</td>\n",
       "      <td>11.84</td>\n",
       "      <td>Avelgem</td>\n",
       "      <td>...</td>\n",
       "      <td>onbekend</td>\n",
       "      <td>5.78</td>\n",
       "      <td>1.0</td>\n",
       "      <td>1999-01-12</td>\n",
       "      <td>NaN</td>\n",
       "      <td>12.20</td>\n",
       "      <td>onbekend</td>\n",
       "      <td>peillint</td>\n",
       "      <td>in rust</td>\n",
       "      <td>1.0</td>\n",
       "    </tr>\n",
       "    <tr>\n",
       "      <th>1</th>\n",
       "      <td>https://www.dov.vlaanderen.be/data/filter/1999...</td>\n",
       "      <td>https://www.dov.vlaanderen.be/data/put/2017-00...</td>\n",
       "      <td>WVSP009</td>\n",
       "      <td>1</td>\n",
       "      <td>peilfilter</td>\n",
       "      <td>89720.046875</td>\n",
       "      <td>165712.140625</td>\n",
       "      <td>11.84</td>\n",
       "      <td>11.84</td>\n",
       "      <td>Avelgem</td>\n",
       "      <td>...</td>\n",
       "      <td>onbekend</td>\n",
       "      <td>5.78</td>\n",
       "      <td>1.0</td>\n",
       "      <td>1999-01-21</td>\n",
       "      <td>NaN</td>\n",
       "      <td>12.26</td>\n",
       "      <td>onbekend</td>\n",
       "      <td>peillint</td>\n",
       "      <td>in rust</td>\n",
       "      <td>1.0</td>\n",
       "    </tr>\n",
       "    <tr>\n",
       "      <th>2</th>\n",
       "      <td>https://www.dov.vlaanderen.be/data/filter/1999...</td>\n",
       "      <td>https://www.dov.vlaanderen.be/data/put/2017-00...</td>\n",
       "      <td>WVSP009</td>\n",
       "      <td>1</td>\n",
       "      <td>peilfilter</td>\n",
       "      <td>89720.046875</td>\n",
       "      <td>165712.140625</td>\n",
       "      <td>11.84</td>\n",
       "      <td>11.84</td>\n",
       "      <td>Avelgem</td>\n",
       "      <td>...</td>\n",
       "      <td>onbekend</td>\n",
       "      <td>5.78</td>\n",
       "      <td>1.0</td>\n",
       "      <td>1999-02-01</td>\n",
       "      <td>NaN</td>\n",
       "      <td>12.31</td>\n",
       "      <td>onbekend</td>\n",
       "      <td>peillint</td>\n",
       "      <td>in rust</td>\n",
       "      <td>1.0</td>\n",
       "    </tr>\n",
       "    <tr>\n",
       "      <th>3</th>\n",
       "      <td>https://www.dov.vlaanderen.be/data/filter/1999...</td>\n",
       "      <td>https://www.dov.vlaanderen.be/data/put/2017-00...</td>\n",
       "      <td>WVSP009</td>\n",
       "      <td>1</td>\n",
       "      <td>peilfilter</td>\n",
       "      <td>89720.046875</td>\n",
       "      <td>165712.140625</td>\n",
       "      <td>11.84</td>\n",
       "      <td>11.84</td>\n",
       "      <td>Avelgem</td>\n",
       "      <td>...</td>\n",
       "      <td>onbekend</td>\n",
       "      <td>5.78</td>\n",
       "      <td>1.0</td>\n",
       "      <td>1999-02-06</td>\n",
       "      <td>NaN</td>\n",
       "      <td>12.29</td>\n",
       "      <td>onbekend</td>\n",
       "      <td>peillint</td>\n",
       "      <td>in rust</td>\n",
       "      <td>1.0</td>\n",
       "    </tr>\n",
       "    <tr>\n",
       "      <th>4</th>\n",
       "      <td>https://www.dov.vlaanderen.be/data/filter/1999...</td>\n",
       "      <td>https://www.dov.vlaanderen.be/data/put/2017-00...</td>\n",
       "      <td>WVSP009</td>\n",
       "      <td>1</td>\n",
       "      <td>peilfilter</td>\n",
       "      <td>89720.046875</td>\n",
       "      <td>165712.140625</td>\n",
       "      <td>11.84</td>\n",
       "      <td>11.84</td>\n",
       "      <td>Avelgem</td>\n",
       "      <td>...</td>\n",
       "      <td>onbekend</td>\n",
       "      <td>5.78</td>\n",
       "      <td>1.0</td>\n",
       "      <td>1999-02-12</td>\n",
       "      <td>NaN</td>\n",
       "      <td>12.18</td>\n",
       "      <td>onbekend</td>\n",
       "      <td>peillint</td>\n",
       "      <td>in rust</td>\n",
       "      <td>1.0</td>\n",
       "    </tr>\n",
       "  </tbody>\n",
       "</table>\n",
       "<p>5 rows × 23 columns</p>\n",
       "</div>"
      ],
      "text/plain": [
       "                                         pkey_filter  \\\n",
       "0  https://www.dov.vlaanderen.be/data/filter/1999...   \n",
       "1  https://www.dov.vlaanderen.be/data/filter/1999...   \n",
       "2  https://www.dov.vlaanderen.be/data/filter/1999...   \n",
       "3  https://www.dov.vlaanderen.be/data/filter/1999...   \n",
       "4  https://www.dov.vlaanderen.be/data/filter/1999...   \n",
       "\n",
       "                              pkey_grondwaterlocatie    gw_id filternummer  \\\n",
       "0  https://www.dov.vlaanderen.be/data/put/2017-00...  WVSP009            1   \n",
       "1  https://www.dov.vlaanderen.be/data/put/2017-00...  WVSP009            1   \n",
       "2  https://www.dov.vlaanderen.be/data/put/2017-00...  WVSP009            1   \n",
       "3  https://www.dov.vlaanderen.be/data/put/2017-00...  WVSP009            1   \n",
       "4  https://www.dov.vlaanderen.be/data/put/2017-00...  WVSP009            1   \n",
       "\n",
       "   filtertype             x              y  start_grondwaterlocatie_mtaw  \\\n",
       "0  peilfilter  89720.046875  165712.140625                         11.84   \n",
       "1  peilfilter  89720.046875  165712.140625                         11.84   \n",
       "2  peilfilter  89720.046875  165712.140625                         11.84   \n",
       "3  peilfilter  89720.046875  165712.140625                         11.84   \n",
       "4  peilfilter  89720.046875  165712.140625                         11.84   \n",
       "\n",
       "   mv_mtaw gemeente      ...          regime diepte_onderkant_filter  \\\n",
       "0    11.84  Avelgem      ...        onbekend                    5.78   \n",
       "1    11.84  Avelgem      ...        onbekend                    5.78   \n",
       "2    11.84  Avelgem      ...        onbekend                    5.78   \n",
       "3    11.84  Avelgem      ...        onbekend                    5.78   \n",
       "4    11.84  Avelgem      ...        onbekend                    5.78   \n",
       "\n",
       "   lengte_filter       datum  tijdstip  peil_mtaw betrouwbaarheid   methode  \\\n",
       "0            1.0  1999-01-12       NaN      12.20        onbekend  peillint   \n",
       "1            1.0  1999-01-21       NaN      12.26        onbekend  peillint   \n",
       "2            1.0  1999-02-01       NaN      12.31        onbekend  peillint   \n",
       "3            1.0  1999-02-06       NaN      12.29        onbekend  peillint   \n",
       "4            1.0  1999-02-12       NaN      12.18        onbekend  peillint   \n",
       "\n",
       "   filterstatus filtertoestand  \n",
       "0       in rust            1.0  \n",
       "1       in rust            1.0  \n",
       "2       in rust            1.0  \n",
       "3       in rust            1.0  \n",
       "4       in rust            1.0  \n",
       "\n",
       "[5 rows x 23 columns]"
      ]
     },
     "execution_count": 15,
     "metadata": {},
     "output_type": "execute_result"
    }
   ],
   "source": [
    "from owslib.fes import PropertyIsLike\n",
    "\n",
    "query = PropertyIsLike(propertyname='meetnet',\n",
    "                       literal='meetnet 9 %')\n",
    "df = gwfilter.search(query=query,\n",
    "                     location=Within(Box(87676, 163442, 91194, 168043)))\n",
    "df.head()"
   ]
  },
  {
   "cell_type": "markdown",
   "metadata": {},
   "source": [
    "### Get groundwater screens based on a combination of specific properties"
   ]
  },
  {
   "cell_type": "markdown",
   "metadata": {},
   "source": [
    "Get all groundwater screens in Hamme that have a value for length_filter and either belong to the primary meetnet of VMM or that have a depth bottom screen less than 3 meter."
   ]
  },
  {
   "cell_type": "code",
   "execution_count": 16,
   "metadata": {},
   "outputs": [
    {
     "data": {
      "text/html": [
       "<div>\n",
       "<style>\n",
       "    .dataframe thead tr:only-child th {\n",
       "        text-align: right;\n",
       "    }\n",
       "\n",
       "    .dataframe thead th {\n",
       "        text-align: left;\n",
       "    }\n",
       "\n",
       "    .dataframe tbody tr th {\n",
       "        vertical-align: top;\n",
       "    }\n",
       "</style>\n",
       "<table border=\"1\" class=\"dataframe\">\n",
       "  <thead>\n",
       "    <tr style=\"text-align: right;\">\n",
       "      <th></th>\n",
       "      <th>pkey_filter</th>\n",
       "      <th>x</th>\n",
       "      <th>y</th>\n",
       "      <th>gw_id</th>\n",
       "      <th>filternummer</th>\n",
       "      <th>diepte_onderkant_filter</th>\n",
       "    </tr>\n",
       "  </thead>\n",
       "  <tbody>\n",
       "    <tr>\n",
       "      <th>0</th>\n",
       "      <td>https://www.dov.vlaanderen.be/data/filter/2001...</td>\n",
       "      <td>130078.000000</td>\n",
       "      <td>196561.000000</td>\n",
       "      <td>MORP002</td>\n",
       "      <td>1</td>\n",
       "      <td>1.91</td>\n",
       "    </tr>\n",
       "    <tr>\n",
       "      <th>1</th>\n",
       "      <td>https://www.dov.vlaanderen.be/data/filter/2003...</td>\n",
       "      <td>131763.200000</td>\n",
       "      <td>198674.500000</td>\n",
       "      <td>802/21/3</td>\n",
       "      <td>1</td>\n",
       "      <td>2.50</td>\n",
       "    </tr>\n",
       "    <tr>\n",
       "      <th>2</th>\n",
       "      <td>https://www.dov.vlaanderen.be/data/filter/2003...</td>\n",
       "      <td>131837.656250</td>\n",
       "      <td>197054.203125</td>\n",
       "      <td>810/21/1</td>\n",
       "      <td>1</td>\n",
       "      <td>2.50</td>\n",
       "    </tr>\n",
       "    <tr>\n",
       "      <th>3</th>\n",
       "      <td>https://www.dov.vlaanderen.be/data/filter/2003...</td>\n",
       "      <td>133865.921875</td>\n",
       "      <td>195656.328125</td>\n",
       "      <td>813/21/2</td>\n",
       "      <td>1</td>\n",
       "      <td>2.50</td>\n",
       "    </tr>\n",
       "    <tr>\n",
       "      <th>4</th>\n",
       "      <td>https://www.dov.vlaanderen.be/data/filter/2000...</td>\n",
       "      <td>130190.000000</td>\n",
       "      <td>196378.000000</td>\n",
       "      <td>MORP001</td>\n",
       "      <td>1</td>\n",
       "      <td>1.59</td>\n",
       "    </tr>\n",
       "  </tbody>\n",
       "</table>\n",
       "</div>"
      ],
      "text/plain": [
       "                                         pkey_filter              x  \\\n",
       "0  https://www.dov.vlaanderen.be/data/filter/2001...  130078.000000   \n",
       "1  https://www.dov.vlaanderen.be/data/filter/2003...  131763.200000   \n",
       "2  https://www.dov.vlaanderen.be/data/filter/2003...  131837.656250   \n",
       "3  https://www.dov.vlaanderen.be/data/filter/2003...  133865.921875   \n",
       "4  https://www.dov.vlaanderen.be/data/filter/2000...  130190.000000   \n",
       "\n",
       "               y     gw_id filternummer  diepte_onderkant_filter  \n",
       "0  196561.000000   MORP002            1                     1.91  \n",
       "1  198674.500000  802/21/3            1                     2.50  \n",
       "2  197054.203125  810/21/1            1                     2.50  \n",
       "3  195656.328125  813/21/2            1                     2.50  \n",
       "4  196378.000000   MORP001            1                     1.59  "
      ]
     },
     "execution_count": 16,
     "metadata": {},
     "output_type": "execute_result"
    }
   ],
   "source": [
    "from owslib.fes import Or, Not, PropertyIsNull, PropertyIsLessThanOrEqualTo, And\n",
    "\n",
    "query = And([PropertyIsEqualTo(propertyname='gemeente',\n",
    "                               literal='Hamme'),\n",
    "             Not([PropertyIsNull(propertyname='lengte_filter')]),\n",
    "             Or([PropertyIsLike(propertyname='meetnet',\n",
    "                                literal='meetnet 1%'),\n",
    "                 PropertyIsLessThanOrEqualTo(\n",
    "                     propertyname='diepte_onderkant_filter',\n",
    "                     literal='3')])])\n",
    "df_hamme = gwfilter.search(query=query,\n",
    "                     return_fields=('pkey_filter', 'x', 'y', 'gw_id', 'filternummer', 'diepte_onderkant_filter'))\n",
    "df_hamme.head()"
   ]
  },
  {
   "cell_type": "markdown",
   "metadata": {},
   "source": [
    "## Combine `datum` and `tijdstip` in a datetime object"
   ]
  },
  {
   "cell_type": "markdown",
   "metadata": {},
   "source": [
    "Get some data and keep only the relevant waterlevel measurements:"
   ]
  },
  {
   "cell_type": "code",
   "execution_count": 17,
   "metadata": {},
   "outputs": [
    {
     "name": "stdout",
     "output_type": "stream",
     "text": [
      "[000/001] c\n"
     ]
    }
   ],
   "source": [
    "query = PropertyIsEqualTo(\n",
    "            propertyname='pkey_filter',\n",
    "            literal='https://www.dov.vlaanderen.be/data/filter/1997-000494')\n",
    "\n",
    "df = gwfilter.search(query=query)\n",
    "df = df[df.filterstatus == \"in rust\"]"
   ]
  },
  {
   "cell_type": "markdown",
   "metadata": {},
   "source": [
    "If the `tijdstip` field contains data, it can be combined with the `datum` field to create a date.datetime object. Make sure to fill the empty `tijdstip` fields with a default timestamp."
   ]
  },
  {
   "cell_type": "code",
   "execution_count": 18,
   "metadata": {},
   "outputs": [
    {
     "data": {
      "text/plain": [
       "0   1998-07-31 01:05:00\n",
       "1   1999-01-16 15:01:00\n",
       "2   1999-08-14 01:05:00\n",
       "3   1999-11-14 02:40:00\n",
       "4   1999-12-27 00:01:00\n",
       "Name: tijd, dtype: datetime64[ns]"
      ]
     },
     "execution_count": 18,
     "metadata": {},
     "output_type": "execute_result"
    }
   ],
   "source": [
    "import pandas as pd\n",
    "df.reset_index(inplace=True)\n",
    "df['tijdstip'] = df.tijdstip.fillna('00:00:00')\n",
    "df['tijd'] = pd.to_datetime(df.datum.astype(str)+' '+df.tijdstip.astype(str))\n",
    "df.tijd.head()"
   ]
  },
  {
   "cell_type": "markdown",
   "metadata": {},
   "source": [
    "## Working with water head time series "
   ]
  },
  {
   "cell_type": "markdown",
   "metadata": {},
   "source": [
    "For further analysis and visualisation of the time series data, we can use the data analysis library [pandas](https://pandas.pydata.org/) and visualisation library [matplotlib](https://matplotlib.org/). "
   ]
  },
  {
   "cell_type": "code",
   "execution_count": 19,
   "metadata": {
    "collapsed": true
   },
   "outputs": [],
   "source": [
    "import pandas as pd\n",
    "import matplotlib.pyplot as plt"
   ]
  },
  {
   "cell_type": "markdown",
   "metadata": {},
   "source": [
    "Query the data of a specific filter using its `pkey`:"
   ]
  },
  {
   "cell_type": "code",
   "execution_count": 20,
   "metadata": {},
   "outputs": [
    {
     "name": "stdout",
     "output_type": "stream",
     "text": [
      "[000/001] c\n"
     ]
    },
    {
     "data": {
      "text/html": [
       "<div>\n",
       "<style>\n",
       "    .dataframe thead tr:only-child th {\n",
       "        text-align: right;\n",
       "    }\n",
       "\n",
       "    .dataframe thead th {\n",
       "        text-align: left;\n",
       "    }\n",
       "\n",
       "    .dataframe tbody tr th {\n",
       "        vertical-align: top;\n",
       "    }\n",
       "</style>\n",
       "<table border=\"1\" class=\"dataframe\">\n",
       "  <thead>\n",
       "    <tr style=\"text-align: right;\">\n",
       "      <th></th>\n",
       "      <th>pkey_filter</th>\n",
       "      <th>pkey_grondwaterlocatie</th>\n",
       "      <th>gw_id</th>\n",
       "      <th>filternummer</th>\n",
       "      <th>filtertype</th>\n",
       "      <th>x</th>\n",
       "      <th>y</th>\n",
       "      <th>start_grondwaterlocatie_mtaw</th>\n",
       "      <th>mv_mtaw</th>\n",
       "      <th>gemeente</th>\n",
       "      <th>...</th>\n",
       "      <th>regime</th>\n",
       "      <th>diepte_onderkant_filter</th>\n",
       "      <th>lengte_filter</th>\n",
       "      <th>datum</th>\n",
       "      <th>tijdstip</th>\n",
       "      <th>peil_mtaw</th>\n",
       "      <th>betrouwbaarheid</th>\n",
       "      <th>methode</th>\n",
       "      <th>filterstatus</th>\n",
       "      <th>filtertoestand</th>\n",
       "    </tr>\n",
       "  </thead>\n",
       "  <tbody>\n",
       "    <tr>\n",
       "      <th>0</th>\n",
       "      <td>https://www.dov.vlaanderen.be/data/filter/2003...</td>\n",
       "      <td>https://www.dov.vlaanderen.be/data/put/2018-00...</td>\n",
       "      <td>ZWAP205</td>\n",
       "      <td>1</td>\n",
       "      <td>peilfilter</td>\n",
       "      <td>218953.0</td>\n",
       "      <td>198767.0</td>\n",
       "      <td>58.44</td>\n",
       "      <td>58.44</td>\n",
       "      <td>Houthalen-Helchteren</td>\n",
       "      <td>...</td>\n",
       "      <td>onbekend</td>\n",
       "      <td>0.68</td>\n",
       "      <td>0.3</td>\n",
       "      <td>2003-10-18</td>\n",
       "      <td>NaN</td>\n",
       "      <td>58.26</td>\n",
       "      <td>onbekend</td>\n",
       "      <td>peillint</td>\n",
       "      <td>onbekend</td>\n",
       "      <td>1</td>\n",
       "    </tr>\n",
       "    <tr>\n",
       "      <th>1</th>\n",
       "      <td>https://www.dov.vlaanderen.be/data/filter/2003...</td>\n",
       "      <td>https://www.dov.vlaanderen.be/data/put/2018-00...</td>\n",
       "      <td>ZWAP205</td>\n",
       "      <td>1</td>\n",
       "      <td>peilfilter</td>\n",
       "      <td>218953.0</td>\n",
       "      <td>198767.0</td>\n",
       "      <td>58.44</td>\n",
       "      <td>58.44</td>\n",
       "      <td>Houthalen-Helchteren</td>\n",
       "      <td>...</td>\n",
       "      <td>onbekend</td>\n",
       "      <td>0.68</td>\n",
       "      <td>0.3</td>\n",
       "      <td>2003-11-01</td>\n",
       "      <td>NaN</td>\n",
       "      <td>58.30</td>\n",
       "      <td>onbekend</td>\n",
       "      <td>peillint</td>\n",
       "      <td>onbekend</td>\n",
       "      <td>1</td>\n",
       "    </tr>\n",
       "    <tr>\n",
       "      <th>2</th>\n",
       "      <td>https://www.dov.vlaanderen.be/data/filter/2003...</td>\n",
       "      <td>https://www.dov.vlaanderen.be/data/put/2018-00...</td>\n",
       "      <td>ZWAP205</td>\n",
       "      <td>1</td>\n",
       "      <td>peilfilter</td>\n",
       "      <td>218953.0</td>\n",
       "      <td>198767.0</td>\n",
       "      <td>58.44</td>\n",
       "      <td>58.44</td>\n",
       "      <td>Houthalen-Helchteren</td>\n",
       "      <td>...</td>\n",
       "      <td>onbekend</td>\n",
       "      <td>0.68</td>\n",
       "      <td>0.3</td>\n",
       "      <td>2003-11-17</td>\n",
       "      <td>NaN</td>\n",
       "      <td>58.31</td>\n",
       "      <td>onbekend</td>\n",
       "      <td>peillint</td>\n",
       "      <td>onbekend</td>\n",
       "      <td>1</td>\n",
       "    </tr>\n",
       "    <tr>\n",
       "      <th>3</th>\n",
       "      <td>https://www.dov.vlaanderen.be/data/filter/2003...</td>\n",
       "      <td>https://www.dov.vlaanderen.be/data/put/2018-00...</td>\n",
       "      <td>ZWAP205</td>\n",
       "      <td>1</td>\n",
       "      <td>peilfilter</td>\n",
       "      <td>218953.0</td>\n",
       "      <td>198767.0</td>\n",
       "      <td>58.44</td>\n",
       "      <td>58.44</td>\n",
       "      <td>Houthalen-Helchteren</td>\n",
       "      <td>...</td>\n",
       "      <td>onbekend</td>\n",
       "      <td>0.68</td>\n",
       "      <td>0.3</td>\n",
       "      <td>2003-11-23</td>\n",
       "      <td>NaN</td>\n",
       "      <td>58.31</td>\n",
       "      <td>onbekend</td>\n",
       "      <td>peillint</td>\n",
       "      <td>onbekend</td>\n",
       "      <td>1</td>\n",
       "    </tr>\n",
       "    <tr>\n",
       "      <th>4</th>\n",
       "      <td>https://www.dov.vlaanderen.be/data/filter/2003...</td>\n",
       "      <td>https://www.dov.vlaanderen.be/data/put/2018-00...</td>\n",
       "      <td>ZWAP205</td>\n",
       "      <td>1</td>\n",
       "      <td>peilfilter</td>\n",
       "      <td>218953.0</td>\n",
       "      <td>198767.0</td>\n",
       "      <td>58.44</td>\n",
       "      <td>58.44</td>\n",
       "      <td>Houthalen-Helchteren</td>\n",
       "      <td>...</td>\n",
       "      <td>onbekend</td>\n",
       "      <td>0.68</td>\n",
       "      <td>0.3</td>\n",
       "      <td>2003-12-14</td>\n",
       "      <td>NaN</td>\n",
       "      <td>58.30</td>\n",
       "      <td>onbekend</td>\n",
       "      <td>peillint</td>\n",
       "      <td>onbekend</td>\n",
       "      <td>1</td>\n",
       "    </tr>\n",
       "  </tbody>\n",
       "</table>\n",
       "<p>5 rows × 23 columns</p>\n",
       "</div>"
      ],
      "text/plain": [
       "                                         pkey_filter  \\\n",
       "0  https://www.dov.vlaanderen.be/data/filter/2003...   \n",
       "1  https://www.dov.vlaanderen.be/data/filter/2003...   \n",
       "2  https://www.dov.vlaanderen.be/data/filter/2003...   \n",
       "3  https://www.dov.vlaanderen.be/data/filter/2003...   \n",
       "4  https://www.dov.vlaanderen.be/data/filter/2003...   \n",
       "\n",
       "                              pkey_grondwaterlocatie    gw_id filternummer  \\\n",
       "0  https://www.dov.vlaanderen.be/data/put/2018-00...  ZWAP205            1   \n",
       "1  https://www.dov.vlaanderen.be/data/put/2018-00...  ZWAP205            1   \n",
       "2  https://www.dov.vlaanderen.be/data/put/2018-00...  ZWAP205            1   \n",
       "3  https://www.dov.vlaanderen.be/data/put/2018-00...  ZWAP205            1   \n",
       "4  https://www.dov.vlaanderen.be/data/put/2018-00...  ZWAP205            1   \n",
       "\n",
       "   filtertype         x         y  start_grondwaterlocatie_mtaw  mv_mtaw  \\\n",
       "0  peilfilter  218953.0  198767.0                         58.44    58.44   \n",
       "1  peilfilter  218953.0  198767.0                         58.44    58.44   \n",
       "2  peilfilter  218953.0  198767.0                         58.44    58.44   \n",
       "3  peilfilter  218953.0  198767.0                         58.44    58.44   \n",
       "4  peilfilter  218953.0  198767.0                         58.44    58.44   \n",
       "\n",
       "               gemeente      ...          regime diepte_onderkant_filter  \\\n",
       "0  Houthalen-Helchteren      ...        onbekend                    0.68   \n",
       "1  Houthalen-Helchteren      ...        onbekend                    0.68   \n",
       "2  Houthalen-Helchteren      ...        onbekend                    0.68   \n",
       "3  Houthalen-Helchteren      ...        onbekend                    0.68   \n",
       "4  Houthalen-Helchteren      ...        onbekend                    0.68   \n",
       "\n",
       "   lengte_filter       datum  tijdstip  peil_mtaw betrouwbaarheid   methode  \\\n",
       "0            0.3  2003-10-18       NaN      58.26        onbekend  peillint   \n",
       "1            0.3  2003-11-01       NaN      58.30        onbekend  peillint   \n",
       "2            0.3  2003-11-17       NaN      58.31        onbekend  peillint   \n",
       "3            0.3  2003-11-23       NaN      58.31        onbekend  peillint   \n",
       "4            0.3  2003-12-14       NaN      58.30        onbekend  peillint   \n",
       "\n",
       "   filterstatus filtertoestand  \n",
       "0      onbekend              1  \n",
       "1      onbekend              1  \n",
       "2      onbekend              1  \n",
       "3      onbekend              1  \n",
       "4      onbekend              1  \n",
       "\n",
       "[5 rows x 23 columns]"
      ]
     },
     "execution_count": 20,
     "metadata": {},
     "output_type": "execute_result"
    }
   ],
   "source": [
    "query = PropertyIsEqualTo(\n",
    "            propertyname='pkey_filter',\n",
    "            literal='https://www.dov.vlaanderen.be/data/filter/2003-009883')\n",
    "\n",
    "df = gwfilter.search(query=query)\n",
    "df.head()"
   ]
  },
  {
   "cell_type": "markdown",
   "metadata": {},
   "source": [
    "The date is still stored as a string type. Transforming to a data type using the available pandas function [`to_datetime`](https://pandas.pydata.org/pandas-docs/stable/generated/pandas.to_datetime.html) and using these dates as row index:"
   ]
  },
  {
   "cell_type": "code",
   "execution_count": 21,
   "metadata": {
    "collapsed": true
   },
   "outputs": [],
   "source": [
    "df['datum'] = pd.to_datetime(df['datum'])\n",
    "df = df.set_index('datum')"
   ]
  },
  {
   "cell_type": "markdown",
   "metadata": {},
   "source": [
    "### Plotting"
   ]
  },
  {
   "cell_type": "markdown",
   "metadata": {},
   "source": [
    "The default plotting functionality of Pandas cen be used:"
   ]
  },
  {
   "cell_type": "code",
   "execution_count": 22,
   "metadata": {},
   "outputs": [
    {
     "data": {
      "text/plain": [
       "<matplotlib.axes._subplots.AxesSubplot at 0x134df6b34e0>"
      ]
     },
     "execution_count": 22,
     "metadata": {},
     "output_type": "execute_result"
    },
    {
     "data": {
      "image/png": "[encoded data removed]",
      "text/plain": [
       "<matplotlib.figure.Figure at 0x134e3650320>"
      ]
     },
     "metadata": {},
     "output_type": "display_data"
    }
   ],
   "source": [
    "df['peil_mtaw'].plot(style='-', figsize=(12, 5))"
   ]
  },
  {
   "cell_type": "markdown",
   "metadata": {},
   "source": [
    "Or a combination with matplotlib to have full customization options:"
   ]
  },
  {
   "cell_type": "code",
   "execution_count": 23,
   "metadata": {},
   "outputs": [
    {
     "data": {
      "image/png": "[encoded data removed]",
      "text/plain": [
       "<matplotlib.figure.Figure at 0x134e3954c18>"
      ]
     },
     "metadata": {},
     "output_type": "display_data"
    }
   ],
   "source": [
    "from matplotlib.dates import MonthLocator, YearLocator, DateFormatter\n",
    "from matplotlib.ticker import MaxNLocator, MultipleLocator\n",
    "\n",
    "# Get height of ground surface\n",
    "ground_surface = df[\"mv_mtaw\"][0]\n",
    "\n",
    "# create a plot with 2 subplots\n",
    "fig, (ax1, ax2) = plt.subplots(2, 1, figsize=(12, 6), \n",
    "                               sharex=False, sharey=True)\n",
    "\n",
    "# Plot entire time series in the upper plot\n",
    "df['peil_mtaw'].plot(ax=ax1, title='Water heads `Put ZWAP205`')\n",
    "ax1.xaxis.set_major_locator(YearLocator(5))\n",
    "ax1.xaxis.set_major_formatter(DateFormatter('%Y'))\n",
    "\n",
    "# Plot the data for 2011 in the lower plot\n",
    "df['peil_mtaw'][\"2011\"].plot(ax=ax2,  title='Water heads `Put ZWAP205` year 2011')\n",
    "ax2.xaxis.set_major_locator(MonthLocator(interval=3))\n",
    "ax2.xaxis.set_major_formatter(DateFormatter('%Y-%m'))\n",
    "\n",
    "# Adjust configuration of plot\n",
    "for ax in (ax1, ax2):\n",
    "    ax.set_xlabel('')\n",
    "    ax.set_ylabel('head (mTAW)')\n",
    "    for tick in ax.get_xticklabels():\n",
    "        tick.set_rotation(0)\n",
    "        tick.set_horizontalalignment('center')\n",
    "\n",
    "    # Only draw spine between the y-ticks\n",
    "    ax.spines['left'].set_position(('outward', 10))\n",
    "    # Hide the right and top spines\n",
    "    ax.spines['right'].set_visible(False)\n",
    "    ax.spines['top'].set_visible(False)\n",
    "    ax.yaxis.set_major_locator(MultipleLocator(0.2))\n",
    "    \n",
    "    # Add the ground surface (provided in the data) on the subplots\n",
    "    ax.axhline(ground_surface, color = 'brown')\n",
    "    ax.annotate('Ground surface', \n",
    "             xy=(0.05, 0.68),\n",
    "             xycoords='axes fraction',\n",
    "             xytext=(-25, -15), textcoords='offset points', \n",
    "             fontsize=12, color='brown')   \n",
    "    \n",
    "fig.tight_layout(h_pad=5)"
   ]
  },
  {
   "cell_type": "markdown",
   "metadata": {},
   "source": [
    "### Analysis"
   ]
  },
  {
   "cell_type": "markdown",
   "metadata": {},
   "source": [
    "The Pandas package provides a the functionality to further analyze and process [time series](https://pandas.pydata.org/pandas-docs/stable/timeseries.html) data. Particularly, the [`resample`](https://pandas.pydata.org/pandas-docs/stable/generated/pandas.DataFrame.resample.html) function can be useful."
   ]
  },
  {
   "cell_type": "markdown",
   "metadata": {},
   "source": [
    "For example, calculate the yearly minima and maxima of the time series:"
   ]
  },
  {
   "cell_type": "code",
   "execution_count": 24,
   "metadata": {},
   "outputs": [
    {
     "data": {
      "text/html": [
       "<div>\n",
       "<style>\n",
       "    .dataframe thead tr:only-child th {\n",
       "        text-align: right;\n",
       "    }\n",
       "\n",
       "    .dataframe thead th {\n",
       "        text-align: left;\n",
       "    }\n",
       "\n",
       "    .dataframe tbody tr th {\n",
       "        vertical-align: top;\n",
       "    }\n",
       "</style>\n",
       "<table border=\"1\" class=\"dataframe\">\n",
       "  <thead>\n",
       "    <tr style=\"text-align: right;\">\n",
       "      <th></th>\n",
       "      <th>min</th>\n",
       "      <th>max</th>\n",
       "    </tr>\n",
       "    <tr>\n",
       "      <th>datum</th>\n",
       "      <th></th>\n",
       "      <th></th>\n",
       "    </tr>\n",
       "  </thead>\n",
       "  <tbody>\n",
       "    <tr>\n",
       "      <th>2003-12-31</th>\n",
       "      <td>58.26</td>\n",
       "      <td>58.36</td>\n",
       "    </tr>\n",
       "    <tr>\n",
       "      <th>2004-12-31</th>\n",
       "      <td>58.22</td>\n",
       "      <td>58.36</td>\n",
       "    </tr>\n",
       "    <tr>\n",
       "      <th>2005-12-31</th>\n",
       "      <td>58.18</td>\n",
       "      <td>58.35</td>\n",
       "    </tr>\n",
       "    <tr>\n",
       "      <th>2006-12-31</th>\n",
       "      <td>58.10</td>\n",
       "      <td>58.42</td>\n",
       "    </tr>\n",
       "    <tr>\n",
       "      <th>2007-12-31</th>\n",
       "      <td>58.28</td>\n",
       "      <td>58.53</td>\n",
       "    </tr>\n",
       "    <tr>\n",
       "      <th>2008-12-31</th>\n",
       "      <td>58.34</td>\n",
       "      <td>58.60</td>\n",
       "    </tr>\n",
       "    <tr>\n",
       "      <th>2009-12-31</th>\n",
       "      <td>58.27</td>\n",
       "      <td>58.54</td>\n",
       "    </tr>\n",
       "    <tr>\n",
       "      <th>2010-12-31</th>\n",
       "      <td>58.21</td>\n",
       "      <td>58.56</td>\n",
       "    </tr>\n",
       "    <tr>\n",
       "      <th>2011-12-31</th>\n",
       "      <td>58.32</td>\n",
       "      <td>58.56</td>\n",
       "    </tr>\n",
       "    <tr>\n",
       "      <th>2012-12-31</th>\n",
       "      <td>58.32</td>\n",
       "      <td>58.55</td>\n",
       "    </tr>\n",
       "    <tr>\n",
       "      <th>2013-12-31</th>\n",
       "      <td>58.22</td>\n",
       "      <td>58.56</td>\n",
       "    </tr>\n",
       "    <tr>\n",
       "      <th>2014-12-31</th>\n",
       "      <td>58.21</td>\n",
       "      <td>58.54</td>\n",
       "    </tr>\n",
       "    <tr>\n",
       "      <th>2015-12-31</th>\n",
       "      <td>58.08</td>\n",
       "      <td>58.56</td>\n",
       "    </tr>\n",
       "    <tr>\n",
       "      <th>2016-12-31</th>\n",
       "      <td>58.24</td>\n",
       "      <td>58.54</td>\n",
       "    </tr>\n",
       "    <tr>\n",
       "      <th>2017-12-31</th>\n",
       "      <td>58.27</td>\n",
       "      <td>58.56</td>\n",
       "    </tr>\n",
       "    <tr>\n",
       "      <th>2018-12-31</th>\n",
       "      <td>58.08</td>\n",
       "      <td>58.53</td>\n",
       "    </tr>\n",
       "    <tr>\n",
       "      <th>2019-12-31</th>\n",
       "      <td>58.09</td>\n",
       "      <td>58.52</td>\n",
       "    </tr>\n",
       "  </tbody>\n",
       "</table>\n",
       "</div>"
      ],
      "text/plain": [
       "              min    max\n",
       "datum                   \n",
       "2003-12-31  58.26  58.36\n",
       "2004-12-31  58.22  58.36\n",
       "2005-12-31  58.18  58.35\n",
       "2006-12-31  58.10  58.42\n",
       "2007-12-31  58.28  58.53\n",
       "2008-12-31  58.34  58.60\n",
       "2009-12-31  58.27  58.54\n",
       "2010-12-31  58.21  58.56\n",
       "2011-12-31  58.32  58.56\n",
       "2012-12-31  58.32  58.55\n",
       "2013-12-31  58.22  58.56\n",
       "2014-12-31  58.21  58.54\n",
       "2015-12-31  58.08  58.56\n",
       "2016-12-31  58.24  58.54\n",
       "2017-12-31  58.27  58.56\n",
       "2018-12-31  58.08  58.53\n",
       "2019-12-31  58.09  58.52"
      ]
     },
     "execution_count": 24,
     "metadata": {},
     "output_type": "execute_result"
    }
   ],
   "source": [
    "df[\"peil_mtaw\"].resample(\"A\").agg(['min', 'max'])"
   ]
  },
  {
   "cell_type": "markdown",
   "metadata": {},
   "source": [
    "or the monthly minima and maxima:"
   ]
  },
  {
   "cell_type": "code",
   "execution_count": 25,
   "metadata": {},
   "outputs": [
    {
     "data": {
      "text/plain": [
       "<matplotlib.axes._subplots.AxesSubplot at 0x134e39d2be0>"
      ]
     },
     "execution_count": 25,
     "metadata": {},
     "output_type": "execute_result"
    },
    {
     "data": {
      "image/png": "[encoded data removed]",
      "text/plain": [
       "<matplotlib.figure.Figure at 0x134e39ca710>"
      ]
     },
     "metadata": {},
     "output_type": "display_data"
    }
   ],
   "source": [
    "df[\"peil_mtaw\"].resample(\"M\").agg(['min', 'max']).plot()"
   ]
  },
  {
   "cell_type": "markdown",
   "metadata": {},
   "source": [
    "Calculate 10 and 90 percentiles of the time series with the `quantile` function:"
   ]
  },
  {
   "cell_type": "code",
   "execution_count": 26,
   "metadata": {},
   "outputs": [
    {
     "data": {
      "text/plain": [
       "<matplotlib.legend.Legend at 0x134e5c76a20>"
      ]
     },
     "execution_count": 26,
     "metadata": {},
     "output_type": "execute_result"
    },
    {
     "data": {
      "image/png": "[encoded data removed]",
      "text/plain": [
       "<matplotlib.figure.Figure at 0x134e5b905c0>"
      ]
     },
     "metadata": {},
     "output_type": "display_data"
    }
   ],
   "source": [
    "fig, ax = plt.subplots(figsize=(12, 4))    \n",
    "ax.plot(df[\"peil_mtaw\"], label='head (mTAW)', linewidth=0.75)\n",
    "ax.axhline(df[\"peil_mtaw\"].quantile(0.1), color = 'brown', label='p10', linewidth=3)\n",
    "ax.axhline(df[\"peil_mtaw\"].quantile(0.9), color = 'darkblue', label='p90', linewidth=3)\n",
    "handles, labels = ax.get_legend_handles_labels()\n",
    "fig.legend(handles, labels)"
   ]
  },
  {
   "cell_type": "markdown",
   "metadata": {},
   "source": [
    "A duration exceedance curve provides the percentage of time that the water head is above a given value:"
   ]
  },
  {
   "cell_type": "code",
   "execution_count": 27,
   "metadata": {
    "collapsed": true
   },
   "outputs": [],
   "source": [
    "import numpy as np"
   ]
  },
  {
   "cell_type": "code",
   "execution_count": 28,
   "metadata": {},
   "outputs": [
    {
     "data": {
      "image/png": "[encoded data removed]",
      "text/plain": [
       "<matplotlib.figure.Figure at 0x134e5c6edd8>"
      ]
     },
     "metadata": {},
     "output_type": "display_data"
    }
   ],
   "source": [
    "sorted_heads = np.sort(df[\"peil_mtaw\"])[::-1]\n",
    "exceedence = np.arange(1.,len(sorted_heads)+1) / len(sorted_heads)\n",
    "\n",
    "plt.plot(exceedence*100, sorted_heads)\n",
    "plt.xlabel(\"Exceedence [%]\")\n",
    "plt.ylabel(\"Water head (mTAW)\")\n",
    "plt.show()"
   ]
  },
  {
   "cell_type": "markdown",
   "metadata": {},
   "source": [
    "## Visualize locations"
   ]
  },
  {
   "cell_type": "markdown",
   "metadata": {},
   "source": [
    "Using Folium, we can display the results of our search on a map."
   ]
  },
  {
   "cell_type": "code",
   "execution_count": 29,
   "metadata": {},
   "outputs": [],
   "source": [
    "# import the necessary modules (not included in the requirements of pydov!)\n",
    "import folium\n",
    "from folium.plugins import MarkerCluster\n",
    "from pyproj import Proj, transform"
   ]
  },
  {
   "cell_type": "code",
   "execution_count": 30,
   "metadata": {},
   "outputs": [],
   "source": [
    "# convert the coordinates to lat/lon for folium\n",
    "def convert_latlon(x1, y1):\n",
    "    inProj = Proj(init='epsg:31370')\n",
    "    outProj = Proj(init='epsg:4326')\n",
    "    x2,y2 = transform(inProj, outProj, x1, y1)\n",
    "    return x2, y2\n",
    "df_hamme['lon'], df_hamme['lat'] = zip(*map(convert_latlon, df_hamme['x'], df_hamme['y'])) \n",
    "# convert to list\n",
    "loclist = df_hamme[['lat', 'lon']].values.tolist()"
   ]
  },
  {
   "cell_type": "code",
   "execution_count": 31,
   "metadata": {},
   "outputs": [
    {
     "data": {
      "text/html": [
       "<div style=\"width:100%;\"><div style=\"position:relative;width:100%;height:0;padding-bottom:60%;\"><iframe src=\"data:text/html;charset=utf-8;base64,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\" style=\"position:absolute;width:100%;height:100%;left:0;top:0;border:none !important;\" allowfullscreen webkitallowfullscreen mozallowfullscreen></iframe></div></div>"
      ],
      "text/plain": [
       "<folium.folium.Map at 0x134e6273ac8>"
      ]
     },
     "execution_count": 31,
     "metadata": {},
     "output_type": "execute_result"
    }
   ],
   "source": [
    "# initialize the Folium map on the centre of the selected locations, play with the zoom until ok\n",
    "fmap = folium.Map(location=[df_hamme['lat'].mean(), df_hamme['lon'].mean()], zoom_start=12)\n",
    "marker_cluster = MarkerCluster().add_to(fmap)\n",
    "for loc in range(0, len(loclist)):\n",
    "    folium.Marker(loclist[loc], popup=df_hamme['gw_id'][loc]).add_to(marker_cluster)\n",
    "fmap\n"
   ]
  },
  {
   "cell_type": "markdown",
   "metadata": {
    "collapsed": true
   },
   "source": [
    "### Get groundwater screens within a \"grondwaterlichaam\""
   ]
  },
  {
   "cell_type": "code",
   "execution_count": 32,
   "metadata": {
    "collapsed": true
   },
   "outputs": [],
   "source": [
    "gwfilter = GrondwaterFilterSearch()"
   ]
  },
  {
   "cell_type": "code",
   "execution_count": 33,
   "metadata": {},
   "outputs": [
    {
     "name": "stdout",
     "output_type": "stream",
     "text": [
      "[000/010] cccccccccc\n"
     ]
    },
    {
     "data": {
      "text/html": [
       "<div>\n",
       "<style>\n",
       "    .dataframe thead tr:only-child th {\n",
       "        text-align: right;\n",
       "    }\n",
       "\n",
       "    .dataframe thead th {\n",
       "        text-align: left;\n",
       "    }\n",
       "\n",
       "    .dataframe tbody tr th {\n",
       "        vertical-align: top;\n",
       "    }\n",
       "</style>\n",
       "<table border=\"1\" class=\"dataframe\">\n",
       "  <thead>\n",
       "    <tr style=\"text-align: right;\">\n",
       "      <th></th>\n",
       "      <th>pkey_filter</th>\n",
       "      <th>gw_id</th>\n",
       "      <th>filternummer</th>\n",
       "      <th>x</th>\n",
       "      <th>y</th>\n",
       "      <th>grondwaterlichaam_code</th>\n",
       "    </tr>\n",
       "  </thead>\n",
       "  <tbody>\n",
       "    <tr>\n",
       "      <th>0</th>\n",
       "      <td>https://www.dov.vlaanderen.be/data/filter/1900...</td>\n",
       "      <td>2-100056</td>\n",
       "      <td>1</td>\n",
       "      <td>199553.0</td>\n",
       "      <td>174938.0</td>\n",
       "      <td>BLKS_1000_GWL_2S</td>\n",
       "    </tr>\n",
       "    <tr>\n",
       "      <th>1</th>\n",
       "      <td>https://www.dov.vlaanderen.be/data/filter/2014...</td>\n",
       "      <td>7-100188</td>\n",
       "      <td>1</td>\n",
       "      <td>207804.0</td>\n",
       "      <td>168688.0</td>\n",
       "      <td>BLKS_1000_GWL_1S</td>\n",
       "    </tr>\n",
       "    <tr>\n",
       "      <th>2</th>\n",
       "      <td>https://www.dov.vlaanderen.be/data/filter/1900...</td>\n",
       "      <td>2-100291</td>\n",
       "      <td>2</td>\n",
       "      <td>215390.0</td>\n",
       "      <td>183107.0</td>\n",
       "      <td>BLKS_1000_GWL_1S</td>\n",
       "    </tr>\n",
       "    <tr>\n",
       "      <th>3</th>\n",
       "      <td>https://www.dov.vlaanderen.be/data/filter/2015...</td>\n",
       "      <td>7-100480</td>\n",
       "      <td>1</td>\n",
       "      <td>220356.0</td>\n",
       "      <td>167455.0</td>\n",
       "      <td>BLKS_1000_GWL_2S</td>\n",
       "    </tr>\n",
       "    <tr>\n",
       "      <th>4</th>\n",
       "      <td>https://www.dov.vlaanderen.be/data/filter/2015...</td>\n",
       "      <td>2-100723</td>\n",
       "      <td>1</td>\n",
       "      <td>191914.0</td>\n",
       "      <td>165452.0</td>\n",
       "      <td>BLKS_1000_GWL_1S</td>\n",
       "    </tr>\n",
       "    <tr>\n",
       "      <th>5</th>\n",
       "      <td>https://www.dov.vlaanderen.be/data/filter/2015...</td>\n",
       "      <td>7-101124</td>\n",
       "      <td>2</td>\n",
       "      <td>229414.0</td>\n",
       "      <td>174604.0</td>\n",
       "      <td>BLKS_1000_GWL_2S</td>\n",
       "    </tr>\n",
       "    <tr>\n",
       "      <th>6</th>\n",
       "      <td>https://www.dov.vlaanderen.be/data/filter/1900...</td>\n",
       "      <td>7-101127</td>\n",
       "      <td>1</td>\n",
       "      <td>204320.0</td>\n",
       "      <td>162825.0</td>\n",
       "      <td>BLKS_1000_GWL_1S</td>\n",
       "    </tr>\n",
       "    <tr>\n",
       "      <th>7</th>\n",
       "      <td>https://www.dov.vlaanderen.be/data/filter/2015...</td>\n",
       "      <td>7-101138</td>\n",
       "      <td>2</td>\n",
       "      <td>226690.0</td>\n",
       "      <td>176348.0</td>\n",
       "      <td>BLKS_1000_GWL_2S</td>\n",
       "    </tr>\n",
       "    <tr>\n",
       "      <th>8</th>\n",
       "      <td>https://www.dov.vlaanderen.be/data/filter/1900...</td>\n",
       "      <td>7-101323</td>\n",
       "      <td>1</td>\n",
       "      <td>207188.0</td>\n",
       "      <td>166062.0</td>\n",
       "      <td>BLKS_1000_GWL_1S</td>\n",
       "    </tr>\n",
       "    <tr>\n",
       "      <th>9</th>\n",
       "      <td>https://www.dov.vlaanderen.be/data/filter/1900...</td>\n",
       "      <td>2-101474</td>\n",
       "      <td>1</td>\n",
       "      <td>199679.0</td>\n",
       "      <td>168452.0</td>\n",
       "      <td>BLKS_1000_GWL_1S</td>\n",
       "    </tr>\n",
       "  </tbody>\n",
       "</table>\n",
       "</div>"
      ],
      "text/plain": [
       "                                         pkey_filter     gw_id filternummer  \\\n",
       "0  https://www.dov.vlaanderen.be/data/filter/1900...  2-100056            1   \n",
       "1  https://www.dov.vlaanderen.be/data/filter/2014...  7-100188            1   \n",
       "2  https://www.dov.vlaanderen.be/data/filter/1900...  2-100291            2   \n",
       "3  https://www.dov.vlaanderen.be/data/filter/2015...  7-100480            1   \n",
       "4  https://www.dov.vlaanderen.be/data/filter/2015...  2-100723            1   \n",
       "5  https://www.dov.vlaanderen.be/data/filter/2015...  7-101124            2   \n",
       "6  https://www.dov.vlaanderen.be/data/filter/1900...  7-101127            1   \n",
       "7  https://www.dov.vlaanderen.be/data/filter/2015...  7-101138            2   \n",
       "8  https://www.dov.vlaanderen.be/data/filter/1900...  7-101323            1   \n",
       "9  https://www.dov.vlaanderen.be/data/filter/1900...  2-101474            1   \n",
       "\n",
       "          x         y grondwaterlichaam_code  \n",
       "0  199553.0  174938.0       BLKS_1000_GWL_2S  \n",
       "1  207804.0  168688.0       BLKS_1000_GWL_1S  \n",
       "2  215390.0  183107.0       BLKS_1000_GWL_1S  \n",
       "3  220356.0  167455.0       BLKS_1000_GWL_2S  \n",
       "4  191914.0  165452.0       BLKS_1000_GWL_1S  \n",
       "5  229414.0  174604.0       BLKS_1000_GWL_2S  \n",
       "6  204320.0  162825.0       BLKS_1000_GWL_1S  \n",
       "7  226690.0  176348.0       BLKS_1000_GWL_2S  \n",
       "8  207188.0  166062.0       BLKS_1000_GWL_1S  \n",
       "9  199679.0  168452.0       BLKS_1000_GWL_1S  "
      ]
     },
     "execution_count": 33,
     "metadata": {},
     "output_type": "execute_result"
    }
   ],
   "source": [
    "query = PropertyIsLike(\n",
    "            propertyname='grondwaterlichaam',\n",
    "            literal='BLKS_1000%')\n",
    "df = gwfilter.search(max_features=10, \n",
    "                     query=query, \n",
    "                     return_fields=(\"pkey_filter\", \"gw_id\", \"filternummer\", \"x\", \"y\", \"grondwaterlichaam_code\"))\n",
    "df"
   ]
  },
  {
   "cell_type": "code",
   "execution_count": null,
   "metadata": {
    "collapsed": true
   },
   "outputs": [],
   "source": []
  }
 ],
 "metadata": {
  "kernelspec": {
   "display_name": "Python 3",
   "language": "python",
   "name": "python3"
  },
  "language_info": {
   "codemirror_mode": {
    "name": "ipython",
    "version": 3
   },
   "file_extension": ".py",
   "mimetype": "text/x-python",
   "name": "python",
   "nbconvert_exporter": "python",
   "pygments_lexer": "ipython3",
   "version": "3.6.2"
  }
 },
 "nbformat": 4,
 "nbformat_minor": 2
}
