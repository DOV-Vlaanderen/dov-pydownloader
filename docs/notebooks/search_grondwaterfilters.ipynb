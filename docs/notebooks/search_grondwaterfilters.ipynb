{
 "cells": [
  {
   "cell_type": "markdown",
   "metadata": {},
   "source": [
    "# Example of DOV search methods for groundwater screens (grondwaterfilters)\n"
   ]
  },
  {
   "cell_type": "markdown",
   "metadata": {},
   "source": [
    "## Use cases:\n",
    "* Get groundwater screens in a bounding box\n",
    "* Get groundwater screens with specific properties\n",
    "* Get the coordinates of all groundwater screens in Ghent\n",
    "* Get the 'meetnet' and 'meetnet_code' for groundwater screens in Boortmeerbeek\n",
    "* Get all details of groundwaterscreens of 'meetnet 9' within the given bounding box\n",
    "* Get groundwater screens based on a combination of specific properties"
   ]
  },
  {
   "cell_type": "code",
   "execution_count": 1,
   "metadata": {},
   "outputs": [],
   "source": [
    "%matplotlib inline\n",
    "import inspect, sys"
   ]
  },
  {
   "cell_type": "code",
   "execution_count": 2,
   "metadata": {},
   "outputs": [],
   "source": [
    "# check pydov path\n",
    "import pydov"
   ]
  },
  {
   "cell_type": "markdown",
   "metadata": {},
   "source": [
    "## Get information about the datatype 'GrondwaterFilter'"
   ]
  },
  {
   "cell_type": "code",
   "execution_count": 3,
   "metadata": {},
   "outputs": [],
   "source": [
    "from pydov.search.grondwaterfilter import GrondwaterFilterSearch\n",
    "gwfilter = GrondwaterFilterSearch()"
   ]
  },
  {
   "cell_type": "markdown",
   "metadata": {},
   "source": [
    "A description is provided for the 'GrondwaterFilter' datatype:"
   ]
  },
  {
   "cell_type": "code",
   "execution_count": 4,
   "metadata": {},
   "outputs": [
    {
     "name": "stdout",
     "output_type": "stream",
     "text": [
      "In de Databank Ondergrond Vlaanderen zijn verschillende grondwatermeetnetten opgenomen. Deze meetnetten staan in functie van uitgebreide monitoringprogramma’s met de bedoeling een goed beeld te krijgen van de beschikbare grondwaterkwantiteit en grondwaterkwaliteit van de watervoerende lagen in Vlaanderen.\n"
     ]
    }
   ],
   "source": [
    "print(gwfilter.get_description())"
   ]
  },
  {
   "cell_type": "markdown",
   "metadata": {},
   "source": [
    "The different fields that are available for objects of the 'GrondwaterFilter' datatype can be requested with the get_fields() method:"
   ]
  },
  {
   "cell_type": "code",
   "execution_count": 5,
   "metadata": {},
   "outputs": [
    {
     "name": "stdout",
     "output_type": "stream",
     "text": [
      "gw_id\n",
      "pkey_grondwaterlocatie\n",
      "filternummer\n",
      "pkey_filter\n",
      "namen\n",
      "filtergrafiek\n",
      "putgrafiek\n",
      "aquifer\n",
      "diepte_onderkant_filter\n",
      "lengte_filter\n",
      "putsoort\n",
      "filtertype\n",
      "meetnet\n",
      "x\n",
      "y\n",
      "start_grondwaterlocatie_mtaw\n",
      "gemeente\n",
      "grondwaterlichaam\n",
      "regime\n",
      "datum_in_filter\n",
      "datum_uit_filter\n",
      "stijghoogterapport\n",
      "analyserapport\n",
      "boornummer\n",
      "boringfiche\n",
      "peilmetingen_van\n",
      "peilmetingen_tot\n",
      "kwaliteitsmetingen_van\n",
      "kwaliteitsmetingen_tot\n",
      "recentste_exploitant\n",
      "beheerder\n",
      "mv_mtaw\n",
      "meetnet_code\n",
      "aquifer_code\n",
      "grondwaterlichaam_code\n",
      "datum\n",
      "tijdstip\n",
      "peil_mtaw\n",
      "betrouwbaarheid\n",
      "methode\n",
      "filterstatus\n",
      "filtertoestand\n"
     ]
    }
   ],
   "source": [
    "fields = gwfilter.get_fields()\n",
    "\n",
    "# print available fields\n",
    "for f in fields.values():\n",
    "    print(f['name'])"
   ]
  },
  {
   "cell_type": "markdown",
   "metadata": {},
   "source": [
    "You can get more information of a field by requesting it from the fields dictionary:\n",
    "* *name*: name of the field\n",
    "* *definition*: definition of this field\n",
    "* *cost*: currently this is either 1 or 10, depending on the datasource of the field. It is an indication of the expected time it will take to retrieve this field in the output dataframe.\n",
    "* *notnull*: whether the field is mandatory or not\n",
    "* *type*: datatype of the values of this field"
   ]
  },
  {
   "cell_type": "code",
   "execution_count": 6,
   "metadata": {},
   "outputs": [
    {
     "data": {
      "text/plain": [
       "{'name': 'aquifer',\n",
       " 'definition': 'De aquifer waarin de filter hangt. Als tekst, opgebouwd uit de HCOV code (vier karakters) en de naam gescheiden door \" - \"',\n",
       " 'type': 'string',\n",
       " 'notnull': True,\n",
       " 'query': True,\n",
       " 'cost': 1}"
      ]
     },
     "execution_count": 6,
     "metadata": {},
     "output_type": "execute_result"
    }
   ],
   "source": [
    "# print information for a certain field\n",
    "fields['aquifer']"
   ]
  },
  {
   "cell_type": "markdown",
   "metadata": {},
   "source": [
    "Optionally, if the values of the field have a specific domain the possible values are listed as *values*:"
   ]
  },
  {
   "cell_type": "code",
   "execution_count": 7,
   "metadata": {},
   "outputs": [
    {
     "data": {
      "text/plain": [
       "{'Installatie': None,\n",
       " 'batterijput': None,\n",
       " 'bodemlus': None,\n",
       " 'bron, natuurlijke holte': None,\n",
       " 'bronbemaling': None,\n",
       " 'draineringsinrichting': None,\n",
       " 'galerij': None,\n",
       " 'graverij, mijn, groeve': None,\n",
       " 'niet-verbuisde boorput': None,\n",
       " 'onbekend': None,\n",
       " 'ring- of steenput': None,\n",
       " 'verbuisde boorput': None,\n",
       " 'vijver': None}"
      ]
     },
     "execution_count": 7,
     "metadata": {},
     "output_type": "execute_result"
    }
   ],
   "source": [
    "# if an attribute can have several values, these are listed under 'values', e.g. for 'putsoort':\n",
    "fields['putsoort']['values']"
   ]
  },
  {
   "cell_type": "markdown",
   "metadata": {},
   "source": [
    "## Example use cases"
   ]
  },
  {
   "cell_type": "markdown",
   "metadata": {},
   "source": [
    "### Get groundwater screens in a bounding box"
   ]
  },
  {
   "cell_type": "markdown",
   "metadata": {},
   "source": [
    "Get data for all the groundwater screens that are geographically located within the bounds of the specified box.\n",
    "\n",
    "The coordinates are in the Belgian Lambert72 (EPSG:31370) coordinate system and are given in the order of lower left x, lower left y, upper right x, upper right y."
   ]
  },
  {
   "cell_type": "code",
   "execution_count": 8,
   "metadata": {},
   "outputs": [
    {
     "name": "stdout",
     "output_type": "stream",
     "text": [
      "[000/026] cccccccccccccccccccccccccc\n"
     ]
    },
    {
     "data": {
      "text/html": [
       "<div>\n",
       "<style scoped>\n",
       "    .dataframe tbody tr th:only-of-type {\n",
       "        vertical-align: middle;\n",
       "    }\n",
       "\n",
       "    .dataframe tbody tr th {\n",
       "        vertical-align: top;\n",
       "    }\n",
       "\n",
       "    .dataframe thead th {\n",
       "        text-align: right;\n",
       "    }\n",
       "</style>\n",
       "<table border=\"1\" class=\"dataframe\">\n",
       "  <thead>\n",
       "    <tr style=\"text-align: right;\">\n",
       "      <th></th>\n",
       "      <th>pkey_filter</th>\n",
       "      <th>pkey_grondwaterlocatie</th>\n",
       "      <th>gw_id</th>\n",
       "      <th>filternummer</th>\n",
       "      <th>filtertype</th>\n",
       "      <th>x</th>\n",
       "      <th>y</th>\n",
       "      <th>start_grondwaterlocatie_mtaw</th>\n",
       "      <th>mv_mtaw</th>\n",
       "      <th>gemeente</th>\n",
       "      <th>...</th>\n",
       "      <th>regime</th>\n",
       "      <th>diepte_onderkant_filter</th>\n",
       "      <th>lengte_filter</th>\n",
       "      <th>datum</th>\n",
       "      <th>tijdstip</th>\n",
       "      <th>peil_mtaw</th>\n",
       "      <th>betrouwbaarheid</th>\n",
       "      <th>methode</th>\n",
       "      <th>filterstatus</th>\n",
       "      <th>filtertoestand</th>\n",
       "    </tr>\n",
       "  </thead>\n",
       "  <tbody>\n",
       "    <tr>\n",
       "      <th>0</th>\n",
       "      <td>https://www.dov.vlaanderen.be/data/filter/1999...</td>\n",
       "      <td>https://www.dov.vlaanderen.be/data/put/2018-00...</td>\n",
       "      <td>SWPP006</td>\n",
       "      <td>1</td>\n",
       "      <td>peilfilter</td>\n",
       "      <td>94147.0</td>\n",
       "      <td>169582.0</td>\n",
       "      <td>9.4</td>\n",
       "      <td>9.4</td>\n",
       "      <td>Wortegem-Petegem</td>\n",
       "      <td>...</td>\n",
       "      <td>onbekend</td>\n",
       "      <td>NaN</td>\n",
       "      <td>NaN</td>\n",
       "      <td>1999-04-13</td>\n",
       "      <td>NaN</td>\n",
       "      <td>9.22</td>\n",
       "      <td>onbekend</td>\n",
       "      <td>peillint</td>\n",
       "      <td>onbekend</td>\n",
       "      <td>1.0</td>\n",
       "    </tr>\n",
       "    <tr>\n",
       "      <th>1</th>\n",
       "      <td>https://www.dov.vlaanderen.be/data/filter/1999...</td>\n",
       "      <td>https://www.dov.vlaanderen.be/data/put/2018-00...</td>\n",
       "      <td>SWPP006</td>\n",
       "      <td>1</td>\n",
       "      <td>peilfilter</td>\n",
       "      <td>94147.0</td>\n",
       "      <td>169582.0</td>\n",
       "      <td>9.4</td>\n",
       "      <td>9.4</td>\n",
       "      <td>Wortegem-Petegem</td>\n",
       "      <td>...</td>\n",
       "      <td>onbekend</td>\n",
       "      <td>NaN</td>\n",
       "      <td>NaN</td>\n",
       "      <td>1999-04-14</td>\n",
       "      <td>NaN</td>\n",
       "      <td>9.41</td>\n",
       "      <td>onbekend</td>\n",
       "      <td>peillint</td>\n",
       "      <td>onbekend</td>\n",
       "      <td>1.0</td>\n",
       "    </tr>\n",
       "    <tr>\n",
       "      <th>2</th>\n",
       "      <td>https://www.dov.vlaanderen.be/data/filter/1999...</td>\n",
       "      <td>https://www.dov.vlaanderen.be/data/put/2018-00...</td>\n",
       "      <td>SWPP006</td>\n",
       "      <td>1</td>\n",
       "      <td>peilfilter</td>\n",
       "      <td>94147.0</td>\n",
       "      <td>169582.0</td>\n",
       "      <td>9.4</td>\n",
       "      <td>9.4</td>\n",
       "      <td>Wortegem-Petegem</td>\n",
       "      <td>...</td>\n",
       "      <td>onbekend</td>\n",
       "      <td>NaN</td>\n",
       "      <td>NaN</td>\n",
       "      <td>1999-04-22</td>\n",
       "      <td>NaN</td>\n",
       "      <td>9.29</td>\n",
       "      <td>onbekend</td>\n",
       "      <td>peillint</td>\n",
       "      <td>onbekend</td>\n",
       "      <td>1.0</td>\n",
       "    </tr>\n",
       "    <tr>\n",
       "      <th>3</th>\n",
       "      <td>https://www.dov.vlaanderen.be/data/filter/1999...</td>\n",
       "      <td>https://www.dov.vlaanderen.be/data/put/2018-00...</td>\n",
       "      <td>SWPP006</td>\n",
       "      <td>1</td>\n",
       "      <td>peilfilter</td>\n",
       "      <td>94147.0</td>\n",
       "      <td>169582.0</td>\n",
       "      <td>9.4</td>\n",
       "      <td>9.4</td>\n",
       "      <td>Wortegem-Petegem</td>\n",
       "      <td>...</td>\n",
       "      <td>onbekend</td>\n",
       "      <td>NaN</td>\n",
       "      <td>NaN</td>\n",
       "      <td>1999-05-06</td>\n",
       "      <td>NaN</td>\n",
       "      <td>9.11</td>\n",
       "      <td>onbekend</td>\n",
       "      <td>peillint</td>\n",
       "      <td>onbekend</td>\n",
       "      <td>1.0</td>\n",
       "    </tr>\n",
       "    <tr>\n",
       "      <th>4</th>\n",
       "      <td>https://www.dov.vlaanderen.be/data/filter/1999...</td>\n",
       "      <td>https://www.dov.vlaanderen.be/data/put/2018-00...</td>\n",
       "      <td>SWPP006</td>\n",
       "      <td>1</td>\n",
       "      <td>peilfilter</td>\n",
       "      <td>94147.0</td>\n",
       "      <td>169582.0</td>\n",
       "      <td>9.4</td>\n",
       "      <td>9.4</td>\n",
       "      <td>Wortegem-Petegem</td>\n",
       "      <td>...</td>\n",
       "      <td>onbekend</td>\n",
       "      <td>NaN</td>\n",
       "      <td>NaN</td>\n",
       "      <td>1999-05-18</td>\n",
       "      <td>NaN</td>\n",
       "      <td>9.01</td>\n",
       "      <td>onbekend</td>\n",
       "      <td>peillint</td>\n",
       "      <td>onbekend</td>\n",
       "      <td>1.0</td>\n",
       "    </tr>\n",
       "  </tbody>\n",
       "</table>\n",
       "<p>5 rows × 23 columns</p>\n",
       "</div>"
      ],
      "text/plain": [
       "                                         pkey_filter  \\\n",
       "0  https://www.dov.vlaanderen.be/data/filter/1999...   \n",
       "1  https://www.dov.vlaanderen.be/data/filter/1999...   \n",
       "2  https://www.dov.vlaanderen.be/data/filter/1999...   \n",
       "3  https://www.dov.vlaanderen.be/data/filter/1999...   \n",
       "4  https://www.dov.vlaanderen.be/data/filter/1999...   \n",
       "\n",
       "                              pkey_grondwaterlocatie    gw_id filternummer  \\\n",
       "0  https://www.dov.vlaanderen.be/data/put/2018-00...  SWPP006            1   \n",
       "1  https://www.dov.vlaanderen.be/data/put/2018-00...  SWPP006            1   \n",
       "2  https://www.dov.vlaanderen.be/data/put/2018-00...  SWPP006            1   \n",
       "3  https://www.dov.vlaanderen.be/data/put/2018-00...  SWPP006            1   \n",
       "4  https://www.dov.vlaanderen.be/data/put/2018-00...  SWPP006            1   \n",
       "\n",
       "   filtertype        x         y  start_grondwaterlocatie_mtaw  mv_mtaw  \\\n",
       "0  peilfilter  94147.0  169582.0                           9.4      9.4   \n",
       "1  peilfilter  94147.0  169582.0                           9.4      9.4   \n",
       "2  peilfilter  94147.0  169582.0                           9.4      9.4   \n",
       "3  peilfilter  94147.0  169582.0                           9.4      9.4   \n",
       "4  peilfilter  94147.0  169582.0                           9.4      9.4   \n",
       "\n",
       "           gemeente  ...    regime diepte_onderkant_filter  lengte_filter  \\\n",
       "0  Wortegem-Petegem  ...  onbekend                     NaN            NaN   \n",
       "1  Wortegem-Petegem  ...  onbekend                     NaN            NaN   \n",
       "2  Wortegem-Petegem  ...  onbekend                     NaN            NaN   \n",
       "3  Wortegem-Petegem  ...  onbekend                     NaN            NaN   \n",
       "4  Wortegem-Petegem  ...  onbekend                     NaN            NaN   \n",
       "\n",
       "        datum  tijdstip  peil_mtaw betrouwbaarheid   methode  filterstatus  \\\n",
       "0  1999-04-13       NaN       9.22        onbekend  peillint      onbekend   \n",
       "1  1999-04-14       NaN       9.41        onbekend  peillint      onbekend   \n",
       "2  1999-04-22       NaN       9.29        onbekend  peillint      onbekend   \n",
       "3  1999-05-06       NaN       9.11        onbekend  peillint      onbekend   \n",
       "4  1999-05-18       NaN       9.01        onbekend  peillint      onbekend   \n",
       "\n",
       "  filtertoestand  \n",
       "0            1.0  \n",
       "1            1.0  \n",
       "2            1.0  \n",
       "3            1.0  \n",
       "4            1.0  \n",
       "\n",
       "[5 rows x 23 columns]"
      ]
     },
     "execution_count": 8,
     "metadata": {},
     "output_type": "execute_result"
    }
   ],
   "source": [
    "from pydov.util.location import Within, Box\n",
    "\n",
    "df = gwfilter.search(location=Within(Box(93378, 168009, 94246, 169873)))\n",
    "df.head()"
   ]
  },
  {
   "cell_type": "markdown",
   "metadata": {},
   "source": [
    "Using the *pkey* attributes one can request the details of the corresponding *put* or *filter* in a webbrowser:"
   ]
  },
  {
   "cell_type": "code",
   "execution_count": 9,
   "metadata": {},
   "outputs": [
    {
     "name": "stdout",
     "output_type": "stream",
     "text": [
      "https://www.dov.vlaanderen.be/data/put/2018-007291\n",
      "https://www.dov.vlaanderen.be/data/put/2018-007300\n",
      "https://www.dov.vlaanderen.be/data/put/2017-002867\n",
      "https://www.dov.vlaanderen.be/data/put/2018-007289\n",
      "https://www.dov.vlaanderen.be/data/put/2018-007310\n",
      "https://www.dov.vlaanderen.be/data/put/2018-007295\n",
      "https://www.dov.vlaanderen.be/data/put/2017-002868\n",
      "https://www.dov.vlaanderen.be/data/put/2018-007290\n",
      "https://www.dov.vlaanderen.be/data/put/2018-007307\n",
      "https://www.dov.vlaanderen.be/data/put/2018-007313\n",
      "https://www.dov.vlaanderen.be/data/put/2018-007311\n",
      "https://www.dov.vlaanderen.be/data/put/2018-007299\n",
      "https://www.dov.vlaanderen.be/data/put/2018-007287\n",
      "https://www.dov.vlaanderen.be/data/put/2019-020544\n",
      "https://www.dov.vlaanderen.be/data/put/2018-007292\n",
      "https://www.dov.vlaanderen.be/data/put/2018-007288\n",
      "https://www.dov.vlaanderen.be/data/put/2017-002866\n",
      "https://www.dov.vlaanderen.be/data/put/2018-007294\n",
      "https://www.dov.vlaanderen.be/data/put/2018-007304\n",
      "https://www.dov.vlaanderen.be/data/put/2018-007286\n",
      "https://www.dov.vlaanderen.be/data/put/2018-007293\n",
      "https://www.dov.vlaanderen.be/data/put/2019-019725\n",
      "https://www.dov.vlaanderen.be/data/put/2018-007312\n",
      "https://www.dov.vlaanderen.be/data/put/2018-007296\n",
      "https://www.dov.vlaanderen.be/data/put/2018-007285\n",
      "https://www.dov.vlaanderen.be/data/put/2018-007305\n",
      "https://www.dov.vlaanderen.be/data/filter/1999-011012\n",
      "https://www.dov.vlaanderen.be/data/filter/1999-011005\n",
      "https://www.dov.vlaanderen.be/data/filter/2009-011026\n",
      "https://www.dov.vlaanderen.be/data/filter/1995-061303\n",
      "https://www.dov.vlaanderen.be/data/filter/2007-011018\n",
      "https://www.dov.vlaanderen.be/data/filter/1999-011014\n",
      "https://www.dov.vlaanderen.be/data/filter/1999-011011\n",
      "https://www.dov.vlaanderen.be/data/filter/1999-011031\n",
      "https://www.dov.vlaanderen.be/data/filter/1999-011009\n",
      "https://www.dov.vlaanderen.be/data/filter/1999-011010\n",
      "https://www.dov.vlaanderen.be/data/filter/1999-011015\n",
      "https://www.dov.vlaanderen.be/data/filter/2007-011023\n",
      "https://www.dov.vlaanderen.be/data/filter/1999-011008\n",
      "https://www.dov.vlaanderen.be/data/filter/1999-011029\n",
      "https://www.dov.vlaanderen.be/data/filter/2007-011019\n",
      "https://www.dov.vlaanderen.be/data/filter/1999-011013\n",
      "https://www.dov.vlaanderen.be/data/filter/2007-011024\n",
      "https://www.dov.vlaanderen.be/data/filter/1999-011004\n",
      "https://www.dov.vlaanderen.be/data/filter/1999-000605\n",
      "https://www.dov.vlaanderen.be/data/filter/1999-011007\n",
      "https://www.dov.vlaanderen.be/data/filter/1999-000606\n",
      "https://www.dov.vlaanderen.be/data/filter/1999-000607\n",
      "https://www.dov.vlaanderen.be/data/filter/1999-011030\n",
      "https://www.dov.vlaanderen.be/data/filter/1999-011006\n",
      "https://www.dov.vlaanderen.be/data/filter/1999-011032\n",
      "https://www.dov.vlaanderen.be/data/filter/1991-062098\n"
     ]
    }
   ],
   "source": [
    "for pkey_grondwaterlocatie in set(df.pkey_grondwaterlocatie):\n",
    "    print(pkey_grondwaterlocatie)\n",
    "\n",
    "for pkey_filter in set(df.pkey_filter):\n",
    "    print(pkey_filter)"
   ]
  },
  {
   "cell_type": "markdown",
   "metadata": {},
   "source": [
    "### Get groundwater screens with specific properties"
   ]
  },
  {
   "cell_type": "markdown",
   "metadata": {},
   "source": [
    "Next to querying groundwater screens based on their geographic location within a bounding box, we can also search for groundwater screens matching a specific set of properties. For this we can build a query using a combination of the 'GrondwaterFilter' fields and operators provided by the WFS protocol.\n",
    "\n",
    "A list of possible operators can be found below:"
   ]
  },
  {
   "cell_type": "code",
   "execution_count": 10,
   "metadata": {},
   "outputs": [
    {
     "data": {
      "text/plain": [
       "['PropertyIsBetween',\n",
       " 'PropertyIsEqualTo',\n",
       " 'PropertyIsGreaterThan',\n",
       " 'PropertyIsGreaterThanOrEqualTo',\n",
       " 'PropertyIsLessThan',\n",
       " 'PropertyIsLessThanOrEqualTo',\n",
       " 'PropertyIsLike',\n",
       " 'PropertyIsNotEqualTo',\n",
       " 'PropertyIsNull',\n",
       " 'SortProperty']"
      ]
     },
     "execution_count": 10,
     "metadata": {},
     "output_type": "execute_result"
    }
   ],
   "source": [
    "[i for i,j in inspect.getmembers(sys.modules['owslib.fes'], inspect.isclass) if 'Property' in i]"
   ]
  },
  {
   "cell_type": "markdown",
   "metadata": {},
   "source": [
    "In this example we build a query using the *PropertyIsEqualTo* operator to find all groundwater screens that are within the community (gemeente) of 'Hamme':"
   ]
  },
  {
   "cell_type": "code",
   "execution_count": 11,
   "metadata": {},
   "outputs": [
    {
     "name": "stdout",
     "output_type": "stream",
     "text": [
      "[000/002] cc\n"
     ]
    },
    {
     "data": {
      "text/html": [
       "<div>\n",
       "<style scoped>\n",
       "    .dataframe tbody tr th:only-of-type {\n",
       "        vertical-align: middle;\n",
       "    }\n",
       "\n",
       "    .dataframe tbody tr th {\n",
       "        vertical-align: top;\n",
       "    }\n",
       "\n",
       "    .dataframe thead th {\n",
       "        text-align: right;\n",
       "    }\n",
       "</style>\n",
       "<table border=\"1\" class=\"dataframe\">\n",
       "  <thead>\n",
       "    <tr style=\"text-align: right;\">\n",
       "      <th></th>\n",
       "      <th>pkey_filter</th>\n",
       "      <th>pkey_grondwaterlocatie</th>\n",
       "      <th>gw_id</th>\n",
       "      <th>filternummer</th>\n",
       "      <th>filtertype</th>\n",
       "      <th>x</th>\n",
       "      <th>y</th>\n",
       "      <th>start_grondwaterlocatie_mtaw</th>\n",
       "      <th>mv_mtaw</th>\n",
       "      <th>gemeente</th>\n",
       "      <th>...</th>\n",
       "      <th>regime</th>\n",
       "      <th>diepte_onderkant_filter</th>\n",
       "      <th>lengte_filter</th>\n",
       "      <th>datum</th>\n",
       "      <th>tijdstip</th>\n",
       "      <th>peil_mtaw</th>\n",
       "      <th>betrouwbaarheid</th>\n",
       "      <th>methode</th>\n",
       "      <th>filterstatus</th>\n",
       "      <th>filtertoestand</th>\n",
       "    </tr>\n",
       "  </thead>\n",
       "  <tbody>\n",
       "    <tr>\n",
       "      <th>0</th>\n",
       "      <td>https://www.dov.vlaanderen.be/data/filter/1993...</td>\n",
       "      <td>https://www.dov.vlaanderen.be/data/put/2019-02...</td>\n",
       "      <td>7-001016</td>\n",
       "      <td>1</td>\n",
       "      <td>pompfilter</td>\n",
       "      <td>224798.0</td>\n",
       "      <td>157819.0</td>\n",
       "      <td>130.8</td>\n",
       "      <td>130.8</td>\n",
       "      <td>Herstappe</td>\n",
       "      <td>...</td>\n",
       "      <td>freatisch</td>\n",
       "      <td>45.0</td>\n",
       "      <td>5.0</td>\n",
       "      <td>NaN</td>\n",
       "      <td>NaN</td>\n",
       "      <td>NaN</td>\n",
       "      <td>NaN</td>\n",
       "      <td>NaN</td>\n",
       "      <td>NaN</td>\n",
       "      <td>NaN</td>\n",
       "    </tr>\n",
       "    <tr>\n",
       "      <th>1</th>\n",
       "      <td>https://www.dov.vlaanderen.be/data/filter/1900...</td>\n",
       "      <td>https://www.dov.vlaanderen.be/data/put/2019-05...</td>\n",
       "      <td>7-97027</td>\n",
       "      <td>1</td>\n",
       "      <td>pompfilter</td>\n",
       "      <td>224843.0</td>\n",
       "      <td>157842.0</td>\n",
       "      <td>-1.0</td>\n",
       "      <td>-1.0</td>\n",
       "      <td>Herstappe</td>\n",
       "      <td>...</td>\n",
       "      <td>onbekend</td>\n",
       "      <td>NaN</td>\n",
       "      <td>NaN</td>\n",
       "      <td>NaN</td>\n",
       "      <td>NaN</td>\n",
       "      <td>NaN</td>\n",
       "      <td>NaN</td>\n",
       "      <td>NaN</td>\n",
       "      <td>NaN</td>\n",
       "      <td>NaN</td>\n",
       "    </tr>\n",
       "  </tbody>\n",
       "</table>\n",
       "<p>2 rows × 23 columns</p>\n",
       "</div>"
      ],
      "text/plain": [
       "                                         pkey_filter  \\\n",
       "0  https://www.dov.vlaanderen.be/data/filter/1993...   \n",
       "1  https://www.dov.vlaanderen.be/data/filter/1900...   \n",
       "\n",
       "                              pkey_grondwaterlocatie     gw_id filternummer  \\\n",
       "0  https://www.dov.vlaanderen.be/data/put/2019-02...  7-001016            1   \n",
       "1  https://www.dov.vlaanderen.be/data/put/2019-05...   7-97027            1   \n",
       "\n",
       "   filtertype         x         y  start_grondwaterlocatie_mtaw  mv_mtaw  \\\n",
       "0  pompfilter  224798.0  157819.0                         130.8    130.8   \n",
       "1  pompfilter  224843.0  157842.0                          -1.0     -1.0   \n",
       "\n",
       "    gemeente  ...     regime diepte_onderkant_filter lengte_filter datum  \\\n",
       "0  Herstappe  ...  freatisch                    45.0           5.0   NaN   \n",
       "1  Herstappe  ...   onbekend                     NaN           NaN   NaN   \n",
       "\n",
       "   tijdstip  peil_mtaw  betrouwbaarheid  methode  filterstatus  filtertoestand  \n",
       "0       NaN        NaN              NaN      NaN           NaN             NaN  \n",
       "1       NaN        NaN              NaN      NaN           NaN             NaN  \n",
       "\n",
       "[2 rows x 23 columns]"
      ]
     },
     "execution_count": 11,
     "metadata": {},
     "output_type": "execute_result"
    }
   ],
   "source": [
    "from owslib.fes import PropertyIsEqualTo\n",
    "\n",
    "query = PropertyIsEqualTo(\n",
    "            propertyname='gemeente',\n",
    "            literal='Herstappe')\n",
    "\n",
    "df = gwfilter.search(query=query)\n",
    "df.head()"
   ]
  },
  {
   "cell_type": "markdown",
   "metadata": {},
   "source": [
    "Once again we can use the *pkey_filter* as a permanent link to the information of the groundwater screens:"
   ]
  },
  {
   "cell_type": "code",
   "execution_count": 12,
   "metadata": {},
   "outputs": [
    {
     "name": "stdout",
     "output_type": "stream",
     "text": [
      "https://www.dov.vlaanderen.be/data/filter/1900-050992\n",
      "https://www.dov.vlaanderen.be/data/filter/1993-065801\n"
     ]
    }
   ],
   "source": [
    "for pkey_filter in set(df.pkey_filter):\n",
    "    print(pkey_filter)"
   ]
  },
  {
   "cell_type": "markdown",
   "metadata": {},
   "source": [
    "### Get the coordinates of all groundwater screens in Ghent"
   ]
  },
  {
   "cell_type": "code",
   "execution_count": 13,
   "metadata": {},
   "outputs": [
    {
     "data": {
      "text/html": [
       "<div>\n",
       "<style scoped>\n",
       "    .dataframe tbody tr th:only-of-type {\n",
       "        vertical-align: middle;\n",
       "    }\n",
       "\n",
       "    .dataframe tbody tr th {\n",
       "        vertical-align: top;\n",
       "    }\n",
       "\n",
       "    .dataframe thead th {\n",
       "        text-align: right;\n",
       "    }\n",
       "</style>\n",
       "<table border=\"1\" class=\"dataframe\">\n",
       "  <thead>\n",
       "    <tr style=\"text-align: right;\">\n",
       "      <th></th>\n",
       "      <th>pkey_filter</th>\n",
       "      <th>x</th>\n",
       "      <th>y</th>\n",
       "      <th>meetnet</th>\n",
       "    </tr>\n",
       "  </thead>\n",
       "  <tbody>\n",
       "    <tr>\n",
       "      <th>0</th>\n",
       "      <td>https://www.dov.vlaanderen.be/data/filter/1999...</td>\n",
       "      <td>98347.0</td>\n",
       "      <td>191821.0</td>\n",
       "      <td>meetnet 9 - peilputten INBO en natuurorganisaties</td>\n",
       "    </tr>\n",
       "    <tr>\n",
       "      <th>1</th>\n",
       "      <td>https://www.dov.vlaanderen.be/data/filter/1999...</td>\n",
       "      <td>98514.0</td>\n",
       "      <td>191518.0</td>\n",
       "      <td>meetnet 9 - peilputten INBO en natuurorganisaties</td>\n",
       "    </tr>\n",
       "    <tr>\n",
       "      <th>2</th>\n",
       "      <td>https://www.dov.vlaanderen.be/data/filter/1999...</td>\n",
       "      <td>98630.0</td>\n",
       "      <td>191301.0</td>\n",
       "      <td>meetnet 9 - peilputten INBO en natuurorganisaties</td>\n",
       "    </tr>\n",
       "    <tr>\n",
       "      <th>3</th>\n",
       "      <td>https://www.dov.vlaanderen.be/data/filter/1999...</td>\n",
       "      <td>99017.0</td>\n",
       "      <td>191447.0</td>\n",
       "      <td>meetnet 9 - peilputten INBO en natuurorganisaties</td>\n",
       "    </tr>\n",
       "    <tr>\n",
       "      <th>4</th>\n",
       "      <td>https://www.dov.vlaanderen.be/data/filter/1999...</td>\n",
       "      <td>99104.0</td>\n",
       "      <td>191412.0</td>\n",
       "      <td>meetnet 9 - peilputten INBO en natuurorganisaties</td>\n",
       "    </tr>\n",
       "  </tbody>\n",
       "</table>\n",
       "</div>"
      ],
      "text/plain": [
       "                                         pkey_filter        x         y  \\\n",
       "0  https://www.dov.vlaanderen.be/data/filter/1999...  98347.0  191821.0   \n",
       "1  https://www.dov.vlaanderen.be/data/filter/1999...  98514.0  191518.0   \n",
       "2  https://www.dov.vlaanderen.be/data/filter/1999...  98630.0  191301.0   \n",
       "3  https://www.dov.vlaanderen.be/data/filter/1999...  99017.0  191447.0   \n",
       "4  https://www.dov.vlaanderen.be/data/filter/1999...  99104.0  191412.0   \n",
       "\n",
       "                                             meetnet  \n",
       "0  meetnet 9 - peilputten INBO en natuurorganisaties  \n",
       "1  meetnet 9 - peilputten INBO en natuurorganisaties  \n",
       "2  meetnet 9 - peilputten INBO en natuurorganisaties  \n",
       "3  meetnet 9 - peilputten INBO en natuurorganisaties  \n",
       "4  meetnet 9 - peilputten INBO en natuurorganisaties  "
      ]
     },
     "execution_count": 13,
     "metadata": {},
     "output_type": "execute_result"
    }
   ],
   "source": [
    "query = PropertyIsEqualTo(propertyname='gemeente',\n",
    "                          literal='Gent')\n",
    "\n",
    "df = gwfilter.search(query=query,\n",
    "                     return_fields=('pkey_filter', 'x', 'y', 'meetnet'))\n",
    "df.head()"
   ]
  },
  {
   "cell_type": "markdown",
   "metadata": {},
   "source": [
    "### Get the 'meetnet' and 'meetnet_code' for groundwater screens in Boortmeerbeek"
   ]
  },
  {
   "cell_type": "code",
   "execution_count": 14,
   "metadata": {},
   "outputs": [
    {
     "name": "stdout",
     "output_type": "stream",
     "text": [
      "[000/050] cccccccccccccccccccccccccccccccccccccccccccccccccc\n"
     ]
    },
    {
     "data": {
      "text/html": [
       "<div>\n",
       "<style scoped>\n",
       "    .dataframe tbody tr th:only-of-type {\n",
       "        vertical-align: middle;\n",
       "    }\n",
       "\n",
       "    .dataframe tbody tr th {\n",
       "        vertical-align: top;\n",
       "    }\n",
       "\n",
       "    .dataframe thead th {\n",
       "        text-align: right;\n",
       "    }\n",
       "</style>\n",
       "<table border=\"1\" class=\"dataframe\">\n",
       "  <thead>\n",
       "    <tr style=\"text-align: right;\">\n",
       "      <th></th>\n",
       "      <th>pkey_filter</th>\n",
       "      <th>meetnet</th>\n",
       "      <th>meetnet_code</th>\n",
       "    </tr>\n",
       "  </thead>\n",
       "  <tbody>\n",
       "    <tr>\n",
       "      <th>0</th>\n",
       "      <td>https://www.dov.vlaanderen.be/data/filter/1981...</td>\n",
       "      <td>meetnet 7 - winningsputten</td>\n",
       "      <td>7</td>\n",
       "    </tr>\n",
       "    <tr>\n",
       "      <th>1</th>\n",
       "      <td>https://www.dov.vlaanderen.be/data/filter/2018...</td>\n",
       "      <td>meetnet 7 - winningsputten</td>\n",
       "      <td>7</td>\n",
       "    </tr>\n",
       "    <tr>\n",
       "      <th>2</th>\n",
       "      <td>https://www.dov.vlaanderen.be/data/filter/1976...</td>\n",
       "      <td>meetnet 7 - winningsputten</td>\n",
       "      <td>7</td>\n",
       "    </tr>\n",
       "    <tr>\n",
       "      <th>3</th>\n",
       "      <td>https://www.dov.vlaanderen.be/data/filter/1980...</td>\n",
       "      <td>meetnet 7 - winningsputten</td>\n",
       "      <td>7</td>\n",
       "    </tr>\n",
       "    <tr>\n",
       "      <th>4</th>\n",
       "      <td>https://www.dov.vlaanderen.be/data/filter/1980...</td>\n",
       "      <td>meetnet 7 - winningsputten</td>\n",
       "      <td>7</td>\n",
       "    </tr>\n",
       "  </tbody>\n",
       "</table>\n",
       "</div>"
      ],
      "text/plain": [
       "                                         pkey_filter  \\\n",
       "0  https://www.dov.vlaanderen.be/data/filter/1981...   \n",
       "1  https://www.dov.vlaanderen.be/data/filter/2018...   \n",
       "2  https://www.dov.vlaanderen.be/data/filter/1976...   \n",
       "3  https://www.dov.vlaanderen.be/data/filter/1980...   \n",
       "4  https://www.dov.vlaanderen.be/data/filter/1980...   \n",
       "\n",
       "                      meetnet meetnet_code  \n",
       "0  meetnet 7 - winningsputten            7  \n",
       "1  meetnet 7 - winningsputten            7  \n",
       "2  meetnet 7 - winningsputten            7  \n",
       "3  meetnet 7 - winningsputten            7  \n",
       "4  meetnet 7 - winningsputten            7  "
      ]
     },
     "execution_count": 14,
     "metadata": {},
     "output_type": "execute_result"
    }
   ],
   "source": [
    "query = PropertyIsEqualTo(propertyname='gemeente',\n",
    "                          literal='Boortmeerbeek')\n",
    "\n",
    "df = gwfilter.search(query=query,\n",
    "                   return_fields=('pkey_filter', 'meetnet', 'meetnet_code'))\n",
    "df.head()"
   ]
  },
  {
   "cell_type": "markdown",
   "metadata": {},
   "source": [
    "### Get all details of groundwaterscreens of 'meetnet 9' within the given bounding box"
   ]
  },
  {
   "cell_type": "code",
   "execution_count": 15,
   "metadata": {},
   "outputs": [
    {
     "name": "stdout",
     "output_type": "stream",
     "text": [
      "[000/016] cccccccccccccccc\n"
     ]
    },
    {
     "data": {
      "text/html": [
       "<div>\n",
       "<style scoped>\n",
       "    .dataframe tbody tr th:only-of-type {\n",
       "        vertical-align: middle;\n",
       "    }\n",
       "\n",
       "    .dataframe tbody tr th {\n",
       "        vertical-align: top;\n",
       "    }\n",
       "\n",
       "    .dataframe thead th {\n",
       "        text-align: right;\n",
       "    }\n",
       "</style>\n",
       "<table border=\"1\" class=\"dataframe\">\n",
       "  <thead>\n",
       "    <tr style=\"text-align: right;\">\n",
       "      <th></th>\n",
       "      <th>pkey_filter</th>\n",
       "      <th>pkey_grondwaterlocatie</th>\n",
       "      <th>gw_id</th>\n",
       "      <th>filternummer</th>\n",
       "      <th>filtertype</th>\n",
       "      <th>x</th>\n",
       "      <th>y</th>\n",
       "      <th>start_grondwaterlocatie_mtaw</th>\n",
       "      <th>mv_mtaw</th>\n",
       "      <th>gemeente</th>\n",
       "      <th>...</th>\n",
       "      <th>regime</th>\n",
       "      <th>diepte_onderkant_filter</th>\n",
       "      <th>lengte_filter</th>\n",
       "      <th>datum</th>\n",
       "      <th>tijdstip</th>\n",
       "      <th>peil_mtaw</th>\n",
       "      <th>betrouwbaarheid</th>\n",
       "      <th>methode</th>\n",
       "      <th>filterstatus</th>\n",
       "      <th>filtertoestand</th>\n",
       "    </tr>\n",
       "  </thead>\n",
       "  <tbody>\n",
       "    <tr>\n",
       "      <th>0</th>\n",
       "      <td>https://www.dov.vlaanderen.be/data/filter/1999...</td>\n",
       "      <td>https://www.dov.vlaanderen.be/data/put/2017-00...</td>\n",
       "      <td>WVSP009</td>\n",
       "      <td>1</td>\n",
       "      <td>peilfilter</td>\n",
       "      <td>89720.046875</td>\n",
       "      <td>165712.140625</td>\n",
       "      <td>11.84</td>\n",
       "      <td>11.84</td>\n",
       "      <td>Avelgem</td>\n",
       "      <td>...</td>\n",
       "      <td>onbekend</td>\n",
       "      <td>5.78</td>\n",
       "      <td>1.0</td>\n",
       "      <td>1999-01-12</td>\n",
       "      <td>NaN</td>\n",
       "      <td>12.20</td>\n",
       "      <td>onbekend</td>\n",
       "      <td>peillint</td>\n",
       "      <td>in rust</td>\n",
       "      <td>1.0</td>\n",
       "    </tr>\n",
       "    <tr>\n",
       "      <th>1</th>\n",
       "      <td>https://www.dov.vlaanderen.be/data/filter/1999...</td>\n",
       "      <td>https://www.dov.vlaanderen.be/data/put/2017-00...</td>\n",
       "      <td>WVSP009</td>\n",
       "      <td>1</td>\n",
       "      <td>peilfilter</td>\n",
       "      <td>89720.046875</td>\n",
       "      <td>165712.140625</td>\n",
       "      <td>11.84</td>\n",
       "      <td>11.84</td>\n",
       "      <td>Avelgem</td>\n",
       "      <td>...</td>\n",
       "      <td>onbekend</td>\n",
       "      <td>5.78</td>\n",
       "      <td>1.0</td>\n",
       "      <td>1999-01-21</td>\n",
       "      <td>NaN</td>\n",
       "      <td>12.26</td>\n",
       "      <td>onbekend</td>\n",
       "      <td>peillint</td>\n",
       "      <td>in rust</td>\n",
       "      <td>1.0</td>\n",
       "    </tr>\n",
       "    <tr>\n",
       "      <th>2</th>\n",
       "      <td>https://www.dov.vlaanderen.be/data/filter/1999...</td>\n",
       "      <td>https://www.dov.vlaanderen.be/data/put/2017-00...</td>\n",
       "      <td>WVSP009</td>\n",
       "      <td>1</td>\n",
       "      <td>peilfilter</td>\n",
       "      <td>89720.046875</td>\n",
       "      <td>165712.140625</td>\n",
       "      <td>11.84</td>\n",
       "      <td>11.84</td>\n",
       "      <td>Avelgem</td>\n",
       "      <td>...</td>\n",
       "      <td>onbekend</td>\n",
       "      <td>5.78</td>\n",
       "      <td>1.0</td>\n",
       "      <td>1999-02-01</td>\n",
       "      <td>NaN</td>\n",
       "      <td>12.31</td>\n",
       "      <td>onbekend</td>\n",
       "      <td>peillint</td>\n",
       "      <td>in rust</td>\n",
       "      <td>1.0</td>\n",
       "    </tr>\n",
       "    <tr>\n",
       "      <th>3</th>\n",
       "      <td>https://www.dov.vlaanderen.be/data/filter/1999...</td>\n",
       "      <td>https://www.dov.vlaanderen.be/data/put/2017-00...</td>\n",
       "      <td>WVSP009</td>\n",
       "      <td>1</td>\n",
       "      <td>peilfilter</td>\n",
       "      <td>89720.046875</td>\n",
       "      <td>165712.140625</td>\n",
       "      <td>11.84</td>\n",
       "      <td>11.84</td>\n",
       "      <td>Avelgem</td>\n",
       "      <td>...</td>\n",
       "      <td>onbekend</td>\n",
       "      <td>5.78</td>\n",
       "      <td>1.0</td>\n",
       "      <td>1999-02-06</td>\n",
       "      <td>NaN</td>\n",
       "      <td>12.29</td>\n",
       "      <td>onbekend</td>\n",
       "      <td>peillint</td>\n",
       "      <td>in rust</td>\n",
       "      <td>1.0</td>\n",
       "    </tr>\n",
       "    <tr>\n",
       "      <th>4</th>\n",
       "      <td>https://www.dov.vlaanderen.be/data/filter/1999...</td>\n",
       "      <td>https://www.dov.vlaanderen.be/data/put/2017-00...</td>\n",
       "      <td>WVSP009</td>\n",
       "      <td>1</td>\n",
       "      <td>peilfilter</td>\n",
       "      <td>89720.046875</td>\n",
       "      <td>165712.140625</td>\n",
       "      <td>11.84</td>\n",
       "      <td>11.84</td>\n",
       "      <td>Avelgem</td>\n",
       "      <td>...</td>\n",
       "      <td>onbekend</td>\n",
       "      <td>5.78</td>\n",
       "      <td>1.0</td>\n",
       "      <td>1999-02-12</td>\n",
       "      <td>NaN</td>\n",
       "      <td>12.18</td>\n",
       "      <td>onbekend</td>\n",
       "      <td>peillint</td>\n",
       "      <td>in rust</td>\n",
       "      <td>1.0</td>\n",
       "    </tr>\n",
       "  </tbody>\n",
       "</table>\n",
       "<p>5 rows × 23 columns</p>\n",
       "</div>"
      ],
      "text/plain": [
       "                                         pkey_filter  \\\n",
       "0  https://www.dov.vlaanderen.be/data/filter/1999...   \n",
       "1  https://www.dov.vlaanderen.be/data/filter/1999...   \n",
       "2  https://www.dov.vlaanderen.be/data/filter/1999...   \n",
       "3  https://www.dov.vlaanderen.be/data/filter/1999...   \n",
       "4  https://www.dov.vlaanderen.be/data/filter/1999...   \n",
       "\n",
       "                              pkey_grondwaterlocatie    gw_id filternummer  \\\n",
       "0  https://www.dov.vlaanderen.be/data/put/2017-00...  WVSP009            1   \n",
       "1  https://www.dov.vlaanderen.be/data/put/2017-00...  WVSP009            1   \n",
       "2  https://www.dov.vlaanderen.be/data/put/2017-00...  WVSP009            1   \n",
       "3  https://www.dov.vlaanderen.be/data/put/2017-00...  WVSP009            1   \n",
       "4  https://www.dov.vlaanderen.be/data/put/2017-00...  WVSP009            1   \n",
       "\n",
       "   filtertype             x              y  start_grondwaterlocatie_mtaw  \\\n",
       "0  peilfilter  89720.046875  165712.140625                         11.84   \n",
       "1  peilfilter  89720.046875  165712.140625                         11.84   \n",
       "2  peilfilter  89720.046875  165712.140625                         11.84   \n",
       "3  peilfilter  89720.046875  165712.140625                         11.84   \n",
       "4  peilfilter  89720.046875  165712.140625                         11.84   \n",
       "\n",
       "   mv_mtaw gemeente  ...    regime diepte_onderkant_filter  lengte_filter  \\\n",
       "0    11.84  Avelgem  ...  onbekend                    5.78            1.0   \n",
       "1    11.84  Avelgem  ...  onbekend                    5.78            1.0   \n",
       "2    11.84  Avelgem  ...  onbekend                    5.78            1.0   \n",
       "3    11.84  Avelgem  ...  onbekend                    5.78            1.0   \n",
       "4    11.84  Avelgem  ...  onbekend                    5.78            1.0   \n",
       "\n",
       "        datum  tijdstip  peil_mtaw betrouwbaarheid   methode  filterstatus  \\\n",
       "0  1999-01-12       NaN      12.20        onbekend  peillint       in rust   \n",
       "1  1999-01-21       NaN      12.26        onbekend  peillint       in rust   \n",
       "2  1999-02-01       NaN      12.31        onbekend  peillint       in rust   \n",
       "3  1999-02-06       NaN      12.29        onbekend  peillint       in rust   \n",
       "4  1999-02-12       NaN      12.18        onbekend  peillint       in rust   \n",
       "\n",
       "  filtertoestand  \n",
       "0            1.0  \n",
       "1            1.0  \n",
       "2            1.0  \n",
       "3            1.0  \n",
       "4            1.0  \n",
       "\n",
       "[5 rows x 23 columns]"
      ]
     },
     "execution_count": 15,
     "metadata": {},
     "output_type": "execute_result"
    }
   ],
   "source": [
    "from owslib.fes import PropertyIsLike\n",
    "\n",
    "query = PropertyIsLike(propertyname='meetnet',\n",
    "                       literal='meetnet 9 %')\n",
    "df = gwfilter.search(query=query,\n",
    "                     location=Within(Box(87676, 163442, 91194, 168043)))\n",
    "df.head()"
   ]
  },
  {
   "cell_type": "markdown",
   "metadata": {},
   "source": [
    "### Get groundwater screens based on a combination of specific properties"
   ]
  },
  {
   "cell_type": "markdown",
   "metadata": {},
   "source": [
    "Get all groundwater screens in Hamme that have a value for length_filter and either belong to the primary meetnet of VMM or that have a depth bottom screen less than 3 meter."
   ]
  },
  {
   "cell_type": "code",
   "execution_count": 16,
   "metadata": {},
   "outputs": [
    {
     "data": {
      "text/html": [
       "<div>\n",
       "<style scoped>\n",
       "    .dataframe tbody tr th:only-of-type {\n",
       "        vertical-align: middle;\n",
       "    }\n",
       "\n",
       "    .dataframe tbody tr th {\n",
       "        vertical-align: top;\n",
       "    }\n",
       "\n",
       "    .dataframe thead th {\n",
       "        text-align: right;\n",
       "    }\n",
       "</style>\n",
       "<table border=\"1\" class=\"dataframe\">\n",
       "  <thead>\n",
       "    <tr style=\"text-align: right;\">\n",
       "      <th></th>\n",
       "      <th>pkey_filter</th>\n",
       "      <th>x</th>\n",
       "      <th>y</th>\n",
       "      <th>gw_id</th>\n",
       "      <th>filternummer</th>\n",
       "      <th>diepte_onderkant_filter</th>\n",
       "    </tr>\n",
       "  </thead>\n",
       "  <tbody>\n",
       "    <tr>\n",
       "      <th>0</th>\n",
       "      <td>https://www.dov.vlaanderen.be/data/filter/2001...</td>\n",
       "      <td>130078.000000</td>\n",
       "      <td>196561.000000</td>\n",
       "      <td>MORP002</td>\n",
       "      <td>1</td>\n",
       "      <td>1.91</td>\n",
       "    </tr>\n",
       "    <tr>\n",
       "      <th>1</th>\n",
       "      <td>https://www.dov.vlaanderen.be/data/filter/2003...</td>\n",
       "      <td>131763.200000</td>\n",
       "      <td>198674.500000</td>\n",
       "      <td>802/21/3</td>\n",
       "      <td>1</td>\n",
       "      <td>2.50</td>\n",
       "    </tr>\n",
       "    <tr>\n",
       "      <th>2</th>\n",
       "      <td>https://www.dov.vlaanderen.be/data/filter/2003...</td>\n",
       "      <td>131837.656250</td>\n",
       "      <td>197054.203125</td>\n",
       "      <td>810/21/1</td>\n",
       "      <td>1</td>\n",
       "      <td>2.50</td>\n",
       "    </tr>\n",
       "    <tr>\n",
       "      <th>3</th>\n",
       "      <td>https://www.dov.vlaanderen.be/data/filter/2003...</td>\n",
       "      <td>133865.921875</td>\n",
       "      <td>195656.328125</td>\n",
       "      <td>813/21/2</td>\n",
       "      <td>1</td>\n",
       "      <td>2.50</td>\n",
       "    </tr>\n",
       "    <tr>\n",
       "      <th>4</th>\n",
       "      <td>https://www.dov.vlaanderen.be/data/filter/2000...</td>\n",
       "      <td>130190.000000</td>\n",
       "      <td>196378.000000</td>\n",
       "      <td>MORP001</td>\n",
       "      <td>1</td>\n",
       "      <td>1.59</td>\n",
       "    </tr>\n",
       "  </tbody>\n",
       "</table>\n",
       "</div>"
      ],
      "text/plain": [
       "                                         pkey_filter              x  \\\n",
       "0  https://www.dov.vlaanderen.be/data/filter/2001...  130078.000000   \n",
       "1  https://www.dov.vlaanderen.be/data/filter/2003...  131763.200000   \n",
       "2  https://www.dov.vlaanderen.be/data/filter/2003...  131837.656250   \n",
       "3  https://www.dov.vlaanderen.be/data/filter/2003...  133865.921875   \n",
       "4  https://www.dov.vlaanderen.be/data/filter/2000...  130190.000000   \n",
       "\n",
       "               y     gw_id filternummer  diepte_onderkant_filter  \n",
       "0  196561.000000   MORP002            1                     1.91  \n",
       "1  198674.500000  802/21/3            1                     2.50  \n",
       "2  197054.203125  810/21/1            1                     2.50  \n",
       "3  195656.328125  813/21/2            1                     2.50  \n",
       "4  196378.000000   MORP001            1                     1.59  "
      ]
     },
     "execution_count": 16,
     "metadata": {},
     "output_type": "execute_result"
    }
   ],
   "source": [
    "from owslib.fes import Or, Not, PropertyIsNull, PropertyIsLessThanOrEqualTo, And\n",
    "\n",
    "query = And([PropertyIsEqualTo(propertyname='gemeente',\n",
    "                               literal='Hamme'),\n",
    "             Not([PropertyIsNull(propertyname='lengte_filter')]),\n",
    "             Or([PropertyIsLike(propertyname='meetnet',\n",
    "                                literal='meetnet 1%'),\n",
    "                 PropertyIsLessThanOrEqualTo(\n",
    "                     propertyname='diepte_onderkant_filter',\n",
    "                     literal='3')])])\n",
    "df_hamme = gwfilter.search(query=query,\n",
    "                     return_fields=('pkey_filter', 'x', 'y', 'gw_id', 'filternummer', 'diepte_onderkant_filter'))\n",
    "df_hamme.head()"
   ]
  },
  {
   "cell_type": "markdown",
   "metadata": {},
   "source": [
    "## Combine *datum* and *tijdstip* in a datetime object"
   ]
  },
  {
   "cell_type": "markdown",
   "metadata": {},
   "source": [
    "get data"
   ]
  },
  {
   "cell_type": "code",
   "execution_count": 17,
   "metadata": {},
   "outputs": [
    {
     "name": "stdout",
     "output_type": "stream",
     "text": [
      "[000/001] c\n"
     ]
    },
    {
     "data": {
      "text/html": [
       "<div>\n",
       "<style scoped>\n",
       "    .dataframe tbody tr th:only-of-type {\n",
       "        vertical-align: middle;\n",
       "    }\n",
       "\n",
       "    .dataframe tbody tr th {\n",
       "        vertical-align: top;\n",
       "    }\n",
       "\n",
       "    .dataframe thead th {\n",
       "        text-align: right;\n",
       "    }\n",
       "</style>\n",
       "<table border=\"1\" class=\"dataframe\">\n",
       "  <thead>\n",
       "    <tr style=\"text-align: right;\">\n",
       "      <th></th>\n",
       "      <th>pkey_filter</th>\n",
       "      <th>pkey_grondwaterlocatie</th>\n",
       "      <th>gw_id</th>\n",
       "      <th>filternummer</th>\n",
       "      <th>filtertype</th>\n",
       "      <th>x</th>\n",
       "      <th>y</th>\n",
       "      <th>start_grondwaterlocatie_mtaw</th>\n",
       "      <th>mv_mtaw</th>\n",
       "      <th>gemeente</th>\n",
       "      <th>...</th>\n",
       "      <th>regime</th>\n",
       "      <th>diepte_onderkant_filter</th>\n",
       "      <th>lengte_filter</th>\n",
       "      <th>datum</th>\n",
       "      <th>tijdstip</th>\n",
       "      <th>peil_mtaw</th>\n",
       "      <th>betrouwbaarheid</th>\n",
       "      <th>methode</th>\n",
       "      <th>filterstatus</th>\n",
       "      <th>filtertoestand</th>\n",
       "    </tr>\n",
       "  </thead>\n",
       "  <tbody>\n",
       "    <tr>\n",
       "      <th>0</th>\n",
       "      <td>https://www.dov.vlaanderen.be/data/filter/2003...</td>\n",
       "      <td>https://www.dov.vlaanderen.be/data/put/2018-00...</td>\n",
       "      <td>ZWAP205</td>\n",
       "      <td>1</td>\n",
       "      <td>peilfilter</td>\n",
       "      <td>218953.0</td>\n",
       "      <td>198767.0</td>\n",
       "      <td>58.44</td>\n",
       "      <td>58.44</td>\n",
       "      <td>Houthalen-Helchteren</td>\n",
       "      <td>...</td>\n",
       "      <td>onbekend</td>\n",
       "      <td>0.68</td>\n",
       "      <td>0.3</td>\n",
       "      <td>2003-10-18</td>\n",
       "      <td>NaN</td>\n",
       "      <td>58.26</td>\n",
       "      <td>onbekend</td>\n",
       "      <td>peillint</td>\n",
       "      <td>onbekend</td>\n",
       "      <td>1</td>\n",
       "    </tr>\n",
       "    <tr>\n",
       "      <th>1</th>\n",
       "      <td>https://www.dov.vlaanderen.be/data/filter/2003...</td>\n",
       "      <td>https://www.dov.vlaanderen.be/data/put/2018-00...</td>\n",
       "      <td>ZWAP205</td>\n",
       "      <td>1</td>\n",
       "      <td>peilfilter</td>\n",
       "      <td>218953.0</td>\n",
       "      <td>198767.0</td>\n",
       "      <td>58.44</td>\n",
       "      <td>58.44</td>\n",
       "      <td>Houthalen-Helchteren</td>\n",
       "      <td>...</td>\n",
       "      <td>onbekend</td>\n",
       "      <td>0.68</td>\n",
       "      <td>0.3</td>\n",
       "      <td>2003-11-01</td>\n",
       "      <td>NaN</td>\n",
       "      <td>58.30</td>\n",
       "      <td>onbekend</td>\n",
       "      <td>peillint</td>\n",
       "      <td>onbekend</td>\n",
       "      <td>1</td>\n",
       "    </tr>\n",
       "    <tr>\n",
       "      <th>2</th>\n",
       "      <td>https://www.dov.vlaanderen.be/data/filter/2003...</td>\n",
       "      <td>https://www.dov.vlaanderen.be/data/put/2018-00...</td>\n",
       "      <td>ZWAP205</td>\n",
       "      <td>1</td>\n",
       "      <td>peilfilter</td>\n",
       "      <td>218953.0</td>\n",
       "      <td>198767.0</td>\n",
       "      <td>58.44</td>\n",
       "      <td>58.44</td>\n",
       "      <td>Houthalen-Helchteren</td>\n",
       "      <td>...</td>\n",
       "      <td>onbekend</td>\n",
       "      <td>0.68</td>\n",
       "      <td>0.3</td>\n",
       "      <td>2003-11-17</td>\n",
       "      <td>NaN</td>\n",
       "      <td>58.31</td>\n",
       "      <td>onbekend</td>\n",
       "      <td>peillint</td>\n",
       "      <td>onbekend</td>\n",
       "      <td>1</td>\n",
       "    </tr>\n",
       "    <tr>\n",
       "      <th>3</th>\n",
       "      <td>https://www.dov.vlaanderen.be/data/filter/2003...</td>\n",
       "      <td>https://www.dov.vlaanderen.be/data/put/2018-00...</td>\n",
       "      <td>ZWAP205</td>\n",
       "      <td>1</td>\n",
       "      <td>peilfilter</td>\n",
       "      <td>218953.0</td>\n",
       "      <td>198767.0</td>\n",
       "      <td>58.44</td>\n",
       "      <td>58.44</td>\n",
       "      <td>Houthalen-Helchteren</td>\n",
       "      <td>...</td>\n",
       "      <td>onbekend</td>\n",
       "      <td>0.68</td>\n",
       "      <td>0.3</td>\n",
       "      <td>2003-11-23</td>\n",
       "      <td>NaN</td>\n",
       "      <td>58.31</td>\n",
       "      <td>onbekend</td>\n",
       "      <td>peillint</td>\n",
       "      <td>onbekend</td>\n",
       "      <td>1</td>\n",
       "    </tr>\n",
       "    <tr>\n",
       "      <th>4</th>\n",
       "      <td>https://www.dov.vlaanderen.be/data/filter/2003...</td>\n",
       "      <td>https://www.dov.vlaanderen.be/data/put/2018-00...</td>\n",
       "      <td>ZWAP205</td>\n",
       "      <td>1</td>\n",
       "      <td>peilfilter</td>\n",
       "      <td>218953.0</td>\n",
       "      <td>198767.0</td>\n",
       "      <td>58.44</td>\n",
       "      <td>58.44</td>\n",
       "      <td>Houthalen-Helchteren</td>\n",
       "      <td>...</td>\n",
       "      <td>onbekend</td>\n",
       "      <td>0.68</td>\n",
       "      <td>0.3</td>\n",
       "      <td>2003-12-14</td>\n",
       "      <td>NaN</td>\n",
       "      <td>58.30</td>\n",
       "      <td>onbekend</td>\n",
       "      <td>peillint</td>\n",
       "      <td>onbekend</td>\n",
       "      <td>1</td>\n",
       "    </tr>\n",
       "  </tbody>\n",
       "</table>\n",
       "<p>5 rows × 23 columns</p>\n",
       "</div>"
      ],
      "text/plain": [
       "                                         pkey_filter  \\\n",
       "0  https://www.dov.vlaanderen.be/data/filter/2003...   \n",
       "1  https://www.dov.vlaanderen.be/data/filter/2003...   \n",
       "2  https://www.dov.vlaanderen.be/data/filter/2003...   \n",
       "3  https://www.dov.vlaanderen.be/data/filter/2003...   \n",
       "4  https://www.dov.vlaanderen.be/data/filter/2003...   \n",
       "\n",
       "                              pkey_grondwaterlocatie    gw_id filternummer  \\\n",
       "0  https://www.dov.vlaanderen.be/data/put/2018-00...  ZWAP205            1   \n",
       "1  https://www.dov.vlaanderen.be/data/put/2018-00...  ZWAP205            1   \n",
       "2  https://www.dov.vlaanderen.be/data/put/2018-00...  ZWAP205            1   \n",
       "3  https://www.dov.vlaanderen.be/data/put/2018-00...  ZWAP205            1   \n",
       "4  https://www.dov.vlaanderen.be/data/put/2018-00...  ZWAP205            1   \n",
       "\n",
       "   filtertype         x         y  start_grondwaterlocatie_mtaw  mv_mtaw  \\\n",
       "0  peilfilter  218953.0  198767.0                         58.44    58.44   \n",
       "1  peilfilter  218953.0  198767.0                         58.44    58.44   \n",
       "2  peilfilter  218953.0  198767.0                         58.44    58.44   \n",
       "3  peilfilter  218953.0  198767.0                         58.44    58.44   \n",
       "4  peilfilter  218953.0  198767.0                         58.44    58.44   \n",
       "\n",
       "               gemeente  ...    regime diepte_onderkant_filter  lengte_filter  \\\n",
       "0  Houthalen-Helchteren  ...  onbekend                    0.68            0.3   \n",
       "1  Houthalen-Helchteren  ...  onbekend                    0.68            0.3   \n",
       "2  Houthalen-Helchteren  ...  onbekend                    0.68            0.3   \n",
       "3  Houthalen-Helchteren  ...  onbekend                    0.68            0.3   \n",
       "4  Houthalen-Helchteren  ...  onbekend                    0.68            0.3   \n",
       "\n",
       "        datum  tijdstip  peil_mtaw betrouwbaarheid   methode  filterstatus  \\\n",
       "0  2003-10-18       NaN      58.26        onbekend  peillint      onbekend   \n",
       "1  2003-11-01       NaN      58.30        onbekend  peillint      onbekend   \n",
       "2  2003-11-17       NaN      58.31        onbekend  peillint      onbekend   \n",
       "3  2003-11-23       NaN      58.31        onbekend  peillint      onbekend   \n",
       "4  2003-12-14       NaN      58.30        onbekend  peillint      onbekend   \n",
       "\n",
       "  filtertoestand  \n",
       "0              1  \n",
       "1              1  \n",
       "2              1  \n",
       "3              1  \n",
       "4              1  \n",
       "\n",
       "[5 rows x 23 columns]"
      ]
     },
     "execution_count": 17,
     "metadata": {},
     "output_type": "execute_result"
    }
   ],
   "source": [
    "query = PropertyIsEqualTo(\n",
    "            propertyname='pkey_filter',\n",
    "            literal='https://www.dov.vlaanderen.be/data/filter/2003-009883')\n",
    "\n",
    "df = gwfilter.search(query=query)\n",
    "df.head()"
   ]
  },
  {
   "cell_type": "markdown",
   "metadata": {},
   "source": [
    "If the *tijdstip* field contains data, it can be combined with the *datum* field to create a date.datetime object. Make sure that empty fields contain a time string \"xx:xx:xx\""
   ]
  },
  {
   "cell_type": "code",
   "execution_count": 18,
   "metadata": {},
   "outputs": [
    {
     "data": {
      "text/plain": [
       "0   2003-10-18\n",
       "1   2003-11-01\n",
       "2   2003-11-17\n",
       "3   2003-11-23\n",
       "4   2003-12-14\n",
       "Name: tijd, dtype: datetime64[ns]"
      ]
     },
     "execution_count": 18,
     "metadata": {},
     "output_type": "execute_result"
    }
   ],
   "source": [
    "import pandas as pd\n",
    "df.reset_index(inplace=True)\n",
    "df['tijdstip'] = df.tijdstip.fillna('00:00:00')\n",
    "df['tijd'] = pd.to_datetime(df.datum.astype(str)+' '+df.tijdstip.astype(str))\n",
    "df.tijd.head()"
   ]
  },
  {
   "cell_type": "markdown",
   "metadata": {},
   "source": [
    "## Working with water head time series "
   ]
  },
  {
   "cell_type": "markdown",
   "metadata": {},
   "source": [
    "For further analysis and visualisation of the time series data, we can use the data analysis library [pandas](https://pandas.pydata.org/) and visualisation library [matplotlib](https://matplotlib.org/). "
   ]
  },
  {
   "cell_type": "code",
   "execution_count": 19,
   "metadata": {},
   "outputs": [],
   "source": [
    "import pandas as pd\n",
    "import matplotlib.pyplot as plt"
   ]
  },
  {
   "cell_type": "markdown",
   "metadata": {},
   "source": [
    "Query the data of a specific filter using its `pkey`:"
   ]
  },
  {
   "cell_type": "code",
   "execution_count": 20,
   "metadata": {},
   "outputs": [
    {
     "name": "stdout",
     "output_type": "stream",
     "text": [
      "[000/001] c\n"
     ]
    },
    {
     "data": {
      "text/html": [
       "<div>\n",
       "<style scoped>\n",
       "    .dataframe tbody tr th:only-of-type {\n",
       "        vertical-align: middle;\n",
       "    }\n",
       "\n",
       "    .dataframe tbody tr th {\n",
       "        vertical-align: top;\n",
       "    }\n",
       "\n",
       "    .dataframe thead th {\n",
       "        text-align: right;\n",
       "    }\n",
       "</style>\n",
       "<table border=\"1\" class=\"dataframe\">\n",
       "  <thead>\n",
       "    <tr style=\"text-align: right;\">\n",
       "      <th></th>\n",
       "      <th>pkey_filter</th>\n",
       "      <th>pkey_grondwaterlocatie</th>\n",
       "      <th>gw_id</th>\n",
       "      <th>filternummer</th>\n",
       "      <th>filtertype</th>\n",
       "      <th>x</th>\n",
       "      <th>y</th>\n",
       "      <th>start_grondwaterlocatie_mtaw</th>\n",
       "      <th>mv_mtaw</th>\n",
       "      <th>gemeente</th>\n",
       "      <th>...</th>\n",
       "      <th>regime</th>\n",
       "      <th>diepte_onderkant_filter</th>\n",
       "      <th>lengte_filter</th>\n",
       "      <th>datum</th>\n",
       "      <th>tijdstip</th>\n",
       "      <th>peil_mtaw</th>\n",
       "      <th>betrouwbaarheid</th>\n",
       "      <th>methode</th>\n",
       "      <th>filterstatus</th>\n",
       "      <th>filtertoestand</th>\n",
       "    </tr>\n",
       "  </thead>\n",
       "  <tbody>\n",
       "    <tr>\n",
       "      <th>0</th>\n",
       "      <td>https://www.dov.vlaanderen.be/data/filter/2003...</td>\n",
       "      <td>https://www.dov.vlaanderen.be/data/put/2018-00...</td>\n",
       "      <td>ZWAP205</td>\n",
       "      <td>1</td>\n",
       "      <td>peilfilter</td>\n",
       "      <td>218953.0</td>\n",
       "      <td>198767.0</td>\n",
       "      <td>58.44</td>\n",
       "      <td>58.44</td>\n",
       "      <td>Houthalen-Helchteren</td>\n",
       "      <td>...</td>\n",
       "      <td>onbekend</td>\n",
       "      <td>0.68</td>\n",
       "      <td>0.3</td>\n",
       "      <td>2003-10-18</td>\n",
       "      <td>NaN</td>\n",
       "      <td>58.26</td>\n",
       "      <td>onbekend</td>\n",
       "      <td>peillint</td>\n",
       "      <td>onbekend</td>\n",
       "      <td>1</td>\n",
       "    </tr>\n",
       "    <tr>\n",
       "      <th>1</th>\n",
       "      <td>https://www.dov.vlaanderen.be/data/filter/2003...</td>\n",
       "      <td>https://www.dov.vlaanderen.be/data/put/2018-00...</td>\n",
       "      <td>ZWAP205</td>\n",
       "      <td>1</td>\n",
       "      <td>peilfilter</td>\n",
       "      <td>218953.0</td>\n",
       "      <td>198767.0</td>\n",
       "      <td>58.44</td>\n",
       "      <td>58.44</td>\n",
       "      <td>Houthalen-Helchteren</td>\n",
       "      <td>...</td>\n",
       "      <td>onbekend</td>\n",
       "      <td>0.68</td>\n",
       "      <td>0.3</td>\n",
       "      <td>2003-11-01</td>\n",
       "      <td>NaN</td>\n",
       "      <td>58.30</td>\n",
       "      <td>onbekend</td>\n",
       "      <td>peillint</td>\n",
       "      <td>onbekend</td>\n",
       "      <td>1</td>\n",
       "    </tr>\n",
       "    <tr>\n",
       "      <th>2</th>\n",
       "      <td>https://www.dov.vlaanderen.be/data/filter/2003...</td>\n",
       "      <td>https://www.dov.vlaanderen.be/data/put/2018-00...</td>\n",
       "      <td>ZWAP205</td>\n",
       "      <td>1</td>\n",
       "      <td>peilfilter</td>\n",
       "      <td>218953.0</td>\n",
       "      <td>198767.0</td>\n",
       "      <td>58.44</td>\n",
       "      <td>58.44</td>\n",
       "      <td>Houthalen-Helchteren</td>\n",
       "      <td>...</td>\n",
       "      <td>onbekend</td>\n",
       "      <td>0.68</td>\n",
       "      <td>0.3</td>\n",
       "      <td>2003-11-17</td>\n",
       "      <td>NaN</td>\n",
       "      <td>58.31</td>\n",
       "      <td>onbekend</td>\n",
       "      <td>peillint</td>\n",
       "      <td>onbekend</td>\n",
       "      <td>1</td>\n",
       "    </tr>\n",
       "    <tr>\n",
       "      <th>3</th>\n",
       "      <td>https://www.dov.vlaanderen.be/data/filter/2003...</td>\n",
       "      <td>https://www.dov.vlaanderen.be/data/put/2018-00...</td>\n",
       "      <td>ZWAP205</td>\n",
       "      <td>1</td>\n",
       "      <td>peilfilter</td>\n",
       "      <td>218953.0</td>\n",
       "      <td>198767.0</td>\n",
       "      <td>58.44</td>\n",
       "      <td>58.44</td>\n",
       "      <td>Houthalen-Helchteren</td>\n",
       "      <td>...</td>\n",
       "      <td>onbekend</td>\n",
       "      <td>0.68</td>\n",
       "      <td>0.3</td>\n",
       "      <td>2003-11-23</td>\n",
       "      <td>NaN</td>\n",
       "      <td>58.31</td>\n",
       "      <td>onbekend</td>\n",
       "      <td>peillint</td>\n",
       "      <td>onbekend</td>\n",
       "      <td>1</td>\n",
       "    </tr>\n",
       "    <tr>\n",
       "      <th>4</th>\n",
       "      <td>https://www.dov.vlaanderen.be/data/filter/2003...</td>\n",
       "      <td>https://www.dov.vlaanderen.be/data/put/2018-00...</td>\n",
       "      <td>ZWAP205</td>\n",
       "      <td>1</td>\n",
       "      <td>peilfilter</td>\n",
       "      <td>218953.0</td>\n",
       "      <td>198767.0</td>\n",
       "      <td>58.44</td>\n",
       "      <td>58.44</td>\n",
       "      <td>Houthalen-Helchteren</td>\n",
       "      <td>...</td>\n",
       "      <td>onbekend</td>\n",
       "      <td>0.68</td>\n",
       "      <td>0.3</td>\n",
       "      <td>2003-12-14</td>\n",
       "      <td>NaN</td>\n",
       "      <td>58.30</td>\n",
       "      <td>onbekend</td>\n",
       "      <td>peillint</td>\n",
       "      <td>onbekend</td>\n",
       "      <td>1</td>\n",
       "    </tr>\n",
       "  </tbody>\n",
       "</table>\n",
       "<p>5 rows × 23 columns</p>\n",
       "</div>"
      ],
      "text/plain": [
       "                                         pkey_filter  \\\n",
       "0  https://www.dov.vlaanderen.be/data/filter/2003...   \n",
       "1  https://www.dov.vlaanderen.be/data/filter/2003...   \n",
       "2  https://www.dov.vlaanderen.be/data/filter/2003...   \n",
       "3  https://www.dov.vlaanderen.be/data/filter/2003...   \n",
       "4  https://www.dov.vlaanderen.be/data/filter/2003...   \n",
       "\n",
       "                              pkey_grondwaterlocatie    gw_id filternummer  \\\n",
       "0  https://www.dov.vlaanderen.be/data/put/2018-00...  ZWAP205            1   \n",
       "1  https://www.dov.vlaanderen.be/data/put/2018-00...  ZWAP205            1   \n",
       "2  https://www.dov.vlaanderen.be/data/put/2018-00...  ZWAP205            1   \n",
       "3  https://www.dov.vlaanderen.be/data/put/2018-00...  ZWAP205            1   \n",
       "4  https://www.dov.vlaanderen.be/data/put/2018-00...  ZWAP205            1   \n",
       "\n",
       "   filtertype         x         y  start_grondwaterlocatie_mtaw  mv_mtaw  \\\n",
       "0  peilfilter  218953.0  198767.0                         58.44    58.44   \n",
       "1  peilfilter  218953.0  198767.0                         58.44    58.44   \n",
       "2  peilfilter  218953.0  198767.0                         58.44    58.44   \n",
       "3  peilfilter  218953.0  198767.0                         58.44    58.44   \n",
       "4  peilfilter  218953.0  198767.0                         58.44    58.44   \n",
       "\n",
       "               gemeente  ...    regime diepte_onderkant_filter  lengte_filter  \\\n",
       "0  Houthalen-Helchteren  ...  onbekend                    0.68            0.3   \n",
       "1  Houthalen-Helchteren  ...  onbekend                    0.68            0.3   \n",
       "2  Houthalen-Helchteren  ...  onbekend                    0.68            0.3   \n",
       "3  Houthalen-Helchteren  ...  onbekend                    0.68            0.3   \n",
       "4  Houthalen-Helchteren  ...  onbekend                    0.68            0.3   \n",
       "\n",
       "        datum  tijdstip  peil_mtaw betrouwbaarheid   methode  filterstatus  \\\n",
       "0  2003-10-18       NaN      58.26        onbekend  peillint      onbekend   \n",
       "1  2003-11-01       NaN      58.30        onbekend  peillint      onbekend   \n",
       "2  2003-11-17       NaN      58.31        onbekend  peillint      onbekend   \n",
       "3  2003-11-23       NaN      58.31        onbekend  peillint      onbekend   \n",
       "4  2003-12-14       NaN      58.30        onbekend  peillint      onbekend   \n",
       "\n",
       "  filtertoestand  \n",
       "0              1  \n",
       "1              1  \n",
       "2              1  \n",
       "3              1  \n",
       "4              1  \n",
       "\n",
       "[5 rows x 23 columns]"
      ]
     },
     "execution_count": 20,
     "metadata": {},
     "output_type": "execute_result"
    }
   ],
   "source": [
    "query = PropertyIsEqualTo(\n",
    "            propertyname='pkey_filter',\n",
    "            literal='https://www.dov.vlaanderen.be/data/filter/2003-009883')\n",
    "\n",
    "df = gwfilter.search(query=query)\n",
    "df.head()"
   ]
  },
  {
   "cell_type": "markdown",
   "metadata": {},
   "source": [
    "The date is still stored as a string type. Transforming to a data type using the available pandas function [`to_datetime`](https://pandas.pydata.org/pandas-docs/stable/generated/pandas.to_datetime.html) and using these dates as row index:"
   ]
  },
  {
   "cell_type": "code",
   "execution_count": 21,
   "metadata": {},
   "outputs": [],
   "source": [
    "df['datum'] = pd.to_datetime(df['datum'])\n",
    "df = df.set_index('datum')"
   ]
  },
  {
   "cell_type": "markdown",
   "metadata": {},
   "source": [
    "### Plotting"
   ]
  },
  {
   "cell_type": "markdown",
   "metadata": {},
   "source": [
    "The default plotting functionality of Pandas cen be used:"
   ]
  },
  {
   "cell_type": "code",
   "execution_count": 22,
   "metadata": {},
   "outputs": [
    {
     "data": {
      "text/plain": [
       "<matplotlib.axes._subplots.AxesSubplot at 0x7fcb43f8c5f8>"
      ]
     },
     "execution_count": 22,
     "metadata": {},
     "output_type": "execute_result"
    },
    {
     "data": {
      "image/png": "[encoded data removed]",
      "text/plain": [
       "<Figure size 864x360 with 1 Axes>"
      ]
     },
     "metadata": {
      "needs_background": "light"
     },
     "output_type": "display_data"
    }
   ],
   "source": [
    "df['peil_mtaw'].plot(style='-', figsize=(12, 5))"
   ]
  },
  {
   "cell_type": "markdown",
   "metadata": {},
   "source": [
    "Or a combination with matplotlib to have full customization options:"
   ]
  },
  {
   "cell_type": "code",
   "execution_count": 23,
   "metadata": {},
   "outputs": [
    {
     "data": {
      "image/png": "[encoded data removed]",
      "text/plain": [
       "<Figure size 864x432 with 2 Axes>"
      ]
     },
     "metadata": {
      "needs_background": "light"
     },
     "output_type": "display_data"
    }
   ],
   "source": [
    "from matplotlib.dates import MonthLocator, YearLocator, DateFormatter\n",
    "from matplotlib.ticker import MaxNLocator, MultipleLocator\n",
    "\n",
    "# Get height of ground surface\n",
    "# ground_surface = df[\"mv_mtaw\"][0]\n",
    "\n",
    "# create a plot with 2 subplots\n",
    "fig, (ax1, ax2) = plt.subplots(2, 1, figsize=(12, 6), \n",
    "                               sharex=False, sharey=True)\n",
    "\n",
    "# Plot entire time series in the upper plot\n",
    "df['peil_mtaw'].plot(ax=ax1, title='Water heads `Put ZWAP205`')\n",
    "ax1.xaxis.set_major_locator(YearLocator(5))\n",
    "ax1.xaxis.set_major_formatter(DateFormatter('%Y'))\n",
    "\n",
    "# Plot the data for 2011 in the lower plot\n",
    "df['peil_mtaw'][\"2011\"].plot(ax=ax2,  title='Water heads `Put ZWAP205` year 2011')\n",
    "ax2.xaxis.set_major_locator(MonthLocator(interval=3))\n",
    "ax2.xaxis.set_major_formatter(DateFormatter('%Y-%m'))\n",
    "\n",
    "# Adjust configuration of plot\n",
    "for ax in (ax1, ax2):\n",
    "    ax.set_xlabel('')\n",
    "    ax.set_ylabel('head (mTAW)')\n",
    "    for tick in ax.get_xticklabels():\n",
    "        tick.set_rotation(0)\n",
    "        tick.set_horizontalalignment('center')\n",
    "\n",
    "    # Only draw spine between the y-ticks\n",
    "    ax.spines['left'].set_position(('outward', 10))\n",
    "    # Hide the right and top spines\n",
    "    ax.spines['right'].set_visible(False)\n",
    "    ax.spines['top'].set_visible(False)\n",
    "    ax.yaxis.set_major_locator(MultipleLocator(0.2))\n",
    "    \n",
    "    # Add the ground surface (provided in the data) on the subplots\n",
    "    # ax.axhline(ground_surface, color = 'brown')\n",
    "    # ax.annotate('Ground surface', \n",
    "    #         xy=(0.05, 0.68),\n",
    "    #         xycoords='axes fraction',\n",
    "    #         xytext=(-25, -15), textcoords='offset points', \n",
    "    #         fontsize=12, color='brown')   \n",
    "    \n",
    "fig.tight_layout(h_pad=5)"
   ]
  },
  {
   "cell_type": "markdown",
   "metadata": {},
   "source": [
    "### Analysis"
   ]
  },
  {
   "cell_type": "markdown",
   "metadata": {},
   "source": [
    "The Pandas package provides a the functionality to further analyze and process [time series](https://pandas.pydata.org/pandas-docs/stable/timeseries.html) data. Particularly, the [`resample`](https://pandas.pydata.org/pandas-docs/stable/generated/pandas.DataFrame.resample.html) function can be useful."
   ]
  },
  {
   "cell_type": "markdown",
   "metadata": {},
   "source": [
    "For example, calculate the yearly minima and maxima of the time series:"
   ]
  },
  {
   "cell_type": "code",
   "execution_count": 24,
   "metadata": {},
   "outputs": [
    {
     "data": {
      "text/html": [
       "<div>\n",
       "<style scoped>\n",
       "    .dataframe tbody tr th:only-of-type {\n",
       "        vertical-align: middle;\n",
       "    }\n",
       "\n",
       "    .dataframe tbody tr th {\n",
       "        vertical-align: top;\n",
       "    }\n",
       "\n",
       "    .dataframe thead th {\n",
       "        text-align: right;\n",
       "    }\n",
       "</style>\n",
       "<table border=\"1\" class=\"dataframe\">\n",
       "  <thead>\n",
       "    <tr style=\"text-align: right;\">\n",
       "      <th></th>\n",
       "      <th>min</th>\n",
       "      <th>max</th>\n",
       "    </tr>\n",
       "    <tr>\n",
       "      <th>datum</th>\n",
       "      <th></th>\n",
       "      <th></th>\n",
       "    </tr>\n",
       "  </thead>\n",
       "  <tbody>\n",
       "    <tr>\n",
       "      <th>2003-12-31</th>\n",
       "      <td>58.26</td>\n",
       "      <td>58.36</td>\n",
       "    </tr>\n",
       "    <tr>\n",
       "      <th>2004-12-31</th>\n",
       "      <td>58.22</td>\n",
       "      <td>58.36</td>\n",
       "    </tr>\n",
       "    <tr>\n",
       "      <th>2005-12-31</th>\n",
       "      <td>58.18</td>\n",
       "      <td>58.35</td>\n",
       "    </tr>\n",
       "    <tr>\n",
       "      <th>2006-12-31</th>\n",
       "      <td>58.10</td>\n",
       "      <td>58.42</td>\n",
       "    </tr>\n",
       "    <tr>\n",
       "      <th>2007-12-31</th>\n",
       "      <td>58.28</td>\n",
       "      <td>58.53</td>\n",
       "    </tr>\n",
       "    <tr>\n",
       "      <th>2008-12-31</th>\n",
       "      <td>58.34</td>\n",
       "      <td>58.60</td>\n",
       "    </tr>\n",
       "    <tr>\n",
       "      <th>2009-12-31</th>\n",
       "      <td>58.27</td>\n",
       "      <td>58.54</td>\n",
       "    </tr>\n",
       "    <tr>\n",
       "      <th>2010-12-31</th>\n",
       "      <td>58.21</td>\n",
       "      <td>58.56</td>\n",
       "    </tr>\n",
       "    <tr>\n",
       "      <th>2011-12-31</th>\n",
       "      <td>58.32</td>\n",
       "      <td>58.56</td>\n",
       "    </tr>\n",
       "    <tr>\n",
       "      <th>2012-12-31</th>\n",
       "      <td>58.32</td>\n",
       "      <td>58.55</td>\n",
       "    </tr>\n",
       "    <tr>\n",
       "      <th>2013-12-31</th>\n",
       "      <td>58.22</td>\n",
       "      <td>58.56</td>\n",
       "    </tr>\n",
       "    <tr>\n",
       "      <th>2014-12-31</th>\n",
       "      <td>58.21</td>\n",
       "      <td>58.54</td>\n",
       "    </tr>\n",
       "    <tr>\n",
       "      <th>2015-12-31</th>\n",
       "      <td>58.08</td>\n",
       "      <td>58.56</td>\n",
       "    </tr>\n",
       "    <tr>\n",
       "      <th>2016-12-31</th>\n",
       "      <td>58.24</td>\n",
       "      <td>58.54</td>\n",
       "    </tr>\n",
       "    <tr>\n",
       "      <th>2017-12-31</th>\n",
       "      <td>58.27</td>\n",
       "      <td>58.56</td>\n",
       "    </tr>\n",
       "    <tr>\n",
       "      <th>2018-12-31</th>\n",
       "      <td>58.08</td>\n",
       "      <td>58.53</td>\n",
       "    </tr>\n",
       "    <tr>\n",
       "      <th>2019-12-31</th>\n",
       "      <td>58.09</td>\n",
       "      <td>58.52</td>\n",
       "    </tr>\n",
       "  </tbody>\n",
       "</table>\n",
       "</div>"
      ],
      "text/plain": [
       "              min    max\n",
       "datum                   \n",
       "2003-12-31  58.26  58.36\n",
       "2004-12-31  58.22  58.36\n",
       "2005-12-31  58.18  58.35\n",
       "2006-12-31  58.10  58.42\n",
       "2007-12-31  58.28  58.53\n",
       "2008-12-31  58.34  58.60\n",
       "2009-12-31  58.27  58.54\n",
       "2010-12-31  58.21  58.56\n",
       "2011-12-31  58.32  58.56\n",
       "2012-12-31  58.32  58.55\n",
       "2013-12-31  58.22  58.56\n",
       "2014-12-31  58.21  58.54\n",
       "2015-12-31  58.08  58.56\n",
       "2016-12-31  58.24  58.54\n",
       "2017-12-31  58.27  58.56\n",
       "2018-12-31  58.08  58.53\n",
       "2019-12-31  58.09  58.52"
      ]
     },
     "execution_count": 24,
     "metadata": {},
     "output_type": "execute_result"
    }
   ],
   "source": [
    "df[\"peil_mtaw\"].resample(\"Y\").agg(['min', 'max'])"
   ]
  },
  {
   "cell_type": "markdown",
   "metadata": {},
   "source": [
    "or the monthly minima and maxima:"
   ]
  },
  {
   "cell_type": "code",
   "execution_count": 25,
   "metadata": {},
   "outputs": [
    {
     "data": {
      "text/plain": [
       "<matplotlib.axes._subplots.AxesSubplot at 0x7fcb23b3ba58>"
      ]
     },
     "execution_count": 25,
     "metadata": {},
     "output_type": "execute_result"
    },
    {
     "data": {
      "image/png": "[encoded data removed]",
      "text/plain": [
       "<Figure size 432x288 with 1 Axes>"
      ]
     },
     "metadata": {
      "needs_background": "light"
     },
     "output_type": "display_data"
    }
   ],
   "source": [
    "df[\"peil_mtaw\"].resample(\"M\").agg(['min', 'max']).plot()"
   ]
  },
  {
   "cell_type": "markdown",
   "metadata": {},
   "source": [
    "Calculate 10 and 90 percentiles of the time series with the `quantile` function:"
   ]
  },
  {
   "cell_type": "code",
   "execution_count": 26,
   "metadata": {},
   "outputs": [
    {
     "data": {
      "text/plain": [
       "<matplotlib.legend.Legend at 0x7fcb234cdf28>"
      ]
     },
     "execution_count": 26,
     "metadata": {},
     "output_type": "execute_result"
    },
    {
     "data": {
      "image/png": "[encoded data removed]",
      "text/plain": [
       "<Figure size 864x288 with 1 Axes>"
      ]
     },
     "metadata": {
      "needs_background": "light"
     },
     "output_type": "display_data"
    }
   ],
   "source": [
    "fig, ax = plt.subplots(figsize=(12, 4))    \n",
    "ax.plot(df[\"peil_mtaw\"], label='head (mTAW)', linewidth=0.75)\n",
    "ax.axhline(df[\"peil_mtaw\"].quantile(0.1), color = 'brown', label='p10', linewidth=3)\n",
    "ax.axhline(df[\"peil_mtaw\"].quantile(0.9), color = 'darkblue', label='p90', linewidth=3)\n",
    "fig.legend(loc='upper center', ncol=3)"
   ]
  },
  {
   "cell_type": "markdown",
   "metadata": {},
   "source": [
    "A duration exceedance curve provides the percentage of time that the water head is above a given value:"
   ]
  },
  {
   "cell_type": "code",
   "execution_count": 27,
   "metadata": {},
   "outputs": [],
   "source": [
    "import numpy as np"
   ]
  },
  {
   "cell_type": "code",
   "execution_count": 28,
   "metadata": {},
   "outputs": [
    {
     "data": {
      "image/png": "[encoded data removed]",
      "text/plain": [
       "<Figure size 432x288 with 1 Axes>"
      ]
     },
     "metadata": {
      "needs_background": "light"
     },
     "output_type": "display_data"
    }
   ],
   "source": [
    "sorted_heads = np.sort(df[\"peil_mtaw\"])[::-1]\n",
    "exceedence = np.arange(1.,len(sorted_heads)+1) / len(sorted_heads)\n",
    "\n",
    "plt.plot(exceedence*100, sorted_heads)\n",
    "plt.xlabel(\"Exceedence [%]\")\n",
    "plt.ylabel(\"Water head (mTAW)\")\n",
    "plt.show()"
   ]
  },
  {
   "cell_type": "markdown",
   "metadata": {},
   "source": [
    "## Visualize locations"
   ]
  },
  {
   "cell_type": "markdown",
   "metadata": {},
   "source": [
    "Using Folium, we can display the results of our search on a map."
   ]
  },
  {
   "cell_type": "code",
   "execution_count": 29,
   "metadata": {},
   "outputs": [],
   "source": [
    "# import the necessary modules (not included in the requirements of pydov!)\n",
    "import folium\n",
    "from folium.plugins import MarkerCluster\n",
    "from pyproj import Proj, transform"
   ]
  },
  {
   "cell_type": "code",
   "execution_count": 30,
   "metadata": {},
   "outputs": [
    {
     "name": "stderr",
     "output_type": "stream",
     "text": [
      "/home/johan/envs/pydov/lib/python3.7/site-packages/pyproj/crs.py:77: FutureWarning: '+init=<authority>:<code>' syntax is deprecated. '<authority>:<code>' is the preferred initialization method.\n",
      "  return _prepare_from_string(\" \".join(pjargs))\n",
      "/home/johan/envs/pydov/lib/python3.7/site-packages/pyproj/crs.py:77: FutureWarning: '+init=<authority>:<code>' syntax is deprecated. '<authority>:<code>' is the preferred initialization method.\n",
      "  return _prepare_from_string(\" \".join(pjargs))\n",
      "/home/johan/envs/pydov/lib/python3.7/site-packages/pyproj/crs.py:77: FutureWarning: '+init=<authority>:<code>' syntax is deprecated. '<authority>:<code>' is the preferred initialization method.\n",
      "  return _prepare_from_string(\" \".join(pjargs))\n",
      "/home/johan/envs/pydov/lib/python3.7/site-packages/pyproj/crs.py:77: FutureWarning: '+init=<authority>:<code>' syntax is deprecated. '<authority>:<code>' is the preferred initialization method.\n",
      "  return _prepare_from_string(\" \".join(pjargs))\n",
      "/home/johan/envs/pydov/lib/python3.7/site-packages/pyproj/crs.py:77: FutureWarning: '+init=<authority>:<code>' syntax is deprecated. '<authority>:<code>' is the preferred initialization method.\n",
      "  return _prepare_from_string(\" \".join(pjargs))\n",
      "/home/johan/envs/pydov/lib/python3.7/site-packages/pyproj/crs.py:77: FutureWarning: '+init=<authority>:<code>' syntax is deprecated. '<authority>:<code>' is the preferred initialization method.\n",
      "  return _prepare_from_string(\" \".join(pjargs))\n",
      "/home/johan/envs/pydov/lib/python3.7/site-packages/pyproj/crs.py:77: FutureWarning: '+init=<authority>:<code>' syntax is deprecated. '<authority>:<code>' is the preferred initialization method.\n",
      "  return _prepare_from_string(\" \".join(pjargs))\n",
      "/home/johan/envs/pydov/lib/python3.7/site-packages/pyproj/crs.py:77: FutureWarning: '+init=<authority>:<code>' syntax is deprecated. '<authority>:<code>' is the preferred initialization method.\n",
      "  return _prepare_from_string(\" \".join(pjargs))\n",
      "/home/johan/envs/pydov/lib/python3.7/site-packages/pyproj/crs.py:77: FutureWarning: '+init=<authority>:<code>' syntax is deprecated. '<authority>:<code>' is the preferred initialization method.\n",
      "  return _prepare_from_string(\" \".join(pjargs))\n",
      "/home/johan/envs/pydov/lib/python3.7/site-packages/pyproj/crs.py:77: FutureWarning: '+init=<authority>:<code>' syntax is deprecated. '<authority>:<code>' is the preferred initialization method.\n",
      "  return _prepare_from_string(\" \".join(pjargs))\n",
      "/home/johan/envs/pydov/lib/python3.7/site-packages/pyproj/crs.py:77: FutureWarning: '+init=<authority>:<code>' syntax is deprecated. '<authority>:<code>' is the preferred initialization method.\n",
      "  return _prepare_from_string(\" \".join(pjargs))\n",
      "/home/johan/envs/pydov/lib/python3.7/site-packages/pyproj/crs.py:77: FutureWarning: '+init=<authority>:<code>' syntax is deprecated. '<authority>:<code>' is the preferred initialization method.\n",
      "  return _prepare_from_string(\" \".join(pjargs))\n",
      "/home/johan/envs/pydov/lib/python3.7/site-packages/pyproj/crs.py:77: FutureWarning: '+init=<authority>:<code>' syntax is deprecated. '<authority>:<code>' is the preferred initialization method.\n",
      "  return _prepare_from_string(\" \".join(pjargs))\n",
      "/home/johan/envs/pydov/lib/python3.7/site-packages/pyproj/crs.py:77: FutureWarning: '+init=<authority>:<code>' syntax is deprecated. '<authority>:<code>' is the preferred initialization method.\n",
      "  return _prepare_from_string(\" \".join(pjargs))\n",
      "/home/johan/envs/pydov/lib/python3.7/site-packages/pyproj/crs.py:77: FutureWarning: '+init=<authority>:<code>' syntax is deprecated. '<authority>:<code>' is the preferred initialization method.\n",
      "  return _prepare_from_string(\" \".join(pjargs))\n",
      "/home/johan/envs/pydov/lib/python3.7/site-packages/pyproj/crs.py:77: FutureWarning: '+init=<authority>:<code>' syntax is deprecated. '<authority>:<code>' is the preferred initialization method.\n",
      "  return _prepare_from_string(\" \".join(pjargs))\n",
      "/home/johan/envs/pydov/lib/python3.7/site-packages/pyproj/crs.py:77: FutureWarning: '+init=<authority>:<code>' syntax is deprecated. '<authority>:<code>' is the preferred initialization method.\n",
      "  return _prepare_from_string(\" \".join(pjargs))\n",
      "/home/johan/envs/pydov/lib/python3.7/site-packages/pyproj/crs.py:77: FutureWarning: '+init=<authority>:<code>' syntax is deprecated. '<authority>:<code>' is the preferred initialization method.\n",
      "  return _prepare_from_string(\" \".join(pjargs))\n",
      "/home/johan/envs/pydov/lib/python3.7/site-packages/pyproj/crs.py:77: FutureWarning: '+init=<authority>:<code>' syntax is deprecated. '<authority>:<code>' is the preferred initialization method.\n",
      "  return _prepare_from_string(\" \".join(pjargs))\n",
      "/home/johan/envs/pydov/lib/python3.7/site-packages/pyproj/crs.py:77: FutureWarning: '+init=<authority>:<code>' syntax is deprecated. '<authority>:<code>' is the preferred initialization method.\n",
      "  return _prepare_from_string(\" \".join(pjargs))\n",
      "/home/johan/envs/pydov/lib/python3.7/site-packages/pyproj/crs.py:77: FutureWarning: '+init=<authority>:<code>' syntax is deprecated. '<authority>:<code>' is the preferred initialization method.\n",
      "  return _prepare_from_string(\" \".join(pjargs))\n",
      "/home/johan/envs/pydov/lib/python3.7/site-packages/pyproj/crs.py:77: FutureWarning: '+init=<authority>:<code>' syntax is deprecated. '<authority>:<code>' is the preferred initialization method.\n",
      "  return _prepare_from_string(\" \".join(pjargs))\n",
      "/home/johan/envs/pydov/lib/python3.7/site-packages/pyproj/crs.py:77: FutureWarning: '+init=<authority>:<code>' syntax is deprecated. '<authority>:<code>' is the preferred initialization method.\n",
      "  return _prepare_from_string(\" \".join(pjargs))\n",
      "/home/johan/envs/pydov/lib/python3.7/site-packages/pyproj/crs.py:77: FutureWarning: '+init=<authority>:<code>' syntax is deprecated. '<authority>:<code>' is the preferred initialization method.\n",
      "  return _prepare_from_string(\" \".join(pjargs))\n",
      "/home/johan/envs/pydov/lib/python3.7/site-packages/pyproj/crs.py:77: FutureWarning: '+init=<authority>:<code>' syntax is deprecated. '<authority>:<code>' is the preferred initialization method.\n",
      "  return _prepare_from_string(\" \".join(pjargs))\n",
      "/home/johan/envs/pydov/lib/python3.7/site-packages/pyproj/crs.py:77: FutureWarning: '+init=<authority>:<code>' syntax is deprecated. '<authority>:<code>' is the preferred initialization method.\n",
      "  return _prepare_from_string(\" \".join(pjargs))\n",
      "/home/johan/envs/pydov/lib/python3.7/site-packages/pyproj/crs.py:77: FutureWarning: '+init=<authority>:<code>' syntax is deprecated. '<authority>:<code>' is the preferred initialization method.\n",
      "  return _prepare_from_string(\" \".join(pjargs))\n",
      "/home/johan/envs/pydov/lib/python3.7/site-packages/pyproj/crs.py:77: FutureWarning: '+init=<authority>:<code>' syntax is deprecated. '<authority>:<code>' is the preferred initialization method.\n",
      "  return _prepare_from_string(\" \".join(pjargs))\n",
      "/home/johan/envs/pydov/lib/python3.7/site-packages/pyproj/crs.py:77: FutureWarning: '+init=<authority>:<code>' syntax is deprecated. '<authority>:<code>' is the preferred initialization method.\n",
      "  return _prepare_from_string(\" \".join(pjargs))\n",
      "/home/johan/envs/pydov/lib/python3.7/site-packages/pyproj/crs.py:77: FutureWarning: '+init=<authority>:<code>' syntax is deprecated. '<authority>:<code>' is the preferred initialization method.\n",
      "  return _prepare_from_string(\" \".join(pjargs))\n",
      "/home/johan/envs/pydov/lib/python3.7/site-packages/pyproj/crs.py:77: FutureWarning: '+init=<authority>:<code>' syntax is deprecated. '<authority>:<code>' is the preferred initialization method.\n",
      "  return _prepare_from_string(\" \".join(pjargs))\n",
      "/home/johan/envs/pydov/lib/python3.7/site-packages/pyproj/crs.py:77: FutureWarning: '+init=<authority>:<code>' syntax is deprecated. '<authority>:<code>' is the preferred initialization method.\n",
      "  return _prepare_from_string(\" \".join(pjargs))\n",
      "/home/johan/envs/pydov/lib/python3.7/site-packages/pyproj/crs.py:77: FutureWarning: '+init=<authority>:<code>' syntax is deprecated. '<authority>:<code>' is the preferred initialization method.\n",
      "  return _prepare_from_string(\" \".join(pjargs))\n",
      "/home/johan/envs/pydov/lib/python3.7/site-packages/pyproj/crs.py:77: FutureWarning: '+init=<authority>:<code>' syntax is deprecated. '<authority>:<code>' is the preferred initialization method.\n",
      "  return _prepare_from_string(\" \".join(pjargs))\n",
      "/home/johan/envs/pydov/lib/python3.7/site-packages/pyproj/crs.py:77: FutureWarning: '+init=<authority>:<code>' syntax is deprecated. '<authority>:<code>' is the preferred initialization method.\n",
      "  return _prepare_from_string(\" \".join(pjargs))\n",
      "/home/johan/envs/pydov/lib/python3.7/site-packages/pyproj/crs.py:77: FutureWarning: '+init=<authority>:<code>' syntax is deprecated. '<authority>:<code>' is the preferred initialization method.\n",
      "  return _prepare_from_string(\" \".join(pjargs))\n",
      "/home/johan/envs/pydov/lib/python3.7/site-packages/pyproj/crs.py:77: FutureWarning: '+init=<authority>:<code>' syntax is deprecated. '<authority>:<code>' is the preferred initialization method.\n",
      "  return _prepare_from_string(\" \".join(pjargs))\n",
      "/home/johan/envs/pydov/lib/python3.7/site-packages/pyproj/crs.py:77: FutureWarning: '+init=<authority>:<code>' syntax is deprecated. '<authority>:<code>' is the preferred initialization method.\n",
      "  return _prepare_from_string(\" \".join(pjargs))\n"
     ]
    },
    {
     "name": "stderr",
     "output_type": "stream",
     "text": [
      "/home/johan/envs/pydov/lib/python3.7/site-packages/pyproj/crs.py:77: FutureWarning: '+init=<authority>:<code>' syntax is deprecated. '<authority>:<code>' is the preferred initialization method.\n",
      "  return _prepare_from_string(\" \".join(pjargs))\n",
      "/home/johan/envs/pydov/lib/python3.7/site-packages/pyproj/crs.py:77: FutureWarning: '+init=<authority>:<code>' syntax is deprecated. '<authority>:<code>' is the preferred initialization method.\n",
      "  return _prepare_from_string(\" \".join(pjargs))\n",
      "/home/johan/envs/pydov/lib/python3.7/site-packages/pyproj/crs.py:77: FutureWarning: '+init=<authority>:<code>' syntax is deprecated. '<authority>:<code>' is the preferred initialization method.\n",
      "  return _prepare_from_string(\" \".join(pjargs))\n",
      "/home/johan/envs/pydov/lib/python3.7/site-packages/pyproj/crs.py:77: FutureWarning: '+init=<authority>:<code>' syntax is deprecated. '<authority>:<code>' is the preferred initialization method.\n",
      "  return _prepare_from_string(\" \".join(pjargs))\n",
      "/home/johan/envs/pydov/lib/python3.7/site-packages/pyproj/crs.py:77: FutureWarning: '+init=<authority>:<code>' syntax is deprecated. '<authority>:<code>' is the preferred initialization method.\n",
      "  return _prepare_from_string(\" \".join(pjargs))\n",
      "/home/johan/envs/pydov/lib/python3.7/site-packages/pyproj/crs.py:77: FutureWarning: '+init=<authority>:<code>' syntax is deprecated. '<authority>:<code>' is the preferred initialization method.\n",
      "  return _prepare_from_string(\" \".join(pjargs))\n",
      "/home/johan/envs/pydov/lib/python3.7/site-packages/pyproj/crs.py:77: FutureWarning: '+init=<authority>:<code>' syntax is deprecated. '<authority>:<code>' is the preferred initialization method.\n",
      "  return _prepare_from_string(\" \".join(pjargs))\n",
      "/home/johan/envs/pydov/lib/python3.7/site-packages/pyproj/crs.py:77: FutureWarning: '+init=<authority>:<code>' syntax is deprecated. '<authority>:<code>' is the preferred initialization method.\n",
      "  return _prepare_from_string(\" \".join(pjargs))\n",
      "/home/johan/envs/pydov/lib/python3.7/site-packages/pyproj/crs.py:77: FutureWarning: '+init=<authority>:<code>' syntax is deprecated. '<authority>:<code>' is the preferred initialization method.\n",
      "  return _prepare_from_string(\" \".join(pjargs))\n",
      "/home/johan/envs/pydov/lib/python3.7/site-packages/pyproj/crs.py:77: FutureWarning: '+init=<authority>:<code>' syntax is deprecated. '<authority>:<code>' is the preferred initialization method.\n",
      "  return _prepare_from_string(\" \".join(pjargs))\n",
      "/home/johan/envs/pydov/lib/python3.7/site-packages/pyproj/crs.py:77: FutureWarning: '+init=<authority>:<code>' syntax is deprecated. '<authority>:<code>' is the preferred initialization method.\n",
      "  return _prepare_from_string(\" \".join(pjargs))\n",
      "/home/johan/envs/pydov/lib/python3.7/site-packages/pyproj/crs.py:77: FutureWarning: '+init=<authority>:<code>' syntax is deprecated. '<authority>:<code>' is the preferred initialization method.\n",
      "  return _prepare_from_string(\" \".join(pjargs))\n",
      "/home/johan/envs/pydov/lib/python3.7/site-packages/pyproj/crs.py:77: FutureWarning: '+init=<authority>:<code>' syntax is deprecated. '<authority>:<code>' is the preferred initialization method.\n",
      "  return _prepare_from_string(\" \".join(pjargs))\n",
      "/home/johan/envs/pydov/lib/python3.7/site-packages/pyproj/crs.py:77: FutureWarning: '+init=<authority>:<code>' syntax is deprecated. '<authority>:<code>' is the preferred initialization method.\n",
      "  return _prepare_from_string(\" \".join(pjargs))\n",
      "/home/johan/envs/pydov/lib/python3.7/site-packages/pyproj/crs.py:77: FutureWarning: '+init=<authority>:<code>' syntax is deprecated. '<authority>:<code>' is the preferred initialization method.\n",
      "  return _prepare_from_string(\" \".join(pjargs))\n",
      "/home/johan/envs/pydov/lib/python3.7/site-packages/pyproj/crs.py:77: FutureWarning: '+init=<authority>:<code>' syntax is deprecated. '<authority>:<code>' is the preferred initialization method.\n",
      "  return _prepare_from_string(\" \".join(pjargs))\n",
      "/home/johan/envs/pydov/lib/python3.7/site-packages/pyproj/crs.py:77: FutureWarning: '+init=<authority>:<code>' syntax is deprecated. '<authority>:<code>' is the preferred initialization method.\n",
      "  return _prepare_from_string(\" \".join(pjargs))\n",
      "/home/johan/envs/pydov/lib/python3.7/site-packages/pyproj/crs.py:77: FutureWarning: '+init=<authority>:<code>' syntax is deprecated. '<authority>:<code>' is the preferred initialization method.\n",
      "  return _prepare_from_string(\" \".join(pjargs))\n",
      "/home/johan/envs/pydov/lib/python3.7/site-packages/pyproj/crs.py:77: FutureWarning: '+init=<authority>:<code>' syntax is deprecated. '<authority>:<code>' is the preferred initialization method.\n",
      "  return _prepare_from_string(\" \".join(pjargs))\n",
      "/home/johan/envs/pydov/lib/python3.7/site-packages/pyproj/crs.py:77: FutureWarning: '+init=<authority>:<code>' syntax is deprecated. '<authority>:<code>' is the preferred initialization method.\n",
      "  return _prepare_from_string(\" \".join(pjargs))\n",
      "/home/johan/envs/pydov/lib/python3.7/site-packages/pyproj/crs.py:77: FutureWarning: '+init=<authority>:<code>' syntax is deprecated. '<authority>:<code>' is the preferred initialization method.\n",
      "  return _prepare_from_string(\" \".join(pjargs))\n",
      "/home/johan/envs/pydov/lib/python3.7/site-packages/pyproj/crs.py:77: FutureWarning: '+init=<authority>:<code>' syntax is deprecated. '<authority>:<code>' is the preferred initialization method.\n",
      "  return _prepare_from_string(\" \".join(pjargs))\n",
      "/home/johan/envs/pydov/lib/python3.7/site-packages/pyproj/crs.py:77: FutureWarning: '+init=<authority>:<code>' syntax is deprecated. '<authority>:<code>' is the preferred initialization method.\n",
      "  return _prepare_from_string(\" \".join(pjargs))\n",
      "/home/johan/envs/pydov/lib/python3.7/site-packages/pyproj/crs.py:77: FutureWarning: '+init=<authority>:<code>' syntax is deprecated. '<authority>:<code>' is the preferred initialization method.\n",
      "  return _prepare_from_string(\" \".join(pjargs))\n",
      "/home/johan/envs/pydov/lib/python3.7/site-packages/pyproj/crs.py:77: FutureWarning: '+init=<authority>:<code>' syntax is deprecated. '<authority>:<code>' is the preferred initialization method.\n",
      "  return _prepare_from_string(\" \".join(pjargs))\n",
      "/home/johan/envs/pydov/lib/python3.7/site-packages/pyproj/crs.py:77: FutureWarning: '+init=<authority>:<code>' syntax is deprecated. '<authority>:<code>' is the preferred initialization method.\n",
      "  return _prepare_from_string(\" \".join(pjargs))\n",
      "/home/johan/envs/pydov/lib/python3.7/site-packages/pyproj/crs.py:77: FutureWarning: '+init=<authority>:<code>' syntax is deprecated. '<authority>:<code>' is the preferred initialization method.\n",
      "  return _prepare_from_string(\" \".join(pjargs))\n",
      "/home/johan/envs/pydov/lib/python3.7/site-packages/pyproj/crs.py:77: FutureWarning: '+init=<authority>:<code>' syntax is deprecated. '<authority>:<code>' is the preferred initialization method.\n",
      "  return _prepare_from_string(\" \".join(pjargs))\n",
      "/home/johan/envs/pydov/lib/python3.7/site-packages/pyproj/crs.py:77: FutureWarning: '+init=<authority>:<code>' syntax is deprecated. '<authority>:<code>' is the preferred initialization method.\n",
      "  return _prepare_from_string(\" \".join(pjargs))\n",
      "/home/johan/envs/pydov/lib/python3.7/site-packages/pyproj/crs.py:77: FutureWarning: '+init=<authority>:<code>' syntax is deprecated. '<authority>:<code>' is the preferred initialization method.\n",
      "  return _prepare_from_string(\" \".join(pjargs))\n",
      "/home/johan/envs/pydov/lib/python3.7/site-packages/pyproj/crs.py:77: FutureWarning: '+init=<authority>:<code>' syntax is deprecated. '<authority>:<code>' is the preferred initialization method.\n",
      "  return _prepare_from_string(\" \".join(pjargs))\n",
      "/home/johan/envs/pydov/lib/python3.7/site-packages/pyproj/crs.py:77: FutureWarning: '+init=<authority>:<code>' syntax is deprecated. '<authority>:<code>' is the preferred initialization method.\n",
      "  return _prepare_from_string(\" \".join(pjargs))\n"
     ]
    }
   ],
   "source": [
    "# convert the coordinates to lat/lon for folium\n",
    "def convert_latlon(x1, y1):\n",
    "    inProj = Proj(init='epsg:31370')\n",
    "    outProj = Proj(init='epsg:4326')\n",
    "    x2,y2 = transform(inProj, outProj, x1, y1)\n",
    "    return x2, y2\n",
    "df_hamme['lon'], df_hamme['lat'] = zip(*map(convert_latlon, df_hamme['x'], df_hamme['y'])) \n",
    "# convert to list\n",
    "loclist = df_hamme[['lat', 'lon']].values.tolist()"
   ]
  },
  {
   "cell_type": "code",
   "execution_count": 31,
   "metadata": {},
   "outputs": [
    {
     "data": {
      "text/html": [
       "<div style=\"width:100%;\"><div style=\"position:relative;width:100%;height:0;padding-bottom:60%;\"><iframe src=\"data:text/html;charset=utf-8;base64,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\" style=\"position:absolute;width:100%;height:100%;left:0;top:0;border:none !important;\" allowfullscreen webkitallowfullscreen mozallowfullscreen></iframe></div></div>"
      ],
      "text/plain": [
       "<folium.folium.Map at 0x7fcb2316eac8>"
      ]
     },
     "execution_count": 31,
     "metadata": {},
     "output_type": "execute_result"
    }
   ],
   "source": [
    "# initialize the Folium map on the centre of the selected locations, play with the zoom until ok\n",
    "fmap = folium.Map(location=[df_hamme['lat'].mean(), df_hamme['lon'].mean()], zoom_start=12)\n",
    "marker_cluster = MarkerCluster().add_to(fmap)\n",
    "for loc in range(0, len(loclist)):\n",
    "    folium.Marker(loclist[loc], popup=df_hamme['gw_id'][loc]).add_to(marker_cluster)\n",
    "fmap\n"
   ]
  },
  {
   "cell_type": "code",
   "execution_count": null,
   "metadata": {},
   "outputs": [],
   "source": []
  }
 ],
 "metadata": {
  "kernelspec": {
   "display_name": "Python 3",
   "language": "python",
   "name": "python3"
  },
  "language_info": {
   "codemirror_mode": {
    "name": "ipython",
    "version": 3
   },
   "file_extension": ".py",
   "mimetype": "text/x-python",
   "name": "python",
   "nbconvert_exporter": "python",
   "pygments_lexer": "ipython3",
   "version": "3.7.3"
  }
 },
 "nbformat": 4,
 "nbformat_minor": 2
}
