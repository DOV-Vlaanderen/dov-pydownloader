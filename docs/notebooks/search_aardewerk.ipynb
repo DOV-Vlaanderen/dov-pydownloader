{
 "cells": [
  {
   "cell_type": "markdown",
   "metadata": {},
   "source": [
    "# Example of DOV search methods for the Aardewerk dataset"
   ]
  },
  {
   "cell_type": "markdown",
   "metadata": {},
   "source": [
    "[![Binder](https://mybinder.org/badge_logo.svg)](https://mybinder.org/v2/gh/DOV-Vlaanderen/pydov/master?filepath=docs%2Fnotebooks%2Fsearch_aardewerk.ipynb)"
   ]
  },
  {
   "cell_type": "markdown",
   "metadata": {},
   "source": [
    "Aardewerk is a database including the description and analysis results of 7.020 soil profiles and 42.592 associated soil horizons, supplemented with 9.281 surface samples. All of them are located within the territories of Flanders and Brussels.\n",
    "This data was collected during a systematic soil profile study, conducted in Belgium between 1949 and 1971.\n",
    "\n",
    "Most of the data was made accessible in the [DOV viewer](https://www.dov.vlaanderen.be/portaal/?module=verkenner) by translating the Aardewerk database into the DOV-Bodemdatabank as soil locations (bodemlocaties). "
   ]
  },
  {
   "cell_type": "code",
   "execution_count": 1,
   "metadata": {},
   "outputs": [],
   "source": [
    "%matplotlib inline\n",
    "\n",
    "import inspect, sys\n",
    "import warnings; warnings.simplefilter('ignore')"
   ]
  },
  {
   "cell_type": "code",
   "execution_count": 2,
   "metadata": {},
   "outputs": [],
   "source": [
    "# check pydov path\n",
    "import pydov"
   ]
  },
  {
   "cell_type": "markdown",
   "metadata": {},
   "source": [
    "## Extract Aardewerk data from DOV\n",
    "Since this tutorial relies on the manipulation of soil locations (bodemlocaties), it is strongly recommended to follow the 'Example of DOV search methods for soil data (bodemgegevens)' first.\n",
    "\n",
    "First we would like to initiate the 'Bodemlocatie' datatype: "
   ]
  },
  {
   "cell_type": "code",
   "execution_count": 3,
   "metadata": {},
   "outputs": [],
   "source": [
    "from pydov.search.bodemlocatie import BodemlocatieSearch\n",
    "bodemlocatie = BodemlocatieSearch()"
   ]
  },
  {
   "cell_type": "markdown",
   "metadata": {},
   "source": [
    "In the DOV-Bodemdatabank, Aardewerk data is distinguished by having the suffix 'KART_PROF_' to its name.\n",
    "Before constructing a query, it would be interesting to get a grasp at the different fields existing within the 'Bodemlocatie' datatype by using the get_fields() method:"
   ]
  },
  {
   "cell_type": "code",
   "execution_count": 4,
   "metadata": {},
   "outputs": [
    {
     "name": "stdout",
     "output_type": "stream",
     "text": [
      "naam\n",
      "pkey_bodemlocatie\n",
      "type\n",
      "rapport_bodemlocatie\n",
      "profielbeschrijving\n",
      "waarnemingsdatum\n",
      "doel\n",
      "x\n",
      "y\n",
      "mv_mtaw\n",
      "Auteurs\n",
      "Aantal_classificaties\n",
      "Aantal_opbouwen\n",
      "erfgoed\n",
      "Aantal_observaties\n",
      "Aantal_monsters\n",
      "bodemstreek\n",
      "Bodemsite\n",
      "pkey_bodemsite\n",
      "Opdrachten\n",
      "invoerdatum\n",
      "educatieve_waarde\n"
     ]
    }
   ],
   "source": [
    "fields = bodemlocatie.get_fields()\n",
    "\n",
    "# print available fields\n",
    "for f in fields.values():\n",
    "    print(f['name'])"
   ]
  },
  {
   "cell_type": "markdown",
   "metadata": {},
   "source": [
    "You can get more information of a field by requesting it from the fields dictionary:\n",
    "\n",
    "name: name of the field\n",
    "definition: definition of this field\n",
    "cost: currently this is either 1 or 10, depending on the datasource of the field. It is an indication of the expected time it will take to retrieve this field in the output dataframe.\n",
    "notnull: whether the field is mandatory or not\n",
    "type: datatype of the values of this field"
   ]
  },
  {
   "cell_type": "code",
   "execution_count": 5,
   "metadata": {},
   "outputs": [
    {
     "data": {
      "text/plain": [
       "{'name': 'naam',\n",
       " 'definition': 'De unieke naam van de bodemlocatie.',\n",
       " 'type': 'string',\n",
       " 'notnull': False,\n",
       " 'query': True,\n",
       " 'cost': 1}"
      ]
     },
     "execution_count": 5,
     "metadata": {},
     "output_type": "execute_result"
    }
   ],
   "source": [
    "fields['naam']"
   ]
  },
  {
   "cell_type": "markdown",
   "metadata": {},
   "source": [
    "### Filter Aardewerk soil locations\n",
    "Since we know that Aardewerk soil locations make use of a specific suffix, a query could be built filtering these out.\n",
    "\n",
    "A list of possible operators can be found below:"
   ]
  },
  {
   "cell_type": "code",
   "execution_count": 6,
   "metadata": {},
   "outputs": [
    {
     "data": {
      "text/plain": [
       "['PropertyIsBetween',\n",
       " 'PropertyIsEqualTo',\n",
       " 'PropertyIsGreaterThan',\n",
       " 'PropertyIsGreaterThanOrEqualTo',\n",
       " 'PropertyIsLessThan',\n",
       " 'PropertyIsLessThanOrEqualTo',\n",
       " 'PropertyIsLike',\n",
       " 'PropertyIsNotEqualTo',\n",
       " 'PropertyIsNull',\n",
       " 'SortProperty']"
      ]
     },
     "execution_count": 6,
     "metadata": {},
     "output_type": "execute_result"
    }
   ],
   "source": [
    "[i for i,j in inspect.getmembers(sys.modules['owslib.fes'], inspect.isclass) if 'Property' in i]"
   ]
  },
  {
   "cell_type": "markdown",
   "metadata": {},
   "source": [
    "Since we only need to match a partial string in the name, we will build a query using the *PropertyIsLike* operator to find all Aardewerk bodemlocaties.\n",
    "We use *max_features=10* to limit the results to 10."
   ]
  },
  {
   "cell_type": "code",
   "execution_count": 7,
   "metadata": {},
   "outputs": [
    {
     "name": "stdout",
     "output_type": "stream",
     "text": [
      "[000/010] cccccccccc\n"
     ]
    },
    {
     "data": {
      "text/html": [
       "<div>\n",
       "<style scoped>\n",
       "    .dataframe tbody tr th:only-of-type {\n",
       "        vertical-align: middle;\n",
       "    }\n",
       "\n",
       "    .dataframe tbody tr th {\n",
       "        vertical-align: top;\n",
       "    }\n",
       "\n",
       "    .dataframe thead th {\n",
       "        text-align: right;\n",
       "    }\n",
       "</style>\n",
       "<table border=\"1\" class=\"dataframe\">\n",
       "  <thead>\n",
       "    <tr style=\"text-align: right;\">\n",
       "      <th></th>\n",
       "      <th>pkey_bodemlocatie</th>\n",
       "      <th>pkey_bodemsite</th>\n",
       "      <th>naam</th>\n",
       "      <th>type</th>\n",
       "      <th>waarnemingsdatum</th>\n",
       "      <th>doel</th>\n",
       "      <th>x</th>\n",
       "      <th>y</th>\n",
       "      <th>mv_mtaw</th>\n",
       "      <th>erfgoed</th>\n",
       "      <th>bodemstreek</th>\n",
       "      <th>invoerdatum</th>\n",
       "      <th>educatieve_waarde</th>\n",
       "    </tr>\n",
       "  </thead>\n",
       "  <tbody>\n",
       "    <tr>\n",
       "      <th>0</th>\n",
       "      <td>https://www.dov.vlaanderen.be/data/bodemlocati...</td>\n",
       "      <td>NaN</td>\n",
       "      <td>KART_PROF_027W/24</td>\n",
       "      <td>profielput</td>\n",
       "      <td>1950-11-28</td>\n",
       "      <td>bodemprofielen en oppervlaktemonsters karterin...</td>\n",
       "      <td>134282.0</td>\n",
       "      <td>215405.0</td>\n",
       "      <td>2.5</td>\n",
       "      <td>False</td>\n",
       "      <td>Doel</td>\n",
       "      <td>2019-10-11</td>\n",
       "      <td>OK</td>\n",
       "    </tr>\n",
       "    <tr>\n",
       "      <th>1</th>\n",
       "      <td>https://www.dov.vlaanderen.be/data/bodemlocati...</td>\n",
       "      <td>NaN</td>\n",
       "      <td>KART_PROF_001E/02</td>\n",
       "      <td>profielput</td>\n",
       "      <td>1954-05-31</td>\n",
       "      <td>bodemprofielen en oppervlaktemonsters karterin...</td>\n",
       "      <td>158367.0</td>\n",
       "      <td>240397.0</td>\n",
       "      <td>12.5</td>\n",
       "      <td>False</td>\n",
       "      <td>Kempen</td>\n",
       "      <td>2019-10-11</td>\n",
       "      <td>OK</td>\n",
       "    </tr>\n",
       "    <tr>\n",
       "      <th>2</th>\n",
       "      <td>https://www.dov.vlaanderen.be/data/bodemlocati...</td>\n",
       "      <td>NaN</td>\n",
       "      <td>KART_PROF_007W/40</td>\n",
       "      <td>profielput</td>\n",
       "      <td>1955-07-07</td>\n",
       "      <td>bodemprofielen en oppervlaktemonsters karterin...</td>\n",
       "      <td>167292.0</td>\n",
       "      <td>229988.0</td>\n",
       "      <td>19.0</td>\n",
       "      <td>False</td>\n",
       "      <td>Kempen</td>\n",
       "      <td>2019-10-11</td>\n",
       "      <td>OK</td>\n",
       "    </tr>\n",
       "    <tr>\n",
       "      <th>3</th>\n",
       "      <td>https://www.dov.vlaanderen.be/data/bodemlocati...</td>\n",
       "      <td>NaN</td>\n",
       "      <td>KART_PROF_037E/38</td>\n",
       "      <td>profielput</td>\n",
       "      <td>1952-02-01</td>\n",
       "      <td>bodemprofielen en oppervlaktemonsters karterin...</td>\n",
       "      <td>65969.0</td>\n",
       "      <td>207819.0</td>\n",
       "      <td>21.0</td>\n",
       "      <td>False</td>\n",
       "      <td>Zandstreek</td>\n",
       "      <td>2019-10-11</td>\n",
       "      <td>OK</td>\n",
       "    </tr>\n",
       "    <tr>\n",
       "      <th>4</th>\n",
       "      <td>https://www.dov.vlaanderen.be/data/bodemlocati...</td>\n",
       "      <td>NaN</td>\n",
       "      <td>KART_PROF_022E/68</td>\n",
       "      <td>profielput</td>\n",
       "      <td>1951-03-02</td>\n",
       "      <td>bodemprofielen en oppervlaktemonsters karterin...</td>\n",
       "      <td>65480.0</td>\n",
       "      <td>213545.0</td>\n",
       "      <td>2.0</td>\n",
       "      <td>False</td>\n",
       "      <td>Oudlandpolders</td>\n",
       "      <td>2019-10-11</td>\n",
       "      <td>OK</td>\n",
       "    </tr>\n",
       "  </tbody>\n",
       "</table>\n",
       "</div>"
      ],
      "text/plain": [
       "                                   pkey_bodemlocatie  pkey_bodemsite  \\\n",
       "0  https://www.dov.vlaanderen.be/data/bodemlocati...             NaN   \n",
       "1  https://www.dov.vlaanderen.be/data/bodemlocati...             NaN   \n",
       "2  https://www.dov.vlaanderen.be/data/bodemlocati...             NaN   \n",
       "3  https://www.dov.vlaanderen.be/data/bodemlocati...             NaN   \n",
       "4  https://www.dov.vlaanderen.be/data/bodemlocati...             NaN   \n",
       "\n",
       "                naam        type waarnemingsdatum  \\\n",
       "0  KART_PROF_027W/24  profielput       1950-11-28   \n",
       "1  KART_PROF_001E/02  profielput       1954-05-31   \n",
       "2  KART_PROF_007W/40  profielput       1955-07-07   \n",
       "3  KART_PROF_037E/38  profielput       1952-02-01   \n",
       "4  KART_PROF_022E/68  profielput       1951-03-02   \n",
       "\n",
       "                                                doel         x         y  \\\n",
       "0  bodemprofielen en oppervlaktemonsters karterin...  134282.0  215405.0   \n",
       "1  bodemprofielen en oppervlaktemonsters karterin...  158367.0  240397.0   \n",
       "2  bodemprofielen en oppervlaktemonsters karterin...  167292.0  229988.0   \n",
       "3  bodemprofielen en oppervlaktemonsters karterin...   65969.0  207819.0   \n",
       "4  bodemprofielen en oppervlaktemonsters karterin...   65480.0  213545.0   \n",
       "\n",
       "   mv_mtaw  erfgoed     bodemstreek invoerdatum educatieve_waarde  \n",
       "0      2.5    False            Doel  2019-10-11                OK  \n",
       "1     12.5    False          Kempen  2019-10-11                OK  \n",
       "2     19.0    False          Kempen  2019-10-11                OK  \n",
       "3     21.0    False      Zandstreek  2019-10-11                OK  \n",
       "4      2.0    False  Oudlandpolders  2019-10-11                OK  "
      ]
     },
     "execution_count": 7,
     "metadata": {},
     "output_type": "execute_result"
    }
   ],
   "source": [
    "from owslib.fes import PropertyIsLike\n",
    "\n",
    "query = PropertyIsLike(propertyname='naam',\n",
    "                       literal='KART_PROF_%', wildCard='%')\n",
    "df = bodemlocatie.search(query=query, max_features=10)\n",
    "\n",
    "df.head()"
   ]
  },
  {
   "cell_type": "markdown",
   "metadata": {},
   "source": [
    "As seen in the soil data example, we can use the *pkey_bodemlocatie* as a permanent link to the information of these bodemlocaties:"
   ]
  },
  {
   "cell_type": "code",
   "execution_count": 8,
   "metadata": {},
   "outputs": [
    {
     "name": "stdout",
     "output_type": "stream",
     "text": [
      "https://www.dov.vlaanderen.be/data/bodemlocatie/1951-000825\n",
      "https://www.dov.vlaanderen.be/data/bodemlocatie/1957-000826\n",
      "https://www.dov.vlaanderen.be/data/bodemlocatie/1958-000829\n",
      "https://www.dov.vlaanderen.be/data/bodemlocatie/1950-000834\n",
      "https://www.dov.vlaanderen.be/data/bodemlocatie/1954-000822\n",
      "https://www.dov.vlaanderen.be/data/bodemlocatie/1955-000827\n",
      "https://www.dov.vlaanderen.be/data/bodemlocatie/1955-000823\n",
      "https://www.dov.vlaanderen.be/data/bodemlocatie/1954-000828\n",
      "https://www.dov.vlaanderen.be/data/bodemlocatie/1952-000830\n",
      "https://www.dov.vlaanderen.be/data/bodemlocatie/1952-000824\n"
     ]
    }
   ],
   "source": [
    "for pkey_bodemlocatie in set(df.pkey_bodemlocatie):\n",
    "    print(pkey_bodemlocatie)"
   ]
  }
 ],
 "metadata": {
  "kernelspec": {
   "display_name": "Python 3",
   "language": "python",
   "name": "python3"
  },
  "language_info": {
   "codemirror_mode": {
    "name": "ipython",
    "version": 3
   },
   "file_extension": ".py",
   "mimetype": "text/x-python",
   "name": "python",
   "nbconvert_exporter": "python",
   "pygments_lexer": "ipython3",
   "version": "3.7.7"
  }
 },
 "nbformat": 4,
 "nbformat_minor": 4
}
