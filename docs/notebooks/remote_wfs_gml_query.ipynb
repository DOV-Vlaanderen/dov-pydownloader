{
 "cells": [
  {
   "cell_type": "markdown",
   "metadata": {},
   "source": [
    "# Example of DOV search methods based on external WFS"
   ]
  },
  {
   "cell_type": "markdown",
   "metadata": {},
   "source": [
    "## Use cases"
   ]
  },
  {
   "cell_type": "markdown",
   "metadata": {},
   "source": [
    "- Filter data within a certain community using its geographic borders\n",
    "- Filter data within a geographic boundary of a feature in layer \"Bekken\"\n",
    "- Filter data within a geographic boundary of a feature in layer \"Grondwaterlichamen\""
   ]
  },
  {
   "cell_type": "code",
   "execution_count": 1,
   "metadata": {},
   "outputs": [],
   "source": [
    "%matplotlib inline\n",
    "import matplotlib.pyplot as plt\n",
    "\n",
    "from owslib.etree import etree\n",
    "from owslib.fes import PropertyIsEqualTo\n",
    "from owslib.wfs import WebFeatureService\n",
    "\n",
    "from pydov.search.boring import BoringSearch\n",
    "from pydov.search.grondwaterfilter import GrondwaterFilterSearch\n",
    "\n",
    "from pydov.util.location import (\n",
    "    GmlFilter,\n",
    "    Within,\n",
    ")"
   ]
  },
  {
   "cell_type": "markdown",
   "metadata": {},
   "source": [
    "# Filter data within a certain community using its geographic borders"
   ]
  },
  {
   "cell_type": "markdown",
   "metadata": {},
   "source": [
    "Load layer:"
   ]
  },
  {
   "cell_type": "code",
   "execution_count": 2,
   "metadata": {},
   "outputs": [],
   "source": [
    "gemeentegrenzen = WebFeatureService(\n",
    "    'https://geoservices.informatievlaanderen.be/overdrachtdiensten/VRBG/wfs',\n",
    "    version='1.1.0')"
   ]
  },
  {
   "cell_type": "markdown",
   "metadata": {},
   "source": [
    "Optional get available fields (properties) of a layer:"
   ]
  },
  {
   "cell_type": "code",
   "execution_count": 3,
   "metadata": {},
   "outputs": [
    {
     "data": {
      "text/plain": [
       "{'UIDN': 'decimal',\n",
       " 'OIDN': 'decimal',\n",
       " 'TERRID': 'decimal',\n",
       " 'NISCODE': 'string',\n",
       " 'NAAM': 'string',\n",
       " 'DATPUBLBS': 'date',\n",
       " 'NUMAC': 'string'}"
      ]
     },
     "execution_count": 3,
     "metadata": {},
     "output_type": "execute_result"
    }
   ],
   "source": [
    "gemeentegrenzen.get_schema('VRBG:Refgem')['properties']"
   ]
  },
  {
   "cell_type": "markdown",
   "metadata": {},
   "source": [
    "Create a custom boundary of an administrative area: "
   ]
  },
  {
   "cell_type": "code",
   "execution_count": 4,
   "metadata": {},
   "outputs": [],
   "source": [
    "naam_filter = PropertyIsEqualTo(propertyname='NAAM', literal='Lievegem')"
   ]
  },
  {
   "cell_type": "code",
   "execution_count": 5,
   "metadata": {},
   "outputs": [],
   "source": [
    "gemeente_poly = gemeentegrenzen.getfeature(\n",
    "    typename='VRBG:Refgem',\n",
    "    filter=etree.tostring(naam_filter.toXML()).decode(\"utf8\")).read()"
   ]
  },
  {
   "cell_type": "markdown",
   "metadata": {},
   "source": [
    "Search all \"boringen\" within the administrative area: "
   ]
  },
  {
   "cell_type": "code",
   "execution_count": 6,
   "metadata": {},
   "outputs": [],
   "source": [
    "bs = BoringSearch()\n",
    "df = bs.search(\n",
    "    location=GmlFilter(gemeente_poly, Within),\n",
    "    return_fields=('pkey_boring', 'gemeente'))"
   ]
  },
  {
   "cell_type": "code",
   "execution_count": 7,
   "metadata": {},
   "outputs": [
    {
     "data": {
      "text/html": [
       "<div>\n",
       "<style scoped>\n",
       "    .dataframe tbody tr th:only-of-type {\n",
       "        vertical-align: middle;\n",
       "    }\n",
       "\n",
       "    .dataframe tbody tr th {\n",
       "        vertical-align: top;\n",
       "    }\n",
       "\n",
       "    .dataframe thead th {\n",
       "        text-align: right;\n",
       "    }\n",
       "</style>\n",
       "<table border=\"1\" class=\"dataframe\">\n",
       "  <thead>\n",
       "    <tr style=\"text-align: right;\">\n",
       "      <th></th>\n",
       "      <th>gemeente</th>\n",
       "      <th>counts</th>\n",
       "    </tr>\n",
       "  </thead>\n",
       "  <tbody>\n",
       "    <tr>\n",
       "      <th>0</th>\n",
       "      <td>Gent</td>\n",
       "      <td>2</td>\n",
       "    </tr>\n",
       "    <tr>\n",
       "      <th>1</th>\n",
       "      <td>Knesselare</td>\n",
       "      <td>2</td>\n",
       "    </tr>\n",
       "    <tr>\n",
       "      <th>2</th>\n",
       "      <td>Lievegem</td>\n",
       "      <td>12</td>\n",
       "    </tr>\n",
       "    <tr>\n",
       "      <th>3</th>\n",
       "      <td>Lovendegem</td>\n",
       "      <td>110</td>\n",
       "    </tr>\n",
       "    <tr>\n",
       "      <th>4</th>\n",
       "      <td>Nevele</td>\n",
       "      <td>1</td>\n",
       "    </tr>\n",
       "    <tr>\n",
       "      <th>5</th>\n",
       "      <td>Veurne</td>\n",
       "      <td>1</td>\n",
       "    </tr>\n",
       "    <tr>\n",
       "      <th>6</th>\n",
       "      <td>Waarschoot</td>\n",
       "      <td>57</td>\n",
       "    </tr>\n",
       "    <tr>\n",
       "      <th>7</th>\n",
       "      <td>Zomergem</td>\n",
       "      <td>130</td>\n",
       "    </tr>\n",
       "  </tbody>\n",
       "</table>\n",
       "</div>"
      ],
      "text/plain": [
       "     gemeente  counts\n",
       "0        Gent       2\n",
       "1  Knesselare       2\n",
       "2    Lievegem      12\n",
       "3  Lovendegem     110\n",
       "4      Nevele       1\n",
       "5      Veurne       1\n",
       "6  Waarschoot      57\n",
       "7    Zomergem     130"
      ]
     },
     "execution_count": 7,
     "metadata": {},
     "output_type": "execute_result"
    }
   ],
   "source": [
    "df.groupby('gemeente').size().reset_index(name='counts')"
   ]
  },
  {
   "cell_type": "markdown",
   "metadata": {},
   "source": [
    "# Filter data within a geographic boundary of a feature in layer \"Bekken\""
   ]
  },
  {
   "cell_type": "markdown",
   "metadata": {},
   "source": [
    "Load layer:"
   ]
  },
  {
   "cell_type": "code",
   "execution_count": 8,
   "metadata": {},
   "outputs": [],
   "source": [
    "bekkens = WebFeatureService(\n",
    "    'https://geoservices.informatievlaanderen.be/overdrachtdiensten/VHAZones/wfs',\n",
    "    version='1.1.0'\n",
    ")"
   ]
  },
  {
   "cell_type": "markdown",
   "metadata": {},
   "source": [
    "Optional list available layers:"
   ]
  },
  {
   "cell_type": "code",
   "execution_count": 9,
   "metadata": {},
   "outputs": [
    {
     "data": {
      "text/plain": [
       "['VHAZones:Bekken', 'VHAZones:Deelbekken', 'VHAZones:Vhazone']"
      ]
     },
     "execution_count": 9,
     "metadata": {},
     "output_type": "execute_result"
    }
   ],
   "source": [
    "list(bekkens.contents)"
   ]
  },
  {
   "cell_type": "markdown",
   "metadata": {},
   "source": [
    "Optional get available fields (properties) of a layer:"
   ]
  },
  {
   "cell_type": "code",
   "execution_count": 10,
   "metadata": {},
   "outputs": [
    {
     "data": {
      "text/plain": [
       "{'UIDN': 'decimal',\n",
       " 'OIDN': 'decimal',\n",
       " 'BEKNR': 'short',\n",
       " 'BEKNAAM': 'string',\n",
       " 'STRMGEB': 'string'}"
      ]
     },
     "execution_count": 10,
     "metadata": {},
     "output_type": "execute_result"
    }
   ],
   "source": [
    "bekkens.get_schema('VHAZones:Bekken')['properties']"
   ]
  },
  {
   "cell_type": "markdown",
   "metadata": {},
   "source": [
    "Get distinct values of a field:"
   ]
  },
  {
   "cell_type": "code",
   "execution_count": 11,
   "metadata": {},
   "outputs": [
    {
     "data": {
      "text/plain": [
       "{'Bekken Brugse polders',\n",
       " 'Bekken Gentse kanalen',\n",
       " 'Beneden-Scheldebekken',\n",
       " 'Boven-Scheldebekken',\n",
       " 'Demerbekken',\n",
       " 'Denderbekken',\n",
       " 'Dijlebekken',\n",
       " 'Ijzerbekken',\n",
       " 'Leiebekken',\n",
       " 'Maasbekken',\n",
       " 'Netebekken'}"
      ]
     },
     "execution_count": 11,
     "metadata": {},
     "output_type": "execute_result"
    }
   ],
   "source": [
    "tree = etree.fromstring(bekkens.getfeature('VHAZones:Bekken', propertyname='BEKNAAM').read().encode(\"utf8\"))\n",
    "set((i.text for i in tree.findall('.//{%s}BEKNAAM' % tree.nsmap['VHAZones'])))"
   ]
  },
  {
   "cell_type": "markdown",
   "metadata": {},
   "source": [
    "Build filter:"
   ]
  },
  {
   "cell_type": "code",
   "execution_count": 12,
   "metadata": {},
   "outputs": [],
   "source": [
    "naam_filter = PropertyIsEqualTo(propertyname='BEKNAAM', literal='Bekken Brugse polders')"
   ]
  },
  {
   "cell_type": "markdown",
   "metadata": {},
   "source": [
    "Get features matching filter"
   ]
  },
  {
   "cell_type": "code",
   "execution_count": 13,
   "metadata": {},
   "outputs": [],
   "source": [
    "bekken_poly = bekkens.getfeature(\n",
    "    typename='VHAZones:Bekken',\n",
    "    filter=etree.tostring(naam_filter.toXML()).decode(\"utf8\")).read()"
   ]
  },
  {
   "cell_type": "markdown",
   "metadata": {},
   "source": [
    "Get DOV data based on feature geometry"
   ]
  },
  {
   "cell_type": "code",
   "execution_count": 14,
   "metadata": {},
   "outputs": [],
   "source": [
    "filter_search = GrondwaterFilterSearch()\n",
    "df = filter_search.search(\n",
    "    max_features = 100,\n",
    "    location=GmlFilter(bekken_poly, Within),\n",
    "    return_fields=('pkey_filter', 'x', 'y')\n",
    ")"
   ]
  },
  {
   "cell_type": "markdown",
   "metadata": {},
   "source": [
    "Show on map:"
   ]
  },
  {
   "cell_type": "code",
   "execution_count": 15,
   "metadata": {},
   "outputs": [],
   "source": [
    "# import the necessary modules (not included in the requirements of pydov!)\n",
    "import folium\n",
    "from folium.plugins import MarkerCluster\n",
    "from pyproj import Proj, transform"
   ]
  },
  {
   "cell_type": "code",
   "execution_count": 16,
   "metadata": {},
   "outputs": [],
   "source": [
    "# convert the coordinates to lat/lon for folium\n",
    "def convert_latlon(x1, y1):\n",
    "    inProj = Proj(init='epsg:31370')\n",
    "    outProj = Proj(init='epsg:4326')\n",
    "    x2,y2 = transform(inProj, outProj, x1, y1)\n",
    "    return x2, y2\n",
    "df['lon'], df['lat'] = zip(*map(convert_latlon, df['x'], df['y']))\n",
    "# convert to list\n",
    "loclist = df[['lat', 'lon']].values.tolist()"
   ]
  },
  {
   "cell_type": "code",
   "execution_count": 17,
   "metadata": {},
   "outputs": [
    {
     "data": {
      "text/html": [
       "<div style=\"width:100%;\"><div style=\"position:relative;width:100%;height:0;padding-bottom:60%;\"><iframe src=\"data:text/html;charset=utf-8;base64,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\" style=\"position:absolute;width:100%;height:100%;left:0;top:0;border:none !important;\" allowfullscreen webkitallowfullscreen mozallowfullscreen></iframe></div></div>"
      ],
      "text/plain": [
       "<folium.folium.Map at 0x1c11d68ad68>"
      ]
     },
     "execution_count": 17,
     "metadata": {},
     "output_type": "execute_result"
    }
   ],
   "source": [
    "# initialize the Folium map on the centre of the selected locations, play with the zoom until ok\n",
    "fmap = folium.Map(location=[df['lat'].mean(), df['lon'].mean()], zoom_start=10)\n",
    "marker_cluster = MarkerCluster().add_to(fmap)\n",
    "for loc in range(0, len(loclist)):\n",
    "    folium.Marker(loclist[loc], popup=df['pkey_filter'][loc]).add_to(marker_cluster)\n",
    "fmap"
   ]
  },
  {
   "cell_type": "markdown",
   "metadata": {},
   "source": [
    "# Filter data within a geographic boundary of a feature in layer \"Grondwaterlichamen\""
   ]
  },
  {
   "cell_type": "code",
   "execution_count": 18,
   "metadata": {},
   "outputs": [],
   "source": [
    "gwl = WebFeatureService(\n",
    "    'https://www.dov.vlaanderen.be/geoserver/wfs',\n",
    "    version='1.1.0')"
   ]
  },
  {
   "cell_type": "code",
   "execution_count": 19,
   "metadata": {},
   "outputs": [
    {
     "data": {
      "text/plain": [
       "{'properties': {'id': 'long',\n",
       "  'grondwaterlichaam_afkorting': 'string',\n",
       "  'grondwaterlichaam': 'string',\n",
       "  'grondwatersysteem': 'string',\n",
       "  'EU_code': 'string',\n",
       "  'stroomgebiedsdistrict': 'string',\n",
       "  'horizonten': 'string'},\n",
       " 'geometry': '3D MultiPolygon',\n",
       " 'geometry_column': 'geom'}"
      ]
     },
     "execution_count": 19,
     "metadata": {},
     "output_type": "execute_result"
    }
   ],
   "source": [
    "gwl.get_schema(\"gw_beleid:gwlichamen\")"
   ]
  },
  {
   "cell_type": "code",
   "execution_count": 20,
   "metadata": {},
   "outputs": [],
   "source": [
    "grondwaterlichaam_filter = PropertyIsEqualTo(propertyname='grondwaterlichaam_afkorting', literal='BLKS_0600_GWL_1')"
   ]
  },
  {
   "cell_type": "code",
   "execution_count": 21,
   "metadata": {},
   "outputs": [],
   "source": [
    "grondwaterlichaam_poly = gwl.getfeature(\n",
    "    typename='gw_beleid:gwlichamen',\n",
    "    filter=etree.tostring(grondwaterlichaam_filter.toXML()).decode(\"utf8\")).read()"
   ]
  },
  {
   "cell_type": "code",
   "execution_count": 22,
   "metadata": {},
   "outputs": [],
   "source": [
    "gemeentegrenzen = WebFeatureService(\n",
    "    'https://geoservices.informatievlaanderen.be/overdrachtdiensten/VRBG/wfs',\n",
    "    version='1.1.0')"
   ]
  },
  {
   "cell_type": "code",
   "execution_count": 23,
   "metadata": {},
   "outputs": [],
   "source": [
    "naam_filter = PropertyIsEqualTo(propertyname='NAAM', literal='Hoegaarden')"
   ]
  },
  {
   "cell_type": "code",
   "execution_count": 24,
   "metadata": {},
   "outputs": [],
   "source": [
    "gemeente_poly = gemeentegrenzen.getfeature(\n",
    "    typename='VRBG:Refgem',\n",
    "    filter=etree.tostring(naam_filter.toXML()).decode(\"utf8\")).read()"
   ]
  },
  {
   "cell_type": "code",
   "execution_count": 25,
   "metadata": {},
   "outputs": [],
   "source": [
    "from owslib.fes import And"
   ]
  },
  {
   "cell_type": "code",
   "execution_count": 26,
   "metadata": {},
   "outputs": [
    {
     "name": "stdout",
     "output_type": "stream",
     "text": [
      "[000/047] ccccccccccccccccccccccccccccccccccccccccccccccc\n"
     ]
    }
   ],
   "source": [
    "filter_search = GrondwaterFilterSearch()\n",
    "df = filter_search.search(\n",
    "    location=And([GmlFilter(grondwaterlichaam_poly, Within), GmlFilter(gemeente_poly, Within)]),\n",
    "    return_fields=('pkey_filter', 'x', 'y', 'aquifer_code', 'gemeente', 'grondwaterlichaam_code'))"
   ]
  },
  {
   "cell_type": "code",
   "execution_count": 27,
   "metadata": {},
   "outputs": [
    {
     "data": {
      "text/html": [
       "<div>\n",
       "<style scoped>\n",
       "    .dataframe tbody tr th:only-of-type {\n",
       "        vertical-align: middle;\n",
       "    }\n",
       "\n",
       "    .dataframe tbody tr th {\n",
       "        vertical-align: top;\n",
       "    }\n",
       "\n",
       "    .dataframe thead th {\n",
       "        text-align: right;\n",
       "    }\n",
       "</style>\n",
       "<table border=\"1\" class=\"dataframe\">\n",
       "  <thead>\n",
       "    <tr style=\"text-align: right;\">\n",
       "      <th></th>\n",
       "      <th>pkey_filter</th>\n",
       "      <th>x</th>\n",
       "      <th>y</th>\n",
       "      <th>aquifer_code</th>\n",
       "      <th>gemeente</th>\n",
       "      <th>grondwaterlichaam_code</th>\n",
       "    </tr>\n",
       "  </thead>\n",
       "  <tbody>\n",
       "    <tr>\n",
       "      <th>0</th>\n",
       "      <td>https://www.dov.vlaanderen.be/data/filter/2003...</td>\n",
       "      <td>188318.6600</td>\n",
       "      <td>160810.980000</td>\n",
       "      <td>0620</td>\n",
       "      <td>Hoegaarden</td>\n",
       "      <td>BLKS_0600_GWL_1</td>\n",
       "    </tr>\n",
       "    <tr>\n",
       "      <th>1</th>\n",
       "      <td>https://www.dov.vlaanderen.be/data/filter/2003...</td>\n",
       "      <td>188318.6600</td>\n",
       "      <td>160810.980000</td>\n",
       "      <td>0620</td>\n",
       "      <td>Hoegaarden</td>\n",
       "      <td>BLKS_0600_GWL_1</td>\n",
       "    </tr>\n",
       "    <tr>\n",
       "      <th>2</th>\n",
       "      <td>https://www.dov.vlaanderen.be/data/filter/2003...</td>\n",
       "      <td>188318.6600</td>\n",
       "      <td>160810.980000</td>\n",
       "      <td>1010</td>\n",
       "      <td>Hoegaarden</td>\n",
       "      <td>BLKS_1000_GWL_1S</td>\n",
       "    </tr>\n",
       "    <tr>\n",
       "      <th>3</th>\n",
       "      <td>https://www.dov.vlaanderen.be/data/filter/1996...</td>\n",
       "      <td>183090.0000</td>\n",
       "      <td>165316.000000</td>\n",
       "      <td>0620</td>\n",
       "      <td>Hoegaarden</td>\n",
       "      <td>NaN</td>\n",
       "    </tr>\n",
       "    <tr>\n",
       "      <th>4</th>\n",
       "      <td>https://www.dov.vlaanderen.be/data/filter/1900...</td>\n",
       "      <td>182178.0000</td>\n",
       "      <td>165077.000000</td>\n",
       "      <td>1010</td>\n",
       "      <td>Hoegaarden</td>\n",
       "      <td>NaN</td>\n",
       "    </tr>\n",
       "    <tr>\n",
       "      <th>5</th>\n",
       "      <td>https://www.dov.vlaanderen.be/data/filter/2000...</td>\n",
       "      <td>185319.0000</td>\n",
       "      <td>165155.000000</td>\n",
       "      <td>1000</td>\n",
       "      <td>Hoegaarden</td>\n",
       "      <td>BLKS_1000_GWL_2S</td>\n",
       "    </tr>\n",
       "    <tr>\n",
       "      <th>6</th>\n",
       "      <td>https://www.dov.vlaanderen.be/data/filter/1950...</td>\n",
       "      <td>182992.0000</td>\n",
       "      <td>165091.000000</td>\n",
       "      <td>1010</td>\n",
       "      <td>Hoegaarden</td>\n",
       "      <td>NaN</td>\n",
       "    </tr>\n",
       "    <tr>\n",
       "      <th>7</th>\n",
       "      <td>https://www.dov.vlaanderen.be/data/filter/2003...</td>\n",
       "      <td>185891.3600</td>\n",
       "      <td>165155.100000</td>\n",
       "      <td>0600</td>\n",
       "      <td>Hoegaarden</td>\n",
       "      <td>BLKS_0600_GWL_1</td>\n",
       "    </tr>\n",
       "    <tr>\n",
       "      <th>8</th>\n",
       "      <td>https://www.dov.vlaanderen.be/data/filter/2003...</td>\n",
       "      <td>185891.3600</td>\n",
       "      <td>165155.100000</td>\n",
       "      <td>0600</td>\n",
       "      <td>Hoegaarden</td>\n",
       "      <td>BLKS_0600_GWL_1</td>\n",
       "    </tr>\n",
       "    <tr>\n",
       "      <th>9</th>\n",
       "      <td>https://www.dov.vlaanderen.be/data/filter/2003...</td>\n",
       "      <td>185891.3600</td>\n",
       "      <td>165155.100000</td>\n",
       "      <td>0600</td>\n",
       "      <td>Hoegaarden</td>\n",
       "      <td>BLKS_0600_GWL_1</td>\n",
       "    </tr>\n",
       "    <tr>\n",
       "      <th>10</th>\n",
       "      <td>https://www.dov.vlaanderen.be/data/filter/2003...</td>\n",
       "      <td>184942.2100</td>\n",
       "      <td>166222.490000</td>\n",
       "      <td>0620</td>\n",
       "      <td>Hoegaarden</td>\n",
       "      <td>BLKS_0600_GWL_1</td>\n",
       "    </tr>\n",
       "    <tr>\n",
       "      <th>11</th>\n",
       "      <td>https://www.dov.vlaanderen.be/data/filter/2003...</td>\n",
       "      <td>184942.2100</td>\n",
       "      <td>166222.490000</td>\n",
       "      <td>0620</td>\n",
       "      <td>Hoegaarden</td>\n",
       "      <td>BLKS_0600_GWL_1</td>\n",
       "    </tr>\n",
       "    <tr>\n",
       "      <th>12</th>\n",
       "      <td>https://www.dov.vlaanderen.be/data/filter/2003...</td>\n",
       "      <td>184942.2100</td>\n",
       "      <td>166222.490000</td>\n",
       "      <td>1010</td>\n",
       "      <td>Hoegaarden</td>\n",
       "      <td>BLKS_1000_GWL_2S</td>\n",
       "    </tr>\n",
       "    <tr>\n",
       "      <th>13</th>\n",
       "      <td>https://www.dov.vlaanderen.be/data/filter/1900...</td>\n",
       "      <td>186495.0000</td>\n",
       "      <td>163102.000000</td>\n",
       "      <td>1010</td>\n",
       "      <td>Hoegaarden</td>\n",
       "      <td>BLKS_1000_GWL_1S</td>\n",
       "    </tr>\n",
       "    <tr>\n",
       "      <th>14</th>\n",
       "      <td>https://www.dov.vlaanderen.be/data/filter/1993...</td>\n",
       "      <td>182384.0000</td>\n",
       "      <td>163674.000000</td>\n",
       "      <td>0620</td>\n",
       "      <td>Hoegaarden</td>\n",
       "      <td>NaN</td>\n",
       "    </tr>\n",
       "    <tr>\n",
       "      <th>15</th>\n",
       "      <td>https://www.dov.vlaanderen.be/data/filter/1990...</td>\n",
       "      <td>186445.0000</td>\n",
       "      <td>163125.000000</td>\n",
       "      <td>1010</td>\n",
       "      <td>Hoegaarden</td>\n",
       "      <td>BLKS_1000_GWL_1S</td>\n",
       "    </tr>\n",
       "    <tr>\n",
       "      <th>16</th>\n",
       "      <td>https://www.dov.vlaanderen.be/data/filter/1993...</td>\n",
       "      <td>186583.0000</td>\n",
       "      <td>163220.000000</td>\n",
       "      <td>1010</td>\n",
       "      <td>Hoegaarden</td>\n",
       "      <td>BLKS_1000_GWL_1S</td>\n",
       "    </tr>\n",
       "    <tr>\n",
       "      <th>17</th>\n",
       "      <td>https://www.dov.vlaanderen.be/data/filter/1990...</td>\n",
       "      <td>186455.0000</td>\n",
       "      <td>163163.000000</td>\n",
       "      <td>1010</td>\n",
       "      <td>Hoegaarden</td>\n",
       "      <td>BLKS_1000_GWL_1S</td>\n",
       "    </tr>\n",
       "    <tr>\n",
       "      <th>18</th>\n",
       "      <td>https://www.dov.vlaanderen.be/data/filter/1989...</td>\n",
       "      <td>182419.0000</td>\n",
       "      <td>163603.000000</td>\n",
       "      <td>1010</td>\n",
       "      <td>Hoegaarden</td>\n",
       "      <td>NaN</td>\n",
       "    </tr>\n",
       "    <tr>\n",
       "      <th>19</th>\n",
       "      <td>https://www.dov.vlaanderen.be/data/filter/2001...</td>\n",
       "      <td>185073.0000</td>\n",
       "      <td>162229.000000</td>\n",
       "      <td>1010</td>\n",
       "      <td>Hoegaarden</td>\n",
       "      <td>NaN</td>\n",
       "    </tr>\n",
       "    <tr>\n",
       "      <th>20</th>\n",
       "      <td>https://www.dov.vlaanderen.be/data/filter/1984...</td>\n",
       "      <td>184960.0000</td>\n",
       "      <td>164158.000000</td>\n",
       "      <td>1010</td>\n",
       "      <td>Hoegaarden</td>\n",
       "      <td>NaN</td>\n",
       "    </tr>\n",
       "    <tr>\n",
       "      <th>21</th>\n",
       "      <td>https://www.dov.vlaanderen.be/data/filter/1996...</td>\n",
       "      <td>186589.6875</td>\n",
       "      <td>162369.734375</td>\n",
       "      <td>0620</td>\n",
       "      <td>Hoegaarden</td>\n",
       "      <td>BLKS_0600_GWL_1</td>\n",
       "    </tr>\n",
       "    <tr>\n",
       "      <th>22</th>\n",
       "      <td>https://www.dov.vlaanderen.be/data/filter/1996...</td>\n",
       "      <td>186589.6875</td>\n",
       "      <td>162369.734375</td>\n",
       "      <td>1020</td>\n",
       "      <td>Hoegaarden</td>\n",
       "      <td>BLKS_1000_GWL_1S</td>\n",
       "    </tr>\n",
       "    <tr>\n",
       "      <th>23</th>\n",
       "      <td>https://www.dov.vlaanderen.be/data/filter/1996...</td>\n",
       "      <td>186589.6875</td>\n",
       "      <td>162369.734375</td>\n",
       "      <td>1300</td>\n",
       "      <td>Hoegaarden</td>\n",
       "      <td>BLKS_1100_GWL_2S</td>\n",
       "    </tr>\n",
       "    <tr>\n",
       "      <th>24</th>\n",
       "      <td>https://www.dov.vlaanderen.be/data/filter/1996...</td>\n",
       "      <td>186589.6875</td>\n",
       "      <td>162369.734375</td>\n",
       "      <td>1300</td>\n",
       "      <td>Hoegaarden</td>\n",
       "      <td>BLKS_1100_GWL_2S</td>\n",
       "    </tr>\n",
       "    <tr>\n",
       "      <th>25</th>\n",
       "      <td>https://www.dov.vlaanderen.be/data/filter/1976...</td>\n",
       "      <td>186330.0000</td>\n",
       "      <td>163040.000000</td>\n",
       "      <td>1010</td>\n",
       "      <td>Hoegaarden</td>\n",
       "      <td>NaN</td>\n",
       "    </tr>\n",
       "    <tr>\n",
       "      <th>26</th>\n",
       "      <td>https://www.dov.vlaanderen.be/data/filter/1900...</td>\n",
       "      <td>185780.0000</td>\n",
       "      <td>164211.000000</td>\n",
       "      <td>0600</td>\n",
       "      <td>Hoegaarden</td>\n",
       "      <td>NaN</td>\n",
       "    </tr>\n",
       "    <tr>\n",
       "      <th>27</th>\n",
       "      <td>https://www.dov.vlaanderen.be/data/filter/1900...</td>\n",
       "      <td>182499.0000</td>\n",
       "      <td>164138.000000</td>\n",
       "      <td>1010</td>\n",
       "      <td>Hoegaarden</td>\n",
       "      <td>NaN</td>\n",
       "    </tr>\n",
       "    <tr>\n",
       "      <th>28</th>\n",
       "      <td>https://www.dov.vlaanderen.be/data/filter/2003...</td>\n",
       "      <td>184098.2600</td>\n",
       "      <td>163359.020000</td>\n",
       "      <td>0620</td>\n",
       "      <td>Hoegaarden</td>\n",
       "      <td>BLKS_0600_GWL_1</td>\n",
       "    </tr>\n",
       "    <tr>\n",
       "      <th>29</th>\n",
       "      <td>https://www.dov.vlaanderen.be/data/filter/2003...</td>\n",
       "      <td>184098.2600</td>\n",
       "      <td>163359.020000</td>\n",
       "      <td>0620</td>\n",
       "      <td>Hoegaarden</td>\n",
       "      <td>BLKS_0600_GWL_1</td>\n",
       "    </tr>\n",
       "    <tr>\n",
       "      <th>30</th>\n",
       "      <td>https://www.dov.vlaanderen.be/data/filter/2003...</td>\n",
       "      <td>184098.2600</td>\n",
       "      <td>163359.020000</td>\n",
       "      <td>0620</td>\n",
       "      <td>Hoegaarden</td>\n",
       "      <td>BLKS_0600_GWL_1</td>\n",
       "    </tr>\n",
       "    <tr>\n",
       "      <th>31</th>\n",
       "      <td>https://www.dov.vlaanderen.be/data/filter/2003...</td>\n",
       "      <td>183831.1400</td>\n",
       "      <td>164618.330000</td>\n",
       "      <td>0620</td>\n",
       "      <td>Hoegaarden</td>\n",
       "      <td>BLKS_0600_GWL_1</td>\n",
       "    </tr>\n",
       "    <tr>\n",
       "      <th>32</th>\n",
       "      <td>https://www.dov.vlaanderen.be/data/filter/2003...</td>\n",
       "      <td>183831.1400</td>\n",
       "      <td>164618.330000</td>\n",
       "      <td>1010</td>\n",
       "      <td>Hoegaarden</td>\n",
       "      <td>BLKS_1000_GWL_2S</td>\n",
       "    </tr>\n",
       "    <tr>\n",
       "      <th>33</th>\n",
       "      <td>https://www.dov.vlaanderen.be/data/filter/2003...</td>\n",
       "      <td>183831.1400</td>\n",
       "      <td>164618.330000</td>\n",
       "      <td>1010</td>\n",
       "      <td>Hoegaarden</td>\n",
       "      <td>BLKS_1000_GWL_2S</td>\n",
       "    </tr>\n",
       "    <tr>\n",
       "      <th>34</th>\n",
       "      <td>https://www.dov.vlaanderen.be/data/filter/2003...</td>\n",
       "      <td>185016.1000</td>\n",
       "      <td>163078.910000</td>\n",
       "      <td>0620</td>\n",
       "      <td>Hoegaarden</td>\n",
       "      <td>BLKS_0600_GWL_1</td>\n",
       "    </tr>\n",
       "    <tr>\n",
       "      <th>35</th>\n",
       "      <td>https://www.dov.vlaanderen.be/data/filter/2003...</td>\n",
       "      <td>185016.1000</td>\n",
       "      <td>163078.910000</td>\n",
       "      <td>1013</td>\n",
       "      <td>Hoegaarden</td>\n",
       "      <td>BLKS_1000_GWL_1S</td>\n",
       "    </tr>\n",
       "    <tr>\n",
       "      <th>36</th>\n",
       "      <td>https://www.dov.vlaanderen.be/data/filter/2003...</td>\n",
       "      <td>185016.1000</td>\n",
       "      <td>163078.910000</td>\n",
       "      <td>0620</td>\n",
       "      <td>Hoegaarden</td>\n",
       "      <td>BLKS_0600_GWL_1</td>\n",
       "    </tr>\n",
       "    <tr>\n",
       "      <th>37</th>\n",
       "      <td>https://www.dov.vlaanderen.be/data/filter/1900...</td>\n",
       "      <td>186503.0000</td>\n",
       "      <td>163167.000000</td>\n",
       "      <td>1010</td>\n",
       "      <td>Hoegaarden</td>\n",
       "      <td>NaN</td>\n",
       "    </tr>\n",
       "    <tr>\n",
       "      <th>38</th>\n",
       "      <td>https://www.dov.vlaanderen.be/data/filter/1900...</td>\n",
       "      <td>181909.0000</td>\n",
       "      <td>164540.000000</td>\n",
       "      <td>0620</td>\n",
       "      <td>Hoegaarden</td>\n",
       "      <td>NaN</td>\n",
       "    </tr>\n",
       "    <tr>\n",
       "      <th>39</th>\n",
       "      <td>https://www.dov.vlaanderen.be/data/filter/1900...</td>\n",
       "      <td>182314.0000</td>\n",
       "      <td>163083.000000</td>\n",
       "      <td>0620</td>\n",
       "      <td>Hoegaarden</td>\n",
       "      <td>NaN</td>\n",
       "    </tr>\n",
       "    <tr>\n",
       "      <th>40</th>\n",
       "      <td>https://www.dov.vlaanderen.be/data/filter/2009...</td>\n",
       "      <td>183238.0000</td>\n",
       "      <td>164224.000000</td>\n",
       "      <td>1020</td>\n",
       "      <td>Hoegaarden</td>\n",
       "      <td>NaN</td>\n",
       "    </tr>\n",
       "    <tr>\n",
       "      <th>41</th>\n",
       "      <td>https://www.dov.vlaanderen.be/data/filter/2018...</td>\n",
       "      <td>183397.0000</td>\n",
       "      <td>164470.000000</td>\n",
       "      <td>0000</td>\n",
       "      <td>Hoegaarden</td>\n",
       "      <td>NaN</td>\n",
       "    </tr>\n",
       "    <tr>\n",
       "      <th>42</th>\n",
       "      <td>https://www.dov.vlaanderen.be/data/filter/2000...</td>\n",
       "      <td>183049.0000</td>\n",
       "      <td>162811.000000</td>\n",
       "      <td>0000</td>\n",
       "      <td>Hoegaarden</td>\n",
       "      <td>NaN</td>\n",
       "    </tr>\n",
       "    <tr>\n",
       "      <th>43</th>\n",
       "      <td>https://www.dov.vlaanderen.be/data/filter/2001...</td>\n",
       "      <td>183888.0000</td>\n",
       "      <td>163119.000000</td>\n",
       "      <td>0000</td>\n",
       "      <td>Hoegaarden</td>\n",
       "      <td>NaN</td>\n",
       "    </tr>\n",
       "    <tr>\n",
       "      <th>44</th>\n",
       "      <td>https://www.dov.vlaanderen.be/data/filter/2000...</td>\n",
       "      <td>184275.0000</td>\n",
       "      <td>163019.000000</td>\n",
       "      <td>0000</td>\n",
       "      <td>Hoegaarden</td>\n",
       "      <td>NaN</td>\n",
       "    </tr>\n",
       "    <tr>\n",
       "      <th>45</th>\n",
       "      <td>https://www.dov.vlaanderen.be/data/filter/2001...</td>\n",
       "      <td>184280.0000</td>\n",
       "      <td>162952.000000</td>\n",
       "      <td>0000</td>\n",
       "      <td>Hoegaarden</td>\n",
       "      <td>NaN</td>\n",
       "    </tr>\n",
       "    <tr>\n",
       "      <th>46</th>\n",
       "      <td>https://www.dov.vlaanderen.be/data/filter/1999...</td>\n",
       "      <td>184039.0000</td>\n",
       "      <td>162255.000000</td>\n",
       "      <td>0000</td>\n",
       "      <td>Hoegaarden</td>\n",
       "      <td>NaN</td>\n",
       "    </tr>\n",
       "  </tbody>\n",
       "</table>\n",
       "</div>"
      ],
      "text/plain": [
       "                                          pkey_filter            x  \\\n",
       "0   https://www.dov.vlaanderen.be/data/filter/2003...  188318.6600   \n",
       "1   https://www.dov.vlaanderen.be/data/filter/2003...  188318.6600   \n",
       "2   https://www.dov.vlaanderen.be/data/filter/2003...  188318.6600   \n",
       "3   https://www.dov.vlaanderen.be/data/filter/1996...  183090.0000   \n",
       "4   https://www.dov.vlaanderen.be/data/filter/1900...  182178.0000   \n",
       "5   https://www.dov.vlaanderen.be/data/filter/2000...  185319.0000   \n",
       "6   https://www.dov.vlaanderen.be/data/filter/1950...  182992.0000   \n",
       "7   https://www.dov.vlaanderen.be/data/filter/2003...  185891.3600   \n",
       "8   https://www.dov.vlaanderen.be/data/filter/2003...  185891.3600   \n",
       "9   https://www.dov.vlaanderen.be/data/filter/2003...  185891.3600   \n",
       "10  https://www.dov.vlaanderen.be/data/filter/2003...  184942.2100   \n",
       "11  https://www.dov.vlaanderen.be/data/filter/2003...  184942.2100   \n",
       "12  https://www.dov.vlaanderen.be/data/filter/2003...  184942.2100   \n",
       "13  https://www.dov.vlaanderen.be/data/filter/1900...  186495.0000   \n",
       "14  https://www.dov.vlaanderen.be/data/filter/1993...  182384.0000   \n",
       "15  https://www.dov.vlaanderen.be/data/filter/1990...  186445.0000   \n",
       "16  https://www.dov.vlaanderen.be/data/filter/1993...  186583.0000   \n",
       "17  https://www.dov.vlaanderen.be/data/filter/1990...  186455.0000   \n",
       "18  https://www.dov.vlaanderen.be/data/filter/1989...  182419.0000   \n",
       "19  https://www.dov.vlaanderen.be/data/filter/2001...  185073.0000   \n",
       "20  https://www.dov.vlaanderen.be/data/filter/1984...  184960.0000   \n",
       "21  https://www.dov.vlaanderen.be/data/filter/1996...  186589.6875   \n",
       "22  https://www.dov.vlaanderen.be/data/filter/1996...  186589.6875   \n",
       "23  https://www.dov.vlaanderen.be/data/filter/1996...  186589.6875   \n",
       "24  https://www.dov.vlaanderen.be/data/filter/1996...  186589.6875   \n",
       "25  https://www.dov.vlaanderen.be/data/filter/1976...  186330.0000   \n",
       "26  https://www.dov.vlaanderen.be/data/filter/1900...  185780.0000   \n",
       "27  https://www.dov.vlaanderen.be/data/filter/1900...  182499.0000   \n",
       "28  https://www.dov.vlaanderen.be/data/filter/2003...  184098.2600   \n",
       "29  https://www.dov.vlaanderen.be/data/filter/2003...  184098.2600   \n",
       "30  https://www.dov.vlaanderen.be/data/filter/2003...  184098.2600   \n",
       "31  https://www.dov.vlaanderen.be/data/filter/2003...  183831.1400   \n",
       "32  https://www.dov.vlaanderen.be/data/filter/2003...  183831.1400   \n",
       "33  https://www.dov.vlaanderen.be/data/filter/2003...  183831.1400   \n",
       "34  https://www.dov.vlaanderen.be/data/filter/2003...  185016.1000   \n",
       "35  https://www.dov.vlaanderen.be/data/filter/2003...  185016.1000   \n",
       "36  https://www.dov.vlaanderen.be/data/filter/2003...  185016.1000   \n",
       "37  https://www.dov.vlaanderen.be/data/filter/1900...  186503.0000   \n",
       "38  https://www.dov.vlaanderen.be/data/filter/1900...  181909.0000   \n",
       "39  https://www.dov.vlaanderen.be/data/filter/1900...  182314.0000   \n",
       "40  https://www.dov.vlaanderen.be/data/filter/2009...  183238.0000   \n",
       "41  https://www.dov.vlaanderen.be/data/filter/2018...  183397.0000   \n",
       "42  https://www.dov.vlaanderen.be/data/filter/2000...  183049.0000   \n",
       "43  https://www.dov.vlaanderen.be/data/filter/2001...  183888.0000   \n",
       "44  https://www.dov.vlaanderen.be/data/filter/2000...  184275.0000   \n",
       "45  https://www.dov.vlaanderen.be/data/filter/2001...  184280.0000   \n",
       "46  https://www.dov.vlaanderen.be/data/filter/1999...  184039.0000   \n",
       "\n",
       "                y aquifer_code    gemeente grondwaterlichaam_code  \n",
       "0   160810.980000         0620  Hoegaarden        BLKS_0600_GWL_1  \n",
       "1   160810.980000         0620  Hoegaarden        BLKS_0600_GWL_1  \n",
       "2   160810.980000         1010  Hoegaarden       BLKS_1000_GWL_1S  \n",
       "3   165316.000000         0620  Hoegaarden                    NaN  \n",
       "4   165077.000000         1010  Hoegaarden                    NaN  \n",
       "5   165155.000000         1000  Hoegaarden       BLKS_1000_GWL_2S  \n",
       "6   165091.000000         1010  Hoegaarden                    NaN  \n",
       "7   165155.100000         0600  Hoegaarden        BLKS_0600_GWL_1  \n",
       "8   165155.100000         0600  Hoegaarden        BLKS_0600_GWL_1  \n",
       "9   165155.100000         0600  Hoegaarden        BLKS_0600_GWL_1  \n",
       "10  166222.490000         0620  Hoegaarden        BLKS_0600_GWL_1  \n",
       "11  166222.490000         0620  Hoegaarden        BLKS_0600_GWL_1  \n",
       "12  166222.490000         1010  Hoegaarden       BLKS_1000_GWL_2S  \n",
       "13  163102.000000         1010  Hoegaarden       BLKS_1000_GWL_1S  \n",
       "14  163674.000000         0620  Hoegaarden                    NaN  \n",
       "15  163125.000000         1010  Hoegaarden       BLKS_1000_GWL_1S  \n",
       "16  163220.000000         1010  Hoegaarden       BLKS_1000_GWL_1S  \n",
       "17  163163.000000         1010  Hoegaarden       BLKS_1000_GWL_1S  \n",
       "18  163603.000000         1010  Hoegaarden                    NaN  \n",
       "19  162229.000000         1010  Hoegaarden                    NaN  \n",
       "20  164158.000000         1010  Hoegaarden                    NaN  \n",
       "21  162369.734375         0620  Hoegaarden        BLKS_0600_GWL_1  \n",
       "22  162369.734375         1020  Hoegaarden       BLKS_1000_GWL_1S  \n",
       "23  162369.734375         1300  Hoegaarden       BLKS_1100_GWL_2S  \n",
       "24  162369.734375         1300  Hoegaarden       BLKS_1100_GWL_2S  \n",
       "25  163040.000000         1010  Hoegaarden                    NaN  \n",
       "26  164211.000000         0600  Hoegaarden                    NaN  \n",
       "27  164138.000000         1010  Hoegaarden                    NaN  \n",
       "28  163359.020000         0620  Hoegaarden        BLKS_0600_GWL_1  \n",
       "29  163359.020000         0620  Hoegaarden        BLKS_0600_GWL_1  \n",
       "30  163359.020000         0620  Hoegaarden        BLKS_0600_GWL_1  \n",
       "31  164618.330000         0620  Hoegaarden        BLKS_0600_GWL_1  \n",
       "32  164618.330000         1010  Hoegaarden       BLKS_1000_GWL_2S  \n",
       "33  164618.330000         1010  Hoegaarden       BLKS_1000_GWL_2S  \n",
       "34  163078.910000         0620  Hoegaarden        BLKS_0600_GWL_1  \n",
       "35  163078.910000         1013  Hoegaarden       BLKS_1000_GWL_1S  \n",
       "36  163078.910000         0620  Hoegaarden        BLKS_0600_GWL_1  \n",
       "37  163167.000000         1010  Hoegaarden                    NaN  \n",
       "38  164540.000000         0620  Hoegaarden                    NaN  \n",
       "39  163083.000000         0620  Hoegaarden                    NaN  \n",
       "40  164224.000000         1020  Hoegaarden                    NaN  \n",
       "41  164470.000000         0000  Hoegaarden                    NaN  \n",
       "42  162811.000000         0000  Hoegaarden                    NaN  \n",
       "43  163119.000000         0000  Hoegaarden                    NaN  \n",
       "44  163019.000000         0000  Hoegaarden                    NaN  \n",
       "45  162952.000000         0000  Hoegaarden                    NaN  \n",
       "46  162255.000000         0000  Hoegaarden                    NaN  "
      ]
     },
     "execution_count": 27,
     "metadata": {},
     "output_type": "execute_result"
    }
   ],
   "source": [
    "df"
   ]
  }
 ],
 "metadata": {
  "kernelspec": {
   "display_name": "Python 3",
   "language": "python",
   "name": "python3"
  },
  "language_info": {
   "codemirror_mode": {
    "name": "ipython",
    "version": 3
   },
   "file_extension": ".py",
   "mimetype": "text/x-python",
   "name": "python",
   "nbconvert_exporter": "python",
   "pygments_lexer": "ipython3",
   "version": "3.7.3"
  }
 },
 "nbformat": 4,
 "nbformat_minor": 2
}
