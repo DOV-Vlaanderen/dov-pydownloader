{
 "cells": [
  {
   "cell_type": "markdown",
   "metadata": {},
   "source": [
    "# Example of DOV search methods for quartaire stratigrafie"
   ]
  },
  {
   "cell_type": "markdown",
   "metadata": {},
   "source": [
    "[![Binder](https://mybinder.org/badge_logo.svg)](https://mybinder.org/v2/gh/DOV-Vlaanderen/pydov/master?filepath=docs%2Fnotebooks%2Fsearch_quartaire_stratigrafie.ipynb)"
   ]
  },
  {
   "cell_type": "markdown",
   "metadata": {},
   "source": [
    "## Use cases:\n",
    "* Select records in a bbox\n",
    "* Select records in a bbox with selected properties\n",
    "* Select records within a distance from a point\n",
    "* Select records in a municipality\n",
    "* Get records using info from wfs fields, not available in the standard output dataframe"
   ]
  },
  {
   "cell_type": "code",
   "execution_count": 1,
   "metadata": {},
   "outputs": [],
   "source": [
    "%matplotlib inline\n",
    "import os, sys\n",
    "import inspect"
   ]
  },
  {
   "cell_type": "code",
   "execution_count": 2,
   "metadata": {},
   "outputs": [],
   "source": [
    "# check pydov path\n",
    "import pydov"
   ]
  },
  {
   "cell_type": "markdown",
   "metadata": {},
   "source": [
    "## Get information about code base"
   ]
  },
  {
   "cell_type": "code",
   "execution_count": 4,
   "metadata": {},
   "outputs": [
    {
     "data": {
      "text/plain": [
       "'De quartaire afzettingen in Vlaanderen, de jongste afzettingen, zijn lateraal en verticaal heterogeen en varieren erg in dikte. De afzettingen zijn vooral onder continentale omstandigheden tot stand gekomen (rivier-, duinafzettingen). Eigenlijk zijn het pakketten die zelden meer dan 30 meter en soms zelfs minder dan 1 meter dik zijn. Omwille van deze grote eigenheid en de grote mate van detail van de beschrijvingen, werd hiervoor een eigen stratigrafische codering uitgewerkt voor Vlaanderen.'"
      ]
     },
     "execution_count": 4,
     "metadata": {},
     "output_type": "execute_result"
    }
   ],
   "source": [
    "from pydov.search.interpretaties import QuartairStratigrafieSearch\n",
    "# information about the QuartairStratigrafie type (In Dutch):\n",
    "ip_quart = QuartairStratigrafieSearch()\n",
    "ip_quart.get_description()"
   ]
  },
  {
   "cell_type": "code",
   "execution_count": 5,
   "metadata": {},
   "outputs": [
    {
     "name": "stdout",
     "output_type": "stream",
     "text": [
      "pkey_interpretatie\n",
      "Type_proef\n",
      "Proefnummer\n",
      "pkey_boring\n",
      "x\n",
      "y\n",
      "Z_mTAW\n",
      "diepte_tot_m\n",
      "gemeente\n",
      "Auteurs\n",
      "Datum\n",
      "Opdrachten\n",
      "betrouwbaarheid_interpretatie\n",
      "Geldig_van\n",
      "Geldig_tot\n",
      "diepte_laag_van\n",
      "diepte_laag_tot\n",
      "lid1\n",
      "relatie_lid1_lid2\n",
      "lid2\n"
     ]
    }
   ],
   "source": [
    "# information about the available fields for a QuartairStratigrafie object\n",
    "fields = ip_quart.get_fields()\n",
    "# print available fields\n",
    "for f in fields.values():\n",
    "    print(f['name'])"
   ]
  },
  {
   "cell_type": "code",
   "execution_count": 6,
   "metadata": {},
   "outputs": [
    {
     "data": {
      "text/plain": [
       "{'name': 'Type_proef',\n",
       " 'definition': \"Het type van de proef waarvan de quartaire stratigrafie een interpretatie is. Bij een quartaire stratigrafie zal dit altijd 'Boring' zijn.\",\n",
       " 'type': 'string',\n",
       " 'notnull': False,\n",
       " 'query': True,\n",
       " 'cost': 1,\n",
       " 'values': {'Boring': 'De quartaire stratigrafie is een interpretatie van een boring.'}}"
      ]
     },
     "execution_count": 6,
     "metadata": {},
     "output_type": "execute_result"
    }
   ],
   "source": [
    "# print information for a certain field\n",
    "fields['Type_proef']"
   ]
  },
  {
   "cell_type": "markdown",
   "metadata": {},
   "source": [
    "The cost is an arbitrary attribute to indicate if the information is retrieved from a wfs query (cost = 1), \n",
    "or from an xml (cost = 10)"
   ]
  },
  {
   "cell_type": "markdown",
   "metadata": {},
   "source": [
    "## Try-out of use cases"
   ]
  },
  {
   "cell_type": "markdown",
   "metadata": {},
   "source": [
    "### Select interpretations in a bbox"
   ]
  },
  {
   "cell_type": "code",
   "execution_count": 8,
   "metadata": {},
   "outputs": [
    {
     "name": "stdout",
     "output_type": "stream",
     "text": [
      "[000/003] ccc\n"
     ]
    },
    {
     "data": {
      "text/html": [
       "<div>\n",
       "<style scoped>\n",
       "    .dataframe tbody tr th:only-of-type {\n",
       "        vertical-align: middle;\n",
       "    }\n",
       "\n",
       "    .dataframe tbody tr th {\n",
       "        vertical-align: top;\n",
       "    }\n",
       "\n",
       "    .dataframe thead th {\n",
       "        text-align: right;\n",
       "    }\n",
       "</style>\n",
       "<table border=\"1\" class=\"dataframe\">\n",
       "  <thead>\n",
       "    <tr style=\"text-align: right;\">\n",
       "      <th></th>\n",
       "      <th>pkey_interpretatie</th>\n",
       "      <th>pkey_boring</th>\n",
       "      <th>betrouwbaarheid_interpretatie</th>\n",
       "      <th>x</th>\n",
       "      <th>y</th>\n",
       "      <th>diepte_laag_van</th>\n",
       "      <th>diepte_laag_tot</th>\n",
       "      <th>lid1</th>\n",
       "      <th>relatie_lid1_lid2</th>\n",
       "      <th>lid2</th>\n",
       "    </tr>\n",
       "  </thead>\n",
       "  <tbody>\n",
       "    <tr>\n",
       "      <th>0</th>\n",
       "      <td>https://www.dov.vlaanderen.be/data/interpretat...</td>\n",
       "      <td>https://www.dov.vlaanderen.be/data/boring/1974...</td>\n",
       "      <td>onbekend</td>\n",
       "      <td>132975.0</td>\n",
       "      <td>191969.0</td>\n",
       "      <td>0.0</td>\n",
       "      <td>4.5</td>\n",
       "      <td>K</td>\n",
       "      <td>T</td>\n",
       "      <td>K</td>\n",
       "    </tr>\n",
       "    <tr>\n",
       "      <th>1</th>\n",
       "      <td>https://www.dov.vlaanderen.be/data/interpretat...</td>\n",
       "      <td>https://www.dov.vlaanderen.be/data/boring/1974...</td>\n",
       "      <td>onbekend</td>\n",
       "      <td>132975.0</td>\n",
       "      <td>191969.0</td>\n",
       "      <td>4.5</td>\n",
       "      <td>7.5</td>\n",
       "      <td>F</td>\n",
       "      <td>T</td>\n",
       "      <td>F</td>\n",
       "    </tr>\n",
       "    <tr>\n",
       "      <th>2</th>\n",
       "      <td>https://www.dov.vlaanderen.be/data/interpretat...</td>\n",
       "      <td>https://www.dov.vlaanderen.be/data/boring/1974...</td>\n",
       "      <td>onbekend</td>\n",
       "      <td>132975.0</td>\n",
       "      <td>191969.0</td>\n",
       "      <td>7.5</td>\n",
       "      <td>8.0</td>\n",
       "      <td>Rf</td>\n",
       "      <td>T</td>\n",
       "      <td>Rf</td>\n",
       "    </tr>\n",
       "    <tr>\n",
       "      <th>3</th>\n",
       "      <td>https://www.dov.vlaanderen.be/data/interpretat...</td>\n",
       "      <td>https://www.dov.vlaanderen.be/data/boring/1974...</td>\n",
       "      <td>onbekend</td>\n",
       "      <td>132949.0</td>\n",
       "      <td>192068.0</td>\n",
       "      <td>0.0</td>\n",
       "      <td>4.5</td>\n",
       "      <td>K</td>\n",
       "      <td>T</td>\n",
       "      <td>K</td>\n",
       "    </tr>\n",
       "    <tr>\n",
       "      <th>4</th>\n",
       "      <td>https://www.dov.vlaanderen.be/data/interpretat...</td>\n",
       "      <td>https://www.dov.vlaanderen.be/data/boring/1974...</td>\n",
       "      <td>onbekend</td>\n",
       "      <td>132949.0</td>\n",
       "      <td>192068.0</td>\n",
       "      <td>4.5</td>\n",
       "      <td>9.5</td>\n",
       "      <td>F</td>\n",
       "      <td>T</td>\n",
       "      <td>F</td>\n",
       "    </tr>\n",
       "  </tbody>\n",
       "</table>\n",
       "</div>"
      ],
      "text/plain": [
       "                                  pkey_interpretatie  \\\n",
       "0  https://www.dov.vlaanderen.be/data/interpretat...   \n",
       "1  https://www.dov.vlaanderen.be/data/interpretat...   \n",
       "2  https://www.dov.vlaanderen.be/data/interpretat...   \n",
       "3  https://www.dov.vlaanderen.be/data/interpretat...   \n",
       "4  https://www.dov.vlaanderen.be/data/interpretat...   \n",
       "\n",
       "                                         pkey_boring  \\\n",
       "0  https://www.dov.vlaanderen.be/data/boring/1974...   \n",
       "1  https://www.dov.vlaanderen.be/data/boring/1974...   \n",
       "2  https://www.dov.vlaanderen.be/data/boring/1974...   \n",
       "3  https://www.dov.vlaanderen.be/data/boring/1974...   \n",
       "4  https://www.dov.vlaanderen.be/data/boring/1974...   \n",
       "\n",
       "  betrouwbaarheid_interpretatie         x         y  diepte_laag_van  \\\n",
       "0                      onbekend  132975.0  191969.0              0.0   \n",
       "1                      onbekend  132975.0  191969.0              4.5   \n",
       "2                      onbekend  132975.0  191969.0              7.5   \n",
       "3                      onbekend  132949.0  192068.0              0.0   \n",
       "4                      onbekend  132949.0  192068.0              4.5   \n",
       "\n",
       "   diepte_laag_tot lid1 relatie_lid1_lid2 lid2  \n",
       "0              4.5    K                 T    K  \n",
       "1              7.5    F                 T    F  \n",
       "2              8.0   Rf                 T   Rf  \n",
       "3              4.5    K                 T    K  \n",
       "4              9.5    F                 T    F  "
      ]
     },
     "execution_count": 8,
     "metadata": {},
     "output_type": "execute_result"
    }
   ],
   "source": [
    "from pydov.util.location import Within, Box\n",
    "\n",
    "# Get all interpretations in a bounding box (llx, lly, ulx, uly)\n",
    "# the pkey_boring link is not available below, but is in the df\n",
    "df = ip_quart.search(location=Within(Box(132815, 191700, 133815, 192700)))\n",
    "df.head()"
   ]
  },
  {
   "cell_type": "markdown",
   "metadata": {},
   "source": [
    "### Select interpretations in a bbox with selected properties"
   ]
  },
  {
   "cell_type": "code",
   "execution_count": 11,
   "metadata": {},
   "outputs": [
    {
     "data": {
      "text/plain": [
       "['PropertyIsBetween',\n",
       " 'PropertyIsEqualTo',\n",
       " 'PropertyIsGreaterThan',\n",
       " 'PropertyIsGreaterThanOrEqualTo',\n",
       " 'PropertyIsLessThan',\n",
       " 'PropertyIsLessThanOrEqualTo',\n",
       " 'PropertyIsLike',\n",
       " 'PropertyIsNotEqualTo',\n",
       " 'PropertyIsNull',\n",
       " 'SortProperty']"
      ]
     },
     "execution_count": 11,
     "metadata": {},
     "output_type": "execute_result"
    }
   ],
   "source": [
    "# list available query methods\n",
    "methods = [i for i,j in inspect.getmembers(sys.modules['owslib.fes'], \n",
    "                                           inspect.isclass) \n",
    "           if 'Property' in i]\n",
    "methods"
   ]
  },
  {
   "cell_type": "code",
   "execution_count": 12,
   "metadata": {},
   "outputs": [],
   "source": [
    "from owslib.fes import PropertyIsGreaterThanOrEqualTo"
   ]
  },
  {
   "cell_type": "markdown",
   "metadata": {},
   "source": [
    "The property feature methodes listed above are available from the owslib module. These were not adapted for use in pydov."
   ]
  },
  {
   "cell_type": "code",
   "execution_count": 15,
   "metadata": {},
   "outputs": [
    {
     "name": "stdout",
     "output_type": "stream",
     "text": [
      "[000/003] ccc\n"
     ]
    },
    {
     "data": {
      "text/html": [
       "<div>\n",
       "<style scoped>\n",
       "    .dataframe tbody tr th:only-of-type {\n",
       "        vertical-align: middle;\n",
       "    }\n",
       "\n",
       "    .dataframe tbody tr th {\n",
       "        vertical-align: top;\n",
       "    }\n",
       "\n",
       "    .dataframe thead th {\n",
       "        text-align: right;\n",
       "    }\n",
       "</style>\n",
       "<table border=\"1\" class=\"dataframe\">\n",
       "  <thead>\n",
       "    <tr style=\"text-align: right;\">\n",
       "      <th></th>\n",
       "      <th>pkey_interpretatie</th>\n",
       "      <th>pkey_boring</th>\n",
       "      <th>betrouwbaarheid_interpretatie</th>\n",
       "      <th>x</th>\n",
       "      <th>y</th>\n",
       "      <th>diepte_laag_van</th>\n",
       "      <th>diepte_laag_tot</th>\n",
       "      <th>lid1</th>\n",
       "      <th>relatie_lid1_lid2</th>\n",
       "      <th>lid2</th>\n",
       "    </tr>\n",
       "  </thead>\n",
       "  <tbody>\n",
       "    <tr>\n",
       "      <th>0</th>\n",
       "      <td>https://www.dov.vlaanderen.be/data/interpretat...</td>\n",
       "      <td>https://www.dov.vlaanderen.be/data/boring/1974...</td>\n",
       "      <td>onbekend</td>\n",
       "      <td>132975.0</td>\n",
       "      <td>191969.0</td>\n",
       "      <td>0.0</td>\n",
       "      <td>4.5</td>\n",
       "      <td>K</td>\n",
       "      <td>T</td>\n",
       "      <td>K</td>\n",
       "    </tr>\n",
       "    <tr>\n",
       "      <th>1</th>\n",
       "      <td>https://www.dov.vlaanderen.be/data/interpretat...</td>\n",
       "      <td>https://www.dov.vlaanderen.be/data/boring/1974...</td>\n",
       "      <td>onbekend</td>\n",
       "      <td>132975.0</td>\n",
       "      <td>191969.0</td>\n",
       "      <td>4.5</td>\n",
       "      <td>7.5</td>\n",
       "      <td>F</td>\n",
       "      <td>T</td>\n",
       "      <td>F</td>\n",
       "    </tr>\n",
       "    <tr>\n",
       "      <th>2</th>\n",
       "      <td>https://www.dov.vlaanderen.be/data/interpretat...</td>\n",
       "      <td>https://www.dov.vlaanderen.be/data/boring/1974...</td>\n",
       "      <td>onbekend</td>\n",
       "      <td>132975.0</td>\n",
       "      <td>191969.0</td>\n",
       "      <td>7.5</td>\n",
       "      <td>8.0</td>\n",
       "      <td>Rf</td>\n",
       "      <td>T</td>\n",
       "      <td>Rf</td>\n",
       "    </tr>\n",
       "    <tr>\n",
       "      <th>3</th>\n",
       "      <td>https://www.dov.vlaanderen.be/data/interpretat...</td>\n",
       "      <td>https://www.dov.vlaanderen.be/data/boring/1974...</td>\n",
       "      <td>onbekend</td>\n",
       "      <td>132949.0</td>\n",
       "      <td>192068.0</td>\n",
       "      <td>0.0</td>\n",
       "      <td>4.5</td>\n",
       "      <td>K</td>\n",
       "      <td>T</td>\n",
       "      <td>K</td>\n",
       "    </tr>\n",
       "    <tr>\n",
       "      <th>4</th>\n",
       "      <td>https://www.dov.vlaanderen.be/data/interpretat...</td>\n",
       "      <td>https://www.dov.vlaanderen.be/data/boring/1974...</td>\n",
       "      <td>onbekend</td>\n",
       "      <td>132949.0</td>\n",
       "      <td>192068.0</td>\n",
       "      <td>4.5</td>\n",
       "      <td>9.5</td>\n",
       "      <td>F</td>\n",
       "      <td>T</td>\n",
       "      <td>F</td>\n",
       "    </tr>\n",
       "  </tbody>\n",
       "</table>\n",
       "</div>"
      ],
      "text/plain": [
       "                                  pkey_interpretatie  \\\n",
       "0  https://www.dov.vlaanderen.be/data/interpretat...   \n",
       "1  https://www.dov.vlaanderen.be/data/interpretat...   \n",
       "2  https://www.dov.vlaanderen.be/data/interpretat...   \n",
       "3  https://www.dov.vlaanderen.be/data/interpretat...   \n",
       "4  https://www.dov.vlaanderen.be/data/interpretat...   \n",
       "\n",
       "                                         pkey_boring  \\\n",
       "0  https://www.dov.vlaanderen.be/data/boring/1974...   \n",
       "1  https://www.dov.vlaanderen.be/data/boring/1974...   \n",
       "2  https://www.dov.vlaanderen.be/data/boring/1974...   \n",
       "3  https://www.dov.vlaanderen.be/data/boring/1974...   \n",
       "4  https://www.dov.vlaanderen.be/data/boring/1974...   \n",
       "\n",
       "  betrouwbaarheid_interpretatie         x         y  diepte_laag_van  \\\n",
       "0                      onbekend  132975.0  191969.0              0.0   \n",
       "1                      onbekend  132975.0  191969.0              4.5   \n",
       "2                      onbekend  132975.0  191969.0              7.5   \n",
       "3                      onbekend  132949.0  192068.0              0.0   \n",
       "4                      onbekend  132949.0  192068.0              4.5   \n",
       "\n",
       "   diepte_laag_tot lid1 relatie_lid1_lid2 lid2  \n",
       "0              4.5    K                 T    K  \n",
       "1              7.5    F                 T    F  \n",
       "2              8.0   Rf                 T   Rf  \n",
       "3              4.5    K                 T    K  \n",
       "4              9.5    F                 T    F  "
      ]
     },
     "execution_count": 15,
     "metadata": {},
     "output_type": "execute_result"
    }
   ],
   "source": [
    "# Get deep boreholes in a bounding box \n",
    "from owslib.fes import PropertyIsLike\n",
    "# the propertyname can be any of the fields of the interpretations object that belong to the wfs source\n",
    "# the literal is always a string, no matter what its definition is in the boring object (string, float...)\n",
    "query = PropertyIsLike(\n",
    "        propertyname='betrouwbaarheid_interpretatie', literal='onbekend')\n",
    "df = ip_quart.search(location=Within(Box(132815, 191700, 133815, 192700)),\n",
    "                     query=query\n",
    "                    )\n",
    "df.head()"
   ]
  },
  {
   "cell_type": "markdown",
   "metadata": {},
   "source": [
    "### Select records within a distance from a point"
   ]
  },
  {
   "cell_type": "code",
   "execution_count": 18,
   "metadata": {},
   "outputs": [
    {
     "name": "stdout",
     "output_type": "stream",
     "text": [
      "[000/015] ccccccccccccccc\n"
     ]
    },
    {
     "data": {
      "text/html": [
       "<div>\n",
       "<style scoped>\n",
       "    .dataframe tbody tr th:only-of-type {\n",
       "        vertical-align: middle;\n",
       "    }\n",
       "\n",
       "    .dataframe tbody tr th {\n",
       "        vertical-align: top;\n",
       "    }\n",
       "\n",
       "    .dataframe thead th {\n",
       "        text-align: right;\n",
       "    }\n",
       "</style>\n",
       "<table border=\"1\" class=\"dataframe\">\n",
       "  <thead>\n",
       "    <tr style=\"text-align: right;\">\n",
       "      <th></th>\n",
       "      <th>pkey_interpretatie</th>\n",
       "      <th>pkey_boring</th>\n",
       "      <th>betrouwbaarheid_interpretatie</th>\n",
       "      <th>x</th>\n",
       "      <th>y</th>\n",
       "      <th>diepte_laag_van</th>\n",
       "      <th>diepte_laag_tot</th>\n",
       "      <th>lid1</th>\n",
       "      <th>relatie_lid1_lid2</th>\n",
       "      <th>lid2</th>\n",
       "    </tr>\n",
       "  </thead>\n",
       "  <tbody>\n",
       "    <tr>\n",
       "      <th>0</th>\n",
       "      <td>https://www.dov.vlaanderen.be/data/interpretat...</td>\n",
       "      <td>https://www.dov.vlaanderen.be/data/boring/1943...</td>\n",
       "      <td>onbekend</td>\n",
       "      <td>132089.0</td>\n",
       "      <td>191777.0</td>\n",
       "      <td>0.00</td>\n",
       "      <td>1.00</td>\n",
       "      <td>K</td>\n",
       "      <td>T</td>\n",
       "      <td>K</td>\n",
       "    </tr>\n",
       "    <tr>\n",
       "      <th>1</th>\n",
       "      <td>https://www.dov.vlaanderen.be/data/interpretat...</td>\n",
       "      <td>https://www.dov.vlaanderen.be/data/boring/1943...</td>\n",
       "      <td>onbekend</td>\n",
       "      <td>132089.0</td>\n",
       "      <td>191777.0</td>\n",
       "      <td>1.00</td>\n",
       "      <td>1.50</td>\n",
       "      <td>D</td>\n",
       "      <td>T</td>\n",
       "      <td>D</td>\n",
       "    </tr>\n",
       "    <tr>\n",
       "      <th>2</th>\n",
       "      <td>https://www.dov.vlaanderen.be/data/interpretat...</td>\n",
       "      <td>https://www.dov.vlaanderen.be/data/boring/1943...</td>\n",
       "      <td>onbekend</td>\n",
       "      <td>132089.0</td>\n",
       "      <td>191777.0</td>\n",
       "      <td>1.50</td>\n",
       "      <td>9.00</td>\n",
       "      <td>F</td>\n",
       "      <td>T</td>\n",
       "      <td>F</td>\n",
       "    </tr>\n",
       "    <tr>\n",
       "      <th>3</th>\n",
       "      <td>https://www.dov.vlaanderen.be/data/interpretat...</td>\n",
       "      <td>https://www.dov.vlaanderen.be/data/boring/1943...</td>\n",
       "      <td>onbekend</td>\n",
       "      <td>132089.0</td>\n",
       "      <td>191777.0</td>\n",
       "      <td>9.00</td>\n",
       "      <td>12.05</td>\n",
       "      <td>Rf</td>\n",
       "      <td>T</td>\n",
       "      <td>Rf</td>\n",
       "    </tr>\n",
       "    <tr>\n",
       "      <th>4</th>\n",
       "      <td>https://www.dov.vlaanderen.be/data/interpretat...</td>\n",
       "      <td>https://www.dov.vlaanderen.be/data/boring/1943...</td>\n",
       "      <td>onbekend</td>\n",
       "      <td>132089.0</td>\n",
       "      <td>191777.0</td>\n",
       "      <td>12.05</td>\n",
       "      <td>30.00</td>\n",
       "      <td>$</td>\n",
       "      <td>T</td>\n",
       "      <td>$</td>\n",
       "    </tr>\n",
       "  </tbody>\n",
       "</table>\n",
       "</div>"
      ],
      "text/plain": [
       "                                  pkey_interpretatie  \\\n",
       "0  https://www.dov.vlaanderen.be/data/interpretat...   \n",
       "1  https://www.dov.vlaanderen.be/data/interpretat...   \n",
       "2  https://www.dov.vlaanderen.be/data/interpretat...   \n",
       "3  https://www.dov.vlaanderen.be/data/interpretat...   \n",
       "4  https://www.dov.vlaanderen.be/data/interpretat...   \n",
       "\n",
       "                                         pkey_boring  \\\n",
       "0  https://www.dov.vlaanderen.be/data/boring/1943...   \n",
       "1  https://www.dov.vlaanderen.be/data/boring/1943...   \n",
       "2  https://www.dov.vlaanderen.be/data/boring/1943...   \n",
       "3  https://www.dov.vlaanderen.be/data/boring/1943...   \n",
       "4  https://www.dov.vlaanderen.be/data/boring/1943...   \n",
       "\n",
       "  betrouwbaarheid_interpretatie         x         y  diepte_laag_van  \\\n",
       "0                      onbekend  132089.0  191777.0             0.00   \n",
       "1                      onbekend  132089.0  191777.0             1.00   \n",
       "2                      onbekend  132089.0  191777.0             1.50   \n",
       "3                      onbekend  132089.0  191777.0             9.00   \n",
       "4                      onbekend  132089.0  191777.0            12.05   \n",
       "\n",
       "   diepte_laag_tot lid1 relatie_lid1_lid2 lid2  \n",
       "0             1.00    K                 T    K  \n",
       "1             1.50    D                 T    D  \n",
       "2             9.00    F                 T    F  \n",
       "3            12.05   Rf                 T   Rf  \n",
       "4            30.00    $                 T    $  "
      ]
     },
     "execution_count": 18,
     "metadata": {},
     "output_type": "execute_result"
    }
   ],
   "source": [
    "from pydov.util.location import Point, WithinDistance\n",
    "\n",
    "# Get all interpretations within a defined distance from a point\n",
    "location = WithinDistance(location=Point(133000, 192000),\n",
    "                          distance=1000, distance_unit='meter')\n",
    "df = ip_quart.search(location=location)\n",
    "df.head()"
   ]
  },
  {
   "cell_type": "markdown",
   "metadata": {},
   "source": [
    "### Select interpretations in a municipality"
   ]
  },
  {
   "cell_type": "code",
   "execution_count": 19,
   "metadata": {},
   "outputs": [
    {
     "name": "stdout",
     "output_type": "stream",
     "text": [
      "[000/028] ............................\n"
     ]
    },
    {
     "data": {
      "text/html": [
       "<div>\n",
       "<style scoped>\n",
       "    .dataframe tbody tr th:only-of-type {\n",
       "        vertical-align: middle;\n",
       "    }\n",
       "\n",
       "    .dataframe tbody tr th {\n",
       "        vertical-align: top;\n",
       "    }\n",
       "\n",
       "    .dataframe thead th {\n",
       "        text-align: right;\n",
       "    }\n",
       "</style>\n",
       "<table border=\"1\" class=\"dataframe\">\n",
       "  <thead>\n",
       "    <tr style=\"text-align: right;\">\n",
       "      <th></th>\n",
       "      <th>pkey_interpretatie</th>\n",
       "      <th>pkey_boring</th>\n",
       "      <th>betrouwbaarheid_interpretatie</th>\n",
       "      <th>x</th>\n",
       "      <th>y</th>\n",
       "      <th>diepte_laag_van</th>\n",
       "      <th>diepte_laag_tot</th>\n",
       "      <th>lid1</th>\n",
       "      <th>relatie_lid1_lid2</th>\n",
       "      <th>lid2</th>\n",
       "    </tr>\n",
       "  </thead>\n",
       "  <tbody>\n",
       "    <tr>\n",
       "      <th>0</th>\n",
       "      <td>https://www.dov.vlaanderen.be/data/interpretat...</td>\n",
       "      <td>https://www.dov.vlaanderen.be/data/boring/1930...</td>\n",
       "      <td>onbekend</td>\n",
       "      <td>135738.8</td>\n",
       "      <td>193299.5</td>\n",
       "      <td>0.0</td>\n",
       "      <td>13.40</td>\n",
       "      <td>ô</td>\n",
       "      <td>T</td>\n",
       "      <td>F</td>\n",
       "    </tr>\n",
       "    <tr>\n",
       "      <th>1</th>\n",
       "      <td>https://www.dov.vlaanderen.be/data/interpretat...</td>\n",
       "      <td>https://www.dov.vlaanderen.be/data/boring/1930...</td>\n",
       "      <td>onbekend</td>\n",
       "      <td>135738.8</td>\n",
       "      <td>193299.5</td>\n",
       "      <td>13.4</td>\n",
       "      <td>35.00</td>\n",
       "      <td>$</td>\n",
       "      <td>T</td>\n",
       "      <td>$</td>\n",
       "    </tr>\n",
       "    <tr>\n",
       "      <th>2</th>\n",
       "      <td>https://www.dov.vlaanderen.be/data/interpretat...</td>\n",
       "      <td>https://www.dov.vlaanderen.be/data/boring/1935...</td>\n",
       "      <td>onbekend</td>\n",
       "      <td>133638.2</td>\n",
       "      <td>197756.1</td>\n",
       "      <td>0.0</td>\n",
       "      <td>3.50</td>\n",
       "      <td>D</td>\n",
       "      <td>T</td>\n",
       "      <td>D</td>\n",
       "    </tr>\n",
       "    <tr>\n",
       "      <th>3</th>\n",
       "      <td>https://www.dov.vlaanderen.be/data/interpretat...</td>\n",
       "      <td>https://www.dov.vlaanderen.be/data/boring/1935...</td>\n",
       "      <td>onbekend</td>\n",
       "      <td>133638.2</td>\n",
       "      <td>197756.1</td>\n",
       "      <td>3.5</td>\n",
       "      <td>16.50</td>\n",
       "      <td>F</td>\n",
       "      <td>T</td>\n",
       "      <td>F</td>\n",
       "    </tr>\n",
       "    <tr>\n",
       "      <th>4</th>\n",
       "      <td>https://www.dov.vlaanderen.be/data/interpretat...</td>\n",
       "      <td>https://www.dov.vlaanderen.be/data/boring/1935...</td>\n",
       "      <td>onbekend</td>\n",
       "      <td>133638.2</td>\n",
       "      <td>197756.1</td>\n",
       "      <td>16.5</td>\n",
       "      <td>54.95</td>\n",
       "      <td>$</td>\n",
       "      <td>T</td>\n",
       "      <td>$</td>\n",
       "    </tr>\n",
       "  </tbody>\n",
       "</table>\n",
       "</div>"
      ],
      "text/plain": [
       "                                  pkey_interpretatie  \\\n",
       "0  https://www.dov.vlaanderen.be/data/interpretat...   \n",
       "1  https://www.dov.vlaanderen.be/data/interpretat...   \n",
       "2  https://www.dov.vlaanderen.be/data/interpretat...   \n",
       "3  https://www.dov.vlaanderen.be/data/interpretat...   \n",
       "4  https://www.dov.vlaanderen.be/data/interpretat...   \n",
       "\n",
       "                                         pkey_boring  \\\n",
       "0  https://www.dov.vlaanderen.be/data/boring/1930...   \n",
       "1  https://www.dov.vlaanderen.be/data/boring/1930...   \n",
       "2  https://www.dov.vlaanderen.be/data/boring/1935...   \n",
       "3  https://www.dov.vlaanderen.be/data/boring/1935...   \n",
       "4  https://www.dov.vlaanderen.be/data/boring/1935...   \n",
       "\n",
       "  betrouwbaarheid_interpretatie         x         y  diepte_laag_van  \\\n",
       "0                      onbekend  135738.8  193299.5              0.0   \n",
       "1                      onbekend  135738.8  193299.5             13.4   \n",
       "2                      onbekend  133638.2  197756.1              0.0   \n",
       "3                      onbekend  133638.2  197756.1              3.5   \n",
       "4                      onbekend  133638.2  197756.1             16.5   \n",
       "\n",
       "   diepte_laag_tot lid1 relatie_lid1_lid2 lid2  \n",
       "0            13.40    ô                 T    F  \n",
       "1            35.00    $                 T    $  \n",
       "2             3.50    D                 T    D  \n",
       "3            16.50    F                 T    F  \n",
       "4            54.95    $                 T    $  "
      ]
     },
     "execution_count": 19,
     "metadata": {},
     "output_type": "execute_result"
    }
   ],
   "source": [
    "from owslib.fes import PropertyIsEqualTo\n",
    "query = PropertyIsEqualTo(propertyname='gemeente',\n",
    "                          literal='Hamme')\n",
    "df = ip_quart.search(query=query)\n",
    "df.head()"
   ]
  },
  {
   "cell_type": "markdown",
   "metadata": {},
   "source": [
    "### Visualize results"
   ]
  },
  {
   "cell_type": "markdown",
   "metadata": {},
   "source": [
    "Using Folium, we can display the results of our search on a map."
   ]
  },
  {
   "cell_type": "code",
   "execution_count": 22,
   "metadata": {},
   "outputs": [],
   "source": [
    "# import the necessary modules (not included in the requirements of pydov!)\n",
    "import folium\n",
    "from folium.plugins import MarkerCluster\n",
    "from pyproj import Transformer\n",
    "# for windows 10 users, we could not get it working with Microsoft Edge\n",
    "# change the browser to Chrome in the Notebook config file instead"
   ]
  },
  {
   "cell_type": "code",
   "execution_count": 23,
   "metadata": {},
   "outputs": [],
   "source": [
    "# convert the coordinates to lat/lon for folium\n",
    "def convert_latlon(x1, y1):\n",
    "    transformer = Transformer.from_crs(\"epsg:31370\", \"epsg:4326\", always_xy=True)\n",
    "    x2,y2 = transformer.transform(x1, y1)\n",
    "    return x2, y2\n",
    "\n",
    "df['lon'], df['lat'] = zip(*map(convert_latlon, df['x'], df['y'])) \n",
    "# convert to list\n",
    "loclist = df[['lat', 'lon']].values.tolist()"
   ]
  },
  {
   "cell_type": "code",
   "execution_count": 24,
   "metadata": {
    "scrolled": true
   },
   "outputs": [
    {
     "data": {
      "text/html": [
       "<div style=\"width:100%;\"><div style=\"position:relative;width:100%;height:0;padding-bottom:60%;\"><span style=\"color:#565656\">Make this Notebook Trusted to load map: File -> Trust Notebook</span><iframe src=\"about:blank\" style=\"position:absolute;width:100%;height:100%;left:0;top:0;border:none !important;\" data-html=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 onload=\"this.contentDocument.open();this.contentDocument.write(atob(this.getAttribute('data-html')));this.contentDocument.close();\" allowfullscreen webkitallowfullscreen mozallowfullscreen></iframe></div></div>"
      ],
      "text/plain": [
       "<folium.folium.Map at 0x7fe1cf621cd0>"
      ]
     },
     "execution_count": 24,
     "metadata": {},
     "output_type": "execute_result"
    }
   ],
   "source": [
    "# initialize the Folium map on the centre of the selected locations, play with the zoom until ok\n",
    "fmap = folium.Map(location=[df['lat'].mean(), df['lon'].mean()], zoom_start=12)\n",
    "marker_cluster = MarkerCluster().add_to(fmap)\n",
    "for loc in range(0, len(loclist)):\n",
    "    folium.Marker(loclist[loc], popup=df['lid1'][loc]).add_to(marker_cluster)\n",
    "fmap"
   ]
  },
  {
   "cell_type": "code",
   "execution_count": null,
   "metadata": {
    "collapsed": true,
    "jupyter": {
     "outputs_hidden": true
    }
   },
   "outputs": [],
   "source": []
  }
 ],
 "metadata": {
  "kernelspec": {
   "display_name": "Python 3",
   "language": "python",
   "name": "python3"
  },
  "language_info": {
   "codemirror_mode": {
    "name": "ipython",
    "version": 3
   },
   "file_extension": ".py",
   "mimetype": "text/x-python",
   "name": "python",
   "nbconvert_exporter": "python",
   "pygments_lexer": "ipython3",
   "version": "3.7.6"
  }
 },
 "nbformat": 4,
 "nbformat_minor": 4
}
