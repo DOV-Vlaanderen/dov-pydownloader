{
 "cells": [
  {
   "cell_type": "markdown",
   "metadata": {},
   "source": [
    "# Example of DOV search methods for bodem objects"
   ]
  },
  {
   "cell_type": "markdown",
   "metadata": {},
   "source": [
    "[![Binder](https://mybinder.org/badge_logo.svg)](https://mybinder.org/v2/gh/DOV-Vlaanderen/pydov/master?filepath=docs%2Fnotebooks%2Fsearch_boringen.ipynb)"
   ]
  },
  {
   "cell_type": "markdown",
   "metadata": {},
   "source": [
    "## Use cases explained below\n",
    "* Introduction to the bodem-objects\n",
    "* Get bodemsites in a bounding box\n",
    "* Get bodemlocaties with specific properties\n",
    "* Get all direct and indirect bodemobservaties linked to a bodemlocatie\n",
    "* Get all bodemobservaties in a bodemmonster\n",
    "* Find all bodemlocaties where observations exist for organic carbon percentage in East-Flanders between 0 and 30 cm deep\n",
    "* Calculate carbon stock in Ghent in the layer 0 - 23 cm"
   ]
  },
  {
   "cell_type": "code",
   "execution_count": 1,
   "metadata": {},
   "outputs": [],
   "source": [
    "%matplotlib inline\n",
    "\n",
    "import inspect, sys\n",
    "import warnings; warnings.simplefilter('ignore')"
   ]
  },
  {
   "cell_type": "code",
   "execution_count": 2,
   "metadata": {},
   "outputs": [],
   "source": [
    "# check pydov path\n",
    "import pydov"
   ]
  },
  {
   "cell_type": "markdown",
   "metadata": {},
   "source": [
    "## Get information about the datatype 'Bodemlocatie'"
   ]
  },
  {
   "cell_type": "markdown",
   "metadata": {},
   "source": [
    "Other datatypes are also possible:\n",
    "* Bodemsite: BodemsiteSearch\n",
    "* Bodemmonster: BodemmonsterSearch\n",
    "* Bodemobservatie: BodemobservatieSearch"
   ]
  },
  {
   "cell_type": "code",
   "execution_count": 3,
   "metadata": {},
   "outputs": [],
   "source": [
    "from pydov.search.bodemlocatie import BodemlocatieSearch\n",
    "bodemlocatie = BodemlocatieSearch()"
   ]
  },
  {
   "cell_type": "markdown",
   "metadata": {},
   "source": [
    "A description is provided for the 'Bodemlocatie' datatype:"
   ]
  },
  {
   "cell_type": "code",
   "execution_count": 4,
   "metadata": {},
   "outputs": [
    {
     "data": {
      "text/plain": [
       "\"Een bodemlocatie is ofwel een profielput of een boring. Een boring is altijd één puntlocatie (x,y,z) en een profielput heeft minimum één en maximum twee puntlocaties (begin- en eindpunt van de profielput). \\r\\nEen profielput is een uitgegraven put in de bodem waarin profielbeschrijvingen, monsternames of bodemobservaties worden uitgevoerd. Een profielbeschrijving is een waarneming van bodemhorizonten en/of bodemlagen in een uitgegraven profielput. Een bodemhorizont is een visueel te onderscheiden deel van de bodem dat ontstaan is door omzetting van het moedermateriaal door pedogenetische processen of door het afzetten van organisch materiaal. Een bodemhorizont heeft voor de meeste bodemvariabelen homogene morfologische en analytische karakteristieken. Een bodemlaag daarentegen is ontstaan door niet-pedogenetische processen. Aan de hand van een profielput krijg je een beeld van de bodemkundige opbouw.\\r\\nEen boring is het resultaat van het boren in de ondergrond met verwijdering van bodem door middel van een gereedschap in de vorm van een holle buis. Aan de hand van dit opgeboorde bodemmateriaal worden bodembeschrijvingen, bodemobservaties en monsternames uitgevoerd.\\r\\nDe bodemlocaties uit de 'Aardewerk-Vlaanderen-2010' databank worden afzonderlijk ontsloten in de datasets 'Bodemprofielen kartering Belgische bodemkaart' en 'Oppervlaktemonsters kartering Belgische bodemkaart'.\""
      ]
     },
     "execution_count": 4,
     "metadata": {},
     "output_type": "execute_result"
    }
   ],
   "source": [
    "bodemlocatie.get_description()"
   ]
  },
  {
   "cell_type": "markdown",
   "metadata": {},
   "source": [
    "The different fields that are available for objects of the 'Bodemlocatie' datatype can be requested with the get_fields() method:"
   ]
  },
  {
   "cell_type": "code",
   "execution_count": 5,
   "metadata": {},
   "outputs": [
    {
     "name": "stdout",
     "output_type": "stream",
     "text": [
      "naam\n",
      "pkey_bodemlocatie\n",
      "type\n",
      "rapport_bodemlocatie\n",
      "profielbeschrijving\n",
      "waarnemingsdatum\n",
      "doel\n",
      "x\n",
      "y\n",
      "mv_mtaw\n",
      "Auteurs\n",
      "Aantal_classificaties\n",
      "Aantal_opbouwen\n",
      "erfgoed\n",
      "Aantal_observaties\n",
      "Aantal_monsters\n",
      "bodemstreek\n",
      "Bodemsite\n",
      "pkey_bodemsite\n",
      "Opdrachten\n",
      "invoerdatum\n",
      "educatieve_waarde\n"
     ]
    }
   ],
   "source": [
    "fields = bodemlocatie.get_fields()\n",
    "\n",
    "# print available fields\n",
    "for f in fields.values():\n",
    "    print(f['name'])"
   ]
  },
  {
   "cell_type": "markdown",
   "metadata": {},
   "source": [
    "You can get more information of a field by requesting it from the fields dictionary:\n",
    "* *name*: name of the field\n",
    "* *definition*: definition of this field\n",
    "* *cost*: currently this is either 1 or 10, depending on the datasource of the field. It is an indication of the expected time it will take to retrieve this field in the output dataframe.\n",
    "* *notnull*: whether the field is mandatory or not\n",
    "* *type*: datatype of the values of this field"
   ]
  },
  {
   "cell_type": "code",
   "execution_count": 6,
   "metadata": {},
   "outputs": [
    {
     "data": {
      "text/plain": [
       "{'name': 'type',\n",
       " 'definition': 'Het type van de bodemlocatie: boring of profielput.',\n",
       " 'type': 'string',\n",
       " 'notnull': False,\n",
       " 'query': True,\n",
       " 'cost': 1,\n",
       " 'values': {'boring': 'Een boring is het resultaat van het boren in de ondergrond met verwijdering van bodem door middel van een gereedschap in de vorm van een holle buis. Aan de hand van dit opgeboorde bodemmateriaal worden bodembeschrijvingen, bodemobservaties en monsternames uitgevoerd.',\n",
       "  'profielput': 'Een profielput is een uitgegraven put in de bodem waarin profielbeschrijvingen, monsternames of bodemobservaties worden uitgevoerd. Een profielbeschrijving is een waarneming van bodemhorizonten en/of bodemlagen in een uitgegraven profielput. Een bodemhorizont is een visueel te onderscheiden deel van de bodem dat ontstaan is door omzetting van het moedermateriaal door pedogenetische processen of door het afzetten van organisch materiaal. Een bodemhorizont heeft voor de meeste bodemvariabelen homogene morfologische en analytische karakteristieken. Een bodemlaag daarentegen is ontstaan door niet-pedogenetische processen. Aan de hand van een profielput krijg je een beeld van de bodemkundige opbouw.'}}"
      ]
     },
     "execution_count": 6,
     "metadata": {},
     "output_type": "execute_result"
    }
   ],
   "source": [
    "fields['type']"
   ]
  },
  {
   "cell_type": "markdown",
   "metadata": {},
   "source": [
    "Optionally, if the values of the field have a specific domain the possible values are listed as *values*:"
   ]
  },
  {
   "cell_type": "code",
   "execution_count": 7,
   "metadata": {},
   "outputs": [
    {
     "data": {
      "text/plain": [
       "{'boring': 'Een boring is het resultaat van het boren in de ondergrond met verwijdering van bodem door middel van een gereedschap in de vorm van een holle buis. Aan de hand van dit opgeboorde bodemmateriaal worden bodembeschrijvingen, bodemobservaties en monsternames uitgevoerd.',\n",
       " 'profielput': 'Een profielput is een uitgegraven put in de bodem waarin profielbeschrijvingen, monsternames of bodemobservaties worden uitgevoerd. Een profielbeschrijving is een waarneming van bodemhorizonten en/of bodemlagen in een uitgegraven profielput. Een bodemhorizont is een visueel te onderscheiden deel van de bodem dat ontstaan is door omzetting van het moedermateriaal door pedogenetische processen of door het afzetten van organisch materiaal. Een bodemhorizont heeft voor de meeste bodemvariabelen homogene morfologische en analytische karakteristieken. Een bodemlaag daarentegen is ontstaan door niet-pedogenetische processen. Aan de hand van een profielput krijg je een beeld van de bodemkundige opbouw.'}"
      ]
     },
     "execution_count": 7,
     "metadata": {},
     "output_type": "execute_result"
    }
   ],
   "source": [
    "fields['type']['values']"
   ]
  },
  {
   "cell_type": "markdown",
   "metadata": {},
   "source": [
    "## Example use cases"
   ]
  },
  {
   "cell_type": "markdown",
   "metadata": {},
   "source": [
    "### Get bodemsites in a bounding box"
   ]
  },
  {
   "cell_type": "markdown",
   "metadata": {},
   "source": [
    "Get data for all the bodemsites that are geographically located completely within the bounds of the specified box.\n",
    "\n",
    "The coordinates are in the Belgian Lambert72 (EPSG:31370) coordinate system and are given in the order of lower left x, lower left y, upper right x, upper right y."
   ]
  },
  {
   "cell_type": "markdown",
   "metadata": {},
   "source": [
    "The same methods can be used for other bodem objects."
   ]
  },
  {
   "cell_type": "code",
   "execution_count": 8,
   "metadata": {},
   "outputs": [],
   "source": [
    "from pydov.search.bodemsite import BodemsiteSearch\n",
    "bodemsite = BodemsiteSearch()"
   ]
  },
  {
   "cell_type": "code",
   "execution_count": 9,
   "metadata": {},
   "outputs": [
    {
     "name": "stdout",
     "output_type": "stream",
     "text": [
      "[000/007] ccccccc\n"
     ]
    },
    {
     "data": {
      "text/html": [
       "<div>\n",
       "<style scoped>\n",
       "    .dataframe tbody tr th:only-of-type {\n",
       "        vertical-align: middle;\n",
       "    }\n",
       "\n",
       "    .dataframe tbody tr th {\n",
       "        vertical-align: top;\n",
       "    }\n",
       "\n",
       "    .dataframe thead th {\n",
       "        text-align: right;\n",
       "    }\n",
       "</style>\n",
       "<table border=\"1\" class=\"dataframe\">\n",
       "  <thead>\n",
       "    <tr style=\"text-align: right;\">\n",
       "      <th></th>\n",
       "      <th>pkey_bodemsite</th>\n",
       "      <th>naam</th>\n",
       "      <th>waarnemingsdatum</th>\n",
       "      <th>beschrijving</th>\n",
       "      <th>invoerdatum</th>\n",
       "    </tr>\n",
       "  </thead>\n",
       "  <tbody>\n",
       "    <tr>\n",
       "      <th>0</th>\n",
       "      <td>https://www.dov.vlaanderen.be/data/bodemsite/2...</td>\n",
       "      <td>Zoniënwoud_Groenendaal</td>\n",
       "      <td>NaN</td>\n",
       "      <td>Zachte helling op plateau, Bodem nooit onder l...</td>\n",
       "      <td>NaN</td>\n",
       "    </tr>\n",
       "    <tr>\n",
       "      <th>1</th>\n",
       "      <td>https://www.dov.vlaanderen.be/data/bodemsite/2...</td>\n",
       "      <td>Zoniënwoud_Rood Klooster</td>\n",
       "      <td>NaN</td>\n",
       "      <td>Zeer zachte helling op plateau</td>\n",
       "      <td>NaN</td>\n",
       "    </tr>\n",
       "    <tr>\n",
       "      <th>2</th>\n",
       "      <td>https://www.dov.vlaanderen.be/data/bodemsite/1...</td>\n",
       "      <td>Zoniënwoud_Tertiair</td>\n",
       "      <td>1983-01-01</td>\n",
       "      <td>NNW gerichte helling van een 10% langs vallei ...</td>\n",
       "      <td>NaN</td>\n",
       "    </tr>\n",
       "    <tr>\n",
       "      <th>3</th>\n",
       "      <td>https://www.dov.vlaanderen.be/data/bodemsite/2...</td>\n",
       "      <td>Zoniënwoud_Sint_Hubertusdreef</td>\n",
       "      <td>NaN</td>\n",
       "      <td>Hoofd van een concave droge vallei (del), depr...</td>\n",
       "      <td>NaN</td>\n",
       "    </tr>\n",
       "    <tr>\n",
       "      <th>4</th>\n",
       "      <td>https://www.dov.vlaanderen.be/data/bodemsite/2...</td>\n",
       "      <td>Watermaal-Bosvoorde_Zoniënwoud</td>\n",
       "      <td>2011-06-14</td>\n",
       "      <td>bos</td>\n",
       "      <td>NaN</td>\n",
       "    </tr>\n",
       "  </tbody>\n",
       "</table>\n",
       "</div>"
      ],
      "text/plain": [
       "                                      pkey_bodemsite  \\\n",
       "0  https://www.dov.vlaanderen.be/data/bodemsite/2...   \n",
       "1  https://www.dov.vlaanderen.be/data/bodemsite/2...   \n",
       "2  https://www.dov.vlaanderen.be/data/bodemsite/1...   \n",
       "3  https://www.dov.vlaanderen.be/data/bodemsite/2...   \n",
       "4  https://www.dov.vlaanderen.be/data/bodemsite/2...   \n",
       "\n",
       "                             naam waarnemingsdatum  \\\n",
       "0          Zoniënwoud_Groenendaal              NaN   \n",
       "1        Zoniënwoud_Rood Klooster              NaN   \n",
       "2             Zoniënwoud_Tertiair       1983-01-01   \n",
       "3   Zoniënwoud_Sint_Hubertusdreef              NaN   \n",
       "4  Watermaal-Bosvoorde_Zoniënwoud       2011-06-14   \n",
       "\n",
       "                                        beschrijving  invoerdatum  \n",
       "0  Zachte helling op plateau, Bodem nooit onder l...          NaN  \n",
       "1                     Zeer zachte helling op plateau          NaN  \n",
       "2  NNW gerichte helling van een 10% langs vallei ...          NaN  \n",
       "3  Hoofd van een concave droge vallei (del), depr...          NaN  \n",
       "4                                                bos          NaN  "
      ]
     },
     "execution_count": 9,
     "metadata": {},
     "output_type": "execute_result"
    }
   ],
   "source": [
    "from pydov.util.location import Within, Box\n",
    "\n",
    "df = bodemsite.search(location=Within(Box(148000, 160800, 160000, 169500)))\n",
    "df.head()"
   ]
  },
  {
   "cell_type": "markdown",
   "metadata": {},
   "source": [
    "The dataframe contains a list of bodemsites. The available data are flattened to represent unique attributes per row of the dataframe.\n",
    "\n",
    "Using the *pkey_bodemsite* field one can request the details of this bodemsite in a webbrowser:"
   ]
  },
  {
   "cell_type": "code",
   "execution_count": 10,
   "metadata": {},
   "outputs": [
    {
     "name": "stdout",
     "output_type": "stream",
     "text": [
      "https://www.dov.vlaanderen.be/data/bodemsite/2017-000215\n",
      "https://www.dov.vlaanderen.be/data/bodemsite/2017-000229\n",
      "https://www.dov.vlaanderen.be/data/bodemsite/2017-000306\n",
      "https://www.dov.vlaanderen.be/data/bodemsite/2017-000210\n",
      "https://www.dov.vlaanderen.be/data/bodemsite/2011-000247\n",
      "https://www.dov.vlaanderen.be/data/bodemsite/1983-000216\n",
      "https://www.dov.vlaanderen.be/data/bodemsite/2017-000305\n"
     ]
    }
   ],
   "source": [
    "for pkey_bodemsite in set(df.pkey_bodemsite):\n",
    "    print(pkey_bodemsite)"
   ]
  },
  {
   "cell_type": "markdown",
   "metadata": {},
   "source": [
    "### Get bodemlocaties with specific properties"
   ]
  },
  {
   "cell_type": "markdown",
   "metadata": {},
   "source": [
    "Next to querying bodem objects based on their geographic location within a bounding box, we can also search for bodem objects matching a specific set of properties. \n",
    "The same methods can be used for all bodem objects.\n",
    "For this we can build a query using a combination of the 'Bodemlocatie' fields and operators provided by the WFS protocol.\n",
    "\n",
    "A list of possible operators can be found below:"
   ]
  },
  {
   "cell_type": "code",
   "execution_count": 11,
   "metadata": {},
   "outputs": [
    {
     "data": {
      "text/plain": [
       "['PropertyIsBetween',\n",
       " 'PropertyIsEqualTo',\n",
       " 'PropertyIsGreaterThan',\n",
       " 'PropertyIsGreaterThanOrEqualTo',\n",
       " 'PropertyIsLessThan',\n",
       " 'PropertyIsLessThanOrEqualTo',\n",
       " 'PropertyIsLike',\n",
       " 'PropertyIsNotEqualTo',\n",
       " 'PropertyIsNull',\n",
       " 'SortProperty']"
      ]
     },
     "execution_count": 11,
     "metadata": {},
     "output_type": "execute_result"
    }
   ],
   "source": [
    "[i for i,j in inspect.getmembers(sys.modules['owslib.fes'], inspect.isclass) if 'Property' in i]"
   ]
  },
  {
   "cell_type": "markdown",
   "metadata": {},
   "source": [
    "In this example we build a query using the *PropertyIsEqualTo* operator to find all bodemlocaties with bodemstreek 'zandstreek'.\n",
    "We use *max_features=10* to limit the results to 10."
   ]
  },
  {
   "cell_type": "code",
   "execution_count": 12,
   "metadata": {},
   "outputs": [
    {
     "name": "stdout",
     "output_type": "stream",
     "text": [
      "[000/010] cccccccccc\n"
     ]
    },
    {
     "data": {
      "text/html": [
       "<div>\n",
       "<style scoped>\n",
       "    .dataframe tbody tr th:only-of-type {\n",
       "        vertical-align: middle;\n",
       "    }\n",
       "\n",
       "    .dataframe tbody tr th {\n",
       "        vertical-align: top;\n",
       "    }\n",
       "\n",
       "    .dataframe thead th {\n",
       "        text-align: right;\n",
       "    }\n",
       "</style>\n",
       "<table border=\"1\" class=\"dataframe\">\n",
       "  <thead>\n",
       "    <tr style=\"text-align: right;\">\n",
       "      <th></th>\n",
       "      <th>pkey_bodemlocatie</th>\n",
       "      <th>pkey_bodemsite</th>\n",
       "      <th>naam</th>\n",
       "      <th>type</th>\n",
       "      <th>waarnemingsdatum</th>\n",
       "      <th>doel</th>\n",
       "      <th>x</th>\n",
       "      <th>y</th>\n",
       "      <th>mv_mtaw</th>\n",
       "      <th>erfgoed</th>\n",
       "      <th>bodemstreek</th>\n",
       "      <th>invoerdatum</th>\n",
       "      <th>educatieve_waarde</th>\n",
       "    </tr>\n",
       "  </thead>\n",
       "  <tbody>\n",
       "    <tr>\n",
       "      <th>0</th>\n",
       "      <td>https://www.dov.vlaanderen.be/data/bodemlocati...</td>\n",
       "      <td>https://www.dov.vlaanderen.be/data/bodemsite/2...</td>\n",
       "      <td>KULEU_30</td>\n",
       "      <td>profielput</td>\n",
       "      <td>2012-05-14</td>\n",
       "      <td>bodemkundige opbouw</td>\n",
       "      <td>160992.14</td>\n",
       "      <td>196155.14</td>\n",
       "      <td>5.00</td>\n",
       "      <td>True</td>\n",
       "      <td>Zandstreek</td>\n",
       "      <td>2012-05-14</td>\n",
       "      <td>ZEER</td>\n",
       "    </tr>\n",
       "    <tr>\n",
       "      <th>1</th>\n",
       "      <td>https://www.dov.vlaanderen.be/data/bodemlocati...</td>\n",
       "      <td>https://www.dov.vlaanderen.be/data/bodemsite/2...</td>\n",
       "      <td>INBO_2</td>\n",
       "      <td>profielput</td>\n",
       "      <td>2007-05-04</td>\n",
       "      <td>bodemkundige opbouw</td>\n",
       "      <td>56598.44</td>\n",
       "      <td>196314.35</td>\n",
       "      <td>20.00</td>\n",
       "      <td>True</td>\n",
       "      <td>Zandstreek</td>\n",
       "      <td>2007-05-04</td>\n",
       "      <td>OK</td>\n",
       "    </tr>\n",
       "    <tr>\n",
       "      <th>2</th>\n",
       "      <td>https://www.dov.vlaanderen.be/data/bodemlocati...</td>\n",
       "      <td>https://www.dov.vlaanderen.be/data/bodemsite/2...</td>\n",
       "      <td>KULEU_15</td>\n",
       "      <td>profielput</td>\n",
       "      <td>2010-06-06</td>\n",
       "      <td>bodemkundige opbouw</td>\n",
       "      <td>175001.18</td>\n",
       "      <td>177459.73</td>\n",
       "      <td>65.58</td>\n",
       "      <td>True</td>\n",
       "      <td>Zandstreek</td>\n",
       "      <td>2010-06-06</td>\n",
       "      <td>ZEER</td>\n",
       "    </tr>\n",
       "    <tr>\n",
       "      <th>3</th>\n",
       "      <td>https://www.dov.vlaanderen.be/data/bodemlocati...</td>\n",
       "      <td>https://www.dov.vlaanderen.be/data/bodemsite/2...</td>\n",
       "      <td>BAAC_12</td>\n",
       "      <td>profielput</td>\n",
       "      <td>2012-07-31</td>\n",
       "      <td>archeologische landschappelijke profielputten</td>\n",
       "      <td>155631.46</td>\n",
       "      <td>184083.61</td>\n",
       "      <td>11.00</td>\n",
       "      <td>True</td>\n",
       "      <td>Zandstreek</td>\n",
       "      <td>2012-07-31</td>\n",
       "      <td>ZEER</td>\n",
       "    </tr>\n",
       "    <tr>\n",
       "      <th>4</th>\n",
       "      <td>https://www.dov.vlaanderen.be/data/bodemlocati...</td>\n",
       "      <td>https://www.dov.vlaanderen.be/data/bodemsite/2...</td>\n",
       "      <td>ILVO_1</td>\n",
       "      <td>profielput</td>\n",
       "      <td>2012-11-20</td>\n",
       "      <td>bodemkundige opbouw</td>\n",
       "      <td>108115.73</td>\n",
       "      <td>185850.71</td>\n",
       "      <td>32.00</td>\n",
       "      <td>True</td>\n",
       "      <td>Zandstreek</td>\n",
       "      <td>2012-11-20</td>\n",
       "      <td>ZEER</td>\n",
       "    </tr>\n",
       "  </tbody>\n",
       "</table>\n",
       "</div>"
      ],
      "text/plain": [
       "                                   pkey_bodemlocatie  \\\n",
       "0  https://www.dov.vlaanderen.be/data/bodemlocati...   \n",
       "1  https://www.dov.vlaanderen.be/data/bodemlocati...   \n",
       "2  https://www.dov.vlaanderen.be/data/bodemlocati...   \n",
       "3  https://www.dov.vlaanderen.be/data/bodemlocati...   \n",
       "4  https://www.dov.vlaanderen.be/data/bodemlocati...   \n",
       "\n",
       "                                      pkey_bodemsite      naam        type  \\\n",
       "0  https://www.dov.vlaanderen.be/data/bodemsite/2...  KULEU_30  profielput   \n",
       "1  https://www.dov.vlaanderen.be/data/bodemsite/2...    INBO_2  profielput   \n",
       "2  https://www.dov.vlaanderen.be/data/bodemsite/2...  KULEU_15  profielput   \n",
       "3  https://www.dov.vlaanderen.be/data/bodemsite/2...   BAAC_12  profielput   \n",
       "4  https://www.dov.vlaanderen.be/data/bodemsite/2...    ILVO_1  profielput   \n",
       "\n",
       "  waarnemingsdatum                                           doel          x  \\\n",
       "0       2012-05-14                            bodemkundige opbouw  160992.14   \n",
       "1       2007-05-04                            bodemkundige opbouw   56598.44   \n",
       "2       2010-06-06                            bodemkundige opbouw  175001.18   \n",
       "3       2012-07-31  archeologische landschappelijke profielputten  155631.46   \n",
       "4       2012-11-20                            bodemkundige opbouw  108115.73   \n",
       "\n",
       "           y  mv_mtaw  erfgoed bodemstreek invoerdatum educatieve_waarde  \n",
       "0  196155.14     5.00     True  Zandstreek  2012-05-14              ZEER  \n",
       "1  196314.35    20.00     True  Zandstreek  2007-05-04                OK  \n",
       "2  177459.73    65.58     True  Zandstreek  2010-06-06              ZEER  \n",
       "3  184083.61    11.00     True  Zandstreek  2012-07-31              ZEER  \n",
       "4  185850.71    32.00     True  Zandstreek  2012-11-20              ZEER  "
      ]
     },
     "execution_count": 12,
     "metadata": {},
     "output_type": "execute_result"
    }
   ],
   "source": [
    "from owslib.fes import PropertyIsEqualTo\n",
    "\n",
    "query = PropertyIsEqualTo(propertyname='bodemstreek',\n",
    "                          literal='Zandstreek')\n",
    "df = bodemlocatie.search(query=query, max_features=10)\n",
    "\n",
    "df.head()"
   ]
  },
  {
   "cell_type": "markdown",
   "metadata": {},
   "source": [
    "Once again we can use the *pkey_bodemlocatie* as a permanent link to the information of these bodemlocaties:"
   ]
  },
  {
   "cell_type": "code",
   "execution_count": 13,
   "metadata": {},
   "outputs": [
    {
     "name": "stdout",
     "output_type": "stream",
     "text": [
      "https://www.dov.vlaanderen.be/data/bodemlocatie/2012-000027\n",
      "https://www.dov.vlaanderen.be/data/bodemlocatie/2012-000028\n",
      "https://www.dov.vlaanderen.be/data/bodemlocatie/2013-000048\n",
      "https://www.dov.vlaanderen.be/data/bodemlocatie/2012-000026\n",
      "https://www.dov.vlaanderen.be/data/bodemlocatie/2012-000041\n",
      "https://www.dov.vlaanderen.be/data/bodemlocatie/2012-000033\n",
      "https://www.dov.vlaanderen.be/data/bodemlocatie/2010-000014\n",
      "https://www.dov.vlaanderen.be/data/bodemlocatie/2007-000102\n",
      "https://www.dov.vlaanderen.be/data/bodemlocatie/2014-000040\n",
      "https://www.dov.vlaanderen.be/data/bodemlocatie/2014-000039\n"
     ]
    }
   ],
   "source": [
    "for pkey_bodemlocatie in set(df.pkey_bodemlocatie):\n",
    "    print(pkey_bodemlocatie)"
   ]
  },
  {
   "cell_type": "markdown",
   "metadata": {},
   "source": [
    "### Get all direct and indirect bodemobservaties in bodemlocatie"
   ]
  },
  {
   "cell_type": "markdown",
   "metadata": {},
   "source": [
    "Get all bodemobservaties in a specific bodemlocatie.\n",
    "Direct means bodemobservaties directly linked with a bodemlocatie.\n",
    "Indirect means bodemobservaties linked with child-objects of the bodemlocatie, like bodemmonsters."
   ]
  },
  {
   "cell_type": "code",
   "execution_count": 14,
   "metadata": {},
   "outputs": [],
   "source": [
    "from pydov.search.bodemobservatie import BodemobservatieSearch\n",
    "from pydov.search.bodemlocatie import BodemlocatieSearch\n",
    "bodemobservatie = BodemobservatieSearch()\n",
    "bodemlocatie = BodemlocatieSearch()"
   ]
  },
  {
   "cell_type": "code",
   "execution_count": 15,
   "metadata": {},
   "outputs": [
    {
     "name": "stdout",
     "output_type": "stream",
     "text": [
      "[000/021] ccccccccccccccccccccc\n"
     ]
    },
    {
     "data": {
      "text/html": [
       "<div>\n",
       "<style scoped>\n",
       "    .dataframe tbody tr th:only-of-type {\n",
       "        vertical-align: middle;\n",
       "    }\n",
       "\n",
       "    .dataframe tbody tr th {\n",
       "        vertical-align: top;\n",
       "    }\n",
       "\n",
       "    .dataframe thead th {\n",
       "        text-align: right;\n",
       "    }\n",
       "</style>\n",
       "<table border=\"1\" class=\"dataframe\">\n",
       "  <thead>\n",
       "    <tr style=\"text-align: right;\">\n",
       "      <th></th>\n",
       "      <th>pkey_bodemobservatie</th>\n",
       "      <th>pkey_bodemlocatie</th>\n",
       "      <th>pkey_parent</th>\n",
       "      <th>parameter</th>\n",
       "      <th>parametergroep</th>\n",
       "      <th>waarde</th>\n",
       "      <th>eenheid</th>\n",
       "      <th>detectie</th>\n",
       "      <th>methode</th>\n",
       "      <th>x</th>\n",
       "      <th>y</th>\n",
       "      <th>mv_mtaw</th>\n",
       "      <th>betrouwbaarheid</th>\n",
       "      <th>veld_labo</th>\n",
       "      <th>diepte_van_cm</th>\n",
       "      <th>diepte_tot_cm</th>\n",
       "      <th>observatiedatum</th>\n",
       "      <th>invoerdatum</th>\n",
       "    </tr>\n",
       "  </thead>\n",
       "  <tbody>\n",
       "    <tr>\n",
       "      <th>0</th>\n",
       "      <td>https://www.dov.vlaanderen.be/data/bodemobserv...</td>\n",
       "      <td>https://www.dov.vlaanderen.be/data/bodemlocati...</td>\n",
       "      <td>https://www.dov.vlaanderen.be/data/bodemdiepte...</td>\n",
       "      <td>Ksat</td>\n",
       "      <td>Bodem_fysisch_vocht</td>\n",
       "      <td>0.0000154321</td>\n",
       "      <td>m/s</td>\n",
       "      <td>NaN</td>\n",
       "      <td>Ksat_Soakaway_methode</td>\n",
       "      <td>129586.0</td>\n",
       "      <td>182459.0</td>\n",
       "      <td>30.7</td>\n",
       "      <td>goed</td>\n",
       "      <td>veld</td>\n",
       "      <td>40.0</td>\n",
       "      <td>85.0</td>\n",
       "      <td>2015-09-08</td>\n",
       "      <td>2019-02-07</td>\n",
       "    </tr>\n",
       "    <tr>\n",
       "      <th>1</th>\n",
       "      <td>https://www.dov.vlaanderen.be/data/bodemobserv...</td>\n",
       "      <td>https://www.dov.vlaanderen.be/data/bodemlocati...</td>\n",
       "      <td>https://www.dov.vlaanderen.be/data/bodemdiepte...</td>\n",
       "      <td>Ksat</td>\n",
       "      <td>Bodem_fysisch_vocht</td>\n",
       "      <td>0.0000029437</td>\n",
       "      <td>m/s</td>\n",
       "      <td>NaN</td>\n",
       "      <td>Ksat Enkele-ring-methode</td>\n",
       "      <td>129586.0</td>\n",
       "      <td>182459.0</td>\n",
       "      <td>30.7</td>\n",
       "      <td>goed</td>\n",
       "      <td>veld</td>\n",
       "      <td>40.0</td>\n",
       "      <td>85.0</td>\n",
       "      <td>2015-09-08</td>\n",
       "      <td>2019-02-07</td>\n",
       "    </tr>\n",
       "    <tr>\n",
       "      <th>2</th>\n",
       "      <td>https://www.dov.vlaanderen.be/data/bodemobserv...</td>\n",
       "      <td>https://www.dov.vlaanderen.be/data/bodemlocati...</td>\n",
       "      <td>https://www.dov.vlaanderen.be/data/bodemdiepte...</td>\n",
       "      <td>Ksat</td>\n",
       "      <td>Bodem_fysisch_vocht</td>\n",
       "      <td>0.0000100245</td>\n",
       "      <td>m/s</td>\n",
       "      <td>NaN</td>\n",
       "      <td>Ksat Porchet-methode</td>\n",
       "      <td>129586.0</td>\n",
       "      <td>182459.0</td>\n",
       "      <td>30.7</td>\n",
       "      <td>goed</td>\n",
       "      <td>veld</td>\n",
       "      <td>40.0</td>\n",
       "      <td>85.0</td>\n",
       "      <td>2015-09-08</td>\n",
       "      <td>2019-02-07</td>\n",
       "    </tr>\n",
       "    <tr>\n",
       "      <th>3</th>\n",
       "      <td>https://www.dov.vlaanderen.be/data/bodemobserv...</td>\n",
       "      <td>https://www.dov.vlaanderen.be/data/bodemlocati...</td>\n",
       "      <td>https://www.dov.vlaanderen.be/data/bodemdiepte...</td>\n",
       "      <td>Ksat</td>\n",
       "      <td>Bodem_fysisch_vocht</td>\n",
       "      <td>0.0000036111</td>\n",
       "      <td>m/s</td>\n",
       "      <td>NaN</td>\n",
       "      <td>Ksat Enkele-ring-methode</td>\n",
       "      <td>129586.0</td>\n",
       "      <td>182459.0</td>\n",
       "      <td>30.7</td>\n",
       "      <td>goed</td>\n",
       "      <td>veld</td>\n",
       "      <td>40.0</td>\n",
       "      <td>85.0</td>\n",
       "      <td>2015-09-08</td>\n",
       "      <td>2019-02-07</td>\n",
       "    </tr>\n",
       "    <tr>\n",
       "      <th>4</th>\n",
       "      <td>https://www.dov.vlaanderen.be/data/bodemobserv...</td>\n",
       "      <td>https://www.dov.vlaanderen.be/data/bodemlocati...</td>\n",
       "      <td>https://www.dov.vlaanderen.be/data/bodemdiepte...</td>\n",
       "      <td>Ksat</td>\n",
       "      <td>Bodem_fysisch_vocht</td>\n",
       "      <td>0.0000146735</td>\n",
       "      <td>m/s</td>\n",
       "      <td>NaN</td>\n",
       "      <td>Ksat_Soakaway_methode</td>\n",
       "      <td>129586.0</td>\n",
       "      <td>182459.0</td>\n",
       "      <td>30.7</td>\n",
       "      <td>goed</td>\n",
       "      <td>veld</td>\n",
       "      <td>40.0</td>\n",
       "      <td>85.0</td>\n",
       "      <td>2015-09-08</td>\n",
       "      <td>2019-02-07</td>\n",
       "    </tr>\n",
       "  </tbody>\n",
       "</table>\n",
       "</div>"
      ],
      "text/plain": [
       "                                pkey_bodemobservatie  \\\n",
       "0  https://www.dov.vlaanderen.be/data/bodemobserv...   \n",
       "1  https://www.dov.vlaanderen.be/data/bodemobserv...   \n",
       "2  https://www.dov.vlaanderen.be/data/bodemobserv...   \n",
       "3  https://www.dov.vlaanderen.be/data/bodemobserv...   \n",
       "4  https://www.dov.vlaanderen.be/data/bodemobserv...   \n",
       "\n",
       "                                   pkey_bodemlocatie  \\\n",
       "0  https://www.dov.vlaanderen.be/data/bodemlocati...   \n",
       "1  https://www.dov.vlaanderen.be/data/bodemlocati...   \n",
       "2  https://www.dov.vlaanderen.be/data/bodemlocati...   \n",
       "3  https://www.dov.vlaanderen.be/data/bodemlocati...   \n",
       "4  https://www.dov.vlaanderen.be/data/bodemlocati...   \n",
       "\n",
       "                                         pkey_parent parameter  \\\n",
       "0  https://www.dov.vlaanderen.be/data/bodemdiepte...      Ksat   \n",
       "1  https://www.dov.vlaanderen.be/data/bodemdiepte...      Ksat   \n",
       "2  https://www.dov.vlaanderen.be/data/bodemdiepte...      Ksat   \n",
       "3  https://www.dov.vlaanderen.be/data/bodemdiepte...      Ksat   \n",
       "4  https://www.dov.vlaanderen.be/data/bodemdiepte...      Ksat   \n",
       "\n",
       "        parametergroep        waarde eenheid  detectie  \\\n",
       "0  Bodem_fysisch_vocht  0.0000154321     m/s       NaN   \n",
       "1  Bodem_fysisch_vocht  0.0000029437     m/s       NaN   \n",
       "2  Bodem_fysisch_vocht  0.0000100245     m/s       NaN   \n",
       "3  Bodem_fysisch_vocht  0.0000036111     m/s       NaN   \n",
       "4  Bodem_fysisch_vocht  0.0000146735     m/s       NaN   \n",
       "\n",
       "                    methode         x         y  mv_mtaw betrouwbaarheid  \\\n",
       "0     Ksat_Soakaway_methode  129586.0  182459.0     30.7            goed   \n",
       "1  Ksat Enkele-ring-methode  129586.0  182459.0     30.7            goed   \n",
       "2      Ksat Porchet-methode  129586.0  182459.0     30.7            goed   \n",
       "3  Ksat Enkele-ring-methode  129586.0  182459.0     30.7            goed   \n",
       "4     Ksat_Soakaway_methode  129586.0  182459.0     30.7            goed   \n",
       "\n",
       "  veld_labo  diepte_van_cm  diepte_tot_cm observatiedatum invoerdatum  \n",
       "0      veld           40.0           85.0      2015-09-08  2019-02-07  \n",
       "1      veld           40.0           85.0      2015-09-08  2019-02-07  \n",
       "2      veld           40.0           85.0      2015-09-08  2019-02-07  \n",
       "3      veld           40.0           85.0      2015-09-08  2019-02-07  \n",
       "4      veld           40.0           85.0      2015-09-08  2019-02-07  "
      ]
     },
     "execution_count": 15,
     "metadata": {},
     "output_type": "execute_result"
    }
   ],
   "source": [
    "from owslib.fes import PropertyIsEqualTo\n",
    "from pydov.util.query import Join\n",
    "\n",
    "bodemlocaties = bodemlocatie.search(query=PropertyIsEqualTo(propertyname='naam', literal='VMM_INF_52'), \n",
    "                                   return_fields=('pkey_bodemlocatie',))\n",
    "\n",
    "bodemobservaties = bodemobservatie.search(query=Join(bodemlocaties, 'pkey_bodemlocatie'))\n",
    "bodemobservaties.head()"
   ]
  },
  {
   "cell_type": "markdown",
   "metadata": {},
   "source": [
    "### Get all bodemobservaties in a bodemmonster"
   ]
  },
  {
   "cell_type": "markdown",
   "metadata": {},
   "source": [
    "Get all bodemobservaties linked with a bodemmonster"
   ]
  },
  {
   "cell_type": "code",
   "execution_count": 16,
   "metadata": {},
   "outputs": [
    {
     "name": "stdout",
     "output_type": "stream",
     "text": [
      "[000/003] ccc\n"
     ]
    },
    {
     "data": {
      "text/html": [
       "<div>\n",
       "<style scoped>\n",
       "    .dataframe tbody tr th:only-of-type {\n",
       "        vertical-align: middle;\n",
       "    }\n",
       "\n",
       "    .dataframe tbody tr th {\n",
       "        vertical-align: top;\n",
       "    }\n",
       "\n",
       "    .dataframe thead th {\n",
       "        text-align: right;\n",
       "    }\n",
       "</style>\n",
       "<table border=\"1\" class=\"dataframe\">\n",
       "  <thead>\n",
       "    <tr style=\"text-align: right;\">\n",
       "      <th></th>\n",
       "      <th>pkey_bodemobservatie</th>\n",
       "      <th>pkey_bodemlocatie</th>\n",
       "      <th>pkey_parent</th>\n",
       "      <th>parameter</th>\n",
       "      <th>parametergroep</th>\n",
       "      <th>waarde</th>\n",
       "      <th>eenheid</th>\n",
       "      <th>detectie</th>\n",
       "      <th>methode</th>\n",
       "      <th>x</th>\n",
       "      <th>y</th>\n",
       "      <th>mv_mtaw</th>\n",
       "      <th>betrouwbaarheid</th>\n",
       "      <th>veld_labo</th>\n",
       "      <th>diepte_van_cm</th>\n",
       "      <th>diepte_tot_cm</th>\n",
       "      <th>observatiedatum</th>\n",
       "      <th>invoerdatum</th>\n",
       "    </tr>\n",
       "  </thead>\n",
       "  <tbody>\n",
       "    <tr>\n",
       "      <th>0</th>\n",
       "      <td>https://www.dov.vlaanderen.be/data/bodemobserv...</td>\n",
       "      <td>https://www.dov.vlaanderen.be/data/bodemlocati...</td>\n",
       "      <td>https://www.dov.vlaanderen.be/data/bodemmonste...</td>\n",
       "      <td>Textuur - granulometrisch - klassen bodemkarte...</td>\n",
       "      <td>Bodem_fysisch_textuur</td>\n",
       "      <td>E - Klei</td>\n",
       "      <td>-</td>\n",
       "      <td>NaN</td>\n",
       "      <td>Textuur pipetmethode Robinson-Köhn</td>\n",
       "      <td>129586.0</td>\n",
       "      <td>182459.0</td>\n",
       "      <td>30.7</td>\n",
       "      <td>goed</td>\n",
       "      <td>labo</td>\n",
       "      <td>40.0</td>\n",
       "      <td>85.0</td>\n",
       "      <td>2015-08-27</td>\n",
       "      <td>2019-02-07</td>\n",
       "    </tr>\n",
       "    <tr>\n",
       "      <th>1</th>\n",
       "      <td>https://www.dov.vlaanderen.be/data/bodemobserv...</td>\n",
       "      <td>https://www.dov.vlaanderen.be/data/bodemlocati...</td>\n",
       "      <td>https://www.dov.vlaanderen.be/data/bodemmonste...</td>\n",
       "      <td>Textuur - handmatig - klassen bodemkartering</td>\n",
       "      <td>Bodem_fysisch_textuur</td>\n",
       "      <td>A - Leem</td>\n",
       "      <td>-</td>\n",
       "      <td>NaN</td>\n",
       "      <td>Textuur manuele schatting (palpatie)</td>\n",
       "      <td>129586.0</td>\n",
       "      <td>182459.0</td>\n",
       "      <td>30.7</td>\n",
       "      <td>goed</td>\n",
       "      <td>labo</td>\n",
       "      <td>40.0</td>\n",
       "      <td>85.0</td>\n",
       "      <td>2015-08-27</td>\n",
       "      <td>2019-02-07</td>\n",
       "    </tr>\n",
       "    <tr>\n",
       "      <th>2</th>\n",
       "      <td>https://www.dov.vlaanderen.be/data/bodemobserv...</td>\n",
       "      <td>https://www.dov.vlaanderen.be/data/bodemlocati...</td>\n",
       "      <td>https://www.dov.vlaanderen.be/data/bodemmonste...</td>\n",
       "      <td>Textuurfracties</td>\n",
       "      <td>Bodem_fysisch_textuur</td>\n",
       "      <td>Fractiemetingen</td>\n",
       "      <td>%</td>\n",
       "      <td>NaN</td>\n",
       "      <td>Textuur pipetmethode Robinson-Köhn</td>\n",
       "      <td>129586.0</td>\n",
       "      <td>182459.0</td>\n",
       "      <td>30.7</td>\n",
       "      <td>goed</td>\n",
       "      <td>labo</td>\n",
       "      <td>40.0</td>\n",
       "      <td>85.0</td>\n",
       "      <td>2015-09-08</td>\n",
       "      <td>2019-02-19</td>\n",
       "    </tr>\n",
       "  </tbody>\n",
       "</table>\n",
       "</div>"
      ],
      "text/plain": [
       "                                pkey_bodemobservatie  \\\n",
       "0  https://www.dov.vlaanderen.be/data/bodemobserv...   \n",
       "1  https://www.dov.vlaanderen.be/data/bodemobserv...   \n",
       "2  https://www.dov.vlaanderen.be/data/bodemobserv...   \n",
       "\n",
       "                                   pkey_bodemlocatie  \\\n",
       "0  https://www.dov.vlaanderen.be/data/bodemlocati...   \n",
       "1  https://www.dov.vlaanderen.be/data/bodemlocati...   \n",
       "2  https://www.dov.vlaanderen.be/data/bodemlocati...   \n",
       "\n",
       "                                         pkey_parent  \\\n",
       "0  https://www.dov.vlaanderen.be/data/bodemmonste...   \n",
       "1  https://www.dov.vlaanderen.be/data/bodemmonste...   \n",
       "2  https://www.dov.vlaanderen.be/data/bodemmonste...   \n",
       "\n",
       "                                           parameter         parametergroep  \\\n",
       "0  Textuur - granulometrisch - klassen bodemkarte...  Bodem_fysisch_textuur   \n",
       "1       Textuur - handmatig - klassen bodemkartering  Bodem_fysisch_textuur   \n",
       "2                                    Textuurfracties  Bodem_fysisch_textuur   \n",
       "\n",
       "            waarde eenheid  detectie                               methode  \\\n",
       "0         E - Klei       -       NaN    Textuur pipetmethode Robinson-Köhn   \n",
       "1         A - Leem       -       NaN  Textuur manuele schatting (palpatie)   \n",
       "2  Fractiemetingen       %       NaN    Textuur pipetmethode Robinson-Köhn   \n",
       "\n",
       "          x         y  mv_mtaw betrouwbaarheid veld_labo  diepte_van_cm  \\\n",
       "0  129586.0  182459.0     30.7            goed      labo           40.0   \n",
       "1  129586.0  182459.0     30.7            goed      labo           40.0   \n",
       "2  129586.0  182459.0     30.7            goed      labo           40.0   \n",
       "\n",
       "   diepte_tot_cm observatiedatum invoerdatum  \n",
       "0           85.0      2015-08-27  2019-02-07  \n",
       "1           85.0      2015-08-27  2019-02-07  \n",
       "2           85.0      2015-09-08  2019-02-19  "
      ]
     },
     "execution_count": 16,
     "metadata": {},
     "output_type": "execute_result"
    }
   ],
   "source": [
    "from pydov.search.bodemmonster import BodemmonsterSearch\n",
    "bodemmonster = BodemmonsterSearch()\n",
    "\n",
    "bodemmonsters = bodemmonster.search(query=PropertyIsEqualTo(propertyname = 'identificatie', literal='A0057359'),\n",
    "                                   return_fields=('pkey_bodemmonster',))\n",
    "\n",
    "bodemobservaties = bodemobservatie.search(query=Join(bodemmonsters, on = 'pkey_parent', using='pkey_bodemmonster'))\n",
    "bodemobservaties.head()"
   ]
  },
  {
   "cell_type": "markdown",
   "metadata": {},
   "source": [
    "### Find all bodemlocaties where observations exist for organic carbon percentage in East-Flanders between 0 and 30 cm deep"
   ]
  },
  {
   "cell_type": "markdown",
   "metadata": {},
   "source": [
    "Get boundaries of East-Flanders by using a WFS"
   ]
  },
  {
   "cell_type": "code",
   "execution_count": 17,
   "metadata": {},
   "outputs": [],
   "source": [
    "from owslib.etree import etree\n",
    "from owslib.wfs import WebFeatureService\n",
    "from pydov.util.location import (\n",
    "    GmlFilter,\n",
    "    Within,\n",
    ")\n",
    "\n",
    "provinciegrenzen = WebFeatureService(\n",
    "    'https://geoservices.informatievlaanderen.be/overdrachtdiensten/VRBG/wfs',\n",
    "    version='1.1.0')\n",
    "\n",
    "provincie_filter = PropertyIsEqualTo(propertyname='NAAM', literal='Oost-Vlaanderen')\n",
    "provincie_poly = provinciegrenzen.getfeature(\n",
    "    typename='VRBG:Refprv',\n",
    "    filter=etree.tostring(provincie_filter.toXML()).decode(\"utf8\")).read()"
   ]
  },
  {
   "cell_type": "markdown",
   "metadata": {},
   "source": [
    "Get bodemobservaties in East-Flanders with the requested properties"
   ]
  },
  {
   "cell_type": "code",
   "execution_count": 18,
   "metadata": {},
   "outputs": [
    {
     "name": "stdout",
     "output_type": "stream",
     "text": [
      "[000/066] cccccccccccccccccccccccccccccccccccccccccccccccccc\n",
      "[050/066] cccccccccccccccc\n"
     ]
    },
    {
     "data": {
      "text/html": [
       "<div>\n",
       "<style scoped>\n",
       "    .dataframe tbody tr th:only-of-type {\n",
       "        vertical-align: middle;\n",
       "    }\n",
       "\n",
       "    .dataframe tbody tr th {\n",
       "        vertical-align: top;\n",
       "    }\n",
       "\n",
       "    .dataframe thead th {\n",
       "        text-align: right;\n",
       "    }\n",
       "</style>\n",
       "<table border=\"1\" class=\"dataframe\">\n",
       "  <thead>\n",
       "    <tr style=\"text-align: right;\">\n",
       "      <th></th>\n",
       "      <th>pkey_bodemobservatie</th>\n",
       "      <th>pkey_bodemlocatie</th>\n",
       "      <th>pkey_parent</th>\n",
       "      <th>parameter</th>\n",
       "      <th>parametergroep</th>\n",
       "      <th>waarde</th>\n",
       "      <th>eenheid</th>\n",
       "      <th>detectie</th>\n",
       "      <th>methode</th>\n",
       "      <th>x</th>\n",
       "      <th>y</th>\n",
       "      <th>mv_mtaw</th>\n",
       "      <th>betrouwbaarheid</th>\n",
       "      <th>veld_labo</th>\n",
       "      <th>diepte_van_cm</th>\n",
       "      <th>diepte_tot_cm</th>\n",
       "      <th>observatiedatum</th>\n",
       "      <th>invoerdatum</th>\n",
       "    </tr>\n",
       "  </thead>\n",
       "  <tbody>\n",
       "    <tr>\n",
       "      <th>0</th>\n",
       "      <td>https://www.dov.vlaanderen.be/data/bodemobserv...</td>\n",
       "      <td>https://www.dov.vlaanderen.be/data/bodemlocati...</td>\n",
       "      <td>https://www.dov.vlaanderen.be/data/bodemmonste...</td>\n",
       "      <td>Organische C - percentage</td>\n",
       "      <td>Bodem_chemisch</td>\n",
       "      <td>1.12142304717711</td>\n",
       "      <td>%</td>\n",
       "      <td>NaN</td>\n",
       "      <td>Aardewerk oude methode organische koolstof</td>\n",
       "      <td>132594.0</td>\n",
       "      <td>193978.0</td>\n",
       "      <td>3.0</td>\n",
       "      <td>onbekend</td>\n",
       "      <td>veld</td>\n",
       "      <td>0.0</td>\n",
       "      <td>30.0</td>\n",
       "      <td>1952-04-22</td>\n",
       "      <td>NaN</td>\n",
       "    </tr>\n",
       "    <tr>\n",
       "      <th>1</th>\n",
       "      <td>https://www.dov.vlaanderen.be/data/bodemobserv...</td>\n",
       "      <td>https://www.dov.vlaanderen.be/data/bodemlocati...</td>\n",
       "      <td>https://www.dov.vlaanderen.be/data/bodemmonste...</td>\n",
       "      <td>Organische C - percentage</td>\n",
       "      <td>Bodem_chemisch</td>\n",
       "      <td>1.430781129157</td>\n",
       "      <td>%</td>\n",
       "      <td>NaN</td>\n",
       "      <td>Aardewerk oude methode organische koolstof</td>\n",
       "      <td>102902.0</td>\n",
       "      <td>188823.0</td>\n",
       "      <td>8.0</td>\n",
       "      <td>onbekend</td>\n",
       "      <td>veld</td>\n",
       "      <td>0.0</td>\n",
       "      <td>30.0</td>\n",
       "      <td>1953-07-07</td>\n",
       "      <td>NaN</td>\n",
       "    </tr>\n",
       "    <tr>\n",
       "      <th>2</th>\n",
       "      <td>https://www.dov.vlaanderen.be/data/bodemobserv...</td>\n",
       "      <td>https://www.dov.vlaanderen.be/data/bodemlocati...</td>\n",
       "      <td>https://www.dov.vlaanderen.be/data/bodemmonste...</td>\n",
       "      <td>Organische C - percentage</td>\n",
       "      <td>Bodem_chemisch</td>\n",
       "      <td>0.587780355761794</td>\n",
       "      <td>%</td>\n",
       "      <td>NaN</td>\n",
       "      <td>Aardewerk oude methode organische koolstof</td>\n",
       "      <td>133454.0</td>\n",
       "      <td>188789.0</td>\n",
       "      <td>6.0</td>\n",
       "      <td>onbekend</td>\n",
       "      <td>veld</td>\n",
       "      <td>0.0</td>\n",
       "      <td>30.0</td>\n",
       "      <td>1952-04-16</td>\n",
       "      <td>NaN</td>\n",
       "    </tr>\n",
       "    <tr>\n",
       "      <th>3</th>\n",
       "      <td>https://www.dov.vlaanderen.be/data/bodemobserv...</td>\n",
       "      <td>https://www.dov.vlaanderen.be/data/bodemlocati...</td>\n",
       "      <td>https://www.dov.vlaanderen.be/data/bodemmonste...</td>\n",
       "      <td>Organische C - percentage</td>\n",
       "      <td>Bodem_chemisch</td>\n",
       "      <td>1.98</td>\n",
       "      <td>%</td>\n",
       "      <td>NaN</td>\n",
       "      <td>Aardewerk nieuwe methode organische koolstof</td>\n",
       "      <td>97220.0</td>\n",
       "      <td>185968.0</td>\n",
       "      <td>10.0</td>\n",
       "      <td>onbekend</td>\n",
       "      <td>veld</td>\n",
       "      <td>0.0</td>\n",
       "      <td>30.0</td>\n",
       "      <td>1962-08-23</td>\n",
       "      <td>NaN</td>\n",
       "    </tr>\n",
       "    <tr>\n",
       "      <th>4</th>\n",
       "      <td>https://www.dov.vlaanderen.be/data/bodemobserv...</td>\n",
       "      <td>https://www.dov.vlaanderen.be/data/bodemlocati...</td>\n",
       "      <td>https://www.dov.vlaanderen.be/data/bodemmonste...</td>\n",
       "      <td>Organische C - percentage</td>\n",
       "      <td>Bodem_chemisch</td>\n",
       "      <td>1.7092034029389</td>\n",
       "      <td>%</td>\n",
       "      <td>NaN</td>\n",
       "      <td>Aardewerk oude methode organische koolstof</td>\n",
       "      <td>107945.0</td>\n",
       "      <td>207928.0</td>\n",
       "      <td>7.0</td>\n",
       "      <td>onbekend</td>\n",
       "      <td>veld</td>\n",
       "      <td>0.0</td>\n",
       "      <td>30.0</td>\n",
       "      <td>1952-08-06</td>\n",
       "      <td>NaN</td>\n",
       "    </tr>\n",
       "  </tbody>\n",
       "</table>\n",
       "</div>"
      ],
      "text/plain": [
       "                                pkey_bodemobservatie  \\\n",
       "0  https://www.dov.vlaanderen.be/data/bodemobserv...   \n",
       "1  https://www.dov.vlaanderen.be/data/bodemobserv...   \n",
       "2  https://www.dov.vlaanderen.be/data/bodemobserv...   \n",
       "3  https://www.dov.vlaanderen.be/data/bodemobserv...   \n",
       "4  https://www.dov.vlaanderen.be/data/bodemobserv...   \n",
       "\n",
       "                                   pkey_bodemlocatie  \\\n",
       "0  https://www.dov.vlaanderen.be/data/bodemlocati...   \n",
       "1  https://www.dov.vlaanderen.be/data/bodemlocati...   \n",
       "2  https://www.dov.vlaanderen.be/data/bodemlocati...   \n",
       "3  https://www.dov.vlaanderen.be/data/bodemlocati...   \n",
       "4  https://www.dov.vlaanderen.be/data/bodemlocati...   \n",
       "\n",
       "                                         pkey_parent  \\\n",
       "0  https://www.dov.vlaanderen.be/data/bodemmonste...   \n",
       "1  https://www.dov.vlaanderen.be/data/bodemmonste...   \n",
       "2  https://www.dov.vlaanderen.be/data/bodemmonste...   \n",
       "3  https://www.dov.vlaanderen.be/data/bodemmonste...   \n",
       "4  https://www.dov.vlaanderen.be/data/bodemmonste...   \n",
       "\n",
       "                   parameter  parametergroep             waarde eenheid  \\\n",
       "0  Organische C - percentage  Bodem_chemisch   1.12142304717711       %   \n",
       "1  Organische C - percentage  Bodem_chemisch     1.430781129157       %   \n",
       "2  Organische C - percentage  Bodem_chemisch  0.587780355761794       %   \n",
       "3  Organische C - percentage  Bodem_chemisch               1.98       %   \n",
       "4  Organische C - percentage  Bodem_chemisch    1.7092034029389       %   \n",
       "\n",
       "   detectie                                       methode         x         y  \\\n",
       "0       NaN    Aardewerk oude methode organische koolstof  132594.0  193978.0   \n",
       "1       NaN    Aardewerk oude methode organische koolstof  102902.0  188823.0   \n",
       "2       NaN    Aardewerk oude methode organische koolstof  133454.0  188789.0   \n",
       "3       NaN  Aardewerk nieuwe methode organische koolstof   97220.0  185968.0   \n",
       "4       NaN    Aardewerk oude methode organische koolstof  107945.0  207928.0   \n",
       "\n",
       "   mv_mtaw betrouwbaarheid veld_labo  diepte_van_cm  diepte_tot_cm  \\\n",
       "0      3.0        onbekend      veld            0.0           30.0   \n",
       "1      8.0        onbekend      veld            0.0           30.0   \n",
       "2      6.0        onbekend      veld            0.0           30.0   \n",
       "3     10.0        onbekend      veld            0.0           30.0   \n",
       "4      7.0        onbekend      veld            0.0           30.0   \n",
       "\n",
       "  observatiedatum  invoerdatum  \n",
       "0      1952-04-22          NaN  \n",
       "1      1953-07-07          NaN  \n",
       "2      1952-04-16          NaN  \n",
       "3      1962-08-23          NaN  \n",
       "4      1952-08-06          NaN  "
      ]
     },
     "execution_count": 18,
     "metadata": {},
     "output_type": "execute_result"
    }
   ],
   "source": [
    "from owslib.fes import PropertyIsEqualTo\n",
    "from owslib.fes import And\n",
    "\n",
    "from pydov.search.bodemobservatie import BodemobservatieSearch\n",
    "\n",
    "bodemobservatie = BodemobservatieSearch()\n",
    "\n",
    "# Select only layers with the boundaries 10-30\n",
    "bodemobservaties = bodemobservatie.search(\n",
    "        location=GmlFilter(provincie_poly, Within),\n",
    "        query=And([\n",
    "            PropertyIsEqualTo(propertyname=\"parameter\", literal=\"Organische C - percentage\"),\n",
    "            PropertyIsEqualTo(propertyname=\"diepte_tot_cm\", literal = '30'),\n",
    "            PropertyIsEqualTo(propertyname=\"diepte_van_cm\", literal = '0')\n",
    "        ]))\n",
    "\n",
    "\n",
    "bodemobservaties.head()"
   ]
  },
  {
   "cell_type": "markdown",
   "metadata": {},
   "source": [
    "Now we have all observations with the requested properties. \n",
    "Next we need to link them with the bodemlocatie"
   ]
  },
  {
   "cell_type": "code",
   "execution_count": 19,
   "metadata": {},
   "outputs": [
    {
     "name": "stdout",
     "output_type": "stream",
     "text": [
      "[000/066] cccccccccccccccccccccccccccccccccccccccccccccccccc\n",
      "[050/066] cccccccccccccccc\n"
     ]
    },
    {
     "data": {
      "text/html": [
       "<div>\n",
       "<style scoped>\n",
       "    .dataframe tbody tr th:only-of-type {\n",
       "        vertical-align: middle;\n",
       "    }\n",
       "\n",
       "    .dataframe tbody tr th {\n",
       "        vertical-align: top;\n",
       "    }\n",
       "\n",
       "    .dataframe thead th {\n",
       "        text-align: right;\n",
       "    }\n",
       "</style>\n",
       "<table border=\"1\" class=\"dataframe\">\n",
       "  <thead>\n",
       "    <tr style=\"text-align: right;\">\n",
       "      <th></th>\n",
       "      <th>pkey_bodemobservatie</th>\n",
       "      <th>pkey_bodemlocatie</th>\n",
       "      <th>pkey_parent</th>\n",
       "      <th>parameter</th>\n",
       "      <th>parametergroep</th>\n",
       "      <th>waarde</th>\n",
       "      <th>eenheid</th>\n",
       "      <th>detectie</th>\n",
       "      <th>methode</th>\n",
       "      <th>betrouwbaarheid</th>\n",
       "      <th>...</th>\n",
       "      <th>type</th>\n",
       "      <th>waarnemingsdatum</th>\n",
       "      <th>doel</th>\n",
       "      <th>x</th>\n",
       "      <th>y</th>\n",
       "      <th>mv_mtaw</th>\n",
       "      <th>erfgoed</th>\n",
       "      <th>bodemstreek</th>\n",
       "      <th>invoerdatum_y</th>\n",
       "      <th>educatieve_waarde</th>\n",
       "    </tr>\n",
       "  </thead>\n",
       "  <tbody>\n",
       "    <tr>\n",
       "      <th>0</th>\n",
       "      <td>https://www.dov.vlaanderen.be/data/bodemobserv...</td>\n",
       "      <td>https://www.dov.vlaanderen.be/data/bodemlocati...</td>\n",
       "      <td>https://www.dov.vlaanderen.be/data/bodemmonste...</td>\n",
       "      <td>Organische C - percentage</td>\n",
       "      <td>Bodem_chemisch</td>\n",
       "      <td>1.12142304717711</td>\n",
       "      <td>%</td>\n",
       "      <td>NaN</td>\n",
       "      <td>Aardewerk oude methode organische koolstof</td>\n",
       "      <td>onbekend</td>\n",
       "      <td>...</td>\n",
       "      <td>profielput</td>\n",
       "      <td>1952-04-22</td>\n",
       "      <td>bodemprofielen en oppervlaktemonsters karterin...</td>\n",
       "      <td>132594.0</td>\n",
       "      <td>193978.0</td>\n",
       "      <td>3.0</td>\n",
       "      <td>False</td>\n",
       "      <td>Zandstreek</td>\n",
       "      <td>2019-10-11</td>\n",
       "      <td>OK</td>\n",
       "    </tr>\n",
       "    <tr>\n",
       "      <th>1</th>\n",
       "      <td>https://www.dov.vlaanderen.be/data/bodemobserv...</td>\n",
       "      <td>https://www.dov.vlaanderen.be/data/bodemlocati...</td>\n",
       "      <td>https://www.dov.vlaanderen.be/data/bodemmonste...</td>\n",
       "      <td>Organische C - percentage</td>\n",
       "      <td>Bodem_chemisch</td>\n",
       "      <td>1.430781129157</td>\n",
       "      <td>%</td>\n",
       "      <td>NaN</td>\n",
       "      <td>Aardewerk oude methode organische koolstof</td>\n",
       "      <td>onbekend</td>\n",
       "      <td>...</td>\n",
       "      <td>profielput</td>\n",
       "      <td>1953-07-07</td>\n",
       "      <td>bodemprofielen en oppervlaktemonsters karterin...</td>\n",
       "      <td>102902.0</td>\n",
       "      <td>188823.0</td>\n",
       "      <td>8.0</td>\n",
       "      <td>False</td>\n",
       "      <td>Zandstreek</td>\n",
       "      <td>2019-10-11</td>\n",
       "      <td>OK</td>\n",
       "    </tr>\n",
       "    <tr>\n",
       "      <th>2</th>\n",
       "      <td>https://www.dov.vlaanderen.be/data/bodemobserv...</td>\n",
       "      <td>https://www.dov.vlaanderen.be/data/bodemlocati...</td>\n",
       "      <td>https://www.dov.vlaanderen.be/data/bodemmonste...</td>\n",
       "      <td>Organische C - percentage</td>\n",
       "      <td>Bodem_chemisch</td>\n",
       "      <td>0.587780355761794</td>\n",
       "      <td>%</td>\n",
       "      <td>NaN</td>\n",
       "      <td>Aardewerk oude methode organische koolstof</td>\n",
       "      <td>onbekend</td>\n",
       "      <td>...</td>\n",
       "      <td>profielput</td>\n",
       "      <td>1952-04-16</td>\n",
       "      <td>bodemprofielen en oppervlaktemonsters karterin...</td>\n",
       "      <td>133454.0</td>\n",
       "      <td>188789.0</td>\n",
       "      <td>6.0</td>\n",
       "      <td>False</td>\n",
       "      <td>Zandstreek</td>\n",
       "      <td>2019-10-11</td>\n",
       "      <td>OK</td>\n",
       "    </tr>\n",
       "    <tr>\n",
       "      <th>3</th>\n",
       "      <td>https://www.dov.vlaanderen.be/data/bodemobserv...</td>\n",
       "      <td>https://www.dov.vlaanderen.be/data/bodemlocati...</td>\n",
       "      <td>https://www.dov.vlaanderen.be/data/bodemmonste...</td>\n",
       "      <td>Organische C - percentage</td>\n",
       "      <td>Bodem_chemisch</td>\n",
       "      <td>1.98</td>\n",
       "      <td>%</td>\n",
       "      <td>NaN</td>\n",
       "      <td>Aardewerk nieuwe methode organische koolstof</td>\n",
       "      <td>onbekend</td>\n",
       "      <td>...</td>\n",
       "      <td>profielput</td>\n",
       "      <td>1962-08-23</td>\n",
       "      <td>bodemprofielen en oppervlaktemonsters karterin...</td>\n",
       "      <td>97220.0</td>\n",
       "      <td>185968.0</td>\n",
       "      <td>10.0</td>\n",
       "      <td>False</td>\n",
       "      <td>Zandstreek</td>\n",
       "      <td>2019-10-11</td>\n",
       "      <td>OK</td>\n",
       "    </tr>\n",
       "    <tr>\n",
       "      <th>4</th>\n",
       "      <td>https://www.dov.vlaanderen.be/data/bodemobserv...</td>\n",
       "      <td>https://www.dov.vlaanderen.be/data/bodemlocati...</td>\n",
       "      <td>https://www.dov.vlaanderen.be/data/bodemmonste...</td>\n",
       "      <td>Organische C - percentage</td>\n",
       "      <td>Bodem_chemisch</td>\n",
       "      <td>1.7092034029389</td>\n",
       "      <td>%</td>\n",
       "      <td>NaN</td>\n",
       "      <td>Aardewerk oude methode organische koolstof</td>\n",
       "      <td>onbekend</td>\n",
       "      <td>...</td>\n",
       "      <td>profielput</td>\n",
       "      <td>1952-08-06</td>\n",
       "      <td>bodemprofielen en oppervlaktemonsters karterin...</td>\n",
       "      <td>107945.0</td>\n",
       "      <td>207928.0</td>\n",
       "      <td>7.0</td>\n",
       "      <td>False</td>\n",
       "      <td>Zandstreek</td>\n",
       "      <td>2019-10-11</td>\n",
       "      <td>OK</td>\n",
       "    </tr>\n",
       "  </tbody>\n",
       "</table>\n",
       "<p>5 rows × 27 columns</p>\n",
       "</div>"
      ],
      "text/plain": [
       "                                pkey_bodemobservatie  \\\n",
       "0  https://www.dov.vlaanderen.be/data/bodemobserv...   \n",
       "1  https://www.dov.vlaanderen.be/data/bodemobserv...   \n",
       "2  https://www.dov.vlaanderen.be/data/bodemobserv...   \n",
       "3  https://www.dov.vlaanderen.be/data/bodemobserv...   \n",
       "4  https://www.dov.vlaanderen.be/data/bodemobserv...   \n",
       "\n",
       "                                   pkey_bodemlocatie  \\\n",
       "0  https://www.dov.vlaanderen.be/data/bodemlocati...   \n",
       "1  https://www.dov.vlaanderen.be/data/bodemlocati...   \n",
       "2  https://www.dov.vlaanderen.be/data/bodemlocati...   \n",
       "3  https://www.dov.vlaanderen.be/data/bodemlocati...   \n",
       "4  https://www.dov.vlaanderen.be/data/bodemlocati...   \n",
       "\n",
       "                                         pkey_parent  \\\n",
       "0  https://www.dov.vlaanderen.be/data/bodemmonste...   \n",
       "1  https://www.dov.vlaanderen.be/data/bodemmonste...   \n",
       "2  https://www.dov.vlaanderen.be/data/bodemmonste...   \n",
       "3  https://www.dov.vlaanderen.be/data/bodemmonste...   \n",
       "4  https://www.dov.vlaanderen.be/data/bodemmonste...   \n",
       "\n",
       "                   parameter  parametergroep             waarde eenheid  \\\n",
       "0  Organische C - percentage  Bodem_chemisch   1.12142304717711       %   \n",
       "1  Organische C - percentage  Bodem_chemisch     1.430781129157       %   \n",
       "2  Organische C - percentage  Bodem_chemisch  0.587780355761794       %   \n",
       "3  Organische C - percentage  Bodem_chemisch               1.98       %   \n",
       "4  Organische C - percentage  Bodem_chemisch    1.7092034029389       %   \n",
       "\n",
       "   detectie                                       methode betrouwbaarheid  \\\n",
       "0       NaN    Aardewerk oude methode organische koolstof        onbekend   \n",
       "1       NaN    Aardewerk oude methode organische koolstof        onbekend   \n",
       "2       NaN    Aardewerk oude methode organische koolstof        onbekend   \n",
       "3       NaN  Aardewerk nieuwe methode organische koolstof        onbekend   \n",
       "4       NaN    Aardewerk oude methode organische koolstof        onbekend   \n",
       "\n",
       "   ...        type  waarnemingsdatum  \\\n",
       "0  ...  profielput        1952-04-22   \n",
       "1  ...  profielput        1953-07-07   \n",
       "2  ...  profielput        1952-04-16   \n",
       "3  ...  profielput        1962-08-23   \n",
       "4  ...  profielput        1952-08-06   \n",
       "\n",
       "                                                doel         x         y  \\\n",
       "0  bodemprofielen en oppervlaktemonsters karterin...  132594.0  193978.0   \n",
       "1  bodemprofielen en oppervlaktemonsters karterin...  102902.0  188823.0   \n",
       "2  bodemprofielen en oppervlaktemonsters karterin...  133454.0  188789.0   \n",
       "3  bodemprofielen en oppervlaktemonsters karterin...   97220.0  185968.0   \n",
       "4  bodemprofielen en oppervlaktemonsters karterin...  107945.0  207928.0   \n",
       "\n",
       "   mv_mtaw erfgoed bodemstreek invoerdatum_y educatieve_waarde  \n",
       "0      3.0   False  Zandstreek    2019-10-11                OK  \n",
       "1      8.0   False  Zandstreek    2019-10-11                OK  \n",
       "2      6.0   False  Zandstreek    2019-10-11                OK  \n",
       "3     10.0   False  Zandstreek    2019-10-11                OK  \n",
       "4      7.0   False  Zandstreek    2019-10-11                OK  \n",
       "\n",
       "[5 rows x 27 columns]"
      ]
     },
     "execution_count": 19,
     "metadata": {},
     "output_type": "execute_result"
    }
   ],
   "source": [
    "from pydov.search.bodemlocatie import BodemlocatieSearch\n",
    "from pydov.util.query import Join\n",
    "import pandas as pd\n",
    "\n",
    "# Find bodemlocatie information for all observations\n",
    "bodemlocatie = BodemlocatieSearch()\n",
    "bodemlocaties = bodemlocatie.search(query=Join(bodemobservaties, on = 'pkey_bodemlocatie', using='pkey_bodemlocatie'))\n",
    "\n",
    "# remove x, y, mv_mtaw from observatie dataframe to prevent duplicates while merging\n",
    "bodemobservaties = bodemobservaties.drop(['x', 'y', 'mv_mtaw'], axis=1)\n",
    "\n",
    "# Merge the bodemlocatie information together with the observation information\n",
    "merged = pd.merge(bodemobservaties, bodemlocaties, on=\"pkey_bodemlocatie\", how='left')\n",
    "\n",
    "merged.head()"
   ]
  },
  {
   "cell_type": "markdown",
   "metadata": {},
   "source": [
    "To export the results to CSV, you can use for example: \n",
    "```python\n",
    "merged.to_csv(\"test.csv\")\n",
    "```"
   ]
  },
  {
   "cell_type": "markdown",
   "metadata": {},
   "source": [
    "We can plot also the results on a map\n",
    "This can take some time!"
   ]
  },
  {
   "cell_type": "code",
   "execution_count": 20,
   "metadata": {
    "scrolled": true
   },
   "outputs": [
    {
     "data": {
      "text/html": [
       "<div style=\"width:100%;\"><div style=\"position:relative;width:100%;height:0;padding-bottom:60%;\"><iframe src=\"data:text/html;charset=utf-8;base64,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\" style=\"position:absolute;width:100%;height:100%;left:0;top:0;border:none !important;\" allowfullscreen webkitallowfullscreen mozallowfullscreen></iframe></div></div>"
      ],
      "text/plain": [
       "<folium.folium.Map at 0x2053634ca58>"
      ]
     },
     "execution_count": 20,
     "metadata": {},
     "output_type": "execute_result"
    }
   ],
   "source": [
    "import folium\n",
    "from folium.plugins import MarkerCluster\n",
    "from pyproj import Transformer\n",
    "\n",
    "# convert the coordinates to lat/lon for folium\n",
    "def convert_latlon(x1, y1):\n",
    "    transformer = Transformer.from_crs(\"epsg:31370\", \"epsg:4326\", always_xy=True)\n",
    "    x2,y2 = transformer.transform(x1, y1)\n",
    "    return x2, y2\n",
    "\n",
    "#convert coordinates to wgs84\n",
    "merged['lon'], merged['lat'] = zip(*map(convert_latlon, merged['x'], merged['y']))\n",
    "\n",
    "# Get only location and value\n",
    "loclist = merged[['lat', 'lon']].values.tolist()\n",
    "\n",
    "# initialize the Folium map on the centre of the selected locations, play with the zoom until ok\n",
    "fmap = folium.Map(location=[merged['lat'].mean(), merged['lon'].mean()], zoom_start=10)\n",
    "marker_cluster = MarkerCluster().add_to(fmap)\n",
    "for loc in range(0, len(loclist)):\n",
    "    popup = 'Bodemlocatie: ' + merged['pkey_bodemlocatie'][loc] \n",
    "    popup = popup + '<br> Bodemobservatie: ' + merged['pkey_bodemobservatie'][loc]\n",
    "    popup = popup + '<br> Value: ' + merged['waarde'][loc] + \"%\"\n",
    "    folium.Marker(loclist[loc], popup=popup).add_to(marker_cluster)\n",
    "fmap"
   ]
  },
  {
   "cell_type": "markdown",
   "metadata": {},
   "source": [
    "### Calculate carbon stock in Ghent in the layer 0 - 23 cm"
   ]
  },
  {
   "cell_type": "markdown",
   "metadata": {},
   "source": [
    "*At the moment, there are no bulkdensities available. As soon as there are observations with bulkdensities, this example can be used to calculate a carbon stock in a layer.*"
   ]
  },
  {
   "cell_type": "markdown",
   "metadata": {},
   "source": [
    "Get boundaries of Ghent using WFS"
   ]
  },
  {
   "cell_type": "code",
   "execution_count": 21,
   "metadata": {},
   "outputs": [],
   "source": [
    "from owslib.etree import etree\n",
    "from owslib.wfs import WebFeatureService\n",
    "from pydov.util.location import (\n",
    "    GmlFilter,\n",
    "    Within,\n",
    ")\n",
    "\n",
    "stadsgrenzen = WebFeatureService(\n",
    "    'https://geoservices.informatievlaanderen.be/overdrachtdiensten/VRBG/wfs',\n",
    "    version='1.1.0')\n",
    "\n",
    "gent_filter = PropertyIsEqualTo(propertyname='NAAM', literal='Gent')\n",
    "gent_poly = stadsgrenzen.getfeature(\n",
    "    typename='VRBG:Refgem',\n",
    "    filter=etree.tostring(gent_filter.toXML()).decode(\"utf8\")).read()"
   ]
  },
  {
   "cell_type": "markdown",
   "metadata": {},
   "source": [
    "First get all observations in Ghent for organisch C percentage in requested layer"
   ]
  },
  {
   "cell_type": "code",
   "execution_count": 22,
   "metadata": {},
   "outputs": [
    {
     "name": "stdout",
     "output_type": "stream",
     "text": [
      "[000/247] cccccccccccccccccccccccccccccccccccccccccccccccccc\n",
      "[050/247] cccccccccccccccccccccccccccccccccccccccccccccccccc\n",
      "[100/247] cccccccccccccccccccccccccccccccccccccccccccccccccc\n",
      "[150/247] cccccccccccccccccccccccccccccccccccccccccccccccccc\n",
      "[200/247] ccccccccccccccccccccccccccccccccccccccccccccccc\n"
     ]
    },
    {
     "data": {
      "text/html": [
       "<div>\n",
       "<style scoped>\n",
       "    .dataframe tbody tr th:only-of-type {\n",
       "        vertical-align: middle;\n",
       "    }\n",
       "\n",
       "    .dataframe tbody tr th {\n",
       "        vertical-align: top;\n",
       "    }\n",
       "\n",
       "    .dataframe thead th {\n",
       "        text-align: right;\n",
       "    }\n",
       "</style>\n",
       "<table border=\"1\" class=\"dataframe\">\n",
       "  <thead>\n",
       "    <tr style=\"text-align: right;\">\n",
       "      <th></th>\n",
       "      <th>pkey_bodemlocatie</th>\n",
       "      <th>organic_c_percentage</th>\n",
       "    </tr>\n",
       "  </thead>\n",
       "  <tbody>\n",
       "    <tr>\n",
       "      <th>0</th>\n",
       "      <td>https://www.dov.vlaanderen.be/data/bodemlocati...</td>\n",
       "      <td>1.24516627996906</td>\n",
       "    </tr>\n",
       "    <tr>\n",
       "      <th>1</th>\n",
       "      <td>https://www.dov.vlaanderen.be/data/bodemlocati...</td>\n",
       "      <td>0.889404485692189</td>\n",
       "    </tr>\n",
       "    <tr>\n",
       "      <th>2</th>\n",
       "      <td>https://www.dov.vlaanderen.be/data/bodemlocati...</td>\n",
       "      <td>2.43619489559165</td>\n",
       "    </tr>\n",
       "    <tr>\n",
       "      <th>3</th>\n",
       "      <td>https://www.dov.vlaanderen.be/data/bodemlocati...</td>\n",
       "      <td>1.10595514307811</td>\n",
       "    </tr>\n",
       "    <tr>\n",
       "      <th>4</th>\n",
       "      <td>https://www.dov.vlaanderen.be/data/bodemlocati...</td>\n",
       "      <td>1.430781129157</td>\n",
       "    </tr>\n",
       "  </tbody>\n",
       "</table>\n",
       "</div>"
      ],
      "text/plain": [
       "                                   pkey_bodemlocatie organic_c_percentage\n",
       "0  https://www.dov.vlaanderen.be/data/bodemlocati...     1.24516627996906\n",
       "1  https://www.dov.vlaanderen.be/data/bodemlocati...    0.889404485692189\n",
       "2  https://www.dov.vlaanderen.be/data/bodemlocati...     2.43619489559165\n",
       "3  https://www.dov.vlaanderen.be/data/bodemlocati...     1.10595514307811\n",
       "4  https://www.dov.vlaanderen.be/data/bodemlocati...       1.430781129157"
      ]
     },
     "execution_count": 22,
     "metadata": {},
     "output_type": "execute_result"
    }
   ],
   "source": [
    "from owslib.fes import PropertyIsEqualTo, PropertyIsGreaterThan, PropertyIsLessThan\n",
    "from owslib.fes import And\n",
    "\n",
    "from pydov.search.bodemobservatie import BodemobservatieSearch\n",
    "\n",
    "bodemobservatie = BodemobservatieSearch()\n",
    "\n",
    "# all layers intersect the layer 0-23cm\n",
    "carbon_observaties = bodemobservatie.search(\n",
    "        location=GmlFilter(gent_poly, Within),\n",
    "        query=And([\n",
    "            PropertyIsEqualTo(propertyname=\"parameter\", literal=\"Organische C - percentage\"),\n",
    "            PropertyIsGreaterThan(propertyname=\"diepte_tot_cm\", literal = '0'),\n",
    "            PropertyIsLessThan(propertyname=\"diepte_van_cm\", literal = '23')\n",
    "        ]))\n",
    "carbon_observaties = carbon_observaties[['pkey_bodemlocatie', 'waarde']]\n",
    "carbon_observaties = carbon_observaties.rename(columns={\"waarde\": \"organic_c_percentage\"})\n",
    "carbon_observaties.head()\n"
   ]
  },
  {
   "cell_type": "markdown",
   "metadata": {},
   "source": [
    "Then get all observations in Ghent for bulkdensity in requested layer"
   ]
  },
  {
   "cell_type": "code",
   "execution_count": 23,
   "metadata": {},
   "outputs": [
    {
     "data": {
      "text/html": [
       "<div>\n",
       "<style scoped>\n",
       "    .dataframe tbody tr th:only-of-type {\n",
       "        vertical-align: middle;\n",
       "    }\n",
       "\n",
       "    .dataframe tbody tr th {\n",
       "        vertical-align: top;\n",
       "    }\n",
       "\n",
       "    .dataframe thead th {\n",
       "        text-align: right;\n",
       "    }\n",
       "</style>\n",
       "<table border=\"1\" class=\"dataframe\">\n",
       "  <thead>\n",
       "    <tr style=\"text-align: right;\">\n",
       "      <th></th>\n",
       "      <th>pkey_bodemlocatie</th>\n",
       "      <th>bulkdensity</th>\n",
       "    </tr>\n",
       "  </thead>\n",
       "  <tbody>\n",
       "  </tbody>\n",
       "</table>\n",
       "</div>"
      ],
      "text/plain": [
       "Empty DataFrame\n",
       "Columns: [pkey_bodemlocatie, bulkdensity]\n",
       "Index: []"
      ]
     },
     "execution_count": 23,
     "metadata": {},
     "output_type": "execute_result"
    }
   ],
   "source": [
    "density_observaties = bodemobservatie.search(\n",
    "        location=GmlFilter(gent_poly, Within),\n",
    "        query=And([\n",
    "            PropertyIsEqualTo(propertyname=\"parameter\", literal=\"Bulkdensitiet - gemeten\"),\n",
    "            PropertyIsGreaterThan(propertyname=\"diepte_tot_cm\", literal = '0'),\n",
    "            PropertyIsLessThan(propertyname=\"diepte_van_cm\", literal = '23')\n",
    "        ]))\n",
    "\n",
    "\n",
    "density_observaties = density_observaties[['pkey_bodemlocatie', 'waarde']]\n",
    "density_observaties = density_observaties.rename(columns={\"waarde\": \"bulkdensity\"})\n",
    "density_observaties.head()"
   ]
  },
  {
   "cell_type": "markdown",
   "metadata": {},
   "source": [
    "Merge results together based on their bodemlocatie. Only remains the records where both parameters exists"
   ]
  },
  {
   "cell_type": "code",
   "execution_count": 24,
   "metadata": {},
   "outputs": [
    {
     "data": {
      "text/html": [
       "<div>\n",
       "<style scoped>\n",
       "    .dataframe tbody tr th:only-of-type {\n",
       "        vertical-align: middle;\n",
       "    }\n",
       "\n",
       "    .dataframe tbody tr th {\n",
       "        vertical-align: top;\n",
       "    }\n",
       "\n",
       "    .dataframe thead th {\n",
       "        text-align: right;\n",
       "    }\n",
       "</style>\n",
       "<table border=\"1\" class=\"dataframe\">\n",
       "  <thead>\n",
       "    <tr style=\"text-align: right;\">\n",
       "      <th></th>\n",
       "      <th>pkey_bodemlocatie</th>\n",
       "      <th>organic_c_percentage</th>\n",
       "      <th>bulkdensity</th>\n",
       "    </tr>\n",
       "  </thead>\n",
       "  <tbody>\n",
       "  </tbody>\n",
       "</table>\n",
       "</div>"
      ],
      "text/plain": [
       "Empty DataFrame\n",
       "Columns: [pkey_bodemlocatie, organic_c_percentage, bulkdensity]\n",
       "Index: []"
      ]
     },
     "execution_count": 24,
     "metadata": {},
     "output_type": "execute_result"
    }
   ],
   "source": [
    "import pandas as pd\n",
    "\n",
    "merged = pd.merge(carbon_observaties, density_observaties, on=\"pkey_bodemlocatie\")\n",
    "\n",
    "merged.head()"
   ]
  },
  {
   "cell_type": "code",
   "execution_count": null,
   "metadata": {},
   "outputs": [],
   "source": []
  }
 ],
 "metadata": {
  "kernelspec": {
   "display_name": "Python 3",
   "language": "python",
   "name": "python3"
  },
  "language_info": {
   "codemirror_mode": {
    "name": "ipython",
    "version": 3
   },
   "file_extension": ".py",
   "mimetype": "text/x-python",
   "name": "python",
   "nbconvert_exporter": "python",
   "pygments_lexer": "ipython3",
   "version": "3.7.3"
  }
 },
 "nbformat": 4,
 "nbformat_minor": 4
}
