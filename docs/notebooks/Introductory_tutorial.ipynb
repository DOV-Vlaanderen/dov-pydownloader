{
 "cells": [
  {
   "cell_type": "markdown",
   "metadata": {},
   "source": [
    "# Introductory tutorial"
   ]
  },
  {
   "cell_type": "markdown",
   "metadata": {},
   "source": [
    "[![Open in Binder](https://mybinder.org/badge_logo.svg)](https://mybinder.org/v2/gh/DOV-Vlaanderen/pydov/master?filepath=docs%2Fnotebooks%2FIntroductory_tutorial.ipynb)"
   ]
  },
  {
   "cell_type": "markdown",
   "metadata": {},
   "source": [
    "pydov provides machine access to the data that can be visualized with the DOV viewer at [this link](https://www.dov.vlaanderen.be/portaal/?module=verkenner)\n",
    "\n",
    "All the pydov functionalities rely on the existing DOV webservices. An in-depth overview of the available services and endpoints is provided on the [accessing DOV data page](https://pydov.readthedocs.io/en/latest/endpoints.html#endpoints). To retrieve data, pydov uses a combination of the available WFS services and the XML representation of the core DOV data.  \n",
    "\n",
    "As pydov relies on the XML data returned by the existing DOV webservices, downloading DOV data with pydov is governed by the same [disclaimer](https://www.dov.vlaanderen.be/page/disclaimer) that applies to the other DOV services. Be sure to consult it when using DOV data with pydov!\n",
    "\n",
    "pydov interfaces a database hosted by the Flemish governement. Therefore, some syntax of the API as well as the descriptions provided by the backend are in Dutch. "
   ]
  },
  {
   "cell_type": "markdown",
   "metadata": {},
   "source": [
    "## Use case: gather data for a hydrogeological model"
   ]
  },
  {
   "cell_type": "code",
   "execution_count": 84,
   "metadata": {},
   "outputs": [],
   "source": [
    "%matplotlib inline\n",
    "import inspect, sys"
   ]
  },
  {
   "cell_type": "code",
   "execution_count": 85,
   "metadata": {},
   "outputs": [],
   "source": [
    "# check pydov path\n",
    "import pydov"
   ]
  },
  {
   "cell_type": "markdown",
   "metadata": {},
   "source": [
    "### pydov: general info"
   ]
  },
  {
   "cell_type": "markdown",
   "metadata": {},
   "source": [
    "To get started with pydov you should first determine which information you want to search for. DOV provides a lot of different datasets about soil, subsoil and groundwater of Flanders, some of which can be queried using pydov. See https://pydov.readthedocs.io/en/latest/quickstart.html for the supported datasets."
   ]
  },
  {
   "cell_type": "markdown",
   "metadata": {},
   "source": [
    "In this case, to start with a hydrogeological model, we are interested in the hydrostratigraphic interpretation of the borehole data and the groundwater level. These datasets can be found with the following search objects:\n",
    "- Hydrodstratigrapic interpretation: https://pydov.readthedocs.io/en/latest/reference.html#pydov.search.interpretaties.HydrogeologischeStratigrafieSearch\n",
    "- Groundwater level:\n",
    "https://pydov.readthedocs.io/en/latest/reference.html#pydov.search.grondwaterfilter.GrondwaterFilterSearch\n",
    "\n",
    "Indeed, each of the datasets can be queried using a search object for the specific dataset. While the search objects are different, the workflow is the same for each dataset. Relevant classes can be imported from the pydov.search package, for example if we’d like to query the dataset with hydrogeological interpretations of borehole data:"
   ]
  },
  {
   "cell_type": "code",
   "execution_count": 86,
   "metadata": {},
   "outputs": [],
   "source": [
    "from pydov.search.interpretaties import HydrogeologischeStratigrafieSearch\n",
    "hs = HydrogeologischeStratigrafieSearch()"
   ]
  },
  {
   "cell_type": "markdown",
   "metadata": {},
   "source": [
    "If you would like some more information, you can query the search object. Sincy pydov interfaces a database from Flemish government agencies, the descriptions are in Dutch:"
   ]
  },
  {
   "cell_type": "code",
   "execution_count": 87,
   "metadata": {},
   "outputs": [
    {
     "data": {
      "text/plain": [
       "'De hydrostratigrafie geeft, op basis van de (gecodeerde) lithologie, een indeling weer naar de al dan niet watervoerende eigenschappen van een bepaald beschreven diepte-interval. Deze interpretatie respecteert de lithostratigrafie van het Tertiair, maar deelt deze anders in. De hiervoor gebruikte standaard is de Hydrogeologische Codering van de Ondergrond van Vlaanderen (HCOV). Deze kan beschouwd worden als de officiele hydrogeologische codering voor het Vlaams Gewest.'"
      ]
     },
     "execution_count": 87,
     "metadata": {},
     "output_type": "execute_result"
    }
   ],
   "source": [
    "hs.get_description()"
   ]
  },
  {
   "cell_type": "markdown",
   "metadata": {},
   "source": [
    "The different fields that are available for objects of the 'Hydrogeologische Stratigrafie' datatype can be requested with the get_fields() method:"
   ]
  },
  {
   "cell_type": "code",
   "execution_count": 88,
   "metadata": {},
   "outputs": [
    {
     "name": "stdout",
     "output_type": "stream",
     "text": [
      "pkey_interpretatie\n",
      "Type_proef\n",
      "Proefnummer\n",
      "pkey_boring\n",
      "x\n",
      "y\n",
      "Z_mTAW\n",
      "diepte_tot_m\n",
      "gemeente\n",
      "Auteurs\n",
      "Datum\n",
      "Opdrachten\n",
      "betrouwbaarheid_interpretatie\n",
      "Geldig_van\n",
      "Geldig_tot\n",
      "diepte_laag_van\n",
      "diepte_laag_tot\n",
      "aquifer\n"
     ]
    }
   ],
   "source": [
    "fields = hs.get_fields()\n",
    "# print available fields\n",
    "for f in fields.values():\n",
    "    print(f['name'])"
   ]
  },
  {
   "cell_type": "markdown",
   "metadata": {},
   "source": [
    "You can get more information of a field by requesting it from the fields dictionary:\n",
    "\n",
    "- name: name of the field\n",
    "- definition: definition of this field\n",
    "- cost: currently this is either 1 or 10, depending on the datasource of the field. It is an indication of the expected time it will take to retrieve this field in the output dataframe.\n",
    "- notnull: whether the field is mandatory or not\n",
    "- type: datatype of the values of this field"
   ]
  },
  {
   "cell_type": "code",
   "execution_count": 89,
   "metadata": {},
   "outputs": [
    {
     "data": {
      "text/plain": [
       "{'name': 'pkey_interpretatie',\n",
       " 'definition': \"URL die verwijst naar de gegevens van deze hydrogeologische stratigrafie op de website. Voeg '.xml' toe om een XML voorstelling van deze gegevens te verkrijgen.\",\n",
       " 'type': 'string',\n",
       " 'notnull': False,\n",
       " 'query': True,\n",
       " 'cost': 1}"
      ]
     },
     "execution_count": 89,
     "metadata": {},
     "output_type": "execute_result"
    }
   ],
   "source": [
    "fields['pkey_interpretatie']"
   ]
  },
  {
   "cell_type": "markdown",
   "metadata": {},
   "source": [
    "The fields `pkey_interpretatie` and `pkey_boring` are important identifiers. In this case `pkey_interpretatie` is the unique identifier of this interpretation and is also the **permanent url** where the data can be viewed (~https://www.dov.vlaanderen.be/data/interpretatie/...), or retrieved if you additionally add ... + **.** *xml* \n",
    "\n",
    "The `pkey_boring` is the identifier of the borehole from which this interpretation was made. As mentioned before, it is also  the **permanent url** (~https://www.dov.vlaanderen.be/data/boring/...). "
   ]
  },
  {
   "cell_type": "markdown",
   "metadata": {},
   "source": [
    "Optionally, if the values of a field have a specific domain the possible values are listed as *values*:"
   ]
  },
  {
   "cell_type": "code",
   "execution_count": 90,
   "metadata": {},
   "outputs": [
    {
     "data": {
      "text/plain": [
       "{'0000': 'Onbekend',\n",
       " '0100': 'Quartaire aquifersystemen',\n",
       " '0110': 'Ophogingen',\n",
       " '0120': 'Duinen',\n",
       " '0130': 'Polderafzettingen',\n",
       " '0131': 'Kleiige polderafzettingen van de kustvlakte',\n",
       " '0132': 'Kleiige polderafzettingen van het Meetjesland',\n",
       " '0133': 'Kleiige polderafzettingen van Waasland-Antwerpen',\n",
       " '0134': 'Zandige kreekruggen',\n",
       " '0135': 'Veen-kleiige poelgronden',\n",
       " '0140': 'Alluviale deklagen',\n",
       " '0150': 'Deklagen',\n",
       " '0151': 'Zandige deklagen',\n",
       " '0152': 'Zand-lemige deklagen',\n",
       " '0153': 'Lemige deklagen',\n",
       " '0154': 'Kleiige deklagen',\n",
       " '0160': 'Pleistocene afzettingen',\n",
       " '0161': 'Pleistoceen van de kustvlakte',\n",
       " '0162': 'Pleistoceen van de Vlaamse Vallei',\n",
       " '0163': 'Pleistoceen van de riviervalleien',\n",
       " '0170': 'Maas- en Rijnafzettingen',\n",
       " '0171': 'Afzettingen Hoofdterras',\n",
       " '0172': 'Afzettingen Tussenterassen',\n",
       " '0173': 'Afzettingen Maasvlakte',\n",
       " '0200': 'Kempens Aquifersysteem',\n",
       " '0210': 'Kiezeloolietformatie ten noorden van Feldbiss',\n",
       " '0211': 'Zandige eenheid boven de Brunssum I-klei',\n",
       " '0212': 'Brunssum I-Klei',\n",
       " '0213': 'Zand van Pey',\n",
       " '0214': 'Brunssum II-klei',\n",
       " '0215': 'Zand van Waubach',\n",
       " '0220': 'Klei-zand-complex van de Kempen',\n",
       " '0221': 'Klei van Turnhout',\n",
       " '0222': 'Zand van Beerse',\n",
       " '0223': 'Klei van Rijkevorsel',\n",
       " '0230': 'Pleistoceen en Plioceen aquifer',\n",
       " '0231': 'Zanden van Brasschaat en/of Merksplas',\n",
       " '0232': 'Zand van Mol',\n",
       " '0233': 'Zandige top van Lillo',\n",
       " '0234': 'Zand van Poederlee en/of zandige top van Kasterlee',\n",
       " '0240': 'Pliocene kleiige laag',\n",
       " '0241': 'Kleiig deel van Lillo en/of van de overgang Lillo-Kattendijk',\n",
       " '0242': 'Kleiige overgang tussen de zanden van Kasterlee en Diest',\n",
       " '0250': 'Mioceen Aquifersysteem',\n",
       " '0251': 'Zand van Kattendijk en/of onderste zandlaag van Lillo',\n",
       " '0252': 'Zand van Diest',\n",
       " '0253': 'Zand van Bolderberg',\n",
       " '0254': 'Zanden van Berchem en/of Voort',\n",
       " '0255': 'Klei van Veldhoven',\n",
       " '0256': 'Zand van Eigenbilzen',\n",
       " '0300': 'Boom Aquitard',\n",
       " '0301': 'Kleiig deel van Eigenbilzen',\n",
       " '0302': 'Klei van Putte',\n",
       " '0303': 'Klei van Terhagen',\n",
       " '0304': 'Klei van Belsele-Waas',\n",
       " '0400': 'Oligoceen Aquifersysteem',\n",
       " '0410': 'Zand van Kerniel',\n",
       " '0420': 'Klei van Kleine-Spouwen',\n",
       " '0430': 'Ruisbroek-Berg Aquifer',\n",
       " '0431': 'Zand van Berg',\n",
       " '0432': 'Zand van Kerkom',\n",
       " '0433': 'Kleiig zand van Oude Biezen',\n",
       " '0434': 'Zand van Boutersem',\n",
       " '0435': 'Zand van Ruisbroek',\n",
       " '0436': 'Zand van Wintham',\n",
       " '0440': 'Tongeren Aquitard',\n",
       " '0441': 'Klei van Henis',\n",
       " '0442': 'Klei van Watervliet',\n",
       " '0450': 'Onder-Oligoceen Aquifersysteem',\n",
       " '0451': 'Zand van Neerrepen',\n",
       " '0452': 'Zand-Klei van Grimmertingen',\n",
       " '0453': 'Kleiig zand van Bassevelde',\n",
       " '0500': 'Bartoon Aquitardsysteem',\n",
       " '0501': 'Klei van Onderdijke',\n",
       " '0502': 'Zand van Buisputten',\n",
       " '0503': 'Klei van Zomergem',\n",
       " '0504': 'Zand van Onderdaele',\n",
       " '0505': 'Kleien van Ursel en/of Asse',\n",
       " '0600': 'Ledo Paniseliaan Brusseliaan Aquifersysteem',\n",
       " '0610': 'Wemmel-Lede Aquifer',\n",
       " '0611': 'Zand van Wemmel',\n",
       " '0612': 'Zand van Lede',\n",
       " '0620': 'Zand van Brussel',\n",
       " '0630': 'Afzettingen van het Boven-Paniseliaan',\n",
       " '0631': 'Zanden van Aanlter en/of Oedelem',\n",
       " '0632': 'Zandige klei van Beernem',\n",
       " '0640': 'Zandige afzettingen van het Onder-Paniseliaan (Vlierzele en/of Aalterbrugge)',\n",
       " '0700': 'Paniseliaan Aquitard',\n",
       " '0701': 'Klei van Pittem',\n",
       " '0702': 'Klei van Merelbeke',\n",
       " '0800': 'Ieperiaan Aquifer (Egem en of Mont-Panisel)',\n",
       " '0900': 'Ieperiaan aquitardsysteem',\n",
       " '0910': 'Silt van Kortemark',\n",
       " '0920': 'Afzettingen van Kortrijk',\n",
       " '0921': 'Klei van Aalbeke',\n",
       " '0922': 'Klei van Moen',\n",
       " '0923': 'Zand van Mons-en-Pévèle',\n",
       " '0924': 'Klei van Saint-Maur',\n",
       " '0925': 'Klei van Mont-Héribu',\n",
       " '1000': 'Paleoceen Aquifersysteem',\n",
       " '1010': 'Landeniaan Aquifersysteem',\n",
       " '1011': 'Zand van Knokke',\n",
       " '1012': 'Zandige afzettingen van Loksbergen en/of Dormaal',\n",
       " '1013': 'Zand van Grandglise en/of Hoegaarden',\n",
       " '1014': 'Kleiig deel van Lincent',\n",
       " '1015': 'Versteend deel van Lincent',\n",
       " '1020': 'Landeniaan en Heersiaan Aquitard',\n",
       " '1021': 'Siltige afzetting van Halen',\n",
       " '1022': 'Klei van Waterschei',\n",
       " '1023': 'Slecht doorlatend deel van de mergels van Gelinden',\n",
       " '1030': 'Heersiaan en Opglabbeek Aquifersysteem',\n",
       " '1031': 'Doorlatend deel van de Mergels van Gelinden',\n",
       " '1032': 'Zand van Orp',\n",
       " '1033': 'Zand van Eisden',\n",
       " '1034': 'Klei van Opoeteren',\n",
       " '1035': 'Zand van Maasmechelen',\n",
       " '1100': 'Krijt Aquifersysteem',\n",
       " '1110': 'Krijt Aquifer',\n",
       " '1111': 'Kalksteen van Houthem',\n",
       " '1112': 'Tufkrijt van Maastricht',\n",
       " '1113': 'Krijt van Gulpen',\n",
       " '1120': 'Afzettingen van Vaals (Smectiet van Herve)',\n",
       " '1130': 'Zand van Aken',\n",
       " '1140': 'Turoonmergels op Massief van Brabant',\n",
       " '1150': 'Wealdiaan',\n",
       " '1200': 'Jura-Trias-Perm',\n",
       " '1210': 'Jura',\n",
       " '1220': 'Trias',\n",
       " '1230': 'Perm',\n",
       " '1300': 'Sokkel',\n",
       " '1310': 'Boven-Carboon',\n",
       " '1320': 'Kolenkalk',\n",
       " '1330': 'Devoon',\n",
       " '1340': 'Cambro-Siluur Massief van Brabant'}"
      ]
     },
     "execution_count": 90,
     "metadata": {},
     "output_type": "execute_result"
    }
   ],
   "source": [
    "fields['aquifer']['values']"
   ]
  },
  {
   "cell_type": "markdown",
   "metadata": {},
   "source": [
    "### Query the data with pydov"
   ]
  },
  {
   "cell_type": "markdown",
   "metadata": {},
   "source": [
    "#### Attributes"
   ]
  },
  {
   "cell_type": "markdown",
   "metadata": {},
   "source": [
    "The data can be queried on **attributes**, **location** or both. To query on attributes, the OGC filter functions from OWSLib are used:"
   ]
  },
  {
   "cell_type": "code",
   "execution_count": 91,
   "metadata": {},
   "outputs": [
    {
     "name": "stdout",
     "output_type": "stream",
     "text": [
      "PropertyIsBetween\n",
      "PropertyIsEqualTo\n",
      "PropertyIsGreaterThan\n",
      "PropertyIsGreaterThanOrEqualTo\n",
      "PropertyIsLessThan\n",
      "PropertyIsLessThanOrEqualTo\n",
      "PropertyIsLike\n",
      "PropertyIsNotEqualTo\n",
      "PropertyIsNull\n",
      "SortProperty\n"
     ]
    }
   ],
   "source": [
    "# list available query methods\n",
    "methods = [i for i,j in inspect.getmembers(sys.modules['owslib.fes'], \n",
    "                                           inspect.isclass) \n",
    "           if 'Property' in i]\n",
    "print(*methods, sep = \"\\n\") "
   ]
  },
  {
   "cell_type": "markdown",
   "metadata": {},
   "source": [
    "If you are for example interested in all the hydrostratigraphic interpretations in the city of Louvain, you compose the query like below (mind that the values are in Dutch):"
   ]
  },
  {
   "cell_type": "code",
   "execution_count": 92,
   "metadata": {},
   "outputs": [
    {
     "name": "stdout",
     "output_type": "stream",
     "text": [
      "[000/038] cccccccccccccccccccccccccccccccccccccc\n"
     ]
    },
    {
     "data": {
      "text/html": [
       "<div>\n",
       "<style scoped>\n",
       "    .dataframe tbody tr th:only-of-type {\n",
       "        vertical-align: middle;\n",
       "    }\n",
       "\n",
       "    .dataframe tbody tr th {\n",
       "        vertical-align: top;\n",
       "    }\n",
       "\n",
       "    .dataframe thead th {\n",
       "        text-align: right;\n",
       "    }\n",
       "</style>\n",
       "<table border=\"1\" class=\"dataframe\">\n",
       "  <thead>\n",
       "    <tr style=\"text-align: right;\">\n",
       "      <th></th>\n",
       "      <th>pkey_interpretatie</th>\n",
       "      <th>pkey_boring</th>\n",
       "      <th>betrouwbaarheid_interpretatie</th>\n",
       "      <th>x</th>\n",
       "      <th>y</th>\n",
       "      <th>diepte_laag_van</th>\n",
       "      <th>diepte_laag_tot</th>\n",
       "      <th>aquifer</th>\n",
       "    </tr>\n",
       "  </thead>\n",
       "  <tbody>\n",
       "    <tr>\n",
       "      <th>0</th>\n",
       "      <td>https://www.dov.vlaanderen.be/data/interpretat...</td>\n",
       "      <td>https://www.dov.vlaanderen.be/data/boring/1889...</td>\n",
       "      <td>goed</td>\n",
       "      <td>169506.0</td>\n",
       "      <td>173442.0</td>\n",
       "      <td>0.0</td>\n",
       "      <td>5.5</td>\n",
       "      <td>0163</td>\n",
       "    </tr>\n",
       "    <tr>\n",
       "      <th>1</th>\n",
       "      <td>https://www.dov.vlaanderen.be/data/interpretat...</td>\n",
       "      <td>https://www.dov.vlaanderen.be/data/boring/1889...</td>\n",
       "      <td>goed</td>\n",
       "      <td>169506.0</td>\n",
       "      <td>173442.0</td>\n",
       "      <td>5.5</td>\n",
       "      <td>22.8</td>\n",
       "      <td>0450</td>\n",
       "    </tr>\n",
       "    <tr>\n",
       "      <th>2</th>\n",
       "      <td>https://www.dov.vlaanderen.be/data/interpretat...</td>\n",
       "      <td>https://www.dov.vlaanderen.be/data/boring/1934...</td>\n",
       "      <td>goed</td>\n",
       "      <td>177360.0</td>\n",
       "      <td>175051.0</td>\n",
       "      <td>0.0</td>\n",
       "      <td>21.0</td>\n",
       "      <td>0000</td>\n",
       "    </tr>\n",
       "    <tr>\n",
       "      <th>3</th>\n",
       "      <td>https://www.dov.vlaanderen.be/data/interpretat...</td>\n",
       "      <td>https://www.dov.vlaanderen.be/data/boring/1934...</td>\n",
       "      <td>goed</td>\n",
       "      <td>177360.0</td>\n",
       "      <td>175051.0</td>\n",
       "      <td>21.0</td>\n",
       "      <td>25.0</td>\n",
       "      <td>0450</td>\n",
       "    </tr>\n",
       "    <tr>\n",
       "      <th>4</th>\n",
       "      <td>https://www.dov.vlaanderen.be/data/interpretat...</td>\n",
       "      <td>https://www.dov.vlaanderen.be/data/boring/1934...</td>\n",
       "      <td>goed</td>\n",
       "      <td>177360.0</td>\n",
       "      <td>175051.0</td>\n",
       "      <td>25.0</td>\n",
       "      <td>33.0</td>\n",
       "      <td>0612</td>\n",
       "    </tr>\n",
       "  </tbody>\n",
       "</table>\n",
       "</div>"
      ],
      "text/plain": [
       "                                  pkey_interpretatie  \\\n",
       "0  https://www.dov.vlaanderen.be/data/interpretat...   \n",
       "1  https://www.dov.vlaanderen.be/data/interpretat...   \n",
       "2  https://www.dov.vlaanderen.be/data/interpretat...   \n",
       "3  https://www.dov.vlaanderen.be/data/interpretat...   \n",
       "4  https://www.dov.vlaanderen.be/data/interpretat...   \n",
       "\n",
       "                                         pkey_boring  \\\n",
       "0  https://www.dov.vlaanderen.be/data/boring/1889...   \n",
       "1  https://www.dov.vlaanderen.be/data/boring/1889...   \n",
       "2  https://www.dov.vlaanderen.be/data/boring/1934...   \n",
       "3  https://www.dov.vlaanderen.be/data/boring/1934...   \n",
       "4  https://www.dov.vlaanderen.be/data/boring/1934...   \n",
       "\n",
       "  betrouwbaarheid_interpretatie         x         y  diepte_laag_van  \\\n",
       "0                          goed  169506.0  173442.0              0.0   \n",
       "1                          goed  169506.0  173442.0              5.5   \n",
       "2                          goed  177360.0  175051.0              0.0   \n",
       "3                          goed  177360.0  175051.0             21.0   \n",
       "4                          goed  177360.0  175051.0             25.0   \n",
       "\n",
       "   diepte_laag_tot aquifer  \n",
       "0              5.5    0163  \n",
       "1             22.8    0450  \n",
       "2             21.0    0000  \n",
       "3             25.0    0450  \n",
       "4             33.0    0612  "
      ]
     },
     "execution_count": 92,
     "metadata": {},
     "output_type": "execute_result"
    }
   ],
   "source": [
    "from owslib.fes import PropertyIsEqualTo\n",
    "query = PropertyIsEqualTo(\n",
    "            propertyname='gemeente',\n",
    "            literal='Leuven')\n",
    "dfhs = hs.search(query=query)\n",
    "dfhs.head()"
   ]
  },
  {
   "cell_type": "markdown",
   "metadata": {},
   "source": [
    "This yielded 38 interpretations from 38, or less, boreholes. It can be less than 38 boreholes because multiple interpretations can be made of a single borehole. \n",
    "\n",
    "If you would like to narrow the search down to for example data below 200 meters, you can combine features in the search using the **logical operators And, Or** provided by OWSLib:"
   ]
  },
  {
   "cell_type": "code",
   "execution_count": 93,
   "metadata": {},
   "outputs": [
    {
     "name": "stdout",
     "output_type": "stream",
     "text": [
      "[000/001] c\n"
     ]
    },
    {
     "data": {
      "text/html": [
       "<div>\n",
       "<style scoped>\n",
       "    .dataframe tbody tr th:only-of-type {\n",
       "        vertical-align: middle;\n",
       "    }\n",
       "\n",
       "    .dataframe tbody tr th {\n",
       "        vertical-align: top;\n",
       "    }\n",
       "\n",
       "    .dataframe thead th {\n",
       "        text-align: right;\n",
       "    }\n",
       "</style>\n",
       "<table border=\"1\" class=\"dataframe\">\n",
       "  <thead>\n",
       "    <tr style=\"text-align: right;\">\n",
       "      <th></th>\n",
       "      <th>pkey_interpretatie</th>\n",
       "      <th>pkey_boring</th>\n",
       "      <th>betrouwbaarheid_interpretatie</th>\n",
       "      <th>x</th>\n",
       "      <th>y</th>\n",
       "      <th>diepte_laag_van</th>\n",
       "      <th>diepte_laag_tot</th>\n",
       "      <th>aquifer</th>\n",
       "    </tr>\n",
       "  </thead>\n",
       "  <tbody>\n",
       "    <tr>\n",
       "      <th>0</th>\n",
       "      <td>https://www.dov.vlaanderen.be/data/interpretat...</td>\n",
       "      <td>https://www.dov.vlaanderen.be/data/boring/1932...</td>\n",
       "      <td>goed</td>\n",
       "      <td>173252.0</td>\n",
       "      <td>179257.0</td>\n",
       "      <td>0.0</td>\n",
       "      <td>4.5</td>\n",
       "      <td>0162</td>\n",
       "    </tr>\n",
       "    <tr>\n",
       "      <th>1</th>\n",
       "      <td>https://www.dov.vlaanderen.be/data/interpretat...</td>\n",
       "      <td>https://www.dov.vlaanderen.be/data/boring/1932...</td>\n",
       "      <td>goed</td>\n",
       "      <td>173252.0</td>\n",
       "      <td>179257.0</td>\n",
       "      <td>4.5</td>\n",
       "      <td>59.0</td>\n",
       "      <td>0620</td>\n",
       "    </tr>\n",
       "    <tr>\n",
       "      <th>2</th>\n",
       "      <td>https://www.dov.vlaanderen.be/data/interpretat...</td>\n",
       "      <td>https://www.dov.vlaanderen.be/data/boring/1932...</td>\n",
       "      <td>goed</td>\n",
       "      <td>173252.0</td>\n",
       "      <td>179257.0</td>\n",
       "      <td>59.0</td>\n",
       "      <td>90.7</td>\n",
       "      <td>0900</td>\n",
       "    </tr>\n",
       "    <tr>\n",
       "      <th>3</th>\n",
       "      <td>https://www.dov.vlaanderen.be/data/interpretat...</td>\n",
       "      <td>https://www.dov.vlaanderen.be/data/boring/1932...</td>\n",
       "      <td>goed</td>\n",
       "      <td>173252.0</td>\n",
       "      <td>179257.0</td>\n",
       "      <td>90.7</td>\n",
       "      <td>110.0</td>\n",
       "      <td>1013</td>\n",
       "    </tr>\n",
       "    <tr>\n",
       "      <th>4</th>\n",
       "      <td>https://www.dov.vlaanderen.be/data/interpretat...</td>\n",
       "      <td>https://www.dov.vlaanderen.be/data/boring/1932...</td>\n",
       "      <td>goed</td>\n",
       "      <td>173252.0</td>\n",
       "      <td>179257.0</td>\n",
       "      <td>110.0</td>\n",
       "      <td>130.0</td>\n",
       "      <td>1014</td>\n",
       "    </tr>\n",
       "  </tbody>\n",
       "</table>\n",
       "</div>"
      ],
      "text/plain": [
       "                                  pkey_interpretatie  \\\n",
       "0  https://www.dov.vlaanderen.be/data/interpretat...   \n",
       "1  https://www.dov.vlaanderen.be/data/interpretat...   \n",
       "2  https://www.dov.vlaanderen.be/data/interpretat...   \n",
       "3  https://www.dov.vlaanderen.be/data/interpretat...   \n",
       "4  https://www.dov.vlaanderen.be/data/interpretat...   \n",
       "\n",
       "                                         pkey_boring  \\\n",
       "0  https://www.dov.vlaanderen.be/data/boring/1932...   \n",
       "1  https://www.dov.vlaanderen.be/data/boring/1932...   \n",
       "2  https://www.dov.vlaanderen.be/data/boring/1932...   \n",
       "3  https://www.dov.vlaanderen.be/data/boring/1932...   \n",
       "4  https://www.dov.vlaanderen.be/data/boring/1932...   \n",
       "\n",
       "  betrouwbaarheid_interpretatie         x         y  diepte_laag_van  \\\n",
       "0                          goed  173252.0  179257.0              0.0   \n",
       "1                          goed  173252.0  179257.0              4.5   \n",
       "2                          goed  173252.0  179257.0             59.0   \n",
       "3                          goed  173252.0  179257.0             90.7   \n",
       "4                          goed  173252.0  179257.0            110.0   \n",
       "\n",
       "   diepte_laag_tot aquifer  \n",
       "0              4.5    0162  \n",
       "1             59.0    0620  \n",
       "2             90.7    0900  \n",
       "3            110.0    1013  \n",
       "4            130.0    1014  "
      ]
     },
     "execution_count": 93,
     "metadata": {},
     "output_type": "execute_result"
    }
   ],
   "source": [
    "from owslib.fes import And\n",
    "from owslib.fes import PropertyIsGreaterThan\n",
    "query = And([\n",
    "    PropertyIsEqualTo(\n",
    "            propertyname='gemeente',\n",
    "            literal='Leuven'),\n",
    "    PropertyIsGreaterThan(\n",
    "            propertyname='diepte_tot_m',\n",
    "            literal='200')\n",
    "    ])\n",
    "dfhs = hs.search(query=query)\n",
    "dfhs.head()"
   ]
  },
  {
   "cell_type": "markdown",
   "metadata": {},
   "source": [
    "Mind the difference between attributes `diepte_tot_m` and *diepte_laag_...*. The former is defined in the WFS service and can be used as attribute in the query. The latter attributes are defined in the linked XML document, from which the information is only available after it has been gathered from the DOV webservice. All the attributes with a *cost* of 10 are not available in the intial query and should be used in a subsequent filtering of the Pandas DataFrame"
   ]
  },
  {
   "cell_type": "code",
   "execution_count": 94,
   "metadata": {},
   "outputs": [
    {
     "name": "stdout",
     "output_type": "stream",
     "text": [
      "Cost of search\n",
      " WFS attribute (diepte_tot_m): 1\n",
      " XML attribute (diepte_laag_tot): 10\n"
     ]
    }
   ],
   "source": [
    "print('Cost of search\\n', \n",
    "      'WFS attribute (diepte_tot_m): ' + str(fields['diepte_tot_m']['cost']) + '\\n', \n",
    "      'XML attribute (diepte_laag_tot): '+ str(fields['diepte_laag_tot']['cost']))"
   ]
  },
  {
   "cell_type": "markdown",
   "metadata": {},
   "source": [
    "More information on querying attribute properties is given in the [docs](https://pydov.readthedocs.io/en/latest/query_attribute.html). Worth mentioning is the query using lists where pydov extends the default OGC filter expressions described with a new expression **PropertyInList** that allows you to use lists (of strings) in search queries."
   ]
  },
  {
   "cell_type": "markdown",
   "metadata": {},
   "source": [
    "One last goodie is the possibility to join searches using common attibutes. For example the `pkey_boring` field, denoting the borehole. As such, you can get the boreholes for which a hydrostratigraphical interpretation is available, and also query the lithological description of that borehole. Like below:"
   ]
  },
  {
   "cell_type": "code",
   "execution_count": 95,
   "metadata": {},
   "outputs": [
    {
     "name": "stdout",
     "output_type": "stream",
     "text": [
      "[000/001] c\n"
     ]
    },
    {
     "data": {
      "text/html": [
       "<div>\n",
       "<style scoped>\n",
       "    .dataframe tbody tr th:only-of-type {\n",
       "        vertical-align: middle;\n",
       "    }\n",
       "\n",
       "    .dataframe tbody tr th {\n",
       "        vertical-align: top;\n",
       "    }\n",
       "\n",
       "    .dataframe thead th {\n",
       "        text-align: right;\n",
       "    }\n",
       "</style>\n",
       "<table border=\"1\" class=\"dataframe\">\n",
       "  <thead>\n",
       "    <tr style=\"text-align: right;\">\n",
       "      <th></th>\n",
       "      <th>pkey_interpretatie</th>\n",
       "      <th>pkey_boring</th>\n",
       "      <th>betrouwbaarheid_interpretatie</th>\n",
       "      <th>x</th>\n",
       "      <th>y</th>\n",
       "      <th>diepte_laag_van</th>\n",
       "      <th>diepte_laag_tot</th>\n",
       "      <th>aquifer</th>\n",
       "      <th>beschrijving</th>\n",
       "    </tr>\n",
       "  </thead>\n",
       "  <tbody>\n",
       "    <tr>\n",
       "      <th>0</th>\n",
       "      <td>https://www.dov.vlaanderen.be/data/interpretat...</td>\n",
       "      <td>https://www.dov.vlaanderen.be/data/boring/1932...</td>\n",
       "      <td>goed</td>\n",
       "      <td>173252.0</td>\n",
       "      <td>179257.0</td>\n",
       "      <td>0.0</td>\n",
       "      <td>4.5</td>\n",
       "      <td>0162</td>\n",
       "      <td>NaN</td>\n",
       "    </tr>\n",
       "    <tr>\n",
       "      <th>1</th>\n",
       "      <td>https://www.dov.vlaanderen.be/data/interpretat...</td>\n",
       "      <td>https://www.dov.vlaanderen.be/data/boring/1932...</td>\n",
       "      <td>goed</td>\n",
       "      <td>173252.0</td>\n",
       "      <td>179257.0</td>\n",
       "      <td>4.5</td>\n",
       "      <td>59.0</td>\n",
       "      <td>0620</td>\n",
       "      <td>sable gris quartzeux, avec grès gris quartzeux...</td>\n",
       "    </tr>\n",
       "    <tr>\n",
       "      <th>2</th>\n",
       "      <td>https://www.dov.vlaanderen.be/data/interpretat...</td>\n",
       "      <td>https://www.dov.vlaanderen.be/data/boring/1932...</td>\n",
       "      <td>goed</td>\n",
       "      <td>173252.0</td>\n",
       "      <td>179257.0</td>\n",
       "      <td>59.0</td>\n",
       "      <td>90.7</td>\n",
       "      <td>0900</td>\n",
       "      <td>argile grise finement sableuse</td>\n",
       "    </tr>\n",
       "    <tr>\n",
       "      <th>3</th>\n",
       "      <td>https://www.dov.vlaanderen.be/data/interpretat...</td>\n",
       "      <td>https://www.dov.vlaanderen.be/data/boring/1932...</td>\n",
       "      <td>goed</td>\n",
       "      <td>173252.0</td>\n",
       "      <td>179257.0</td>\n",
       "      <td>90.7</td>\n",
       "      <td>110.0</td>\n",
       "      <td>1013</td>\n",
       "      <td>NaN</td>\n",
       "    </tr>\n",
       "    <tr>\n",
       "      <th>4</th>\n",
       "      <td>https://www.dov.vlaanderen.be/data/interpretat...</td>\n",
       "      <td>https://www.dov.vlaanderen.be/data/boring/1932...</td>\n",
       "      <td>goed</td>\n",
       "      <td>173252.0</td>\n",
       "      <td>179257.0</td>\n",
       "      <td>110.0</td>\n",
       "      <td>130.0</td>\n",
       "      <td>1014</td>\n",
       "      <td>sable argileux gris, avec petits débris broyés...</td>\n",
       "    </tr>\n",
       "  </tbody>\n",
       "</table>\n",
       "</div>"
      ],
      "text/plain": [
       "                                  pkey_interpretatie  \\\n",
       "0  https://www.dov.vlaanderen.be/data/interpretat...   \n",
       "1  https://www.dov.vlaanderen.be/data/interpretat...   \n",
       "2  https://www.dov.vlaanderen.be/data/interpretat...   \n",
       "3  https://www.dov.vlaanderen.be/data/interpretat...   \n",
       "4  https://www.dov.vlaanderen.be/data/interpretat...   \n",
       "\n",
       "                                         pkey_boring  \\\n",
       "0  https://www.dov.vlaanderen.be/data/boring/1932...   \n",
       "1  https://www.dov.vlaanderen.be/data/boring/1932...   \n",
       "2  https://www.dov.vlaanderen.be/data/boring/1932...   \n",
       "3  https://www.dov.vlaanderen.be/data/boring/1932...   \n",
       "4  https://www.dov.vlaanderen.be/data/boring/1932...   \n",
       "\n",
       "  betrouwbaarheid_interpretatie         x         y  diepte_laag_van  \\\n",
       "0                          goed  173252.0  179257.0              0.0   \n",
       "1                          goed  173252.0  179257.0              4.5   \n",
       "2                          goed  173252.0  179257.0             59.0   \n",
       "3                          goed  173252.0  179257.0             90.7   \n",
       "4                          goed  173252.0  179257.0            110.0   \n",
       "\n",
       "   diepte_laag_tot aquifer                                       beschrijving  \n",
       "0              4.5    0162                                                NaN  \n",
       "1             59.0    0620  sable gris quartzeux, avec grès gris quartzeux...  \n",
       "2             90.7    0900                     argile grise finement sableuse  \n",
       "3            110.0    1013                                                NaN  \n",
       "4            130.0    1014  sable argileux gris, avec petits débris broyés...  "
      ]
     },
     "execution_count": 95,
     "metadata": {},
     "output_type": "execute_result"
    }
   ],
   "source": [
    "from pydov.util.query import Join\n",
    "from pydov.search.interpretaties import LithologischeBeschrijvingenSearch\n",
    "\n",
    "ls = LithologischeBeschrijvingenSearch()\n",
    "dfls = ls.search(query=Join(dfhs, 'pkey_boring'))\n",
    "df_joined = pd.merge(dfhs, dfls.loc[:, ['pkey_boring','diepte_laag_van', 'diepte_laag_tot', 'beschrijving']],  \n",
    "                     how='left', \n",
    "                     left_on=['pkey_boring','diepte_laag_van', 'diepte_laag_tot'], \n",
    "                     right_on = ['pkey_boring','diepte_laag_van', 'diepte_laag_tot']\n",
    "                    )\n",
    "df_joined.head()"
   ]
  },
  {
   "cell_type": "markdown",
   "metadata": {},
   "source": [
    "#### Location"
   ]
  },
  {
   "cell_type": "markdown",
   "metadata": {},
   "source": [
    "One can also query on **location**, using the location objects and spatial filters from the pydov.util.location module. For example, to request all stratigraphic interpretations in a given bounding **box**:"
   ]
  },
  {
   "cell_type": "code",
   "execution_count": 96,
   "metadata": {},
   "outputs": [
    {
     "name": "stdout",
     "output_type": "stream",
     "text": [
      "[000/005] ccccc\n"
     ]
    },
    {
     "data": {
      "text/html": [
       "<div>\n",
       "<style scoped>\n",
       "    .dataframe tbody tr th:only-of-type {\n",
       "        vertical-align: middle;\n",
       "    }\n",
       "\n",
       "    .dataframe tbody tr th {\n",
       "        vertical-align: top;\n",
       "    }\n",
       "\n",
       "    .dataframe thead th {\n",
       "        text-align: right;\n",
       "    }\n",
       "</style>\n",
       "<table border=\"1\" class=\"dataframe\">\n",
       "  <thead>\n",
       "    <tr style=\"text-align: right;\">\n",
       "      <th></th>\n",
       "      <th>pkey_interpretatie</th>\n",
       "      <th>pkey_boring</th>\n",
       "      <th>betrouwbaarheid_interpretatie</th>\n",
       "      <th>x</th>\n",
       "      <th>y</th>\n",
       "      <th>diepte_laag_van</th>\n",
       "      <th>diepte_laag_tot</th>\n",
       "      <th>aquifer</th>\n",
       "    </tr>\n",
       "  </thead>\n",
       "  <tbody>\n",
       "    <tr>\n",
       "      <th>0</th>\n",
       "      <td>https://www.dov.vlaanderen.be/data/interpretat...</td>\n",
       "      <td>https://www.dov.vlaanderen.be/data/boring/2016...</td>\n",
       "      <td>goed</td>\n",
       "      <td>170085.97</td>\n",
       "      <td>171027.67</td>\n",
       "      <td>0.0</td>\n",
       "      <td>6.0</td>\n",
       "      <td>0140</td>\n",
       "    </tr>\n",
       "    <tr>\n",
       "      <th>1</th>\n",
       "      <td>https://www.dov.vlaanderen.be/data/interpretat...</td>\n",
       "      <td>https://www.dov.vlaanderen.be/data/boring/2016...</td>\n",
       "      <td>goed</td>\n",
       "      <td>170085.97</td>\n",
       "      <td>171027.67</td>\n",
       "      <td>6.0</td>\n",
       "      <td>10.0</td>\n",
       "      <td>0160</td>\n",
       "    </tr>\n",
       "    <tr>\n",
       "      <th>2</th>\n",
       "      <td>https://www.dov.vlaanderen.be/data/interpretat...</td>\n",
       "      <td>https://www.dov.vlaanderen.be/data/boring/2016...</td>\n",
       "      <td>goed</td>\n",
       "      <td>170085.97</td>\n",
       "      <td>171027.67</td>\n",
       "      <td>10.0</td>\n",
       "      <td>30.0</td>\n",
       "      <td>0920</td>\n",
       "    </tr>\n",
       "    <tr>\n",
       "      <th>3</th>\n",
       "      <td>https://www.dov.vlaanderen.be/data/interpretat...</td>\n",
       "      <td>https://www.dov.vlaanderen.be/data/boring/2016...</td>\n",
       "      <td>goed</td>\n",
       "      <td>170085.97</td>\n",
       "      <td>171027.67</td>\n",
       "      <td>30.0</td>\n",
       "      <td>39.0</td>\n",
       "      <td>1010</td>\n",
       "    </tr>\n",
       "    <tr>\n",
       "      <th>4</th>\n",
       "      <td>https://www.dov.vlaanderen.be/data/interpretat...</td>\n",
       "      <td>https://www.dov.vlaanderen.be/data/boring/1987...</td>\n",
       "      <td>goed</td>\n",
       "      <td>170640.00</td>\n",
       "      <td>172567.00</td>\n",
       "      <td>0.0</td>\n",
       "      <td>6.2</td>\n",
       "      <td>0163</td>\n",
       "    </tr>\n",
       "  </tbody>\n",
       "</table>\n",
       "</div>"
      ],
      "text/plain": [
       "                                  pkey_interpretatie  \\\n",
       "0  https://www.dov.vlaanderen.be/data/interpretat...   \n",
       "1  https://www.dov.vlaanderen.be/data/interpretat...   \n",
       "2  https://www.dov.vlaanderen.be/data/interpretat...   \n",
       "3  https://www.dov.vlaanderen.be/data/interpretat...   \n",
       "4  https://www.dov.vlaanderen.be/data/interpretat...   \n",
       "\n",
       "                                         pkey_boring  \\\n",
       "0  https://www.dov.vlaanderen.be/data/boring/2016...   \n",
       "1  https://www.dov.vlaanderen.be/data/boring/2016...   \n",
       "2  https://www.dov.vlaanderen.be/data/boring/2016...   \n",
       "3  https://www.dov.vlaanderen.be/data/boring/2016...   \n",
       "4  https://www.dov.vlaanderen.be/data/boring/1987...   \n",
       "\n",
       "  betrouwbaarheid_interpretatie          x          y  diepte_laag_van  \\\n",
       "0                          goed  170085.97  171027.67              0.0   \n",
       "1                          goed  170085.97  171027.67              6.0   \n",
       "2                          goed  170085.97  171027.67             10.0   \n",
       "3                          goed  170085.97  171027.67             30.0   \n",
       "4                          goed  170640.00  172567.00              0.0   \n",
       "\n",
       "   diepte_laag_tot aquifer  \n",
       "0              6.0    0140  \n",
       "1             10.0    0160  \n",
       "2             30.0    0920  \n",
       "3             39.0    1010  \n",
       "4              6.2    0163  "
      ]
     },
     "execution_count": 96,
     "metadata": {},
     "output_type": "execute_result"
    }
   ],
   "source": [
    "from pydov.util.location import Within, Box\n",
    "location = Within(Box(170000, 171000, 172000, 173000))\n",
    "df = hs.search(location=location\n",
    "                       )\n",
    "df.head()"
   ]
  },
  {
   "cell_type": "markdown",
   "metadata": {},
   "source": [
    "Alternatively, you can define a **Point** or a **GML document** for the spatial query as is described in the [docs](https://pydov.readthedocs.io/en/latest/query_location.html). For example, if you are interested in a site you can define the point with a search radius of for example 500 meters like this:"
   ]
  },
  {
   "cell_type": "code",
   "execution_count": 97,
   "metadata": {},
   "outputs": [
    {
     "name": "stdout",
     "output_type": "stream",
     "text": [
      "[000/001] c\n"
     ]
    },
    {
     "data": {
      "text/html": [
       "<div>\n",
       "<style scoped>\n",
       "    .dataframe tbody tr th:only-of-type {\n",
       "        vertical-align: middle;\n",
       "    }\n",
       "\n",
       "    .dataframe tbody tr th {\n",
       "        vertical-align: top;\n",
       "    }\n",
       "\n",
       "    .dataframe thead th {\n",
       "        text-align: right;\n",
       "    }\n",
       "</style>\n",
       "<table border=\"1\" class=\"dataframe\">\n",
       "  <thead>\n",
       "    <tr style=\"text-align: right;\">\n",
       "      <th></th>\n",
       "      <th>pkey_interpretatie</th>\n",
       "      <th>pkey_boring</th>\n",
       "      <th>betrouwbaarheid_interpretatie</th>\n",
       "      <th>x</th>\n",
       "      <th>y</th>\n",
       "      <th>diepte_laag_van</th>\n",
       "      <th>diepte_laag_tot</th>\n",
       "      <th>aquifer</th>\n",
       "    </tr>\n",
       "  </thead>\n",
       "  <tbody>\n",
       "    <tr>\n",
       "      <th>0</th>\n",
       "      <td>https://www.dov.vlaanderen.be/data/interpretat...</td>\n",
       "      <td>https://www.dov.vlaanderen.be/data/boring/1974...</td>\n",
       "      <td>goed</td>\n",
       "      <td>171548.64</td>\n",
       "      <td>172680.85</td>\n",
       "      <td>0.0</td>\n",
       "      <td>0.6</td>\n",
       "      <td>0110</td>\n",
       "    </tr>\n",
       "    <tr>\n",
       "      <th>1</th>\n",
       "      <td>https://www.dov.vlaanderen.be/data/interpretat...</td>\n",
       "      <td>https://www.dov.vlaanderen.be/data/boring/1974...</td>\n",
       "      <td>goed</td>\n",
       "      <td>171548.64</td>\n",
       "      <td>172680.85</td>\n",
       "      <td>0.6</td>\n",
       "      <td>14.4</td>\n",
       "      <td>0100</td>\n",
       "    </tr>\n",
       "    <tr>\n",
       "      <th>2</th>\n",
       "      <td>https://www.dov.vlaanderen.be/data/interpretat...</td>\n",
       "      <td>https://www.dov.vlaanderen.be/data/boring/1974...</td>\n",
       "      <td>goed</td>\n",
       "      <td>171548.64</td>\n",
       "      <td>172680.85</td>\n",
       "      <td>14.4</td>\n",
       "      <td>95.1</td>\n",
       "      <td>0000</td>\n",
       "    </tr>\n",
       "    <tr>\n",
       "      <th>3</th>\n",
       "      <td>https://www.dov.vlaanderen.be/data/interpretat...</td>\n",
       "      <td>https://www.dov.vlaanderen.be/data/boring/1974...</td>\n",
       "      <td>goed</td>\n",
       "      <td>171548.64</td>\n",
       "      <td>172680.85</td>\n",
       "      <td>95.1</td>\n",
       "      <td>118.9</td>\n",
       "      <td>1100</td>\n",
       "    </tr>\n",
       "    <tr>\n",
       "      <th>4</th>\n",
       "      <td>https://www.dov.vlaanderen.be/data/interpretat...</td>\n",
       "      <td>https://www.dov.vlaanderen.be/data/boring/1974...</td>\n",
       "      <td>goed</td>\n",
       "      <td>171548.64</td>\n",
       "      <td>172680.85</td>\n",
       "      <td>118.9</td>\n",
       "      <td>124.5</td>\n",
       "      <td>1300</td>\n",
       "    </tr>\n",
       "  </tbody>\n",
       "</table>\n",
       "</div>"
      ],
      "text/plain": [
       "                                  pkey_interpretatie  \\\n",
       "0  https://www.dov.vlaanderen.be/data/interpretat...   \n",
       "1  https://www.dov.vlaanderen.be/data/interpretat...   \n",
       "2  https://www.dov.vlaanderen.be/data/interpretat...   \n",
       "3  https://www.dov.vlaanderen.be/data/interpretat...   \n",
       "4  https://www.dov.vlaanderen.be/data/interpretat...   \n",
       "\n",
       "                                         pkey_boring  \\\n",
       "0  https://www.dov.vlaanderen.be/data/boring/1974...   \n",
       "1  https://www.dov.vlaanderen.be/data/boring/1974...   \n",
       "2  https://www.dov.vlaanderen.be/data/boring/1974...   \n",
       "3  https://www.dov.vlaanderen.be/data/boring/1974...   \n",
       "4  https://www.dov.vlaanderen.be/data/boring/1974...   \n",
       "\n",
       "  betrouwbaarheid_interpretatie          x          y  diepte_laag_van  \\\n",
       "0                          goed  171548.64  172680.85              0.0   \n",
       "1                          goed  171548.64  172680.85              0.6   \n",
       "2                          goed  171548.64  172680.85             14.4   \n",
       "3                          goed  171548.64  172680.85             95.1   \n",
       "4                          goed  171548.64  172680.85            118.9   \n",
       "\n",
       "   diepte_laag_tot aquifer  \n",
       "0              0.6    0110  \n",
       "1             14.4    0100  \n",
       "2             95.1    0000  \n",
       "3            118.9    1100  \n",
       "4            124.5    1300  "
      ]
     },
     "execution_count": 97,
     "metadata": {},
     "output_type": "execute_result"
    }
   ],
   "source": [
    "from pydov.util.location import WithinDistance, Point\n",
    "location = WithinDistance(\n",
    "            Point(171500, 172500), \n",
    "            500, \n",
    "            distance_unit='meter'\n",
    "            )\n",
    "df = hs.search(location=location\n",
    "                )\n",
    "df.head()"
   ]
  },
  {
   "cell_type": "markdown",
   "metadata": {},
   "source": [
    "#### Groundwater head data"
   ]
  },
  {
   "cell_type": "markdown",
   "metadata": {},
   "source": [
    "Querying the groundwater head data follows the same workflow as mentioned above for the interpretation of borehole data with the definition of a search object and the subsequent query with selection on attribute or location properties. "
   ]
  },
  {
   "cell_type": "code",
   "execution_count": 98,
   "metadata": {},
   "outputs": [
    {
     "name": "stdout",
     "output_type": "stream",
     "text": [
      "gw_id\n",
      "pkey_grondwaterlocatie\n",
      "filternummer\n",
      "pkey_filter\n",
      "namen\n",
      "filtergrafiek\n",
      "putgrafiek\n",
      "aquifer\n",
      "diepte_onderkant_filter\n",
      "lengte_filter\n",
      "putsoort\n",
      "filtertype\n",
      "meetnet\n",
      "x\n",
      "y\n",
      "start_grondwaterlocatie_mtaw\n",
      "gemeente\n",
      "grondwaterlichaam\n",
      "regime\n",
      "datum_in_filter\n",
      "datum_uit_filter\n",
      "stijghoogterapport\n",
      "analyserapport\n",
      "boornummer\n",
      "boringfiche\n",
      "peilmetingen_van\n",
      "peilmetingen_tot\n",
      "kwaliteitsmetingen_van\n",
      "kwaliteitsmetingen_tot\n",
      "recentste_exploitant\n",
      "beheerder\n",
      "mv_mtaw\n",
      "meetnet_code\n",
      "aquifer_code\n",
      "grondwaterlichaam_code\n",
      "datum\n",
      "tijdstip\n",
      "peil_mtaw\n",
      "betrouwbaarheid\n",
      "methode\n",
      "filterstatus\n",
      "filtertoestand\n"
     ]
    }
   ],
   "source": [
    "from pydov.search.grondwaterfilter import GrondwaterFilterSearch\n",
    "gws = GrondwaterFilterSearch()\n",
    "fields = gws.get_fields()\n",
    "# print available fields\n",
    "for f in fields.values():\n",
    "    print(f['name'])"
   ]
  },
  {
   "cell_type": "markdown",
   "metadata": {},
   "source": [
    "For example query all data in a bounding box from filters that are situated in the phreatic aquifer and are property of the Vlaamse Milieumaatschappij:"
   ]
  },
  {
   "cell_type": "code",
   "execution_count": 99,
   "metadata": {},
   "outputs": [
    {
     "name": "stdout",
     "output_type": "stream",
     "text": [
      "[000/013] ccccccccccccc\n"
     ]
    },
    {
     "data": {
      "text/html": [
       "<div>\n",
       "<style scoped>\n",
       "    .dataframe tbody tr th:only-of-type {\n",
       "        vertical-align: middle;\n",
       "    }\n",
       "\n",
       "    .dataframe tbody tr th {\n",
       "        vertical-align: top;\n",
       "    }\n",
       "\n",
       "    .dataframe thead th {\n",
       "        text-align: right;\n",
       "    }\n",
       "</style>\n",
       "<table border=\"1\" class=\"dataframe\">\n",
       "  <thead>\n",
       "    <tr style=\"text-align: right;\">\n",
       "      <th></th>\n",
       "      <th>pkey_filter</th>\n",
       "      <th>pkey_grondwaterlocatie</th>\n",
       "      <th>gw_id</th>\n",
       "      <th>filternummer</th>\n",
       "      <th>filtertype</th>\n",
       "      <th>x</th>\n",
       "      <th>y</th>\n",
       "      <th>start_grondwaterlocatie_mtaw</th>\n",
       "      <th>mv_mtaw</th>\n",
       "      <th>gemeente</th>\n",
       "      <th>...</th>\n",
       "      <th>regime</th>\n",
       "      <th>diepte_onderkant_filter</th>\n",
       "      <th>lengte_filter</th>\n",
       "      <th>datum</th>\n",
       "      <th>tijdstip</th>\n",
       "      <th>peil_mtaw</th>\n",
       "      <th>betrouwbaarheid</th>\n",
       "      <th>methode</th>\n",
       "      <th>filterstatus</th>\n",
       "      <th>filtertoestand</th>\n",
       "    </tr>\n",
       "  </thead>\n",
       "  <tbody>\n",
       "    <tr>\n",
       "      <th>0</th>\n",
       "      <td>https://www.dov.vlaanderen.be/data/filter/2016...</td>\n",
       "      <td>https://www.dov.vlaanderen.be/data/put/2019-01...</td>\n",
       "      <td>3008-066</td>\n",
       "      <td>1</td>\n",
       "      <td>peilfilter</td>\n",
       "      <td>170085.97</td>\n",
       "      <td>171027.67</td>\n",
       "      <td>23.86</td>\n",
       "      <td>23.86</td>\n",
       "      <td>Bertem</td>\n",
       "      <td>...</td>\n",
       "      <td>freatisch</td>\n",
       "      <td>3.50</td>\n",
       "      <td>1.0</td>\n",
       "      <td>NaN</td>\n",
       "      <td>NaN</td>\n",
       "      <td>NaN</td>\n",
       "      <td>NaN</td>\n",
       "      <td>NaN</td>\n",
       "      <td>NaN</td>\n",
       "      <td>NaN</td>\n",
       "    </tr>\n",
       "    <tr>\n",
       "      <th>1</th>\n",
       "      <td>https://www.dov.vlaanderen.be/data/filter/2016...</td>\n",
       "      <td>https://www.dov.vlaanderen.be/data/put/2019-01...</td>\n",
       "      <td>3008-066</td>\n",
       "      <td>2</td>\n",
       "      <td>peilfilter</td>\n",
       "      <td>170085.97</td>\n",
       "      <td>171027.67</td>\n",
       "      <td>23.86</td>\n",
       "      <td>23.86</td>\n",
       "      <td>Bertem</td>\n",
       "      <td>...</td>\n",
       "      <td>freatisch</td>\n",
       "      <td>9.30</td>\n",
       "      <td>1.0</td>\n",
       "      <td>NaN</td>\n",
       "      <td>NaN</td>\n",
       "      <td>NaN</td>\n",
       "      <td>NaN</td>\n",
       "      <td>NaN</td>\n",
       "      <td>NaN</td>\n",
       "      <td>NaN</td>\n",
       "    </tr>\n",
       "    <tr>\n",
       "      <th>2</th>\n",
       "      <td>https://www.dov.vlaanderen.be/data/filter/1948...</td>\n",
       "      <td>https://www.dov.vlaanderen.be/data/put/2019-03...</td>\n",
       "      <td>3008-018</td>\n",
       "      <td>0</td>\n",
       "      <td>pompfilter</td>\n",
       "      <td>170202.00</td>\n",
       "      <td>171179.00</td>\n",
       "      <td>23.12</td>\n",
       "      <td>23.12</td>\n",
       "      <td>Bertem</td>\n",
       "      <td>...</td>\n",
       "      <td>freatisch</td>\n",
       "      <td>11.23</td>\n",
       "      <td>2.5</td>\n",
       "      <td>NaN</td>\n",
       "      <td>NaN</td>\n",
       "      <td>NaN</td>\n",
       "      <td>NaN</td>\n",
       "      <td>NaN</td>\n",
       "      <td>NaN</td>\n",
       "      <td>NaN</td>\n",
       "    </tr>\n",
       "    <tr>\n",
       "      <th>3</th>\n",
       "      <td>https://www.dov.vlaanderen.be/data/filter/1975...</td>\n",
       "      <td>https://www.dov.vlaanderen.be/data/put/2019-04...</td>\n",
       "      <td>3008-019</td>\n",
       "      <td>0</td>\n",
       "      <td>pompfilter</td>\n",
       "      <td>170131.00</td>\n",
       "      <td>171105.00</td>\n",
       "      <td>23.39</td>\n",
       "      <td>23.39</td>\n",
       "      <td>Bertem</td>\n",
       "      <td>...</td>\n",
       "      <td>freatisch</td>\n",
       "      <td>8.83</td>\n",
       "      <td>2.0</td>\n",
       "      <td>NaN</td>\n",
       "      <td>NaN</td>\n",
       "      <td>NaN</td>\n",
       "      <td>NaN</td>\n",
       "      <td>NaN</td>\n",
       "      <td>NaN</td>\n",
       "      <td>NaN</td>\n",
       "    </tr>\n",
       "    <tr>\n",
       "      <th>4</th>\n",
       "      <td>https://www.dov.vlaanderen.be/data/filter/2017...</td>\n",
       "      <td>https://www.dov.vlaanderen.be/data/put/2019-01...</td>\n",
       "      <td>2-103155</td>\n",
       "      <td>1</td>\n",
       "      <td>pompfilter</td>\n",
       "      <td>170270.00</td>\n",
       "      <td>173561.00</td>\n",
       "      <td>-1.00</td>\n",
       "      <td>-1.00</td>\n",
       "      <td>Leuven</td>\n",
       "      <td>...</td>\n",
       "      <td>freatisch</td>\n",
       "      <td>NaN</td>\n",
       "      <td>NaN</td>\n",
       "      <td>NaN</td>\n",
       "      <td>NaN</td>\n",
       "      <td>NaN</td>\n",
       "      <td>NaN</td>\n",
       "      <td>NaN</td>\n",
       "      <td>NaN</td>\n",
       "      <td>NaN</td>\n",
       "    </tr>\n",
       "  </tbody>\n",
       "</table>\n",
       "<p>5 rows × 23 columns</p>\n",
       "</div>"
      ],
      "text/plain": [
       "                                         pkey_filter  \\\n",
       "0  https://www.dov.vlaanderen.be/data/filter/2016...   \n",
       "1  https://www.dov.vlaanderen.be/data/filter/2016...   \n",
       "2  https://www.dov.vlaanderen.be/data/filter/1948...   \n",
       "3  https://www.dov.vlaanderen.be/data/filter/1975...   \n",
       "4  https://www.dov.vlaanderen.be/data/filter/2017...   \n",
       "\n",
       "                              pkey_grondwaterlocatie     gw_id filternummer  \\\n",
       "0  https://www.dov.vlaanderen.be/data/put/2019-01...  3008-066            1   \n",
       "1  https://www.dov.vlaanderen.be/data/put/2019-01...  3008-066            2   \n",
       "2  https://www.dov.vlaanderen.be/data/put/2019-03...  3008-018            0   \n",
       "3  https://www.dov.vlaanderen.be/data/put/2019-04...  3008-019            0   \n",
       "4  https://www.dov.vlaanderen.be/data/put/2019-01...  2-103155            1   \n",
       "\n",
       "   filtertype          x          y  start_grondwaterlocatie_mtaw  mv_mtaw  \\\n",
       "0  peilfilter  170085.97  171027.67                         23.86    23.86   \n",
       "1  peilfilter  170085.97  171027.67                         23.86    23.86   \n",
       "2  pompfilter  170202.00  171179.00                         23.12    23.12   \n",
       "3  pompfilter  170131.00  171105.00                         23.39    23.39   \n",
       "4  pompfilter  170270.00  173561.00                         -1.00    -1.00   \n",
       "\n",
       "  gemeente  ...     regime diepte_onderkant_filter lengte_filter datum  \\\n",
       "0   Bertem  ...  freatisch                    3.50           1.0   NaN   \n",
       "1   Bertem  ...  freatisch                    9.30           1.0   NaN   \n",
       "2   Bertem  ...  freatisch                   11.23           2.5   NaN   \n",
       "3   Bertem  ...  freatisch                    8.83           2.0   NaN   \n",
       "4   Leuven  ...  freatisch                     NaN           NaN   NaN   \n",
       "\n",
       "   tijdstip  peil_mtaw betrouwbaarheid methode  filterstatus filtertoestand  \n",
       "0       NaN        NaN             NaN     NaN           NaN            NaN  \n",
       "1       NaN        NaN             NaN     NaN           NaN            NaN  \n",
       "2       NaN        NaN             NaN     NaN           NaN            NaN  \n",
       "3       NaN        NaN             NaN     NaN           NaN            NaN  \n",
       "4       NaN        NaN             NaN     NaN           NaN            NaN  \n",
       "\n",
       "[5 rows x 23 columns]"
      ]
     },
     "execution_count": 99,
     "metadata": {},
     "output_type": "execute_result"
    }
   ],
   "source": [
    "query = PropertyIsEqualTo(\n",
    "            propertyname='regime',\n",
    "            literal='freatisch')\n",
    "location = Within(Box(170000, 171000, 173000, 174000))\n",
    "df = gws.search(\n",
    "                query=query,\n",
    "                location=location)\n",
    "df.head()"
   ]
  },
  {
   "cell_type": "markdown",
   "metadata": {},
   "source": [
    "One important difference is the presence of time-related data. More specifically the attributes `datum` and `tijdstip`. These can be combined to create a date.datetime object that can be used in the subsequent manipuliation of the Pandas DataFrame. Make sure to **remove** the records without a valid `datum` and **fill** the empty  `tijdstip` fields with a default timestamp (!)"
   ]
  },
  {
   "cell_type": "code",
   "execution_count": 100,
   "metadata": {},
   "outputs": [
    {
     "data": {
      "text/plain": [
       "12   2012-11-30 00:00:00\n",
       "13   2012-12-06 00:00:00\n",
       "14   2013-01-09 12:00:00\n",
       "15   2013-01-22 00:00:00\n",
       "16   2013-02-09 12:00:00\n",
       "Name: tijd, dtype: datetime64[ns]"
      ]
     },
     "execution_count": 100,
     "metadata": {},
     "output_type": "execute_result"
    }
   ],
   "source": [
    "import pandas as pd\n",
    "df.reset_index(inplace=True)\n",
    "df = df.loc[~df.datum.isna()]\n",
    "df['tijdstip'] = df.tijdstip.fillna('00:00:00')\n",
    "df['tijd'] = pd.to_datetime(df.datum.astype(str) + ' ' + df.tijdstip.astype(str))\n",
    "df.tijd.head()"
   ]
  },
  {
   "cell_type": "markdown",
   "metadata": {},
   "source": [
    "More examples for the timeseries processing and analysis is available in the Notebooks of pydov."
   ]
  },
  {
   "cell_type": "markdown",
   "metadata": {},
   "source": [
    "### Data cache"
   ]
  },
  {
   "cell_type": "markdown",
   "metadata": {},
   "source": [
    "Notice the cc in the progress bar while loading of the data? It means the data was loaded from your local cache instead of being downloaded, as it was already part of an earlier data request. See the [caching documentation](https://pydov.readthedocs.io/en/latest/caching.html#caching) for more in-depth information about the default directory, how to change and/or clean it, and even how to create some custom cache format."
   ]
  },
  {
   "cell_type": "markdown",
   "metadata": {},
   "source": [
    "## Putting it all together"
   ]
  },
  {
   "cell_type": "code",
   "execution_count": 102,
   "metadata": {},
   "outputs": [
    {
     "name": "stdout",
     "output_type": "stream",
     "text": [
      "[000/001] c\n",
      "[000/002] cc\n",
      "[000/013] ccccccccccccc\n"
     ]
    }
   ],
   "source": [
    "# imports\n",
    "import pandas as pd\n",
    "import pydov\n",
    "from pydov.util.location import WithinDistance, Point\n",
    "from pydov.util.query import Join\n",
    "from pydov.search.interpretaties import LithologischeBeschrijvingenSearch\n",
    "from pydov.search.interpretaties import HydrogeologischeStratigrafieSearch\n",
    "from pydov.search.grondwaterfilter import GrondwaterFilterSearch\n",
    "from owslib.fes import PropertyIsEqualTo\n",
    "\n",
    "# define search objects\n",
    "hs = HydrogeologischeStratigrafieSearch()\n",
    "ls = LithologischeBeschrijvingenSearch()\n",
    "gws = GrondwaterFilterSearch()\n",
    "\n",
    "# search hydrostratigraphic interpretations based on location\n",
    "location = WithinDistance(\n",
    "    Point(171500, 172500), \n",
    "    500,\n",
    "    distance_unit='meter'\n",
    "    )\n",
    "dfhs = hs.search(location=location)\n",
    "\n",
    "# join the lithostratigraphic desriptions\n",
    "dfls = ls.search(query=Join(dfhs, 'pkey_boring'))\n",
    "df_joined = pd.merge(dfhs, dfls.loc[:, ['pkey_boring','diepte_laag_van', 'diepte_laag_tot', 'beschrijving']],  \n",
    "                     how='left', \n",
    "                     left_on=['pkey_boring','diepte_laag_van', 'diepte_laag_tot'], \n",
    "                     right_on = ['pkey_boring','diepte_laag_van', 'diepte_laag_tot']\n",
    "                    )\n",
    "\n",
    "# search the groundwater head data of the phreatic aquifers in the neighbourhoud\n",
    "query = PropertyIsEqualTo(\n",
    "            propertyname='regime',\n",
    "            literal='freatisch')\n",
    "location = Within(Box(170000, 171000, 173000, 174000))\n",
    "dfgw = gws.search(query=query,\n",
    "                location=location)\n",
    "\n",
    "# create date.datetime objects for further processing\n",
    "dfgw.reset_index(inplace=True)\n",
    "dfgw = dfgw.loc[~dfgw.datum.isna()]\n",
    "dfgw['tijdstip'] = dfgw.tijdstip.fillna('00:00:00')\n",
    "dfgw['tijd'] = pd.to_datetime(dfgw.datum.astype(str) + ' ' + dfgw.tijdstip.astype(str))"
   ]
  }
 ],
 "metadata": {
  "kernelspec": {
   "display_name": "Python 3",
   "language": "python",
   "name": "python3"
  },
  "language_info": {
   "codemirror_mode": {
    "name": "ipython",
    "version": 3
   },
   "file_extension": ".py",
   "mimetype": "text/x-python",
   "name": "python",
   "nbconvert_exporter": "python",
   "pygments_lexer": "ipython3",
   "version": "3.7.6"
  }
 },
 "nbformat": 4,
 "nbformat_minor": 4
}
