{
 "cells": [
  {
   "cell_type": "markdown",
   "metadata": {},
   "source": [
    "# Example of DOV search methods for groundwater screens (grondwaterfilters)\n"
   ]
  },
  {
   "cell_type": "markdown",
   "metadata": {},
   "source": [
    "## Use cases:\n",
    "* Get groundwater screens in a bounding box\n",
    "* Get groundwater screens with specific properties\n",
    "* Get the coordinates of all groundwater screens in Ghent\n",
    "* Get the 'meetnet' and 'meetnet_code' for groundwater screens in Boortmeerbeek\n",
    "* Get all details of groundwaterscreens of 'meetnet 9' within the given bounding box\n",
    "* Get groundwater screens based on a combination of specific properties"
   ]
  },
  {
   "cell_type": "code",
   "execution_count": 2,
   "metadata": {},
   "outputs": [],
   "source": [
    "%matplotlib inline\n",
    "import inspect, sys"
   ]
  },
  {
   "cell_type": "code",
   "execution_count": 3,
   "metadata": {},
   "outputs": [],
   "source": [
    "# check pydov path\n",
    "import pydov"
   ]
  },
  {
   "cell_type": "markdown",
   "metadata": {},
   "source": [
    "## Get information about the datatype 'GrondwaterFilter'"
   ]
  },
  {
   "cell_type": "code",
   "execution_count": 4,
   "metadata": {},
   "outputs": [],
   "source": [
    "from pydov.search.grondwaterfilter import GrondwaterFilterSearch\n",
    "gwfilter = GrondwaterFilterSearch()"
   ]
  },
  {
   "cell_type": "markdown",
   "metadata": {},
   "source": [
    "A description is provided for the 'GrondwaterFilter' datatype:"
   ]
  },
  {
   "cell_type": "code",
   "execution_count": 5,
   "metadata": {},
   "outputs": [
    {
     "name": "stdout",
     "output_type": "stream",
     "text": [
      "In de Databank Ondergrond Vlaanderen zijn verschillende grondwatermeetnetten opgenomen. Deze meetnetten staan in functie van uitgebreide monitoringprogramma’s met de bedoeling een goed beeld te krijgen van de beschikbare grondwaterkwantiteit en grondwaterkwaliteit van de watervoerende lagen in Vlaanderen.\n"
     ]
    }
   ],
   "source": [
    "print(gwfilter.get_description())"
   ]
  },
  {
   "cell_type": "markdown",
   "metadata": {},
   "source": [
    "The different fields that are available for objects of the 'GrondwaterFilter' datatype can be requested with the get_fields() method:"
   ]
  },
  {
   "cell_type": "code",
   "execution_count": 6,
   "metadata": {},
   "outputs": [
    {
     "name": "stdout",
     "output_type": "stream",
     "text": [
      "gw_id\n",
      "pkey_grondwaterlocatie\n",
      "filternummer\n",
      "pkey_filter\n",
      "namen\n",
      "filtergrafiek\n",
      "putgrafiek\n",
      "aquifer\n",
      "diepte_onderkant_filter\n",
      "lengte_filter\n",
      "putsoort\n",
      "filtertype\n",
      "meetnet\n",
      "x\n",
      "y\n",
      "start_grondwaterlocatie_mtaw\n",
      "gemeente\n",
      "grondwaterlichaam\n",
      "regime\n",
      "datum_in_filter\n",
      "datum_uit_filter\n",
      "stijghoogterapport\n",
      "analyserapport\n",
      "boornummer\n",
      "boringfiche\n",
      "peilmetingen_van\n",
      "peilmetingen_tot\n",
      "kwaliteitsmetingen_van\n",
      "kwaliteitsmetingen_tot\n",
      "recentste_exploitant\n",
      "beheerder\n",
      "meetnet_code\n",
      "aquifer_code\n",
      "grondwaterlichaam_code\n",
      "datum\n",
      "tijdstip\n",
      "peil_mtaw\n",
      "betrouwbaarheid\n",
      "methode\n",
      "filterstatus\n",
      "filtertoestand\n"
     ]
    }
   ],
   "source": [
    "fields = gwfilter.get_fields()\n",
    "\n",
    "# print available fields\n",
    "for f in fields.values():\n",
    "    print(f['name'])"
   ]
  },
  {
   "cell_type": "markdown",
   "metadata": {},
   "source": [
    "You can get more information of a field by requesting it from the fields dictionary:\n",
    "* *name*: name of the field\n",
    "* *definition*: definition of this field\n",
    "* *cost*: currently this is either 1 or 10, depending on the datasource of the field. It is an indication of the expected time it will take to retrieve this field in the output dataframe.\n",
    "* *notnull*: whether the field is mandatory or not\n",
    "* *type*: datatype of the values of this field"
   ]
  },
  {
   "cell_type": "code",
   "execution_count": 7,
   "metadata": {},
   "outputs": [
    {
     "data": {
      "text/plain": [
       "{'name': 'aquifer',\n",
       " 'definition': 'De aquifer waarin de filter hangt. Als tekst, opgebouwd uit de HCOV code (vier karakters) en de naam gescheiden door \" - \"',\n",
       " 'type': 'string',\n",
       " 'notnull': True,\n",
       " 'query': True,\n",
       " 'cost': 1}"
      ]
     },
     "execution_count": 7,
     "metadata": {},
     "output_type": "execute_result"
    }
   ],
   "source": [
    "# print information for a certain field\n",
    "fields['aquifer']"
   ]
  },
  {
   "cell_type": "markdown",
   "metadata": {},
   "source": [
    "Optionally, if the values of the field have a specific domain the possible values are listed as *values*:"
   ]
  },
  {
   "cell_type": "code",
   "execution_count": 8,
   "metadata": {},
   "outputs": [
    {
     "data": {
      "text/plain": [
       "{'Installatie': None,\n",
       " 'batterijput': None,\n",
       " 'bodemlus': None,\n",
       " 'bron, natuurlijke holte': None,\n",
       " 'bronbemaling': None,\n",
       " 'draineringsinrichting': None,\n",
       " 'galerij': None,\n",
       " 'graverij, mijn, groeve': None,\n",
       " 'niet-verbuisde boorput': None,\n",
       " 'onbekend': None,\n",
       " 'ring- of steenput': None,\n",
       " 'verbuisde boorput': None,\n",
       " 'vijver': None}"
      ]
     },
     "execution_count": 8,
     "metadata": {},
     "output_type": "execute_result"
    }
   ],
   "source": [
    "# if an attribute can have several values, these are listed under 'values', e.g. for 'putsoort':\n",
    "fields['putsoort']['values']"
   ]
  },
  {
   "cell_type": "markdown",
   "metadata": {},
   "source": [
    "## Example use cases"
   ]
  },
  {
   "cell_type": "markdown",
   "metadata": {},
   "source": [
    "### Get groundwater screens in a bounding box"
   ]
  },
  {
   "cell_type": "markdown",
   "metadata": {},
   "source": [
    "Get data for all the groundwater screens that are geographically located within the bounds of the specified box.\n",
    "\n",
    "The coordinates are in the Belgian Lambert72 (EPSG:31370) coordinate system and are given in the order of lower left x, lower left y, upper right x, upper right y."
   ]
  },
  {
   "cell_type": "code",
   "execution_count": 9,
   "metadata": {},
   "outputs": [
    {
     "name": "stdout",
     "output_type": "stream",
     "text": [
      "[000/026] ..........................\n"
     ]
    },
    {
     "data": {
      "text/html": [
       "<div>\n",
       "<style scoped>\n",
       "    .dataframe tbody tr th:only-of-type {\n",
       "        vertical-align: middle;\n",
       "    }\n",
       "\n",
       "    .dataframe tbody tr th {\n",
       "        vertical-align: top;\n",
       "    }\n",
       "\n",
       "    .dataframe thead th {\n",
       "        text-align: right;\n",
       "    }\n",
       "</style>\n",
       "<table border=\"1\" class=\"dataframe\">\n",
       "  <thead>\n",
       "    <tr style=\"text-align: right;\">\n",
       "      <th></th>\n",
       "      <th>pkey_filter</th>\n",
       "      <th>pkey_grondwaterlocatie</th>\n",
       "      <th>gw_id</th>\n",
       "      <th>filternummer</th>\n",
       "      <th>filtertype</th>\n",
       "      <th>x</th>\n",
       "      <th>y</th>\n",
       "      <th>start_grondwaterlocatie_mtaw</th>\n",
       "      <th>gemeente</th>\n",
       "      <th>meetnet_code</th>\n",
       "      <th>...</th>\n",
       "      <th>regime</th>\n",
       "      <th>diepte_onderkant_filter</th>\n",
       "      <th>lengte_filter</th>\n",
       "      <th>datum</th>\n",
       "      <th>tijdstip</th>\n",
       "      <th>peil_mtaw</th>\n",
       "      <th>betrouwbaarheid</th>\n",
       "      <th>methode</th>\n",
       "      <th>filterstatus</th>\n",
       "      <th>filtertoestand</th>\n",
       "    </tr>\n",
       "  </thead>\n",
       "  <tbody>\n",
       "    <tr>\n",
       "      <th>0</th>\n",
       "      <td>https://www.dov.vlaanderen.be/data/filter/1999...</td>\n",
       "      <td>https://www.dov.vlaanderen.be/data/put/2018-00...</td>\n",
       "      <td>SWPP006</td>\n",
       "      <td>1</td>\n",
       "      <td>peilfilter</td>\n",
       "      <td>94147.0</td>\n",
       "      <td>169582.0</td>\n",
       "      <td>9.4</td>\n",
       "      <td>Wortegem-Petegem</td>\n",
       "      <td>9</td>\n",
       "      <td>...</td>\n",
       "      <td>onbekend</td>\n",
       "      <td>NaN</td>\n",
       "      <td>NaN</td>\n",
       "      <td>1999-04-13</td>\n",
       "      <td>NaN</td>\n",
       "      <td>9.22</td>\n",
       "      <td>onbekend</td>\n",
       "      <td>peillint</td>\n",
       "      <td>onbekend</td>\n",
       "      <td>1.0</td>\n",
       "    </tr>\n",
       "    <tr>\n",
       "      <th>1</th>\n",
       "      <td>https://www.dov.vlaanderen.be/data/filter/1999...</td>\n",
       "      <td>https://www.dov.vlaanderen.be/data/put/2018-00...</td>\n",
       "      <td>SWPP006</td>\n",
       "      <td>1</td>\n",
       "      <td>peilfilter</td>\n",
       "      <td>94147.0</td>\n",
       "      <td>169582.0</td>\n",
       "      <td>9.4</td>\n",
       "      <td>Wortegem-Petegem</td>\n",
       "      <td>9</td>\n",
       "      <td>...</td>\n",
       "      <td>onbekend</td>\n",
       "      <td>NaN</td>\n",
       "      <td>NaN</td>\n",
       "      <td>1999-04-14</td>\n",
       "      <td>NaN</td>\n",
       "      <td>9.41</td>\n",
       "      <td>onbekend</td>\n",
       "      <td>peillint</td>\n",
       "      <td>onbekend</td>\n",
       "      <td>1.0</td>\n",
       "    </tr>\n",
       "    <tr>\n",
       "      <th>2</th>\n",
       "      <td>https://www.dov.vlaanderen.be/data/filter/1999...</td>\n",
       "      <td>https://www.dov.vlaanderen.be/data/put/2018-00...</td>\n",
       "      <td>SWPP006</td>\n",
       "      <td>1</td>\n",
       "      <td>peilfilter</td>\n",
       "      <td>94147.0</td>\n",
       "      <td>169582.0</td>\n",
       "      <td>9.4</td>\n",
       "      <td>Wortegem-Petegem</td>\n",
       "      <td>9</td>\n",
       "      <td>...</td>\n",
       "      <td>onbekend</td>\n",
       "      <td>NaN</td>\n",
       "      <td>NaN</td>\n",
       "      <td>1999-04-22</td>\n",
       "      <td>NaN</td>\n",
       "      <td>9.29</td>\n",
       "      <td>onbekend</td>\n",
       "      <td>peillint</td>\n",
       "      <td>onbekend</td>\n",
       "      <td>1.0</td>\n",
       "    </tr>\n",
       "    <tr>\n",
       "      <th>3</th>\n",
       "      <td>https://www.dov.vlaanderen.be/data/filter/1999...</td>\n",
       "      <td>https://www.dov.vlaanderen.be/data/put/2018-00...</td>\n",
       "      <td>SWPP006</td>\n",
       "      <td>1</td>\n",
       "      <td>peilfilter</td>\n",
       "      <td>94147.0</td>\n",
       "      <td>169582.0</td>\n",
       "      <td>9.4</td>\n",
       "      <td>Wortegem-Petegem</td>\n",
       "      <td>9</td>\n",
       "      <td>...</td>\n",
       "      <td>onbekend</td>\n",
       "      <td>NaN</td>\n",
       "      <td>NaN</td>\n",
       "      <td>1999-05-06</td>\n",
       "      <td>NaN</td>\n",
       "      <td>9.11</td>\n",
       "      <td>onbekend</td>\n",
       "      <td>peillint</td>\n",
       "      <td>onbekend</td>\n",
       "      <td>1.0</td>\n",
       "    </tr>\n",
       "    <tr>\n",
       "      <th>4</th>\n",
       "      <td>https://www.dov.vlaanderen.be/data/filter/1999...</td>\n",
       "      <td>https://www.dov.vlaanderen.be/data/put/2018-00...</td>\n",
       "      <td>SWPP006</td>\n",
       "      <td>1</td>\n",
       "      <td>peilfilter</td>\n",
       "      <td>94147.0</td>\n",
       "      <td>169582.0</td>\n",
       "      <td>9.4</td>\n",
       "      <td>Wortegem-Petegem</td>\n",
       "      <td>9</td>\n",
       "      <td>...</td>\n",
       "      <td>onbekend</td>\n",
       "      <td>NaN</td>\n",
       "      <td>NaN</td>\n",
       "      <td>1999-05-18</td>\n",
       "      <td>NaN</td>\n",
       "      <td>9.01</td>\n",
       "      <td>onbekend</td>\n",
       "      <td>peillint</td>\n",
       "      <td>onbekend</td>\n",
       "      <td>1.0</td>\n",
       "    </tr>\n",
       "  </tbody>\n",
       "</table>\n",
       "<p>5 rows × 22 columns</p>\n",
       "</div>"
      ],
      "text/plain": [
       "                                         pkey_filter  \\\n",
       "0  https://www.dov.vlaanderen.be/data/filter/1999...   \n",
       "1  https://www.dov.vlaanderen.be/data/filter/1999...   \n",
       "2  https://www.dov.vlaanderen.be/data/filter/1999...   \n",
       "3  https://www.dov.vlaanderen.be/data/filter/1999...   \n",
       "4  https://www.dov.vlaanderen.be/data/filter/1999...   \n",
       "\n",
       "                              pkey_grondwaterlocatie    gw_id filternummer  \\\n",
       "0  https://www.dov.vlaanderen.be/data/put/2018-00...  SWPP006            1   \n",
       "1  https://www.dov.vlaanderen.be/data/put/2018-00...  SWPP006            1   \n",
       "2  https://www.dov.vlaanderen.be/data/put/2018-00...  SWPP006            1   \n",
       "3  https://www.dov.vlaanderen.be/data/put/2018-00...  SWPP006            1   \n",
       "4  https://www.dov.vlaanderen.be/data/put/2018-00...  SWPP006            1   \n",
       "\n",
       "   filtertype        x         y  start_grondwaterlocatie_mtaw  \\\n",
       "0  peilfilter  94147.0  169582.0                           9.4   \n",
       "1  peilfilter  94147.0  169582.0                           9.4   \n",
       "2  peilfilter  94147.0  169582.0                           9.4   \n",
       "3  peilfilter  94147.0  169582.0                           9.4   \n",
       "4  peilfilter  94147.0  169582.0                           9.4   \n",
       "\n",
       "           gemeente meetnet_code  ...    regime  diepte_onderkant_filter  \\\n",
       "0  Wortegem-Petegem            9  ...  onbekend                      NaN   \n",
       "1  Wortegem-Petegem            9  ...  onbekend                      NaN   \n",
       "2  Wortegem-Petegem            9  ...  onbekend                      NaN   \n",
       "3  Wortegem-Petegem            9  ...  onbekend                      NaN   \n",
       "4  Wortegem-Petegem            9  ...  onbekend                      NaN   \n",
       "\n",
       "  lengte_filter       datum  tijdstip peil_mtaw  betrouwbaarheid   methode  \\\n",
       "0           NaN  1999-04-13       NaN      9.22         onbekend  peillint   \n",
       "1           NaN  1999-04-14       NaN      9.41         onbekend  peillint   \n",
       "2           NaN  1999-04-22       NaN      9.29         onbekend  peillint   \n",
       "3           NaN  1999-05-06       NaN      9.11         onbekend  peillint   \n",
       "4           NaN  1999-05-18       NaN      9.01         onbekend  peillint   \n",
       "\n",
       "  filterstatus filtertoestand  \n",
       "0     onbekend            1.0  \n",
       "1     onbekend            1.0  \n",
       "2     onbekend            1.0  \n",
       "3     onbekend            1.0  \n",
       "4     onbekend            1.0  \n",
       "\n",
       "[5 rows x 22 columns]"
      ]
     },
     "execution_count": 9,
     "metadata": {},
     "output_type": "execute_result"
    }
   ],
   "source": [
    "from pydov.util.location import Within, Box\n",
    "\n",
    "df = gwfilter.search(location=Within(Box(93378, 168009, 94246, 169873)))\n",
    "df.head()"
   ]
  },
  {
   "cell_type": "markdown",
   "metadata": {},
   "source": [
    "Using the *pkey* attributes one can request the details of the corresponding *put* or *filter* in a webbrowser:"
   ]
  },
  {
   "cell_type": "code",
   "execution_count": 10,
   "metadata": {},
   "outputs": [
    {
     "name": "stdout",
     "output_type": "stream",
     "text": [
      "https://www.dov.vlaanderen.be/data/put/2018-007299\n",
      "https://www.dov.vlaanderen.be/data/put/2018-007289\n",
      "https://www.dov.vlaanderen.be/data/put/2017-002866\n",
      "https://www.dov.vlaanderen.be/data/put/2018-007291\n",
      "https://www.dov.vlaanderen.be/data/put/2018-007305\n",
      "https://www.dov.vlaanderen.be/data/put/2019-019725\n",
      "https://www.dov.vlaanderen.be/data/put/2018-007287\n",
      "https://www.dov.vlaanderen.be/data/put/2018-007307\n",
      "https://www.dov.vlaanderen.be/data/put/2017-002867\n",
      "https://www.dov.vlaanderen.be/data/put/2018-007304\n",
      "https://www.dov.vlaanderen.be/data/put/2018-007312\n",
      "https://www.dov.vlaanderen.be/data/put/2018-007313\n",
      "https://www.dov.vlaanderen.be/data/put/2018-007290\n",
      "https://www.dov.vlaanderen.be/data/put/2018-007300\n",
      "https://www.dov.vlaanderen.be/data/put/2018-007310\n",
      "https://www.dov.vlaanderen.be/data/put/2018-007288\n",
      "https://www.dov.vlaanderen.be/data/put/2019-020544\n",
      "https://www.dov.vlaanderen.be/data/put/2018-007293\n",
      "https://www.dov.vlaanderen.be/data/put/2018-007286\n",
      "https://www.dov.vlaanderen.be/data/put/2018-007292\n",
      "https://www.dov.vlaanderen.be/data/put/2018-007295\n",
      "https://www.dov.vlaanderen.be/data/put/2018-007311\n",
      "https://www.dov.vlaanderen.be/data/put/2017-002868\n",
      "https://www.dov.vlaanderen.be/data/put/2018-007285\n",
      "https://www.dov.vlaanderen.be/data/put/2018-007294\n",
      "https://www.dov.vlaanderen.be/data/put/2018-007296\n",
      "https://www.dov.vlaanderen.be/data/filter/1999-011009\n",
      "https://www.dov.vlaanderen.be/data/filter/1999-011007\n",
      "https://www.dov.vlaanderen.be/data/filter/1999-011032\n",
      "https://www.dov.vlaanderen.be/data/filter/1999-011029\n",
      "https://www.dov.vlaanderen.be/data/filter/1999-000607\n",
      "https://www.dov.vlaanderen.be/data/filter/2007-011023\n",
      "https://www.dov.vlaanderen.be/data/filter/1999-011012\n",
      "https://www.dov.vlaanderen.be/data/filter/1999-000606\n",
      "https://www.dov.vlaanderen.be/data/filter/1999-011031\n",
      "https://www.dov.vlaanderen.be/data/filter/1999-011010\n",
      "https://www.dov.vlaanderen.be/data/filter/1999-011014\n",
      "https://www.dov.vlaanderen.be/data/filter/2007-011019\n",
      "https://www.dov.vlaanderen.be/data/filter/1999-011005\n",
      "https://www.dov.vlaanderen.be/data/filter/1999-011015\n",
      "https://www.dov.vlaanderen.be/data/filter/1991-062098\n",
      "https://www.dov.vlaanderen.be/data/filter/2007-011024\n",
      "https://www.dov.vlaanderen.be/data/filter/1999-011004\n",
      "https://www.dov.vlaanderen.be/data/filter/1999-011008\n",
      "https://www.dov.vlaanderen.be/data/filter/2009-011026\n",
      "https://www.dov.vlaanderen.be/data/filter/1999-011013\n",
      "https://www.dov.vlaanderen.be/data/filter/1999-011011\n",
      "https://www.dov.vlaanderen.be/data/filter/1999-000605\n",
      "https://www.dov.vlaanderen.be/data/filter/1999-011030\n",
      "https://www.dov.vlaanderen.be/data/filter/1995-061303\n",
      "https://www.dov.vlaanderen.be/data/filter/1999-011006\n",
      "https://www.dov.vlaanderen.be/data/filter/2007-011018\n"
     ]
    }
   ],
   "source": [
    "for pkey_grondwaterlocatie in set(df.pkey_grondwaterlocatie):\n",
    "    print(pkey_grondwaterlocatie)\n",
    "\n",
    "for pkey_filter in set(df.pkey_filter):\n",
    "    print(pkey_filter)"
   ]
  },
  {
   "cell_type": "markdown",
   "metadata": {},
   "source": [
    "### Get groundwater screens with specific properties"
   ]
  },
  {
   "cell_type": "markdown",
   "metadata": {},
   "source": [
    "Next to querying groundwater screens based on their geographic location within a bounding box, we can also search for groundwater screens matching a specific set of properties. For this we can build a query using a combination of the 'GrondwaterFilter' fields and operators provided by the WFS protocol.\n",
    "\n",
    "A list of possible operators can be found below:"
   ]
  },
  {
   "cell_type": "code",
   "execution_count": 11,
   "metadata": {},
   "outputs": [
    {
     "data": {
      "text/plain": [
       "['PropertyIsBetween',\n",
       " 'PropertyIsEqualTo',\n",
       " 'PropertyIsGreaterThan',\n",
       " 'PropertyIsGreaterThanOrEqualTo',\n",
       " 'PropertyIsLessThan',\n",
       " 'PropertyIsLessThanOrEqualTo',\n",
       " 'PropertyIsLike',\n",
       " 'PropertyIsNotEqualTo',\n",
       " 'PropertyIsNull',\n",
       " 'SortProperty']"
      ]
     },
     "execution_count": 11,
     "metadata": {},
     "output_type": "execute_result"
    }
   ],
   "source": [
    "[i for i,j in inspect.getmembers(sys.modules['owslib.fes'], inspect.isclass) if 'Property' in i]"
   ]
  },
  {
   "cell_type": "markdown",
   "metadata": {},
   "source": [
    "In this example we build a query using the *PropertyIsEqualTo* operator to find all groundwater screens that are within the community (gemeente) of 'Hamme':"
   ]
  },
  {
   "cell_type": "code",
   "execution_count": 12,
   "metadata": {},
   "outputs": [
    {
     "name": "stdout",
     "output_type": "stream",
     "text": [
      "[000/002] ..\n"
     ]
    },
    {
     "data": {
      "text/html": [
       "<div>\n",
       "<style scoped>\n",
       "    .dataframe tbody tr th:only-of-type {\n",
       "        vertical-align: middle;\n",
       "    }\n",
       "\n",
       "    .dataframe tbody tr th {\n",
       "        vertical-align: top;\n",
       "    }\n",
       "\n",
       "    .dataframe thead th {\n",
       "        text-align: right;\n",
       "    }\n",
       "</style>\n",
       "<table border=\"1\" class=\"dataframe\">\n",
       "  <thead>\n",
       "    <tr style=\"text-align: right;\">\n",
       "      <th></th>\n",
       "      <th>pkey_filter</th>\n",
       "      <th>pkey_grondwaterlocatie</th>\n",
       "      <th>gw_id</th>\n",
       "      <th>filternummer</th>\n",
       "      <th>filtertype</th>\n",
       "      <th>x</th>\n",
       "      <th>y</th>\n",
       "      <th>start_grondwaterlocatie_mtaw</th>\n",
       "      <th>gemeente</th>\n",
       "      <th>meetnet_code</th>\n",
       "      <th>...</th>\n",
       "      <th>regime</th>\n",
       "      <th>diepte_onderkant_filter</th>\n",
       "      <th>lengte_filter</th>\n",
       "      <th>datum</th>\n",
       "      <th>tijdstip</th>\n",
       "      <th>peil_mtaw</th>\n",
       "      <th>betrouwbaarheid</th>\n",
       "      <th>methode</th>\n",
       "      <th>filterstatus</th>\n",
       "      <th>filtertoestand</th>\n",
       "    </tr>\n",
       "  </thead>\n",
       "  <tbody>\n",
       "    <tr>\n",
       "      <th>0</th>\n",
       "      <td>https://www.dov.vlaanderen.be/data/filter/1993...</td>\n",
       "      <td>https://www.dov.vlaanderen.be/data/put/2019-02...</td>\n",
       "      <td>7-001016</td>\n",
       "      <td>1</td>\n",
       "      <td>pompfilter</td>\n",
       "      <td>224798.0</td>\n",
       "      <td>157819.0</td>\n",
       "      <td>130.8</td>\n",
       "      <td>Herstappe</td>\n",
       "      <td>7</td>\n",
       "      <td>...</td>\n",
       "      <td>freatisch</td>\n",
       "      <td>45.0</td>\n",
       "      <td>5.0</td>\n",
       "      <td>NaN</td>\n",
       "      <td>NaN</td>\n",
       "      <td>NaN</td>\n",
       "      <td>NaN</td>\n",
       "      <td>NaN</td>\n",
       "      <td>NaN</td>\n",
       "      <td>NaN</td>\n",
       "    </tr>\n",
       "    <tr>\n",
       "      <th>1</th>\n",
       "      <td>https://www.dov.vlaanderen.be/data/filter/1900...</td>\n",
       "      <td>https://www.dov.vlaanderen.be/data/put/2019-05...</td>\n",
       "      <td>7-97027</td>\n",
       "      <td>1</td>\n",
       "      <td>pompfilter</td>\n",
       "      <td>224843.0</td>\n",
       "      <td>157842.0</td>\n",
       "      <td>-1.0</td>\n",
       "      <td>Herstappe</td>\n",
       "      <td>7</td>\n",
       "      <td>...</td>\n",
       "      <td>onbekend</td>\n",
       "      <td>NaN</td>\n",
       "      <td>NaN</td>\n",
       "      <td>NaN</td>\n",
       "      <td>NaN</td>\n",
       "      <td>NaN</td>\n",
       "      <td>NaN</td>\n",
       "      <td>NaN</td>\n",
       "      <td>NaN</td>\n",
       "      <td>NaN</td>\n",
       "    </tr>\n",
       "  </tbody>\n",
       "</table>\n",
       "<p>2 rows × 22 columns</p>\n",
       "</div>"
      ],
      "text/plain": [
       "                                         pkey_filter  \\\n",
       "0  https://www.dov.vlaanderen.be/data/filter/1993...   \n",
       "1  https://www.dov.vlaanderen.be/data/filter/1900...   \n",
       "\n",
       "                              pkey_grondwaterlocatie     gw_id filternummer  \\\n",
       "0  https://www.dov.vlaanderen.be/data/put/2019-02...  7-001016            1   \n",
       "1  https://www.dov.vlaanderen.be/data/put/2019-05...   7-97027            1   \n",
       "\n",
       "   filtertype         x         y  start_grondwaterlocatie_mtaw   gemeente  \\\n",
       "0  pompfilter  224798.0  157819.0                         130.8  Herstappe   \n",
       "1  pompfilter  224843.0  157842.0                          -1.0  Herstappe   \n",
       "\n",
       "  meetnet_code  ...     regime diepte_onderkant_filter lengte_filter  datum  \\\n",
       "0            7  ...  freatisch                    45.0           5.0    NaN   \n",
       "1            7  ...   onbekend                     NaN           NaN    NaN   \n",
       "\n",
       "   tijdstip  peil_mtaw  betrouwbaarheid  methode  filterstatus  filtertoestand  \n",
       "0       NaN        NaN              NaN      NaN           NaN             NaN  \n",
       "1       NaN        NaN              NaN      NaN           NaN             NaN  \n",
       "\n",
       "[2 rows x 22 columns]"
      ]
     },
     "execution_count": 12,
     "metadata": {},
     "output_type": "execute_result"
    }
   ],
   "source": [
    "from owslib.fes import PropertyIsEqualTo\n",
    "\n",
    "query = PropertyIsEqualTo(\n",
    "            propertyname='gemeente',\n",
    "            literal='Herstappe')\n",
    "\n",
    "df = gwfilter.search(query=query)\n",
    "df.head()"
   ]
  },
  {
   "cell_type": "markdown",
   "metadata": {},
   "source": [
    "Once again we can use the *pkey_filter* as a permanent link to the information of the groundwater screens:"
   ]
  },
  {
   "cell_type": "code",
   "execution_count": 13,
   "metadata": {},
   "outputs": [
    {
     "name": "stdout",
     "output_type": "stream",
     "text": [
      "https://www.dov.vlaanderen.be/data/filter/1993-065801\n",
      "https://www.dov.vlaanderen.be/data/filter/1900-050992\n"
     ]
    }
   ],
   "source": [
    "for pkey_filter in set(df.pkey_filter):\n",
    "    print(pkey_filter)"
   ]
  },
  {
   "cell_type": "markdown",
   "metadata": {},
   "source": [
    "### Get the coordinates of all groundwater screens in Ghent"
   ]
  },
  {
   "cell_type": "code",
   "execution_count": 14,
   "metadata": {},
   "outputs": [
    {
     "data": {
      "text/html": [
       "<div>\n",
       "<style scoped>\n",
       "    .dataframe tbody tr th:only-of-type {\n",
       "        vertical-align: middle;\n",
       "    }\n",
       "\n",
       "    .dataframe tbody tr th {\n",
       "        vertical-align: top;\n",
       "    }\n",
       "\n",
       "    .dataframe thead th {\n",
       "        text-align: right;\n",
       "    }\n",
       "</style>\n",
       "<table border=\"1\" class=\"dataframe\">\n",
       "  <thead>\n",
       "    <tr style=\"text-align: right;\">\n",
       "      <th></th>\n",
       "      <th>pkey_filter</th>\n",
       "      <th>x</th>\n",
       "      <th>y</th>\n",
       "      <th>meetnet</th>\n",
       "    </tr>\n",
       "  </thead>\n",
       "  <tbody>\n",
       "    <tr>\n",
       "      <th>0</th>\n",
       "      <td>https://www.dov.vlaanderen.be/data/filter/1999...</td>\n",
       "      <td>98347.0</td>\n",
       "      <td>191821.0</td>\n",
       "      <td>meetnet 9 - peilputten INBO en natuurorganisaties</td>\n",
       "    </tr>\n",
       "    <tr>\n",
       "      <th>1</th>\n",
       "      <td>https://www.dov.vlaanderen.be/data/filter/1999...</td>\n",
       "      <td>98514.0</td>\n",
       "      <td>191518.0</td>\n",
       "      <td>meetnet 9 - peilputten INBO en natuurorganisaties</td>\n",
       "    </tr>\n",
       "    <tr>\n",
       "      <th>2</th>\n",
       "      <td>https://www.dov.vlaanderen.be/data/filter/1999...</td>\n",
       "      <td>98630.0</td>\n",
       "      <td>191301.0</td>\n",
       "      <td>meetnet 9 - peilputten INBO en natuurorganisaties</td>\n",
       "    </tr>\n",
       "    <tr>\n",
       "      <th>3</th>\n",
       "      <td>https://www.dov.vlaanderen.be/data/filter/1999...</td>\n",
       "      <td>99017.0</td>\n",
       "      <td>191447.0</td>\n",
       "      <td>meetnet 9 - peilputten INBO en natuurorganisaties</td>\n",
       "    </tr>\n",
       "    <tr>\n",
       "      <th>4</th>\n",
       "      <td>https://www.dov.vlaanderen.be/data/filter/1999...</td>\n",
       "      <td>99104.0</td>\n",
       "      <td>191412.0</td>\n",
       "      <td>meetnet 9 - peilputten INBO en natuurorganisaties</td>\n",
       "    </tr>\n",
       "  </tbody>\n",
       "</table>\n",
       "</div>"
      ],
      "text/plain": [
       "                                         pkey_filter        x         y  \\\n",
       "0  https://www.dov.vlaanderen.be/data/filter/1999...  98347.0  191821.0   \n",
       "1  https://www.dov.vlaanderen.be/data/filter/1999...  98514.0  191518.0   \n",
       "2  https://www.dov.vlaanderen.be/data/filter/1999...  98630.0  191301.0   \n",
       "3  https://www.dov.vlaanderen.be/data/filter/1999...  99017.0  191447.0   \n",
       "4  https://www.dov.vlaanderen.be/data/filter/1999...  99104.0  191412.0   \n",
       "\n",
       "                                             meetnet  \n",
       "0  meetnet 9 - peilputten INBO en natuurorganisaties  \n",
       "1  meetnet 9 - peilputten INBO en natuurorganisaties  \n",
       "2  meetnet 9 - peilputten INBO en natuurorganisaties  \n",
       "3  meetnet 9 - peilputten INBO en natuurorganisaties  \n",
       "4  meetnet 9 - peilputten INBO en natuurorganisaties  "
      ]
     },
     "execution_count": 14,
     "metadata": {},
     "output_type": "execute_result"
    }
   ],
   "source": [
    "query = PropertyIsEqualTo(propertyname='gemeente',\n",
    "                          literal='Gent')\n",
    "\n",
    "df = gwfilter.search(query=query,\n",
    "                     return_fields=('pkey_filter', 'x', 'y', 'meetnet'))\n",
    "df.head()"
   ]
  },
  {
   "cell_type": "markdown",
   "metadata": {},
   "source": [
    "### Get the 'meetnet' and 'meetnet_code' for groundwater screens in Boortmeerbeek"
   ]
  },
  {
   "cell_type": "code",
   "execution_count": 15,
   "metadata": {},
   "outputs": [
    {
     "name": "stdout",
     "output_type": "stream",
     "text": [
      "[000/050] ..................................................\n"
     ]
    },
    {
     "data": {
      "text/html": [
       "<div>\n",
       "<style scoped>\n",
       "    .dataframe tbody tr th:only-of-type {\n",
       "        vertical-align: middle;\n",
       "    }\n",
       "\n",
       "    .dataframe tbody tr th {\n",
       "        vertical-align: top;\n",
       "    }\n",
       "\n",
       "    .dataframe thead th {\n",
       "        text-align: right;\n",
       "    }\n",
       "</style>\n",
       "<table border=\"1\" class=\"dataframe\">\n",
       "  <thead>\n",
       "    <tr style=\"text-align: right;\">\n",
       "      <th></th>\n",
       "      <th>pkey_filter</th>\n",
       "      <th>meetnet</th>\n",
       "      <th>meetnet_code</th>\n",
       "    </tr>\n",
       "  </thead>\n",
       "  <tbody>\n",
       "    <tr>\n",
       "      <th>0</th>\n",
       "      <td>https://www.dov.vlaanderen.be/data/filter/1981...</td>\n",
       "      <td>meetnet 7 - winningsputten</td>\n",
       "      <td>7</td>\n",
       "    </tr>\n",
       "    <tr>\n",
       "      <th>1</th>\n",
       "      <td>https://www.dov.vlaanderen.be/data/filter/2018...</td>\n",
       "      <td>meetnet 7 - winningsputten</td>\n",
       "      <td>7</td>\n",
       "    </tr>\n",
       "    <tr>\n",
       "      <th>2</th>\n",
       "      <td>https://www.dov.vlaanderen.be/data/filter/1976...</td>\n",
       "      <td>meetnet 7 - winningsputten</td>\n",
       "      <td>7</td>\n",
       "    </tr>\n",
       "    <tr>\n",
       "      <th>3</th>\n",
       "      <td>https://www.dov.vlaanderen.be/data/filter/1980...</td>\n",
       "      <td>meetnet 7 - winningsputten</td>\n",
       "      <td>7</td>\n",
       "    </tr>\n",
       "    <tr>\n",
       "      <th>4</th>\n",
       "      <td>https://www.dov.vlaanderen.be/data/filter/1980...</td>\n",
       "      <td>meetnet 7 - winningsputten</td>\n",
       "      <td>7</td>\n",
       "    </tr>\n",
       "  </tbody>\n",
       "</table>\n",
       "</div>"
      ],
      "text/plain": [
       "                                         pkey_filter  \\\n",
       "0  https://www.dov.vlaanderen.be/data/filter/1981...   \n",
       "1  https://www.dov.vlaanderen.be/data/filter/2018...   \n",
       "2  https://www.dov.vlaanderen.be/data/filter/1976...   \n",
       "3  https://www.dov.vlaanderen.be/data/filter/1980...   \n",
       "4  https://www.dov.vlaanderen.be/data/filter/1980...   \n",
       "\n",
       "                      meetnet meetnet_code  \n",
       "0  meetnet 7 - winningsputten            7  \n",
       "1  meetnet 7 - winningsputten            7  \n",
       "2  meetnet 7 - winningsputten            7  \n",
       "3  meetnet 7 - winningsputten            7  \n",
       "4  meetnet 7 - winningsputten            7  "
      ]
     },
     "execution_count": 15,
     "metadata": {},
     "output_type": "execute_result"
    }
   ],
   "source": [
    "query = PropertyIsEqualTo(propertyname='gemeente',\n",
    "                          literal='Boortmeerbeek')\n",
    "\n",
    "df = gwfilter.search(query=query,\n",
    "                   return_fields=('pkey_filter', 'meetnet', 'meetnet_code'))\n",
    "df.head()"
   ]
  },
  {
   "cell_type": "markdown",
   "metadata": {},
   "source": [
    "### Get all details of groundwaterscreens of 'meetnet 9' within the given bounding box"
   ]
  },
  {
   "cell_type": "code",
   "execution_count": 16,
   "metadata": {},
   "outputs": [
    {
     "name": "stdout",
     "output_type": "stream",
     "text": [
      "[000/016] ................\n"
     ]
    },
    {
     "data": {
      "text/html": [
       "<div>\n",
       "<style scoped>\n",
       "    .dataframe tbody tr th:only-of-type {\n",
       "        vertical-align: middle;\n",
       "    }\n",
       "\n",
       "    .dataframe tbody tr th {\n",
       "        vertical-align: top;\n",
       "    }\n",
       "\n",
       "    .dataframe thead th {\n",
       "        text-align: right;\n",
       "    }\n",
       "</style>\n",
       "<table border=\"1\" class=\"dataframe\">\n",
       "  <thead>\n",
       "    <tr style=\"text-align: right;\">\n",
       "      <th></th>\n",
       "      <th>pkey_filter</th>\n",
       "      <th>pkey_grondwaterlocatie</th>\n",
       "      <th>gw_id</th>\n",
       "      <th>filternummer</th>\n",
       "      <th>filtertype</th>\n",
       "      <th>x</th>\n",
       "      <th>y</th>\n",
       "      <th>start_grondwaterlocatie_mtaw</th>\n",
       "      <th>gemeente</th>\n",
       "      <th>meetnet_code</th>\n",
       "      <th>...</th>\n",
       "      <th>regime</th>\n",
       "      <th>diepte_onderkant_filter</th>\n",
       "      <th>lengte_filter</th>\n",
       "      <th>datum</th>\n",
       "      <th>tijdstip</th>\n",
       "      <th>peil_mtaw</th>\n",
       "      <th>betrouwbaarheid</th>\n",
       "      <th>methode</th>\n",
       "      <th>filterstatus</th>\n",
       "      <th>filtertoestand</th>\n",
       "    </tr>\n",
       "  </thead>\n",
       "  <tbody>\n",
       "    <tr>\n",
       "      <th>0</th>\n",
       "      <td>https://www.dov.vlaanderen.be/data/filter/1999...</td>\n",
       "      <td>https://www.dov.vlaanderen.be/data/put/2017-00...</td>\n",
       "      <td>WVSP009</td>\n",
       "      <td>1</td>\n",
       "      <td>peilfilter</td>\n",
       "      <td>89720.046875</td>\n",
       "      <td>165712.140625</td>\n",
       "      <td>11.84</td>\n",
       "      <td>Avelgem</td>\n",
       "      <td>9</td>\n",
       "      <td>...</td>\n",
       "      <td>onbekend</td>\n",
       "      <td>5.78</td>\n",
       "      <td>1.0</td>\n",
       "      <td>1999-01-12</td>\n",
       "      <td>NaN</td>\n",
       "      <td>12.20</td>\n",
       "      <td>onbekend</td>\n",
       "      <td>peillint</td>\n",
       "      <td>in rust</td>\n",
       "      <td>1.0</td>\n",
       "    </tr>\n",
       "    <tr>\n",
       "      <th>1</th>\n",
       "      <td>https://www.dov.vlaanderen.be/data/filter/1999...</td>\n",
       "      <td>https://www.dov.vlaanderen.be/data/put/2017-00...</td>\n",
       "      <td>WVSP009</td>\n",
       "      <td>1</td>\n",
       "      <td>peilfilter</td>\n",
       "      <td>89720.046875</td>\n",
       "      <td>165712.140625</td>\n",
       "      <td>11.84</td>\n",
       "      <td>Avelgem</td>\n",
       "      <td>9</td>\n",
       "      <td>...</td>\n",
       "      <td>onbekend</td>\n",
       "      <td>5.78</td>\n",
       "      <td>1.0</td>\n",
       "      <td>1999-01-21</td>\n",
       "      <td>NaN</td>\n",
       "      <td>12.26</td>\n",
       "      <td>onbekend</td>\n",
       "      <td>peillint</td>\n",
       "      <td>in rust</td>\n",
       "      <td>1.0</td>\n",
       "    </tr>\n",
       "    <tr>\n",
       "      <th>2</th>\n",
       "      <td>https://www.dov.vlaanderen.be/data/filter/1999...</td>\n",
       "      <td>https://www.dov.vlaanderen.be/data/put/2017-00...</td>\n",
       "      <td>WVSP009</td>\n",
       "      <td>1</td>\n",
       "      <td>peilfilter</td>\n",
       "      <td>89720.046875</td>\n",
       "      <td>165712.140625</td>\n",
       "      <td>11.84</td>\n",
       "      <td>Avelgem</td>\n",
       "      <td>9</td>\n",
       "      <td>...</td>\n",
       "      <td>onbekend</td>\n",
       "      <td>5.78</td>\n",
       "      <td>1.0</td>\n",
       "      <td>1999-02-01</td>\n",
       "      <td>NaN</td>\n",
       "      <td>12.31</td>\n",
       "      <td>onbekend</td>\n",
       "      <td>peillint</td>\n",
       "      <td>in rust</td>\n",
       "      <td>1.0</td>\n",
       "    </tr>\n",
       "    <tr>\n",
       "      <th>3</th>\n",
       "      <td>https://www.dov.vlaanderen.be/data/filter/1999...</td>\n",
       "      <td>https://www.dov.vlaanderen.be/data/put/2017-00...</td>\n",
       "      <td>WVSP009</td>\n",
       "      <td>1</td>\n",
       "      <td>peilfilter</td>\n",
       "      <td>89720.046875</td>\n",
       "      <td>165712.140625</td>\n",
       "      <td>11.84</td>\n",
       "      <td>Avelgem</td>\n",
       "      <td>9</td>\n",
       "      <td>...</td>\n",
       "      <td>onbekend</td>\n",
       "      <td>5.78</td>\n",
       "      <td>1.0</td>\n",
       "      <td>1999-02-06</td>\n",
       "      <td>NaN</td>\n",
       "      <td>12.29</td>\n",
       "      <td>onbekend</td>\n",
       "      <td>peillint</td>\n",
       "      <td>in rust</td>\n",
       "      <td>1.0</td>\n",
       "    </tr>\n",
       "    <tr>\n",
       "      <th>4</th>\n",
       "      <td>https://www.dov.vlaanderen.be/data/filter/1999...</td>\n",
       "      <td>https://www.dov.vlaanderen.be/data/put/2017-00...</td>\n",
       "      <td>WVSP009</td>\n",
       "      <td>1</td>\n",
       "      <td>peilfilter</td>\n",
       "      <td>89720.046875</td>\n",
       "      <td>165712.140625</td>\n",
       "      <td>11.84</td>\n",
       "      <td>Avelgem</td>\n",
       "      <td>9</td>\n",
       "      <td>...</td>\n",
       "      <td>onbekend</td>\n",
       "      <td>5.78</td>\n",
       "      <td>1.0</td>\n",
       "      <td>1999-02-12</td>\n",
       "      <td>NaN</td>\n",
       "      <td>12.18</td>\n",
       "      <td>onbekend</td>\n",
       "      <td>peillint</td>\n",
       "      <td>in rust</td>\n",
       "      <td>1.0</td>\n",
       "    </tr>\n",
       "  </tbody>\n",
       "</table>\n",
       "<p>5 rows × 22 columns</p>\n",
       "</div>"
      ],
      "text/plain": [
       "                                         pkey_filter  \\\n",
       "0  https://www.dov.vlaanderen.be/data/filter/1999...   \n",
       "1  https://www.dov.vlaanderen.be/data/filter/1999...   \n",
       "2  https://www.dov.vlaanderen.be/data/filter/1999...   \n",
       "3  https://www.dov.vlaanderen.be/data/filter/1999...   \n",
       "4  https://www.dov.vlaanderen.be/data/filter/1999...   \n",
       "\n",
       "                              pkey_grondwaterlocatie    gw_id filternummer  \\\n",
       "0  https://www.dov.vlaanderen.be/data/put/2017-00...  WVSP009            1   \n",
       "1  https://www.dov.vlaanderen.be/data/put/2017-00...  WVSP009            1   \n",
       "2  https://www.dov.vlaanderen.be/data/put/2017-00...  WVSP009            1   \n",
       "3  https://www.dov.vlaanderen.be/data/put/2017-00...  WVSP009            1   \n",
       "4  https://www.dov.vlaanderen.be/data/put/2017-00...  WVSP009            1   \n",
       "\n",
       "   filtertype             x              y  start_grondwaterlocatie_mtaw  \\\n",
       "0  peilfilter  89720.046875  165712.140625                         11.84   \n",
       "1  peilfilter  89720.046875  165712.140625                         11.84   \n",
       "2  peilfilter  89720.046875  165712.140625                         11.84   \n",
       "3  peilfilter  89720.046875  165712.140625                         11.84   \n",
       "4  peilfilter  89720.046875  165712.140625                         11.84   \n",
       "\n",
       "  gemeente meetnet_code  ...    regime  diepte_onderkant_filter lengte_filter  \\\n",
       "0  Avelgem            9  ...  onbekend                     5.78           1.0   \n",
       "1  Avelgem            9  ...  onbekend                     5.78           1.0   \n",
       "2  Avelgem            9  ...  onbekend                     5.78           1.0   \n",
       "3  Avelgem            9  ...  onbekend                     5.78           1.0   \n",
       "4  Avelgem            9  ...  onbekend                     5.78           1.0   \n",
       "\n",
       "        datum  tijdstip peil_mtaw  betrouwbaarheid   methode filterstatus  \\\n",
       "0  1999-01-12       NaN     12.20         onbekend  peillint      in rust   \n",
       "1  1999-01-21       NaN     12.26         onbekend  peillint      in rust   \n",
       "2  1999-02-01       NaN     12.31         onbekend  peillint      in rust   \n",
       "3  1999-02-06       NaN     12.29         onbekend  peillint      in rust   \n",
       "4  1999-02-12       NaN     12.18         onbekend  peillint      in rust   \n",
       "\n",
       "  filtertoestand  \n",
       "0            1.0  \n",
       "1            1.0  \n",
       "2            1.0  \n",
       "3            1.0  \n",
       "4            1.0  \n",
       "\n",
       "[5 rows x 22 columns]"
      ]
     },
     "execution_count": 16,
     "metadata": {},
     "output_type": "execute_result"
    }
   ],
   "source": [
    "from owslib.fes import PropertyIsLike\n",
    "\n",
    "query = PropertyIsLike(propertyname='meetnet',\n",
    "                       literal='meetnet 9 %')\n",
    "df = gwfilter.search(query=query,\n",
    "                     location=Within(Box(87676, 163442, 91194, 168043)))\n",
    "df.head()"
   ]
  },
  {
   "cell_type": "markdown",
   "metadata": {},
   "source": [
    "### Get groundwater screens based on a combination of specific properties"
   ]
  },
  {
   "cell_type": "markdown",
   "metadata": {},
   "source": [
    "Get all groundwater screens in Hamme that have a value for length_filter and either belong to the primary meetnet of VMM or that have a depth bottom screen less than 3 meter."
   ]
  },
  {
   "cell_type": "code",
   "execution_count": 31,
   "metadata": {},
   "outputs": [
    {
     "data": {
      "text/html": [
       "<div>\n",
       "<style scoped>\n",
       "    .dataframe tbody tr th:only-of-type {\n",
       "        vertical-align: middle;\n",
       "    }\n",
       "\n",
       "    .dataframe tbody tr th {\n",
       "        vertical-align: top;\n",
       "    }\n",
       "\n",
       "    .dataframe thead th {\n",
       "        text-align: right;\n",
       "    }\n",
       "</style>\n",
       "<table border=\"1\" class=\"dataframe\">\n",
       "  <thead>\n",
       "    <tr style=\"text-align: right;\">\n",
       "      <th></th>\n",
       "      <th>pkey_filter</th>\n",
       "      <th>x</th>\n",
       "      <th>y</th>\n",
       "      <th>gw_id</th>\n",
       "      <th>filternummer</th>\n",
       "      <th>diepte_onderkant_filter</th>\n",
       "    </tr>\n",
       "  </thead>\n",
       "  <tbody>\n",
       "    <tr>\n",
       "      <th>0</th>\n",
       "      <td>https://www.dov.vlaanderen.be/data/filter/2001...</td>\n",
       "      <td>130078.000000</td>\n",
       "      <td>196561.000000</td>\n",
       "      <td>MORP002</td>\n",
       "      <td>1</td>\n",
       "      <td>1.91</td>\n",
       "    </tr>\n",
       "    <tr>\n",
       "      <th>1</th>\n",
       "      <td>https://www.dov.vlaanderen.be/data/filter/2003...</td>\n",
       "      <td>131763.200000</td>\n",
       "      <td>198674.500000</td>\n",
       "      <td>802/21/3</td>\n",
       "      <td>1</td>\n",
       "      <td>2.50</td>\n",
       "    </tr>\n",
       "    <tr>\n",
       "      <th>2</th>\n",
       "      <td>https://www.dov.vlaanderen.be/data/filter/2003...</td>\n",
       "      <td>131837.656250</td>\n",
       "      <td>197054.203125</td>\n",
       "      <td>810/21/1</td>\n",
       "      <td>1</td>\n",
       "      <td>2.50</td>\n",
       "    </tr>\n",
       "    <tr>\n",
       "      <th>3</th>\n",
       "      <td>https://www.dov.vlaanderen.be/data/filter/2003...</td>\n",
       "      <td>133865.921875</td>\n",
       "      <td>195656.328125</td>\n",
       "      <td>813/21/2</td>\n",
       "      <td>1</td>\n",
       "      <td>2.50</td>\n",
       "    </tr>\n",
       "    <tr>\n",
       "      <th>4</th>\n",
       "      <td>https://www.dov.vlaanderen.be/data/filter/2000...</td>\n",
       "      <td>130190.000000</td>\n",
       "      <td>196378.000000</td>\n",
       "      <td>MORP001</td>\n",
       "      <td>1</td>\n",
       "      <td>1.59</td>\n",
       "    </tr>\n",
       "  </tbody>\n",
       "</table>\n",
       "</div>"
      ],
      "text/plain": [
       "                                         pkey_filter              x  \\\n",
       "0  https://www.dov.vlaanderen.be/data/filter/2001...  130078.000000   \n",
       "1  https://www.dov.vlaanderen.be/data/filter/2003...  131763.200000   \n",
       "2  https://www.dov.vlaanderen.be/data/filter/2003...  131837.656250   \n",
       "3  https://www.dov.vlaanderen.be/data/filter/2003...  133865.921875   \n",
       "4  https://www.dov.vlaanderen.be/data/filter/2000...  130190.000000   \n",
       "\n",
       "               y     gw_id filternummer  diepte_onderkant_filter  \n",
       "0  196561.000000   MORP002            1                     1.91  \n",
       "1  198674.500000  802/21/3            1                     2.50  \n",
       "2  197054.203125  810/21/1            1                     2.50  \n",
       "3  195656.328125  813/21/2            1                     2.50  \n",
       "4  196378.000000   MORP001            1                     1.59  "
      ]
     },
     "execution_count": 31,
     "metadata": {},
     "output_type": "execute_result"
    }
   ],
   "source": [
    "from owslib.fes import Or, Not, PropertyIsNull, PropertyIsLessThanOrEqualTo, And\n",
    "\n",
    "query = And([PropertyIsEqualTo(propertyname='gemeente',\n",
    "                               literal='Hamme'),\n",
    "             Not([PropertyIsNull(propertyname='lengte_filter')]),\n",
    "             Or([PropertyIsLike(propertyname='meetnet',\n",
    "                                literal='meetnet 1%'),\n",
    "                 PropertyIsLessThanOrEqualTo(\n",
    "                     propertyname='diepte_onderkant_filter',\n",
    "                     literal='3')])])\n",
    "df_hamme = gwfilter.search(query=query,\n",
    "                     return_fields=('pkey_filter', 'x', 'y', 'gw_id', 'filternummer', 'diepte_onderkant_filter'))\n",
    "df_hamme.head()"
   ]
  },
  {
   "cell_type": "markdown",
   "metadata": {},
   "source": [
    "## Combine *datum* and *tijdstip* in a datetime object"
   ]
  },
  {
   "cell_type": "markdown",
   "metadata": {},
   "source": [
    "get data"
   ]
  },
  {
   "cell_type": "code",
   "execution_count": 37,
   "metadata": {},
   "outputs": [
    {
     "name": "stdout",
     "output_type": "stream",
     "text": [
      "[000/001] c\n"
     ]
    },
    {
     "data": {
      "text/html": [
       "<div>\n",
       "<style scoped>\n",
       "    .dataframe tbody tr th:only-of-type {\n",
       "        vertical-align: middle;\n",
       "    }\n",
       "\n",
       "    .dataframe tbody tr th {\n",
       "        vertical-align: top;\n",
       "    }\n",
       "\n",
       "    .dataframe thead th {\n",
       "        text-align: right;\n",
       "    }\n",
       "</style>\n",
       "<table border=\"1\" class=\"dataframe\">\n",
       "  <thead>\n",
       "    <tr style=\"text-align: right;\">\n",
       "      <th></th>\n",
       "      <th>pkey_filter</th>\n",
       "      <th>pkey_grondwaterlocatie</th>\n",
       "      <th>gw_id</th>\n",
       "      <th>filternummer</th>\n",
       "      <th>filtertype</th>\n",
       "      <th>x</th>\n",
       "      <th>y</th>\n",
       "      <th>start_grondwaterlocatie_mtaw</th>\n",
       "      <th>gemeente</th>\n",
       "      <th>meetnet_code</th>\n",
       "      <th>...</th>\n",
       "      <th>regime</th>\n",
       "      <th>diepte_onderkant_filter</th>\n",
       "      <th>lengte_filter</th>\n",
       "      <th>datum</th>\n",
       "      <th>tijdstip</th>\n",
       "      <th>peil_mtaw</th>\n",
       "      <th>betrouwbaarheid</th>\n",
       "      <th>methode</th>\n",
       "      <th>filterstatus</th>\n",
       "      <th>filtertoestand</th>\n",
       "    </tr>\n",
       "  </thead>\n",
       "  <tbody>\n",
       "    <tr>\n",
       "      <th>0</th>\n",
       "      <td>https://www.dov.vlaanderen.be/data/filter/2003...</td>\n",
       "      <td>https://www.dov.vlaanderen.be/data/put/2018-00...</td>\n",
       "      <td>ZWAP205</td>\n",
       "      <td>1</td>\n",
       "      <td>peilfilter</td>\n",
       "      <td>218953.0</td>\n",
       "      <td>198767.0</td>\n",
       "      <td>58.44</td>\n",
       "      <td>Houthalen-Helchteren</td>\n",
       "      <td>9</td>\n",
       "      <td>...</td>\n",
       "      <td>onbekend</td>\n",
       "      <td>0.68</td>\n",
       "      <td>0.3</td>\n",
       "      <td>2003-10-18</td>\n",
       "      <td>NaN</td>\n",
       "      <td>58.26</td>\n",
       "      <td>onbekend</td>\n",
       "      <td>peillint</td>\n",
       "      <td>onbekend</td>\n",
       "      <td>1</td>\n",
       "    </tr>\n",
       "    <tr>\n",
       "      <th>1</th>\n",
       "      <td>https://www.dov.vlaanderen.be/data/filter/2003...</td>\n",
       "      <td>https://www.dov.vlaanderen.be/data/put/2018-00...</td>\n",
       "      <td>ZWAP205</td>\n",
       "      <td>1</td>\n",
       "      <td>peilfilter</td>\n",
       "      <td>218953.0</td>\n",
       "      <td>198767.0</td>\n",
       "      <td>58.44</td>\n",
       "      <td>Houthalen-Helchteren</td>\n",
       "      <td>9</td>\n",
       "      <td>...</td>\n",
       "      <td>onbekend</td>\n",
       "      <td>0.68</td>\n",
       "      <td>0.3</td>\n",
       "      <td>2003-11-01</td>\n",
       "      <td>NaN</td>\n",
       "      <td>58.30</td>\n",
       "      <td>onbekend</td>\n",
       "      <td>peillint</td>\n",
       "      <td>onbekend</td>\n",
       "      <td>1</td>\n",
       "    </tr>\n",
       "    <tr>\n",
       "      <th>2</th>\n",
       "      <td>https://www.dov.vlaanderen.be/data/filter/2003...</td>\n",
       "      <td>https://www.dov.vlaanderen.be/data/put/2018-00...</td>\n",
       "      <td>ZWAP205</td>\n",
       "      <td>1</td>\n",
       "      <td>peilfilter</td>\n",
       "      <td>218953.0</td>\n",
       "      <td>198767.0</td>\n",
       "      <td>58.44</td>\n",
       "      <td>Houthalen-Helchteren</td>\n",
       "      <td>9</td>\n",
       "      <td>...</td>\n",
       "      <td>onbekend</td>\n",
       "      <td>0.68</td>\n",
       "      <td>0.3</td>\n",
       "      <td>2003-11-17</td>\n",
       "      <td>NaN</td>\n",
       "      <td>58.31</td>\n",
       "      <td>onbekend</td>\n",
       "      <td>peillint</td>\n",
       "      <td>onbekend</td>\n",
       "      <td>1</td>\n",
       "    </tr>\n",
       "    <tr>\n",
       "      <th>3</th>\n",
       "      <td>https://www.dov.vlaanderen.be/data/filter/2003...</td>\n",
       "      <td>https://www.dov.vlaanderen.be/data/put/2018-00...</td>\n",
       "      <td>ZWAP205</td>\n",
       "      <td>1</td>\n",
       "      <td>peilfilter</td>\n",
       "      <td>218953.0</td>\n",
       "      <td>198767.0</td>\n",
       "      <td>58.44</td>\n",
       "      <td>Houthalen-Helchteren</td>\n",
       "      <td>9</td>\n",
       "      <td>...</td>\n",
       "      <td>onbekend</td>\n",
       "      <td>0.68</td>\n",
       "      <td>0.3</td>\n",
       "      <td>2003-11-23</td>\n",
       "      <td>NaN</td>\n",
       "      <td>58.31</td>\n",
       "      <td>onbekend</td>\n",
       "      <td>peillint</td>\n",
       "      <td>onbekend</td>\n",
       "      <td>1</td>\n",
       "    </tr>\n",
       "    <tr>\n",
       "      <th>4</th>\n",
       "      <td>https://www.dov.vlaanderen.be/data/filter/2003...</td>\n",
       "      <td>https://www.dov.vlaanderen.be/data/put/2018-00...</td>\n",
       "      <td>ZWAP205</td>\n",
       "      <td>1</td>\n",
       "      <td>peilfilter</td>\n",
       "      <td>218953.0</td>\n",
       "      <td>198767.0</td>\n",
       "      <td>58.44</td>\n",
       "      <td>Houthalen-Helchteren</td>\n",
       "      <td>9</td>\n",
       "      <td>...</td>\n",
       "      <td>onbekend</td>\n",
       "      <td>0.68</td>\n",
       "      <td>0.3</td>\n",
       "      <td>2003-12-14</td>\n",
       "      <td>NaN</td>\n",
       "      <td>58.30</td>\n",
       "      <td>onbekend</td>\n",
       "      <td>peillint</td>\n",
       "      <td>onbekend</td>\n",
       "      <td>1</td>\n",
       "    </tr>\n",
       "  </tbody>\n",
       "</table>\n",
       "<p>5 rows × 22 columns</p>\n",
       "</div>"
      ],
      "text/plain": [
       "                                         pkey_filter  \\\n",
       "0  https://www.dov.vlaanderen.be/data/filter/2003...   \n",
       "1  https://www.dov.vlaanderen.be/data/filter/2003...   \n",
       "2  https://www.dov.vlaanderen.be/data/filter/2003...   \n",
       "3  https://www.dov.vlaanderen.be/data/filter/2003...   \n",
       "4  https://www.dov.vlaanderen.be/data/filter/2003...   \n",
       "\n",
       "                              pkey_grondwaterlocatie    gw_id filternummer  \\\n",
       "0  https://www.dov.vlaanderen.be/data/put/2018-00...  ZWAP205            1   \n",
       "1  https://www.dov.vlaanderen.be/data/put/2018-00...  ZWAP205            1   \n",
       "2  https://www.dov.vlaanderen.be/data/put/2018-00...  ZWAP205            1   \n",
       "3  https://www.dov.vlaanderen.be/data/put/2018-00...  ZWAP205            1   \n",
       "4  https://www.dov.vlaanderen.be/data/put/2018-00...  ZWAP205            1   \n",
       "\n",
       "   filtertype         x         y  start_grondwaterlocatie_mtaw  \\\n",
       "0  peilfilter  218953.0  198767.0                         58.44   \n",
       "1  peilfilter  218953.0  198767.0                         58.44   \n",
       "2  peilfilter  218953.0  198767.0                         58.44   \n",
       "3  peilfilter  218953.0  198767.0                         58.44   \n",
       "4  peilfilter  218953.0  198767.0                         58.44   \n",
       "\n",
       "               gemeente meetnet_code  ...    regime  diepte_onderkant_filter  \\\n",
       "0  Houthalen-Helchteren            9  ...  onbekend                     0.68   \n",
       "1  Houthalen-Helchteren            9  ...  onbekend                     0.68   \n",
       "2  Houthalen-Helchteren            9  ...  onbekend                     0.68   \n",
       "3  Houthalen-Helchteren            9  ...  onbekend                     0.68   \n",
       "4  Houthalen-Helchteren            9  ...  onbekend                     0.68   \n",
       "\n",
       "  lengte_filter       datum  tijdstip peil_mtaw  betrouwbaarheid   methode  \\\n",
       "0           0.3  2003-10-18       NaN     58.26         onbekend  peillint   \n",
       "1           0.3  2003-11-01       NaN     58.30         onbekend  peillint   \n",
       "2           0.3  2003-11-17       NaN     58.31         onbekend  peillint   \n",
       "3           0.3  2003-11-23       NaN     58.31         onbekend  peillint   \n",
       "4           0.3  2003-12-14       NaN     58.30         onbekend  peillint   \n",
       "\n",
       "  filterstatus filtertoestand  \n",
       "0     onbekend              1  \n",
       "1     onbekend              1  \n",
       "2     onbekend              1  \n",
       "3     onbekend              1  \n",
       "4     onbekend              1  \n",
       "\n",
       "[5 rows x 22 columns]"
      ]
     },
     "execution_count": 37,
     "metadata": {},
     "output_type": "execute_result"
    }
   ],
   "source": [
    "query = PropertyIsEqualTo(\n",
    "            propertyname='pkey_filter',\n",
    "            literal='https://www.dov.vlaanderen.be/data/filter/2003-009883')\n",
    "\n",
    "df = gwfilter.search(query=query)\n",
    "df.head()"
   ]
  },
  {
   "cell_type": "markdown",
   "metadata": {},
   "source": [
    "If the *tijdstip* field contains data, it can be combined with the *datum* field to create a date.datetime object. Make sure that empty fields contain a time string \"xx:xx:xx\""
   ]
  },
  {
   "cell_type": "code",
   "execution_count": 38,
   "metadata": {},
   "outputs": [
    {
     "data": {
      "text/plain": [
       "0   2003-10-18\n",
       "1   2003-11-01\n",
       "2   2003-11-17\n",
       "3   2003-11-23\n",
       "4   2003-12-14\n",
       "Name: tijd, dtype: datetime64[ns]"
      ]
     },
     "execution_count": 38,
     "metadata": {},
     "output_type": "execute_result"
    }
   ],
   "source": [
    "df.reset_index(inplace=True)\n",
    "df['tijdstip'] = df.tijdstip.fillna('00:00:00')\n",
    "df['tijd'] = pd.to_datetime(df.datum.astype(str)+' '+df.tijdstip.astype(str))\n",
    "df.tijd.head()"
   ]
  },
  {
   "cell_type": "markdown",
   "metadata": {},
   "source": [
    "## Working with water head time series "
   ]
  },
  {
   "cell_type": "markdown",
   "metadata": {},
   "source": [
    "For further analysis and visualisation of the time series data, we can use the data analysis library [pandas](https://pandas.pydata.org/) and visualisation library [matplotlib](https://matplotlib.org/). "
   ]
  },
  {
   "cell_type": "code",
   "execution_count": 18,
   "metadata": {},
   "outputs": [],
   "source": [
    "import pandas as pd\n",
    "import matplotlib.pyplot as plt"
   ]
  },
  {
   "cell_type": "markdown",
   "metadata": {},
   "source": [
    "Query the data of a specific filter using its `pkey`:"
   ]
  },
  {
   "cell_type": "code",
   "execution_count": 26,
   "metadata": {},
   "outputs": [
    {
     "name": "stdout",
     "output_type": "stream",
     "text": [
      "[000/001] c\n"
     ]
    },
    {
     "data": {
      "text/html": [
       "<div>\n",
       "<style scoped>\n",
       "    .dataframe tbody tr th:only-of-type {\n",
       "        vertical-align: middle;\n",
       "    }\n",
       "\n",
       "    .dataframe tbody tr th {\n",
       "        vertical-align: top;\n",
       "    }\n",
       "\n",
       "    .dataframe thead th {\n",
       "        text-align: right;\n",
       "    }\n",
       "</style>\n",
       "<table border=\"1\" class=\"dataframe\">\n",
       "  <thead>\n",
       "    <tr style=\"text-align: right;\">\n",
       "      <th></th>\n",
       "      <th>pkey_filter</th>\n",
       "      <th>pkey_grondwaterlocatie</th>\n",
       "      <th>gw_id</th>\n",
       "      <th>filternummer</th>\n",
       "      <th>filtertype</th>\n",
       "      <th>x</th>\n",
       "      <th>y</th>\n",
       "      <th>start_grondwaterlocatie_mtaw</th>\n",
       "      <th>gemeente</th>\n",
       "      <th>meetnet_code</th>\n",
       "      <th>...</th>\n",
       "      <th>regime</th>\n",
       "      <th>diepte_onderkant_filter</th>\n",
       "      <th>lengte_filter</th>\n",
       "      <th>datum</th>\n",
       "      <th>tijdstip</th>\n",
       "      <th>peil_mtaw</th>\n",
       "      <th>betrouwbaarheid</th>\n",
       "      <th>methode</th>\n",
       "      <th>filterstatus</th>\n",
       "      <th>filtertoestand</th>\n",
       "    </tr>\n",
       "  </thead>\n",
       "  <tbody>\n",
       "    <tr>\n",
       "      <th>0</th>\n",
       "      <td>https://www.dov.vlaanderen.be/data/filter/2003...</td>\n",
       "      <td>https://www.dov.vlaanderen.be/data/put/2018-00...</td>\n",
       "      <td>ZWAP205</td>\n",
       "      <td>1</td>\n",
       "      <td>peilfilter</td>\n",
       "      <td>218953.0</td>\n",
       "      <td>198767.0</td>\n",
       "      <td>58.44</td>\n",
       "      <td>Houthalen-Helchteren</td>\n",
       "      <td>9</td>\n",
       "      <td>...</td>\n",
       "      <td>onbekend</td>\n",
       "      <td>0.68</td>\n",
       "      <td>0.3</td>\n",
       "      <td>2003-10-18</td>\n",
       "      <td>NaN</td>\n",
       "      <td>58.26</td>\n",
       "      <td>onbekend</td>\n",
       "      <td>peillint</td>\n",
       "      <td>onbekend</td>\n",
       "      <td>1</td>\n",
       "    </tr>\n",
       "    <tr>\n",
       "      <th>1</th>\n",
       "      <td>https://www.dov.vlaanderen.be/data/filter/2003...</td>\n",
       "      <td>https://www.dov.vlaanderen.be/data/put/2018-00...</td>\n",
       "      <td>ZWAP205</td>\n",
       "      <td>1</td>\n",
       "      <td>peilfilter</td>\n",
       "      <td>218953.0</td>\n",
       "      <td>198767.0</td>\n",
       "      <td>58.44</td>\n",
       "      <td>Houthalen-Helchteren</td>\n",
       "      <td>9</td>\n",
       "      <td>...</td>\n",
       "      <td>onbekend</td>\n",
       "      <td>0.68</td>\n",
       "      <td>0.3</td>\n",
       "      <td>2003-11-01</td>\n",
       "      <td>NaN</td>\n",
       "      <td>58.30</td>\n",
       "      <td>onbekend</td>\n",
       "      <td>peillint</td>\n",
       "      <td>onbekend</td>\n",
       "      <td>1</td>\n",
       "    </tr>\n",
       "    <tr>\n",
       "      <th>2</th>\n",
       "      <td>https://www.dov.vlaanderen.be/data/filter/2003...</td>\n",
       "      <td>https://www.dov.vlaanderen.be/data/put/2018-00...</td>\n",
       "      <td>ZWAP205</td>\n",
       "      <td>1</td>\n",
       "      <td>peilfilter</td>\n",
       "      <td>218953.0</td>\n",
       "      <td>198767.0</td>\n",
       "      <td>58.44</td>\n",
       "      <td>Houthalen-Helchteren</td>\n",
       "      <td>9</td>\n",
       "      <td>...</td>\n",
       "      <td>onbekend</td>\n",
       "      <td>0.68</td>\n",
       "      <td>0.3</td>\n",
       "      <td>2003-11-17</td>\n",
       "      <td>NaN</td>\n",
       "      <td>58.31</td>\n",
       "      <td>onbekend</td>\n",
       "      <td>peillint</td>\n",
       "      <td>onbekend</td>\n",
       "      <td>1</td>\n",
       "    </tr>\n",
       "    <tr>\n",
       "      <th>3</th>\n",
       "      <td>https://www.dov.vlaanderen.be/data/filter/2003...</td>\n",
       "      <td>https://www.dov.vlaanderen.be/data/put/2018-00...</td>\n",
       "      <td>ZWAP205</td>\n",
       "      <td>1</td>\n",
       "      <td>peilfilter</td>\n",
       "      <td>218953.0</td>\n",
       "      <td>198767.0</td>\n",
       "      <td>58.44</td>\n",
       "      <td>Houthalen-Helchteren</td>\n",
       "      <td>9</td>\n",
       "      <td>...</td>\n",
       "      <td>onbekend</td>\n",
       "      <td>0.68</td>\n",
       "      <td>0.3</td>\n",
       "      <td>2003-11-23</td>\n",
       "      <td>NaN</td>\n",
       "      <td>58.31</td>\n",
       "      <td>onbekend</td>\n",
       "      <td>peillint</td>\n",
       "      <td>onbekend</td>\n",
       "      <td>1</td>\n",
       "    </tr>\n",
       "    <tr>\n",
       "      <th>4</th>\n",
       "      <td>https://www.dov.vlaanderen.be/data/filter/2003...</td>\n",
       "      <td>https://www.dov.vlaanderen.be/data/put/2018-00...</td>\n",
       "      <td>ZWAP205</td>\n",
       "      <td>1</td>\n",
       "      <td>peilfilter</td>\n",
       "      <td>218953.0</td>\n",
       "      <td>198767.0</td>\n",
       "      <td>58.44</td>\n",
       "      <td>Houthalen-Helchteren</td>\n",
       "      <td>9</td>\n",
       "      <td>...</td>\n",
       "      <td>onbekend</td>\n",
       "      <td>0.68</td>\n",
       "      <td>0.3</td>\n",
       "      <td>2003-12-14</td>\n",
       "      <td>NaN</td>\n",
       "      <td>58.30</td>\n",
       "      <td>onbekend</td>\n",
       "      <td>peillint</td>\n",
       "      <td>onbekend</td>\n",
       "      <td>1</td>\n",
       "    </tr>\n",
       "  </tbody>\n",
       "</table>\n",
       "<p>5 rows × 22 columns</p>\n",
       "</div>"
      ],
      "text/plain": [
       "                                         pkey_filter  \\\n",
       "0  https://www.dov.vlaanderen.be/data/filter/2003...   \n",
       "1  https://www.dov.vlaanderen.be/data/filter/2003...   \n",
       "2  https://www.dov.vlaanderen.be/data/filter/2003...   \n",
       "3  https://www.dov.vlaanderen.be/data/filter/2003...   \n",
       "4  https://www.dov.vlaanderen.be/data/filter/2003...   \n",
       "\n",
       "                              pkey_grondwaterlocatie    gw_id filternummer  \\\n",
       "0  https://www.dov.vlaanderen.be/data/put/2018-00...  ZWAP205            1   \n",
       "1  https://www.dov.vlaanderen.be/data/put/2018-00...  ZWAP205            1   \n",
       "2  https://www.dov.vlaanderen.be/data/put/2018-00...  ZWAP205            1   \n",
       "3  https://www.dov.vlaanderen.be/data/put/2018-00...  ZWAP205            1   \n",
       "4  https://www.dov.vlaanderen.be/data/put/2018-00...  ZWAP205            1   \n",
       "\n",
       "   filtertype         x         y  start_grondwaterlocatie_mtaw  \\\n",
       "0  peilfilter  218953.0  198767.0                         58.44   \n",
       "1  peilfilter  218953.0  198767.0                         58.44   \n",
       "2  peilfilter  218953.0  198767.0                         58.44   \n",
       "3  peilfilter  218953.0  198767.0                         58.44   \n",
       "4  peilfilter  218953.0  198767.0                         58.44   \n",
       "\n",
       "               gemeente meetnet_code  ...    regime  diepte_onderkant_filter  \\\n",
       "0  Houthalen-Helchteren            9  ...  onbekend                     0.68   \n",
       "1  Houthalen-Helchteren            9  ...  onbekend                     0.68   \n",
       "2  Houthalen-Helchteren            9  ...  onbekend                     0.68   \n",
       "3  Houthalen-Helchteren            9  ...  onbekend                     0.68   \n",
       "4  Houthalen-Helchteren            9  ...  onbekend                     0.68   \n",
       "\n",
       "  lengte_filter       datum  tijdstip peil_mtaw  betrouwbaarheid   methode  \\\n",
       "0           0.3  2003-10-18       NaN     58.26         onbekend  peillint   \n",
       "1           0.3  2003-11-01       NaN     58.30         onbekend  peillint   \n",
       "2           0.3  2003-11-17       NaN     58.31         onbekend  peillint   \n",
       "3           0.3  2003-11-23       NaN     58.31         onbekend  peillint   \n",
       "4           0.3  2003-12-14       NaN     58.30         onbekend  peillint   \n",
       "\n",
       "  filterstatus filtertoestand  \n",
       "0     onbekend              1  \n",
       "1     onbekend              1  \n",
       "2     onbekend              1  \n",
       "3     onbekend              1  \n",
       "4     onbekend              1  \n",
       "\n",
       "[5 rows x 22 columns]"
      ]
     },
     "execution_count": 26,
     "metadata": {},
     "output_type": "execute_result"
    }
   ],
   "source": [
    "query = PropertyIsEqualTo(\n",
    "            propertyname='pkey_filter',\n",
    "            literal='https://www.dov.vlaanderen.be/data/filter/2003-009883')\n",
    "\n",
    "df = gwfilter.search(query=query)\n",
    "df.head()"
   ]
  },
  {
   "cell_type": "markdown",
   "metadata": {},
   "source": [
    "The date is still stored as a string type. Transforming to a data type using the available pandas function [`to_datetime`](https://pandas.pydata.org/pandas-docs/stable/generated/pandas.to_datetime.html) and using these dates as row index:"
   ]
  },
  {
   "cell_type": "code",
   "execution_count": 27,
   "metadata": {},
   "outputs": [],
   "source": [
    "df['datum'] = pd.to_datetime(df['datum'])\n",
    "df = df.set_index('datum')"
   ]
  },
  {
   "cell_type": "markdown",
   "metadata": {},
   "source": [
    "### Plotting"
   ]
  },
  {
   "cell_type": "markdown",
   "metadata": {},
   "source": [
    "The default plotting functionality of Pandas cen be used:"
   ]
  },
  {
   "cell_type": "code",
   "execution_count": 20,
   "metadata": {},
   "outputs": [
    {
     "data": {
      "text/plain": [
       "<matplotlib.axes._subplots.AxesSubplot at 0x12992860>"
      ]
     },
     "execution_count": 20,
     "metadata": {},
     "output_type": "execute_result"
    },
    {
     "data": {
      "image/png": "[encoded data removed]",
      "text/plain": [
       "<matplotlib.figure.Figure at 0x10e41be0>"
      ]
     },
     "metadata": {},
     "output_type": "display_data"
    }
   ],
   "source": [
    "df['peil_mtaw'].plot(style='-', figsize=(12, 5))"
   ]
  },
  {
   "cell_type": "markdown",
   "metadata": {},
   "source": [
    "Or a combination with matplotlib to have full customization options:"
   ]
  },
  {
   "cell_type": "code",
   "execution_count": 22,
   "metadata": {},
   "outputs": [
    {
     "data": {
      "image/png": "[encoded data removed]",
      "text/plain": [
       "<matplotlib.figure.Figure at 0x1274fc18>"
      ]
     },
     "metadata": {},
     "output_type": "display_data"
    }
   ],
   "source": [
    "from matplotlib.dates import MonthLocator, YearLocator, DateFormatter\n",
    "from matplotlib.ticker import MaxNLocator, MultipleLocator\n",
    "\n",
    "# Get height of ground surface\n",
    "# ground_surface = df[\"mv_mtaw\"][0]\n",
    "\n",
    "# create a plot with 2 subplots\n",
    "fig, (ax1, ax2) = plt.subplots(2, 1, figsize=(12, 6), \n",
    "                               sharex=False, sharey=True)\n",
    "\n",
    "# Plot entire time series in the upper plot\n",
    "df['peil_mtaw'].plot(ax=ax1, title='Water heads `Put ZWAP205`')\n",
    "ax1.xaxis.set_major_locator(YearLocator(5))\n",
    "ax1.xaxis.set_major_formatter(DateFormatter('%Y'))\n",
    "\n",
    "# Plot the data for 2011 in the lower plot\n",
    "df['peil_mtaw'][\"2011\"].plot(ax=ax2,  title='Water heads `Put ZWAP205` year 2011')\n",
    "ax2.xaxis.set_major_locator(MonthLocator(interval=3))\n",
    "ax2.xaxis.set_major_formatter(DateFormatter('%Y-%m'))\n",
    "\n",
    "# Adjust configuration of plot\n",
    "for ax in (ax1, ax2):\n",
    "    ax.set_xlabel('')\n",
    "    ax.set_ylabel('head (mTAW)')\n",
    "    for tick in ax.get_xticklabels():\n",
    "        tick.set_rotation(0)\n",
    "        tick.set_horizontalalignment('center')\n",
    "\n",
    "    # Only draw spine between the y-ticks\n",
    "    ax.spines['left'].set_position(('outward', 10))\n",
    "    # Hide the right and top spines\n",
    "    ax.spines['right'].set_visible(False)\n",
    "    ax.spines['top'].set_visible(False)\n",
    "    ax.yaxis.set_major_locator(MultipleLocator(0.2))\n",
    "    \n",
    "    # Add the ground surface (provided in the data) on the subplots\n",
    "    # ax.axhline(ground_surface, color = 'brown')\n",
    "    # ax.annotate('Ground surface', \n",
    "    #         xy=(0.05, 0.68),\n",
    "    #         xycoords='axes fraction',\n",
    "    #         xytext=(-25, -15), textcoords='offset points', \n",
    "    #         fontsize=12, color='brown')   \n",
    "    \n",
    "fig.tight_layout(h_pad=5)"
   ]
  },
  {
   "cell_type": "markdown",
   "metadata": {},
   "source": [
    "### Analysis"
   ]
  },
  {
   "cell_type": "markdown",
   "metadata": {},
   "source": [
    "The Pandas package provides a the functionality to further analyze and process [time series](https://pandas.pydata.org/pandas-docs/stable/timeseries.html) data. Particularly, the [`resample`](https://pandas.pydata.org/pandas-docs/stable/generated/pandas.DataFrame.resample.html) function can be useful."
   ]
  },
  {
   "cell_type": "markdown",
   "metadata": {},
   "source": [
    "For example, calculate the yearly minima and maxima of the time series:"
   ]
  },
  {
   "cell_type": "code",
   "execution_count": 23,
   "metadata": {},
   "outputs": [
    {
     "data": {
      "text/html": [
       "<div>\n",
       "<style scoped>\n",
       "    .dataframe tbody tr th:only-of-type {\n",
       "        vertical-align: middle;\n",
       "    }\n",
       "\n",
       "    .dataframe tbody tr th {\n",
       "        vertical-align: top;\n",
       "    }\n",
       "\n",
       "    .dataframe thead th {\n",
       "        text-align: right;\n",
       "    }\n",
       "</style>\n",
       "<table border=\"1\" class=\"dataframe\">\n",
       "  <thead>\n",
       "    <tr style=\"text-align: right;\">\n",
       "      <th></th>\n",
       "      <th>min</th>\n",
       "      <th>max</th>\n",
       "    </tr>\n",
       "    <tr>\n",
       "      <th>datum</th>\n",
       "      <th></th>\n",
       "      <th></th>\n",
       "    </tr>\n",
       "  </thead>\n",
       "  <tbody>\n",
       "    <tr>\n",
       "      <th>2003-12-31</th>\n",
       "      <td>58.26</td>\n",
       "      <td>58.36</td>\n",
       "    </tr>\n",
       "    <tr>\n",
       "      <th>2004-12-31</th>\n",
       "      <td>58.22</td>\n",
       "      <td>58.36</td>\n",
       "    </tr>\n",
       "    <tr>\n",
       "      <th>2005-12-31</th>\n",
       "      <td>58.18</td>\n",
       "      <td>58.35</td>\n",
       "    </tr>\n",
       "    <tr>\n",
       "      <th>2006-12-31</th>\n",
       "      <td>58.10</td>\n",
       "      <td>58.42</td>\n",
       "    </tr>\n",
       "    <tr>\n",
       "      <th>2007-12-31</th>\n",
       "      <td>58.28</td>\n",
       "      <td>58.53</td>\n",
       "    </tr>\n",
       "    <tr>\n",
       "      <th>2008-12-31</th>\n",
       "      <td>58.34</td>\n",
       "      <td>58.60</td>\n",
       "    </tr>\n",
       "    <tr>\n",
       "      <th>2009-12-31</th>\n",
       "      <td>58.27</td>\n",
       "      <td>58.54</td>\n",
       "    </tr>\n",
       "    <tr>\n",
       "      <th>2010-12-31</th>\n",
       "      <td>58.21</td>\n",
       "      <td>58.56</td>\n",
       "    </tr>\n",
       "    <tr>\n",
       "      <th>2011-12-31</th>\n",
       "      <td>58.32</td>\n",
       "      <td>58.56</td>\n",
       "    </tr>\n",
       "    <tr>\n",
       "      <th>2012-12-31</th>\n",
       "      <td>58.32</td>\n",
       "      <td>58.55</td>\n",
       "    </tr>\n",
       "    <tr>\n",
       "      <th>2013-12-31</th>\n",
       "      <td>58.22</td>\n",
       "      <td>58.56</td>\n",
       "    </tr>\n",
       "    <tr>\n",
       "      <th>2014-12-31</th>\n",
       "      <td>58.21</td>\n",
       "      <td>58.54</td>\n",
       "    </tr>\n",
       "    <tr>\n",
       "      <th>2015-12-31</th>\n",
       "      <td>58.08</td>\n",
       "      <td>58.56</td>\n",
       "    </tr>\n",
       "    <tr>\n",
       "      <th>2016-12-31</th>\n",
       "      <td>58.24</td>\n",
       "      <td>58.54</td>\n",
       "    </tr>\n",
       "    <tr>\n",
       "      <th>2017-12-31</th>\n",
       "      <td>58.27</td>\n",
       "      <td>58.56</td>\n",
       "    </tr>\n",
       "    <tr>\n",
       "      <th>2018-12-31</th>\n",
       "      <td>58.08</td>\n",
       "      <td>58.53</td>\n",
       "    </tr>\n",
       "    <tr>\n",
       "      <th>2019-12-31</th>\n",
       "      <td>58.41</td>\n",
       "      <td>58.51</td>\n",
       "    </tr>\n",
       "  </tbody>\n",
       "</table>\n",
       "</div>"
      ],
      "text/plain": [
       "              min    max\n",
       "datum                   \n",
       "2003-12-31  58.26  58.36\n",
       "2004-12-31  58.22  58.36\n",
       "2005-12-31  58.18  58.35\n",
       "2006-12-31  58.10  58.42\n",
       "2007-12-31  58.28  58.53\n",
       "2008-12-31  58.34  58.60\n",
       "2009-12-31  58.27  58.54\n",
       "2010-12-31  58.21  58.56\n",
       "2011-12-31  58.32  58.56\n",
       "2012-12-31  58.32  58.55\n",
       "2013-12-31  58.22  58.56\n",
       "2014-12-31  58.21  58.54\n",
       "2015-12-31  58.08  58.56\n",
       "2016-12-31  58.24  58.54\n",
       "2017-12-31  58.27  58.56\n",
       "2018-12-31  58.08  58.53\n",
       "2019-12-31  58.41  58.51"
      ]
     },
     "execution_count": 23,
     "metadata": {},
     "output_type": "execute_result"
    }
   ],
   "source": [
    "df[\"peil_mtaw\"].resample(\"Y\").agg(['min', 'max'])"
   ]
  },
  {
   "cell_type": "markdown",
   "metadata": {},
   "source": [
    "or the monthly minima and maxima:"
   ]
  },
  {
   "cell_type": "code",
   "execution_count": 24,
   "metadata": {},
   "outputs": [
    {
     "data": {
      "text/plain": [
       "<matplotlib.axes._subplots.AxesSubplot at 0x125f0f98>"
      ]
     },
     "execution_count": 24,
     "metadata": {},
     "output_type": "execute_result"
    },
    {
     "data": {
      "image/png": "[encoded data removed]",
      "text/plain": [
       "<matplotlib.figure.Figure at 0x125f0b38>"
      ]
     },
     "metadata": {},
     "output_type": "display_data"
    }
   ],
   "source": [
    "df[\"peil_mtaw\"].resample(\"M\").agg(['min', 'max']).plot()"
   ]
  },
  {
   "cell_type": "markdown",
   "metadata": {},
   "source": [
    "Calculate 10 and 90 percentiles of the time series with the `quantile` function:"
   ]
  },
  {
   "cell_type": "code",
   "execution_count": 25,
   "metadata": {},
   "outputs": [
    {
     "data": {
      "text/plain": [
       "<matplotlib.legend.Legend at 0x15b040f0>"
      ]
     },
     "execution_count": 25,
     "metadata": {},
     "output_type": "execute_result"
    },
    {
     "data": {
      "image/png": "[encoded data removed]",
      "text/plain": [
       "<matplotlib.figure.Figure at 0x1468b358>"
      ]
     },
     "metadata": {},
     "output_type": "display_data"
    }
   ],
   "source": [
    "fig, ax = plt.subplots(figsize=(12, 4))    \n",
    "ax.plot(df[\"peil_mtaw\"], label='head (mTAW)', linewidth=0.75)\n",
    "ax.axhline(df[\"peil_mtaw\"].quantile(0.1), color = 'brown', label='p10', linewidth=3)\n",
    "ax.axhline(df[\"peil_mtaw\"].quantile(0.9), color = 'darkblue', label='p90', linewidth=3)\n",
    "fig.legend(loc='upper center', ncol=3)"
   ]
  },
  {
   "cell_type": "markdown",
   "metadata": {},
   "source": [
    "A duration exceedance curve provides the percentage of time that the water head is above a given value:"
   ]
  },
  {
   "cell_type": "code",
   "execution_count": 26,
   "metadata": {
    "collapsed": true
   },
   "outputs": [],
   "source": [
    "import numpy as np"
   ]
  },
  {
   "cell_type": "code",
   "execution_count": 27,
   "metadata": {},
   "outputs": [
    {
     "data": {
      "image/png": "[encoded data removed]",
      "text/plain": [
       "<matplotlib.figure.Figure at 0x14696438>"
      ]
     },
     "metadata": {},
     "output_type": "display_data"
    }
   ],
   "source": [
    "sorted_heads = np.sort(df[\"peil_mtaw\"])[::-1]\n",
    "exceedence = np.arange(1.,len(sorted_heads)+1) / len(sorted_heads)\n",
    "\n",
    "plt.plot(exceedence*100, sorted_heads)\n",
    "plt.xlabel(\"Exceedence [%]\")\n",
    "plt.ylabel(\"Water head (mTAW)\")\n",
    "plt.show()"
   ]
  },
  {
   "cell_type": "markdown",
   "metadata": {},
   "source": [
    "## Visualize locations"
   ]
  },
  {
   "cell_type": "markdown",
   "metadata": {},
   "source": [
    "Using Folium, we can display the results of our search on a map."
   ]
  },
  {
   "cell_type": "code",
   "execution_count": 28,
   "metadata": {
    "collapsed": true
   },
   "outputs": [],
   "source": [
    "# import the necessary modules (not included in the requirements of pydov!)\n",
    "import folium\n",
    "from folium.plugins import MarkerCluster\n",
    "from pyproj import Proj, transform"
   ]
  },
  {
   "cell_type": "code",
   "execution_count": 29,
   "metadata": {
    "collapsed": true
   },
   "outputs": [],
   "source": [
    "# convert the coordinates to lat/lon for folium\n",
    "def convert_latlon(x1, y1):\n",
    "    inProj = Proj(init='epsg:31370')\n",
    "    outProj = Proj(init='epsg:4326')\n",
    "    x2,y2 = transform(inProj, outProj, x1, y1)\n",
    "    return x2, y2\n",
    "df_hamme['lon'], df_hamme['lat'] = zip(*map(convert_latlon, df_hamme['x'], df_hamme['y'])) \n",
    "# convert to list\n",
    "loclist = df_hamme[['lat', 'lon']].values.tolist()"
   ]
  },
  {
   "cell_type": "code",
   "execution_count": 30,
   "metadata": {},
   "outputs": [
    {
     "data": {
      "text/html": [
       "<div style=\"width:100%;\"><div style=\"position:relative;width:100%;height:0;padding-bottom:60%;\"><iframe src=\"data:text/html;charset=utf-8;base64,PCFET0NUWVBFIGh0bWw+CjxoZWFkPiAgICAKICAgIDxtZXRhIGh0dHAtZXF1aXY9ImNvbnRlbnQtdHlwZSIgY29udGVudD0idGV4dC9odG1sOyBjaGFyc2V0PVVURi04IiAvPgogICAgPHNjcmlwdD5MX1BSRUZFUl9DQU5WQVM9ZmFsc2U7IExfTk9fVE9VQ0g9ZmFsc2U7IExfRElTQUJMRV8zRD1mYWxzZTs8L3NjcmlwdD4KICAgIDxzY3JpcHQgc3JjPSJodHRwczovL2Nkbi5qc2RlbGl2ci5uZXQvbnBtL2xlYWZsZXRAMS4yLjAvZGlzdC9sZWFmbGV0LmpzIj48L3NjcmlwdD4KICAgIDxzY3JpcHQgc3JjPSJodHRwczovL2FqYXguZ29vZ2xlYXBpcy5jb20vYWpheC9saWJzL2pxdWVyeS8xLjExLjEvanF1ZXJ5Lm1pbi5qcyI+PC9zY3JpcHQ+CiAgICA8c2NyaXB0IHNyYz0iaHR0cHM6Ly9tYXhjZG4uYm9vdHN0cmFwY2RuLmNvbS9ib290c3RyYXAvMy4yLjAvanMvYm9vdHN0cmFwLm1pbi5qcyI+PC9zY3JpcHQ+CiAgICA8c2NyaXB0IHNyYz0iaHR0cHM6Ly9jZG5qcy5jbG91ZGZsYXJlLmNvbS9hamF4L2xpYnMvTGVhZmxldC5hd2Vzb21lLW1hcmtlcnMvMi4wLjIvbGVhZmxldC5hd2Vzb21lLW1hcmtlcnMuanMiPjwvc2NyaXB0PgogICAgPGxpbmsgcmVsPSJzdHlsZXNoZWV0IiBocmVmPSJodHRwczovL2Nkbi5qc2RlbGl2ci5uZXQvbnBtL2xlYWZsZXRAMS4yLjAvZGlzdC9sZWFmbGV0LmNzcyIvPgogICAgPGxpbmsgcmVsPSJzdHlsZXNoZWV0IiBocmVmPSJodHRwczovL21heGNkbi5ib290c3RyYXBjZG4uY29tL2Jvb3RzdHJhcC8zLjIuMC9jc3MvYm9vdHN0cmFwLm1pbi5jc3MiLz4KICAgIDxsaW5rIHJlbD0ic3R5bGVzaGVldCIgaHJlZj0iaHR0cHM6Ly9tYXhjZG4uYm9vdHN0cmFwY2RuLmNvbS9ib290c3RyYXAvMy4yLjAvY3NzL2Jvb3RzdHJhcC10aGVtZS5taW4uY3NzIi8+CiAgICA8bGluayByZWw9InN0eWxlc2hlZXQiIGhyZWY9Imh0dHBzOi8vbWF4Y2RuLmJvb3RzdHJhcGNkbi5jb20vZm9udC1hd2Vzb21lLzQuNi4zL2Nzcy9mb250LWF3ZXNvbWUubWluLmNzcyIvPgogICAgPGxpbmsgcmVsPSJzdHlsZXNoZWV0IiBocmVmPSJodHRwczovL2NkbmpzLmNsb3VkZmxhcmUuY29tL2FqYXgvbGlicy9MZWFmbGV0LmF3ZXNvbWUtbWFya2Vycy8yLjAuMi9sZWFmbGV0LmF3ZXNvbWUtbWFya2Vycy5jc3MiLz4KICAgIDxsaW5rIHJlbD0ic3R5bGVzaGVldCIgaHJlZj0iaHR0cHM6Ly9yYXdnaXQuY29tL3B5dGhvbi12aXN1YWxpemF0aW9uL2ZvbGl1bS9tYXN0ZXIvZm9saXVtL3RlbXBsYXRlcy9sZWFmbGV0LmF3ZXNvbWUucm90YXRlLmNzcyIvPgogICAgPHN0eWxlPmh0bWwsIGJvZHkge3dpZHRoOiAxMDAlO2hlaWdodDogMTAwJTttYXJnaW46IDA7cGFkZGluZzogMDt9PC9zdHlsZT4KICAgIDxzdHlsZT4jbWFwIHtwb3NpdGlvbjphYnNvbHV0ZTt0b3A6MDtib3R0b206MDtyaWdodDowO2xlZnQ6MDt9PC9zdHlsZT4KICAgIAogICAgPHN0eWxlPiNtYXBfZjI3YTJiOGZmMTA1NDQ4NzliNDI1M2MxYWI5ODk1OWYgewogICAgICAgIHBvc2l0aW9uOiByZWxhdGl2ZTsKICAgICAgICB3aWR0aDogMTAwLjAlOwogICAgICAgIGhlaWdodDogMTAwLjAlOwogICAgICAgIGxlZnQ6IDAuMCU7CiAgICAgICAgdG9wOiAwLjAlOwogICAgICAgIH0KICAgIDwvc3R5bGU+CiAgICA8c2NyaXB0IHNyYz0iaHR0cHM6Ly9jZG5qcy5jbG91ZGZsYXJlLmNvbS9hamF4L2xpYnMvbGVhZmxldC5tYXJrZXJjbHVzdGVyLzEuMS4wL2xlYWZsZXQubWFya2VyY2x1c3Rlci5qcyI+PC9zY3JpcHQ+CiAgICA8bGluayByZWw9InN0eWxlc2hlZXQiIGhyZWY9Imh0dHBzOi8vY2RuanMuY2xvdWRmbGFyZS5jb20vYWpheC9saWJzL2xlYWZsZXQubWFya2VyY2x1c3Rlci8xLjEuMC9NYXJrZXJDbHVzdGVyLmNzcyIvPgogICAgPGxpbmsgcmVsPSJzdHlsZXNoZWV0IiBocmVmPSJodHRwczovL2NkbmpzLmNsb3VkZmxhcmUuY29tL2FqYXgvbGlicy9sZWFmbGV0Lm1hcmtlcmNsdXN0ZXIvMS4xLjAvTWFya2VyQ2x1c3Rlci5EZWZhdWx0LmNzcyIvPgo8L2hlYWQ+Cjxib2R5PiAgICAKICAgIAogICAgPGRpdiBjbGFzcz0iZm9saXVtLW1hcCIgaWQ9Im1hcF9mMjdhMmI4ZmYxMDU0NDg3OWI0MjUzYzFhYjk4OTU5ZiIgPjwvZGl2Pgo8L2JvZHk+CjxzY3JpcHQ+ICAgIAogICAgCiAgICAKICAgICAgICB2YXIgYm91bmRzID0gbnVsbDsKICAgIAoKICAgIHZhciBtYXBfZjI3YTJiOGZmMTA1NDQ4NzliNDI1M2MxYWI5ODk1OWYgPSBMLm1hcCgKICAgICAgICAnbWFwX2YyN2EyYjhmZjEwNTQ0ODc5YjQyNTNjMWFiOTg5NTlmJywgewogICAgICAgIGNlbnRlcjogWzUxLjA4MjQ1NzQwMTEsIDQuMTIxNTM0MTQ4OTZdLAogICAgICAgIHpvb206IDEyLAogICAgICAgIG1heEJvdW5kczogYm91bmRzLAogICAgICAgIGxheWVyczogW10sCiAgICAgICAgd29ybGRDb3B5SnVtcDogZmFsc2UsCiAgICAgICAgY3JzOiBMLkNSUy5FUFNHMzg1NywKICAgICAgICB6b29tQ29udHJvbDogdHJ1ZSwKICAgICAgICB9KTsKCiAgICAKICAgIAogICAgdmFyIHRpbGVfbGF5ZXJfYzM3YjZhM2RlMzVhNGEyNzk5MzQ3YzlkMDY5YWY0YTIgPSBMLnRpbGVMYXllcigKICAgICAgICAnaHR0cHM6Ly97c30udGlsZS5vcGVuc3RyZWV0bWFwLm9yZy97en0ve3h9L3t5fS5wbmcnLAogICAgICAgIHsKICAgICAgICAiYXR0cmlidXRpb24iOiBudWxsLCAKICAgICAgICAiZGV0ZWN0UmV0aW5hIjogZmFsc2UsIAogICAgICAgICJtYXhOYXRpdmVab29tIjogMTgsIAogICAgICAgICJtYXhab29tIjogMTgsIAogICAgICAgICJtaW5ab29tIjogMCwgCiAgICAgICAgIm5vV3JhcCI6IGZhbHNlLCAKICAgICAgICAic3ViZG9tYWlucyI6ICJhYmMiCn0pLmFkZFRvKG1hcF9mMjdhMmI4ZmYxMDU0NDg3OWI0MjUzYzFhYjk4OTU5Zik7CiAgICAKICAgICAgICAgICAgdmFyIG1hcmtlcl9jbHVzdGVyX2JhZjAzYWVkMDJmMzQyODZhODUzYTJhOWJkNWFmNWRmID0gTC5tYXJrZXJDbHVzdGVyR3JvdXAoe30pOwogICAgICAgICAgICBtYXBfZjI3YTJiOGZmMTA1NDQ4NzliNDI1M2MxYWI5ODk1OWYuYWRkTGF5ZXIobWFya2VyX2NsdXN0ZXJfYmFmMDNhZWQwMmYzNDI4NmE4NTNhMmE5YmQ1YWY1ZGYpOwogICAgICAgICAgICAKICAgIAogICAgICAgIHZhciBtYXJrZXJfNWZlYTYyOGU1YzJkNDgyMGI1MDJhYmRhZDg1MjlmOWQgPSBMLm1hcmtlcigKICAgICAgICAgICAgWzUxLjA3ODgzMjQ0NTgsIDQuMDg0NDcxOTQzMDJdLAogICAgICAgICAgICB7CiAgICAgICAgICAgICAgICBpY29uOiBuZXcgTC5JY29uLkRlZmF1bHQoKQogICAgICAgICAgICAgICAgfQogICAgICAgICAgICApLmFkZFRvKG1hcmtlcl9jbHVzdGVyX2JhZjAzYWVkMDJmMzQyODZhODUzYTJhOWJkNWFmNWRmKTsKICAgICAgICAKICAgIAogICAgICAgICAgICB2YXIgcG9wdXBfMDA5OTEyZDBjOTc4NDkyMzlmOTY1ZDc0MzcxZWYyZGQgPSBMLnBvcHVwKHttYXhXaWR0aDogJzMwMCcKICAgICAgICAgICAgCiAgICAgICAgICAgIH0pOwoKICAgICAgICAgICAgCiAgICAgICAgICAgICAgICB2YXIgaHRtbF8zNmYwZDdlMjZkZmY0ZGY4YTFlNDIzNGY4M2NjYjUyZSA9ICQoJzxkaXYgaWQ9Imh0bWxfMzZmMGQ3ZTI2ZGZmNGRmOGExZTQyMzRmODNjY2I1MmUiIHN0eWxlPSJ3aWR0aDogMTAwLjAlOyBoZWlnaHQ6IDEwMC4wJTsiPk1PUlAwMDI8L2Rpdj4nKVswXTsKICAgICAgICAgICAgICAgIHBvcHVwXzAwOTkxMmQwYzk3ODQ5MjM5Zjk2NWQ3NDM3MWVmMmRkLnNldENvbnRlbnQoaHRtbF8zNmYwZDdlMjZkZmY0ZGY4YTFlNDIzNGY4M2NjYjUyZSk7CiAgICAgICAgICAgIAoKICAgICAgICAgICAgbWFya2VyXzVmZWE2MjhlNWMyZDQ4MjBiNTAyYWJkYWQ4NTI5ZjlkLmJpbmRQb3B1cChwb3B1cF8wMDk5MTJkMGM5Nzg0OTIzOWY5NjVkNzQzNzFlZjJkZCkKICAgICAgICAgICAgOwoKICAgICAgICAgICAgCiAgICAgICAgCiAgICAKICAgICAgICB2YXIgbWFya2VyXzA5YWZiYTUyNzRjMjQzNmFhMjJjNzJjOWFhZGZiZTBlID0gTC5tYXJrZXIoCiAgICAgICAgICAgIFs1MS4wOTc4ODU2MjE3LCA0LjEwODQxMzgwNzkxXSwKICAgICAgICAgICAgewogICAgICAgICAgICAgICAgaWNvbjogbmV3IEwuSWNvbi5EZWZhdWx0KCkKICAgICAgICAgICAgICAgIH0KICAgICAgICAgICAgKS5hZGRUbyhtYXJrZXJfY2x1c3Rlcl9iYWYwM2FlZDAyZjM0Mjg2YTg1M2EyYTliZDVhZjVkZik7CiAgICAgICAgCiAgICAKICAgICAgICAgICAgdmFyIHBvcHVwX2E0MTM3NTc4MDNlNDRjMzg4MDA4MDg1ODA5YjM4ZTk3ID0gTC5wb3B1cCh7bWF4V2lkdGg6ICczMDAnCiAgICAgICAgICAgIAogICAgICAgICAgICB9KTsKCiAgICAgICAgICAgIAogICAgICAgICAgICAgICAgdmFyIGh0bWxfMTE0OTcxMjU2MDZlNDA5N2I3YTg5YWYzZmNkMWZhM2UgPSAkKCc8ZGl2IGlkPSJodG1sXzExNDk3MTI1NjA2ZTQwOTdiN2E4OWFmM2ZjZDFmYTNlIiBzdHlsZT0id2lkdGg6IDEwMC4wJTsgaGVpZ2h0OiAxMDAuMCU7Ij44MDIvMjEvMzwvZGl2PicpWzBdOwogICAgICAgICAgICAgICAgcG9wdXBfYTQxMzc1NzgwM2U0NGMzODgwMDgwODU4MDliMzhlOTcuc2V0Q29udGVudChodG1sXzExNDk3MTI1NjA2ZTQwOTdiN2E4OWFmM2ZjZDFmYTNlKTsKICAgICAgICAgICAgCgogICAgICAgICAgICBtYXJrZXJfMDlhZmJhNTI3NGMyNDM2YWEyMmM3MmM5YWFkZmJlMGUuYmluZFBvcHVwKHBvcHVwX2E0MTM3NTc4MDNlNDRjMzg4MDA4MDg1ODA5YjM4ZTk3KQogICAgICAgICAgICA7CgogICAgICAgICAgICAKICAgICAgICAKICAgIAogICAgICAgIHZhciBtYXJrZXJfYzczNmMzNDY1NjY3NGU5NTkxZDdkMzk2Y2IyYzljOGUgPSBMLm1hcmtlcigKICAgICAgICAgICAgWzUxLjA4MzMyMzQ4NTEsIDQuMTA5NTU3MjM4NzZdLAogICAgICAgICAgICB7CiAgICAgICAgICAgICAgICBpY29uOiBuZXcgTC5JY29uLkRlZmF1bHQoKQogICAgICAgICAgICAgICAgfQogICAgICAgICAgICApLmFkZFRvKG1hcmtlcl9jbHVzdGVyX2JhZjAzYWVkMDJmMzQyODZhODUzYTJhOWJkNWFmNWRmKTsKICAgICAgICAKICAgIAogICAgICAgICAgICB2YXIgcG9wdXBfMjZkMWZiOWJkNDNmNDA5OGI2YjQyY2M3YmJiOTYwN2QgPSBMLnBvcHVwKHttYXhXaWR0aDogJzMwMCcKICAgICAgICAgICAgCiAgICAgICAgICAgIH0pOwoKICAgICAgICAgICAgCiAgICAgICAgICAgICAgICB2YXIgaHRtbF9hZmM3ZDI1YzhmZTI0MmU1YjRmODZmMWNkNTBlNmJiYSA9ICQoJzxkaXYgaWQ9Imh0bWxfYWZjN2QyNWM4ZmUyNDJlNWI0Zjg2ZjFjZDUwZTZiYmEiIHN0eWxlPSJ3aWR0aDogMTAwLjAlOyBoZWlnaHQ6IDEwMC4wJTsiPjgxMC8yMS8xPC9kaXY+JylbMF07CiAgICAgICAgICAgICAgICBwb3B1cF8yNmQxZmI5YmQ0M2Y0MDk4YjZiNDJjYzdiYmI5NjA3ZC5zZXRDb250ZW50KGh0bWxfYWZjN2QyNWM4ZmUyNDJlNWI0Zjg2ZjFjZDUwZTZiYmEpOwogICAgICAgICAgICAKCiAgICAgICAgICAgIG1hcmtlcl9jNzM2YzM0NjU2Njc0ZTk1OTFkN2QzOTZjYjJjOWM4ZS5iaW5kUG9wdXAocG9wdXBfMjZkMWZiOWJkNDNmNDA5OGI2YjQyY2M3YmJiOTYwN2QpCiAgICAgICAgICAgIDsKCiAgICAgICAgICAgIAogICAgICAgIAogICAgCiAgICAgICAgdmFyIG1hcmtlcl84NDJlZGEzNjYwMWI0ZjlhYWZkNjlkZWNmNWYyMjRmMyA9IEwubWFya2VyKAogICAgICAgICAgICBbNTEuMDcwODE4MTU1MiwgNC4xMzg1NjQ0OTIwM10sCiAgICAgICAgICAgIHsKICAgICAgICAgICAgICAgIGljb246IG5ldyBMLkljb24uRGVmYXVsdCgpCiAgICAgICAgICAgICAgICB9CiAgICAgICAgICAgICkuYWRkVG8obWFya2VyX2NsdXN0ZXJfYmFmMDNhZWQwMmYzNDI4NmE4NTNhMmE5YmQ1YWY1ZGYpOwogICAgICAgIAogICAgCiAgICAgICAgICAgIHZhciBwb3B1cF9kZjUyZDI0MGQzYmQ0MTg2OTNjYjlhMTM4M2U3NDMwYSA9IEwucG9wdXAoe21heFdpZHRoOiAnMzAwJwogICAgICAgICAgICAKICAgICAgICAgICAgfSk7CgogICAgICAgICAgICAKICAgICAgICAgICAgICAgIHZhciBodG1sX2VlZWZmNmU5M2IzMzQ4MTU5NTcxYTg4MmViZTRkNDBhID0gJCgnPGRpdiBpZD0iaHRtbF9lZWVmZjZlOTNiMzM0ODE1OTU3MWE4ODJlYmU0ZDQwYSIgc3R5bGU9IndpZHRoOiAxMDAuMCU7IGhlaWdodDogMTAwLjAlOyI+ODEzLzIxLzI8L2Rpdj4nKVswXTsKICAgICAgICAgICAgICAgIHBvcHVwX2RmNTJkMjQwZDNiZDQxODY5M2NiOWExMzgzZTc0MzBhLnNldENvbnRlbnQoaHRtbF9lZWVmZjZlOTNiMzM0ODE1OTU3MWE4ODJlYmU0ZDQwYSk7CiAgICAgICAgICAgIAoKICAgICAgICAgICAgbWFya2VyXzg0MmVkYTM2NjAxYjRmOWFhZmQ2OWRlY2Y1ZjIyNGYzLmJpbmRQb3B1cChwb3B1cF9kZjUyZDI0MGQzYmQ0MTg2OTNjYjlhMTM4M2U3NDMwYSkKICAgICAgICAgICAgOwoKICAgICAgICAgICAgCiAgICAgICAgCiAgICAKICAgICAgICB2YXIgbWFya2VyX2U3ZTZjYzVmOGQxMjQ0YTE4MDNjYjhlOGQzYzk0MjQ4ID0gTC5tYXJrZXIoCiAgICAgICAgICAgIFs1MS4wNzcxOTEzMzAyLCA0LjA4NjA4MDA2NjU0XSwKICAgICAgICAgICAgewogICAgICAgICAgICAgICAgaWNvbjogbmV3IEwuSWNvbi5EZWZhdWx0KCkKICAgICAgICAgICAgICAgIH0KICAgICAgICAgICAgKS5hZGRUbyhtYXJrZXJfY2x1c3Rlcl9iYWYwM2FlZDAyZjM0Mjg2YTg1M2EyYTliZDVhZjVkZik7CiAgICAgICAgCiAgICAKICAgICAgICAgICAgdmFyIHBvcHVwXzEyNmZhYWZiMTM2NjQ1YTg4MWRlMjg4YzI4OGFmNzFjID0gTC5wb3B1cCh7bWF4V2lkdGg6ICczMDAnCiAgICAgICAgICAgIAogICAgICAgICAgICB9KTsKCiAgICAgICAgICAgIAogICAgICAgICAgICAgICAgdmFyIGh0bWxfOTljZmVmZWQzOWM1NDRkZGE1MzYyNWE4OWE1NjNmNDEgPSAkKCc8ZGl2IGlkPSJodG1sXzk5Y2ZlZmVkMzljNTQ0ZGRhNTM2MjVhODlhNTYzZjQxIiBzdHlsZT0id2lkdGg6IDEwMC4wJTsgaGVpZ2h0OiAxMDAuMCU7Ij5NT1JQMDAxPC9kaXY+JylbMF07CiAgICAgICAgICAgICAgICBwb3B1cF8xMjZmYWFmYjEzNjY0NWE4ODFkZTI4OGMyODhhZjcxYy5zZXRDb250ZW50KGh0bWxfOTljZmVmZWQzOWM1NDRkZGE1MzYyNWE4OWE1NjNmNDEpOwogICAgICAgICAgICAKCiAgICAgICAgICAgIG1hcmtlcl9lN2U2Y2M1ZjhkMTI0NGExODAzY2I4ZThkM2M5NDI0OC5iaW5kUG9wdXAocG9wdXBfMTI2ZmFhZmIxMzY2NDVhODgxZGUyODhjMjg4YWY3MWMpCiAgICAgICAgICAgIDsKCiAgICAgICAgICAgIAogICAgICAgIAogICAgCiAgICAgICAgdmFyIG1hcmtlcl82MjgzMGNmYjY0Y2I0NDQ1YTZjZjk3ZTNmZDIxNGFiMCA9IEwubWFya2VyKAogICAgICAgICAgICBbNTEuMDc4NDA0MzczOSwgNC4wODU4ODcyNDYzNl0sCiAgICAgICAgICAgIHsKICAgICAgICAgICAgICAgIGljb246IG5ldyBMLkljb24uRGVmYXVsdCgpCiAgICAgICAgICAgICAgICB9CiAgICAgICAgICAgICkuYWRkVG8obWFya2VyX2NsdXN0ZXJfYmFmMDNhZWQwMmYzNDI4NmE4NTNhMmE5YmQ1YWY1ZGYpOwogICAgICAgIAogICAgCiAgICAgICAgICAgIHZhciBwb3B1cF9lNjkyMTgxMzViZmI0MTU5OTA5MGNiOGE2NzZjNDQ1YyA9IEwucG9wdXAoe21heFdpZHRoOiAnMzAwJwogICAgICAgICAgICAKICAgICAgICAgICAgfSk7CgogICAgICAgICAgICAKICAgICAgICAgICAgICAgIHZhciBodG1sX2I2ODIxMzkzZGUxMjQyYTNiYzUxMmVkNDYzNjNhMmIzID0gJCgnPGRpdiBpZD0iaHRtbF9iNjgyMTM5M2RlMTI0MmEzYmM1MTJlZDQ2MzYzYTJiMyIgc3R5bGU9IndpZHRoOiAxMDAuMCU7IGhlaWdodDogMTAwLjAlOyI+TU9SUDAwMzwvZGl2PicpWzBdOwogICAgICAgICAgICAgICAgcG9wdXBfZTY5MjE4MTM1YmZiNDE1OTkwOTBjYjhhNjc2YzQ0NWMuc2V0Q29udGVudChodG1sX2I2ODIxMzkzZGUxMjQyYTNiYzUxMmVkNDYzNjNhMmIzKTsKICAgICAgICAgICAgCgogICAgICAgICAgICBtYXJrZXJfNjI4MzBjZmI2NGNiNDQ0NWE2Y2Y5N2UzZmQyMTRhYjAuYmluZFBvcHVwKHBvcHVwX2U2OTIxODEzNWJmYjQxNTk5MDkwY2I4YTY3NmM0NDVjKQogICAgICAgICAgICA7CgogICAgICAgICAgICAKICAgICAgICAKICAgIAogICAgICAgIHZhciBtYXJrZXJfNTI0YWFhZDBkNzVhNDkxZmJhZWFkZjAxZTg2ZmIyODQgPSBMLm1hcmtlcigKICAgICAgICAgICAgWzUxLjEwMjE5ODE1NjEsIDQuMTM5OTk2MzA3MzldLAogICAgICAgICAgICB7CiAgICAgICAgICAgICAgICBpY29uOiBuZXcgTC5JY29uLkRlZmF1bHQoKQogICAgICAgICAgICAgICAgfQogICAgICAgICAgICApLmFkZFRvKG1hcmtlcl9jbHVzdGVyX2JhZjAzYWVkMDJmMzQyODZhODUzYTJhOWJkNWFmNWRmKTsKICAgICAgICAKICAgIAogICAgICAgICAgICB2YXIgcG9wdXBfODcwZTEwYzgxZjVjNDhhMWJmMjI0OGJmN2IxOWFiOGQgPSBMLnBvcHVwKHttYXhXaWR0aDogJzMwMCcKICAgICAgICAgICAgCiAgICAgICAgICAgIH0pOwoKICAgICAgICAgICAgCiAgICAgICAgICAgICAgICB2YXIgaHRtbF8zZWM4OTYzMzJlODc0YzQyYTc5ODE3M2VhMmJlMjI4OCA9ICQoJzxkaXYgaWQ9Imh0bWxfM2VjODk2MzMyZTg3NGM0MmE3OTgxNzNlYTJiZTIyODgiIHN0eWxlPSJ3aWR0aDogMTAwLjAlOyBoZWlnaHQ6IDEwMC4wJTsiPjQtMDA3NjwvZGl2PicpWzBdOwogICAgICAgICAgICAgICAgcG9wdXBfODcwZTEwYzgxZjVjNDhhMWJmMjI0OGJmN2IxOWFiOGQuc2V0Q29udGVudChodG1sXzNlYzg5NjMzMmU4NzRjNDJhNzk4MTczZWEyYmUyMjg4KTsKICAgICAgICAgICAgCgogICAgICAgICAgICBtYXJrZXJfNTI0YWFhZDBkNzVhNDkxZmJhZWFkZjAxZTg2ZmIyODQuYmluZFBvcHVwKHBvcHVwXzg3MGUxMGM4MWY1YzQ4YTFiZjIyNDhiZjdiMTlhYjhkKQogICAgICAgICAgICA7CgogICAgICAgICAgICAKICAgICAgICAKICAgIAogICAgICAgIHZhciBtYXJrZXJfNGY0YzRhYWVjNzg3NDFiYTgzNjhiYTAyMWE5YjU0MDYgPSBMLm1hcmtlcigKICAgICAgICAgICAgWzUxLjEwMjIxNjEzMzYsIDQuMTM5OTk2MjE5NjhdLAogICAgICAgICAgICB7CiAgICAgICAgICAgICAgICBpY29uOiBuZXcgTC5JY29uLkRlZmF1bHQoKQogICAgICAgICAgICAgICAgfQogICAgICAgICAgICApLmFkZFRvKG1hcmtlcl9jbHVzdGVyX2JhZjAzYWVkMDJmMzQyODZhODUzYTJhOWJkNWFmNWRmKTsKICAgICAgICAKICAgIAogICAgICAgICAgICB2YXIgcG9wdXBfMzhkMDRiZWU2OTcxNGVkYmFkOThmZTY2NTU4ODg5OTAgPSBMLnBvcHVwKHttYXhXaWR0aDogJzMwMCcKICAgICAgICAgICAgCiAgICAgICAgICAgIH0pOwoKICAgICAgICAgICAgCiAgICAgICAgICAgICAgICB2YXIgaHRtbF8xZGE3OWQ1YjdlYjM0NzQ1OWExODc3ZjE1OGE2OWE3YiA9ICQoJzxkaXYgaWQ9Imh0bWxfMWRhNzlkNWI3ZWIzNDc0NTlhMTg3N2YxNThhNjlhN2IiIHN0eWxlPSJ3aWR0aDogMTAwLjAlOyBoZWlnaHQ6IDEwMC4wJTsiPjQtMDA3NzwvZGl2PicpWzBdOwogICAgICAgICAgICAgICAgcG9wdXBfMzhkMDRiZWU2OTcxNGVkYmFkOThmZTY2NTU4ODg5OTAuc2V0Q29udGVudChodG1sXzFkYTc5ZDViN2ViMzQ3NDU5YTE4NzdmMTU4YTY5YTdiKTsKICAgICAgICAgICAgCgogICAgICAgICAgICBtYXJrZXJfNGY0YzRhYWVjNzg3NDFiYTgzNjhiYTAyMWE5YjU0MDYuYmluZFBvcHVwKHBvcHVwXzM4ZDA0YmVlNjk3MTRlZGJhZDk4ZmU2NjU1ODg4OTkwKQogICAgICAgICAgICA7CgogICAgICAgICAgICAKICAgICAgICAKICAgIAogICAgICAgIHZhciBtYXJrZXJfOTk0MzY0MjViZmNlNGQ0Nzk5NWNjMjliNDAyZTZkY2EgPSBMLm1hcmtlcigKICAgICAgICAgICAgWzUxLjEwMDEyMDMzMDEsIDQuMTY5MDAxNzMxODddLAogICAgICAgICAgICB7CiAgICAgICAgICAgICAgICBpY29uOiBuZXcgTC5JY29uLkRlZmF1bHQoKQogICAgICAgICAgICAgICAgfQogICAgICAgICAgICApLmFkZFRvKG1hcmtlcl9jbHVzdGVyX2JhZjAzYWVkMDJmMzQyODZhODUzYTJhOWJkNWFmNWRmKTsKICAgICAgICAKICAgIAogICAgICAgICAgICB2YXIgcG9wdXBfYThlY2M0MGU5NDJmNGY4ZmEwYTA1ZjE0MTdjNmQ4ZTMgPSBMLnBvcHVwKHttYXhXaWR0aDogJzMwMCcKICAgICAgICAgICAgCiAgICAgICAgICAgIH0pOwoKICAgICAgICAgICAgCiAgICAgICAgICAgICAgICB2YXIgaHRtbF85ZGNmZGQxODIxNmY0ZmMxYWZiNDVmN2ZmNmRkZjc0MSA9ICQoJzxkaXYgaWQ9Imh0bWxfOWRjZmRkMTgyMTZmNGZjMWFmYjQ1ZjdmZjZkZGY3NDEiIHN0eWxlPSJ3aWR0aDogMTAwLjAlOyBoZWlnaHQ6IDEwMC4wJTsiPkJOVFAwMDI8L2Rpdj4nKVswXTsKICAgICAgICAgICAgICAgIHBvcHVwX2E4ZWNjNDBlOTQyZjRmOGZhMGEwNWYxNDE3YzZkOGUzLnNldENvbnRlbnQoaHRtbF85ZGNmZGQxODIxNmY0ZmMxYWZiNDVmN2ZmNmRkZjc0MSk7CiAgICAgICAgICAgIAoKICAgICAgICAgICAgbWFya2VyXzk5NDM2NDI1YmZjZTRkNDc5OTVjYzI5YjQwMmU2ZGNhLmJpbmRQb3B1cChwb3B1cF9hOGVjYzQwZTk0MmY0ZjhmYTBhMDVmMTQxN2M2ZDhlMykKICAgICAgICAgICAgOwoKICAgICAgICAgICAgCiAgICAgICAgCiAgICAKICAgICAgICB2YXIgbWFya2VyXzNlNzczODQ0MGEwODRiOGU5ZWUxZjI2NTE2OWY1M2YwID0gTC5tYXJrZXIoCiAgICAgICAgICAgIFs1MS4wOTgxNjU5Njg0LCA0LjE2MTU3MjM4MzA0XSwKICAgICAgICAgICAgewogICAgICAgICAgICAgICAgaWNvbjogbmV3IEwuSWNvbi5EZWZhdWx0KCkKICAgICAgICAgICAgICAgIH0KICAgICAgICAgICAgKS5hZGRUbyhtYXJrZXJfY2x1c3Rlcl9iYWYwM2FlZDAyZjM0Mjg2YTg1M2EyYTliZDVhZjVkZik7CiAgICAgICAgCiAgICAKICAgICAgICAgICAgdmFyIHBvcHVwX2Q5NjFiZTMxMjBmYjRjY2M4NWJjYjY2NDdmMTRlODJkID0gTC5wb3B1cCh7bWF4V2lkdGg6ICczMDAnCiAgICAgICAgICAgIAogICAgICAgICAgICB9KTsKCiAgICAgICAgICAgIAogICAgICAgICAgICAgICAgdmFyIGh0bWxfZmZiY2ViZjhiZDA2NDhiZDhhYjUyM2U2NmM5ZjE4YzMgPSAkKCc8ZGl2IGlkPSJodG1sX2ZmYmNlYmY4YmQwNjQ4YmQ4YWI1MjNlNjZjOWYxOGMzIiBzdHlsZT0id2lkdGg6IDEwMC4wJTsgaGVpZ2h0OiAxMDAuMCU7Ij5CTlRQMDAzPC9kaXY+JylbMF07CiAgICAgICAgICAgICAgICBwb3B1cF9kOTYxYmUzMTIwZmI0Y2NjODViY2I2NjQ3ZjE0ZTgyZC5zZXRDb250ZW50KGh0bWxfZmZiY2ViZjhiZDA2NDhiZDhhYjUyM2U2NmM5ZjE4YzMpOwogICAgICAgICAgICAKCiAgICAgICAgICAgIG1hcmtlcl8zZTc3Mzg0NDBhMDg0YjhlOWVlMWYyNjUxNjlmNTNmMC5iaW5kUG9wdXAocG9wdXBfZDk2MWJlMzEyMGZiNGNjYzg1YmNiNjY0N2YxNGU4MmQpCiAgICAgICAgICAgIDsKCiAgICAgICAgICAgIAogICAgICAgIAogICAgCiAgICAgICAgdmFyIG1hcmtlcl9mNmFiMmRlMjM3YTQ0Y2VkODA1NTI1YzRmM2Q5ZmM5MCA9IEwubWFya2VyKAogICAgICAgICAgICBbNTEuMDk5MzUwMjA3MSwgNC4xNjU0MzU5ODEyN10sCiAgICAgICAgICAgIHsKICAgICAgICAgICAgICAgIGljb246IG5ldyBMLkljb24uRGVmYXVsdCgpCiAgICAgICAgICAgICAgICB9CiAgICAgICAgICAgICkuYWRkVG8obWFya2VyX2NsdXN0ZXJfYmFmMDNhZWQwMmYzNDI4NmE4NTNhMmE5YmQ1YWY1ZGYpOwogICAgICAgIAogICAgCiAgICAgICAgICAgIHZhciBwb3B1cF8zOGE2ZWMwYzkyMGU0OTYyODg0ZTJhYTA0YzA3YzE2MyA9IEwucG9wdXAoe21heFdpZHRoOiAnMzAwJwogICAgICAgICAgICAKICAgICAgICAgICAgfSk7CgogICAgICAgICAgICAKICAgICAgICAgICAgICAgIHZhciBodG1sX2RlM2YzNzU2ZGJlMDQ5MjZiNDdlODY5ZWZkNTNiMDkwID0gJCgnPGRpdiBpZD0iaHRtbF9kZTNmMzc1NmRiZTA0OTI2YjQ3ZTg2OWVmZDUzYjA5MCIgc3R5bGU9IndpZHRoOiAxMDAuMCU7IGhlaWdodDogMTAwLjAlOyI+Qk5UUDAwNDwvZGl2PicpWzBdOwogICAgICAgICAgICAgICAgcG9wdXBfMzhhNmVjMGM5MjBlNDk2Mjg4NGUyYWEwNGMwN2MxNjMuc2V0Q29udGVudChodG1sX2RlM2YzNzU2ZGJlMDQ5MjZiNDdlODY5ZWZkNTNiMDkwKTsKICAgICAgICAgICAgCgogICAgICAgICAgICBtYXJrZXJfZjZhYjJkZTIzN2E0NGNlZDgwNTUyNWM0ZjNkOWZjOTAuYmluZFBvcHVwKHBvcHVwXzM4YTZlYzBjOTIwZTQ5NjI4ODRlMmFhMDRjMDdjMTYzKQogICAgICAgICAgICA7CgogICAgICAgICAgICAKICAgICAgICAKICAgIAogICAgICAgIHZhciBtYXJrZXJfN2IzM2UxNWE5ZjYyNGVhMjg2ZDlhZTExYTg5NGViZjIgPSBMLm1hcmtlcigKICAgICAgICAgICAgWzUxLjEwNTU4NzM0MDYsIDQuMDY3OTE4MzkzMDRdLAogICAgICAgICAgICB7CiAgICAgICAgICAgICAgICBpY29uOiBuZXcgTC5JY29uLkRlZmF1bHQoKQogICAgICAgICAgICAgICAgfQogICAgICAgICAgICApLmFkZFRvKG1hcmtlcl9jbHVzdGVyX2JhZjAzYWVkMDJmMzQyODZhODUzYTJhOWJkNWFmNWRmKTsKICAgICAgICAKICAgIAogICAgICAgICAgICB2YXIgcG9wdXBfNjgyYmE1OTY4NDhiNDA2ZDlkYzJhNGRmMGFiYzVlY2YgPSBMLnBvcHVwKHttYXhXaWR0aDogJzMwMCcKICAgICAgICAgICAgCiAgICAgICAgICAgIH0pOwoKICAgICAgICAgICAgCiAgICAgICAgICAgICAgICB2YXIgaHRtbF8yM2FmNTc2ZGNlZTU0ZDkxOWQ3NzZlMmE0NmVlNzEyOCA9ICQoJzxkaXYgaWQ9Imh0bWxfMjNhZjU3NmRjZWU1NGQ5MTlkNzc2ZTJhNDZlZTcxMjgiIHN0eWxlPSJ3aWR0aDogMTAwLjAlOyBoZWlnaHQ6IDEwMC4wJTsiPkRVUlAwMDQ8L2Rpdj4nKVswXTsKICAgICAgICAgICAgICAgIHBvcHVwXzY4MmJhNTk2ODQ4YjQwNmQ5ZGMyYTRkZjBhYmM1ZWNmLnNldENvbnRlbnQoaHRtbF8yM2FmNTc2ZGNlZTU0ZDkxOWQ3NzZlMmE0NmVlNzEyOCk7CiAgICAgICAgICAgIAoKICAgICAgICAgICAgbWFya2VyXzdiMzNlMTVhOWY2MjRlYTI4NmQ5YWUxMWE4OTRlYmYyLmJpbmRQb3B1cChwb3B1cF82ODJiYTU5Njg0OGI0MDZkOWRjMmE0ZGYwYWJjNWVjZikKICAgICAgICAgICAgOwoKICAgICAgICAgICAgCiAgICAgICAgCiAgICAKICAgICAgICB2YXIgbWFya2VyX2ZjOTVjOTNhNmZjMzQyZjZhZjVhZjQ4YjhiYzk3YWM0ID0gTC5tYXJrZXIoCiAgICAgICAgICAgIFs1MS4wOTc2MjA4NzM0LCA0LjA2MzUwMTI1NDc1XSwKICAgICAgICAgICAgewogICAgICAgICAgICAgICAgaWNvbjogbmV3IEwuSWNvbi5EZWZhdWx0KCkKICAgICAgICAgICAgICAgIH0KICAgICAgICAgICAgKS5hZGRUbyhtYXJrZXJfY2x1c3Rlcl9iYWYwM2FlZDAyZjM0Mjg2YTg1M2EyYTliZDVhZjVkZik7CiAgICAgICAgCiAgICAKICAgICAgICAgICAgdmFyIHBvcHVwXzE5OGYzMDdiYmQyZjQ3ZTA4YzE0NjZhZWJhNGNmNWRkID0gTC5wb3B1cCh7bWF4V2lkdGg6ICczMDAnCiAgICAgICAgICAgIAogICAgICAgICAgICB9KTsKCiAgICAgICAgICAgIAogICAgICAgICAgICAgICAgdmFyIGh0bWxfMmExYzM2MTEzZWNmNGIxMGE3NDA3OTNhZGNlZjU1NTggPSAkKCc8ZGl2IGlkPSJodG1sXzJhMWMzNjExM2VjZjRiMTBhNzQwNzkzYWRjZWY1NTU4IiBzdHlsZT0id2lkdGg6IDEwMC4wJTsgaGVpZ2h0OiAxMDAuMCU7Ij5EVVJQMDEyPC9kaXY+JylbMF07CiAgICAgICAgICAgICAgICBwb3B1cF8xOThmMzA3YmJkMmY0N2UwOGMxNDY2YWViYTRjZjVkZC5zZXRDb250ZW50KGh0bWxfMmExYzM2MTEzZWNmNGIxMGE3NDA3OTNhZGNlZjU1NTgpOwogICAgICAgICAgICAKCiAgICAgICAgICAgIG1hcmtlcl9mYzk1YzkzYTZmYzM0MmY2YWY1YWY0OGI4YmM5N2FjNC5iaW5kUG9wdXAocG9wdXBfMTk4ZjMwN2JiZDJmNDdlMDhjMTQ2NmFlYmE0Y2Y1ZGQpCiAgICAgICAgICAgIDsKCiAgICAgICAgICAgIAogICAgICAgIAogICAgCiAgICAgICAgdmFyIG1hcmtlcl9mNWY3YjBkM2IyNTQ0NzBhODdiOTc3MTY4ZDc5MWQ0NSA9IEwubWFya2VyKAogICAgICAgICAgICBbNTEuMTAwOTcwNTg4MSwgNC4wNjkzMDQzMTc2NF0sCiAgICAgICAgICAgIHsKICAgICAgICAgICAgICAgIGljb246IG5ldyBMLkljb24uRGVmYXVsdCgpCiAgICAgICAgICAgICAgICB9CiAgICAgICAgICAgICkuYWRkVG8obWFya2VyX2NsdXN0ZXJfYmFmMDNhZWQwMmYzNDI4NmE4NTNhMmE5YmQ1YWY1ZGYpOwogICAgICAgIAogICAgCiAgICAgICAgICAgIHZhciBwb3B1cF80NzRhNzVkMTM1MWY0YjIzYmE2Y2RmOWI3ZmY0YzYzMiA9IEwucG9wdXAoe21heFdpZHRoOiAnMzAwJwogICAgICAgICAgICAKICAgICAgICAgICAgfSk7CgogICAgICAgICAgICAKICAgICAgICAgICAgICAgIHZhciBodG1sX2M0MmZhZGVkM2QyMTQ2NDI4MTAwZWIxMWRlZDYyYjk4ID0gJCgnPGRpdiBpZD0iaHRtbF9jNDJmYWRlZDNkMjE0NjQyODEwMGViMTFkZWQ2MmI5OCIgc3R5bGU9IndpZHRoOiAxMDAuMCU7IGhlaWdodDogMTAwLjAlOyI+RFVSUDAxMzwvZGl2PicpWzBdOwogICAgICAgICAgICAgICAgcG9wdXBfNDc0YTc1ZDEzNTFmNGIyM2JhNmNkZjliN2ZmNGM2MzIuc2V0Q29udGVudChodG1sX2M0MmZhZGVkM2QyMTQ2NDI4MTAwZWIxMWRlZDYyYjk4KTsKICAgICAgICAgICAgCgogICAgICAgICAgICBtYXJrZXJfZjVmN2IwZDNiMjU0NDcwYTg3Yjk3NzE2OGQ3OTFkNDUuYmluZFBvcHVwKHBvcHVwXzQ3NGE3NWQxMzUxZjRiMjNiYTZjZGY5YjdmZjRjNjMyKQogICAgICAgICAgICA7CgogICAgICAgICAgICAKICAgICAgICAKICAgIAogICAgICAgIHZhciBtYXJrZXJfN2U3ZTMzNGJjNzBlNGY0NmE2NmEzNWEyZjlkMzFjNDAgPSBMLm1hcmtlcigKICAgICAgICAgICAgWzUxLjEwMjkzMjM1OTEsIDQuMDY2NjM2MjA2OV0sCiAgICAgICAgICAgIHsKICAgICAgICAgICAgICAgIGljb246IG5ldyBMLkljb24uRGVmYXVsdCgpCiAgICAgICAgICAgICAgICB9CiAgICAgICAgICAgICkuYWRkVG8obWFya2VyX2NsdXN0ZXJfYmFmMDNhZWQwMmYzNDI4NmE4NTNhMmE5YmQ1YWY1ZGYpOwogICAgICAgIAogICAgCiAgICAgICAgICAgIHZhciBwb3B1cF80Mzg3YTQ4ZTM5NGQ0M2FkODU5ZjMzMGM2ZmY0OGMxYiA9IEwucG9wdXAoe21heFdpZHRoOiAnMzAwJwogICAgICAgICAgICAKICAgICAgICAgICAgfSk7CgogICAgICAgICAgICAKICAgICAgICAgICAgICAgIHZhciBodG1sX2RiYzE3NjgyMjUyNjRlMTJhNGIzYmE4ZWI5NTQ4ZDMwID0gJCgnPGRpdiBpZD0iaHRtbF9kYmMxNzY4MjI1MjY0ZTEyYTRiM2JhOGViOTU0OGQzMCIgc3R5bGU9IndpZHRoOiAxMDAuMCU7IGhlaWdodDogMTAwLjAlOyI+RFVSUDAxNDwvZGl2PicpWzBdOwogICAgICAgICAgICAgICAgcG9wdXBfNDM4N2E0OGUzOTRkNDNhZDg1OWYzMzBjNmZmNDhjMWIuc2V0Q29udGVudChodG1sX2RiYzE3NjgyMjUyNjRlMTJhNGIzYmE4ZWI5NTQ4ZDMwKTsKICAgICAgICAgICAgCgogICAgICAgICAgICBtYXJrZXJfN2U3ZTMzNGJjNzBlNGY0NmE2NmEzNWEyZjlkMzFjNDAuYmluZFBvcHVwKHBvcHVwXzQzODdhNDhlMzk0ZDQzYWQ4NTlmMzMwYzZmZjQ4YzFiKQogICAgICAgICAgICA7CgogICAgICAgICAgICAKICAgICAgICAKICAgIAogICAgICAgIHZhciBtYXJrZXJfMmYxNmJlOWRiNDE2NGY2YThkMmM2YjlkODdmMTExZWMgPSBMLm1hcmtlcigKICAgICAgICAgICAgWzUxLjEwNTAyNDMxNTMsIDQuMDY1NjgwMzc1MTNdLAogICAgICAgICAgICB7CiAgICAgICAgICAgICAgICBpY29uOiBuZXcgTC5JY29uLkRlZmF1bHQoKQogICAgICAgICAgICAgICAgfQogICAgICAgICAgICApLmFkZFRvKG1hcmtlcl9jbHVzdGVyX2JhZjAzYWVkMDJmMzQyODZhODUzYTJhOWJkNWFmNWRmKTsKICAgICAgICAKICAgIAogICAgICAgICAgICB2YXIgcG9wdXBfZWJlZjA5YzFlODUzNGZhMDk4ZWY1M2UyMmE5ZGRhMzkgPSBMLnBvcHVwKHttYXhXaWR0aDogJzMwMCcKICAgICAgICAgICAgCiAgICAgICAgICAgIH0pOwoKICAgICAgICAgICAgCiAgICAgICAgICAgICAgICB2YXIgaHRtbF80NmU3MWI2MTQ2NTk0Y2VmODJlZmQ2Y2MxNTIzOThhYiA9ICQoJzxkaXYgaWQ9Imh0bWxfNDZlNzFiNjE0NjU5NGNlZjgyZWZkNmNjMTUyMzk4YWIiIHN0eWxlPSJ3aWR0aDogMTAwLjAlOyBoZWlnaHQ6IDEwMC4wJTsiPkRVUlAwMTU8L2Rpdj4nKVswXTsKICAgICAgICAgICAgICAgIHBvcHVwX2ViZWYwOWMxZTg1MzRmYTA5OGVmNTNlMjJhOWRkYTM5LnNldENvbnRlbnQoaHRtbF80NmU3MWI2MTQ2NTk0Y2VmODJlZmQ2Y2MxNTIzOThhYik7CiAgICAgICAgICAgIAoKICAgICAgICAgICAgbWFya2VyXzJmMTZiZTlkYjQxNjRmNmE4ZDJjNmI5ZDg3ZjExMWVjLmJpbmRQb3B1cChwb3B1cF9lYmVmMDljMWU4NTM0ZmEwOThlZjUzZTIyYTlkZGEzOSkKICAgICAgICAgICAgOwoKICAgICAgICAgICAgCiAgICAgICAgCiAgICAKICAgICAgICB2YXIgbWFya2VyXzA0N2QwNGJmYjNmNTRmOWZiODMxMDUxZTQwNjRkMTQ5ID0gTC5tYXJrZXIoCiAgICAgICAgICAgIFs1MS4xMDU4NjgzNzQxLCA0LjA2NTMzMjIzODk1XSwKICAgICAgICAgICAgewogICAgICAgICAgICAgICAgaWNvbjogbmV3IEwuSWNvbi5EZWZhdWx0KCkKICAgICAgICAgICAgICAgIH0KICAgICAgICAgICAgKS5hZGRUbyhtYXJrZXJfY2x1c3Rlcl9iYWYwM2FlZDAyZjM0Mjg2YTg1M2EyYTliZDVhZjVkZik7CiAgICAgICAgCiAgICAKICAgICAgICAgICAgdmFyIHBvcHVwX2Q5YTQ3ZTI3YmZhOTRlZjE4ZDc1ZjhhNGNlODk0MjIwID0gTC5wb3B1cCh7bWF4V2lkdGg6ICczMDAnCiAgICAgICAgICAgIAogICAgICAgICAgICB9KTsKCiAgICAgICAgICAgIAogICAgICAgICAgICAgICAgdmFyIGh0bWxfNWMxYWUwZWE2YWM5NGM0ZWEzYjEwZDllMjExMGZiYTYgPSAkKCc8ZGl2IGlkPSJodG1sXzVjMWFlMGVhNmFjOTRjNGVhM2IxMGQ5ZTIxMTBmYmE2IiBzdHlsZT0id2lkdGg6IDEwMC4wJTsgaGVpZ2h0OiAxMDAuMCU7Ij5EVVJQMDE2PC9kaXY+JylbMF07CiAgICAgICAgICAgICAgICBwb3B1cF9kOWE0N2UyN2JmYTk0ZWYxOGQ3NWY4YTRjZTg5NDIyMC5zZXRDb250ZW50KGh0bWxfNWMxYWUwZWE2YWM5NGM0ZWEzYjEwZDllMjExMGZiYTYpOwogICAgICAgICAgICAKCiAgICAgICAgICAgIG1hcmtlcl8wNDdkMDRiZmIzZjU0ZjlmYjgzMTA1MWU0MDY0ZDE0OS5iaW5kUG9wdXAocG9wdXBfZDlhNDdlMjdiZmE5NGVmMThkNzVmOGE0Y2U4OTQyMjApCiAgICAgICAgICAgIDsKCiAgICAgICAgICAgIAogICAgICAgIAogICAgCiAgICAgICAgdmFyIG1hcmtlcl8wODYwNDAyMWU0Mjg0MWNhYTAwOWNlNGYyNDA1Njk1MCA9IEwubWFya2VyKAogICAgICAgICAgICBbNTEuMDk5NzQyODYwNywgNC4wNzgwMDY0MjkwMV0sCiAgICAgICAgICAgIHsKICAgICAgICAgICAgICAgIGljb246IG5ldyBMLkljb24uRGVmYXVsdCgpCiAgICAgICAgICAgICAgICB9CiAgICAgICAgICAgICkuYWRkVG8obWFya2VyX2NsdXN0ZXJfYmFmMDNhZWQwMmYzNDI4NmE4NTNhMmE5YmQ1YWY1ZGYpOwogICAgICAgIAogICAgCiAgICAgICAgICAgIHZhciBwb3B1cF8xNWEyOTk1MDAwNjg0MjJkOGQ1MmI4YmMxYThlMWNjZiA9IEwucG9wdXAoe21heFdpZHRoOiAnMzAwJwogICAgICAgICAgICAKICAgICAgICAgICAgfSk7CgogICAgICAgICAgICAKICAgICAgICAgICAgICAgIHZhciBodG1sXzk0ZjQwMDNlODY0ZjRlY2JhZGZhMmM3ZWQzMmYzZDgzID0gJCgnPGRpdiBpZD0iaHRtbF85NGY0MDAzZTg2NGY0ZWNiYWRmYTJjN2VkMzJmM2Q4MyIgc3R5bGU9IndpZHRoOiAxMDAuMCU7IGhlaWdodDogMTAwLjAlOyI+RFVSUDAxODwvZGl2PicpWzBdOwogICAgICAgICAgICAgICAgcG9wdXBfMTVhMjk5NTAwMDY4NDIyZDhkNTJiOGJjMWE4ZTFjY2Yuc2V0Q29udGVudChodG1sXzk0ZjQwMDNlODY0ZjRlY2JhZGZhMmM3ZWQzMmYzZDgzKTsKICAgICAgICAgICAgCgogICAgICAgICAgICBtYXJrZXJfMDg2MDQwMjFlNDI4NDFjYWEwMDljZTRmMjQwNTY5NTAuYmluZFBvcHVwKHBvcHVwXzE1YTI5OTUwMDA2ODQyMmQ4ZDUyYjhiYzFhOGUxY2NmKQogICAgICAgICAgICA7CgogICAgICAgICAgICAKICAgICAgICAKICAgIAogICAgICAgIHZhciBtYXJrZXJfMjBmMjEwNTVkMzE4NGViOTk3ZGQ2YmVjYTM0ZGMyOTAgPSBMLm1hcmtlcigKICAgICAgICAgICAgWzUxLjEwMjA1ODY0NSwgNC4xMTE0NzE2MDI5Ml0sCiAgICAgICAgICAgIHsKICAgICAgICAgICAgICAgIGljb246IG5ldyBMLkljb24uRGVmYXVsdCgpCiAgICAgICAgICAgICAgICB9CiAgICAgICAgICAgICkuYWRkVG8obWFya2VyX2NsdXN0ZXJfYmFmMDNhZWQwMmYzNDI4NmE4NTNhMmE5YmQ1YWY1ZGYpOwogICAgICAgIAogICAgCiAgICAgICAgICAgIHZhciBwb3B1cF82OGJiMDhmNmE0ZTY0MjkxYTg4Y2QxYmVmNTIzYzhjNiA9IEwucG9wdXAoe21heFdpZHRoOiAnMzAwJwogICAgICAgICAgICAKICAgICAgICAgICAgfSk7CgogICAgICAgICAgICAKICAgICAgICAgICAgICAgIHZhciBodG1sX2M5YzAzNmVjYzQ3NzQ2ODhhMDEwNTYyYjI3Y2YwNGQ3ID0gJCgnPGRpdiBpZD0iaHRtbF9jOWMwMzZlY2M0Nzc0Njg4YTAxMDU2MmIyN2NmMDRkNyIgc3R5bGU9IndpZHRoOiAxMDAuMCU7IGhlaWdodDogMTAwLjAlOyI+RFVSUDAyMzwvZGl2PicpWzBdOwogICAgICAgICAgICAgICAgcG9wdXBfNjhiYjA4ZjZhNGU2NDI5MWE4OGNkMWJlZjUyM2M4YzYuc2V0Q29udGVudChodG1sX2M5YzAzNmVjYzQ3NzQ2ODhhMDEwNTYyYjI3Y2YwNGQ3KTsKICAgICAgICAgICAgCgogICAgICAgICAgICBtYXJrZXJfMjBmMjEwNTVkMzE4NGViOTk3ZGQ2YmVjYTM0ZGMyOTAuYmluZFBvcHVwKHBvcHVwXzY4YmIwOGY2YTRlNjQyOTFhODhjZDFiZWY1MjNjOGM2KQogICAgICAgICAgICA7CgogICAgICAgICAgICAKICAgICAgICAKICAgIAogICAgICAgIHZhciBtYXJrZXJfMTNlZTEyNTgxYTIyNGY4M2E2OTk4ZWFmMzc0NzRmNTYgPSBMLm1hcmtlcigKICAgICAgICAgICAgWzUxLjA5OTA2NjE4NzMsIDQuMTA3NzQ3Njk3MTFdLAogICAgICAgICAgICB7CiAgICAgICAgICAgICAgICBpY29uOiBuZXcgTC5JY29uLkRlZmF1bHQoKQogICAgICAgICAgICAgICAgfQogICAgICAgICAgICApLmFkZFRvKG1hcmtlcl9jbHVzdGVyX2JhZjAzYWVkMDJmMzQyODZhODUzYTJhOWJkNWFmNWRmKTsKICAgICAgICAKICAgIAogICAgICAgICAgICB2YXIgcG9wdXBfYmQ1OTAwNWRkZmZhNGJkZjliMmU0NGY1MmMxYjQwNDYgPSBMLnBvcHVwKHttYXhXaWR0aDogJzMwMCcKICAgICAgICAgICAgCiAgICAgICAgICAgIH0pOwoKICAgICAgICAgICAgCiAgICAgICAgICAgICAgICB2YXIgaHRtbF85NGIzMDE2ZGIzYjA0ODM0ODUxMmQ5MjQ5NjY1MmIxMyA9ICQoJzxkaXYgaWQ9Imh0bWxfOTRiMzAxNmRiM2IwNDgzNDg1MTJkOTI0OTY2NTJiMTMiIHN0eWxlPSJ3aWR0aDogMTAwLjAlOyBoZWlnaHQ6IDEwMC4wJTsiPkRVUlAwMjQ8L2Rpdj4nKVswXTsKICAgICAgICAgICAgICAgIHBvcHVwX2JkNTkwMDVkZGZmYTRiZGY5YjJlNDRmNTJjMWI0MDQ2LnNldENvbnRlbnQoaHRtbF85NGIzMDE2ZGIzYjA0ODM0ODUxMmQ5MjQ5NjY1MmIxMyk7CiAgICAgICAgICAgIAoKICAgICAgICAgICAgbWFya2VyXzEzZWUxMjU4MWEyMjRmODNhNjk5OGVhZjM3NDc0ZjU2LmJpbmRQb3B1cChwb3B1cF9iZDU5MDA1ZGRmZmE0YmRmOWIyZTQ0ZjUyYzFiNDA0NikKICAgICAgICAgICAgOwoKICAgICAgICAgICAgCiAgICAgICAgCiAgICAKICAgICAgICB2YXIgbWFya2VyXzZlYjNlMmYyOTE2ZDRkODdhODU0ZjBlZDBlODJiOGU4ID0gTC5tYXJrZXIoCiAgICAgICAgICAgIFs1MS4xMDI4NDEzMDM0LCA0LjA2NjE3OTkyMl0sCiAgICAgICAgICAgIHsKICAgICAgICAgICAgICAgIGljb246IG5ldyBMLkljb24uRGVmYXVsdCgpCiAgICAgICAgICAgICAgICB9CiAgICAgICAgICAgICkuYWRkVG8obWFya2VyX2NsdXN0ZXJfYmFmMDNhZWQwMmYzNDI4NmE4NTNhMmE5YmQ1YWY1ZGYpOwogICAgICAgIAogICAgCiAgICAgICAgICAgIHZhciBwb3B1cF9iOWM2OGM5YjYxOWU0NTE3OGJiOGUzMWExMWU1YTZjYyA9IEwucG9wdXAoe21heFdpZHRoOiAnMzAwJwogICAgICAgICAgICAKICAgICAgICAgICAgfSk7CgogICAgICAgICAgICAKICAgICAgICAgICAgICAgIHZhciBodG1sX2FlZTY1ZmU3Y2Y3MTQyNWViYTExNjNlOGY0MTExZDkwID0gJCgnPGRpdiBpZD0iaHRtbF9hZWU2NWZlN2NmNzE0MjVlYmExMTYzZThmNDExMWQ5MCIgc3R5bGU9IndpZHRoOiAxMDAuMCU7IGhlaWdodDogMTAwLjAlOyI+RFVSUDAzMDwvZGl2PicpWzBdOwogICAgICAgICAgICAgICAgcG9wdXBfYjljNjhjOWI2MTllNDUxNzhiYjhlMzFhMTFlNWE2Y2Muc2V0Q29udGVudChodG1sX2FlZTY1ZmU3Y2Y3MTQyNWViYTExNjNlOGY0MTExZDkwKTsKICAgICAgICAgICAgCgogICAgICAgICAgICBtYXJrZXJfNmViM2UyZjI5MTZkNGQ4N2E4NTRmMGVkMGU4MmI4ZTguYmluZFBvcHVwKHBvcHVwX2I5YzY4YzliNjE5ZTQ1MTc4YmI4ZTMxYTExZTVhNmNjKQogICAgICAgICAgICA7CgogICAgICAgICAgICAKICAgICAgICAKICAgIAogICAgICAgIHZhciBtYXJrZXJfNGM1ZDFjNTQ1ODFhNDY3NWE5ZTE2NzJmMTgyNGRmZmIgPSBMLm1hcmtlcigKICAgICAgICAgICAgWzUxLjEwMjc4NzA3ODgsIDQuMDY2MDY2MDU0MjldLAogICAgICAgICAgICB7CiAgICAgICAgICAgICAgICBpY29uOiBuZXcgTC5JY29uLkRlZmF1bHQoKQogICAgICAgICAgICAgICAgfQogICAgICAgICAgICApLmFkZFRvKG1hcmtlcl9jbHVzdGVyX2JhZjAzYWVkMDJmMzQyODZhODUzYTJhOWJkNWFmNWRmKTsKICAgICAgICAKICAgIAogICAgICAgICAgICB2YXIgcG9wdXBfNDU1NzU5ZjNkN2U1NGZhYjk0ZTIyYTNlYjg1MTc1NTkgPSBMLnBvcHVwKHttYXhXaWR0aDogJzMwMCcKICAgICAgICAgICAgCiAgICAgICAgICAgIH0pOwoKICAgICAgICAgICAgCiAgICAgICAgICAgICAgICB2YXIgaHRtbF83OGU4MGNlOGJiMGE0MWIwOTVhZjU4MGY5YmNlNzVmYyA9ICQoJzxkaXYgaWQ9Imh0bWxfNzhlODBjZThiYjBhNDFiMDk1YWY1ODBmOWJjZTc1ZmMiIHN0eWxlPSJ3aWR0aDogMTAwLjAlOyBoZWlnaHQ6IDEwMC4wJTsiPkRVUlAwMzE8L2Rpdj4nKVswXTsKICAgICAgICAgICAgICAgIHBvcHVwXzQ1NTc1OWYzZDdlNTRmYWI5NGUyMmEzZWI4NTE3NTU5LnNldENvbnRlbnQoaHRtbF83OGU4MGNlOGJiMGE0MWIwOTVhZjU4MGY5YmNlNzVmYyk7CiAgICAgICAgICAgIAoKICAgICAgICAgICAgbWFya2VyXzRjNWQxYzU0NTgxYTQ2NzVhOWUxNjcyZjE4MjRkZmZiLmJpbmRQb3B1cChwb3B1cF80NTU3NTlmM2Q3ZTU0ZmFiOTRlMjJhM2ViODUxNzU1OSkKICAgICAgICAgICAgOwoKICAgICAgICAgICAgCiAgICAgICAgCiAgICAKICAgICAgICB2YXIgbWFya2VyXzk4MmRiMTQ2NmUxNTQzOWZhOWM1MTA5YTgzYmQ3NTNlID0gTC5tYXJrZXIoCiAgICAgICAgICAgIFs1MS4xMDI2MjQzNjc1LCA0LjA2NTcxMDE3NTc5XSwKICAgICAgICAgICAgewogICAgICAgICAgICAgICAgaWNvbjogbmV3IEwuSWNvbi5EZWZhdWx0KCkKICAgICAgICAgICAgICAgIH0KICAgICAgICAgICAgKS5hZGRUbyhtYXJrZXJfY2x1c3Rlcl9iYWYwM2FlZDAyZjM0Mjg2YTg1M2EyYTliZDVhZjVkZik7CiAgICAgICAgCiAgICAKICAgICAgICAgICAgdmFyIHBvcHVwX2U3M2VjNDdmNjI3MDRjOGRhMTMyNDg0MmQxMGQxMjBkID0gTC5wb3B1cCh7bWF4V2lkdGg6ICczMDAnCiAgICAgICAgICAgIAogICAgICAgICAgICB9KTsKCiAgICAgICAgICAgIAogICAgICAgICAgICAgICAgdmFyIGh0bWxfYTA3YTFkZmE0ZDQ5NDZmOGEzMTAzN2YwMTI5ZWYzNmMgPSAkKCc8ZGl2IGlkPSJodG1sX2EwN2ExZGZhNGQ0OTQ2ZjhhMzEwMzdmMDEyOWVmMzZjIiBzdHlsZT0id2lkdGg6IDEwMC4wJTsgaGVpZ2h0OiAxMDAuMCU7Ij5EVVJQMDMyPC9kaXY+JylbMF07CiAgICAgICAgICAgICAgICBwb3B1cF9lNzNlYzQ3ZjYyNzA0YzhkYTEzMjQ4NDJkMTBkMTIwZC5zZXRDb250ZW50KGh0bWxfYTA3YTFkZmE0ZDQ5NDZmOGEzMTAzN2YwMTI5ZWYzNmMpOwogICAgICAgICAgICAKCiAgICAgICAgICAgIG1hcmtlcl85ODJkYjE0NjZlMTU0MzlmYTljNTEwOWE4M2JkNzUzZS5iaW5kUG9wdXAocG9wdXBfZTczZWM0N2Y2MjcwNGM4ZGExMzI0ODQyZDEwZDEyMGQpCiAgICAgICAgICAgIDsKCiAgICAgICAgICAgIAogICAgICAgIAogICAgCiAgICAgICAgdmFyIG1hcmtlcl83ZmE5N2FhMmViNDg0OTEwOGM5ZWFhODRmNTdhNDIyNyA9IEwubWFya2VyKAogICAgICAgICAgICBbNTEuMTAwOTg2NzkxMiwgNC4wNjg2MDQ2NTY2N10sCiAgICAgICAgICAgIHsKICAgICAgICAgICAgICAgIGljb246IG5ldyBMLkljb24uRGVmYXVsdCgpCiAgICAgICAgICAgICAgICB9CiAgICAgICAgICAgICkuYWRkVG8obWFya2VyX2NsdXN0ZXJfYmFmMDNhZWQwMmYzNDI4NmE4NTNhMmE5YmQ1YWY1ZGYpOwogICAgICAgIAogICAgCiAgICAgICAgICAgIHZhciBwb3B1cF80MmM1NDIwZWM5ODk0ZWU1YWZlMjFjMjRlYzc5ZGE5YiA9IEwucG9wdXAoe21heFdpZHRoOiAnMzAwJwogICAgICAgICAgICAKICAgICAgICAgICAgfSk7CgogICAgICAgICAgICAKICAgICAgICAgICAgICAgIHZhciBodG1sXzMzMDExMGUxYzgzNDQ3M2ViNGU0NThhYzE5MTI1YzA4ID0gJCgnPGRpdiBpZD0iaHRtbF8zMzAxMTBlMWM4MzQ0NzNlYjRlNDU4YWMxOTEyNWMwOCIgc3R5bGU9IndpZHRoOiAxMDAuMCU7IGhlaWdodDogMTAwLjAlOyI+RFVSUDAzMzwvZGl2PicpWzBdOwogICAgICAgICAgICAgICAgcG9wdXBfNDJjNTQyMGVjOTg5NGVlNWFmZTIxYzI0ZWM3OWRhOWIuc2V0Q29udGVudChodG1sXzMzMDExMGUxYzgzNDQ3M2ViNGU0NThhYzE5MTI1YzA4KTsKICAgICAgICAgICAgCgogICAgICAgICAgICBtYXJrZXJfN2ZhOTdhYTJlYjQ4NDkxMDhjOWVhYTg0ZjU3YTQyMjcuYmluZFBvcHVwKHBvcHVwXzQyYzU0MjBlYzk4OTRlZTVhZmUyMWMyNGVjNzlkYTliKQogICAgICAgICAgICA7CgogICAgICAgICAgICAKICAgICAgICAKICAgIAogICAgICAgIHZhciBtYXJrZXJfY2YxNTE3Yzk5Nzc3NDA4NWFjYjNmZDI5MTgzOWVmOWQgPSBMLm1hcmtlcigKICAgICAgICAgICAgWzUxLjEwMTQ1MTc4NDksIDQuMDcxMjAwMDU5OTddLAogICAgICAgICAgICB7CiAgICAgICAgICAgICAgICBpY29uOiBuZXcgTC5JY29uLkRlZmF1bHQoKQogICAgICAgICAgICAgICAgfQogICAgICAgICAgICApLmFkZFRvKG1hcmtlcl9jbHVzdGVyX2JhZjAzYWVkMDJmMzQyODZhODUzYTJhOWJkNWFmNWRmKTsKICAgICAgICAKICAgIAogICAgICAgICAgICB2YXIgcG9wdXBfZWM4MGIxN2NkMGFiNDcxYzhlM2VhMzNhMmYzODBkYmUgPSBMLnBvcHVwKHttYXhXaWR0aDogJzMwMCcKICAgICAgICAgICAgCiAgICAgICAgICAgIH0pOwoKICAgICAgICAgICAgCiAgICAgICAgICAgICAgICB2YXIgaHRtbF9hMWY3MjgyZjMwNGQ0ODBkYjRlOWM3YWJiYTkwODk5OSA9ICQoJzxkaXYgaWQ9Imh0bWxfYTFmNzI4MmYzMDRkNDgwZGI0ZTljN2FiYmE5MDg5OTkiIHN0eWxlPSJ3aWR0aDogMTAwLjAlOyBoZWlnaHQ6IDEwMC4wJTsiPkRVUlAwMzQ8L2Rpdj4nKVswXTsKICAgICAgICAgICAgICAgIHBvcHVwX2VjODBiMTdjZDBhYjQ3MWM4ZTNlYTMzYTJmMzgwZGJlLnNldENvbnRlbnQoaHRtbF9hMWY3MjgyZjMwNGQ0ODBkYjRlOWM3YWJiYTkwODk5OSk7CiAgICAgICAgICAgIAoKICAgICAgICAgICAgbWFya2VyX2NmMTUxN2M5OTc3NzQwODVhY2IzZmQyOTE4MzllZjlkLmJpbmRQb3B1cChwb3B1cF9lYzgwYjE3Y2QwYWI0NzFjOGUzZWEzM2EyZjM4MGRiZSkKICAgICAgICAgICAgOwoKICAgICAgICAgICAgCiAgICAgICAgCiAgICAKICAgICAgICB2YXIgbWFya2VyXzEwNDRiNGMxNWRiYjQ5ODJiOWExMmVkMmRmYzc0MjM1ID0gTC5tYXJrZXIoCiAgICAgICAgICAgIFs1MS4wNDA3MzIwODcyLCA0LjE3NTMyODI4NDVdLAogICAgICAgICAgICB7CiAgICAgICAgICAgICAgICBpY29uOiBuZXcgTC5JY29uLkRlZmF1bHQoKQogICAgICAgICAgICAgICAgfQogICAgICAgICAgICApLmFkZFRvKG1hcmtlcl9jbHVzdGVyX2JhZjAzYWVkMDJmMzQyODZhODUzYTJhOWJkNWFmNWRmKTsKICAgICAgICAKICAgIAogICAgICAgICAgICB2YXIgcG9wdXBfNTFlOTU4YmZhYWU4NDk4MGFiNmVjZTFmODg4ZjMyOTAgPSBMLnBvcHVwKHttYXhXaWR0aDogJzMwMCcKICAgICAgICAgICAgCiAgICAgICAgICAgIH0pOwoKICAgICAgICAgICAgCiAgICAgICAgICAgICAgICB2YXIgaHRtbF9iZjc3NjRkY2Y1MTQ0OTQxYWRkOWQyM2Q0NGRmOWNmNyA9ICQoJzxkaXYgaWQ9Imh0bWxfYmY3NzY0ZGNmNTE0NDk0MWFkZDlkMjNkNDRkZjljZjciIHN0eWxlPSJ3aWR0aDogMTAwLjAlOyBoZWlnaHQ6IDEwMC4wJTsiPkdXWlAwMDE8L2Rpdj4nKVswXTsKICAgICAgICAgICAgICAgIHBvcHVwXzUxZTk1OGJmYWFlODQ5ODBhYjZlY2UxZjg4OGYzMjkwLnNldENvbnRlbnQoaHRtbF9iZjc3NjRkY2Y1MTQ0OTQxYWRkOWQyM2Q0NGRmOWNmNyk7CiAgICAgICAgICAgIAoKICAgICAgICAgICAgbWFya2VyXzEwNDRiNGMxNWRiYjQ5ODJiOWExMmVkMmRmYzc0MjM1LmJpbmRQb3B1cChwb3B1cF81MWU5NThiZmFhZTg0OTgwYWI2ZWNlMWY4ODhmMzI5MCkKICAgICAgICAgICAgOwoKICAgICAgICAgICAgCiAgICAgICAgCiAgICAKICAgICAgICB2YXIgbWFya2VyXzc0MWIzYTcwNzVkZDQ3ZmJhOWM4Yjg2ZThjOWQ4ZGFkID0gTC5tYXJrZXIoCiAgICAgICAgICAgIFs1MS4wMzkwODcxMzQsIDQuMTgwOTI0MDg4OThdLAogICAgICAgICAgICB7CiAgICAgICAgICAgICAgICBpY29uOiBuZXcgTC5JY29uLkRlZmF1bHQoKQogICAgICAgICAgICAgICAgfQogICAgICAgICAgICApLmFkZFRvKG1hcmtlcl9jbHVzdGVyX2JhZjAzYWVkMDJmMzQyODZhODUzYTJhOWJkNWFmNWRmKTsKICAgICAgICAKICAgIAogICAgICAgICAgICB2YXIgcG9wdXBfNTM1ZGYxODhkMzM3NDJiZmIwYTdiOWRhNTk2MjU1M2EgPSBMLnBvcHVwKHttYXhXaWR0aDogJzMwMCcKICAgICAgICAgICAgCiAgICAgICAgICAgIH0pOwoKICAgICAgICAgICAgCiAgICAgICAgICAgICAgICB2YXIgaHRtbF85NWNiOWUyYmJmYWI0OGE2ODViM2NkYThlYWE0OWI5MCA9ICQoJzxkaXYgaWQ9Imh0bWxfOTVjYjllMmJiZmFiNDhhNjg1YjNjZGE4ZWFhNDliOTAiIHN0eWxlPSJ3aWR0aDogMTAwLjAlOyBoZWlnaHQ6IDEwMC4wJTsiPkdXWlAwMDM8L2Rpdj4nKVswXTsKICAgICAgICAgICAgICAgIHBvcHVwXzUzNWRmMTg4ZDMzNzQyYmZiMGE3YjlkYTU5NjI1NTNhLnNldENvbnRlbnQoaHRtbF85NWNiOWUyYmJmYWI0OGE2ODViM2NkYThlYWE0OWI5MCk7CiAgICAgICAgICAgIAoKICAgICAgICAgICAgbWFya2VyXzc0MWIzYTcwNzVkZDQ3ZmJhOWM4Yjg2ZThjOWQ4ZGFkLmJpbmRQb3B1cChwb3B1cF81MzVkZjE4OGQzMzc0MmJmYjBhN2I5ZGE1OTYyNTUzYSkKICAgICAgICAgICAgOwoKICAgICAgICAgICAgCiAgICAgICAgCiAgICAKICAgICAgICB2YXIgbWFya2VyXzJmODYwMDIzYmRlODQ3OGY5OGRmMjcxNThiNzY5ZDNhID0gTC5tYXJrZXIoCiAgICAgICAgICAgIFs1MS4wNDMzNDA0NjQ5LCA0LjE4MTg5MDk1NzU3XSwKICAgICAgICAgICAgewogICAgICAgICAgICAgICAgaWNvbjogbmV3IEwuSWNvbi5EZWZhdWx0KCkKICAgICAgICAgICAgICAgIH0KICAgICAgICAgICAgKS5hZGRUbyhtYXJrZXJfY2x1c3Rlcl9iYWYwM2FlZDAyZjM0Mjg2YTg1M2EyYTliZDVhZjVkZik7CiAgICAgICAgCiAgICAKICAgICAgICAgICAgdmFyIHBvcHVwX2Y4ZmRhZGRkOTFmOTRlMWY5NTVkZjcwZjUwN2UyODRlID0gTC5wb3B1cCh7bWF4V2lkdGg6ICczMDAnCiAgICAgICAgICAgIAogICAgICAgICAgICB9KTsKCiAgICAgICAgICAgIAogICAgICAgICAgICAgICAgdmFyIGh0bWxfNWY4MTEwODBiZDk0NGM2MGFjOTBhMTc3NTgxOTdkZTYgPSAkKCc8ZGl2IGlkPSJodG1sXzVmODExMDgwYmQ5NDRjNjBhYzkwYTE3NzU4MTk3ZGU2IiBzdHlsZT0id2lkdGg6IDEwMC4wJTsgaGVpZ2h0OiAxMDAuMCU7Ij5HV1pQMDA0PC9kaXY+JylbMF07CiAgICAgICAgICAgICAgICBwb3B1cF9mOGZkYWRkZDkxZjk0ZTFmOTU1ZGY3MGY1MDdlMjg0ZS5zZXRDb250ZW50KGh0bWxfNWY4MTEwODBiZDk0NGM2MGFjOTBhMTc3NTgxOTdkZTYpOwogICAgICAgICAgICAKCiAgICAgICAgICAgIG1hcmtlcl8yZjg2MDAyM2JkZTg0NzhmOThkZjI3MTU4Yjc2OWQzYS5iaW5kUG9wdXAocG9wdXBfZjhmZGFkZGQ5MWY5NGUxZjk1NWRmNzBmNTA3ZTI4NGUpCiAgICAgICAgICAgIDsKCiAgICAgICAgICAgIAogICAgICAgIAogICAgCiAgICAgICAgdmFyIG1hcmtlcl9mMzBiZTllZjBjYTA0MmFiOTA0MzliMmUwNGI0OGYzZiA9IEwubWFya2VyKAogICAgICAgICAgICBbNTEuMDM3OTgyNDQ2NywgNC4xNzU5Mzg0MTU0OV0sCiAgICAgICAgICAgIHsKICAgICAgICAgICAgICAgIGljb246IG5ldyBMLkljb24uRGVmYXVsdCgpCiAgICAgICAgICAgICAgICB9CiAgICAgICAgICAgICkuYWRkVG8obWFya2VyX2NsdXN0ZXJfYmFmMDNhZWQwMmYzNDI4NmE4NTNhMmE5YmQ1YWY1ZGYpOwogICAgICAgIAogICAgCiAgICAgICAgICAgIHZhciBwb3B1cF80Y2FlNjkxNWI3MTI0ZGIxOTU2ZmI3ZjdlNDNmOGExNiA9IEwucG9wdXAoe21heFdpZHRoOiAnMzAwJwogICAgICAgICAgICAKICAgICAgICAgICAgfSk7CgogICAgICAgICAgICAKICAgICAgICAgICAgICAgIHZhciBodG1sX2I1YTNhYTg3NjAwNjRkMTA5MjdmMTc2MzgwNWQ1NWQ2ID0gJCgnPGRpdiBpZD0iaHRtbF9iNWEzYWE4NzYwMDY0ZDEwOTI3ZjE3NjM4MDVkNTVkNiIgc3R5bGU9IndpZHRoOiAxMDAuMCU7IGhlaWdodDogMTAwLjAlOyI+R1daUDAwNTwvZGl2PicpWzBdOwogICAgICAgICAgICAgICAgcG9wdXBfNGNhZTY5MTViNzEyNGRiMTk1NmZiN2Y3ZTQzZjhhMTYuc2V0Q29udGVudChodG1sX2I1YTNhYTg3NjAwNjRkMTA5MjdmMTc2MzgwNWQ1NWQ2KTsKICAgICAgICAgICAgCgogICAgICAgICAgICBtYXJrZXJfZjMwYmU5ZWYwY2EwNDJhYjkwNDM5YjJlMDRiNDhmM2YuYmluZFBvcHVwKHBvcHVwXzRjYWU2OTE1YjcxMjRkYjE5NTZmYjdmN2U0M2Y4YTE2KQogICAgICAgICAgICA7CgogICAgICAgICAgICAKICAgICAgICAKICAgIAogICAgICAgIHZhciBtYXJrZXJfYmRjYjJhNDNhNjBhNGFjYzk5YjBhZTVhMDNiYWU3MjAgPSBMLm1hcmtlcigKICAgICAgICAgICAgWzUxLjAzOTU0ODQzNDIsIDQuMTcxNjQwMzY3NDFdLAogICAgICAgICAgICB7CiAgICAgICAgICAgICAgICBpY29uOiBuZXcgTC5JY29uLkRlZmF1bHQoKQogICAgICAgICAgICAgICAgfQogICAgICAgICAgICApLmFkZFRvKG1hcmtlcl9jbHVzdGVyX2JhZjAzYWVkMDJmMzQyODZhODUzYTJhOWJkNWFmNWRmKTsKICAgICAgICAKICAgIAogICAgICAgICAgICB2YXIgcG9wdXBfNTBiYjNkMmQ5NjUyNGFiYjgwMjFhNGM1ODZmYjMwNjcgPSBMLnBvcHVwKHttYXhXaWR0aDogJzMwMCcKICAgICAgICAgICAgCiAgICAgICAgICAgIH0pOwoKICAgICAgICAgICAgCiAgICAgICAgICAgICAgICB2YXIgaHRtbF8yY2VhMjUzYTg0YWU0YzEyOWVkYmFkZmYwMmFkMmQwOCA9ICQoJzxkaXYgaWQ9Imh0bWxfMmNlYTI1M2E4NGFlNGMxMjllZGJhZGZmMDJhZDJkMDgiIHN0eWxlPSJ3aWR0aDogMTAwLjAlOyBoZWlnaHQ6IDEwMC4wJTsiPkdXWlAwMDY8L2Rpdj4nKVswXTsKICAgICAgICAgICAgICAgIHBvcHVwXzUwYmIzZDJkOTY1MjRhYmI4MDIxYTRjNTg2ZmIzMDY3LnNldENvbnRlbnQoaHRtbF8yY2VhMjUzYTg0YWU0YzEyOWVkYmFkZmYwMmFkMmQwOCk7CiAgICAgICAgICAgIAoKICAgICAgICAgICAgbWFya2VyX2JkY2IyYTQzYTYwYTRhY2M5OWIwYWU1YTAzYmFlNzIwLmJpbmRQb3B1cChwb3B1cF81MGJiM2QyZDk2NTI0YWJiODAyMWE0YzU4NmZiMzA2NykKICAgICAgICAgICAgOwoKICAgICAgICAgICAgCiAgICAgICAgCiAgICAKICAgICAgICB2YXIgbWFya2VyX2U2YWUxZTQzMzlkZjRiMDA5MzYxMDNiNmQzNjVjYjI1ID0gTC5tYXJrZXIoCiAgICAgICAgICAgIFs1MS4wNTMwMTg5MjU0LCA0LjE4NTkzMTM4MTJdLAogICAgICAgICAgICB7CiAgICAgICAgICAgICAgICBpY29uOiBuZXcgTC5JY29uLkRlZmF1bHQoKQogICAgICAgICAgICAgICAgfQogICAgICAgICAgICApLmFkZFRvKG1hcmtlcl9jbHVzdGVyX2JhZjAzYWVkMDJmMzQyODZhODUzYTJhOWJkNWFmNWRmKTsKICAgICAgICAKICAgIAogICAgICAgICAgICB2YXIgcG9wdXBfZjVkYzFmMDQyZjM5NGY5YmIxN2ZlY2E1YTFlNmYzN2MgPSBMLnBvcHVwKHttYXhXaWR0aDogJzMwMCcKICAgICAgICAgICAgCiAgICAgICAgICAgIH0pOwoKICAgICAgICAgICAgCiAgICAgICAgICAgICAgICB2YXIgaHRtbF9jZjk5M2JlYzc0ZmE0ZmIyOTI1ZWY0YzdlNGVjZmViZiA9ICQoJzxkaXYgaWQ9Imh0bWxfY2Y5OTNiZWM3NGZhNGZiMjkyNWVmNGM3ZTRlY2ZlYmYiIHN0eWxlPSJ3aWR0aDogMTAwLjAlOyBoZWlnaHQ6IDEwMC4wJTsiPkdXWlAwMDc8L2Rpdj4nKVswXTsKICAgICAgICAgICAgICAgIHBvcHVwX2Y1ZGMxZjA0MmYzOTRmOWJiMTdmZWNhNWExZTZmMzdjLnNldENvbnRlbnQoaHRtbF9jZjk5M2JlYzc0ZmE0ZmIyOTI1ZWY0YzdlNGVjZmViZik7CiAgICAgICAgICAgIAoKICAgICAgICAgICAgbWFya2VyX2U2YWUxZTQzMzlkZjRiMDA5MzYxMDNiNmQzNjVjYjI1LmJpbmRQb3B1cChwb3B1cF9mNWRjMWYwNDJmMzk0ZjliYjE3ZmVjYTVhMWU2ZjM3YykKICAgICAgICAgICAgOwoKICAgICAgICAgICAgCiAgICAgICAgCiAgICAKICAgICAgICB2YXIgbWFya2VyXzE3NDgyMGRiYzdjNzQwZWNhYTJmNTI4NDAxNTlmYzYwID0gTC5tYXJrZXIoCiAgICAgICAgICAgIFs1MS4wNTM1NDE0MjMxLCA0LjE5MjYwNDAyNjEyXSwKICAgICAgICAgICAgewogICAgICAgICAgICAgICAgaWNvbjogbmV3IEwuSWNvbi5EZWZhdWx0KCkKICAgICAgICAgICAgICAgIH0KICAgICAgICAgICAgKS5hZGRUbyhtYXJrZXJfY2x1c3Rlcl9iYWYwM2FlZDAyZjM0Mjg2YTg1M2EyYTliZDVhZjVkZik7CiAgICAgICAgCiAgICAKICAgICAgICAgICAgdmFyIHBvcHVwXzgwYWZlMDc2YmRhYzQ0NmRhNDhkNmUyYWVhMDdiMGU3ID0gTC5wb3B1cCh7bWF4V2lkdGg6ICczMDAnCiAgICAgICAgICAgIAogICAgICAgICAgICB9KTsKCiAgICAgICAgICAgIAogICAgICAgICAgICAgICAgdmFyIGh0bWxfMGY5ZTJhY2U5NDQ0NDg3N2FiNDJmOWVlNDViNmI3N2YgPSAkKCc8ZGl2IGlkPSJodG1sXzBmOWUyYWNlOTQ0NDQ4NzdhYjQyZjllZTQ1YjZiNzdmIiBzdHlsZT0id2lkdGg6IDEwMC4wJTsgaGVpZ2h0OiAxMDAuMCU7Ij5HV1pQMDA4PC9kaXY+JylbMF07CiAgICAgICAgICAgICAgICBwb3B1cF84MGFmZTA3NmJkYWM0NDZkYTQ4ZDZlMmFlYTA3YjBlNy5zZXRDb250ZW50KGh0bWxfMGY5ZTJhY2U5NDQ0NDg3N2FiNDJmOWVlNDViNmI3N2YpOwogICAgICAgICAgICAKCiAgICAgICAgICAgIG1hcmtlcl8xNzQ4MjBkYmM3Yzc0MGVjYWEyZjUyODQwMTU5ZmM2MC5iaW5kUG9wdXAocG9wdXBfODBhZmUwNzZiZGFjNDQ2ZGE0OGQ2ZTJhZWEwN2IwZTcpCiAgICAgICAgICAgIDsKCiAgICAgICAgICAgIAogICAgICAgIAogICAgCiAgICAgICAgdmFyIG1hcmtlcl9jMzc4OGUwMjIwM2Q0YjQ4YWIyYjQxYzI3NWE0MDAxYyA9IEwubWFya2VyKAogICAgICAgICAgICBbNTEuMDUzMjc1NDAyMiwgNC4xODkwNTM3NzI2Nl0sCiAgICAgICAgICAgIHsKICAgICAgICAgICAgICAgIGljb246IG5ldyBMLkljb24uRGVmYXVsdCgpCiAgICAgICAgICAgICAgICB9CiAgICAgICAgICAgICkuYWRkVG8obWFya2VyX2NsdXN0ZXJfYmFmMDNhZWQwMmYzNDI4NmE4NTNhMmE5YmQ1YWY1ZGYpOwogICAgICAgIAogICAgCiAgICAgICAgICAgIHZhciBwb3B1cF8yY2I0YTAyMjgwYmE0NGU3YjhiNWNjODExM2I2MzU0NCA9IEwucG9wdXAoe21heFdpZHRoOiAnMzAwJwogICAgICAgICAgICAKICAgICAgICAgICAgfSk7CgogICAgICAgICAgICAKICAgICAgICAgICAgICAgIHZhciBodG1sXzkwODc0N2U0MzNmNDQwN2M4MGJmNDM3YzNiZWVlYzkxID0gJCgnPGRpdiBpZD0iaHRtbF85MDg3NDdlNDMzZjQ0MDdjODBiZjQzN2MzYmVlZWM5MSIgc3R5bGU9IndpZHRoOiAxMDAuMCU7IGhlaWdodDogMTAwLjAlOyI+R1daUDAwOTwvZGl2PicpWzBdOwogICAgICAgICAgICAgICAgcG9wdXBfMmNiNGEwMjI4MGJhNDRlN2I4YjVjYzgxMTNiNjM1NDQuc2V0Q29udGVudChodG1sXzkwODc0N2U0MzNmNDQwN2M4MGJmNDM3YzNiZWVlYzkxKTsKICAgICAgICAgICAgCgogICAgICAgICAgICBtYXJrZXJfYzM3ODhlMDIyMDNkNGI0OGFiMmI0MWMyNzVhNDAwMWMuYmluZFBvcHVwKHBvcHVwXzJjYjRhMDIyODBiYTQ0ZTdiOGI1Y2M4MTEzYjYzNTQ0KQogICAgICAgICAgICA7CgogICAgICAgICAgICAKICAgICAgICAKICAgIAogICAgICAgIHZhciBtYXJrZXJfNGI2Y2JlMTQ5OGUzNGNlYzhjYmQ5Zjk5OTU3NzZkNTAgPSBMLm1hcmtlcigKICAgICAgICAgICAgWzUxLjA1MTYxMzcyODUsIDQuMTg5OTAxNTU5NjFdLAogICAgICAgICAgICB7CiAgICAgICAgICAgICAgICBpY29uOiBuZXcgTC5JY29uLkRlZmF1bHQoKQogICAgICAgICAgICAgICAgfQogICAgICAgICAgICApLmFkZFRvKG1hcmtlcl9jbHVzdGVyX2JhZjAzYWVkMDJmMzQyODZhODUzYTJhOWJkNWFmNWRmKTsKICAgICAgICAKICAgIAogICAgICAgICAgICB2YXIgcG9wdXBfMDgzYjRmNmRjNTdmNGM2Mjg3N2RmMGQ1YzY0NTc4YWYgPSBMLnBvcHVwKHttYXhXaWR0aDogJzMwMCcKICAgICAgICAgICAgCiAgICAgICAgICAgIH0pOwoKICAgICAgICAgICAgCiAgICAgICAgICAgICAgICB2YXIgaHRtbF8yZmFiYTE5OTFkYTg0YWY0OTFmNjQyZTk0YWIzMDlmMiA9ICQoJzxkaXYgaWQ9Imh0bWxfMmZhYmExOTkxZGE4NGFmNDkxZjY0MmU5NGFiMzA5ZjIiIHN0eWxlPSJ3aWR0aDogMTAwLjAlOyBoZWlnaHQ6IDEwMC4wJTsiPkdXWlAwMTA8L2Rpdj4nKVswXTsKICAgICAgICAgICAgICAgIHBvcHVwXzA4M2I0ZjZkYzU3ZjRjNjI4NzdkZjBkNWM2NDU3OGFmLnNldENvbnRlbnQoaHRtbF8yZmFiYTE5OTFkYTg0YWY0OTFmNjQyZTk0YWIzMDlmMik7CiAgICAgICAgICAgIAoKICAgICAgICAgICAgbWFya2VyXzRiNmNiZTE0OThlMzRjZWM4Y2JkOWY5OTk1Nzc2ZDUwLmJpbmRQb3B1cChwb3B1cF8wODNiNGY2ZGM1N2Y0YzYyODc3ZGYwZDVjNjQ1NzhhZikKICAgICAgICAgICAgOwoKICAgICAgICAgICAgCiAgICAgICAgCiAgICAKICAgICAgICB2YXIgbWFya2VyX2U5NDRkYjYyMGFhYzRkMDNhYTQ2ZWY3YjRmODA5MGU0ID0gTC5tYXJrZXIoCiAgICAgICAgICAgIFs1MS4wNTU3OTk5MTY3LCA0LjE4ODE0NTU1Nzk3XSwKICAgICAgICAgICAgewogICAgICAgICAgICAgICAgaWNvbjogbmV3IEwuSWNvbi5EZWZhdWx0KCkKICAgICAgICAgICAgICAgIH0KICAgICAgICAgICAgKS5hZGRUbyhtYXJrZXJfY2x1c3Rlcl9iYWYwM2FlZDAyZjM0Mjg2YTg1M2EyYTliZDVhZjVkZik7CiAgICAgICAgCiAgICAKICAgICAgICAgICAgdmFyIHBvcHVwX2ZhNmY4ZDBmOGJlMzRlZjA4NzUwYzMyZjRkMGNiYWU0ID0gTC5wb3B1cCh7bWF4V2lkdGg6ICczMDAnCiAgICAgICAgICAgIAogICAgICAgICAgICB9KTsKCiAgICAgICAgICAgIAogICAgICAgICAgICAgICAgdmFyIGh0bWxfOTIxZjhmNmFjMzA2NGMwYWFmMmExMjE3NzRhM2RhNzggPSAkKCc8ZGl2IGlkPSJodG1sXzkyMWY4ZjZhYzMwNjRjMGFhZjJhMTIxNzc0YTNkYTc4IiBzdHlsZT0id2lkdGg6IDEwMC4wJTsgaGVpZ2h0OiAxMDAuMCU7Ij5HV1pQMDExPC9kaXY+JylbMF07CiAgICAgICAgICAgICAgICBwb3B1cF9mYTZmOGQwZjhiZTM0ZWYwODc1MGMzMmY0ZDBjYmFlNC5zZXRDb250ZW50KGh0bWxfOTIxZjhmNmFjMzA2NGMwYWFmMmExMjE3NzRhM2RhNzgpOwogICAgICAgICAgICAKCiAgICAgICAgICAgIG1hcmtlcl9lOTQ0ZGI2MjBhYWM0ZDAzYWE0NmVmN2I0ZjgwOTBlNC5iaW5kUG9wdXAocG9wdXBfZmE2ZjhkMGY4YmUzNGVmMDg3NTBjMzJmNGQwY2JhZTQpCiAgICAgICAgICAgIDsKCiAgICAgICAgICAgIAogICAgICAgIAo8L3NjcmlwdD4=\" style=\"position:absolute;width:100%;height:100%;left:0;top:0;border:none !important;\" allowfullscreen webkitallowfullscreen mozallowfullscreen></iframe></div></div>"
      ],
      "text/plain": [
       "<folium.folium.Map at 0x149c6320>"
      ]
     },
     "execution_count": 30,
     "metadata": {},
     "output_type": "execute_result"
    }
   ],
   "source": [
    "# initialize the Folium map on the centre of the selected locations, play with the zoom until ok\n",
    "fmap = folium.Map(location=[df_hamme['lat'].mean(), df_hamme['lon'].mean()], zoom_start=12)\n",
    "marker_cluster = MarkerCluster().add_to(fmap)\n",
    "for loc in range(0, len(loclist)):\n",
    "    folium.Marker(loclist[loc], popup=df_hamme['gw_id'][loc]).add_to(marker_cluster)\n",
    "fmap\n"
   ]
  },
  {
   "cell_type": "code",
   "execution_count": null,
   "metadata": {
    "collapsed": true
   },
   "outputs": [],
   "source": []
  }
 ],
 "metadata": {
  "kernelspec": {
   "display_name": "Python 3",
   "language": "python",
   "name": "python3"
  },
  "language_info": {
   "codemirror_mode": {
    "name": "ipython",
    "version": 3
   },
   "file_extension": ".py",
   "mimetype": "text/x-python",
   "name": "python",
   "nbconvert_exporter": "python",
   "pygments_lexer": "ipython3",
   "version": "3.7.0"
  }
 },
 "nbformat": 4,
 "nbformat_minor": 2
}
