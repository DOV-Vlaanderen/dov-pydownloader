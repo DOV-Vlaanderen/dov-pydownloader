{
 "cells": [
  {
   "cell_type": "markdown",
   "metadata": {},
   "source": [
    "# Example of DOV search methods for bodem objects"
   ]
  },
  {
   "cell_type": "markdown",
   "metadata": {},
   "source": [
    "[![Binder](https://mybinder.org/badge_logo.svg)](https://mybinder.org/v2/gh/DOV-Vlaanderen/pydov/master?filepath=docs%2Fnotebooks%2Fsearch_boringen.ipynb)"
   ]
  },
  {
   "cell_type": "markdown",
   "metadata": {},
   "source": [
    "## Use cases explained below\n",
    "* Introduction to the bodem-objects\n",
    "* Get bodemsites in a bounding box\n",
    "* Get bodemlocaties with specific properties\n",
    "* Get all direct and indirect bodemobservaties in bodemlocatie\n"
   ]
  },
  {
   "cell_type": "code",
   "execution_count": 1,
   "metadata": {},
   "outputs": [],
   "source": [
    "%matplotlib inline\n",
    "import inspect, sys\n",
    "import warnings; warnings.simplefilter('ignore')"
   ]
  },
  {
   "cell_type": "code",
   "execution_count": 2,
   "metadata": {},
   "outputs": [],
   "source": [
    "# check pydov path\n",
    "import pydov"
   ]
  },
  {
   "cell_type": "markdown",
   "metadata": {},
   "source": [
    "## Get information about the datatype 'Bodemlocatie'"
   ]
  },
  {
   "cell_type": "markdown",
   "metadata": {},
   "source": [
    "Other datatypes are also possible:\n",
    "* Bodemsite: BodemsiteSearch\n",
    "* Bodemmonster: BodemmonsterSearch\n",
    "* Bodemobservatie: BodemobservatieSearch"
   ]
  },
  {
   "cell_type": "code",
   "execution_count": 3,
   "metadata": {},
   "outputs": [],
   "source": [
    "from pydov.search.bodemlocatie import BodemlocatieSearch\n",
    "bodemlocatie = BodemlocatieSearch()"
   ]
  },
  {
   "cell_type": "markdown",
   "metadata": {},
   "source": [
    "A description is provided for the 'Bodemlocatie' datatype:"
   ]
  },
  {
   "cell_type": "code",
   "execution_count": 4,
   "metadata": {},
   "outputs": [
    {
     "data": {
      "text/plain": [
       "\"Een bodemlocatie is ofwel een profielput of een boring. Een boring is altijd één puntlocatie (x,y,z) en een profielput heeft minimum één en maximum twee puntlocaties (begin- en eindpunt van de profielput). \\r\\nEen profielput is een uitgegraven put in de bodem waarin profielbeschrijvingen, monsternames of bodemobservaties worden uitgevoerd. Een profielbeschrijving is een waarneming van bodemhorizonten en/of bodemlagen in een uitgegraven profielput. Een bodemhorizont is een visueel te onderscheiden deel van de bodem dat ontstaan is door omzetting van het moedermateriaal door pedogenetische processen of door het afzetten van organisch materiaal. Een bodemhorizont heeft voor de meeste bodemvariabelen homogene morfologische en analytische karakteristieken. Een bodemlaag daarentegen is ontstaan door niet-pedogenetische processen. Aan de hand van een profielput krijg je een beeld van de bodemkundige opbouw.\\r\\nEen boring is het resultaat van het boren in de ondergrond met verwijdering van bodem door middel van een gereedschap in de vorm van een holle buis. Aan de hand van dit opgeboorde bodemmateriaal worden bodembeschrijvingen, bodemobservaties en monsternames uitgevoerd.\\r\\nDe bodemlocaties uit de 'Aardewerk-Vlaanderen-2010' databank worden afzonderlijk ontsloten in de datasets 'Bodemprofielen kartering Belgische bodemkaart' en 'Oppervlaktemonsters kartering Belgische bodemkaart'.\""
      ]
     },
     "execution_count": 4,
     "metadata": {},
     "output_type": "execute_result"
    }
   ],
   "source": [
    "bodemlocatie.get_description()"
   ]
  },
  {
   "cell_type": "markdown",
   "metadata": {},
   "source": [
    "The different fields that are available for objects of the 'Bodemlocatie' datatype can be requested with the get_fields() method:"
   ]
  },
  {
   "cell_type": "code",
   "execution_count": 5,
   "metadata": {},
   "outputs": [
    {
     "name": "stdout",
     "output_type": "stream",
     "text": [
      "naam\n",
      "pkey_bodemlocatie\n",
      "type\n",
      "rapport_bodemlocatie\n",
      "profielbeschrijving\n",
      "datum\n",
      "doel\n",
      "x\n",
      "y\n",
      "z\n",
      "Auteurs\n",
      "Aantal_classificaties\n",
      "Aantal_opbouwen\n",
      "erfgoed\n",
      "Aantal_observaties\n",
      "Aantal_monsters\n",
      "bodemstreek\n",
      "Bodemsite\n",
      "Opdrachten\n",
      "waarnemingsdatum\n",
      "invoerdatum\n",
      "educatieve_waarde\n"
     ]
    }
   ],
   "source": [
    "fields = bodemlocatie.get_fields()\n",
    "\n",
    "# print available fields\n",
    "for f in fields.values():\n",
    "    print(f['name'])"
   ]
  },
  {
   "cell_type": "markdown",
   "metadata": {},
   "source": [
    "You can get more information of a field by requesting it from the fields dictionary:\n",
    "* *name*: name of the field\n",
    "* *definition*: definition of this field\n",
    "* *cost*: currently this is either 1 or 10, depending on the datasource of the field. It is an indication of the expected time it will take to retrieve this field in the output dataframe.\n",
    "* *notnull*: whether the field is mandatory or not\n",
    "* *type*: datatype of the values of this field"
   ]
  },
  {
   "cell_type": "code",
   "execution_count": 6,
   "metadata": {},
   "outputs": [
    {
     "data": {
      "text/plain": [
       "{'name': 'type',\n",
       " 'definition': 'Het type van de bodemlocatie: boring of profielput.',\n",
       " 'type': 'string',\n",
       " 'notnull': False,\n",
       " 'query': True,\n",
       " 'cost': 1,\n",
       " 'values': {'boring': 'Een boring is het resultaat van het boren in de ondergrond met verwijdering van bodem door middel van een gereedschap in de vorm van een holle buis. Aan de hand van dit opgeboorde bodemmateriaal worden bodembeschrijvingen, bodemobservaties en monsternames uitgevoerd.',\n",
       "  'profielput': 'Een profielput is een uitgegraven put in de bodem waarin profielbeschrijvingen, monsternames of bodemobservaties worden uitgevoerd. Een profielbeschrijving is een waarneming van bodemhorizonten en/of bodemlagen in een uitgegraven profielput. Een bodemhorizont is een visueel te onderscheiden deel van de bodem dat ontstaan is door omzetting van het moedermateriaal door pedogenetische processen of door het afzetten van organisch materiaal. Een bodemhorizont heeft voor de meeste bodemvariabelen homogene morfologische en analytische karakteristieken. Een bodemlaag daarentegen is ontstaan door niet-pedogenetische processen. Aan de hand van een profielput krijg je een beeld van de bodemkundige opbouw.'}}"
      ]
     },
     "execution_count": 6,
     "metadata": {},
     "output_type": "execute_result"
    }
   ],
   "source": [
    "fields['type']"
   ]
  },
  {
   "cell_type": "markdown",
   "metadata": {},
   "source": [
    "Optionally, if the values of the field have a specific domain the possible values are listed as *values*:"
   ]
  },
  {
   "cell_type": "code",
   "execution_count": 7,
   "metadata": {},
   "outputs": [
    {
     "data": {
      "text/plain": [
       "{'boring': 'Een boring is het resultaat van het boren in de ondergrond met verwijdering van bodem door middel van een gereedschap in de vorm van een holle buis. Aan de hand van dit opgeboorde bodemmateriaal worden bodembeschrijvingen, bodemobservaties en monsternames uitgevoerd.',\n",
       " 'profielput': 'Een profielput is een uitgegraven put in de bodem waarin profielbeschrijvingen, monsternames of bodemobservaties worden uitgevoerd. Een profielbeschrijving is een waarneming van bodemhorizonten en/of bodemlagen in een uitgegraven profielput. Een bodemhorizont is een visueel te onderscheiden deel van de bodem dat ontstaan is door omzetting van het moedermateriaal door pedogenetische processen of door het afzetten van organisch materiaal. Een bodemhorizont heeft voor de meeste bodemvariabelen homogene morfologische en analytische karakteristieken. Een bodemlaag daarentegen is ontstaan door niet-pedogenetische processen. Aan de hand van een profielput krijg je een beeld van de bodemkundige opbouw.'}"
      ]
     },
     "execution_count": 7,
     "metadata": {},
     "output_type": "execute_result"
    }
   ],
   "source": [
    "fields['type']['values']"
   ]
  },
  {
   "cell_type": "markdown",
   "metadata": {},
   "source": [
    "## Example use cases"
   ]
  },
  {
   "cell_type": "markdown",
   "metadata": {},
   "source": [
    "### Get bodemsites in a bounding box"
   ]
  },
  {
   "cell_type": "markdown",
   "metadata": {},
   "source": [
    "Get data for all the bodemsites that are geographically located completely within the bounds of the specified box.\n",
    "\n",
    "The coordinates are in the Belgian Lambert72 (EPSG:31370) coordinate system and are given in the order of lower left x, lower left y, upper right x, upper right y."
   ]
  },
  {
   "cell_type": "markdown",
   "metadata": {},
   "source": [
    "The same methods can be used for other bodem-objects."
   ]
  },
  {
   "cell_type": "code",
   "execution_count": 8,
   "metadata": {},
   "outputs": [],
   "source": [
    "from pydov.search.bodemsite import BodemsiteSearch\n",
    "bodemsite = BodemsiteSearch()"
   ]
  },
  {
   "cell_type": "code",
   "execution_count": 9,
   "metadata": {},
   "outputs": [
    {
     "name": "stdout",
     "output_type": "stream",
     "text": [
      "[000/007] ccccccc\n"
     ]
    },
    {
     "data": {
      "text/html": [
       "<div>\n",
       "<style scoped>\n",
       "    .dataframe tbody tr th:only-of-type {\n",
       "        vertical-align: middle;\n",
       "    }\n",
       "\n",
       "    .dataframe tbody tr th {\n",
       "        vertical-align: top;\n",
       "    }\n",
       "\n",
       "    .dataframe thead th {\n",
       "        text-align: right;\n",
       "    }\n",
       "</style>\n",
       "<table border=\"1\" class=\"dataframe\">\n",
       "  <thead>\n",
       "    <tr style=\"text-align: right;\">\n",
       "      <th></th>\n",
       "      <th>pkey_bodemsite</th>\n",
       "      <th>naam</th>\n",
       "      <th>datum</th>\n",
       "      <th>beschrijving</th>\n",
       "      <th>waarnemingsdatum</th>\n",
       "      <th>invoerdatum</th>\n",
       "    </tr>\n",
       "  </thead>\n",
       "  <tbody>\n",
       "    <tr>\n",
       "      <th>0</th>\n",
       "      <td>https://www.dov.vlaanderen.be/data/bodemsite/2...</td>\n",
       "      <td>Zoniënwoud_Groenendaal</td>\n",
       "      <td>NaN</td>\n",
       "      <td>Zachte helling op plateau, Bodem nooit onder l...</td>\n",
       "      <td>NaN</td>\n",
       "      <td>NaN</td>\n",
       "    </tr>\n",
       "    <tr>\n",
       "      <th>1</th>\n",
       "      <td>https://www.dov.vlaanderen.be/data/bodemsite/2...</td>\n",
       "      <td>Zoniënwoud_Rood Klooster</td>\n",
       "      <td>NaN</td>\n",
       "      <td>Zeer zachte helling op plateau</td>\n",
       "      <td>NaN</td>\n",
       "      <td>NaN</td>\n",
       "    </tr>\n",
       "    <tr>\n",
       "      <th>2</th>\n",
       "      <td>https://www.dov.vlaanderen.be/data/bodemsite/1...</td>\n",
       "      <td>Zoniënwoud_Tertiair</td>\n",
       "      <td>1983-01-01</td>\n",
       "      <td>NNW gerichte helling van een 10% langs vallei ...</td>\n",
       "      <td>1983-01-01</td>\n",
       "      <td>NaN</td>\n",
       "    </tr>\n",
       "    <tr>\n",
       "      <th>3</th>\n",
       "      <td>https://www.dov.vlaanderen.be/data/bodemsite/2...</td>\n",
       "      <td>Zoniënwoud_Sint_Hubertusdreef</td>\n",
       "      <td>NaN</td>\n",
       "      <td>Hoofd van een concave droge vallei (del), depr...</td>\n",
       "      <td>NaN</td>\n",
       "      <td>NaN</td>\n",
       "    </tr>\n",
       "    <tr>\n",
       "      <th>4</th>\n",
       "      <td>https://www.dov.vlaanderen.be/data/bodemsite/2...</td>\n",
       "      <td>Watermaal-Bosvoorde_Zoniënwoud</td>\n",
       "      <td>2011-06-14</td>\n",
       "      <td>bos</td>\n",
       "      <td>2011-06-14</td>\n",
       "      <td>NaN</td>\n",
       "    </tr>\n",
       "  </tbody>\n",
       "</table>\n",
       "</div>"
      ],
      "text/plain": [
       "                                      pkey_bodemsite  \\\n",
       "0  https://www.dov.vlaanderen.be/data/bodemsite/2...   \n",
       "1  https://www.dov.vlaanderen.be/data/bodemsite/2...   \n",
       "2  https://www.dov.vlaanderen.be/data/bodemsite/1...   \n",
       "3  https://www.dov.vlaanderen.be/data/bodemsite/2...   \n",
       "4  https://www.dov.vlaanderen.be/data/bodemsite/2...   \n",
       "\n",
       "                             naam       datum  \\\n",
       "0          Zoniënwoud_Groenendaal         NaN   \n",
       "1        Zoniënwoud_Rood Klooster         NaN   \n",
       "2             Zoniënwoud_Tertiair  1983-01-01   \n",
       "3   Zoniënwoud_Sint_Hubertusdreef         NaN   \n",
       "4  Watermaal-Bosvoorde_Zoniënwoud  2011-06-14   \n",
       "\n",
       "                                        beschrijving waarnemingsdatum  \\\n",
       "0  Zachte helling op plateau, Bodem nooit onder l...              NaN   \n",
       "1                     Zeer zachte helling op plateau              NaN   \n",
       "2  NNW gerichte helling van een 10% langs vallei ...       1983-01-01   \n",
       "3  Hoofd van een concave droge vallei (del), depr...              NaN   \n",
       "4                                                bos       2011-06-14   \n",
       "\n",
       "   invoerdatum  \n",
       "0          NaN  \n",
       "1          NaN  \n",
       "2          NaN  \n",
       "3          NaN  \n",
       "4          NaN  "
      ]
     },
     "execution_count": 9,
     "metadata": {},
     "output_type": "execute_result"
    }
   ],
   "source": [
    "from pydov.util.location import Within, Box\n",
    "\n",
    "df = bodemsite.search(location=Within(Box(148000, 160800, 160000, 169500)))\n",
    "df.head()"
   ]
  },
  {
   "cell_type": "markdown",
   "metadata": {},
   "source": [
    "The dataframe contains a list of bodemsites. The available data are flattened to represent unique attributes per row of the dataframe.\n",
    "\n",
    "Using the *pkey_bodemsite* field one can request the details of this bodemsite in a webbrowser:"
   ]
  },
  {
   "cell_type": "code",
   "execution_count": 10,
   "metadata": {},
   "outputs": [
    {
     "name": "stdout",
     "output_type": "stream",
     "text": [
      "https://www.dov.vlaanderen.be/data/bodemsite/2017-000215\n",
      "https://www.dov.vlaanderen.be/data/bodemsite/1983-000216\n",
      "https://www.dov.vlaanderen.be/data/bodemsite/2011-000247\n",
      "https://www.dov.vlaanderen.be/data/bodemsite/2017-000305\n",
      "https://www.dov.vlaanderen.be/data/bodemsite/2017-000229\n",
      "https://www.dov.vlaanderen.be/data/bodemsite/2017-000210\n",
      "https://www.dov.vlaanderen.be/data/bodemsite/2017-000306\n"
     ]
    }
   ],
   "source": [
    "for pkey_bodemsite in set(df.pkey_bodemsite):\n",
    "    print(pkey_bodemsite)"
   ]
  },
  {
   "cell_type": "markdown",
   "metadata": {},
   "source": [
    "### Get bodemlocaties with specific properties"
   ]
  },
  {
   "cell_type": "markdown",
   "metadata": {},
   "source": [
    "Next to querying bodem objects based on their geographic location within a bounding box, we can also search for bodem objects matching a specific set of properties. \n",
    "The same methods can be used for all bodem\n",
    "For this we can build a query using a combination of the 'Bodemlocatie' fields and operators provided by the WFS protocol.\n",
    "\n",
    "A list of possible operators can be found below:"
   ]
  },
  {
   "cell_type": "code",
   "execution_count": 11,
   "metadata": {},
   "outputs": [
    {
     "data": {
      "text/plain": [
       "['PropertyIsBetween',\n",
       " 'PropertyIsEqualTo',\n",
       " 'PropertyIsGreaterThan',\n",
       " 'PropertyIsGreaterThanOrEqualTo',\n",
       " 'PropertyIsLessThan',\n",
       " 'PropertyIsLessThanOrEqualTo',\n",
       " 'PropertyIsLike',\n",
       " 'PropertyIsNotEqualTo',\n",
       " 'PropertyIsNull',\n",
       " 'SortProperty']"
      ]
     },
     "execution_count": 11,
     "metadata": {},
     "output_type": "execute_result"
    }
   ],
   "source": [
    "[i for i,j in inspect.getmembers(sys.modules['owslib.fes'], inspect.isclass) if 'Property' in i]"
   ]
  },
  {
   "cell_type": "markdown",
   "metadata": {},
   "source": [
    "In this example we build a query using the *PropertyIsEqualTo* operator to find all bodemlocaties with bodemstreek 'zandstreek'.\n",
    "We use *max_features=10* to limit the results to 10."
   ]
  },
  {
   "cell_type": "code",
   "execution_count": 12,
   "metadata": {},
   "outputs": [
    {
     "name": "stdout",
     "output_type": "stream",
     "text": [
      "[000/010] cccccccccc\n"
     ]
    },
    {
     "data": {
      "text/html": [
       "<div>\n",
       "<style scoped>\n",
       "    .dataframe tbody tr th:only-of-type {\n",
       "        vertical-align: middle;\n",
       "    }\n",
       "\n",
       "    .dataframe tbody tr th {\n",
       "        vertical-align: top;\n",
       "    }\n",
       "\n",
       "    .dataframe thead th {\n",
       "        text-align: right;\n",
       "    }\n",
       "</style>\n",
       "<table border=\"1\" class=\"dataframe\">\n",
       "  <thead>\n",
       "    <tr style=\"text-align: right;\">\n",
       "      <th></th>\n",
       "      <th>pkey_bodemlocatie</th>\n",
       "      <th>naam</th>\n",
       "      <th>type</th>\n",
       "      <th>datum</th>\n",
       "      <th>doel</th>\n",
       "      <th>x</th>\n",
       "      <th>y</th>\n",
       "      <th>z</th>\n",
       "      <th>erfgoed</th>\n",
       "      <th>bodemstreek</th>\n",
       "      <th>waarnemingsdatum</th>\n",
       "      <th>invoerdatum</th>\n",
       "      <th>educatieve_waarde</th>\n",
       "    </tr>\n",
       "  </thead>\n",
       "  <tbody>\n",
       "    <tr>\n",
       "      <th>0</th>\n",
       "      <td>https://www.dov.vlaanderen.be/data/bodemlocati...</td>\n",
       "      <td>KULEU_30</td>\n",
       "      <td>profielput</td>\n",
       "      <td>2012-05-14</td>\n",
       "      <td>bodemkundige opbouw</td>\n",
       "      <td>160992.14</td>\n",
       "      <td>196155.14</td>\n",
       "      <td>5.00</td>\n",
       "      <td>True</td>\n",
       "      <td>Zandstreek</td>\n",
       "      <td>2012-05-14</td>\n",
       "      <td>2012-05-14</td>\n",
       "      <td>ZEER</td>\n",
       "    </tr>\n",
       "    <tr>\n",
       "      <th>1</th>\n",
       "      <td>https://www.dov.vlaanderen.be/data/bodemlocati...</td>\n",
       "      <td>INBO_2</td>\n",
       "      <td>profielput</td>\n",
       "      <td>2007-05-04</td>\n",
       "      <td>bodemkundige opbouw</td>\n",
       "      <td>56598.44</td>\n",
       "      <td>196314.35</td>\n",
       "      <td>20.00</td>\n",
       "      <td>True</td>\n",
       "      <td>Zandstreek</td>\n",
       "      <td>2007-05-04</td>\n",
       "      <td>2007-05-04</td>\n",
       "      <td>OK</td>\n",
       "    </tr>\n",
       "    <tr>\n",
       "      <th>2</th>\n",
       "      <td>https://www.dov.vlaanderen.be/data/bodemlocati...</td>\n",
       "      <td>KULEU_15</td>\n",
       "      <td>profielput</td>\n",
       "      <td>2010-06-06</td>\n",
       "      <td>bodemkundige opbouw</td>\n",
       "      <td>175001.18</td>\n",
       "      <td>177459.73</td>\n",
       "      <td>65.58</td>\n",
       "      <td>True</td>\n",
       "      <td>Zandstreek</td>\n",
       "      <td>2010-06-06</td>\n",
       "      <td>2010-06-06</td>\n",
       "      <td>ZEER</td>\n",
       "    </tr>\n",
       "    <tr>\n",
       "      <th>3</th>\n",
       "      <td>https://www.dov.vlaanderen.be/data/bodemlocati...</td>\n",
       "      <td>BAAC_12</td>\n",
       "      <td>profielput</td>\n",
       "      <td>2012-07-31</td>\n",
       "      <td>archeologische landschappelijke profielputten</td>\n",
       "      <td>155631.46</td>\n",
       "      <td>184083.61</td>\n",
       "      <td>11.00</td>\n",
       "      <td>True</td>\n",
       "      <td>Zandstreek</td>\n",
       "      <td>2012-07-31</td>\n",
       "      <td>2012-07-31</td>\n",
       "      <td>ZEER</td>\n",
       "    </tr>\n",
       "    <tr>\n",
       "      <th>4</th>\n",
       "      <td>https://www.dov.vlaanderen.be/data/bodemlocati...</td>\n",
       "      <td>ILVO_1</td>\n",
       "      <td>profielput</td>\n",
       "      <td>2012-11-20</td>\n",
       "      <td>bodemkundige opbouw</td>\n",
       "      <td>108115.73</td>\n",
       "      <td>185850.71</td>\n",
       "      <td>32.00</td>\n",
       "      <td>True</td>\n",
       "      <td>Zandstreek</td>\n",
       "      <td>2012-11-20</td>\n",
       "      <td>2012-11-20</td>\n",
       "      <td>ZEER</td>\n",
       "    </tr>\n",
       "  </tbody>\n",
       "</table>\n",
       "</div>"
      ],
      "text/plain": [
       "                                   pkey_bodemlocatie      naam        type  \\\n",
       "0  https://www.dov.vlaanderen.be/data/bodemlocati...  KULEU_30  profielput   \n",
       "1  https://www.dov.vlaanderen.be/data/bodemlocati...    INBO_2  profielput   \n",
       "2  https://www.dov.vlaanderen.be/data/bodemlocati...  KULEU_15  profielput   \n",
       "3  https://www.dov.vlaanderen.be/data/bodemlocati...   BAAC_12  profielput   \n",
       "4  https://www.dov.vlaanderen.be/data/bodemlocati...    ILVO_1  profielput   \n",
       "\n",
       "        datum                                           doel          x  \\\n",
       "0  2012-05-14                            bodemkundige opbouw  160992.14   \n",
       "1  2007-05-04                            bodemkundige opbouw   56598.44   \n",
       "2  2010-06-06                            bodemkundige opbouw  175001.18   \n",
       "3  2012-07-31  archeologische landschappelijke profielputten  155631.46   \n",
       "4  2012-11-20                            bodemkundige opbouw  108115.73   \n",
       "\n",
       "           y      z  erfgoed bodemstreek waarnemingsdatum invoerdatum  \\\n",
       "0  196155.14   5.00     True  Zandstreek       2012-05-14  2012-05-14   \n",
       "1  196314.35  20.00     True  Zandstreek       2007-05-04  2007-05-04   \n",
       "2  177459.73  65.58     True  Zandstreek       2010-06-06  2010-06-06   \n",
       "3  184083.61  11.00     True  Zandstreek       2012-07-31  2012-07-31   \n",
       "4  185850.71  32.00     True  Zandstreek       2012-11-20  2012-11-20   \n",
       "\n",
       "  educatieve_waarde  \n",
       "0              ZEER  \n",
       "1                OK  \n",
       "2              ZEER  \n",
       "3              ZEER  \n",
       "4              ZEER  "
      ]
     },
     "execution_count": 12,
     "metadata": {},
     "output_type": "execute_result"
    }
   ],
   "source": [
    "from owslib.fes import PropertyIsEqualTo\n",
    "\n",
    "query = PropertyIsEqualTo(propertyname='bodemstreek',\n",
    "                          literal='Zandstreek')\n",
    "df = bodemlocatie.search(query=query, max_features=10)\n",
    "\n",
    "df.head()"
   ]
  },
  {
   "cell_type": "markdown",
   "metadata": {},
   "source": [
    "Once again we can use the *pkey_bodemlocatie* as a permanent link to the information of these bodemlocaties:"
   ]
  },
  {
   "cell_type": "code",
   "execution_count": 13,
   "metadata": {},
   "outputs": [
    {
     "name": "stdout",
     "output_type": "stream",
     "text": [
      "https://www.dov.vlaanderen.be/data/bodemlocatie/2014-000039\n",
      "https://www.dov.vlaanderen.be/data/bodemlocatie/2013-000048\n",
      "https://www.dov.vlaanderen.be/data/bodemlocatie/2012-000041\n",
      "https://www.dov.vlaanderen.be/data/bodemlocatie/2010-000014\n",
      "https://www.dov.vlaanderen.be/data/bodemlocatie/2012-000026\n",
      "https://www.dov.vlaanderen.be/data/bodemlocatie/2007-000102\n",
      "https://www.dov.vlaanderen.be/data/bodemlocatie/2012-000027\n",
      "https://www.dov.vlaanderen.be/data/bodemlocatie/2012-000033\n",
      "https://www.dov.vlaanderen.be/data/bodemlocatie/2014-000040\n",
      "https://www.dov.vlaanderen.be/data/bodemlocatie/2012-000028\n"
     ]
    }
   ],
   "source": [
    "for pkey_bodemlocatie in set(df.pkey_bodemlocatie):\n",
    "    print(pkey_bodemlocatie)"
   ]
  },
  {
   "cell_type": "markdown",
   "metadata": {},
   "source": [
    "### Get all direct and indirect bodemobservaties in bodemlocatie"
   ]
  },
  {
   "cell_type": "markdown",
   "metadata": {},
   "source": [
    "Get all bodemobservaties in a specific bodemlocatie.\n",
    "Direct means bodemobservaties directly linked with a bodemlocatie.\n",
    "Indirect means bodemobservaties linked with child-objects of the bodemlocatie, like bodemmonsters."
   ]
  },
  {
   "cell_type": "code",
   "execution_count": 14,
   "metadata": {},
   "outputs": [],
   "source": [
    "from pydov.search.bodemobservatie import BodemobservatieSearch\n",
    "from pydov.search.bodemlocatie import BodemlocatieSearch\n",
    "bodemobservatie = BodemobservatieSearch()\n",
    "bodemlocatie = BodemlocatieSearch()"
   ]
  },
  {
   "cell_type": "code",
   "execution_count": 15,
   "metadata": {},
   "outputs": [
    {
     "name": "stdout",
     "output_type": "stream",
     "text": [
      "[000/021] ccccccccccccccccccccc\n"
     ]
    },
    {
     "data": {
      "text/html": [
       "<div>\n",
       "<style scoped>\n",
       "    .dataframe tbody tr th:only-of-type {\n",
       "        vertical-align: middle;\n",
       "    }\n",
       "\n",
       "    .dataframe tbody tr th {\n",
       "        vertical-align: top;\n",
       "    }\n",
       "\n",
       "    .dataframe thead th {\n",
       "        text-align: right;\n",
       "    }\n",
       "</style>\n",
       "<table border=\"1\" class=\"dataframe\">\n",
       "  <thead>\n",
       "    <tr style=\"text-align: right;\">\n",
       "      <th></th>\n",
       "      <th>pkey_bodemobservatie</th>\n",
       "      <th>pkey_bodemlocatie</th>\n",
       "      <th>Aan</th>\n",
       "      <th>pkey_parent</th>\n",
       "      <th>parameter</th>\n",
       "      <th>parametergroep</th>\n",
       "      <th>waarde</th>\n",
       "      <th>eenheid</th>\n",
       "      <th>ondergrens</th>\n",
       "      <th>bovengrens</th>\n",
       "      <th>methode</th>\n",
       "      <th>betrouwbaarheid</th>\n",
       "      <th>veld_labo</th>\n",
       "      <th>diepte_van</th>\n",
       "      <th>diepte_tot</th>\n",
       "      <th>observatiedatum</th>\n",
       "      <th>invoerdatum</th>\n",
       "    </tr>\n",
       "  </thead>\n",
       "  <tbody>\n",
       "    <tr>\n",
       "      <th>0</th>\n",
       "      <td>https://www.dov.vlaanderen.be/data/bodemobserv...</td>\n",
       "      <td>https://www.dov.vlaanderen.be/data/bodemlocati...</td>\n",
       "      <td>bodemmonster</td>\n",
       "      <td>https://www.dov.vlaanderen.be/data/bodemmonste...</td>\n",
       "      <td>Textuurfracties</td>\n",
       "      <td>Bodem_fysisch_textuur</td>\n",
       "      <td>Fractiemetingen</td>\n",
       "      <td>%</td>\n",
       "      <td>NaN</td>\n",
       "      <td>NaN</td>\n",
       "      <td>Textuur pipetmethode Robinson-Köhn</td>\n",
       "      <td>goed</td>\n",
       "      <td>labo</td>\n",
       "      <td>40.0</td>\n",
       "      <td>85.0</td>\n",
       "      <td>2015-09-08</td>\n",
       "      <td>2019-02-19</td>\n",
       "    </tr>\n",
       "    <tr>\n",
       "      <th>1</th>\n",
       "      <td>https://www.dov.vlaanderen.be/data/bodemobserv...</td>\n",
       "      <td>https://www.dov.vlaanderen.be/data/bodemlocati...</td>\n",
       "      <td>bodemdiepteinterval</td>\n",
       "      <td>https://www.dov.vlaanderen.be/data/bodemdiepte...</td>\n",
       "      <td>Ksat</td>\n",
       "      <td>Bodem_fysisch_vocht</td>\n",
       "      <td>0.0000072879</td>\n",
       "      <td>m/s</td>\n",
       "      <td>NaN</td>\n",
       "      <td>NaN</td>\n",
       "      <td>Ksat Open-end-methode</td>\n",
       "      <td>goed</td>\n",
       "      <td>veld</td>\n",
       "      <td>40.0</td>\n",
       "      <td>85.0</td>\n",
       "      <td>2015-09-08</td>\n",
       "      <td>2019-02-07</td>\n",
       "    </tr>\n",
       "    <tr>\n",
       "      <th>2</th>\n",
       "      <td>https://www.dov.vlaanderen.be/data/bodemobserv...</td>\n",
       "      <td>https://www.dov.vlaanderen.be/data/bodemlocati...</td>\n",
       "      <td>bodemdiepteinterval</td>\n",
       "      <td>https://www.dov.vlaanderen.be/data/bodemdiepte...</td>\n",
       "      <td>Ksat</td>\n",
       "      <td>Bodem_fysisch_vocht</td>\n",
       "      <td>0.0000156761</td>\n",
       "      <td>m/s</td>\n",
       "      <td>NaN</td>\n",
       "      <td>NaN</td>\n",
       "      <td>Ksat Porchet-methode</td>\n",
       "      <td>goed</td>\n",
       "      <td>veld</td>\n",
       "      <td>40.0</td>\n",
       "      <td>85.0</td>\n",
       "      <td>2015-09-08</td>\n",
       "      <td>2019-02-07</td>\n",
       "    </tr>\n",
       "    <tr>\n",
       "      <th>3</th>\n",
       "      <td>https://www.dov.vlaanderen.be/data/bodemobserv...</td>\n",
       "      <td>https://www.dov.vlaanderen.be/data/bodemlocati...</td>\n",
       "      <td>bodemdiepteinterval</td>\n",
       "      <td>https://www.dov.vlaanderen.be/data/bodemdiepte...</td>\n",
       "      <td>Ksat</td>\n",
       "      <td>Bodem_fysisch_vocht</td>\n",
       "      <td>0.000002583</td>\n",
       "      <td>m/s</td>\n",
       "      <td>NaN</td>\n",
       "      <td>NaN</td>\n",
       "      <td>Ksat Enkele-ring-methode</td>\n",
       "      <td>goed</td>\n",
       "      <td>veld</td>\n",
       "      <td>40.0</td>\n",
       "      <td>85.0</td>\n",
       "      <td>2015-09-08</td>\n",
       "      <td>2019-02-07</td>\n",
       "    </tr>\n",
       "    <tr>\n",
       "      <th>4</th>\n",
       "      <td>https://www.dov.vlaanderen.be/data/bodemobserv...</td>\n",
       "      <td>https://www.dov.vlaanderen.be/data/bodemlocati...</td>\n",
       "      <td>bodemdiepteinterval</td>\n",
       "      <td>https://www.dov.vlaanderen.be/data/bodemdiepte...</td>\n",
       "      <td>Ksat</td>\n",
       "      <td>Bodem_fysisch_vocht</td>\n",
       "      <td>0.0000029494</td>\n",
       "      <td>m/s</td>\n",
       "      <td>NaN</td>\n",
       "      <td>NaN</td>\n",
       "      <td>Ksat Porchet-methode</td>\n",
       "      <td>goed</td>\n",
       "      <td>veld</td>\n",
       "      <td>40.0</td>\n",
       "      <td>85.0</td>\n",
       "      <td>2015-09-08</td>\n",
       "      <td>2019-02-07</td>\n",
       "    </tr>\n",
       "  </tbody>\n",
       "</table>\n",
       "</div>"
      ],
      "text/plain": [
       "                                pkey_bodemobservatie  \\\n",
       "0  https://www.dov.vlaanderen.be/data/bodemobserv...   \n",
       "1  https://www.dov.vlaanderen.be/data/bodemobserv...   \n",
       "2  https://www.dov.vlaanderen.be/data/bodemobserv...   \n",
       "3  https://www.dov.vlaanderen.be/data/bodemobserv...   \n",
       "4  https://www.dov.vlaanderen.be/data/bodemobserv...   \n",
       "\n",
       "                                   pkey_bodemlocatie                  Aan  \\\n",
       "0  https://www.dov.vlaanderen.be/data/bodemlocati...         bodemmonster   \n",
       "1  https://www.dov.vlaanderen.be/data/bodemlocati...  bodemdiepteinterval   \n",
       "2  https://www.dov.vlaanderen.be/data/bodemlocati...  bodemdiepteinterval   \n",
       "3  https://www.dov.vlaanderen.be/data/bodemlocati...  bodemdiepteinterval   \n",
       "4  https://www.dov.vlaanderen.be/data/bodemlocati...  bodemdiepteinterval   \n",
       "\n",
       "                                         pkey_parent        parameter  \\\n",
       "0  https://www.dov.vlaanderen.be/data/bodemmonste...  Textuurfracties   \n",
       "1  https://www.dov.vlaanderen.be/data/bodemdiepte...             Ksat   \n",
       "2  https://www.dov.vlaanderen.be/data/bodemdiepte...             Ksat   \n",
       "3  https://www.dov.vlaanderen.be/data/bodemdiepte...             Ksat   \n",
       "4  https://www.dov.vlaanderen.be/data/bodemdiepte...             Ksat   \n",
       "\n",
       "          parametergroep           waarde eenheid  ondergrens  bovengrens  \\\n",
       "0  Bodem_fysisch_textuur  Fractiemetingen       %         NaN         NaN   \n",
       "1    Bodem_fysisch_vocht     0.0000072879     m/s         NaN         NaN   \n",
       "2    Bodem_fysisch_vocht     0.0000156761     m/s         NaN         NaN   \n",
       "3    Bodem_fysisch_vocht      0.000002583     m/s         NaN         NaN   \n",
       "4    Bodem_fysisch_vocht     0.0000029494     m/s         NaN         NaN   \n",
       "\n",
       "                              methode betrouwbaarheid veld_labo  diepte_van  \\\n",
       "0  Textuur pipetmethode Robinson-Köhn            goed      labo        40.0   \n",
       "1               Ksat Open-end-methode            goed      veld        40.0   \n",
       "2                Ksat Porchet-methode            goed      veld        40.0   \n",
       "3            Ksat Enkele-ring-methode            goed      veld        40.0   \n",
       "4                Ksat Porchet-methode            goed      veld        40.0   \n",
       "\n",
       "   diepte_tot observatiedatum invoerdatum  \n",
       "0        85.0      2015-09-08  2019-02-19  \n",
       "1        85.0      2015-09-08  2019-02-07  \n",
       "2        85.0      2015-09-08  2019-02-07  \n",
       "3        85.0      2015-09-08  2019-02-07  \n",
       "4        85.0      2015-09-08  2019-02-07  "
      ]
     },
     "execution_count": 15,
     "metadata": {},
     "output_type": "execute_result"
    }
   ],
   "source": [
    "from owslib.fes import PropertyIsEqualTo\n",
    "from pydov.util.query import Join\n",
    "\n",
    "bodemlocaties = bodemlocatie.search(query=PropertyIsEqualTo(propertyname='naam', literal='VMM_INF_52'), \n",
    "                                   return_fields=('pkey_bodemlocatie',))\n",
    "\n",
    "bodemobservaties = bodemobservatie.search(query=Join(bodemlocaties, 'pkey_bodemlocatie'))\n",
    "bodemobservaties.head()"
   ]
  },
  {
   "cell_type": "markdown",
   "metadata": {},
   "source": [
    "### Get all bodemobservaties in bodemmonster"
   ]
  },
  {
   "cell_type": "markdown",
   "metadata": {},
   "source": [
    "Get all bodemobservaties linked with a bodemmonster"
   ]
  },
  {
   "cell_type": "code",
   "execution_count": 16,
   "metadata": {},
   "outputs": [
    {
     "name": "stdout",
     "output_type": "stream",
     "text": [
      "[000/003] ccc\n"
     ]
    },
    {
     "data": {
      "text/html": [
       "<div>\n",
       "<style scoped>\n",
       "    .dataframe tbody tr th:only-of-type {\n",
       "        vertical-align: middle;\n",
       "    }\n",
       "\n",
       "    .dataframe tbody tr th {\n",
       "        vertical-align: top;\n",
       "    }\n",
       "\n",
       "    .dataframe thead th {\n",
       "        text-align: right;\n",
       "    }\n",
       "</style>\n",
       "<table border=\"1\" class=\"dataframe\">\n",
       "  <thead>\n",
       "    <tr style=\"text-align: right;\">\n",
       "      <th></th>\n",
       "      <th>pkey_bodemobservatie</th>\n",
       "      <th>pkey_bodemlocatie</th>\n",
       "      <th>Aan</th>\n",
       "      <th>pkey_parent</th>\n",
       "      <th>parameter</th>\n",
       "      <th>parametergroep</th>\n",
       "      <th>waarde</th>\n",
       "      <th>eenheid</th>\n",
       "      <th>ondergrens</th>\n",
       "      <th>bovengrens</th>\n",
       "      <th>methode</th>\n",
       "      <th>betrouwbaarheid</th>\n",
       "      <th>veld_labo</th>\n",
       "      <th>diepte_van</th>\n",
       "      <th>diepte_tot</th>\n",
       "      <th>observatiedatum</th>\n",
       "      <th>invoerdatum</th>\n",
       "    </tr>\n",
       "  </thead>\n",
       "  <tbody>\n",
       "    <tr>\n",
       "      <th>0</th>\n",
       "      <td>https://www.dov.vlaanderen.be/data/bodemobserv...</td>\n",
       "      <td>https://www.dov.vlaanderen.be/data/bodemlocati...</td>\n",
       "      <td>bodemmonster</td>\n",
       "      <td>https://www.dov.vlaanderen.be/data/bodemmonste...</td>\n",
       "      <td>Textuurfracties</td>\n",
       "      <td>Bodem_fysisch_textuur</td>\n",
       "      <td>Fractiemetingen</td>\n",
       "      <td>%</td>\n",
       "      <td>NaN</td>\n",
       "      <td>NaN</td>\n",
       "      <td>Textuur pipetmethode Robinson-Köhn</td>\n",
       "      <td>goed</td>\n",
       "      <td>labo</td>\n",
       "      <td>40.0</td>\n",
       "      <td>85.0</td>\n",
       "      <td>2015-09-08</td>\n",
       "      <td>2019-02-19</td>\n",
       "    </tr>\n",
       "    <tr>\n",
       "      <th>1</th>\n",
       "      <td>https://www.dov.vlaanderen.be/data/bodemobserv...</td>\n",
       "      <td>https://www.dov.vlaanderen.be/data/bodemlocati...</td>\n",
       "      <td>bodemmonster</td>\n",
       "      <td>https://www.dov.vlaanderen.be/data/bodemmonste...</td>\n",
       "      <td>Textuur - granulometrisch - klassen bodemkarte...</td>\n",
       "      <td>Bodem_fysisch_textuur</td>\n",
       "      <td>E - Klei</td>\n",
       "      <td>-</td>\n",
       "      <td>NaN</td>\n",
       "      <td>NaN</td>\n",
       "      <td>Textuur pipetmethode Robinson-Köhn</td>\n",
       "      <td>goed</td>\n",
       "      <td>labo</td>\n",
       "      <td>40.0</td>\n",
       "      <td>85.0</td>\n",
       "      <td>2015-08-27</td>\n",
       "      <td>2019-02-07</td>\n",
       "    </tr>\n",
       "    <tr>\n",
       "      <th>2</th>\n",
       "      <td>https://www.dov.vlaanderen.be/data/bodemobserv...</td>\n",
       "      <td>https://www.dov.vlaanderen.be/data/bodemlocati...</td>\n",
       "      <td>bodemmonster</td>\n",
       "      <td>https://www.dov.vlaanderen.be/data/bodemmonste...</td>\n",
       "      <td>Textuur - handmatig - klassen bodemkartering</td>\n",
       "      <td>Bodem_fysisch_textuur</td>\n",
       "      <td>A - Leem</td>\n",
       "      <td>-</td>\n",
       "      <td>NaN</td>\n",
       "      <td>NaN</td>\n",
       "      <td>Textuur manuele schatting (palpatie)</td>\n",
       "      <td>goed</td>\n",
       "      <td>labo</td>\n",
       "      <td>40.0</td>\n",
       "      <td>85.0</td>\n",
       "      <td>2015-08-27</td>\n",
       "      <td>2019-02-07</td>\n",
       "    </tr>\n",
       "  </tbody>\n",
       "</table>\n",
       "</div>"
      ],
      "text/plain": [
       "                                pkey_bodemobservatie  \\\n",
       "0  https://www.dov.vlaanderen.be/data/bodemobserv...   \n",
       "1  https://www.dov.vlaanderen.be/data/bodemobserv...   \n",
       "2  https://www.dov.vlaanderen.be/data/bodemobserv...   \n",
       "\n",
       "                                   pkey_bodemlocatie           Aan  \\\n",
       "0  https://www.dov.vlaanderen.be/data/bodemlocati...  bodemmonster   \n",
       "1  https://www.dov.vlaanderen.be/data/bodemlocati...  bodemmonster   \n",
       "2  https://www.dov.vlaanderen.be/data/bodemlocati...  bodemmonster   \n",
       "\n",
       "                                         pkey_parent  \\\n",
       "0  https://www.dov.vlaanderen.be/data/bodemmonste...   \n",
       "1  https://www.dov.vlaanderen.be/data/bodemmonste...   \n",
       "2  https://www.dov.vlaanderen.be/data/bodemmonste...   \n",
       "\n",
       "                                           parameter         parametergroep  \\\n",
       "0                                    Textuurfracties  Bodem_fysisch_textuur   \n",
       "1  Textuur - granulometrisch - klassen bodemkarte...  Bodem_fysisch_textuur   \n",
       "2       Textuur - handmatig - klassen bodemkartering  Bodem_fysisch_textuur   \n",
       "\n",
       "            waarde eenheid  ondergrens  bovengrens  \\\n",
       "0  Fractiemetingen       %         NaN         NaN   \n",
       "1         E - Klei       -         NaN         NaN   \n",
       "2         A - Leem       -         NaN         NaN   \n",
       "\n",
       "                                methode betrouwbaarheid veld_labo  diepte_van  \\\n",
       "0    Textuur pipetmethode Robinson-Köhn            goed      labo        40.0   \n",
       "1    Textuur pipetmethode Robinson-Köhn            goed      labo        40.0   \n",
       "2  Textuur manuele schatting (palpatie)            goed      labo        40.0   \n",
       "\n",
       "   diepte_tot observatiedatum invoerdatum  \n",
       "0        85.0      2015-09-08  2019-02-19  \n",
       "1        85.0      2015-08-27  2019-02-07  \n",
       "2        85.0      2015-08-27  2019-02-07  "
      ]
     },
     "execution_count": 16,
     "metadata": {},
     "output_type": "execute_result"
    }
   ],
   "source": [
    "from pydov.search.bodemmonster import BodemmonsterSearch\n",
    "bodemmonster = BodemmonsterSearch()\n",
    "\n",
    "bodemmonsters = bodemmonster.search(query=PropertyIsEqualTo(propertyname = 'identificatie', literal='A0057359'),\n",
    "                                   return_fields=('pkey_bodemmonster',))\n",
    "\n",
    "bodemobservaties = bodemobservatie.search(query=Join(bodemmonsters, on = 'pkey_parent', using='pkey_bodemmonster'))\n",
    "bodemobservaties.head()"
   ]
  }
 ],
 "metadata": {
  "kernelspec": {
   "display_name": "Python 3",
   "language": "python",
   "name": "python3"
  },
  "language_info": {
   "codemirror_mode": {
    "name": "ipython",
    "version": 3
   },
   "file_extension": ".py",
   "mimetype": "text/x-python",
   "name": "python",
   "nbconvert_exporter": "python",
   "pygments_lexer": "ipython3",
   "version": "3.7.3"
  }
 },
 "nbformat": 4,
 "nbformat_minor": 4
}
