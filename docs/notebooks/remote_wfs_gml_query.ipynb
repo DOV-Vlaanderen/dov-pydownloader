{
 "cells": [
  {
   "cell_type": "markdown",
   "metadata": {},
   "source": [
    "# Example of DOV search methods based on external WFS"
   ]
  },
  {
   "cell_type": "markdown",
   "metadata": {},
   "source": [
    "## Use cases"
   ]
  },
  {
   "cell_type": "markdown",
   "metadata": {},
   "source": [
    "- Download data from a certain community using its geographic borders\n",
    "- Download data from a certain community using layer \"Bekken\"\n",
    "- Download data from a certain community using layer \"Grondwaterlichamen\"\n",
    "- Download data from a certain community using layer \"HHZ\""
   ]
  },
  {
   "cell_type": "code",
   "execution_count": 1,
   "metadata": {},
   "outputs": [],
   "source": [
    "%matplotlib inline\n",
    "import matplotlib.pyplot as plt\n",
    "\n",
    "from owslib.etree import etree\n",
    "from owslib.fes import PropertyIsEqualTo\n",
    "from owslib.wfs import WebFeatureService\n",
    "\n",
    "from pydov.search.boring import BoringSearch\n",
    "from pydov.search.grondwaterfilter import GrondwaterFilterSearch\n",
    "\n",
    "from pydov.util.location import (\n",
    "    GmlFilter,\n",
    "    Within,\n",
    ")"
   ]
  },
  {
   "cell_type": "markdown",
   "metadata": {},
   "source": [
    "# Download data from a certain community using its geographic borders"
   ]
  },
  {
   "cell_type": "markdown",
   "metadata": {},
   "source": [
    "Load layer:"
   ]
  },
  {
   "cell_type": "code",
   "execution_count": 2,
   "metadata": {},
   "outputs": [],
   "source": [
    "gemeentegrenzen = WebFeatureService(\n",
    "    'https://geoservices.informatievlaanderen.be/overdrachtdiensten/VRBG/wfs',\n",
    "    version='1.1.0')"
   ]
  },
  {
   "cell_type": "markdown",
   "metadata": {},
   "source": [
    "Optional get available fields (properties) of a layer:"
   ]
  },
  {
   "cell_type": "code",
   "execution_count": 3,
   "metadata": {},
   "outputs": [
    {
     "data": {
      "text/plain": [
       "{'UIDN': 'decimal',\n",
       " 'OIDN': 'decimal',\n",
       " 'TERRID': 'decimal',\n",
       " 'NISCODE': 'string',\n",
       " 'NAAM': 'string',\n",
       " 'DATPUBLBS': 'date',\n",
       " 'NUMAC': 'string'}"
      ]
     },
     "execution_count": 3,
     "metadata": {},
     "output_type": "execute_result"
    }
   ],
   "source": [
    "gemeentegrenzen.get_schema('VRBG:Refgem')['properties']"
   ]
  },
  {
   "cell_type": "markdown",
   "metadata": {},
   "source": [
    "Create a custom boundary of an administrative area: "
   ]
  },
  {
   "cell_type": "code",
   "execution_count": 4,
   "metadata": {},
   "outputs": [],
   "source": [
    "naam_filter = PropertyIsEqualTo(propertyname='NAAM', literal='Lievegem')"
   ]
  },
  {
   "cell_type": "code",
   "execution_count": 5,
   "metadata": {},
   "outputs": [],
   "source": [
    "gemeente_poly = gemeentegrenzen.getfeature(\n",
    "    typename='VRBG:Refgem',\n",
    "    filter=etree.tostring(naam_filter.toXML()).decode(\"utf8\")).read()"
   ]
  },
  {
   "cell_type": "markdown",
   "metadata": {},
   "source": [
    "Search all \"boringen\" within the administrative area: "
   ]
  },
  {
   "cell_type": "code",
   "execution_count": 6,
   "metadata": {},
   "outputs": [],
   "source": [
    "bs = BoringSearch()\n",
    "df = bs.search(\n",
    "    location=GmlFilter(gemeente_poly, Within),\n",
    "    return_fields=('pkey_boring', 'gemeente'))"
   ]
  },
  {
   "cell_type": "code",
   "execution_count": 7,
   "metadata": {},
   "outputs": [
    {
     "data": {
      "text/html": [
       "<div>\n",
       "<style scoped>\n",
       "    .dataframe tbody tr th:only-of-type {\n",
       "        vertical-align: middle;\n",
       "    }\n",
       "\n",
       "    .dataframe tbody tr th {\n",
       "        vertical-align: top;\n",
       "    }\n",
       "\n",
       "    .dataframe thead th {\n",
       "        text-align: right;\n",
       "    }\n",
       "</style>\n",
       "<table border=\"1\" class=\"dataframe\">\n",
       "  <thead>\n",
       "    <tr style=\"text-align: right;\">\n",
       "      <th></th>\n",
       "      <th>gemeente</th>\n",
       "      <th>counts</th>\n",
       "    </tr>\n",
       "  </thead>\n",
       "  <tbody>\n",
       "    <tr>\n",
       "      <th>0</th>\n",
       "      <td>Gent</td>\n",
       "      <td>2</td>\n",
       "    </tr>\n",
       "    <tr>\n",
       "      <th>1</th>\n",
       "      <td>Knesselare</td>\n",
       "      <td>2</td>\n",
       "    </tr>\n",
       "    <tr>\n",
       "      <th>2</th>\n",
       "      <td>Lievegem</td>\n",
       "      <td>12</td>\n",
       "    </tr>\n",
       "    <tr>\n",
       "      <th>3</th>\n",
       "      <td>Lovendegem</td>\n",
       "      <td>110</td>\n",
       "    </tr>\n",
       "    <tr>\n",
       "      <th>4</th>\n",
       "      <td>Nevele</td>\n",
       "      <td>1</td>\n",
       "    </tr>\n",
       "    <tr>\n",
       "      <th>5</th>\n",
       "      <td>Veurne</td>\n",
       "      <td>1</td>\n",
       "    </tr>\n",
       "    <tr>\n",
       "      <th>6</th>\n",
       "      <td>Waarschoot</td>\n",
       "      <td>57</td>\n",
       "    </tr>\n",
       "    <tr>\n",
       "      <th>7</th>\n",
       "      <td>Zomergem</td>\n",
       "      <td>130</td>\n",
       "    </tr>\n",
       "  </tbody>\n",
       "</table>\n",
       "</div>"
      ],
      "text/plain": [
       "     gemeente  counts\n",
       "0        Gent       2\n",
       "1  Knesselare       2\n",
       "2    Lievegem      12\n",
       "3  Lovendegem     110\n",
       "4      Nevele       1\n",
       "5      Veurne       1\n",
       "6  Waarschoot      57\n",
       "7    Zomergem     130"
      ]
     },
     "execution_count": 7,
     "metadata": {},
     "output_type": "execute_result"
    }
   ],
   "source": [
    "df.groupby('gemeente').size().reset_index(name='counts')"
   ]
  },
  {
   "cell_type": "markdown",
   "metadata": {},
   "source": [
    "# Download data from a certain community using layer \"Bekken\""
   ]
  },
  {
   "cell_type": "markdown",
   "metadata": {},
   "source": [
    "Load layer:"
   ]
  },
  {
   "cell_type": "code",
   "execution_count": 8,
   "metadata": {},
   "outputs": [],
   "source": [
    "bekkens = WebFeatureService(\n",
    "    'https://geoservices.informatievlaanderen.be/overdrachtdiensten/VHAZones/wfs',\n",
    "    version='1.1.0'\n",
    ")"
   ]
  },
  {
   "cell_type": "markdown",
   "metadata": {},
   "source": [
    "Optional list available layers:"
   ]
  },
  {
   "cell_type": "code",
   "execution_count": 9,
   "metadata": {},
   "outputs": [
    {
     "data": {
      "text/plain": [
       "['VHAZones:Bekken', 'VHAZones:Deelbekken', 'VHAZones:Vhazone']"
      ]
     },
     "execution_count": 9,
     "metadata": {},
     "output_type": "execute_result"
    }
   ],
   "source": [
    "list(bekkens.contents)"
   ]
  },
  {
   "cell_type": "markdown",
   "metadata": {},
   "source": [
    "Optional get available fields (properties) of a layer:"
   ]
  },
  {
   "cell_type": "code",
   "execution_count": 10,
   "metadata": {},
   "outputs": [
    {
     "data": {
      "text/plain": [
       "{'UIDN': 'decimal',\n",
       " 'OIDN': 'decimal',\n",
       " 'BEKNR': 'short',\n",
       " 'BEKNAAM': 'string',\n",
       " 'STRMGEB': 'string'}"
      ]
     },
     "execution_count": 10,
     "metadata": {},
     "output_type": "execute_result"
    }
   ],
   "source": [
    "bekkens.get_schema('VHAZones:Bekken')['properties']"
   ]
  },
  {
   "cell_type": "markdown",
   "metadata": {},
   "source": [
    "Get distinct values of a field:"
   ]
  },
  {
   "cell_type": "code",
   "execution_count": 11,
   "metadata": {},
   "outputs": [
    {
     "data": {
      "text/plain": [
       "{'Bekken Brugse polders',\n",
       " 'Bekken Gentse kanalen',\n",
       " 'Beneden-Scheldebekken',\n",
       " 'Boven-Scheldebekken',\n",
       " 'Demerbekken',\n",
       " 'Denderbekken',\n",
       " 'Dijlebekken',\n",
       " 'Ijzerbekken',\n",
       " 'Leiebekken',\n",
       " 'Maasbekken',\n",
       " 'Netebekken'}"
      ]
     },
     "execution_count": 11,
     "metadata": {},
     "output_type": "execute_result"
    }
   ],
   "source": [
    "tree = etree.fromstring(bekkens.getfeature('VHAZones:Bekken', propertyname='BEKNAAM').read().encode(\"utf8\"))\n",
    "set((i.text for i in tree.findall('.//{%s}BEKNAAM' % tree.nsmap['VHAZones'])))"
   ]
  },
  {
   "cell_type": "markdown",
   "metadata": {},
   "source": [
    "Build filter:"
   ]
  },
  {
   "cell_type": "code",
   "execution_count": 12,
   "metadata": {},
   "outputs": [],
   "source": [
    "naam_filter = PropertyIsEqualTo(propertyname='BEKNAAM', literal='Bekken Brugse polders')"
   ]
  },
  {
   "cell_type": "markdown",
   "metadata": {},
   "source": [
    "Get features matching filter"
   ]
  },
  {
   "cell_type": "code",
   "execution_count": 13,
   "metadata": {},
   "outputs": [],
   "source": [
    "bekken_poly = bekkens.getfeature(\n",
    "    typename='VHAZones:Bekken',\n",
    "    filter=etree.tostring(naam_filter.toXML()).decode(\"utf8\")).read()"
   ]
  },
  {
   "cell_type": "markdown",
   "metadata": {},
   "source": [
    "Get DOV data based on feature geometry"
   ]
  },
  {
   "cell_type": "code",
   "execution_count": 14,
   "metadata": {},
   "outputs": [],
   "source": [
    "filter_search = GrondwaterFilterSearch()\n",
    "df = filter_search.search(\n",
    "    location=GmlFilter(bekken_poly, Within),\n",
    "    return_fields=('pkey_filter', 'x', 'y')\n",
    ")"
   ]
  },
  {
   "cell_type": "markdown",
   "metadata": {},
   "source": [
    "Show on map:"
   ]
  },
  {
   "cell_type": "code",
   "execution_count": 15,
   "metadata": {},
   "outputs": [],
   "source": [
    "# import the necessary modules (not included in the requirements of pydov!)\n",
    "import folium\n",
    "from folium.plugins import MarkerCluster\n",
    "from pyproj import Proj, transform"
   ]
  },
  {
   "cell_type": "code",
   "execution_count": 16,
   "metadata": {},
   "outputs": [
    {
     "ename": "KeyboardInterrupt",
     "evalue": "",
     "output_type": "error",
     "traceback": [
      "\u001b[1;31m---------------------------------------------------------------------------\u001b[0m",
      "\u001b[1;31mKeyboardInterrupt\u001b[0m                         Traceback (most recent call last)",
      "\u001b[1;32m<ipython-input-16-eff46549a326>\u001b[0m in \u001b[0;36m<module>\u001b[1;34m\u001b[0m\n\u001b[0;32m      5\u001b[0m     \u001b[0mx2\u001b[0m\u001b[1;33m,\u001b[0m\u001b[0my2\u001b[0m \u001b[1;33m=\u001b[0m \u001b[0mtransform\u001b[0m\u001b[1;33m(\u001b[0m\u001b[0minProj\u001b[0m\u001b[1;33m,\u001b[0m \u001b[0moutProj\u001b[0m\u001b[1;33m,\u001b[0m \u001b[0mx1\u001b[0m\u001b[1;33m,\u001b[0m \u001b[0my1\u001b[0m\u001b[1;33m)\u001b[0m\u001b[1;33m\u001b[0m\u001b[1;33m\u001b[0m\u001b[0m\n\u001b[0;32m      6\u001b[0m     \u001b[1;32mreturn\u001b[0m \u001b[0mx2\u001b[0m\u001b[1;33m,\u001b[0m \u001b[0my2\u001b[0m\u001b[1;33m\u001b[0m\u001b[1;33m\u001b[0m\u001b[0m\n\u001b[1;32m----> 7\u001b[1;33m \u001b[0mdf\u001b[0m\u001b[1;33m[\u001b[0m\u001b[1;34m'lon'\u001b[0m\u001b[1;33m]\u001b[0m\u001b[1;33m,\u001b[0m \u001b[0mdf\u001b[0m\u001b[1;33m[\u001b[0m\u001b[1;34m'lat'\u001b[0m\u001b[1;33m]\u001b[0m \u001b[1;33m=\u001b[0m \u001b[0mzip\u001b[0m\u001b[1;33m(\u001b[0m\u001b[1;33m*\u001b[0m\u001b[0mmap\u001b[0m\u001b[1;33m(\u001b[0m\u001b[0mconvert_latlon\u001b[0m\u001b[1;33m,\u001b[0m \u001b[0mdf\u001b[0m\u001b[1;33m[\u001b[0m\u001b[1;34m'x'\u001b[0m\u001b[1;33m]\u001b[0m\u001b[1;33m,\u001b[0m \u001b[0mdf\u001b[0m\u001b[1;33m[\u001b[0m\u001b[1;34m'y'\u001b[0m\u001b[1;33m]\u001b[0m\u001b[1;33m)\u001b[0m\u001b[1;33m)\u001b[0m\u001b[1;33m\u001b[0m\u001b[1;33m\u001b[0m\u001b[0m\n\u001b[0m\u001b[0;32m      8\u001b[0m \u001b[1;31m# convert to list\u001b[0m\u001b[1;33m\u001b[0m\u001b[1;33m\u001b[0m\u001b[1;33m\u001b[0m\u001b[0m\n\u001b[0;32m      9\u001b[0m \u001b[0mloclist\u001b[0m \u001b[1;33m=\u001b[0m \u001b[0mdf\u001b[0m\u001b[1;33m[\u001b[0m\u001b[1;33m[\u001b[0m\u001b[1;34m'lat'\u001b[0m\u001b[1;33m,\u001b[0m \u001b[1;34m'lon'\u001b[0m\u001b[1;33m]\u001b[0m\u001b[1;33m]\u001b[0m\u001b[1;33m.\u001b[0m\u001b[0mvalues\u001b[0m\u001b[1;33m.\u001b[0m\u001b[0mtolist\u001b[0m\u001b[1;33m(\u001b[0m\u001b[1;33m)\u001b[0m\u001b[1;33m\u001b[0m\u001b[1;33m\u001b[0m\u001b[0m\n",
      "\u001b[1;32m<ipython-input-16-eff46549a326>\u001b[0m in \u001b[0;36mconvert_latlon\u001b[1;34m(x1, y1)\u001b[0m\n\u001b[0;32m      1\u001b[0m \u001b[1;31m# convert the coordinates to lat/lon for folium\u001b[0m\u001b[1;33m\u001b[0m\u001b[1;33m\u001b[0m\u001b[1;33m\u001b[0m\u001b[0m\n\u001b[0;32m      2\u001b[0m \u001b[1;32mdef\u001b[0m \u001b[0mconvert_latlon\u001b[0m\u001b[1;33m(\u001b[0m\u001b[0mx1\u001b[0m\u001b[1;33m,\u001b[0m \u001b[0my1\u001b[0m\u001b[1;33m)\u001b[0m\u001b[1;33m:\u001b[0m\u001b[1;33m\u001b[0m\u001b[1;33m\u001b[0m\u001b[0m\n\u001b[1;32m----> 3\u001b[1;33m     \u001b[0minProj\u001b[0m \u001b[1;33m=\u001b[0m \u001b[0mProj\u001b[0m\u001b[1;33m(\u001b[0m\u001b[0minit\u001b[0m\u001b[1;33m=\u001b[0m\u001b[1;34m'epsg:31370'\u001b[0m\u001b[1;33m)\u001b[0m\u001b[1;33m\u001b[0m\u001b[1;33m\u001b[0m\u001b[0m\n\u001b[0m\u001b[0;32m      4\u001b[0m     \u001b[0moutProj\u001b[0m \u001b[1;33m=\u001b[0m \u001b[0mProj\u001b[0m\u001b[1;33m(\u001b[0m\u001b[0minit\u001b[0m\u001b[1;33m=\u001b[0m\u001b[1;34m'epsg:4326'\u001b[0m\u001b[1;33m)\u001b[0m\u001b[1;33m\u001b[0m\u001b[1;33m\u001b[0m\u001b[0m\n\u001b[0;32m      5\u001b[0m     \u001b[0mx2\u001b[0m\u001b[1;33m,\u001b[0m\u001b[0my2\u001b[0m \u001b[1;33m=\u001b[0m \u001b[0mtransform\u001b[0m\u001b[1;33m(\u001b[0m\u001b[0minProj\u001b[0m\u001b[1;33m,\u001b[0m \u001b[0moutProj\u001b[0m\u001b[1;33m,\u001b[0m \u001b[0mx1\u001b[0m\u001b[1;33m,\u001b[0m \u001b[0my1\u001b[0m\u001b[1;33m)\u001b[0m\u001b[1;33m\u001b[0m\u001b[1;33m\u001b[0m\u001b[0m\n",
      "\u001b[1;31mKeyboardInterrupt\u001b[0m: "
     ]
    }
   ],
   "source": [
    "# convert the coordinates to lat/lon for folium\n",
    "def convert_latlon(x1, y1):\n",
    "    inProj = Proj(init='epsg:31370')\n",
    "    outProj = Proj(init='epsg:4326')\n",
    "    x2,y2 = transform(inProj, outProj, x1, y1)\n",
    "    return x2, y2\n",
    "df['lon'], df['lat'] = zip(*map(convert_latlon, df['x'], df['y']))\n",
    "# convert to list\n",
    "loclist = df[['lat', 'lon']].values.tolist()"
   ]
  },
  {
   "cell_type": "code",
   "execution_count": null,
   "metadata": {},
   "outputs": [],
   "source": [
    "# initialize the Folium map on the centre of the selected locations, play with the zoom until ok\n",
    "fmap = folium.Map(location=[df['lat'].mean(), df['lon'].mean()], zoom_start=10)\n",
    "marker_cluster = MarkerCluster().add_to(fmap)\n",
    "for loc in range(0, len(loclist)):\n",
    "    folium.Marker(loclist[loc], popup=df['pkey_filter'][loc]).add_to(marker_cluster)\n",
    "fmap"
   ]
  },
  {
   "cell_type": "markdown",
   "metadata": {},
   "source": [
    "# Download data from a certain community using layer \"HHZ\""
   ]
  },
  {
   "cell_type": "code",
   "execution_count": 17,
   "metadata": {},
   "outputs": [],
   "source": [
    "hhz = WebFeatureService(\n",
    "    'https://www.dov.vlaanderen.be/geoserver/wfs',\n",
    "    version='1.1.0')"
   ]
  },
  {
   "cell_type": "code",
   "execution_count": 18,
   "metadata": {
    "scrolled": true
   },
   "outputs": [
    {
     "ename": "TypeError",
     "evalue": "'NoneType' object is not subscriptable",
     "output_type": "error",
     "traceback": [
      "\u001b[1;31m---------------------------------------------------------------------------\u001b[0m",
      "\u001b[1;31mTypeError\u001b[0m                                 Traceback (most recent call last)",
      "\u001b[1;32m<ipython-input-18-7714057f96f8>\u001b[0m in \u001b[0;36m<module>\u001b[1;34m\u001b[0m\n\u001b[1;32m----> 1\u001b[1;33m \u001b[0mhhz\u001b[0m\u001b[1;33m.\u001b[0m\u001b[0mget_schema\u001b[0m\u001b[1;33m(\u001b[0m\u001b[1;34m\"gw_varia:hhz\"\u001b[0m\u001b[1;33m)\u001b[0m\u001b[1;33m\u001b[0m\u001b[1;33m\u001b[0m\u001b[0m\n\u001b[0m",
      "\u001b[1;32mD:\\Program Files\\Anaconda\\lib\\site-packages\\owslib\\feature\\__init__.py\u001b[0m in \u001b[0;36mget_schema\u001b[1;34m(self, typename)\u001b[0m\n\u001b[0;32m    170\u001b[0m         \u001b[0mGet\u001b[0m \u001b[0mlayer\u001b[0m \u001b[0mschema\u001b[0m \u001b[0mcompatible\u001b[0m \u001b[1;32mwith\u001b[0m \u001b[1;33m:\u001b[0m\u001b[1;32mclass\u001b[0m\u001b[1;33m:\u001b[0m\u001b[0;31m`\u001b[0m\u001b[0mfiona\u001b[0m\u001b[0;31m`\u001b[0m \u001b[0mschema\u001b[0m \u001b[0mobject\u001b[0m\u001b[1;33m\u001b[0m\u001b[1;33m\u001b[0m\u001b[0m\n\u001b[0;32m    171\u001b[0m         \"\"\"\n\u001b[1;32m--> 172\u001b[1;33m         \u001b[1;32mreturn\u001b[0m \u001b[0mget_schema\u001b[0m\u001b[1;33m(\u001b[0m\u001b[0mself\u001b[0m\u001b[1;33m.\u001b[0m\u001b[0murl\u001b[0m\u001b[1;33m,\u001b[0m \u001b[0mtypename\u001b[0m\u001b[1;33m,\u001b[0m \u001b[0mself\u001b[0m\u001b[1;33m.\u001b[0m\u001b[0mversion\u001b[0m\u001b[1;33m,\u001b[0m \u001b[0mauth\u001b[0m\u001b[1;33m=\u001b[0m\u001b[0mself\u001b[0m\u001b[1;33m.\u001b[0m\u001b[0mauth\u001b[0m\u001b[1;33m)\u001b[0m\u001b[1;33m\u001b[0m\u001b[1;33m\u001b[0m\u001b[0m\n\u001b[0m",
      "\u001b[1;32mD:\\Program Files\\Anaconda\\lib\\site-packages\\owslib\\feature\\schema.py\u001b[0m in \u001b[0;36mget_schema\u001b[1;34m(url, typename, version, timeout, username, password, auth)\u001b[0m\n\u001b[0;32m     55\u001b[0m                            attribute_name='name', attribute_value=typename)[0]\n\u001b[0;32m     56\u001b[0m     \u001b[0mcomplex_type\u001b[0m \u001b[1;33m=\u001b[0m \u001b[0mtype_element\u001b[0m\u001b[1;33m.\u001b[0m\u001b[0mattrib\u001b[0m\u001b[1;33m[\u001b[0m\u001b[1;34m'type'\u001b[0m\u001b[1;33m]\u001b[0m\u001b[1;33m.\u001b[0m\u001b[0msplit\u001b[0m\u001b[1;33m(\u001b[0m\u001b[1;34m\":\"\u001b[0m\u001b[1;33m)\u001b[0m\u001b[1;33m[\u001b[0m\u001b[1;36m1\u001b[0m\u001b[1;33m]\u001b[0m\u001b[1;33m\u001b[0m\u001b[1;33m\u001b[0m\u001b[0m\n\u001b[1;32m---> 57\u001b[1;33m     \u001b[0melements\u001b[0m \u001b[1;33m=\u001b[0m \u001b[0m_get_elements\u001b[0m\u001b[1;33m(\u001b[0m\u001b[0mcomplex_type\u001b[0m\u001b[1;33m,\u001b[0m \u001b[0mroot\u001b[0m\u001b[1;33m)\u001b[0m\u001b[1;33m\u001b[0m\u001b[1;33m\u001b[0m\u001b[0m\n\u001b[0m\u001b[0;32m     58\u001b[0m     \u001b[0mnsmap\u001b[0m \u001b[1;33m=\u001b[0m \u001b[1;32mNone\u001b[0m\u001b[1;33m\u001b[0m\u001b[1;33m\u001b[0m\u001b[0m\n\u001b[0;32m     59\u001b[0m     \u001b[1;32mif\u001b[0m \u001b[0mhasattr\u001b[0m\u001b[1;33m(\u001b[0m\u001b[0mroot\u001b[0m\u001b[1;33m,\u001b[0m \u001b[1;34m'nsmap'\u001b[0m\u001b[1;33m)\u001b[0m\u001b[1;33m:\u001b[0m\u001b[1;33m\u001b[0m\u001b[1;33m\u001b[0m\u001b[0m\n",
      "\u001b[1;32mD:\\Program Files\\Anaconda\\lib\\site-packages\\owslib\\feature\\schema.py\u001b[0m in \u001b[0;36m_get_elements\u001b[1;34m(complex_type, root)\u001b[0m\n\u001b[0;32m     68\u001b[0m     \u001b[0mfound_elements\u001b[0m \u001b[1;33m=\u001b[0m \u001b[1;33m[\u001b[0m\u001b[1;33m]\u001b[0m\u001b[1;33m\u001b[0m\u001b[1;33m\u001b[0m\u001b[0m\n\u001b[0;32m     69\u001b[0m     element = findall(root, '{%s}complexType' % XS_NAMESPACE,\n\u001b[1;32m---> 70\u001b[1;33m                        attribute_name='name', attribute_value=complex_type)[0]\n\u001b[0m\u001b[0;32m     71\u001b[0m     \u001b[0mfound_elements\u001b[0m \u001b[1;33m=\u001b[0m \u001b[0mfindall\u001b[0m\u001b[1;33m(\u001b[0m\u001b[0melement\u001b[0m\u001b[1;33m,\u001b[0m \u001b[1;34m'{%s}element'\u001b[0m \u001b[1;33m%\u001b[0m \u001b[0mXS_NAMESPACE\u001b[0m\u001b[1;33m)\u001b[0m\u001b[1;33m\u001b[0m\u001b[1;33m\u001b[0m\u001b[0m\n\u001b[0;32m     72\u001b[0m \u001b[1;33m\u001b[0m\u001b[0m\n",
      "\u001b[1;31mTypeError\u001b[0m: 'NoneType' object is not subscriptable"
     ]
    }
   ],
   "source": [
    "hhz.get_schema(\"gw_varia:hhz\")"
   ]
  },
  {
   "cell_type": "markdown",
   "metadata": {},
   "source": [
    "# Download data from a certain community using layer \"Grondwaterlichamen\""
   ]
  },
  {
   "cell_type": "code",
   "execution_count": 19,
   "metadata": {},
   "outputs": [],
   "source": [
    "gwl = WebFeatureService(\n",
    "    'https://www.dov.vlaanderen.be/geoserver/wfs',\n",
    "    version='1.1.0')"
   ]
  },
  {
   "cell_type": "code",
   "execution_count": 20,
   "metadata": {},
   "outputs": [
    {
     "data": {
      "text/plain": [
       "{'properties': {'id': 'long',\n",
       "  'grondwaterlichaam_afkorting': 'string',\n",
       "  'grondwaterlichaam': 'string',\n",
       "  'grondwatersysteem': 'string',\n",
       "  'EU_code': 'string',\n",
       "  'stroomgebiedsdistrict': 'string',\n",
       "  'horizonten': 'string'},\n",
       " 'geometry': '3D MultiPolygon',\n",
       " 'geometry_column': 'geom'}"
      ]
     },
     "execution_count": 20,
     "metadata": {},
     "output_type": "execute_result"
    }
   ],
   "source": [
    "gwl.get_schema(\"gw_beleid:gwlichamen\")"
   ]
  },
  {
   "cell_type": "code",
   "execution_count": 21,
   "metadata": {},
   "outputs": [],
   "source": [
    "grondwaterlichaam_filter = PropertyIsEqualTo(propertyname='grondwaterlichaam_afkorting', literal='BLKS_0600_GWL_1')"
   ]
  },
  {
   "cell_type": "code",
   "execution_count": 22,
   "metadata": {},
   "outputs": [],
   "source": [
    "grondwaterlichaam_poly = gwl.getfeature(\n",
    "    typename='gw_beleid:gwlichamen',\n",
    "    filter=etree.tostring(grondwaterlichaam_filter.toXML()).decode(\"utf8\")).read()"
   ]
  },
  {
   "cell_type": "code",
   "execution_count": 23,
   "metadata": {},
   "outputs": [],
   "source": [
    "gemeentegrenzen = WebFeatureService(\n",
    "    'https://geoservices.informatievlaanderen.be/overdrachtdiensten/VRBG/wfs',\n",
    "    version='1.1.0')"
   ]
  },
  {
   "cell_type": "code",
   "execution_count": 24,
   "metadata": {},
   "outputs": [],
   "source": [
    "naam_filter = PropertyIsEqualTo(propertyname='NAAM', literal='Hoegaarden')"
   ]
  },
  {
   "cell_type": "code",
   "execution_count": 25,
   "metadata": {},
   "outputs": [],
   "source": [
    "gemeente_poly = gemeentegrenzen.getfeature(\n",
    "    typename='VRBG:Refgem',\n",
    "    filter=etree.tostring(naam_filter.toXML()).decode(\"utf8\")).read()"
   ]
  },
  {
   "cell_type": "code",
   "execution_count": 26,
   "metadata": {},
   "outputs": [],
   "source": [
    "from owslib.fes import And"
   ]
  },
  {
   "cell_type": "code",
   "execution_count": 27,
   "metadata": {},
   "outputs": [
    {
     "name": "stdout",
     "output_type": "stream",
     "text": [
      "[000/047] ccccccccccccccccccccccccccccccccccccccccccccccc\n"
     ]
    }
   ],
   "source": [
    "filter_search = GrondwaterFilterSearch()\n",
    "df = filter_search.search(\n",
    "    location=And([GmlFilter(grondwaterlichaam_poly, Within), GmlFilter(gemeente_poly, Within)]),\n",
    "    return_fields=('pkey_filter', 'x', 'y', 'aquifer_code', 'gemeente', 'grondwaterlichaam_code'))"
   ]
  },
  {
   "cell_type": "code",
   "execution_count": 28,
   "metadata": {},
   "outputs": [
    {
     "data": {
      "text/html": [
       "<div>\n",
       "<style scoped>\n",
       "    .dataframe tbody tr th:only-of-type {\n",
       "        vertical-align: middle;\n",
       "    }\n",
       "\n",
       "    .dataframe tbody tr th {\n",
       "        vertical-align: top;\n",
       "    }\n",
       "\n",
       "    .dataframe thead th {\n",
       "        text-align: right;\n",
       "    }\n",
       "</style>\n",
       "<table border=\"1\" class=\"dataframe\">\n",
       "  <thead>\n",
       "    <tr style=\"text-align: right;\">\n",
       "      <th></th>\n",
       "      <th>pkey_filter</th>\n",
       "      <th>x</th>\n",
       "      <th>y</th>\n",
       "      <th>aquifer_code</th>\n",
       "      <th>gemeente</th>\n",
       "      <th>grondwaterlichaam_code</th>\n",
       "    </tr>\n",
       "  </thead>\n",
       "  <tbody>\n",
       "    <tr>\n",
       "      <th>0</th>\n",
       "      <td>https://www.dov.vlaanderen.be/data/filter/2003...</td>\n",
       "      <td>188318.6600</td>\n",
       "      <td>160810.980000</td>\n",
       "      <td>0620</td>\n",
       "      <td>Hoegaarden</td>\n",
       "      <td>BLKS_0600_GWL_1</td>\n",
       "    </tr>\n",
       "    <tr>\n",
       "      <th>1</th>\n",
       "      <td>https://www.dov.vlaanderen.be/data/filter/2003...</td>\n",
       "      <td>188318.6600</td>\n",
       "      <td>160810.980000</td>\n",
       "      <td>0620</td>\n",
       "      <td>Hoegaarden</td>\n",
       "      <td>BLKS_0600_GWL_1</td>\n",
       "    </tr>\n",
       "    <tr>\n",
       "      <th>2</th>\n",
       "      <td>https://www.dov.vlaanderen.be/data/filter/2003...</td>\n",
       "      <td>188318.6600</td>\n",
       "      <td>160810.980000</td>\n",
       "      <td>1010</td>\n",
       "      <td>Hoegaarden</td>\n",
       "      <td>BLKS_1000_GWL_1S</td>\n",
       "    </tr>\n",
       "    <tr>\n",
       "      <th>3</th>\n",
       "      <td>https://www.dov.vlaanderen.be/data/filter/1996...</td>\n",
       "      <td>183090.0000</td>\n",
       "      <td>165316.000000</td>\n",
       "      <td>0620</td>\n",
       "      <td>Hoegaarden</td>\n",
       "      <td>NaN</td>\n",
       "    </tr>\n",
       "    <tr>\n",
       "      <th>4</th>\n",
       "      <td>https://www.dov.vlaanderen.be/data/filter/1900...</td>\n",
       "      <td>182178.0000</td>\n",
       "      <td>165077.000000</td>\n",
       "      <td>1010</td>\n",
       "      <td>Hoegaarden</td>\n",
       "      <td>NaN</td>\n",
       "    </tr>\n",
       "    <tr>\n",
       "      <th>5</th>\n",
       "      <td>https://www.dov.vlaanderen.be/data/filter/2000...</td>\n",
       "      <td>185319.0000</td>\n",
       "      <td>165155.000000</td>\n",
       "      <td>1000</td>\n",
       "      <td>Hoegaarden</td>\n",
       "      <td>BLKS_1000_GWL_2S</td>\n",
       "    </tr>\n",
       "    <tr>\n",
       "      <th>6</th>\n",
       "      <td>https://www.dov.vlaanderen.be/data/filter/1950...</td>\n",
       "      <td>182992.0000</td>\n",
       "      <td>165091.000000</td>\n",
       "      <td>1010</td>\n",
       "      <td>Hoegaarden</td>\n",
       "      <td>NaN</td>\n",
       "    </tr>\n",
       "    <tr>\n",
       "      <th>7</th>\n",
       "      <td>https://www.dov.vlaanderen.be/data/filter/2003...</td>\n",
       "      <td>185891.3600</td>\n",
       "      <td>165155.100000</td>\n",
       "      <td>0600</td>\n",
       "      <td>Hoegaarden</td>\n",
       "      <td>BLKS_0600_GWL_1</td>\n",
       "    </tr>\n",
       "    <tr>\n",
       "      <th>8</th>\n",
       "      <td>https://www.dov.vlaanderen.be/data/filter/2003...</td>\n",
       "      <td>185891.3600</td>\n",
       "      <td>165155.100000</td>\n",
       "      <td>0600</td>\n",
       "      <td>Hoegaarden</td>\n",
       "      <td>BLKS_0600_GWL_1</td>\n",
       "    </tr>\n",
       "    <tr>\n",
       "      <th>9</th>\n",
       "      <td>https://www.dov.vlaanderen.be/data/filter/2003...</td>\n",
       "      <td>185891.3600</td>\n",
       "      <td>165155.100000</td>\n",
       "      <td>0600</td>\n",
       "      <td>Hoegaarden</td>\n",
       "      <td>BLKS_0600_GWL_1</td>\n",
       "    </tr>\n",
       "    <tr>\n",
       "      <th>10</th>\n",
       "      <td>https://www.dov.vlaanderen.be/data/filter/2003...</td>\n",
       "      <td>184942.2100</td>\n",
       "      <td>166222.490000</td>\n",
       "      <td>0620</td>\n",
       "      <td>Hoegaarden</td>\n",
       "      <td>BLKS_0600_GWL_1</td>\n",
       "    </tr>\n",
       "    <tr>\n",
       "      <th>11</th>\n",
       "      <td>https://www.dov.vlaanderen.be/data/filter/2003...</td>\n",
       "      <td>184942.2100</td>\n",
       "      <td>166222.490000</td>\n",
       "      <td>0620</td>\n",
       "      <td>Hoegaarden</td>\n",
       "      <td>BLKS_0600_GWL_1</td>\n",
       "    </tr>\n",
       "    <tr>\n",
       "      <th>12</th>\n",
       "      <td>https://www.dov.vlaanderen.be/data/filter/2003...</td>\n",
       "      <td>184942.2100</td>\n",
       "      <td>166222.490000</td>\n",
       "      <td>1010</td>\n",
       "      <td>Hoegaarden</td>\n",
       "      <td>BLKS_1000_GWL_2S</td>\n",
       "    </tr>\n",
       "    <tr>\n",
       "      <th>13</th>\n",
       "      <td>https://www.dov.vlaanderen.be/data/filter/1900...</td>\n",
       "      <td>186495.0000</td>\n",
       "      <td>163102.000000</td>\n",
       "      <td>1010</td>\n",
       "      <td>Hoegaarden</td>\n",
       "      <td>BLKS_1000_GWL_1S</td>\n",
       "    </tr>\n",
       "    <tr>\n",
       "      <th>14</th>\n",
       "      <td>https://www.dov.vlaanderen.be/data/filter/1993...</td>\n",
       "      <td>182384.0000</td>\n",
       "      <td>163674.000000</td>\n",
       "      <td>0620</td>\n",
       "      <td>Hoegaarden</td>\n",
       "      <td>NaN</td>\n",
       "    </tr>\n",
       "    <tr>\n",
       "      <th>15</th>\n",
       "      <td>https://www.dov.vlaanderen.be/data/filter/1990...</td>\n",
       "      <td>186445.0000</td>\n",
       "      <td>163125.000000</td>\n",
       "      <td>1010</td>\n",
       "      <td>Hoegaarden</td>\n",
       "      <td>BLKS_1000_GWL_1S</td>\n",
       "    </tr>\n",
       "    <tr>\n",
       "      <th>16</th>\n",
       "      <td>https://www.dov.vlaanderen.be/data/filter/1993...</td>\n",
       "      <td>186583.0000</td>\n",
       "      <td>163220.000000</td>\n",
       "      <td>1010</td>\n",
       "      <td>Hoegaarden</td>\n",
       "      <td>BLKS_1000_GWL_1S</td>\n",
       "    </tr>\n",
       "    <tr>\n",
       "      <th>17</th>\n",
       "      <td>https://www.dov.vlaanderen.be/data/filter/1990...</td>\n",
       "      <td>186455.0000</td>\n",
       "      <td>163163.000000</td>\n",
       "      <td>1010</td>\n",
       "      <td>Hoegaarden</td>\n",
       "      <td>BLKS_1000_GWL_1S</td>\n",
       "    </tr>\n",
       "    <tr>\n",
       "      <th>18</th>\n",
       "      <td>https://www.dov.vlaanderen.be/data/filter/1989...</td>\n",
       "      <td>182419.0000</td>\n",
       "      <td>163603.000000</td>\n",
       "      <td>1010</td>\n",
       "      <td>Hoegaarden</td>\n",
       "      <td>NaN</td>\n",
       "    </tr>\n",
       "    <tr>\n",
       "      <th>19</th>\n",
       "      <td>https://www.dov.vlaanderen.be/data/filter/2001...</td>\n",
       "      <td>185073.0000</td>\n",
       "      <td>162229.000000</td>\n",
       "      <td>1010</td>\n",
       "      <td>Hoegaarden</td>\n",
       "      <td>NaN</td>\n",
       "    </tr>\n",
       "    <tr>\n",
       "      <th>20</th>\n",
       "      <td>https://www.dov.vlaanderen.be/data/filter/1984...</td>\n",
       "      <td>184960.0000</td>\n",
       "      <td>164158.000000</td>\n",
       "      <td>1010</td>\n",
       "      <td>Hoegaarden</td>\n",
       "      <td>NaN</td>\n",
       "    </tr>\n",
       "    <tr>\n",
       "      <th>21</th>\n",
       "      <td>https://www.dov.vlaanderen.be/data/filter/1996...</td>\n",
       "      <td>186589.6875</td>\n",
       "      <td>162369.734375</td>\n",
       "      <td>0620</td>\n",
       "      <td>Hoegaarden</td>\n",
       "      <td>BLKS_0600_GWL_1</td>\n",
       "    </tr>\n",
       "    <tr>\n",
       "      <th>22</th>\n",
       "      <td>https://www.dov.vlaanderen.be/data/filter/1996...</td>\n",
       "      <td>186589.6875</td>\n",
       "      <td>162369.734375</td>\n",
       "      <td>1020</td>\n",
       "      <td>Hoegaarden</td>\n",
       "      <td>BLKS_1000_GWL_1S</td>\n",
       "    </tr>\n",
       "    <tr>\n",
       "      <th>23</th>\n",
       "      <td>https://www.dov.vlaanderen.be/data/filter/1996...</td>\n",
       "      <td>186589.6875</td>\n",
       "      <td>162369.734375</td>\n",
       "      <td>1300</td>\n",
       "      <td>Hoegaarden</td>\n",
       "      <td>BLKS_1100_GWL_2S</td>\n",
       "    </tr>\n",
       "    <tr>\n",
       "      <th>24</th>\n",
       "      <td>https://www.dov.vlaanderen.be/data/filter/1996...</td>\n",
       "      <td>186589.6875</td>\n",
       "      <td>162369.734375</td>\n",
       "      <td>1300</td>\n",
       "      <td>Hoegaarden</td>\n",
       "      <td>BLKS_1100_GWL_2S</td>\n",
       "    </tr>\n",
       "    <tr>\n",
       "      <th>25</th>\n",
       "      <td>https://www.dov.vlaanderen.be/data/filter/1976...</td>\n",
       "      <td>186330.0000</td>\n",
       "      <td>163040.000000</td>\n",
       "      <td>1010</td>\n",
       "      <td>Hoegaarden</td>\n",
       "      <td>NaN</td>\n",
       "    </tr>\n",
       "    <tr>\n",
       "      <th>26</th>\n",
       "      <td>https://www.dov.vlaanderen.be/data/filter/1900...</td>\n",
       "      <td>185780.0000</td>\n",
       "      <td>164211.000000</td>\n",
       "      <td>0600</td>\n",
       "      <td>Hoegaarden</td>\n",
       "      <td>NaN</td>\n",
       "    </tr>\n",
       "    <tr>\n",
       "      <th>27</th>\n",
       "      <td>https://www.dov.vlaanderen.be/data/filter/1900...</td>\n",
       "      <td>182499.0000</td>\n",
       "      <td>164138.000000</td>\n",
       "      <td>1010</td>\n",
       "      <td>Hoegaarden</td>\n",
       "      <td>NaN</td>\n",
       "    </tr>\n",
       "    <tr>\n",
       "      <th>28</th>\n",
       "      <td>https://www.dov.vlaanderen.be/data/filter/2003...</td>\n",
       "      <td>184098.2600</td>\n",
       "      <td>163359.020000</td>\n",
       "      <td>0620</td>\n",
       "      <td>Hoegaarden</td>\n",
       "      <td>BLKS_0600_GWL_1</td>\n",
       "    </tr>\n",
       "    <tr>\n",
       "      <th>29</th>\n",
       "      <td>https://www.dov.vlaanderen.be/data/filter/2003...</td>\n",
       "      <td>184098.2600</td>\n",
       "      <td>163359.020000</td>\n",
       "      <td>0620</td>\n",
       "      <td>Hoegaarden</td>\n",
       "      <td>BLKS_0600_GWL_1</td>\n",
       "    </tr>\n",
       "    <tr>\n",
       "      <th>30</th>\n",
       "      <td>https://www.dov.vlaanderen.be/data/filter/2003...</td>\n",
       "      <td>184098.2600</td>\n",
       "      <td>163359.020000</td>\n",
       "      <td>0620</td>\n",
       "      <td>Hoegaarden</td>\n",
       "      <td>BLKS_0600_GWL_1</td>\n",
       "    </tr>\n",
       "    <tr>\n",
       "      <th>31</th>\n",
       "      <td>https://www.dov.vlaanderen.be/data/filter/2003...</td>\n",
       "      <td>183831.1400</td>\n",
       "      <td>164618.330000</td>\n",
       "      <td>0620</td>\n",
       "      <td>Hoegaarden</td>\n",
       "      <td>BLKS_0600_GWL_1</td>\n",
       "    </tr>\n",
       "    <tr>\n",
       "      <th>32</th>\n",
       "      <td>https://www.dov.vlaanderen.be/data/filter/2003...</td>\n",
       "      <td>183831.1400</td>\n",
       "      <td>164618.330000</td>\n",
       "      <td>1010</td>\n",
       "      <td>Hoegaarden</td>\n",
       "      <td>BLKS_1000_GWL_2S</td>\n",
       "    </tr>\n",
       "    <tr>\n",
       "      <th>33</th>\n",
       "      <td>https://www.dov.vlaanderen.be/data/filter/2003...</td>\n",
       "      <td>183831.1400</td>\n",
       "      <td>164618.330000</td>\n",
       "      <td>1010</td>\n",
       "      <td>Hoegaarden</td>\n",
       "      <td>BLKS_1000_GWL_2S</td>\n",
       "    </tr>\n",
       "    <tr>\n",
       "      <th>34</th>\n",
       "      <td>https://www.dov.vlaanderen.be/data/filter/2003...</td>\n",
       "      <td>185016.1000</td>\n",
       "      <td>163078.910000</td>\n",
       "      <td>0620</td>\n",
       "      <td>Hoegaarden</td>\n",
       "      <td>BLKS_0600_GWL_1</td>\n",
       "    </tr>\n",
       "    <tr>\n",
       "      <th>35</th>\n",
       "      <td>https://www.dov.vlaanderen.be/data/filter/2003...</td>\n",
       "      <td>185016.1000</td>\n",
       "      <td>163078.910000</td>\n",
       "      <td>1013</td>\n",
       "      <td>Hoegaarden</td>\n",
       "      <td>BLKS_1000_GWL_1S</td>\n",
       "    </tr>\n",
       "    <tr>\n",
       "      <th>36</th>\n",
       "      <td>https://www.dov.vlaanderen.be/data/filter/2003...</td>\n",
       "      <td>185016.1000</td>\n",
       "      <td>163078.910000</td>\n",
       "      <td>0620</td>\n",
       "      <td>Hoegaarden</td>\n",
       "      <td>BLKS_0600_GWL_1</td>\n",
       "    </tr>\n",
       "    <tr>\n",
       "      <th>37</th>\n",
       "      <td>https://www.dov.vlaanderen.be/data/filter/1900...</td>\n",
       "      <td>186503.0000</td>\n",
       "      <td>163167.000000</td>\n",
       "      <td>1010</td>\n",
       "      <td>Hoegaarden</td>\n",
       "      <td>NaN</td>\n",
       "    </tr>\n",
       "    <tr>\n",
       "      <th>38</th>\n",
       "      <td>https://www.dov.vlaanderen.be/data/filter/1900...</td>\n",
       "      <td>181909.0000</td>\n",
       "      <td>164540.000000</td>\n",
       "      <td>0620</td>\n",
       "      <td>Hoegaarden</td>\n",
       "      <td>NaN</td>\n",
       "    </tr>\n",
       "    <tr>\n",
       "      <th>39</th>\n",
       "      <td>https://www.dov.vlaanderen.be/data/filter/1900...</td>\n",
       "      <td>182314.0000</td>\n",
       "      <td>163083.000000</td>\n",
       "      <td>0620</td>\n",
       "      <td>Hoegaarden</td>\n",
       "      <td>NaN</td>\n",
       "    </tr>\n",
       "    <tr>\n",
       "      <th>40</th>\n",
       "      <td>https://www.dov.vlaanderen.be/data/filter/2009...</td>\n",
       "      <td>183238.0000</td>\n",
       "      <td>164224.000000</td>\n",
       "      <td>1020</td>\n",
       "      <td>Hoegaarden</td>\n",
       "      <td>NaN</td>\n",
       "    </tr>\n",
       "    <tr>\n",
       "      <th>41</th>\n",
       "      <td>https://www.dov.vlaanderen.be/data/filter/2018...</td>\n",
       "      <td>183397.0000</td>\n",
       "      <td>164470.000000</td>\n",
       "      <td>0000</td>\n",
       "      <td>Hoegaarden</td>\n",
       "      <td>NaN</td>\n",
       "    </tr>\n",
       "    <tr>\n",
       "      <th>42</th>\n",
       "      <td>https://www.dov.vlaanderen.be/data/filter/2000...</td>\n",
       "      <td>183049.0000</td>\n",
       "      <td>162811.000000</td>\n",
       "      <td>0000</td>\n",
       "      <td>Hoegaarden</td>\n",
       "      <td>NaN</td>\n",
       "    </tr>\n",
       "    <tr>\n",
       "      <th>43</th>\n",
       "      <td>https://www.dov.vlaanderen.be/data/filter/2001...</td>\n",
       "      <td>183888.0000</td>\n",
       "      <td>163119.000000</td>\n",
       "      <td>0000</td>\n",
       "      <td>Hoegaarden</td>\n",
       "      <td>NaN</td>\n",
       "    </tr>\n",
       "    <tr>\n",
       "      <th>44</th>\n",
       "      <td>https://www.dov.vlaanderen.be/data/filter/2000...</td>\n",
       "      <td>184275.0000</td>\n",
       "      <td>163019.000000</td>\n",
       "      <td>0000</td>\n",
       "      <td>Hoegaarden</td>\n",
       "      <td>NaN</td>\n",
       "    </tr>\n",
       "    <tr>\n",
       "      <th>45</th>\n",
       "      <td>https://www.dov.vlaanderen.be/data/filter/2001...</td>\n",
       "      <td>184280.0000</td>\n",
       "      <td>162952.000000</td>\n",
       "      <td>0000</td>\n",
       "      <td>Hoegaarden</td>\n",
       "      <td>NaN</td>\n",
       "    </tr>\n",
       "    <tr>\n",
       "      <th>46</th>\n",
       "      <td>https://www.dov.vlaanderen.be/data/filter/1999...</td>\n",
       "      <td>184039.0000</td>\n",
       "      <td>162255.000000</td>\n",
       "      <td>0000</td>\n",
       "      <td>Hoegaarden</td>\n",
       "      <td>NaN</td>\n",
       "    </tr>\n",
       "  </tbody>\n",
       "</table>\n",
       "</div>"
      ],
      "text/plain": [
       "                                          pkey_filter            x  \\\n",
       "0   https://www.dov.vlaanderen.be/data/filter/2003...  188318.6600   \n",
       "1   https://www.dov.vlaanderen.be/data/filter/2003...  188318.6600   \n",
       "2   https://www.dov.vlaanderen.be/data/filter/2003...  188318.6600   \n",
       "3   https://www.dov.vlaanderen.be/data/filter/1996...  183090.0000   \n",
       "4   https://www.dov.vlaanderen.be/data/filter/1900...  182178.0000   \n",
       "5   https://www.dov.vlaanderen.be/data/filter/2000...  185319.0000   \n",
       "6   https://www.dov.vlaanderen.be/data/filter/1950...  182992.0000   \n",
       "7   https://www.dov.vlaanderen.be/data/filter/2003...  185891.3600   \n",
       "8   https://www.dov.vlaanderen.be/data/filter/2003...  185891.3600   \n",
       "9   https://www.dov.vlaanderen.be/data/filter/2003...  185891.3600   \n",
       "10  https://www.dov.vlaanderen.be/data/filter/2003...  184942.2100   \n",
       "11  https://www.dov.vlaanderen.be/data/filter/2003...  184942.2100   \n",
       "12  https://www.dov.vlaanderen.be/data/filter/2003...  184942.2100   \n",
       "13  https://www.dov.vlaanderen.be/data/filter/1900...  186495.0000   \n",
       "14  https://www.dov.vlaanderen.be/data/filter/1993...  182384.0000   \n",
       "15  https://www.dov.vlaanderen.be/data/filter/1990...  186445.0000   \n",
       "16  https://www.dov.vlaanderen.be/data/filter/1993...  186583.0000   \n",
       "17  https://www.dov.vlaanderen.be/data/filter/1990...  186455.0000   \n",
       "18  https://www.dov.vlaanderen.be/data/filter/1989...  182419.0000   \n",
       "19  https://www.dov.vlaanderen.be/data/filter/2001...  185073.0000   \n",
       "20  https://www.dov.vlaanderen.be/data/filter/1984...  184960.0000   \n",
       "21  https://www.dov.vlaanderen.be/data/filter/1996...  186589.6875   \n",
       "22  https://www.dov.vlaanderen.be/data/filter/1996...  186589.6875   \n",
       "23  https://www.dov.vlaanderen.be/data/filter/1996...  186589.6875   \n",
       "24  https://www.dov.vlaanderen.be/data/filter/1996...  186589.6875   \n",
       "25  https://www.dov.vlaanderen.be/data/filter/1976...  186330.0000   \n",
       "26  https://www.dov.vlaanderen.be/data/filter/1900...  185780.0000   \n",
       "27  https://www.dov.vlaanderen.be/data/filter/1900...  182499.0000   \n",
       "28  https://www.dov.vlaanderen.be/data/filter/2003...  184098.2600   \n",
       "29  https://www.dov.vlaanderen.be/data/filter/2003...  184098.2600   \n",
       "30  https://www.dov.vlaanderen.be/data/filter/2003...  184098.2600   \n",
       "31  https://www.dov.vlaanderen.be/data/filter/2003...  183831.1400   \n",
       "32  https://www.dov.vlaanderen.be/data/filter/2003...  183831.1400   \n",
       "33  https://www.dov.vlaanderen.be/data/filter/2003...  183831.1400   \n",
       "34  https://www.dov.vlaanderen.be/data/filter/2003...  185016.1000   \n",
       "35  https://www.dov.vlaanderen.be/data/filter/2003...  185016.1000   \n",
       "36  https://www.dov.vlaanderen.be/data/filter/2003...  185016.1000   \n",
       "37  https://www.dov.vlaanderen.be/data/filter/1900...  186503.0000   \n",
       "38  https://www.dov.vlaanderen.be/data/filter/1900...  181909.0000   \n",
       "39  https://www.dov.vlaanderen.be/data/filter/1900...  182314.0000   \n",
       "40  https://www.dov.vlaanderen.be/data/filter/2009...  183238.0000   \n",
       "41  https://www.dov.vlaanderen.be/data/filter/2018...  183397.0000   \n",
       "42  https://www.dov.vlaanderen.be/data/filter/2000...  183049.0000   \n",
       "43  https://www.dov.vlaanderen.be/data/filter/2001...  183888.0000   \n",
       "44  https://www.dov.vlaanderen.be/data/filter/2000...  184275.0000   \n",
       "45  https://www.dov.vlaanderen.be/data/filter/2001...  184280.0000   \n",
       "46  https://www.dov.vlaanderen.be/data/filter/1999...  184039.0000   \n",
       "\n",
       "                y aquifer_code    gemeente grondwaterlichaam_code  \n",
       "0   160810.980000         0620  Hoegaarden        BLKS_0600_GWL_1  \n",
       "1   160810.980000         0620  Hoegaarden        BLKS_0600_GWL_1  \n",
       "2   160810.980000         1010  Hoegaarden       BLKS_1000_GWL_1S  \n",
       "3   165316.000000         0620  Hoegaarden                    NaN  \n",
       "4   165077.000000         1010  Hoegaarden                    NaN  \n",
       "5   165155.000000         1000  Hoegaarden       BLKS_1000_GWL_2S  \n",
       "6   165091.000000         1010  Hoegaarden                    NaN  \n",
       "7   165155.100000         0600  Hoegaarden        BLKS_0600_GWL_1  \n",
       "8   165155.100000         0600  Hoegaarden        BLKS_0600_GWL_1  \n",
       "9   165155.100000         0600  Hoegaarden        BLKS_0600_GWL_1  \n",
       "10  166222.490000         0620  Hoegaarden        BLKS_0600_GWL_1  \n",
       "11  166222.490000         0620  Hoegaarden        BLKS_0600_GWL_1  \n",
       "12  166222.490000         1010  Hoegaarden       BLKS_1000_GWL_2S  \n",
       "13  163102.000000         1010  Hoegaarden       BLKS_1000_GWL_1S  \n",
       "14  163674.000000         0620  Hoegaarden                    NaN  \n",
       "15  163125.000000         1010  Hoegaarden       BLKS_1000_GWL_1S  \n",
       "16  163220.000000         1010  Hoegaarden       BLKS_1000_GWL_1S  \n",
       "17  163163.000000         1010  Hoegaarden       BLKS_1000_GWL_1S  \n",
       "18  163603.000000         1010  Hoegaarden                    NaN  \n",
       "19  162229.000000         1010  Hoegaarden                    NaN  \n",
       "20  164158.000000         1010  Hoegaarden                    NaN  \n",
       "21  162369.734375         0620  Hoegaarden        BLKS_0600_GWL_1  \n",
       "22  162369.734375         1020  Hoegaarden       BLKS_1000_GWL_1S  \n",
       "23  162369.734375         1300  Hoegaarden       BLKS_1100_GWL_2S  \n",
       "24  162369.734375         1300  Hoegaarden       BLKS_1100_GWL_2S  \n",
       "25  163040.000000         1010  Hoegaarden                    NaN  \n",
       "26  164211.000000         0600  Hoegaarden                    NaN  \n",
       "27  164138.000000         1010  Hoegaarden                    NaN  \n",
       "28  163359.020000         0620  Hoegaarden        BLKS_0600_GWL_1  \n",
       "29  163359.020000         0620  Hoegaarden        BLKS_0600_GWL_1  \n",
       "30  163359.020000         0620  Hoegaarden        BLKS_0600_GWL_1  \n",
       "31  164618.330000         0620  Hoegaarden        BLKS_0600_GWL_1  \n",
       "32  164618.330000         1010  Hoegaarden       BLKS_1000_GWL_2S  \n",
       "33  164618.330000         1010  Hoegaarden       BLKS_1000_GWL_2S  \n",
       "34  163078.910000         0620  Hoegaarden        BLKS_0600_GWL_1  \n",
       "35  163078.910000         1013  Hoegaarden       BLKS_1000_GWL_1S  \n",
       "36  163078.910000         0620  Hoegaarden        BLKS_0600_GWL_1  \n",
       "37  163167.000000         1010  Hoegaarden                    NaN  \n",
       "38  164540.000000         0620  Hoegaarden                    NaN  \n",
       "39  163083.000000         0620  Hoegaarden                    NaN  \n",
       "40  164224.000000         1020  Hoegaarden                    NaN  \n",
       "41  164470.000000         0000  Hoegaarden                    NaN  \n",
       "42  162811.000000         0000  Hoegaarden                    NaN  \n",
       "43  163119.000000         0000  Hoegaarden                    NaN  \n",
       "44  163019.000000         0000  Hoegaarden                    NaN  \n",
       "45  162952.000000         0000  Hoegaarden                    NaN  \n",
       "46  162255.000000         0000  Hoegaarden                    NaN  "
      ]
     },
     "execution_count": 28,
     "metadata": {},
     "output_type": "execute_result"
    }
   ],
   "source": [
    "df"
   ]
  },
  {
   "cell_type": "code",
   "execution_count": null,
   "metadata": {},
   "outputs": [],
   "source": []
  }
 ],
 "metadata": {
  "kernelspec": {
   "display_name": "Python 3",
   "language": "python",
   "name": "python3"
  },
  "language_info": {
   "codemirror_mode": {
    "name": "ipython",
    "version": 3
   },
   "file_extension": ".py",
   "mimetype": "text/x-python",
   "name": "python",
   "nbconvert_exporter": "python",
   "pygments_lexer": "ipython3",
   "version": "3.7.3"
  }
 },
 "nbformat": 4,
 "nbformat_minor": 2
}
