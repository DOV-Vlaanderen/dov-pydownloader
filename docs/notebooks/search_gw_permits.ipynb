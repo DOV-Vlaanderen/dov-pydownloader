{
 "cells": [
  {
   "cell_type": "markdown",
   "metadata": {},
   "source": [
    "# Example of DOV search methods for groundwater permits (vergunningen)"
   ]
  },
  {
   "cell_type": "markdown",
   "metadata": {},
   "source": [
    "[![Binder](https://mybinder.org/badge_logo.svg)](https://mybinder.org/v2/gh/DOV-Vlaanderen/pydov/master?filepath=docs%2Fnotebooks%2Fsearch_boringen.ipynb)"
   ]
  },
  {
   "cell_type": "markdown",
   "metadata": {},
   "source": [
    "Mind that the data source of groundwater permits is just a WFS. It can be accessed with simple WFS calls from OWSLib. It is included in the pydov API for ease of access for less experienced users. And to provide a general interface with unit testing to all considered objects."
   ]
  },
  {
   "cell_type": "markdown",
   "metadata": {},
   "source": [
    "## Use cases explained below\n",
    "* Get permits in a bounding box\n",
    "* Get permits in a bounding box based on specific properties\n",
    "* Select permits in a municipality and return depth\n",
    "* Get permits based on fields not available in the standard output dataframe\n",
    "* Get permits, returning fields not available in the standard output dataframe\n",
    "* Get for a certain permit the measured water quality parameters if available"
   ]
  },
  {
   "cell_type": "code",
   "execution_count": 1,
   "metadata": {},
   "outputs": [],
   "source": [
    "%matplotlib inline\n",
    "import inspect, sys\n",
    "import warnings; warnings.simplefilter('ignore')"
   ]
  },
  {
   "cell_type": "code",
   "execution_count": 2,
   "metadata": {},
   "outputs": [],
   "source": [
    "# check pydov path\n",
    "import pydov"
   ]
  },
  {
   "cell_type": "markdown",
   "metadata": {},
   "source": [
    "## Get information about the datatype 'Gwvergunningen'"
   ]
  },
  {
   "cell_type": "code",
   "execution_count": 3,
   "metadata": {},
   "outputs": [],
   "source": [
    "from pydov.search.gwvergunningen import GwvergunningenSearch\n",
    "gwv = GwvergunningenSearch()"
   ]
  },
  {
   "cell_type": "markdown",
   "metadata": {},
   "source": [
    "A description is provided for the 'Gwvergunningen' datatype (in Dutch):"
   ]
  },
  {
   "cell_type": "code",
   "execution_count": 5,
   "metadata": {},
   "outputs": [
    {
     "data": {
      "text/plain": [
       "'Vergunningen verleend voor het winnen van grondwater kunnen gevisualiseerd en bevraagd worden in de Databank Ondergrond Vlaanderen. \\r\\nSinds 1999 zijn vergunningen verleend volgens de VLAREM-wetgeving. Ze zijn ingedeeld in klasse 1, 2 of 3, waarbij er voor klasse 1 en 2 een vergunningsplicht geldt en voor klasse 3 een meldingsplicht. De indelingslijst is terug te vinden in VLAREM I (het winnen van grondwater is opgenomen onder rubriek 53). Oudere aanvragen zijn verleend volgens het Grondwaterdecreet. Deze zijn ingedeeld in categorie A, B en C.'"
      ]
     },
     "execution_count": 5,
     "metadata": {},
     "output_type": "execute_result"
    }
   ],
   "source": [
    "gwv.get_description()"
   ]
  },
  {
   "cell_type": "markdown",
   "metadata": {},
   "source": [
    "The different fields that are available for objects of the 'Gwvergunningen' datatype can be requested with the get_fields() method:"
   ]
  },
  {
   "cell_type": "code",
   "execution_count": 12,
   "metadata": {},
   "outputs": [
    {
     "name": "stdout",
     "output_type": "stream",
     "text": [
      "pkey_vergunning\n",
      "pkey_installatie\n",
      "exploitant_naam\n",
      "inrichtingsnummer\n",
      "watnr\n",
      "vlaremrubriek\n",
      "vergund_jaardebiet\n",
      "vergund_dagdebiet\n",
      "van_datum_termijn\n",
      "tot_datum_termijn\n",
      "aquifer_vergunning\n",
      "diepte\n",
      "vergund_aantal_putten\n",
      "inrichtingsklasse\n",
      "vergunningverlenende_overheid_VVO\n",
      "referentie_VVO\n",
      "nacebelcode\n",
      "IIOA_CBBnr\n",
      "IIOA_adres\n",
      "grondwaterlichaam\n",
      "actie_waakgebied\n",
      "x\n",
      "y\n",
      "exploitant_adres\n",
      "cbbnr\n",
      "kbonr\n",
      "heffingsnummer\n",
      "exploitant_namen\n"
     ]
    }
   ],
   "source": [
    "fields = gwv.get_fields()\n",
    "\n",
    "# print available fields\n",
    "for f in fields.values():\n",
    "    print(f['name'])"
   ]
  },
  {
   "cell_type": "markdown",
   "metadata": {},
   "source": [
    "You can get more information of a field by requesting it from the fields dictionary:\n",
    "* *name*: name of the field\n",
    "* *definition*: definition of this field\n",
    "* *cost*: currently this is either 1 or 10, depending on the datasource of the field. It is an indication of the expected time it will take to retrieve this field in the output dataframe. However, since the data source is currently a WFS, the cost of each field is 1\n",
    "* *notnull*: whether the field is mandatory or not\n",
    "* *type*: datatype of the values of this field"
   ]
  },
  {
   "cell_type": "code",
   "execution_count": 7,
   "metadata": {},
   "outputs": [
    {
     "data": {
      "text/plain": [
       "{'name': 'actie_waakgebied',\n",
       " 'definition': 'de actie- en waakgebieden afgebakend i.k.v. het gebiedspecifieke beleid zoals vastgesteld in de herstelprogrammas voor grondwaterlichamen in ontoereikende kwantitatieve toestand binnen het Centraal Vlaams Systeem, het Brulandkrijtsysteem en het Sokkelsysteem (2016-2021)',\n",
       " 'type': 'string',\n",
       " 'notnull': False,\n",
       " 'query': True,\n",
       " 'cost': 1}"
      ]
     },
     "execution_count": 7,
     "metadata": {},
     "output_type": "execute_result"
    }
   ],
   "source": [
    "fields['actie_waakgebied']"
   ]
  },
  {
   "cell_type": "markdown",
   "metadata": {},
   "source": [
    "## Example use cases"
   ]
  },
  {
   "cell_type": "markdown",
   "metadata": {},
   "source": [
    "### Get permits in a bounding box"
   ]
  },
  {
   "cell_type": "markdown",
   "metadata": {},
   "source": [
    "Get data for all the permits that are geographically located within the bounds of the specified box.\n",
    "\n",
    "The coordinates are in the Belgian Lambert72 (EPSG:31370) coordinate system and are given in the order of lower left x, lower left y, upper right x, upper right y."
   ]
  },
  {
   "cell_type": "code",
   "execution_count": 21,
   "metadata": {},
   "outputs": [
    {
     "data": {
      "text/html": [
       "<div>\n",
       "<style scoped>\n",
       "    .dataframe tbody tr th:only-of-type {\n",
       "        vertical-align: middle;\n",
       "    }\n",
       "\n",
       "    .dataframe tbody tr th {\n",
       "        vertical-align: top;\n",
       "    }\n",
       "\n",
       "    .dataframe thead th {\n",
       "        text-align: right;\n",
       "    }\n",
       "</style>\n",
       "<table border=\"1\" class=\"dataframe\">\n",
       "  <thead>\n",
       "    <tr style=\"text-align: right;\">\n",
       "      <th></th>\n",
       "      <th>pkey_vergunning</th>\n",
       "      <th>pkey_installatie</th>\n",
       "      <th>x</th>\n",
       "      <th>y</th>\n",
       "      <th>diepte</th>\n",
       "      <th>exploitant_naam</th>\n",
       "      <th>watnr</th>\n",
       "      <th>vlaremrubriek</th>\n",
       "      <th>vergund_jaardebiet</th>\n",
       "      <th>vergund_dagdebiet</th>\n",
       "      <th>van_datum_termijn</th>\n",
       "      <th>tot_datum_termijn</th>\n",
       "      <th>aquifer_vergunning</th>\n",
       "      <th>inrichtingsklasse</th>\n",
       "      <th>nacebelcode</th>\n",
       "      <th>actie_waakgebied</th>\n",
       "      <th>cbbnr</th>\n",
       "      <th>kbonr</th>\n",
       "    </tr>\n",
       "  </thead>\n",
       "  <tbody>\n",
       "    <tr>\n",
       "      <th>0</th>\n",
       "      <td>52274</td>\n",
       "      <td>https://www.dov.vlaanderen.be/data/installatie...</td>\n",
       "      <td>162544.5</td>\n",
       "      <td>209296.7</td>\n",
       "      <td>48.0</td>\n",
       "      <td>ORDAL BVBA</td>\n",
       "      <td>ANT/gw1-3158</td>\n",
       "      <td>53.8.3</td>\n",
       "      <td>89000.0</td>\n",
       "      <td>48.0</td>\n",
       "      <td>2013-02-21</td>\n",
       "      <td>2033-02-21</td>\n",
       "      <td>0254: Zanden van Berchem en/of Voort</td>\n",
       "      <td>Klasse 1</td>\n",
       "      <td>1107: Vervaardiging van frisdranken; productie...</td>\n",
       "      <td>geen actie/waakgebieden</td>\n",
       "      <td>00105559000013</td>\n",
       "      <td>NaN</td>\n",
       "    </tr>\n",
       "    <tr>\n",
       "      <th>1</th>\n",
       "      <td>41358</td>\n",
       "      <td>https://www.dov.vlaanderen.be/data/installatie...</td>\n",
       "      <td>162544.5</td>\n",
       "      <td>209296.7</td>\n",
       "      <td>48.0</td>\n",
       "      <td>ORDAL BVBA</td>\n",
       "      <td>ant-gw1-1382</td>\n",
       "      <td>53.8.3</td>\n",
       "      <td>64000.0</td>\n",
       "      <td>290.0</td>\n",
       "      <td>2007-03-01</td>\n",
       "      <td>2013-02-20</td>\n",
       "      <td>0254: Zanden van Berchem en/of Voort</td>\n",
       "      <td>Klasse 1</td>\n",
       "      <td>1107: Vervaardiging van frisdranken; productie...</td>\n",
       "      <td>geen actie/waakgebieden</td>\n",
       "      <td>00105559000013</td>\n",
       "      <td>NaN</td>\n",
       "    </tr>\n",
       "    <tr>\n",
       "      <th>2</th>\n",
       "      <td>13851</td>\n",
       "      <td>https://www.dov.vlaanderen.be/data/installatie...</td>\n",
       "      <td>162544.5</td>\n",
       "      <td>209296.7</td>\n",
       "      <td>48.0</td>\n",
       "      <td>ORDAL BVBA</td>\n",
       "      <td>ANT-017/GW1</td>\n",
       "      <td>53.8.3</td>\n",
       "      <td>32400.0</td>\n",
       "      <td>135.0</td>\n",
       "      <td>1993-08-26</td>\n",
       "      <td>2007-02-28</td>\n",
       "      <td>0254: Zanden van Berchem en/of Voort</td>\n",
       "      <td>Categorie B</td>\n",
       "      <td>1107: Vervaardiging van frisdranken; productie...</td>\n",
       "      <td>geen actie/waakgebieden</td>\n",
       "      <td>00105559000013</td>\n",
       "      <td>NaN</td>\n",
       "    </tr>\n",
       "    <tr>\n",
       "      <th>3</th>\n",
       "      <td>13927</td>\n",
       "      <td>https://www.dov.vlaanderen.be/data/installatie...</td>\n",
       "      <td>162260.0</td>\n",
       "      <td>207180.0</td>\n",
       "      <td>36.0</td>\n",
       "      <td>VERCAMMEN EDDY</td>\n",
       "      <td>ANT-gw2/1169</td>\n",
       "      <td>99</td>\n",
       "      <td>10000.0</td>\n",
       "      <td>72.0</td>\n",
       "      <td>1995-07-10</td>\n",
       "      <td>2010-12-31</td>\n",
       "      <td>0250: Mioceen Aquifersysteem</td>\n",
       "      <td>Categorie A</td>\n",
       "      <td>013: Plantenvermeerdering</td>\n",
       "      <td>geen actie/waakgebieden</td>\n",
       "      <td>01130594000046</td>\n",
       "      <td>NaN</td>\n",
       "    </tr>\n",
       "    <tr>\n",
       "      <th>4</th>\n",
       "      <td>14725</td>\n",
       "      <td>https://www.dov.vlaanderen.be/data/installatie...</td>\n",
       "      <td>163100.0</td>\n",
       "      <td>207930.0</td>\n",
       "      <td>18.0</td>\n",
       "      <td>HOES GUSTAAF</td>\n",
       "      <td>ANT-Z1000701</td>\n",
       "      <td>99</td>\n",
       "      <td>7000.0</td>\n",
       "      <td>90.0</td>\n",
       "      <td>1979-02-13</td>\n",
       "      <td>2005-08-20</td>\n",
       "      <td>0250: Mioceen Aquifersysteem</td>\n",
       "      <td>Categorie A</td>\n",
       "      <td>01: Teelt van gewassen, veeteelt, jacht en die...</td>\n",
       "      <td>geen actie/waakgebieden</td>\n",
       "      <td>NaN</td>\n",
       "      <td>NaN</td>\n",
       "    </tr>\n",
       "  </tbody>\n",
       "</table>\n",
       "</div>"
      ],
      "text/plain": [
       "  pkey_vergunning                                   pkey_installatie  \\\n",
       "0           52274  https://www.dov.vlaanderen.be/data/installatie...   \n",
       "1           41358  https://www.dov.vlaanderen.be/data/installatie...   \n",
       "2           13851  https://www.dov.vlaanderen.be/data/installatie...   \n",
       "3           13927  https://www.dov.vlaanderen.be/data/installatie...   \n",
       "4           14725  https://www.dov.vlaanderen.be/data/installatie...   \n",
       "\n",
       "          x         y  diepte exploitant_naam         watnr vlaremrubriek  \\\n",
       "0  162544.5  209296.7    48.0      ORDAL BVBA  ANT/gw1-3158        53.8.3   \n",
       "1  162544.5  209296.7    48.0      ORDAL BVBA  ant-gw1-1382        53.8.3   \n",
       "2  162544.5  209296.7    48.0      ORDAL BVBA   ANT-017/GW1        53.8.3   \n",
       "3  162260.0  207180.0    36.0  VERCAMMEN EDDY  ANT-gw2/1169            99   \n",
       "4  163100.0  207930.0    18.0    HOES GUSTAAF  ANT-Z1000701            99   \n",
       "\n",
       "   vergund_jaardebiet  vergund_dagdebiet van_datum_termijn tot_datum_termijn  \\\n",
       "0             89000.0               48.0        2013-02-21        2033-02-21   \n",
       "1             64000.0              290.0        2007-03-01        2013-02-20   \n",
       "2             32400.0              135.0        1993-08-26        2007-02-28   \n",
       "3             10000.0               72.0        1995-07-10        2010-12-31   \n",
       "4              7000.0               90.0        1979-02-13        2005-08-20   \n",
       "\n",
       "                     aquifer_vergunning inrichtingsklasse  \\\n",
       "0  0254: Zanden van Berchem en/of Voort          Klasse 1   \n",
       "1  0254: Zanden van Berchem en/of Voort          Klasse 1   \n",
       "2  0254: Zanden van Berchem en/of Voort       Categorie B   \n",
       "3          0250: Mioceen Aquifersysteem       Categorie A   \n",
       "4          0250: Mioceen Aquifersysteem       Categorie A   \n",
       "\n",
       "                                         nacebelcode         actie_waakgebied  \\\n",
       "0  1107: Vervaardiging van frisdranken; productie...  geen actie/waakgebieden   \n",
       "1  1107: Vervaardiging van frisdranken; productie...  geen actie/waakgebieden   \n",
       "2  1107: Vervaardiging van frisdranken; productie...  geen actie/waakgebieden   \n",
       "3                          013: Plantenvermeerdering  geen actie/waakgebieden   \n",
       "4  01: Teelt van gewassen, veeteelt, jacht en die...  geen actie/waakgebieden   \n",
       "\n",
       "            cbbnr kbonr  \n",
       "0  00105559000013   NaN  \n",
       "1  00105559000013   NaN  \n",
       "2  00105559000013   NaN  \n",
       "3  01130594000046   NaN  \n",
       "4             NaN   NaN  "
      ]
     },
     "execution_count": 21,
     "metadata": {},
     "output_type": "execute_result"
    }
   ],
   "source": [
    "from pydov.util.location import Within, Box\n",
    "\n",
    "df = gwv.search(location=Within(Box(153145, 206930, 163150, 216935)))\n",
    "df.head()"
   ]
  },
  {
   "cell_type": "code",
   "execution_count": 22,
   "metadata": {},
   "outputs": [
    {
     "data": {
      "text/plain": [
       "338"
      ]
     },
     "execution_count": 22,
     "metadata": {},
     "output_type": "execute_result"
    }
   ],
   "source": [
    "len(df)"
   ]
  },
  {
   "cell_type": "markdown",
   "metadata": {},
   "source": [
    "338 permits were obtained in this bbox. However, not all permits are stil active, indicated by *tot_datum_termijn*. The permit with *pkey_vergunning* 52274 is still active with the aim of pumping more than 30k cubic meter of water as is described in Vlarem II, referenced by *vlaremrubriek*. See [this link](https://navigator.emis.vito.be/mijn-navigator?woId=70336) for more information about the potential definitions."
   ]
  },
  {
   "cell_type": "code",
   "execution_count": 16,
   "metadata": {},
   "outputs": [
    {
     "data": {
      "text/plain": [
       "{'name': 'vlaremrubriek',\n",
       " 'definition': 'Code die gebruikt wordt in VLAREM (bijlage 1 VLAREM II) om een rubriek aan te duiden',\n",
       " 'type': 'string',\n",
       " 'notnull': False,\n",
       " 'query': True,\n",
       " 'cost': 1}"
      ]
     },
     "execution_count": 16,
     "metadata": {},
     "output_type": "execute_result"
    }
   ],
   "source": [
    "fields['vlaremrubriek']"
   ]
  },
  {
   "cell_type": "markdown",
   "metadata": {},
   "source": [
    "### Get permits in a bounding box with specific properties"
   ]
  },
  {
   "cell_type": "markdown",
   "metadata": {},
   "source": [
    "Next to querying permits based on their geographic location within a bounding box, we can also search for permits matching a specific set of properties. For this we can build a query using a combination of the 'Gwvergunningen' fields and operators provided by the WFS protocol.\n",
    "\n",
    "A list of possible operators can be found below:"
   ]
  },
  {
   "cell_type": "code",
   "execution_count": 10,
   "metadata": {},
   "outputs": [
    {
     "data": {
      "text/plain": [
       "['PropertyIsBetween',\n",
       " 'PropertyIsEqualTo',\n",
       " 'PropertyIsGreaterThan',\n",
       " 'PropertyIsGreaterThanOrEqualTo',\n",
       " 'PropertyIsLessThan',\n",
       " 'PropertyIsLessThanOrEqualTo',\n",
       " 'PropertyIsLike',\n",
       " 'PropertyIsNotEqualTo',\n",
       " 'PropertyIsNull',\n",
       " 'SortProperty']"
      ]
     },
     "execution_count": 10,
     "metadata": {},
     "output_type": "execute_result"
    }
   ],
   "source": [
    "[i for i,j in inspect.getmembers(sys.modules['owslib.fes'], inspect.isclass) if 'Property' in i]"
   ]
  },
  {
   "cell_type": "markdown",
   "metadata": {},
   "source": [
    "In this example we build a query using the *PropertyIsGreaterThan* operator in addition to the earlier bbox, to restrict the query to active permits:"
   ]
  },
  {
   "cell_type": "code",
   "execution_count": 18,
   "metadata": {},
   "outputs": [
    {
     "data": {
      "text/html": [
       "<div>\n",
       "<style scoped>\n",
       "    .dataframe tbody tr th:only-of-type {\n",
       "        vertical-align: middle;\n",
       "    }\n",
       "\n",
       "    .dataframe tbody tr th {\n",
       "        vertical-align: top;\n",
       "    }\n",
       "\n",
       "    .dataframe thead th {\n",
       "        text-align: right;\n",
       "    }\n",
       "</style>\n",
       "<table border=\"1\" class=\"dataframe\">\n",
       "  <thead>\n",
       "    <tr style=\"text-align: right;\">\n",
       "      <th></th>\n",
       "      <th>pkey_vergunning</th>\n",
       "      <th>pkey_installatie</th>\n",
       "      <th>x</th>\n",
       "      <th>y</th>\n",
       "      <th>diepte</th>\n",
       "      <th>exploitant_naam</th>\n",
       "      <th>watnr</th>\n",
       "      <th>vlaremrubriek</th>\n",
       "      <th>vergund_jaardebiet</th>\n",
       "      <th>vergund_dagdebiet</th>\n",
       "      <th>van_datum_termijn</th>\n",
       "      <th>tot_datum_termijn</th>\n",
       "      <th>aquifer_vergunning</th>\n",
       "      <th>inrichtingsklasse</th>\n",
       "      <th>nacebelcode</th>\n",
       "      <th>actie_waakgebied</th>\n",
       "      <th>cbbnr</th>\n",
       "      <th>kbonr</th>\n",
       "    </tr>\n",
       "  </thead>\n",
       "  <tbody>\n",
       "    <tr>\n",
       "      <th>0</th>\n",
       "      <td>52274</td>\n",
       "      <td>https://www.dov.vlaanderen.be/data/installatie...</td>\n",
       "      <td>162544.5</td>\n",
       "      <td>209296.7</td>\n",
       "      <td>48.0</td>\n",
       "      <td>ORDAL BVBA</td>\n",
       "      <td>ANT/gw1-3158</td>\n",
       "      <td>53.8.3</td>\n",
       "      <td>89000.0</td>\n",
       "      <td>48.0</td>\n",
       "      <td>2013-02-21</td>\n",
       "      <td>2033-02-21</td>\n",
       "      <td>0254: Zanden van Berchem en/of Voort</td>\n",
       "      <td>Klasse 1</td>\n",
       "      <td>1107: Vervaardiging van frisdranken; productie...</td>\n",
       "      <td>geen actie/waakgebieden</td>\n",
       "      <td>00105559000013</td>\n",
       "      <td>NaN</td>\n",
       "    </tr>\n",
       "    <tr>\n",
       "      <th>1</th>\n",
       "      <td>32168</td>\n",
       "      <td>https://www.dov.vlaanderen.be/data/installatie...</td>\n",
       "      <td>162265.0</td>\n",
       "      <td>207320.0</td>\n",
       "      <td>-1.0</td>\n",
       "      <td>VERCAMMEN FRANS</td>\n",
       "      <td>ANT-gw2/4540</td>\n",
       "      <td>53.8.2&lt;17</td>\n",
       "      <td>4000.0</td>\n",
       "      <td>NaN</td>\n",
       "      <td>2005-04-18</td>\n",
       "      <td>2025-05-18</td>\n",
       "      <td>0250: Mioceen Aquifersysteem</td>\n",
       "      <td>Klasse 2</td>\n",
       "      <td>01: Teelt van gewassen, veeteelt, jacht en die...</td>\n",
       "      <td>geen actie/waakgebieden</td>\n",
       "      <td>NaN</td>\n",
       "      <td>NaN</td>\n",
       "    </tr>\n",
       "    <tr>\n",
       "      <th>2</th>\n",
       "      <td>60671</td>\n",
       "      <td>https://www.dov.vlaanderen.be/data/installatie...</td>\n",
       "      <td>161861.0</td>\n",
       "      <td>216342.0</td>\n",
       "      <td>80.0</td>\n",
       "      <td>OMNISPORT NV</td>\n",
       "      <td>ANT-gw2/7523</td>\n",
       "      <td>53.8.1.b</td>\n",
       "      <td>1000.0</td>\n",
       "      <td>40.0</td>\n",
       "      <td>2018-03-13</td>\n",
       "      <td>2999-12-31</td>\n",
       "      <td>0254: Zanden van Berchem en/of Voort</td>\n",
       "      <td>Klasse 2</td>\n",
       "      <td>93: Sport, ontspanning en recreatie</td>\n",
       "      <td>geen actie/waakgebieden</td>\n",
       "      <td>NaN</td>\n",
       "      <td>NaN</td>\n",
       "    </tr>\n",
       "    <tr>\n",
       "      <th>3</th>\n",
       "      <td>51906</td>\n",
       "      <td>https://www.dov.vlaanderen.be/data/installatie...</td>\n",
       "      <td>162790.0</td>\n",
       "      <td>207305.0</td>\n",
       "      <td>90.0</td>\n",
       "      <td>JONAVER BVBA</td>\n",
       "      <td>ANT/gw2-6411</td>\n",
       "      <td>53.8.2&lt;17</td>\n",
       "      <td>4000.0</td>\n",
       "      <td>NaN</td>\n",
       "      <td>2012-12-03</td>\n",
       "      <td>2032-12-03</td>\n",
       "      <td>0250: Mioceen Aquifersysteem</td>\n",
       "      <td>Klasse 2</td>\n",
       "      <td>013: Plantenvermeerdering</td>\n",
       "      <td>geen actie/waakgebieden</td>\n",
       "      <td>NaN</td>\n",
       "      <td>NaN</td>\n",
       "    </tr>\n",
       "    <tr>\n",
       "      <th>4</th>\n",
       "      <td>53757</td>\n",
       "      <td>https://www.dov.vlaanderen.be/data/installatie...</td>\n",
       "      <td>162394.0</td>\n",
       "      <td>209465.0</td>\n",
       "      <td>52.0</td>\n",
       "      <td>HARO BVBA</td>\n",
       "      <td>ANT-gw2/3905</td>\n",
       "      <td>53.8.1&lt;17</td>\n",
       "      <td>300.0</td>\n",
       "      <td>NaN</td>\n",
       "      <td>2001-02-28</td>\n",
       "      <td>2021-02-28</td>\n",
       "      <td>0254: Zanden van Berchem en/of Voort</td>\n",
       "      <td>Klasse 2</td>\n",
       "      <td>1052: Vervaardiging van consumptie-ijs</td>\n",
       "      <td>geen actie/waakgebieden</td>\n",
       "      <td>NaN</td>\n",
       "      <td>NaN</td>\n",
       "    </tr>\n",
       "  </tbody>\n",
       "</table>\n",
       "</div>"
      ],
      "text/plain": [
       "  pkey_vergunning                                   pkey_installatie  \\\n",
       "0           52274  https://www.dov.vlaanderen.be/data/installatie...   \n",
       "1           32168  https://www.dov.vlaanderen.be/data/installatie...   \n",
       "2           60671  https://www.dov.vlaanderen.be/data/installatie...   \n",
       "3           51906  https://www.dov.vlaanderen.be/data/installatie...   \n",
       "4           53757  https://www.dov.vlaanderen.be/data/installatie...   \n",
       "\n",
       "          x         y  diepte  exploitant_naam         watnr vlaremrubriek  \\\n",
       "0  162544.5  209296.7    48.0       ORDAL BVBA  ANT/gw1-3158        53.8.3   \n",
       "1  162265.0  207320.0    -1.0  VERCAMMEN FRANS  ANT-gw2/4540     53.8.2<17   \n",
       "2  161861.0  216342.0    80.0     OMNISPORT NV  ANT-gw2/7523      53.8.1.b   \n",
       "3  162790.0  207305.0    90.0     JONAVER BVBA  ANT/gw2-6411     53.8.2<17   \n",
       "4  162394.0  209465.0    52.0        HARO BVBA  ANT-gw2/3905     53.8.1<17   \n",
       "\n",
       "   vergund_jaardebiet  vergund_dagdebiet van_datum_termijn tot_datum_termijn  \\\n",
       "0             89000.0               48.0        2013-02-21        2033-02-21   \n",
       "1              4000.0                NaN        2005-04-18        2025-05-18   \n",
       "2              1000.0               40.0        2018-03-13        2999-12-31   \n",
       "3              4000.0                NaN        2012-12-03        2032-12-03   \n",
       "4               300.0                NaN        2001-02-28        2021-02-28   \n",
       "\n",
       "                     aquifer_vergunning inrichtingsklasse  \\\n",
       "0  0254: Zanden van Berchem en/of Voort          Klasse 1   \n",
       "1          0250: Mioceen Aquifersysteem          Klasse 2   \n",
       "2  0254: Zanden van Berchem en/of Voort          Klasse 2   \n",
       "3          0250: Mioceen Aquifersysteem          Klasse 2   \n",
       "4  0254: Zanden van Berchem en/of Voort          Klasse 2   \n",
       "\n",
       "                                         nacebelcode         actie_waakgebied  \\\n",
       "0  1107: Vervaardiging van frisdranken; productie...  geen actie/waakgebieden   \n",
       "1  01: Teelt van gewassen, veeteelt, jacht en die...  geen actie/waakgebieden   \n",
       "2                93: Sport, ontspanning en recreatie  geen actie/waakgebieden   \n",
       "3                          013: Plantenvermeerdering  geen actie/waakgebieden   \n",
       "4             1052: Vervaardiging van consumptie-ijs  geen actie/waakgebieden   \n",
       "\n",
       "            cbbnr kbonr  \n",
       "0  00105559000013   NaN  \n",
       "1             NaN   NaN  \n",
       "2             NaN   NaN  \n",
       "3             NaN   NaN  \n",
       "4             NaN   NaN  "
      ]
     },
     "execution_count": 18,
     "metadata": {},
     "output_type": "execute_result"
    }
   ],
   "source": [
    "from owslib.fes import PropertyIsGreaterThan\n",
    "\n",
    "query = PropertyIsGreaterThan(propertyname='tot_datum_termijn',\n",
    "                          literal='2020-09-01')\n",
    "df = gwv.search(query=query,\n",
    "                location=Within(Box(153145, 206930, 163150, 216935)))\n",
    "\n",
    "df.head()"
   ]
  },
  {
   "cell_type": "code",
   "execution_count": 20,
   "metadata": {},
   "outputs": [
    {
     "data": {
      "text/plain": [
       "58"
      ]
     },
     "execution_count": 20,
     "metadata": {},
     "output_type": "execute_result"
    }
   ],
   "source": [
    "len(df)"
   ]
  },
  {
   "cell_type": "markdown",
   "metadata": {},
   "source": [
    "Contrary to the earlier query that resulted in 338 permits, this result contains only the 58 active permits in the considered bbox."
   ]
  },
  {
   "cell_type": "markdown",
   "metadata": {},
   "source": [
    "Mind that among these 58 permits, there could also be permits for dewatering works, or ATES systems. Both of these are mostly not important in the development of a hydrogeological model. For dewatering works, it is currently not possible to see the operational status. These works could have well been finished some time ago, or not. See [this link](https://navigator.emis.vito.be/mijn-navigator?woId=70336) for more information about *vlaremrubriek* codes."
   ]
  },
  {
   "cell_type": "markdown",
   "metadata": {},
   "source": [
    "### Select permits in a municipality and return depth"
   ]
  },
  {
   "cell_type": "markdown",
   "metadata": {},
   "source": [
    "We can limit the columns in the output dataframe by specifying the *return_fields* parameter in our search.\n",
    "\n",
    "In this example we query all the permits in the city of Ghent and return their depth. For this a remote WFS GML query is used as described in [this notebook](https://github.com/DOV-Vlaanderen/pydov/blob/master/docs/notebooks/remote_wfs_gml_query.ipynb):"
   ]
  },
  {
   "cell_type": "code",
   "execution_count": 33,
   "metadata": {},
   "outputs": [
    {
     "data": {
      "text/plain": [
       "array([[<matplotlib.axes._subplots.AxesSubplot object at 0x000001F697645188>]],\n",
       "      dtype=object)"
      ]
     },
     "execution_count": 33,
     "metadata": {},
     "output_type": "execute_result"
    },
    {
     "data": {
      "image/png": "[encoded data removed]",
      "text/plain": [
       "<Figure size 432x288 with 1 Axes>"
      ]
     },
     "metadata": {
      "needs_background": "light"
     },
     "output_type": "display_data"
    }
   ],
   "source": [
    "from owslib.etree import etree\n",
    "from owslib.wfs import WebFeatureService\n",
    "from owslib.fes import PropertyIsEqualTo\n",
    "\n",
    "from pydov.util.location import GmlFilter\n",
    "\n",
    "gemeentegrenzen = WebFeatureService(\n",
    "    'https://geoservices.informatievlaanderen.be/overdrachtdiensten/VRBG/wfs',\n",
    "    version='1.1.0')\n",
    "naam_filter = PropertyIsEqualTo(propertyname='NAAM', literal='Gent')\n",
    "gemeente_poly = gemeentegrenzen.getfeature(\n",
    "    typename='VRBG:Refgem',\n",
    "    filter=etree.tostring(naam_filter.toXML()).decode(\"utf8\")).read()\n",
    "\n",
    "df = gwv.search(\n",
    "    location=GmlFilter(gemeente_poly, Within),\n",
    "    return_fields=('pkey_vergunning', 'diepte'))\n",
    "# df.sort_values(by=['diepte'], ascending=False, inplace=True)\n",
    "df.hist(column='diepte')"
   ]
  },
  {
   "cell_type": "code",
   "execution_count": 34,
   "metadata": {},
   "outputs": [
    {
     "data": {
      "text/html": [
       "<div>\n",
       "<style scoped>\n",
       "    .dataframe tbody tr th:only-of-type {\n",
       "        vertical-align: middle;\n",
       "    }\n",
       "\n",
       "    .dataframe tbody tr th {\n",
       "        vertical-align: top;\n",
       "    }\n",
       "\n",
       "    .dataframe thead th {\n",
       "        text-align: right;\n",
       "    }\n",
       "</style>\n",
       "<table border=\"1\" class=\"dataframe\">\n",
       "  <thead>\n",
       "    <tr style=\"text-align: right;\">\n",
       "      <th></th>\n",
       "      <th>diepte</th>\n",
       "    </tr>\n",
       "  </thead>\n",
       "  <tbody>\n",
       "    <tr>\n",
       "      <th>count</th>\n",
       "      <td>763.000000</td>\n",
       "    </tr>\n",
       "    <tr>\n",
       "      <th>mean</th>\n",
       "      <td>31.240786</td>\n",
       "    </tr>\n",
       "    <tr>\n",
       "      <th>std</th>\n",
       "      <td>37.109995</td>\n",
       "    </tr>\n",
       "    <tr>\n",
       "      <th>min</th>\n",
       "      <td>-1.000000</td>\n",
       "    </tr>\n",
       "    <tr>\n",
       "      <th>25%</th>\n",
       "      <td>8.000000</td>\n",
       "    </tr>\n",
       "    <tr>\n",
       "      <th>50%</th>\n",
       "      <td>19.000000</td>\n",
       "    </tr>\n",
       "    <tr>\n",
       "      <th>75%</th>\n",
       "      <td>48.000000</td>\n",
       "    </tr>\n",
       "    <tr>\n",
       "      <th>max</th>\n",
       "      <td>290.000000</td>\n",
       "    </tr>\n",
       "  </tbody>\n",
       "</table>\n",
       "</div>"
      ],
      "text/plain": [
       "           diepte\n",
       "count  763.000000\n",
       "mean    31.240786\n",
       "std     37.109995\n",
       "min     -1.000000\n",
       "25%      8.000000\n",
       "50%     19.000000\n",
       "75%     48.000000\n",
       "max    290.000000"
      ]
     },
     "execution_count": 34,
     "metadata": {},
     "output_type": "execute_result"
    }
   ],
   "source": [
    "df.describe()"
   ]
  },
  {
   "cell_type": "markdown",
   "metadata": {},
   "source": [
    "### Get boreholes based on fields not available in the standard output dataframe"
   ]
  },
  {
   "cell_type": "markdown",
   "metadata": {},
   "source": [
    "To keep the output dataframe size acceptable, not all available WFS fields are included in the standard output. However, one can use this information to select boreholes as illustrated below.\n",
    "\n",
    "For example, make a selection of the boreholes in municipality the of Antwerp, for which a hydrogeological interpretation was performed:"
   ]
  },
  {
   "cell_type": "code",
   "execution_count": 52,
   "metadata": {},
   "outputs": [
    {
     "data": {
      "text/html": [
       "<div>\n",
       "<style scoped>\n",
       "    .dataframe tbody tr th:only-of-type {\n",
       "        vertical-align: middle;\n",
       "    }\n",
       "\n",
       "    .dataframe tbody tr th {\n",
       "        vertical-align: top;\n",
       "    }\n",
       "\n",
       "    .dataframe thead th {\n",
       "        text-align: right;\n",
       "    }\n",
       "</style>\n",
       "<table border=\"1\" class=\"dataframe\">\n",
       "  <thead>\n",
       "    <tr style=\"text-align: right;\">\n",
       "      <th></th>\n",
       "      <th>pkey_boring</th>\n",
       "      <th>boornummer</th>\n",
       "      <th>x</th>\n",
       "      <th>y</th>\n",
       "      <th>diepte_boring_tot</th>\n",
       "      <th>datum_aanvang</th>\n",
       "    </tr>\n",
       "  </thead>\n",
       "  <tbody>\n",
       "    <tr>\n",
       "      <th>0</th>\n",
       "      <td>https://www.dov.vlaanderen.be/data/boring/1937...</td>\n",
       "      <td>kb7d14e-B82</td>\n",
       "      <td>145457.0</td>\n",
       "      <td>224973.5</td>\n",
       "      <td>10.0</td>\n",
       "      <td>1937-01-01</td>\n",
       "    </tr>\n",
       "    <tr>\n",
       "      <th>1</th>\n",
       "      <td>https://www.dov.vlaanderen.be/data/boring/1969...</td>\n",
       "      <td>kb7d14e-B110</td>\n",
       "      <td>143700.4</td>\n",
       "      <td>228086.3</td>\n",
       "      <td>12.0</td>\n",
       "      <td>1969-01-01</td>\n",
       "    </tr>\n",
       "    <tr>\n",
       "      <th>2</th>\n",
       "      <td>https://www.dov.vlaanderen.be/data/boring/1966...</td>\n",
       "      <td>kb7d14e-B115</td>\n",
       "      <td>143067.0</td>\n",
       "      <td>227707.6</td>\n",
       "      <td>66.0</td>\n",
       "      <td>1966-01-01</td>\n",
       "    </tr>\n",
       "    <tr>\n",
       "      <th>3</th>\n",
       "      <td>https://www.dov.vlaanderen.be/data/boring/1966...</td>\n",
       "      <td>kb7d14e-B117</td>\n",
       "      <td>144770.5</td>\n",
       "      <td>223430.6</td>\n",
       "      <td>49.0</td>\n",
       "      <td>1966-01-01</td>\n",
       "    </tr>\n",
       "    <tr>\n",
       "      <th>4</th>\n",
       "      <td>https://www.dov.vlaanderen.be/data/boring/1970...</td>\n",
       "      <td>kb7d14e-B121</td>\n",
       "      <td>143597.8</td>\n",
       "      <td>223498.6</td>\n",
       "      <td>11.9</td>\n",
       "      <td>1970-01-01</td>\n",
       "    </tr>\n",
       "  </tbody>\n",
       "</table>\n",
       "</div>"
      ],
      "text/plain": [
       "                                         pkey_boring    boornummer         x  \\\n",
       "0  https://www.dov.vlaanderen.be/data/boring/1937...   kb7d14e-B82  145457.0   \n",
       "1  https://www.dov.vlaanderen.be/data/boring/1969...  kb7d14e-B110  143700.4   \n",
       "2  https://www.dov.vlaanderen.be/data/boring/1966...  kb7d14e-B115  143067.0   \n",
       "3  https://www.dov.vlaanderen.be/data/boring/1966...  kb7d14e-B117  144770.5   \n",
       "4  https://www.dov.vlaanderen.be/data/boring/1970...  kb7d14e-B121  143597.8   \n",
       "\n",
       "          y  diepte_boring_tot datum_aanvang  \n",
       "0  224973.5               10.0    1937-01-01  \n",
       "1  228086.3               12.0    1969-01-01  \n",
       "2  227707.6               66.0    1966-01-01  \n",
       "3  223430.6               49.0    1966-01-01  \n",
       "4  223498.6               11.9    1970-01-01  "
      ]
     },
     "execution_count": 52,
     "metadata": {},
     "output_type": "execute_result"
    }
   ],
   "source": [
    "from owslib.fes import And\n",
    "\n",
    "query = And([PropertyIsEqualTo(propertyname='gemeente',\n",
    "                               literal='Antwerpen'),\n",
    "             PropertyIsEqualTo(propertyname='hydrogeologische_stratigrafie', \n",
    "                               literal='True')]\n",
    "            )\n",
    "df = boring.search(query=query,\n",
    "                   return_fields=('pkey_boring', 'boornummer', 'x', 'y', 'diepte_boring_tot', 'datum_aanvang'))\n",
    "df.head()"
   ]
  },
  {
   "cell_type": "markdown",
   "metadata": {},
   "source": [
    "### Get borehole data, returning fields not available in the standard output dataframe"
   ]
  },
  {
   "cell_type": "markdown",
   "metadata": {},
   "source": [
    "As denoted in the previous example, not all available fields are available in the default output frame to keep its size limited. However, you can request any available field by including it in the *return_fields* parameter of the search:"
   ]
  },
  {
   "cell_type": "code",
   "execution_count": 53,
   "metadata": {},
   "outputs": [
    {
     "data": {
      "text/html": [
       "<div>\n",
       "<style scoped>\n",
       "    .dataframe tbody tr th:only-of-type {\n",
       "        vertical-align: middle;\n",
       "    }\n",
       "\n",
       "    .dataframe tbody tr th {\n",
       "        vertical-align: top;\n",
       "    }\n",
       "\n",
       "    .dataframe thead th {\n",
       "        text-align: right;\n",
       "    }\n",
       "</style>\n",
       "<table border=\"1\" class=\"dataframe\">\n",
       "  <thead>\n",
       "    <tr style=\"text-align: right;\">\n",
       "      <th></th>\n",
       "      <th>pkey_boring</th>\n",
       "      <th>boornummer</th>\n",
       "      <th>diepte_boring_tot</th>\n",
       "      <th>informele_stratigrafie</th>\n",
       "      <th>formele_stratigrafie</th>\n",
       "      <th>lithologische_beschrijving</th>\n",
       "      <th>gecodeerde_lithologie</th>\n",
       "      <th>hydrogeologische_stratigrafie</th>\n",
       "      <th>quartaire_stratigrafie</th>\n",
       "      <th>geotechnische_codering</th>\n",
       "      <th>informele_hydrostratigrafie</th>\n",
       "    </tr>\n",
       "  </thead>\n",
       "  <tbody>\n",
       "    <tr>\n",
       "      <th>0</th>\n",
       "      <td>https://www.dov.vlaanderen.be/data/boring/1981...</td>\n",
       "      <td>kb8d7e-B224</td>\n",
       "      <td>2513.0</td>\n",
       "      <td>True</td>\n",
       "      <td>True</td>\n",
       "      <td>True</td>\n",
       "      <td>False</td>\n",
       "      <td>False</td>\n",
       "      <td>False</td>\n",
       "      <td>False</td>\n",
       "      <td>False</td>\n",
       "    </tr>\n",
       "    <tr>\n",
       "      <th>1</th>\n",
       "      <td>https://www.dov.vlaanderen.be/data/boring/1952...</td>\n",
       "      <td>kb8d17e-B272</td>\n",
       "      <td>2705.0</td>\n",
       "      <td>True</td>\n",
       "      <td>True</td>\n",
       "      <td>True</td>\n",
       "      <td>True</td>\n",
       "      <td>True</td>\n",
       "      <td>False</td>\n",
       "      <td>False</td>\n",
       "      <td>False</td>\n",
       "    </tr>\n",
       "    <tr>\n",
       "      <th>2</th>\n",
       "      <td>https://www.dov.vlaanderen.be/data/boring/1935...</td>\n",
       "      <td>kb17d31e-B197</td>\n",
       "      <td>2034.0</td>\n",
       "      <td>True</td>\n",
       "      <td>True</td>\n",
       "      <td>False</td>\n",
       "      <td>True</td>\n",
       "      <td>True</td>\n",
       "      <td>False</td>\n",
       "      <td>False</td>\n",
       "      <td>False</td>\n",
       "    </tr>\n",
       "    <tr>\n",
       "      <th>3</th>\n",
       "      <td>https://www.dov.vlaanderen.be/data/boring/2016...</td>\n",
       "      <td>B/1-102782</td>\n",
       "      <td>3600.0</td>\n",
       "      <td>False</td>\n",
       "      <td>False</td>\n",
       "      <td>False</td>\n",
       "      <td>False</td>\n",
       "      <td>False</td>\n",
       "      <td>False</td>\n",
       "      <td>False</td>\n",
       "      <td>False</td>\n",
       "    </tr>\n",
       "    <tr>\n",
       "      <th>4</th>\n",
       "      <td>https://www.dov.vlaanderen.be/data/boring/2016...</td>\n",
       "      <td>B/1-102783</td>\n",
       "      <td>3600.0</td>\n",
       "      <td>False</td>\n",
       "      <td>False</td>\n",
       "      <td>False</td>\n",
       "      <td>False</td>\n",
       "      <td>False</td>\n",
       "      <td>False</td>\n",
       "      <td>False</td>\n",
       "      <td>False</td>\n",
       "    </tr>\n",
       "  </tbody>\n",
       "</table>\n",
       "</div>"
      ],
      "text/plain": [
       "                                         pkey_boring     boornummer  \\\n",
       "0  https://www.dov.vlaanderen.be/data/boring/1981...    kb8d7e-B224   \n",
       "1  https://www.dov.vlaanderen.be/data/boring/1952...   kb8d17e-B272   \n",
       "2  https://www.dov.vlaanderen.be/data/boring/1935...  kb17d31e-B197   \n",
       "3  https://www.dov.vlaanderen.be/data/boring/2016...     B/1-102782   \n",
       "4  https://www.dov.vlaanderen.be/data/boring/2016...     B/1-102783   \n",
       "\n",
       "   diepte_boring_tot  informele_stratigrafie  formele_stratigrafie  \\\n",
       "0             2513.0                    True                  True   \n",
       "1             2705.0                    True                  True   \n",
       "2             2034.0                    True                  True   \n",
       "3             3600.0                   False                 False   \n",
       "4             3600.0                   False                 False   \n",
       "\n",
       "   lithologische_beschrijving  gecodeerde_lithologie  \\\n",
       "0                        True                  False   \n",
       "1                        True                   True   \n",
       "2                       False                   True   \n",
       "3                       False                  False   \n",
       "4                       False                  False   \n",
       "\n",
       "   hydrogeologische_stratigrafie  quartaire_stratigrafie  \\\n",
       "0                          False                   False   \n",
       "1                           True                   False   \n",
       "2                           True                   False   \n",
       "3                          False                   False   \n",
       "4                          False                   False   \n",
       "\n",
       "   geotechnische_codering  informele_hydrostratigrafie  \n",
       "0                   False                        False  \n",
       "1                   False                        False  \n",
       "2                   False                        False  \n",
       "3                   False                        False  \n",
       "4                   False                        False  "
      ]
     },
     "execution_count": 53,
     "metadata": {},
     "output_type": "execute_result"
    }
   ],
   "source": [
    "query = PropertyIsGreaterThanOrEqualTo(\n",
    "            propertyname='diepte_boring_tot',\n",
    "            literal='2000')\n",
    "\n",
    "df = boring.search(query=query,\n",
    "                   return_fields=('pkey_boring', 'boornummer', 'diepte_boring_tot',\n",
    "                                  'informele_stratigrafie', 'formele_stratigrafie', 'lithologische_beschrijving',\n",
    "                                  'gecodeerde_lithologie', 'hydrogeologische_stratigrafie', 'quartaire_stratigrafie',\n",
    "                                  'geotechnische_codering', 'informele_hydrostratigrafie'))\n",
    "\n",
    "df.head()"
   ]
  },
  {
   "cell_type": "markdown",
   "metadata": {},
   "source": [
    "### Get boreholes in a municipality and where groundwater related data are available"
   ]
  },
  {
   "cell_type": "markdown",
   "metadata": {},
   "source": [
    "The following full example return all boreholes where *gemeente* is 'Antwerpen' and either *putnummer* is not empty or *doel* starts with 'Grondwater' or *erkenning* is '2. Andere grondwaterwinningen'."
   ]
  },
  {
   "cell_type": "code",
   "execution_count": 54,
   "metadata": {},
   "outputs": [
    {
     "name": "stdout",
     "output_type": "stream",
     "text": [
      "[000/027] ccccccccccccccccccccccccccc\n"
     ]
    },
    {
     "data": {
      "text/html": [
       "<div>\n",
       "<style scoped>\n",
       "    .dataframe tbody tr th:only-of-type {\n",
       "        vertical-align: middle;\n",
       "    }\n",
       "\n",
       "    .dataframe tbody tr th {\n",
       "        vertical-align: top;\n",
       "    }\n",
       "\n",
       "    .dataframe thead th {\n",
       "        text-align: right;\n",
       "    }\n",
       "</style>\n",
       "<table border=\"1\" class=\"dataframe\">\n",
       "  <thead>\n",
       "    <tr style=\"text-align: right;\">\n",
       "      <th></th>\n",
       "      <th>pkey_boring</th>\n",
       "      <th>boornummer</th>\n",
       "      <th>x</th>\n",
       "      <th>y</th>\n",
       "      <th>mv_mtaw</th>\n",
       "      <th>start_boring_mtaw</th>\n",
       "      <th>gemeente</th>\n",
       "      <th>diepte_boring_van</th>\n",
       "      <th>diepte_boring_tot</th>\n",
       "      <th>datum_aanvang</th>\n",
       "      <th>uitvoerder</th>\n",
       "      <th>boorgatmeting</th>\n",
       "      <th>diepte_methode_van</th>\n",
       "      <th>diepte_methode_tot</th>\n",
       "      <th>boormethode</th>\n",
       "    </tr>\n",
       "  </thead>\n",
       "  <tbody>\n",
       "    <tr>\n",
       "      <th>0</th>\n",
       "      <td>https://www.dov.vlaanderen.be/data/boring/1997...</td>\n",
       "      <td>kb15d28e-B741</td>\n",
       "      <td>154825.0</td>\n",
       "      <td>212445.0</td>\n",
       "      <td>5.00</td>\n",
       "      <td>5.00</td>\n",
       "      <td>Antwerpen</td>\n",
       "      <td>0.0</td>\n",
       "      <td>36.5</td>\n",
       "      <td>1996-12-31</td>\n",
       "      <td>Meysen Dammekens (Dammekens)-Hoboken</td>\n",
       "      <td>False</td>\n",
       "      <td>0.0</td>\n",
       "      <td>36.5</td>\n",
       "      <td>onbekend</td>\n",
       "    </tr>\n",
       "    <tr>\n",
       "      <th>1</th>\n",
       "      <td>https://www.dov.vlaanderen.be/data/boring/1996...</td>\n",
       "      <td>kb15d43w-B393</td>\n",
       "      <td>151150.0</td>\n",
       "      <td>206550.0</td>\n",
       "      <td>18.09</td>\n",
       "      <td>18.09</td>\n",
       "      <td>Antwerpen</td>\n",
       "      <td>0.0</td>\n",
       "      <td>104.0</td>\n",
       "      <td>1996-06-26</td>\n",
       "      <td>Meysen Dammekens (Dammekens)-Hoboken</td>\n",
       "      <td>False</td>\n",
       "      <td>0.0</td>\n",
       "      <td>104.0</td>\n",
       "      <td>spoelboring</td>\n",
       "    </tr>\n",
       "    <tr>\n",
       "      <th>2</th>\n",
       "      <td>https://www.dov.vlaanderen.be/data/boring/2016...</td>\n",
       "      <td>B/1-102776</td>\n",
       "      <td>153099.0</td>\n",
       "      <td>213577.0</td>\n",
       "      <td>-1.00</td>\n",
       "      <td>-1.00</td>\n",
       "      <td>Antwerpen</td>\n",
       "      <td>0.0</td>\n",
       "      <td>20.0</td>\n",
       "      <td>NaN</td>\n",
       "      <td>NaN</td>\n",
       "      <td>False</td>\n",
       "      <td>0.0</td>\n",
       "      <td>0.0</td>\n",
       "      <td>onbekend</td>\n",
       "    </tr>\n",
       "    <tr>\n",
       "      <th>3</th>\n",
       "      <td>https://www.dov.vlaanderen.be/data/boring/2017...</td>\n",
       "      <td>1434-BG000106-9</td>\n",
       "      <td>149486.0</td>\n",
       "      <td>221697.0</td>\n",
       "      <td>5.98</td>\n",
       "      <td>5.98</td>\n",
       "      <td>Antwerpen</td>\n",
       "      <td>0.0</td>\n",
       "      <td>50.0</td>\n",
       "      <td>2017-02-09</td>\n",
       "      <td>SMET GWT EUROPE</td>\n",
       "      <td>False</td>\n",
       "      <td>0.0</td>\n",
       "      <td>50.0</td>\n",
       "      <td>spoelboring</td>\n",
       "    </tr>\n",
       "    <tr>\n",
       "      <th>4</th>\n",
       "      <td>https://www.dov.vlaanderen.be/data/boring/2017...</td>\n",
       "      <td>B/1-103025</td>\n",
       "      <td>152397.0</td>\n",
       "      <td>212058.0</td>\n",
       "      <td>-1.00</td>\n",
       "      <td>-1.00</td>\n",
       "      <td>Antwerpen</td>\n",
       "      <td>0.0</td>\n",
       "      <td>19.0</td>\n",
       "      <td>NaN</td>\n",
       "      <td>NaN</td>\n",
       "      <td>False</td>\n",
       "      <td>0.0</td>\n",
       "      <td>0.0</td>\n",
       "      <td>onbekend</td>\n",
       "    </tr>\n",
       "  </tbody>\n",
       "</table>\n",
       "</div>"
      ],
      "text/plain": [
       "                                         pkey_boring       boornummer  \\\n",
       "0  https://www.dov.vlaanderen.be/data/boring/1997...    kb15d28e-B741   \n",
       "1  https://www.dov.vlaanderen.be/data/boring/1996...    kb15d43w-B393   \n",
       "2  https://www.dov.vlaanderen.be/data/boring/2016...       B/1-102776   \n",
       "3  https://www.dov.vlaanderen.be/data/boring/2017...  1434-BG000106-9   \n",
       "4  https://www.dov.vlaanderen.be/data/boring/2017...       B/1-103025   \n",
       "\n",
       "          x         y  mv_mtaw  start_boring_mtaw   gemeente  \\\n",
       "0  154825.0  212445.0     5.00               5.00  Antwerpen   \n",
       "1  151150.0  206550.0    18.09              18.09  Antwerpen   \n",
       "2  153099.0  213577.0    -1.00              -1.00  Antwerpen   \n",
       "3  149486.0  221697.0     5.98               5.98  Antwerpen   \n",
       "4  152397.0  212058.0    -1.00              -1.00  Antwerpen   \n",
       "\n",
       "   diepte_boring_van  diepte_boring_tot datum_aanvang  \\\n",
       "0                0.0               36.5    1996-12-31   \n",
       "1                0.0              104.0    1996-06-26   \n",
       "2                0.0               20.0           NaN   \n",
       "3                0.0               50.0    2017-02-09   \n",
       "4                0.0               19.0           NaN   \n",
       "\n",
       "                             uitvoerder  boorgatmeting  diepte_methode_van  \\\n",
       "0  Meysen Dammekens (Dammekens)-Hoboken          False                 0.0   \n",
       "1  Meysen Dammekens (Dammekens)-Hoboken          False                 0.0   \n",
       "2                                   NaN          False                 0.0   \n",
       "3                       SMET GWT EUROPE          False                 0.0   \n",
       "4                                   NaN          False                 0.0   \n",
       "\n",
       "   diepte_methode_tot  boormethode  \n",
       "0                36.5     onbekend  \n",
       "1               104.0  spoelboring  \n",
       "2                 0.0     onbekend  \n",
       "3                50.0  spoelboring  \n",
       "4                 0.0     onbekend  "
      ]
     },
     "execution_count": 54,
     "metadata": {},
     "output_type": "execute_result"
    }
   ],
   "source": [
    "from owslib.fes import PropertyIsLike\n",
    "from owslib.fes import PropertyIsNull\n",
    "from owslib.fes import Or\n",
    "from owslib.fes import Not\n",
    "\n",
    "query = And([PropertyIsEqualTo(propertyname='gemeente',\n",
    "                               literal='Antwerpen'),\n",
    "             Or([Not([PropertyIsNull(propertyname='putnummer')]),\n",
    "                PropertyIsLike(propertyname='doel',\n",
    "                               literal='Grondwater%'),\n",
    "                PropertyIsEqualTo(propertyname='erkenning', \n",
    "                                  literal='2. Andere grondwaterwinningen')]\n",
    "               )]\n",
    "           )\n",
    "df = boring.search(query=query)\n",
    "df.head()"
   ]
  },
  {
   "cell_type": "markdown",
   "metadata": {},
   "source": [
    "## Visualize results"
   ]
  },
  {
   "cell_type": "markdown",
   "metadata": {},
   "source": [
    "Using Folium, we can display the results of our search on a map."
   ]
  },
  {
   "cell_type": "code",
   "execution_count": 55,
   "metadata": {},
   "outputs": [],
   "source": [
    "# import the necessary modules (not included in the requirements of pydov!)\n",
    "import folium\n",
    "from folium.plugins import MarkerCluster\n",
    "from pyproj import Transformer"
   ]
  },
  {
   "cell_type": "code",
   "execution_count": 57,
   "metadata": {},
   "outputs": [],
   "source": [
    "# convert the coordinates to lat/lon for folium\n",
    "def convert_latlon(x1, y1):\n",
    "    transformer = Transformer.from_crs(\"epsg:31370\", \"epsg:4326\", always_xy=True)\n",
    "    x2,y2 = transformer.transform(x1, y1)\n",
    "    return x2, y2\n",
    "\n",
    "df['lon'], df['lat'] = zip(*map(convert_latlon, df['x'], df['y'])) \n",
    "# convert to list\n",
    "loclist = df[['lat', 'lon']].values.tolist()"
   ]
  },
  {
   "cell_type": "code",
   "execution_count": 58,
   "metadata": {},
   "outputs": [
    {
     "data": {
      "text/html": [
       "<div style=\"width:100%;\"><div style=\"position:relative;width:100%;height:0;padding-bottom:60%;\"><span style=\"color:#565656\">Make this Notebook Trusted to load map: File -> Trust Notebook</span><iframe src=\"about:blank\" style=\"position:absolute;width:100%;height:100%;left:0;top:0;border:none !important;\" data-html=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 onload=\"this.contentDocument.open();this.contentDocument.write(atob(this.getAttribute('data-html')));this.contentDocument.close();\" allowfullscreen webkitallowfullscreen mozallowfullscreen></iframe></div></div>"
      ],
      "text/plain": [
       "<folium.folium.Map at 0x7f8ef6d6ba50>"
      ]
     },
     "execution_count": 58,
     "metadata": {},
     "output_type": "execute_result"
    }
   ],
   "source": [
    "# initialize the Folium map on the centre of the selected locations, play with the zoom until ok\n",
    "fmap = folium.Map(location=[df['lat'].mean(), df['lon'].mean()], zoom_start=12)\n",
    "marker_cluster = MarkerCluster().add_to(fmap)\n",
    "for loc in range(0, len(loclist)):\n",
    "    folium.Marker(loclist[loc], popup=df['boornummer'][loc]).add_to(marker_cluster)\n",
    "fmap\n"
   ]
  }
 ],
 "metadata": {
  "kernelspec": {
   "display_name": "Python 3",
   "language": "python",
   "name": "python3"
  },
  "language_info": {
   "codemirror_mode": {
    "name": "ipython",
    "version": 3
   },
   "file_extension": ".py",
   "mimetype": "text/x-python",
   "name": "python",
   "nbconvert_exporter": "python",
   "pygments_lexer": "ipython3",
   "version": "3.7.6"
  }
 },
 "nbformat": 4,
 "nbformat_minor": 4
}
