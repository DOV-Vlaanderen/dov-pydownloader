{
 "cells": [
  {
   "cell_type": "markdown",
   "metadata": {},
   "source": [
    "# Example of DOV search methods for groundwater samples (grondwatermonsters)\n"
   ]
  },
  {
   "cell_type": "markdown",
   "metadata": {},
   "source": [
    "## Use cases:\n",
    "* Get groundwater samples in a bounding box\n",
    "* Get groundwater samples with specific properties\n",
    "* Get the coordinates of all groundwater samples in Ghent\n",
    "* Get groundwater samples based on a combination of specific properties\n",
    "* Get groundwater samples based on a selection of screens (filters)"
   ]
  },
  {
   "cell_type": "code",
   "execution_count": 1,
   "metadata": {
    "collapsed": true
   },
   "outputs": [],
   "source": [
    "%matplotlib inline\n",
    "import inspect, sys"
   ]
  },
  {
   "cell_type": "code",
   "execution_count": null,
   "metadata": {
    "collapsed": true
   },
   "outputs": [],
   "source": [
    "# check pydov path\n",
    "import pydov"
   ]
  },
  {
   "cell_type": "markdown",
   "metadata": {},
   "source": [
    "## Get information about the datatype 'GrondwaterMonster'"
   ]
  },
  {
   "cell_type": "code",
   "execution_count": null,
   "metadata": {
    "collapsed": true
   },
   "outputs": [],
   "source": [
    "from pydov.search.grondwatermonster import GrondwaterMonsterSearch\n",
    "gwmonster = GrondwaterMonsterSearch()"
   ]
  },
  {
   "cell_type": "markdown",
   "metadata": {},
   "source": [
    "A description is provided for the 'GrondwaterMonster' datatype:"
   ]
  },
  {
   "cell_type": "code",
   "execution_count": null,
   "metadata": {},
   "outputs": [],
   "source": [
    "print(gwmonster.get_description())"
   ]
  },
  {
   "cell_type": "markdown",
   "metadata": {},
   "source": [
    "The different fields that are available for objects of the 'GrondwaterMonster' datatype can be requested with the get_fields() method:"
   ]
  },
  {
   "cell_type": "code",
   "execution_count": null,
   "metadata": {},
   "outputs": [],
   "source": [
    "fields = gwmonster.get_fields()\n",
    "\n",
    "# print available fields\n",
    "for f in fields.values():\n",
    "    print(f['name'])"
   ]
  },
  {
   "cell_type": "markdown",
   "metadata": {},
   "source": [
    "You can get more information of a field by requesting it from the fields dictionary:\n",
    "* *name*: name of the field\n",
    "* *definition*: definition of this field\n",
    "* *cost*: currently this is either 1 or 10, depending on the datasource of the field. It is an indication of the expected time it will take to retrieve this field in the output dataframe.\n",
    "* *notnull*: whether the field is mandatory or not\n",
    "* *type*: datatype of the values of this field"
   ]
  },
  {
   "cell_type": "code",
   "execution_count": null,
   "metadata": {},
   "outputs": [],
   "source": [
    "# print information for a certain field\n",
    "fields['waarde']"
   ]
  },
  {
   "cell_type": "markdown",
   "metadata": {},
   "source": [
    "Optionally, if the values of the field have a specific domain the possible values are listed as *values*:"
   ]
  },
  {
   "cell_type": "code",
   "execution_count": null,
   "metadata": {},
   "outputs": [],
   "source": [
    "# if an attribute can have several values, these are listed under 'values', e.g. for 'parameter':\n",
    "fields['parameter']['values'].items()[0:10]"
   ]
  },
  {
   "cell_type": "code",
   "execution_count": null,
   "metadata": {},
   "outputs": [],
   "source": [
    "fields['parameter']['values']['NH4']"
   ]
  },
  {
   "cell_type": "markdown",
   "metadata": {},
   "source": [
    "## Example use cases"
   ]
  },
  {
   "cell_type": "markdown",
   "metadata": {},
   "source": [
    "### Get groundwater samples in a bounding box"
   ]
  },
  {
   "cell_type": "markdown",
   "metadata": {},
   "source": [
    "Get data for all the groundwater samples that are geographically located within the bounds of the specified box.\n",
    "\n",
    "The coordinates are in the Belgian Lambert72 (EPSG:31370) coordinate system and are given in the order of lower left x, lower left y, upper right x, upper right y."
   ]
  },
  {
   "cell_type": "code",
   "execution_count": null,
   "metadata": {},
   "outputs": [],
   "source": [
    "from pydov.util.location import Within, Box\n",
    "\n",
    "df = gwmonster.search(location=Within(Box(93378, 168009, 94246, 169873)))\n",
    "df.head()"
   ]
  },
  {
   "cell_type": "markdown",
   "metadata": {},
   "source": [
    "Using the *pkey* attributes one can request the details of the corresponding *grondwatermonster* in a webbrowser (only showing the first unique records):"
   ]
  },
  {
   "cell_type": "code",
   "execution_count": null,
   "metadata": {},
   "outputs": [],
   "source": [
    "for pkey_grondwatermonster in df.pkey_grondwatermonster.unique()[0:5]:\n",
    "    print(pkey_grondwatermonster)"
   ]
  },
  {
   "cell_type": "markdown",
   "metadata": {},
   "source": [
    "### Get groundwater samples with specific properties"
   ]
  },
  {
   "cell_type": "markdown",
   "metadata": {},
   "source": [
    "Next to querying groundwater samples based on their geographic location within a bounding box, we can also search for groundwater samples matching a specific set of properties. For this we can build a query using a combination of the 'GrondwaterMonster' fields and operators provided by the WFS protocol.\n",
    "\n",
    "A list of possible operators can be found below:"
   ]
  },
  {
   "cell_type": "code",
   "execution_count": null,
   "metadata": {},
   "outputs": [],
   "source": [
    "[i for i,j in inspect.getmembers(sys.modules['owslib.fes'], inspect.isclass) if 'Property' in i]"
   ]
  },
  {
   "cell_type": "markdown",
   "metadata": {},
   "source": [
    "In this example we build a query using the *PropertyIsEqualTo* operator to find all groundwater samples that are within the community (gemeente) of 'Leuven':"
   ]
  },
  {
   "cell_type": "code",
   "execution_count": null,
   "metadata": {},
   "outputs": [],
   "source": [
    "from owslib.fes import PropertyIsEqualTo\n",
    "\n",
    "query = PropertyIsEqualTo(\n",
    "            propertyname='gemeente',\n",
    "            literal='Leuven')\n",
    "\n",
    "df = gwmonster.search(query=query)\n",
    "df.head()"
   ]
  },
  {
   "cell_type": "markdown",
   "metadata": {},
   "source": [
    "Once again we can use the *pkey_grondwatermonster* as a permanent link to the information of the groundwater samples:"
   ]
  },
  {
   "cell_type": "code",
   "execution_count": null,
   "metadata": {},
   "outputs": [],
   "source": [
    "for pkey_grondwatermonster in df.pkey_grondwatermonster.unique()[0:5]:\n",
    "    print(pkey_grondwatermonster)"
   ]
  },
  {
   "cell_type": "markdown",
   "metadata": {},
   "source": [
    "We can add the descriptions of the parameter values as an extra column 'parameter_label':"
   ]
  },
  {
   "cell_type": "code",
   "execution_count": null,
   "metadata": {},
   "outputs": [],
   "source": [
    "df['parameter_label'] = df['parameter'].map(fields['parameter']['values'])\n",
    "df[['pkey_grondwatermonster', 'datum_monstername', 'parameter', 'parameter_label', 'waarde', 'eenheid']].head()"
   ]
  },
  {
   "cell_type": "markdown",
   "metadata": {},
   "source": [
    "## Get groundwater screens based on a combination of specific properties"
   ]
  },
  {
   "cell_type": "markdown",
   "metadata": {},
   "source": [
    "Get all groundwater screens in Hamme that have measurements for cations (kationen). And filter to get only Sodium values after fetching all records."
   ]
  },
  {
   "cell_type": "code",
   "execution_count": null,
   "metadata": {},
   "outputs": [],
   "source": [
    "from owslib.fes import Or, Not, PropertyIsNull, PropertyIsLessThanOrEqualTo, And, PropertyIsLike\n",
    "\n",
    "query = And([PropertyIsEqualTo(propertyname='gemeente',\n",
    "                               literal='Hamme'),\n",
    "             PropertyIsEqualTo(propertyname='kationen',\n",
    "                               literal='true')\n",
    "             ])\n",
    "df_hamme = gwmonster.search(query=query,\n",
    "                     return_fields=('pkey_grondwatermonster', 'parameter', 'parametergroep', 'waarde', 'eenheid','datum_monstername'))\n",
    "df_hamme.head()"
   ]
  },
  {
   "cell_type": "markdown",
   "metadata": {},
   "source": [
    "You should note that this initial dataframe contains all parameters (not just the cations). The filter will only make sure that only samples where any cation was analysed are in the list. If we want to filter more, we should do so in the resulting dataframe."
   ]
  },
  {
   "cell_type": "code",
   "execution_count": null,
   "metadata": {},
   "outputs": [],
   "source": [
    "df_hamme = df_hamme[df_hamme.parameter=='Na']\n",
    "df_hamme.head()"
   ]
  },
  {
   "cell_type": "markdown",
   "metadata": {},
   "source": [
    "## Working with water samples"
   ]
  },
  {
   "cell_type": "markdown",
   "metadata": {},
   "source": [
    "For further analysis and visualisation of the time series data, we can use the data analysis library [pandas](https://pandas.pydata.org/) and visualisation library [matplotlib](https://matplotlib.org/). "
   ]
  },
  {
   "cell_type": "code",
   "execution_count": null,
   "metadata": {
    "collapsed": true
   },
   "outputs": [],
   "source": [
    "import pandas as pd\n",
    "import matplotlib.pyplot as plt"
   ]
  },
  {
   "cell_type": "markdown",
   "metadata": {},
   "source": [
    "Query the data of a specific filter using its `pkey`:"
   ]
  },
  {
   "cell_type": "code",
   "execution_count": null,
   "metadata": {},
   "outputs": [],
   "source": [
    "query = PropertyIsEqualTo(\n",
    "            propertyname='pkey_filter',\n",
    "            literal='https://www.dov.vlaanderen.be/data/filter/1991-001040')\n",
    "\n",
    "df = gwmonster.search(query=query)\n",
    "df.head()"
   ]
  },
  {
   "cell_type": "markdown",
   "metadata": {},
   "source": [
    "The date is still stored as a string type. Transforming to a data type using the available pandas function [`to_datetime`](https://pandas.pydata.org/pandas-docs/stable/generated/pandas.to_datetime.html) and using these dates as row index:"
   ]
  },
  {
   "cell_type": "code",
   "execution_count": null,
   "metadata": {
    "collapsed": true
   },
   "outputs": [],
   "source": [
    "df['datum_monstername'] = pd.to_datetime(df['datum_monstername'])"
   ]
  },
  {
   "cell_type": "markdown",
   "metadata": {},
   "source": [
    "For many usecases, it is useful to create a pivoted table, showing the value per parameter"
   ]
  },
  {
   "cell_type": "code",
   "execution_count": null,
   "metadata": {},
   "outputs": [],
   "source": [
    "pivot = df.pivot_table(columns=df.parameter, values='waarde', index='datum_monstername')\n",
    "pivot"
   ]
  },
  {
   "cell_type": "markdown",
   "metadata": {},
   "source": [
    "### Plotting"
   ]
  },
  {
   "cell_type": "markdown",
   "metadata": {},
   "source": [
    "The default plotting functionality of Pandas can be used:"
   ]
  },
  {
   "cell_type": "code",
   "execution_count": null,
   "metadata": {},
   "outputs": [],
   "source": [
    "parameters = ['NO3', 'NO2', 'NH4']\n",
    "pivot[parameters].plot(style='-', figsize=(12, 5))"
   ]
  },
  {
   "cell_type": "markdown",
   "metadata": {},
   "source": [
    "## Combine search in filters and groundwater samples\n",
    "\n",
    "For this example, we will first search filters, and later search all samples for this selection. \n",
    "We will select filters in the primary network located in Kalmthout."
   ]
  },
  {
   "cell_type": "code",
   "execution_count": null,
   "metadata": {},
   "outputs": [],
   "source": [
    "from pydov.search.grondwaterfilter import GrondwaterFilterSearch\n",
    "from pydov.util.query import Join\n",
    "\n",
    "gfs = GrondwaterFilterSearch()\n",
    "\n",
    "gemeente = 'Kalmthout'\n",
    "filter_query = And([PropertyIsLike(propertyname='meetnet',\n",
    "                       literal='meetnet 1 %'),\n",
    "                    PropertyIsEqualTo(propertyname='gemeente',\n",
    "                       literal=gemeente)])\n",
    "\n",
    "filters = gfs.search(query=filter_query, return_fields=['pkey_filter'])\n",
    "\n",
    "monsters = gwmonster.search(query=Join(filters, 'pkey_filter'))\n",
    "monsters.head()"
   ]
  },
  {
   "cell_type": "markdown",
   "metadata": {},
   "source": [
    "We will filter out some parameters, and show trends per location."
   ]
  },
  {
   "cell_type": "code",
   "execution_count": null,
   "metadata": {},
   "outputs": [],
   "source": [
    "parameter = 'NH4'\n",
    "trends_sel = monsters[(monsters.parameter==parameter) & (monsters.veld_labo=='LABO')]\n",
    "trends_sel = trends_sel.set_index('datum_monstername')\n",
    "trends_sel['label'] = trends_sel['gw_id'] + ' F' + trends_sel['filternummer'] \n",
    "\n",
    "ax = trends_sel.groupby('label')['waarde'].plot(figsize=(12, 5))\n",
    "\n",
    "plt.title('Langetermijntrends van %s in meetnet 1 te %s' % (parameter, gemeente))\n",
    "\n",
    "# Put a legend to the right of the current axis\n",
    "box = ax[0].get_position()\n",
    "ax[0].set_position([box.x0, box.y0, box.width * 0.8, box.height])\n",
    "ax[0].legend(loc='center left', bbox_to_anchor=(1, 0.5))"
   ]
  },
  {
   "cell_type": "code",
   "execution_count": null,
   "metadata": {
    "collapsed": true
   },
   "outputs": [],
   "source": []
  }
 ],
 "metadata": {
  "kernelspec": {
   "display_name": "Python 2",
   "language": "python",
   "name": "python2"
  },
  "language_info": {
   "codemirror_mode": {
    "name": "ipython",
    "version": 2
   },
   "file_extension": ".py",
   "mimetype": "text/x-python",
   "name": "python",
   "nbconvert_exporter": "python",
   "pygments_lexer": "ipython2",
   "version": "2.7.13"
  }
 },
 "nbformat": 4,
 "nbformat_minor": 2
}
