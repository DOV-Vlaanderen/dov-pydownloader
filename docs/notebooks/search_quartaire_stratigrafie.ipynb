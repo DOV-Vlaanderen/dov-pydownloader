{
 "cells": [
  {
   "cell_type": "markdown",
   "metadata": {},
   "source": [
    "# Example of DOV search methods for quartaire stratigrafie\n",
    "\n",
    "@pjhaest\n",
    "date 20190215"
   ]
  },
  {
   "cell_type": "markdown",
   "metadata": {},
   "source": [
    "## Use cases:\n",
    "* Select records in a bbox\n",
    "* Select records in a bbox with selected properties\n",
    "* Select records within a distance from a point\n",
    "* Select records in a municipality\n",
    "* Get records using info from wfs fields, not available in the standard output dataframe"
   ]
  },
  {
   "cell_type": "code",
   "execution_count": 9,
   "metadata": {
    "collapsed": true
   },
   "outputs": [],
   "source": [
    "%matplotlib inline\n",
    "import os, sys\n",
    "import inspect\n",
    "import warnings; warnings.simplefilter('ignore')"
   ]
  },
  {
   "cell_type": "code",
   "execution_count": 10,
   "metadata": {
    "collapsed": false
   },
   "outputs": [],
   "source": [
    "# check pydov path\n",
    "import pydov"
   ]
  },
  {
   "cell_type": "markdown",
   "metadata": {},
   "source": [
    "## Get information about code base"
   ]
  },
  {
   "cell_type": "code",
   "execution_count": 11,
   "metadata": {
    "collapsed": false
   },
   "outputs": [
    {
     "name": "stdout",
     "output_type": "stream",
     "text": [
      "De quartaire afzettingen in Vlaanderen, de jongste afzettingen, zijn lateraal en verticaal heterogeen en varieren erg in dikte. De afzettingen zijn vooral onder continentale omstandigheden tot stand gekomen (rivier-, duinafzettingen). Eigenlijk zijn het pakketten die zelden meer dan 30 meter en soms zelfs minder dan 1 meter dik zijn. Omwille van deze grote eigenheid en de grote mate van detail van de beschrijvingen, werd hiervoor een eigen stratigrafische codering uitgewerkt voor Vlaanderen.\n"
     ]
    }
   ],
   "source": [
    "from pydov.search.interpretaties import QuartairStratigrafieSearch\n",
    "# information about the QuartairStratigrafie type (In Dutch):\n",
    "ip_quart = QuartairStratigrafieSearch()\n",
    "print(ip_quart.get_description())"
   ]
  },
  {
   "cell_type": "code",
   "execution_count": 12,
   "metadata": {
    "collapsed": false
   },
   "outputs": [
    {
     "name": "stdout",
     "output_type": "stream",
     "text": [
      "De quartaire afzettingen in Vlaanderen, de jongste afzettingen, zijn lateraal en verticaal heterogeen en varieren erg in dikte. De afzettingen zijn vooral onder continentale omstandigheden tot stand gekomen (rivier-, duinafzettingen). Eigenlijk zijn het pakketten die zelden meer dan 30 meter en soms zelfs minder dan 1 meter dik zijn. Omwille van deze grote eigenheid en de grote mate van detail van de beschrijvingen, werd hiervoor een eigen stratigrafische codering uitgewerkt voor Vlaanderen.\n"
     ]
    }
   ],
   "source": [
    ""
   ]
  },
  {
   "cell_type": "code",
   "execution_count": null,
   "metadata": {
    "collapsed": false
   },
   "outputs": [],
   "source": [
    "# information about the available fields for a QuartairStratigrafie object\n",
    "fields = ip_quart.get_fields()\n",
    "# print available fields\n",
    "for f in fields.values():\n",
    "    print(f['name'])"
   ]
  },
  {
   "cell_type": "code",
   "execution_count": 14,
   "metadata": {
    "collapsed": false
   },
   "outputs": [
    {
     "data": {
      "text/plain": [
       "{'cost': 1,\n",
       " 'definition': \"Het type van de proef waarvan de quartaire stratigrafie een interpretatie is. Bij een quartaire stratigrafie zal dit altijd 'Boring' zijn.\",\n",
       " 'name': 'Type_proef',\n",
       " 'notnull': False,\n",
       " 'query': True,\n",
       " 'type': 'string',\n",
       " 'values': ['Boring']}"
      ]
     },
     "execution_count": 14,
     "metadata": {},
     "output_type": "execute_result"
    }
   ],
   "source": [
    "# print information for a certain field\n",
    "fields['Type_proef']"
   ]
  },
  {
   "cell_type": "markdown",
   "metadata": {},
   "source": [
    "The cost is an arbitrary attribute to indicate if the information is retrieved from a wfs query (cost = 1), \n",
    "or from an xml (cost = 10)"
   ]
  },
  {
   "cell_type": "markdown",
   "metadata": {},
   "source": [
    "## Try-out of use cases"
   ]
  },
  {
   "cell_type": "markdown",
   "metadata": {},
   "source": [
    "### Select interpretations in a bbox"
   ]
  },
  {
   "cell_type": "code",
   "execution_count": 15,
   "metadata": {
    "collapsed": false
   },
   "outputs": [
    {
     "name": "stdout",
     "output_type": "stream",
     "text": [
      "[000/003] ccc\n",
      "                                  pkey_interpretatie  \\\n",
      "0  https://www.dov.vlaanderen.be/data/interpretat...   \n",
      "1  https://www.dov.vlaanderen.be/data/interpretat...   \n",
      "2  https://www.dov.vlaanderen.be/data/interpretat...   \n",
      "3  https://www.dov.vlaanderen.be/data/interpretat...   \n",
      "4  https://www.dov.vlaanderen.be/data/interpretat...   \n",
      "\n",
      "                                         pkey_boring  \\\n",
      "0  https://www.dov.vlaanderen.be/data/boring/1974...   \n",
      "1  https://www.dov.vlaanderen.be/data/boring/1974...   \n",
      "2  https://www.dov.vlaanderen.be/data/boring/1974...   \n",
      "3  https://www.dov.vlaanderen.be/data/boring/1974...   \n",
      "4  https://www.dov.vlaanderen.be/data/boring/1974...   \n",
      "\n",
      "  betrouwbaarheid_interpretatie         x         y  diepte_laag_van  \\\n",
      "0                      onbekend  132975.0  191969.0              0.0   \n",
      "1                      onbekend  132975.0  191969.0              4.5   \n",
      "2                      onbekend  132975.0  191969.0              7.5   \n",
      "3                      onbekend  132949.0  192068.0              0.0   \n",
      "4                      onbekend  132949.0  192068.0              4.5   \n",
      "\n",
      "   diepte_laag_tot lid1 relatie_lid1_lid2 lid2  \n",
      "0              4.5    K                 T    K  \n",
      "1              7.5    F                 T    F  \n",
      "2              8.0   Rf                 T   Rf  \n",
      "3              4.5    K                 T    K  \n",
      "4              9.5    F                 T    F  \n"
     ]
    }
   ],
   "source": [
    "from pydov.util.location import Within, Box\n",
    "\n",
    "# Get all interpretations in a bounding box (llx, lly, ulx, uly)\n",
    "# the pkey_boring link is not available below, but is in the df\n",
    "df = ip_quart.search(location=Within(Box(132815, 191700, 133815, 192700)))\n",
    "print(df.head())"
   ]
  },
  {
   "cell_type": "markdown",
   "metadata": {},
   "source": [
    "### Select interpretations in a bbox with selected properties"
   ]
  },
  {
   "cell_type": "code",
   "execution_count": 16,
   "metadata": {
    "collapsed": false
   },
   "outputs": [
    {
     "name": "stdout",
     "output_type": "stream",
     "text": [
      "['PropertyIsBetween', 'PropertyIsEqualTo', 'PropertyIsGreaterThan', 'PropertyIsGreaterThanOrEqualTo', 'PropertyIsLessThan', 'PropertyIsLessThanOrEqualTo', 'PropertyIsLike', 'PropertyIsNotEqualTo', 'PropertyIsNull', 'SortProperty']\n"
     ]
    }
   ],
   "source": [
    "# list available query methods\n",
    "methods = [i for i,j in inspect.getmembers(sys.modules['owslib.fes'], \n",
    "                                           inspect.isclass) \n",
    "           if 'Property' in i]\n",
    "print(methods)\n",
    "from owslib.fes import PropertyIsGreaterThanOrEqualTo"
   ]
  },
  {
   "cell_type": "markdown",
   "metadata": {},
   "source": [
    "The property feature methodes listed above are available from the owslib module. These were not adapted for use in pydov."
   ]
  },
  {
   "cell_type": "code",
   "execution_count": 17,
   "metadata": {
    "collapsed": false
   },
   "outputs": [
    {
     "name": "stdout",
     "output_type": "stream",
     "text": [
      "[000/003] ccc\n",
      "                                  pkey_interpretatie  \\\n",
      "0  https://www.dov.vlaanderen.be/data/interpretat...   \n",
      "1  https://www.dov.vlaanderen.be/data/interpretat...   \n",
      "2  https://www.dov.vlaanderen.be/data/interpretat...   \n",
      "3  https://www.dov.vlaanderen.be/data/interpretat...   \n",
      "4  https://www.dov.vlaanderen.be/data/interpretat...   \n",
      "\n",
      "                                         pkey_boring  \\\n",
      "0  https://www.dov.vlaanderen.be/data/boring/1974...   \n",
      "1  https://www.dov.vlaanderen.be/data/boring/1974...   \n",
      "2  https://www.dov.vlaanderen.be/data/boring/1974...   \n",
      "3  https://www.dov.vlaanderen.be/data/boring/1974...   \n",
      "4  https://www.dov.vlaanderen.be/data/boring/1974...   \n",
      "\n",
      "  betrouwbaarheid_interpretatie         x         y  diepte_laag_van  \\\n",
      "0                      onbekend  132975.0  191969.0              0.0   \n",
      "1                      onbekend  132975.0  191969.0              4.5   \n",
      "2                      onbekend  132975.0  191969.0              7.5   \n",
      "3                      onbekend  132949.0  192068.0              0.0   \n",
      "4                      onbekend  132949.0  192068.0              4.5   \n",
      "\n",
      "   diepte_laag_tot lid1 relatie_lid1_lid2 lid2  \n",
      "0              4.5    K                 T    K  \n",
      "1              7.5    F                 T    F  \n",
      "2              8.0   Rf                 T   Rf  \n",
      "3              4.5    K                 T    K  \n",
      "4              9.5    F                 T    F  \n"
     ]
    }
   ],
   "source": [
    "# Get deep boreholes in a bounding box \n",
    "from owslib.fes import PropertyIsLike\n",
    "# the propertyname can be any of the fields of the interpretations object that belong to the wfs source\n",
    "# the literal is always a string, no matter what its definition is in the boring object (string, float...)\n",
    "query = PropertyIsLike(\n",
    "        propertyname='betrouwbaarheid_interpretatie', literal='onbekend')\n",
    "df = ip_quart.search(location=Within(Box(132815, 191700, 133815, 192700)),\n",
    "                     query=query\n",
    "                    )\n",
    "print(df.head())"
   ]
  },
  {
   "cell_type": "markdown",
   "metadata": {},
   "source": [
    "### Select records within a distance from a point"
   ]
  },
  {
   "cell_type": "code",
   "execution_count": 23,
   "metadata": {
    "collapsed": false
   },
   "outputs": [
    {
     "name": "stdout",
     "output_type": "stream",
     "text": [
      "[000/015] .....c.c......c\n",
      "                                  pkey_interpretatie  \\\n",
      "0  https://www.dov.vlaanderen.be/data/interpretat...   \n",
      "1  https://www.dov.vlaanderen.be/data/interpretat...   \n",
      "2  https://www.dov.vlaanderen.be/data/interpretat...   \n",
      "3  https://www.dov.vlaanderen.be/data/interpretat...   \n",
      "4  https://www.dov.vlaanderen.be/data/interpretat...   \n",
      "\n",
      "                                         pkey_boring  \\\n",
      "0  https://www.dov.vlaanderen.be/data/boring/1943...   \n",
      "1  https://www.dov.vlaanderen.be/data/boring/1943...   \n",
      "2  https://www.dov.vlaanderen.be/data/boring/1943...   \n",
      "3  https://www.dov.vlaanderen.be/data/boring/1943...   \n",
      "4  https://www.dov.vlaanderen.be/data/boring/1943...   \n",
      "\n",
      "  betrouwbaarheid_interpretatie         x         y  diepte_laag_van  \\\n",
      "0                      onbekend  132089.0  191777.0             0.00   \n",
      "1                      onbekend  132089.0  191777.0             1.00   \n",
      "2                      onbekend  132089.0  191777.0             1.50   \n",
      "3                      onbekend  132089.0  191777.0             9.00   \n",
      "4                      onbekend  132089.0  191777.0            12.05   \n",
      "\n",
      "   diepte_laag_tot lid1 relatie_lid1_lid2 lid2  \n",
      "0             1.00    K                 T    K  \n",
      "1             1.50    D                 T    D  \n",
      "2             9.00    F                 T    F  \n",
      "3            12.05   Rf                 T   Rf  \n",
      "4            30.00    $                 T    $  \n"
     ]
    }
   ],
   "source": [
    "from pydov.util.location import Point, WithinDistance\n",
    "\n",
    "# Get all interpretations within a defined distance from a point\n",
    "location = WithinDistance(location=Point(133000, 192000),\n",
    "                          distance=1000, distance_unit='meter')\n",
    "df = ip_quart.search(location=location)\n",
    "print(df.head())"
   ]
  },
  {
   "cell_type": "markdown",
   "metadata": {},
   "source": [
    "### Select interpretations in a municipality"
   ]
  },
  {
   "cell_type": "code",
   "execution_count": 18,
   "metadata": {
    "collapsed": false
   },
   "outputs": [
    {
     "name": "stdout",
     "output_type": "stream",
     "text": [
      "[000/028] cccccccccccccccccccccccccccc\n",
      "                                  pkey_interpretatie  \\\n",
      "0  https://www.dov.vlaanderen.be/data/interpretat...   \n",
      "1  https://www.dov.vlaanderen.be/data/interpretat...   \n",
      "2  https://www.dov.vlaanderen.be/data/interpretat...   \n",
      "3  https://www.dov.vlaanderen.be/data/interpretat...   \n",
      "4  https://www.dov.vlaanderen.be/data/interpretat...   \n",
      "\n",
      "                                         pkey_boring  \\\n",
      "0  https://www.dov.vlaanderen.be/data/boring/1894...   \n",
      "1  https://www.dov.vlaanderen.be/data/boring/1894...   \n",
      "2  https://www.dov.vlaanderen.be/data/boring/1935...   \n",
      "3  https://www.dov.vlaanderen.be/data/boring/1935...   \n",
      "4  https://www.dov.vlaanderen.be/data/boring/1935...   \n",
      "\n",
      "  betrouwbaarheid_interpretatie         x         y  diepte_laag_van  \\\n",
      "0                          goed  128930.0  198740.0              0.0   \n",
      "1                          goed  128930.0  198740.0             12.2   \n",
      "2                      onbekend  133638.2  197756.1              0.0   \n",
      "3                      onbekend  133638.2  197756.1              3.5   \n",
      "4                      onbekend  133638.2  197756.1             16.5   \n",
      "\n",
      "   diepte_laag_tot lid1 relatie_lid1_lid2 lid2  \n",
      "0            12.20    F                 T    F  \n",
      "1            20.40    $                 T    $  \n",
      "2             3.50    D                 T    D  \n",
      "3            16.50    F                 T    F  \n",
      "4            54.95    $                 T    $  \n"
     ]
    }
   ],
   "source": [
    "from owslib.fes import PropertyIsEqualTo\n",
    "query = PropertyIsEqualTo(propertyname='gemeente',\n",
    "                          literal='Hamme')\n",
    "df = ip_quart.search(query=query)\n",
    "print(df.head())"
   ]
  },
  {
   "cell_type": "markdown",
   "metadata": {},
   "source": [
    "### Visualize results"
   ]
  },
  {
   "cell_type": "markdown",
   "metadata": {},
   "source": [
    "Using Folium, we can display the results of our search on a map."
   ]
  },
  {
   "cell_type": "code",
   "execution_count": 19,
   "metadata": {
    "collapsed": true
   },
   "outputs": [],
   "source": [
    "# import the necessary modules (not included in the requirements of pydov!)\n",
    "import folium\n",
    "from folium.plugins import MarkerCluster\n",
    "from pyproj import Proj, transform\n",
    "# for windows 10 users, I could not get it working with Microsoft Edge\n",
    "# change the browser to Chrome in the Notebook config file instead"
   ]
  },
  {
   "cell_type": "code",
   "execution_count": 20,
   "metadata": {
    "collapsed": true
   },
   "outputs": [],
   "source": [
    "# convert the coordinates to lat/lon for folium\n",
    "def convert_latlon(x1, y1):\n",
    "    inProj = Proj(init='epsg:31370')\n",
    "    outProj = Proj(init='epsg:4326')\n",
    "    x2,y2 = transform(inProj, outProj, x1, y1)\n",
    "    return x2, y2\n",
    "df['lon'], df['lat'] = zip(*map(convert_latlon, df['x'], df['y'])) \n",
    "# convert to list\n",
    "loclist = df[['lat', 'lon']].values.tolist()"
   ]
  },
  {
   "cell_type": "code",
   "execution_count": 22,
   "metadata": {
    "collapsed": false,
    "scrolled": true
   },
   "outputs": [
    {
     "data": {
      "text/html": [
       "<div style=\"width:100%;\"><div style=\"position:relative;width:100%;height:0;padding-bottom:60%;\"><iframe src=\"data:text/html;charset=utf-8;base64,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\" style=\"position:absolute;width:100%;height:100%;left:0;top:0;border:none !important;\" allowfullscreen webkitallowfullscreen mozallowfullscreen></iframe></div></div>"
      ],
      "text/plain": [
       "<folium.folium.Map at 0x1138cb38>"
      ]
     },
     "execution_count": 22,
     "metadata": {},
     "output_type": "execute_result"
    }
   ],
   "source": [
    "# initialize the Folium map on the centre of the selected locations, play with the zoom until ok\n",
    "fmap = folium.Map(location=[df['lat'].mean(), df['lon'].mean()], zoom_start=12)\n",
    "marker_cluster = MarkerCluster().add_to(fmap)\n",
    "for loc in range(0, len(loclist)):\n",
    "    folium.Marker(loclist[loc], popup=df['lid1'][loc]).add_to(marker_cluster)\n",
    "fmap"
   ]
  },
  {
   "cell_type": "code",
   "execution_count": null,
   "metadata": {
    "collapsed": true
   },
   "outputs": [],
   "source": []
  }
 ],
 "metadata": {
  "kernelspec": {
   "display_name": "Python 2",
   "language": "python",
   "name": "python2"
  },
  "language_info": {
   "codemirror_mode": {
    "name": "ipython",
    "version": 2
   },
   "file_extension": ".py",
   "mimetype": "text/x-python",
   "name": "python",
   "nbconvert_exporter": "python",
   "pygments_lexer": "ipython2",
   "version": "2.7.11"
  }
 },
 "nbformat": 4,
 "nbformat_minor": 2
}
