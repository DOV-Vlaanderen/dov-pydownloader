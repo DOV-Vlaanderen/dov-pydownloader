{
 "cells": [
  {
   "cell_type": "markdown",
   "metadata": {},
   "source": [
    "# Example of DOV search methods for boreholes (boringen)"
   ]
  },
  {
   "cell_type": "markdown",
   "metadata": {},
   "source": [
    "## Use cases explained below\n",
    "* Get boreholes in a bounding box\n",
    "* Get boreholes with specific properties\n",
    "* Get boreholes in a bounding box based on specific properties\n",
    "* Select boreholes in a municipality and return depth\n",
    "* Get boreholes based on fields not available in the standard output dataframe\n",
    "* Get borehole data, returning fields not available in the standard output dataframe\n",
    "* Get boreholes in a municipality and where groundwater related data are available"
   ]
  },
  {
   "cell_type": "code",
   "execution_count": 1,
   "metadata": {
    "collapsed": true
   },
   "outputs": [],
   "source": [
    "%matplotlib inline\n",
    "import inspect, sys\n",
    "import warnings; warnings.simplefilter('ignore')"
   ]
  },
  {
   "cell_type": "code",
   "execution_count": 2,
   "metadata": {
    "collapsed": true
   },
   "outputs": [],
   "source": [
    "# check pydov path\n",
    "import pydov"
   ]
  },
  {
   "cell_type": "markdown",
   "metadata": {},
   "source": [
    "## Get information about the datatype 'Boring'"
   ]
  },
  {
   "cell_type": "code",
   "execution_count": 3,
   "metadata": {
    "collapsed": true
   },
   "outputs": [],
   "source": [
    "from pydov.search.boring import BoringSearch\n",
    "boring = BoringSearch()"
   ]
  },
  {
   "cell_type": "markdown",
   "metadata": {},
   "source": [
    "A description is provided for the 'Boring' datatype:"
   ]
  },
  {
   "cell_type": "code",
   "execution_count": 4,
   "metadata": {},
   "outputs": [
    {
     "data": {
      "text/plain": [
       "'In de DOV-databank is elke waarneming van grondlagen een boring. Bij de meeste boringen wordt er met een boortoestel een gat gemaakt in de ondergrond om de verschillende grondlagen te kunnen beschrijven. Aan de hand van een boring krijg je een beeld van het materiaal in de ondergrond met toenemende diepte. Afhankelijk van het doel waarvoor de boring geplaatst wordt, zal men een geschikte boormethode toepassen. Boringen worden geplaatst voor verkennend bodemonderzoek, monstername van het sediment en/of grondwater, bepaling van bodemfysische parameters, milieuhygienisch onderzoek,... Afhankelijk van de diepte, soort materiaal, en het al dan niet boren tot onder de grondwatertafel kan men kiezen uit verscheidene systemen voor handmatig of machinaal te boren. Het bodemmateriaal dat vrijkomt, kan gebruikt worden om een profiel van de ondergrond op te stellen of om er grondmonsters van te nemen om verdere analyses op uit te voeren. Vaak is het de bedoeling een put uit te bouwen zodat water kan gewonnen worden (zie ook grondwatermeetnet en grondwatervergunningen). Soms worden boringen uitgevoerd om een aantal geotechnische karakteristieken te bepalen of om wetenschappelijk onderzoek uit te voeren. Oppervlakkige waarnemingen van de ondergrond noemen we ook boringen. Vooral rond 1900 beschreven een aantal geologen vaak de oppervlakkige lagen. In de databank staan er dan ook verschillende boringen met een diepte van 0 meter. Het gaat vooral om weginsnijdingen of om zichtbare lithologische kenmerken langs de oppervlakte.'"
      ]
     },
     "execution_count": 4,
     "metadata": {},
     "output_type": "execute_result"
    }
   ],
   "source": [
    "boring.get_description()"
   ]
  },
  {
   "cell_type": "markdown",
   "metadata": {},
   "source": [
    "The different fields that are available for objects of the 'Boring' datatype can be requested with the get_fields() method:"
   ]
  },
  {
   "cell_type": "code",
   "execution_count": 5,
   "metadata": {},
   "outputs": [
    {
     "name": "stdout",
     "output_type": "stream",
     "text": [
      "boorgatmeting\n",
      "namen\n",
      "boornummer\n",
      "methode\n",
      "erkenning\n",
      "gecodeerde_lithologie\n",
      "id\n",
      "putnummer\n",
      "opdrachten\n",
      "boormethode\n",
      "doel\n",
      "uitvoerder\n",
      "quartaire_stratigrafie\n",
      "rapport\n",
      "tertiair_onder_quartair\n",
      "geotechnische_codering\n",
      "diepte_methode_tot\n",
      "informele_hydrostratigrafie\n",
      "informele_stratigrafie\n",
      "generated_id\n",
      "formele_stratigrafie\n",
      "pkey_boring\n",
      "opdrachtgever\n",
      "hydrogeologische_stratigrafie\n",
      "datum_aanvang\n",
      "doorheen_quartair\n",
      "gemeente\n",
      "start_boring_mtaw\n",
      "diepte_methode_van\n",
      "lithologische_beschrijving\n",
      "mv_mtaw\n",
      "diepte_boring_van\n",
      "y\n",
      "x\n",
      "diepte_boring_tot\n",
      "dikte_quartair\n"
     ]
    }
   ],
   "source": [
    "fields = boring.get_fields()\n",
    "\n",
    "# print available fields\n",
    "for f in fields.values():\n",
    "    print(f['name'])"
   ]
  },
  {
   "cell_type": "markdown",
   "metadata": {},
   "source": [
    "You can get more information of a field by requesting it from the fields dictionary:\n",
    "* *name*: name of the field\n",
    "* *definition*: definition of this field\n",
    "* *cost*: currently this is either 1 or 10, depending on the datasource of the field. It is an indication of the expected time it will take to retrieve this field in the output dataframe.\n",
    "* *notnull*: whether the field is mandatory or not\n",
    "* *type*: datatype of the values of this field"
   ]
  },
  {
   "cell_type": "code",
   "execution_count": 6,
   "metadata": {},
   "outputs": [
    {
     "data": {
      "text/plain": [
       "{'cost': 1,\n",
       " 'definition': 'Maximumdiepte van de boring ten opzichte van het aanvangspeil, in meter.',\n",
       " 'name': 'diepte_boring_tot',\n",
       " 'notnull': False,\n",
       " 'type': 'float'}"
      ]
     },
     "execution_count": 6,
     "metadata": {},
     "output_type": "execute_result"
    }
   ],
   "source": [
    "fields['diepte_boring_tot']"
   ]
  },
  {
   "cell_type": "markdown",
   "metadata": {},
   "source": [
    "Optionally, if the values of the field have a specific domain the possible values are listed as *values*:"
   ]
  },
  {
   "cell_type": "code",
   "execution_count": 7,
   "metadata": {},
   "outputs": [
    {
     "data": {
      "text/plain": [
       "['avegaarboring',\n",
       " 'droge boring',\n",
       " 'edelmanboring',\n",
       " 'geen boring',\n",
       " 'gestoken boring',\n",
       " 'graafmachine',\n",
       " 'handboring',\n",
       " 'kernboring',\n",
       " 'lansen',\n",
       " 'lepelboring',\n",
       " 'luchthamer',\n",
       " 'luchthevelboren of air-lift boren',\n",
       " 'meerdere technieken',\n",
       " 'omgek. spoelboring',\n",
       " 'onbekend',\n",
       " 'pulsboring',\n",
       " 'ramguts',\n",
       " 'ramkernboring',\n",
       " 'rollerbit',\n",
       " 'slagboring',\n",
       " 'spade',\n",
       " 'spiraalboring',\n",
       " 'spoelboring',\n",
       " 'steenboring',\n",
       " 'trilboring',\n",
       " 'voorput',\n",
       " 'zuigboring']"
      ]
     },
     "execution_count": 7,
     "metadata": {},
     "output_type": "execute_result"
    }
   ],
   "source": [
    "fields['methode']['values']"
   ]
  },
  {
   "cell_type": "markdown",
   "metadata": {},
   "source": [
    "## Example use cases"
   ]
  },
  {
   "cell_type": "markdown",
   "metadata": {},
   "source": [
    "### Get boreholes in a bounding box"
   ]
  },
  {
   "cell_type": "markdown",
   "metadata": {},
   "source": [
    "Get data for all the boreholes that are geographically located within the bounds of the specified box.\n",
    "\n",
    "The coordinates are in the Belgian Lambert72 (EPSG:31370) coordinate system and are given in the order of lower left x, lower left y, upper right x, upper right y."
   ]
  },
  {
   "cell_type": "code",
   "execution_count": 10,
   "metadata": {},
   "outputs": [
    {
     "name": "stdout",
     "output_type": "stream",
     "text": [
      "[000/001] .\n"
     ]
    },
    {
     "data": {
      "text/html": [
       "<div>\n",
       "<style scoped>\n",
       "    .dataframe tbody tr th:only-of-type {\n",
       "        vertical-align: middle;\n",
       "    }\n",
       "\n",
       "    .dataframe tbody tr th {\n",
       "        vertical-align: top;\n",
       "    }\n",
       "\n",
       "    .dataframe thead th {\n",
       "        text-align: right;\n",
       "    }\n",
       "</style>\n",
       "<table border=\"1\" class=\"dataframe\">\n",
       "  <thead>\n",
       "    <tr style=\"text-align: right;\">\n",
       "      <th></th>\n",
       "      <th>pkey_boring</th>\n",
       "      <th>boornummer</th>\n",
       "      <th>x</th>\n",
       "      <th>y</th>\n",
       "      <th>mv_mtaw</th>\n",
       "      <th>start_boring_mtaw</th>\n",
       "      <th>gemeente</th>\n",
       "      <th>diepte_boring_van</th>\n",
       "      <th>diepte_boring_tot</th>\n",
       "      <th>datum_aanvang</th>\n",
       "      <th>uitvoerder</th>\n",
       "      <th>boorgatmeting</th>\n",
       "      <th>diepte_methode_van</th>\n",
       "      <th>diepte_methode_tot</th>\n",
       "      <th>boormethode</th>\n",
       "    </tr>\n",
       "  </thead>\n",
       "  <tbody>\n",
       "    <tr>\n",
       "      <th>0</th>\n",
       "      <td>https://www.dov.vlaanderen.be/data/boring/1974...</td>\n",
       "      <td>GEO-74/254-b1</td>\n",
       "      <td>153147.0</td>\n",
       "      <td>206931.0</td>\n",
       "      <td>14.12</td>\n",
       "      <td>14.12</td>\n",
       "      <td>Antwerpen</td>\n",
       "      <td>0.0</td>\n",
       "      <td>14.05</td>\n",
       "      <td>1974-07-02</td>\n",
       "      <td>Rijksinstituut voor Grondmechanica</td>\n",
       "      <td>False</td>\n",
       "      <td>0.0</td>\n",
       "      <td>1.30</td>\n",
       "      <td>lepelboring</td>\n",
       "    </tr>\n",
       "    <tr>\n",
       "      <th>1</th>\n",
       "      <td>https://www.dov.vlaanderen.be/data/boring/1974...</td>\n",
       "      <td>GEO-74/254-b1</td>\n",
       "      <td>153147.0</td>\n",
       "      <td>206931.0</td>\n",
       "      <td>14.12</td>\n",
       "      <td>14.12</td>\n",
       "      <td>Antwerpen</td>\n",
       "      <td>0.0</td>\n",
       "      <td>14.05</td>\n",
       "      <td>1974-07-02</td>\n",
       "      <td>Rijksinstituut voor Grondmechanica</td>\n",
       "      <td>False</td>\n",
       "      <td>1.3</td>\n",
       "      <td>13.50</td>\n",
       "      <td>pulsboring</td>\n",
       "    </tr>\n",
       "    <tr>\n",
       "      <th>2</th>\n",
       "      <td>https://www.dov.vlaanderen.be/data/boring/1974...</td>\n",
       "      <td>GEO-74/254-b1</td>\n",
       "      <td>153147.0</td>\n",
       "      <td>206931.0</td>\n",
       "      <td>14.12</td>\n",
       "      <td>14.12</td>\n",
       "      <td>Antwerpen</td>\n",
       "      <td>0.0</td>\n",
       "      <td>14.05</td>\n",
       "      <td>1974-07-02</td>\n",
       "      <td>Rijksinstituut voor Grondmechanica</td>\n",
       "      <td>False</td>\n",
       "      <td>13.5</td>\n",
       "      <td>14.05</td>\n",
       "      <td>lepelboring</td>\n",
       "    </tr>\n",
       "  </tbody>\n",
       "</table>\n",
       "</div>"
      ],
      "text/plain": [
       "                                         pkey_boring     boornummer         x  \\\n",
       "0  https://www.dov.vlaanderen.be/data/boring/1974...  GEO-74/254-b1  153147.0   \n",
       "1  https://www.dov.vlaanderen.be/data/boring/1974...  GEO-74/254-b1  153147.0   \n",
       "2  https://www.dov.vlaanderen.be/data/boring/1974...  GEO-74/254-b1  153147.0   \n",
       "\n",
       "          y  mv_mtaw  start_boring_mtaw   gemeente  diepte_boring_van  \\\n",
       "0  206931.0    14.12              14.12  Antwerpen                0.0   \n",
       "1  206931.0    14.12              14.12  Antwerpen                0.0   \n",
       "2  206931.0    14.12              14.12  Antwerpen                0.0   \n",
       "\n",
       "   diepte_boring_tot datum_aanvang                          uitvoerder  \\\n",
       "0              14.05    1974-07-02  Rijksinstituut voor Grondmechanica   \n",
       "1              14.05    1974-07-02  Rijksinstituut voor Grondmechanica   \n",
       "2              14.05    1974-07-02  Rijksinstituut voor Grondmechanica   \n",
       "\n",
       "   boorgatmeting  diepte_methode_van  diepte_methode_tot  boormethode  \n",
       "0          False                 0.0                1.30  lepelboring  \n",
       "1          False                 1.3               13.50   pulsboring  \n",
       "2          False                13.5               14.05  lepelboring  "
      ]
     },
     "execution_count": 10,
     "metadata": {},
     "output_type": "execute_result"
    }
   ],
   "source": [
    "from pydov.util.location import Within, Box\n",
    "\n",
    "df = boring.search(location=Within(Box(153145, 206930, 153150, 206935)))\n",
    "df.head()"
   ]
  },
  {
   "cell_type": "markdown",
   "metadata": {},
   "source": [
    "The dataframe contains one borehole where three methods ('boormethode') were applied for its construction. The available data are flattened to represent unique attributes per row of the dataframe.\n",
    "\n",
    "Using the *pkey_boring* field one can request the details of this borehole in a webbrowser:"
   ]
  },
  {
   "cell_type": "code",
   "execution_count": 11,
   "metadata": {},
   "outputs": [
    {
     "name": "stdout",
     "output_type": "stream",
     "text": [
      "https://www.dov.vlaanderen.be/data/boring/1974-010351\n"
     ]
    }
   ],
   "source": [
    "for pkey_boring in set(df.pkey_boring):\n",
    "    print(pkey_boring)"
   ]
  },
  {
   "cell_type": "markdown",
   "metadata": {},
   "source": [
    "### Get boreholes with specific properties"
   ]
  },
  {
   "cell_type": "markdown",
   "metadata": {},
   "source": [
    "Next to querying boreholes based on their geographic location within a bounding box, we can also search for boreholes matching a specific set of properties. For this we can build a query using a combination of the 'Boring' fields and operators provided by the WFS protocol.\n",
    "\n",
    "A list of possible operators can be found below:"
   ]
  },
  {
   "cell_type": "code",
   "execution_count": 12,
   "metadata": {},
   "outputs": [
    {
     "data": {
      "text/plain": [
       "['PropertyIsBetween',\n",
       " 'PropertyIsEqualTo',\n",
       " 'PropertyIsGreaterThan',\n",
       " 'PropertyIsGreaterThanOrEqualTo',\n",
       " 'PropertyIsLessThan',\n",
       " 'PropertyIsLessThanOrEqualTo',\n",
       " 'PropertyIsLike',\n",
       " 'PropertyIsNotEqualTo',\n",
       " 'PropertyIsNull',\n",
       " 'SortProperty']"
      ]
     },
     "execution_count": 12,
     "metadata": {},
     "output_type": "execute_result"
    }
   ],
   "source": [
    "[i for i,j in inspect.getmembers(sys.modules['owslib.fes'], inspect.isclass) if 'Property' in i]"
   ]
  },
  {
   "cell_type": "markdown",
   "metadata": {},
   "source": [
    "In this example we build a query using the *PropertyIsEqualTo* operator to find all boreholes that are within the community (gemeente) of 'Herstappe':"
   ]
  },
  {
   "cell_type": "code",
   "execution_count": 13,
   "metadata": {},
   "outputs": [
    {
     "name": "stdout",
     "output_type": "stream",
     "text": [
      "[000/002] ..\n"
     ]
    },
    {
     "data": {
      "text/html": [
       "<div>\n",
       "<style scoped>\n",
       "    .dataframe tbody tr th:only-of-type {\n",
       "        vertical-align: middle;\n",
       "    }\n",
       "\n",
       "    .dataframe tbody tr th {\n",
       "        vertical-align: top;\n",
       "    }\n",
       "\n",
       "    .dataframe thead th {\n",
       "        text-align: right;\n",
       "    }\n",
       "</style>\n",
       "<table border=\"1\" class=\"dataframe\">\n",
       "  <thead>\n",
       "    <tr style=\"text-align: right;\">\n",
       "      <th></th>\n",
       "      <th>pkey_boring</th>\n",
       "      <th>boornummer</th>\n",
       "      <th>x</th>\n",
       "      <th>y</th>\n",
       "      <th>mv_mtaw</th>\n",
       "      <th>start_boring_mtaw</th>\n",
       "      <th>gemeente</th>\n",
       "      <th>diepte_boring_van</th>\n",
       "      <th>diepte_boring_tot</th>\n",
       "      <th>datum_aanvang</th>\n",
       "      <th>uitvoerder</th>\n",
       "      <th>boorgatmeting</th>\n",
       "      <th>diepte_methode_van</th>\n",
       "      <th>diepte_methode_tot</th>\n",
       "      <th>boormethode</th>\n",
       "    </tr>\n",
       "  </thead>\n",
       "  <tbody>\n",
       "    <tr>\n",
       "      <th>0</th>\n",
       "      <td>https://www.dov.vlaanderen.be/data/boring/2016...</td>\n",
       "      <td>kb33d106e-B236</td>\n",
       "      <td>224687.4</td>\n",
       "      <td>158191.0</td>\n",
       "      <td>124.0</td>\n",
       "      <td>124.0</td>\n",
       "      <td>Herstappe</td>\n",
       "      <td>0.0</td>\n",
       "      <td>6.0</td>\n",
       "      <td>NaN</td>\n",
       "      <td>Belgische Geologische Dienst (BGD)</td>\n",
       "      <td>False</td>\n",
       "      <td>0.0</td>\n",
       "      <td>6.0</td>\n",
       "      <td>gestoken boring</td>\n",
       "    </tr>\n",
       "    <tr>\n",
       "      <th>1</th>\n",
       "      <td>https://www.dov.vlaanderen.be/data/boring/1993...</td>\n",
       "      <td>kb41d120e-B1027</td>\n",
       "      <td>224820.0</td>\n",
       "      <td>157794.0</td>\n",
       "      <td>132.0</td>\n",
       "      <td>132.0</td>\n",
       "      <td>Herstappe</td>\n",
       "      <td>0.0</td>\n",
       "      <td>50.0</td>\n",
       "      <td>1993-09-02</td>\n",
       "      <td>Peeters-Ramsel</td>\n",
       "      <td>False</td>\n",
       "      <td>0.0</td>\n",
       "      <td>50.0</td>\n",
       "      <td>onbekend</td>\n",
       "    </tr>\n",
       "  </tbody>\n",
       "</table>\n",
       "</div>"
      ],
      "text/plain": [
       "                                         pkey_boring       boornummer  \\\n",
       "0  https://www.dov.vlaanderen.be/data/boring/2016...   kb33d106e-B236   \n",
       "1  https://www.dov.vlaanderen.be/data/boring/1993...  kb41d120e-B1027   \n",
       "\n",
       "          x         y  mv_mtaw  start_boring_mtaw   gemeente  \\\n",
       "0  224687.4  158191.0    124.0              124.0  Herstappe   \n",
       "1  224820.0  157794.0    132.0              132.0  Herstappe   \n",
       "\n",
       "   diepte_boring_van  diepte_boring_tot datum_aanvang  \\\n",
       "0                0.0                6.0           NaN   \n",
       "1                0.0               50.0    1993-09-02   \n",
       "\n",
       "                           uitvoerder  boorgatmeting  diepte_methode_van  \\\n",
       "0  Belgische Geologische Dienst (BGD)          False                 0.0   \n",
       "1                      Peeters-Ramsel          False                 0.0   \n",
       "\n",
       "   diepte_methode_tot      boormethode  \n",
       "0                 6.0  gestoken boring  \n",
       "1                50.0         onbekend  "
      ]
     },
     "execution_count": 13,
     "metadata": {},
     "output_type": "execute_result"
    }
   ],
   "source": [
    "from owslib.fes import PropertyIsEqualTo\n",
    "\n",
    "query = PropertyIsEqualTo(propertyname='gemeente',\n",
    "                          literal='Herstappe')\n",
    "df = boring.search(query=query)\n",
    "\n",
    "df.head()"
   ]
  },
  {
   "cell_type": "markdown",
   "metadata": {},
   "source": [
    "Once again we can use the *pkey_boring* as a permanent link to the information of these boreholes:"
   ]
  },
  {
   "cell_type": "code",
   "execution_count": 14,
   "metadata": {},
   "outputs": [
    {
     "name": "stdout",
     "output_type": "stream",
     "text": [
      "https://www.dov.vlaanderen.be/data/boring/2016-125511\n",
      "https://www.dov.vlaanderen.be/data/boring/1993-096210\n"
     ]
    }
   ],
   "source": [
    "for pkey_boring in set(df.pkey_boring):\n",
    "    print(pkey_boring)"
   ]
  },
  {
   "cell_type": "markdown",
   "metadata": {},
   "source": [
    "### Get boreholes in a bounding box based on specific properties"
   ]
  },
  {
   "cell_type": "markdown",
   "metadata": {},
   "source": [
    "We can combine a query on attributes with a query on geographic location to get the boreholes within a bounding box that have specific properties.\n",
    "\n",
    "The following example requests the boreholes with a depth greater than or equal to 2000 meters within the given bounding box.\n",
    "\n",
    "(Note that the datatype of the *literal* parameter should be a string, regardless of the datatype of this field in the output dataframe.)"
   ]
  },
  {
   "cell_type": "code",
   "execution_count": 17,
   "metadata": {},
   "outputs": [
    {
     "name": "stdout",
     "output_type": "stream",
     "text": [
      "[000/006] ......\n"
     ]
    },
    {
     "data": {
      "text/html": [
       "<div>\n",
       "<style scoped>\n",
       "    .dataframe tbody tr th:only-of-type {\n",
       "        vertical-align: middle;\n",
       "    }\n",
       "\n",
       "    .dataframe tbody tr th {\n",
       "        vertical-align: top;\n",
       "    }\n",
       "\n",
       "    .dataframe thead th {\n",
       "        text-align: right;\n",
       "    }\n",
       "</style>\n",
       "<table border=\"1\" class=\"dataframe\">\n",
       "  <thead>\n",
       "    <tr style=\"text-align: right;\">\n",
       "      <th></th>\n",
       "      <th>pkey_boring</th>\n",
       "      <th>boornummer</th>\n",
       "      <th>x</th>\n",
       "      <th>y</th>\n",
       "      <th>mv_mtaw</th>\n",
       "      <th>start_boring_mtaw</th>\n",
       "      <th>gemeente</th>\n",
       "      <th>diepte_boring_van</th>\n",
       "      <th>diepte_boring_tot</th>\n",
       "      <th>datum_aanvang</th>\n",
       "      <th>uitvoerder</th>\n",
       "      <th>boorgatmeting</th>\n",
       "      <th>diepte_methode_van</th>\n",
       "      <th>diepte_methode_tot</th>\n",
       "      <th>boormethode</th>\n",
       "    </tr>\n",
       "  </thead>\n",
       "  <tbody>\n",
       "    <tr>\n",
       "      <th>0</th>\n",
       "      <td>https://www.dov.vlaanderen.be/data/boring/2016...</td>\n",
       "      <td>B/1-102782</td>\n",
       "      <td>201775.5</td>\n",
       "      <td>212960.0</td>\n",
       "      <td>25.0</td>\n",
       "      <td>25.0</td>\n",
       "      <td>Mol</td>\n",
       "      <td>0.0</td>\n",
       "      <td>3600.0</td>\n",
       "      <td>NaN</td>\n",
       "      <td>NaN</td>\n",
       "      <td>False</td>\n",
       "      <td>0.0</td>\n",
       "      <td>0.0</td>\n",
       "      <td>onbekend</td>\n",
       "    </tr>\n",
       "    <tr>\n",
       "      <th>1</th>\n",
       "      <td>https://www.dov.vlaanderen.be/data/boring/2016...</td>\n",
       "      <td>B/1-102783</td>\n",
       "      <td>201798.0</td>\n",
       "      <td>212963.0</td>\n",
       "      <td>25.0</td>\n",
       "      <td>25.0</td>\n",
       "      <td>Mol</td>\n",
       "      <td>0.0</td>\n",
       "      <td>3600.0</td>\n",
       "      <td>NaN</td>\n",
       "      <td>NaN</td>\n",
       "      <td>False</td>\n",
       "      <td>0.0</td>\n",
       "      <td>0.0</td>\n",
       "      <td>onbekend</td>\n",
       "    </tr>\n",
       "    <tr>\n",
       "      <th>2</th>\n",
       "      <td>https://www.dov.vlaanderen.be/data/boring/2016...</td>\n",
       "      <td>B/1-102784</td>\n",
       "      <td>201768.0</td>\n",
       "      <td>212959.0</td>\n",
       "      <td>25.0</td>\n",
       "      <td>25.0</td>\n",
       "      <td>Mol</td>\n",
       "      <td>0.0</td>\n",
       "      <td>3600.0</td>\n",
       "      <td>NaN</td>\n",
       "      <td>NaN</td>\n",
       "      <td>False</td>\n",
       "      <td>0.0</td>\n",
       "      <td>0.0</td>\n",
       "      <td>onbekend</td>\n",
       "    </tr>\n",
       "    <tr>\n",
       "      <th>3</th>\n",
       "      <td>https://www.dov.vlaanderen.be/data/boring/2016...</td>\n",
       "      <td>B/1-102785</td>\n",
       "      <td>201790.5</td>\n",
       "      <td>212962.0</td>\n",
       "      <td>25.0</td>\n",
       "      <td>25.0</td>\n",
       "      <td>Mol</td>\n",
       "      <td>0.0</td>\n",
       "      <td>4341.0</td>\n",
       "      <td>2016-03-02</td>\n",
       "      <td>THV Daldrup - Smet</td>\n",
       "      <td>True</td>\n",
       "      <td>0.0</td>\n",
       "      <td>4341.0</td>\n",
       "      <td>spoelboring</td>\n",
       "    </tr>\n",
       "    <tr>\n",
       "      <th>4</th>\n",
       "      <td>https://www.dov.vlaanderen.be/data/boring/2016...</td>\n",
       "      <td>B/1-102786</td>\n",
       "      <td>201783.0</td>\n",
       "      <td>212961.0</td>\n",
       "      <td>25.0</td>\n",
       "      <td>25.0</td>\n",
       "      <td>Mol</td>\n",
       "      <td>0.0</td>\n",
       "      <td>3610.0</td>\n",
       "      <td>2015-09-14</td>\n",
       "      <td>THV Daldrup - Smet</td>\n",
       "      <td>True</td>\n",
       "      <td>0.0</td>\n",
       "      <td>1034.0</td>\n",
       "      <td>spoelboring</td>\n",
       "    </tr>\n",
       "  </tbody>\n",
       "</table>\n",
       "</div>"
      ],
      "text/plain": [
       "                                         pkey_boring  boornummer         x  \\\n",
       "0  https://www.dov.vlaanderen.be/data/boring/2016...  B/1-102782  201775.5   \n",
       "1  https://www.dov.vlaanderen.be/data/boring/2016...  B/1-102783  201798.0   \n",
       "2  https://www.dov.vlaanderen.be/data/boring/2016...  B/1-102784  201768.0   \n",
       "3  https://www.dov.vlaanderen.be/data/boring/2016...  B/1-102785  201790.5   \n",
       "4  https://www.dov.vlaanderen.be/data/boring/2016...  B/1-102786  201783.0   \n",
       "\n",
       "          y  mv_mtaw  start_boring_mtaw gemeente  diepte_boring_van  \\\n",
       "0  212960.0     25.0               25.0      Mol                0.0   \n",
       "1  212963.0     25.0               25.0      Mol                0.0   \n",
       "2  212959.0     25.0               25.0      Mol                0.0   \n",
       "3  212962.0     25.0               25.0      Mol                0.0   \n",
       "4  212961.0     25.0               25.0      Mol                0.0   \n",
       "\n",
       "   diepte_boring_tot datum_aanvang          uitvoerder  boorgatmeting  \\\n",
       "0             3600.0           NaN                 NaN          False   \n",
       "1             3600.0           NaN                 NaN          False   \n",
       "2             3600.0           NaN                 NaN          False   \n",
       "3             4341.0    2016-03-02  THV Daldrup - Smet           True   \n",
       "4             3610.0    2015-09-14  THV Daldrup - Smet           True   \n",
       "\n",
       "   diepte_methode_van  diepte_methode_tot  boormethode  \n",
       "0                 0.0                 0.0     onbekend  \n",
       "1                 0.0                 0.0     onbekend  \n",
       "2                 0.0                 0.0     onbekend  \n",
       "3                 0.0              4341.0  spoelboring  \n",
       "4                 0.0              1034.0  spoelboring  "
      ]
     },
     "execution_count": 17,
     "metadata": {},
     "output_type": "execute_result"
    }
   ],
   "source": [
    "from owslib.fes import PropertyIsGreaterThanOrEqualTo\n",
    "\n",
    "query = PropertyIsGreaterThanOrEqualTo(\n",
    "            propertyname='diepte_boring_tot',\n",
    "            literal='2000')\n",
    "\n",
    "df = boring.search(\n",
    "    location=Within(Box(200000, 211000, 205000, 214000)),\n",
    "    query=query\n",
    "    )\n",
    "\n",
    "df.head()"
   ]
  },
  {
   "cell_type": "markdown",
   "metadata": {},
   "source": [
    "We can look at one of the boreholes in a webbrowser using its *pkey_boring*:"
   ]
  },
  {
   "cell_type": "code",
   "execution_count": 18,
   "metadata": {},
   "outputs": [
    {
     "name": "stdout",
     "output_type": "stream",
     "text": [
      "https://www.dov.vlaanderen.be/data/boring/2016-148765\n",
      "https://www.dov.vlaanderen.be/data/boring/2016-148764\n",
      "https://www.dov.vlaanderen.be/data/boring/2016-148767\n",
      "https://www.dov.vlaanderen.be/data/boring/2016-148766\n",
      "https://www.dov.vlaanderen.be/data/boring/2016-148770\n",
      "https://www.dov.vlaanderen.be/data/boring/2016-148763\n"
     ]
    }
   ],
   "source": [
    "for pkey_boring in set(df.pkey_boring):\n",
    "    print(pkey_boring)"
   ]
  },
  {
   "cell_type": "markdown",
   "metadata": {},
   "source": [
    "### Select boreholes in a municipality and return depth"
   ]
  },
  {
   "cell_type": "markdown",
   "metadata": {},
   "source": [
    "We can limit the columns in the output dataframe by specifying the *return_fields* parameter in our search.\n",
    "\n",
    "In this example we query all the boreholes in the city of Ghent and return their depth:"
   ]
  },
  {
   "cell_type": "code",
   "execution_count": 19,
   "metadata": {},
   "outputs": [
    {
     "data": {
      "text/html": [
       "<div>\n",
       "<style scoped>\n",
       "    .dataframe tbody tr th:only-of-type {\n",
       "        vertical-align: middle;\n",
       "    }\n",
       "\n",
       "    .dataframe tbody tr th {\n",
       "        vertical-align: top;\n",
       "    }\n",
       "\n",
       "    .dataframe thead th {\n",
       "        text-align: right;\n",
       "    }\n",
       "</style>\n",
       "<table border=\"1\" class=\"dataframe\">\n",
       "  <thead>\n",
       "    <tr style=\"text-align: right;\">\n",
       "      <th></th>\n",
       "      <th>diepte_boring_tot</th>\n",
       "    </tr>\n",
       "  </thead>\n",
       "  <tbody>\n",
       "    <tr>\n",
       "      <th>0</th>\n",
       "      <td>42.0</td>\n",
       "    </tr>\n",
       "    <tr>\n",
       "      <th>1</th>\n",
       "      <td>32.0</td>\n",
       "    </tr>\n",
       "    <tr>\n",
       "      <th>2</th>\n",
       "      <td>59.0</td>\n",
       "    </tr>\n",
       "    <tr>\n",
       "      <th>3</th>\n",
       "      <td>11.0</td>\n",
       "    </tr>\n",
       "    <tr>\n",
       "      <th>4</th>\n",
       "      <td>27.0</td>\n",
       "    </tr>\n",
       "  </tbody>\n",
       "</table>\n",
       "</div>"
      ],
      "text/plain": [
       "   diepte_boring_tot\n",
       "0               42.0\n",
       "1               32.0\n",
       "2               59.0\n",
       "3               11.0\n",
       "4               27.0"
      ]
     },
     "execution_count": 19,
     "metadata": {},
     "output_type": "execute_result"
    }
   ],
   "source": [
    "query = PropertyIsEqualTo(propertyname='gemeente',\n",
    "                          literal='Gent')\n",
    "df = boring.search(query=query,\n",
    "                   return_fields=('diepte_boring_tot',))\n",
    "df.head()"
   ]
  },
  {
   "cell_type": "code",
   "execution_count": 20,
   "metadata": {},
   "outputs": [
    {
     "data": {
      "text/html": [
       "<div>\n",
       "<style scoped>\n",
       "    .dataframe tbody tr th:only-of-type {\n",
       "        vertical-align: middle;\n",
       "    }\n",
       "\n",
       "    .dataframe tbody tr th {\n",
       "        vertical-align: top;\n",
       "    }\n",
       "\n",
       "    .dataframe thead th {\n",
       "        text-align: right;\n",
       "    }\n",
       "</style>\n",
       "<table border=\"1\" class=\"dataframe\">\n",
       "  <thead>\n",
       "    <tr style=\"text-align: right;\">\n",
       "      <th></th>\n",
       "      <th>diepte_boring_tot</th>\n",
       "    </tr>\n",
       "  </thead>\n",
       "  <tbody>\n",
       "    <tr>\n",
       "      <th>count</th>\n",
       "      <td>2696.000000</td>\n",
       "    </tr>\n",
       "    <tr>\n",
       "      <th>mean</th>\n",
       "      <td>15.474221</td>\n",
       "    </tr>\n",
       "    <tr>\n",
       "      <th>std</th>\n",
       "      <td>32.081506</td>\n",
       "    </tr>\n",
       "    <tr>\n",
       "      <th>min</th>\n",
       "      <td>0.000000</td>\n",
       "    </tr>\n",
       "    <tr>\n",
       "      <th>25%</th>\n",
       "      <td>0.400000</td>\n",
       "    </tr>\n",
       "    <tr>\n",
       "      <th>50%</th>\n",
       "      <td>6.045000</td>\n",
       "    </tr>\n",
       "    <tr>\n",
       "      <th>75%</th>\n",
       "      <td>20.000000</td>\n",
       "    </tr>\n",
       "    <tr>\n",
       "      <th>max</th>\n",
       "      <td>660.000000</td>\n",
       "    </tr>\n",
       "  </tbody>\n",
       "</table>\n",
       "</div>"
      ],
      "text/plain": [
       "       diepte_boring_tot\n",
       "count        2696.000000\n",
       "mean           15.474221\n",
       "std            32.081506\n",
       "min             0.000000\n",
       "25%             0.400000\n",
       "50%             6.045000\n",
       "75%            20.000000\n",
       "max           660.000000"
      ]
     },
     "execution_count": 20,
     "metadata": {},
     "output_type": "execute_result"
    }
   ],
   "source": [
    "df.describe()"
   ]
  },
  {
   "cell_type": "markdown",
   "metadata": {},
   "source": [
    "By discarding the boreholes with a depth of 0 m, we get a different result:"
   ]
  },
  {
   "cell_type": "code",
   "execution_count": 21,
   "metadata": {},
   "outputs": [
    {
     "data": {
      "text/html": [
       "<div>\n",
       "<style scoped>\n",
       "    .dataframe tbody tr th:only-of-type {\n",
       "        vertical-align: middle;\n",
       "    }\n",
       "\n",
       "    .dataframe tbody tr th {\n",
       "        vertical-align: top;\n",
       "    }\n",
       "\n",
       "    .dataframe thead th {\n",
       "        text-align: right;\n",
       "    }\n",
       "</style>\n",
       "<table border=\"1\" class=\"dataframe\">\n",
       "  <thead>\n",
       "    <tr style=\"text-align: right;\">\n",
       "      <th></th>\n",
       "      <th>diepte_boring_tot</th>\n",
       "    </tr>\n",
       "  </thead>\n",
       "  <tbody>\n",
       "    <tr>\n",
       "      <th>count</th>\n",
       "      <td>2030.000000</td>\n",
       "    </tr>\n",
       "    <tr>\n",
       "      <th>mean</th>\n",
       "      <td>20.550985</td>\n",
       "    </tr>\n",
       "    <tr>\n",
       "      <th>std</th>\n",
       "      <td>35.534093</td>\n",
       "    </tr>\n",
       "    <tr>\n",
       "      <th>min</th>\n",
       "      <td>0.100000</td>\n",
       "    </tr>\n",
       "    <tr>\n",
       "      <th>25%</th>\n",
       "      <td>5.000000</td>\n",
       "    </tr>\n",
       "    <tr>\n",
       "      <th>50%</th>\n",
       "      <td>11.900000</td>\n",
       "    </tr>\n",
       "    <tr>\n",
       "      <th>75%</th>\n",
       "      <td>22.000000</td>\n",
       "    </tr>\n",
       "    <tr>\n",
       "      <th>max</th>\n",
       "      <td>660.000000</td>\n",
       "    </tr>\n",
       "  </tbody>\n",
       "</table>\n",
       "</div>"
      ],
      "text/plain": [
       "       diepte_boring_tot\n",
       "count        2030.000000\n",
       "mean           20.550985\n",
       "std            35.534093\n",
       "min             0.100000\n",
       "25%             5.000000\n",
       "50%            11.900000\n",
       "75%            22.000000\n",
       "max           660.000000"
      ]
     },
     "execution_count": 21,
     "metadata": {},
     "output_type": "execute_result"
    }
   ],
   "source": [
    "df[df.diepte_boring_tot != 0].describe()"
   ]
  },
  {
   "cell_type": "code",
   "execution_count": 22,
   "metadata": {},
   "outputs": [
    {
     "data": {
      "text/plain": [
       "<matplotlib.axes._subplots.AxesSubplot at 0x1196b8d0>"
      ]
     },
     "execution_count": 22,
     "metadata": {},
     "output_type": "execute_result"
    },
    {
     "data": {
      "image/png": "[encoded data removed]",
      "text/plain": [
       "<matplotlib.figure.Figure at 0x1196bf98>"
      ]
     },
     "metadata": {},
     "output_type": "display_data"
    }
   ],
   "source": [
    "df[df.diepte_boring_tot != 0].boxplot()"
   ]
  },
  {
   "cell_type": "markdown",
   "metadata": {},
   "source": [
    "### Get boreholes based on fields not available in the standard output dataframe"
   ]
  },
  {
   "cell_type": "markdown",
   "metadata": {},
   "source": [
    "To keep the output dataframe size acceptable, not all availabe WFS fields are included in the standard output. However, one can use this information to select boreholes as illustrated below.\n",
    "\n",
    "For example, make a selection of the boreholes in municipality the of Antwerp, for which a hydrogeological interpretation was performed:"
   ]
  },
  {
   "cell_type": "code",
   "execution_count": 23,
   "metadata": {},
   "outputs": [
    {
     "data": {
      "text/html": [
       "<div>\n",
       "<style scoped>\n",
       "    .dataframe tbody tr th:only-of-type {\n",
       "        vertical-align: middle;\n",
       "    }\n",
       "\n",
       "    .dataframe tbody tr th {\n",
       "        vertical-align: top;\n",
       "    }\n",
       "\n",
       "    .dataframe thead th {\n",
       "        text-align: right;\n",
       "    }\n",
       "</style>\n",
       "<table border=\"1\" class=\"dataframe\">\n",
       "  <thead>\n",
       "    <tr style=\"text-align: right;\">\n",
       "      <th></th>\n",
       "      <th>pkey_boring</th>\n",
       "      <th>boornummer</th>\n",
       "      <th>x</th>\n",
       "      <th>y</th>\n",
       "      <th>diepte_boring_tot</th>\n",
       "      <th>datum_aanvang</th>\n",
       "    </tr>\n",
       "  </thead>\n",
       "  <tbody>\n",
       "    <tr>\n",
       "      <th>0</th>\n",
       "      <td>https://www.dov.vlaanderen.be/data/boring/1937...</td>\n",
       "      <td>kb7d14e-B82</td>\n",
       "      <td>145457.0</td>\n",
       "      <td>224973.5</td>\n",
       "      <td>10.0</td>\n",
       "      <td>1937-01-02</td>\n",
       "    </tr>\n",
       "    <tr>\n",
       "      <th>1</th>\n",
       "      <td>https://www.dov.vlaanderen.be/data/boring/1969...</td>\n",
       "      <td>kb7d14e-B110</td>\n",
       "      <td>143700.4</td>\n",
       "      <td>228086.3</td>\n",
       "      <td>12.0</td>\n",
       "      <td>1969-01-01</td>\n",
       "    </tr>\n",
       "    <tr>\n",
       "      <th>2</th>\n",
       "      <td>https://www.dov.vlaanderen.be/data/boring/1966...</td>\n",
       "      <td>kb7d14e-B115</td>\n",
       "      <td>143067.0</td>\n",
       "      <td>227707.6</td>\n",
       "      <td>66.0</td>\n",
       "      <td>1966-01-01</td>\n",
       "    </tr>\n",
       "    <tr>\n",
       "      <th>3</th>\n",
       "      <td>https://www.dov.vlaanderen.be/data/boring/1966...</td>\n",
       "      <td>kb7d14e-B117</td>\n",
       "      <td>144770.5</td>\n",
       "      <td>223430.6</td>\n",
       "      <td>49.0</td>\n",
       "      <td>1966-01-01</td>\n",
       "    </tr>\n",
       "    <tr>\n",
       "      <th>4</th>\n",
       "      <td>https://www.dov.vlaanderen.be/data/boring/1970...</td>\n",
       "      <td>kb7d14e-B121</td>\n",
       "      <td>143597.8</td>\n",
       "      <td>223498.6</td>\n",
       "      <td>11.9</td>\n",
       "      <td>1970-01-01</td>\n",
       "    </tr>\n",
       "  </tbody>\n",
       "</table>\n",
       "</div>"
      ],
      "text/plain": [
       "                                         pkey_boring    boornummer         x  \\\n",
       "0  https://www.dov.vlaanderen.be/data/boring/1937...   kb7d14e-B82  145457.0   \n",
       "1  https://www.dov.vlaanderen.be/data/boring/1969...  kb7d14e-B110  143700.4   \n",
       "2  https://www.dov.vlaanderen.be/data/boring/1966...  kb7d14e-B115  143067.0   \n",
       "3  https://www.dov.vlaanderen.be/data/boring/1966...  kb7d14e-B117  144770.5   \n",
       "4  https://www.dov.vlaanderen.be/data/boring/1970...  kb7d14e-B121  143597.8   \n",
       "\n",
       "          y  diepte_boring_tot datum_aanvang  \n",
       "0  224973.5               10.0    1937-01-02  \n",
       "1  228086.3               12.0    1969-01-01  \n",
       "2  227707.6               66.0    1966-01-01  \n",
       "3  223430.6               49.0    1966-01-01  \n",
       "4  223498.6               11.9    1970-01-01  "
      ]
     },
     "execution_count": 23,
     "metadata": {},
     "output_type": "execute_result"
    }
   ],
   "source": [
    "from owslib.fes import And\n",
    "\n",
    "query = And([PropertyIsEqualTo(propertyname='gemeente',\n",
    "                               literal='Antwerpen'),\n",
    "             PropertyIsEqualTo(propertyname='hydrogeologische_stratigrafie', \n",
    "                               literal='True')]\n",
    "            )\n",
    "df = boring.search(query=query,\n",
    "                   return_fields=('pkey_boring', 'boornummer', 'x', 'y', 'diepte_boring_tot', 'datum_aanvang'))\n",
    "df.head()"
   ]
  },
  {
   "cell_type": "markdown",
   "metadata": {},
   "source": [
    "### Get borehole data, returning fields not available in the standard output dataframe"
   ]
  },
  {
   "cell_type": "markdown",
   "metadata": {},
   "source": [
    "As denoted in the previous example, not all available fields are available in the default output frame to keep its size limited. However, you can request any available field by including it in the *return_fields* parameter of the search:"
   ]
  },
  {
   "cell_type": "code",
   "execution_count": 24,
   "metadata": {},
   "outputs": [
    {
     "data": {
      "text/html": [
       "<div>\n",
       "<style scoped>\n",
       "    .dataframe tbody tr th:only-of-type {\n",
       "        vertical-align: middle;\n",
       "    }\n",
       "\n",
       "    .dataframe tbody tr th {\n",
       "        vertical-align: top;\n",
       "    }\n",
       "\n",
       "    .dataframe thead th {\n",
       "        text-align: right;\n",
       "    }\n",
       "</style>\n",
       "<table border=\"1\" class=\"dataframe\">\n",
       "  <thead>\n",
       "    <tr style=\"text-align: right;\">\n",
       "      <th></th>\n",
       "      <th>pkey_boring</th>\n",
       "      <th>boornummer</th>\n",
       "      <th>diepte_boring_tot</th>\n",
       "      <th>gecodeerde_lithologie</th>\n",
       "      <th>quartaire_stratigrafie</th>\n",
       "      <th>geotechnische_codering</th>\n",
       "      <th>informele_hydrostratigrafie</th>\n",
       "      <th>informele_stratigrafie</th>\n",
       "      <th>formele_stratigrafie</th>\n",
       "      <th>hydrogeologische_stratigrafie</th>\n",
       "      <th>lithologische_beschrijving</th>\n",
       "    </tr>\n",
       "  </thead>\n",
       "  <tbody>\n",
       "    <tr>\n",
       "      <th>0</th>\n",
       "      <td>https://www.dov.vlaanderen.be/data/boring/1981...</td>\n",
       "      <td>kb8d7e-B224</td>\n",
       "      <td>2513.0</td>\n",
       "      <td>False</td>\n",
       "      <td>False</td>\n",
       "      <td>False</td>\n",
       "      <td>False</td>\n",
       "      <td>True</td>\n",
       "      <td>True</td>\n",
       "      <td>False</td>\n",
       "      <td>False</td>\n",
       "    </tr>\n",
       "    <tr>\n",
       "      <th>1</th>\n",
       "      <td>https://www.dov.vlaanderen.be/data/boring/1952...</td>\n",
       "      <td>kb8d17e-B272</td>\n",
       "      <td>2705.0</td>\n",
       "      <td>True</td>\n",
       "      <td>False</td>\n",
       "      <td>False</td>\n",
       "      <td>False</td>\n",
       "      <td>True</td>\n",
       "      <td>True</td>\n",
       "      <td>True</td>\n",
       "      <td>True</td>\n",
       "    </tr>\n",
       "    <tr>\n",
       "      <th>2</th>\n",
       "      <td>https://www.dov.vlaanderen.be/data/boring/2016...</td>\n",
       "      <td>B/1-102782</td>\n",
       "      <td>3600.0</td>\n",
       "      <td>False</td>\n",
       "      <td>False</td>\n",
       "      <td>False</td>\n",
       "      <td>False</td>\n",
       "      <td>False</td>\n",
       "      <td>False</td>\n",
       "      <td>False</td>\n",
       "      <td>False</td>\n",
       "    </tr>\n",
       "    <tr>\n",
       "      <th>3</th>\n",
       "      <td>https://www.dov.vlaanderen.be/data/boring/2016...</td>\n",
       "      <td>B/1-102783</td>\n",
       "      <td>3600.0</td>\n",
       "      <td>False</td>\n",
       "      <td>False</td>\n",
       "      <td>False</td>\n",
       "      <td>False</td>\n",
       "      <td>False</td>\n",
       "      <td>False</td>\n",
       "      <td>False</td>\n",
       "      <td>False</td>\n",
       "    </tr>\n",
       "    <tr>\n",
       "      <th>4</th>\n",
       "      <td>https://www.dov.vlaanderen.be/data/boring/2016...</td>\n",
       "      <td>B/1-102784</td>\n",
       "      <td>3600.0</td>\n",
       "      <td>False</td>\n",
       "      <td>False</td>\n",
       "      <td>False</td>\n",
       "      <td>False</td>\n",
       "      <td>False</td>\n",
       "      <td>False</td>\n",
       "      <td>False</td>\n",
       "      <td>False</td>\n",
       "    </tr>\n",
       "  </tbody>\n",
       "</table>\n",
       "</div>"
      ],
      "text/plain": [
       "                                         pkey_boring    boornummer  \\\n",
       "0  https://www.dov.vlaanderen.be/data/boring/1981...   kb8d7e-B224   \n",
       "1  https://www.dov.vlaanderen.be/data/boring/1952...  kb8d17e-B272   \n",
       "2  https://www.dov.vlaanderen.be/data/boring/2016...    B/1-102782   \n",
       "3  https://www.dov.vlaanderen.be/data/boring/2016...    B/1-102783   \n",
       "4  https://www.dov.vlaanderen.be/data/boring/2016...    B/1-102784   \n",
       "\n",
       "   diepte_boring_tot  gecodeerde_lithologie  quartaire_stratigrafie  \\\n",
       "0             2513.0                  False                   False   \n",
       "1             2705.0                   True                   False   \n",
       "2             3600.0                  False                   False   \n",
       "3             3600.0                  False                   False   \n",
       "4             3600.0                  False                   False   \n",
       "\n",
       "   geotechnische_codering  informele_hydrostratigrafie  \\\n",
       "0                   False                        False   \n",
       "1                   False                        False   \n",
       "2                   False                        False   \n",
       "3                   False                        False   \n",
       "4                   False                        False   \n",
       "\n",
       "   informele_stratigrafie  formele_stratigrafie  \\\n",
       "0                    True                  True   \n",
       "1                    True                  True   \n",
       "2                   False                 False   \n",
       "3                   False                 False   \n",
       "4                   False                 False   \n",
       "\n",
       "   hydrogeologische_stratigrafie  lithologische_beschrijving  \n",
       "0                          False                       False  \n",
       "1                           True                        True  \n",
       "2                          False                       False  \n",
       "3                          False                       False  \n",
       "4                          False                       False  "
      ]
     },
     "execution_count": 24,
     "metadata": {},
     "output_type": "execute_result"
    }
   ],
   "source": [
    "query = PropertyIsGreaterThanOrEqualTo(\n",
    "            propertyname='diepte_boring_tot',\n",
    "            literal='2000')\n",
    "\n",
    "df = boring.search(query=query,\n",
    "                   return_fields=('pkey_boring', 'boornummer', 'diepte_boring_tot',\n",
    "                                  'informele_stratigrafie', 'formele_stratigrafie', 'lithologische_beschrijving',\n",
    "                                  'gecodeerde_lithologie', 'hydrogeologische_stratigrafie', 'quartaire_stratigrafie',\n",
    "                                  'geotechnische_codering', 'informele_hydrostratigrafie'))\n",
    "\n",
    "df.head()"
   ]
  },
  {
   "cell_type": "markdown",
   "metadata": {},
   "source": [
    "### Get boreholes in a municipality and where groundwater related data are available"
   ]
  },
  {
   "cell_type": "markdown",
   "metadata": {},
   "source": [
    "The following full example return all boreholes where *gemeente* is 'Antwerpen' and either *putnummer* is not empty or *doel* starts with 'Grondwater' or *erkenning* is '2. Andere grondwaterwinningen'."
   ]
  },
  {
   "cell_type": "code",
   "execution_count": 25,
   "metadata": {},
   "outputs": [
    {
     "name": "stdout",
     "output_type": "stream",
     "text": [
      "[000/028] ............................\n"
     ]
    },
    {
     "data": {
      "text/html": [
       "<div>\n",
       "<style scoped>\n",
       "    .dataframe tbody tr th:only-of-type {\n",
       "        vertical-align: middle;\n",
       "    }\n",
       "\n",
       "    .dataframe tbody tr th {\n",
       "        vertical-align: top;\n",
       "    }\n",
       "\n",
       "    .dataframe thead th {\n",
       "        text-align: right;\n",
       "    }\n",
       "</style>\n",
       "<table border=\"1\" class=\"dataframe\">\n",
       "  <thead>\n",
       "    <tr style=\"text-align: right;\">\n",
       "      <th></th>\n",
       "      <th>pkey_boring</th>\n",
       "      <th>boornummer</th>\n",
       "      <th>x</th>\n",
       "      <th>y</th>\n",
       "      <th>mv_mtaw</th>\n",
       "      <th>start_boring_mtaw</th>\n",
       "      <th>gemeente</th>\n",
       "      <th>diepte_boring_van</th>\n",
       "      <th>diepte_boring_tot</th>\n",
       "      <th>datum_aanvang</th>\n",
       "      <th>uitvoerder</th>\n",
       "      <th>boorgatmeting</th>\n",
       "      <th>diepte_methode_van</th>\n",
       "      <th>diepte_methode_tot</th>\n",
       "      <th>boormethode</th>\n",
       "    </tr>\n",
       "  </thead>\n",
       "  <tbody>\n",
       "    <tr>\n",
       "      <th>0</th>\n",
       "      <td>https://www.dov.vlaanderen.be/data/boring/1997...</td>\n",
       "      <td>kb15d28e-B741</td>\n",
       "      <td>154825.0</td>\n",
       "      <td>212445.0</td>\n",
       "      <td>5.00</td>\n",
       "      <td>5.00</td>\n",
       "      <td>Antwerpen</td>\n",
       "      <td>0.0</td>\n",
       "      <td>36.5</td>\n",
       "      <td>1996-12-31</td>\n",
       "      <td>Meysen Dammekens (Dammekens)-Hoboken</td>\n",
       "      <td>False</td>\n",
       "      <td>0.0</td>\n",
       "      <td>36.5</td>\n",
       "      <td>onbekend</td>\n",
       "    </tr>\n",
       "    <tr>\n",
       "      <th>1</th>\n",
       "      <td>https://www.dov.vlaanderen.be/data/boring/1996...</td>\n",
       "      <td>kb15d43w-B393</td>\n",
       "      <td>151150.0</td>\n",
       "      <td>206550.0</td>\n",
       "      <td>18.09</td>\n",
       "      <td>18.09</td>\n",
       "      <td>Antwerpen</td>\n",
       "      <td>0.0</td>\n",
       "      <td>104.0</td>\n",
       "      <td>1996-06-26</td>\n",
       "      <td>Meysen Dammekens (Dammekens)-Hoboken</td>\n",
       "      <td>False</td>\n",
       "      <td>0.0</td>\n",
       "      <td>104.0</td>\n",
       "      <td>spoelboring</td>\n",
       "    </tr>\n",
       "    <tr>\n",
       "      <th>2</th>\n",
       "      <td>https://www.dov.vlaanderen.be/data/boring/2016...</td>\n",
       "      <td>B/1-102776</td>\n",
       "      <td>153099.0</td>\n",
       "      <td>213577.0</td>\n",
       "      <td>-1.00</td>\n",
       "      <td>-1.00</td>\n",
       "      <td>Antwerpen</td>\n",
       "      <td>0.0</td>\n",
       "      <td>20.0</td>\n",
       "      <td>NaN</td>\n",
       "      <td>NaN</td>\n",
       "      <td>False</td>\n",
       "      <td>0.0</td>\n",
       "      <td>0.0</td>\n",
       "      <td>onbekend</td>\n",
       "    </tr>\n",
       "    <tr>\n",
       "      <th>3</th>\n",
       "      <td>https://www.dov.vlaanderen.be/data/boring/2017...</td>\n",
       "      <td>1434-BG000106-9</td>\n",
       "      <td>149486.0</td>\n",
       "      <td>221697.0</td>\n",
       "      <td>5.98</td>\n",
       "      <td>5.98</td>\n",
       "      <td>Antwerpen</td>\n",
       "      <td>0.0</td>\n",
       "      <td>50.0</td>\n",
       "      <td>2017-02-09</td>\n",
       "      <td>SMET GROUP OVERSEAS</td>\n",
       "      <td>False</td>\n",
       "      <td>0.0</td>\n",
       "      <td>50.0</td>\n",
       "      <td>spoelboring</td>\n",
       "    </tr>\n",
       "    <tr>\n",
       "      <th>4</th>\n",
       "      <td>https://www.dov.vlaanderen.be/data/boring/2017...</td>\n",
       "      <td>B/1-102987</td>\n",
       "      <td>149408.0</td>\n",
       "      <td>224256.0</td>\n",
       "      <td>-1.00</td>\n",
       "      <td>-1.00</td>\n",
       "      <td>Antwerpen</td>\n",
       "      <td>0.0</td>\n",
       "      <td>50.0</td>\n",
       "      <td>NaN</td>\n",
       "      <td>NaN</td>\n",
       "      <td>False</td>\n",
       "      <td>0.0</td>\n",
       "      <td>0.0</td>\n",
       "      <td>onbekend</td>\n",
       "    </tr>\n",
       "  </tbody>\n",
       "</table>\n",
       "</div>"
      ],
      "text/plain": [
       "                                         pkey_boring       boornummer  \\\n",
       "0  https://www.dov.vlaanderen.be/data/boring/1997...    kb15d28e-B741   \n",
       "1  https://www.dov.vlaanderen.be/data/boring/1996...    kb15d43w-B393   \n",
       "2  https://www.dov.vlaanderen.be/data/boring/2016...       B/1-102776   \n",
       "3  https://www.dov.vlaanderen.be/data/boring/2017...  1434-BG000106-9   \n",
       "4  https://www.dov.vlaanderen.be/data/boring/2017...       B/1-102987   \n",
       "\n",
       "          x         y  mv_mtaw  start_boring_mtaw   gemeente  \\\n",
       "0  154825.0  212445.0     5.00               5.00  Antwerpen   \n",
       "1  151150.0  206550.0    18.09              18.09  Antwerpen   \n",
       "2  153099.0  213577.0    -1.00              -1.00  Antwerpen   \n",
       "3  149486.0  221697.0     5.98               5.98  Antwerpen   \n",
       "4  149408.0  224256.0    -1.00              -1.00  Antwerpen   \n",
       "\n",
       "   diepte_boring_van  diepte_boring_tot datum_aanvang  \\\n",
       "0                0.0               36.5    1996-12-31   \n",
       "1                0.0              104.0    1996-06-26   \n",
       "2                0.0               20.0           NaN   \n",
       "3                0.0               50.0    2017-02-09   \n",
       "4                0.0               50.0           NaN   \n",
       "\n",
       "                             uitvoerder  boorgatmeting  diepte_methode_van  \\\n",
       "0  Meysen Dammekens (Dammekens)-Hoboken          False                 0.0   \n",
       "1  Meysen Dammekens (Dammekens)-Hoboken          False                 0.0   \n",
       "2                                   NaN          False                 0.0   \n",
       "3                   SMET GROUP OVERSEAS          False                 0.0   \n",
       "4                                   NaN          False                 0.0   \n",
       "\n",
       "   diepte_methode_tot  boormethode  \n",
       "0                36.5     onbekend  \n",
       "1               104.0  spoelboring  \n",
       "2                 0.0     onbekend  \n",
       "3                50.0  spoelboring  \n",
       "4                 0.0     onbekend  "
      ]
     },
     "execution_count": 25,
     "metadata": {},
     "output_type": "execute_result"
    }
   ],
   "source": [
    "from owslib.fes import PropertyIsLike\n",
    "from owslib.fes import PropertyIsNull\n",
    "from owslib.fes import Or\n",
    "from owslib.fes import Not\n",
    "\n",
    "query = And([PropertyIsEqualTo(propertyname='gemeente',\n",
    "                               literal='Antwerpen'),\n",
    "             Or([Not([PropertyIsNull(propertyname='putnummer')]),\n",
    "                PropertyIsLike(propertyname='doel',\n",
    "                               literal='Grondwater%'),\n",
    "                PropertyIsEqualTo(propertyname='erkenning', \n",
    "                                  literal='2. Andere grondwaterwinningen')]\n",
    "               )]\n",
    "           )\n",
    "df = boring.search(query=query)\n",
    "df.head()"
   ]
  },
  {
   "cell_type": "markdown",
   "metadata": {},
   "source": [
    "## Visualize results"
   ]
  },
  {
   "cell_type": "markdown",
   "metadata": {},
   "source": [
    "Using Folium, we can display the results of our search on a map."
   ]
  },
  {
   "cell_type": "code",
   "execution_count": 26,
   "metadata": {
    "collapsed": true
   },
   "outputs": [],
   "source": [
    "# import the necessary modules (not included in the requirements of pydov!)\n",
    "import folium\n",
    "from folium.plugins import MarkerCluster\n",
    "from pyproj import Proj, transform"
   ]
  },
  {
   "cell_type": "code",
   "execution_count": 27,
   "metadata": {
    "collapsed": true
   },
   "outputs": [],
   "source": [
    "# convert the coordinates to lat/lon for folium\n",
    "def convert_latlon(x1, y1):\n",
    "    inProj = Proj(init='epsg:31370')\n",
    "    outProj = Proj(init='epsg:4326')\n",
    "    x2,y2 = transform(inProj, outProj, x1, y1)\n",
    "    return x2, y2\n",
    "df['lon'], df['lat'] = zip(*map(convert_latlon, df['x'], df['y'])) \n",
    "# convert to list\n",
    "loclist = df[['lat', 'lon']].values.tolist()"
   ]
  },
  {
   "cell_type": "code",
   "execution_count": 28,
   "metadata": {},
   "outputs": [
    {
     "data": {
      "text/html": [
       "<div style=\"width:100%;\"><div style=\"position:relative;width:100%;height:0;padding-bottom:60%;\"><iframe src=\"data:text/html;charset=utf-8;base64,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\" style=\"position:absolute;width:100%;height:100%;left:0;top:0;border:none !important;\" allowfullscreen webkitallowfullscreen mozallowfullscreen></iframe></div></div>"
      ],
      "text/plain": [
       "<folium.folium.Map at 0x122554e0>"
      ]
     },
     "execution_count": 28,
     "metadata": {},
     "output_type": "execute_result"
    }
   ],
   "source": [
    "# initialize the Folium map on the centre of the selected locations, play with the zoom until ok\n",
    "fmap = folium.Map(location=[df['lat'].mean(), df['lon'].mean()], zoom_start=12)\n",
    "marker_cluster = MarkerCluster().add_to(fmap)\n",
    "for loc in range(0, len(loclist)):\n",
    "    folium.Marker(loclist[loc], popup=df['boornummer'][loc]).add_to(marker_cluster)\n",
    "fmap\n"
   ]
  },
  {
   "cell_type": "code",
   "execution_count": null,
   "metadata": {
    "collapsed": true
   },
   "outputs": [],
   "source": []
  }
 ],
 "metadata": {
  "kernelspec": {
   "display_name": "Python 2",
   "language": "python",
   "name": "python2"
  },
  "language_info": {
   "codemirror_mode": {
    "name": "ipython",
    "version": 2
   },
   "file_extension": ".py",
   "mimetype": "text/x-python",
   "name": "python",
   "nbconvert_exporter": "python",
   "pygments_lexer": "ipython2",
   "version": "2.7.14"
  }
 },
 "nbformat": 4,
 "nbformat_minor": 2
}
