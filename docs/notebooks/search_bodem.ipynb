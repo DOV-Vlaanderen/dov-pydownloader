{
 "cells": [
  {
   "cell_type": "markdown",
   "metadata": {},
   "source": [
    "# Example of DOV search methods for bodem objects"
   ]
  },
  {
   "cell_type": "markdown",
   "metadata": {},
   "source": [
    "[![Binder](https://mybinder.org/badge_logo.svg)](https://mybinder.org/v2/gh/DOV-Vlaanderen/pydov/master?filepath=docs%2Fnotebooks%2Fsearch_boringen.ipynb)"
   ]
  },
  {
   "cell_type": "markdown",
   "metadata": {},
   "source": [
    "## Use cases explained below\n",
    "* Introduction to the bodem-objects\n",
    "* Get bodemsites in a bounding box\n",
    "* Get bodemlocaties with specific properties\n",
    "* Get all direct and indirect bodemobservaties linked to a bodemlocatie\n",
    "* Get all bodemobservaties in a bodemmonster\n",
    "* Find all bodemlocaties where observations exist for organic carbon percentage in East-Flanders between 0 and 30 cm deep\n",
    "* Calculate carbon stock in Ghent in the layer 0 - 23 cm"
   ]
  },
  {
   "cell_type": "code",
   "execution_count": 1,
   "metadata": {},
   "outputs": [],
   "source": [
    "%matplotlib inline\n",
    "\n",
    "import inspect, sys\n",
    "import warnings; warnings.simplefilter('ignore')"
   ]
  },
  {
   "cell_type": "code",
   "execution_count": 2,
   "metadata": {},
   "outputs": [],
   "source": [
    "# check pydov path\n",
    "import pydov"
   ]
  },
  {
   "cell_type": "markdown",
   "metadata": {},
   "source": [
    "## Get information about the datatype 'Bodemlocatie'"
   ]
  },
  {
   "cell_type": "markdown",
   "metadata": {},
   "source": [
    "Other datatypes are also possible:\n",
    "* Bodemsite: BodemsiteSearch\n",
    "* Bodemmonster: BodemmonsterSearch\n",
    "* Bodemobservatie: BodemobservatieSearch"
   ]
  },
  {
   "cell_type": "code",
   "execution_count": 3,
   "metadata": {},
   "outputs": [],
   "source": [
    "from pydov.search.bodemlocatie import BodemlocatieSearch\n",
    "bodemlocatie = BodemlocatieSearch()"
   ]
  },
  {
   "cell_type": "markdown",
   "metadata": {},
   "source": [
    "A description is provided for the 'Bodemlocatie' datatype:"
   ]
  },
  {
   "cell_type": "code",
   "execution_count": 4,
   "metadata": {},
   "outputs": [
    {
     "data": {
      "text/plain": [
       "\"Een bodemlocatie is ofwel een profielput of een boring. Een boring is altijd één puntlocatie (x,y,z) en een profielput heeft minimum één en maximum twee puntlocaties (begin- en eindpunt van de profielput). \\r\\nEen profielput is een uitgegraven put in de bodem waarin profielbeschrijvingen, monsternames of bodemobservaties worden uitgevoerd. Een profielbeschrijving is een waarneming van bodemhorizonten en/of bodemlagen in een uitgegraven profielput. Een bodemhorizont is een visueel te onderscheiden deel van de bodem dat ontstaan is door omzetting van het moedermateriaal door pedogenetische processen of door het afzetten van organisch materiaal. Een bodemhorizont heeft voor de meeste bodemvariabelen homogene morfologische en analytische karakteristieken. Een bodemlaag daarentegen is ontstaan door niet-pedogenetische processen. Aan de hand van een profielput krijg je een beeld van de bodemkundige opbouw.\\r\\nEen boring is het resultaat van het boren in de ondergrond met verwijdering van bodem door middel van een gereedschap in de vorm van een holle buis. Aan de hand van dit opgeboorde bodemmateriaal worden bodembeschrijvingen, bodemobservaties en monsternames uitgevoerd.\\r\\nDe bodemlocaties uit de 'Aardewerk-Vlaanderen-2010' databank worden afzonderlijk ontsloten in de datasets 'Bodemprofielen kartering Belgische bodemkaart' en 'Oppervlaktemonsters kartering Belgische bodemkaart'.\""
      ]
     },
     "execution_count": 4,
     "metadata": {},
     "output_type": "execute_result"
    }
   ],
   "source": [
    "bodemlocatie.get_description()"
   ]
  },
  {
   "cell_type": "markdown",
   "metadata": {},
   "source": [
    "The different fields that are available for objects of the 'Bodemlocatie' datatype can be requested with the get_fields() method:"
   ]
  },
  {
   "cell_type": "code",
   "execution_count": 5,
   "metadata": {},
   "outputs": [
    {
     "name": "stdout",
     "output_type": "stream",
     "text": [
      "naam\n",
      "pkey_bodemlocatie\n",
      "type\n",
      "rapport_bodemlocatie\n",
      "profielbeschrijving\n",
      "datum\n",
      "doel\n",
      "x\n",
      "y\n",
      "z\n",
      "Auteurs\n",
      "Aantal_classificaties\n",
      "Aantal_opbouwen\n",
      "erfgoed\n",
      "Aantal_observaties\n",
      "Aantal_monsters\n",
      "bodemstreek\n",
      "Bodemsite\n",
      "Opdrachten\n",
      "waarnemingsdatum\n",
      "invoerdatum\n",
      "educatieve_waarde\n"
     ]
    }
   ],
   "source": [
    "fields = bodemlocatie.get_fields()\n",
    "\n",
    "# print available fields\n",
    "for f in fields.values():\n",
    "    print(f['name'])"
   ]
  },
  {
   "cell_type": "markdown",
   "metadata": {},
   "source": [
    "You can get more information of a field by requesting it from the fields dictionary:\n",
    "* *name*: name of the field\n",
    "* *definition*: definition of this field\n",
    "* *cost*: currently this is either 1 or 10, depending on the datasource of the field. It is an indication of the expected time it will take to retrieve this field in the output dataframe.\n",
    "* *notnull*: whether the field is mandatory or not\n",
    "* *type*: datatype of the values of this field"
   ]
  },
  {
   "cell_type": "code",
   "execution_count": 6,
   "metadata": {},
   "outputs": [
    {
     "data": {
      "text/plain": [
       "{'name': 'type',\n",
       " 'definition': 'Het type van de bodemlocatie: boring of profielput.',\n",
       " 'type': 'string',\n",
       " 'notnull': False,\n",
       " 'query': True,\n",
       " 'cost': 1,\n",
       " 'values': {'boring': 'Een boring is het resultaat van het boren in de ondergrond met verwijdering van bodem door middel van een gereedschap in de vorm van een holle buis. Aan de hand van dit opgeboorde bodemmateriaal worden bodembeschrijvingen, bodemobservaties en monsternames uitgevoerd.',\n",
       "  'profielput': 'Een profielput is een uitgegraven put in de bodem waarin profielbeschrijvingen, monsternames of bodemobservaties worden uitgevoerd. Een profielbeschrijving is een waarneming van bodemhorizonten en/of bodemlagen in een uitgegraven profielput. Een bodemhorizont is een visueel te onderscheiden deel van de bodem dat ontstaan is door omzetting van het moedermateriaal door pedogenetische processen of door het afzetten van organisch materiaal. Een bodemhorizont heeft voor de meeste bodemvariabelen homogene morfologische en analytische karakteristieken. Een bodemlaag daarentegen is ontstaan door niet-pedogenetische processen. Aan de hand van een profielput krijg je een beeld van de bodemkundige opbouw.'}}"
      ]
     },
     "execution_count": 6,
     "metadata": {},
     "output_type": "execute_result"
    }
   ],
   "source": [
    "fields['type']"
   ]
  },
  {
   "cell_type": "markdown",
   "metadata": {},
   "source": [
    "Optionally, if the values of the field have a specific domain the possible values are listed as *values*:"
   ]
  },
  {
   "cell_type": "code",
   "execution_count": 7,
   "metadata": {},
   "outputs": [
    {
     "data": {
      "text/plain": [
       "{'boring': 'Een boring is het resultaat van het boren in de ondergrond met verwijdering van bodem door middel van een gereedschap in de vorm van een holle buis. Aan de hand van dit opgeboorde bodemmateriaal worden bodembeschrijvingen, bodemobservaties en monsternames uitgevoerd.',\n",
       " 'profielput': 'Een profielput is een uitgegraven put in de bodem waarin profielbeschrijvingen, monsternames of bodemobservaties worden uitgevoerd. Een profielbeschrijving is een waarneming van bodemhorizonten en/of bodemlagen in een uitgegraven profielput. Een bodemhorizont is een visueel te onderscheiden deel van de bodem dat ontstaan is door omzetting van het moedermateriaal door pedogenetische processen of door het afzetten van organisch materiaal. Een bodemhorizont heeft voor de meeste bodemvariabelen homogene morfologische en analytische karakteristieken. Een bodemlaag daarentegen is ontstaan door niet-pedogenetische processen. Aan de hand van een profielput krijg je een beeld van de bodemkundige opbouw.'}"
      ]
     },
     "execution_count": 7,
     "metadata": {},
     "output_type": "execute_result"
    }
   ],
   "source": [
    "fields['type']['values']"
   ]
  },
  {
   "cell_type": "markdown",
   "metadata": {},
   "source": [
    "## Example use cases"
   ]
  },
  {
   "cell_type": "markdown",
   "metadata": {},
   "source": [
    "### Get bodemsites in a bounding box"
   ]
  },
  {
   "cell_type": "markdown",
   "metadata": {},
   "source": [
    "Get data for all the bodemsites that are geographically located completely within the bounds of the specified box.\n",
    "\n",
    "The coordinates are in the Belgian Lambert72 (EPSG:31370) coordinate system and are given in the order of lower left x, lower left y, upper right x, upper right y."
   ]
  },
  {
   "cell_type": "markdown",
   "metadata": {},
   "source": [
    "The same methods can be used for other bodem objects."
   ]
  },
  {
   "cell_type": "code",
   "execution_count": 8,
   "metadata": {},
   "outputs": [],
   "source": [
    "from pydov.search.bodemsite import BodemsiteSearch\n",
    "bodemsite = BodemsiteSearch()"
   ]
  },
  {
   "cell_type": "code",
   "execution_count": 9,
   "metadata": {},
   "outputs": [
    {
     "name": "stdout",
     "output_type": "stream",
     "text": [
      "[000/007] ccccccc\n"
     ]
    },
    {
     "data": {
      "text/html": [
       "<div>\n",
       "<style scoped>\n",
       "    .dataframe tbody tr th:only-of-type {\n",
       "        vertical-align: middle;\n",
       "    }\n",
       "\n",
       "    .dataframe tbody tr th {\n",
       "        vertical-align: top;\n",
       "    }\n",
       "\n",
       "    .dataframe thead th {\n",
       "        text-align: right;\n",
       "    }\n",
       "</style>\n",
       "<table border=\"1\" class=\"dataframe\">\n",
       "  <thead>\n",
       "    <tr style=\"text-align: right;\">\n",
       "      <th></th>\n",
       "      <th>pkey_bodemsite</th>\n",
       "      <th>naam</th>\n",
       "      <th>datum</th>\n",
       "      <th>beschrijving</th>\n",
       "      <th>waarnemingsdatum</th>\n",
       "      <th>invoerdatum</th>\n",
       "    </tr>\n",
       "  </thead>\n",
       "  <tbody>\n",
       "    <tr>\n",
       "      <th>0</th>\n",
       "      <td>https://www.dov.vlaanderen.be/data/bodemsite/2...</td>\n",
       "      <td>Zoniënwoud_Groenendaal</td>\n",
       "      <td>NaN</td>\n",
       "      <td>Zachte helling op plateau, Bodem nooit onder l...</td>\n",
       "      <td>NaN</td>\n",
       "      <td>NaN</td>\n",
       "    </tr>\n",
       "    <tr>\n",
       "      <th>1</th>\n",
       "      <td>https://www.dov.vlaanderen.be/data/bodemsite/2...</td>\n",
       "      <td>Zoniënwoud_Rood Klooster</td>\n",
       "      <td>NaN</td>\n",
       "      <td>Zeer zachte helling op plateau</td>\n",
       "      <td>NaN</td>\n",
       "      <td>NaN</td>\n",
       "    </tr>\n",
       "    <tr>\n",
       "      <th>2</th>\n",
       "      <td>https://www.dov.vlaanderen.be/data/bodemsite/1...</td>\n",
       "      <td>Zoniënwoud_Tertiair</td>\n",
       "      <td>1983-01-01</td>\n",
       "      <td>NNW gerichte helling van een 10% langs vallei ...</td>\n",
       "      <td>1983-01-01</td>\n",
       "      <td>NaN</td>\n",
       "    </tr>\n",
       "    <tr>\n",
       "      <th>3</th>\n",
       "      <td>https://www.dov.vlaanderen.be/data/bodemsite/2...</td>\n",
       "      <td>Zoniënwoud_Sint_Hubertusdreef</td>\n",
       "      <td>NaN</td>\n",
       "      <td>Hoofd van een concave droge vallei (del), depr...</td>\n",
       "      <td>NaN</td>\n",
       "      <td>NaN</td>\n",
       "    </tr>\n",
       "    <tr>\n",
       "      <th>4</th>\n",
       "      <td>https://www.dov.vlaanderen.be/data/bodemsite/2...</td>\n",
       "      <td>Watermaal-Bosvoorde_Zoniënwoud</td>\n",
       "      <td>2011-06-14</td>\n",
       "      <td>bos</td>\n",
       "      <td>2011-06-14</td>\n",
       "      <td>NaN</td>\n",
       "    </tr>\n",
       "  </tbody>\n",
       "</table>\n",
       "</div>"
      ],
      "text/plain": [
       "                                      pkey_bodemsite  \\\n",
       "0  https://www.dov.vlaanderen.be/data/bodemsite/2...   \n",
       "1  https://www.dov.vlaanderen.be/data/bodemsite/2...   \n",
       "2  https://www.dov.vlaanderen.be/data/bodemsite/1...   \n",
       "3  https://www.dov.vlaanderen.be/data/bodemsite/2...   \n",
       "4  https://www.dov.vlaanderen.be/data/bodemsite/2...   \n",
       "\n",
       "                             naam       datum  \\\n",
       "0          Zoniënwoud_Groenendaal         NaN   \n",
       "1        Zoniënwoud_Rood Klooster         NaN   \n",
       "2             Zoniënwoud_Tertiair  1983-01-01   \n",
       "3   Zoniënwoud_Sint_Hubertusdreef         NaN   \n",
       "4  Watermaal-Bosvoorde_Zoniënwoud  2011-06-14   \n",
       "\n",
       "                                        beschrijving waarnemingsdatum  \\\n",
       "0  Zachte helling op plateau, Bodem nooit onder l...              NaN   \n",
       "1                     Zeer zachte helling op plateau              NaN   \n",
       "2  NNW gerichte helling van een 10% langs vallei ...       1983-01-01   \n",
       "3  Hoofd van een concave droge vallei (del), depr...              NaN   \n",
       "4                                                bos       2011-06-14   \n",
       "\n",
       "   invoerdatum  \n",
       "0          NaN  \n",
       "1          NaN  \n",
       "2          NaN  \n",
       "3          NaN  \n",
       "4          NaN  "
      ]
     },
     "execution_count": 9,
     "metadata": {},
     "output_type": "execute_result"
    }
   ],
   "source": [
    "from pydov.util.location import Within, Box\n",
    "\n",
    "df = bodemsite.search(location=Within(Box(148000, 160800, 160000, 169500)))\n",
    "df.head()"
   ]
  },
  {
   "cell_type": "markdown",
   "metadata": {},
   "source": [
    "The dataframe contains a list of bodemsites. The available data are flattened to represent unique attributes per row of the dataframe.\n",
    "\n",
    "Using the *pkey_bodemsite* field one can request the details of this bodemsite in a webbrowser:"
   ]
  },
  {
   "cell_type": "code",
   "execution_count": 10,
   "metadata": {},
   "outputs": [
    {
     "name": "stdout",
     "output_type": "stream",
     "text": [
      "https://www.dov.vlaanderen.be/data/bodemsite/2011-000247\n",
      "https://www.dov.vlaanderen.be/data/bodemsite/2017-000305\n",
      "https://www.dov.vlaanderen.be/data/bodemsite/2017-000210\n",
      "https://www.dov.vlaanderen.be/data/bodemsite/2017-000306\n",
      "https://www.dov.vlaanderen.be/data/bodemsite/2017-000215\n",
      "https://www.dov.vlaanderen.be/data/bodemsite/1983-000216\n",
      "https://www.dov.vlaanderen.be/data/bodemsite/2017-000229\n"
     ]
    }
   ],
   "source": [
    "for pkey_bodemsite in set(df.pkey_bodemsite):\n",
    "    print(pkey_bodemsite)"
   ]
  },
  {
   "cell_type": "markdown",
   "metadata": {},
   "source": [
    "### Get bodemlocaties with specific properties"
   ]
  },
  {
   "cell_type": "markdown",
   "metadata": {},
   "source": [
    "Next to querying bodem objects based on their geographic location within a bounding box, we can also search for bodem objects matching a specific set of properties. \n",
    "The same methods can be used for all bodem objects.\n",
    "For this we can build a query using a combination of the 'Bodemlocatie' fields and operators provided by the WFS protocol.\n",
    "\n",
    "A list of possible operators can be found below:"
   ]
  },
  {
   "cell_type": "code",
   "execution_count": 11,
   "metadata": {},
   "outputs": [
    {
     "data": {
      "text/plain": [
       "['PropertyIsBetween',\n",
       " 'PropertyIsEqualTo',\n",
       " 'PropertyIsGreaterThan',\n",
       " 'PropertyIsGreaterThanOrEqualTo',\n",
       " 'PropertyIsLessThan',\n",
       " 'PropertyIsLessThanOrEqualTo',\n",
       " 'PropertyIsLike',\n",
       " 'PropertyIsNotEqualTo',\n",
       " 'PropertyIsNull',\n",
       " 'SortProperty']"
      ]
     },
     "execution_count": 11,
     "metadata": {},
     "output_type": "execute_result"
    }
   ],
   "source": [
    "[i for i,j in inspect.getmembers(sys.modules['owslib.fes'], inspect.isclass) if 'Property' in i]"
   ]
  },
  {
   "cell_type": "markdown",
   "metadata": {},
   "source": [
    "In this example we build a query using the *PropertyIsEqualTo* operator to find all bodemlocaties with bodemstreek 'zandstreek'.\n",
    "We use *max_features=10* to limit the results to 10."
   ]
  },
  {
   "cell_type": "code",
   "execution_count": 12,
   "metadata": {},
   "outputs": [
    {
     "name": "stdout",
     "output_type": "stream",
     "text": [
      "[000/010] cccccccccc\n"
     ]
    },
    {
     "data": {
      "text/html": [
       "<div>\n",
       "<style scoped>\n",
       "    .dataframe tbody tr th:only-of-type {\n",
       "        vertical-align: middle;\n",
       "    }\n",
       "\n",
       "    .dataframe tbody tr th {\n",
       "        vertical-align: top;\n",
       "    }\n",
       "\n",
       "    .dataframe thead th {\n",
       "        text-align: right;\n",
       "    }\n",
       "</style>\n",
       "<table border=\"1\" class=\"dataframe\">\n",
       "  <thead>\n",
       "    <tr style=\"text-align: right;\">\n",
       "      <th></th>\n",
       "      <th>pkey_bodemlocatie</th>\n",
       "      <th>naam</th>\n",
       "      <th>type</th>\n",
       "      <th>datum</th>\n",
       "      <th>doel</th>\n",
       "      <th>x</th>\n",
       "      <th>y</th>\n",
       "      <th>z</th>\n",
       "      <th>erfgoed</th>\n",
       "      <th>bodemstreek</th>\n",
       "      <th>waarnemingsdatum</th>\n",
       "      <th>invoerdatum</th>\n",
       "      <th>educatieve_waarde</th>\n",
       "    </tr>\n",
       "  </thead>\n",
       "  <tbody>\n",
       "    <tr>\n",
       "      <th>0</th>\n",
       "      <td>https://www.dov.vlaanderen.be/data/bodemlocati...</td>\n",
       "      <td>KULEU_30</td>\n",
       "      <td>profielput</td>\n",
       "      <td>2012-05-14</td>\n",
       "      <td>bodemkundige opbouw</td>\n",
       "      <td>160992.14</td>\n",
       "      <td>196155.14</td>\n",
       "      <td>5.00</td>\n",
       "      <td>True</td>\n",
       "      <td>Zandstreek</td>\n",
       "      <td>2012-05-14</td>\n",
       "      <td>2012-05-14</td>\n",
       "      <td>ZEER</td>\n",
       "    </tr>\n",
       "    <tr>\n",
       "      <th>1</th>\n",
       "      <td>https://www.dov.vlaanderen.be/data/bodemlocati...</td>\n",
       "      <td>INBO_2</td>\n",
       "      <td>profielput</td>\n",
       "      <td>2007-05-04</td>\n",
       "      <td>bodemkundige opbouw</td>\n",
       "      <td>56598.44</td>\n",
       "      <td>196314.35</td>\n",
       "      <td>20.00</td>\n",
       "      <td>True</td>\n",
       "      <td>Zandstreek</td>\n",
       "      <td>2007-05-04</td>\n",
       "      <td>2007-05-04</td>\n",
       "      <td>OK</td>\n",
       "    </tr>\n",
       "    <tr>\n",
       "      <th>2</th>\n",
       "      <td>https://www.dov.vlaanderen.be/data/bodemlocati...</td>\n",
       "      <td>KULEU_15</td>\n",
       "      <td>profielput</td>\n",
       "      <td>2010-06-06</td>\n",
       "      <td>bodemkundige opbouw</td>\n",
       "      <td>175001.18</td>\n",
       "      <td>177459.73</td>\n",
       "      <td>65.58</td>\n",
       "      <td>True</td>\n",
       "      <td>Zandstreek</td>\n",
       "      <td>2010-06-06</td>\n",
       "      <td>2010-06-06</td>\n",
       "      <td>ZEER</td>\n",
       "    </tr>\n",
       "    <tr>\n",
       "      <th>3</th>\n",
       "      <td>https://www.dov.vlaanderen.be/data/bodemlocati...</td>\n",
       "      <td>BAAC_12</td>\n",
       "      <td>profielput</td>\n",
       "      <td>2012-07-31</td>\n",
       "      <td>archeologische landschappelijke profielputten</td>\n",
       "      <td>155631.46</td>\n",
       "      <td>184083.61</td>\n",
       "      <td>11.00</td>\n",
       "      <td>True</td>\n",
       "      <td>Zandstreek</td>\n",
       "      <td>2012-07-31</td>\n",
       "      <td>2012-07-31</td>\n",
       "      <td>ZEER</td>\n",
       "    </tr>\n",
       "    <tr>\n",
       "      <th>4</th>\n",
       "      <td>https://www.dov.vlaanderen.be/data/bodemlocati...</td>\n",
       "      <td>ILVO_1</td>\n",
       "      <td>profielput</td>\n",
       "      <td>2012-11-20</td>\n",
       "      <td>bodemkundige opbouw</td>\n",
       "      <td>108115.73</td>\n",
       "      <td>185850.71</td>\n",
       "      <td>32.00</td>\n",
       "      <td>True</td>\n",
       "      <td>Zandstreek</td>\n",
       "      <td>2012-11-20</td>\n",
       "      <td>2012-11-20</td>\n",
       "      <td>ZEER</td>\n",
       "    </tr>\n",
       "  </tbody>\n",
       "</table>\n",
       "</div>"
      ],
      "text/plain": [
       "                                   pkey_bodemlocatie      naam        type  \\\n",
       "0  https://www.dov.vlaanderen.be/data/bodemlocati...  KULEU_30  profielput   \n",
       "1  https://www.dov.vlaanderen.be/data/bodemlocati...    INBO_2  profielput   \n",
       "2  https://www.dov.vlaanderen.be/data/bodemlocati...  KULEU_15  profielput   \n",
       "3  https://www.dov.vlaanderen.be/data/bodemlocati...   BAAC_12  profielput   \n",
       "4  https://www.dov.vlaanderen.be/data/bodemlocati...    ILVO_1  profielput   \n",
       "\n",
       "        datum                                           doel          x  \\\n",
       "0  2012-05-14                            bodemkundige opbouw  160992.14   \n",
       "1  2007-05-04                            bodemkundige opbouw   56598.44   \n",
       "2  2010-06-06                            bodemkundige opbouw  175001.18   \n",
       "3  2012-07-31  archeologische landschappelijke profielputten  155631.46   \n",
       "4  2012-11-20                            bodemkundige opbouw  108115.73   \n",
       "\n",
       "           y      z  erfgoed bodemstreek waarnemingsdatum invoerdatum  \\\n",
       "0  196155.14   5.00     True  Zandstreek       2012-05-14  2012-05-14   \n",
       "1  196314.35  20.00     True  Zandstreek       2007-05-04  2007-05-04   \n",
       "2  177459.73  65.58     True  Zandstreek       2010-06-06  2010-06-06   \n",
       "3  184083.61  11.00     True  Zandstreek       2012-07-31  2012-07-31   \n",
       "4  185850.71  32.00     True  Zandstreek       2012-11-20  2012-11-20   \n",
       "\n",
       "  educatieve_waarde  \n",
       "0              ZEER  \n",
       "1                OK  \n",
       "2              ZEER  \n",
       "3              ZEER  \n",
       "4              ZEER  "
      ]
     },
     "execution_count": 12,
     "metadata": {},
     "output_type": "execute_result"
    }
   ],
   "source": [
    "from owslib.fes import PropertyIsEqualTo\n",
    "\n",
    "query = PropertyIsEqualTo(propertyname='bodemstreek',\n",
    "                          literal='Zandstreek')\n",
    "df = bodemlocatie.search(query=query, max_features=10)\n",
    "\n",
    "df.head()"
   ]
  },
  {
   "cell_type": "markdown",
   "metadata": {},
   "source": [
    "Once again we can use the *pkey_bodemlocatie* as a permanent link to the information of these bodemlocaties:"
   ]
  },
  {
   "cell_type": "code",
   "execution_count": 13,
   "metadata": {},
   "outputs": [
    {
     "name": "stdout",
     "output_type": "stream",
     "text": [
      "https://www.dov.vlaanderen.be/data/bodemlocatie/2012-000041\n",
      "https://www.dov.vlaanderen.be/data/bodemlocatie/2010-000014\n",
      "https://www.dov.vlaanderen.be/data/bodemlocatie/2007-000102\n",
      "https://www.dov.vlaanderen.be/data/bodemlocatie/2014-000040\n",
      "https://www.dov.vlaanderen.be/data/bodemlocatie/2012-000026\n",
      "https://www.dov.vlaanderen.be/data/bodemlocatie/2012-000033\n",
      "https://www.dov.vlaanderen.be/data/bodemlocatie/2012-000027\n",
      "https://www.dov.vlaanderen.be/data/bodemlocatie/2013-000048\n",
      "https://www.dov.vlaanderen.be/data/bodemlocatie/2012-000028\n",
      "https://www.dov.vlaanderen.be/data/bodemlocatie/2014-000039\n"
     ]
    }
   ],
   "source": [
    "for pkey_bodemlocatie in set(df.pkey_bodemlocatie):\n",
    "    print(pkey_bodemlocatie)"
   ]
  },
  {
   "cell_type": "markdown",
   "metadata": {},
   "source": [
    "### Get all direct and indirect bodemobservaties in bodemlocatie"
   ]
  },
  {
   "cell_type": "markdown",
   "metadata": {},
   "source": [
    "Get all bodemobservaties in a specific bodemlocatie.\n",
    "Direct means bodemobservaties directly linked with a bodemlocatie.\n",
    "Indirect means bodemobservaties linked with child-objects of the bodemlocatie, like bodemmonsters."
   ]
  },
  {
   "cell_type": "code",
   "execution_count": 14,
   "metadata": {},
   "outputs": [],
   "source": [
    "from pydov.search.bodemobservatie import BodemobservatieSearch\n",
    "from pydov.search.bodemlocatie import BodemlocatieSearch\n",
    "bodemobservatie = BodemobservatieSearch()\n",
    "bodemlocatie = BodemlocatieSearch()"
   ]
  },
  {
   "cell_type": "code",
   "execution_count": 15,
   "metadata": {},
   "outputs": [
    {
     "name": "stdout",
     "output_type": "stream",
     "text": [
      "[000/021] ccccccccccccccccccccc\n"
     ]
    },
    {
     "data": {
      "text/html": [
       "<div>\n",
       "<style scoped>\n",
       "    .dataframe tbody tr th:only-of-type {\n",
       "        vertical-align: middle;\n",
       "    }\n",
       "\n",
       "    .dataframe tbody tr th {\n",
       "        vertical-align: top;\n",
       "    }\n",
       "\n",
       "    .dataframe thead th {\n",
       "        text-align: right;\n",
       "    }\n",
       "</style>\n",
       "<table border=\"1\" class=\"dataframe\">\n",
       "  <thead>\n",
       "    <tr style=\"text-align: right;\">\n",
       "      <th></th>\n",
       "      <th>pkey_bodemobservatie</th>\n",
       "      <th>pkey_bodemlocatie</th>\n",
       "      <th>Aan</th>\n",
       "      <th>pkey_parent</th>\n",
       "      <th>parameter</th>\n",
       "      <th>parametergroep</th>\n",
       "      <th>waarde</th>\n",
       "      <th>eenheid</th>\n",
       "      <th>ondergrens</th>\n",
       "      <th>bovengrens</th>\n",
       "      <th>methode</th>\n",
       "      <th>betrouwbaarheid</th>\n",
       "      <th>veld_labo</th>\n",
       "      <th>diepte_van</th>\n",
       "      <th>diepte_tot</th>\n",
       "      <th>observatiedatum</th>\n",
       "      <th>invoerdatum</th>\n",
       "    </tr>\n",
       "  </thead>\n",
       "  <tbody>\n",
       "    <tr>\n",
       "      <th>0</th>\n",
       "      <td>https://www.dov.vlaanderen.be/data/bodemobserv...</td>\n",
       "      <td>https://www.dov.vlaanderen.be/data/bodemlocati...</td>\n",
       "      <td>bodemdiepteinterval</td>\n",
       "      <td>https://www.dov.vlaanderen.be/data/bodemdiepte...</td>\n",
       "      <td>Ksat</td>\n",
       "      <td>Bodem_fysisch_vocht</td>\n",
       "      <td>0.0000182002</td>\n",
       "      <td>m/s</td>\n",
       "      <td>NaN</td>\n",
       "      <td>NaN</td>\n",
       "      <td>Ksat Open-end-methode</td>\n",
       "      <td>goed</td>\n",
       "      <td>veld</td>\n",
       "      <td>40.0</td>\n",
       "      <td>85.0</td>\n",
       "      <td>2015-09-08</td>\n",
       "      <td>2019-02-07</td>\n",
       "    </tr>\n",
       "    <tr>\n",
       "      <th>1</th>\n",
       "      <td>https://www.dov.vlaanderen.be/data/bodemobserv...</td>\n",
       "      <td>https://www.dov.vlaanderen.be/data/bodemlocati...</td>\n",
       "      <td>bodemdiepteinterval</td>\n",
       "      <td>https://www.dov.vlaanderen.be/data/bodemdiepte...</td>\n",
       "      <td>Ksat</td>\n",
       "      <td>Bodem_fysisch_vocht</td>\n",
       "      <td>0.0000231117</td>\n",
       "      <td>m/s</td>\n",
       "      <td>NaN</td>\n",
       "      <td>NaN</td>\n",
       "      <td>Ksat_Soakaway_methode</td>\n",
       "      <td>goed</td>\n",
       "      <td>veld</td>\n",
       "      <td>40.0</td>\n",
       "      <td>85.0</td>\n",
       "      <td>2015-09-08</td>\n",
       "      <td>2019-02-07</td>\n",
       "    </tr>\n",
       "    <tr>\n",
       "      <th>2</th>\n",
       "      <td>https://www.dov.vlaanderen.be/data/bodemobserv...</td>\n",
       "      <td>https://www.dov.vlaanderen.be/data/bodemlocati...</td>\n",
       "      <td>bodemdiepteinterval</td>\n",
       "      <td>https://www.dov.vlaanderen.be/data/bodemdiepte...</td>\n",
       "      <td>Ksat</td>\n",
       "      <td>Bodem_fysisch_vocht</td>\n",
       "      <td>0.0000054848</td>\n",
       "      <td>m/s</td>\n",
       "      <td>NaN</td>\n",
       "      <td>NaN</td>\n",
       "      <td>Ksat Enkele-ring-methode</td>\n",
       "      <td>goed</td>\n",
       "      <td>veld</td>\n",
       "      <td>40.0</td>\n",
       "      <td>85.0</td>\n",
       "      <td>2015-09-08</td>\n",
       "      <td>2019-02-07</td>\n",
       "    </tr>\n",
       "    <tr>\n",
       "      <th>3</th>\n",
       "      <td>https://www.dov.vlaanderen.be/data/bodemobserv...</td>\n",
       "      <td>https://www.dov.vlaanderen.be/data/bodemlocati...</td>\n",
       "      <td>bodemmonster</td>\n",
       "      <td>https://www.dov.vlaanderen.be/data/bodemmonste...</td>\n",
       "      <td>Textuurfracties</td>\n",
       "      <td>Bodem_fysisch_textuur</td>\n",
       "      <td>Fractiemetingen</td>\n",
       "      <td>%</td>\n",
       "      <td>NaN</td>\n",
       "      <td>NaN</td>\n",
       "      <td>Textuur pipetmethode Robinson-Köhn</td>\n",
       "      <td>goed</td>\n",
       "      <td>labo</td>\n",
       "      <td>85.0</td>\n",
       "      <td>130.0</td>\n",
       "      <td>2015-08-27</td>\n",
       "      <td>2019-02-19</td>\n",
       "    </tr>\n",
       "    <tr>\n",
       "      <th>4</th>\n",
       "      <td>https://www.dov.vlaanderen.be/data/bodemobserv...</td>\n",
       "      <td>https://www.dov.vlaanderen.be/data/bodemlocati...</td>\n",
       "      <td>bodemdiepteinterval</td>\n",
       "      <td>https://www.dov.vlaanderen.be/data/bodemdiepte...</td>\n",
       "      <td>Ksat</td>\n",
       "      <td>Bodem_fysisch_vocht</td>\n",
       "      <td>0.0000145758</td>\n",
       "      <td>m/s</td>\n",
       "      <td>NaN</td>\n",
       "      <td>NaN</td>\n",
       "      <td>Ksat Open-end-methode</td>\n",
       "      <td>goed</td>\n",
       "      <td>veld</td>\n",
       "      <td>40.0</td>\n",
       "      <td>85.0</td>\n",
       "      <td>2015-09-08</td>\n",
       "      <td>2019-02-07</td>\n",
       "    </tr>\n",
       "  </tbody>\n",
       "</table>\n",
       "</div>"
      ],
      "text/plain": [
       "                                pkey_bodemobservatie  \\\n",
       "0  https://www.dov.vlaanderen.be/data/bodemobserv...   \n",
       "1  https://www.dov.vlaanderen.be/data/bodemobserv...   \n",
       "2  https://www.dov.vlaanderen.be/data/bodemobserv...   \n",
       "3  https://www.dov.vlaanderen.be/data/bodemobserv...   \n",
       "4  https://www.dov.vlaanderen.be/data/bodemobserv...   \n",
       "\n",
       "                                   pkey_bodemlocatie                  Aan  \\\n",
       "0  https://www.dov.vlaanderen.be/data/bodemlocati...  bodemdiepteinterval   \n",
       "1  https://www.dov.vlaanderen.be/data/bodemlocati...  bodemdiepteinterval   \n",
       "2  https://www.dov.vlaanderen.be/data/bodemlocati...  bodemdiepteinterval   \n",
       "3  https://www.dov.vlaanderen.be/data/bodemlocati...         bodemmonster   \n",
       "4  https://www.dov.vlaanderen.be/data/bodemlocati...  bodemdiepteinterval   \n",
       "\n",
       "                                         pkey_parent        parameter  \\\n",
       "0  https://www.dov.vlaanderen.be/data/bodemdiepte...             Ksat   \n",
       "1  https://www.dov.vlaanderen.be/data/bodemdiepte...             Ksat   \n",
       "2  https://www.dov.vlaanderen.be/data/bodemdiepte...             Ksat   \n",
       "3  https://www.dov.vlaanderen.be/data/bodemmonste...  Textuurfracties   \n",
       "4  https://www.dov.vlaanderen.be/data/bodemdiepte...             Ksat   \n",
       "\n",
       "          parametergroep           waarde eenheid  ondergrens  bovengrens  \\\n",
       "0    Bodem_fysisch_vocht     0.0000182002     m/s         NaN         NaN   \n",
       "1    Bodem_fysisch_vocht     0.0000231117     m/s         NaN         NaN   \n",
       "2    Bodem_fysisch_vocht     0.0000054848     m/s         NaN         NaN   \n",
       "3  Bodem_fysisch_textuur  Fractiemetingen       %         NaN         NaN   \n",
       "4    Bodem_fysisch_vocht     0.0000145758     m/s         NaN         NaN   \n",
       "\n",
       "                              methode betrouwbaarheid veld_labo  diepte_van  \\\n",
       "0               Ksat Open-end-methode            goed      veld        40.0   \n",
       "1               Ksat_Soakaway_methode            goed      veld        40.0   \n",
       "2            Ksat Enkele-ring-methode            goed      veld        40.0   \n",
       "3  Textuur pipetmethode Robinson-Köhn            goed      labo        85.0   \n",
       "4               Ksat Open-end-methode            goed      veld        40.0   \n",
       "\n",
       "   diepte_tot observatiedatum invoerdatum  \n",
       "0        85.0      2015-09-08  2019-02-07  \n",
       "1        85.0      2015-09-08  2019-02-07  \n",
       "2        85.0      2015-09-08  2019-02-07  \n",
       "3       130.0      2015-08-27  2019-02-19  \n",
       "4        85.0      2015-09-08  2019-02-07  "
      ]
     },
     "execution_count": 15,
     "metadata": {},
     "output_type": "execute_result"
    }
   ],
   "source": [
    "from owslib.fes import PropertyIsEqualTo\n",
    "from pydov.util.query import Join\n",
    "\n",
    "bodemlocaties = bodemlocatie.search(query=PropertyIsEqualTo(propertyname='naam', literal='VMM_INF_52'), \n",
    "                                   return_fields=('pkey_bodemlocatie',))\n",
    "\n",
    "bodemobservaties = bodemobservatie.search(query=Join(bodemlocaties, 'pkey_bodemlocatie'))\n",
    "bodemobservaties.head()"
   ]
  },
  {
   "cell_type": "markdown",
   "metadata": {},
   "source": [
    "### Get all bodemobservaties in a bodemmonster"
   ]
  },
  {
   "cell_type": "markdown",
   "metadata": {},
   "source": [
    "Get all bodemobservaties linked with a bodemmonster"
   ]
  },
  {
   "cell_type": "code",
   "execution_count": 16,
   "metadata": {},
   "outputs": [
    {
     "name": "stdout",
     "output_type": "stream",
     "text": [
      "[000/003] ccc\n"
     ]
    },
    {
     "data": {
      "text/html": [
       "<div>\n",
       "<style scoped>\n",
       "    .dataframe tbody tr th:only-of-type {\n",
       "        vertical-align: middle;\n",
       "    }\n",
       "\n",
       "    .dataframe tbody tr th {\n",
       "        vertical-align: top;\n",
       "    }\n",
       "\n",
       "    .dataframe thead th {\n",
       "        text-align: right;\n",
       "    }\n",
       "</style>\n",
       "<table border=\"1\" class=\"dataframe\">\n",
       "  <thead>\n",
       "    <tr style=\"text-align: right;\">\n",
       "      <th></th>\n",
       "      <th>pkey_bodemobservatie</th>\n",
       "      <th>pkey_bodemlocatie</th>\n",
       "      <th>Aan</th>\n",
       "      <th>pkey_parent</th>\n",
       "      <th>parameter</th>\n",
       "      <th>parametergroep</th>\n",
       "      <th>waarde</th>\n",
       "      <th>eenheid</th>\n",
       "      <th>ondergrens</th>\n",
       "      <th>bovengrens</th>\n",
       "      <th>methode</th>\n",
       "      <th>betrouwbaarheid</th>\n",
       "      <th>veld_labo</th>\n",
       "      <th>diepte_van</th>\n",
       "      <th>diepte_tot</th>\n",
       "      <th>observatiedatum</th>\n",
       "      <th>invoerdatum</th>\n",
       "    </tr>\n",
       "  </thead>\n",
       "  <tbody>\n",
       "    <tr>\n",
       "      <th>0</th>\n",
       "      <td>https://www.dov.vlaanderen.be/data/bodemobserv...</td>\n",
       "      <td>https://www.dov.vlaanderen.be/data/bodemlocati...</td>\n",
       "      <td>bodemmonster</td>\n",
       "      <td>https://www.dov.vlaanderen.be/data/bodemmonste...</td>\n",
       "      <td>Textuur - handmatig - klassen bodemkartering</td>\n",
       "      <td>Bodem_fysisch_textuur</td>\n",
       "      <td>A - Leem</td>\n",
       "      <td>-</td>\n",
       "      <td>NaN</td>\n",
       "      <td>NaN</td>\n",
       "      <td>Textuur manuele schatting (palpatie)</td>\n",
       "      <td>goed</td>\n",
       "      <td>labo</td>\n",
       "      <td>40.0</td>\n",
       "      <td>85.0</td>\n",
       "      <td>2015-08-27</td>\n",
       "      <td>2019-02-07</td>\n",
       "    </tr>\n",
       "    <tr>\n",
       "      <th>1</th>\n",
       "      <td>https://www.dov.vlaanderen.be/data/bodemobserv...</td>\n",
       "      <td>https://www.dov.vlaanderen.be/data/bodemlocati...</td>\n",
       "      <td>bodemmonster</td>\n",
       "      <td>https://www.dov.vlaanderen.be/data/bodemmonste...</td>\n",
       "      <td>Textuurfracties</td>\n",
       "      <td>Bodem_fysisch_textuur</td>\n",
       "      <td>Fractiemetingen</td>\n",
       "      <td>%</td>\n",
       "      <td>NaN</td>\n",
       "      <td>NaN</td>\n",
       "      <td>Textuur pipetmethode Robinson-Köhn</td>\n",
       "      <td>goed</td>\n",
       "      <td>labo</td>\n",
       "      <td>40.0</td>\n",
       "      <td>85.0</td>\n",
       "      <td>2015-09-08</td>\n",
       "      <td>2019-02-19</td>\n",
       "    </tr>\n",
       "    <tr>\n",
       "      <th>2</th>\n",
       "      <td>https://www.dov.vlaanderen.be/data/bodemobserv...</td>\n",
       "      <td>https://www.dov.vlaanderen.be/data/bodemlocati...</td>\n",
       "      <td>bodemmonster</td>\n",
       "      <td>https://www.dov.vlaanderen.be/data/bodemmonste...</td>\n",
       "      <td>Textuur - granulometrisch - klassen bodemkarte...</td>\n",
       "      <td>Bodem_fysisch_textuur</td>\n",
       "      <td>E - Klei</td>\n",
       "      <td>-</td>\n",
       "      <td>NaN</td>\n",
       "      <td>NaN</td>\n",
       "      <td>Textuur pipetmethode Robinson-Köhn</td>\n",
       "      <td>goed</td>\n",
       "      <td>labo</td>\n",
       "      <td>40.0</td>\n",
       "      <td>85.0</td>\n",
       "      <td>2015-08-27</td>\n",
       "      <td>2019-02-07</td>\n",
       "    </tr>\n",
       "  </tbody>\n",
       "</table>\n",
       "</div>"
      ],
      "text/plain": [
       "                                pkey_bodemobservatie  \\\n",
       "0  https://www.dov.vlaanderen.be/data/bodemobserv...   \n",
       "1  https://www.dov.vlaanderen.be/data/bodemobserv...   \n",
       "2  https://www.dov.vlaanderen.be/data/bodemobserv...   \n",
       "\n",
       "                                   pkey_bodemlocatie           Aan  \\\n",
       "0  https://www.dov.vlaanderen.be/data/bodemlocati...  bodemmonster   \n",
       "1  https://www.dov.vlaanderen.be/data/bodemlocati...  bodemmonster   \n",
       "2  https://www.dov.vlaanderen.be/data/bodemlocati...  bodemmonster   \n",
       "\n",
       "                                         pkey_parent  \\\n",
       "0  https://www.dov.vlaanderen.be/data/bodemmonste...   \n",
       "1  https://www.dov.vlaanderen.be/data/bodemmonste...   \n",
       "2  https://www.dov.vlaanderen.be/data/bodemmonste...   \n",
       "\n",
       "                                           parameter         parametergroep  \\\n",
       "0       Textuur - handmatig - klassen bodemkartering  Bodem_fysisch_textuur   \n",
       "1                                    Textuurfracties  Bodem_fysisch_textuur   \n",
       "2  Textuur - granulometrisch - klassen bodemkarte...  Bodem_fysisch_textuur   \n",
       "\n",
       "            waarde eenheid  ondergrens  bovengrens  \\\n",
       "0         A - Leem       -         NaN         NaN   \n",
       "1  Fractiemetingen       %         NaN         NaN   \n",
       "2         E - Klei       -         NaN         NaN   \n",
       "\n",
       "                                methode betrouwbaarheid veld_labo  diepte_van  \\\n",
       "0  Textuur manuele schatting (palpatie)            goed      labo        40.0   \n",
       "1    Textuur pipetmethode Robinson-Köhn            goed      labo        40.0   \n",
       "2    Textuur pipetmethode Robinson-Köhn            goed      labo        40.0   \n",
       "\n",
       "   diepte_tot observatiedatum invoerdatum  \n",
       "0        85.0      2015-08-27  2019-02-07  \n",
       "1        85.0      2015-09-08  2019-02-19  \n",
       "2        85.0      2015-08-27  2019-02-07  "
      ]
     },
     "execution_count": 16,
     "metadata": {},
     "output_type": "execute_result"
    }
   ],
   "source": [
    "from pydov.search.bodemmonster import BodemmonsterSearch\n",
    "bodemmonster = BodemmonsterSearch()\n",
    "\n",
    "bodemmonsters = bodemmonster.search(query=PropertyIsEqualTo(propertyname = 'identificatie', literal='A0057359'),\n",
    "                                   return_fields=('pkey_bodemmonster',))\n",
    "\n",
    "bodemobservaties = bodemobservatie.search(query=Join(bodemmonsters, on = 'pkey_parent', using='pkey_bodemmonster'))\n",
    "bodemobservaties.head()"
   ]
  },
  {
   "cell_type": "markdown",
   "metadata": {},
   "source": [
    "### Find all bodemlocaties where observations exist for organic carbon percentage in East-Flanders between 0 and 30 cm deep"
   ]
  },
  {
   "cell_type": "markdown",
   "metadata": {},
   "source": [
    "Get boundaries of East-Flanders by using a WFS"
   ]
  },
  {
   "cell_type": "code",
   "execution_count": 17,
   "metadata": {},
   "outputs": [],
   "source": [
    "from owslib.etree import etree\n",
    "from owslib.wfs import WebFeatureService\n",
    "from pydov.util.location import (\n",
    "    GmlFilter,\n",
    "    Within,\n",
    ")\n",
    "\n",
    "provinciegrenzen = WebFeatureService(\n",
    "    'https://geoservices.informatievlaanderen.be/overdrachtdiensten/VRBG/wfs',\n",
    "    version='1.1.0')\n",
    "\n",
    "provincie_filter = PropertyIsEqualTo(propertyname='NAAM', literal='Oost-Vlaanderen')\n",
    "provincie_poly = provinciegrenzen.getfeature(\n",
    "    typename='VRBG:Refprv',\n",
    "    filter=etree.tostring(provincie_filter.toXML()).decode(\"utf8\")).read()"
   ]
  },
  {
   "cell_type": "markdown",
   "metadata": {},
   "source": [
    "Get bodemobservaties in East-Flanders with the requested properties"
   ]
  },
  {
   "cell_type": "code",
   "execution_count": 18,
   "metadata": {},
   "outputs": [
    {
     "name": "stdout",
     "output_type": "stream",
     "text": [
      "[000/066] cccccccccccccccccccccccccccccccccccccccccccccccccc\n",
      "[050/066] cccccccccccccccc\n"
     ]
    },
    {
     "data": {
      "text/html": [
       "<div>\n",
       "<style scoped>\n",
       "    .dataframe tbody tr th:only-of-type {\n",
       "        vertical-align: middle;\n",
       "    }\n",
       "\n",
       "    .dataframe tbody tr th {\n",
       "        vertical-align: top;\n",
       "    }\n",
       "\n",
       "    .dataframe thead th {\n",
       "        text-align: right;\n",
       "    }\n",
       "</style>\n",
       "<table border=\"1\" class=\"dataframe\">\n",
       "  <thead>\n",
       "    <tr style=\"text-align: right;\">\n",
       "      <th></th>\n",
       "      <th>pkey_bodemobservatie</th>\n",
       "      <th>pkey_bodemlocatie</th>\n",
       "      <th>Aan</th>\n",
       "      <th>pkey_parent</th>\n",
       "      <th>parameter</th>\n",
       "      <th>parametergroep</th>\n",
       "      <th>waarde</th>\n",
       "      <th>eenheid</th>\n",
       "      <th>ondergrens</th>\n",
       "      <th>bovengrens</th>\n",
       "      <th>methode</th>\n",
       "      <th>betrouwbaarheid</th>\n",
       "      <th>veld_labo</th>\n",
       "      <th>diepte_van</th>\n",
       "      <th>diepte_tot</th>\n",
       "      <th>observatiedatum</th>\n",
       "      <th>invoerdatum</th>\n",
       "    </tr>\n",
       "  </thead>\n",
       "  <tbody>\n",
       "    <tr>\n",
       "      <th>0</th>\n",
       "      <td>https://www.dov.vlaanderen.be/data/bodemobserv...</td>\n",
       "      <td>https://www.dov.vlaanderen.be/data/bodemlocati...</td>\n",
       "      <td>bodemmonster</td>\n",
       "      <td>https://www.dov.vlaanderen.be/data/bodemmonste...</td>\n",
       "      <td>Organische C - percentage</td>\n",
       "      <td>Bodem_chemisch</td>\n",
       "      <td>1.50812064965197</td>\n",
       "      <td>%</td>\n",
       "      <td>NaN</td>\n",
       "      <td>NaN</td>\n",
       "      <td>Aardewerk oude methode organische koolstof</td>\n",
       "      <td>onbekend</td>\n",
       "      <td>veld</td>\n",
       "      <td>0.0</td>\n",
       "      <td>30.0</td>\n",
       "      <td>1949-09-12</td>\n",
       "      <td>NaN</td>\n",
       "    </tr>\n",
       "    <tr>\n",
       "      <th>1</th>\n",
       "      <td>https://www.dov.vlaanderen.be/data/bodemobserv...</td>\n",
       "      <td>https://www.dov.vlaanderen.be/data/bodemlocati...</td>\n",
       "      <td>bodemmonster</td>\n",
       "      <td>https://www.dov.vlaanderen.be/data/bodemmonste...</td>\n",
       "      <td>Organische C - percentage</td>\n",
       "      <td>Bodem_chemisch</td>\n",
       "      <td>1.12142304717711</td>\n",
       "      <td>%</td>\n",
       "      <td>NaN</td>\n",
       "      <td>NaN</td>\n",
       "      <td>Aardewerk oude methode organische koolstof</td>\n",
       "      <td>onbekend</td>\n",
       "      <td>veld</td>\n",
       "      <td>0.0</td>\n",
       "      <td>30.0</td>\n",
       "      <td>1952-04-22</td>\n",
       "      <td>NaN</td>\n",
       "    </tr>\n",
       "    <tr>\n",
       "      <th>2</th>\n",
       "      <td>https://www.dov.vlaanderen.be/data/bodemobserv...</td>\n",
       "      <td>https://www.dov.vlaanderen.be/data/bodemlocati...</td>\n",
       "      <td>bodemmonster</td>\n",
       "      <td>https://www.dov.vlaanderen.be/data/bodemmonste...</td>\n",
       "      <td>Organische C - percentage</td>\n",
       "      <td>Bodem_chemisch</td>\n",
       "      <td>1.52358855375097</td>\n",
       "      <td>%</td>\n",
       "      <td>NaN</td>\n",
       "      <td>NaN</td>\n",
       "      <td>Aardewerk oude methode organische koolstof</td>\n",
       "      <td>onbekend</td>\n",
       "      <td>veld</td>\n",
       "      <td>0.0</td>\n",
       "      <td>30.0</td>\n",
       "      <td>1950-02-08</td>\n",
       "      <td>NaN</td>\n",
       "    </tr>\n",
       "    <tr>\n",
       "      <th>3</th>\n",
       "      <td>https://www.dov.vlaanderen.be/data/bodemobserv...</td>\n",
       "      <td>https://www.dov.vlaanderen.be/data/bodemlocati...</td>\n",
       "      <td>bodemmonster</td>\n",
       "      <td>https://www.dov.vlaanderen.be/data/bodemmonste...</td>\n",
       "      <td>Organische C - percentage</td>\n",
       "      <td>Bodem_chemisch</td>\n",
       "      <td>1.430781129157</td>\n",
       "      <td>%</td>\n",
       "      <td>NaN</td>\n",
       "      <td>NaN</td>\n",
       "      <td>Aardewerk oude methode organische koolstof</td>\n",
       "      <td>onbekend</td>\n",
       "      <td>veld</td>\n",
       "      <td>0.0</td>\n",
       "      <td>30.0</td>\n",
       "      <td>1953-07-07</td>\n",
       "      <td>NaN</td>\n",
       "    </tr>\n",
       "    <tr>\n",
       "      <th>4</th>\n",
       "      <td>https://www.dov.vlaanderen.be/data/bodemobserv...</td>\n",
       "      <td>https://www.dov.vlaanderen.be/data/bodemlocati...</td>\n",
       "      <td>bodemmonster</td>\n",
       "      <td>https://www.dov.vlaanderen.be/data/bodemmonste...</td>\n",
       "      <td>Organische C - percentage</td>\n",
       "      <td>Bodem_chemisch</td>\n",
       "      <td>0.935808197989172</td>\n",
       "      <td>%</td>\n",
       "      <td>NaN</td>\n",
       "      <td>NaN</td>\n",
       "      <td>Aardewerk oude methode organische koolstof</td>\n",
       "      <td>onbekend</td>\n",
       "      <td>veld</td>\n",
       "      <td>0.0</td>\n",
       "      <td>30.0</td>\n",
       "      <td>1950-01-01</td>\n",
       "      <td>NaN</td>\n",
       "    </tr>\n",
       "  </tbody>\n",
       "</table>\n",
       "</div>"
      ],
      "text/plain": [
       "                                pkey_bodemobservatie  \\\n",
       "0  https://www.dov.vlaanderen.be/data/bodemobserv...   \n",
       "1  https://www.dov.vlaanderen.be/data/bodemobserv...   \n",
       "2  https://www.dov.vlaanderen.be/data/bodemobserv...   \n",
       "3  https://www.dov.vlaanderen.be/data/bodemobserv...   \n",
       "4  https://www.dov.vlaanderen.be/data/bodemobserv...   \n",
       "\n",
       "                                   pkey_bodemlocatie           Aan  \\\n",
       "0  https://www.dov.vlaanderen.be/data/bodemlocati...  bodemmonster   \n",
       "1  https://www.dov.vlaanderen.be/data/bodemlocati...  bodemmonster   \n",
       "2  https://www.dov.vlaanderen.be/data/bodemlocati...  bodemmonster   \n",
       "3  https://www.dov.vlaanderen.be/data/bodemlocati...  bodemmonster   \n",
       "4  https://www.dov.vlaanderen.be/data/bodemlocati...  bodemmonster   \n",
       "\n",
       "                                         pkey_parent  \\\n",
       "0  https://www.dov.vlaanderen.be/data/bodemmonste...   \n",
       "1  https://www.dov.vlaanderen.be/data/bodemmonste...   \n",
       "2  https://www.dov.vlaanderen.be/data/bodemmonste...   \n",
       "3  https://www.dov.vlaanderen.be/data/bodemmonste...   \n",
       "4  https://www.dov.vlaanderen.be/data/bodemmonste...   \n",
       "\n",
       "                   parameter  parametergroep             waarde eenheid  \\\n",
       "0  Organische C - percentage  Bodem_chemisch   1.50812064965197       %   \n",
       "1  Organische C - percentage  Bodem_chemisch   1.12142304717711       %   \n",
       "2  Organische C - percentage  Bodem_chemisch   1.52358855375097       %   \n",
       "3  Organische C - percentage  Bodem_chemisch     1.430781129157       %   \n",
       "4  Organische C - percentage  Bodem_chemisch  0.935808197989172       %   \n",
       "\n",
       "   ondergrens  bovengrens                                     methode  \\\n",
       "0         NaN         NaN  Aardewerk oude methode organische koolstof   \n",
       "1         NaN         NaN  Aardewerk oude methode organische koolstof   \n",
       "2         NaN         NaN  Aardewerk oude methode organische koolstof   \n",
       "3         NaN         NaN  Aardewerk oude methode organische koolstof   \n",
       "4         NaN         NaN  Aardewerk oude methode organische koolstof   \n",
       "\n",
       "  betrouwbaarheid veld_labo  diepte_van  diepte_tot observatiedatum  \\\n",
       "0        onbekend      veld         0.0        30.0      1949-09-12   \n",
       "1        onbekend      veld         0.0        30.0      1952-04-22   \n",
       "2        onbekend      veld         0.0        30.0      1950-02-08   \n",
       "3        onbekend      veld         0.0        30.0      1953-07-07   \n",
       "4        onbekend      veld         0.0        30.0      1950-01-01   \n",
       "\n",
       "   invoerdatum  \n",
       "0          NaN  \n",
       "1          NaN  \n",
       "2          NaN  \n",
       "3          NaN  \n",
       "4          NaN  "
      ]
     },
     "execution_count": 18,
     "metadata": {},
     "output_type": "execute_result"
    }
   ],
   "source": [
    "from owslib.fes import PropertyIsEqualTo\n",
    "from owslib.fes import And\n",
    "\n",
    "from pydov.search.bodemobservatie import BodemobservatieSearch\n",
    "\n",
    "bodemobservatie = BodemobservatieSearch()\n",
    "\n",
    "# Select only layers with the boundaries 10-30\n",
    "bodemobservaties = bodemobservatie.search(\n",
    "        location=GmlFilter(provincie_poly, Within),\n",
    "        query=And([\n",
    "            PropertyIsEqualTo(propertyname=\"parameter\", literal=\"Organische C - percentage\"),\n",
    "            PropertyIsEqualTo(propertyname=\"diepte_tot\", literal = '30'),\n",
    "            PropertyIsEqualTo(propertyname=\"diepte_van\", literal = '0')\n",
    "        ]))\n",
    "\n",
    "\n",
    "bodemobservaties.head()"
   ]
  },
  {
   "cell_type": "markdown",
   "metadata": {},
   "source": [
    "Now we have all observations with the requested properties. \n",
    "Next we need to link them with the bodemlocatie"
   ]
  },
  {
   "cell_type": "code",
   "execution_count": 19,
   "metadata": {},
   "outputs": [
    {
     "name": "stdout",
     "output_type": "stream",
     "text": [
      "[000/066] cccccccccccccccccccccccccccccccccccccccccccccccccc\n",
      "[050/066] cccccccccccccccc\n"
     ]
    },
    {
     "data": {
      "text/html": [
       "<div>\n",
       "<style scoped>\n",
       "    .dataframe tbody tr th:only-of-type {\n",
       "        vertical-align: middle;\n",
       "    }\n",
       "\n",
       "    .dataframe tbody tr th {\n",
       "        vertical-align: top;\n",
       "    }\n",
       "\n",
       "    .dataframe thead th {\n",
       "        text-align: right;\n",
       "    }\n",
       "</style>\n",
       "<table border=\"1\" class=\"dataframe\">\n",
       "  <thead>\n",
       "    <tr style=\"text-align: right;\">\n",
       "      <th></th>\n",
       "      <th>pkey_bodemobservatie</th>\n",
       "      <th>pkey_bodemlocatie</th>\n",
       "      <th>Aan</th>\n",
       "      <th>pkey_parent</th>\n",
       "      <th>parameter</th>\n",
       "      <th>parametergroep</th>\n",
       "      <th>waarde</th>\n",
       "      <th>eenheid</th>\n",
       "      <th>ondergrens</th>\n",
       "      <th>bovengrens</th>\n",
       "      <th>...</th>\n",
       "      <th>datum</th>\n",
       "      <th>doel</th>\n",
       "      <th>x</th>\n",
       "      <th>y</th>\n",
       "      <th>z</th>\n",
       "      <th>erfgoed</th>\n",
       "      <th>bodemstreek</th>\n",
       "      <th>waarnemingsdatum</th>\n",
       "      <th>invoerdatum_y</th>\n",
       "      <th>educatieve_waarde</th>\n",
       "    </tr>\n",
       "  </thead>\n",
       "  <tbody>\n",
       "    <tr>\n",
       "      <th>0</th>\n",
       "      <td>https://www.dov.vlaanderen.be/data/bodemobserv...</td>\n",
       "      <td>https://www.dov.vlaanderen.be/data/bodemlocati...</td>\n",
       "      <td>bodemmonster</td>\n",
       "      <td>https://www.dov.vlaanderen.be/data/bodemmonste...</td>\n",
       "      <td>Organische C - percentage</td>\n",
       "      <td>Bodem_chemisch</td>\n",
       "      <td>1.50812064965197</td>\n",
       "      <td>%</td>\n",
       "      <td>NaN</td>\n",
       "      <td>NaN</td>\n",
       "      <td>...</td>\n",
       "      <td>1949-09-12</td>\n",
       "      <td>bodemprofielen en oppervlaktemonsters karterin...</td>\n",
       "      <td>141222.0</td>\n",
       "      <td>213316.0</td>\n",
       "      <td>4.0</td>\n",
       "      <td>False</td>\n",
       "      <td>Zandstreek</td>\n",
       "      <td>1949-09-12</td>\n",
       "      <td>2019-10-11</td>\n",
       "      <td>OK</td>\n",
       "    </tr>\n",
       "    <tr>\n",
       "      <th>1</th>\n",
       "      <td>https://www.dov.vlaanderen.be/data/bodemobserv...</td>\n",
       "      <td>https://www.dov.vlaanderen.be/data/bodemlocati...</td>\n",
       "      <td>bodemmonster</td>\n",
       "      <td>https://www.dov.vlaanderen.be/data/bodemmonste...</td>\n",
       "      <td>Organische C - percentage</td>\n",
       "      <td>Bodem_chemisch</td>\n",
       "      <td>1.12142304717711</td>\n",
       "      <td>%</td>\n",
       "      <td>NaN</td>\n",
       "      <td>NaN</td>\n",
       "      <td>...</td>\n",
       "      <td>1952-04-22</td>\n",
       "      <td>bodemprofielen en oppervlaktemonsters karterin...</td>\n",
       "      <td>132594.0</td>\n",
       "      <td>193978.0</td>\n",
       "      <td>3.0</td>\n",
       "      <td>False</td>\n",
       "      <td>Zandstreek</td>\n",
       "      <td>1952-04-22</td>\n",
       "      <td>2019-10-11</td>\n",
       "      <td>OK</td>\n",
       "    </tr>\n",
       "    <tr>\n",
       "      <th>2</th>\n",
       "      <td>https://www.dov.vlaanderen.be/data/bodemobserv...</td>\n",
       "      <td>https://www.dov.vlaanderen.be/data/bodemlocati...</td>\n",
       "      <td>bodemmonster</td>\n",
       "      <td>https://www.dov.vlaanderen.be/data/bodemmonste...</td>\n",
       "      <td>Organische C - percentage</td>\n",
       "      <td>Bodem_chemisch</td>\n",
       "      <td>1.52358855375097</td>\n",
       "      <td>%</td>\n",
       "      <td>NaN</td>\n",
       "      <td>NaN</td>\n",
       "      <td>...</td>\n",
       "      <td>1950-02-08</td>\n",
       "      <td>bodemprofielen en oppervlaktemonsters karterin...</td>\n",
       "      <td>138392.0</td>\n",
       "      <td>217983.0</td>\n",
       "      <td>2.0</td>\n",
       "      <td>False</td>\n",
       "      <td>Doel</td>\n",
       "      <td>1950-02-08</td>\n",
       "      <td>2019-10-11</td>\n",
       "      <td>OK</td>\n",
       "    </tr>\n",
       "    <tr>\n",
       "      <th>3</th>\n",
       "      <td>https://www.dov.vlaanderen.be/data/bodemobserv...</td>\n",
       "      <td>https://www.dov.vlaanderen.be/data/bodemlocati...</td>\n",
       "      <td>bodemmonster</td>\n",
       "      <td>https://www.dov.vlaanderen.be/data/bodemmonste...</td>\n",
       "      <td>Organische C - percentage</td>\n",
       "      <td>Bodem_chemisch</td>\n",
       "      <td>1.430781129157</td>\n",
       "      <td>%</td>\n",
       "      <td>NaN</td>\n",
       "      <td>NaN</td>\n",
       "      <td>...</td>\n",
       "      <td>1953-07-07</td>\n",
       "      <td>bodemprofielen en oppervlaktemonsters karterin...</td>\n",
       "      <td>102902.0</td>\n",
       "      <td>188823.0</td>\n",
       "      <td>8.0</td>\n",
       "      <td>False</td>\n",
       "      <td>Zandstreek</td>\n",
       "      <td>1953-07-07</td>\n",
       "      <td>2019-10-11</td>\n",
       "      <td>OK</td>\n",
       "    </tr>\n",
       "    <tr>\n",
       "      <th>4</th>\n",
       "      <td>https://www.dov.vlaanderen.be/data/bodemobserv...</td>\n",
       "      <td>https://www.dov.vlaanderen.be/data/bodemlocati...</td>\n",
       "      <td>bodemmonster</td>\n",
       "      <td>https://www.dov.vlaanderen.be/data/bodemmonste...</td>\n",
       "      <td>Organische C - percentage</td>\n",
       "      <td>Bodem_chemisch</td>\n",
       "      <td>0.935808197989172</td>\n",
       "      <td>%</td>\n",
       "      <td>NaN</td>\n",
       "      <td>NaN</td>\n",
       "      <td>...</td>\n",
       "      <td>1950-01-01</td>\n",
       "      <td>bodemprofielen en oppervlaktemonsters karterin...</td>\n",
       "      <td>134336.0</td>\n",
       "      <td>180915.0</td>\n",
       "      <td>40.0</td>\n",
       "      <td>False</td>\n",
       "      <td>Zandleemstreek</td>\n",
       "      <td>1950-01-01</td>\n",
       "      <td>2019-10-11</td>\n",
       "      <td>OK</td>\n",
       "    </tr>\n",
       "  </tbody>\n",
       "</table>\n",
       "<p>5 rows × 29 columns</p>\n",
       "</div>"
      ],
      "text/plain": [
       "                                pkey_bodemobservatie  \\\n",
       "0  https://www.dov.vlaanderen.be/data/bodemobserv...   \n",
       "1  https://www.dov.vlaanderen.be/data/bodemobserv...   \n",
       "2  https://www.dov.vlaanderen.be/data/bodemobserv...   \n",
       "3  https://www.dov.vlaanderen.be/data/bodemobserv...   \n",
       "4  https://www.dov.vlaanderen.be/data/bodemobserv...   \n",
       "\n",
       "                                   pkey_bodemlocatie           Aan  \\\n",
       "0  https://www.dov.vlaanderen.be/data/bodemlocati...  bodemmonster   \n",
       "1  https://www.dov.vlaanderen.be/data/bodemlocati...  bodemmonster   \n",
       "2  https://www.dov.vlaanderen.be/data/bodemlocati...  bodemmonster   \n",
       "3  https://www.dov.vlaanderen.be/data/bodemlocati...  bodemmonster   \n",
       "4  https://www.dov.vlaanderen.be/data/bodemlocati...  bodemmonster   \n",
       "\n",
       "                                         pkey_parent  \\\n",
       "0  https://www.dov.vlaanderen.be/data/bodemmonste...   \n",
       "1  https://www.dov.vlaanderen.be/data/bodemmonste...   \n",
       "2  https://www.dov.vlaanderen.be/data/bodemmonste...   \n",
       "3  https://www.dov.vlaanderen.be/data/bodemmonste...   \n",
       "4  https://www.dov.vlaanderen.be/data/bodemmonste...   \n",
       "\n",
       "                   parameter  parametergroep             waarde eenheid  \\\n",
       "0  Organische C - percentage  Bodem_chemisch   1.50812064965197       %   \n",
       "1  Organische C - percentage  Bodem_chemisch   1.12142304717711       %   \n",
       "2  Organische C - percentage  Bodem_chemisch   1.52358855375097       %   \n",
       "3  Organische C - percentage  Bodem_chemisch     1.430781129157       %   \n",
       "4  Organische C - percentage  Bodem_chemisch  0.935808197989172       %   \n",
       "\n",
       "   ondergrens  bovengrens  ...       datum  \\\n",
       "0         NaN         NaN  ...  1949-09-12   \n",
       "1         NaN         NaN  ...  1952-04-22   \n",
       "2         NaN         NaN  ...  1950-02-08   \n",
       "3         NaN         NaN  ...  1953-07-07   \n",
       "4         NaN         NaN  ...  1950-01-01   \n",
       "\n",
       "                                                doel         x         y  \\\n",
       "0  bodemprofielen en oppervlaktemonsters karterin...  141222.0  213316.0   \n",
       "1  bodemprofielen en oppervlaktemonsters karterin...  132594.0  193978.0   \n",
       "2  bodemprofielen en oppervlaktemonsters karterin...  138392.0  217983.0   \n",
       "3  bodemprofielen en oppervlaktemonsters karterin...  102902.0  188823.0   \n",
       "4  bodemprofielen en oppervlaktemonsters karterin...  134336.0  180915.0   \n",
       "\n",
       "      z erfgoed     bodemstreek waarnemingsdatum invoerdatum_y  \\\n",
       "0   4.0   False      Zandstreek       1949-09-12    2019-10-11   \n",
       "1   3.0   False      Zandstreek       1952-04-22    2019-10-11   \n",
       "2   2.0   False            Doel       1950-02-08    2019-10-11   \n",
       "3   8.0   False      Zandstreek       1953-07-07    2019-10-11   \n",
       "4  40.0   False  Zandleemstreek       1950-01-01    2019-10-11   \n",
       "\n",
       "  educatieve_waarde  \n",
       "0                OK  \n",
       "1                OK  \n",
       "2                OK  \n",
       "3                OK  \n",
       "4                OK  \n",
       "\n",
       "[5 rows x 29 columns]"
      ]
     },
     "execution_count": 19,
     "metadata": {},
     "output_type": "execute_result"
    }
   ],
   "source": [
    "from pydov.search.bodemlocatie import BodemlocatieSearch\n",
    "from pydov.util.query import Join\n",
    "import pandas as pd\n",
    "\n",
    "# Find bodemlocatie information for all observations\n",
    "bodemlocatie = BodemlocatieSearch()\n",
    "bodemlocaties = bodemlocatie.search(query=Join(bodemobservaties, on = 'pkey_bodemlocatie', using='pkey_bodemlocatie'))\n",
    "\n",
    "# Merge the bodemlocatie information together with the observation information\n",
    "merged = pd.merge(bodemobservaties, bodemlocaties, on=\"pkey_bodemlocatie\", how='left')\n",
    "\n",
    "merged.head()"
   ]
  },
  {
   "cell_type": "markdown",
   "metadata": {},
   "source": [
    "To export the results to CSV, you can use for example: \n",
    "```python\n",
    "merged.to_csv(\"test.csv\")\n",
    "```"
   ]
  },
  {
   "cell_type": "markdown",
   "metadata": {},
   "source": [
    "We can plot also the results on a map\n",
    "This can take some time!"
   ]
  },
  {
   "cell_type": "code",
   "execution_count": 20,
   "metadata": {
    "scrolled": true
   },
   "outputs": [
    {
     "data": {
      "text/html": [
       "<div style=\"width:100%;\"><div style=\"position:relative;width:100%;height:0;padding-bottom:60%;\"><span style=\"color:#565656\">Make this Notebook Trusted to load map: File -> Trust Notebook</span><iframe src=\"about:blank\" style=\"position:absolute;width:100%;height:100%;left:0;top:0;border:none !important;\" data-html=%3C%21DOCTYPE%20html%3E%0A%3Chead%3E%20%20%20%20%0A%20%20%20%20%3Cmeta%20http-equiv%3D%22content-type%22%20content%3D%22text/html%3B%20charset%3DUTF-8%22%20/%3E%0A%20%20%20%20%0A%20%20%20%20%20%20%20%20%3Cscript%3E%0A%20%20%20%20%20%20%20%20%20%20%20%20L_NO_TOUCH%20%3D%20false%3B%0A%20%20%20%20%20%20%20%20%20%20%20%20L_DISABLE_3D%20%3D%20false%3B%0A%20%20%20%20%20%20%20%20%3C/script%3E%0A%20%20%20%20%0A%20%20%20%20%3Cstyle%3Ehtml%2C%20body%20%7Bwidth%3A%20100%25%3Bheight%3A%20100%25%3Bmargin%3A%200%3Bpadding%3A%200%3B%7D%3C/style%3E%0A%20%20%20%20%3Cstyle%3E%23map%20%7Bposition%3Aabsolute%3Btop%3A0%3Bbottom%3A0%3Bright%3A0%3Bleft%3A0%3B%7D%3C/style%3E%0A%20%20%20%20%3Cscript%20src%3D%22https%3A//cdn.jsdelivr.net/npm/leaflet%401.6.0/dist/leaflet.js%22%3E%3C/script%3E%0A%20%20%20%20%3Cscript%20src%3D%22https%3A//code.jquery.com/jquery-1.12.4.min.js%22%3E%3C/script%3E%0A%20%20%20%20%3Cscript%20src%3D%22https%3A//maxcdn.bootstrapcdn.com/bootstrap/3.2.0/js/bootstrap.min.js%22%3E%3C/script%3E%0A%20%20%20%20%3Cscript%20src%3D%22https%3A//cdnjs.cloudflare.com/ajax/libs/Leaflet.awesome-markers/2.0.2/leaflet.awesome-markers.js%22%3E%3C/script%3E%0A%20%20%20%20%3Clink%20rel%3D%22stylesheet%22%20href%3D%22https%3A//cdn.jsdelivr.net/npm/leaflet%401.6.0/dist/leaflet.css%22/%3E%0A%20%20%20%20%3Clink%20rel%3D%22stylesheet%22%20href%3D%22https%3A//maxcdn.bootstrapcdn.com/bootstrap/3.2.0/css/bootstrap.min.css%22/%3E%0A%20%20%20%20%3Clink%20rel%3D%22stylesheet%22%20href%3D%22https%3A//maxcdn.bootstrapcdn.com/bootstrap/3.2.0/css/bootstrap-theme.min.css%22/%3E%0A%20%20%20%20%3Clink%20rel%3D%22stylesheet%22%20href%3D%22https%3A//maxcdn.bootstrapcdn.com/font-awesome/4.6.3/css/font-awesome.min.css%22/%3E%0A%20%20%20%20%3Clink%20rel%3D%22stylesheet%22%20href%3D%22https%3A//cdnjs.cloudflare.com/ajax/libs/Leaflet.awesome-markers/2.0.2/leaflet.awesome-markers.css%22/%3E%0A%20%20%20%20%3Clink%20rel%3D%22stylesheet%22%20href%3D%22https%3A//cdn.jsdelivr.net/gh/python-visualization/folium/folium/templates/leaflet.awesome.rotate.min.css%22/%3E%0A%20%20%20%20%0A%20%20%20%20%20%20%20%20%20%20%20%20%3Cmeta%20name%3D%22viewport%22%20content%3D%22width%3Ddevice-width%2C%0A%20%20%20%20%20%20%20%20%20%20%20%20%20%20%20%20initial-scale%3D1.0%2C%20maximum-scale%3D1.0%2C%20user-scalable%3Dno%22%20/%3E%0A%20%20%20%20%20%20%20%20%20%20%20%20%3Cstyle%3E%0A%20%20%20%20%20%20%20%20%20%20%20%20%20%20%20%20%23map_3734c5588738420a8903b1f99785e958%20%7B%0A%20%20%20%20%20%20%20%20%20%20%20%20%20%20%20%20%20%20%20%20position%3A%20relative%3B%0A%20%20%20%20%20%20%20%20%20%20%20%20%20%20%20%20%20%20%20%20width%3A%20100.0%25%3B%0A%20%20%20%20%20%20%20%20%20%20%20%20%20%20%20%20%20%20%20%20height%3A%20100.0%25%3B%0A%20%20%20%20%20%20%20%20%20%20%20%20%20%20%20%20%20%20%20%20left%3A%200.0%25%3B%0A%20%20%20%20%20%20%20%20%20%20%20%20%20%20%20%20%20%20%20%20top%3A%200.0%25%3B%0A%20%20%20%20%20%20%20%20%20%20%20%20%20%20%20%20%7D%0A%20%20%20%20%20%20%20%20%20%20%20%20%3C/style%3E%0A%20%20%20%20%20%20%20%20%0A%20%20%20%20%3Cscript%20src%3D%22https%3A//cdnjs.cloudflare.com/ajax/libs/leaflet.markercluster/1.1.0/leaflet.markercluster.js%22%3E%3C/script%3E%0A%20%20%20%20%3Clink%20rel%3D%22stylesheet%22%20href%3D%22https%3A//cdnjs.cloudflare.com/ajax/libs/leaflet.markercluster/1.1.0/MarkerCluster.css%22/%3E%0A%20%20%20%20%3Clink%20rel%3D%22stylesheet%22%20href%3D%22https%3A//cdnjs.cloudflare.com/ajax/libs/leaflet.markercluster/1.1.0/MarkerCluster.Default.css%22/%3E%0A%3C/head%3E%0A%3Cbody%3E%20%20%20%20%0A%20%20%20%20%0A%20%20%20%20%20%20%20%20%20%20%20%20%3Cdiv%20class%3D%22folium-map%22%20id%3D%22map_3734c5588738420a8903b1f99785e958%22%20%3E%3C/div%3E%0A%20%20%20%20%20%20%20%20%0A%3C/body%3E%0A%3Cscript%3E%20%20%20%20%0A%20%20%20%20%0A%20%20%20%20%20%20%20%20%20%20%20%20var%20map_3734c5588738420a8903b1f99785e958%20%3D%20L.map%28%0A%20%20%20%20%20%20%20%20%20%20%20%20%20%20%20%20%22map_3734c5588738420a8903b1f99785e958%22%2C%0A%20%20%20%20%20%20%20%20%20%20%20%20%20%20%20%20%7B%0A%20%20%20%20%20%20%20%20%20%20%20%20%20%20%20%20%20%20%20%20center%3A%20%5B51.08291395765818%2C%203.9468333816577563%5D%2C%0A%20%20%20%20%20%20%20%20%20%20%20%20%20%20%20%20%20%20%20%20crs%3A%20L.CRS.EPSG3857%2C%0A%20%20%20%20%20%20%20%20%20%20%20%20%20%20%20%20%20%20%20%20zoom%3A%2010%2C%0A%20%20%20%20%20%20%20%20%20%20%20%20%20%20%20%20%20%20%20%20zoomControl%3A%20true%2C%0A%20%20%20%20%20%20%20%20%20%20%20%20%20%20%20%20%20%20%20%20preferCanvas%3A%20false%2C%0A%20%20%20%20%20%20%20%20%20%20%20%20%20%20%20%20%7D%0A%20%20%20%20%20%20%20%20%20%20%20%20%29%3B%0A%0A%20%20%20%20%20%20%20%20%20%20%20%20%0A%0A%20%20%20%20%20%20%20%20%0A%20%20%20%20%0A%20%20%20%20%20%20%20%20%20%20%20%20var%20tile_layer_66aabd23d1bd480094ccd1c0cfbc5161%20%3D%20L.tileLayer%28%0A%20%20%20%20%20%20%20%20%20%20%20%20%20%20%20%20%22https%3A//%7Bs%7D.tile.openstreetmap.org/%7Bz%7D/%7Bx%7D/%7By%7D.png%22%2C%0A%20%20%20%20%20%20%20%20%20%20%20%20%20%20%20%20%7B%22attribution%22%3A%20%22Data%20by%20%5Cu0026copy%3B%20%5Cu003ca%20href%3D%5C%22http%3A//openstreetmap.org%5C%22%5Cu003eOpenStreetMap%5Cu003c/a%5Cu003e%2C%20under%20%5Cu003ca%20href%3D%5C%22http%3A//www.openstreetmap.org/copyright%5C%22%5Cu003eODbL%5Cu003c/a%5Cu003e.%22%2C%20%22detectRetina%22%3A%20false%2C%20%22maxNativeZoom%22%3A%2018%2C%20%22maxZoom%22%3A%2018%2C%20%22minZoom%22%3A%200%2C%20%22noWrap%22%3A%20false%2C%20%22opacity%22%3A%201%2C%20%22subdomains%22%3A%20%22abc%22%2C%20%22tms%22%3A%20false%7D%0A%20%20%20%20%20%20%20%20%20%20%20%20%29.addTo%28map_3734c5588738420a8903b1f99785e958%29%3B%0A%20%20%20%20%20%20%20%20%0A%20%20%20%20%0A%20%20%20%20%20%20%20%20%20%20%20%20var%20marker_cluster_e8f5a78279154845b772b473819d6544%20%3D%20L.markerClusterGroup%28%0A%20%20%20%20%20%20%20%20%20%20%20%20%20%20%20%20%7B%7D%0A%20%20%20%20%20%20%20%20%20%20%20%20%29%3B%0A%20%20%20%20%20%20%20%20%20%20%20%20map_3734c5588738420a8903b1f99785e958.addLayer%28marker_cluster_e8f5a78279154845b772b473819d6544%29%3B%0A%20%20%20%20%20%20%20%20%0A%20%20%20%20%0A%20%20%20%20%20%20%20%20%20%20%20%20var%20marker_578b8f073bef4007b2af5b95a31374a4%20%3D%20L.marker%28%0A%20%20%20%20%20%20%20%20%20%20%20%20%20%20%20%20%5B51.2297121346602%2C%204.243091626460568%5D%2C%0A%20%20%20%20%20%20%20%20%20%20%20%20%20%20%20%20%7B%7D%0A%20%20%20%20%20%20%20%20%20%20%20%20%29.addTo%28marker_cluster_e8f5a78279154845b772b473819d6544%29%3B%0A%20%20%20%20%20%20%20%20%0A%20%20%20%20%0A%20%20%20%20%20%20%20%20var%20popup_8ad83f89c4434a82bc74784d5aea0948%20%3D%20L.popup%28%7B%22maxWidth%22%3A%20%22100%25%22%7D%29%3B%0A%0A%20%20%20%20%20%20%20%20%0A%20%20%20%20%20%20%20%20%20%20%20%20var%20html_4d9e07629b114f6dbd4c09eef6ba851b%20%3D%20%24%28%60%3Cdiv%20id%3D%22html_4d9e07629b114f6dbd4c09eef6ba851b%22%20style%3D%22width%3A%20100.0%25%3B%20height%3A%20100.0%25%3B%22%3EBodemlocatie%3A%20https%3A//www.dov.vlaanderen.be/data/bodemlocatie/1949-001327%3Cbr%3E%20Bodemobservatie%3A%20https%3A//www.dov.vlaanderen.be/data/bodemobservatie/2019-143331%3Cbr%3E%20Value%3A%201.50812064965197%25%3C/div%3E%60%29%5B0%5D%3B%0A%20%20%20%20%20%20%20%20%20%20%20%20popup_8ad83f89c4434a82bc74784d5aea0948.setContent%28html_4d9e07629b114f6dbd4c09eef6ba851b%29%3B%0A%20%20%20%20%20%20%20%20%0A%0A%20%20%20%20%20%20%20%20marker_578b8f073bef4007b2af5b95a31374a4.bindPopup%28popup_8ad83f89c4434a82bc74784d5aea0948%29%0A%20%20%20%20%20%20%20%20%3B%0A%0A%20%20%20%20%20%20%20%20%0A%20%20%20%20%0A%20%20%20%20%0A%20%20%20%20%20%20%20%20%20%20%20%20var%20marker_c45cf348765d4e989fa8ea45cd32504d%20%3D%20L.marker%28%0A%20%20%20%20%20%20%20%20%20%20%20%20%20%20%20%20%5B51.05569548277648%2C%204.120497008673593%5D%2C%0A%20%20%20%20%20%20%20%20%20%20%20%20%20%20%20%20%7B%7D%0A%20%20%20%20%20%20%20%20%20%20%20%20%29.addTo%28marker_cluster_e8f5a78279154845b772b473819d6544%29%3B%0A%20%20%20%20%20%20%20%20%0A%20%20%20%20%0A%20%20%20%20%20%20%20%20var%20popup_d173e56d435944e78384aa874111eff5%20%3D%20L.popup%28%7B%22maxWidth%22%3A%20%22100%25%22%7D%29%3B%0A%0A%20%20%20%20%20%20%20%20%0A%20%20%20%20%20%20%20%20%20%20%20%20var%20html_7245b1523a764e9e91145b9af6805d9c%20%3D%20%24%28%60%3Cdiv%20id%3D%22html_7245b1523a764e9e91145b9af6805d9c%22%20style%3D%22width%3A%20100.0%25%3B%20height%3A%20100.0%25%3B%22%3EBodemlocatie%3A%20https%3A//www.dov.vlaanderen.be/data/bodemlocatie/1952-001506%3Cbr%3E%20Bodemobservatie%3A%20https%3A//www.dov.vlaanderen.be/data/bodemobservatie/2019-165454%3Cbr%3E%20Value%3A%201.12142304717711%25%3C/div%3E%60%29%5B0%5D%3B%0A%20%20%20%20%20%20%20%20%20%20%20%20popup_d173e56d435944e78384aa874111eff5.setContent%28html_7245b1523a764e9e91145b9af6805d9c%29%3B%0A%20%20%20%20%20%20%20%20%0A%0A%20%20%20%20%20%20%20%20marker_c45cf348765d4e989fa8ea45cd32504d.bindPopup%28popup_d173e56d435944e78384aa874111eff5%29%0A%20%20%20%20%20%20%20%20%3B%0A%0A%20%20%20%20%20%20%20%20%0A%20%20%20%20%0A%20%20%20%20%0A%20%20%20%20%20%20%20%20%20%20%20%20var%20marker_eed6b76b48454568bd61618a884db138%20%3D%20L.marker%28%0A%20%20%20%20%20%20%20%20%20%20%20%20%20%20%20%20%5B51.27161058730381%2C%204.202428416395868%5D%2C%0A%20%20%20%20%20%20%20%20%20%20%20%20%20%20%20%20%7B%7D%0A%20%20%20%20%20%20%20%20%20%20%20%20%29.addTo%28marker_cluster_e8f5a78279154845b772b473819d6544%29%3B%0A%20%20%20%20%20%20%20%20%0A%20%20%20%20%0A%20%20%20%20%20%20%20%20var%20popup_5e5876c30c78431aa84a7e74436db477%20%3D%20L.popup%28%7B%22maxWidth%22%3A%20%22100%25%22%7D%29%3B%0A%0A%20%20%20%20%20%20%20%20%0A%20%20%20%20%20%20%20%20%20%20%20%20var%20html_57bb472ea18e4c468b789f3746a91f8b%20%3D%20%24%28%60%3Cdiv%20id%3D%22html_57bb472ea18e4c468b789f3746a91f8b%22%20style%3D%22width%3A%20100.0%25%3B%20height%3A%20100.0%25%3B%22%3EBodemlocatie%3A%20https%3A//www.dov.vlaanderen.be/data/bodemlocatie/1950-001616%3Cbr%3E%20Bodemobservatie%3A%20https%3A//www.dov.vlaanderen.be/data/bodemobservatie/2019-177755%3Cbr%3E%20Value%3A%201.52358855375097%25%3C/div%3E%60%29%5B0%5D%3B%0A%20%20%20%20%20%20%20%20%20%20%20%20popup_5e5876c30c78431aa84a7e74436db477.setContent%28html_57bb472ea18e4c468b789f3746a91f8b%29%3B%0A%20%20%20%20%20%20%20%20%0A%0A%20%20%20%20%20%20%20%20marker_eed6b76b48454568bd61618a884db138.bindPopup%28popup_5e5876c30c78431aa84a7e74436db477%29%0A%20%20%20%20%20%20%20%20%3B%0A%0A%20%20%20%20%20%20%20%20%0A%20%20%20%20%0A%20%20%20%20%0A%20%20%20%20%20%20%20%20%20%20%20%20var%20marker_a63e88b94e0f4447b2f7a1d4dcb4cc65%20%3D%20L.marker%28%0A%20%20%20%20%20%20%20%20%20%20%20%20%20%20%20%20%5B51.00770797641475%2C%203.697686150941102%5D%2C%0A%20%20%20%20%20%20%20%20%20%20%20%20%20%20%20%20%7B%7D%0A%20%20%20%20%20%20%20%20%20%20%20%20%29.addTo%28marker_cluster_e8f5a78279154845b772b473819d6544%29%3B%0A%20%20%20%20%20%20%20%20%0A%20%20%20%20%0A%20%20%20%20%20%20%20%20var%20popup_83bed235f1e545a299b6c9687cd813c4%20%3D%20L.popup%28%7B%22maxWidth%22%3A%20%22100%25%22%7D%29%3B%0A%0A%20%20%20%20%20%20%20%20%0A%20%20%20%20%20%20%20%20%20%20%20%20var%20html_9fcefdcd547c4475b4bde6820ad12464%20%3D%20%24%28%60%3Cdiv%20id%3D%22html_9fcefdcd547c4475b4bde6820ad12464%22%20style%3D%22width%3A%20100.0%25%3B%20height%3A%20100.0%25%3B%22%3EBodemlocatie%3A%20https%3A//www.dov.vlaanderen.be/data/bodemlocatie/1953-001790%3Cbr%3E%20Bodemobservatie%3A%20https%3A//www.dov.vlaanderen.be/data/bodemobservatie/2019-200548%3Cbr%3E%20Value%3A%201.430781129157%25%3C/div%3E%60%29%5B0%5D%3B%0A%20%20%20%20%20%20%20%20%20%20%20%20popup_83bed235f1e545a299b6c9687cd813c4.setContent%28html_9fcefdcd547c4475b4bde6820ad12464%29%3B%0A%20%20%20%20%20%20%20%20%0A%0A%20%20%20%20%20%20%20%20marker_a63e88b94e0f4447b2f7a1d4dcb4cc65.bindPopup%28popup_83bed235f1e545a299b6c9687cd813c4%29%0A%20%20%20%20%20%20%20%20%3B%0A%0A%20%20%20%20%20%20%20%20%0A%20%20%20%20%0A%20%20%20%20%0A%20%20%20%20%20%20%20%20%20%20%20%20var%20marker_a58d07a037df47bcaafde2d5ab6be9d6%20%3D%20L.marker%28%0A%20%20%20%20%20%20%20%20%20%20%20%20%20%20%20%20%5B50.93832089574828%2C%204.145900126779773%5D%2C%0A%20%20%20%20%20%20%20%20%20%20%20%20%20%20%20%20%7B%7D%0A%20%20%20%20%20%20%20%20%20%20%20%20%29.addTo%28marker_cluster_e8f5a78279154845b772b473819d6544%29%3B%0A%20%20%20%20%20%20%20%20%0A%20%20%20%20%0A%20%20%20%20%20%20%20%20var%20popup_fd718c232bbe45e0ab268a713929c0f0%20%3D%20L.popup%28%7B%22maxWidth%22%3A%20%22100%25%22%7D%29%3B%0A%0A%20%20%20%20%20%20%20%20%0A%20%20%20%20%20%20%20%20%20%20%20%20var%20html_c2d9de956b2d4f77bb1ade53ff192472%20%3D%20%24%28%60%3Cdiv%20id%3D%22html_c2d9de956b2d4f77bb1ade53ff192472%22%20style%3D%22width%3A%20100.0%25%3B%20height%3A%20100.0%25%3B%22%3EBodemlocatie%3A%20https%3A//www.dov.vlaanderen.be/data/bodemlocatie/1950-002023%3Cbr%3E%20Bodemobservatie%3A%20https%3A//www.dov.vlaanderen.be/data/bodemobservatie/2019-230613%3Cbr%3E%20Value%3A%200.935808197989172%25%3C/div%3E%60%29%5B0%5D%3B%0A%20%20%20%20%20%20%20%20%20%20%20%20popup_fd718c232bbe45e0ab268a713929c0f0.setContent%28html_c2d9de956b2d4f77bb1ade53ff192472%29%3B%0A%20%20%20%20%20%20%20%20%0A%0A%20%20%20%20%20%20%20%20marker_a58d07a037df47bcaafde2d5ab6be9d6.bindPopup%28popup_fd718c232bbe45e0ab268a713929c0f0%29%0A%20%20%20%20%20%20%20%20%3B%0A%0A%20%20%20%20%20%20%20%20%0A%20%20%20%20%0A%20%20%20%20%0A%20%20%20%20%20%20%20%20%20%20%20%20var%20marker_b88b2af2aa4f430f8136857238ea1835%20%3D%20L.marker%28%0A%20%20%20%20%20%20%20%20%20%20%20%20%20%20%20%20%5B51.01875210516614%2C%203.7975771037918866%5D%2C%0A%20%20%20%20%20%20%20%20%20%20%20%20%20%20%20%20%7B%7D%0A%20%20%20%20%20%20%20%20%20%20%20%20%29.addTo%28marker_cluster_e8f5a78279154845b772b473819d6544%29%3B%0A%20%20%20%20%20%20%20%20%0A%20%20%20%20%0A%20%20%20%20%20%20%20%20var%20popup_8bf8c561e3cb430491e6741d05db1cb6%20%3D%20L.popup%28%7B%22maxWidth%22%3A%20%22100%25%22%7D%29%3B%0A%0A%20%20%20%20%20%20%20%20%0A%20%20%20%20%20%20%20%20%20%20%20%20var%20html_e46611334fd947c483a84fa1105b4ef6%20%3D%20%24%28%60%3Cdiv%20id%3D%22html_e46611334fd947c483a84fa1105b4ef6%22%20style%3D%22width%3A%20100.0%25%3B%20height%3A%20100.0%25%3B%22%3EBodemlocatie%3A%20https%3A//www.dov.vlaanderen.be/data/bodemlocatie/1949-005074%3Cbr%3E%20Bodemobservatie%3A%20https%3A//www.dov.vlaanderen.be/data/bodemobservatie/2019-614815%3Cbr%3E%20Value%3A%200.726991492652745%25%3C/div%3E%60%29%5B0%5D%3B%0A%20%20%20%20%20%20%20%20%20%20%20%20popup_8bf8c561e3cb430491e6741d05db1cb6.setContent%28html_e46611334fd947c483a84fa1105b4ef6%29%3B%0A%20%20%20%20%20%20%20%20%0A%0A%20%20%20%20%20%20%20%20marker_b88b2af2aa4f430f8136857238ea1835.bindPopup%28popup_8bf8c561e3cb430491e6741d05db1cb6%29%0A%20%20%20%20%20%20%20%20%3B%0A%0A%20%20%20%20%20%20%20%20%0A%20%20%20%20%0A%20%20%20%20%0A%20%20%20%20%20%20%20%20%20%20%20%20var%20marker_78a9bd61b3e24c058c6a0085006913cc%20%3D%20L.marker%28%0A%20%20%20%20%20%20%20%20%20%20%20%20%20%20%20%20%5B51.005070080178236%2C%203.917723423505873%5D%2C%0A%20%20%20%20%20%20%20%20%20%20%20%20%20%20%20%20%7B%7D%0A%20%20%20%20%20%20%20%20%20%20%20%20%29.addTo%28marker_cluster_e8f5a78279154845b772b473819d6544%29%3B%0A%20%20%20%20%20%20%20%20%0A%20%20%20%20%0A%20%20%20%20%20%20%20%20var%20popup_3bdfb73ad1004f32ba3783deffff7cd9%20%3D%20L.popup%28%7B%22maxWidth%22%3A%20%22100%25%22%7D%29%3B%0A%0A%20%20%20%20%20%20%20%20%0A%20%20%20%20%20%20%20%20%20%20%20%20var%20html_377c5a2cb9574a05bef874262ba7693f%20%3D%20%24%28%60%3Cdiv%20id%3D%22html_377c5a2cb9574a05bef874262ba7693f%22%20style%3D%22width%3A%20100.0%25%3B%20height%3A%20100.0%25%3B%22%3EBodemlocatie%3A%20https%3A//www.dov.vlaanderen.be/data/bodemlocatie/1951-007583%3Cbr%3E%20Bodemobservatie%3A%20https%3A//www.dov.vlaanderen.be/data/bodemobservatie/2019-934458%3Cbr%3E%20Value%3A%201.20649651972158%25%3C/div%3E%60%29%5B0%5D%3B%0A%20%20%20%20%20%20%20%20%20%20%20%20popup_3bdfb73ad1004f32ba3783deffff7cd9.setContent%28html_377c5a2cb9574a05bef874262ba7693f%29%3B%0A%20%20%20%20%20%20%20%20%0A%0A%20%20%20%20%20%20%20%20marker_78a9bd61b3e24c058c6a0085006913cc.bindPopup%28popup_3bdfb73ad1004f32ba3783deffff7cd9%29%0A%20%20%20%20%20%20%20%20%3B%0A%0A%20%20%20%20%20%20%20%20%0A%20%20%20%20%0A%20%20%20%20%0A%20%20%20%20%20%20%20%20%20%20%20%20var%20marker_f746fcf7d14040219dc83c741e299c92%20%3D%20L.marker%28%0A%20%20%20%20%20%20%20%20%20%20%20%20%20%20%20%20%5B51.12955240803548%2C%204.181518389811902%5D%2C%0A%20%20%20%20%20%20%20%20%20%20%20%20%20%20%20%20%7B%7D%0A%20%20%20%20%20%20%20%20%20%20%20%20%29.addTo%28marker_cluster_e8f5a78279154845b772b473819d6544%29%3B%0A%20%20%20%20%20%20%20%20%0A%20%20%20%20%0A%20%20%20%20%20%20%20%20var%20popup_d807a1766c604311a0d9837ec51aafe4%20%3D%20L.popup%28%7B%22maxWidth%22%3A%20%22100%25%22%7D%29%3B%0A%0A%20%20%20%20%20%20%20%20%0A%20%20%20%20%20%20%20%20%20%20%20%20var%20html_b01a3be041af4718b5342a8826726dcd%20%3D%20%24%28%60%3Cdiv%20id%3D%22html_b01a3be041af4718b5342a8826726dcd%22%20style%3D%22width%3A%20100.0%25%3B%20height%3A%20100.0%25%3B%22%3EBodemlocatie%3A%20https%3A//www.dov.vlaanderen.be/data/bodemlocatie/1951-001678%3Cbr%3E%20Bodemobservatie%3A%20https%3A//www.dov.vlaanderen.be/data/bodemobservatie/2019-185503%3Cbr%3E%20Value%3A%200.889404485692189%25%3C/div%3E%60%29%5B0%5D%3B%0A%20%20%20%20%20%20%20%20%20%20%20%20popup_d807a1766c604311a0d9837ec51aafe4.setContent%28html_b01a3be041af4718b5342a8826726dcd%29%3B%0A%20%20%20%20%20%20%20%20%0A%0A%20%20%20%20%20%20%20%20marker_f746fcf7d14040219dc83c741e299c92.bindPopup%28popup_d807a1766c604311a0d9837ec51aafe4%29%0A%20%20%20%20%20%20%20%20%3B%0A%0A%20%20%20%20%20%20%20%20%0A%20%20%20%20%0A%20%20%20%20%0A%20%20%20%20%20%20%20%20%20%20%20%20var%20marker_f57c4969cbe84d799fe16633f92f5ad3%20%3D%20L.marker%28%0A%20%20%20%20%20%20%20%20%20%20%20%20%20%20%20%20%5B51.26477687979169%2C%204.273642528311413%5D%2C%0A%20%20%20%20%20%20%20%20%20%20%20%20%20%20%20%20%7B%7D%0A%20%20%20%20%20%20%20%20%20%20%20%20%29.addTo%28marker_cluster_e8f5a78279154845b772b473819d6544%29%3B%0A%20%20%20%20%20%20%20%20%0A%20%20%20%20%0A%20%20%20%20%20%20%20%20var%20popup_b1b6c9af91454a3c85d3938bcc068cf5%20%3D%20L.popup%28%7B%22maxWidth%22%3A%20%22100%25%22%7D%29%3B%0A%0A%20%20%20%20%20%20%20%20%0A%20%20%20%20%20%20%20%20%20%20%20%20var%20html_c9cf06c080134cd59bfc4af41ed4d7bf%20%3D%20%24%28%60%3Cdiv%20id%3D%22html_c9cf06c080134cd59bfc4af41ed4d7bf%22%20style%3D%22width%3A%20100.0%25%3B%20height%3A%20100.0%25%3B%22%3EBodemlocatie%3A%20https%3A//www.dov.vlaanderen.be/data/bodemlocatie/1949-005315%3Cbr%3E%20Bodemobservatie%3A%20https%3A//www.dov.vlaanderen.be/data/bodemobservatie/2019-644897%3Cbr%3E%20Value%3A%201.46171693735499%25%3C/div%3E%60%29%5B0%5D%3B%0A%20%20%20%20%20%20%20%20%20%20%20%20popup_b1b6c9af91454a3c85d3938bcc068cf5.setContent%28html_c9cf06c080134cd59bfc4af41ed4d7bf%29%3B%0A%20%20%20%20%20%20%20%20%0A%0A%20%20%20%20%20%20%20%20marker_f57c4969cbe84d799fe16633f92f5ad3.bindPopup%28popup_b1b6c9af91454a3c85d3938bcc068cf5%29%0A%20%20%20%20%20%20%20%20%3B%0A%0A%20%20%20%20%20%20%20%20%0A%20%20%20%20%0A%20%20%20%20%0A%20%20%20%20%20%20%20%20%20%20%20%20var%20marker_518f6443199247458be41a16921ba127%20%3D%20L.marker%28%0A%20%20%20%20%20%20%20%20%20%20%20%20%20%20%20%20%5B51.27438221944679%2C%203.5332174632480573%5D%2C%0A%20%20%20%20%20%20%20%20%20%20%20%20%20%20%20%20%7B%7D%0A%20%20%20%20%20%20%20%20%20%20%20%20%29.addTo%28marker_cluster_e8f5a78279154845b772b473819d6544%29%3B%0A%20%20%20%20%20%20%20%20%0A%20%20%20%20%0A%20%20%20%20%20%20%20%20var%20popup_4812e15cf16f41d0819b1574a17bb951%20%3D%20L.popup%28%7B%22maxWidth%22%3A%20%22100%25%22%7D%29%3B%0A%0A%20%20%20%20%20%20%20%20%0A%20%20%20%20%20%20%20%20%20%20%20%20var%20html_ff0c932b5729445781962358401f82e7%20%3D%20%24%28%60%3Cdiv%20id%3D%22html_ff0c932b5729445781962358401f82e7%22%20style%3D%22width%3A%20100.0%25%3B%20height%3A%20100.0%25%3B%22%3EBodemlocatie%3A%20https%3A//www.dov.vlaanderen.be/data/bodemlocatie/1962-005613%3Cbr%3E%20Bodemobservatie%3A%20https%3A//www.dov.vlaanderen.be/data/bodemobservatie/2019-684122%3Cbr%3E%20Value%3A%201.315%25%3C/div%3E%60%29%5B0%5D%3B%0A%20%20%20%20%20%20%20%20%20%20%20%20popup_4812e15cf16f41d0819b1574a17bb951.setContent%28html_ff0c932b5729445781962358401f82e7%29%3B%0A%20%20%20%20%20%20%20%20%0A%0A%20%20%20%20%20%20%20%20marker_518f6443199247458be41a16921ba127.bindPopup%28popup_4812e15cf16f41d0819b1574a17bb951%29%0A%20%20%20%20%20%20%20%20%3B%0A%0A%20%20%20%20%20%20%20%20%0A%20%20%20%20%0A%20%20%20%20%0A%20%20%20%20%20%20%20%20%20%20%20%20var%20marker_331514c99c3d40c9b909601b6ec845ac%20%3D%20L.marker%28%0A%20%20%20%20%20%20%20%20%20%20%20%20%20%20%20%20%5B51.13612179430669%2C%204.2595010112280205%5D%2C%0A%20%20%20%20%20%20%20%20%20%20%20%20%20%20%20%20%7B%7D%0A%20%20%20%20%20%20%20%20%20%20%20%20%29.addTo%28marker_cluster_e8f5a78279154845b772b473819d6544%29%3B%0A%20%20%20%20%20%20%20%20%0A%20%20%20%20%0A%20%20%20%20%20%20%20%20var%20popup_bae6c6c1b6fd4f3ab3ae1d89ff0a8b87%20%3D%20L.popup%28%7B%22maxWidth%22%3A%20%22100%25%22%7D%29%3B%0A%0A%20%20%20%20%20%20%20%20%0A%20%20%20%20%20%20%20%20%20%20%20%20var%20html_c78a933fb6ee42c6b6c012d3c0acda03%20%3D%20%24%28%60%3Cdiv%20id%3D%22html_c78a933fb6ee42c6b6c012d3c0acda03%22%20style%3D%22width%3A%20100.0%25%3B%20height%3A%20100.0%25%3B%22%3EBodemlocatie%3A%20https%3A//www.dov.vlaanderen.be/data/bodemlocatie/1951-006301%3Cbr%3E%20Bodemobservatie%3A%20https%3A//www.dov.vlaanderen.be/data/bodemobservatie/2019-768938%3Cbr%3E%20Value%3A%200.951276102088167%25%3C/div%3E%60%29%5B0%5D%3B%0A%20%20%20%20%20%20%20%20%20%20%20%20popup_bae6c6c1b6fd4f3ab3ae1d89ff0a8b87.setContent%28html_c78a933fb6ee42c6b6c012d3c0acda03%29%3B%0A%20%20%20%20%20%20%20%20%0A%0A%20%20%20%20%20%20%20%20marker_331514c99c3d40c9b909601b6ec845ac.bindPopup%28popup_bae6c6c1b6fd4f3ab3ae1d89ff0a8b87%29%0A%20%20%20%20%20%20%20%20%3B%0A%0A%20%20%20%20%20%20%20%20%0A%20%20%20%20%0A%20%20%20%20%0A%20%20%20%20%20%20%20%20%20%20%20%20var%20marker_a0dfdd7349ef4dec9a66aa6c5d067275%20%3D%20L.marker%28%0A%20%20%20%20%20%20%20%20%20%20%20%20%20%20%20%20%5B51.250461362184666%2C%204.238596031118318%5D%2C%0A%20%20%20%20%20%20%20%20%20%20%20%20%20%20%20%20%7B%7D%0A%20%20%20%20%20%20%20%20%20%20%20%20%29.addTo%28marker_cluster_e8f5a78279154845b772b473819d6544%29%3B%0A%20%20%20%20%20%20%20%20%0A%20%20%20%20%0A%20%20%20%20%20%20%20%20var%20popup_88eeba1558a74424b1b4bdcc33751363%20%3D%20L.popup%28%7B%22maxWidth%22%3A%20%22100%25%22%7D%29%3B%0A%0A%20%20%20%20%20%20%20%20%0A%20%20%20%20%20%20%20%20%20%20%20%20var%20html_25dc894fbe8e4130bc99dc9c37968cb8%20%3D%20%24%28%60%3Cdiv%20id%3D%22html_25dc894fbe8e4130bc99dc9c37968cb8%22%20style%3D%22width%3A%20100.0%25%3B%20height%3A%20100.0%25%3B%22%3EBodemlocatie%3A%20https%3A//www.dov.vlaanderen.be/data/bodemlocatie/1949-006349%3Cbr%3E%20Bodemobservatie%3A%20https%3A//www.dov.vlaanderen.be/data/bodemobservatie/2019-775074%3Cbr%3E%20Value%3A%201.44624903325599%25%3C/div%3E%60%29%5B0%5D%3B%0A%20%20%20%20%20%20%20%20%20%20%20%20popup_88eeba1558a74424b1b4bdcc33751363.setContent%28html_25dc894fbe8e4130bc99dc9c37968cb8%29%3B%0A%20%20%20%20%20%20%20%20%0A%0A%20%20%20%20%20%20%20%20marker_a0dfdd7349ef4dec9a66aa6c5d067275.bindPopup%28popup_88eeba1558a74424b1b4bdcc33751363%29%0A%20%20%20%20%20%20%20%20%3B%0A%0A%20%20%20%20%20%20%20%20%0A%20%20%20%20%0A%20%20%20%20%0A%20%20%20%20%20%20%20%20%20%20%20%20var%20marker_a5c91f57ed4342668cc16c80fba6b6d9%20%3D%20L.marker%28%0A%20%20%20%20%20%20%20%20%20%20%20%20%20%20%20%20%5B50.87459603711675%2C%203.581442435720144%5D%2C%0A%20%20%20%20%20%20%20%20%20%20%20%20%20%20%20%20%7B%7D%0A%20%20%20%20%20%20%20%20%20%20%20%20%29.addTo%28marker_cluster_e8f5a78279154845b772b473819d6544%29%3B%0A%20%20%20%20%20%20%20%20%0A%20%20%20%20%0A%20%20%20%20%20%20%20%20var%20popup_37f3b440a916489ba057d8c7ef9ae8f2%20%3D%20L.popup%28%7B%22maxWidth%22%3A%20%22100%25%22%7D%29%3B%0A%0A%20%20%20%20%20%20%20%20%0A%20%20%20%20%20%20%20%20%20%20%20%20var%20html_5a26cfcb16d3427fae04f34d26496143%20%3D%20%24%28%60%3Cdiv%20id%3D%22html_5a26cfcb16d3427fae04f34d26496143%22%20style%3D%22width%3A%20100.0%25%3B%20height%3A%20100.0%25%3B%22%3EBodemlocatie%3A%20https%3A//www.dov.vlaanderen.be/data/bodemlocatie/1957-001582%3Cbr%3E%20Bodemobservatie%3A%20https%3A//www.dov.vlaanderen.be/data/bodemobservatie/2019-174682%3Cbr%3E%20Value%3A%200.982211910286156%25%3C/div%3E%60%29%5B0%5D%3B%0A%20%20%20%20%20%20%20%20%20%20%20%20popup_37f3b440a916489ba057d8c7ef9ae8f2.setContent%28html_5a26cfcb16d3427fae04f34d26496143%29%3B%0A%20%20%20%20%20%20%20%20%0A%0A%20%20%20%20%20%20%20%20marker_a5c91f57ed4342668cc16c80fba6b6d9.bindPopup%28popup_37f3b440a916489ba057d8c7ef9ae8f2%29%0A%20%20%20%20%20%20%20%20%3B%0A%0A%20%20%20%20%20%20%20%20%0A%20%20%20%20%0A%20%20%20%20%0A%20%20%20%20%20%20%20%20%20%20%20%20var%20marker_99cf950c064441529f9007caf2b045b4%20%3D%20L.marker%28%0A%20%20%20%20%20%20%20%20%20%20%20%20%20%20%20%20%5B51.00494026087907%2C%203.930974897481669%5D%2C%0A%20%20%20%20%20%20%20%20%20%20%20%20%20%20%20%20%7B%7D%0A%20%20%20%20%20%20%20%20%20%20%20%20%29.addTo%28marker_cluster_e8f5a78279154845b772b473819d6544%29%3B%0A%20%20%20%20%20%20%20%20%0A%20%20%20%20%0A%20%20%20%20%20%20%20%20var%20popup_a06ff4d54f8b4f11b37a8e162625eddc%20%3D%20L.popup%28%7B%22maxWidth%22%3A%20%22100%25%22%7D%29%3B%0A%0A%20%20%20%20%20%20%20%20%0A%20%20%20%20%20%20%20%20%20%20%20%20var%20html_9b6fac8015c7455f83152a3b50eaa3bc%20%3D%20%24%28%60%3Cdiv%20id%3D%22html_9b6fac8015c7455f83152a3b50eaa3bc%22%20style%3D%22width%3A%20100.0%25%3B%20height%3A%20100.0%25%3B%22%3EBodemlocatie%3A%20https%3A//www.dov.vlaanderen.be/data/bodemlocatie/1951-002434%3Cbr%3E%20Bodemobservatie%3A%20https%3A//www.dov.vlaanderen.be/data/bodemobservatie/2019-282108%3Cbr%3E%20Value%3A%201.18329466357309%25%3C/div%3E%60%29%5B0%5D%3B%0A%20%20%20%20%20%20%20%20%20%20%20%20popup_a06ff4d54f8b4f11b37a8e162625eddc.setContent%28html_9b6fac8015c7455f83152a3b50eaa3bc%29%3B%0A%20%20%20%20%20%20%20%20%0A%0A%20%20%20%20%20%20%20%20marker_99cf950c064441529f9007caf2b045b4.bindPopup%28popup_a06ff4d54f8b4f11b37a8e162625eddc%29%0A%20%20%20%20%20%20%20%20%3B%0A%0A%20%20%20%20%20%20%20%20%0A%20%20%20%20%0A%20%20%20%20%0A%20%20%20%20%20%20%20%20%20%20%20%20var%20marker_70e264ffaf8f4b48bdb8120376789615%20%3D%20L.marker%28%0A%20%20%20%20%20%20%20%20%20%20%20%20%20%20%20%20%5B51.275179574837296%2C%204.277906097033747%5D%2C%0A%20%20%20%20%20%20%20%20%20%20%20%20%20%20%20%20%7B%7D%0A%20%20%20%20%20%20%20%20%20%20%20%20%29.addTo%28marker_cluster_e8f5a78279154845b772b473819d6544%29%3B%0A%20%20%20%20%20%20%20%20%0A%20%20%20%20%0A%20%20%20%20%20%20%20%20var%20popup_595a2e6fedb7457d80b37a49d582cb95%20%3D%20L.popup%28%7B%22maxWidth%22%3A%20%22100%25%22%7D%29%3B%0A%0A%20%20%20%20%20%20%20%20%0A%20%20%20%20%20%20%20%20%20%20%20%20var%20html_3686bae87f3542f59643916219db755b%20%3D%20%24%28%60%3Cdiv%20id%3D%22html_3686bae87f3542f59643916219db755b%22%20style%3D%22width%3A%20100.0%25%3B%20height%3A%20100.0%25%3B%22%3EBodemlocatie%3A%20https%3A//www.dov.vlaanderen.be/data/bodemlocatie/1949-002471%3Cbr%3E%20Bodemobservatie%3A%20https%3A//www.dov.vlaanderen.be/data/bodemobservatie/2019-286684%3Cbr%3E%20Value%3A%201.12142304717711%25%3C/div%3E%60%29%5B0%5D%3B%0A%20%20%20%20%20%20%20%20%20%20%20%20popup_595a2e6fedb7457d80b37a49d582cb95.setContent%28html_3686bae87f3542f59643916219db755b%29%3B%0A%20%20%20%20%20%20%20%20%0A%0A%20%20%20%20%20%20%20%20marker_70e264ffaf8f4b48bdb8120376789615.bindPopup%28popup_595a2e6fedb7457d80b37a49d582cb95%29%0A%20%20%20%20%20%20%20%20%3B%0A%0A%20%20%20%20%20%20%20%20%0A%20%20%20%20%0A%20%20%20%20%0A%20%20%20%20%20%20%20%20%20%20%20%20var%20marker_20859a7b8a6842bf97fa8b8ebab3b9ed%20%3D%20L.marker%28%0A%20%20%20%20%20%20%20%20%20%20%20%20%20%20%20%20%5B51.150259861733424%2C%204.249035234373757%5D%2C%0A%20%20%20%20%20%20%20%20%20%20%20%20%20%20%20%20%7B%7D%0A%20%20%20%20%20%20%20%20%20%20%20%20%29.addTo%28marker_cluster_e8f5a78279154845b772b473819d6544%29%3B%0A%20%20%20%20%20%20%20%20%0A%20%20%20%20%0A%20%20%20%20%20%20%20%20var%20popup_da4e4f4411ad490b85a7f838a38cc493%20%3D%20L.popup%28%7B%22maxWidth%22%3A%20%22100%25%22%7D%29%3B%0A%0A%20%20%20%20%20%20%20%20%0A%20%20%20%20%20%20%20%20%20%20%20%20var%20html_6539500a2bd84c38866d5c319c3c9748%20%3D%20%24%28%60%3Cdiv%20id%3D%22html_6539500a2bd84c38866d5c319c3c9748%22%20style%3D%22width%3A%20100.0%25%3B%20height%3A%20100.0%25%3B%22%3EBodemlocatie%3A%20https%3A//www.dov.vlaanderen.be/data/bodemlocatie/1951-005081%3Cbr%3E%20Bodemobservatie%3A%20https%3A//www.dov.vlaanderen.be/data/bodemobservatie/2019-615612%3Cbr%3E%20Value%3A%200.726991492652745%25%3C/div%3E%60%29%5B0%5D%3B%0A%20%20%20%20%20%20%20%20%20%20%20%20popup_da4e4f4411ad490b85a7f838a38cc493.setContent%28html_6539500a2bd84c38866d5c319c3c9748%29%3B%0A%20%20%20%20%20%20%20%20%0A%0A%20%20%20%20%20%20%20%20marker_20859a7b8a6842bf97fa8b8ebab3b9ed.bindPopup%28popup_da4e4f4411ad490b85a7f838a38cc493%29%0A%20%20%20%20%20%20%20%20%3B%0A%0A%20%20%20%20%20%20%20%20%0A%20%20%20%20%0A%20%20%20%20%0A%20%20%20%20%20%20%20%20%20%20%20%20var%20marker_21c996842a1a4088a3c6920e3f4ce84a%20%3D%20L.marker%28%0A%20%20%20%20%20%20%20%20%20%20%20%20%20%20%20%20%5B51.009076913256166%2C%204.132997235381624%5D%2C%0A%20%20%20%20%20%20%20%20%20%20%20%20%20%20%20%20%7B%7D%0A%20%20%20%20%20%20%20%20%20%20%20%20%29.addTo%28marker_cluster_e8f5a78279154845b772b473819d6544%29%3B%0A%20%20%20%20%20%20%20%20%0A%20%20%20%20%0A%20%20%20%20%20%20%20%20var%20popup_ea8156141deb4c3abb11b8eb3521c530%20%3D%20L.popup%28%7B%22maxWidth%22%3A%20%22100%25%22%7D%29%3B%0A%0A%20%20%20%20%20%20%20%20%0A%20%20%20%20%20%20%20%20%20%20%20%20var%20html_100a566e93664174a84b9d26aedba43f%20%3D%20%24%28%60%3Cdiv%20id%3D%22html_100a566e93664174a84b9d26aedba43f%22%20style%3D%22width%3A%20100.0%25%3B%20height%3A%20100.0%25%3B%22%3EBodemlocatie%3A%20https%3A//www.dov.vlaanderen.be/data/bodemlocatie/1952-005732%3Cbr%3E%20Bodemobservatie%3A%20https%3A//www.dov.vlaanderen.be/data/bodemobservatie/2019-699044%3Cbr%3E%20Value%3A%200.587780355761794%25%3C/div%3E%60%29%5B0%5D%3B%0A%20%20%20%20%20%20%20%20%20%20%20%20popup_ea8156141deb4c3abb11b8eb3521c530.setContent%28html_100a566e93664174a84b9d26aedba43f%29%3B%0A%20%20%20%20%20%20%20%20%0A%0A%20%20%20%20%20%20%20%20marker_21c996842a1a4088a3c6920e3f4ce84a.bindPopup%28popup_ea8156141deb4c3abb11b8eb3521c530%29%0A%20%20%20%20%20%20%20%20%3B%0A%0A%20%20%20%20%20%20%20%20%0A%20%20%20%20%0A%20%20%20%20%0A%20%20%20%20%20%20%20%20%20%20%20%20var%20marker_1860c89f09cd44b2b49e9b2d3d4e2ed4%20%3D%20L.marker%28%0A%20%20%20%20%20%20%20%20%20%20%20%20%20%20%20%20%5B51.20845516580617%2C%204.016156287435923%5D%2C%0A%20%20%20%20%20%20%20%20%20%20%20%20%20%20%20%20%7B%7D%0A%20%20%20%20%20%20%20%20%20%20%20%20%29.addTo%28marker_cluster_e8f5a78279154845b772b473819d6544%29%3B%0A%20%20%20%20%20%20%20%20%0A%20%20%20%20%0A%20%20%20%20%20%20%20%20var%20popup_30421165e72740189932e36ab10d882e%20%3D%20L.popup%28%7B%22maxWidth%22%3A%20%22100%25%22%7D%29%3B%0A%0A%20%20%20%20%20%20%20%20%0A%20%20%20%20%20%20%20%20%20%20%20%20var%20html_967ebb1bb06f45c396566232ec3b2ba7%20%3D%20%24%28%60%3Cdiv%20id%3D%22html_967ebb1bb06f45c396566232ec3b2ba7%22%20style%3D%22width%3A%20100.0%25%3B%20height%3A%20100.0%25%3B%22%3EBodemlocatie%3A%20https%3A//www.dov.vlaanderen.be/data/bodemlocatie/1953-006239%3Cbr%3E%20Bodemobservatie%3A%20https%3A//www.dov.vlaanderen.be/data/bodemobservatie/2019-761219%3Cbr%3E%20Value%3A%201.50812064965197%25%3C/div%3E%60%29%5B0%5D%3B%0A%20%20%20%20%20%20%20%20%20%20%20%20popup_30421165e72740189932e36ab10d882e.setContent%28html_967ebb1bb06f45c396566232ec3b2ba7%29%3B%0A%20%20%20%20%20%20%20%20%0A%0A%20%20%20%20%20%20%20%20marker_1860c89f09cd44b2b49e9b2d3d4e2ed4.bindPopup%28popup_30421165e72740189932e36ab10d882e%29%0A%20%20%20%20%20%20%20%20%3B%0A%0A%20%20%20%20%20%20%20%20%0A%20%20%20%20%0A%20%20%20%20%0A%20%20%20%20%20%20%20%20%20%20%20%20var%20marker_76c243609c4a444d9ad7aae594ce39a8%20%3D%20L.marker%28%0A%20%20%20%20%20%20%20%20%20%20%20%20%20%20%20%20%5B50.91216150136951%2C%203.5782675291259123%5D%2C%0A%20%20%20%20%20%20%20%20%20%20%20%20%20%20%20%20%7B%7D%0A%20%20%20%20%20%20%20%20%20%20%20%20%29.addTo%28marker_cluster_e8f5a78279154845b772b473819d6544%29%3B%0A%20%20%20%20%20%20%20%20%0A%20%20%20%20%0A%20%20%20%20%20%20%20%20var%20popup_7b35b6171de84d88aab4b7424a9c3d9a%20%3D%20L.popup%28%7B%22maxWidth%22%3A%20%22100%25%22%7D%29%3B%0A%0A%20%20%20%20%20%20%20%20%0A%20%20%20%20%20%20%20%20%20%20%20%20var%20html_e746395c7edc4a41b6bede6e5a612b2a%20%3D%20%24%28%60%3Cdiv%20id%3D%22html_e746395c7edc4a41b6bede6e5a612b2a%22%20style%3D%22width%3A%20100.0%25%3B%20height%3A%20100.0%25%3B%22%3EBodemlocatie%3A%20https%3A//www.dov.vlaanderen.be/data/bodemlocatie/1962-006287%3Cbr%3E%20Bodemobservatie%3A%20https%3A//www.dov.vlaanderen.be/data/bodemobservatie/2019-767236%3Cbr%3E%20Value%3A%200.94%25%3C/div%3E%60%29%5B0%5D%3B%0A%20%20%20%20%20%20%20%20%20%20%20%20popup_7b35b6171de84d88aab4b7424a9c3d9a.setContent%28html_e746395c7edc4a41b6bede6e5a612b2a%29%3B%0A%20%20%20%20%20%20%20%20%0A%0A%20%20%20%20%20%20%20%20marker_76c243609c4a444d9ad7aae594ce39a8.bindPopup%28popup_7b35b6171de84d88aab4b7424a9c3d9a%29%0A%20%20%20%20%20%20%20%20%3B%0A%0A%20%20%20%20%20%20%20%20%0A%20%20%20%20%0A%20%20%20%20%0A%20%20%20%20%20%20%20%20%20%20%20%20var%20marker_446b783aa0984b68a348faf02def27ff%20%3D%20L.marker%28%0A%20%20%20%20%20%20%20%20%20%20%20%20%20%20%20%20%5B50.95481280236707%2C%204.148853439623729%5D%2C%0A%20%20%20%20%20%20%20%20%20%20%20%20%20%20%20%20%7B%7D%0A%20%20%20%20%20%20%20%20%20%20%20%20%29.addTo%28marker_cluster_e8f5a78279154845b772b473819d6544%29%3B%0A%20%20%20%20%20%20%20%20%0A%20%20%20%20%0A%20%20%20%20%20%20%20%20var%20popup_ebea1efc161845b89d385c5a48ce0679%20%3D%20L.popup%28%7B%22maxWidth%22%3A%20%22100%25%22%7D%29%3B%0A%0A%20%20%20%20%20%20%20%20%0A%20%20%20%20%20%20%20%20%20%20%20%20var%20html_6d65661c931446d6b208b64921a72f3a%20%3D%20%24%28%60%3Cdiv%20id%3D%22html_6d65661c931446d6b208b64921a72f3a%22%20style%3D%22width%3A%20100.0%25%3B%20height%3A%20100.0%25%3B%22%3EBodemlocatie%3A%20https%3A//www.dov.vlaanderen.be/data/bodemlocatie/1950-006809%3Cbr%3E%20Bodemobservatie%3A%20https%3A//www.dov.vlaanderen.be/data/bodemobservatie/2019-832943%3Cbr%3E%20Value%3A%201.12142304717711%25%3C/div%3E%60%29%5B0%5D%3B%0A%20%20%20%20%20%20%20%20%20%20%20%20popup_ebea1efc161845b89d385c5a48ce0679.setContent%28html_6d65661c931446d6b208b64921a72f3a%29%3B%0A%20%20%20%20%20%20%20%20%0A%0A%20%20%20%20%20%20%20%20marker_446b783aa0984b68a348faf02def27ff.bindPopup%28popup_ebea1efc161845b89d385c5a48ce0679%29%0A%20%20%20%20%20%20%20%20%3B%0A%0A%20%20%20%20%20%20%20%20%0A%20%20%20%20%0A%20%20%20%20%0A%20%20%20%20%20%20%20%20%20%20%20%20var%20marker_197778b2a90a43748190f8660081d0e6%20%3D%20L.marker%28%0A%20%20%20%20%20%20%20%20%20%20%20%20%20%20%20%20%5B50.97021670238278%2C%203.763058816315541%5D%2C%0A%20%20%20%20%20%20%20%20%20%20%20%20%20%20%20%20%7B%7D%0A%20%20%20%20%20%20%20%20%20%20%20%20%29.addTo%28marker_cluster_e8f5a78279154845b772b473819d6544%29%3B%0A%20%20%20%20%20%20%20%20%0A%20%20%20%20%0A%20%20%20%20%20%20%20%20var%20popup_2245927db2404695bcec12c85b3e0049%20%3D%20L.popup%28%7B%22maxWidth%22%3A%20%22100%25%22%7D%29%3B%0A%0A%20%20%20%20%20%20%20%20%0A%20%20%20%20%20%20%20%20%20%20%20%20var%20html_eacb5935526542049177f12b65839f90%20%3D%20%24%28%60%3Cdiv%20id%3D%22html_eacb5935526542049177f12b65839f90%22%20style%3D%22width%3A%20100.0%25%3B%20height%3A%20100.0%25%3B%22%3EBodemlocatie%3A%20https%3A//www.dov.vlaanderen.be/data/bodemlocatie/1958-007389%3Cbr%3E%20Bodemobservatie%3A%20https%3A//www.dov.vlaanderen.be/data/bodemobservatie/2019-909693%3Cbr%3E%20Value%3A%200.959010054137664%25%3C/div%3E%60%29%5B0%5D%3B%0A%20%20%20%20%20%20%20%20%20%20%20%20popup_2245927db2404695bcec12c85b3e0049.setContent%28html_eacb5935526542049177f12b65839f90%29%3B%0A%20%20%20%20%20%20%20%20%0A%0A%20%20%20%20%20%20%20%20marker_197778b2a90a43748190f8660081d0e6.bindPopup%28popup_2245927db2404695bcec12c85b3e0049%29%0A%20%20%20%20%20%20%20%20%3B%0A%0A%20%20%20%20%20%20%20%20%0A%20%20%20%20%0A%20%20%20%20%0A%20%20%20%20%20%20%20%20%20%20%20%20var%20marker_8d14599414f14e4d977ac1ff61cd9a40%20%3D%20L.marker%28%0A%20%20%20%20%20%20%20%20%20%20%20%20%20%20%20%20%5B51.19828708464983%2C%204.259771205290292%5D%2C%0A%20%20%20%20%20%20%20%20%20%20%20%20%20%20%20%20%7B%7D%0A%20%20%20%20%20%20%20%20%20%20%20%20%29.addTo%28marker_cluster_e8f5a78279154845b772b473819d6544%29%3B%0A%20%20%20%20%20%20%20%20%0A%20%20%20%20%0A%20%20%20%20%20%20%20%20var%20popup_e52d92d56ff641b0935a424eb10a5f0e%20%3D%20L.popup%28%7B%22maxWidth%22%3A%20%22100%25%22%7D%29%3B%0A%0A%20%20%20%20%20%20%20%20%0A%20%20%20%20%20%20%20%20%20%20%20%20var%20html_f073b1316ed442ab94feb7bc09a5f134%20%3D%20%24%28%60%3Cdiv%20id%3D%22html_f073b1316ed442ab94feb7bc09a5f134%22%20style%3D%22width%3A%20100.0%25%3B%20height%3A%20100.0%25%3B%22%3EBodemlocatie%3A%20https%3A//www.dov.vlaanderen.be/data/bodemlocatie/1949-007439%3Cbr%3E%20Bodemobservatie%3A%20https%3A//www.dov.vlaanderen.be/data/bodemobservatie/2019-916352%3Cbr%3E%20Value%3A%201.00541376643465%25%3C/div%3E%60%29%5B0%5D%3B%0A%20%20%20%20%20%20%20%20%20%20%20%20popup_e52d92d56ff641b0935a424eb10a5f0e.setContent%28html_f073b1316ed442ab94feb7bc09a5f134%29%3B%0A%20%20%20%20%20%20%20%20%0A%0A%20%20%20%20%20%20%20%20marker_8d14599414f14e4d977ac1ff61cd9a40.bindPopup%28popup_e52d92d56ff641b0935a424eb10a5f0e%29%0A%20%20%20%20%20%20%20%20%3B%0A%0A%20%20%20%20%20%20%20%20%0A%20%20%20%20%0A%20%20%20%20%0A%20%20%20%20%20%20%20%20%20%20%20%20var%20marker_5c86cd68d5a04872918b2a69fc6992db%20%3D%20L.marker%28%0A%20%20%20%20%20%20%20%20%20%20%20%20%20%20%20%20%5B51.044194874536615%2C%203.7622024009985644%5D%2C%0A%20%20%20%20%20%20%20%20%20%20%20%20%20%20%20%20%7B%7D%0A%20%20%20%20%20%20%20%20%20%20%20%20%29.addTo%28marker_cluster_e8f5a78279154845b772b473819d6544%29%3B%0A%20%20%20%20%20%20%20%20%0A%20%20%20%20%0A%20%20%20%20%20%20%20%20var%20popup_ad09d6e8e6c24de1a5c7733027678f12%20%3D%20L.popup%28%7B%22maxWidth%22%3A%20%22100%25%22%7D%29%3B%0A%0A%20%20%20%20%20%20%20%20%0A%20%20%20%20%20%20%20%20%20%20%20%20var%20html_4dfdf7026ebe4401bac26e98f27973ad%20%3D%20%24%28%60%3Cdiv%20id%3D%22html_4dfdf7026ebe4401bac26e98f27973ad%22%20style%3D%22width%3A%20100.0%25%3B%20height%3A%20100.0%25%3B%22%3EBodemlocatie%3A%20https%3A//www.dov.vlaanderen.be/data/bodemlocatie/1950-007622%3Cbr%3E%20Bodemobservatie%3A%20https%3A//www.dov.vlaanderen.be/data/bodemobservatie/2019-939195%3Cbr%3E%20Value%3A%201.52358855375097%25%3C/div%3E%60%29%5B0%5D%3B%0A%20%20%20%20%20%20%20%20%20%20%20%20popup_ad09d6e8e6c24de1a5c7733027678f12.setContent%28html_4dfdf7026ebe4401bac26e98f27973ad%29%3B%0A%20%20%20%20%20%20%20%20%0A%0A%20%20%20%20%20%20%20%20marker_5c86cd68d5a04872918b2a69fc6992db.bindPopup%28popup_ad09d6e8e6c24de1a5c7733027678f12%29%0A%20%20%20%20%20%20%20%20%3B%0A%0A%20%20%20%20%20%20%20%20%0A%20%20%20%20%0A%20%20%20%20%0A%20%20%20%20%20%20%20%20%20%20%20%20var%20marker_2cc8c737efc3433ebba6f657e7d83628%20%3D%20L.marker%28%0A%20%20%20%20%20%20%20%20%20%20%20%20%20%20%20%20%5B51.28100063594815%2C%203.587634368992211%5D%2C%0A%20%20%20%20%20%20%20%20%20%20%20%20%20%20%20%20%7B%7D%0A%20%20%20%20%20%20%20%20%20%20%20%20%29.addTo%28marker_cluster_e8f5a78279154845b772b473819d6544%29%3B%0A%20%20%20%20%20%20%20%20%0A%20%20%20%20%0A%20%20%20%20%20%20%20%20var%20popup_582f4d9d832f4a109a28571be9c8d4ec%20%3D%20L.popup%28%7B%22maxWidth%22%3A%20%22100%25%22%7D%29%3B%0A%0A%20%20%20%20%20%20%20%20%0A%20%20%20%20%20%20%20%20%20%20%20%20var%20html_ab58597fad854d738879c49f8295fe30%20%3D%20%24%28%60%3Cdiv%20id%3D%22html_ab58597fad854d738879c49f8295fe30%22%20style%3D%22width%3A%20100.0%25%3B%20height%3A%20100.0%25%3B%22%3EBodemlocatie%3A%20https%3A//www.dov.vlaanderen.be/data/bodemlocatie/1962-000872%3Cbr%3E%20Bodemobservatie%3A%20https%3A//www.dov.vlaanderen.be/data/bodemobservatie/2019-082265%3Cbr%3E%20Value%3A%201.155%25%3C/div%3E%60%29%5B0%5D%3B%0A%20%20%20%20%20%20%20%20%20%20%20%20popup_582f4d9d832f4a109a28571be9c8d4ec.setContent%28html_ab58597fad854d738879c49f8295fe30%29%3B%0A%20%20%20%20%20%20%20%20%0A%0A%20%20%20%20%20%20%20%20marker_2cc8c737efc3433ebba6f657e7d83628.bindPopup%28popup_582f4d9d832f4a109a28571be9c8d4ec%29%0A%20%20%20%20%20%20%20%20%3B%0A%0A%20%20%20%20%20%20%20%20%0A%20%20%20%20%0A%20%20%20%20%0A%20%20%20%20%20%20%20%20%20%20%20%20var%20marker_9f019c7334534e159286ed9603529596%20%3D%20L.marker%28%0A%20%20%20%20%20%20%20%20%20%20%20%20%20%20%20%20%5B51.00810579662209%2C%203.9614371346845374%5D%2C%0A%20%20%20%20%20%20%20%20%20%20%20%20%20%20%20%20%7B%7D%0A%20%20%20%20%20%20%20%20%20%20%20%20%29.addTo%28marker_cluster_e8f5a78279154845b772b473819d6544%29%3B%0A%20%20%20%20%20%20%20%20%0A%20%20%20%20%0A%20%20%20%20%20%20%20%20var%20popup_3c401c6c73ab4b05a698cf192f3624b2%20%3D%20L.popup%28%7B%22maxWidth%22%3A%20%22100%25%22%7D%29%3B%0A%0A%20%20%20%20%20%20%20%20%0A%20%20%20%20%20%20%20%20%20%20%20%20var%20html_aa416194b31c4e258f827ba23541d176%20%3D%20%24%28%60%3Cdiv%20id%3D%22html_aa416194b31c4e258f827ba23541d176%22%20style%3D%22width%3A%20100.0%25%3B%20height%3A%20100.0%25%3B%22%3EBodemlocatie%3A%20https%3A//www.dov.vlaanderen.be/data/bodemlocatie/1951-001814%3Cbr%3E%20Bodemobservatie%3A%20https%3A//www.dov.vlaanderen.be/data/bodemobservatie/2019-203744%3Cbr%3E%20Value%3A%201.12142304717711%25%3C/div%3E%60%29%5B0%5D%3B%0A%20%20%20%20%20%20%20%20%20%20%20%20popup_3c401c6c73ab4b05a698cf192f3624b2.setContent%28html_aa416194b31c4e258f827ba23541d176%29%3B%0A%20%20%20%20%20%20%20%20%0A%0A%20%20%20%20%20%20%20%20marker_9f019c7334534e159286ed9603529596.bindPopup%28popup_3c401c6c73ab4b05a698cf192f3624b2%29%0A%20%20%20%20%20%20%20%20%3B%0A%0A%20%20%20%20%20%20%20%20%0A%20%20%20%20%0A%20%20%20%20%0A%20%20%20%20%20%20%20%20%20%20%20%20var%20marker_097e0e790a5248aa8619d65cdf47dab3%20%3D%20L.marker%28%0A%20%20%20%20%20%20%20%20%20%20%20%20%20%20%20%20%5B50.973079216970476%2C%204.074731964110595%5D%2C%0A%20%20%20%20%20%20%20%20%20%20%20%20%20%20%20%20%7B%7D%0A%20%20%20%20%20%20%20%20%20%20%20%20%29.addTo%28marker_cluster_e8f5a78279154845b772b473819d6544%29%3B%0A%20%20%20%20%20%20%20%20%0A%20%20%20%20%0A%20%20%20%20%20%20%20%20var%20popup_1f683e4305b54517af5e4686ad18dfb4%20%3D%20L.popup%28%7B%22maxWidth%22%3A%20%22100%25%22%7D%29%3B%0A%0A%20%20%20%20%20%20%20%20%0A%20%20%20%20%20%20%20%20%20%20%20%20var%20html_41dac5a6f2e1431faeb05c9223e635b9%20%3D%20%24%28%60%3Cdiv%20id%3D%22html_41dac5a6f2e1431faeb05c9223e635b9%22%20style%3D%22width%3A%20100.0%25%3B%20height%3A%20100.0%25%3B%22%3EBodemlocatie%3A%20https%3A//www.dov.vlaanderen.be/data/bodemlocatie/1960-002666%3Cbr%3E%20Bodemobservatie%3A%20https%3A//www.dov.vlaanderen.be/data/bodemobservatie/2019-312147%3Cbr%3E%20Value%3A%201.26%25%3C/div%3E%60%29%5B0%5D%3B%0A%20%20%20%20%20%20%20%20%20%20%20%20popup_1f683e4305b54517af5e4686ad18dfb4.setContent%28html_41dac5a6f2e1431faeb05c9223e635b9%29%3B%0A%20%20%20%20%20%20%20%20%0A%0A%20%20%20%20%20%20%20%20marker_097e0e790a5248aa8619d65cdf47dab3.bindPopup%28popup_1f683e4305b54517af5e4686ad18dfb4%29%0A%20%20%20%20%20%20%20%20%3B%0A%0A%20%20%20%20%20%20%20%20%0A%20%20%20%20%0A%20%20%20%20%0A%20%20%20%20%20%20%20%20%20%20%20%20var%20marker_4ff14e0d5d8d4b0c9040944f90d9f59e%20%3D%20L.marker%28%0A%20%20%20%20%20%20%20%20%20%20%20%20%20%20%20%20%5B51.17982096536045%2C%203.76733482948042%5D%2C%0A%20%20%20%20%20%20%20%20%20%20%20%20%20%20%20%20%7B%7D%0A%20%20%20%20%20%20%20%20%20%20%20%20%29.addTo%28marker_cluster_e8f5a78279154845b772b473819d6544%29%3B%0A%20%20%20%20%20%20%20%20%0A%20%20%20%20%0A%20%20%20%20%20%20%20%20var%20popup_1ac49c7126a04435a91051dbc41ee1b0%20%3D%20L.popup%28%7B%22maxWidth%22%3A%20%22100%25%22%7D%29%3B%0A%0A%20%20%20%20%20%20%20%20%0A%20%20%20%20%20%20%20%20%20%20%20%20var%20html_122bbbfd7ec2470da82d48659e267d00%20%3D%20%24%28%60%3Cdiv%20id%3D%22html_122bbbfd7ec2470da82d48659e267d00%22%20style%3D%22width%3A%20100.0%25%3B%20height%3A%20100.0%25%3B%22%3EBodemlocatie%3A%20https%3A//www.dov.vlaanderen.be/data/bodemlocatie/1952-005175%3Cbr%3E%20Bodemobservatie%3A%20https%3A//www.dov.vlaanderen.be/data/bodemobservatie/2019-627625%3Cbr%3E%20Value%3A%201.7092034029389%25%3C/div%3E%60%29%5B0%5D%3B%0A%20%20%20%20%20%20%20%20%20%20%20%20popup_1ac49c7126a04435a91051dbc41ee1b0.setContent%28html_122bbbfd7ec2470da82d48659e267d00%29%3B%0A%20%20%20%20%20%20%20%20%0A%0A%20%20%20%20%20%20%20%20marker_4ff14e0d5d8d4b0c9040944f90d9f59e.bindPopup%28popup_1ac49c7126a04435a91051dbc41ee1b0%29%0A%20%20%20%20%20%20%20%20%3B%0A%0A%20%20%20%20%20%20%20%20%0A%20%20%20%20%0A%20%20%20%20%0A%20%20%20%20%20%20%20%20%20%20%20%20var%20marker_96a37a0b9c2a47cc9c8040e73b5e83c5%20%3D%20L.marker%28%0A%20%20%20%20%20%20%20%20%20%20%20%20%20%20%20%20%5B51.25285377555794%2C%203.5830781446319815%5D%2C%0A%20%20%20%20%20%20%20%20%20%20%20%20%20%20%20%20%7B%7D%0A%20%20%20%20%20%20%20%20%20%20%20%20%29.addTo%28marker_cluster_e8f5a78279154845b772b473819d6544%29%3B%0A%20%20%20%20%20%20%20%20%0A%20%20%20%20%0A%20%20%20%20%20%20%20%20var%20popup_b5887aab39114b99a0978f585f9618bc%20%3D%20L.popup%28%7B%22maxWidth%22%3A%20%22100%25%22%7D%29%3B%0A%0A%20%20%20%20%20%20%20%20%0A%20%20%20%20%20%20%20%20%20%20%20%20var%20html_16dd6ebbfc434931a11081bfb628ddd6%20%3D%20%24%28%60%3Cdiv%20id%3D%22html_16dd6ebbfc434931a11081bfb628ddd6%22%20style%3D%22width%3A%20100.0%25%3B%20height%3A%20100.0%25%3B%22%3EBodemlocatie%3A%20https%3A//www.dov.vlaanderen.be/data/bodemlocatie/1962-005685%3Cbr%3E%20Bodemobservatie%3A%20https%3A//www.dov.vlaanderen.be/data/bodemobservatie/2019-692805%3Cbr%3E%20Value%3A%201.12%25%3C/div%3E%60%29%5B0%5D%3B%0A%20%20%20%20%20%20%20%20%20%20%20%20popup_b5887aab39114b99a0978f585f9618bc.setContent%28html_16dd6ebbfc434931a11081bfb628ddd6%29%3B%0A%20%20%20%20%20%20%20%20%0A%0A%20%20%20%20%20%20%20%20marker_96a37a0b9c2a47cc9c8040e73b5e83c5.bindPopup%28popup_b5887aab39114b99a0978f585f9618bc%29%0A%20%20%20%20%20%20%20%20%3B%0A%0A%20%20%20%20%20%20%20%20%0A%20%20%20%20%0A%20%20%20%20%0A%20%20%20%20%20%20%20%20%20%20%20%20var%20marker_8441abae98f945b6b3f20611689b09ad%20%3D%20L.marker%28%0A%20%20%20%20%20%20%20%20%20%20%20%20%20%20%20%20%5B50.92279549437917%2C%203.5428150120223783%5D%2C%0A%20%20%20%20%20%20%20%20%20%20%20%20%20%20%20%20%7B%7D%0A%20%20%20%20%20%20%20%20%20%20%20%20%29.addTo%28marker_cluster_e8f5a78279154845b772b473819d6544%29%3B%0A%20%20%20%20%20%20%20%20%0A%20%20%20%20%0A%20%20%20%20%20%20%20%20var%20popup_f6740f304bb44379851a4f788d68d665%20%3D%20L.popup%28%7B%22maxWidth%22%3A%20%22100%25%22%7D%29%3B%0A%0A%20%20%20%20%20%20%20%20%0A%20%20%20%20%20%20%20%20%20%20%20%20var%20html_e793476148cd42fb838af61d8760a62e%20%3D%20%24%28%60%3Cdiv%20id%3D%22html_e793476148cd42fb838af61d8760a62e%22%20style%3D%22width%3A%20100.0%25%3B%20height%3A%20100.0%25%3B%22%3EBodemlocatie%3A%20https%3A//www.dov.vlaanderen.be/data/bodemlocatie/1962-005777%3Cbr%3E%20Bodemobservatie%3A%20https%3A//www.dov.vlaanderen.be/data/bodemobservatie/2019-704362%3Cbr%3E%20Value%3A%200.705%25%3C/div%3E%60%29%5B0%5D%3B%0A%20%20%20%20%20%20%20%20%20%20%20%20popup_f6740f304bb44379851a4f788d68d665.setContent%28html_e793476148cd42fb838af61d8760a62e%29%3B%0A%20%20%20%20%20%20%20%20%0A%0A%20%20%20%20%20%20%20%20marker_8441abae98f945b6b3f20611689b09ad.bindPopup%28popup_f6740f304bb44379851a4f788d68d665%29%0A%20%20%20%20%20%20%20%20%3B%0A%0A%20%20%20%20%20%20%20%20%0A%20%20%20%20%0A%20%20%20%20%0A%20%20%20%20%20%20%20%20%20%20%20%20var%20marker_79bd68d5dd524ec8b7290fb78e533d11%20%3D%20L.marker%28%0A%20%20%20%20%20%20%20%20%20%20%20%20%20%20%20%20%5B50.98155637250529%2C%203.617143723653324%5D%2C%0A%20%20%20%20%20%20%20%20%20%20%20%20%20%20%20%20%7B%7D%0A%20%20%20%20%20%20%20%20%20%20%20%20%29.addTo%28marker_cluster_e8f5a78279154845b772b473819d6544%29%3B%0A%20%20%20%20%20%20%20%20%0A%20%20%20%20%0A%20%20%20%20%20%20%20%20var%20popup_8fe0c0eb1b754cdab28506be75a49389%20%3D%20L.popup%28%7B%22maxWidth%22%3A%20%22100%25%22%7D%29%3B%0A%0A%20%20%20%20%20%20%20%20%0A%20%20%20%20%20%20%20%20%20%20%20%20var%20html_c5f729515a1544c19f6533cef4793abf%20%3D%20%24%28%60%3Cdiv%20id%3D%22html_c5f729515a1544c19f6533cef4793abf%22%20style%3D%22width%3A%20100.0%25%3B%20height%3A%20100.0%25%3B%22%3EBodemlocatie%3A%20https%3A//www.dov.vlaanderen.be/data/bodemlocatie/1962-007415%3Cbr%3E%20Bodemobservatie%3A%20https%3A//www.dov.vlaanderen.be/data/bodemobservatie/2019-913255%3Cbr%3E%20Value%3A%201.98%25%3C/div%3E%60%29%5B0%5D%3B%0A%20%20%20%20%20%20%20%20%20%20%20%20popup_8fe0c0eb1b754cdab28506be75a49389.setContent%28html_c5f729515a1544c19f6533cef4793abf%29%3B%0A%20%20%20%20%20%20%20%20%0A%0A%20%20%20%20%20%20%20%20marker_79bd68d5dd524ec8b7290fb78e533d11.bindPopup%28popup_8fe0c0eb1b754cdab28506be75a49389%29%0A%20%20%20%20%20%20%20%20%3B%0A%0A%20%20%20%20%20%20%20%20%0A%20%20%20%20%0A%20%20%20%20%0A%20%20%20%20%20%20%20%20%20%20%20%20var%20marker_19617caa30e548ed8b11ca5aa53568c2%20%3D%20L.marker%28%0A%20%20%20%20%20%20%20%20%20%20%20%20%20%20%20%20%5B51.19479328704196%2C%204.262783427169618%5D%2C%0A%20%20%20%20%20%20%20%20%20%20%20%20%20%20%20%20%7B%7D%0A%20%20%20%20%20%20%20%20%20%20%20%20%29.addTo%28marker_cluster_e8f5a78279154845b772b473819d6544%29%3B%0A%20%20%20%20%20%20%20%20%0A%20%20%20%20%0A%20%20%20%20%20%20%20%20var%20popup_3fd30e97dd2d4aea91c8002f6bc133ca%20%3D%20L.popup%28%7B%22maxWidth%22%3A%20%22100%25%22%7D%29%3B%0A%0A%20%20%20%20%20%20%20%20%0A%20%20%20%20%20%20%20%20%20%20%20%20var%20html_e2b81c062851454a83d0736205c08c4f%20%3D%20%24%28%60%3Cdiv%20id%3D%22html_e2b81c062851454a83d0736205c08c4f%22%20style%3D%22width%3A%20100.0%25%3B%20height%3A%20100.0%25%3B%22%3EBodemlocatie%3A%20https%3A//www.dov.vlaanderen.be/data/bodemlocatie/1949-007447%3Cbr%3E%20Bodemobservatie%3A%20https%3A//www.dov.vlaanderen.be/data/bodemobservatie/2019-917322%3Cbr%3E%20Value%3A%201.06728538283063%25%3C/div%3E%60%29%5B0%5D%3B%0A%20%20%20%20%20%20%20%20%20%20%20%20popup_3fd30e97dd2d4aea91c8002f6bc133ca.setContent%28html_e2b81c062851454a83d0736205c08c4f%29%3B%0A%20%20%20%20%20%20%20%20%0A%0A%20%20%20%20%20%20%20%20marker_19617caa30e548ed8b11ca5aa53568c2.bindPopup%28popup_3fd30e97dd2d4aea91c8002f6bc133ca%29%0A%20%20%20%20%20%20%20%20%3B%0A%0A%20%20%20%20%20%20%20%20%0A%20%20%20%20%0A%20%20%20%20%0A%20%20%20%20%20%20%20%20%20%20%20%20var%20marker_63b32eedeafe4503891b0d401c291ca0%20%3D%20L.marker%28%0A%20%20%20%20%20%20%20%20%20%20%20%20%20%20%20%20%5B50.95283516070062%2C%203.9925144529099086%5D%2C%0A%20%20%20%20%20%20%20%20%20%20%20%20%20%20%20%20%7B%7D%0A%20%20%20%20%20%20%20%20%20%20%20%20%29.addTo%28marker_cluster_e8f5a78279154845b772b473819d6544%29%3B%0A%20%20%20%20%20%20%20%20%0A%20%20%20%20%0A%20%20%20%20%20%20%20%20var%20popup_2512f5c7bd0f486e9f5279539abf25a4%20%3D%20L.popup%28%7B%22maxWidth%22%3A%20%22100%25%22%7D%29%3B%0A%0A%20%20%20%20%20%20%20%20%0A%20%20%20%20%20%20%20%20%20%20%20%20var%20html_9aac7044ae5946b191db3b1cc4504708%20%3D%20%24%28%60%3Cdiv%20id%3D%22html_9aac7044ae5946b191db3b1cc4504708%22%20style%3D%22width%3A%20100.0%25%3B%20height%3A%20100.0%25%3B%22%3EBodemlocatie%3A%20https%3A//www.dov.vlaanderen.be/data/bodemlocatie/1960-007524%3Cbr%3E%20Bodemobservatie%3A%20https%3A//www.dov.vlaanderen.be/data/bodemobservatie/2019-927520%3Cbr%3E%20Value%3A%201.18%25%3C/div%3E%60%29%5B0%5D%3B%0A%20%20%20%20%20%20%20%20%20%20%20%20popup_2512f5c7bd0f486e9f5279539abf25a4.setContent%28html_9aac7044ae5946b191db3b1cc4504708%29%3B%0A%20%20%20%20%20%20%20%20%0A%0A%20%20%20%20%20%20%20%20marker_63b32eedeafe4503891b0d401c291ca0.bindPopup%28popup_2512f5c7bd0f486e9f5279539abf25a4%29%0A%20%20%20%20%20%20%20%20%3B%0A%0A%20%20%20%20%20%20%20%20%0A%20%20%20%20%0A%20%20%20%20%0A%20%20%20%20%20%20%20%20%20%20%20%20var%20marker_cc7735fbbf30400d8fdc5dd8e731bfa2%20%3D%20L.marker%28%0A%20%20%20%20%20%20%20%20%20%20%20%20%20%20%20%20%5B51.2064009696628%2C%204.290659471192608%5D%2C%0A%20%20%20%20%20%20%20%20%20%20%20%20%20%20%20%20%7B%7D%0A%20%20%20%20%20%20%20%20%20%20%20%20%29.addTo%28marker_cluster_e8f5a78279154845b772b473819d6544%29%3B%0A%20%20%20%20%20%20%20%20%0A%20%20%20%20%0A%20%20%20%20%20%20%20%20var%20popup_58b0ab4292c44c5693bf191e6ef2f803%20%3D%20L.popup%28%7B%22maxWidth%22%3A%20%22100%25%22%7D%29%3B%0A%0A%20%20%20%20%20%20%20%20%0A%20%20%20%20%20%20%20%20%20%20%20%20var%20html_309c5548a8464106971330140aba6fea%20%3D%20%24%28%60%3Cdiv%20id%3D%22html_309c5548a8464106971330140aba6fea%22%20style%3D%22width%3A%20100.0%25%3B%20height%3A%20100.0%25%3B%22%3EBodemlocatie%3A%20https%3A//www.dov.vlaanderen.be/data/bodemlocatie/1949-001136%3Cbr%3E%20Bodemobservatie%3A%20https%3A//www.dov.vlaanderen.be/data/bodemobservatie/2019-118302%3Cbr%3E%20Value%3A%200.989945862335654%25%3C/div%3E%60%29%5B0%5D%3B%0A%20%20%20%20%20%20%20%20%20%20%20%20popup_58b0ab4292c44c5693bf191e6ef2f803.setContent%28html_309c5548a8464106971330140aba6fea%29%3B%0A%20%20%20%20%20%20%20%20%0A%0A%20%20%20%20%20%20%20%20marker_cc7735fbbf30400d8fdc5dd8e731bfa2.bindPopup%28popup_58b0ab4292c44c5693bf191e6ef2f803%29%0A%20%20%20%20%20%20%20%20%3B%0A%0A%20%20%20%20%20%20%20%20%0A%20%20%20%20%0A%20%20%20%20%0A%20%20%20%20%20%20%20%20%20%20%20%20var%20marker_e575f0c0d07b4813ab86e5a86acbfb54%20%3D%20L.marker%28%0A%20%20%20%20%20%20%20%20%20%20%20%20%20%20%20%20%5B51.20940503225519%2C%204.2328430076685555%5D%2C%0A%20%20%20%20%20%20%20%20%20%20%20%20%20%20%20%20%7B%7D%0A%20%20%20%20%20%20%20%20%20%20%20%20%29.addTo%28marker_cluster_e8f5a78279154845b772b473819d6544%29%3B%0A%20%20%20%20%20%20%20%20%0A%20%20%20%20%0A%20%20%20%20%20%20%20%20var%20popup_8ed040605c244fc094062912ce5d90cd%20%3D%20L.popup%28%7B%22maxWidth%22%3A%20%22100%25%22%7D%29%3B%0A%0A%20%20%20%20%20%20%20%20%0A%20%20%20%20%20%20%20%20%20%20%20%20var%20html_e9a22de64cf5488ab0638dfd21889f7e%20%3D%20%24%28%60%3Cdiv%20id%3D%22html_e9a22de64cf5488ab0638dfd21889f7e%22%20style%3D%22width%3A%20100.0%25%3B%20height%3A%20100.0%25%3B%22%3EBodemlocatie%3A%20https%3A//www.dov.vlaanderen.be/data/bodemlocatie/1949-001617%3Cbr%3E%20Bodemobservatie%3A%20https%3A//www.dov.vlaanderen.be/data/bodemobservatie/2019-177864%3Cbr%3E%20Value%3A%201.44624903325599%25%3C/div%3E%60%29%5B0%5D%3B%0A%20%20%20%20%20%20%20%20%20%20%20%20popup_8ed040605c244fc094062912ce5d90cd.setContent%28html_e9a22de64cf5488ab0638dfd21889f7e%29%3B%0A%20%20%20%20%20%20%20%20%0A%0A%20%20%20%20%20%20%20%20marker_e575f0c0d07b4813ab86e5a86acbfb54.bindPopup%28popup_8ed040605c244fc094062912ce5d90cd%29%0A%20%20%20%20%20%20%20%20%3B%0A%0A%20%20%20%20%20%20%20%20%0A%20%20%20%20%0A%20%20%20%20%0A%20%20%20%20%20%20%20%20%20%20%20%20var%20marker_ebd7f9256bca4c6a8862a9fa58e222e5%20%3D%20L.marker%28%0A%20%20%20%20%20%20%20%20%20%20%20%20%20%20%20%20%5B51.07694054857529%2C%204.135795403797123%5D%2C%0A%20%20%20%20%20%20%20%20%20%20%20%20%20%20%20%20%7B%7D%0A%20%20%20%20%20%20%20%20%20%20%20%20%29.addTo%28marker_cluster_e8f5a78279154845b772b473819d6544%29%3B%0A%20%20%20%20%20%20%20%20%0A%20%20%20%20%0A%20%20%20%20%20%20%20%20var%20popup_f45e7d5bd8a44377b96691be9592a7d0%20%3D%20L.popup%28%7B%22maxWidth%22%3A%20%22100%25%22%7D%29%3B%0A%0A%20%20%20%20%20%20%20%20%0A%20%20%20%20%20%20%20%20%20%20%20%20var%20html_6bc6ec71ab7f4057b3748279a287afa6%20%3D%20%24%28%60%3Cdiv%20id%3D%22html_6bc6ec71ab7f4057b3748279a287afa6%22%20style%3D%22width%3A%20100.0%25%3B%20height%3A%20100.0%25%3B%22%3EBodemlocatie%3A%20https%3A//www.dov.vlaanderen.be/data/bodemlocatie/1952-001967%3Cbr%3E%20Bodemobservatie%3A%20https%3A//www.dov.vlaanderen.be/data/bodemobservatie/2019-223591%3Cbr%3E%20Value%3A%200.850734725444702%25%3C/div%3E%60%29%5B0%5D%3B%0A%20%20%20%20%20%20%20%20%20%20%20%20popup_f45e7d5bd8a44377b96691be9592a7d0.setContent%28html_6bc6ec71ab7f4057b3748279a287afa6%29%3B%0A%20%20%20%20%20%20%20%20%0A%0A%20%20%20%20%20%20%20%20marker_ebd7f9256bca4c6a8862a9fa58e222e5.bindPopup%28popup_f45e7d5bd8a44377b96691be9592a7d0%29%0A%20%20%20%20%20%20%20%20%3B%0A%0A%20%20%20%20%20%20%20%20%0A%20%20%20%20%0A%20%20%20%20%0A%20%20%20%20%20%20%20%20%20%20%20%20var%20marker_67e144651ebf4a518db02e7391dfa3ea%20%3D%20L.marker%28%0A%20%20%20%20%20%20%20%20%20%20%20%20%20%20%20%20%5B50.99314918075083%2C%204.202173658807275%5D%2C%0A%20%20%20%20%20%20%20%20%20%20%20%20%20%20%20%20%7B%7D%0A%20%20%20%20%20%20%20%20%20%20%20%20%29.addTo%28marker_cluster_e8f5a78279154845b772b473819d6544%29%3B%0A%20%20%20%20%20%20%20%20%0A%20%20%20%20%0A%20%20%20%20%20%20%20%20var%20popup_54936d4cee414fa1a350fd403a718318%20%3D%20L.popup%28%7B%22maxWidth%22%3A%20%22100%25%22%7D%29%3B%0A%0A%20%20%20%20%20%20%20%20%0A%20%20%20%20%20%20%20%20%20%20%20%20var%20html_19662bf9e88346c6ae7c07e6421b5640%20%3D%20%24%28%60%3Cdiv%20id%3D%22html_19662bf9e88346c6ae7c07e6421b5640%22%20style%3D%22width%3A%20100.0%25%3B%20height%3A%20100.0%25%3B%22%3EBodemlocatie%3A%20https%3A//www.dov.vlaanderen.be/data/bodemlocatie/1951-002065%3Cbr%3E%20Bodemobservatie%3A%20https%3A//www.dov.vlaanderen.be/data/bodemobservatie/2019-235997%3Cbr%3E%20Value%3A%201.77107501933488%25%3C/div%3E%60%29%5B0%5D%3B%0A%20%20%20%20%20%20%20%20%20%20%20%20popup_54936d4cee414fa1a350fd403a718318.setContent%28html_19662bf9e88346c6ae7c07e6421b5640%29%3B%0A%20%20%20%20%20%20%20%20%0A%0A%20%20%20%20%20%20%20%20marker_67e144651ebf4a518db02e7391dfa3ea.bindPopup%28popup_54936d4cee414fa1a350fd403a718318%29%0A%20%20%20%20%20%20%20%20%3B%0A%0A%20%20%20%20%20%20%20%20%0A%20%20%20%20%0A%20%20%20%20%0A%20%20%20%20%20%20%20%20%20%20%20%20var%20marker_25ea34b8948f4912bd93585450442a2c%20%3D%20L.marker%28%0A%20%20%20%20%20%20%20%20%20%20%20%20%20%20%20%20%5B50.765686663018414%2C%203.465092161742892%5D%2C%0A%20%20%20%20%20%20%20%20%20%20%20%20%20%20%20%20%7B%7D%0A%20%20%20%20%20%20%20%20%20%20%20%20%29.addTo%28marker_cluster_e8f5a78279154845b772b473819d6544%29%3B%0A%20%20%20%20%20%20%20%20%0A%20%20%20%20%0A%20%20%20%20%20%20%20%20var%20popup_40519165a9ca4b5092e83e247fb13a39%20%3D%20L.popup%28%7B%22maxWidth%22%3A%20%22100%25%22%7D%29%3B%0A%0A%20%20%20%20%20%20%20%20%0A%20%20%20%20%20%20%20%20%20%20%20%20var%20html_e28fe2ff3a934cc084c345212ceb41f4%20%3D%20%24%28%60%3Cdiv%20id%3D%22html_e28fe2ff3a934cc084c345212ceb41f4%22%20style%3D%22width%3A%20100.0%25%3B%20height%3A%20100.0%25%3B%22%3EBodemlocatie%3A%20https%3A//www.dov.vlaanderen.be/data/bodemlocatie/1958-004727%3Cbr%3E%20Bodemobservatie%3A%20https%3A//www.dov.vlaanderen.be/data/bodemobservatie/2019-571557%3Cbr%3E%20Value%3A%200.920340293890178%25%3C/div%3E%60%29%5B0%5D%3B%0A%20%20%20%20%20%20%20%20%20%20%20%20popup_40519165a9ca4b5092e83e247fb13a39.setContent%28html_e28fe2ff3a934cc084c345212ceb41f4%29%3B%0A%20%20%20%20%20%20%20%20%0A%0A%20%20%20%20%20%20%20%20marker_25ea34b8948f4912bd93585450442a2c.bindPopup%28popup_40519165a9ca4b5092e83e247fb13a39%29%0A%20%20%20%20%20%20%20%20%3B%0A%0A%20%20%20%20%20%20%20%20%0A%20%20%20%20%0A%20%20%20%20%0A%20%20%20%20%20%20%20%20%20%20%20%20var%20marker_5bfb1a5db7464f87aaed8b76f2813805%20%3D%20L.marker%28%0A%20%20%20%20%20%20%20%20%20%20%20%20%20%20%20%20%5B51.12388955143519%2C%203.5372778052419136%5D%2C%0A%20%20%20%20%20%20%20%20%20%20%20%20%20%20%20%20%7B%7D%0A%20%20%20%20%20%20%20%20%20%20%20%20%29.addTo%28marker_cluster_e8f5a78279154845b772b473819d6544%29%3B%0A%20%20%20%20%20%20%20%20%0A%20%20%20%20%0A%20%20%20%20%20%20%20%20var%20popup_fb880158e3df4e6391d03cebaa2b4076%20%3D%20L.popup%28%7B%22maxWidth%22%3A%20%22100%25%22%7D%29%3B%0A%0A%20%20%20%20%20%20%20%20%0A%20%20%20%20%20%20%20%20%20%20%20%20var%20html_d1b1a021274945cfacfa913ccd99e4e7%20%3D%20%24%28%60%3Cdiv%20id%3D%22html_d1b1a021274945cfacfa913ccd99e4e7%22%20style%3D%22width%3A%20100.0%25%3B%20height%3A%20100.0%25%3B%22%3EBodemlocatie%3A%20https%3A//www.dov.vlaanderen.be/data/bodemlocatie/1962-004735%3Cbr%3E%20Bodemobservatie%3A%20https%3A//www.dov.vlaanderen.be/data/bodemobservatie/2019-572500%3Cbr%3E%20Value%3A%201.6%25%3C/div%3E%60%29%5B0%5D%3B%0A%20%20%20%20%20%20%20%20%20%20%20%20popup_fb880158e3df4e6391d03cebaa2b4076.setContent%28html_d1b1a021274945cfacfa913ccd99e4e7%29%3B%0A%20%20%20%20%20%20%20%20%0A%0A%20%20%20%20%20%20%20%20marker_5bfb1a5db7464f87aaed8b76f2813805.bindPopup%28popup_fb880158e3df4e6391d03cebaa2b4076%29%0A%20%20%20%20%20%20%20%20%3B%0A%0A%20%20%20%20%20%20%20%20%0A%20%20%20%20%0A%20%20%20%20%0A%20%20%20%20%20%20%20%20%20%20%20%20var%20marker_eb754bfa0f3746a58b664f1b4cb0c8f4%20%3D%20L.marker%28%0A%20%20%20%20%20%20%20%20%20%20%20%20%20%20%20%20%5B50.98360032675713%2C%203.9215612006997795%5D%2C%0A%20%20%20%20%20%20%20%20%20%20%20%20%20%20%20%20%7B%7D%0A%20%20%20%20%20%20%20%20%20%20%20%20%29.addTo%28marker_cluster_e8f5a78279154845b772b473819d6544%29%3B%0A%20%20%20%20%20%20%20%20%0A%20%20%20%20%0A%20%20%20%20%20%20%20%20var%20popup_7d7667bd231a425ba71c2caf2a3e8b6e%20%3D%20L.popup%28%7B%22maxWidth%22%3A%20%22100%25%22%7D%29%3B%0A%0A%20%20%20%20%20%20%20%20%0A%20%20%20%20%20%20%20%20%20%20%20%20var%20html_f3925c8007874d44a22f97af63acf616%20%3D%20%24%28%60%3Cdiv%20id%3D%22html_f3925c8007874d44a22f97af63acf616%22%20style%3D%22width%3A%20100.0%25%3B%20height%3A%20100.0%25%3B%22%3EBodemlocatie%3A%20https%3A//www.dov.vlaanderen.be/data/bodemlocatie/1958-005502%3Cbr%3E%20Bodemobservatie%3A%20https%3A//www.dov.vlaanderen.be/data/bodemobservatie/2019-669908%3Cbr%3E%20Value%3A%200.935808197989172%25%3C/div%3E%60%29%5B0%5D%3B%0A%20%20%20%20%20%20%20%20%20%20%20%20popup_7d7667bd231a425ba71c2caf2a3e8b6e.setContent%28html_f3925c8007874d44a22f97af63acf616%29%3B%0A%20%20%20%20%20%20%20%20%0A%0A%20%20%20%20%20%20%20%20marker_eb754bfa0f3746a58b664f1b4cb0c8f4.bindPopup%28popup_7d7667bd231a425ba71c2caf2a3e8b6e%29%0A%20%20%20%20%20%20%20%20%3B%0A%0A%20%20%20%20%20%20%20%20%0A%20%20%20%20%0A%20%20%20%20%0A%20%20%20%20%20%20%20%20%20%20%20%20var%20marker_5132e484d88a4e81be6abeb7d154ffac%20%3D%20L.marker%28%0A%20%20%20%20%20%20%20%20%20%20%20%20%20%20%20%20%5B51.01246259210595%2C%203.7871656987060875%5D%2C%0A%20%20%20%20%20%20%20%20%20%20%20%20%20%20%20%20%7B%7D%0A%20%20%20%20%20%20%20%20%20%20%20%20%29.addTo%28marker_cluster_e8f5a78279154845b772b473819d6544%29%3B%0A%20%20%20%20%20%20%20%20%0A%20%20%20%20%0A%20%20%20%20%20%20%20%20var%20popup_48f90f81f8a649949aec2b4cc9ad9e54%20%3D%20L.popup%28%7B%22maxWidth%22%3A%20%22100%25%22%7D%29%3B%0A%0A%20%20%20%20%20%20%20%20%0A%20%20%20%20%20%20%20%20%20%20%20%20var%20html_bbde8f432f634bd589c09f7499e93e26%20%3D%20%24%28%60%3Cdiv%20id%3D%22html_bbde8f432f634bd589c09f7499e93e26%22%20style%3D%22width%3A%20100.0%25%3B%20height%3A%20100.0%25%3B%22%3EBodemlocatie%3A%20https%3A//www.dov.vlaanderen.be/data/bodemlocatie/1950-006022%3Cbr%3E%20Bodemobservatie%3A%20https%3A//www.dov.vlaanderen.be/data/bodemobservatie/2019-734185%3Cbr%3E%20Value%3A%201.83294663573086%25%3C/div%3E%60%29%5B0%5D%3B%0A%20%20%20%20%20%20%20%20%20%20%20%20popup_48f90f81f8a649949aec2b4cc9ad9e54.setContent%28html_bbde8f432f634bd589c09f7499e93e26%29%3B%0A%20%20%20%20%20%20%20%20%0A%0A%20%20%20%20%20%20%20%20marker_5132e484d88a4e81be6abeb7d154ffac.bindPopup%28popup_48f90f81f8a649949aec2b4cc9ad9e54%29%0A%20%20%20%20%20%20%20%20%3B%0A%0A%20%20%20%20%20%20%20%20%0A%20%20%20%20%0A%20%20%20%20%0A%20%20%20%20%20%20%20%20%20%20%20%20var%20marker_1f9bd975a2f74ec89adf6789af9553a8%20%3D%20L.marker%28%0A%20%20%20%20%20%20%20%20%20%20%20%20%20%20%20%20%5B51.19913850118747%2C%204.3062657330812755%5D%2C%0A%20%20%20%20%20%20%20%20%20%20%20%20%20%20%20%20%7B%7D%0A%20%20%20%20%20%20%20%20%20%20%20%20%29.addTo%28marker_cluster_e8f5a78279154845b772b473819d6544%29%3B%0A%20%20%20%20%20%20%20%20%0A%20%20%20%20%0A%20%20%20%20%20%20%20%20var%20popup_29b593ef64744bd194a488c6562f5467%20%3D%20L.popup%28%7B%22maxWidth%22%3A%20%22100%25%22%7D%29%3B%0A%0A%20%20%20%20%20%20%20%20%0A%20%20%20%20%20%20%20%20%20%20%20%20var%20html_6dc5c663f74e462ca04178a2a5f02f4c%20%3D%20%24%28%60%3Cdiv%20id%3D%22html_6dc5c663f74e462ca04178a2a5f02f4c%22%20style%3D%22width%3A%20100.0%25%3B%20height%3A%20100.0%25%3B%22%3EBodemlocatie%3A%20https%3A//www.dov.vlaanderen.be/data/bodemlocatie/1949-006067%3Cbr%3E%20Bodemobservatie%3A%20https%3A//www.dov.vlaanderen.be/data/bodemobservatie/2019-739648%3Cbr%3E%20Value%3A%202.04949729311678%25%3C/div%3E%60%29%5B0%5D%3B%0A%20%20%20%20%20%20%20%20%20%20%20%20popup_29b593ef64744bd194a488c6562f5467.setContent%28html_6dc5c663f74e462ca04178a2a5f02f4c%29%3B%0A%20%20%20%20%20%20%20%20%0A%0A%20%20%20%20%20%20%20%20marker_1f9bd975a2f74ec89adf6789af9553a8.bindPopup%28popup_29b593ef64744bd194a488c6562f5467%29%0A%20%20%20%20%20%20%20%20%3B%0A%0A%20%20%20%20%20%20%20%20%0A%20%20%20%20%0A%20%20%20%20%0A%20%20%20%20%20%20%20%20%20%20%20%20var%20marker_6966ca6ccf7d47db82dde28df1d20279%20%3D%20L.marker%28%0A%20%20%20%20%20%20%20%20%20%20%20%20%20%20%20%20%5B51.1836892510899%2C%203.98366288170414%5D%2C%0A%20%20%20%20%20%20%20%20%20%20%20%20%20%20%20%20%7B%7D%0A%20%20%20%20%20%20%20%20%20%20%20%20%29.addTo%28marker_cluster_e8f5a78279154845b772b473819d6544%29%3B%0A%20%20%20%20%20%20%20%20%0A%20%20%20%20%0A%20%20%20%20%20%20%20%20var%20popup_e156618d571146a0954e68c2b78149ee%20%3D%20L.popup%28%7B%22maxWidth%22%3A%20%22100%25%22%7D%29%3B%0A%0A%20%20%20%20%20%20%20%20%0A%20%20%20%20%20%20%20%20%20%20%20%20var%20html_0573b3021ae0489e985eb96f10027496%20%3D%20%24%28%60%3Cdiv%20id%3D%22html_0573b3021ae0489e985eb96f10027496%22%20style%3D%22width%3A%20100.0%25%3B%20height%3A%20100.0%25%3B%22%3EBodemlocatie%3A%20https%3A//www.dov.vlaanderen.be/data/bodemlocatie/1953-006730%3Cbr%3E%20Bodemobservatie%3A%20https%3A//www.dov.vlaanderen.be/data/bodemobservatie/2019-823505%3Cbr%3E%20Value%3A%201.48491879350348%25%3C/div%3E%60%29%5B0%5D%3B%0A%20%20%20%20%20%20%20%20%20%20%20%20popup_e156618d571146a0954e68c2b78149ee.setContent%28html_0573b3021ae0489e985eb96f10027496%29%3B%0A%20%20%20%20%20%20%20%20%0A%0A%20%20%20%20%20%20%20%20marker_6966ca6ccf7d47db82dde28df1d20279.bindPopup%28popup_e156618d571146a0954e68c2b78149ee%29%0A%20%20%20%20%20%20%20%20%3B%0A%0A%20%20%20%20%20%20%20%20%0A%20%20%20%20%0A%20%20%20%20%0A%20%20%20%20%20%20%20%20%20%20%20%20var%20marker_8f7166719ea641dcb0a35a87404855bc%20%3D%20L.marker%28%0A%20%20%20%20%20%20%20%20%20%20%20%20%20%20%20%20%5B51.05104341141916%2C%203.882197440351511%5D%2C%0A%20%20%20%20%20%20%20%20%20%20%20%20%20%20%20%20%7B%7D%0A%20%20%20%20%20%20%20%20%20%20%20%20%29.addTo%28marker_cluster_e8f5a78279154845b772b473819d6544%29%3B%0A%20%20%20%20%20%20%20%20%0A%20%20%20%20%0A%20%20%20%20%20%20%20%20var%20popup_fac4bcefc2cb4d019ded5bf43ba323a6%20%3D%20L.popup%28%7B%22maxWidth%22%3A%20%22100%25%22%7D%29%3B%0A%0A%20%20%20%20%20%20%20%20%0A%20%20%20%20%20%20%20%20%20%20%20%20var%20html_42bea14ad4014310904a55c4f680bbe5%20%3D%20%24%28%60%3Cdiv%20id%3D%22html_42bea14ad4014310904a55c4f680bbe5%22%20style%3D%22width%3A%20100.0%25%3B%20height%3A%20100.0%25%3B%22%3EBodemlocatie%3A%20https%3A//www.dov.vlaanderen.be/data/bodemlocatie/1951-007159%3Cbr%3E%20Bodemobservatie%3A%20https%3A//www.dov.vlaanderen.be/data/bodemobservatie/2019-878419%3Cbr%3E%20Value%3A%201.430781129157%25%3C/div%3E%60%29%5B0%5D%3B%0A%20%20%20%20%20%20%20%20%20%20%20%20popup_fac4bcefc2cb4d019ded5bf43ba323a6.setContent%28html_42bea14ad4014310904a55c4f680bbe5%29%3B%0A%20%20%20%20%20%20%20%20%0A%0A%20%20%20%20%20%20%20%20marker_8f7166719ea641dcb0a35a87404855bc.bindPopup%28popup_fac4bcefc2cb4d019ded5bf43ba323a6%29%0A%20%20%20%20%20%20%20%20%3B%0A%0A%20%20%20%20%20%20%20%20%0A%20%20%20%20%0A%20%20%20%20%0A%20%20%20%20%20%20%20%20%20%20%20%20var%20marker_8713c7a351514b1eb5f3c431602c6f56%20%3D%20L.marker%28%0A%20%20%20%20%20%20%20%20%20%20%20%20%20%20%20%20%5B51.25955835704599%2C%204.1907246068292725%5D%2C%0A%20%20%20%20%20%20%20%20%20%20%20%20%20%20%20%20%7B%7D%0A%20%20%20%20%20%20%20%20%20%20%20%20%29.addTo%28marker_cluster_e8f5a78279154845b772b473819d6544%29%3B%0A%20%20%20%20%20%20%20%20%0A%20%20%20%20%0A%20%20%20%20%20%20%20%20var%20popup_b42eaf644e7c46e48bed29682b1b077c%20%3D%20L.popup%28%7B%22maxWidth%22%3A%20%22100%25%22%7D%29%3B%0A%0A%20%20%20%20%20%20%20%20%0A%20%20%20%20%20%20%20%20%20%20%20%20var%20html_dc24ec8b8dcc47ac9d60eac8b5939c07%20%3D%20%24%28%60%3Cdiv%20id%3D%22html_dc24ec8b8dcc47ac9d60eac8b5939c07%22%20style%3D%22width%3A%20100.0%25%3B%20height%3A%20100.0%25%3B%22%3EBodemlocatie%3A%20https%3A//www.dov.vlaanderen.be/data/bodemlocatie/1950-001080%3Cbr%3E%20Bodemobservatie%3A%20https%3A//www.dov.vlaanderen.be/data/bodemobservatie/2019-110556%3Cbr%3E%20Value%3A%201.91028615622583%25%3C/div%3E%60%29%5B0%5D%3B%0A%20%20%20%20%20%20%20%20%20%20%20%20popup_b42eaf644e7c46e48bed29682b1b077c.setContent%28html_dc24ec8b8dcc47ac9d60eac8b5939c07%29%3B%0A%20%20%20%20%20%20%20%20%0A%0A%20%20%20%20%20%20%20%20marker_8713c7a351514b1eb5f3c431602c6f56.bindPopup%28popup_b42eaf644e7c46e48bed29682b1b077c%29%0A%20%20%20%20%20%20%20%20%3B%0A%0A%20%20%20%20%20%20%20%20%0A%20%20%20%20%0A%20%20%20%20%0A%20%20%20%20%20%20%20%20%20%20%20%20var%20marker_9a039d0f0a754d798d9158501191f395%20%3D%20L.marker%28%0A%20%20%20%20%20%20%20%20%20%20%20%20%20%20%20%20%5B51.00831955246626%2C%203.7947119250768866%5D%2C%0A%20%20%20%20%20%20%20%20%20%20%20%20%20%20%20%20%7B%7D%0A%20%20%20%20%20%20%20%20%20%20%20%20%29.addTo%28marker_cluster_e8f5a78279154845b772b473819d6544%29%3B%0A%20%20%20%20%20%20%20%20%0A%20%20%20%20%0A%20%20%20%20%20%20%20%20var%20popup_c39bff72682d40c09a7d898cd69378ea%20%3D%20L.popup%28%7B%22maxWidth%22%3A%20%22100%25%22%7D%29%3B%0A%0A%20%20%20%20%20%20%20%20%0A%20%20%20%20%20%20%20%20%20%20%20%20var%20html_884a48ff958a42388b35588c3ade1634%20%3D%20%24%28%60%3Cdiv%20id%3D%22html_884a48ff958a42388b35588c3ade1634%22%20style%3D%22width%3A%20100.0%25%3B%20height%3A%20100.0%25%3B%22%3EBodemlocatie%3A%20https%3A//www.dov.vlaanderen.be/data/bodemlocatie/1950-001109%3Cbr%3E%20Bodemobservatie%3A%20https%3A//www.dov.vlaanderen.be/data/bodemobservatie/2019-114463%3Cbr%3E%20Value%3A%200.804331013147718%25%3C/div%3E%60%29%5B0%5D%3B%0A%20%20%20%20%20%20%20%20%20%20%20%20popup_c39bff72682d40c09a7d898cd69378ea.setContent%28html_884a48ff958a42388b35588c3ade1634%29%3B%0A%20%20%20%20%20%20%20%20%0A%0A%20%20%20%20%20%20%20%20marker_9a039d0f0a754d798d9158501191f395.bindPopup%28popup_c39bff72682d40c09a7d898cd69378ea%29%0A%20%20%20%20%20%20%20%20%3B%0A%0A%20%20%20%20%20%20%20%20%0A%20%20%20%20%0A%20%20%20%20%0A%20%20%20%20%20%20%20%20%20%20%20%20var%20marker_617d226730f2486396380160fcb89ef1%20%3D%20L.marker%28%0A%20%20%20%20%20%20%20%20%20%20%20%20%20%20%20%20%5B51.08158516028053%2C%203.9014313327521575%5D%2C%0A%20%20%20%20%20%20%20%20%20%20%20%20%20%20%20%20%7B%7D%0A%20%20%20%20%20%20%20%20%20%20%20%20%29.addTo%28marker_cluster_e8f5a78279154845b772b473819d6544%29%3B%0A%20%20%20%20%20%20%20%20%0A%20%20%20%20%0A%20%20%20%20%20%20%20%20var%20popup_19f2badaeac5434290f990c371d78a3b%20%3D%20L.popup%28%7B%22maxWidth%22%3A%20%22100%25%22%7D%29%3B%0A%0A%20%20%20%20%20%20%20%20%0A%20%20%20%20%20%20%20%20%20%20%20%20var%20html_055311ec87f346c5847105b3499f83aa%20%3D%20%24%28%60%3Cdiv%20id%3D%22html_055311ec87f346c5847105b3499f83aa%22%20style%3D%22width%3A%20100.0%25%3B%20height%3A%20100.0%25%3B%22%3EBodemlocatie%3A%20https%3A//www.dov.vlaanderen.be/data/bodemlocatie/1951-002466%3Cbr%3E%20Bodemobservatie%3A%20https%3A//www.dov.vlaanderen.be/data/bodemobservatie/2019-286054%3Cbr%3E%20Value%3A%202.08816705336427%25%3C/div%3E%60%29%5B0%5D%3B%0A%20%20%20%20%20%20%20%20%20%20%20%20popup_19f2badaeac5434290f990c371d78a3b.setContent%28html_055311ec87f346c5847105b3499f83aa%29%3B%0A%20%20%20%20%20%20%20%20%0A%0A%20%20%20%20%20%20%20%20marker_617d226730f2486396380160fcb89ef1.bindPopup%28popup_19f2badaeac5434290f990c371d78a3b%29%0A%20%20%20%20%20%20%20%20%3B%0A%0A%20%20%20%20%20%20%20%20%0A%20%20%20%20%0A%20%20%20%20%0A%20%20%20%20%20%20%20%20%20%20%20%20var%20marker_6cbe956dd6394e6697337b97a617181f%20%3D%20L.marker%28%0A%20%20%20%20%20%20%20%20%20%20%20%20%20%20%20%20%5B51.1558859040854%2C%203.539081336484453%5D%2C%0A%20%20%20%20%20%20%20%20%20%20%20%20%20%20%20%20%7B%7D%0A%20%20%20%20%20%20%20%20%20%20%20%20%29.addTo%28marker_cluster_e8f5a78279154845b772b473819d6544%29%3B%0A%20%20%20%20%20%20%20%20%0A%20%20%20%20%0A%20%20%20%20%20%20%20%20var%20popup_017aaa5e421c49fe9566a8e612d7f896%20%3D%20L.popup%28%7B%22maxWidth%22%3A%20%22100%25%22%7D%29%3B%0A%0A%20%20%20%20%20%20%20%20%0A%20%20%20%20%20%20%20%20%20%20%20%20var%20html_5e154595cdf844b4950dea926d5bfcf4%20%3D%20%24%28%60%3Cdiv%20id%3D%22html_5e154595cdf844b4950dea926d5bfcf4%22%20style%3D%22width%3A%20100.0%25%3B%20height%3A%20100.0%25%3B%22%3EBodemlocatie%3A%20https%3A//www.dov.vlaanderen.be/data/bodemlocatie/1962-005305%3Cbr%3E%20Bodemobservatie%3A%20https%3A//www.dov.vlaanderen.be/data/bodemobservatie/2019-643564%3Cbr%3E%20Value%3A%201.96%25%3C/div%3E%60%29%5B0%5D%3B%0A%20%20%20%20%20%20%20%20%20%20%20%20popup_017aaa5e421c49fe9566a8e612d7f896.setContent%28html_5e154595cdf844b4950dea926d5bfcf4%29%3B%0A%20%20%20%20%20%20%20%20%0A%0A%20%20%20%20%20%20%20%20marker_6cbe956dd6394e6697337b97a617181f.bindPopup%28popup_017aaa5e421c49fe9566a8e612d7f896%29%0A%20%20%20%20%20%20%20%20%3B%0A%0A%20%20%20%20%20%20%20%20%0A%20%20%20%20%0A%20%20%20%20%0A%20%20%20%20%20%20%20%20%20%20%20%20var%20marker_fca35d40ba134566abd5c6665405ccc1%20%3D%20L.marker%28%0A%20%20%20%20%20%20%20%20%20%20%20%20%20%20%20%20%5B50.94431415221505%2C%203.4783310045491347%5D%2C%0A%20%20%20%20%20%20%20%20%20%20%20%20%20%20%20%20%7B%7D%0A%20%20%20%20%20%20%20%20%20%20%20%20%29.addTo%28marker_cluster_e8f5a78279154845b772b473819d6544%29%3B%0A%20%20%20%20%20%20%20%20%0A%20%20%20%20%0A%20%20%20%20%20%20%20%20var%20popup_74ab5f0a724e4e2c8b729e10c0f283cb%20%3D%20L.popup%28%7B%22maxWidth%22%3A%20%22100%25%22%7D%29%3B%0A%0A%20%20%20%20%20%20%20%20%0A%20%20%20%20%20%20%20%20%20%20%20%20var%20html_d20fe532c4a84158b9d6d46101bbafc7%20%3D%20%24%28%60%3Cdiv%20id%3D%22html_d20fe532c4a84158b9d6d46101bbafc7%22%20style%3D%22width%3A%20100.0%25%3B%20height%3A%20100.0%25%3B%22%3EBodemlocatie%3A%20https%3A//www.dov.vlaanderen.be/data/bodemlocatie/1962-005415%3Cbr%3E%20Bodemobservatie%3A%20https%3A//www.dov.vlaanderen.be/data/bodemobservatie/2019-658380%3Cbr%3E%20Value%3A%201.04%25%3C/div%3E%60%29%5B0%5D%3B%0A%20%20%20%20%20%20%20%20%20%20%20%20popup_74ab5f0a724e4e2c8b729e10c0f283cb.setContent%28html_d20fe532c4a84158b9d6d46101bbafc7%29%3B%0A%20%20%20%20%20%20%20%20%0A%0A%20%20%20%20%20%20%20%20marker_fca35d40ba134566abd5c6665405ccc1.bindPopup%28popup_74ab5f0a724e4e2c8b729e10c0f283cb%29%0A%20%20%20%20%20%20%20%20%3B%0A%0A%20%20%20%20%20%20%20%20%0A%20%20%20%20%0A%20%20%20%20%0A%20%20%20%20%20%20%20%20%20%20%20%20var%20marker_68b76dffc50d4af4a3a74bede0f28cb0%20%3D%20L.marker%28%0A%20%20%20%20%20%20%20%20%20%20%20%20%20%20%20%20%5B51.00610019403148%2C%204.106796345587391%5D%2C%0A%20%20%20%20%20%20%20%20%20%20%20%20%20%20%20%20%7B%7D%0A%20%20%20%20%20%20%20%20%20%20%20%20%29.addTo%28marker_cluster_e8f5a78279154845b772b473819d6544%29%3B%0A%20%20%20%20%20%20%20%20%0A%20%20%20%20%0A%20%20%20%20%20%20%20%20var%20popup_e28d209f4a1a4707bb70e36227b3053a%20%3D%20L.popup%28%7B%22maxWidth%22%3A%20%22100%25%22%7D%29%3B%0A%0A%20%20%20%20%20%20%20%20%0A%20%20%20%20%20%20%20%20%20%20%20%20var%20html_912d192afeb24f4ca13a28414685a61d%20%3D%20%24%28%60%3Cdiv%20id%3D%22html_912d192afeb24f4ca13a28414685a61d%22%20style%3D%22width%3A%20100.0%25%3B%20height%3A%20100.0%25%3B%22%3EBodemlocatie%3A%20https%3A//www.dov.vlaanderen.be/data/bodemlocatie/1952-005996%3Cbr%3E%20Bodemobservatie%3A%20https%3A//www.dov.vlaanderen.be/data/bodemobservatie/2019-731098%3Cbr%3E%20Value%3A%201.36890951276102%25%3C/div%3E%60%29%5B0%5D%3B%0A%20%20%20%20%20%20%20%20%20%20%20%20popup_e28d209f4a1a4707bb70e36227b3053a.setContent%28html_912d192afeb24f4ca13a28414685a61d%29%3B%0A%20%20%20%20%20%20%20%20%0A%0A%20%20%20%20%20%20%20%20marker_68b76dffc50d4af4a3a74bede0f28cb0.bindPopup%28popup_e28d209f4a1a4707bb70e36227b3053a%29%0A%20%20%20%20%20%20%20%20%3B%0A%0A%20%20%20%20%20%20%20%20%0A%20%20%20%20%0A%20%20%20%20%0A%20%20%20%20%20%20%20%20%20%20%20%20var%20marker_9df98b67b19e453b98b5f2074103d68f%20%3D%20L.marker%28%0A%20%20%20%20%20%20%20%20%20%20%20%20%20%20%20%20%5B51.010196200939625%2C%203.968116068567998%5D%2C%0A%20%20%20%20%20%20%20%20%20%20%20%20%20%20%20%20%7B%7D%0A%20%20%20%20%20%20%20%20%20%20%20%20%29.addTo%28marker_cluster_e8f5a78279154845b772b473819d6544%29%3B%0A%20%20%20%20%20%20%20%20%0A%20%20%20%20%0A%20%20%20%20%20%20%20%20var%20popup_d1ca153b16914157ae5646664ef78892%20%3D%20L.popup%28%7B%22maxWidth%22%3A%20%22100%25%22%7D%29%3B%0A%0A%20%20%20%20%20%20%20%20%0A%20%20%20%20%20%20%20%20%20%20%20%20var%20html_168b161d7b6542d4ac81e620a7539efe%20%3D%20%24%28%60%3Cdiv%20id%3D%22html_168b161d7b6542d4ac81e620a7539efe%22%20style%3D%22width%3A%20100.0%25%3B%20height%3A%20100.0%25%3B%22%3EBodemlocatie%3A%20https%3A//www.dov.vlaanderen.be/data/bodemlocatie/1951-006114%3Cbr%3E%20Bodemobservatie%3A%20https%3A//www.dov.vlaanderen.be/data/bodemobservatie/2019-745273%3Cbr%3E%20Value%3A%201.09048723897912%25%3C/div%3E%60%29%5B0%5D%3B%0A%20%20%20%20%20%20%20%20%20%20%20%20popup_d1ca153b16914157ae5646664ef78892.setContent%28html_168b161d7b6542d4ac81e620a7539efe%29%3B%0A%20%20%20%20%20%20%20%20%0A%0A%20%20%20%20%20%20%20%20marker_9df98b67b19e453b98b5f2074103d68f.bindPopup%28popup_d1ca153b16914157ae5646664ef78892%29%0A%20%20%20%20%20%20%20%20%3B%0A%0A%20%20%20%20%20%20%20%20%0A%20%20%20%20%0A%20%20%20%20%0A%20%20%20%20%20%20%20%20%20%20%20%20var%20marker_4c868d4274c24241944badf7f1311b96%20%3D%20L.marker%28%0A%20%20%20%20%20%20%20%20%20%20%20%20%20%20%20%20%5B51.24933209714578%2C%204.28155094470994%5D%2C%0A%20%20%20%20%20%20%20%20%20%20%20%20%20%20%20%20%7B%7D%0A%20%20%20%20%20%20%20%20%20%20%20%20%29.addTo%28marker_cluster_e8f5a78279154845b772b473819d6544%29%3B%0A%20%20%20%20%20%20%20%20%0A%20%20%20%20%0A%20%20%20%20%20%20%20%20var%20popup_b3f75c685f7f449bbfa4c13e0e36052a%20%3D%20L.popup%28%7B%22maxWidth%22%3A%20%22100%25%22%7D%29%3B%0A%0A%20%20%20%20%20%20%20%20%0A%20%20%20%20%20%20%20%20%20%20%20%20var%20html_c959c7b44dd94c36acb9cf4bcd04cad5%20%3D%20%24%28%60%3Cdiv%20id%3D%22html_c959c7b44dd94c36acb9cf4bcd04cad5%22%20style%3D%22width%3A%20100.0%25%3B%20height%3A%20100.0%25%3B%22%3EBodemlocatie%3A%20https%3A//www.dov.vlaanderen.be/data/bodemlocatie/1949-006354%3Cbr%3E%20Bodemobservatie%3A%20https%3A//www.dov.vlaanderen.be/data/bodemobservatie/2019-775756%3Cbr%3E%20Value%3A%201.77107501933488%25%3C/div%3E%60%29%5B0%5D%3B%0A%20%20%20%20%20%20%20%20%20%20%20%20popup_b3f75c685f7f449bbfa4c13e0e36052a.setContent%28html_c959c7b44dd94c36acb9cf4bcd04cad5%29%3B%0A%20%20%20%20%20%20%20%20%0A%0A%20%20%20%20%20%20%20%20marker_4c868d4274c24241944badf7f1311b96.bindPopup%28popup_b3f75c685f7f449bbfa4c13e0e36052a%29%0A%20%20%20%20%20%20%20%20%3B%0A%0A%20%20%20%20%20%20%20%20%0A%20%20%20%20%0A%20%20%20%20%0A%20%20%20%20%20%20%20%20%20%20%20%20var%20marker_64451ed2b9b04a3c9b1ab5c6082af796%20%3D%20L.marker%28%0A%20%20%20%20%20%20%20%20%20%20%20%20%20%20%20%20%5B51.27545620705069%2C%203.6489053962329563%5D%2C%0A%20%20%20%20%20%20%20%20%20%20%20%20%20%20%20%20%7B%7D%0A%20%20%20%20%20%20%20%20%20%20%20%20%29.addTo%28marker_cluster_e8f5a78279154845b772b473819d6544%29%3B%0A%20%20%20%20%20%20%20%20%0A%20%20%20%20%0A%20%20%20%20%20%20%20%20var%20popup_bb81babe694f4eaebbce0d4e8c59bf31%20%3D%20L.popup%28%7B%22maxWidth%22%3A%20%22100%25%22%7D%29%3B%0A%0A%20%20%20%20%20%20%20%20%0A%20%20%20%20%20%20%20%20%20%20%20%20var%20html_979b8f756561429f904cd4e0058028ed%20%3D%20%24%28%60%3Cdiv%20id%3D%22html_979b8f756561429f904cd4e0058028ed%22%20style%3D%22width%3A%20100.0%25%3B%20height%3A%20100.0%25%3B%22%3EBodemlocatie%3A%20https%3A//www.dov.vlaanderen.be/data/bodemlocatie/1962-004966%3Cbr%3E%20Bodemobservatie%3A%20https%3A//www.dov.vlaanderen.be/data/bodemobservatie/2019-600803%3Cbr%3E%20Value%3A%201.135%25%3C/div%3E%60%29%5B0%5D%3B%0A%20%20%20%20%20%20%20%20%20%20%20%20popup_bb81babe694f4eaebbce0d4e8c59bf31.setContent%28html_979b8f756561429f904cd4e0058028ed%29%3B%0A%20%20%20%20%20%20%20%20%0A%0A%20%20%20%20%20%20%20%20marker_64451ed2b9b04a3c9b1ab5c6082af796.bindPopup%28popup_bb81babe694f4eaebbce0d4e8c59bf31%29%0A%20%20%20%20%20%20%20%20%3B%0A%0A%20%20%20%20%20%20%20%20%0A%20%20%20%20%0A%20%20%20%20%0A%20%20%20%20%20%20%20%20%20%20%20%20var%20marker_e1580f91070f4f638107e93ebe0f6136%20%3D%20L.marker%28%0A%20%20%20%20%20%20%20%20%20%20%20%20%20%20%20%20%5B51.056179886100956%2C%204.115787662020272%5D%2C%0A%20%20%20%20%20%20%20%20%20%20%20%20%20%20%20%20%7B%7D%0A%20%20%20%20%20%20%20%20%20%20%20%20%29.addTo%28marker_cluster_e8f5a78279154845b772b473819d6544%29%3B%0A%20%20%20%20%20%20%20%20%0A%20%20%20%20%0A%20%20%20%20%20%20%20%20var%20popup_191feae1ce6444748470d1f598b8f187%20%3D%20L.popup%28%7B%22maxWidth%22%3A%20%22100%25%22%7D%29%3B%0A%0A%20%20%20%20%20%20%20%20%0A%20%20%20%20%20%20%20%20%20%20%20%20var%20html_f0f3cb0b4003441dacb40dddab8e0d8b%20%3D%20%24%28%60%3Cdiv%20id%3D%22html_f0f3cb0b4003441dacb40dddab8e0d8b%22%20style%3D%22width%3A%20100.0%25%3B%20height%3A%20100.0%25%3B%22%3EBodemlocatie%3A%20https%3A//www.dov.vlaanderen.be/data/bodemlocatie/1952-005812%3Cbr%3E%20Bodemobservatie%3A%20https%3A//www.dov.vlaanderen.be/data/bodemobservatie/2019-708800%3Cbr%3E%20Value%3A%200.889404485692189%25%3C/div%3E%60%29%5B0%5D%3B%0A%20%20%20%20%20%20%20%20%20%20%20%20popup_191feae1ce6444748470d1f598b8f187.setContent%28html_f0f3cb0b4003441dacb40dddab8e0d8b%29%3B%0A%20%20%20%20%20%20%20%20%0A%0A%20%20%20%20%20%20%20%20marker_e1580f91070f4f638107e93ebe0f6136.bindPopup%28popup_191feae1ce6444748470d1f598b8f187%29%0A%20%20%20%20%20%20%20%20%3B%0A%0A%20%20%20%20%20%20%20%20%0A%20%20%20%20%0A%20%20%20%20%0A%20%20%20%20%20%20%20%20%20%20%20%20var%20marker_5b4375d038b24b029f5e56b9c290defa%20%3D%20L.marker%28%0A%20%20%20%20%20%20%20%20%20%20%20%20%20%20%20%20%5B51.289106948446346%2C%204.193622248318433%5D%2C%0A%20%20%20%20%20%20%20%20%20%20%20%20%20%20%20%20%7B%7D%0A%20%20%20%20%20%20%20%20%20%20%20%20%29.addTo%28marker_cluster_e8f5a78279154845b772b473819d6544%29%3B%0A%20%20%20%20%20%20%20%20%0A%20%20%20%20%0A%20%20%20%20%20%20%20%20var%20popup_aa3bb6a357c048ada0754c27c42281fc%20%3D%20L.popup%28%7B%22maxWidth%22%3A%20%22100%25%22%7D%29%3B%0A%0A%20%20%20%20%20%20%20%20%0A%20%20%20%20%20%20%20%20%20%20%20%20var%20html_f8246726635e415ea9b675d2f6d02c4e%20%3D%20%24%28%60%3Cdiv%20id%3D%22html_f8246726635e415ea9b675d2f6d02c4e%22%20style%3D%22width%3A%20100.0%25%3B%20height%3A%20100.0%25%3B%22%3EBodemlocatie%3A%20https%3A//www.dov.vlaanderen.be/data/bodemlocatie/1949-006039%3Cbr%3E%20Bodemobservatie%3A%20https%3A//www.dov.vlaanderen.be/data/bodemobservatie/2019-736387%3Cbr%3E%20Value%3A%200.966744006187162%25%3C/div%3E%60%29%5B0%5D%3B%0A%20%20%20%20%20%20%20%20%20%20%20%20popup_aa3bb6a357c048ada0754c27c42281fc.setContent%28html_f8246726635e415ea9b675d2f6d02c4e%29%3B%0A%20%20%20%20%20%20%20%20%0A%0A%20%20%20%20%20%20%20%20marker_5b4375d038b24b029f5e56b9c290defa.bindPopup%28popup_aa3bb6a357c048ada0754c27c42281fc%29%0A%20%20%20%20%20%20%20%20%3B%0A%0A%20%20%20%20%20%20%20%20%0A%20%20%20%20%0A%20%20%20%20%0A%20%20%20%20%20%20%20%20%20%20%20%20var%20marker_14edb8a654694de4af2906a9b78a99c4%20%3D%20L.marker%28%0A%20%20%20%20%20%20%20%20%20%20%20%20%20%20%20%20%5B50.987747767236804%2C%203.4728915990125775%5D%2C%0A%20%20%20%20%20%20%20%20%20%20%20%20%20%20%20%20%7B%7D%0A%20%20%20%20%20%20%20%20%20%20%20%20%29.addTo%28marker_cluster_e8f5a78279154845b772b473819d6544%29%3B%0A%20%20%20%20%20%20%20%20%0A%20%20%20%20%0A%20%20%20%20%20%20%20%20var%20popup_7b92a9ec96a54230ab9cc0b917ae4eec%20%3D%20L.popup%28%7B%22maxWidth%22%3A%20%22100%25%22%7D%29%3B%0A%0A%20%20%20%20%20%20%20%20%0A%20%20%20%20%20%20%20%20%20%20%20%20var%20html_1c81582cec654bfc9fcaa9683d4e6b2a%20%3D%20%24%28%60%3Cdiv%20id%3D%22html_1c81582cec654bfc9fcaa9683d4e6b2a%22%20style%3D%22width%3A%20100.0%25%3B%20height%3A%20100.0%25%3B%22%3EBodemlocatie%3A%20https%3A//www.dov.vlaanderen.be/data/bodemlocatie/1962-001042%3Cbr%3E%20Bodemobservatie%3A%20https%3A//www.dov.vlaanderen.be/data/bodemobservatie/2019-105337%3Cbr%3E%20Value%3A%200.845%25%3C/div%3E%60%29%5B0%5D%3B%0A%20%20%20%20%20%20%20%20%20%20%20%20popup_7b92a9ec96a54230ab9cc0b917ae4eec.setContent%28html_1c81582cec654bfc9fcaa9683d4e6b2a%29%3B%0A%20%20%20%20%20%20%20%20%0A%0A%20%20%20%20%20%20%20%20marker_14edb8a654694de4af2906a9b78a99c4.bindPopup%28popup_7b92a9ec96a54230ab9cc0b917ae4eec%29%0A%20%20%20%20%20%20%20%20%3B%0A%0A%20%20%20%20%20%20%20%20%0A%20%20%20%20%0A%20%20%20%20%0A%20%20%20%20%20%20%20%20%20%20%20%20var%20marker_b0bd4b5ff5d0407ebc5b98a359f19bfc%20%3D%20L.marker%28%0A%20%20%20%20%20%20%20%20%20%20%20%20%20%20%20%20%5B50.9322841903603%2C%204.143339707271551%5D%2C%0A%20%20%20%20%20%20%20%20%20%20%20%20%20%20%20%20%7B%7D%0A%20%20%20%20%20%20%20%20%20%20%20%20%29.addTo%28marker_cluster_e8f5a78279154845b772b473819d6544%29%3B%0A%20%20%20%20%20%20%20%20%0A%20%20%20%20%0A%20%20%20%20%20%20%20%20var%20popup_16ab426312a746dd9ed161fdadbc3cb8%20%3D%20L.popup%28%7B%22maxWidth%22%3A%20%22100%25%22%7D%29%3B%0A%0A%20%20%20%20%20%20%20%20%0A%20%20%20%20%20%20%20%20%20%20%20%20var%20html_ed8b2656da794999aa9adba0195627b4%20%3D%20%24%28%60%3Cdiv%20id%3D%22html_ed8b2656da794999aa9adba0195627b4%22%20style%3D%22width%3A%20100.0%25%3B%20height%3A%20100.0%25%3B%22%3EBodemlocatie%3A%20https%3A//www.dov.vlaanderen.be/data/bodemlocatie/1950-001632%3Cbr%3E%20Bodemobservatie%3A%20https%3A//www.dov.vlaanderen.be/data/bodemobservatie/2019-179698%3Cbr%3E%20Value%3A%200.889404485692189%25%3C/div%3E%60%29%5B0%5D%3B%0A%20%20%20%20%20%20%20%20%20%20%20%20popup_16ab426312a746dd9ed161fdadbc3cb8.setContent%28html_ed8b2656da794999aa9adba0195627b4%29%3B%0A%20%20%20%20%20%20%20%20%0A%0A%20%20%20%20%20%20%20%20marker_b0bd4b5ff5d0407ebc5b98a359f19bfc.bindPopup%28popup_16ab426312a746dd9ed161fdadbc3cb8%29%0A%20%20%20%20%20%20%20%20%3B%0A%0A%20%20%20%20%20%20%20%20%0A%20%20%20%20%0A%20%20%20%20%0A%20%20%20%20%20%20%20%20%20%20%20%20var%20marker_e1af13b5dcfb4b41a4d5b167f6cc5f53%20%3D%20L.marker%28%0A%20%20%20%20%20%20%20%20%20%20%20%20%20%20%20%20%5B51.10380474374866%2C%203.381742079794543%5D%2C%0A%20%20%20%20%20%20%20%20%20%20%20%20%20%20%20%20%7B%7D%0A%20%20%20%20%20%20%20%20%20%20%20%20%29.addTo%28marker_cluster_e8f5a78279154845b772b473819d6544%29%3B%0A%20%20%20%20%20%20%20%20%0A%20%20%20%20%0A%20%20%20%20%20%20%20%20var%20popup_e4280204d06b4b3b8d276da8ef9eb449%20%3D%20L.popup%28%7B%22maxWidth%22%3A%20%22100%25%22%7D%29%3B%0A%0A%20%20%20%20%20%20%20%20%0A%20%20%20%20%20%20%20%20%20%20%20%20var%20html_cd2b56f7bb7c452dae40104ed6cc20a2%20%3D%20%24%28%60%3Cdiv%20id%3D%22html_cd2b56f7bb7c452dae40104ed6cc20a2%22%20style%3D%22width%3A%20100.0%25%3B%20height%3A%20100.0%25%3B%22%3EBodemlocatie%3A%20https%3A//www.dov.vlaanderen.be/data/bodemlocatie/1954-002153%3Cbr%3E%20Bodemobservatie%3A%20https%3A//www.dov.vlaanderen.be/data/bodemobservatie/2019-246547%3Cbr%3E%20Value%3A%201.40757927300851%25%3C/div%3E%60%29%5B0%5D%3B%0A%20%20%20%20%20%20%20%20%20%20%20%20popup_e4280204d06b4b3b8d276da8ef9eb449.setContent%28html_cd2b56f7bb7c452dae40104ed6cc20a2%29%3B%0A%20%20%20%20%20%20%20%20%0A%0A%20%20%20%20%20%20%20%20marker_e1af13b5dcfb4b41a4d5b167f6cc5f53.bindPopup%28popup_e4280204d06b4b3b8d276da8ef9eb449%29%0A%20%20%20%20%20%20%20%20%3B%0A%0A%20%20%20%20%20%20%20%20%0A%20%20%20%20%0A%20%20%20%20%0A%20%20%20%20%20%20%20%20%20%20%20%20var%20marker_218f26ec7f8e4f368cdd572cdb1e0992%20%3D%20L.marker%28%0A%20%20%20%20%20%20%20%20%20%20%20%20%20%20%20%20%5B51.082409331244676%2C%203.905276327571687%5D%2C%0A%20%20%20%20%20%20%20%20%20%20%20%20%20%20%20%20%7B%7D%0A%20%20%20%20%20%20%20%20%20%20%20%20%29.addTo%28marker_cluster_e8f5a78279154845b772b473819d6544%29%3B%0A%20%20%20%20%20%20%20%20%0A%20%20%20%20%0A%20%20%20%20%20%20%20%20var%20popup_11d5765e18034dc58fe8294196d976e2%20%3D%20L.popup%28%7B%22maxWidth%22%3A%20%22100%25%22%7D%29%3B%0A%0A%20%20%20%20%20%20%20%20%0A%20%20%20%20%20%20%20%20%20%20%20%20var%20html_b66a694a4cee4e3a98707f89ca721b04%20%3D%20%24%28%60%3Cdiv%20id%3D%22html_b66a694a4cee4e3a98707f89ca721b04%22%20style%3D%22width%3A%20100.0%25%3B%20height%3A%20100.0%25%3B%22%3EBodemlocatie%3A%20https%3A//www.dov.vlaanderen.be/data/bodemlocatie/1951-002562%3Cbr%3E%20Bodemobservatie%3A%20https%3A//www.dov.vlaanderen.be/data/bodemobservatie/2019-299091%3Cbr%3E%20Value%3A%201.1446249033256%25%3C/div%3E%60%29%5B0%5D%3B%0A%20%20%20%20%20%20%20%20%20%20%20%20popup_11d5765e18034dc58fe8294196d976e2.setContent%28html_b66a694a4cee4e3a98707f89ca721b04%29%3B%0A%20%20%20%20%20%20%20%20%0A%0A%20%20%20%20%20%20%20%20marker_218f26ec7f8e4f368cdd572cdb1e0992.bindPopup%28popup_11d5765e18034dc58fe8294196d976e2%29%0A%20%20%20%20%20%20%20%20%3B%0A%0A%20%20%20%20%20%20%20%20%0A%20%20%20%20%0A%20%20%20%20%0A%20%20%20%20%20%20%20%20%20%20%20%20var%20marker_1c6e456c92b04201aa2c9d4d7287a222%20%3D%20L.marker%28%0A%20%20%20%20%20%20%20%20%20%20%20%20%20%20%20%20%5B51.05893919802012%2C%204.03275715524461%5D%2C%0A%20%20%20%20%20%20%20%20%20%20%20%20%20%20%20%20%7B%7D%0A%20%20%20%20%20%20%20%20%20%20%20%20%29.addTo%28marker_cluster_e8f5a78279154845b772b473819d6544%29%3B%0A%20%20%20%20%20%20%20%20%0A%20%20%20%20%0A%20%20%20%20%20%20%20%20var%20popup_6254923e27ef4d85a25ab33260b4121c%20%3D%20L.popup%28%7B%22maxWidth%22%3A%20%22100%25%22%7D%29%3B%0A%0A%20%20%20%20%20%20%20%20%0A%20%20%20%20%20%20%20%20%20%20%20%20var%20html_1b684e39abc6473cb633fcb364abd536%20%3D%20%24%28%60%3Cdiv%20id%3D%22html_1b684e39abc6473cb633fcb364abd536%22%20style%3D%22width%3A%20100.0%25%3B%20height%3A%20100.0%25%3B%22%3EBodemlocatie%3A%20https%3A//www.dov.vlaanderen.be/data/bodemlocatie/1952-005205%3Cbr%3E%20Bodemobservatie%3A%20https%3A//www.dov.vlaanderen.be/data/bodemobservatie/2019-631084%3Cbr%3E%20Value%3A%201.54679040989946%25%3C/div%3E%60%29%5B0%5D%3B%0A%20%20%20%20%20%20%20%20%20%20%20%20popup_6254923e27ef4d85a25ab33260b4121c.setContent%28html_1b684e39abc6473cb633fcb364abd536%29%3B%0A%20%20%20%20%20%20%20%20%0A%0A%20%20%20%20%20%20%20%20marker_1c6e456c92b04201aa2c9d4d7287a222.bindPopup%28popup_6254923e27ef4d85a25ab33260b4121c%29%0A%20%20%20%20%20%20%20%20%3B%0A%0A%20%20%20%20%20%20%20%20%0A%20%20%20%20%0A%20%20%20%20%0A%20%20%20%20%20%20%20%20%20%20%20%20var%20marker_88891c139cb94ffba140c2bed8d8af9b%20%3D%20L.marker%28%0A%20%20%20%20%20%20%20%20%20%20%20%20%20%20%20%20%5B51.2197823164095%2C%204.287059015568337%5D%2C%0A%20%20%20%20%20%20%20%20%20%20%20%20%20%20%20%20%7B%7D%0A%20%20%20%20%20%20%20%20%20%20%20%20%29.addTo%28marker_cluster_e8f5a78279154845b772b473819d6544%29%3B%0A%20%20%20%20%20%20%20%20%0A%20%20%20%20%0A%20%20%20%20%20%20%20%20var%20popup_37379f4e4dea4456b758dbbfe0761bc7%20%3D%20L.popup%28%7B%22maxWidth%22%3A%20%22100%25%22%7D%29%3B%0A%0A%20%20%20%20%20%20%20%20%0A%20%20%20%20%20%20%20%20%20%20%20%20var%20html_766d9eb2d2be435980d2e6df7aca8d25%20%3D%20%24%28%60%3Cdiv%20id%3D%22html_766d9eb2d2be435980d2e6df7aca8d25%22%20style%3D%22width%3A%20100.0%25%3B%20height%3A%20100.0%25%3B%22%3EBodemlocatie%3A%20https%3A//www.dov.vlaanderen.be/data/bodemlocatie/1949-005581%3Cbr%3E%20Bodemobservatie%3A%20https%3A//www.dov.vlaanderen.be/data/bodemobservatie/2019-679926%3Cbr%3E%20Value%3A%201.12142304717711%25%3C/div%3E%60%29%5B0%5D%3B%0A%20%20%20%20%20%20%20%20%20%20%20%20popup_37379f4e4dea4456b758dbbfe0761bc7.setContent%28html_766d9eb2d2be435980d2e6df7aca8d25%29%3B%0A%20%20%20%20%20%20%20%20%0A%0A%20%20%20%20%20%20%20%20marker_88891c139cb94ffba140c2bed8d8af9b.bindPopup%28popup_37379f4e4dea4456b758dbbfe0761bc7%29%0A%20%20%20%20%20%20%20%20%3B%0A%0A%20%20%20%20%20%20%20%20%0A%20%20%20%20%0A%20%20%20%20%0A%20%20%20%20%20%20%20%20%20%20%20%20var%20marker_f1f61f68d4f244049a4974dfa10cc560%20%3D%20L.marker%28%0A%20%20%20%20%20%20%20%20%20%20%20%20%20%20%20%20%5B50.87818741640322%2C%203.6150022583671895%5D%2C%0A%20%20%20%20%20%20%20%20%20%20%20%20%20%20%20%20%7B%7D%0A%20%20%20%20%20%20%20%20%20%20%20%20%29.addTo%28marker_cluster_e8f5a78279154845b772b473819d6544%29%3B%0A%20%20%20%20%20%20%20%20%0A%20%20%20%20%0A%20%20%20%20%20%20%20%20var%20popup_8086a95309084202b38b5d8320e442ed%20%3D%20L.popup%28%7B%22maxWidth%22%3A%20%22100%25%22%7D%29%3B%0A%0A%20%20%20%20%20%20%20%20%0A%20%20%20%20%20%20%20%20%20%20%20%20var%20html_676f6962a0c14b11bc7011f5d0dc475e%20%3D%20%24%28%60%3Cdiv%20id%3D%22html_676f6962a0c14b11bc7011f5d0dc475e%22%20style%3D%22width%3A%20100.0%25%3B%20height%3A%20100.0%25%3B%22%3EBodemlocatie%3A%20https%3A//www.dov.vlaanderen.be/data/bodemlocatie/1957-005667%3Cbr%3E%20Bodemobservatie%3A%20https%3A//www.dov.vlaanderen.be/data/bodemobservatie/2019-690539%3Cbr%3E%20Value%3A%200.959010054137664%25%3C/div%3E%60%29%5B0%5D%3B%0A%20%20%20%20%20%20%20%20%20%20%20%20popup_8086a95309084202b38b5d8320e442ed.setContent%28html_676f6962a0c14b11bc7011f5d0dc475e%29%3B%0A%20%20%20%20%20%20%20%20%0A%0A%20%20%20%20%20%20%20%20marker_f1f61f68d4f244049a4974dfa10cc560.bindPopup%28popup_8086a95309084202b38b5d8320e442ed%29%0A%20%20%20%20%20%20%20%20%3B%0A%0A%20%20%20%20%20%20%20%20%0A%20%20%20%20%0A%20%20%20%20%0A%20%20%20%20%20%20%20%20%20%20%20%20var%20marker_5fda65cc76064b59ac6126d1945d702a%20%3D%20L.marker%28%0A%20%20%20%20%20%20%20%20%20%20%20%20%20%20%20%20%5B51.05457916352193%2C%204.123997224926949%5D%2C%0A%20%20%20%20%20%20%20%20%20%20%20%20%20%20%20%20%7B%7D%0A%20%20%20%20%20%20%20%20%20%20%20%20%29.addTo%28marker_cluster_e8f5a78279154845b772b473819d6544%29%3B%0A%20%20%20%20%20%20%20%20%0A%20%20%20%20%0A%20%20%20%20%20%20%20%20var%20popup_d15bfa7f430643de80a98a992ec418bd%20%3D%20L.popup%28%7B%22maxWidth%22%3A%20%22100%25%22%7D%29%3B%0A%0A%20%20%20%20%20%20%20%20%0A%20%20%20%20%20%20%20%20%20%20%20%20var%20html_4369fd0021114d39bf9794b42fd5ddd6%20%3D%20%24%28%60%3Cdiv%20id%3D%22html_4369fd0021114d39bf9794b42fd5ddd6%22%20style%3D%22width%3A%20100.0%25%3B%20height%3A%20100.0%25%3B%22%3EBodemlocatie%3A%20https%3A//www.dov.vlaanderen.be/data/bodemlocatie/1952-005854%3Cbr%3E%20Bodemobservatie%3A%20https%3A//www.dov.vlaanderen.be/data/bodemobservatie/2019-714081%3Cbr%3E%20Value%3A%201.30703789636504%25%3C/div%3E%60%29%5B0%5D%3B%0A%20%20%20%20%20%20%20%20%20%20%20%20popup_d15bfa7f430643de80a98a992ec418bd.setContent%28html_4369fd0021114d39bf9794b42fd5ddd6%29%3B%0A%20%20%20%20%20%20%20%20%0A%0A%20%20%20%20%20%20%20%20marker_5fda65cc76064b59ac6126d1945d702a.bindPopup%28popup_d15bfa7f430643de80a98a992ec418bd%29%0A%20%20%20%20%20%20%20%20%3B%0A%0A%20%20%20%20%20%20%20%20%0A%20%20%20%20%0A%20%20%20%20%0A%20%20%20%20%20%20%20%20%20%20%20%20var%20marker_49e7f0da43cc4b6fad48b9847b64a4e1%20%3D%20L.marker%28%0A%20%20%20%20%20%20%20%20%20%20%20%20%20%20%20%20%5B51.00742118560304%2C%204.18808873985202%5D%2C%0A%20%20%20%20%20%20%20%20%20%20%20%20%20%20%20%20%7B%7D%0A%20%20%20%20%20%20%20%20%20%20%20%20%29.addTo%28marker_cluster_e8f5a78279154845b772b473819d6544%29%3B%0A%20%20%20%20%20%20%20%20%0A%20%20%20%20%0A%20%20%20%20%20%20%20%20var%20popup_7e84fd3d4f9546ba9a22d76213f35eb7%20%3D%20L.popup%28%7B%22maxWidth%22%3A%20%22100%25%22%7D%29%3B%0A%0A%20%20%20%20%20%20%20%20%0A%20%20%20%20%20%20%20%20%20%20%20%20var%20html_57ebf95b8e004c9685340ce6d17eb785%20%3D%20%24%28%60%3Cdiv%20id%3D%22html_57ebf95b8e004c9685340ce6d17eb785%22%20style%3D%22width%3A%20100.0%25%3B%20height%3A%20100.0%25%3B%22%3EBodemlocatie%3A%20https%3A//www.dov.vlaanderen.be/data/bodemlocatie/1952-005994%3Cbr%3E%20Bodemobservatie%3A%20https%3A//www.dov.vlaanderen.be/data/bodemobservatie/2019-730890%3Cbr%3E%20Value%3A%200.889404485692189%25%3C/div%3E%60%29%5B0%5D%3B%0A%20%20%20%20%20%20%20%20%20%20%20%20popup_7e84fd3d4f9546ba9a22d76213f35eb7.setContent%28html_57ebf95b8e004c9685340ce6d17eb785%29%3B%0A%20%20%20%20%20%20%20%20%0A%0A%20%20%20%20%20%20%20%20marker_49e7f0da43cc4b6fad48b9847b64a4e1.bindPopup%28popup_7e84fd3d4f9546ba9a22d76213f35eb7%29%0A%20%20%20%20%20%20%20%20%3B%0A%0A%20%20%20%20%20%20%20%20%0A%20%20%20%20%0A%20%20%20%20%0A%20%20%20%20%20%20%20%20%20%20%20%20var%20marker_964ddf64f04e47f5bb83091f98843603%20%3D%20L.marker%28%0A%20%20%20%20%20%20%20%20%20%20%20%20%20%20%20%20%5B51.252616238733346%2C%204.177144113405867%5D%2C%0A%20%20%20%20%20%20%20%20%20%20%20%20%20%20%20%20%7B%7D%0A%20%20%20%20%20%20%20%20%20%20%20%20%29.addTo%28marker_cluster_e8f5a78279154845b772b473819d6544%29%3B%0A%20%20%20%20%20%20%20%20%0A%20%20%20%20%0A%20%20%20%20%20%20%20%20var%20popup_880904a2408c4f05989ed4202277baa4%20%3D%20L.popup%28%7B%22maxWidth%22%3A%20%22100%25%22%7D%29%3B%0A%0A%20%20%20%20%20%20%20%20%0A%20%20%20%20%20%20%20%20%20%20%20%20var%20html_81e171f6fd4648e493890ffce262238f%20%3D%20%24%28%60%3Cdiv%20id%3D%22html_81e171f6fd4648e493890ffce262238f%22%20style%3D%22width%3A%20100.0%25%3B%20height%3A%20100.0%25%3B%22%3EBodemlocatie%3A%20https%3A//www.dov.vlaanderen.be/data/bodemlocatie/1950-006828%3Cbr%3E%20Bodemobservatie%3A%20https%3A//www.dov.vlaanderen.be/data/bodemobservatie/2019-835021%3Cbr%3E%20Value%3A%201.78654292343387%25%3C/div%3E%60%29%5B0%5D%3B%0A%20%20%20%20%20%20%20%20%20%20%20%20popup_880904a2408c4f05989ed4202277baa4.setContent%28html_81e171f6fd4648e493890ffce262238f%29%3B%0A%20%20%20%20%20%20%20%20%0A%0A%20%20%20%20%20%20%20%20marker_964ddf64f04e47f5bb83091f98843603.bindPopup%28popup_880904a2408c4f05989ed4202277baa4%29%0A%20%20%20%20%20%20%20%20%3B%0A%0A%20%20%20%20%20%20%20%20%0A%20%20%20%20%0A%20%20%20%20%0A%20%20%20%20%20%20%20%20%20%20%20%20var%20marker_17c67b71310c454493ffdda448777bdc%20%3D%20L.marker%28%0A%20%20%20%20%20%20%20%20%20%20%20%20%20%20%20%20%5B50.80563876901591%2C%203.7090922423230146%5D%2C%0A%20%20%20%20%20%20%20%20%20%20%20%20%20%20%20%20%7B%7D%0A%20%20%20%20%20%20%20%20%20%20%20%20%29.addTo%28marker_cluster_e8f5a78279154845b772b473819d6544%29%3B%0A%20%20%20%20%20%20%20%20%0A%20%20%20%20%0A%20%20%20%20%20%20%20%20var%20popup_b778779eb3634d61bbc5cfdec49eaf28%20%3D%20L.popup%28%7B%22maxWidth%22%3A%20%22100%25%22%7D%29%3B%0A%0A%20%20%20%20%20%20%20%20%0A%20%20%20%20%20%20%20%20%20%20%20%20var%20html_c446e8578513442694721c274cc6b25a%20%3D%20%24%28%60%3Cdiv%20id%3D%22html_c446e8578513442694721c274cc6b25a%22%20style%3D%22width%3A%20100.0%25%3B%20height%3A%20100.0%25%3B%22%3EBodemlocatie%3A%20https%3A//www.dov.vlaanderen.be/data/bodemlocatie/1957-006935%3Cbr%3E%20Bodemobservatie%3A%20https%3A//www.dov.vlaanderen.be/data/bodemobservatie/2019-849265%3Cbr%3E%20Value%3A%200.920340293890178%25%3C/div%3E%60%29%5B0%5D%3B%0A%20%20%20%20%20%20%20%20%20%20%20%20popup_b778779eb3634d61bbc5cfdec49eaf28.setContent%28html_c446e8578513442694721c274cc6b25a%29%3B%0A%20%20%20%20%20%20%20%20%0A%0A%20%20%20%20%20%20%20%20marker_17c67b71310c454493ffdda448777bdc.bindPopup%28popup_b778779eb3634d61bbc5cfdec49eaf28%29%0A%20%20%20%20%20%20%20%20%3B%0A%0A%20%20%20%20%20%20%20%20%0A%20%20%20%20%0A%20%20%20%20%0A%20%20%20%20%20%20%20%20%20%20%20%20var%20marker_0adf587b01ea4bd1883c9401ccf2bb3f%20%3D%20L.marker%28%0A%20%20%20%20%20%20%20%20%20%20%20%20%20%20%20%20%5B51.016284787041585%2C%203.7893414752492687%5D%2C%0A%20%20%20%20%20%20%20%20%20%20%20%20%20%20%20%20%7B%7D%0A%20%20%20%20%20%20%20%20%20%20%20%20%29.addTo%28marker_cluster_e8f5a78279154845b772b473819d6544%29%3B%0A%20%20%20%20%20%20%20%20%0A%20%20%20%20%0A%20%20%20%20%20%20%20%20var%20popup_1e42f108600c4aa99e46f494c2eac7de%20%3D%20L.popup%28%7B%22maxWidth%22%3A%20%22100%25%22%7D%29%3B%0A%0A%20%20%20%20%20%20%20%20%0A%20%20%20%20%20%20%20%20%20%20%20%20var%20html_fa648bf0ae8549a3a8653d845f4bca2f%20%3D%20%24%28%60%3Cdiv%20id%3D%22html_fa648bf0ae8549a3a8653d845f4bca2f%22%20style%3D%22width%3A%20100.0%25%3B%20height%3A%20100.0%25%3B%22%3EBodemlocatie%3A%20https%3A//www.dov.vlaanderen.be/data/bodemlocatie/1950-007637%3Cbr%3E%20Bodemobservatie%3A%20https%3A//www.dov.vlaanderen.be/data/bodemobservatie/2019-941244%3Cbr%3E%20Value%3A%200.765661252900232%25%3C/div%3E%60%29%5B0%5D%3B%0A%20%20%20%20%20%20%20%20%20%20%20%20popup_1e42f108600c4aa99e46f494c2eac7de.setContent%28html_fa648bf0ae8549a3a8653d845f4bca2f%29%3B%0A%20%20%20%20%20%20%20%20%0A%0A%20%20%20%20%20%20%20%20marker_0adf587b01ea4bd1883c9401ccf2bb3f.bindPopup%28popup_1e42f108600c4aa99e46f494c2eac7de%29%0A%20%20%20%20%20%20%20%20%3B%0A%0A%20%20%20%20%20%20%20%20%0A%20%20%20%20%0A%3C/script%3E onload=\"this.contentDocument.open();this.contentDocument.write(    decodeURIComponent(this.getAttribute('data-html')));this.contentDocument.close();\" allowfullscreen webkitallowfullscreen mozallowfullscreen></iframe></div></div>"
      ],
      "text/plain": [
       "<folium.folium.Map at 0x182c6019d08>"
      ]
     },
     "execution_count": 20,
     "metadata": {},
     "output_type": "execute_result"
    }
   ],
   "source": [
    "import folium\n",
    "from folium.plugins import MarkerCluster\n",
    "from pyproj import Transformer\n",
    "\n",
    "# convert the coordinates to lat/lon for folium\n",
    "def convert_latlon(x1, y1):\n",
    "    transformer = Transformer.from_crs(\"epsg:31370\", \"epsg:4326\", always_xy=True)\n",
    "    x2,y2 = transformer.transform(x1, y1)\n",
    "    return x2, y2\n",
    "\n",
    "#convert coordinates to wgs84\n",
    "merged['lon'], merged['lat'] = zip(*map(convert_latlon, merged['x'], merged['y']))\n",
    "\n",
    "# Get only location and value\n",
    "loclist = merged[['lat', 'lon']].values.tolist()\n",
    "\n",
    "# initialize the Folium map on the centre of the selected locations, play with the zoom until ok\n",
    "fmap = folium.Map(location=[merged['lat'].mean(), merged['lon'].mean()], zoom_start=10)\n",
    "marker_cluster = MarkerCluster().add_to(fmap)\n",
    "for loc in range(0, len(loclist)):\n",
    "    popup = 'Bodemlocatie: ' + merged['pkey_bodemlocatie'][loc] \n",
    "    popup = popup + '<br> Bodemobservatie: ' + merged['pkey_bodemobservatie'][loc]\n",
    "    popup = popup + '<br> Value: ' + merged['waarde'][loc] + \"%\"\n",
    "    folium.Marker(loclist[loc], popup=popup).add_to(marker_cluster)\n",
    "fmap"
   ]
  },
  {
   "cell_type": "markdown",
   "metadata": {},
   "source": [
    "### Calculate carbon stock in Ghent in the layer 0 - 23 cm"
   ]
  },
  {
   "cell_type": "markdown",
   "metadata": {},
   "source": [
    "*At the moment, there are no bulkdensities available. As soon as there are observations with bulkdensities, this example can be used to calculate a carbon stock in a layer.*"
   ]
  },
  {
   "cell_type": "markdown",
   "metadata": {},
   "source": [
    "Get boundaries of Ghent using WFS"
   ]
  },
  {
   "cell_type": "code",
   "execution_count": 21,
   "metadata": {},
   "outputs": [],
   "source": [
    "from owslib.etree import etree\n",
    "from owslib.wfs import WebFeatureService\n",
    "from pydov.util.location import (\n",
    "    GmlFilter,\n",
    "    Within,\n",
    ")\n",
    "\n",
    "stadsgrenzen = WebFeatureService(\n",
    "    'https://geoservices.informatievlaanderen.be/overdrachtdiensten/VRBG/wfs',\n",
    "    version='1.1.0')\n",
    "\n",
    "gent_filter = PropertyIsEqualTo(propertyname='NAAM', literal='Gent')\n",
    "gent_poly = stadsgrenzen.getfeature(\n",
    "    typename='VRBG:Refgem',\n",
    "    filter=etree.tostring(gent_filter.toXML()).decode(\"utf8\")).read()"
   ]
  },
  {
   "cell_type": "markdown",
   "metadata": {},
   "source": [
    "First get all observations in Ghent for organisch C percentage in requested layer"
   ]
  },
  {
   "cell_type": "code",
   "execution_count": 22,
   "metadata": {},
   "outputs": [
    {
     "name": "stdout",
     "output_type": "stream",
     "text": [
      "[000/247] cccccccccccccccccccccccccccccccccccccccccccccccccc\n",
      "[050/247] cccccccccccccccccccccccccccccccccccccccccccccccccc\n",
      "[100/247] cccccccccccccccccccccccccccccccccccccccccccccccccc\n",
      "[150/247] cccccccccccccccccccccccccccccccccccccccccccccccccc\n",
      "[200/247] ccccccccccccccccccccccccccccccccccccccccccccccc\n"
     ]
    },
    {
     "data": {
      "text/html": [
       "<div>\n",
       "<style scoped>\n",
       "    .dataframe tbody tr th:only-of-type {\n",
       "        vertical-align: middle;\n",
       "    }\n",
       "\n",
       "    .dataframe tbody tr th {\n",
       "        vertical-align: top;\n",
       "    }\n",
       "\n",
       "    .dataframe thead th {\n",
       "        text-align: right;\n",
       "    }\n",
       "</style>\n",
       "<table border=\"1\" class=\"dataframe\">\n",
       "  <thead>\n",
       "    <tr style=\"text-align: right;\">\n",
       "      <th></th>\n",
       "      <th>pkey_bodemlocatie</th>\n",
       "      <th>organic_c_percentage</th>\n",
       "    </tr>\n",
       "  </thead>\n",
       "  <tbody>\n",
       "    <tr>\n",
       "      <th>0</th>\n",
       "      <td>https://www.dov.vlaanderen.be/data/bodemlocati...</td>\n",
       "      <td>1.10595514307811</td>\n",
       "    </tr>\n",
       "    <tr>\n",
       "      <th>1</th>\n",
       "      <td>https://www.dov.vlaanderen.be/data/bodemlocati...</td>\n",
       "      <td>3.58855375096674</td>\n",
       "    </tr>\n",
       "    <tr>\n",
       "      <th>2</th>\n",
       "      <td>https://www.dov.vlaanderen.be/data/bodemlocati...</td>\n",
       "      <td>1.805</td>\n",
       "    </tr>\n",
       "    <tr>\n",
       "      <th>3</th>\n",
       "      <td>https://www.dov.vlaanderen.be/data/bodemlocati...</td>\n",
       "      <td>1.36890951276102</td>\n",
       "    </tr>\n",
       "    <tr>\n",
       "      <th>4</th>\n",
       "      <td>https://www.dov.vlaanderen.be/data/bodemlocati...</td>\n",
       "      <td>2.45939675174014</td>\n",
       "    </tr>\n",
       "  </tbody>\n",
       "</table>\n",
       "</div>"
      ],
      "text/plain": [
       "                                   pkey_bodemlocatie organic_c_percentage\n",
       "0  https://www.dov.vlaanderen.be/data/bodemlocati...     1.10595514307811\n",
       "1  https://www.dov.vlaanderen.be/data/bodemlocati...     3.58855375096674\n",
       "2  https://www.dov.vlaanderen.be/data/bodemlocati...                1.805\n",
       "3  https://www.dov.vlaanderen.be/data/bodemlocati...     1.36890951276102\n",
       "4  https://www.dov.vlaanderen.be/data/bodemlocati...     2.45939675174014"
      ]
     },
     "execution_count": 22,
     "metadata": {},
     "output_type": "execute_result"
    }
   ],
   "source": [
    "from owslib.fes import PropertyIsEqualTo, PropertyIsGreaterThan, PropertyIsLessThan\n",
    "from owslib.fes import And\n",
    "\n",
    "from pydov.search.bodemobservatie import BodemobservatieSearch\n",
    "\n",
    "bodemobservatie = BodemobservatieSearch()\n",
    "\n",
    "# all layers intersect the layer 0-23cm\n",
    "carbon_observaties = bodemobservatie.search(\n",
    "        location=GmlFilter(gent_poly, Within),\n",
    "        query=And([\n",
    "            PropertyIsEqualTo(propertyname=\"parameter\", literal=\"Organische C - percentage\"),\n",
    "            PropertyIsGreaterThan(propertyname=\"diepte_tot\", literal = '0'),\n",
    "            PropertyIsLessThan(propertyname=\"diepte_van\", literal = '23')\n",
    "        ]))\n",
    "carbon_observaties = carbon_observaties[['pkey_bodemlocatie', 'waarde']]\n",
    "carbon_observaties = carbon_observaties.rename(columns={\"waarde\": \"organic_c_percentage\"})\n",
    "carbon_observaties.head()\n"
   ]
  },
  {
   "cell_type": "markdown",
   "metadata": {},
   "source": [
    "Then get all observations in Ghent for bulkdensity in requested layer"
   ]
  },
  {
   "cell_type": "code",
   "execution_count": 23,
   "metadata": {},
   "outputs": [
    {
     "data": {
      "text/html": [
       "<div>\n",
       "<style scoped>\n",
       "    .dataframe tbody tr th:only-of-type {\n",
       "        vertical-align: middle;\n",
       "    }\n",
       "\n",
       "    .dataframe tbody tr th {\n",
       "        vertical-align: top;\n",
       "    }\n",
       "\n",
       "    .dataframe thead th {\n",
       "        text-align: right;\n",
       "    }\n",
       "</style>\n",
       "<table border=\"1\" class=\"dataframe\">\n",
       "  <thead>\n",
       "    <tr style=\"text-align: right;\">\n",
       "      <th></th>\n",
       "      <th>pkey_bodemlocatie</th>\n",
       "      <th>bulkdensity</th>\n",
       "    </tr>\n",
       "  </thead>\n",
       "  <tbody>\n",
       "  </tbody>\n",
       "</table>\n",
       "</div>"
      ],
      "text/plain": [
       "Empty DataFrame\n",
       "Columns: [pkey_bodemlocatie, bulkdensity]\n",
       "Index: []"
      ]
     },
     "execution_count": 23,
     "metadata": {},
     "output_type": "execute_result"
    }
   ],
   "source": [
    "density_observaties = bodemobservatie.search(\n",
    "        location=GmlFilter(gent_poly, Within),\n",
    "        query=And([\n",
    "            PropertyIsEqualTo(propertyname=\"parameter\", literal=\"Bulkdensitiet - gemeten\"),\n",
    "            PropertyIsGreaterThan(propertyname=\"diepte_tot\", literal = '0'),\n",
    "            PropertyIsLessThan(propertyname=\"diepte_van\", literal = '23')\n",
    "        ]))\n",
    "\n",
    "\n",
    "density_observaties = density_observaties[['pkey_bodemlocatie', 'waarde']]\n",
    "density_observaties = density_observaties.rename(columns={\"waarde\": \"bulkdensity\"})\n",
    "density_observaties.head()"
   ]
  },
  {
   "cell_type": "markdown",
   "metadata": {},
   "source": [
    "Merge results together based on their bodemlocatie. Only remains the records where both parameters exists"
   ]
  },
  {
   "cell_type": "code",
   "execution_count": 24,
   "metadata": {},
   "outputs": [
    {
     "data": {
      "text/html": [
       "<div>\n",
       "<style scoped>\n",
       "    .dataframe tbody tr th:only-of-type {\n",
       "        vertical-align: middle;\n",
       "    }\n",
       "\n",
       "    .dataframe tbody tr th {\n",
       "        vertical-align: top;\n",
       "    }\n",
       "\n",
       "    .dataframe thead th {\n",
       "        text-align: right;\n",
       "    }\n",
       "</style>\n",
       "<table border=\"1\" class=\"dataframe\">\n",
       "  <thead>\n",
       "    <tr style=\"text-align: right;\">\n",
       "      <th></th>\n",
       "      <th>pkey_bodemlocatie</th>\n",
       "      <th>organic_c_percentage</th>\n",
       "      <th>bulkdensity</th>\n",
       "    </tr>\n",
       "  </thead>\n",
       "  <tbody>\n",
       "  </tbody>\n",
       "</table>\n",
       "</div>"
      ],
      "text/plain": [
       "Empty DataFrame\n",
       "Columns: [pkey_bodemlocatie, organic_c_percentage, bulkdensity]\n",
       "Index: []"
      ]
     },
     "execution_count": 24,
     "metadata": {},
     "output_type": "execute_result"
    }
   ],
   "source": [
    "import pandas as pd\n",
    "\n",
    "merged = pd.merge(carbon_observaties, density_observaties, on=\"pkey_bodemlocatie\")\n",
    "\n",
    "merged.head()"
   ]
  },
  {
   "cell_type": "code",
   "execution_count": null,
   "metadata": {},
   "outputs": [],
   "source": []
  },
  {
   "cell_type": "code",
   "execution_count": null,
   "metadata": {},
   "outputs": [],
   "source": []
  }
 ],
 "metadata": {
  "kernelspec": {
   "display_name": "Python 3",
   "language": "python",
   "name": "python3"
  },
  "language_info": {
   "codemirror_mode": {
    "name": "ipython",
    "version": 3
   },
   "file_extension": ".py",
   "mimetype": "text/x-python",
   "name": "python",
   "nbconvert_exporter": "python",
   "pygments_lexer": "ipython3",
   "version": "3.7.7"
  }
 },
 "nbformat": 4,
 "nbformat_minor": 4
}
