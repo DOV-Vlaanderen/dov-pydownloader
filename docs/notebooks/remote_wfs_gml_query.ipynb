{
 "cells": [
  {
   "cell_type": "markdown",
   "metadata": {},
   "source": [
    "# Example of DOV search methods based on external WFS"
   ]
  },
  {
   "cell_type": "markdown",
   "metadata": {},
   "source": [
    "## Use cases"
   ]
  },
  {
   "cell_type": "markdown",
   "metadata": {},
   "source": [
    "- Filter data within a certain community using its geographic borders\n",
    "- Filter data within a geographic boundary of a feature in layer \"Bekken\"\n",
    "- Filter data within a geographic boundary of a feature in layer \"HHZ\"\n",
    "- Filter data within a geographic boundary of a feature in layer \"Grondwaterlichamen\""
   ]
  },
  {
   "cell_type": "code",
   "execution_count": 1,
   "metadata": {},
   "outputs": [],
   "source": [
    "%matplotlib inline\n",
    "import matplotlib.pyplot as plt\n",
    "\n",
    "from owslib.etree import etree\n",
    "from owslib.fes import PropertyIsEqualTo\n",
    "from owslib.wfs import WebFeatureService\n",
    "\n",
    "from pydov.search.boring import BoringSearch\n",
    "from pydov.search.grondwaterfilter import GrondwaterFilterSearch\n",
    "\n",
    "from pydov.util.location import (\n",
    "    GmlFilter,\n",
    "    Within,\n",
    ")"
   ]
  },
  {
   "cell_type": "markdown",
   "metadata": {},
   "source": [
    "# Filter data within a certain community using its geographic borders"
   ]
  },
  {
   "cell_type": "markdown",
   "metadata": {},
   "source": [
    "Load layer:"
   ]
  },
  {
   "cell_type": "code",
   "execution_count": 2,
   "metadata": {},
   "outputs": [],
   "source": [
    "gemeentegrenzen = WebFeatureService(\n",
    "    'https://geoservices.informatievlaanderen.be/overdrachtdiensten/VRBG/wfs',\n",
    "    version='1.1.0')"
   ]
  },
  {
   "cell_type": "markdown",
   "metadata": {},
   "source": [
    "Optional get available fields (properties) of a layer:"
   ]
  },
  {
   "cell_type": "code",
   "execution_count": 3,
   "metadata": {},
   "outputs": [
    {
     "data": {
      "text/plain": [
       "{'UIDN': 'decimal',\n",
       " 'OIDN': 'decimal',\n",
       " 'TERRID': 'decimal',\n",
       " 'NISCODE': 'string',\n",
       " 'NAAM': 'string',\n",
       " 'DATPUBLBS': 'date',\n",
       " 'NUMAC': 'string'}"
      ]
     },
     "execution_count": 3,
     "metadata": {},
     "output_type": "execute_result"
    }
   ],
   "source": [
    "gemeentegrenzen.get_schema('VRBG:Refgem')['properties']"
   ]
  },
  {
   "cell_type": "markdown",
   "metadata": {},
   "source": [
    "Create a custom boundary of an administrative area: "
   ]
  },
  {
   "cell_type": "code",
   "execution_count": 4,
   "metadata": {},
   "outputs": [],
   "source": [
    "naam_filter = PropertyIsEqualTo(propertyname='NAAM', literal='Lievegem')"
   ]
  },
  {
   "cell_type": "code",
   "execution_count": 5,
   "metadata": {},
   "outputs": [],
   "source": [
    "gemeente_poly = gemeentegrenzen.getfeature(\n",
    "    typename='VRBG:Refgem',\n",
    "    filter=etree.tostring(naam_filter.toXML()).decode(\"utf8\")).read()"
   ]
  },
  {
   "cell_type": "markdown",
   "metadata": {},
   "source": [
    "Search all \"boringen\" within the administrative area: "
   ]
  },
  {
   "cell_type": "code",
   "execution_count": 6,
   "metadata": {},
   "outputs": [],
   "source": [
    "bs = BoringSearch()\n",
    "df = bs.search(\n",
    "    location=GmlFilter(gemeente_poly, Within),\n",
    "    return_fields=('pkey_boring', 'gemeente'))"
   ]
  },
  {
   "cell_type": "code",
   "execution_count": 7,
   "metadata": {},
   "outputs": [
    {
     "data": {
      "text/html": [
       "<div>\n",
       "<style scoped>\n",
       "    .dataframe tbody tr th:only-of-type {\n",
       "        vertical-align: middle;\n",
       "    }\n",
       "\n",
       "    .dataframe tbody tr th {\n",
       "        vertical-align: top;\n",
       "    }\n",
       "\n",
       "    .dataframe thead th {\n",
       "        text-align: right;\n",
       "    }\n",
       "</style>\n",
       "<table border=\"1\" class=\"dataframe\">\n",
       "  <thead>\n",
       "    <tr style=\"text-align: right;\">\n",
       "      <th></th>\n",
       "      <th>gemeente</th>\n",
       "      <th>counts</th>\n",
       "    </tr>\n",
       "  </thead>\n",
       "  <tbody>\n",
       "    <tr>\n",
       "      <th>0</th>\n",
       "      <td>Gent</td>\n",
       "      <td>2</td>\n",
       "    </tr>\n",
       "    <tr>\n",
       "      <th>1</th>\n",
       "      <td>Knesselare</td>\n",
       "      <td>2</td>\n",
       "    </tr>\n",
       "    <tr>\n",
       "      <th>2</th>\n",
       "      <td>Lievegem</td>\n",
       "      <td>12</td>\n",
       "    </tr>\n",
       "    <tr>\n",
       "      <th>3</th>\n",
       "      <td>Lovendegem</td>\n",
       "      <td>110</td>\n",
       "    </tr>\n",
       "    <tr>\n",
       "      <th>4</th>\n",
       "      <td>Nevele</td>\n",
       "      <td>1</td>\n",
       "    </tr>\n",
       "    <tr>\n",
       "      <th>5</th>\n",
       "      <td>Veurne</td>\n",
       "      <td>1</td>\n",
       "    </tr>\n",
       "    <tr>\n",
       "      <th>6</th>\n",
       "      <td>Waarschoot</td>\n",
       "      <td>57</td>\n",
       "    </tr>\n",
       "    <tr>\n",
       "      <th>7</th>\n",
       "      <td>Zomergem</td>\n",
       "      <td>130</td>\n",
       "    </tr>\n",
       "  </tbody>\n",
       "</table>\n",
       "</div>"
      ],
      "text/plain": [
       "     gemeente  counts\n",
       "0        Gent       2\n",
       "1  Knesselare       2\n",
       "2    Lievegem      12\n",
       "3  Lovendegem     110\n",
       "4      Nevele       1\n",
       "5      Veurne       1\n",
       "6  Waarschoot      57\n",
       "7    Zomergem     130"
      ]
     },
     "execution_count": 7,
     "metadata": {},
     "output_type": "execute_result"
    }
   ],
   "source": [
    "df.groupby('gemeente').size().reset_index(name='counts')"
   ]
  },
  {
   "cell_type": "markdown",
   "metadata": {},
   "source": [
    "# Filter data within a geographic boundary of a feature in layer \"Bekken\""
   ]
  },
  {
   "cell_type": "markdown",
   "metadata": {},
   "source": [
    "Load layer:"
   ]
  },
  {
   "cell_type": "code",
   "execution_count": 8,
   "metadata": {},
   "outputs": [],
   "source": [
    "bekkens = WebFeatureService(\n",
    "    'https://geoservices.informatievlaanderen.be/overdrachtdiensten/VHAZones/wfs',\n",
    "    version='1.1.0'\n",
    ")"
   ]
  },
  {
   "cell_type": "markdown",
   "metadata": {},
   "source": [
    "Optional list available layers:"
   ]
  },
  {
   "cell_type": "code",
   "execution_count": 9,
   "metadata": {},
   "outputs": [
    {
     "data": {
      "text/plain": [
       "['VHAZones:Bekken', 'VHAZones:Deelbekken', 'VHAZones:Vhazone']"
      ]
     },
     "execution_count": 9,
     "metadata": {},
     "output_type": "execute_result"
    }
   ],
   "source": [
    "list(bekkens.contents)"
   ]
  },
  {
   "cell_type": "markdown",
   "metadata": {},
   "source": [
    "Optional get available fields (properties) of a layer:"
   ]
  },
  {
   "cell_type": "code",
   "execution_count": 10,
   "metadata": {},
   "outputs": [
    {
     "data": {
      "text/plain": [
       "{'UIDN': 'decimal',\n",
       " 'OIDN': 'decimal',\n",
       " 'BEKNR': 'short',\n",
       " 'BEKNAAM': 'string',\n",
       " 'STRMGEB': 'string'}"
      ]
     },
     "execution_count": 10,
     "metadata": {},
     "output_type": "execute_result"
    }
   ],
   "source": [
    "bekkens.get_schema('VHAZones:Bekken')['properties']"
   ]
  },
  {
   "cell_type": "markdown",
   "metadata": {},
   "source": [
    "Get distinct values of a field:"
   ]
  },
  {
   "cell_type": "code",
   "execution_count": 11,
   "metadata": {},
   "outputs": [
    {
     "data": {
      "text/plain": [
       "{'Bekken Brugse polders',\n",
       " 'Bekken Gentse kanalen',\n",
       " 'Beneden-Scheldebekken',\n",
       " 'Boven-Scheldebekken',\n",
       " 'Demerbekken',\n",
       " 'Denderbekken',\n",
       " 'Dijlebekken',\n",
       " 'Ijzerbekken',\n",
       " 'Leiebekken',\n",
       " 'Maasbekken',\n",
       " 'Netebekken'}"
      ]
     },
     "execution_count": 11,
     "metadata": {},
     "output_type": "execute_result"
    }
   ],
   "source": [
    "tree = etree.fromstring(bekkens.getfeature('VHAZones:Bekken', propertyname='BEKNAAM').read().encode(\"utf8\"))\n",
    "set((i.text for i in tree.findall('.//{%s}BEKNAAM' % tree.nsmap['VHAZones'])))"
   ]
  },
  {
   "cell_type": "markdown",
   "metadata": {},
   "source": [
    "Build filter:"
   ]
  },
  {
   "cell_type": "code",
   "execution_count": 12,
   "metadata": {},
   "outputs": [],
   "source": [
    "naam_filter = PropertyIsEqualTo(propertyname='BEKNAAM', literal='Bekken Brugse polders')"
   ]
  },
  {
   "cell_type": "markdown",
   "metadata": {},
   "source": [
    "Get features matching filter"
   ]
  },
  {
   "cell_type": "code",
   "execution_count": 13,
   "metadata": {},
   "outputs": [],
   "source": [
    "bekken_poly = bekkens.getfeature(\n",
    "    typename='VHAZones:Bekken',\n",
    "    filter=etree.tostring(naam_filter.toXML()).decode(\"utf8\")).read()"
   ]
  },
  {
   "cell_type": "markdown",
   "metadata": {},
   "source": [
    "Get DOV data based on feature geometry"
   ]
  },
  {
   "cell_type": "code",
   "execution_count": 14,
   "metadata": {},
   "outputs": [],
   "source": [
    "filter_search = GrondwaterFilterSearch()\n",
    "df = filter_search.search(\n",
    "    max_features = 100,\n",
    "    location=GmlFilter(bekken_poly, Within),\n",
    "    return_fields=('pkey_filter', 'x', 'y')\n",
    ")"
   ]
  },
  {
   "cell_type": "markdown",
   "metadata": {},
   "source": [
    "Show on map:"
   ]
  },
  {
   "cell_type": "code",
   "execution_count": 15,
   "metadata": {},
   "outputs": [],
   "source": [
    "# import the necessary modules (not included in the requirements of pydov!)\n",
    "import folium\n",
    "from folium.plugins import MarkerCluster\n",
    "from pyproj import Proj, transform"
   ]
  },
  {
   "cell_type": "code",
   "execution_count": 16,
   "metadata": {},
   "outputs": [],
   "source": [
    "# convert the coordinates to lat/lon for folium\n",
    "def convert_latlon(x1, y1):\n",
    "    inProj = Proj(init='epsg:31370')\n",
    "    outProj = Proj(init='epsg:4326')\n",
    "    x2,y2 = transform(inProj, outProj, x1, y1)\n",
    "    return x2, y2\n",
    "df['lon'], df['lat'] = zip(*map(convert_latlon, df['x'], df['y']))\n",
    "# convert to list\n",
    "loclist = df[['lat', 'lon']].values.tolist()"
   ]
  },
  {
   "cell_type": "code",
   "execution_count": 17,
   "metadata": {},
   "outputs": [
    {
     "data": {
      "text/html": [
       "<div style=\"width:100%;\"><div style=\"position:relative;width:100%;height:0;padding-bottom:60%;\"><iframe src=\"data:text/html;charset=utf-8;base64,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\" style=\"position:absolute;width:100%;height:100%;left:0;top:0;border:none !important;\" allowfullscreen webkitallowfullscreen mozallowfullscreen></iframe></div></div>"
      ],
      "text/plain": [
       "<folium.folium.Map at 0x1e1964257b8>"
      ]
     },
     "execution_count": 17,
     "metadata": {},
     "output_type": "execute_result"
    }
   ],
   "source": [
    "# initialize the Folium map on the centre of the selected locations, play with the zoom until ok\n",
    "fmap = folium.Map(location=[df['lat'].mean(), df['lon'].mean()], zoom_start=10)\n",
    "marker_cluster = MarkerCluster().add_to(fmap)\n",
    "for loc in range(0, len(loclist)):\n",
    "    folium.Marker(loclist[loc], popup=df['pkey_filter'][loc]).add_to(marker_cluster)\n",
    "fmap"
   ]
  },
  {
   "cell_type": "markdown",
   "metadata": {},
   "source": [
    "# Filter data within a geographic boundary of a feature in layer \"HHZ\""
   ]
  },
  {
   "cell_type": "code",
   "execution_count": 18,
   "metadata": {},
   "outputs": [],
   "source": [
    "hhz = WebFeatureService(\n",
    "    'https://www.dov.vlaanderen.be/geoserver/wfs',\n",
    "    version='1.1.0')"
   ]
  },
  {
   "cell_type": "markdown",
   "metadata": {
    "scrolled": true
   },
   "source": [
    "todo hhz.get_schema(\"gw_varia:hhz\")"
   ]
  },
  {
   "cell_type": "markdown",
   "metadata": {},
   "source": [
    "# Filter data within a geographic boundary of a feature in layer \"Grondwaterlichamen\""
   ]
  },
  {
   "cell_type": "code",
   "execution_count": 19,
   "metadata": {},
   "outputs": [],
   "source": [
    "gwl = WebFeatureService(\n",
    "    'https://www.dov.vlaanderen.be/geoserver/wfs',\n",
    "    version='1.1.0')"
   ]
  },
  {
   "cell_type": "code",
   "execution_count": 20,
   "metadata": {},
   "outputs": [
    {
     "data": {
      "text/plain": [
       "{'properties': {'id': 'long',\n",
       "  'grondwaterlichaam_afkorting': 'string',\n",
       "  'grondwaterlichaam': 'string',\n",
       "  'grondwatersysteem': 'string',\n",
       "  'EU_code': 'string',\n",
       "  'stroomgebiedsdistrict': 'string',\n",
       "  'horizonten': 'string'},\n",
       " 'geometry': '3D MultiPolygon',\n",
       " 'geometry_column': 'geom'}"
      ]
     },
     "execution_count": 20,
     "metadata": {},
     "output_type": "execute_result"
    }
   ],
   "source": [
    "gwl.get_schema(\"gw_beleid:gwlichamen\")"
   ]
  },
  {
   "cell_type": "code",
   "execution_count": 21,
   "metadata": {},
   "outputs": [],
   "source": [
    "grondwaterlichaam_filter = PropertyIsEqualTo(propertyname='grondwaterlichaam_afkorting', literal='BLKS_0600_GWL_1')"
   ]
  },
  {
   "cell_type": "code",
   "execution_count": 22,
   "metadata": {},
   "outputs": [],
   "source": [
    "grondwaterlichaam_poly = gwl.getfeature(\n",
    "    typename='gw_beleid:gwlichamen',\n",
    "    filter=etree.tostring(grondwaterlichaam_filter.toXML()).decode(\"utf8\")).read()"
   ]
  },
  {
   "cell_type": "code",
   "execution_count": 23,
   "metadata": {},
   "outputs": [],
   "source": [
    "gemeentegrenzen = WebFeatureService(\n",
    "    'https://geoservices.informatievlaanderen.be/overdrachtdiensten/VRBG/wfs',\n",
    "    version='1.1.0')"
   ]
  },
  {
   "cell_type": "code",
   "execution_count": 24,
   "metadata": {},
   "outputs": [],
   "source": [
    "naam_filter = PropertyIsEqualTo(propertyname='NAAM', literal='Hoegaarden')"
   ]
  },
  {
   "cell_type": "code",
   "execution_count": 25,
   "metadata": {},
   "outputs": [],
   "source": [
    "gemeente_poly = gemeentegrenzen.getfeature(\n",
    "    typename='VRBG:Refgem',\n",
    "    filter=etree.tostring(naam_filter.toXML()).decode(\"utf8\")).read()"
   ]
  },
  {
   "cell_type": "code",
   "execution_count": 26,
   "metadata": {},
   "outputs": [],
   "source": [
    "from owslib.fes import And"
   ]
  },
  {
   "cell_type": "code",
   "execution_count": 27,
   "metadata": {},
   "outputs": [
    {
     "name": "stdout",
     "output_type": "stream",
     "text": [
      "[000/047] ccccccccccccccccccccccccccccccccccccccccccccccc\n"
     ]
    }
   ],
   "source": [
    "filter_search = GrondwaterFilterSearch()\n",
    "df = filter_search.search(\n",
    "    location=And([GmlFilter(grondwaterlichaam_poly, Within), GmlFilter(gemeente_poly, Within)]),\n",
    "    return_fields=('pkey_filter', 'x', 'y', 'aquifer_code', 'gemeente', 'grondwaterlichaam_code'))"
   ]
  },
  {
   "cell_type": "code",
   "execution_count": 28,
   "metadata": {},
   "outputs": [
    {
     "data": {
      "text/html": [
       "<div>\n",
       "<style scoped>\n",
       "    .dataframe tbody tr th:only-of-type {\n",
       "        vertical-align: middle;\n",
       "    }\n",
       "\n",
       "    .dataframe tbody tr th {\n",
       "        vertical-align: top;\n",
       "    }\n",
       "\n",
       "    .dataframe thead th {\n",
       "        text-align: right;\n",
       "    }\n",
       "</style>\n",
       "<table border=\"1\" class=\"dataframe\">\n",
       "  <thead>\n",
       "    <tr style=\"text-align: right;\">\n",
       "      <th></th>\n",
       "      <th>pkey_filter</th>\n",
       "      <th>x</th>\n",
       "      <th>y</th>\n",
       "      <th>aquifer_code</th>\n",
       "      <th>gemeente</th>\n",
       "      <th>grondwaterlichaam_code</th>\n",
       "    </tr>\n",
       "  </thead>\n",
       "  <tbody>\n",
       "    <tr>\n",
       "      <th>0</th>\n",
       "      <td>https://www.dov.vlaanderen.be/data/filter/2003...</td>\n",
       "      <td>188318.6600</td>\n",
       "      <td>160810.980000</td>\n",
       "      <td>0620</td>\n",
       "      <td>Hoegaarden</td>\n",
       "      <td>BLKS_0600_GWL_1</td>\n",
       "    </tr>\n",
       "    <tr>\n",
       "      <th>1</th>\n",
       "      <td>https://www.dov.vlaanderen.be/data/filter/2003...</td>\n",
       "      <td>188318.6600</td>\n",
       "      <td>160810.980000</td>\n",
       "      <td>0620</td>\n",
       "      <td>Hoegaarden</td>\n",
       "      <td>BLKS_0600_GWL_1</td>\n",
       "    </tr>\n",
       "    <tr>\n",
       "      <th>2</th>\n",
       "      <td>https://www.dov.vlaanderen.be/data/filter/2003...</td>\n",
       "      <td>188318.6600</td>\n",
       "      <td>160810.980000</td>\n",
       "      <td>1010</td>\n",
       "      <td>Hoegaarden</td>\n",
       "      <td>BLKS_1000_GWL_1S</td>\n",
       "    </tr>\n",
       "    <tr>\n",
       "      <th>3</th>\n",
       "      <td>https://www.dov.vlaanderen.be/data/filter/1996...</td>\n",
       "      <td>183090.0000</td>\n",
       "      <td>165316.000000</td>\n",
       "      <td>0620</td>\n",
       "      <td>Hoegaarden</td>\n",
       "      <td>NaN</td>\n",
       "    </tr>\n",
       "    <tr>\n",
       "      <th>4</th>\n",
       "      <td>https://www.dov.vlaanderen.be/data/filter/1900...</td>\n",
       "      <td>182178.0000</td>\n",
       "      <td>165077.000000</td>\n",
       "      <td>1010</td>\n",
       "      <td>Hoegaarden</td>\n",
       "      <td>NaN</td>\n",
       "    </tr>\n",
       "    <tr>\n",
       "      <th>5</th>\n",
       "      <td>https://www.dov.vlaanderen.be/data/filter/2000...</td>\n",
       "      <td>185319.0000</td>\n",
       "      <td>165155.000000</td>\n",
       "      <td>1000</td>\n",
       "      <td>Hoegaarden</td>\n",
       "      <td>BLKS_1000_GWL_2S</td>\n",
       "    </tr>\n",
       "    <tr>\n",
       "      <th>6</th>\n",
       "      <td>https://www.dov.vlaanderen.be/data/filter/1950...</td>\n",
       "      <td>182992.0000</td>\n",
       "      <td>165091.000000</td>\n",
       "      <td>1010</td>\n",
       "      <td>Hoegaarden</td>\n",
       "      <td>NaN</td>\n",
       "    </tr>\n",
       "    <tr>\n",
       "      <th>7</th>\n",
       "      <td>https://www.dov.vlaanderen.be/data/filter/2003...</td>\n",
       "      <td>185891.3600</td>\n",
       "      <td>165155.100000</td>\n",
       "      <td>0600</td>\n",
       "      <td>Hoegaarden</td>\n",
       "      <td>BLKS_0600_GWL_1</td>\n",
       "    </tr>\n",
       "    <tr>\n",
       "      <th>8</th>\n",
       "      <td>https://www.dov.vlaanderen.be/data/filter/2003...</td>\n",
       "      <td>185891.3600</td>\n",
       "      <td>165155.100000</td>\n",
       "      <td>0600</td>\n",
       "      <td>Hoegaarden</td>\n",
       "      <td>BLKS_0600_GWL_1</td>\n",
       "    </tr>\n",
       "    <tr>\n",
       "      <th>9</th>\n",
       "      <td>https://www.dov.vlaanderen.be/data/filter/2003...</td>\n",
       "      <td>185891.3600</td>\n",
       "      <td>165155.100000</td>\n",
       "      <td>0600</td>\n",
       "      <td>Hoegaarden</td>\n",
       "      <td>BLKS_0600_GWL_1</td>\n",
       "    </tr>\n",
       "    <tr>\n",
       "      <th>10</th>\n",
       "      <td>https://www.dov.vlaanderen.be/data/filter/2003...</td>\n",
       "      <td>184942.2100</td>\n",
       "      <td>166222.490000</td>\n",
       "      <td>0620</td>\n",
       "      <td>Hoegaarden</td>\n",
       "      <td>BLKS_0600_GWL_1</td>\n",
       "    </tr>\n",
       "    <tr>\n",
       "      <th>11</th>\n",
       "      <td>https://www.dov.vlaanderen.be/data/filter/2003...</td>\n",
       "      <td>184942.2100</td>\n",
       "      <td>166222.490000</td>\n",
       "      <td>0620</td>\n",
       "      <td>Hoegaarden</td>\n",
       "      <td>BLKS_0600_GWL_1</td>\n",
       "    </tr>\n",
       "    <tr>\n",
       "      <th>12</th>\n",
       "      <td>https://www.dov.vlaanderen.be/data/filter/2003...</td>\n",
       "      <td>184942.2100</td>\n",
       "      <td>166222.490000</td>\n",
       "      <td>1010</td>\n",
       "      <td>Hoegaarden</td>\n",
       "      <td>BLKS_1000_GWL_2S</td>\n",
       "    </tr>\n",
       "    <tr>\n",
       "      <th>13</th>\n",
       "      <td>https://www.dov.vlaanderen.be/data/filter/1900...</td>\n",
       "      <td>186495.0000</td>\n",
       "      <td>163102.000000</td>\n",
       "      <td>1010</td>\n",
       "      <td>Hoegaarden</td>\n",
       "      <td>BLKS_1000_GWL_1S</td>\n",
       "    </tr>\n",
       "    <tr>\n",
       "      <th>14</th>\n",
       "      <td>https://www.dov.vlaanderen.be/data/filter/1993...</td>\n",
       "      <td>182384.0000</td>\n",
       "      <td>163674.000000</td>\n",
       "      <td>0620</td>\n",
       "      <td>Hoegaarden</td>\n",
       "      <td>NaN</td>\n",
       "    </tr>\n",
       "    <tr>\n",
       "      <th>15</th>\n",
       "      <td>https://www.dov.vlaanderen.be/data/filter/1990...</td>\n",
       "      <td>186445.0000</td>\n",
       "      <td>163125.000000</td>\n",
       "      <td>1010</td>\n",
       "      <td>Hoegaarden</td>\n",
       "      <td>BLKS_1000_GWL_1S</td>\n",
       "    </tr>\n",
       "    <tr>\n",
       "      <th>16</th>\n",
       "      <td>https://www.dov.vlaanderen.be/data/filter/1993...</td>\n",
       "      <td>186583.0000</td>\n",
       "      <td>163220.000000</td>\n",
       "      <td>1010</td>\n",
       "      <td>Hoegaarden</td>\n",
       "      <td>BLKS_1000_GWL_1S</td>\n",
       "    </tr>\n",
       "    <tr>\n",
       "      <th>17</th>\n",
       "      <td>https://www.dov.vlaanderen.be/data/filter/1990...</td>\n",
       "      <td>186455.0000</td>\n",
       "      <td>163163.000000</td>\n",
       "      <td>1010</td>\n",
       "      <td>Hoegaarden</td>\n",
       "      <td>BLKS_1000_GWL_1S</td>\n",
       "    </tr>\n",
       "    <tr>\n",
       "      <th>18</th>\n",
       "      <td>https://www.dov.vlaanderen.be/data/filter/1989...</td>\n",
       "      <td>182419.0000</td>\n",
       "      <td>163603.000000</td>\n",
       "      <td>1010</td>\n",
       "      <td>Hoegaarden</td>\n",
       "      <td>NaN</td>\n",
       "    </tr>\n",
       "    <tr>\n",
       "      <th>19</th>\n",
       "      <td>https://www.dov.vlaanderen.be/data/filter/2001...</td>\n",
       "      <td>185073.0000</td>\n",
       "      <td>162229.000000</td>\n",
       "      <td>1010</td>\n",
       "      <td>Hoegaarden</td>\n",
       "      <td>NaN</td>\n",
       "    </tr>\n",
       "    <tr>\n",
       "      <th>20</th>\n",
       "      <td>https://www.dov.vlaanderen.be/data/filter/1984...</td>\n",
       "      <td>184960.0000</td>\n",
       "      <td>164158.000000</td>\n",
       "      <td>1010</td>\n",
       "      <td>Hoegaarden</td>\n",
       "      <td>NaN</td>\n",
       "    </tr>\n",
       "    <tr>\n",
       "      <th>21</th>\n",
       "      <td>https://www.dov.vlaanderen.be/data/filter/1996...</td>\n",
       "      <td>186589.6875</td>\n",
       "      <td>162369.734375</td>\n",
       "      <td>0620</td>\n",
       "      <td>Hoegaarden</td>\n",
       "      <td>BLKS_0600_GWL_1</td>\n",
       "    </tr>\n",
       "    <tr>\n",
       "      <th>22</th>\n",
       "      <td>https://www.dov.vlaanderen.be/data/filter/1996...</td>\n",
       "      <td>186589.6875</td>\n",
       "      <td>162369.734375</td>\n",
       "      <td>1020</td>\n",
       "      <td>Hoegaarden</td>\n",
       "      <td>BLKS_1000_GWL_1S</td>\n",
       "    </tr>\n",
       "    <tr>\n",
       "      <th>23</th>\n",
       "      <td>https://www.dov.vlaanderen.be/data/filter/1996...</td>\n",
       "      <td>186589.6875</td>\n",
       "      <td>162369.734375</td>\n",
       "      <td>1300</td>\n",
       "      <td>Hoegaarden</td>\n",
       "      <td>BLKS_1100_GWL_2S</td>\n",
       "    </tr>\n",
       "    <tr>\n",
       "      <th>24</th>\n",
       "      <td>https://www.dov.vlaanderen.be/data/filter/1996...</td>\n",
       "      <td>186589.6875</td>\n",
       "      <td>162369.734375</td>\n",
       "      <td>1300</td>\n",
       "      <td>Hoegaarden</td>\n",
       "      <td>BLKS_1100_GWL_2S</td>\n",
       "    </tr>\n",
       "    <tr>\n",
       "      <th>25</th>\n",
       "      <td>https://www.dov.vlaanderen.be/data/filter/1976...</td>\n",
       "      <td>186330.0000</td>\n",
       "      <td>163040.000000</td>\n",
       "      <td>1010</td>\n",
       "      <td>Hoegaarden</td>\n",
       "      <td>NaN</td>\n",
       "    </tr>\n",
       "    <tr>\n",
       "      <th>26</th>\n",
       "      <td>https://www.dov.vlaanderen.be/data/filter/1900...</td>\n",
       "      <td>185780.0000</td>\n",
       "      <td>164211.000000</td>\n",
       "      <td>0600</td>\n",
       "      <td>Hoegaarden</td>\n",
       "      <td>NaN</td>\n",
       "    </tr>\n",
       "    <tr>\n",
       "      <th>27</th>\n",
       "      <td>https://www.dov.vlaanderen.be/data/filter/1900...</td>\n",
       "      <td>182499.0000</td>\n",
       "      <td>164138.000000</td>\n",
       "      <td>1010</td>\n",
       "      <td>Hoegaarden</td>\n",
       "      <td>NaN</td>\n",
       "    </tr>\n",
       "    <tr>\n",
       "      <th>28</th>\n",
       "      <td>https://www.dov.vlaanderen.be/data/filter/2003...</td>\n",
       "      <td>184098.2600</td>\n",
       "      <td>163359.020000</td>\n",
       "      <td>0620</td>\n",
       "      <td>Hoegaarden</td>\n",
       "      <td>BLKS_0600_GWL_1</td>\n",
       "    </tr>\n",
       "    <tr>\n",
       "      <th>29</th>\n",
       "      <td>https://www.dov.vlaanderen.be/data/filter/2003...</td>\n",
       "      <td>184098.2600</td>\n",
       "      <td>163359.020000</td>\n",
       "      <td>0620</td>\n",
       "      <td>Hoegaarden</td>\n",
       "      <td>BLKS_0600_GWL_1</td>\n",
       "    </tr>\n",
       "    <tr>\n",
       "      <th>30</th>\n",
       "      <td>https://www.dov.vlaanderen.be/data/filter/2003...</td>\n",
       "      <td>184098.2600</td>\n",
       "      <td>163359.020000</td>\n",
       "      <td>0620</td>\n",
       "      <td>Hoegaarden</td>\n",
       "      <td>BLKS_0600_GWL_1</td>\n",
       "    </tr>\n",
       "    <tr>\n",
       "      <th>31</th>\n",
       "      <td>https://www.dov.vlaanderen.be/data/filter/2003...</td>\n",
       "      <td>183831.1400</td>\n",
       "      <td>164618.330000</td>\n",
       "      <td>0620</td>\n",
       "      <td>Hoegaarden</td>\n",
       "      <td>BLKS_0600_GWL_1</td>\n",
       "    </tr>\n",
       "    <tr>\n",
       "      <th>32</th>\n",
       "      <td>https://www.dov.vlaanderen.be/data/filter/2003...</td>\n",
       "      <td>183831.1400</td>\n",
       "      <td>164618.330000</td>\n",
       "      <td>1010</td>\n",
       "      <td>Hoegaarden</td>\n",
       "      <td>BLKS_1000_GWL_2S</td>\n",
       "    </tr>\n",
       "    <tr>\n",
       "      <th>33</th>\n",
       "      <td>https://www.dov.vlaanderen.be/data/filter/2003...</td>\n",
       "      <td>183831.1400</td>\n",
       "      <td>164618.330000</td>\n",
       "      <td>1010</td>\n",
       "      <td>Hoegaarden</td>\n",
       "      <td>BLKS_1000_GWL_2S</td>\n",
       "    </tr>\n",
       "    <tr>\n",
       "      <th>34</th>\n",
       "      <td>https://www.dov.vlaanderen.be/data/filter/2003...</td>\n",
       "      <td>185016.1000</td>\n",
       "      <td>163078.910000</td>\n",
       "      <td>0620</td>\n",
       "      <td>Hoegaarden</td>\n",
       "      <td>BLKS_0600_GWL_1</td>\n",
       "    </tr>\n",
       "    <tr>\n",
       "      <th>35</th>\n",
       "      <td>https://www.dov.vlaanderen.be/data/filter/2003...</td>\n",
       "      <td>185016.1000</td>\n",
       "      <td>163078.910000</td>\n",
       "      <td>1013</td>\n",
       "      <td>Hoegaarden</td>\n",
       "      <td>BLKS_1000_GWL_1S</td>\n",
       "    </tr>\n",
       "    <tr>\n",
       "      <th>36</th>\n",
       "      <td>https://www.dov.vlaanderen.be/data/filter/2003...</td>\n",
       "      <td>185016.1000</td>\n",
       "      <td>163078.910000</td>\n",
       "      <td>0620</td>\n",
       "      <td>Hoegaarden</td>\n",
       "      <td>BLKS_0600_GWL_1</td>\n",
       "    </tr>\n",
       "    <tr>\n",
       "      <th>37</th>\n",
       "      <td>https://www.dov.vlaanderen.be/data/filter/1900...</td>\n",
       "      <td>186503.0000</td>\n",
       "      <td>163167.000000</td>\n",
       "      <td>1010</td>\n",
       "      <td>Hoegaarden</td>\n",
       "      <td>NaN</td>\n",
       "    </tr>\n",
       "    <tr>\n",
       "      <th>38</th>\n",
       "      <td>https://www.dov.vlaanderen.be/data/filter/1900...</td>\n",
       "      <td>181909.0000</td>\n",
       "      <td>164540.000000</td>\n",
       "      <td>0620</td>\n",
       "      <td>Hoegaarden</td>\n",
       "      <td>NaN</td>\n",
       "    </tr>\n",
       "    <tr>\n",
       "      <th>39</th>\n",
       "      <td>https://www.dov.vlaanderen.be/data/filter/1900...</td>\n",
       "      <td>182314.0000</td>\n",
       "      <td>163083.000000</td>\n",
       "      <td>0620</td>\n",
       "      <td>Hoegaarden</td>\n",
       "      <td>NaN</td>\n",
       "    </tr>\n",
       "    <tr>\n",
       "      <th>40</th>\n",
       "      <td>https://www.dov.vlaanderen.be/data/filter/2009...</td>\n",
       "      <td>183238.0000</td>\n",
       "      <td>164224.000000</td>\n",
       "      <td>1020</td>\n",
       "      <td>Hoegaarden</td>\n",
       "      <td>NaN</td>\n",
       "    </tr>\n",
       "    <tr>\n",
       "      <th>41</th>\n",
       "      <td>https://www.dov.vlaanderen.be/data/filter/2018...</td>\n",
       "      <td>183397.0000</td>\n",
       "      <td>164470.000000</td>\n",
       "      <td>0000</td>\n",
       "      <td>Hoegaarden</td>\n",
       "      <td>NaN</td>\n",
       "    </tr>\n",
       "    <tr>\n",
       "      <th>42</th>\n",
       "      <td>https://www.dov.vlaanderen.be/data/filter/2000...</td>\n",
       "      <td>183049.0000</td>\n",
       "      <td>162811.000000</td>\n",
       "      <td>0000</td>\n",
       "      <td>Hoegaarden</td>\n",
       "      <td>NaN</td>\n",
       "    </tr>\n",
       "    <tr>\n",
       "      <th>43</th>\n",
       "      <td>https://www.dov.vlaanderen.be/data/filter/2001...</td>\n",
       "      <td>183888.0000</td>\n",
       "      <td>163119.000000</td>\n",
       "      <td>0000</td>\n",
       "      <td>Hoegaarden</td>\n",
       "      <td>NaN</td>\n",
       "    </tr>\n",
       "    <tr>\n",
       "      <th>44</th>\n",
       "      <td>https://www.dov.vlaanderen.be/data/filter/2000...</td>\n",
       "      <td>184275.0000</td>\n",
       "      <td>163019.000000</td>\n",
       "      <td>0000</td>\n",
       "      <td>Hoegaarden</td>\n",
       "      <td>NaN</td>\n",
       "    </tr>\n",
       "    <tr>\n",
       "      <th>45</th>\n",
       "      <td>https://www.dov.vlaanderen.be/data/filter/2001...</td>\n",
       "      <td>184280.0000</td>\n",
       "      <td>162952.000000</td>\n",
       "      <td>0000</td>\n",
       "      <td>Hoegaarden</td>\n",
       "      <td>NaN</td>\n",
       "    </tr>\n",
       "    <tr>\n",
       "      <th>46</th>\n",
       "      <td>https://www.dov.vlaanderen.be/data/filter/1999...</td>\n",
       "      <td>184039.0000</td>\n",
       "      <td>162255.000000</td>\n",
       "      <td>0000</td>\n",
       "      <td>Hoegaarden</td>\n",
       "      <td>NaN</td>\n",
       "    </tr>\n",
       "  </tbody>\n",
       "</table>\n",
       "</div>"
      ],
      "text/plain": [
       "                                          pkey_filter            x  \\\n",
       "0   https://www.dov.vlaanderen.be/data/filter/2003...  188318.6600   \n",
       "1   https://www.dov.vlaanderen.be/data/filter/2003...  188318.6600   \n",
       "2   https://www.dov.vlaanderen.be/data/filter/2003...  188318.6600   \n",
       "3   https://www.dov.vlaanderen.be/data/filter/1996...  183090.0000   \n",
       "4   https://www.dov.vlaanderen.be/data/filter/1900...  182178.0000   \n",
       "5   https://www.dov.vlaanderen.be/data/filter/2000...  185319.0000   \n",
       "6   https://www.dov.vlaanderen.be/data/filter/1950...  182992.0000   \n",
       "7   https://www.dov.vlaanderen.be/data/filter/2003...  185891.3600   \n",
       "8   https://www.dov.vlaanderen.be/data/filter/2003...  185891.3600   \n",
       "9   https://www.dov.vlaanderen.be/data/filter/2003...  185891.3600   \n",
       "10  https://www.dov.vlaanderen.be/data/filter/2003...  184942.2100   \n",
       "11  https://www.dov.vlaanderen.be/data/filter/2003...  184942.2100   \n",
       "12  https://www.dov.vlaanderen.be/data/filter/2003...  184942.2100   \n",
       "13  https://www.dov.vlaanderen.be/data/filter/1900...  186495.0000   \n",
       "14  https://www.dov.vlaanderen.be/data/filter/1993...  182384.0000   \n",
       "15  https://www.dov.vlaanderen.be/data/filter/1990...  186445.0000   \n",
       "16  https://www.dov.vlaanderen.be/data/filter/1993...  186583.0000   \n",
       "17  https://www.dov.vlaanderen.be/data/filter/1990...  186455.0000   \n",
       "18  https://www.dov.vlaanderen.be/data/filter/1989...  182419.0000   \n",
       "19  https://www.dov.vlaanderen.be/data/filter/2001...  185073.0000   \n",
       "20  https://www.dov.vlaanderen.be/data/filter/1984...  184960.0000   \n",
       "21  https://www.dov.vlaanderen.be/data/filter/1996...  186589.6875   \n",
       "22  https://www.dov.vlaanderen.be/data/filter/1996...  186589.6875   \n",
       "23  https://www.dov.vlaanderen.be/data/filter/1996...  186589.6875   \n",
       "24  https://www.dov.vlaanderen.be/data/filter/1996...  186589.6875   \n",
       "25  https://www.dov.vlaanderen.be/data/filter/1976...  186330.0000   \n",
       "26  https://www.dov.vlaanderen.be/data/filter/1900...  185780.0000   \n",
       "27  https://www.dov.vlaanderen.be/data/filter/1900...  182499.0000   \n",
       "28  https://www.dov.vlaanderen.be/data/filter/2003...  184098.2600   \n",
       "29  https://www.dov.vlaanderen.be/data/filter/2003...  184098.2600   \n",
       "30  https://www.dov.vlaanderen.be/data/filter/2003...  184098.2600   \n",
       "31  https://www.dov.vlaanderen.be/data/filter/2003...  183831.1400   \n",
       "32  https://www.dov.vlaanderen.be/data/filter/2003...  183831.1400   \n",
       "33  https://www.dov.vlaanderen.be/data/filter/2003...  183831.1400   \n",
       "34  https://www.dov.vlaanderen.be/data/filter/2003...  185016.1000   \n",
       "35  https://www.dov.vlaanderen.be/data/filter/2003...  185016.1000   \n",
       "36  https://www.dov.vlaanderen.be/data/filter/2003...  185016.1000   \n",
       "37  https://www.dov.vlaanderen.be/data/filter/1900...  186503.0000   \n",
       "38  https://www.dov.vlaanderen.be/data/filter/1900...  181909.0000   \n",
       "39  https://www.dov.vlaanderen.be/data/filter/1900...  182314.0000   \n",
       "40  https://www.dov.vlaanderen.be/data/filter/2009...  183238.0000   \n",
       "41  https://www.dov.vlaanderen.be/data/filter/2018...  183397.0000   \n",
       "42  https://www.dov.vlaanderen.be/data/filter/2000...  183049.0000   \n",
       "43  https://www.dov.vlaanderen.be/data/filter/2001...  183888.0000   \n",
       "44  https://www.dov.vlaanderen.be/data/filter/2000...  184275.0000   \n",
       "45  https://www.dov.vlaanderen.be/data/filter/2001...  184280.0000   \n",
       "46  https://www.dov.vlaanderen.be/data/filter/1999...  184039.0000   \n",
       "\n",
       "                y aquifer_code    gemeente grondwaterlichaam_code  \n",
       "0   160810.980000         0620  Hoegaarden        BLKS_0600_GWL_1  \n",
       "1   160810.980000         0620  Hoegaarden        BLKS_0600_GWL_1  \n",
       "2   160810.980000         1010  Hoegaarden       BLKS_1000_GWL_1S  \n",
       "3   165316.000000         0620  Hoegaarden                    NaN  \n",
       "4   165077.000000         1010  Hoegaarden                    NaN  \n",
       "5   165155.000000         1000  Hoegaarden       BLKS_1000_GWL_2S  \n",
       "6   165091.000000         1010  Hoegaarden                    NaN  \n",
       "7   165155.100000         0600  Hoegaarden        BLKS_0600_GWL_1  \n",
       "8   165155.100000         0600  Hoegaarden        BLKS_0600_GWL_1  \n",
       "9   165155.100000         0600  Hoegaarden        BLKS_0600_GWL_1  \n",
       "10  166222.490000         0620  Hoegaarden        BLKS_0600_GWL_1  \n",
       "11  166222.490000         0620  Hoegaarden        BLKS_0600_GWL_1  \n",
       "12  166222.490000         1010  Hoegaarden       BLKS_1000_GWL_2S  \n",
       "13  163102.000000         1010  Hoegaarden       BLKS_1000_GWL_1S  \n",
       "14  163674.000000         0620  Hoegaarden                    NaN  \n",
       "15  163125.000000         1010  Hoegaarden       BLKS_1000_GWL_1S  \n",
       "16  163220.000000         1010  Hoegaarden       BLKS_1000_GWL_1S  \n",
       "17  163163.000000         1010  Hoegaarden       BLKS_1000_GWL_1S  \n",
       "18  163603.000000         1010  Hoegaarden                    NaN  \n",
       "19  162229.000000         1010  Hoegaarden                    NaN  \n",
       "20  164158.000000         1010  Hoegaarden                    NaN  \n",
       "21  162369.734375         0620  Hoegaarden        BLKS_0600_GWL_1  \n",
       "22  162369.734375         1020  Hoegaarden       BLKS_1000_GWL_1S  \n",
       "23  162369.734375         1300  Hoegaarden       BLKS_1100_GWL_2S  \n",
       "24  162369.734375         1300  Hoegaarden       BLKS_1100_GWL_2S  \n",
       "25  163040.000000         1010  Hoegaarden                    NaN  \n",
       "26  164211.000000         0600  Hoegaarden                    NaN  \n",
       "27  164138.000000         1010  Hoegaarden                    NaN  \n",
       "28  163359.020000         0620  Hoegaarden        BLKS_0600_GWL_1  \n",
       "29  163359.020000         0620  Hoegaarden        BLKS_0600_GWL_1  \n",
       "30  163359.020000         0620  Hoegaarden        BLKS_0600_GWL_1  \n",
       "31  164618.330000         0620  Hoegaarden        BLKS_0600_GWL_1  \n",
       "32  164618.330000         1010  Hoegaarden       BLKS_1000_GWL_2S  \n",
       "33  164618.330000         1010  Hoegaarden       BLKS_1000_GWL_2S  \n",
       "34  163078.910000         0620  Hoegaarden        BLKS_0600_GWL_1  \n",
       "35  163078.910000         1013  Hoegaarden       BLKS_1000_GWL_1S  \n",
       "36  163078.910000         0620  Hoegaarden        BLKS_0600_GWL_1  \n",
       "37  163167.000000         1010  Hoegaarden                    NaN  \n",
       "38  164540.000000         0620  Hoegaarden                    NaN  \n",
       "39  163083.000000         0620  Hoegaarden                    NaN  \n",
       "40  164224.000000         1020  Hoegaarden                    NaN  \n",
       "41  164470.000000         0000  Hoegaarden                    NaN  \n",
       "42  162811.000000         0000  Hoegaarden                    NaN  \n",
       "43  163119.000000         0000  Hoegaarden                    NaN  \n",
       "44  163019.000000         0000  Hoegaarden                    NaN  \n",
       "45  162952.000000         0000  Hoegaarden                    NaN  \n",
       "46  162255.000000         0000  Hoegaarden                    NaN  "
      ]
     },
     "execution_count": 28,
     "metadata": {},
     "output_type": "execute_result"
    }
   ],
   "source": [
    "df"
   ]
  }
 ],
 "metadata": {
  "kernelspec": {
   "display_name": "Python 3",
   "language": "python",
   "name": "python3"
  },
  "language_info": {
   "codemirror_mode": {
    "name": "ipython",
    "version": 3
   },
   "file_extension": ".py",
   "mimetype": "text/x-python",
   "name": "python",
   "nbconvert_exporter": "python",
   "pygments_lexer": "ipython3",
   "version": "3.7.3"
  }
 },
 "nbformat": 4,
 "nbformat_minor": 2
}
