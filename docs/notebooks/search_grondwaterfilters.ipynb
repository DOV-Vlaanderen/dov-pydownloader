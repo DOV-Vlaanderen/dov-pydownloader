{
 "cells": [
  {
   "cell_type": "markdown",
   "metadata": {},
   "source": [
    "# Example of DOV search methods for groundwater screens (grondwaterfilters)\n"
   ]
  },
  {
   "cell_type": "markdown",
   "metadata": {},
   "source": [
    "## Use cases:\n",
    "* Get groundwater screens in a bounding box\n",
    "* Get groundwater screens with specific properties\n",
    "* Get the coordinates of all groundwater screens in Ghent\n",
    "* Get the 'meetnet' and 'meetnet_code' for groundwater screens in Boortmeerbeek\n",
    "* Get all details of groundwaterscreens of 'meetnet 9' within the given bounding box\n",
    "* Get groundwater screens based on a combination of specific properties"
   ]
  },
  {
   "cell_type": "code",
   "execution_count": 1,
   "metadata": {
    "collapsed": true
   },
   "outputs": [],
   "source": [
    "%matplotlib inline\n",
    "import inspect, sys"
   ]
  },
  {
   "cell_type": "code",
   "execution_count": 2,
   "metadata": {
    "collapsed": true
   },
   "outputs": [],
   "source": [
    "# check pydov path\n",
    "import pydov"
   ]
  },
  {
   "cell_type": "markdown",
   "metadata": {},
   "source": [
    "## Get information about the datatype 'GrondwaterFilter'"
   ]
  },
  {
   "cell_type": "code",
   "execution_count": 3,
   "metadata": {
    "collapsed": true
   },
   "outputs": [],
   "source": [
    "from pydov.search.grondwaterfilter import GrondwaterFilterSearch\n",
    "gwfilter = GrondwaterFilterSearch()"
   ]
  },
  {
   "cell_type": "markdown",
   "metadata": {},
   "source": [
    "A description is provided for the 'GrondwaterFilter' datatype:"
   ]
  },
  {
   "cell_type": "code",
   "execution_count": 4,
   "metadata": {},
   "outputs": [
    {
     "name": "stdout",
     "output_type": "stream",
     "text": [
      "In de Databank Ondergrond Vlaanderen zijn verschillende grondwatermeetnetten opgenomen. Deze meetnetten staan in functie van uitgebreide monitoringprogramma’s met de bedoeling een goed beeld te krijgen van de beschikbare grondwaterkwantiteit en grondwaterkwaliteit van de watervoerende lagen in Vlaanderen.\n"
     ]
    }
   ],
   "source": [
    "print(gwfilter.get_description())"
   ]
  },
  {
   "cell_type": "markdown",
   "metadata": {},
   "source": [
    "The different fields that are available for objects of the 'GrondwaterFilter' datatype can be requested with the get_fields() method:"
   ]
  },
  {
   "cell_type": "code",
   "execution_count": 5,
   "metadata": {},
   "outputs": [
    {
     "name": "stdout",
     "output_type": "stream",
     "text": [
      "betrouwbaarheid\n",
      "boringfiche\n",
      "grondwaterlichaam_code\n",
      "start_grondwaterlocatie_mtaw\n",
      "namen\n",
      "peilmetingen_van\n",
      "datum\n",
      "aquifer\n",
      "filtergrafiek\n",
      "kwaliteitsmetingen_tot\n",
      "methode\n",
      "kwaliteitsmetingen_van\n",
      "gw_id\n",
      "tijdstip\n",
      "regime\n",
      "filtertoestand\n",
      "meetnet_code\n",
      "beheerder\n",
      "stijghoogterapport\n",
      "filtertype\n",
      "datum_in_filter\n",
      "grondwaterlichaam\n",
      "putsoort\n",
      "filternummer\n",
      "diepte_onderkant_filter\n",
      "pkey_filter\n",
      "putgrafiek\n",
      "datum_uit_filter\n",
      "filterstatus\n",
      "meetnet\n",
      "peilmetingen_tot\n",
      "gemeente\n",
      "recentste_exploitant\n",
      "pkey_grondwaterlocatie\n",
      "peil_mtaw\n",
      "lengte_filter\n",
      "analyserapport\n",
      "y\n",
      "x\n",
      "aquifer_code\n",
      "boornummer\n"
     ]
    }
   ],
   "source": [
    "fields = gwfilter.get_fields()\n",
    "\n",
    "# print available fields\n",
    "for f in fields.values():\n",
    "    print(f['name'])"
   ]
  },
  {
   "cell_type": "markdown",
   "metadata": {},
   "source": [
    "You can get more information of a field by requesting it from the fields dictionary:\n",
    "* *name*: name of the field\n",
    "* *definition*: definition of this field\n",
    "* *cost*: currently this is either 1 or 10, depending on the datasource of the field. It is an indication of the expected time it will take to retrieve this field in the output dataframe.\n",
    "* *notnull*: whether the field is mandatory or not\n",
    "* *type*: datatype of the values of this field"
   ]
  },
  {
   "cell_type": "code",
   "execution_count": 6,
   "metadata": {},
   "outputs": [
    {
     "data": {
      "text/plain": [
       "{'cost': 1,\n",
       " 'definition': 'De aquifer waarin de filter hangt. Als tekst, opgebouwd uit de HCOV code (vier karakters) en de naam gescheiden door \" - \"',\n",
       " 'name': 'aquifer',\n",
       " 'notnull': True,\n",
       " 'query': True,\n",
       " 'type': 'string'}"
      ]
     },
     "execution_count": 6,
     "metadata": {},
     "output_type": "execute_result"
    }
   ],
   "source": [
    "# print information for a certain field\n",
    "fields['aquifer']"
   ]
  },
  {
   "cell_type": "markdown",
   "metadata": {},
   "source": [
    "Optionally, if the values of the field have a specific domain the possible values are listed as *values*:"
   ]
  },
  {
   "cell_type": "code",
   "execution_count": 7,
   "metadata": {},
   "outputs": [
    {
     "data": {
      "text/plain": [
       "{'Installatie': None,\n",
       " 'batterijput': None,\n",
       " 'bodemlus': None,\n",
       " 'bron, natuurlijke holte': None,\n",
       " 'bronbemaling': None,\n",
       " 'draineringsinrichting': None,\n",
       " 'galerij': None,\n",
       " 'graverij, mijn, groeve': None,\n",
       " 'niet-verbuisde boorput': None,\n",
       " 'onbekend': None,\n",
       " 'ring- of steenput': None,\n",
       " 'verbuisde boorput': None,\n",
       " 'vijver': None}"
      ]
     },
     "execution_count": 7,
     "metadata": {},
     "output_type": "execute_result"
    }
   ],
   "source": [
    "# if an attribute can have several values, these are listed under 'values', e.g. for 'putsoort':\n",
    "fields['putsoort']['values']"
   ]
  },
  {
   "cell_type": "markdown",
   "metadata": {},
   "source": [
    "## Example use cases"
   ]
  },
  {
   "cell_type": "markdown",
   "metadata": {},
   "source": [
    "### Get groundwater screens in a bounding box"
   ]
  },
  {
   "cell_type": "markdown",
   "metadata": {},
   "source": [
    "Get data for all the groundwater screens that are geographically located within the bounds of the specified box.\n",
    "\n",
    "The coordinates are in the Belgian Lambert72 (EPSG:31370) coordinate system and are given in the order of lower left x, lower left y, upper right x, upper right y."
   ]
  },
  {
   "cell_type": "code",
   "execution_count": 8,
   "metadata": {},
   "outputs": [
    {
     "name": "stdout",
     "output_type": "stream",
     "text": [
      "[000/026] cccccccccccccccccccccccccc\n"
     ]
    },
    {
     "data": {
      "text/html": [
       "<div>\n",
       "<style scoped>\n",
       "    .dataframe tbody tr th:only-of-type {\n",
       "        vertical-align: middle;\n",
       "    }\n",
       "\n",
       "    .dataframe tbody tr th {\n",
       "        vertical-align: top;\n",
       "    }\n",
       "\n",
       "    .dataframe thead th {\n",
       "        text-align: right;\n",
       "    }\n",
       "</style>\n",
       "<table border=\"1\" class=\"dataframe\">\n",
       "  <thead>\n",
       "    <tr style=\"text-align: right;\">\n",
       "      <th></th>\n",
       "      <th>pkey_filter</th>\n",
       "      <th>pkey_grondwaterlocatie</th>\n",
       "      <th>gw_id</th>\n",
       "      <th>filternummer</th>\n",
       "      <th>filtertype</th>\n",
       "      <th>x</th>\n",
       "      <th>y</th>\n",
       "      <th>start_grondwaterlocatie_mtaw</th>\n",
       "      <th>gemeente</th>\n",
       "      <th>meetnet_code</th>\n",
       "      <th>...</th>\n",
       "      <th>regime</th>\n",
       "      <th>diepte_onderkant_filter</th>\n",
       "      <th>lengte_filter</th>\n",
       "      <th>datum</th>\n",
       "      <th>tijdstip</th>\n",
       "      <th>peil_mtaw</th>\n",
       "      <th>betrouwbaarheid</th>\n",
       "      <th>methode</th>\n",
       "      <th>filterstatus</th>\n",
       "      <th>filtertoestand</th>\n",
       "    </tr>\n",
       "  </thead>\n",
       "  <tbody>\n",
       "    <tr>\n",
       "      <th>0</th>\n",
       "      <td>https://www.dov.vlaanderen.be/data/filter/1999...</td>\n",
       "      <td>https://www.dov.vlaanderen.be/data/put/2018-00...</td>\n",
       "      <td>SWPP006</td>\n",
       "      <td>1</td>\n",
       "      <td>peilfilter</td>\n",
       "      <td>94147.0</td>\n",
       "      <td>169582.0</td>\n",
       "      <td>9.4</td>\n",
       "      <td>Wortegem-Petegem</td>\n",
       "      <td>9</td>\n",
       "      <td>...</td>\n",
       "      <td>onbekend</td>\n",
       "      <td>NaN</td>\n",
       "      <td>NaN</td>\n",
       "      <td>1999-04-13</td>\n",
       "      <td>NaN</td>\n",
       "      <td>9.22</td>\n",
       "      <td>onbekend</td>\n",
       "      <td>peillint</td>\n",
       "      <td>onbekend</td>\n",
       "      <td>1.0</td>\n",
       "    </tr>\n",
       "    <tr>\n",
       "      <th>1</th>\n",
       "      <td>https://www.dov.vlaanderen.be/data/filter/1999...</td>\n",
       "      <td>https://www.dov.vlaanderen.be/data/put/2018-00...</td>\n",
       "      <td>SWPP006</td>\n",
       "      <td>1</td>\n",
       "      <td>peilfilter</td>\n",
       "      <td>94147.0</td>\n",
       "      <td>169582.0</td>\n",
       "      <td>9.4</td>\n",
       "      <td>Wortegem-Petegem</td>\n",
       "      <td>9</td>\n",
       "      <td>...</td>\n",
       "      <td>onbekend</td>\n",
       "      <td>NaN</td>\n",
       "      <td>NaN</td>\n",
       "      <td>1999-04-14</td>\n",
       "      <td>NaN</td>\n",
       "      <td>9.41</td>\n",
       "      <td>onbekend</td>\n",
       "      <td>peillint</td>\n",
       "      <td>onbekend</td>\n",
       "      <td>1.0</td>\n",
       "    </tr>\n",
       "    <tr>\n",
       "      <th>2</th>\n",
       "      <td>https://www.dov.vlaanderen.be/data/filter/1999...</td>\n",
       "      <td>https://www.dov.vlaanderen.be/data/put/2018-00...</td>\n",
       "      <td>SWPP006</td>\n",
       "      <td>1</td>\n",
       "      <td>peilfilter</td>\n",
       "      <td>94147.0</td>\n",
       "      <td>169582.0</td>\n",
       "      <td>9.4</td>\n",
       "      <td>Wortegem-Petegem</td>\n",
       "      <td>9</td>\n",
       "      <td>...</td>\n",
       "      <td>onbekend</td>\n",
       "      <td>NaN</td>\n",
       "      <td>NaN</td>\n",
       "      <td>1999-04-22</td>\n",
       "      <td>NaN</td>\n",
       "      <td>9.29</td>\n",
       "      <td>onbekend</td>\n",
       "      <td>peillint</td>\n",
       "      <td>onbekend</td>\n",
       "      <td>1.0</td>\n",
       "    </tr>\n",
       "    <tr>\n",
       "      <th>3</th>\n",
       "      <td>https://www.dov.vlaanderen.be/data/filter/1999...</td>\n",
       "      <td>https://www.dov.vlaanderen.be/data/put/2018-00...</td>\n",
       "      <td>SWPP006</td>\n",
       "      <td>1</td>\n",
       "      <td>peilfilter</td>\n",
       "      <td>94147.0</td>\n",
       "      <td>169582.0</td>\n",
       "      <td>9.4</td>\n",
       "      <td>Wortegem-Petegem</td>\n",
       "      <td>9</td>\n",
       "      <td>...</td>\n",
       "      <td>onbekend</td>\n",
       "      <td>NaN</td>\n",
       "      <td>NaN</td>\n",
       "      <td>1999-05-06</td>\n",
       "      <td>NaN</td>\n",
       "      <td>9.11</td>\n",
       "      <td>onbekend</td>\n",
       "      <td>peillint</td>\n",
       "      <td>onbekend</td>\n",
       "      <td>1.0</td>\n",
       "    </tr>\n",
       "    <tr>\n",
       "      <th>4</th>\n",
       "      <td>https://www.dov.vlaanderen.be/data/filter/1999...</td>\n",
       "      <td>https://www.dov.vlaanderen.be/data/put/2018-00...</td>\n",
       "      <td>SWPP006</td>\n",
       "      <td>1</td>\n",
       "      <td>peilfilter</td>\n",
       "      <td>94147.0</td>\n",
       "      <td>169582.0</td>\n",
       "      <td>9.4</td>\n",
       "      <td>Wortegem-Petegem</td>\n",
       "      <td>9</td>\n",
       "      <td>...</td>\n",
       "      <td>onbekend</td>\n",
       "      <td>NaN</td>\n",
       "      <td>NaN</td>\n",
       "      <td>1999-05-18</td>\n",
       "      <td>NaN</td>\n",
       "      <td>9.01</td>\n",
       "      <td>onbekend</td>\n",
       "      <td>peillint</td>\n",
       "      <td>onbekend</td>\n",
       "      <td>1.0</td>\n",
       "    </tr>\n",
       "  </tbody>\n",
       "</table>\n",
       "<p>5 rows × 22 columns</p>\n",
       "</div>"
      ],
      "text/plain": [
       "                                         pkey_filter  \\\n",
       "0  https://www.dov.vlaanderen.be/data/filter/1999...   \n",
       "1  https://www.dov.vlaanderen.be/data/filter/1999...   \n",
       "2  https://www.dov.vlaanderen.be/data/filter/1999...   \n",
       "3  https://www.dov.vlaanderen.be/data/filter/1999...   \n",
       "4  https://www.dov.vlaanderen.be/data/filter/1999...   \n",
       "\n",
       "                              pkey_grondwaterlocatie    gw_id filternummer  \\\n",
       "0  https://www.dov.vlaanderen.be/data/put/2018-00...  SWPP006            1   \n",
       "1  https://www.dov.vlaanderen.be/data/put/2018-00...  SWPP006            1   \n",
       "2  https://www.dov.vlaanderen.be/data/put/2018-00...  SWPP006            1   \n",
       "3  https://www.dov.vlaanderen.be/data/put/2018-00...  SWPP006            1   \n",
       "4  https://www.dov.vlaanderen.be/data/put/2018-00...  SWPP006            1   \n",
       "\n",
       "   filtertype        x         y  start_grondwaterlocatie_mtaw  \\\n",
       "0  peilfilter  94147.0  169582.0                           9.4   \n",
       "1  peilfilter  94147.0  169582.0                           9.4   \n",
       "2  peilfilter  94147.0  169582.0                           9.4   \n",
       "3  peilfilter  94147.0  169582.0                           9.4   \n",
       "4  peilfilter  94147.0  169582.0                           9.4   \n",
       "\n",
       "           gemeente  meetnet_code      ...          regime  \\\n",
       "0  Wortegem-Petegem             9      ...        onbekend   \n",
       "1  Wortegem-Petegem             9      ...        onbekend   \n",
       "2  Wortegem-Petegem             9      ...        onbekend   \n",
       "3  Wortegem-Petegem             9      ...        onbekend   \n",
       "4  Wortegem-Petegem             9      ...        onbekend   \n",
       "\n",
       "   diepte_onderkant_filter lengte_filter       datum  tijdstip peil_mtaw  \\\n",
       "0                      NaN           NaN  1999-04-13       NaN      9.22   \n",
       "1                      NaN           NaN  1999-04-14       NaN      9.41   \n",
       "2                      NaN           NaN  1999-04-22       NaN      9.29   \n",
       "3                      NaN           NaN  1999-05-06       NaN      9.11   \n",
       "4                      NaN           NaN  1999-05-18       NaN      9.01   \n",
       "\n",
       "   betrouwbaarheid   methode filterstatus filtertoestand  \n",
       "0         onbekend  peillint     onbekend            1.0  \n",
       "1         onbekend  peillint     onbekend            1.0  \n",
       "2         onbekend  peillint     onbekend            1.0  \n",
       "3         onbekend  peillint     onbekend            1.0  \n",
       "4         onbekend  peillint     onbekend            1.0  \n",
       "\n",
       "[5 rows x 22 columns]"
      ]
     },
     "execution_count": 8,
     "metadata": {},
     "output_type": "execute_result"
    }
   ],
   "source": [
    "from pydov.util.location import Within, Box\n",
    "\n",
    "df = gwfilter.search(location=Within(Box(93378, 168009, 94246, 169873)))\n",
    "df.head()"
   ]
  },
  {
   "cell_type": "markdown",
   "metadata": {},
   "source": [
    "Using the *pkey* attributes one can request the details of the corresponding *put* or *filter* in a webbrowser:"
   ]
  },
  {
   "cell_type": "code",
   "execution_count": 9,
   "metadata": {},
   "outputs": [
    {
     "name": "stdout",
     "output_type": "stream",
     "text": [
      "https://www.dov.vlaanderen.be/data/put/2019-019725\n",
      "https://www.dov.vlaanderen.be/data/put/2018-007292\n",
      "https://www.dov.vlaanderen.be/data/put/2018-007293\n",
      "https://www.dov.vlaanderen.be/data/put/2018-007290\n",
      "https://www.dov.vlaanderen.be/data/put/2018-007291\n",
      "https://www.dov.vlaanderen.be/data/put/2018-007296\n",
      "https://www.dov.vlaanderen.be/data/put/2018-007294\n",
      "https://www.dov.vlaanderen.be/data/put/2018-007295\n",
      "https://www.dov.vlaanderen.be/data/put/2018-007299\n",
      "https://www.dov.vlaanderen.be/data/put/2018-007313\n",
      "https://www.dov.vlaanderen.be/data/put/2018-007312\n",
      "https://www.dov.vlaanderen.be/data/put/2018-007311\n",
      "https://www.dov.vlaanderen.be/data/put/2018-007310\n",
      "https://www.dov.vlaanderen.be/data/put/2017-002867\n",
      "https://www.dov.vlaanderen.be/data/put/2017-002866\n",
      "https://www.dov.vlaanderen.be/data/put/2018-007285\n",
      "https://www.dov.vlaanderen.be/data/put/2019-020544\n",
      "https://www.dov.vlaanderen.be/data/put/2018-007287\n",
      "https://www.dov.vlaanderen.be/data/put/2018-007286\n",
      "https://www.dov.vlaanderen.be/data/put/2018-007289\n",
      "https://www.dov.vlaanderen.be/data/put/2018-007288\n",
      "https://www.dov.vlaanderen.be/data/put/2017-002868\n",
      "https://www.dov.vlaanderen.be/data/put/2018-007300\n",
      "https://www.dov.vlaanderen.be/data/put/2018-007304\n",
      "https://www.dov.vlaanderen.be/data/put/2018-007305\n",
      "https://www.dov.vlaanderen.be/data/put/2018-007307\n",
      "https://www.dov.vlaanderen.be/data/filter/2007-011019\n",
      "https://www.dov.vlaanderen.be/data/filter/2007-011018\n",
      "https://www.dov.vlaanderen.be/data/filter/1999-011012\n",
      "https://www.dov.vlaanderen.be/data/filter/1999-011013\n",
      "https://www.dov.vlaanderen.be/data/filter/1999-011010\n",
      "https://www.dov.vlaanderen.be/data/filter/1999-011011\n",
      "https://www.dov.vlaanderen.be/data/filter/1999-011014\n",
      "https://www.dov.vlaanderen.be/data/filter/1999-011015\n",
      "https://www.dov.vlaanderen.be/data/filter/1999-011030\n",
      "https://www.dov.vlaanderen.be/data/filter/1999-011031\n",
      "https://www.dov.vlaanderen.be/data/filter/1995-061303\n",
      "https://www.dov.vlaanderen.be/data/filter/1999-011007\n",
      "https://www.dov.vlaanderen.be/data/filter/2009-011026\n",
      "https://www.dov.vlaanderen.be/data/filter/2007-011023\n",
      "https://www.dov.vlaanderen.be/data/filter/2007-011024\n",
      "https://www.dov.vlaanderen.be/data/filter/1991-062098\n",
      "https://www.dov.vlaanderen.be/data/filter/1999-011032\n",
      "https://www.dov.vlaanderen.be/data/filter/1999-000605\n",
      "https://www.dov.vlaanderen.be/data/filter/1999-000607\n",
      "https://www.dov.vlaanderen.be/data/filter/1999-000606\n",
      "https://www.dov.vlaanderen.be/data/filter/1999-011005\n",
      "https://www.dov.vlaanderen.be/data/filter/1999-011004\n",
      "https://www.dov.vlaanderen.be/data/filter/1999-011029\n",
      "https://www.dov.vlaanderen.be/data/filter/1999-011006\n",
      "https://www.dov.vlaanderen.be/data/filter/1999-011009\n",
      "https://www.dov.vlaanderen.be/data/filter/1999-011008\n"
     ]
    }
   ],
   "source": [
    "for pkey_grondwaterlocatie in set(df.pkey_grondwaterlocatie):\n",
    "    print(pkey_grondwaterlocatie)\n",
    "\n",
    "for pkey_filter in set(df.pkey_filter):\n",
    "    print(pkey_filter)"
   ]
  },
  {
   "cell_type": "markdown",
   "metadata": {},
   "source": [
    "### Get groundwater screens with specific properties"
   ]
  },
  {
   "cell_type": "markdown",
   "metadata": {},
   "source": [
    "Next to querying groundwater screens based on their geographic location within a bounding box, we can also search for groundwater screens matching a specific set of properties. For this we can build a query using a combination of the 'GrondwaterFilter' fields and operators provided by the WFS protocol.\n",
    "\n",
    "A list of possible operators can be found below:"
   ]
  },
  {
   "cell_type": "code",
   "execution_count": 10,
   "metadata": {},
   "outputs": [
    {
     "data": {
      "text/plain": [
       "['PropertyIsBetween',\n",
       " 'PropertyIsEqualTo',\n",
       " 'PropertyIsGreaterThan',\n",
       " 'PropertyIsGreaterThanOrEqualTo',\n",
       " 'PropertyIsLessThan',\n",
       " 'PropertyIsLessThanOrEqualTo',\n",
       " 'PropertyIsLike',\n",
       " 'PropertyIsNotEqualTo',\n",
       " 'PropertyIsNull',\n",
       " 'SortProperty']"
      ]
     },
     "execution_count": 10,
     "metadata": {},
     "output_type": "execute_result"
    }
   ],
   "source": [
    "[i for i,j in inspect.getmembers(sys.modules['owslib.fes'], inspect.isclass) if 'Property' in i]"
   ]
  },
  {
   "cell_type": "markdown",
   "metadata": {},
   "source": [
    "In this example we build a query using the *PropertyIsEqualTo* operator to find all groundwater screens that are within the community (gemeente) of 'Hamme':"
   ]
  },
  {
   "cell_type": "code",
   "execution_count": 11,
   "metadata": {},
   "outputs": [
    {
     "name": "stdout",
     "output_type": "stream",
     "text": [
      "[000/002] cc\n"
     ]
    },
    {
     "data": {
      "text/html": [
       "<div>\n",
       "<style scoped>\n",
       "    .dataframe tbody tr th:only-of-type {\n",
       "        vertical-align: middle;\n",
       "    }\n",
       "\n",
       "    .dataframe tbody tr th {\n",
       "        vertical-align: top;\n",
       "    }\n",
       "\n",
       "    .dataframe thead th {\n",
       "        text-align: right;\n",
       "    }\n",
       "</style>\n",
       "<table border=\"1\" class=\"dataframe\">\n",
       "  <thead>\n",
       "    <tr style=\"text-align: right;\">\n",
       "      <th></th>\n",
       "      <th>pkey_filter</th>\n",
       "      <th>pkey_grondwaterlocatie</th>\n",
       "      <th>gw_id</th>\n",
       "      <th>filternummer</th>\n",
       "      <th>filtertype</th>\n",
       "      <th>x</th>\n",
       "      <th>y</th>\n",
       "      <th>start_grondwaterlocatie_mtaw</th>\n",
       "      <th>gemeente</th>\n",
       "      <th>meetnet_code</th>\n",
       "      <th>...</th>\n",
       "      <th>regime</th>\n",
       "      <th>diepte_onderkant_filter</th>\n",
       "      <th>lengte_filter</th>\n",
       "      <th>datum</th>\n",
       "      <th>tijdstip</th>\n",
       "      <th>peil_mtaw</th>\n",
       "      <th>betrouwbaarheid</th>\n",
       "      <th>methode</th>\n",
       "      <th>filterstatus</th>\n",
       "      <th>filtertoestand</th>\n",
       "    </tr>\n",
       "  </thead>\n",
       "  <tbody>\n",
       "    <tr>\n",
       "      <th>0</th>\n",
       "      <td>https://www.dov.vlaanderen.be/data/filter/1993...</td>\n",
       "      <td>https://www.dov.vlaanderen.be/data/put/2019-02...</td>\n",
       "      <td>7-001016</td>\n",
       "      <td>1</td>\n",
       "      <td>pompfilter</td>\n",
       "      <td>224798.0</td>\n",
       "      <td>157819.0</td>\n",
       "      <td>130.8</td>\n",
       "      <td>Herstappe</td>\n",
       "      <td>7</td>\n",
       "      <td>...</td>\n",
       "      <td>freatisch</td>\n",
       "      <td>45.0</td>\n",
       "      <td>5.0</td>\n",
       "      <td>NaN</td>\n",
       "      <td>NaN</td>\n",
       "      <td>NaN</td>\n",
       "      <td>NaN</td>\n",
       "      <td>NaN</td>\n",
       "      <td>NaN</td>\n",
       "      <td>NaN</td>\n",
       "    </tr>\n",
       "    <tr>\n",
       "      <th>1</th>\n",
       "      <td>https://www.dov.vlaanderen.be/data/filter/1900...</td>\n",
       "      <td>https://www.dov.vlaanderen.be/data/put/2019-05...</td>\n",
       "      <td>7-97027</td>\n",
       "      <td>1</td>\n",
       "      <td>pompfilter</td>\n",
       "      <td>224843.0</td>\n",
       "      <td>157842.0</td>\n",
       "      <td>-1.0</td>\n",
       "      <td>Herstappe</td>\n",
       "      <td>7</td>\n",
       "      <td>...</td>\n",
       "      <td>onbekend</td>\n",
       "      <td>NaN</td>\n",
       "      <td>NaN</td>\n",
       "      <td>NaN</td>\n",
       "      <td>NaN</td>\n",
       "      <td>NaN</td>\n",
       "      <td>NaN</td>\n",
       "      <td>NaN</td>\n",
       "      <td>NaN</td>\n",
       "      <td>NaN</td>\n",
       "    </tr>\n",
       "  </tbody>\n",
       "</table>\n",
       "<p>2 rows × 22 columns</p>\n",
       "</div>"
      ],
      "text/plain": [
       "                                         pkey_filter  \\\n",
       "0  https://www.dov.vlaanderen.be/data/filter/1993...   \n",
       "1  https://www.dov.vlaanderen.be/data/filter/1900...   \n",
       "\n",
       "                              pkey_grondwaterlocatie     gw_id filternummer  \\\n",
       "0  https://www.dov.vlaanderen.be/data/put/2019-02...  7-001016            1   \n",
       "1  https://www.dov.vlaanderen.be/data/put/2019-05...   7-97027            1   \n",
       "\n",
       "   filtertype         x         y  start_grondwaterlocatie_mtaw   gemeente  \\\n",
       "0  pompfilter  224798.0  157819.0                         130.8  Herstappe   \n",
       "1  pompfilter  224843.0  157842.0                          -1.0  Herstappe   \n",
       "\n",
       "   meetnet_code       ...           regime diepte_onderkant_filter  \\\n",
       "0             7       ...        freatisch                    45.0   \n",
       "1             7       ...         onbekend                     NaN   \n",
       "\n",
       "  lengte_filter  datum  tijdstip  peil_mtaw  betrouwbaarheid  methode  \\\n",
       "0           5.0    NaN       NaN        NaN              NaN      NaN   \n",
       "1           NaN    NaN       NaN        NaN              NaN      NaN   \n",
       "\n",
       "   filterstatus  filtertoestand  \n",
       "0           NaN             NaN  \n",
       "1           NaN             NaN  \n",
       "\n",
       "[2 rows x 22 columns]"
      ]
     },
     "execution_count": 11,
     "metadata": {},
     "output_type": "execute_result"
    }
   ],
   "source": [
    "from owslib.fes import PropertyIsEqualTo\n",
    "\n",
    "query = PropertyIsEqualTo(\n",
    "            propertyname='gemeente',\n",
    "            literal='Herstappe')\n",
    "\n",
    "df = gwfilter.search(query=query)\n",
    "df.head()"
   ]
  },
  {
   "cell_type": "markdown",
   "metadata": {},
   "source": [
    "Once again we can use the *pkey_filter* as a permanent link to the information of the groundwater screens:"
   ]
  },
  {
   "cell_type": "code",
   "execution_count": 12,
   "metadata": {},
   "outputs": [
    {
     "name": "stdout",
     "output_type": "stream",
     "text": [
      "https://www.dov.vlaanderen.be/data/filter/1900-050992\n",
      "https://www.dov.vlaanderen.be/data/filter/1993-065801\n"
     ]
    }
   ],
   "source": [
    "for pkey_filter in set(df.pkey_filter):\n",
    "    print(pkey_filter)"
   ]
  },
  {
   "cell_type": "markdown",
   "metadata": {},
   "source": [
    "### Get the coordinates of all groundwater screens in Ghent"
   ]
  },
  {
   "cell_type": "code",
   "execution_count": 13,
   "metadata": {},
   "outputs": [
    {
     "data": {
      "text/html": [
       "<div>\n",
       "<style scoped>\n",
       "    .dataframe tbody tr th:only-of-type {\n",
       "        vertical-align: middle;\n",
       "    }\n",
       "\n",
       "    .dataframe tbody tr th {\n",
       "        vertical-align: top;\n",
       "    }\n",
       "\n",
       "    .dataframe thead th {\n",
       "        text-align: right;\n",
       "    }\n",
       "</style>\n",
       "<table border=\"1\" class=\"dataframe\">\n",
       "  <thead>\n",
       "    <tr style=\"text-align: right;\">\n",
       "      <th></th>\n",
       "      <th>pkey_filter</th>\n",
       "      <th>x</th>\n",
       "      <th>y</th>\n",
       "      <th>meetnet</th>\n",
       "    </tr>\n",
       "  </thead>\n",
       "  <tbody>\n",
       "    <tr>\n",
       "      <th>0</th>\n",
       "      <td>https://www.dov.vlaanderen.be/data/filter/1900...</td>\n",
       "      <td>110238.18</td>\n",
       "      <td>205717.638</td>\n",
       "      <td>meetnet 7 - winningsputten</td>\n",
       "    </tr>\n",
       "    <tr>\n",
       "      <th>1</th>\n",
       "      <td>https://www.dov.vlaanderen.be/data/filter/1999...</td>\n",
       "      <td>98347.00</td>\n",
       "      <td>191821.000</td>\n",
       "      <td>meetnet 9 - peilputten INBO en natuurorganisaties</td>\n",
       "    </tr>\n",
       "    <tr>\n",
       "      <th>2</th>\n",
       "      <td>https://www.dov.vlaanderen.be/data/filter/1999...</td>\n",
       "      <td>98514.00</td>\n",
       "      <td>191518.000</td>\n",
       "      <td>meetnet 9 - peilputten INBO en natuurorganisaties</td>\n",
       "    </tr>\n",
       "    <tr>\n",
       "      <th>3</th>\n",
       "      <td>https://www.dov.vlaanderen.be/data/filter/1999...</td>\n",
       "      <td>98630.00</td>\n",
       "      <td>191301.000</td>\n",
       "      <td>meetnet 9 - peilputten INBO en natuurorganisaties</td>\n",
       "    </tr>\n",
       "    <tr>\n",
       "      <th>4</th>\n",
       "      <td>https://www.dov.vlaanderen.be/data/filter/1999...</td>\n",
       "      <td>99017.00</td>\n",
       "      <td>191447.000</td>\n",
       "      <td>meetnet 9 - peilputten INBO en natuurorganisaties</td>\n",
       "    </tr>\n",
       "  </tbody>\n",
       "</table>\n",
       "</div>"
      ],
      "text/plain": [
       "                                         pkey_filter          x           y  \\\n",
       "0  https://www.dov.vlaanderen.be/data/filter/1900...  110238.18  205717.638   \n",
       "1  https://www.dov.vlaanderen.be/data/filter/1999...   98347.00  191821.000   \n",
       "2  https://www.dov.vlaanderen.be/data/filter/1999...   98514.00  191518.000   \n",
       "3  https://www.dov.vlaanderen.be/data/filter/1999...   98630.00  191301.000   \n",
       "4  https://www.dov.vlaanderen.be/data/filter/1999...   99017.00  191447.000   \n",
       "\n",
       "                                             meetnet  \n",
       "0                         meetnet 7 - winningsputten  \n",
       "1  meetnet 9 - peilputten INBO en natuurorganisaties  \n",
       "2  meetnet 9 - peilputten INBO en natuurorganisaties  \n",
       "3  meetnet 9 - peilputten INBO en natuurorganisaties  \n",
       "4  meetnet 9 - peilputten INBO en natuurorganisaties  "
      ]
     },
     "execution_count": 13,
     "metadata": {},
     "output_type": "execute_result"
    }
   ],
   "source": [
    "query = PropertyIsEqualTo(propertyname='gemeente',\n",
    "                          literal='Gent')\n",
    "\n",
    "df = gwfilter.search(query=query,\n",
    "                     return_fields=('pkey_filter', 'x', 'y', 'meetnet'))\n",
    "df.head()"
   ]
  },
  {
   "cell_type": "markdown",
   "metadata": {},
   "source": [
    "### Get the 'meetnet' and 'meetnet_code' for groundwater screens in Boortmeerbeek"
   ]
  },
  {
   "cell_type": "code",
   "execution_count": 14,
   "metadata": {},
   "outputs": [
    {
     "name": "stdout",
     "output_type": "stream",
     "text": [
      "[000/050] cccccccccccccccccccccccccccccccccccccccccccccccccc\n"
     ]
    },
    {
     "data": {
      "text/html": [
       "<div>\n",
       "<style scoped>\n",
       "    .dataframe tbody tr th:only-of-type {\n",
       "        vertical-align: middle;\n",
       "    }\n",
       "\n",
       "    .dataframe tbody tr th {\n",
       "        vertical-align: top;\n",
       "    }\n",
       "\n",
       "    .dataframe thead th {\n",
       "        text-align: right;\n",
       "    }\n",
       "</style>\n",
       "<table border=\"1\" class=\"dataframe\">\n",
       "  <thead>\n",
       "    <tr style=\"text-align: right;\">\n",
       "      <th></th>\n",
       "      <th>pkey_filter</th>\n",
       "      <th>meetnet_code</th>\n",
       "      <th>meetnet</th>\n",
       "    </tr>\n",
       "  </thead>\n",
       "  <tbody>\n",
       "    <tr>\n",
       "      <th>0</th>\n",
       "      <td>https://www.dov.vlaanderen.be/data/filter/1981...</td>\n",
       "      <td>7</td>\n",
       "      <td>meetnet 7 - winningsputten</td>\n",
       "    </tr>\n",
       "    <tr>\n",
       "      <th>1</th>\n",
       "      <td>https://www.dov.vlaanderen.be/data/filter/2018...</td>\n",
       "      <td>7</td>\n",
       "      <td>meetnet 7 - winningsputten</td>\n",
       "    </tr>\n",
       "    <tr>\n",
       "      <th>2</th>\n",
       "      <td>https://www.dov.vlaanderen.be/data/filter/1976...</td>\n",
       "      <td>7</td>\n",
       "      <td>meetnet 7 - winningsputten</td>\n",
       "    </tr>\n",
       "    <tr>\n",
       "      <th>3</th>\n",
       "      <td>https://www.dov.vlaanderen.be/data/filter/1980...</td>\n",
       "      <td>7</td>\n",
       "      <td>meetnet 7 - winningsputten</td>\n",
       "    </tr>\n",
       "    <tr>\n",
       "      <th>4</th>\n",
       "      <td>https://www.dov.vlaanderen.be/data/filter/1980...</td>\n",
       "      <td>7</td>\n",
       "      <td>meetnet 7 - winningsputten</td>\n",
       "    </tr>\n",
       "  </tbody>\n",
       "</table>\n",
       "</div>"
      ],
      "text/plain": [
       "                                         pkey_filter  meetnet_code  \\\n",
       "0  https://www.dov.vlaanderen.be/data/filter/1981...             7   \n",
       "1  https://www.dov.vlaanderen.be/data/filter/2018...             7   \n",
       "2  https://www.dov.vlaanderen.be/data/filter/1976...             7   \n",
       "3  https://www.dov.vlaanderen.be/data/filter/1980...             7   \n",
       "4  https://www.dov.vlaanderen.be/data/filter/1980...             7   \n",
       "\n",
       "                      meetnet  \n",
       "0  meetnet 7 - winningsputten  \n",
       "1  meetnet 7 - winningsputten  \n",
       "2  meetnet 7 - winningsputten  \n",
       "3  meetnet 7 - winningsputten  \n",
       "4  meetnet 7 - winningsputten  "
      ]
     },
     "execution_count": 14,
     "metadata": {},
     "output_type": "execute_result"
    }
   ],
   "source": [
    "query = PropertyIsEqualTo(propertyname='gemeente',\n",
    "                          literal='Boortmeerbeek')\n",
    "\n",
    "df = gwfilter.search(query=query,\n",
    "                   return_fields=('pkey_filter', 'meetnet', 'meetnet_code'))\n",
    "df.head()"
   ]
  },
  {
   "cell_type": "markdown",
   "metadata": {},
   "source": [
    "### Get all details of groundwaterscreens of 'meetnet 9' within the given bounding box"
   ]
  },
  {
   "cell_type": "code",
   "execution_count": 15,
   "metadata": {},
   "outputs": [
    {
     "name": "stdout",
     "output_type": "stream",
     "text": [
      "[000/016] cccccccccccccccc\n"
     ]
    },
    {
     "data": {
      "text/html": [
       "<div>\n",
       "<style scoped>\n",
       "    .dataframe tbody tr th:only-of-type {\n",
       "        vertical-align: middle;\n",
       "    }\n",
       "\n",
       "    .dataframe tbody tr th {\n",
       "        vertical-align: top;\n",
       "    }\n",
       "\n",
       "    .dataframe thead th {\n",
       "        text-align: right;\n",
       "    }\n",
       "</style>\n",
       "<table border=\"1\" class=\"dataframe\">\n",
       "  <thead>\n",
       "    <tr style=\"text-align: right;\">\n",
       "      <th></th>\n",
       "      <th>pkey_filter</th>\n",
       "      <th>pkey_grondwaterlocatie</th>\n",
       "      <th>gw_id</th>\n",
       "      <th>filternummer</th>\n",
       "      <th>filtertype</th>\n",
       "      <th>x</th>\n",
       "      <th>y</th>\n",
       "      <th>start_grondwaterlocatie_mtaw</th>\n",
       "      <th>gemeente</th>\n",
       "      <th>meetnet_code</th>\n",
       "      <th>...</th>\n",
       "      <th>regime</th>\n",
       "      <th>diepte_onderkant_filter</th>\n",
       "      <th>lengte_filter</th>\n",
       "      <th>datum</th>\n",
       "      <th>tijdstip</th>\n",
       "      <th>peil_mtaw</th>\n",
       "      <th>betrouwbaarheid</th>\n",
       "      <th>methode</th>\n",
       "      <th>filterstatus</th>\n",
       "      <th>filtertoestand</th>\n",
       "    </tr>\n",
       "  </thead>\n",
       "  <tbody>\n",
       "    <tr>\n",
       "      <th>0</th>\n",
       "      <td>https://www.dov.vlaanderen.be/data/filter/1999...</td>\n",
       "      <td>https://www.dov.vlaanderen.be/data/put/2017-00...</td>\n",
       "      <td>WVSP009</td>\n",
       "      <td>1</td>\n",
       "      <td>peilfilter</td>\n",
       "      <td>89720.046875</td>\n",
       "      <td>165712.140625</td>\n",
       "      <td>11.84</td>\n",
       "      <td>Avelgem</td>\n",
       "      <td>9</td>\n",
       "      <td>...</td>\n",
       "      <td>onbekend</td>\n",
       "      <td>5.78</td>\n",
       "      <td>1.0</td>\n",
       "      <td>1999-01-12</td>\n",
       "      <td>NaN</td>\n",
       "      <td>12.20</td>\n",
       "      <td>onbekend</td>\n",
       "      <td>peillint</td>\n",
       "      <td>in rust</td>\n",
       "      <td>1.0</td>\n",
       "    </tr>\n",
       "    <tr>\n",
       "      <th>1</th>\n",
       "      <td>https://www.dov.vlaanderen.be/data/filter/1999...</td>\n",
       "      <td>https://www.dov.vlaanderen.be/data/put/2017-00...</td>\n",
       "      <td>WVSP009</td>\n",
       "      <td>1</td>\n",
       "      <td>peilfilter</td>\n",
       "      <td>89720.046875</td>\n",
       "      <td>165712.140625</td>\n",
       "      <td>11.84</td>\n",
       "      <td>Avelgem</td>\n",
       "      <td>9</td>\n",
       "      <td>...</td>\n",
       "      <td>onbekend</td>\n",
       "      <td>5.78</td>\n",
       "      <td>1.0</td>\n",
       "      <td>1999-01-21</td>\n",
       "      <td>NaN</td>\n",
       "      <td>12.26</td>\n",
       "      <td>onbekend</td>\n",
       "      <td>peillint</td>\n",
       "      <td>in rust</td>\n",
       "      <td>1.0</td>\n",
       "    </tr>\n",
       "    <tr>\n",
       "      <th>2</th>\n",
       "      <td>https://www.dov.vlaanderen.be/data/filter/1999...</td>\n",
       "      <td>https://www.dov.vlaanderen.be/data/put/2017-00...</td>\n",
       "      <td>WVSP009</td>\n",
       "      <td>1</td>\n",
       "      <td>peilfilter</td>\n",
       "      <td>89720.046875</td>\n",
       "      <td>165712.140625</td>\n",
       "      <td>11.84</td>\n",
       "      <td>Avelgem</td>\n",
       "      <td>9</td>\n",
       "      <td>...</td>\n",
       "      <td>onbekend</td>\n",
       "      <td>5.78</td>\n",
       "      <td>1.0</td>\n",
       "      <td>1999-02-01</td>\n",
       "      <td>NaN</td>\n",
       "      <td>12.31</td>\n",
       "      <td>onbekend</td>\n",
       "      <td>peillint</td>\n",
       "      <td>in rust</td>\n",
       "      <td>1.0</td>\n",
       "    </tr>\n",
       "    <tr>\n",
       "      <th>3</th>\n",
       "      <td>https://www.dov.vlaanderen.be/data/filter/1999...</td>\n",
       "      <td>https://www.dov.vlaanderen.be/data/put/2017-00...</td>\n",
       "      <td>WVSP009</td>\n",
       "      <td>1</td>\n",
       "      <td>peilfilter</td>\n",
       "      <td>89720.046875</td>\n",
       "      <td>165712.140625</td>\n",
       "      <td>11.84</td>\n",
       "      <td>Avelgem</td>\n",
       "      <td>9</td>\n",
       "      <td>...</td>\n",
       "      <td>onbekend</td>\n",
       "      <td>5.78</td>\n",
       "      <td>1.0</td>\n",
       "      <td>1999-02-06</td>\n",
       "      <td>NaN</td>\n",
       "      <td>12.29</td>\n",
       "      <td>onbekend</td>\n",
       "      <td>peillint</td>\n",
       "      <td>in rust</td>\n",
       "      <td>1.0</td>\n",
       "    </tr>\n",
       "    <tr>\n",
       "      <th>4</th>\n",
       "      <td>https://www.dov.vlaanderen.be/data/filter/1999...</td>\n",
       "      <td>https://www.dov.vlaanderen.be/data/put/2017-00...</td>\n",
       "      <td>WVSP009</td>\n",
       "      <td>1</td>\n",
       "      <td>peilfilter</td>\n",
       "      <td>89720.046875</td>\n",
       "      <td>165712.140625</td>\n",
       "      <td>11.84</td>\n",
       "      <td>Avelgem</td>\n",
       "      <td>9</td>\n",
       "      <td>...</td>\n",
       "      <td>onbekend</td>\n",
       "      <td>5.78</td>\n",
       "      <td>1.0</td>\n",
       "      <td>1999-02-12</td>\n",
       "      <td>NaN</td>\n",
       "      <td>12.18</td>\n",
       "      <td>onbekend</td>\n",
       "      <td>peillint</td>\n",
       "      <td>in rust</td>\n",
       "      <td>1.0</td>\n",
       "    </tr>\n",
       "  </tbody>\n",
       "</table>\n",
       "<p>5 rows × 22 columns</p>\n",
       "</div>"
      ],
      "text/plain": [
       "                                         pkey_filter  \\\n",
       "0  https://www.dov.vlaanderen.be/data/filter/1999...   \n",
       "1  https://www.dov.vlaanderen.be/data/filter/1999...   \n",
       "2  https://www.dov.vlaanderen.be/data/filter/1999...   \n",
       "3  https://www.dov.vlaanderen.be/data/filter/1999...   \n",
       "4  https://www.dov.vlaanderen.be/data/filter/1999...   \n",
       "\n",
       "                              pkey_grondwaterlocatie    gw_id filternummer  \\\n",
       "0  https://www.dov.vlaanderen.be/data/put/2017-00...  WVSP009            1   \n",
       "1  https://www.dov.vlaanderen.be/data/put/2017-00...  WVSP009            1   \n",
       "2  https://www.dov.vlaanderen.be/data/put/2017-00...  WVSP009            1   \n",
       "3  https://www.dov.vlaanderen.be/data/put/2017-00...  WVSP009            1   \n",
       "4  https://www.dov.vlaanderen.be/data/put/2017-00...  WVSP009            1   \n",
       "\n",
       "   filtertype             x              y  start_grondwaterlocatie_mtaw  \\\n",
       "0  peilfilter  89720.046875  165712.140625                         11.84   \n",
       "1  peilfilter  89720.046875  165712.140625                         11.84   \n",
       "2  peilfilter  89720.046875  165712.140625                         11.84   \n",
       "3  peilfilter  89720.046875  165712.140625                         11.84   \n",
       "4  peilfilter  89720.046875  165712.140625                         11.84   \n",
       "\n",
       "  gemeente  meetnet_code      ...          regime  diepte_onderkant_filter  \\\n",
       "0  Avelgem             9      ...        onbekend                     5.78   \n",
       "1  Avelgem             9      ...        onbekend                     5.78   \n",
       "2  Avelgem             9      ...        onbekend                     5.78   \n",
       "3  Avelgem             9      ...        onbekend                     5.78   \n",
       "4  Avelgem             9      ...        onbekend                     5.78   \n",
       "\n",
       "  lengte_filter       datum  tijdstip peil_mtaw  betrouwbaarheid   methode  \\\n",
       "0           1.0  1999-01-12       NaN     12.20         onbekend  peillint   \n",
       "1           1.0  1999-01-21       NaN     12.26         onbekend  peillint   \n",
       "2           1.0  1999-02-01       NaN     12.31         onbekend  peillint   \n",
       "3           1.0  1999-02-06       NaN     12.29         onbekend  peillint   \n",
       "4           1.0  1999-02-12       NaN     12.18         onbekend  peillint   \n",
       "\n",
       "  filterstatus filtertoestand  \n",
       "0      in rust            1.0  \n",
       "1      in rust            1.0  \n",
       "2      in rust            1.0  \n",
       "3      in rust            1.0  \n",
       "4      in rust            1.0  \n",
       "\n",
       "[5 rows x 22 columns]"
      ]
     },
     "execution_count": 15,
     "metadata": {},
     "output_type": "execute_result"
    }
   ],
   "source": [
    "from owslib.fes import PropertyIsLike\n",
    "\n",
    "query = PropertyIsLike(propertyname='meetnet',\n",
    "                       literal='meetnet 9 %')\n",
    "df = gwfilter.search(query=query,\n",
    "                     location=Within(Box(87676, 163442, 91194, 168043)))\n",
    "df.head()"
   ]
  },
  {
   "cell_type": "markdown",
   "metadata": {},
   "source": [
    "### Get groundwater screens based on a combination of specific properties"
   ]
  },
  {
   "cell_type": "markdown",
   "metadata": {},
   "source": [
    "Get all groundwater screens in Hamme that have a value for length_filter and either belong to the primary meetnet of VMM or that have a depth bottom screen less than 3 meter."
   ]
  },
  {
   "cell_type": "code",
   "execution_count": 16,
   "metadata": {},
   "outputs": [
    {
     "data": {
      "text/html": [
       "<div>\n",
       "<style scoped>\n",
       "    .dataframe tbody tr th:only-of-type {\n",
       "        vertical-align: middle;\n",
       "    }\n",
       "\n",
       "    .dataframe tbody tr th {\n",
       "        vertical-align: top;\n",
       "    }\n",
       "\n",
       "    .dataframe thead th {\n",
       "        text-align: right;\n",
       "    }\n",
       "</style>\n",
       "<table border=\"1\" class=\"dataframe\">\n",
       "  <thead>\n",
       "    <tr style=\"text-align: right;\">\n",
       "      <th></th>\n",
       "      <th>pkey_filter</th>\n",
       "      <th>gw_id</th>\n",
       "      <th>filternummer</th>\n",
       "      <th>x</th>\n",
       "      <th>y</th>\n",
       "      <th>diepte_onderkant_filter</th>\n",
       "    </tr>\n",
       "  </thead>\n",
       "  <tbody>\n",
       "    <tr>\n",
       "      <th>0</th>\n",
       "      <td>https://www.dov.vlaanderen.be/data/filter/2001...</td>\n",
       "      <td>MORP002</td>\n",
       "      <td>1</td>\n",
       "      <td>130078.000000</td>\n",
       "      <td>196561.000000</td>\n",
       "      <td>1.91</td>\n",
       "    </tr>\n",
       "    <tr>\n",
       "      <th>1</th>\n",
       "      <td>https://www.dov.vlaanderen.be/data/filter/2003...</td>\n",
       "      <td>802/21/3</td>\n",
       "      <td>1</td>\n",
       "      <td>131763.200000</td>\n",
       "      <td>198674.500000</td>\n",
       "      <td>2.50</td>\n",
       "    </tr>\n",
       "    <tr>\n",
       "      <th>2</th>\n",
       "      <td>https://www.dov.vlaanderen.be/data/filter/2003...</td>\n",
       "      <td>810/21/1</td>\n",
       "      <td>1</td>\n",
       "      <td>131837.656250</td>\n",
       "      <td>197054.203125</td>\n",
       "      <td>2.50</td>\n",
       "    </tr>\n",
       "    <tr>\n",
       "      <th>3</th>\n",
       "      <td>https://www.dov.vlaanderen.be/data/filter/2003...</td>\n",
       "      <td>813/21/2</td>\n",
       "      <td>1</td>\n",
       "      <td>133865.921875</td>\n",
       "      <td>195656.328125</td>\n",
       "      <td>2.50</td>\n",
       "    </tr>\n",
       "    <tr>\n",
       "      <th>4</th>\n",
       "      <td>https://www.dov.vlaanderen.be/data/filter/2000...</td>\n",
       "      <td>MORP001</td>\n",
       "      <td>1</td>\n",
       "      <td>130190.000000</td>\n",
       "      <td>196378.000000</td>\n",
       "      <td>1.59</td>\n",
       "    </tr>\n",
       "  </tbody>\n",
       "</table>\n",
       "</div>"
      ],
      "text/plain": [
       "                                         pkey_filter     gw_id filternummer  \\\n",
       "0  https://www.dov.vlaanderen.be/data/filter/2001...   MORP002            1   \n",
       "1  https://www.dov.vlaanderen.be/data/filter/2003...  802/21/3            1   \n",
       "2  https://www.dov.vlaanderen.be/data/filter/2003...  810/21/1            1   \n",
       "3  https://www.dov.vlaanderen.be/data/filter/2003...  813/21/2            1   \n",
       "4  https://www.dov.vlaanderen.be/data/filter/2000...   MORP001            1   \n",
       "\n",
       "               x              y  diepte_onderkant_filter  \n",
       "0  130078.000000  196561.000000                     1.91  \n",
       "1  131763.200000  198674.500000                     2.50  \n",
       "2  131837.656250  197054.203125                     2.50  \n",
       "3  133865.921875  195656.328125                     2.50  \n",
       "4  130190.000000  196378.000000                     1.59  "
      ]
     },
     "execution_count": 16,
     "metadata": {},
     "output_type": "execute_result"
    }
   ],
   "source": [
    "from owslib.fes import Or, Not, PropertyIsNull, PropertyIsLessThanOrEqualTo, And\n",
    "\n",
    "query = And([PropertyIsEqualTo(propertyname='gemeente',\n",
    "                               literal='Hamme'),\n",
    "             Not([PropertyIsNull(propertyname='lengte_filter')]),\n",
    "             Or([PropertyIsLike(propertyname='meetnet',\n",
    "                                literal='meetnet 1%'),\n",
    "                 PropertyIsLessThanOrEqualTo(\n",
    "                     propertyname='diepte_onderkant_filter',\n",
    "                     literal='3')])])\n",
    "df_hamme = gwfilter.search(query=query,\n",
    "                     return_fields=('pkey_filter', 'x', 'y', 'gw_id', 'filternummer', 'diepte_onderkant_filter'))\n",
    "df_hamme.head()"
   ]
  },
  {
   "cell_type": "markdown",
   "metadata": {},
   "source": [
    "## Working with water head time series "
   ]
  },
  {
   "cell_type": "markdown",
   "metadata": {},
   "source": [
    "For further analysis and visualisation of the time series data, we can use the data analysis library [pandas](https://pandas.pydata.org/) and visualisation library [matplotlib](https://matplotlib.org/). "
   ]
  },
  {
   "cell_type": "code",
   "execution_count": 17,
   "metadata": {
    "collapsed": true
   },
   "outputs": [],
   "source": [
    "import pandas as pd\n",
    "import matplotlib.pyplot as plt"
   ]
  },
  {
   "cell_type": "markdown",
   "metadata": {},
   "source": [
    "Query the data of a specific filter using its `pkey`:"
   ]
  },
  {
   "cell_type": "code",
   "execution_count": 18,
   "metadata": {},
   "outputs": [
    {
     "name": "stdout",
     "output_type": "stream",
     "text": [
      "[000/001] c\n"
     ]
    },
    {
     "data": {
      "text/html": [
       "<div>\n",
       "<style scoped>\n",
       "    .dataframe tbody tr th:only-of-type {\n",
       "        vertical-align: middle;\n",
       "    }\n",
       "\n",
       "    .dataframe tbody tr th {\n",
       "        vertical-align: top;\n",
       "    }\n",
       "\n",
       "    .dataframe thead th {\n",
       "        text-align: right;\n",
       "    }\n",
       "</style>\n",
       "<table border=\"1\" class=\"dataframe\">\n",
       "  <thead>\n",
       "    <tr style=\"text-align: right;\">\n",
       "      <th></th>\n",
       "      <th>pkey_filter</th>\n",
       "      <th>pkey_grondwaterlocatie</th>\n",
       "      <th>gw_id</th>\n",
       "      <th>filternummer</th>\n",
       "      <th>filtertype</th>\n",
       "      <th>x</th>\n",
       "      <th>y</th>\n",
       "      <th>start_grondwaterlocatie_mtaw</th>\n",
       "      <th>gemeente</th>\n",
       "      <th>meetnet_code</th>\n",
       "      <th>...</th>\n",
       "      <th>regime</th>\n",
       "      <th>diepte_onderkant_filter</th>\n",
       "      <th>lengte_filter</th>\n",
       "      <th>datum</th>\n",
       "      <th>tijdstip</th>\n",
       "      <th>peil_mtaw</th>\n",
       "      <th>betrouwbaarheid</th>\n",
       "      <th>methode</th>\n",
       "      <th>filterstatus</th>\n",
       "      <th>filtertoestand</th>\n",
       "    </tr>\n",
       "  </thead>\n",
       "  <tbody>\n",
       "    <tr>\n",
       "      <th>0</th>\n",
       "      <td>https://www.dov.vlaanderen.be/data/filter/2003...</td>\n",
       "      <td>https://www.dov.vlaanderen.be/data/put/2018-00...</td>\n",
       "      <td>ZWAP205</td>\n",
       "      <td>1</td>\n",
       "      <td>peilfilter</td>\n",
       "      <td>218953.0</td>\n",
       "      <td>198767.0</td>\n",
       "      <td>58.44</td>\n",
       "      <td>Houthalen-Helchteren</td>\n",
       "      <td>9</td>\n",
       "      <td>...</td>\n",
       "      <td>onbekend</td>\n",
       "      <td>0.68</td>\n",
       "      <td>0.3</td>\n",
       "      <td>2003-10-18</td>\n",
       "      <td>NaN</td>\n",
       "      <td>58.26</td>\n",
       "      <td>onbekend</td>\n",
       "      <td>peillint</td>\n",
       "      <td>onbekend</td>\n",
       "      <td>1</td>\n",
       "    </tr>\n",
       "    <tr>\n",
       "      <th>1</th>\n",
       "      <td>https://www.dov.vlaanderen.be/data/filter/2003...</td>\n",
       "      <td>https://www.dov.vlaanderen.be/data/put/2018-00...</td>\n",
       "      <td>ZWAP205</td>\n",
       "      <td>1</td>\n",
       "      <td>peilfilter</td>\n",
       "      <td>218953.0</td>\n",
       "      <td>198767.0</td>\n",
       "      <td>58.44</td>\n",
       "      <td>Houthalen-Helchteren</td>\n",
       "      <td>9</td>\n",
       "      <td>...</td>\n",
       "      <td>onbekend</td>\n",
       "      <td>0.68</td>\n",
       "      <td>0.3</td>\n",
       "      <td>2003-11-01</td>\n",
       "      <td>NaN</td>\n",
       "      <td>58.30</td>\n",
       "      <td>onbekend</td>\n",
       "      <td>peillint</td>\n",
       "      <td>onbekend</td>\n",
       "      <td>1</td>\n",
       "    </tr>\n",
       "    <tr>\n",
       "      <th>2</th>\n",
       "      <td>https://www.dov.vlaanderen.be/data/filter/2003...</td>\n",
       "      <td>https://www.dov.vlaanderen.be/data/put/2018-00...</td>\n",
       "      <td>ZWAP205</td>\n",
       "      <td>1</td>\n",
       "      <td>peilfilter</td>\n",
       "      <td>218953.0</td>\n",
       "      <td>198767.0</td>\n",
       "      <td>58.44</td>\n",
       "      <td>Houthalen-Helchteren</td>\n",
       "      <td>9</td>\n",
       "      <td>...</td>\n",
       "      <td>onbekend</td>\n",
       "      <td>0.68</td>\n",
       "      <td>0.3</td>\n",
       "      <td>2003-11-17</td>\n",
       "      <td>NaN</td>\n",
       "      <td>58.31</td>\n",
       "      <td>onbekend</td>\n",
       "      <td>peillint</td>\n",
       "      <td>onbekend</td>\n",
       "      <td>1</td>\n",
       "    </tr>\n",
       "    <tr>\n",
       "      <th>3</th>\n",
       "      <td>https://www.dov.vlaanderen.be/data/filter/2003...</td>\n",
       "      <td>https://www.dov.vlaanderen.be/data/put/2018-00...</td>\n",
       "      <td>ZWAP205</td>\n",
       "      <td>1</td>\n",
       "      <td>peilfilter</td>\n",
       "      <td>218953.0</td>\n",
       "      <td>198767.0</td>\n",
       "      <td>58.44</td>\n",
       "      <td>Houthalen-Helchteren</td>\n",
       "      <td>9</td>\n",
       "      <td>...</td>\n",
       "      <td>onbekend</td>\n",
       "      <td>0.68</td>\n",
       "      <td>0.3</td>\n",
       "      <td>2003-11-23</td>\n",
       "      <td>NaN</td>\n",
       "      <td>58.31</td>\n",
       "      <td>onbekend</td>\n",
       "      <td>peillint</td>\n",
       "      <td>onbekend</td>\n",
       "      <td>1</td>\n",
       "    </tr>\n",
       "    <tr>\n",
       "      <th>4</th>\n",
       "      <td>https://www.dov.vlaanderen.be/data/filter/2003...</td>\n",
       "      <td>https://www.dov.vlaanderen.be/data/put/2018-00...</td>\n",
       "      <td>ZWAP205</td>\n",
       "      <td>1</td>\n",
       "      <td>peilfilter</td>\n",
       "      <td>218953.0</td>\n",
       "      <td>198767.0</td>\n",
       "      <td>58.44</td>\n",
       "      <td>Houthalen-Helchteren</td>\n",
       "      <td>9</td>\n",
       "      <td>...</td>\n",
       "      <td>onbekend</td>\n",
       "      <td>0.68</td>\n",
       "      <td>0.3</td>\n",
       "      <td>2003-12-14</td>\n",
       "      <td>NaN</td>\n",
       "      <td>58.30</td>\n",
       "      <td>onbekend</td>\n",
       "      <td>peillint</td>\n",
       "      <td>onbekend</td>\n",
       "      <td>1</td>\n",
       "    </tr>\n",
       "  </tbody>\n",
       "</table>\n",
       "<p>5 rows × 22 columns</p>\n",
       "</div>"
      ],
      "text/plain": [
       "                                         pkey_filter  \\\n",
       "0  https://www.dov.vlaanderen.be/data/filter/2003...   \n",
       "1  https://www.dov.vlaanderen.be/data/filter/2003...   \n",
       "2  https://www.dov.vlaanderen.be/data/filter/2003...   \n",
       "3  https://www.dov.vlaanderen.be/data/filter/2003...   \n",
       "4  https://www.dov.vlaanderen.be/data/filter/2003...   \n",
       "\n",
       "                              pkey_grondwaterlocatie    gw_id filternummer  \\\n",
       "0  https://www.dov.vlaanderen.be/data/put/2018-00...  ZWAP205            1   \n",
       "1  https://www.dov.vlaanderen.be/data/put/2018-00...  ZWAP205            1   \n",
       "2  https://www.dov.vlaanderen.be/data/put/2018-00...  ZWAP205            1   \n",
       "3  https://www.dov.vlaanderen.be/data/put/2018-00...  ZWAP205            1   \n",
       "4  https://www.dov.vlaanderen.be/data/put/2018-00...  ZWAP205            1   \n",
       "\n",
       "   filtertype         x         y  start_grondwaterlocatie_mtaw  \\\n",
       "0  peilfilter  218953.0  198767.0                         58.44   \n",
       "1  peilfilter  218953.0  198767.0                         58.44   \n",
       "2  peilfilter  218953.0  198767.0                         58.44   \n",
       "3  peilfilter  218953.0  198767.0                         58.44   \n",
       "4  peilfilter  218953.0  198767.0                         58.44   \n",
       "\n",
       "               gemeente  meetnet_code      ...          regime  \\\n",
       "0  Houthalen-Helchteren             9      ...        onbekend   \n",
       "1  Houthalen-Helchteren             9      ...        onbekend   \n",
       "2  Houthalen-Helchteren             9      ...        onbekend   \n",
       "3  Houthalen-Helchteren             9      ...        onbekend   \n",
       "4  Houthalen-Helchteren             9      ...        onbekend   \n",
       "\n",
       "   diepte_onderkant_filter lengte_filter       datum  tijdstip peil_mtaw  \\\n",
       "0                     0.68           0.3  2003-10-18       NaN     58.26   \n",
       "1                     0.68           0.3  2003-11-01       NaN     58.30   \n",
       "2                     0.68           0.3  2003-11-17       NaN     58.31   \n",
       "3                     0.68           0.3  2003-11-23       NaN     58.31   \n",
       "4                     0.68           0.3  2003-12-14       NaN     58.30   \n",
       "\n",
       "   betrouwbaarheid   methode filterstatus filtertoestand  \n",
       "0         onbekend  peillint     onbekend              1  \n",
       "1         onbekend  peillint     onbekend              1  \n",
       "2         onbekend  peillint     onbekend              1  \n",
       "3         onbekend  peillint     onbekend              1  \n",
       "4         onbekend  peillint     onbekend              1  \n",
       "\n",
       "[5 rows x 22 columns]"
      ]
     },
     "execution_count": 18,
     "metadata": {},
     "output_type": "execute_result"
    }
   ],
   "source": [
    "query = PropertyIsEqualTo(\n",
    "            propertyname='pkey_filter',\n",
    "            literal='https://www.dov.vlaanderen.be/data/filter/2003-009883')\n",
    "\n",
    "df = gwfilter.search(query=query)\n",
    "df.head()"
   ]
  },
  {
   "cell_type": "markdown",
   "metadata": {},
   "source": [
    "The date is still stored as a string type. Transforming to a data type using the available pandas function [`to_datetime`](https://pandas.pydata.org/pandas-docs/stable/generated/pandas.to_datetime.html) and using these dates as row index:"
   ]
  },
  {
   "cell_type": "code",
   "execution_count": 19,
   "metadata": {
    "collapsed": true
   },
   "outputs": [],
   "source": [
    "df['datum'] = pd.to_datetime(df['datum'])\n",
    "df = df.set_index('datum')"
   ]
  },
  {
   "cell_type": "markdown",
   "metadata": {},
   "source": [
    "### Plotting"
   ]
  },
  {
   "cell_type": "markdown",
   "metadata": {},
   "source": [
    "The default plotting functionality of Pandas can be used:"
   ]
  },
  {
   "cell_type": "code",
   "execution_count": 20,
   "metadata": {},
   "outputs": [
    {
     "data": {
      "text/plain": [
       "<matplotlib.axes._subplots.AxesSubplot at 0x12a95080>"
      ]
     },
     "execution_count": 20,
     "metadata": {},
     "output_type": "execute_result"
    },
    {
     "data": {
      "image/png": "[encoded data removed]",
      "text/plain": [
       "<matplotlib.figure.Figure at 0x10f568d0>"
      ]
     },
     "metadata": {},
     "output_type": "display_data"
    }
   ],
   "source": [
    "df['peil_mtaw'].plot(style='-', figsize=(12, 5))"
   ]
  },
  {
   "cell_type": "markdown",
   "metadata": {},
   "source": [
    "It might be interesting to compare the water head timeseries with the ground level. This is available in the 'mv_mtaw' field of the GrondwaterLocatie type:"
   ]
  },
  {
   "cell_type": "code",
   "execution_count": 21,
   "metadata": {},
   "outputs": [
    {
     "name": "stdout",
     "output_type": "stream",
     "text": [
      "[000/001] c\n"
     ]
    },
    {
     "data": {
      "text/html": [
       "<div>\n",
       "<style scoped>\n",
       "    .dataframe tbody tr th:only-of-type {\n",
       "        vertical-align: middle;\n",
       "    }\n",
       "\n",
       "    .dataframe tbody tr th {\n",
       "        vertical-align: top;\n",
       "    }\n",
       "\n",
       "    .dataframe thead th {\n",
       "        text-align: right;\n",
       "    }\n",
       "</style>\n",
       "<table border=\"1\" class=\"dataframe\">\n",
       "  <thead>\n",
       "    <tr style=\"text-align: right;\">\n",
       "      <th></th>\n",
       "      <th>pkey_grondwaterlocatie</th>\n",
       "      <th>gw_id</th>\n",
       "      <th>x</th>\n",
       "      <th>y</th>\n",
       "      <th>mv_mtaw</th>\n",
       "      <th>start_grondwaterlocatie_mtaw</th>\n",
       "      <th>gemeente</th>\n",
       "      <th>beheerder_vanaf</th>\n",
       "      <th>beheerder_tot</th>\n",
       "      <th>beheerder</th>\n",
       "    </tr>\n",
       "  </thead>\n",
       "  <tbody>\n",
       "    <tr>\n",
       "      <th>0</th>\n",
       "      <td>https://www.dov.vlaanderen.be/data/put/2018-00...</td>\n",
       "      <td>ZWAP205</td>\n",
       "      <td>218953.0</td>\n",
       "      <td>198767.0</td>\n",
       "      <td>58.44</td>\n",
       "      <td>58.44</td>\n",
       "      <td>Houthalen-Helchteren</td>\n",
       "      <td>2003-10-18</td>\n",
       "      <td>NaN</td>\n",
       "      <td>INSTITUUT VOOR NATUUR- EN BOSONDERZOEK (INBO)</td>\n",
       "    </tr>\n",
       "  </tbody>\n",
       "</table>\n",
       "</div>"
      ],
      "text/plain": [
       "                              pkey_grondwaterlocatie    gw_id         x  \\\n",
       "0  https://www.dov.vlaanderen.be/data/put/2018-00...  ZWAP205  218953.0   \n",
       "\n",
       "          y  mv_mtaw  start_grondwaterlocatie_mtaw              gemeente  \\\n",
       "0  198767.0    58.44                         58.44  Houthalen-Helchteren   \n",
       "\n",
       "  beheerder_vanaf  beheerder_tot  \\\n",
       "0      2003-10-18            NaN   \n",
       "\n",
       "                                       beheerder  \n",
       "0  INSTITUUT VOOR NATUUR- EN BOSONDERZOEK (INBO)  "
      ]
     },
     "execution_count": 21,
     "metadata": {},
     "output_type": "execute_result"
    }
   ],
   "source": [
    "from pydov.search.grondwaterlocatie import GrondwaterLocatieSearch\n",
    "\n",
    "gwl = GrondwaterLocatieSearch()\n",
    "\n",
    "df_gwl = gwl.search(query=PropertyIsEqualTo('pkey_grondwaterlocatie', df[\"pkey_grondwaterlocatie\"][0]))\n",
    "df_gwl"
   ]
  },
  {
   "cell_type": "markdown",
   "metadata": {},
   "source": [
    "We can now make a matplotlib graph to have full customization options:"
   ]
  },
  {
   "cell_type": "code",
   "execution_count": 22,
   "metadata": {},
   "outputs": [
    {
     "data": {
      "image/png": "[encoded data removed]",
      "text/plain": [
       "<matplotlib.figure.Figure at 0x12bbeb70>"
      ]
     },
     "metadata": {},
     "output_type": "display_data"
    }
   ],
   "source": [
    "from matplotlib.dates import MonthLocator, YearLocator, DateFormatter\n",
    "from matplotlib.ticker import MaxNLocator, MultipleLocator\n",
    "\n",
    "# Get height of ground surface\n",
    "ground_surface = df_gwl[\"mv_mtaw\"][0]\n",
    "\n",
    "# create a plot with 2 subplots\n",
    "fig, (ax1, ax2) = plt.subplots(2, 1, figsize=(12, 6), \n",
    "                               sharex=False, sharey=True)\n",
    "\n",
    "# Plot entire time series in the upper plot\n",
    "df['peil_mtaw'].plot(ax=ax1, title='Water heads `Put ZWAP205`')\n",
    "ax1.xaxis.set_major_locator(YearLocator(5))\n",
    "ax1.xaxis.set_major_formatter(DateFormatter('%Y'))\n",
    "\n",
    "# Plot the data for 2011 in the lower plot\n",
    "df['peil_mtaw'][\"2011\"].plot(ax=ax2,  title='Water heads `Put ZWAP205` year 2011')\n",
    "ax2.xaxis.set_major_locator(MonthLocator(interval=3))\n",
    "ax2.xaxis.set_major_formatter(DateFormatter('%Y-%m'))\n",
    "\n",
    "# Adjust configuration of plot\n",
    "for ax in (ax1, ax2):\n",
    "    ax.set_xlabel('')\n",
    "    ax.set_ylabel('head (mTAW)')\n",
    "    for tick in ax.get_xticklabels():\n",
    "        tick.set_rotation(0)\n",
    "        tick.set_horizontalalignment('center')\n",
    "\n",
    "    # Only draw spine between the y-ticks\n",
    "    ax.spines['left'].set_position(('outward', 10))\n",
    "    # Hide the right and top spines\n",
    "    ax.spines['right'].set_visible(False)\n",
    "    ax.spines['top'].set_visible(False)\n",
    "    ax.yaxis.set_major_locator(MultipleLocator(0.2))\n",
    "    \n",
    "    # Add the ground surface (provided in the data) on the subplots\n",
    "    ax.axhline(ground_surface, color = 'brown')\n",
    "    ax.annotate('Ground surface', \n",
    "            xy=(0.05, 0.68),\n",
    "            xycoords='axes fraction',\n",
    "            xytext=(-25, -15), textcoords='offset points', \n",
    "            fontsize=12, color='brown')   \n",
    "    \n",
    "fig.tight_layout(h_pad=5)"
   ]
  },
  {
   "cell_type": "markdown",
   "metadata": {},
   "source": [
    "### Analysis"
   ]
  },
  {
   "cell_type": "markdown",
   "metadata": {},
   "source": [
    "The Pandas package provides a the functionality to further analyze and process [time series](https://pandas.pydata.org/pandas-docs/stable/timeseries.html) data. Particularly, the [`resample`](https://pandas.pydata.org/pandas-docs/stable/generated/pandas.DataFrame.resample.html) function can be useful."
   ]
  },
  {
   "cell_type": "markdown",
   "metadata": {},
   "source": [
    "For example, calculate the yearly minima and maxima of the time series:"
   ]
  },
  {
   "cell_type": "code",
   "execution_count": 23,
   "metadata": {},
   "outputs": [
    {
     "data": {
      "text/html": [
       "<div>\n",
       "<style scoped>\n",
       "    .dataframe tbody tr th:only-of-type {\n",
       "        vertical-align: middle;\n",
       "    }\n",
       "\n",
       "    .dataframe tbody tr th {\n",
       "        vertical-align: top;\n",
       "    }\n",
       "\n",
       "    .dataframe thead th {\n",
       "        text-align: right;\n",
       "    }\n",
       "</style>\n",
       "<table border=\"1\" class=\"dataframe\">\n",
       "  <thead>\n",
       "    <tr style=\"text-align: right;\">\n",
       "      <th></th>\n",
       "      <th>min</th>\n",
       "      <th>max</th>\n",
       "    </tr>\n",
       "    <tr>\n",
       "      <th>datum</th>\n",
       "      <th></th>\n",
       "      <th></th>\n",
       "    </tr>\n",
       "  </thead>\n",
       "  <tbody>\n",
       "    <tr>\n",
       "      <th>2003-12-31</th>\n",
       "      <td>58.26</td>\n",
       "      <td>58.36</td>\n",
       "    </tr>\n",
       "    <tr>\n",
       "      <th>2004-12-31</th>\n",
       "      <td>58.22</td>\n",
       "      <td>58.36</td>\n",
       "    </tr>\n",
       "    <tr>\n",
       "      <th>2005-12-31</th>\n",
       "      <td>58.18</td>\n",
       "      <td>58.35</td>\n",
       "    </tr>\n",
       "    <tr>\n",
       "      <th>2006-12-31</th>\n",
       "      <td>58.10</td>\n",
       "      <td>58.42</td>\n",
       "    </tr>\n",
       "    <tr>\n",
       "      <th>2007-12-31</th>\n",
       "      <td>58.28</td>\n",
       "      <td>58.53</td>\n",
       "    </tr>\n",
       "    <tr>\n",
       "      <th>2008-12-31</th>\n",
       "      <td>58.34</td>\n",
       "      <td>58.60</td>\n",
       "    </tr>\n",
       "    <tr>\n",
       "      <th>2009-12-31</th>\n",
       "      <td>58.27</td>\n",
       "      <td>58.54</td>\n",
       "    </tr>\n",
       "    <tr>\n",
       "      <th>2010-12-31</th>\n",
       "      <td>58.21</td>\n",
       "      <td>58.56</td>\n",
       "    </tr>\n",
       "    <tr>\n",
       "      <th>2011-12-31</th>\n",
       "      <td>58.32</td>\n",
       "      <td>58.56</td>\n",
       "    </tr>\n",
       "    <tr>\n",
       "      <th>2012-12-31</th>\n",
       "      <td>58.32</td>\n",
       "      <td>58.55</td>\n",
       "    </tr>\n",
       "    <tr>\n",
       "      <th>2013-12-31</th>\n",
       "      <td>58.22</td>\n",
       "      <td>58.56</td>\n",
       "    </tr>\n",
       "    <tr>\n",
       "      <th>2014-12-31</th>\n",
       "      <td>58.21</td>\n",
       "      <td>58.54</td>\n",
       "    </tr>\n",
       "    <tr>\n",
       "      <th>2015-12-31</th>\n",
       "      <td>58.08</td>\n",
       "      <td>58.56</td>\n",
       "    </tr>\n",
       "    <tr>\n",
       "      <th>2016-12-31</th>\n",
       "      <td>58.24</td>\n",
       "      <td>58.54</td>\n",
       "    </tr>\n",
       "    <tr>\n",
       "      <th>2017-12-31</th>\n",
       "      <td>58.27</td>\n",
       "      <td>58.56</td>\n",
       "    </tr>\n",
       "    <tr>\n",
       "      <th>2018-12-31</th>\n",
       "      <td>58.08</td>\n",
       "      <td>58.53</td>\n",
       "    </tr>\n",
       "    <tr>\n",
       "      <th>2019-12-31</th>\n",
       "      <td>58.41</td>\n",
       "      <td>58.51</td>\n",
       "    </tr>\n",
       "  </tbody>\n",
       "</table>\n",
       "</div>"
      ],
      "text/plain": [
       "              min    max\n",
       "datum                   \n",
       "2003-12-31  58.26  58.36\n",
       "2004-12-31  58.22  58.36\n",
       "2005-12-31  58.18  58.35\n",
       "2006-12-31  58.10  58.42\n",
       "2007-12-31  58.28  58.53\n",
       "2008-12-31  58.34  58.60\n",
       "2009-12-31  58.27  58.54\n",
       "2010-12-31  58.21  58.56\n",
       "2011-12-31  58.32  58.56\n",
       "2012-12-31  58.32  58.55\n",
       "2013-12-31  58.22  58.56\n",
       "2014-12-31  58.21  58.54\n",
       "2015-12-31  58.08  58.56\n",
       "2016-12-31  58.24  58.54\n",
       "2017-12-31  58.27  58.56\n",
       "2018-12-31  58.08  58.53\n",
       "2019-12-31  58.41  58.51"
      ]
     },
     "execution_count": 23,
     "metadata": {},
     "output_type": "execute_result"
    }
   ],
   "source": [
    "df[\"peil_mtaw\"].resample(\"Y\").agg(['min', 'max'])"
   ]
  },
  {
   "cell_type": "markdown",
   "metadata": {},
   "source": [
    "or the monthly minima and maxima:"
   ]
  },
  {
   "cell_type": "code",
   "execution_count": 24,
   "metadata": {},
   "outputs": [
    {
     "data": {
      "text/plain": [
       "<matplotlib.axes._subplots.AxesSubplot at 0x14c7af60>"
      ]
     },
     "execution_count": 24,
     "metadata": {},
     "output_type": "execute_result"
    },
    {
     "data": {
      "image/png": "[encoded data removed]",
      "text/plain": [
       "<matplotlib.figure.Figure at 0x10f379e8>"
      ]
     },
     "metadata": {},
     "output_type": "display_data"
    }
   ],
   "source": [
    "df[\"peil_mtaw\"].resample(\"M\").agg(['min', 'max']).plot()"
   ]
  },
  {
   "cell_type": "markdown",
   "metadata": {},
   "source": [
    "Calculate 10 and 90 percentiles of the time series with the `quantile` function:"
   ]
  },
  {
   "cell_type": "code",
   "execution_count": 25,
   "metadata": {},
   "outputs": [
    {
     "data": {
      "text/plain": [
       "<matplotlib.legend.Legend at 0x14f88fd0>"
      ]
     },
     "execution_count": 25,
     "metadata": {},
     "output_type": "execute_result"
    },
    {
     "data": {
      "image/png": "[encoded data removed]",
      "text/plain": [
       "<matplotlib.figure.Figure at 0x14e0fb70>"
      ]
     },
     "metadata": {},
     "output_type": "display_data"
    }
   ],
   "source": [
    "fig, ax = plt.subplots(figsize=(12, 4))    \n",
    "ax.plot(df[\"peil_mtaw\"], label='head (mTAW)', linewidth=0.75)\n",
    "ax.axhline(df[\"peil_mtaw\"].quantile(0.1), color = 'brown', label='p10', linewidth=3)\n",
    "ax.axhline(df[\"peil_mtaw\"].quantile(0.9), color = 'darkblue', label='p90', linewidth=3)\n",
    "fig.legend(loc='upper center', ncol=3)"
   ]
  },
  {
   "cell_type": "markdown",
   "metadata": {},
   "source": [
    "A duration exceedance curve provides the percentage of time that the water head is above a given value:"
   ]
  },
  {
   "cell_type": "code",
   "execution_count": 26,
   "metadata": {
    "collapsed": true
   },
   "outputs": [],
   "source": [
    "import numpy as np"
   ]
  },
  {
   "cell_type": "code",
   "execution_count": 27,
   "metadata": {},
   "outputs": [
    {
     "data": {
      "image/png": "[encoded data removed]",
      "text/plain": [
       "<matplotlib.figure.Figure at 0x14ed7c50>"
      ]
     },
     "metadata": {},
     "output_type": "display_data"
    }
   ],
   "source": [
    "sorted_heads = np.sort(df[\"peil_mtaw\"])[::-1]\n",
    "exceedence = np.arange(1.,len(sorted_heads)+1) / len(sorted_heads)\n",
    "\n",
    "plt.plot(exceedence*100, sorted_heads)\n",
    "plt.xlabel(\"Exceedence [%]\")\n",
    "plt.ylabel(\"Water head (mTAW)\")\n",
    "plt.show()"
   ]
  },
  {
   "cell_type": "markdown",
   "metadata": {},
   "source": [
    "## Visualize locations"
   ]
  },
  {
   "cell_type": "markdown",
   "metadata": {},
   "source": [
    "Using Folium, we can display the results of our search on a map."
   ]
  },
  {
   "cell_type": "code",
   "execution_count": 28,
   "metadata": {
    "collapsed": true
   },
   "outputs": [],
   "source": [
    "# import the necessary modules (not included in the requirements of pydov!)\n",
    "import folium\n",
    "from folium.plugins import MarkerCluster\n",
    "from pyproj import Proj, transform"
   ]
  },
  {
   "cell_type": "code",
   "execution_count": 29,
   "metadata": {
    "collapsed": true
   },
   "outputs": [],
   "source": [
    "# convert the coordinates to lat/lon for folium\n",
    "def convert_latlon(x1, y1):\n",
    "    inProj = Proj(init='epsg:31370')\n",
    "    outProj = Proj(init='epsg:4326')\n",
    "    x2,y2 = transform(inProj, outProj, x1, y1)\n",
    "    return x2, y2\n",
    "df_hamme['lon'], df_hamme['lat'] = zip(*map(convert_latlon, df_hamme['x'], df_hamme['y'])) \n",
    "# convert to list\n",
    "loclist = df_hamme[['lat', 'lon']].values.tolist()"
   ]
  },
  {
   "cell_type": "code",
   "execution_count": 30,
   "metadata": {},
   "outputs": [
    {
     "data": {
      "text/html": [
       "<div style=\"width:100%;\"><div style=\"position:relative;width:100%;height:0;padding-bottom:60%;\"><iframe src=\"data:text/html;charset=utf-8;base64,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\" style=\"position:absolute;width:100%;height:100%;left:0;top:0;border:none !important;\" allowfullscreen webkitallowfullscreen mozallowfullscreen></iframe></div></div>"
      ],
      "text/plain": [
       "<folium.folium.Map at 0x12fb7668>"
      ]
     },
     "execution_count": 30,
     "metadata": {},
     "output_type": "execute_result"
    }
   ],
   "source": [
    "# initialize the Folium map on the centre of the selected locations, play with the zoom until ok\n",
    "fmap = folium.Map(location=[df_hamme['lat'].mean(), df_hamme['lon'].mean()], zoom_start=12)\n",
    "marker_cluster = MarkerCluster().add_to(fmap)\n",
    "for loc in range(0, len(loclist)):\n",
    "    folium.Marker(loclist[loc], popup=df_hamme['gw_id'][loc]).add_to(marker_cluster)\n",
    "fmap\n"
   ]
  },
  {
   "cell_type": "code",
   "execution_count": null,
   "metadata": {
    "collapsed": true
   },
   "outputs": [],
   "source": []
  }
 ],
 "metadata": {
  "kernelspec": {
   "display_name": "Python 2",
   "language": "python",
   "name": "python2"
  },
  "language_info": {
   "codemirror_mode": {
    "name": "ipython",
    "version": 2
   },
   "file_extension": ".py",
   "mimetype": "text/x-python",
   "name": "python",
   "nbconvert_exporter": "python",
   "pygments_lexer": "ipython2",
   "version": "2.7.13"
  }
 },
 "nbformat": 4,
 "nbformat_minor": 2
}
