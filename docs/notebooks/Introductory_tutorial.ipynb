{
 "cells": [
  {
   "cell_type": "markdown",
   "metadata": {},
   "source": [
    "# Introductory tutorial"
   ]
  },
  {
   "cell_type": "markdown",
   "metadata": {},
   "source": [
    "[![Open in Binder](https://mybinder.org/badge_logo.svg)](https://mybinder.org/v2/gh/DOV-Vlaanderen/pydov/master?filepath=docs%2Fnotebooks%2FIntroductory_tutorial.ipynb)"
   ]
  },
  {
   "cell_type": "markdown",
   "metadata": {},
   "source": [
    "pydov provides machine access to the data that can be visualized with the DOV viewer at [this link](https://www.dov.vlaanderen.be/portaal/?module=verkenner)\n",
    "\n",
    "All the pydov functionalities rely on the existing DOV webservices. An in-depth overview of the available services and endpoints is provided on the [accessing DOV data page](https://pydov.readthedocs.io/en/latest/endpoints.html#endpoints). To retrieve data, pydov uses a combination of the available WFS services and the XML representation of the core DOV data.  \n",
    "\n",
    "As pydov relies on the XML data returned by the existing DOV webservices, downloading DOV data with pydov is governed by the same [disclaimer](https://www.dov.vlaanderen.be/page/disclaimer) that applies to the other DOV services. Be sure to consult it when using DOV data with pydov!\n",
    "\n",
    "pydov interfaces a database hosted by the Flemish governement. Therefore, some syntax of the API as well as the descriptions provided by the backend are in Dutch. "
   ]
  },
  {
   "cell_type": "markdown",
   "metadata": {},
   "source": [
    "## Use case: gather data for a hydrogeological model"
   ]
  },
  {
   "cell_type": "code",
   "execution_count": 2,
   "metadata": {},
   "outputs": [],
   "source": [
    "%matplotlib inline\n",
    "import inspect, sys"
   ]
  },
  {
   "cell_type": "code",
   "execution_count": 3,
   "metadata": {},
   "outputs": [],
   "source": [
    "# check pydov path\n",
    "import pydov"
   ]
  },
  {
   "cell_type": "markdown",
   "metadata": {},
   "source": [
    "### pydov: general info"
   ]
  },
  {
   "cell_type": "markdown",
   "metadata": {},
   "source": [
    "To get started with pydov you should first determine which information you want to search for. DOV provides a lot of different datasets about soil, subsoil and groundwater of Flanders, some of which can be queried using pydov. See https://pydov.readthedocs.io/en/latest/quickstart.html for the supported datasets."
   ]
  },
  {
   "cell_type": "markdown",
   "metadata": {},
   "source": [
    "In this case, to start with a hydrogeological model, we are interested in the hydrostratigraphic interpretation of the borehole data and the groundwater level. These datasets can be found with the following search objects:\n",
    "- Hydrodstratigrapic interpretation: https://pydov.readthedocs.io/en/latest/reference.html#pydov.search.interpretaties.HydrogeologischeStratigrafieSearch\n",
    "- Groundwater level:\n",
    "https://pydov.readthedocs.io/en/latest/reference.html#pydov.search.grondwaterfilter.GrondwaterFilterSearch\n",
    "\n",
    "Indeed, each of the datasets can be queried using a search object for the specific dataset. While the search objects are different, the workflow is the same for each dataset. Relevant classes can be imported from the pydov.search package, for example if we’d like to query the dataset with hydrogeological interpretations of borehole data:"
   ]
  },
  {
   "cell_type": "code",
   "execution_count": 4,
   "metadata": {},
   "outputs": [],
   "source": [
    "from pydov.search.interpretaties import HydrogeologischeStratigrafieSearch\n",
    "hydrosearch = HydrogeologischeStratigrafieSearch()"
   ]
  },
  {
   "cell_type": "markdown",
   "metadata": {},
   "source": [
    "If you would like some more information, you can query the search object. Sincy pydov interfaces a database from Flemish government agencies, the descriptions are in Dutch:"
   ]
  },
  {
   "cell_type": "code",
   "execution_count": 5,
   "metadata": {},
   "outputs": [
    {
     "data": {
      "text/plain": [
       "'De hydrostratigrafie geeft, op basis van de (gecodeerde) lithologie, een indeling weer naar de al dan niet watervoerende eigenschappen van een bepaald beschreven diepte-interval. Deze interpretatie respecteert de lithostratigrafie van het Tertiair, maar deelt deze anders in. De hiervoor gebruikte standaard is de Hydrogeologische Codering van de Ondergrond van Vlaanderen (HCOV). Deze kan beschouwd worden als de officiele hydrogeologische codering voor het Vlaams Gewest.'"
      ]
     },
     "execution_count": 5,
     "metadata": {},
     "output_type": "execute_result"
    }
   ],
   "source": [
    "hydrosearch.get_description()"
   ]
  },
  {
   "cell_type": "markdown",
   "metadata": {},
   "source": [
    "The different fields that are available for objects of the 'Hydrogeologische Stratigrafie' datatype can be requested with the get_fields() method:"
   ]
  },
  {
   "cell_type": "code",
   "execution_count": 6,
   "metadata": {},
   "outputs": [
    {
     "name": "stdout",
     "output_type": "stream",
     "text": [
      "pkey_interpretatie\n",
      "Type_proef\n",
      "Proefnummer\n",
      "pkey_boring\n",
      "x\n",
      "y\n",
      "Z_mTAW\n",
      "diepte_tot_m\n",
      "gemeente\n",
      "Auteurs\n",
      "Datum\n",
      "Opdrachten\n",
      "betrouwbaarheid_interpretatie\n",
      "Geldig_van\n",
      "Geldig_tot\n",
      "diepte_laag_van\n",
      "diepte_laag_tot\n",
      "aquifer\n"
     ]
    }
   ],
   "source": [
    "fields = hydrosearch.get_fields()\n",
    "# print available fields\n",
    "for f in fields.values():\n",
    "    print(f['name'])"
   ]
  },
  {
   "cell_type": "markdown",
   "metadata": {},
   "source": [
    "You can get more information of a field by requesting it from the fields dictionary:\n",
    "\n",
    "- name: name of the field\n",
    "- definition: definition of this field\n",
    "- cost: currently this is either 1 or 10, depending on the datasource of the field. It is an indication of the expected time it will take to retrieve this field in the output dataframe.\n",
    "- notnull: whether the field is mandatory or not\n",
    "- type: datatype of the values of this field"
   ]
  },
  {
   "cell_type": "code",
   "execution_count": 7,
   "metadata": {},
   "outputs": [
    {
     "data": {
      "text/plain": [
       "{'name': 'pkey_interpretatie',\n",
       " 'definition': \"URL die verwijst naar de gegevens van deze hydrogeologische stratigrafie op de website. Voeg '.xml' toe om een XML voorstelling van deze gegevens te verkrijgen.\",\n",
       " 'type': 'string',\n",
       " 'notnull': False,\n",
       " 'query': True,\n",
       " 'cost': 1}"
      ]
     },
     "execution_count": 7,
     "metadata": {},
     "output_type": "execute_result"
    }
   ],
   "source": [
    "fields['pkey_interpretatie']"
   ]
  },
  {
   "cell_type": "markdown",
   "metadata": {},
   "source": [
    "The fields *pkey_interpretatie* and *pkey_boring* are important identifiers. In this case *pkey_interpretatie* is the unique identifier of this interpretation and is also the **permanent url** where the data can be viewed (~https://www.dov.vlaanderen.be/data/interpretatie/...), or retrieved if you additionally add ... + **.** *xml* \n",
    "\n",
    "The *pkey_boring* is the identifier of the borehole from which this interpretation was made. As mentioned before, it is also  the **permanent url** (~https://www.dov.vlaanderen.be/data/boring/...). "
   ]
  },
  {
   "cell_type": "markdown",
   "metadata": {},
   "source": [
    "Optionally, if the values of a field have a specific domain the possible values are listed as *values*:"
   ]
  },
  {
   "cell_type": "code",
   "execution_count": 8,
   "metadata": {},
   "outputs": [
    {
     "data": {
      "text/plain": [
       "{'0000': 'Onbekend',\n",
       " '0100': 'Quartaire aquifersystemen',\n",
       " '0110': 'Ophogingen',\n",
       " '0120': 'Duinen',\n",
       " '0130': 'Polderafzettingen',\n",
       " '0131': 'Kleiige polderafzettingen van de kustvlakte',\n",
       " '0132': 'Kleiige polderafzettingen van het Meetjesland',\n",
       " '0133': 'Kleiige polderafzettingen van Waasland-Antwerpen',\n",
       " '0134': 'Zandige kreekruggen',\n",
       " '0135': 'Veen-kleiige poelgronden',\n",
       " '0140': 'Alluviale deklagen',\n",
       " '0150': 'Deklagen',\n",
       " '0151': 'Zandige deklagen',\n",
       " '0152': 'Zand-lemige deklagen',\n",
       " '0153': 'Lemige deklagen',\n",
       " '0154': 'Kleiige deklagen',\n",
       " '0160': 'Pleistocene afzettingen',\n",
       " '0161': 'Pleistoceen van de kustvlakte',\n",
       " '0162': 'Pleistoceen van de Vlaamse Vallei',\n",
       " '0163': 'Pleistoceen van de riviervalleien',\n",
       " '0170': 'Maas- en Rijnafzettingen',\n",
       " '0171': 'Afzettingen Hoofdterras',\n",
       " '0172': 'Afzettingen Tussenterassen',\n",
       " '0173': 'Afzettingen Maasvlakte',\n",
       " '0200': 'Kempens Aquifersysteem',\n",
       " '0210': 'Kiezeloolietformatie ten noorden van Feldbiss',\n",
       " '0211': 'Zandige eenheid boven de Brunssum I-klei',\n",
       " '0212': 'Brunssum I-Klei',\n",
       " '0213': 'Zand van Pey',\n",
       " '0214': 'Brunssum II-klei',\n",
       " '0215': 'Zand van Waubach',\n",
       " '0220': 'Klei-zand-complex van de Kempen',\n",
       " '0221': 'Klei van Turnhout',\n",
       " '0222': 'Zand van Beerse',\n",
       " '0223': 'Klei van Rijkevorsel',\n",
       " '0230': 'Pleistoceen en Plioceen aquifer',\n",
       " '0231': 'Zanden van Brasschaat en/of Merksplas',\n",
       " '0232': 'Zand van Mol',\n",
       " '0233': 'Zandige top van Lillo',\n",
       " '0234': 'Zand van Poederlee en/of zandige top van Kasterlee',\n",
       " '0240': 'Pliocene kleiige laag',\n",
       " '0241': 'Kleiig deel van Lillo en/of van de overgang Lillo-Kattendijk',\n",
       " '0242': 'Kleiige overgang tussen de zanden van Kasterlee en Diest',\n",
       " '0250': 'Mioceen Aquifersysteem',\n",
       " '0251': 'Zand van Kattendijk en/of onderste zandlaag van Lillo',\n",
       " '0252': 'Zand van Diest',\n",
       " '0253': 'Zand van Bolderberg',\n",
       " '0254': 'Zanden van Berchem en/of Voort',\n",
       " '0255': 'Klei van Veldhoven',\n",
       " '0256': 'Zand van Eigenbilzen',\n",
       " '0300': 'Boom Aquitard',\n",
       " '0301': 'Kleiig deel van Eigenbilzen',\n",
       " '0302': 'Klei van Putte',\n",
       " '0303': 'Klei van Terhagen',\n",
       " '0304': 'Klei van Belsele-Waas',\n",
       " '0400': 'Oligoceen Aquifersysteem',\n",
       " '0410': 'Zand van Kerniel',\n",
       " '0420': 'Klei van Kleine-Spouwen',\n",
       " '0430': 'Ruisbroek-Berg Aquifer',\n",
       " '0431': 'Zand van Berg',\n",
       " '0432': 'Zand van Kerkom',\n",
       " '0433': 'Kleiig zand van Oude Biezen',\n",
       " '0434': 'Zand van Boutersem',\n",
       " '0435': 'Zand van Ruisbroek',\n",
       " '0436': 'Zand van Wintham',\n",
       " '0440': 'Tongeren Aquitard',\n",
       " '0441': 'Klei van Henis',\n",
       " '0442': 'Klei van Watervliet',\n",
       " '0450': 'Onder-Oligoceen Aquifersysteem',\n",
       " '0451': 'Zand van Neerrepen',\n",
       " '0452': 'Zand-Klei van Grimmertingen',\n",
       " '0453': 'Kleiig zand van Bassevelde',\n",
       " '0500': 'Bartoon Aquitardsysteem',\n",
       " '0501': 'Klei van Onderdijke',\n",
       " '0502': 'Zand van Buisputten',\n",
       " '0503': 'Klei van Zomergem',\n",
       " '0504': 'Zand van Onderdaele',\n",
       " '0505': 'Kleien van Ursel en/of Asse',\n",
       " '0600': 'Ledo Paniseliaan Brusseliaan Aquifersysteem',\n",
       " '0610': 'Wemmel-Lede Aquifer',\n",
       " '0611': 'Zand van Wemmel',\n",
       " '0612': 'Zand van Lede',\n",
       " '0620': 'Zand van Brussel',\n",
       " '0630': 'Afzettingen van het Boven-Paniseliaan',\n",
       " '0631': 'Zanden van Aanlter en/of Oedelem',\n",
       " '0632': 'Zandige klei van Beernem',\n",
       " '0640': 'Zandige afzettingen van het Onder-Paniseliaan (Vlierzele en/of Aalterbrugge)',\n",
       " '0700': 'Paniseliaan Aquitard',\n",
       " '0701': 'Klei van Pittem',\n",
       " '0702': 'Klei van Merelbeke',\n",
       " '0800': 'Ieperiaan Aquifer (Egem en of Mont-Panisel)',\n",
       " '0900': 'Ieperiaan aquitardsysteem',\n",
       " '0910': 'Silt van Kortemark',\n",
       " '0920': 'Afzettingen van Kortrijk',\n",
       " '0921': 'Klei van Aalbeke',\n",
       " '0922': 'Klei van Moen',\n",
       " '0923': 'Zand van Mons-en-Pévèle',\n",
       " '0924': 'Klei van Saint-Maur',\n",
       " '0925': 'Klei van Mont-Héribu',\n",
       " '1000': 'Paleoceen Aquifersysteem',\n",
       " '1010': 'Landeniaan Aquifersysteem',\n",
       " '1011': 'Zand van Knokke',\n",
       " '1012': 'Zandige afzettingen van Loksbergen en/of Dormaal',\n",
       " '1013': 'Zand van Grandglise en/of Hoegaarden',\n",
       " '1014': 'Kleiig deel van Lincent',\n",
       " '1015': 'Versteend deel van Lincent',\n",
       " '1020': 'Landeniaan en Heersiaan Aquitard',\n",
       " '1021': 'Siltige afzetting van Halen',\n",
       " '1022': 'Klei van Waterschei',\n",
       " '1023': 'Slecht doorlatend deel van de mergels van Gelinden',\n",
       " '1030': 'Heersiaan en Opglabbeek Aquifersysteem',\n",
       " '1031': 'Doorlatend deel van de Mergels van Gelinden',\n",
       " '1032': 'Zand van Orp',\n",
       " '1033': 'Zand van Eisden',\n",
       " '1034': 'Klei van Opoeteren',\n",
       " '1035': 'Zand van Maasmechelen',\n",
       " '1100': 'Krijt Aquifersysteem',\n",
       " '1110': 'Krijt Aquifer',\n",
       " '1111': 'Kalksteen van Houthem',\n",
       " '1112': 'Tufkrijt van Maastricht',\n",
       " '1113': 'Krijt van Gulpen',\n",
       " '1120': 'Afzettingen van Vaals (Smectiet van Herve)',\n",
       " '1130': 'Zand van Aken',\n",
       " '1140': 'Turoonmergels op Massief van Brabant',\n",
       " '1150': 'Wealdiaan',\n",
       " '1200': 'Jura-Trias-Perm',\n",
       " '1210': 'Jura',\n",
       " '1220': 'Trias',\n",
       " '1230': 'Perm',\n",
       " '1300': 'Sokkel',\n",
       " '1310': 'Boven-Carboon',\n",
       " '1320': 'Kolenkalk',\n",
       " '1330': 'Devoon',\n",
       " '1340': 'Cambro-Siluur Massief van Brabant'}"
      ]
     },
     "execution_count": 8,
     "metadata": {},
     "output_type": "execute_result"
    }
   ],
   "source": [
    "fields['aquifer']['values']"
   ]
  },
  {
   "cell_type": "markdown",
   "metadata": {},
   "source": [
    "### Query the data with pydov"
   ]
  },
  {
   "cell_type": "markdown",
   "metadata": {},
   "source": [
    "#### Attributes"
   ]
  },
  {
   "cell_type": "markdown",
   "metadata": {},
   "source": [
    "The data can be queried on **attributes**, **location** or both. To query on attributes, the OGC filter functions from OWSLib are used:"
   ]
  },
  {
   "cell_type": "code",
   "execution_count": 9,
   "metadata": {},
   "outputs": [
    {
     "name": "stdout",
     "output_type": "stream",
     "text": [
      "PropertyIsBetween\n",
      "PropertyIsEqualTo\n",
      "PropertyIsGreaterThan\n",
      "PropertyIsGreaterThanOrEqualTo\n",
      "PropertyIsLessThan\n",
      "PropertyIsLessThanOrEqualTo\n",
      "PropertyIsLike\n",
      "PropertyIsNotEqualTo\n",
      "PropertyIsNull\n",
      "SortProperty\n"
     ]
    }
   ],
   "source": [
    "# list available query methods\n",
    "methods = [i for i,j in inspect.getmembers(sys.modules['owslib.fes'], \n",
    "                                           inspect.isclass) \n",
    "           if 'Property' in i]\n",
    "print(*methods, sep = \"\\n\") "
   ]
  },
  {
   "cell_type": "markdown",
   "metadata": {},
   "source": [
    "If you are for example interested in all the hydrostratigraphic interpretations in the city of Antwerp, you compose the query like below (mind that the values are in Dutch):"
   ]
  },
  {
   "cell_type": "code",
   "execution_count": 10,
   "metadata": {},
   "outputs": [
    {
     "name": "stdout",
     "output_type": "stream",
     "text": [
      "[000/191] ..................................................\n",
      "[050/191] ..................................................\n",
      "[100/191] ..................................................\n",
      "[150/191] .........................................\n"
     ]
    },
    {
     "data": {
      "text/html": [
       "<div>\n",
       "<style scoped>\n",
       "    .dataframe tbody tr th:only-of-type {\n",
       "        vertical-align: middle;\n",
       "    }\n",
       "\n",
       "    .dataframe tbody tr th {\n",
       "        vertical-align: top;\n",
       "    }\n",
       "\n",
       "    .dataframe thead th {\n",
       "        text-align: right;\n",
       "    }\n",
       "</style>\n",
       "<table border=\"1\" class=\"dataframe\">\n",
       "  <thead>\n",
       "    <tr style=\"text-align: right;\">\n",
       "      <th></th>\n",
       "      <th>pkey_interpretatie</th>\n",
       "      <th>pkey_boring</th>\n",
       "      <th>betrouwbaarheid_interpretatie</th>\n",
       "      <th>x</th>\n",
       "      <th>y</th>\n",
       "      <th>diepte_laag_van</th>\n",
       "      <th>diepte_laag_tot</th>\n",
       "      <th>aquifer</th>\n",
       "    </tr>\n",
       "  </thead>\n",
       "  <tbody>\n",
       "    <tr>\n",
       "      <th>0</th>\n",
       "      <td>https://www.dov.vlaanderen.be/data/interpretat...</td>\n",
       "      <td>https://www.dov.vlaanderen.be/data/boring/1956...</td>\n",
       "      <td>goed</td>\n",
       "      <td>154869.0</td>\n",
       "      <td>217060.0</td>\n",
       "      <td>0.0</td>\n",
       "      <td>1.0</td>\n",
       "      <td>0140</td>\n",
       "    </tr>\n",
       "    <tr>\n",
       "      <th>1</th>\n",
       "      <td>https://www.dov.vlaanderen.be/data/interpretat...</td>\n",
       "      <td>https://www.dov.vlaanderen.be/data/boring/1956...</td>\n",
       "      <td>goed</td>\n",
       "      <td>154869.0</td>\n",
       "      <td>217060.0</td>\n",
       "      <td>1.0</td>\n",
       "      <td>8.0</td>\n",
       "      <td>0233</td>\n",
       "    </tr>\n",
       "    <tr>\n",
       "      <th>2</th>\n",
       "      <td>https://www.dov.vlaanderen.be/data/interpretat...</td>\n",
       "      <td>https://www.dov.vlaanderen.be/data/boring/1956...</td>\n",
       "      <td>goed</td>\n",
       "      <td>154869.0</td>\n",
       "      <td>217060.0</td>\n",
       "      <td>8.0</td>\n",
       "      <td>20.0</td>\n",
       "      <td>0241</td>\n",
       "    </tr>\n",
       "    <tr>\n",
       "      <th>3</th>\n",
       "      <td>https://www.dov.vlaanderen.be/data/interpretat...</td>\n",
       "      <td>https://www.dov.vlaanderen.be/data/boring/1979...</td>\n",
       "      <td>goed</td>\n",
       "      <td>144134.0</td>\n",
       "      <td>226051.0</td>\n",
       "      <td>0.0</td>\n",
       "      <td>7.5</td>\n",
       "      <td>0110</td>\n",
       "    </tr>\n",
       "    <tr>\n",
       "      <th>4</th>\n",
       "      <td>https://www.dov.vlaanderen.be/data/interpretat...</td>\n",
       "      <td>https://www.dov.vlaanderen.be/data/boring/1979...</td>\n",
       "      <td>goed</td>\n",
       "      <td>144134.0</td>\n",
       "      <td>226051.0</td>\n",
       "      <td>7.5</td>\n",
       "      <td>11.0</td>\n",
       "      <td>0133</td>\n",
       "    </tr>\n",
       "  </tbody>\n",
       "</table>\n",
       "</div>"
      ],
      "text/plain": [
       "                                  pkey_interpretatie  \\\n",
       "0  https://www.dov.vlaanderen.be/data/interpretat...   \n",
       "1  https://www.dov.vlaanderen.be/data/interpretat...   \n",
       "2  https://www.dov.vlaanderen.be/data/interpretat...   \n",
       "3  https://www.dov.vlaanderen.be/data/interpretat...   \n",
       "4  https://www.dov.vlaanderen.be/data/interpretat...   \n",
       "\n",
       "                                         pkey_boring  \\\n",
       "0  https://www.dov.vlaanderen.be/data/boring/1956...   \n",
       "1  https://www.dov.vlaanderen.be/data/boring/1956...   \n",
       "2  https://www.dov.vlaanderen.be/data/boring/1956...   \n",
       "3  https://www.dov.vlaanderen.be/data/boring/1979...   \n",
       "4  https://www.dov.vlaanderen.be/data/boring/1979...   \n",
       "\n",
       "  betrouwbaarheid_interpretatie         x         y  diepte_laag_van  \\\n",
       "0                          goed  154869.0  217060.0              0.0   \n",
       "1                          goed  154869.0  217060.0              1.0   \n",
       "2                          goed  154869.0  217060.0              8.0   \n",
       "3                          goed  144134.0  226051.0              0.0   \n",
       "4                          goed  144134.0  226051.0              7.5   \n",
       "\n",
       "   diepte_laag_tot aquifer  \n",
       "0              1.0    0140  \n",
       "1              8.0    0233  \n",
       "2             20.0    0241  \n",
       "3              7.5    0110  \n",
       "4             11.0    0133  "
      ]
     },
     "execution_count": 10,
     "metadata": {},
     "output_type": "execute_result"
    }
   ],
   "source": [
    "from owslib.fes import PropertyIsEqualTo\n",
    "query = PropertyIsEqualTo(\n",
    "            propertyname='gemeente',\n",
    "            literal='Antwerpen')\n",
    "df = hydrosearch.search(query=query)\n",
    "df.head()"
   ]
  },
  {
   "cell_type": "markdown",
   "metadata": {},
   "source": [
    "This yielded 191 interpretations from 191, or less, boreholes. It can be less than 191 boreholes because multiple interpretations can be made of a single borehole. \n",
    "\n",
    "If you would like to narrow the search down to for example data below 200 meters, you can combine features in the search using the **logical operators And, Or** provided by OWSLib:"
   ]
  },
  {
   "cell_type": "code",
   "execution_count": 15,
   "metadata": {},
   "outputs": [
    {
     "name": "stdout",
     "output_type": "stream",
     "text": [
      "[000/003] ccc\n"
     ]
    },
    {
     "data": {
      "text/plain": [
       "(                                  pkey_interpretatie  \\\n",
       " 0  https://www.dov.vlaanderen.be/data/interpretat...   \n",
       " 1  https://www.dov.vlaanderen.be/data/interpretat...   \n",
       " 2  https://www.dov.vlaanderen.be/data/interpretat...   \n",
       " 3  https://www.dov.vlaanderen.be/data/interpretat...   \n",
       " 4  https://www.dov.vlaanderen.be/data/interpretat...   \n",
       " \n",
       "                                          pkey_boring  \\\n",
       " 0  https://www.dov.vlaanderen.be/data/boring/1994...   \n",
       " 1  https://www.dov.vlaanderen.be/data/boring/1994...   \n",
       " 2  https://www.dov.vlaanderen.be/data/boring/1994...   \n",
       " 3  https://www.dov.vlaanderen.be/data/boring/1994...   \n",
       " 4  https://www.dov.vlaanderen.be/data/boring/1994...   \n",
       " \n",
       "   betrouwbaarheid_interpretatie          x             y  diepte_laag_van  \\\n",
       " 0                          goed  155567.25  212059.53125              0.0   \n",
       " 1                          goed  155567.25  212059.53125              2.0   \n",
       " 2                          goed  155567.25  212059.53125             35.0   \n",
       " 3                          goed  155567.25  212059.53125             95.0   \n",
       " 4                          goed  155567.25  212059.53125            123.0   \n",
       " \n",
       "    diepte_laag_tot aquifer  \n",
       " 0              2.0    0110  \n",
       " 1             35.0    0254  \n",
       " 2             95.0    0300  \n",
       " 3            123.0    0400  \n",
       " 4            135.0    0501  ,\n",
       " (34, 8))"
      ]
     },
     "execution_count": 15,
     "metadata": {},
     "output_type": "execute_result"
    }
   ],
   "source": [
    "from owslib.fes import And\n",
    "from owslib.fes import PropertyIsGreaterThan\n",
    "query = And([\n",
    "    PropertyIsEqualTo(\n",
    "            propertyname='gemeente',\n",
    "            literal='Antwerpen'),\n",
    "    PropertyIsGreaterThan(\n",
    "            propertyname='diepte_tot_m',\n",
    "            literal='200')\n",
    "    ])\n",
    "df = hydrosearch.search(query=query)\n",
    "df.head()"
   ]
  },
  {
   "cell_type": "markdown",
   "metadata": {},
   "source": [
    "Mind the difference between attributes *diepte_tot_m* and *diepte_laag_...*. The former is defined in the WFS service and can be used as attribute in the query. The latter attributes are defined in the linked XML document, from which the information is only available after it has been gathered from the DOV webservice. All the attributes with a *cost* of 10 are not available in the intial query and should be used in a subsequent filtering of the Pandas DataFrame"
   ]
  },
  {
   "cell_type": "code",
   "execution_count": 20,
   "metadata": {},
   "outputs": [
    {
     "name": "stdout",
     "output_type": "stream",
     "text": [
      "Cost of search\n",
      " WFS attribute (diepte_tot_m): 1\n",
      " XML attribute (diepte_laag_tot): 10\n"
     ]
    }
   ],
   "source": [
    "print('Cost of search\\n', \n",
    "      'WFS attribute (diepte_tot_m): ' + str(fields['diepte_tot_m']['cost']) + '\\n', \n",
    "      'XML attribute (diepte_laag_tot): '+ str(fields['diepte_laag_tot']['cost']))"
   ]
  },
  {
   "cell_type": "markdown",
   "metadata": {},
   "source": [
    "More information on querying attribute properties is given in the [docs](https://pydov.readthedocs.io/en/latest/query_attribute.html). Worth mentioning is the query using lists where pydov extends the default OGC filter expressions described with a new expression **PropertyInList** that allows you to use lists (of strings) in search queries."
   ]
  },
  {
   "cell_type": "markdown",
   "metadata": {},
   "source": [
    "#### Location"
   ]
  },
  {
   "cell_type": "markdown",
   "metadata": {},
   "source": [
    "One can also query on **location**, using the location objects and spatial filters from the pydov.util.location module. For example, to request all stratigraphic interpretations in a given bounding **box**:"
   ]
  },
  {
   "cell_type": "code",
   "execution_count": 22,
   "metadata": {},
   "outputs": [
    {
     "name": "stdout",
     "output_type": "stream",
     "text": [
      "[000/012] cccccccccccc\n"
     ]
    },
    {
     "data": {
      "text/html": [
       "<div>\n",
       "<style scoped>\n",
       "    .dataframe tbody tr th:only-of-type {\n",
       "        vertical-align: middle;\n",
       "    }\n",
       "\n",
       "    .dataframe tbody tr th {\n",
       "        vertical-align: top;\n",
       "    }\n",
       "\n",
       "    .dataframe thead th {\n",
       "        text-align: right;\n",
       "    }\n",
       "</style>\n",
       "<table border=\"1\" class=\"dataframe\">\n",
       "  <thead>\n",
       "    <tr style=\"text-align: right;\">\n",
       "      <th></th>\n",
       "      <th>pkey_interpretatie</th>\n",
       "      <th>pkey_boring</th>\n",
       "      <th>betrouwbaarheid_interpretatie</th>\n",
       "      <th>x</th>\n",
       "      <th>y</th>\n",
       "      <th>diepte_laag_van</th>\n",
       "      <th>diepte_laag_tot</th>\n",
       "      <th>aquifer</th>\n",
       "    </tr>\n",
       "  </thead>\n",
       "  <tbody>\n",
       "    <tr>\n",
       "      <th>0</th>\n",
       "      <td>https://www.dov.vlaanderen.be/data/interpretat...</td>\n",
       "      <td>https://www.dov.vlaanderen.be/data/boring/1979...</td>\n",
       "      <td>goed</td>\n",
       "      <td>154720.0</td>\n",
       "      <td>212262.0</td>\n",
       "      <td>0.0</td>\n",
       "      <td>4.5</td>\n",
       "      <td>0100</td>\n",
       "    </tr>\n",
       "    <tr>\n",
       "      <th>1</th>\n",
       "      <td>https://www.dov.vlaanderen.be/data/interpretat...</td>\n",
       "      <td>https://www.dov.vlaanderen.be/data/boring/1979...</td>\n",
       "      <td>goed</td>\n",
       "      <td>154720.0</td>\n",
       "      <td>212262.0</td>\n",
       "      <td>4.5</td>\n",
       "      <td>34.0</td>\n",
       "      <td>0254</td>\n",
       "    </tr>\n",
       "    <tr>\n",
       "      <th>2</th>\n",
       "      <td>https://www.dov.vlaanderen.be/data/interpretat...</td>\n",
       "      <td>https://www.dov.vlaanderen.be/data/boring/1979...</td>\n",
       "      <td>goed</td>\n",
       "      <td>154720.0</td>\n",
       "      <td>212262.0</td>\n",
       "      <td>34.0</td>\n",
       "      <td>38.0</td>\n",
       "      <td>0300</td>\n",
       "    </tr>\n",
       "    <tr>\n",
       "      <th>3</th>\n",
       "      <td>https://www.dov.vlaanderen.be/data/interpretat...</td>\n",
       "      <td>https://www.dov.vlaanderen.be/data/boring/1931...</td>\n",
       "      <td>goed</td>\n",
       "      <td>152346.0</td>\n",
       "      <td>212957.0</td>\n",
       "      <td>0.0</td>\n",
       "      <td>5.0</td>\n",
       "      <td>0133</td>\n",
       "    </tr>\n",
       "    <tr>\n",
       "      <th>4</th>\n",
       "      <td>https://www.dov.vlaanderen.be/data/interpretat...</td>\n",
       "      <td>https://www.dov.vlaanderen.be/data/boring/1931...</td>\n",
       "      <td>goed</td>\n",
       "      <td>152346.0</td>\n",
       "      <td>212957.0</td>\n",
       "      <td>5.0</td>\n",
       "      <td>11.0</td>\n",
       "      <td>0230</td>\n",
       "    </tr>\n",
       "  </tbody>\n",
       "</table>\n",
       "</div>"
      ],
      "text/plain": [
       "                                  pkey_interpretatie  \\\n",
       "0  https://www.dov.vlaanderen.be/data/interpretat...   \n",
       "1  https://www.dov.vlaanderen.be/data/interpretat...   \n",
       "2  https://www.dov.vlaanderen.be/data/interpretat...   \n",
       "3  https://www.dov.vlaanderen.be/data/interpretat...   \n",
       "4  https://www.dov.vlaanderen.be/data/interpretat...   \n",
       "\n",
       "                                         pkey_boring  \\\n",
       "0  https://www.dov.vlaanderen.be/data/boring/1979...   \n",
       "1  https://www.dov.vlaanderen.be/data/boring/1979...   \n",
       "2  https://www.dov.vlaanderen.be/data/boring/1979...   \n",
       "3  https://www.dov.vlaanderen.be/data/boring/1931...   \n",
       "4  https://www.dov.vlaanderen.be/data/boring/1931...   \n",
       "\n",
       "  betrouwbaarheid_interpretatie         x         y  diepte_laag_van  \\\n",
       "0                          goed  154720.0  212262.0              0.0   \n",
       "1                          goed  154720.0  212262.0              4.5   \n",
       "2                          goed  154720.0  212262.0             34.0   \n",
       "3                          goed  152346.0  212957.0              0.0   \n",
       "4                          goed  152346.0  212957.0              5.0   \n",
       "\n",
       "   diepte_laag_tot aquifer  \n",
       "0              4.5    0100  \n",
       "1             34.0    0254  \n",
       "2             38.0    0300  \n",
       "3              5.0    0133  \n",
       "4             11.0    0230  "
      ]
     },
     "execution_count": 22,
     "metadata": {},
     "output_type": "execute_result"
    }
   ],
   "source": [
    "from pydov.util.location import Within, Box\n",
    "location = Within(Box(152000, 211000, 155000, 214000))\n",
    "df = hydrosearch.search(location=location\n",
    "                       )\n",
    "df.head()"
   ]
  },
  {
   "cell_type": "markdown",
   "metadata": {},
   "source": [
    "Alternatively, you can define a **Point** or a **GML document** for the spatial query as is described in the [docs](https://pydov.readthedocs.io/en/latest/query_location.html). For example, if you are interested in a site you can define the point with a search radius of for example 500 meters like this:"
   ]
  },
  {
   "cell_type": "code",
   "execution_count": 26,
   "metadata": {},
   "outputs": [
    {
     "name": "stdout",
     "output_type": "stream",
     "text": [
      "[000/002] cc\n"
     ]
    },
    {
     "data": {
      "text/html": [
       "<div>\n",
       "<style scoped>\n",
       "    .dataframe tbody tr th:only-of-type {\n",
       "        vertical-align: middle;\n",
       "    }\n",
       "\n",
       "    .dataframe tbody tr th {\n",
       "        vertical-align: top;\n",
       "    }\n",
       "\n",
       "    .dataframe thead th {\n",
       "        text-align: right;\n",
       "    }\n",
       "</style>\n",
       "<table border=\"1\" class=\"dataframe\">\n",
       "  <thead>\n",
       "    <tr style=\"text-align: right;\">\n",
       "      <th></th>\n",
       "      <th>pkey_interpretatie</th>\n",
       "      <th>pkey_boring</th>\n",
       "      <th>betrouwbaarheid_interpretatie</th>\n",
       "      <th>x</th>\n",
       "      <th>y</th>\n",
       "      <th>diepte_laag_van</th>\n",
       "      <th>diepte_laag_tot</th>\n",
       "      <th>aquifer</th>\n",
       "    </tr>\n",
       "  </thead>\n",
       "  <tbody>\n",
       "    <tr>\n",
       "      <th>0</th>\n",
       "      <td>https://www.dov.vlaanderen.be/data/interpretat...</td>\n",
       "      <td>https://www.dov.vlaanderen.be/data/boring/1997...</td>\n",
       "      <td>goed</td>\n",
       "      <td>153697.0</td>\n",
       "      <td>211805.0</td>\n",
       "      <td>0.0</td>\n",
       "      <td>1.5</td>\n",
       "      <td>0000</td>\n",
       "    </tr>\n",
       "    <tr>\n",
       "      <th>1</th>\n",
       "      <td>https://www.dov.vlaanderen.be/data/interpretat...</td>\n",
       "      <td>https://www.dov.vlaanderen.be/data/boring/1997...</td>\n",
       "      <td>goed</td>\n",
       "      <td>153697.0</td>\n",
       "      <td>211805.0</td>\n",
       "      <td>1.5</td>\n",
       "      <td>5.5</td>\n",
       "      <td>0140</td>\n",
       "    </tr>\n",
       "    <tr>\n",
       "      <th>2</th>\n",
       "      <td>https://www.dov.vlaanderen.be/data/interpretat...</td>\n",
       "      <td>https://www.dov.vlaanderen.be/data/boring/1997...</td>\n",
       "      <td>goed</td>\n",
       "      <td>153697.0</td>\n",
       "      <td>211805.0</td>\n",
       "      <td>5.5</td>\n",
       "      <td>30.0</td>\n",
       "      <td>0254</td>\n",
       "    </tr>\n",
       "    <tr>\n",
       "      <th>3</th>\n",
       "      <td>https://www.dov.vlaanderen.be/data/interpretat...</td>\n",
       "      <td>https://www.dov.vlaanderen.be/data/boring/1997...</td>\n",
       "      <td>goed</td>\n",
       "      <td>153697.0</td>\n",
       "      <td>211805.0</td>\n",
       "      <td>30.0</td>\n",
       "      <td>40.0</td>\n",
       "      <td>0300</td>\n",
       "    </tr>\n",
       "    <tr>\n",
       "      <th>4</th>\n",
       "      <td>https://www.dov.vlaanderen.be/data/interpretat...</td>\n",
       "      <td>https://www.dov.vlaanderen.be/data/boring/1974...</td>\n",
       "      <td>onbekend</td>\n",
       "      <td>153563.0</td>\n",
       "      <td>211945.0</td>\n",
       "      <td>NaN</td>\n",
       "      <td>NaN</td>\n",
       "      <td>NaN</td>\n",
       "    </tr>\n",
       "  </tbody>\n",
       "</table>\n",
       "</div>"
      ],
      "text/plain": [
       "                                  pkey_interpretatie  \\\n",
       "0  https://www.dov.vlaanderen.be/data/interpretat...   \n",
       "1  https://www.dov.vlaanderen.be/data/interpretat...   \n",
       "2  https://www.dov.vlaanderen.be/data/interpretat...   \n",
       "3  https://www.dov.vlaanderen.be/data/interpretat...   \n",
       "4  https://www.dov.vlaanderen.be/data/interpretat...   \n",
       "\n",
       "                                         pkey_boring  \\\n",
       "0  https://www.dov.vlaanderen.be/data/boring/1997...   \n",
       "1  https://www.dov.vlaanderen.be/data/boring/1997...   \n",
       "2  https://www.dov.vlaanderen.be/data/boring/1997...   \n",
       "3  https://www.dov.vlaanderen.be/data/boring/1997...   \n",
       "4  https://www.dov.vlaanderen.be/data/boring/1974...   \n",
       "\n",
       "  betrouwbaarheid_interpretatie         x         y  diepte_laag_van  \\\n",
       "0                          goed  153697.0  211805.0              0.0   \n",
       "1                          goed  153697.0  211805.0              1.5   \n",
       "2                          goed  153697.0  211805.0              5.5   \n",
       "3                          goed  153697.0  211805.0             30.0   \n",
       "4                      onbekend  153563.0  211945.0              NaN   \n",
       "\n",
       "   diepte_laag_tot aquifer  \n",
       "0              1.5    0000  \n",
       "1              5.5    0140  \n",
       "2             30.0    0254  \n",
       "3             40.0    0300  \n",
       "4              NaN     NaN  "
      ]
     },
     "execution_count": 26,
     "metadata": {},
     "output_type": "execute_result"
    }
   ],
   "source": [
    "from pydov.util.location import WithinDistance, Point\n",
    "location = WithinDistance(Point(154000, 212000), 500, distance_unit='meter')\n",
    "df = hydrosearch.search(location=location\n",
    "                       )\n",
    "df.head()"
   ]
  },
  {
   "cell_type": "code",
   "execution_count": null,
   "metadata": {},
   "outputs": [],
   "source": []
  }
 ],
 "metadata": {
  "kernelspec": {
   "display_name": "Python 3",
   "language": "python",
   "name": "python3"
  },
  "language_info": {
   "codemirror_mode": {
    "name": "ipython",
    "version": 3
   },
   "file_extension": ".py",
   "mimetype": "text/x-python",
   "name": "python",
   "nbconvert_exporter": "python",
   "pygments_lexer": "ipython3",
   "version": "3.7.6"
  }
 },
 "nbformat": 4,
 "nbformat_minor": 4
}
