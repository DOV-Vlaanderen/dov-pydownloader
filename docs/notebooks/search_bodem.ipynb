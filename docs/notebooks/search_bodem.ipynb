{
 "cells": [
  {
   "cell_type": "markdown",
   "metadata": {},
   "source": [
    "# Example of DOV search methods for bodem objects"
   ]
  },
  {
   "cell_type": "markdown",
   "metadata": {},
   "source": [
    "[![Binder](https://mybinder.org/badge_logo.svg)](https://mybinder.org/v2/gh/DOV-Vlaanderen/pydov/master?filepath=docs%2Fnotebooks%2Fsearch_boringen.ipynb)"
   ]
  },
  {
   "cell_type": "markdown",
   "metadata": {},
   "source": [
    "## Use cases explained below\n",
    "* Introduction to the bodem-objects\n",
    "* Get bodemsites in a bounding box\n",
    "* Get bodemlocaties with specific properties\n",
    "* Get all direct and indirect bodemobservaties in bodemlocatie\n",
    "* Get all bodemobservaties in bodemmonster\n",
    "* Find all bodemlocaties observation for organic carbon percentage in East-Flanders between 0 and 30 cm deep\n",
    "* Calculate carbon stock in Ghent in the layer 0 - 23 cm"
   ]
  },
  {
   "cell_type": "code",
   "execution_count": 1,
   "metadata": {},
   "outputs": [],
   "source": [
    "%matplotlib inline\n",
    "import inspect, sys\n",
    "import warnings; warnings.simplefilter('ignore')"
   ]
  },
  {
   "cell_type": "code",
   "execution_count": 2,
   "metadata": {},
   "outputs": [],
   "source": [
    "# check pydov path\n",
    "import pydov"
   ]
  },
  {
   "cell_type": "markdown",
   "metadata": {},
   "source": [
    "## Get information about the datatype 'Bodemlocatie'"
   ]
  },
  {
   "cell_type": "markdown",
   "metadata": {},
   "source": [
    "Other datatypes are also possible:\n",
    "* Bodemsite: BodemsiteSearch\n",
    "* Bodemmonster: BodemmonsterSearch\n",
    "* Bodemobservatie: BodemobservatieSearch"
   ]
  },
  {
   "cell_type": "code",
   "execution_count": 3,
   "metadata": {},
   "outputs": [],
   "source": [
    "from pydov.search.bodemlocatie import BodemlocatieSearch\n",
    "bodemlocatie = BodemlocatieSearch()"
   ]
  },
  {
   "cell_type": "markdown",
   "metadata": {},
   "source": [
    "A description is provided for the 'Bodemlocatie' datatype:"
   ]
  },
  {
   "cell_type": "code",
   "execution_count": 4,
   "metadata": {},
   "outputs": [
    {
     "data": {
      "text/plain": [
       "\"Een bodemlocatie is ofwel een profielput of een boring. Een boring is altijd één puntlocatie (x,y,z) en een profielput heeft minimum één en maximum twee puntlocaties (begin- en eindpunt van de profielput). \\r\\nEen profielput is een uitgegraven put in de bodem waarin profielbeschrijvingen, monsternames of bodemobservaties worden uitgevoerd. Een profielbeschrijving is een waarneming van bodemhorizonten en/of bodemlagen in een uitgegraven profielput. Een bodemhorizont is een visueel te onderscheiden deel van de bodem dat ontstaan is door omzetting van het moedermateriaal door pedogenetische processen of door het afzetten van organisch materiaal. Een bodemhorizont heeft voor de meeste bodemvariabelen homogene morfologische en analytische karakteristieken. Een bodemlaag daarentegen is ontstaan door niet-pedogenetische processen. Aan de hand van een profielput krijg je een beeld van de bodemkundige opbouw.\\r\\nEen boring is het resultaat van het boren in de ondergrond met verwijdering van bodem door middel van een gereedschap in de vorm van een holle buis. Aan de hand van dit opgeboorde bodemmateriaal worden bodembeschrijvingen, bodemobservaties en monsternames uitgevoerd.\\r\\nDe bodemlocaties uit de 'Aardewerk-Vlaanderen-2010' databank worden afzonderlijk ontsloten in de datasets 'Bodemprofielen kartering Belgische bodemkaart' en 'Oppervlaktemonsters kartering Belgische bodemkaart'.\""
      ]
     },
     "execution_count": 4,
     "metadata": {},
     "output_type": "execute_result"
    }
   ],
   "source": [
    "bodemlocatie.get_description()"
   ]
  },
  {
   "cell_type": "markdown",
   "metadata": {},
   "source": [
    "The different fields that are available for objects of the 'Bodemlocatie' datatype can be requested with the get_fields() method:"
   ]
  },
  {
   "cell_type": "code",
   "execution_count": 5,
   "metadata": {},
   "outputs": [
    {
     "name": "stdout",
     "output_type": "stream",
     "text": [
      "naam\n",
      "pkey_bodemlocatie\n",
      "type\n",
      "rapport_bodemlocatie\n",
      "profielbeschrijving\n",
      "datum\n",
      "doel\n",
      "x\n",
      "y\n",
      "z\n",
      "Auteurs\n",
      "Aantal_classificaties\n",
      "Aantal_opbouwen\n",
      "erfgoed\n",
      "Aantal_observaties\n",
      "Aantal_monsters\n",
      "bodemstreek\n",
      "Bodemsite\n",
      "Opdrachten\n",
      "waarnemingsdatum\n",
      "invoerdatum\n",
      "educatieve_waarde\n"
     ]
    }
   ],
   "source": [
    "fields = bodemlocatie.get_fields()\n",
    "\n",
    "# print available fields\n",
    "for f in fields.values():\n",
    "    print(f['name'])"
   ]
  },
  {
   "cell_type": "markdown",
   "metadata": {},
   "source": [
    "You can get more information of a field by requesting it from the fields dictionary:\n",
    "* *name*: name of the field\n",
    "* *definition*: definition of this field\n",
    "* *cost*: currently this is either 1 or 10, depending on the datasource of the field. It is an indication of the expected time it will take to retrieve this field in the output dataframe.\n",
    "* *notnull*: whether the field is mandatory or not\n",
    "* *type*: datatype of the values of this field"
   ]
  },
  {
   "cell_type": "code",
   "execution_count": 6,
   "metadata": {},
   "outputs": [
    {
     "data": {
      "text/plain": [
       "{'name': 'type',\n",
       " 'definition': 'Het type van de bodemlocatie: boring of profielput.',\n",
       " 'type': 'string',\n",
       " 'notnull': False,\n",
       " 'query': True,\n",
       " 'cost': 1,\n",
       " 'values': {'boring': 'Een boring is het resultaat van het boren in de ondergrond met verwijdering van bodem door middel van een gereedschap in de vorm van een holle buis. Aan de hand van dit opgeboorde bodemmateriaal worden bodembeschrijvingen, bodemobservaties en monsternames uitgevoerd.',\n",
       "  'profielput': 'Een profielput is een uitgegraven put in de bodem waarin profielbeschrijvingen, monsternames of bodemobservaties worden uitgevoerd. Een profielbeschrijving is een waarneming van bodemhorizonten en/of bodemlagen in een uitgegraven profielput. Een bodemhorizont is een visueel te onderscheiden deel van de bodem dat ontstaan is door omzetting van het moedermateriaal door pedogenetische processen of door het afzetten van organisch materiaal. Een bodemhorizont heeft voor de meeste bodemvariabelen homogene morfologische en analytische karakteristieken. Een bodemlaag daarentegen is ontstaan door niet-pedogenetische processen. Aan de hand van een profielput krijg je een beeld van de bodemkundige opbouw.'}}"
      ]
     },
     "execution_count": 6,
     "metadata": {},
     "output_type": "execute_result"
    }
   ],
   "source": [
    "fields['type']"
   ]
  },
  {
   "cell_type": "markdown",
   "metadata": {},
   "source": [
    "Optionally, if the values of the field have a specific domain the possible values are listed as *values*:"
   ]
  },
  {
   "cell_type": "code",
   "execution_count": 7,
   "metadata": {},
   "outputs": [
    {
     "data": {
      "text/plain": [
       "{'boring': 'Een boring is het resultaat van het boren in de ondergrond met verwijdering van bodem door middel van een gereedschap in de vorm van een holle buis. Aan de hand van dit opgeboorde bodemmateriaal worden bodembeschrijvingen, bodemobservaties en monsternames uitgevoerd.',\n",
       " 'profielput': 'Een profielput is een uitgegraven put in de bodem waarin profielbeschrijvingen, monsternames of bodemobservaties worden uitgevoerd. Een profielbeschrijving is een waarneming van bodemhorizonten en/of bodemlagen in een uitgegraven profielput. Een bodemhorizont is een visueel te onderscheiden deel van de bodem dat ontstaan is door omzetting van het moedermateriaal door pedogenetische processen of door het afzetten van organisch materiaal. Een bodemhorizont heeft voor de meeste bodemvariabelen homogene morfologische en analytische karakteristieken. Een bodemlaag daarentegen is ontstaan door niet-pedogenetische processen. Aan de hand van een profielput krijg je een beeld van de bodemkundige opbouw.'}"
      ]
     },
     "execution_count": 7,
     "metadata": {},
     "output_type": "execute_result"
    }
   ],
   "source": [
    "fields['type']['values']"
   ]
  },
  {
   "cell_type": "markdown",
   "metadata": {},
   "source": [
    "## Example use cases"
   ]
  },
  {
   "cell_type": "markdown",
   "metadata": {},
   "source": [
    "### Get bodemsites in a bounding box"
   ]
  },
  {
   "cell_type": "markdown",
   "metadata": {},
   "source": [
    "Get data for all the bodemsites that are geographically located completely within the bounds of the specified box.\n",
    "\n",
    "The coordinates are in the Belgian Lambert72 (EPSG:31370) coordinate system and are given in the order of lower left x, lower left y, upper right x, upper right y."
   ]
  },
  {
   "cell_type": "markdown",
   "metadata": {},
   "source": [
    "The same methods can be used for other bodem-objects."
   ]
  },
  {
   "cell_type": "code",
   "execution_count": 8,
   "metadata": {},
   "outputs": [],
   "source": [
    "from pydov.search.bodemsite import BodemsiteSearch\n",
    "bodemsite = BodemsiteSearch()"
   ]
  },
  {
   "cell_type": "code",
   "execution_count": 9,
   "metadata": {},
   "outputs": [
    {
     "name": "stdout",
     "output_type": "stream",
     "text": [
      "[000/007] ccccccc\n"
     ]
    },
    {
     "data": {
      "text/html": [
       "<div>\n",
       "<style scoped>\n",
       "    .dataframe tbody tr th:only-of-type {\n",
       "        vertical-align: middle;\n",
       "    }\n",
       "\n",
       "    .dataframe tbody tr th {\n",
       "        vertical-align: top;\n",
       "    }\n",
       "\n",
       "    .dataframe thead th {\n",
       "        text-align: right;\n",
       "    }\n",
       "</style>\n",
       "<table border=\"1\" class=\"dataframe\">\n",
       "  <thead>\n",
       "    <tr style=\"text-align: right;\">\n",
       "      <th></th>\n",
       "      <th>pkey_bodemsite</th>\n",
       "      <th>naam</th>\n",
       "      <th>datum</th>\n",
       "      <th>beschrijving</th>\n",
       "      <th>waarnemingsdatum</th>\n",
       "      <th>invoerdatum</th>\n",
       "    </tr>\n",
       "  </thead>\n",
       "  <tbody>\n",
       "    <tr>\n",
       "      <th>0</th>\n",
       "      <td>https://www.dov.vlaanderen.be/data/bodemsite/2...</td>\n",
       "      <td>Zoniënwoud_Groenendaal</td>\n",
       "      <td>NaN</td>\n",
       "      <td>Zachte helling op plateau, Bodem nooit onder l...</td>\n",
       "      <td>NaN</td>\n",
       "      <td>NaN</td>\n",
       "    </tr>\n",
       "    <tr>\n",
       "      <th>1</th>\n",
       "      <td>https://www.dov.vlaanderen.be/data/bodemsite/2...</td>\n",
       "      <td>Zoniënwoud_Rood Klooster</td>\n",
       "      <td>NaN</td>\n",
       "      <td>Zeer zachte helling op plateau</td>\n",
       "      <td>NaN</td>\n",
       "      <td>NaN</td>\n",
       "    </tr>\n",
       "    <tr>\n",
       "      <th>2</th>\n",
       "      <td>https://www.dov.vlaanderen.be/data/bodemsite/1...</td>\n",
       "      <td>Zoniënwoud_Tertiair</td>\n",
       "      <td>1983-01-01</td>\n",
       "      <td>NNW gerichte helling van een 10% langs vallei ...</td>\n",
       "      <td>1983-01-01</td>\n",
       "      <td>NaN</td>\n",
       "    </tr>\n",
       "    <tr>\n",
       "      <th>3</th>\n",
       "      <td>https://www.dov.vlaanderen.be/data/bodemsite/2...</td>\n",
       "      <td>Zoniënwoud_Sint_Hubertusdreef</td>\n",
       "      <td>NaN</td>\n",
       "      <td>Hoofd van een concave droge vallei (del), depr...</td>\n",
       "      <td>NaN</td>\n",
       "      <td>NaN</td>\n",
       "    </tr>\n",
       "    <tr>\n",
       "      <th>4</th>\n",
       "      <td>https://www.dov.vlaanderen.be/data/bodemsite/2...</td>\n",
       "      <td>Watermaal-Bosvoorde_Zoniënwoud</td>\n",
       "      <td>2011-06-14</td>\n",
       "      <td>bos</td>\n",
       "      <td>2011-06-14</td>\n",
       "      <td>NaN</td>\n",
       "    </tr>\n",
       "  </tbody>\n",
       "</table>\n",
       "</div>"
      ],
      "text/plain": [
       "                                      pkey_bodemsite  \\\n",
       "0  https://www.dov.vlaanderen.be/data/bodemsite/2...   \n",
       "1  https://www.dov.vlaanderen.be/data/bodemsite/2...   \n",
       "2  https://www.dov.vlaanderen.be/data/bodemsite/1...   \n",
       "3  https://www.dov.vlaanderen.be/data/bodemsite/2...   \n",
       "4  https://www.dov.vlaanderen.be/data/bodemsite/2...   \n",
       "\n",
       "                             naam       datum  \\\n",
       "0          Zoniënwoud_Groenendaal         NaN   \n",
       "1        Zoniënwoud_Rood Klooster         NaN   \n",
       "2             Zoniënwoud_Tertiair  1983-01-01   \n",
       "3   Zoniënwoud_Sint_Hubertusdreef         NaN   \n",
       "4  Watermaal-Bosvoorde_Zoniënwoud  2011-06-14   \n",
       "\n",
       "                                        beschrijving waarnemingsdatum  \\\n",
       "0  Zachte helling op plateau, Bodem nooit onder l...              NaN   \n",
       "1                     Zeer zachte helling op plateau              NaN   \n",
       "2  NNW gerichte helling van een 10% langs vallei ...       1983-01-01   \n",
       "3  Hoofd van een concave droge vallei (del), depr...              NaN   \n",
       "4                                                bos       2011-06-14   \n",
       "\n",
       "   invoerdatum  \n",
       "0          NaN  \n",
       "1          NaN  \n",
       "2          NaN  \n",
       "3          NaN  \n",
       "4          NaN  "
      ]
     },
     "execution_count": 9,
     "metadata": {},
     "output_type": "execute_result"
    }
   ],
   "source": [
    "from pydov.util.location import Within, Box\n",
    "\n",
    "df = bodemsite.search(location=Within(Box(148000, 160800, 160000, 169500)))\n",
    "df.head()"
   ]
  },
  {
   "cell_type": "markdown",
   "metadata": {},
   "source": [
    "The dataframe contains a list of bodemsites. The available data are flattened to represent unique attributes per row of the dataframe.\n",
    "\n",
    "Using the *pkey_bodemsite* field one can request the details of this bodemsite in a webbrowser:"
   ]
  },
  {
   "cell_type": "code",
   "execution_count": 10,
   "metadata": {},
   "outputs": [
    {
     "name": "stdout",
     "output_type": "stream",
     "text": [
      "https://www.dov.vlaanderen.be/data/bodemsite/2017-000210\n",
      "https://www.dov.vlaanderen.be/data/bodemsite/2017-000306\n",
      "https://www.dov.vlaanderen.be/data/bodemsite/2011-000247\n",
      "https://www.dov.vlaanderen.be/data/bodemsite/2017-000229\n",
      "https://www.dov.vlaanderen.be/data/bodemsite/2017-000305\n",
      "https://www.dov.vlaanderen.be/data/bodemsite/1983-000216\n",
      "https://www.dov.vlaanderen.be/data/bodemsite/2017-000215\n"
     ]
    }
   ],
   "source": [
    "for pkey_bodemsite in set(df.pkey_bodemsite):\n",
    "    print(pkey_bodemsite)"
   ]
  },
  {
   "cell_type": "markdown",
   "metadata": {},
   "source": [
    "### Get bodemlocaties with specific properties"
   ]
  },
  {
   "cell_type": "markdown",
   "metadata": {},
   "source": [
    "Next to querying bodem objects based on their geographic location within a bounding box, we can also search for bodem objects matching a specific set of properties. \n",
    "The same methods can be used for all bodem\n",
    "For this we can build a query using a combination of the 'Bodemlocatie' fields and operators provided by the WFS protocol.\n",
    "\n",
    "A list of possible operators can be found below:"
   ]
  },
  {
   "cell_type": "code",
   "execution_count": 11,
   "metadata": {},
   "outputs": [
    {
     "data": {
      "text/plain": [
       "['PropertyIsBetween',\n",
       " 'PropertyIsEqualTo',\n",
       " 'PropertyIsGreaterThan',\n",
       " 'PropertyIsGreaterThanOrEqualTo',\n",
       " 'PropertyIsLessThan',\n",
       " 'PropertyIsLessThanOrEqualTo',\n",
       " 'PropertyIsLike',\n",
       " 'PropertyIsNotEqualTo',\n",
       " 'PropertyIsNull',\n",
       " 'SortProperty']"
      ]
     },
     "execution_count": 11,
     "metadata": {},
     "output_type": "execute_result"
    }
   ],
   "source": [
    "[i for i,j in inspect.getmembers(sys.modules['owslib.fes'], inspect.isclass) if 'Property' in i]"
   ]
  },
  {
   "cell_type": "markdown",
   "metadata": {},
   "source": [
    "In this example we build a query using the *PropertyIsEqualTo* operator to find all bodemlocaties with bodemstreek 'zandstreek'.\n",
    "We use *max_features=10* to limit the results to 10."
   ]
  },
  {
   "cell_type": "code",
   "execution_count": 12,
   "metadata": {},
   "outputs": [
    {
     "name": "stdout",
     "output_type": "stream",
     "text": [
      "[000/010] cccccccccc\n"
     ]
    },
    {
     "data": {
      "text/html": [
       "<div>\n",
       "<style scoped>\n",
       "    .dataframe tbody tr th:only-of-type {\n",
       "        vertical-align: middle;\n",
       "    }\n",
       "\n",
       "    .dataframe tbody tr th {\n",
       "        vertical-align: top;\n",
       "    }\n",
       "\n",
       "    .dataframe thead th {\n",
       "        text-align: right;\n",
       "    }\n",
       "</style>\n",
       "<table border=\"1\" class=\"dataframe\">\n",
       "  <thead>\n",
       "    <tr style=\"text-align: right;\">\n",
       "      <th></th>\n",
       "      <th>pkey_bodemlocatie</th>\n",
       "      <th>naam</th>\n",
       "      <th>type</th>\n",
       "      <th>datum</th>\n",
       "      <th>doel</th>\n",
       "      <th>x</th>\n",
       "      <th>y</th>\n",
       "      <th>z</th>\n",
       "      <th>erfgoed</th>\n",
       "      <th>bodemstreek</th>\n",
       "      <th>waarnemingsdatum</th>\n",
       "      <th>invoerdatum</th>\n",
       "      <th>educatieve_waarde</th>\n",
       "    </tr>\n",
       "  </thead>\n",
       "  <tbody>\n",
       "    <tr>\n",
       "      <th>0</th>\n",
       "      <td>https://www.dov.vlaanderen.be/data/bodemlocati...</td>\n",
       "      <td>KULEU_30</td>\n",
       "      <td>profielput</td>\n",
       "      <td>2012-05-14</td>\n",
       "      <td>bodemkundige opbouw</td>\n",
       "      <td>160992.14</td>\n",
       "      <td>196155.14</td>\n",
       "      <td>5.00</td>\n",
       "      <td>True</td>\n",
       "      <td>Zandstreek</td>\n",
       "      <td>2012-05-14</td>\n",
       "      <td>2012-05-14</td>\n",
       "      <td>ZEER</td>\n",
       "    </tr>\n",
       "    <tr>\n",
       "      <th>1</th>\n",
       "      <td>https://www.dov.vlaanderen.be/data/bodemlocati...</td>\n",
       "      <td>INBO_2</td>\n",
       "      <td>profielput</td>\n",
       "      <td>2007-05-04</td>\n",
       "      <td>bodemkundige opbouw</td>\n",
       "      <td>56598.44</td>\n",
       "      <td>196314.35</td>\n",
       "      <td>20.00</td>\n",
       "      <td>True</td>\n",
       "      <td>Zandstreek</td>\n",
       "      <td>2007-05-04</td>\n",
       "      <td>2007-05-04</td>\n",
       "      <td>OK</td>\n",
       "    </tr>\n",
       "    <tr>\n",
       "      <th>2</th>\n",
       "      <td>https://www.dov.vlaanderen.be/data/bodemlocati...</td>\n",
       "      <td>KULEU_15</td>\n",
       "      <td>profielput</td>\n",
       "      <td>2010-06-06</td>\n",
       "      <td>bodemkundige opbouw</td>\n",
       "      <td>175001.18</td>\n",
       "      <td>177459.73</td>\n",
       "      <td>65.58</td>\n",
       "      <td>True</td>\n",
       "      <td>Zandstreek</td>\n",
       "      <td>2010-06-06</td>\n",
       "      <td>2010-06-06</td>\n",
       "      <td>ZEER</td>\n",
       "    </tr>\n",
       "    <tr>\n",
       "      <th>3</th>\n",
       "      <td>https://www.dov.vlaanderen.be/data/bodemlocati...</td>\n",
       "      <td>BAAC_12</td>\n",
       "      <td>profielput</td>\n",
       "      <td>2012-07-31</td>\n",
       "      <td>archeologische landschappelijke profielputten</td>\n",
       "      <td>155631.46</td>\n",
       "      <td>184083.61</td>\n",
       "      <td>11.00</td>\n",
       "      <td>True</td>\n",
       "      <td>Zandstreek</td>\n",
       "      <td>2012-07-31</td>\n",
       "      <td>2012-07-31</td>\n",
       "      <td>ZEER</td>\n",
       "    </tr>\n",
       "    <tr>\n",
       "      <th>4</th>\n",
       "      <td>https://www.dov.vlaanderen.be/data/bodemlocati...</td>\n",
       "      <td>ILVO_1</td>\n",
       "      <td>profielput</td>\n",
       "      <td>2012-11-20</td>\n",
       "      <td>bodemkundige opbouw</td>\n",
       "      <td>108115.73</td>\n",
       "      <td>185850.71</td>\n",
       "      <td>32.00</td>\n",
       "      <td>True</td>\n",
       "      <td>Zandstreek</td>\n",
       "      <td>2012-11-20</td>\n",
       "      <td>2012-11-20</td>\n",
       "      <td>ZEER</td>\n",
       "    </tr>\n",
       "  </tbody>\n",
       "</table>\n",
       "</div>"
      ],
      "text/plain": [
       "                                   pkey_bodemlocatie      naam        type  \\\n",
       "0  https://www.dov.vlaanderen.be/data/bodemlocati...  KULEU_30  profielput   \n",
       "1  https://www.dov.vlaanderen.be/data/bodemlocati...    INBO_2  profielput   \n",
       "2  https://www.dov.vlaanderen.be/data/bodemlocati...  KULEU_15  profielput   \n",
       "3  https://www.dov.vlaanderen.be/data/bodemlocati...   BAAC_12  profielput   \n",
       "4  https://www.dov.vlaanderen.be/data/bodemlocati...    ILVO_1  profielput   \n",
       "\n",
       "        datum                                           doel          x  \\\n",
       "0  2012-05-14                            bodemkundige opbouw  160992.14   \n",
       "1  2007-05-04                            bodemkundige opbouw   56598.44   \n",
       "2  2010-06-06                            bodemkundige opbouw  175001.18   \n",
       "3  2012-07-31  archeologische landschappelijke profielputten  155631.46   \n",
       "4  2012-11-20                            bodemkundige opbouw  108115.73   \n",
       "\n",
       "           y      z  erfgoed bodemstreek waarnemingsdatum invoerdatum  \\\n",
       "0  196155.14   5.00     True  Zandstreek       2012-05-14  2012-05-14   \n",
       "1  196314.35  20.00     True  Zandstreek       2007-05-04  2007-05-04   \n",
       "2  177459.73  65.58     True  Zandstreek       2010-06-06  2010-06-06   \n",
       "3  184083.61  11.00     True  Zandstreek       2012-07-31  2012-07-31   \n",
       "4  185850.71  32.00     True  Zandstreek       2012-11-20  2012-11-20   \n",
       "\n",
       "  educatieve_waarde  \n",
       "0              ZEER  \n",
       "1                OK  \n",
       "2              ZEER  \n",
       "3              ZEER  \n",
       "4              ZEER  "
      ]
     },
     "execution_count": 12,
     "metadata": {},
     "output_type": "execute_result"
    }
   ],
   "source": [
    "from owslib.fes import PropertyIsEqualTo\n",
    "\n",
    "query = PropertyIsEqualTo(propertyname='bodemstreek',\n",
    "                          literal='Zandstreek')\n",
    "df = bodemlocatie.search(query=query, max_features=10)\n",
    "\n",
    "df.head()"
   ]
  },
  {
   "cell_type": "markdown",
   "metadata": {},
   "source": [
    "Once again we can use the *pkey_bodemlocatie* as a permanent link to the information of these bodemlocaties:"
   ]
  },
  {
   "cell_type": "code",
   "execution_count": 13,
   "metadata": {},
   "outputs": [
    {
     "name": "stdout",
     "output_type": "stream",
     "text": [
      "https://www.dov.vlaanderen.be/data/bodemlocatie/2012-000028\n",
      "https://www.dov.vlaanderen.be/data/bodemlocatie/2007-000102\n",
      "https://www.dov.vlaanderen.be/data/bodemlocatie/2012-000033\n",
      "https://www.dov.vlaanderen.be/data/bodemlocatie/2014-000040\n",
      "https://www.dov.vlaanderen.be/data/bodemlocatie/2010-000014\n",
      "https://www.dov.vlaanderen.be/data/bodemlocatie/2012-000041\n",
      "https://www.dov.vlaanderen.be/data/bodemlocatie/2013-000048\n",
      "https://www.dov.vlaanderen.be/data/bodemlocatie/2012-000026\n",
      "https://www.dov.vlaanderen.be/data/bodemlocatie/2014-000039\n",
      "https://www.dov.vlaanderen.be/data/bodemlocatie/2012-000027\n"
     ]
    }
   ],
   "source": [
    "for pkey_bodemlocatie in set(df.pkey_bodemlocatie):\n",
    "    print(pkey_bodemlocatie)"
   ]
  },
  {
   "cell_type": "markdown",
   "metadata": {},
   "source": [
    "### Get all direct and indirect bodemobservaties in bodemlocatie"
   ]
  },
  {
   "cell_type": "markdown",
   "metadata": {},
   "source": [
    "Get all bodemobservaties in a specific bodemlocatie.\n",
    "Direct means bodemobservaties directly linked with a bodemlocatie.\n",
    "Indirect means bodemobservaties linked with child-objects of the bodemlocatie, like bodemmonsters."
   ]
  },
  {
   "cell_type": "code",
   "execution_count": 14,
   "metadata": {},
   "outputs": [],
   "source": [
    "from pydov.search.bodemobservatie import BodemobservatieSearch\n",
    "from pydov.search.bodemlocatie import BodemlocatieSearch\n",
    "bodemobservatie = BodemobservatieSearch()\n",
    "bodemlocatie = BodemlocatieSearch()"
   ]
  },
  {
   "cell_type": "code",
   "execution_count": 15,
   "metadata": {},
   "outputs": [
    {
     "name": "stdout",
     "output_type": "stream",
     "text": [
      "[000/021] ccccccccccccccccccccc\n"
     ]
    },
    {
     "data": {
      "text/html": [
       "<div>\n",
       "<style scoped>\n",
       "    .dataframe tbody tr th:only-of-type {\n",
       "        vertical-align: middle;\n",
       "    }\n",
       "\n",
       "    .dataframe tbody tr th {\n",
       "        vertical-align: top;\n",
       "    }\n",
       "\n",
       "    .dataframe thead th {\n",
       "        text-align: right;\n",
       "    }\n",
       "</style>\n",
       "<table border=\"1\" class=\"dataframe\">\n",
       "  <thead>\n",
       "    <tr style=\"text-align: right;\">\n",
       "      <th></th>\n",
       "      <th>pkey_bodemobservatie</th>\n",
       "      <th>pkey_bodemlocatie</th>\n",
       "      <th>Aan</th>\n",
       "      <th>pkey_parent</th>\n",
       "      <th>parameter</th>\n",
       "      <th>parametergroep</th>\n",
       "      <th>waarde</th>\n",
       "      <th>eenheid</th>\n",
       "      <th>ondergrens</th>\n",
       "      <th>bovengrens</th>\n",
       "      <th>methode</th>\n",
       "      <th>betrouwbaarheid</th>\n",
       "      <th>veld_labo</th>\n",
       "      <th>diepte_van</th>\n",
       "      <th>diepte_tot</th>\n",
       "      <th>observatiedatum</th>\n",
       "      <th>invoerdatum</th>\n",
       "    </tr>\n",
       "  </thead>\n",
       "  <tbody>\n",
       "    <tr>\n",
       "      <th>0</th>\n",
       "      <td>https://www.dov.vlaanderen.be/data/bodemobserv...</td>\n",
       "      <td>https://www.dov.vlaanderen.be/data/bodemlocati...</td>\n",
       "      <td>bodemdiepteinterval</td>\n",
       "      <td>https://www.dov.vlaanderen.be/data/bodemdiepte...</td>\n",
       "      <td>Ksat</td>\n",
       "      <td>Bodem_fysisch_vocht</td>\n",
       "      <td>0.0000182002</td>\n",
       "      <td>m/s</td>\n",
       "      <td>NaN</td>\n",
       "      <td>NaN</td>\n",
       "      <td>Ksat Open-end-methode</td>\n",
       "      <td>goed</td>\n",
       "      <td>veld</td>\n",
       "      <td>40.0</td>\n",
       "      <td>85.0</td>\n",
       "      <td>2015-09-08</td>\n",
       "      <td>2019-02-07</td>\n",
       "    </tr>\n",
       "    <tr>\n",
       "      <th>1</th>\n",
       "      <td>https://www.dov.vlaanderen.be/data/bodemobserv...</td>\n",
       "      <td>https://www.dov.vlaanderen.be/data/bodemlocati...</td>\n",
       "      <td>bodemdiepteinterval</td>\n",
       "      <td>https://www.dov.vlaanderen.be/data/bodemdiepte...</td>\n",
       "      <td>Ksat</td>\n",
       "      <td>Bodem_fysisch_vocht</td>\n",
       "      <td>0.0000231117</td>\n",
       "      <td>m/s</td>\n",
       "      <td>NaN</td>\n",
       "      <td>NaN</td>\n",
       "      <td>Ksat_Soakaway_methode</td>\n",
       "      <td>goed</td>\n",
       "      <td>veld</td>\n",
       "      <td>40.0</td>\n",
       "      <td>85.0</td>\n",
       "      <td>2015-09-08</td>\n",
       "      <td>2019-02-07</td>\n",
       "    </tr>\n",
       "    <tr>\n",
       "      <th>2</th>\n",
       "      <td>https://www.dov.vlaanderen.be/data/bodemobserv...</td>\n",
       "      <td>https://www.dov.vlaanderen.be/data/bodemlocati...</td>\n",
       "      <td>bodemdiepteinterval</td>\n",
       "      <td>https://www.dov.vlaanderen.be/data/bodemdiepte...</td>\n",
       "      <td>Ksat</td>\n",
       "      <td>Bodem_fysisch_vocht</td>\n",
       "      <td>0.0000054848</td>\n",
       "      <td>m/s</td>\n",
       "      <td>NaN</td>\n",
       "      <td>NaN</td>\n",
       "      <td>Ksat Enkele-ring-methode</td>\n",
       "      <td>goed</td>\n",
       "      <td>veld</td>\n",
       "      <td>40.0</td>\n",
       "      <td>85.0</td>\n",
       "      <td>2015-09-08</td>\n",
       "      <td>2019-02-07</td>\n",
       "    </tr>\n",
       "    <tr>\n",
       "      <th>3</th>\n",
       "      <td>https://www.dov.vlaanderen.be/data/bodemobserv...</td>\n",
       "      <td>https://www.dov.vlaanderen.be/data/bodemlocati...</td>\n",
       "      <td>bodemmonster</td>\n",
       "      <td>https://www.dov.vlaanderen.be/data/bodemmonste...</td>\n",
       "      <td>Textuurfracties</td>\n",
       "      <td>Bodem_fysisch_textuur</td>\n",
       "      <td>Fractiemetingen</td>\n",
       "      <td>%</td>\n",
       "      <td>NaN</td>\n",
       "      <td>NaN</td>\n",
       "      <td>Textuur pipetmethode Robinson-Köhn</td>\n",
       "      <td>goed</td>\n",
       "      <td>labo</td>\n",
       "      <td>85.0</td>\n",
       "      <td>130.0</td>\n",
       "      <td>2015-08-27</td>\n",
       "      <td>2019-02-19</td>\n",
       "    </tr>\n",
       "    <tr>\n",
       "      <th>4</th>\n",
       "      <td>https://www.dov.vlaanderen.be/data/bodemobserv...</td>\n",
       "      <td>https://www.dov.vlaanderen.be/data/bodemlocati...</td>\n",
       "      <td>bodemdiepteinterval</td>\n",
       "      <td>https://www.dov.vlaanderen.be/data/bodemdiepte...</td>\n",
       "      <td>Ksat</td>\n",
       "      <td>Bodem_fysisch_vocht</td>\n",
       "      <td>0.0000145758</td>\n",
       "      <td>m/s</td>\n",
       "      <td>NaN</td>\n",
       "      <td>NaN</td>\n",
       "      <td>Ksat Open-end-methode</td>\n",
       "      <td>goed</td>\n",
       "      <td>veld</td>\n",
       "      <td>40.0</td>\n",
       "      <td>85.0</td>\n",
       "      <td>2015-09-08</td>\n",
       "      <td>2019-02-07</td>\n",
       "    </tr>\n",
       "  </tbody>\n",
       "</table>\n",
       "</div>"
      ],
      "text/plain": [
       "                                pkey_bodemobservatie  \\\n",
       "0  https://www.dov.vlaanderen.be/data/bodemobserv...   \n",
       "1  https://www.dov.vlaanderen.be/data/bodemobserv...   \n",
       "2  https://www.dov.vlaanderen.be/data/bodemobserv...   \n",
       "3  https://www.dov.vlaanderen.be/data/bodemobserv...   \n",
       "4  https://www.dov.vlaanderen.be/data/bodemobserv...   \n",
       "\n",
       "                                   pkey_bodemlocatie                  Aan  \\\n",
       "0  https://www.dov.vlaanderen.be/data/bodemlocati...  bodemdiepteinterval   \n",
       "1  https://www.dov.vlaanderen.be/data/bodemlocati...  bodemdiepteinterval   \n",
       "2  https://www.dov.vlaanderen.be/data/bodemlocati...  bodemdiepteinterval   \n",
       "3  https://www.dov.vlaanderen.be/data/bodemlocati...         bodemmonster   \n",
       "4  https://www.dov.vlaanderen.be/data/bodemlocati...  bodemdiepteinterval   \n",
       "\n",
       "                                         pkey_parent        parameter  \\\n",
       "0  https://www.dov.vlaanderen.be/data/bodemdiepte...             Ksat   \n",
       "1  https://www.dov.vlaanderen.be/data/bodemdiepte...             Ksat   \n",
       "2  https://www.dov.vlaanderen.be/data/bodemdiepte...             Ksat   \n",
       "3  https://www.dov.vlaanderen.be/data/bodemmonste...  Textuurfracties   \n",
       "4  https://www.dov.vlaanderen.be/data/bodemdiepte...             Ksat   \n",
       "\n",
       "          parametergroep           waarde eenheid  ondergrens  bovengrens  \\\n",
       "0    Bodem_fysisch_vocht     0.0000182002     m/s         NaN         NaN   \n",
       "1    Bodem_fysisch_vocht     0.0000231117     m/s         NaN         NaN   \n",
       "2    Bodem_fysisch_vocht     0.0000054848     m/s         NaN         NaN   \n",
       "3  Bodem_fysisch_textuur  Fractiemetingen       %         NaN         NaN   \n",
       "4    Bodem_fysisch_vocht     0.0000145758     m/s         NaN         NaN   \n",
       "\n",
       "                              methode betrouwbaarheid veld_labo  diepte_van  \\\n",
       "0               Ksat Open-end-methode            goed      veld        40.0   \n",
       "1               Ksat_Soakaway_methode            goed      veld        40.0   \n",
       "2            Ksat Enkele-ring-methode            goed      veld        40.0   \n",
       "3  Textuur pipetmethode Robinson-Köhn            goed      labo        85.0   \n",
       "4               Ksat Open-end-methode            goed      veld        40.0   \n",
       "\n",
       "   diepte_tot observatiedatum invoerdatum  \n",
       "0        85.0      2015-09-08  2019-02-07  \n",
       "1        85.0      2015-09-08  2019-02-07  \n",
       "2        85.0      2015-09-08  2019-02-07  \n",
       "3       130.0      2015-08-27  2019-02-19  \n",
       "4        85.0      2015-09-08  2019-02-07  "
      ]
     },
     "execution_count": 15,
     "metadata": {},
     "output_type": "execute_result"
    }
   ],
   "source": [
    "from owslib.fes import PropertyIsEqualTo\n",
    "from pydov.util.query import Join\n",
    "\n",
    "bodemlocaties = bodemlocatie.search(query=PropertyIsEqualTo(propertyname='naam', literal='VMM_INF_52'), \n",
    "                                   return_fields=('pkey_bodemlocatie',))\n",
    "\n",
    "bodemobservaties = bodemobservatie.search(query=Join(bodemlocaties, 'pkey_bodemlocatie'))\n",
    "bodemobservaties.head()"
   ]
  },
  {
   "cell_type": "markdown",
   "metadata": {},
   "source": [
    "### Get all bodemobservaties in bodemmonster"
   ]
  },
  {
   "cell_type": "markdown",
   "metadata": {},
   "source": [
    "Get all bodemobservaties linked with a bodemmonster"
   ]
  },
  {
   "cell_type": "code",
   "execution_count": 16,
   "metadata": {},
   "outputs": [
    {
     "name": "stdout",
     "output_type": "stream",
     "text": [
      "[000/003] ccc\n"
     ]
    },
    {
     "data": {
      "text/html": [
       "<div>\n",
       "<style scoped>\n",
       "    .dataframe tbody tr th:only-of-type {\n",
       "        vertical-align: middle;\n",
       "    }\n",
       "\n",
       "    .dataframe tbody tr th {\n",
       "        vertical-align: top;\n",
       "    }\n",
       "\n",
       "    .dataframe thead th {\n",
       "        text-align: right;\n",
       "    }\n",
       "</style>\n",
       "<table border=\"1\" class=\"dataframe\">\n",
       "  <thead>\n",
       "    <tr style=\"text-align: right;\">\n",
       "      <th></th>\n",
       "      <th>pkey_bodemobservatie</th>\n",
       "      <th>pkey_bodemlocatie</th>\n",
       "      <th>Aan</th>\n",
       "      <th>pkey_parent</th>\n",
       "      <th>parameter</th>\n",
       "      <th>parametergroep</th>\n",
       "      <th>waarde</th>\n",
       "      <th>eenheid</th>\n",
       "      <th>ondergrens</th>\n",
       "      <th>bovengrens</th>\n",
       "      <th>methode</th>\n",
       "      <th>betrouwbaarheid</th>\n",
       "      <th>veld_labo</th>\n",
       "      <th>diepte_van</th>\n",
       "      <th>diepte_tot</th>\n",
       "      <th>observatiedatum</th>\n",
       "      <th>invoerdatum</th>\n",
       "    </tr>\n",
       "  </thead>\n",
       "  <tbody>\n",
       "    <tr>\n",
       "      <th>0</th>\n",
       "      <td>https://www.dov.vlaanderen.be/data/bodemobserv...</td>\n",
       "      <td>https://www.dov.vlaanderen.be/data/bodemlocati...</td>\n",
       "      <td>bodemmonster</td>\n",
       "      <td>https://www.dov.vlaanderen.be/data/bodemmonste...</td>\n",
       "      <td>Textuur - handmatig - klassen bodemkartering</td>\n",
       "      <td>Bodem_fysisch_textuur</td>\n",
       "      <td>A - Leem</td>\n",
       "      <td>-</td>\n",
       "      <td>NaN</td>\n",
       "      <td>NaN</td>\n",
       "      <td>Textuur manuele schatting (palpatie)</td>\n",
       "      <td>goed</td>\n",
       "      <td>labo</td>\n",
       "      <td>40.0</td>\n",
       "      <td>85.0</td>\n",
       "      <td>2015-08-27</td>\n",
       "      <td>2019-02-07</td>\n",
       "    </tr>\n",
       "    <tr>\n",
       "      <th>1</th>\n",
       "      <td>https://www.dov.vlaanderen.be/data/bodemobserv...</td>\n",
       "      <td>https://www.dov.vlaanderen.be/data/bodemlocati...</td>\n",
       "      <td>bodemmonster</td>\n",
       "      <td>https://www.dov.vlaanderen.be/data/bodemmonste...</td>\n",
       "      <td>Textuurfracties</td>\n",
       "      <td>Bodem_fysisch_textuur</td>\n",
       "      <td>Fractiemetingen</td>\n",
       "      <td>%</td>\n",
       "      <td>NaN</td>\n",
       "      <td>NaN</td>\n",
       "      <td>Textuur pipetmethode Robinson-Köhn</td>\n",
       "      <td>goed</td>\n",
       "      <td>labo</td>\n",
       "      <td>40.0</td>\n",
       "      <td>85.0</td>\n",
       "      <td>2015-09-08</td>\n",
       "      <td>2019-02-19</td>\n",
       "    </tr>\n",
       "    <tr>\n",
       "      <th>2</th>\n",
       "      <td>https://www.dov.vlaanderen.be/data/bodemobserv...</td>\n",
       "      <td>https://www.dov.vlaanderen.be/data/bodemlocati...</td>\n",
       "      <td>bodemmonster</td>\n",
       "      <td>https://www.dov.vlaanderen.be/data/bodemmonste...</td>\n",
       "      <td>Textuur - granulometrisch - klassen bodemkarte...</td>\n",
       "      <td>Bodem_fysisch_textuur</td>\n",
       "      <td>E - Klei</td>\n",
       "      <td>-</td>\n",
       "      <td>NaN</td>\n",
       "      <td>NaN</td>\n",
       "      <td>Textuur pipetmethode Robinson-Köhn</td>\n",
       "      <td>goed</td>\n",
       "      <td>labo</td>\n",
       "      <td>40.0</td>\n",
       "      <td>85.0</td>\n",
       "      <td>2015-08-27</td>\n",
       "      <td>2019-02-07</td>\n",
       "    </tr>\n",
       "  </tbody>\n",
       "</table>\n",
       "</div>"
      ],
      "text/plain": [
       "                                pkey_bodemobservatie  \\\n",
       "0  https://www.dov.vlaanderen.be/data/bodemobserv...   \n",
       "1  https://www.dov.vlaanderen.be/data/bodemobserv...   \n",
       "2  https://www.dov.vlaanderen.be/data/bodemobserv...   \n",
       "\n",
       "                                   pkey_bodemlocatie           Aan  \\\n",
       "0  https://www.dov.vlaanderen.be/data/bodemlocati...  bodemmonster   \n",
       "1  https://www.dov.vlaanderen.be/data/bodemlocati...  bodemmonster   \n",
       "2  https://www.dov.vlaanderen.be/data/bodemlocati...  bodemmonster   \n",
       "\n",
       "                                         pkey_parent  \\\n",
       "0  https://www.dov.vlaanderen.be/data/bodemmonste...   \n",
       "1  https://www.dov.vlaanderen.be/data/bodemmonste...   \n",
       "2  https://www.dov.vlaanderen.be/data/bodemmonste...   \n",
       "\n",
       "                                           parameter         parametergroep  \\\n",
       "0       Textuur - handmatig - klassen bodemkartering  Bodem_fysisch_textuur   \n",
       "1                                    Textuurfracties  Bodem_fysisch_textuur   \n",
       "2  Textuur - granulometrisch - klassen bodemkarte...  Bodem_fysisch_textuur   \n",
       "\n",
       "            waarde eenheid  ondergrens  bovengrens  \\\n",
       "0         A - Leem       -         NaN         NaN   \n",
       "1  Fractiemetingen       %         NaN         NaN   \n",
       "2         E - Klei       -         NaN         NaN   \n",
       "\n",
       "                                methode betrouwbaarheid veld_labo  diepte_van  \\\n",
       "0  Textuur manuele schatting (palpatie)            goed      labo        40.0   \n",
       "1    Textuur pipetmethode Robinson-Köhn            goed      labo        40.0   \n",
       "2    Textuur pipetmethode Robinson-Köhn            goed      labo        40.0   \n",
       "\n",
       "   diepte_tot observatiedatum invoerdatum  \n",
       "0        85.0      2015-08-27  2019-02-07  \n",
       "1        85.0      2015-09-08  2019-02-19  \n",
       "2        85.0      2015-08-27  2019-02-07  "
      ]
     },
     "execution_count": 16,
     "metadata": {},
     "output_type": "execute_result"
    }
   ],
   "source": [
    "from pydov.search.bodemmonster import BodemmonsterSearch\n",
    "bodemmonster = BodemmonsterSearch()\n",
    "\n",
    "bodemmonsters = bodemmonster.search(query=PropertyIsEqualTo(propertyname = 'identificatie', literal='A0057359'),\n",
    "                                   return_fields=('pkey_bodemmonster',))\n",
    "\n",
    "bodemobservaties = bodemobservatie.search(query=Join(bodemmonsters, on = 'pkey_parent', using='pkey_bodemmonster'))\n",
    "bodemobservaties.head()"
   ]
  },
  {
   "cell_type": "markdown",
   "metadata": {},
   "source": [
    "### Find all bodemlocaties observation for organic carbon percentage in East-Flanders between 0 and 30 cm deep"
   ]
  },
  {
   "cell_type": "markdown",
   "metadata": {},
   "source": [
    "Get boundaries of East-Flanders by using a WFS"
   ]
  },
  {
   "cell_type": "code",
   "execution_count": 17,
   "metadata": {},
   "outputs": [],
   "source": [
    "from owslib.etree import etree\n",
    "from owslib.wfs import WebFeatureService\n",
    "from pydov.util.location import (\n",
    "    GmlFilter,\n",
    "    Within,\n",
    ")\n",
    "\n",
    "provinciegrenzen = WebFeatureService(\n",
    "    'https://geoservices.informatievlaanderen.be/overdrachtdiensten/VRBG/wfs',\n",
    "    version='1.1.0')\n",
    "\n",
    "provincie_filter = PropertyIsEqualTo(propertyname='NAAM', literal='Oost-Vlaanderen')\n",
    "provincie_poly = provinciegrenzen.getfeature(\n",
    "    typename='VRBG:Refprv',\n",
    "    filter=etree.tostring(provincie_filter.toXML()).decode(\"utf8\")).read()"
   ]
  },
  {
   "cell_type": "markdown",
   "metadata": {},
   "source": [
    "Get bodemobservaties in East-Flanders with the requested properties"
   ]
  },
  {
   "cell_type": "code",
   "execution_count": 18,
   "metadata": {},
   "outputs": [
    {
     "name": "stdout",
     "output_type": "stream",
     "text": [
      "[000/066] cccccccccccccccccccccccccccccccccccccccccccccccccc\n",
      "[050/066] cccccccccccccccc\n"
     ]
    },
    {
     "data": {
      "text/html": [
       "<div>\n",
       "<style scoped>\n",
       "    .dataframe tbody tr th:only-of-type {\n",
       "        vertical-align: middle;\n",
       "    }\n",
       "\n",
       "    .dataframe tbody tr th {\n",
       "        vertical-align: top;\n",
       "    }\n",
       "\n",
       "    .dataframe thead th {\n",
       "        text-align: right;\n",
       "    }\n",
       "</style>\n",
       "<table border=\"1\" class=\"dataframe\">\n",
       "  <thead>\n",
       "    <tr style=\"text-align: right;\">\n",
       "      <th></th>\n",
       "      <th>pkey_bodemobservatie</th>\n",
       "      <th>pkey_bodemlocatie</th>\n",
       "      <th>Aan</th>\n",
       "      <th>pkey_parent</th>\n",
       "      <th>parameter</th>\n",
       "      <th>parametergroep</th>\n",
       "      <th>waarde</th>\n",
       "      <th>eenheid</th>\n",
       "      <th>ondergrens</th>\n",
       "      <th>bovengrens</th>\n",
       "      <th>methode</th>\n",
       "      <th>betrouwbaarheid</th>\n",
       "      <th>veld_labo</th>\n",
       "      <th>diepte_van</th>\n",
       "      <th>diepte_tot</th>\n",
       "      <th>observatiedatum</th>\n",
       "      <th>invoerdatum</th>\n",
       "    </tr>\n",
       "  </thead>\n",
       "  <tbody>\n",
       "    <tr>\n",
       "      <th>0</th>\n",
       "      <td>https://www.dov.vlaanderen.be/data/bodemobserv...</td>\n",
       "      <td>https://www.dov.vlaanderen.be/data/bodemlocati...</td>\n",
       "      <td>bodemmonster</td>\n",
       "      <td>https://www.dov.vlaanderen.be/data/bodemmonste...</td>\n",
       "      <td>Organische C - percentage</td>\n",
       "      <td>Bodem_chemisch</td>\n",
       "      <td>1.50812064965197</td>\n",
       "      <td>%</td>\n",
       "      <td>NaN</td>\n",
       "      <td>NaN</td>\n",
       "      <td>Aardewerk oude methode organische koolstof</td>\n",
       "      <td>onbekend</td>\n",
       "      <td>veld</td>\n",
       "      <td>0.0</td>\n",
       "      <td>30.0</td>\n",
       "      <td>1949-09-12</td>\n",
       "      <td>NaN</td>\n",
       "    </tr>\n",
       "    <tr>\n",
       "      <th>1</th>\n",
       "      <td>https://www.dov.vlaanderen.be/data/bodemobserv...</td>\n",
       "      <td>https://www.dov.vlaanderen.be/data/bodemlocati...</td>\n",
       "      <td>bodemmonster</td>\n",
       "      <td>https://www.dov.vlaanderen.be/data/bodemmonste...</td>\n",
       "      <td>Organische C - percentage</td>\n",
       "      <td>Bodem_chemisch</td>\n",
       "      <td>1.12142304717711</td>\n",
       "      <td>%</td>\n",
       "      <td>NaN</td>\n",
       "      <td>NaN</td>\n",
       "      <td>Aardewerk oude methode organische koolstof</td>\n",
       "      <td>onbekend</td>\n",
       "      <td>veld</td>\n",
       "      <td>0.0</td>\n",
       "      <td>30.0</td>\n",
       "      <td>1952-04-22</td>\n",
       "      <td>NaN</td>\n",
       "    </tr>\n",
       "    <tr>\n",
       "      <th>2</th>\n",
       "      <td>https://www.dov.vlaanderen.be/data/bodemobserv...</td>\n",
       "      <td>https://www.dov.vlaanderen.be/data/bodemlocati...</td>\n",
       "      <td>bodemmonster</td>\n",
       "      <td>https://www.dov.vlaanderen.be/data/bodemmonste...</td>\n",
       "      <td>Organische C - percentage</td>\n",
       "      <td>Bodem_chemisch</td>\n",
       "      <td>1.52358855375097</td>\n",
       "      <td>%</td>\n",
       "      <td>NaN</td>\n",
       "      <td>NaN</td>\n",
       "      <td>Aardewerk oude methode organische koolstof</td>\n",
       "      <td>onbekend</td>\n",
       "      <td>veld</td>\n",
       "      <td>0.0</td>\n",
       "      <td>30.0</td>\n",
       "      <td>1950-02-08</td>\n",
       "      <td>NaN</td>\n",
       "    </tr>\n",
       "    <tr>\n",
       "      <th>3</th>\n",
       "      <td>https://www.dov.vlaanderen.be/data/bodemobserv...</td>\n",
       "      <td>https://www.dov.vlaanderen.be/data/bodemlocati...</td>\n",
       "      <td>bodemmonster</td>\n",
       "      <td>https://www.dov.vlaanderen.be/data/bodemmonste...</td>\n",
       "      <td>Organische C - percentage</td>\n",
       "      <td>Bodem_chemisch</td>\n",
       "      <td>1.430781129157</td>\n",
       "      <td>%</td>\n",
       "      <td>NaN</td>\n",
       "      <td>NaN</td>\n",
       "      <td>Aardewerk oude methode organische koolstof</td>\n",
       "      <td>onbekend</td>\n",
       "      <td>veld</td>\n",
       "      <td>0.0</td>\n",
       "      <td>30.0</td>\n",
       "      <td>1953-07-07</td>\n",
       "      <td>NaN</td>\n",
       "    </tr>\n",
       "    <tr>\n",
       "      <th>4</th>\n",
       "      <td>https://www.dov.vlaanderen.be/data/bodemobserv...</td>\n",
       "      <td>https://www.dov.vlaanderen.be/data/bodemlocati...</td>\n",
       "      <td>bodemmonster</td>\n",
       "      <td>https://www.dov.vlaanderen.be/data/bodemmonste...</td>\n",
       "      <td>Organische C - percentage</td>\n",
       "      <td>Bodem_chemisch</td>\n",
       "      <td>0.935808197989172</td>\n",
       "      <td>%</td>\n",
       "      <td>NaN</td>\n",
       "      <td>NaN</td>\n",
       "      <td>Aardewerk oude methode organische koolstof</td>\n",
       "      <td>onbekend</td>\n",
       "      <td>veld</td>\n",
       "      <td>0.0</td>\n",
       "      <td>30.0</td>\n",
       "      <td>1950-01-01</td>\n",
       "      <td>NaN</td>\n",
       "    </tr>\n",
       "  </tbody>\n",
       "</table>\n",
       "</div>"
      ],
      "text/plain": [
       "                                pkey_bodemobservatie  \\\n",
       "0  https://www.dov.vlaanderen.be/data/bodemobserv...   \n",
       "1  https://www.dov.vlaanderen.be/data/bodemobserv...   \n",
       "2  https://www.dov.vlaanderen.be/data/bodemobserv...   \n",
       "3  https://www.dov.vlaanderen.be/data/bodemobserv...   \n",
       "4  https://www.dov.vlaanderen.be/data/bodemobserv...   \n",
       "\n",
       "                                   pkey_bodemlocatie           Aan  \\\n",
       "0  https://www.dov.vlaanderen.be/data/bodemlocati...  bodemmonster   \n",
       "1  https://www.dov.vlaanderen.be/data/bodemlocati...  bodemmonster   \n",
       "2  https://www.dov.vlaanderen.be/data/bodemlocati...  bodemmonster   \n",
       "3  https://www.dov.vlaanderen.be/data/bodemlocati...  bodemmonster   \n",
       "4  https://www.dov.vlaanderen.be/data/bodemlocati...  bodemmonster   \n",
       "\n",
       "                                         pkey_parent  \\\n",
       "0  https://www.dov.vlaanderen.be/data/bodemmonste...   \n",
       "1  https://www.dov.vlaanderen.be/data/bodemmonste...   \n",
       "2  https://www.dov.vlaanderen.be/data/bodemmonste...   \n",
       "3  https://www.dov.vlaanderen.be/data/bodemmonste...   \n",
       "4  https://www.dov.vlaanderen.be/data/bodemmonste...   \n",
       "\n",
       "                   parameter  parametergroep             waarde eenheid  \\\n",
       "0  Organische C - percentage  Bodem_chemisch   1.50812064965197       %   \n",
       "1  Organische C - percentage  Bodem_chemisch   1.12142304717711       %   \n",
       "2  Organische C - percentage  Bodem_chemisch   1.52358855375097       %   \n",
       "3  Organische C - percentage  Bodem_chemisch     1.430781129157       %   \n",
       "4  Organische C - percentage  Bodem_chemisch  0.935808197989172       %   \n",
       "\n",
       "   ondergrens  bovengrens                                     methode  \\\n",
       "0         NaN         NaN  Aardewerk oude methode organische koolstof   \n",
       "1         NaN         NaN  Aardewerk oude methode organische koolstof   \n",
       "2         NaN         NaN  Aardewerk oude methode organische koolstof   \n",
       "3         NaN         NaN  Aardewerk oude methode organische koolstof   \n",
       "4         NaN         NaN  Aardewerk oude methode organische koolstof   \n",
       "\n",
       "  betrouwbaarheid veld_labo  diepte_van  diepte_tot observatiedatum  \\\n",
       "0        onbekend      veld         0.0        30.0      1949-09-12   \n",
       "1        onbekend      veld         0.0        30.0      1952-04-22   \n",
       "2        onbekend      veld         0.0        30.0      1950-02-08   \n",
       "3        onbekend      veld         0.0        30.0      1953-07-07   \n",
       "4        onbekend      veld         0.0        30.0      1950-01-01   \n",
       "\n",
       "   invoerdatum  \n",
       "0          NaN  \n",
       "1          NaN  \n",
       "2          NaN  \n",
       "3          NaN  \n",
       "4          NaN  "
      ]
     },
     "execution_count": 18,
     "metadata": {},
     "output_type": "execute_result"
    }
   ],
   "source": [
    "from owslib.fes import PropertyIsEqualTo\n",
    "from owslib.fes import And\n",
    "\n",
    "from pydov.search.bodemobservatie import BodemobservatieSearch\n",
    "\n",
    "bodemobservatie = BodemobservatieSearch()\n",
    "\n",
    "# Select only layers with the boundaries 10-30\n",
    "bodemobservaties = bodemobservatie.search(\n",
    "        location=GmlFilter(provincie_poly, Within),\n",
    "        query=And([\n",
    "            PropertyIsEqualTo(propertyname=\"parameter\", literal=\"Organische C - percentage\"),\n",
    "            PropertyIsEqualTo(propertyname=\"diepte_tot\", literal = '30'),\n",
    "            PropertyIsEqualTo(propertyname=\"diepte_van\", literal = '0')\n",
    "        ]))\n",
    "\n",
    "\n",
    "bodemobservaties.head()"
   ]
  },
  {
   "cell_type": "markdown",
   "metadata": {},
   "source": [
    "Now we have all observations with the requested properties. \n",
    "Next we need to link them with the bodemlocatie"
   ]
  },
  {
   "cell_type": "code",
   "execution_count": 19,
   "metadata": {},
   "outputs": [
    {
     "name": "stdout",
     "output_type": "stream",
     "text": [
      "[000/066] cccccccccccccccccccccccccccccccccccccccccccccccccc\n",
      "[050/066] cccccccccccccccc\n"
     ]
    },
    {
     "data": {
      "text/html": [
       "<div>\n",
       "<style scoped>\n",
       "    .dataframe tbody tr th:only-of-type {\n",
       "        vertical-align: middle;\n",
       "    }\n",
       "\n",
       "    .dataframe tbody tr th {\n",
       "        vertical-align: top;\n",
       "    }\n",
       "\n",
       "    .dataframe thead th {\n",
       "        text-align: right;\n",
       "    }\n",
       "</style>\n",
       "<table border=\"1\" class=\"dataframe\">\n",
       "  <thead>\n",
       "    <tr style=\"text-align: right;\">\n",
       "      <th></th>\n",
       "      <th>pkey_bodemobservatie</th>\n",
       "      <th>pkey_bodemlocatie</th>\n",
       "      <th>Aan</th>\n",
       "      <th>pkey_parent</th>\n",
       "      <th>parameter</th>\n",
       "      <th>parametergroep</th>\n",
       "      <th>waarde</th>\n",
       "      <th>eenheid</th>\n",
       "      <th>ondergrens</th>\n",
       "      <th>bovengrens</th>\n",
       "      <th>...</th>\n",
       "      <th>datum</th>\n",
       "      <th>doel</th>\n",
       "      <th>x</th>\n",
       "      <th>y</th>\n",
       "      <th>z</th>\n",
       "      <th>erfgoed</th>\n",
       "      <th>bodemstreek</th>\n",
       "      <th>waarnemingsdatum</th>\n",
       "      <th>invoerdatum_y</th>\n",
       "      <th>educatieve_waarde</th>\n",
       "    </tr>\n",
       "  </thead>\n",
       "  <tbody>\n",
       "    <tr>\n",
       "      <th>0</th>\n",
       "      <td>https://www.dov.vlaanderen.be/data/bodemobserv...</td>\n",
       "      <td>https://www.dov.vlaanderen.be/data/bodemlocati...</td>\n",
       "      <td>bodemmonster</td>\n",
       "      <td>https://www.dov.vlaanderen.be/data/bodemmonste...</td>\n",
       "      <td>Organische C - percentage</td>\n",
       "      <td>Bodem_chemisch</td>\n",
       "      <td>1.50812064965197</td>\n",
       "      <td>%</td>\n",
       "      <td>NaN</td>\n",
       "      <td>NaN</td>\n",
       "      <td>...</td>\n",
       "      <td>1949-09-12</td>\n",
       "      <td>bodemprofielen en oppervlaktemonsters karterin...</td>\n",
       "      <td>141222.0</td>\n",
       "      <td>213316.0</td>\n",
       "      <td>4.0</td>\n",
       "      <td>False</td>\n",
       "      <td>Zandstreek</td>\n",
       "      <td>1949-09-12</td>\n",
       "      <td>2019-10-11</td>\n",
       "      <td>OK</td>\n",
       "    </tr>\n",
       "    <tr>\n",
       "      <th>1</th>\n",
       "      <td>https://www.dov.vlaanderen.be/data/bodemobserv...</td>\n",
       "      <td>https://www.dov.vlaanderen.be/data/bodemlocati...</td>\n",
       "      <td>bodemmonster</td>\n",
       "      <td>https://www.dov.vlaanderen.be/data/bodemmonste...</td>\n",
       "      <td>Organische C - percentage</td>\n",
       "      <td>Bodem_chemisch</td>\n",
       "      <td>1.12142304717711</td>\n",
       "      <td>%</td>\n",
       "      <td>NaN</td>\n",
       "      <td>NaN</td>\n",
       "      <td>...</td>\n",
       "      <td>1952-04-22</td>\n",
       "      <td>bodemprofielen en oppervlaktemonsters karterin...</td>\n",
       "      <td>132594.0</td>\n",
       "      <td>193978.0</td>\n",
       "      <td>3.0</td>\n",
       "      <td>False</td>\n",
       "      <td>Zandstreek</td>\n",
       "      <td>1952-04-22</td>\n",
       "      <td>2019-10-11</td>\n",
       "      <td>OK</td>\n",
       "    </tr>\n",
       "    <tr>\n",
       "      <th>2</th>\n",
       "      <td>https://www.dov.vlaanderen.be/data/bodemobserv...</td>\n",
       "      <td>https://www.dov.vlaanderen.be/data/bodemlocati...</td>\n",
       "      <td>bodemmonster</td>\n",
       "      <td>https://www.dov.vlaanderen.be/data/bodemmonste...</td>\n",
       "      <td>Organische C - percentage</td>\n",
       "      <td>Bodem_chemisch</td>\n",
       "      <td>1.52358855375097</td>\n",
       "      <td>%</td>\n",
       "      <td>NaN</td>\n",
       "      <td>NaN</td>\n",
       "      <td>...</td>\n",
       "      <td>1950-02-08</td>\n",
       "      <td>bodemprofielen en oppervlaktemonsters karterin...</td>\n",
       "      <td>138392.0</td>\n",
       "      <td>217983.0</td>\n",
       "      <td>2.0</td>\n",
       "      <td>False</td>\n",
       "      <td>Doel</td>\n",
       "      <td>1950-02-08</td>\n",
       "      <td>2019-10-11</td>\n",
       "      <td>OK</td>\n",
       "    </tr>\n",
       "    <tr>\n",
       "      <th>3</th>\n",
       "      <td>https://www.dov.vlaanderen.be/data/bodemobserv...</td>\n",
       "      <td>https://www.dov.vlaanderen.be/data/bodemlocati...</td>\n",
       "      <td>bodemmonster</td>\n",
       "      <td>https://www.dov.vlaanderen.be/data/bodemmonste...</td>\n",
       "      <td>Organische C - percentage</td>\n",
       "      <td>Bodem_chemisch</td>\n",
       "      <td>1.430781129157</td>\n",
       "      <td>%</td>\n",
       "      <td>NaN</td>\n",
       "      <td>NaN</td>\n",
       "      <td>...</td>\n",
       "      <td>1953-07-07</td>\n",
       "      <td>bodemprofielen en oppervlaktemonsters karterin...</td>\n",
       "      <td>102902.0</td>\n",
       "      <td>188823.0</td>\n",
       "      <td>8.0</td>\n",
       "      <td>False</td>\n",
       "      <td>Zandstreek</td>\n",
       "      <td>1953-07-07</td>\n",
       "      <td>2019-10-11</td>\n",
       "      <td>OK</td>\n",
       "    </tr>\n",
       "    <tr>\n",
       "      <th>4</th>\n",
       "      <td>https://www.dov.vlaanderen.be/data/bodemobserv...</td>\n",
       "      <td>https://www.dov.vlaanderen.be/data/bodemlocati...</td>\n",
       "      <td>bodemmonster</td>\n",
       "      <td>https://www.dov.vlaanderen.be/data/bodemmonste...</td>\n",
       "      <td>Organische C - percentage</td>\n",
       "      <td>Bodem_chemisch</td>\n",
       "      <td>0.935808197989172</td>\n",
       "      <td>%</td>\n",
       "      <td>NaN</td>\n",
       "      <td>NaN</td>\n",
       "      <td>...</td>\n",
       "      <td>1950-01-01</td>\n",
       "      <td>bodemprofielen en oppervlaktemonsters karterin...</td>\n",
       "      <td>134336.0</td>\n",
       "      <td>180915.0</td>\n",
       "      <td>40.0</td>\n",
       "      <td>False</td>\n",
       "      <td>Zandleemstreek</td>\n",
       "      <td>1950-01-01</td>\n",
       "      <td>2019-10-11</td>\n",
       "      <td>OK</td>\n",
       "    </tr>\n",
       "  </tbody>\n",
       "</table>\n",
       "<p>5 rows × 29 columns</p>\n",
       "</div>"
      ],
      "text/plain": [
       "                                pkey_bodemobservatie  \\\n",
       "0  https://www.dov.vlaanderen.be/data/bodemobserv...   \n",
       "1  https://www.dov.vlaanderen.be/data/bodemobserv...   \n",
       "2  https://www.dov.vlaanderen.be/data/bodemobserv...   \n",
       "3  https://www.dov.vlaanderen.be/data/bodemobserv...   \n",
       "4  https://www.dov.vlaanderen.be/data/bodemobserv...   \n",
       "\n",
       "                                   pkey_bodemlocatie           Aan  \\\n",
       "0  https://www.dov.vlaanderen.be/data/bodemlocati...  bodemmonster   \n",
       "1  https://www.dov.vlaanderen.be/data/bodemlocati...  bodemmonster   \n",
       "2  https://www.dov.vlaanderen.be/data/bodemlocati...  bodemmonster   \n",
       "3  https://www.dov.vlaanderen.be/data/bodemlocati...  bodemmonster   \n",
       "4  https://www.dov.vlaanderen.be/data/bodemlocati...  bodemmonster   \n",
       "\n",
       "                                         pkey_parent  \\\n",
       "0  https://www.dov.vlaanderen.be/data/bodemmonste...   \n",
       "1  https://www.dov.vlaanderen.be/data/bodemmonste...   \n",
       "2  https://www.dov.vlaanderen.be/data/bodemmonste...   \n",
       "3  https://www.dov.vlaanderen.be/data/bodemmonste...   \n",
       "4  https://www.dov.vlaanderen.be/data/bodemmonste...   \n",
       "\n",
       "                   parameter  parametergroep             waarde eenheid  \\\n",
       "0  Organische C - percentage  Bodem_chemisch   1.50812064965197       %   \n",
       "1  Organische C - percentage  Bodem_chemisch   1.12142304717711       %   \n",
       "2  Organische C - percentage  Bodem_chemisch   1.52358855375097       %   \n",
       "3  Organische C - percentage  Bodem_chemisch     1.430781129157       %   \n",
       "4  Organische C - percentage  Bodem_chemisch  0.935808197989172       %   \n",
       "\n",
       "   ondergrens  bovengrens  ...       datum  \\\n",
       "0         NaN         NaN  ...  1949-09-12   \n",
       "1         NaN         NaN  ...  1952-04-22   \n",
       "2         NaN         NaN  ...  1950-02-08   \n",
       "3         NaN         NaN  ...  1953-07-07   \n",
       "4         NaN         NaN  ...  1950-01-01   \n",
       "\n",
       "                                                doel         x         y  \\\n",
       "0  bodemprofielen en oppervlaktemonsters karterin...  141222.0  213316.0   \n",
       "1  bodemprofielen en oppervlaktemonsters karterin...  132594.0  193978.0   \n",
       "2  bodemprofielen en oppervlaktemonsters karterin...  138392.0  217983.0   \n",
       "3  bodemprofielen en oppervlaktemonsters karterin...  102902.0  188823.0   \n",
       "4  bodemprofielen en oppervlaktemonsters karterin...  134336.0  180915.0   \n",
       "\n",
       "      z erfgoed     bodemstreek waarnemingsdatum invoerdatum_y  \\\n",
       "0   4.0   False      Zandstreek       1949-09-12    2019-10-11   \n",
       "1   3.0   False      Zandstreek       1952-04-22    2019-10-11   \n",
       "2   2.0   False            Doel       1950-02-08    2019-10-11   \n",
       "3   8.0   False      Zandstreek       1953-07-07    2019-10-11   \n",
       "4  40.0   False  Zandleemstreek       1950-01-01    2019-10-11   \n",
       "\n",
       "  educatieve_waarde  \n",
       "0                OK  \n",
       "1                OK  \n",
       "2                OK  \n",
       "3                OK  \n",
       "4                OK  \n",
       "\n",
       "[5 rows x 29 columns]"
      ]
     },
     "execution_count": 19,
     "metadata": {},
     "output_type": "execute_result"
    }
   ],
   "source": [
    "from pydov.search.bodemlocatie import BodemlocatieSearch\n",
    "from pydov.util.query import Join\n",
    "import pandas as pd\n",
    "\n",
    "# Find bodemlocatie information for all observations\n",
    "bodemlocatie = BodemlocatieSearch()\n",
    "bodemlocaties = bodemlocatie.search(query=Join(bodemobservaties, on = 'pkey_bodemlocatie', using='pkey_bodemlocatie'))\n",
    "\n",
    "# Merge the bodemlocatie information together with the observation information\n",
    "merged = pd.merge(bodemobservaties, bodemlocaties, on=\"pkey_bodemlocatie\", how='left')\n",
    "\n",
    "merged.head()"
   ]
  },
  {
   "cell_type": "markdown",
   "metadata": {},
   "source": [
    "To export the results to CSV, you can use for example: \n",
    "```python\n",
    "merged.to_csv(\"test.csv\")\n",
    "```"
   ]
  },
  {
   "cell_type": "markdown",
   "metadata": {},
   "source": [
    "We can plot also the results on a map\n",
    "This can take some time!"
   ]
  },
  {
   "cell_type": "code",
   "execution_count": 20,
   "metadata": {
    "scrolled": true
   },
   "outputs": [
    {
     "data": {
      "text/html": [
       "<div style=\"width:100%;\"><div style=\"position:relative;width:100%;height:0;padding-bottom:60%;\"><iframe src=\"data:text/html;charset=utf-8;base64,PCFET0NUWVBFIGh0bWw+CjxoZWFkPiAgICAKICAgIDxtZXRhIGh0dHAtZXF1aXY9ImNvbnRlbnQtdHlwZSIgY29udGVudD0idGV4dC9odG1sOyBjaGFyc2V0PVVURi04IiAvPgogICAgCiAgICAgICAgPHNjcmlwdD4KICAgICAgICAgICAgTF9OT19UT1VDSCA9IGZhbHNlOwogICAgICAgICAgICBMX0RJU0FCTEVfM0QgPSBmYWxzZTsKICAgICAgICA8L3NjcmlwdD4KICAgIAogICAgPHNjcmlwdCBzcmM9Imh0dHBzOi8vY2RuLmpzZGVsaXZyLm5ldC9ucG0vbGVhZmxldEAxLjUuMS9kaXN0L2xlYWZsZXQuanMiPjwvc2NyaXB0PgogICAgPHNjcmlwdCBzcmM9Imh0dHBzOi8vY29kZS5qcXVlcnkuY29tL2pxdWVyeS0xLjEyLjQubWluLmpzIj48L3NjcmlwdD4KICAgIDxzY3JpcHQgc3JjPSJodHRwczovL21heGNkbi5ib290c3RyYXBjZG4uY29tL2Jvb3RzdHJhcC8zLjIuMC9qcy9ib290c3RyYXAubWluLmpzIj48L3NjcmlwdD4KICAgIDxzY3JpcHQgc3JjPSJodHRwczovL2NkbmpzLmNsb3VkZmxhcmUuY29tL2FqYXgvbGlicy9MZWFmbGV0LmF3ZXNvbWUtbWFya2Vycy8yLjAuMi9sZWFmbGV0LmF3ZXNvbWUtbWFya2Vycy5qcyI+PC9zY3JpcHQ+CiAgICA8bGluayByZWw9InN0eWxlc2hlZXQiIGhyZWY9Imh0dHBzOi8vY2RuLmpzZGVsaXZyLm5ldC9ucG0vbGVhZmxldEAxLjUuMS9kaXN0L2xlYWZsZXQuY3NzIi8+CiAgICA8bGluayByZWw9InN0eWxlc2hlZXQiIGhyZWY9Imh0dHBzOi8vbWF4Y2RuLmJvb3RzdHJhcGNkbi5jb20vYm9vdHN0cmFwLzMuMi4wL2Nzcy9ib290c3RyYXAubWluLmNzcyIvPgogICAgPGxpbmsgcmVsPSJzdHlsZXNoZWV0IiBocmVmPSJodHRwczovL21heGNkbi5ib290c3RyYXBjZG4uY29tL2Jvb3RzdHJhcC8zLjIuMC9jc3MvYm9vdHN0cmFwLXRoZW1lLm1pbi5jc3MiLz4KICAgIDxsaW5rIHJlbD0ic3R5bGVzaGVldCIgaHJlZj0iaHR0cHM6Ly9tYXhjZG4uYm9vdHN0cmFwY2RuLmNvbS9mb250LWF3ZXNvbWUvNC42LjMvY3NzL2ZvbnQtYXdlc29tZS5taW4uY3NzIi8+CiAgICA8bGluayByZWw9InN0eWxlc2hlZXQiIGhyZWY9Imh0dHBzOi8vY2RuanMuY2xvdWRmbGFyZS5jb20vYWpheC9saWJzL0xlYWZsZXQuYXdlc29tZS1tYXJrZXJzLzIuMC4yL2xlYWZsZXQuYXdlc29tZS1tYXJrZXJzLmNzcyIvPgogICAgPGxpbmsgcmVsPSJzdHlsZXNoZWV0IiBocmVmPSJodHRwczovL3Jhd2Nkbi5naXRoYWNrLmNvbS9weXRob24tdmlzdWFsaXphdGlvbi9mb2xpdW0vbWFzdGVyL2ZvbGl1bS90ZW1wbGF0ZXMvbGVhZmxldC5hd2Vzb21lLnJvdGF0ZS5jc3MiLz4KICAgIDxzdHlsZT5odG1sLCBib2R5IHt3aWR0aDogMTAwJTtoZWlnaHQ6IDEwMCU7bWFyZ2luOiAwO3BhZGRpbmc6IDA7fTwvc3R5bGU+CiAgICA8c3R5bGU+I21hcCB7cG9zaXRpb246YWJzb2x1dGU7dG9wOjA7Ym90dG9tOjA7cmlnaHQ6MDtsZWZ0OjA7fTwvc3R5bGU+CiAgICAKICAgICAgICAgICAgPG1ldGEgbmFtZT0idmlld3BvcnQiIGNvbnRlbnQ9IndpZHRoPWRldmljZS13aWR0aCwKICAgICAgICAgICAgICAgIGluaXRpYWwtc2NhbGU9MS4wLCBtYXhpbXVtLXNjYWxlPTEuMCwgdXNlci1zY2FsYWJsZT1ubyIgLz4KICAgICAgICAgICAgPHN0eWxlPgogICAgICAgICAgICAgICAgI21hcF80M2Y2ZDc0MjZhZmE0NzA0OWVmZTdjNzAzNDc2MDk1YiB7CiAgICAgICAgICAgICAgICAgICAgcG9zaXRpb246IHJlbGF0aXZlOwogICAgICAgICAgICAgICAgICAgIHdpZHRoOiAxMDAuMCU7CiAgICAgICAgICAgICAgICAgICAgaGVpZ2h0OiAxMDAuMCU7CiAgICAgICAgICAgICAgICAgICAgbGVmdDogMC4wJTsKICAgICAgICAgICAgICAgICAgICB0b3A6IDAuMCU7CiAgICAgICAgICAgICAgICB9CiAgICAgICAgICAgIDwvc3R5bGU+CiAgICAgICAgCiAgICA8c2NyaXB0IHNyYz0iaHR0cHM6Ly9jZG5qcy5jbG91ZGZsYXJlLmNvbS9hamF4L2xpYnMvbGVhZmxldC5tYXJrZXJjbHVzdGVyLzEuMS4wL2xlYWZsZXQubWFya2VyY2x1c3Rlci5qcyI+PC9zY3JpcHQ+CiAgICA8bGluayByZWw9InN0eWxlc2hlZXQiIGhyZWY9Imh0dHBzOi8vY2RuanMuY2xvdWRmbGFyZS5jb20vYWpheC9saWJzL2xlYWZsZXQubWFya2VyY2x1c3Rlci8xLjEuMC9NYXJrZXJDbHVzdGVyLmNzcyIvPgogICAgPGxpbmsgcmVsPSJzdHlsZXNoZWV0IiBocmVmPSJodHRwczovL2NkbmpzLmNsb3VkZmxhcmUuY29tL2FqYXgvbGlicy9sZWFmbGV0Lm1hcmtlcmNsdXN0ZXIvMS4xLjAvTWFya2VyQ2x1c3Rlci5EZWZhdWx0LmNzcyIvPgo8L2hlYWQ+Cjxib2R5PiAgICAKICAgIAogICAgICAgICAgICA8ZGl2IGNsYXNzPSJmb2xpdW0tbWFwIiBpZD0ibWFwXzQzZjZkNzQyNmFmYTQ3MDQ5ZWZlN2M3MDM0NzYwOTViIiA+PC9kaXY+CiAgICAgICAgCjwvYm9keT4KPHNjcmlwdD4gICAgCiAgICAKICAgICAgICAgICAgdmFyIG1hcF80M2Y2ZDc0MjZhZmE0NzA0OWVmZTdjNzAzNDc2MDk1YiA9IEwubWFwKAogICAgICAgICAgICAgICAgIm1hcF80M2Y2ZDc0MjZhZmE0NzA0OWVmZTdjNzAzNDc2MDk1YiIsCiAgICAgICAgICAgICAgICB7CiAgICAgICAgICAgICAgICAgICAgY2VudGVyOiBbNTEuMDgyOTEzOTU3NjU4MTgsIDMuOTQ2ODMzMzgxNjU3NzU2M10sCiAgICAgICAgICAgICAgICAgICAgY3JzOiBMLkNSUy5FUFNHMzg1NywKICAgICAgICAgICAgICAgICAgICB6b29tOiAxMCwKICAgICAgICAgICAgICAgICAgICB6b29tQ29udHJvbDogdHJ1ZSwKICAgICAgICAgICAgICAgICAgICBwcmVmZXJDYW52YXM6IGZhbHNlLAogICAgICAgICAgICAgICAgfQogICAgICAgICAgICApOwoKICAgICAgICAgICAgCgogICAgICAgIAogICAgCiAgICAgICAgICAgIHZhciB0aWxlX2xheWVyXzgwMTdmNzAwZGM3YTRiODg4ODIwMjRjYzU1NGJlZjU0ID0gTC50aWxlTGF5ZXIoCiAgICAgICAgICAgICAgICAiaHR0cHM6Ly97c30udGlsZS5vcGVuc3RyZWV0bWFwLm9yZy97en0ve3h9L3t5fS5wbmciLAogICAgICAgICAgICAgICAgeyJhdHRyaWJ1dGlvbiI6ICJEYXRhIGJ5IFx1MDAyNmNvcHk7IFx1MDAzY2EgaHJlZj1cImh0dHA6Ly9vcGVuc3RyZWV0bWFwLm9yZ1wiXHUwMDNlT3BlblN0cmVldE1hcFx1MDAzYy9hXHUwMDNlLCB1bmRlciBcdTAwM2NhIGhyZWY9XCJodHRwOi8vd3d3Lm9wZW5zdHJlZXRtYXAub3JnL2NvcHlyaWdodFwiXHUwMDNlT0RiTFx1MDAzYy9hXHUwMDNlLiIsICJkZXRlY3RSZXRpbmEiOiBmYWxzZSwgIm1heE5hdGl2ZVpvb20iOiAxOCwgIm1heFpvb20iOiAxOCwgIm1pblpvb20iOiAwLCAibm9XcmFwIjogZmFsc2UsICJvcGFjaXR5IjogMSwgInN1YmRvbWFpbnMiOiAiYWJjIiwgInRtcyI6IGZhbHNlfQogICAgICAgICAgICApLmFkZFRvKG1hcF80M2Y2ZDc0MjZhZmE0NzA0OWVmZTdjNzAzNDc2MDk1Yik7CiAgICAgICAgCiAgICAKICAgICAgICAgICAgdmFyIG1hcmtlcl9jbHVzdGVyX2FlM2ZhY2RjZjZmNzRlYmE4NGU5N2QzYTkwMDE4Y2Y1ID0gTC5tYXJrZXJDbHVzdGVyR3JvdXAoCiAgICAgICAgICAgICAgICB7fQogICAgICAgICAgICApOwogICAgICAgICAgICBtYXBfNDNmNmQ3NDI2YWZhNDcwNDllZmU3YzcwMzQ3NjA5NWIuYWRkTGF5ZXIobWFya2VyX2NsdXN0ZXJfYWUzZmFjZGNmNmY3NGViYTg0ZTk3ZDNhOTAwMThjZjUpOwogICAgICAgIAogICAgCiAgICAgICAgICAgIHZhciBtYXJrZXJfNjEyNDFkODNlNjA5NDdkM2I2OThlMmNmZmMxN2NlYTAgPSBMLm1hcmtlcigKICAgICAgICAgICAgICAgIFs1MS4yMjk3MTIxMzQ2NjAyLCA0LjI0MzA5MTYyNjQ2MDU2OF0sCiAgICAgICAgICAgICAgICB7fQogICAgICAgICAgICApLmFkZFRvKG1hcmtlcl9jbHVzdGVyX2FlM2ZhY2RjZjZmNzRlYmE4NGU5N2QzYTkwMDE4Y2Y1KTsKICAgICAgICAKICAgIAogICAgICAgIHZhciBwb3B1cF83MGYzMGMzYTRmYTI0YTMzOGQxYjBlODdlNWU2ZGNkYiA9IEwucG9wdXAoeyJtYXhXaWR0aCI6ICIxMDAlIn0pOwoKICAgICAgICAKICAgICAgICAgICAgdmFyIGh0bWxfY2VkMDU2NWI3ODEyNDhjYzlhMWRkNGVlMjQwNGVjYzEgPSAkKGA8ZGl2IGlkPSJodG1sX2NlZDA1NjViNzgxMjQ4Y2M5YTFkZDRlZTI0MDRlY2MxIiBzdHlsZT0id2lkdGg6IDEwMC4wJTsgaGVpZ2h0OiAxMDAuMCU7Ij5Cb2RlbWxvY2F0aWU6IGh0dHBzOi8vd3d3LmRvdi52bGFhbmRlcmVuLmJlL2RhdGEvYm9kZW1sb2NhdGllLzE5NDktMDAxMzI3PGJyPiBCb2RlbW9ic2VydmF0aWU6IGh0dHBzOi8vd3d3LmRvdi52bGFhbmRlcmVuLmJlL2RhdGEvYm9kZW1vYnNlcnZhdGllLzIwMTktMTQzMzMxPGJyPiBWYWx1ZTogMS41MDgxMjA2NDk2NTE5NyU8L2Rpdj5gKVswXTsKICAgICAgICAgICAgcG9wdXBfNzBmMzBjM2E0ZmEyNGEzMzhkMWIwZTg3ZTVlNmRjZGIuc2V0Q29udGVudChodG1sX2NlZDA1NjViNzgxMjQ4Y2M5YTFkZDRlZTI0MDRlY2MxKTsKICAgICAgICAKCiAgICAgICAgbWFya2VyXzYxMjQxZDgzZTYwOTQ3ZDNiNjk4ZTJjZmZjMTdjZWEwLmJpbmRQb3B1cChwb3B1cF83MGYzMGMzYTRmYTI0YTMzOGQxYjBlODdlNWU2ZGNkYikKICAgICAgICA7CgogICAgICAgIAogICAgCiAgICAKICAgICAgICAgICAgdmFyIG1hcmtlcl9hYTkwNDZjN2NmOWI0NmMyOWRmYmFhZWE4M2ZhNDZhZSA9IEwubWFya2VyKAogICAgICAgICAgICAgICAgWzUxLjA1NTY5NTQ4Mjc3NjQ4LCA0LjEyMDQ5NzAwODY3MzU5M10sCiAgICAgICAgICAgICAgICB7fQogICAgICAgICAgICApLmFkZFRvKG1hcmtlcl9jbHVzdGVyX2FlM2ZhY2RjZjZmNzRlYmE4NGU5N2QzYTkwMDE4Y2Y1KTsKICAgICAgICAKICAgIAogICAgICAgIHZhciBwb3B1cF81OTdhMWZhZDdkNGY0YmJlOTEzOTA5YzEwNGJmMzA0MyA9IEwucG9wdXAoeyJtYXhXaWR0aCI6ICIxMDAlIn0pOwoKICAgICAgICAKICAgICAgICAgICAgdmFyIGh0bWxfMzgyZGM3YmFjNDhmNGJiOGFmZTNiYjNkYmFkZWI1OGIgPSAkKGA8ZGl2IGlkPSJodG1sXzM4MmRjN2JhYzQ4ZjRiYjhhZmUzYmIzZGJhZGViNThiIiBzdHlsZT0id2lkdGg6IDEwMC4wJTsgaGVpZ2h0OiAxMDAuMCU7Ij5Cb2RlbWxvY2F0aWU6IGh0dHBzOi8vd3d3LmRvdi52bGFhbmRlcmVuLmJlL2RhdGEvYm9kZW1sb2NhdGllLzE5NTItMDAxNTA2PGJyPiBCb2RlbW9ic2VydmF0aWU6IGh0dHBzOi8vd3d3LmRvdi52bGFhbmRlcmVuLmJlL2RhdGEvYm9kZW1vYnNlcnZhdGllLzIwMTktMTY1NDU0PGJyPiBWYWx1ZTogMS4xMjE0MjMwNDcxNzcxMSU8L2Rpdj5gKVswXTsKICAgICAgICAgICAgcG9wdXBfNTk3YTFmYWQ3ZDRmNGJiZTkxMzkwOWMxMDRiZjMwNDMuc2V0Q29udGVudChodG1sXzM4MmRjN2JhYzQ4ZjRiYjhhZmUzYmIzZGJhZGViNThiKTsKICAgICAgICAKCiAgICAgICAgbWFya2VyX2FhOTA0NmM3Y2Y5YjQ2YzI5ZGZiYWFlYTgzZmE0NmFlLmJpbmRQb3B1cChwb3B1cF81OTdhMWZhZDdkNGY0YmJlOTEzOTA5YzEwNGJmMzA0MykKICAgICAgICA7CgogICAgICAgIAogICAgCiAgICAKICAgICAgICAgICAgdmFyIG1hcmtlcl82ZWZjNTJlNWQ5Mzg0YzI3YjlmZDc3OTc5ZTMzMGQzZiA9IEwubWFya2VyKAogICAgICAgICAgICAgICAgWzUxLjI3MTYxMDU4NzMwMzgxLCA0LjIwMjQyODQxNjM5NTg2OF0sCiAgICAgICAgICAgICAgICB7fQogICAgICAgICAgICApLmFkZFRvKG1hcmtlcl9jbHVzdGVyX2FlM2ZhY2RjZjZmNzRlYmE4NGU5N2QzYTkwMDE4Y2Y1KTsKICAgICAgICAKICAgIAogICAgICAgIHZhciBwb3B1cF83ZjhmOTUxZGIzZDU0ZDMyODg1Mjk5ZWExMDM1N2EzNyA9IEwucG9wdXAoeyJtYXhXaWR0aCI6ICIxMDAlIn0pOwoKICAgICAgICAKICAgICAgICAgICAgdmFyIGh0bWxfYTBjZDNiNjM2Y2VjNDNlOTg4YzE4OTFiMzYyMWIyZmIgPSAkKGA8ZGl2IGlkPSJodG1sX2EwY2QzYjYzNmNlYzQzZTk4OGMxODkxYjM2MjFiMmZiIiBzdHlsZT0id2lkdGg6IDEwMC4wJTsgaGVpZ2h0OiAxMDAuMCU7Ij5Cb2RlbWxvY2F0aWU6IGh0dHBzOi8vd3d3LmRvdi52bGFhbmRlcmVuLmJlL2RhdGEvYm9kZW1sb2NhdGllLzE5NTAtMDAxNjE2PGJyPiBCb2RlbW9ic2VydmF0aWU6IGh0dHBzOi8vd3d3LmRvdi52bGFhbmRlcmVuLmJlL2RhdGEvYm9kZW1vYnNlcnZhdGllLzIwMTktMTc3NzU1PGJyPiBWYWx1ZTogMS41MjM1ODg1NTM3NTA5NyU8L2Rpdj5gKVswXTsKICAgICAgICAgICAgcG9wdXBfN2Y4Zjk1MWRiM2Q1NGQzMjg4NTI5OWVhMTAzNTdhMzcuc2V0Q29udGVudChodG1sX2EwY2QzYjYzNmNlYzQzZTk4OGMxODkxYjM2MjFiMmZiKTsKICAgICAgICAKCiAgICAgICAgbWFya2VyXzZlZmM1MmU1ZDkzODRjMjdiOWZkNzc5NzllMzMwZDNmLmJpbmRQb3B1cChwb3B1cF83ZjhmOTUxZGIzZDU0ZDMyODg1Mjk5ZWExMDM1N2EzNykKICAgICAgICA7CgogICAgICAgIAogICAgCiAgICAKICAgICAgICAgICAgdmFyIG1hcmtlcl9iNjM3YmI0ZmY3YjE0MTVhOWI3NjVmZTJmZWEwMjgyYyA9IEwubWFya2VyKAogICAgICAgICAgICAgICAgWzUxLjAwNzcwNzk3NjQxNDc1LCAzLjY5NzY4NjE1MDk0MTEwMl0sCiAgICAgICAgICAgICAgICB7fQogICAgICAgICAgICApLmFkZFRvKG1hcmtlcl9jbHVzdGVyX2FlM2ZhY2RjZjZmNzRlYmE4NGU5N2QzYTkwMDE4Y2Y1KTsKICAgICAgICAKICAgIAogICAgICAgIHZhciBwb3B1cF9iMjE0YjA4Y2M2MGI0YmM0YTc0NGE4ODAxNjQ4YzI4OSA9IEwucG9wdXAoeyJtYXhXaWR0aCI6ICIxMDAlIn0pOwoKICAgICAgICAKICAgICAgICAgICAgdmFyIGh0bWxfMzM1ZmVjYTkyMTgyNGY2ODgzYzFlMzA1N2FjODE3NmEgPSAkKGA8ZGl2IGlkPSJodG1sXzMzNWZlY2E5MjE4MjRmNjg4M2MxZTMwNTdhYzgxNzZhIiBzdHlsZT0id2lkdGg6IDEwMC4wJTsgaGVpZ2h0OiAxMDAuMCU7Ij5Cb2RlbWxvY2F0aWU6IGh0dHBzOi8vd3d3LmRvdi52bGFhbmRlcmVuLmJlL2RhdGEvYm9kZW1sb2NhdGllLzE5NTMtMDAxNzkwPGJyPiBCb2RlbW9ic2VydmF0aWU6IGh0dHBzOi8vd3d3LmRvdi52bGFhbmRlcmVuLmJlL2RhdGEvYm9kZW1vYnNlcnZhdGllLzIwMTktMjAwNTQ4PGJyPiBWYWx1ZTogMS40MzA3ODExMjkxNTclPC9kaXY+YClbMF07CiAgICAgICAgICAgIHBvcHVwX2IyMTRiMDhjYzYwYjRiYzRhNzQ0YTg4MDE2NDhjMjg5LnNldENvbnRlbnQoaHRtbF8zMzVmZWNhOTIxODI0ZjY4ODNjMWUzMDU3YWM4MTc2YSk7CiAgICAgICAgCgogICAgICAgIG1hcmtlcl9iNjM3YmI0ZmY3YjE0MTVhOWI3NjVmZTJmZWEwMjgyYy5iaW5kUG9wdXAocG9wdXBfYjIxNGIwOGNjNjBiNGJjNGE3NDRhODgwMTY0OGMyODkpCiAgICAgICAgOwoKICAgICAgICAKICAgIAogICAgCiAgICAgICAgICAgIHZhciBtYXJrZXJfYzAwNjVkNTliODRlNGI1MzgzNDgzZGFlMDU2YjE1MjkgPSBMLm1hcmtlcigKICAgICAgICAgICAgICAgIFs1MC45MzgzMjA4OTU3NDgyOCwgNC4xNDU5MDAxMjY3Nzk3NzNdLAogICAgICAgICAgICAgICAge30KICAgICAgICAgICAgKS5hZGRUbyhtYXJrZXJfY2x1c3Rlcl9hZTNmYWNkY2Y2Zjc0ZWJhODRlOTdkM2E5MDAxOGNmNSk7CiAgICAgICAgCiAgICAKICAgICAgICB2YXIgcG9wdXBfYjc5YzVkMjBjYjViNDVhNmJmZjAyNWUxMzgzNzIwYzcgPSBMLnBvcHVwKHsibWF4V2lkdGgiOiAiMTAwJSJ9KTsKCiAgICAgICAgCiAgICAgICAgICAgIHZhciBodG1sX2ViODBlY2I0MDJkODRlOGU5MDM0YTBkYWQxY2I4ODA2ID0gJChgPGRpdiBpZD0iaHRtbF9lYjgwZWNiNDAyZDg0ZThlOTAzNGEwZGFkMWNiODgwNiIgc3R5bGU9IndpZHRoOiAxMDAuMCU7IGhlaWdodDogMTAwLjAlOyI+Qm9kZW1sb2NhdGllOiBodHRwczovL3d3dy5kb3YudmxhYW5kZXJlbi5iZS9kYXRhL2JvZGVtbG9jYXRpZS8xOTUwLTAwMjAyMzxicj4gQm9kZW1vYnNlcnZhdGllOiBodHRwczovL3d3dy5kb3YudmxhYW5kZXJlbi5iZS9kYXRhL2JvZGVtb2JzZXJ2YXRpZS8yMDE5LTIzMDYxMzxicj4gVmFsdWU6IDAuOTM1ODA4MTk3OTg5MTcyJTwvZGl2PmApWzBdOwogICAgICAgICAgICBwb3B1cF9iNzljNWQyMGNiNWI0NWE2YmZmMDI1ZTEzODM3MjBjNy5zZXRDb250ZW50KGh0bWxfZWI4MGVjYjQwMmQ4NGU4ZTkwMzRhMGRhZDFjYjg4MDYpOwogICAgICAgIAoKICAgICAgICBtYXJrZXJfYzAwNjVkNTliODRlNGI1MzgzNDgzZGFlMDU2YjE1MjkuYmluZFBvcHVwKHBvcHVwX2I3OWM1ZDIwY2I1YjQ1YTZiZmYwMjVlMTM4MzcyMGM3KQogICAgICAgIDsKCiAgICAgICAgCiAgICAKICAgIAogICAgICAgICAgICB2YXIgbWFya2VyXzdjN2JlNWVkOWU3OTRkYjg4NTNkNDEzNTA4NjlkOWY5ID0gTC5tYXJrZXIoCiAgICAgICAgICAgICAgICBbNTEuMDE4NzUyMTA1MTY2MTQsIDMuNzk3NTc3MTAzNzkxODg2Nl0sCiAgICAgICAgICAgICAgICB7fQogICAgICAgICAgICApLmFkZFRvKG1hcmtlcl9jbHVzdGVyX2FlM2ZhY2RjZjZmNzRlYmE4NGU5N2QzYTkwMDE4Y2Y1KTsKICAgICAgICAKICAgIAogICAgICAgIHZhciBwb3B1cF9lZTZhYTVmNDM2NmM0NTU3OTQ1NmNlNzk3ODQwYjBkNyA9IEwucG9wdXAoeyJtYXhXaWR0aCI6ICIxMDAlIn0pOwoKICAgICAgICAKICAgICAgICAgICAgdmFyIGh0bWxfNmZlYjE1YWQyMzUzNDJkNzg4NTU5NWYxMWJmYmRmYzkgPSAkKGA8ZGl2IGlkPSJodG1sXzZmZWIxNWFkMjM1MzQyZDc4ODU1OTVmMTFiZmJkZmM5IiBzdHlsZT0id2lkdGg6IDEwMC4wJTsgaGVpZ2h0OiAxMDAuMCU7Ij5Cb2RlbWxvY2F0aWU6IGh0dHBzOi8vd3d3LmRvdi52bGFhbmRlcmVuLmJlL2RhdGEvYm9kZW1sb2NhdGllLzE5NDktMDA1MDc0PGJyPiBCb2RlbW9ic2VydmF0aWU6IGh0dHBzOi8vd3d3LmRvdi52bGFhbmRlcmVuLmJlL2RhdGEvYm9kZW1vYnNlcnZhdGllLzIwMTktNjE0ODE1PGJyPiBWYWx1ZTogMC43MjY5OTE0OTI2NTI3NDUlPC9kaXY+YClbMF07CiAgICAgICAgICAgIHBvcHVwX2VlNmFhNWY0MzY2YzQ1NTc5NDU2Y2U3OTc4NDBiMGQ3LnNldENvbnRlbnQoaHRtbF82ZmViMTVhZDIzNTM0MmQ3ODg1NTk1ZjExYmZiZGZjOSk7CiAgICAgICAgCgogICAgICAgIG1hcmtlcl83YzdiZTVlZDllNzk0ZGI4ODUzZDQxMzUwODY5ZDlmOS5iaW5kUG9wdXAocG9wdXBfZWU2YWE1ZjQzNjZjNDU1Nzk0NTZjZTc5Nzg0MGIwZDcpCiAgICAgICAgOwoKICAgICAgICAKICAgIAogICAgCiAgICAgICAgICAgIHZhciBtYXJrZXJfYzQyNWY5NmI1NDAyNDY0ZWFjYjU2YTcwZmQyZjgyYmMgPSBMLm1hcmtlcigKICAgICAgICAgICAgICAgIFs1MS4wMDUwNzAwODAxNzgyMzYsIDMuOTE3NzIzNDIzNTA1ODczXSwKICAgICAgICAgICAgICAgIHt9CiAgICAgICAgICAgICkuYWRkVG8obWFya2VyX2NsdXN0ZXJfYWUzZmFjZGNmNmY3NGViYTg0ZTk3ZDNhOTAwMThjZjUpOwogICAgICAgIAogICAgCiAgICAgICAgdmFyIHBvcHVwXzRhN2RlMGIwOWM3ODQwNzg5NGE1NGE1YmMxNDkzYTM5ID0gTC5wb3B1cCh7Im1heFdpZHRoIjogIjEwMCUifSk7CgogICAgICAgIAogICAgICAgICAgICB2YXIgaHRtbF8zMWJmM2M0YWJjNzc0MjhmOGViNjFjMjk0NmRhM2QzZCA9ICQoYDxkaXYgaWQ9Imh0bWxfMzFiZjNjNGFiYzc3NDI4ZjhlYjYxYzI5NDZkYTNkM2QiIHN0eWxlPSJ3aWR0aDogMTAwLjAlOyBoZWlnaHQ6IDEwMC4wJTsiPkJvZGVtbG9jYXRpZTogaHR0cHM6Ly93d3cuZG92LnZsYWFuZGVyZW4uYmUvZGF0YS9ib2RlbWxvY2F0aWUvMTk1MS0wMDc1ODM8YnI+IEJvZGVtb2JzZXJ2YXRpZTogaHR0cHM6Ly93d3cuZG92LnZsYWFuZGVyZW4uYmUvZGF0YS9ib2RlbW9ic2VydmF0aWUvMjAxOS05MzQ0NTg8YnI+IFZhbHVlOiAxLjIwNjQ5NjUxOTcyMTU4JTwvZGl2PmApWzBdOwogICAgICAgICAgICBwb3B1cF80YTdkZTBiMDljNzg0MDc4OTRhNTRhNWJjMTQ5M2EzOS5zZXRDb250ZW50KGh0bWxfMzFiZjNjNGFiYzc3NDI4ZjhlYjYxYzI5NDZkYTNkM2QpOwogICAgICAgIAoKICAgICAgICBtYXJrZXJfYzQyNWY5NmI1NDAyNDY0ZWFjYjU2YTcwZmQyZjgyYmMuYmluZFBvcHVwKHBvcHVwXzRhN2RlMGIwOWM3ODQwNzg5NGE1NGE1YmMxNDkzYTM5KQogICAgICAgIDsKCiAgICAgICAgCiAgICAKICAgIAogICAgICAgICAgICB2YXIgbWFya2VyXzY3YzdjMWIyNTFkYTQyZDBhZjY2NzA2YTliOWFhMjc2ID0gTC5tYXJrZXIoCiAgICAgICAgICAgICAgICBbNTEuMTI5NTUyNDA4MDM1NDgsIDQuMTgxNTE4Mzg5ODExOTAyXSwKICAgICAgICAgICAgICAgIHt9CiAgICAgICAgICAgICkuYWRkVG8obWFya2VyX2NsdXN0ZXJfYWUzZmFjZGNmNmY3NGViYTg0ZTk3ZDNhOTAwMThjZjUpOwogICAgICAgIAogICAgCiAgICAgICAgdmFyIHBvcHVwX2FkYzZkOGMxMTdhMTQ1ZDhiODFmMzU1N2NjMDg5ZTA4ID0gTC5wb3B1cCh7Im1heFdpZHRoIjogIjEwMCUifSk7CgogICAgICAgIAogICAgICAgICAgICB2YXIgaHRtbF81MzQ4M2EyMWM0NTM0MDQ5YjBhZDJmODUxMDU0MWNlMyA9ICQoYDxkaXYgaWQ9Imh0bWxfNTM0ODNhMjFjNDUzNDA0OWIwYWQyZjg1MTA1NDFjZTMiIHN0eWxlPSJ3aWR0aDogMTAwLjAlOyBoZWlnaHQ6IDEwMC4wJTsiPkJvZGVtbG9jYXRpZTogaHR0cHM6Ly93d3cuZG92LnZsYWFuZGVyZW4uYmUvZGF0YS9ib2RlbWxvY2F0aWUvMTk1MS0wMDE2Nzg8YnI+IEJvZGVtb2JzZXJ2YXRpZTogaHR0cHM6Ly93d3cuZG92LnZsYWFuZGVyZW4uYmUvZGF0YS9ib2RlbW9ic2VydmF0aWUvMjAxOS0xODU1MDM8YnI+IFZhbHVlOiAwLjg4OTQwNDQ4NTY5MjE4OSU8L2Rpdj5gKVswXTsKICAgICAgICAgICAgcG9wdXBfYWRjNmQ4YzExN2ExNDVkOGI4MWYzNTU3Y2MwODllMDguc2V0Q29udGVudChodG1sXzUzNDgzYTIxYzQ1MzQwNDliMGFkMmY4NTEwNTQxY2UzKTsKICAgICAgICAKCiAgICAgICAgbWFya2VyXzY3YzdjMWIyNTFkYTQyZDBhZjY2NzA2YTliOWFhMjc2LmJpbmRQb3B1cChwb3B1cF9hZGM2ZDhjMTE3YTE0NWQ4YjgxZjM1NTdjYzA4OWUwOCkKICAgICAgICA7CgogICAgICAgIAogICAgCiAgICAKICAgICAgICAgICAgdmFyIG1hcmtlcl80OWU3M2ZlNDk1Yjc0ZThmYWI4NDM5NDA0ODZlNjIyMyA9IEwubWFya2VyKAogICAgICAgICAgICAgICAgWzUxLjI2NDc3Njg3OTc5MTY5LCA0LjI3MzY0MjUyODMxMTQxM10sCiAgICAgICAgICAgICAgICB7fQogICAgICAgICAgICApLmFkZFRvKG1hcmtlcl9jbHVzdGVyX2FlM2ZhY2RjZjZmNzRlYmE4NGU5N2QzYTkwMDE4Y2Y1KTsKICAgICAgICAKICAgIAogICAgICAgIHZhciBwb3B1cF9mNjVjZDJhZmY2N2Y0N2NjYWNhZTA4M2IzNGIzZDA1NSA9IEwucG9wdXAoeyJtYXhXaWR0aCI6ICIxMDAlIn0pOwoKICAgICAgICAKICAgICAgICAgICAgdmFyIGh0bWxfYjZjZjg5NGI5YjA1NGRjOGJmNzJmZDY5Y2I0ODcwNzEgPSAkKGA8ZGl2IGlkPSJodG1sX2I2Y2Y4OTRiOWIwNTRkYzhiZjcyZmQ2OWNiNDg3MDcxIiBzdHlsZT0id2lkdGg6IDEwMC4wJTsgaGVpZ2h0OiAxMDAuMCU7Ij5Cb2RlbWxvY2F0aWU6IGh0dHBzOi8vd3d3LmRvdi52bGFhbmRlcmVuLmJlL2RhdGEvYm9kZW1sb2NhdGllLzE5NDktMDA1MzE1PGJyPiBCb2RlbW9ic2VydmF0aWU6IGh0dHBzOi8vd3d3LmRvdi52bGFhbmRlcmVuLmJlL2RhdGEvYm9kZW1vYnNlcnZhdGllLzIwMTktNjQ0ODk3PGJyPiBWYWx1ZTogMS40NjE3MTY5MzczNTQ5OSU8L2Rpdj5gKVswXTsKICAgICAgICAgICAgcG9wdXBfZjY1Y2QyYWZmNjdmNDdjY2FjYWUwODNiMzRiM2QwNTUuc2V0Q29udGVudChodG1sX2I2Y2Y4OTRiOWIwNTRkYzhiZjcyZmQ2OWNiNDg3MDcxKTsKICAgICAgICAKCiAgICAgICAgbWFya2VyXzQ5ZTczZmU0OTViNzRlOGZhYjg0Mzk0MDQ4NmU2MjIzLmJpbmRQb3B1cChwb3B1cF9mNjVjZDJhZmY2N2Y0N2NjYWNhZTA4M2IzNGIzZDA1NSkKICAgICAgICA7CgogICAgICAgIAogICAgCiAgICAKICAgICAgICAgICAgdmFyIG1hcmtlcl9hZTFlMzI3NTFmMDM0ZWU5YTEyOTA2YmQwNWVjOTJmMyA9IEwubWFya2VyKAogICAgICAgICAgICAgICAgWzUxLjI3NDM4MjIxOTQ0Njc5LCAzLjUzMzIxNzQ2MzI0ODA1NzNdLAogICAgICAgICAgICAgICAge30KICAgICAgICAgICAgKS5hZGRUbyhtYXJrZXJfY2x1c3Rlcl9hZTNmYWNkY2Y2Zjc0ZWJhODRlOTdkM2E5MDAxOGNmNSk7CiAgICAgICAgCiAgICAKICAgICAgICB2YXIgcG9wdXBfNjUxZDZhOGI4ZmZiNDcwNjgwZGZkYzA0MWNiMmM4NGQgPSBMLnBvcHVwKHsibWF4V2lkdGgiOiAiMTAwJSJ9KTsKCiAgICAgICAgCiAgICAgICAgICAgIHZhciBodG1sXzE1YzM1N2RiZWNmODQ2OWQ5NWM0OTkyYWIyNjlmNTJhID0gJChgPGRpdiBpZD0iaHRtbF8xNWMzNTdkYmVjZjg0NjlkOTVjNDk5MmFiMjY5ZjUyYSIgc3R5bGU9IndpZHRoOiAxMDAuMCU7IGhlaWdodDogMTAwLjAlOyI+Qm9kZW1sb2NhdGllOiBodHRwczovL3d3dy5kb3YudmxhYW5kZXJlbi5iZS9kYXRhL2JvZGVtbG9jYXRpZS8xOTYyLTAwNTYxMzxicj4gQm9kZW1vYnNlcnZhdGllOiBodHRwczovL3d3dy5kb3YudmxhYW5kZXJlbi5iZS9kYXRhL2JvZGVtb2JzZXJ2YXRpZS8yMDE5LTY4NDEyMjxicj4gVmFsdWU6IDEuMzE1JTwvZGl2PmApWzBdOwogICAgICAgICAgICBwb3B1cF82NTFkNmE4YjhmZmI0NzA2ODBkZmRjMDQxY2IyYzg0ZC5zZXRDb250ZW50KGh0bWxfMTVjMzU3ZGJlY2Y4NDY5ZDk1YzQ5OTJhYjI2OWY1MmEpOwogICAgICAgIAoKICAgICAgICBtYXJrZXJfYWUxZTMyNzUxZjAzNGVlOWExMjkwNmJkMDVlYzkyZjMuYmluZFBvcHVwKHBvcHVwXzY1MWQ2YThiOGZmYjQ3MDY4MGRmZGMwNDFjYjJjODRkKQogICAgICAgIDsKCiAgICAgICAgCiAgICAKICAgIAogICAgICAgICAgICB2YXIgbWFya2VyX2M2OGY3NjRhM2JmZjRkYTFhMWRiMTFjNDhiOGE0OTk1ID0gTC5tYXJrZXIoCiAgICAgICAgICAgICAgICBbNTEuMTM2MTIxNzk0MzA2NjksIDQuMjU5NTAxMDExMjI4MDIwNV0sCiAgICAgICAgICAgICAgICB7fQogICAgICAgICAgICApLmFkZFRvKG1hcmtlcl9jbHVzdGVyX2FlM2ZhY2RjZjZmNzRlYmE4NGU5N2QzYTkwMDE4Y2Y1KTsKICAgICAgICAKICAgIAogICAgICAgIHZhciBwb3B1cF9iMjgxMjg2YmIzZGE0NTUzOTI2YmM2YTYwN2I1N2RkYyA9IEwucG9wdXAoeyJtYXhXaWR0aCI6ICIxMDAlIn0pOwoKICAgICAgICAKICAgICAgICAgICAgdmFyIGh0bWxfZDgxNGQ1YjBlNmI1NGFkYjhmZjA1NDMxZTU2Y2MxZDkgPSAkKGA8ZGl2IGlkPSJodG1sX2Q4MTRkNWIwZTZiNTRhZGI4ZmYwNTQzMWU1NmNjMWQ5IiBzdHlsZT0id2lkdGg6IDEwMC4wJTsgaGVpZ2h0OiAxMDAuMCU7Ij5Cb2RlbWxvY2F0aWU6IGh0dHBzOi8vd3d3LmRvdi52bGFhbmRlcmVuLmJlL2RhdGEvYm9kZW1sb2NhdGllLzE5NTEtMDA2MzAxPGJyPiBCb2RlbW9ic2VydmF0aWU6IGh0dHBzOi8vd3d3LmRvdi52bGFhbmRlcmVuLmJlL2RhdGEvYm9kZW1vYnNlcnZhdGllLzIwMTktNzY4OTM4PGJyPiBWYWx1ZTogMC45NTEyNzYxMDIwODgxNjclPC9kaXY+YClbMF07CiAgICAgICAgICAgIHBvcHVwX2IyODEyODZiYjNkYTQ1NTM5MjZiYzZhNjA3YjU3ZGRjLnNldENvbnRlbnQoaHRtbF9kODE0ZDViMGU2YjU0YWRiOGZmMDU0MzFlNTZjYzFkOSk7CiAgICAgICAgCgogICAgICAgIG1hcmtlcl9jNjhmNzY0YTNiZmY0ZGExYTFkYjExYzQ4YjhhNDk5NS5iaW5kUG9wdXAocG9wdXBfYjI4MTI4NmJiM2RhNDU1MzkyNmJjNmE2MDdiNTdkZGMpCiAgICAgICAgOwoKICAgICAgICAKICAgIAogICAgCiAgICAgICAgICAgIHZhciBtYXJrZXJfYTZmN2IxMThiNzVjNDg0NWJiN2E0Y2I5Y2IwN2ZlN2UgPSBMLm1hcmtlcigKICAgICAgICAgICAgICAgIFs1MS4yNTA0NjEzNjIxODQ2NjYsIDQuMjM4NTk2MDMxMTE4MzE4XSwKICAgICAgICAgICAgICAgIHt9CiAgICAgICAgICAgICkuYWRkVG8obWFya2VyX2NsdXN0ZXJfYWUzZmFjZGNmNmY3NGViYTg0ZTk3ZDNhOTAwMThjZjUpOwogICAgICAgIAogICAgCiAgICAgICAgdmFyIHBvcHVwXzhlNWYyNDVhOTAyYjRmMmU4ZmZhNDcwMDg0MzBhMDYxID0gTC5wb3B1cCh7Im1heFdpZHRoIjogIjEwMCUifSk7CgogICAgICAgIAogICAgICAgICAgICB2YXIgaHRtbF9lZTRmZTAwOTMxODE0OGUyOGM5MDQ3Zjc0NmE2YmI4MyA9ICQoYDxkaXYgaWQ9Imh0bWxfZWU0ZmUwMDkzMTgxNDhlMjhjOTA0N2Y3NDZhNmJiODMiIHN0eWxlPSJ3aWR0aDogMTAwLjAlOyBoZWlnaHQ6IDEwMC4wJTsiPkJvZGVtbG9jYXRpZTogaHR0cHM6Ly93d3cuZG92LnZsYWFuZGVyZW4uYmUvZGF0YS9ib2RlbWxvY2F0aWUvMTk0OS0wMDYzNDk8YnI+IEJvZGVtb2JzZXJ2YXRpZTogaHR0cHM6Ly93d3cuZG92LnZsYWFuZGVyZW4uYmUvZGF0YS9ib2RlbW9ic2VydmF0aWUvMjAxOS03NzUwNzQ8YnI+IFZhbHVlOiAxLjQ0NjI0OTAzMzI1NTk5JTwvZGl2PmApWzBdOwogICAgICAgICAgICBwb3B1cF84ZTVmMjQ1YTkwMmI0ZjJlOGZmYTQ3MDA4NDMwYTA2MS5zZXRDb250ZW50KGh0bWxfZWU0ZmUwMDkzMTgxNDhlMjhjOTA0N2Y3NDZhNmJiODMpOwogICAgICAgIAoKICAgICAgICBtYXJrZXJfYTZmN2IxMThiNzVjNDg0NWJiN2E0Y2I5Y2IwN2ZlN2UuYmluZFBvcHVwKHBvcHVwXzhlNWYyNDVhOTAyYjRmMmU4ZmZhNDcwMDg0MzBhMDYxKQogICAgICAgIDsKCiAgICAgICAgCiAgICAKICAgIAogICAgICAgICAgICB2YXIgbWFya2VyX2FhZmE4YTgxYmVmNDRmMmM4NDU2OGY1NTU4ZWU3ZjQ4ID0gTC5tYXJrZXIoCiAgICAgICAgICAgICAgICBbNTAuODc0NTk2MDM3MTE2NzUsIDMuNTgxNDQyNDM1NzIwMTQ0XSwKICAgICAgICAgICAgICAgIHt9CiAgICAgICAgICAgICkuYWRkVG8obWFya2VyX2NsdXN0ZXJfYWUzZmFjZGNmNmY3NGViYTg0ZTk3ZDNhOTAwMThjZjUpOwogICAgICAgIAogICAgCiAgICAgICAgdmFyIHBvcHVwX2I5ZjY2MTdjZDY5YTQzZDc5YTdkMjNkMTQ3MTM5YzQ0ID0gTC5wb3B1cCh7Im1heFdpZHRoIjogIjEwMCUifSk7CgogICAgICAgIAogICAgICAgICAgICB2YXIgaHRtbF8wMjdlZDE2YTMwOTA0YzMyYjU4ZDZlNDRkMTVjZTlmNSA9ICQoYDxkaXYgaWQ9Imh0bWxfMDI3ZWQxNmEzMDkwNGMzMmI1OGQ2ZTQ0ZDE1Y2U5ZjUiIHN0eWxlPSJ3aWR0aDogMTAwLjAlOyBoZWlnaHQ6IDEwMC4wJTsiPkJvZGVtbG9jYXRpZTogaHR0cHM6Ly93d3cuZG92LnZsYWFuZGVyZW4uYmUvZGF0YS9ib2RlbWxvY2F0aWUvMTk1Ny0wMDE1ODI8YnI+IEJvZGVtb2JzZXJ2YXRpZTogaHR0cHM6Ly93d3cuZG92LnZsYWFuZGVyZW4uYmUvZGF0YS9ib2RlbW9ic2VydmF0aWUvMjAxOS0xNzQ2ODI8YnI+IFZhbHVlOiAwLjk4MjIxMTkxMDI4NjE1NiU8L2Rpdj5gKVswXTsKICAgICAgICAgICAgcG9wdXBfYjlmNjYxN2NkNjlhNDNkNzlhN2QyM2QxNDcxMzljNDQuc2V0Q29udGVudChodG1sXzAyN2VkMTZhMzA5MDRjMzJiNThkNmU0NGQxNWNlOWY1KTsKICAgICAgICAKCiAgICAgICAgbWFya2VyX2FhZmE4YTgxYmVmNDRmMmM4NDU2OGY1NTU4ZWU3ZjQ4LmJpbmRQb3B1cChwb3B1cF9iOWY2NjE3Y2Q2OWE0M2Q3OWE3ZDIzZDE0NzEzOWM0NCkKICAgICAgICA7CgogICAgICAgIAogICAgCiAgICAKICAgICAgICAgICAgdmFyIG1hcmtlcl80MzQ0MDg4OGRlMGI0MzhlYjIyZTdlNzc4NTNjZTAyMCA9IEwubWFya2VyKAogICAgICAgICAgICAgICAgWzUxLjAwNDk0MDI2MDg3OTA3LCAzLjkzMDk3NDg5NzQ4MTY2OV0sCiAgICAgICAgICAgICAgICB7fQogICAgICAgICAgICApLmFkZFRvKG1hcmtlcl9jbHVzdGVyX2FlM2ZhY2RjZjZmNzRlYmE4NGU5N2QzYTkwMDE4Y2Y1KTsKICAgICAgICAKICAgIAogICAgICAgIHZhciBwb3B1cF84ZWZjYTBjZmUwODI0YmUyYjgxNmI1ZmMxZDk2MmZjOSA9IEwucG9wdXAoeyJtYXhXaWR0aCI6ICIxMDAlIn0pOwoKICAgICAgICAKICAgICAgICAgICAgdmFyIGh0bWxfOWIwYjgyNzRiODFjNGIwYjhkZmRjYmMxOTQ2NTQwMjkgPSAkKGA8ZGl2IGlkPSJodG1sXzliMGI4Mjc0YjgxYzRiMGI4ZGZkY2JjMTk0NjU0MDI5IiBzdHlsZT0id2lkdGg6IDEwMC4wJTsgaGVpZ2h0OiAxMDAuMCU7Ij5Cb2RlbWxvY2F0aWU6IGh0dHBzOi8vd3d3LmRvdi52bGFhbmRlcmVuLmJlL2RhdGEvYm9kZW1sb2NhdGllLzE5NTEtMDAyNDM0PGJyPiBCb2RlbW9ic2VydmF0aWU6IGh0dHBzOi8vd3d3LmRvdi52bGFhbmRlcmVuLmJlL2RhdGEvYm9kZW1vYnNlcnZhdGllLzIwMTktMjgyMTA4PGJyPiBWYWx1ZTogMS4xODMyOTQ2NjM1NzMwOSU8L2Rpdj5gKVswXTsKICAgICAgICAgICAgcG9wdXBfOGVmY2EwY2ZlMDgyNGJlMmI4MTZiNWZjMWQ5NjJmYzkuc2V0Q29udGVudChodG1sXzliMGI4Mjc0YjgxYzRiMGI4ZGZkY2JjMTk0NjU0MDI5KTsKICAgICAgICAKCiAgICAgICAgbWFya2VyXzQzNDQwODg4ZGUwYjQzOGViMjJlN2U3Nzg1M2NlMDIwLmJpbmRQb3B1cChwb3B1cF84ZWZjYTBjZmUwODI0YmUyYjgxNmI1ZmMxZDk2MmZjOSkKICAgICAgICA7CgogICAgICAgIAogICAgCiAgICAKICAgICAgICAgICAgdmFyIG1hcmtlcl85OTE1ZmY2OTljMTQ0YzM3ODFmZDQ0NjA0ZWI4NTQ0MSA9IEwubWFya2VyKAogICAgICAgICAgICAgICAgWzUxLjI3NTE3OTU3NDgzNzI5NiwgNC4yNzc5MDYwOTcwMzM3NDddLAogICAgICAgICAgICAgICAge30KICAgICAgICAgICAgKS5hZGRUbyhtYXJrZXJfY2x1c3Rlcl9hZTNmYWNkY2Y2Zjc0ZWJhODRlOTdkM2E5MDAxOGNmNSk7CiAgICAgICAgCiAgICAKICAgICAgICB2YXIgcG9wdXBfYzZmMTYyNTVkNzQ3NDIzMmJlZTY2ODIyYzU1ZjdkMjEgPSBMLnBvcHVwKHsibWF4V2lkdGgiOiAiMTAwJSJ9KTsKCiAgICAgICAgCiAgICAgICAgICAgIHZhciBodG1sX2Q1YmNkMmZlMjNhMzQyN2U5YWY1Y2QzZTFiZjdjZjE2ID0gJChgPGRpdiBpZD0iaHRtbF9kNWJjZDJmZTIzYTM0MjdlOWFmNWNkM2UxYmY3Y2YxNiIgc3R5bGU9IndpZHRoOiAxMDAuMCU7IGhlaWdodDogMTAwLjAlOyI+Qm9kZW1sb2NhdGllOiBodHRwczovL3d3dy5kb3YudmxhYW5kZXJlbi5iZS9kYXRhL2JvZGVtbG9jYXRpZS8xOTQ5LTAwMjQ3MTxicj4gQm9kZW1vYnNlcnZhdGllOiBodHRwczovL3d3dy5kb3YudmxhYW5kZXJlbi5iZS9kYXRhL2JvZGVtb2JzZXJ2YXRpZS8yMDE5LTI4NjY4NDxicj4gVmFsdWU6IDEuMTIxNDIzMDQ3MTc3MTElPC9kaXY+YClbMF07CiAgICAgICAgICAgIHBvcHVwX2M2ZjE2MjU1ZDc0NzQyMzJiZWU2NjgyMmM1NWY3ZDIxLnNldENvbnRlbnQoaHRtbF9kNWJjZDJmZTIzYTM0MjdlOWFmNWNkM2UxYmY3Y2YxNik7CiAgICAgICAgCgogICAgICAgIG1hcmtlcl85OTE1ZmY2OTljMTQ0YzM3ODFmZDQ0NjA0ZWI4NTQ0MS5iaW5kUG9wdXAocG9wdXBfYzZmMTYyNTVkNzQ3NDIzMmJlZTY2ODIyYzU1ZjdkMjEpCiAgICAgICAgOwoKICAgICAgICAKICAgIAogICAgCiAgICAgICAgICAgIHZhciBtYXJrZXJfOGZlNDRhZjU3MDc5NDIwNTljZGNjOTEyNmVhMmU3N2YgPSBMLm1hcmtlcigKICAgICAgICAgICAgICAgIFs1MS4xNTAyNTk4NjE3MzM0MjQsIDQuMjQ5MDM1MjM0MzczNzU3XSwKICAgICAgICAgICAgICAgIHt9CiAgICAgICAgICAgICkuYWRkVG8obWFya2VyX2NsdXN0ZXJfYWUzZmFjZGNmNmY3NGViYTg0ZTk3ZDNhOTAwMThjZjUpOwogICAgICAgIAogICAgCiAgICAgICAgdmFyIHBvcHVwX2EwYjYxYmFhMzVkZTQ2YTI5YThiZDBiNTM3NmE4OWU3ID0gTC5wb3B1cCh7Im1heFdpZHRoIjogIjEwMCUifSk7CgogICAgICAgIAogICAgICAgICAgICB2YXIgaHRtbF9kZGM3MzkwMTUxYzc0MDQxYTZmNGNmMmQ5MjEzODgyMiA9ICQoYDxkaXYgaWQ9Imh0bWxfZGRjNzM5MDE1MWM3NDA0MWE2ZjRjZjJkOTIxMzg4MjIiIHN0eWxlPSJ3aWR0aDogMTAwLjAlOyBoZWlnaHQ6IDEwMC4wJTsiPkJvZGVtbG9jYXRpZTogaHR0cHM6Ly93d3cuZG92LnZsYWFuZGVyZW4uYmUvZGF0YS9ib2RlbWxvY2F0aWUvMTk1MS0wMDUwODE8YnI+IEJvZGVtb2JzZXJ2YXRpZTogaHR0cHM6Ly93d3cuZG92LnZsYWFuZGVyZW4uYmUvZGF0YS9ib2RlbW9ic2VydmF0aWUvMjAxOS02MTU2MTI8YnI+IFZhbHVlOiAwLjcyNjk5MTQ5MjY1Mjc0NSU8L2Rpdj5gKVswXTsKICAgICAgICAgICAgcG9wdXBfYTBiNjFiYWEzNWRlNDZhMjlhOGJkMGI1Mzc2YTg5ZTcuc2V0Q29udGVudChodG1sX2RkYzczOTAxNTFjNzQwNDFhNmY0Y2YyZDkyMTM4ODIyKTsKICAgICAgICAKCiAgICAgICAgbWFya2VyXzhmZTQ0YWY1NzA3OTQyMDU5Y2RjYzkxMjZlYTJlNzdmLmJpbmRQb3B1cChwb3B1cF9hMGI2MWJhYTM1ZGU0NmEyOWE4YmQwYjUzNzZhODllNykKICAgICAgICA7CgogICAgICAgIAogICAgCiAgICAKICAgICAgICAgICAgdmFyIG1hcmtlcl9hZWQ4YjY4NzI2YmQ0YmE5YTBhOTRjMzA1NDIzMTM2ZSA9IEwubWFya2VyKAogICAgICAgICAgICAgICAgWzUxLjAwOTA3NjkxMzI1NjE2NiwgNC4xMzI5OTcyMzUzODE2MjRdLAogICAgICAgICAgICAgICAge30KICAgICAgICAgICAgKS5hZGRUbyhtYXJrZXJfY2x1c3Rlcl9hZTNmYWNkY2Y2Zjc0ZWJhODRlOTdkM2E5MDAxOGNmNSk7CiAgICAgICAgCiAgICAKICAgICAgICB2YXIgcG9wdXBfN2Q0NTViMjllMDIyNGUwMTgyMGRkNzI3NWI2YWYxNGMgPSBMLnBvcHVwKHsibWF4V2lkdGgiOiAiMTAwJSJ9KTsKCiAgICAgICAgCiAgICAgICAgICAgIHZhciBodG1sX2ZiYWUwYzAwNDVjYTQ4ZWE4NjQ1MGI2ODRiOTU0NmU2ID0gJChgPGRpdiBpZD0iaHRtbF9mYmFlMGMwMDQ1Y2E0OGVhODY0NTBiNjg0Yjk1NDZlNiIgc3R5bGU9IndpZHRoOiAxMDAuMCU7IGhlaWdodDogMTAwLjAlOyI+Qm9kZW1sb2NhdGllOiBodHRwczovL3d3dy5kb3YudmxhYW5kZXJlbi5iZS9kYXRhL2JvZGVtbG9jYXRpZS8xOTUyLTAwNTczMjxicj4gQm9kZW1vYnNlcnZhdGllOiBodHRwczovL3d3dy5kb3YudmxhYW5kZXJlbi5iZS9kYXRhL2JvZGVtb2JzZXJ2YXRpZS8yMDE5LTY5OTA0NDxicj4gVmFsdWU6IDAuNTg3NzgwMzU1NzYxNzk0JTwvZGl2PmApWzBdOwogICAgICAgICAgICBwb3B1cF83ZDQ1NWIyOWUwMjI0ZTAxODIwZGQ3Mjc1YjZhZjE0Yy5zZXRDb250ZW50KGh0bWxfZmJhZTBjMDA0NWNhNDhlYTg2NDUwYjY4NGI5NTQ2ZTYpOwogICAgICAgIAoKICAgICAgICBtYXJrZXJfYWVkOGI2ODcyNmJkNGJhOWEwYTk0YzMwNTQyMzEzNmUuYmluZFBvcHVwKHBvcHVwXzdkNDU1YjI5ZTAyMjRlMDE4MjBkZDcyNzViNmFmMTRjKQogICAgICAgIDsKCiAgICAgICAgCiAgICAKICAgIAogICAgICAgICAgICB2YXIgbWFya2VyX2RiYjkzMzkxMTBjZTQ5OTRiZWQ4ZDhhODM0MjVhMjkwID0gTC5tYXJrZXIoCiAgICAgICAgICAgICAgICBbNTEuMjA4NDU1MTY1ODA2MTcsIDQuMDE2MTU2Mjg3NDM1OTIzXSwKICAgICAgICAgICAgICAgIHt9CiAgICAgICAgICAgICkuYWRkVG8obWFya2VyX2NsdXN0ZXJfYWUzZmFjZGNmNmY3NGViYTg0ZTk3ZDNhOTAwMThjZjUpOwogICAgICAgIAogICAgCiAgICAgICAgdmFyIHBvcHVwX2I5ZjA3M2RhMGFkMzQ1YWNhNTg1MGJkZjMyODk3NTQxID0gTC5wb3B1cCh7Im1heFdpZHRoIjogIjEwMCUifSk7CgogICAgICAgIAogICAgICAgICAgICB2YXIgaHRtbF8yMGIzOTI3MzQ3OGI0NjM3Yjk4OTdiMzkwZGE5ZTFiNiA9ICQoYDxkaXYgaWQ9Imh0bWxfMjBiMzkyNzM0NzhiNDYzN2I5ODk3YjM5MGRhOWUxYjYiIHN0eWxlPSJ3aWR0aDogMTAwLjAlOyBoZWlnaHQ6IDEwMC4wJTsiPkJvZGVtbG9jYXRpZTogaHR0cHM6Ly93d3cuZG92LnZsYWFuZGVyZW4uYmUvZGF0YS9ib2RlbWxvY2F0aWUvMTk1My0wMDYyMzk8YnI+IEJvZGVtb2JzZXJ2YXRpZTogaHR0cHM6Ly93d3cuZG92LnZsYWFuZGVyZW4uYmUvZGF0YS9ib2RlbW9ic2VydmF0aWUvMjAxOS03NjEyMTk8YnI+IFZhbHVlOiAxLjUwODEyMDY0OTY1MTk3JTwvZGl2PmApWzBdOwogICAgICAgICAgICBwb3B1cF9iOWYwNzNkYTBhZDM0NWFjYTU4NTBiZGYzMjg5NzU0MS5zZXRDb250ZW50KGh0bWxfMjBiMzkyNzM0NzhiNDYzN2I5ODk3YjM5MGRhOWUxYjYpOwogICAgICAgIAoKICAgICAgICBtYXJrZXJfZGJiOTMzOTExMGNlNDk5NGJlZDhkOGE4MzQyNWEyOTAuYmluZFBvcHVwKHBvcHVwX2I5ZjA3M2RhMGFkMzQ1YWNhNTg1MGJkZjMyODk3NTQxKQogICAgICAgIDsKCiAgICAgICAgCiAgICAKICAgIAogICAgICAgICAgICB2YXIgbWFya2VyXzI0OWM2MjU2MTRlNDQwOWJhNTFmMGM4NzZhMjE3ZmUzID0gTC5tYXJrZXIoCiAgICAgICAgICAgICAgICBbNTAuOTEyMTYxNTAxMzY5NTEsIDMuNTc4MjY3NTI5MTI1OTEyM10sCiAgICAgICAgICAgICAgICB7fQogICAgICAgICAgICApLmFkZFRvKG1hcmtlcl9jbHVzdGVyX2FlM2ZhY2RjZjZmNzRlYmE4NGU5N2QzYTkwMDE4Y2Y1KTsKICAgICAgICAKICAgIAogICAgICAgIHZhciBwb3B1cF9jNTY4N2QxNjY0MWU0NjMwOTFkMWFjYWFmMjEyMzY3MyA9IEwucG9wdXAoeyJtYXhXaWR0aCI6ICIxMDAlIn0pOwoKICAgICAgICAKICAgICAgICAgICAgdmFyIGh0bWxfM2QxYjlhMTEwNTFkNGM3YTlhZTQzNzcwMDA2MDc3ZDMgPSAkKGA8ZGl2IGlkPSJodG1sXzNkMWI5YTExMDUxZDRjN2E5YWU0Mzc3MDAwNjA3N2QzIiBzdHlsZT0id2lkdGg6IDEwMC4wJTsgaGVpZ2h0OiAxMDAuMCU7Ij5Cb2RlbWxvY2F0aWU6IGh0dHBzOi8vd3d3LmRvdi52bGFhbmRlcmVuLmJlL2RhdGEvYm9kZW1sb2NhdGllLzE5NjItMDA2Mjg3PGJyPiBCb2RlbW9ic2VydmF0aWU6IGh0dHBzOi8vd3d3LmRvdi52bGFhbmRlcmVuLmJlL2RhdGEvYm9kZW1vYnNlcnZhdGllLzIwMTktNzY3MjM2PGJyPiBWYWx1ZTogMC45NCU8L2Rpdj5gKVswXTsKICAgICAgICAgICAgcG9wdXBfYzU2ODdkMTY2NDFlNDYzMDkxZDFhY2FhZjIxMjM2NzMuc2V0Q29udGVudChodG1sXzNkMWI5YTExMDUxZDRjN2E5YWU0Mzc3MDAwNjA3N2QzKTsKICAgICAgICAKCiAgICAgICAgbWFya2VyXzI0OWM2MjU2MTRlNDQwOWJhNTFmMGM4NzZhMjE3ZmUzLmJpbmRQb3B1cChwb3B1cF9jNTY4N2QxNjY0MWU0NjMwOTFkMWFjYWFmMjEyMzY3MykKICAgICAgICA7CgogICAgICAgIAogICAgCiAgICAKICAgICAgICAgICAgdmFyIG1hcmtlcl81ZjZkNDJmNzNjMWE0OTZlYjRiZmFkMGI5YTA3NmYwMiA9IEwubWFya2VyKAogICAgICAgICAgICAgICAgWzUwLjk1NDgxMjgwMjM2NzA3LCA0LjE0ODg1MzQzOTYyMzcyOV0sCiAgICAgICAgICAgICAgICB7fQogICAgICAgICAgICApLmFkZFRvKG1hcmtlcl9jbHVzdGVyX2FlM2ZhY2RjZjZmNzRlYmE4NGU5N2QzYTkwMDE4Y2Y1KTsKICAgICAgICAKICAgIAogICAgICAgIHZhciBwb3B1cF84OTgzZmNiM2EzYzA0MDhiOGYyMDA5NDc0MDQ0OWU4ZCA9IEwucG9wdXAoeyJtYXhXaWR0aCI6ICIxMDAlIn0pOwoKICAgICAgICAKICAgICAgICAgICAgdmFyIGh0bWxfZmM2NDBhOWM3MjFjNGU5MmJmNTMyOTQ3YjM1ZmU3OWMgPSAkKGA8ZGl2IGlkPSJodG1sX2ZjNjQwYTljNzIxYzRlOTJiZjUzMjk0N2IzNWZlNzljIiBzdHlsZT0id2lkdGg6IDEwMC4wJTsgaGVpZ2h0OiAxMDAuMCU7Ij5Cb2RlbWxvY2F0aWU6IGh0dHBzOi8vd3d3LmRvdi52bGFhbmRlcmVuLmJlL2RhdGEvYm9kZW1sb2NhdGllLzE5NTAtMDA2ODA5PGJyPiBCb2RlbW9ic2VydmF0aWU6IGh0dHBzOi8vd3d3LmRvdi52bGFhbmRlcmVuLmJlL2RhdGEvYm9kZW1vYnNlcnZhdGllLzIwMTktODMyOTQzPGJyPiBWYWx1ZTogMS4xMjE0MjMwNDcxNzcxMSU8L2Rpdj5gKVswXTsKICAgICAgICAgICAgcG9wdXBfODk4M2ZjYjNhM2MwNDA4YjhmMjAwOTQ3NDA0NDllOGQuc2V0Q29udGVudChodG1sX2ZjNjQwYTljNzIxYzRlOTJiZjUzMjk0N2IzNWZlNzljKTsKICAgICAgICAKCiAgICAgICAgbWFya2VyXzVmNmQ0MmY3M2MxYTQ5NmViNGJmYWQwYjlhMDc2ZjAyLmJpbmRQb3B1cChwb3B1cF84OTgzZmNiM2EzYzA0MDhiOGYyMDA5NDc0MDQ0OWU4ZCkKICAgICAgICA7CgogICAgICAgIAogICAgCiAgICAKICAgICAgICAgICAgdmFyIG1hcmtlcl9hNmVmODhjNmQ0OWQ0MWRmYjE1YjdmN2QxZjk5NTBiNSA9IEwubWFya2VyKAogICAgICAgICAgICAgICAgWzUwLjk3MDIxNjcwMjM4Mjc4LCAzLjc2MzA1ODgxNjMxNTU0MV0sCiAgICAgICAgICAgICAgICB7fQogICAgICAgICAgICApLmFkZFRvKG1hcmtlcl9jbHVzdGVyX2FlM2ZhY2RjZjZmNzRlYmE4NGU5N2QzYTkwMDE4Y2Y1KTsKICAgICAgICAKICAgIAogICAgICAgIHZhciBwb3B1cF85ZjZiMDIyZmRhM2I0ZDhiOTBmNzEzZGZiNGVjYWI3YyA9IEwucG9wdXAoeyJtYXhXaWR0aCI6ICIxMDAlIn0pOwoKICAgICAgICAKICAgICAgICAgICAgdmFyIGh0bWxfMmRiMWU5ZTJhMzUxNGE4MThkNmVhOTZjYzM0MTdlMmQgPSAkKGA8ZGl2IGlkPSJodG1sXzJkYjFlOWUyYTM1MTRhODE4ZDZlYTk2Y2MzNDE3ZTJkIiBzdHlsZT0id2lkdGg6IDEwMC4wJTsgaGVpZ2h0OiAxMDAuMCU7Ij5Cb2RlbWxvY2F0aWU6IGh0dHBzOi8vd3d3LmRvdi52bGFhbmRlcmVuLmJlL2RhdGEvYm9kZW1sb2NhdGllLzE5NTgtMDA3Mzg5PGJyPiBCb2RlbW9ic2VydmF0aWU6IGh0dHBzOi8vd3d3LmRvdi52bGFhbmRlcmVuLmJlL2RhdGEvYm9kZW1vYnNlcnZhdGllLzIwMTktOTA5NjkzPGJyPiBWYWx1ZTogMC45NTkwMTAwNTQxMzc2NjQlPC9kaXY+YClbMF07CiAgICAgICAgICAgIHBvcHVwXzlmNmIwMjJmZGEzYjRkOGI5MGY3MTNkZmI0ZWNhYjdjLnNldENvbnRlbnQoaHRtbF8yZGIxZTllMmEzNTE0YTgxOGQ2ZWE5NmNjMzQxN2UyZCk7CiAgICAgICAgCgogICAgICAgIG1hcmtlcl9hNmVmODhjNmQ0OWQ0MWRmYjE1YjdmN2QxZjk5NTBiNS5iaW5kUG9wdXAocG9wdXBfOWY2YjAyMmZkYTNiNGQ4YjkwZjcxM2RmYjRlY2FiN2MpCiAgICAgICAgOwoKICAgICAgICAKICAgIAogICAgCiAgICAgICAgICAgIHZhciBtYXJrZXJfNzFlOWQ3N2U1YmIwNGExZTliNGRmY2JjZWYzMWUzNTggPSBMLm1hcmtlcigKICAgICAgICAgICAgICAgIFs1MS4xOTgyODcwODQ2NDk4MywgNC4yNTk3NzEyMDUyOTAyOTJdLAogICAgICAgICAgICAgICAge30KICAgICAgICAgICAgKS5hZGRUbyhtYXJrZXJfY2x1c3Rlcl9hZTNmYWNkY2Y2Zjc0ZWJhODRlOTdkM2E5MDAxOGNmNSk7CiAgICAgICAgCiAgICAKICAgICAgICB2YXIgcG9wdXBfN2NiZjY5MTRiZjhlNDAwYWExMmViM2I2ZmQwMDBjZTAgPSBMLnBvcHVwKHsibWF4V2lkdGgiOiAiMTAwJSJ9KTsKCiAgICAgICAgCiAgICAgICAgICAgIHZhciBodG1sXzI5YmFkYTk4MDE4ODQ0ODU4NGVhNzE2Njk3ZTkwYWU3ID0gJChgPGRpdiBpZD0iaHRtbF8yOWJhZGE5ODAxODg0NDg1ODRlYTcxNjY5N2U5MGFlNyIgc3R5bGU9IndpZHRoOiAxMDAuMCU7IGhlaWdodDogMTAwLjAlOyI+Qm9kZW1sb2NhdGllOiBodHRwczovL3d3dy5kb3YudmxhYW5kZXJlbi5iZS9kYXRhL2JvZGVtbG9jYXRpZS8xOTQ5LTAwNzQzOTxicj4gQm9kZW1vYnNlcnZhdGllOiBodHRwczovL3d3dy5kb3YudmxhYW5kZXJlbi5iZS9kYXRhL2JvZGVtb2JzZXJ2YXRpZS8yMDE5LTkxNjM1Mjxicj4gVmFsdWU6IDEuMDA1NDEzNzY2NDM0NjUlPC9kaXY+YClbMF07CiAgICAgICAgICAgIHBvcHVwXzdjYmY2OTE0YmY4ZTQwMGFhMTJlYjNiNmZkMDAwY2UwLnNldENvbnRlbnQoaHRtbF8yOWJhZGE5ODAxODg0NDg1ODRlYTcxNjY5N2U5MGFlNyk7CiAgICAgICAgCgogICAgICAgIG1hcmtlcl83MWU5ZDc3ZTViYjA0YTFlOWI0ZGZjYmNlZjMxZTM1OC5iaW5kUG9wdXAocG9wdXBfN2NiZjY5MTRiZjhlNDAwYWExMmViM2I2ZmQwMDBjZTApCiAgICAgICAgOwoKICAgICAgICAKICAgIAogICAgCiAgICAgICAgICAgIHZhciBtYXJrZXJfNmZjN2E5MDFiOTQyNDI2MzhlMTQzOTJhYWIyZmY4YmYgPSBMLm1hcmtlcigKICAgICAgICAgICAgICAgIFs1MS4wNDQxOTQ4NzQ1MzY2MTUsIDMuNzYyMjAyNDAwOTk4NTY0NF0sCiAgICAgICAgICAgICAgICB7fQogICAgICAgICAgICApLmFkZFRvKG1hcmtlcl9jbHVzdGVyX2FlM2ZhY2RjZjZmNzRlYmE4NGU5N2QzYTkwMDE4Y2Y1KTsKICAgICAgICAKICAgIAogICAgICAgIHZhciBwb3B1cF9lNDUwMjkxMDQ0ZWI0NTQyOGU5MTkwYWNlZjg3MTAxOCA9IEwucG9wdXAoeyJtYXhXaWR0aCI6ICIxMDAlIn0pOwoKICAgICAgICAKICAgICAgICAgICAgdmFyIGh0bWxfYWQzNGFjODFhYjUzNGZlMjg5MjEzNzk5NTY0NmNlNTUgPSAkKGA8ZGl2IGlkPSJodG1sX2FkMzRhYzgxYWI1MzRmZTI4OTIxMzc5OTU2NDZjZTU1IiBzdHlsZT0id2lkdGg6IDEwMC4wJTsgaGVpZ2h0OiAxMDAuMCU7Ij5Cb2RlbWxvY2F0aWU6IGh0dHBzOi8vd3d3LmRvdi52bGFhbmRlcmVuLmJlL2RhdGEvYm9kZW1sb2NhdGllLzE5NTAtMDA3NjIyPGJyPiBCb2RlbW9ic2VydmF0aWU6IGh0dHBzOi8vd3d3LmRvdi52bGFhbmRlcmVuLmJlL2RhdGEvYm9kZW1vYnNlcnZhdGllLzIwMTktOTM5MTk1PGJyPiBWYWx1ZTogMS41MjM1ODg1NTM3NTA5NyU8L2Rpdj5gKVswXTsKICAgICAgICAgICAgcG9wdXBfZTQ1MDI5MTA0NGViNDU0MjhlOTE5MGFjZWY4NzEwMTguc2V0Q29udGVudChodG1sX2FkMzRhYzgxYWI1MzRmZTI4OTIxMzc5OTU2NDZjZTU1KTsKICAgICAgICAKCiAgICAgICAgbWFya2VyXzZmYzdhOTAxYjk0MjQyNjM4ZTE0MzkyYWFiMmZmOGJmLmJpbmRQb3B1cChwb3B1cF9lNDUwMjkxMDQ0ZWI0NTQyOGU5MTkwYWNlZjg3MTAxOCkKICAgICAgICA7CgogICAgICAgIAogICAgCiAgICAKICAgICAgICAgICAgdmFyIG1hcmtlcl8xYmMxYTViMmYyZGM0MDZkOWQ4NmFhODFjYTRkNjY3ZiA9IEwubWFya2VyKAogICAgICAgICAgICAgICAgWzUxLjI4MTAwMDYzNTk0ODE1LCAzLjU4NzYzNDM2ODk5MjIxMV0sCiAgICAgICAgICAgICAgICB7fQogICAgICAgICAgICApLmFkZFRvKG1hcmtlcl9jbHVzdGVyX2FlM2ZhY2RjZjZmNzRlYmE4NGU5N2QzYTkwMDE4Y2Y1KTsKICAgICAgICAKICAgIAogICAgICAgIHZhciBwb3B1cF82ODUxMTUxNGFmOGY0ZmE5YmRjNTU2ZDBlMWI3Njc1MyA9IEwucG9wdXAoeyJtYXhXaWR0aCI6ICIxMDAlIn0pOwoKICAgICAgICAKICAgICAgICAgICAgdmFyIGh0bWxfODVkMDg1MjYwNTQyNDY2MThjNzVjMzJhNTRhNTIzOTcgPSAkKGA8ZGl2IGlkPSJodG1sXzg1ZDA4NTI2MDU0MjQ2NjE4Yzc1YzMyYTU0YTUyMzk3IiBzdHlsZT0id2lkdGg6IDEwMC4wJTsgaGVpZ2h0OiAxMDAuMCU7Ij5Cb2RlbWxvY2F0aWU6IGh0dHBzOi8vd3d3LmRvdi52bGFhbmRlcmVuLmJlL2RhdGEvYm9kZW1sb2NhdGllLzE5NjItMDAwODcyPGJyPiBCb2RlbW9ic2VydmF0aWU6IGh0dHBzOi8vd3d3LmRvdi52bGFhbmRlcmVuLmJlL2RhdGEvYm9kZW1vYnNlcnZhdGllLzIwMTktMDgyMjY1PGJyPiBWYWx1ZTogMS4xNTUlPC9kaXY+YClbMF07CiAgICAgICAgICAgIHBvcHVwXzY4NTExNTE0YWY4ZjRmYTliZGM1NTZkMGUxYjc2NzUzLnNldENvbnRlbnQoaHRtbF84NWQwODUyNjA1NDI0NjYxOGM3NWMzMmE1NGE1MjM5Nyk7CiAgICAgICAgCgogICAgICAgIG1hcmtlcl8xYmMxYTViMmYyZGM0MDZkOWQ4NmFhODFjYTRkNjY3Zi5iaW5kUG9wdXAocG9wdXBfNjg1MTE1MTRhZjhmNGZhOWJkYzU1NmQwZTFiNzY3NTMpCiAgICAgICAgOwoKICAgICAgICAKICAgIAogICAgCiAgICAgICAgICAgIHZhciBtYXJrZXJfOTI3NGVjOThjZmUwNGYzMzg3OWY2ZTMyNzViNjczMTkgPSBMLm1hcmtlcigKICAgICAgICAgICAgICAgIFs1MS4wMDgxMDU3OTY2MjIwOSwgMy45NjE0MzcxMzQ2ODQ1Mzc0XSwKICAgICAgICAgICAgICAgIHt9CiAgICAgICAgICAgICkuYWRkVG8obWFya2VyX2NsdXN0ZXJfYWUzZmFjZGNmNmY3NGViYTg0ZTk3ZDNhOTAwMThjZjUpOwogICAgICAgIAogICAgCiAgICAgICAgdmFyIHBvcHVwX2M3MTRjZGJjMDM0YzQ1ZmY5MTNjZGUzZGFhYjAxOWE5ID0gTC5wb3B1cCh7Im1heFdpZHRoIjogIjEwMCUifSk7CgogICAgICAgIAogICAgICAgICAgICB2YXIgaHRtbF81MDZiNTVjNDg1MTM0NjY2ODc5MzY0NDlhMjY2YzI5MSA9ICQoYDxkaXYgaWQ9Imh0bWxfNTA2YjU1YzQ4NTEzNDY2Njg3OTM2NDQ5YTI2NmMyOTEiIHN0eWxlPSJ3aWR0aDogMTAwLjAlOyBoZWlnaHQ6IDEwMC4wJTsiPkJvZGVtbG9jYXRpZTogaHR0cHM6Ly93d3cuZG92LnZsYWFuZGVyZW4uYmUvZGF0YS9ib2RlbWxvY2F0aWUvMTk1MS0wMDE4MTQ8YnI+IEJvZGVtb2JzZXJ2YXRpZTogaHR0cHM6Ly93d3cuZG92LnZsYWFuZGVyZW4uYmUvZGF0YS9ib2RlbW9ic2VydmF0aWUvMjAxOS0yMDM3NDQ8YnI+IFZhbHVlOiAxLjEyMTQyMzA0NzE3NzExJTwvZGl2PmApWzBdOwogICAgICAgICAgICBwb3B1cF9jNzE0Y2RiYzAzNGM0NWZmOTEzY2RlM2RhYWIwMTlhOS5zZXRDb250ZW50KGh0bWxfNTA2YjU1YzQ4NTEzNDY2Njg3OTM2NDQ5YTI2NmMyOTEpOwogICAgICAgIAoKICAgICAgICBtYXJrZXJfOTI3NGVjOThjZmUwNGYzMzg3OWY2ZTMyNzViNjczMTkuYmluZFBvcHVwKHBvcHVwX2M3MTRjZGJjMDM0YzQ1ZmY5MTNjZGUzZGFhYjAxOWE5KQogICAgICAgIDsKCiAgICAgICAgCiAgICAKICAgIAogICAgICAgICAgICB2YXIgbWFya2VyX2Q4YzhhMzgzYWNkMDRkMjhhZjA5Y2U5Yzk3NDhhMjViID0gTC5tYXJrZXIoCiAgICAgICAgICAgICAgICBbNTAuOTczMDc5MjE2OTcwNDc2LCA0LjA3NDczMTk2NDExMDU5NV0sCiAgICAgICAgICAgICAgICB7fQogICAgICAgICAgICApLmFkZFRvKG1hcmtlcl9jbHVzdGVyX2FlM2ZhY2RjZjZmNzRlYmE4NGU5N2QzYTkwMDE4Y2Y1KTsKICAgICAgICAKICAgIAogICAgICAgIHZhciBwb3B1cF85MTE0YjY3ODdhYTA0OTc2YmFlYjk2ODVlNGM5NTY3YiA9IEwucG9wdXAoeyJtYXhXaWR0aCI6ICIxMDAlIn0pOwoKICAgICAgICAKICAgICAgICAgICAgdmFyIGh0bWxfODE1YjZkNGY2ZDRiNGI0OGJmZjllNzRiMjI4MTk4MDUgPSAkKGA8ZGl2IGlkPSJodG1sXzgxNWI2ZDRmNmQ0YjRiNDhiZmY5ZTc0YjIyODE5ODA1IiBzdHlsZT0id2lkdGg6IDEwMC4wJTsgaGVpZ2h0OiAxMDAuMCU7Ij5Cb2RlbWxvY2F0aWU6IGh0dHBzOi8vd3d3LmRvdi52bGFhbmRlcmVuLmJlL2RhdGEvYm9kZW1sb2NhdGllLzE5NjAtMDAyNjY2PGJyPiBCb2RlbW9ic2VydmF0aWU6IGh0dHBzOi8vd3d3LmRvdi52bGFhbmRlcmVuLmJlL2RhdGEvYm9kZW1vYnNlcnZhdGllLzIwMTktMzEyMTQ3PGJyPiBWYWx1ZTogMS4yNiU8L2Rpdj5gKVswXTsKICAgICAgICAgICAgcG9wdXBfOTExNGI2Nzg3YWEwNDk3NmJhZWI5Njg1ZTRjOTU2N2Iuc2V0Q29udGVudChodG1sXzgxNWI2ZDRmNmQ0YjRiNDhiZmY5ZTc0YjIyODE5ODA1KTsKICAgICAgICAKCiAgICAgICAgbWFya2VyX2Q4YzhhMzgzYWNkMDRkMjhhZjA5Y2U5Yzk3NDhhMjViLmJpbmRQb3B1cChwb3B1cF85MTE0YjY3ODdhYTA0OTc2YmFlYjk2ODVlNGM5NTY3YikKICAgICAgICA7CgogICAgICAgIAogICAgCiAgICAKICAgICAgICAgICAgdmFyIG1hcmtlcl9lYjMyZjE3ZTk0YjE0MDVlODcyNWVmMDdiODA4ZTBhMCA9IEwubWFya2VyKAogICAgICAgICAgICAgICAgWzUxLjE3OTgyMDk2NTM2MDQ1LCAzLjc2NzMzNDgyOTQ4MDQyXSwKICAgICAgICAgICAgICAgIHt9CiAgICAgICAgICAgICkuYWRkVG8obWFya2VyX2NsdXN0ZXJfYWUzZmFjZGNmNmY3NGViYTg0ZTk3ZDNhOTAwMThjZjUpOwogICAgICAgIAogICAgCiAgICAgICAgdmFyIHBvcHVwX2QzYTc2OGE5YTRiZTQ1ODhhZjZhMjViY2I5YWQyZDQ4ID0gTC5wb3B1cCh7Im1heFdpZHRoIjogIjEwMCUifSk7CgogICAgICAgIAogICAgICAgICAgICB2YXIgaHRtbF9mN2U4ODM2YjQyYmI0YTQ0YTEyNGFmYTEzMWU3ZGIxOSA9ICQoYDxkaXYgaWQ9Imh0bWxfZjdlODgzNmI0MmJiNGE0NGExMjRhZmExMzFlN2RiMTkiIHN0eWxlPSJ3aWR0aDogMTAwLjAlOyBoZWlnaHQ6IDEwMC4wJTsiPkJvZGVtbG9jYXRpZTogaHR0cHM6Ly93d3cuZG92LnZsYWFuZGVyZW4uYmUvZGF0YS9ib2RlbWxvY2F0aWUvMTk1Mi0wMDUxNzU8YnI+IEJvZGVtb2JzZXJ2YXRpZTogaHR0cHM6Ly93d3cuZG92LnZsYWFuZGVyZW4uYmUvZGF0YS9ib2RlbW9ic2VydmF0aWUvMjAxOS02Mjc2MjU8YnI+IFZhbHVlOiAxLjcwOTIwMzQwMjkzODklPC9kaXY+YClbMF07CiAgICAgICAgICAgIHBvcHVwX2QzYTc2OGE5YTRiZTQ1ODhhZjZhMjViY2I5YWQyZDQ4LnNldENvbnRlbnQoaHRtbF9mN2U4ODM2YjQyYmI0YTQ0YTEyNGFmYTEzMWU3ZGIxOSk7CiAgICAgICAgCgogICAgICAgIG1hcmtlcl9lYjMyZjE3ZTk0YjE0MDVlODcyNWVmMDdiODA4ZTBhMC5iaW5kUG9wdXAocG9wdXBfZDNhNzY4YTlhNGJlNDU4OGFmNmEyNWJjYjlhZDJkNDgpCiAgICAgICAgOwoKICAgICAgICAKICAgIAogICAgCiAgICAgICAgICAgIHZhciBtYXJrZXJfMTkxNzIwMGZkZGJmNGMxZmI3ZDJkZGU2ZjM3ZjM0ZTkgPSBMLm1hcmtlcigKICAgICAgICAgICAgICAgIFs1MS4yNTI4NTM3NzU1NTc5NCwgMy41ODMwNzgxNDQ2MzE5ODE1XSwKICAgICAgICAgICAgICAgIHt9CiAgICAgICAgICAgICkuYWRkVG8obWFya2VyX2NsdXN0ZXJfYWUzZmFjZGNmNmY3NGViYTg0ZTk3ZDNhOTAwMThjZjUpOwogICAgICAgIAogICAgCiAgICAgICAgdmFyIHBvcHVwXzY0ZTk3MjgyMjliMDQzMTdiZjVjOTA1MDQxMTg5MmQ1ID0gTC5wb3B1cCh7Im1heFdpZHRoIjogIjEwMCUifSk7CgogICAgICAgIAogICAgICAgICAgICB2YXIgaHRtbF8wYWM3OWQ2NjRhZmY0ZjgxYWNkMjRlODVkOWEwZGUzMiA9ICQoYDxkaXYgaWQ9Imh0bWxfMGFjNzlkNjY0YWZmNGY4MWFjZDI0ZTg1ZDlhMGRlMzIiIHN0eWxlPSJ3aWR0aDogMTAwLjAlOyBoZWlnaHQ6IDEwMC4wJTsiPkJvZGVtbG9jYXRpZTogaHR0cHM6Ly93d3cuZG92LnZsYWFuZGVyZW4uYmUvZGF0YS9ib2RlbWxvY2F0aWUvMTk2Mi0wMDU2ODU8YnI+IEJvZGVtb2JzZXJ2YXRpZTogaHR0cHM6Ly93d3cuZG92LnZsYWFuZGVyZW4uYmUvZGF0YS9ib2RlbW9ic2VydmF0aWUvMjAxOS02OTI4MDU8YnI+IFZhbHVlOiAxLjEyJTwvZGl2PmApWzBdOwogICAgICAgICAgICBwb3B1cF82NGU5NzI4MjI5YjA0MzE3YmY1YzkwNTA0MTE4OTJkNS5zZXRDb250ZW50KGh0bWxfMGFjNzlkNjY0YWZmNGY4MWFjZDI0ZTg1ZDlhMGRlMzIpOwogICAgICAgIAoKICAgICAgICBtYXJrZXJfMTkxNzIwMGZkZGJmNGMxZmI3ZDJkZGU2ZjM3ZjM0ZTkuYmluZFBvcHVwKHBvcHVwXzY0ZTk3MjgyMjliMDQzMTdiZjVjOTA1MDQxMTg5MmQ1KQogICAgICAgIDsKCiAgICAgICAgCiAgICAKICAgIAogICAgICAgICAgICB2YXIgbWFya2VyX2VjMTJiOWRmN2ZmMTRhMDRhYWRlNDBjMjJhMThjOTBmID0gTC5tYXJrZXIoCiAgICAgICAgICAgICAgICBbNTAuOTIyNzk1NDk0Mzc5MTcsIDMuNTQyODE1MDEyMDIyMzc4M10sCiAgICAgICAgICAgICAgICB7fQogICAgICAgICAgICApLmFkZFRvKG1hcmtlcl9jbHVzdGVyX2FlM2ZhY2RjZjZmNzRlYmE4NGU5N2QzYTkwMDE4Y2Y1KTsKICAgICAgICAKICAgIAogICAgICAgIHZhciBwb3B1cF9kMTkwYmRiZWJkM2Q0ZGIxYmZjZDFhMzZlNmVkNzNhOSA9IEwucG9wdXAoeyJtYXhXaWR0aCI6ICIxMDAlIn0pOwoKICAgICAgICAKICAgICAgICAgICAgdmFyIGh0bWxfNWQ5YWMwMTQzZjA1NDA5N2JkNmZmYjIxZTUyNzIyYmQgPSAkKGA8ZGl2IGlkPSJodG1sXzVkOWFjMDE0M2YwNTQwOTdiZDZmZmIyMWU1MjcyMmJkIiBzdHlsZT0id2lkdGg6IDEwMC4wJTsgaGVpZ2h0OiAxMDAuMCU7Ij5Cb2RlbWxvY2F0aWU6IGh0dHBzOi8vd3d3LmRvdi52bGFhbmRlcmVuLmJlL2RhdGEvYm9kZW1sb2NhdGllLzE5NjItMDA1Nzc3PGJyPiBCb2RlbW9ic2VydmF0aWU6IGh0dHBzOi8vd3d3LmRvdi52bGFhbmRlcmVuLmJlL2RhdGEvYm9kZW1vYnNlcnZhdGllLzIwMTktNzA0MzYyPGJyPiBWYWx1ZTogMC43MDUlPC9kaXY+YClbMF07CiAgICAgICAgICAgIHBvcHVwX2QxOTBiZGJlYmQzZDRkYjFiZmNkMWEzNmU2ZWQ3M2E5LnNldENvbnRlbnQoaHRtbF81ZDlhYzAxNDNmMDU0MDk3YmQ2ZmZiMjFlNTI3MjJiZCk7CiAgICAgICAgCgogICAgICAgIG1hcmtlcl9lYzEyYjlkZjdmZjE0YTA0YWFkZTQwYzIyYTE4YzkwZi5iaW5kUG9wdXAocG9wdXBfZDE5MGJkYmViZDNkNGRiMWJmY2QxYTM2ZTZlZDczYTkpCiAgICAgICAgOwoKICAgICAgICAKICAgIAogICAgCiAgICAgICAgICAgIHZhciBtYXJrZXJfODQ3Y2VhY2NkNTQzNDMyMzlmMzI1ZjljYjUxOGZhNjcgPSBMLm1hcmtlcigKICAgICAgICAgICAgICAgIFs1MC45ODE1NTYzNzI1MDUyOSwgMy42MTcxNDM3MjM2NTMzMjRdLAogICAgICAgICAgICAgICAge30KICAgICAgICAgICAgKS5hZGRUbyhtYXJrZXJfY2x1c3Rlcl9hZTNmYWNkY2Y2Zjc0ZWJhODRlOTdkM2E5MDAxOGNmNSk7CiAgICAgICAgCiAgICAKICAgICAgICB2YXIgcG9wdXBfN2UyMWNjOTA0NWJlNGYxZTkyYWU4ZTNjODkzNWQ2OGQgPSBMLnBvcHVwKHsibWF4V2lkdGgiOiAiMTAwJSJ9KTsKCiAgICAgICAgCiAgICAgICAgICAgIHZhciBodG1sX2FhYzllYjY4YmMyZjRiMjE5OTJhZDg4MzBhZWQ0N2E4ID0gJChgPGRpdiBpZD0iaHRtbF9hYWM5ZWI2OGJjMmY0YjIxOTkyYWQ4ODMwYWVkNDdhOCIgc3R5bGU9IndpZHRoOiAxMDAuMCU7IGhlaWdodDogMTAwLjAlOyI+Qm9kZW1sb2NhdGllOiBodHRwczovL3d3dy5kb3YudmxhYW5kZXJlbi5iZS9kYXRhL2JvZGVtbG9jYXRpZS8xOTYyLTAwNzQxNTxicj4gQm9kZW1vYnNlcnZhdGllOiBodHRwczovL3d3dy5kb3YudmxhYW5kZXJlbi5iZS9kYXRhL2JvZGVtb2JzZXJ2YXRpZS8yMDE5LTkxMzI1NTxicj4gVmFsdWU6IDEuOTglPC9kaXY+YClbMF07CiAgICAgICAgICAgIHBvcHVwXzdlMjFjYzkwNDViZTRmMWU5MmFlOGUzYzg5MzVkNjhkLnNldENvbnRlbnQoaHRtbF9hYWM5ZWI2OGJjMmY0YjIxOTkyYWQ4ODMwYWVkNDdhOCk7CiAgICAgICAgCgogICAgICAgIG1hcmtlcl84NDdjZWFjY2Q1NDM0MzIzOWYzMjVmOWNiNTE4ZmE2Ny5iaW5kUG9wdXAocG9wdXBfN2UyMWNjOTA0NWJlNGYxZTkyYWU4ZTNjODkzNWQ2OGQpCiAgICAgICAgOwoKICAgICAgICAKICAgIAogICAgCiAgICAgICAgICAgIHZhciBtYXJrZXJfZTNjOWQyMGRiNGU5NDdkMGE0NmZjOWRiZGRkODcwNzAgPSBMLm1hcmtlcigKICAgICAgICAgICAgICAgIFs1MS4xOTQ3OTMyODcwNDE5NiwgNC4yNjI3ODM0MjcxNjk2MThdLAogICAgICAgICAgICAgICAge30KICAgICAgICAgICAgKS5hZGRUbyhtYXJrZXJfY2x1c3Rlcl9hZTNmYWNkY2Y2Zjc0ZWJhODRlOTdkM2E5MDAxOGNmNSk7CiAgICAgICAgCiAgICAKICAgICAgICB2YXIgcG9wdXBfZmY2YTg3Y2Q3NTdiNGQ4YTk4NGJjYjQyNDA1ZThiMTQgPSBMLnBvcHVwKHsibWF4V2lkdGgiOiAiMTAwJSJ9KTsKCiAgICAgICAgCiAgICAgICAgICAgIHZhciBodG1sXzI4ZTQ2YjA0Y2YyYzRjZDBiYzc1OTNkMzM0MWY3YTJmID0gJChgPGRpdiBpZD0iaHRtbF8yOGU0NmIwNGNmMmM0Y2QwYmM3NTkzZDMzNDFmN2EyZiIgc3R5bGU9IndpZHRoOiAxMDAuMCU7IGhlaWdodDogMTAwLjAlOyI+Qm9kZW1sb2NhdGllOiBodHRwczovL3d3dy5kb3YudmxhYW5kZXJlbi5iZS9kYXRhL2JvZGVtbG9jYXRpZS8xOTQ5LTAwNzQ0Nzxicj4gQm9kZW1vYnNlcnZhdGllOiBodHRwczovL3d3dy5kb3YudmxhYW5kZXJlbi5iZS9kYXRhL2JvZGVtb2JzZXJ2YXRpZS8yMDE5LTkxNzMyMjxicj4gVmFsdWU6IDEuMDY3Mjg1MzgyODMwNjMlPC9kaXY+YClbMF07CiAgICAgICAgICAgIHBvcHVwX2ZmNmE4N2NkNzU3YjRkOGE5ODRiY2I0MjQwNWU4YjE0LnNldENvbnRlbnQoaHRtbF8yOGU0NmIwNGNmMmM0Y2QwYmM3NTkzZDMzNDFmN2EyZik7CiAgICAgICAgCgogICAgICAgIG1hcmtlcl9lM2M5ZDIwZGI0ZTk0N2QwYTQ2ZmM5ZGJkZGQ4NzA3MC5iaW5kUG9wdXAocG9wdXBfZmY2YTg3Y2Q3NTdiNGQ4YTk4NGJjYjQyNDA1ZThiMTQpCiAgICAgICAgOwoKICAgICAgICAKICAgIAogICAgCiAgICAgICAgICAgIHZhciBtYXJrZXJfNWI1MDAxMDBlZThmNDEwOWIzYWRhNmMzYmU4ODQ5NmQgPSBMLm1hcmtlcigKICAgICAgICAgICAgICAgIFs1MC45NTI4MzUxNjA3MDA2MiwgMy45OTI1MTQ0NTI5MDk5MDg2XSwKICAgICAgICAgICAgICAgIHt9CiAgICAgICAgICAgICkuYWRkVG8obWFya2VyX2NsdXN0ZXJfYWUzZmFjZGNmNmY3NGViYTg0ZTk3ZDNhOTAwMThjZjUpOwogICAgICAgIAogICAgCiAgICAgICAgdmFyIHBvcHVwX2M2N2QyYzFmZDNmMjQ1YTJiN2RiNjc3NTliZDlmYjY4ID0gTC5wb3B1cCh7Im1heFdpZHRoIjogIjEwMCUifSk7CgogICAgICAgIAogICAgICAgICAgICB2YXIgaHRtbF9mMmZkNzE2NjRkMzc0NDg4YmEwODRmMzdmZmRjODViMSA9ICQoYDxkaXYgaWQ9Imh0bWxfZjJmZDcxNjY0ZDM3NDQ4OGJhMDg0ZjM3ZmZkYzg1YjEiIHN0eWxlPSJ3aWR0aDogMTAwLjAlOyBoZWlnaHQ6IDEwMC4wJTsiPkJvZGVtbG9jYXRpZTogaHR0cHM6Ly93d3cuZG92LnZsYWFuZGVyZW4uYmUvZGF0YS9ib2RlbWxvY2F0aWUvMTk2MC0wMDc1MjQ8YnI+IEJvZGVtb2JzZXJ2YXRpZTogaHR0cHM6Ly93d3cuZG92LnZsYWFuZGVyZW4uYmUvZGF0YS9ib2RlbW9ic2VydmF0aWUvMjAxOS05Mjc1MjA8YnI+IFZhbHVlOiAxLjE4JTwvZGl2PmApWzBdOwogICAgICAgICAgICBwb3B1cF9jNjdkMmMxZmQzZjI0NWEyYjdkYjY3NzU5YmQ5ZmI2OC5zZXRDb250ZW50KGh0bWxfZjJmZDcxNjY0ZDM3NDQ4OGJhMDg0ZjM3ZmZkYzg1YjEpOwogICAgICAgIAoKICAgICAgICBtYXJrZXJfNWI1MDAxMDBlZThmNDEwOWIzYWRhNmMzYmU4ODQ5NmQuYmluZFBvcHVwKHBvcHVwX2M2N2QyYzFmZDNmMjQ1YTJiN2RiNjc3NTliZDlmYjY4KQogICAgICAgIDsKCiAgICAgICAgCiAgICAKICAgIAogICAgICAgICAgICB2YXIgbWFya2VyXzU1NzhiMDFjOGFhZDRlY2JiOTJkYzNkZGFkNWI3YTRiID0gTC5tYXJrZXIoCiAgICAgICAgICAgICAgICBbNTEuMjA2NDAwOTY5NjYyOCwgNC4yOTA2NTk0NzExOTI2MDhdLAogICAgICAgICAgICAgICAge30KICAgICAgICAgICAgKS5hZGRUbyhtYXJrZXJfY2x1c3Rlcl9hZTNmYWNkY2Y2Zjc0ZWJhODRlOTdkM2E5MDAxOGNmNSk7CiAgICAgICAgCiAgICAKICAgICAgICB2YXIgcG9wdXBfNGUzZjI1ZDUwZTBmNGFmNjgzZjk5MjFjOTU2MzE3MmUgPSBMLnBvcHVwKHsibWF4V2lkdGgiOiAiMTAwJSJ9KTsKCiAgICAgICAgCiAgICAgICAgICAgIHZhciBodG1sX2IyMWQ2YWFlNjJiZTQxNjk5YzBkYTVhNzMwNDAwNmJlID0gJChgPGRpdiBpZD0iaHRtbF9iMjFkNmFhZTYyYmU0MTY5OWMwZGE1YTczMDQwMDZiZSIgc3R5bGU9IndpZHRoOiAxMDAuMCU7IGhlaWdodDogMTAwLjAlOyI+Qm9kZW1sb2NhdGllOiBodHRwczovL3d3dy5kb3YudmxhYW5kZXJlbi5iZS9kYXRhL2JvZGVtbG9jYXRpZS8xOTQ5LTAwMTEzNjxicj4gQm9kZW1vYnNlcnZhdGllOiBodHRwczovL3d3dy5kb3YudmxhYW5kZXJlbi5iZS9kYXRhL2JvZGVtb2JzZXJ2YXRpZS8yMDE5LTExODMwMjxicj4gVmFsdWU6IDAuOTg5OTQ1ODYyMzM1NjU0JTwvZGl2PmApWzBdOwogICAgICAgICAgICBwb3B1cF80ZTNmMjVkNTBlMGY0YWY2ODNmOTkyMWM5NTYzMTcyZS5zZXRDb250ZW50KGh0bWxfYjIxZDZhYWU2MmJlNDE2OTljMGRhNWE3MzA0MDA2YmUpOwogICAgICAgIAoKICAgICAgICBtYXJrZXJfNTU3OGIwMWM4YWFkNGVjYmI5MmRjM2RkYWQ1YjdhNGIuYmluZFBvcHVwKHBvcHVwXzRlM2YyNWQ1MGUwZjRhZjY4M2Y5OTIxYzk1NjMxNzJlKQogICAgICAgIDsKCiAgICAgICAgCiAgICAKICAgIAogICAgICAgICAgICB2YXIgbWFya2VyX2IwOWNlYTY4YWE1ZDQyYjFiMjg5ZWYyODFmY2FhY2VlID0gTC5tYXJrZXIoCiAgICAgICAgICAgICAgICBbNTEuMjA5NDA1MDMyMjU1MTksIDQuMjMyODQzMDA3NjY4NTU1NV0sCiAgICAgICAgICAgICAgICB7fQogICAgICAgICAgICApLmFkZFRvKG1hcmtlcl9jbHVzdGVyX2FlM2ZhY2RjZjZmNzRlYmE4NGU5N2QzYTkwMDE4Y2Y1KTsKICAgICAgICAKICAgIAogICAgICAgIHZhciBwb3B1cF9hNDNkN2Y0YWFjODQ0ODdhOTRkZjVhNjIzM2IzM2VlZiA9IEwucG9wdXAoeyJtYXhXaWR0aCI6ICIxMDAlIn0pOwoKICAgICAgICAKICAgICAgICAgICAgdmFyIGh0bWxfMjlmNjFjY2UxZWRiNDg1ZThkMzE5ZjI1MGMzYzc0NTkgPSAkKGA8ZGl2IGlkPSJodG1sXzI5ZjYxY2NlMWVkYjQ4NWU4ZDMxOWYyNTBjM2M3NDU5IiBzdHlsZT0id2lkdGg6IDEwMC4wJTsgaGVpZ2h0OiAxMDAuMCU7Ij5Cb2RlbWxvY2F0aWU6IGh0dHBzOi8vd3d3LmRvdi52bGFhbmRlcmVuLmJlL2RhdGEvYm9kZW1sb2NhdGllLzE5NDktMDAxNjE3PGJyPiBCb2RlbW9ic2VydmF0aWU6IGh0dHBzOi8vd3d3LmRvdi52bGFhbmRlcmVuLmJlL2RhdGEvYm9kZW1vYnNlcnZhdGllLzIwMTktMTc3ODY0PGJyPiBWYWx1ZTogMS40NDYyNDkwMzMyNTU5OSU8L2Rpdj5gKVswXTsKICAgICAgICAgICAgcG9wdXBfYTQzZDdmNGFhYzg0NDg3YTk0ZGY1YTYyMzNiMzNlZWYuc2V0Q29udGVudChodG1sXzI5ZjYxY2NlMWVkYjQ4NWU4ZDMxOWYyNTBjM2M3NDU5KTsKICAgICAgICAKCiAgICAgICAgbWFya2VyX2IwOWNlYTY4YWE1ZDQyYjFiMjg5ZWYyODFmY2FhY2VlLmJpbmRQb3B1cChwb3B1cF9hNDNkN2Y0YWFjODQ0ODdhOTRkZjVhNjIzM2IzM2VlZikKICAgICAgICA7CgogICAgICAgIAogICAgCiAgICAKICAgICAgICAgICAgdmFyIG1hcmtlcl84OWJhNGFlMmRmNzI0NzNiODU0NjY0MjkxYmFiODRmNCA9IEwubWFya2VyKAogICAgICAgICAgICAgICAgWzUxLjA3Njk0MDU0ODU3NTI5LCA0LjEzNTc5NTQwMzc5NzEyM10sCiAgICAgICAgICAgICAgICB7fQogICAgICAgICAgICApLmFkZFRvKG1hcmtlcl9jbHVzdGVyX2FlM2ZhY2RjZjZmNzRlYmE4NGU5N2QzYTkwMDE4Y2Y1KTsKICAgICAgICAKICAgIAogICAgICAgIHZhciBwb3B1cF81OTg2YWNjZDYwOTI0YTU2YTAyYzVlYjVlY2M2Nzg4MSA9IEwucG9wdXAoeyJtYXhXaWR0aCI6ICIxMDAlIn0pOwoKICAgICAgICAKICAgICAgICAgICAgdmFyIGh0bWxfNWM3MmYzM2Q5ZmNmNDUyMTgzNDk2ZmFiMDJlODZiNzkgPSAkKGA8ZGl2IGlkPSJodG1sXzVjNzJmMzNkOWZjZjQ1MjE4MzQ5NmZhYjAyZTg2Yjc5IiBzdHlsZT0id2lkdGg6IDEwMC4wJTsgaGVpZ2h0OiAxMDAuMCU7Ij5Cb2RlbWxvY2F0aWU6IGh0dHBzOi8vd3d3LmRvdi52bGFhbmRlcmVuLmJlL2RhdGEvYm9kZW1sb2NhdGllLzE5NTItMDAxOTY3PGJyPiBCb2RlbW9ic2VydmF0aWU6IGh0dHBzOi8vd3d3LmRvdi52bGFhbmRlcmVuLmJlL2RhdGEvYm9kZW1vYnNlcnZhdGllLzIwMTktMjIzNTkxPGJyPiBWYWx1ZTogMC44NTA3MzQ3MjU0NDQ3MDIlPC9kaXY+YClbMF07CiAgICAgICAgICAgIHBvcHVwXzU5ODZhY2NkNjA5MjRhNTZhMDJjNWViNWVjYzY3ODgxLnNldENvbnRlbnQoaHRtbF81YzcyZjMzZDlmY2Y0NTIxODM0OTZmYWIwMmU4NmI3OSk7CiAgICAgICAgCgogICAgICAgIG1hcmtlcl84OWJhNGFlMmRmNzI0NzNiODU0NjY0MjkxYmFiODRmNC5iaW5kUG9wdXAocG9wdXBfNTk4NmFjY2Q2MDkyNGE1NmEwMmM1ZWI1ZWNjNjc4ODEpCiAgICAgICAgOwoKICAgICAgICAKICAgIAogICAgCiAgICAgICAgICAgIHZhciBtYXJrZXJfN2M4ZjA2ODU1NGE0NDgzNWE4M2Q3MDE3NTM3ZjM2MTQgPSBMLm1hcmtlcigKICAgICAgICAgICAgICAgIFs1MC45OTMxNDkxODA3NTA4MywgNC4yMDIxNzM2NTg4MDcyNzVdLAogICAgICAgICAgICAgICAge30KICAgICAgICAgICAgKS5hZGRUbyhtYXJrZXJfY2x1c3Rlcl9hZTNmYWNkY2Y2Zjc0ZWJhODRlOTdkM2E5MDAxOGNmNSk7CiAgICAgICAgCiAgICAKICAgICAgICB2YXIgcG9wdXBfNjdiMmVlYTZkZTIyNGFmZTg1YmZjMDFiOGEwZWM1NWIgPSBMLnBvcHVwKHsibWF4V2lkdGgiOiAiMTAwJSJ9KTsKCiAgICAgICAgCiAgICAgICAgICAgIHZhciBodG1sXzM5OTRkZDUzNjRlYzRhZDNhYzgxNGNmMmQ4NGZlYjkxID0gJChgPGRpdiBpZD0iaHRtbF8zOTk0ZGQ1MzY0ZWM0YWQzYWM4MTRjZjJkODRmZWI5MSIgc3R5bGU9IndpZHRoOiAxMDAuMCU7IGhlaWdodDogMTAwLjAlOyI+Qm9kZW1sb2NhdGllOiBodHRwczovL3d3dy5kb3YudmxhYW5kZXJlbi5iZS9kYXRhL2JvZGVtbG9jYXRpZS8xOTUxLTAwMjA2NTxicj4gQm9kZW1vYnNlcnZhdGllOiBodHRwczovL3d3dy5kb3YudmxhYW5kZXJlbi5iZS9kYXRhL2JvZGVtb2JzZXJ2YXRpZS8yMDE5LTIzNTk5Nzxicj4gVmFsdWU6IDEuNzcxMDc1MDE5MzM0ODglPC9kaXY+YClbMF07CiAgICAgICAgICAgIHBvcHVwXzY3YjJlZWE2ZGUyMjRhZmU4NWJmYzAxYjhhMGVjNTViLnNldENvbnRlbnQoaHRtbF8zOTk0ZGQ1MzY0ZWM0YWQzYWM4MTRjZjJkODRmZWI5MSk7CiAgICAgICAgCgogICAgICAgIG1hcmtlcl83YzhmMDY4NTU0YTQ0ODM1YTgzZDcwMTc1MzdmMzYxNC5iaW5kUG9wdXAocG9wdXBfNjdiMmVlYTZkZTIyNGFmZTg1YmZjMDFiOGEwZWM1NWIpCiAgICAgICAgOwoKICAgICAgICAKICAgIAogICAgCiAgICAgICAgICAgIHZhciBtYXJrZXJfYjlmYTliNWIwYmE1NGI4ZGJhNDg5Njc4YjhjZWMyM2EgPSBMLm1hcmtlcigKICAgICAgICAgICAgICAgIFs1MC43NjU2ODY2NjMwMTg0MTQsIDMuNDY1MDkyMTYxNzQyODkyXSwKICAgICAgICAgICAgICAgIHt9CiAgICAgICAgICAgICkuYWRkVG8obWFya2VyX2NsdXN0ZXJfYWUzZmFjZGNmNmY3NGViYTg0ZTk3ZDNhOTAwMThjZjUpOwogICAgICAgIAogICAgCiAgICAgICAgdmFyIHBvcHVwX2ZjMzM3ZTY4NWFlNjQzZWJhNjBkOWE1NzU5M2ZlOTkyID0gTC5wb3B1cCh7Im1heFdpZHRoIjogIjEwMCUifSk7CgogICAgICAgIAogICAgICAgICAgICB2YXIgaHRtbF9jZWE2ZGYyNDczZTU0NDlkYTUxOGE3YWQ3NzlkNGQzNSA9ICQoYDxkaXYgaWQ9Imh0bWxfY2VhNmRmMjQ3M2U1NDQ5ZGE1MThhN2FkNzc5ZDRkMzUiIHN0eWxlPSJ3aWR0aDogMTAwLjAlOyBoZWlnaHQ6IDEwMC4wJTsiPkJvZGVtbG9jYXRpZTogaHR0cHM6Ly93d3cuZG92LnZsYWFuZGVyZW4uYmUvZGF0YS9ib2RlbWxvY2F0aWUvMTk1OC0wMDQ3Mjc8YnI+IEJvZGVtb2JzZXJ2YXRpZTogaHR0cHM6Ly93d3cuZG92LnZsYWFuZGVyZW4uYmUvZGF0YS9ib2RlbW9ic2VydmF0aWUvMjAxOS01NzE1NTc8YnI+IFZhbHVlOiAwLjkyMDM0MDI5Mzg5MDE3OCU8L2Rpdj5gKVswXTsKICAgICAgICAgICAgcG9wdXBfZmMzMzdlNjg1YWU2NDNlYmE2MGQ5YTU3NTkzZmU5OTIuc2V0Q29udGVudChodG1sX2NlYTZkZjI0NzNlNTQ0OWRhNTE4YTdhZDc3OWQ0ZDM1KTsKICAgICAgICAKCiAgICAgICAgbWFya2VyX2I5ZmE5YjViMGJhNTRiOGRiYTQ4OTY3OGI4Y2VjMjNhLmJpbmRQb3B1cChwb3B1cF9mYzMzN2U2ODVhZTY0M2ViYTYwZDlhNTc1OTNmZTk5MikKICAgICAgICA7CgogICAgICAgIAogICAgCiAgICAKICAgICAgICAgICAgdmFyIG1hcmtlcl9jYWM5NTA4OGRlMGM0NjBmYjFjYjFhNTRhNzA0NjZjYiA9IEwubWFya2VyKAogICAgICAgICAgICAgICAgWzUxLjEyMzg4OTU1MTQzNTE5LCAzLjUzNzI3NzgwNTI0MTkxMzZdLAogICAgICAgICAgICAgICAge30KICAgICAgICAgICAgKS5hZGRUbyhtYXJrZXJfY2x1c3Rlcl9hZTNmYWNkY2Y2Zjc0ZWJhODRlOTdkM2E5MDAxOGNmNSk7CiAgICAgICAgCiAgICAKICAgICAgICB2YXIgcG9wdXBfZTE3OWIyYmQ5MDk1NGVlNTliYzVmYWE0MGY1MWM1NGYgPSBMLnBvcHVwKHsibWF4V2lkdGgiOiAiMTAwJSJ9KTsKCiAgICAgICAgCiAgICAgICAgICAgIHZhciBodG1sXzVkNDJiOThjNzRjYTRiODk4ZWE0OTU1MTQ0NGI5OTI3ID0gJChgPGRpdiBpZD0iaHRtbF81ZDQyYjk4Yzc0Y2E0Yjg5OGVhNDk1NTE0NDRiOTkyNyIgc3R5bGU9IndpZHRoOiAxMDAuMCU7IGhlaWdodDogMTAwLjAlOyI+Qm9kZW1sb2NhdGllOiBodHRwczovL3d3dy5kb3YudmxhYW5kZXJlbi5iZS9kYXRhL2JvZGVtbG9jYXRpZS8xOTYyLTAwNDczNTxicj4gQm9kZW1vYnNlcnZhdGllOiBodHRwczovL3d3dy5kb3YudmxhYW5kZXJlbi5iZS9kYXRhL2JvZGVtb2JzZXJ2YXRpZS8yMDE5LTU3MjUwMDxicj4gVmFsdWU6IDEuNiU8L2Rpdj5gKVswXTsKICAgICAgICAgICAgcG9wdXBfZTE3OWIyYmQ5MDk1NGVlNTliYzVmYWE0MGY1MWM1NGYuc2V0Q29udGVudChodG1sXzVkNDJiOThjNzRjYTRiODk4ZWE0OTU1MTQ0NGI5OTI3KTsKICAgICAgICAKCiAgICAgICAgbWFya2VyX2NhYzk1MDg4ZGUwYzQ2MGZiMWNiMWE1NGE3MDQ2NmNiLmJpbmRQb3B1cChwb3B1cF9lMTc5YjJiZDkwOTU0ZWU1OWJjNWZhYTQwZjUxYzU0ZikKICAgICAgICA7CgogICAgICAgIAogICAgCiAgICAKICAgICAgICAgICAgdmFyIG1hcmtlcl8xYjRiY2M2MjRiOTU0ZTc2OGYzZmY5ZDlhNmFkYjBjMiA9IEwubWFya2VyKAogICAgICAgICAgICAgICAgWzUwLjk4MzYwMDMyNjc1NzEzLCAzLjkyMTU2MTIwMDY5OTc3OTVdLAogICAgICAgICAgICAgICAge30KICAgICAgICAgICAgKS5hZGRUbyhtYXJrZXJfY2x1c3Rlcl9hZTNmYWNkY2Y2Zjc0ZWJhODRlOTdkM2E5MDAxOGNmNSk7CiAgICAgICAgCiAgICAKICAgICAgICB2YXIgcG9wdXBfMmY4NDZiYTdiYjY5NGZmMzliYzM5Yzg2OGMxMTc0MTggPSBMLnBvcHVwKHsibWF4V2lkdGgiOiAiMTAwJSJ9KTsKCiAgICAgICAgCiAgICAgICAgICAgIHZhciBodG1sX2MyOWQyZTBkNDU3ZTQ4M2M5ZmI4MmFiYWU1OTlmZGE4ID0gJChgPGRpdiBpZD0iaHRtbF9jMjlkMmUwZDQ1N2U0ODNjOWZiODJhYmFlNTk5ZmRhOCIgc3R5bGU9IndpZHRoOiAxMDAuMCU7IGhlaWdodDogMTAwLjAlOyI+Qm9kZW1sb2NhdGllOiBodHRwczovL3d3dy5kb3YudmxhYW5kZXJlbi5iZS9kYXRhL2JvZGVtbG9jYXRpZS8xOTU4LTAwNTUwMjxicj4gQm9kZW1vYnNlcnZhdGllOiBodHRwczovL3d3dy5kb3YudmxhYW5kZXJlbi5iZS9kYXRhL2JvZGVtb2JzZXJ2YXRpZS8yMDE5LTY2OTkwODxicj4gVmFsdWU6IDAuOTM1ODA4MTk3OTg5MTcyJTwvZGl2PmApWzBdOwogICAgICAgICAgICBwb3B1cF8yZjg0NmJhN2JiNjk0ZmYzOWJjMzljODY4YzExNzQxOC5zZXRDb250ZW50KGh0bWxfYzI5ZDJlMGQ0NTdlNDgzYzlmYjgyYWJhZTU5OWZkYTgpOwogICAgICAgIAoKICAgICAgICBtYXJrZXJfMWI0YmNjNjI0Yjk1NGU3NjhmM2ZmOWQ5YTZhZGIwYzIuYmluZFBvcHVwKHBvcHVwXzJmODQ2YmE3YmI2OTRmZjM5YmMzOWM4NjhjMTE3NDE4KQogICAgICAgIDsKCiAgICAgICAgCiAgICAKICAgIAogICAgICAgICAgICB2YXIgbWFya2VyX2I5YjljYjQ1NDVmMjQyYTE5MjUwNWNkMjAxOTViMmZmID0gTC5tYXJrZXIoCiAgICAgICAgICAgICAgICBbNTEuMDEyNDYyNTkyMTA1OTUsIDMuNzg3MTY1Njk4NzA2MDg3NV0sCiAgICAgICAgICAgICAgICB7fQogICAgICAgICAgICApLmFkZFRvKG1hcmtlcl9jbHVzdGVyX2FlM2ZhY2RjZjZmNzRlYmE4NGU5N2QzYTkwMDE4Y2Y1KTsKICAgICAgICAKICAgIAogICAgICAgIHZhciBwb3B1cF9mZTIyMWU5NGMxOTM0YjVjOGJmNDhiZmM3MTc4MGFjZCA9IEwucG9wdXAoeyJtYXhXaWR0aCI6ICIxMDAlIn0pOwoKICAgICAgICAKICAgICAgICAgICAgdmFyIGh0bWxfYTlhMzY0ZDAwM2E3NGIzOGE2N2ZhYzZhN2U2NmI5NTUgPSAkKGA8ZGl2IGlkPSJodG1sX2E5YTM2NGQwMDNhNzRiMzhhNjdmYWM2YTdlNjZiOTU1IiBzdHlsZT0id2lkdGg6IDEwMC4wJTsgaGVpZ2h0OiAxMDAuMCU7Ij5Cb2RlbWxvY2F0aWU6IGh0dHBzOi8vd3d3LmRvdi52bGFhbmRlcmVuLmJlL2RhdGEvYm9kZW1sb2NhdGllLzE5NTAtMDA2MDIyPGJyPiBCb2RlbW9ic2VydmF0aWU6IGh0dHBzOi8vd3d3LmRvdi52bGFhbmRlcmVuLmJlL2RhdGEvYm9kZW1vYnNlcnZhdGllLzIwMTktNzM0MTg1PGJyPiBWYWx1ZTogMS44MzI5NDY2MzU3MzA4NiU8L2Rpdj5gKVswXTsKICAgICAgICAgICAgcG9wdXBfZmUyMjFlOTRjMTkzNGI1YzhiZjQ4YmZjNzE3ODBhY2Quc2V0Q29udGVudChodG1sX2E5YTM2NGQwMDNhNzRiMzhhNjdmYWM2YTdlNjZiOTU1KTsKICAgICAgICAKCiAgICAgICAgbWFya2VyX2I5YjljYjQ1NDVmMjQyYTE5MjUwNWNkMjAxOTViMmZmLmJpbmRQb3B1cChwb3B1cF9mZTIyMWU5NGMxOTM0YjVjOGJmNDhiZmM3MTc4MGFjZCkKICAgICAgICA7CgogICAgICAgIAogICAgCiAgICAKICAgICAgICAgICAgdmFyIG1hcmtlcl9mMDVhMzFkZTA2NDA0ZDI2OTBjM2YzMzFmMjkwNmU2ZSA9IEwubWFya2VyKAogICAgICAgICAgICAgICAgWzUxLjE5OTEzODUwMTE4NzQ3LCA0LjMwNjI2NTczMzA4MTI3NTVdLAogICAgICAgICAgICAgICAge30KICAgICAgICAgICAgKS5hZGRUbyhtYXJrZXJfY2x1c3Rlcl9hZTNmYWNkY2Y2Zjc0ZWJhODRlOTdkM2E5MDAxOGNmNSk7CiAgICAgICAgCiAgICAKICAgICAgICB2YXIgcG9wdXBfMzI1MDU2ZTYyNzBiNDM4Y2I1YjZiNzYwY2I5NzA0OTEgPSBMLnBvcHVwKHsibWF4V2lkdGgiOiAiMTAwJSJ9KTsKCiAgICAgICAgCiAgICAgICAgICAgIHZhciBodG1sXzRmMzFiODAwMGUyZTRiNzRhOWNhYTE4NTdhOTlmMmIwID0gJChgPGRpdiBpZD0iaHRtbF80ZjMxYjgwMDBlMmU0Yjc0YTljYWExODU3YTk5ZjJiMCIgc3R5bGU9IndpZHRoOiAxMDAuMCU7IGhlaWdodDogMTAwLjAlOyI+Qm9kZW1sb2NhdGllOiBodHRwczovL3d3dy5kb3YudmxhYW5kZXJlbi5iZS9kYXRhL2JvZGVtbG9jYXRpZS8xOTQ5LTAwNjA2Nzxicj4gQm9kZW1vYnNlcnZhdGllOiBodHRwczovL3d3dy5kb3YudmxhYW5kZXJlbi5iZS9kYXRhL2JvZGVtb2JzZXJ2YXRpZS8yMDE5LTczOTY0ODxicj4gVmFsdWU6IDIuMDQ5NDk3MjkzMTE2NzglPC9kaXY+YClbMF07CiAgICAgICAgICAgIHBvcHVwXzMyNTA1NmU2MjcwYjQzOGNiNWI2Yjc2MGNiOTcwNDkxLnNldENvbnRlbnQoaHRtbF80ZjMxYjgwMDBlMmU0Yjc0YTljYWExODU3YTk5ZjJiMCk7CiAgICAgICAgCgogICAgICAgIG1hcmtlcl9mMDVhMzFkZTA2NDA0ZDI2OTBjM2YzMzFmMjkwNmU2ZS5iaW5kUG9wdXAocG9wdXBfMzI1MDU2ZTYyNzBiNDM4Y2I1YjZiNzYwY2I5NzA0OTEpCiAgICAgICAgOwoKICAgICAgICAKICAgIAogICAgCiAgICAgICAgICAgIHZhciBtYXJrZXJfMTc0NTExOTA5ZDViNGZmN2JhNDM4MGI1ZjBkNTFkYTkgPSBMLm1hcmtlcigKICAgICAgICAgICAgICAgIFs1MS4xODM2ODkyNTEwODk5LCAzLjk4MzY2Mjg4MTcwNDE0XSwKICAgICAgICAgICAgICAgIHt9CiAgICAgICAgICAgICkuYWRkVG8obWFya2VyX2NsdXN0ZXJfYWUzZmFjZGNmNmY3NGViYTg0ZTk3ZDNhOTAwMThjZjUpOwogICAgICAgIAogICAgCiAgICAgICAgdmFyIHBvcHVwXzQ2M2IxNzBiYjcwMTRhOGJhZDZlZGI1MjU5NjViY2I4ID0gTC5wb3B1cCh7Im1heFdpZHRoIjogIjEwMCUifSk7CgogICAgICAgIAogICAgICAgICAgICB2YXIgaHRtbF81MDAxYjU4YjBmOGE0ODc3OTExMjUwMjgwN2M2YzEwNiA9ICQoYDxkaXYgaWQ9Imh0bWxfNTAwMWI1OGIwZjhhNDg3NzkxMTI1MDI4MDdjNmMxMDYiIHN0eWxlPSJ3aWR0aDogMTAwLjAlOyBoZWlnaHQ6IDEwMC4wJTsiPkJvZGVtbG9jYXRpZTogaHR0cHM6Ly93d3cuZG92LnZsYWFuZGVyZW4uYmUvZGF0YS9ib2RlbWxvY2F0aWUvMTk1My0wMDY3MzA8YnI+IEJvZGVtb2JzZXJ2YXRpZTogaHR0cHM6Ly93d3cuZG92LnZsYWFuZGVyZW4uYmUvZGF0YS9ib2RlbW9ic2VydmF0aWUvMjAxOS04MjM1MDU8YnI+IFZhbHVlOiAxLjQ4NDkxODc5MzUwMzQ4JTwvZGl2PmApWzBdOwogICAgICAgICAgICBwb3B1cF80NjNiMTcwYmI3MDE0YThiYWQ2ZWRiNTI1OTY1YmNiOC5zZXRDb250ZW50KGh0bWxfNTAwMWI1OGIwZjhhNDg3NzkxMTI1MDI4MDdjNmMxMDYpOwogICAgICAgIAoKICAgICAgICBtYXJrZXJfMTc0NTExOTA5ZDViNGZmN2JhNDM4MGI1ZjBkNTFkYTkuYmluZFBvcHVwKHBvcHVwXzQ2M2IxNzBiYjcwMTRhOGJhZDZlZGI1MjU5NjViY2I4KQogICAgICAgIDsKCiAgICAgICAgCiAgICAKICAgIAogICAgICAgICAgICB2YXIgbWFya2VyX2IzZjBiNWQ5NmIxMDRjZjZhYjZkNWY0MjRkNTRmZDFhID0gTC5tYXJrZXIoCiAgICAgICAgICAgICAgICBbNTEuMDUxMDQzNDExNDE5MTYsIDMuODgyMTk3NDQwMzUxNTExXSwKICAgICAgICAgICAgICAgIHt9CiAgICAgICAgICAgICkuYWRkVG8obWFya2VyX2NsdXN0ZXJfYWUzZmFjZGNmNmY3NGViYTg0ZTk3ZDNhOTAwMThjZjUpOwogICAgICAgIAogICAgCiAgICAgICAgdmFyIHBvcHVwX2RiZWZkOTAyZjhkODQ0MDY5YjkwZTRkM2VkMzQzMmRjID0gTC5wb3B1cCh7Im1heFdpZHRoIjogIjEwMCUifSk7CgogICAgICAgIAogICAgICAgICAgICB2YXIgaHRtbF82MDQ3MDYzODk0Y2Y0NDJkOWI2YzlmZjQ0NDFkZjA1OSA9ICQoYDxkaXYgaWQ9Imh0bWxfNjA0NzA2Mzg5NGNmNDQyZDliNmM5ZmY0NDQxZGYwNTkiIHN0eWxlPSJ3aWR0aDogMTAwLjAlOyBoZWlnaHQ6IDEwMC4wJTsiPkJvZGVtbG9jYXRpZTogaHR0cHM6Ly93d3cuZG92LnZsYWFuZGVyZW4uYmUvZGF0YS9ib2RlbWxvY2F0aWUvMTk1MS0wMDcxNTk8YnI+IEJvZGVtb2JzZXJ2YXRpZTogaHR0cHM6Ly93d3cuZG92LnZsYWFuZGVyZW4uYmUvZGF0YS9ib2RlbW9ic2VydmF0aWUvMjAxOS04Nzg0MTk8YnI+IFZhbHVlOiAxLjQzMDc4MTEyOTE1NyU8L2Rpdj5gKVswXTsKICAgICAgICAgICAgcG9wdXBfZGJlZmQ5MDJmOGQ4NDQwNjliOTBlNGQzZWQzNDMyZGMuc2V0Q29udGVudChodG1sXzYwNDcwNjM4OTRjZjQ0MmQ5YjZjOWZmNDQ0MWRmMDU5KTsKICAgICAgICAKCiAgICAgICAgbWFya2VyX2IzZjBiNWQ5NmIxMDRjZjZhYjZkNWY0MjRkNTRmZDFhLmJpbmRQb3B1cChwb3B1cF9kYmVmZDkwMmY4ZDg0NDA2OWI5MGU0ZDNlZDM0MzJkYykKICAgICAgICA7CgogICAgICAgIAogICAgCiAgICAKICAgICAgICAgICAgdmFyIG1hcmtlcl84YWEyY2QwZWNiMGQ0ZWMyYWQ4ZjYzZjUyZTYzYjE4ZSA9IEwubWFya2VyKAogICAgICAgICAgICAgICAgWzUxLjI1OTU1ODM1NzA0NTk5LCA0LjE5MDcyNDYwNjgyOTI3MjVdLAogICAgICAgICAgICAgICAge30KICAgICAgICAgICAgKS5hZGRUbyhtYXJrZXJfY2x1c3Rlcl9hZTNmYWNkY2Y2Zjc0ZWJhODRlOTdkM2E5MDAxOGNmNSk7CiAgICAgICAgCiAgICAKICAgICAgICB2YXIgcG9wdXBfM2I3MmY1N2Y2NDEzNDg1ZmIwYmUyODllYWY3YjEwN2IgPSBMLnBvcHVwKHsibWF4V2lkdGgiOiAiMTAwJSJ9KTsKCiAgICAgICAgCiAgICAgICAgICAgIHZhciBodG1sXzc2NDhiNWI4NTRkMDQ1ZDg4MjBkYmUyNDk2Y2Y0NWE1ID0gJChgPGRpdiBpZD0iaHRtbF83NjQ4YjViODU0ZDA0NWQ4ODIwZGJlMjQ5NmNmNDVhNSIgc3R5bGU9IndpZHRoOiAxMDAuMCU7IGhlaWdodDogMTAwLjAlOyI+Qm9kZW1sb2NhdGllOiBodHRwczovL3d3dy5kb3YudmxhYW5kZXJlbi5iZS9kYXRhL2JvZGVtbG9jYXRpZS8xOTUwLTAwMTA4MDxicj4gQm9kZW1vYnNlcnZhdGllOiBodHRwczovL3d3dy5kb3YudmxhYW5kZXJlbi5iZS9kYXRhL2JvZGVtb2JzZXJ2YXRpZS8yMDE5LTExMDU1Njxicj4gVmFsdWU6IDEuOTEwMjg2MTU2MjI1ODMlPC9kaXY+YClbMF07CiAgICAgICAgICAgIHBvcHVwXzNiNzJmNTdmNjQxMzQ4NWZiMGJlMjg5ZWFmN2IxMDdiLnNldENvbnRlbnQoaHRtbF83NjQ4YjViODU0ZDA0NWQ4ODIwZGJlMjQ5NmNmNDVhNSk7CiAgICAgICAgCgogICAgICAgIG1hcmtlcl84YWEyY2QwZWNiMGQ0ZWMyYWQ4ZjYzZjUyZTYzYjE4ZS5iaW5kUG9wdXAocG9wdXBfM2I3MmY1N2Y2NDEzNDg1ZmIwYmUyODllYWY3YjEwN2IpCiAgICAgICAgOwoKICAgICAgICAKICAgIAogICAgCiAgICAgICAgICAgIHZhciBtYXJrZXJfNGY5NGVlZDYyMjFkNGU2NmFmOWE4NjlkYTFiYzExN2UgPSBMLm1hcmtlcigKICAgICAgICAgICAgICAgIFs1MS4wMDgzMTk1NTI0NjYyNiwgMy43OTQ3MTE5MjUwNzY4ODY2XSwKICAgICAgICAgICAgICAgIHt9CiAgICAgICAgICAgICkuYWRkVG8obWFya2VyX2NsdXN0ZXJfYWUzZmFjZGNmNmY3NGViYTg0ZTk3ZDNhOTAwMThjZjUpOwogICAgICAgIAogICAgCiAgICAgICAgdmFyIHBvcHVwXzY4MTE2Y2E0YmU1MzRjMWY5YjlmMGFiZDQ4ODE1ZGZiID0gTC5wb3B1cCh7Im1heFdpZHRoIjogIjEwMCUifSk7CgogICAgICAgIAogICAgICAgICAgICB2YXIgaHRtbF8zMTg2MmVlNTE3OTM0MWYzOTEwMjM4ZTI2NDVjMjIwZSA9ICQoYDxkaXYgaWQ9Imh0bWxfMzE4NjJlZTUxNzkzNDFmMzkxMDIzOGUyNjQ1YzIyMGUiIHN0eWxlPSJ3aWR0aDogMTAwLjAlOyBoZWlnaHQ6IDEwMC4wJTsiPkJvZGVtbG9jYXRpZTogaHR0cHM6Ly93d3cuZG92LnZsYWFuZGVyZW4uYmUvZGF0YS9ib2RlbWxvY2F0aWUvMTk1MC0wMDExMDk8YnI+IEJvZGVtb2JzZXJ2YXRpZTogaHR0cHM6Ly93d3cuZG92LnZsYWFuZGVyZW4uYmUvZGF0YS9ib2RlbW9ic2VydmF0aWUvMjAxOS0xMTQ0NjM8YnI+IFZhbHVlOiAwLjgwNDMzMTAxMzE0NzcxOCU8L2Rpdj5gKVswXTsKICAgICAgICAgICAgcG9wdXBfNjgxMTZjYTRiZTUzNGMxZjliOWYwYWJkNDg4MTVkZmIuc2V0Q29udGVudChodG1sXzMxODYyZWU1MTc5MzQxZjM5MTAyMzhlMjY0NWMyMjBlKTsKICAgICAgICAKCiAgICAgICAgbWFya2VyXzRmOTRlZWQ2MjIxZDRlNjZhZjlhODY5ZGExYmMxMTdlLmJpbmRQb3B1cChwb3B1cF82ODExNmNhNGJlNTM0YzFmOWI5ZjBhYmQ0ODgxNWRmYikKICAgICAgICA7CgogICAgICAgIAogICAgCiAgICAKICAgICAgICAgICAgdmFyIG1hcmtlcl85OGE4ZTJhMjI5Y2I0YzQ4YWY2MjIwYWQ2ZDJkZDg4MiA9IEwubWFya2VyKAogICAgICAgICAgICAgICAgWzUxLjA4MTU4NTE2MDI4MDUzLCAzLjkwMTQzMTMzMjc1MjE1NzVdLAogICAgICAgICAgICAgICAge30KICAgICAgICAgICAgKS5hZGRUbyhtYXJrZXJfY2x1c3Rlcl9hZTNmYWNkY2Y2Zjc0ZWJhODRlOTdkM2E5MDAxOGNmNSk7CiAgICAgICAgCiAgICAKICAgICAgICB2YXIgcG9wdXBfNWY4YzVmMjczODhjNDI5ZGEyMzlkOTRhNDg5ZjNlZjMgPSBMLnBvcHVwKHsibWF4V2lkdGgiOiAiMTAwJSJ9KTsKCiAgICAgICAgCiAgICAgICAgICAgIHZhciBodG1sXzQyZjg2Y2Y0ZjM4MDRkYWQ5YTgzNThjMzlkN2JhNjQ4ID0gJChgPGRpdiBpZD0iaHRtbF80MmY4NmNmNGYzODA0ZGFkOWE4MzU4YzM5ZDdiYTY0OCIgc3R5bGU9IndpZHRoOiAxMDAuMCU7IGhlaWdodDogMTAwLjAlOyI+Qm9kZW1sb2NhdGllOiBodHRwczovL3d3dy5kb3YudmxhYW5kZXJlbi5iZS9kYXRhL2JvZGVtbG9jYXRpZS8xOTUxLTAwMjQ2Njxicj4gQm9kZW1vYnNlcnZhdGllOiBodHRwczovL3d3dy5kb3YudmxhYW5kZXJlbi5iZS9kYXRhL2JvZGVtb2JzZXJ2YXRpZS8yMDE5LTI4NjA1NDxicj4gVmFsdWU6IDIuMDg4MTY3MDUzMzY0MjclPC9kaXY+YClbMF07CiAgICAgICAgICAgIHBvcHVwXzVmOGM1ZjI3Mzg4YzQyOWRhMjM5ZDk0YTQ4OWYzZWYzLnNldENvbnRlbnQoaHRtbF80MmY4NmNmNGYzODA0ZGFkOWE4MzU4YzM5ZDdiYTY0OCk7CiAgICAgICAgCgogICAgICAgIG1hcmtlcl85OGE4ZTJhMjI5Y2I0YzQ4YWY2MjIwYWQ2ZDJkZDg4Mi5iaW5kUG9wdXAocG9wdXBfNWY4YzVmMjczODhjNDI5ZGEyMzlkOTRhNDg5ZjNlZjMpCiAgICAgICAgOwoKICAgICAgICAKICAgIAogICAgCiAgICAgICAgICAgIHZhciBtYXJrZXJfNzA0YWMwZThjNWZhNGU3ZWJkNWNjNWE3MjhlYWJkODYgPSBMLm1hcmtlcigKICAgICAgICAgICAgICAgIFs1MS4xNTU4ODU5MDQwODU0LCAzLjUzOTA4MTMzNjQ4NDQ1M10sCiAgICAgICAgICAgICAgICB7fQogICAgICAgICAgICApLmFkZFRvKG1hcmtlcl9jbHVzdGVyX2FlM2ZhY2RjZjZmNzRlYmE4NGU5N2QzYTkwMDE4Y2Y1KTsKICAgICAgICAKICAgIAogICAgICAgIHZhciBwb3B1cF9lYzA2NTBiYjdkZjc0NjU5YWUxY2ZiYTc1MGEyMzk4YiA9IEwucG9wdXAoeyJtYXhXaWR0aCI6ICIxMDAlIn0pOwoKICAgICAgICAKICAgICAgICAgICAgdmFyIGh0bWxfYTc0NzQ0Mzc5ODI4NGY0MWJiNzgzZmI5ODZiNzRmZTcgPSAkKGA8ZGl2IGlkPSJodG1sX2E3NDc0NDM3OTgyODRmNDFiYjc4M2ZiOTg2Yjc0ZmU3IiBzdHlsZT0id2lkdGg6IDEwMC4wJTsgaGVpZ2h0OiAxMDAuMCU7Ij5Cb2RlbWxvY2F0aWU6IGh0dHBzOi8vd3d3LmRvdi52bGFhbmRlcmVuLmJlL2RhdGEvYm9kZW1sb2NhdGllLzE5NjItMDA1MzA1PGJyPiBCb2RlbW9ic2VydmF0aWU6IGh0dHBzOi8vd3d3LmRvdi52bGFhbmRlcmVuLmJlL2RhdGEvYm9kZW1vYnNlcnZhdGllLzIwMTktNjQzNTY0PGJyPiBWYWx1ZTogMS45NiU8L2Rpdj5gKVswXTsKICAgICAgICAgICAgcG9wdXBfZWMwNjUwYmI3ZGY3NDY1OWFlMWNmYmE3NTBhMjM5OGIuc2V0Q29udGVudChodG1sX2E3NDc0NDM3OTgyODRmNDFiYjc4M2ZiOTg2Yjc0ZmU3KTsKICAgICAgICAKCiAgICAgICAgbWFya2VyXzcwNGFjMGU4YzVmYTRlN2ViZDVjYzVhNzI4ZWFiZDg2LmJpbmRQb3B1cChwb3B1cF9lYzA2NTBiYjdkZjc0NjU5YWUxY2ZiYTc1MGEyMzk4YikKICAgICAgICA7CgogICAgICAgIAogICAgCiAgICAKICAgICAgICAgICAgdmFyIG1hcmtlcl8xZjI1NDQ3OTFkNTQ0Y2I5ODczMTBjMzI4ZDk3Y2RmNSA9IEwubWFya2VyKAogICAgICAgICAgICAgICAgWzUwLjk0NDMxNDE1MjIxNTA1LCAzLjQ3ODMzMTAwNDU0OTEzNDddLAogICAgICAgICAgICAgICAge30KICAgICAgICAgICAgKS5hZGRUbyhtYXJrZXJfY2x1c3Rlcl9hZTNmYWNkY2Y2Zjc0ZWJhODRlOTdkM2E5MDAxOGNmNSk7CiAgICAgICAgCiAgICAKICAgICAgICB2YXIgcG9wdXBfOGNjMjg0ZjA0ZjM2NDQyNDlkMGNiYWFiOTAyODIxMTggPSBMLnBvcHVwKHsibWF4V2lkdGgiOiAiMTAwJSJ9KTsKCiAgICAgICAgCiAgICAgICAgICAgIHZhciBodG1sXzhiNWFmNmNjMmRmZDQ4YWM4N2UxMzViM2E4MWU4MWViID0gJChgPGRpdiBpZD0iaHRtbF84YjVhZjZjYzJkZmQ0OGFjODdlMTM1YjNhODFlODFlYiIgc3R5bGU9IndpZHRoOiAxMDAuMCU7IGhlaWdodDogMTAwLjAlOyI+Qm9kZW1sb2NhdGllOiBodHRwczovL3d3dy5kb3YudmxhYW5kZXJlbi5iZS9kYXRhL2JvZGVtbG9jYXRpZS8xOTYyLTAwNTQxNTxicj4gQm9kZW1vYnNlcnZhdGllOiBodHRwczovL3d3dy5kb3YudmxhYW5kZXJlbi5iZS9kYXRhL2JvZGVtb2JzZXJ2YXRpZS8yMDE5LTY1ODM4MDxicj4gVmFsdWU6IDEuMDQlPC9kaXY+YClbMF07CiAgICAgICAgICAgIHBvcHVwXzhjYzI4NGYwNGYzNjQ0MjQ5ZDBjYmFhYjkwMjgyMTE4LnNldENvbnRlbnQoaHRtbF84YjVhZjZjYzJkZmQ0OGFjODdlMTM1YjNhODFlODFlYik7CiAgICAgICAgCgogICAgICAgIG1hcmtlcl8xZjI1NDQ3OTFkNTQ0Y2I5ODczMTBjMzI4ZDk3Y2RmNS5iaW5kUG9wdXAocG9wdXBfOGNjMjg0ZjA0ZjM2NDQyNDlkMGNiYWFiOTAyODIxMTgpCiAgICAgICAgOwoKICAgICAgICAKICAgIAogICAgCiAgICAgICAgICAgIHZhciBtYXJrZXJfMDJlYTU1M2Y0ZmZiNDYyOWI3N2NjMmYyMjNiNmNlMjQgPSBMLm1hcmtlcigKICAgICAgICAgICAgICAgIFs1MS4wMDYxMDAxOTQwMzE0OCwgNC4xMDY3OTYzNDU1ODczOTFdLAogICAgICAgICAgICAgICAge30KICAgICAgICAgICAgKS5hZGRUbyhtYXJrZXJfY2x1c3Rlcl9hZTNmYWNkY2Y2Zjc0ZWJhODRlOTdkM2E5MDAxOGNmNSk7CiAgICAgICAgCiAgICAKICAgICAgICB2YXIgcG9wdXBfNDRkYTUwZjMxN2RjNDdlZTkxMjA0MzZlOTViYzM2YmMgPSBMLnBvcHVwKHsibWF4V2lkdGgiOiAiMTAwJSJ9KTsKCiAgICAgICAgCiAgICAgICAgICAgIHZhciBodG1sXzlhNWE4ZjEwMmU1NTQyMDJhY2IyYmQ3OTYxZjViYWZlID0gJChgPGRpdiBpZD0iaHRtbF85YTVhOGYxMDJlNTU0MjAyYWNiMmJkNzk2MWY1YmFmZSIgc3R5bGU9IndpZHRoOiAxMDAuMCU7IGhlaWdodDogMTAwLjAlOyI+Qm9kZW1sb2NhdGllOiBodHRwczovL3d3dy5kb3YudmxhYW5kZXJlbi5iZS9kYXRhL2JvZGVtbG9jYXRpZS8xOTUyLTAwNTk5Njxicj4gQm9kZW1vYnNlcnZhdGllOiBodHRwczovL3d3dy5kb3YudmxhYW5kZXJlbi5iZS9kYXRhL2JvZGVtb2JzZXJ2YXRpZS8yMDE5LTczMTA5ODxicj4gVmFsdWU6IDEuMzY4OTA5NTEyNzYxMDIlPC9kaXY+YClbMF07CiAgICAgICAgICAgIHBvcHVwXzQ0ZGE1MGYzMTdkYzQ3ZWU5MTIwNDM2ZTk1YmMzNmJjLnNldENvbnRlbnQoaHRtbF85YTVhOGYxMDJlNTU0MjAyYWNiMmJkNzk2MWY1YmFmZSk7CiAgICAgICAgCgogICAgICAgIG1hcmtlcl8wMmVhNTUzZjRmZmI0NjI5Yjc3Y2MyZjIyM2I2Y2UyNC5iaW5kUG9wdXAocG9wdXBfNDRkYTUwZjMxN2RjNDdlZTkxMjA0MzZlOTViYzM2YmMpCiAgICAgICAgOwoKICAgICAgICAKICAgIAogICAgCiAgICAgICAgICAgIHZhciBtYXJrZXJfYzM1NGE4YjFhY2M5NGNkMWE0YzBmNWRmOTRkMTBmMGMgPSBMLm1hcmtlcigKICAgICAgICAgICAgICAgIFs1MS4wMTAxOTYyMDA5Mzk2MjUsIDMuOTY4MTE2MDY4NTY3OTk4XSwKICAgICAgICAgICAgICAgIHt9CiAgICAgICAgICAgICkuYWRkVG8obWFya2VyX2NsdXN0ZXJfYWUzZmFjZGNmNmY3NGViYTg0ZTk3ZDNhOTAwMThjZjUpOwogICAgICAgIAogICAgCiAgICAgICAgdmFyIHBvcHVwXzljOGU1ZTczM2Y2NDQzMmNhMWI5YjE4MTJiMjYwNWUyID0gTC5wb3B1cCh7Im1heFdpZHRoIjogIjEwMCUifSk7CgogICAgICAgIAogICAgICAgICAgICB2YXIgaHRtbF80MTMyZDdkMDRmYTY0ZDhiYWQ0MmUyNWU5M2ZjOGUyYSA9ICQoYDxkaXYgaWQ9Imh0bWxfNDEzMmQ3ZDA0ZmE2NGQ4YmFkNDJlMjVlOTNmYzhlMmEiIHN0eWxlPSJ3aWR0aDogMTAwLjAlOyBoZWlnaHQ6IDEwMC4wJTsiPkJvZGVtbG9jYXRpZTogaHR0cHM6Ly93d3cuZG92LnZsYWFuZGVyZW4uYmUvZGF0YS9ib2RlbWxvY2F0aWUvMTk1MS0wMDYxMTQ8YnI+IEJvZGVtb2JzZXJ2YXRpZTogaHR0cHM6Ly93d3cuZG92LnZsYWFuZGVyZW4uYmUvZGF0YS9ib2RlbW9ic2VydmF0aWUvMjAxOS03NDUyNzM8YnI+IFZhbHVlOiAxLjA5MDQ4NzIzODk3OTEyJTwvZGl2PmApWzBdOwogICAgICAgICAgICBwb3B1cF85YzhlNWU3MzNmNjQ0MzJjYTFiOWIxODEyYjI2MDVlMi5zZXRDb250ZW50KGh0bWxfNDEzMmQ3ZDA0ZmE2NGQ4YmFkNDJlMjVlOTNmYzhlMmEpOwogICAgICAgIAoKICAgICAgICBtYXJrZXJfYzM1NGE4YjFhY2M5NGNkMWE0YzBmNWRmOTRkMTBmMGMuYmluZFBvcHVwKHBvcHVwXzljOGU1ZTczM2Y2NDQzMmNhMWI5YjE4MTJiMjYwNWUyKQogICAgICAgIDsKCiAgICAgICAgCiAgICAKICAgIAogICAgICAgICAgICB2YXIgbWFya2VyXzY0ZjEwOGZlYmJkYjRhYzQ4YjQ1YTIxYzk1NTJjODM0ID0gTC5tYXJrZXIoCiAgICAgICAgICAgICAgICBbNTEuMjQ5MzMyMDk3MTQ1NzgsIDQuMjgxNTUwOTQ0NzA5OTRdLAogICAgICAgICAgICAgICAge30KICAgICAgICAgICAgKS5hZGRUbyhtYXJrZXJfY2x1c3Rlcl9hZTNmYWNkY2Y2Zjc0ZWJhODRlOTdkM2E5MDAxOGNmNSk7CiAgICAgICAgCiAgICAKICAgICAgICB2YXIgcG9wdXBfMGYxYzcwODRkNGUxNDIwNDgwNDVjNzQwNjAyMzY5Y2MgPSBMLnBvcHVwKHsibWF4V2lkdGgiOiAiMTAwJSJ9KTsKCiAgICAgICAgCiAgICAgICAgICAgIHZhciBodG1sX2U2ZGY2ZWRhMmI3YjRiZTM4OTViYTc3ZGRlNjk3ZTJmID0gJChgPGRpdiBpZD0iaHRtbF9lNmRmNmVkYTJiN2I0YmUzODk1YmE3N2RkZTY5N2UyZiIgc3R5bGU9IndpZHRoOiAxMDAuMCU7IGhlaWdodDogMTAwLjAlOyI+Qm9kZW1sb2NhdGllOiBodHRwczovL3d3dy5kb3YudmxhYW5kZXJlbi5iZS9kYXRhL2JvZGVtbG9jYXRpZS8xOTQ5LTAwNjM1NDxicj4gQm9kZW1vYnNlcnZhdGllOiBodHRwczovL3d3dy5kb3YudmxhYW5kZXJlbi5iZS9kYXRhL2JvZGVtb2JzZXJ2YXRpZS8yMDE5LTc3NTc1Njxicj4gVmFsdWU6IDEuNzcxMDc1MDE5MzM0ODglPC9kaXY+YClbMF07CiAgICAgICAgICAgIHBvcHVwXzBmMWM3MDg0ZDRlMTQyMDQ4MDQ1Yzc0MDYwMjM2OWNjLnNldENvbnRlbnQoaHRtbF9lNmRmNmVkYTJiN2I0YmUzODk1YmE3N2RkZTY5N2UyZik7CiAgICAgICAgCgogICAgICAgIG1hcmtlcl82NGYxMDhmZWJiZGI0YWM0OGI0NWEyMWM5NTUyYzgzNC5iaW5kUG9wdXAocG9wdXBfMGYxYzcwODRkNGUxNDIwNDgwNDVjNzQwNjAyMzY5Y2MpCiAgICAgICAgOwoKICAgICAgICAKICAgIAogICAgCiAgICAgICAgICAgIHZhciBtYXJrZXJfYTIwZjNlZTUxMGE0NDIxYmJkYTAxYTkxNDk4YTg3OTggPSBMLm1hcmtlcigKICAgICAgICAgICAgICAgIFs1MS4yNzU0NTYyMDcwNTA2OSwgMy42NDg5MDUzOTYyMzI5NTYzXSwKICAgICAgICAgICAgICAgIHt9CiAgICAgICAgICAgICkuYWRkVG8obWFya2VyX2NsdXN0ZXJfYWUzZmFjZGNmNmY3NGViYTg0ZTk3ZDNhOTAwMThjZjUpOwogICAgICAgIAogICAgCiAgICAgICAgdmFyIHBvcHVwXzM3YTEwNzUxZDdjMDQxZGZhZTU2NjhkNjI0OTMwN2E4ID0gTC5wb3B1cCh7Im1heFdpZHRoIjogIjEwMCUifSk7CgogICAgICAgIAogICAgICAgICAgICB2YXIgaHRtbF83YTIzODlhMTViNGM0NjQ5YjA4ZTUzYzg5MmQyMmU1ZSA9ICQoYDxkaXYgaWQ9Imh0bWxfN2EyMzg5YTE1YjRjNDY0OWIwOGU1M2M4OTJkMjJlNWUiIHN0eWxlPSJ3aWR0aDogMTAwLjAlOyBoZWlnaHQ6IDEwMC4wJTsiPkJvZGVtbG9jYXRpZTogaHR0cHM6Ly93d3cuZG92LnZsYWFuZGVyZW4uYmUvZGF0YS9ib2RlbWxvY2F0aWUvMTk2Mi0wMDQ5NjY8YnI+IEJvZGVtb2JzZXJ2YXRpZTogaHR0cHM6Ly93d3cuZG92LnZsYWFuZGVyZW4uYmUvZGF0YS9ib2RlbW9ic2VydmF0aWUvMjAxOS02MDA4MDM8YnI+IFZhbHVlOiAxLjEzNSU8L2Rpdj5gKVswXTsKICAgICAgICAgICAgcG9wdXBfMzdhMTA3NTFkN2MwNDFkZmFlNTY2OGQ2MjQ5MzA3YTguc2V0Q29udGVudChodG1sXzdhMjM4OWExNWI0YzQ2NDliMDhlNTNjODkyZDIyZTVlKTsKICAgICAgICAKCiAgICAgICAgbWFya2VyX2EyMGYzZWU1MTBhNDQyMWJiZGEwMWE5MTQ5OGE4Nzk4LmJpbmRQb3B1cChwb3B1cF8zN2ExMDc1MWQ3YzA0MWRmYWU1NjY4ZDYyNDkzMDdhOCkKICAgICAgICA7CgogICAgICAgIAogICAgCiAgICAKICAgICAgICAgICAgdmFyIG1hcmtlcl85ODJiNzVlZGNjNzM0MGYyOTUyMjMxYTNjODZlMTE4NyA9IEwubWFya2VyKAogICAgICAgICAgICAgICAgWzUxLjA1NjE3OTg4NjEwMDk1NiwgNC4xMTU3ODc2NjIwMjAyNzJdLAogICAgICAgICAgICAgICAge30KICAgICAgICAgICAgKS5hZGRUbyhtYXJrZXJfY2x1c3Rlcl9hZTNmYWNkY2Y2Zjc0ZWJhODRlOTdkM2E5MDAxOGNmNSk7CiAgICAgICAgCiAgICAKICAgICAgICB2YXIgcG9wdXBfMjFhNDViYjA1NDY0NDVmMTgwNGY3OWVjODQ4NWI4ZGUgPSBMLnBvcHVwKHsibWF4V2lkdGgiOiAiMTAwJSJ9KTsKCiAgICAgICAgCiAgICAgICAgICAgIHZhciBodG1sXzgwYWFiNmM4MzRiZTRjNDJiZDQ1NDQ1YjYxYTI4NGI5ID0gJChgPGRpdiBpZD0iaHRtbF84MGFhYjZjODM0YmU0YzQyYmQ0NTQ0NWI2MWEyODRiOSIgc3R5bGU9IndpZHRoOiAxMDAuMCU7IGhlaWdodDogMTAwLjAlOyI+Qm9kZW1sb2NhdGllOiBodHRwczovL3d3dy5kb3YudmxhYW5kZXJlbi5iZS9kYXRhL2JvZGVtbG9jYXRpZS8xOTUyLTAwNTgxMjxicj4gQm9kZW1vYnNlcnZhdGllOiBodHRwczovL3d3dy5kb3YudmxhYW5kZXJlbi5iZS9kYXRhL2JvZGVtb2JzZXJ2YXRpZS8yMDE5LTcwODgwMDxicj4gVmFsdWU6IDAuODg5NDA0NDg1NjkyMTg5JTwvZGl2PmApWzBdOwogICAgICAgICAgICBwb3B1cF8yMWE0NWJiMDU0NjQ0NWYxODA0Zjc5ZWM4NDg1YjhkZS5zZXRDb250ZW50KGh0bWxfODBhYWI2YzgzNGJlNGM0MmJkNDU0NDViNjFhMjg0YjkpOwogICAgICAgIAoKICAgICAgICBtYXJrZXJfOTgyYjc1ZWRjYzczNDBmMjk1MjIzMWEzYzg2ZTExODcuYmluZFBvcHVwKHBvcHVwXzIxYTQ1YmIwNTQ2NDQ1ZjE4MDRmNzllYzg0ODViOGRlKQogICAgICAgIDsKCiAgICAgICAgCiAgICAKICAgIAogICAgICAgICAgICB2YXIgbWFya2VyX2UyNTJkZjIyNTk0NDQ1OTE4NGRhMTFmMmY1OWYyNjIxID0gTC5tYXJrZXIoCiAgICAgICAgICAgICAgICBbNTEuMjg5MTA2OTQ4NDQ2MzQ2LCA0LjE5MzYyMjI0ODMxODQzM10sCiAgICAgICAgICAgICAgICB7fQogICAgICAgICAgICApLmFkZFRvKG1hcmtlcl9jbHVzdGVyX2FlM2ZhY2RjZjZmNzRlYmE4NGU5N2QzYTkwMDE4Y2Y1KTsKICAgICAgICAKICAgIAogICAgICAgIHZhciBwb3B1cF82Zjg1Mjg5NDRkZWE0OGFjOGRhMTI4YjEzZTJmZWFhYSA9IEwucG9wdXAoeyJtYXhXaWR0aCI6ICIxMDAlIn0pOwoKICAgICAgICAKICAgICAgICAgICAgdmFyIGh0bWxfOTNlMzQzZjE0ZDk3NDI5OTgwZjdhZTk2MDc2Zjk2NGIgPSAkKGA8ZGl2IGlkPSJodG1sXzkzZTM0M2YxNGQ5NzQyOTk4MGY3YWU5NjA3NmY5NjRiIiBzdHlsZT0id2lkdGg6IDEwMC4wJTsgaGVpZ2h0OiAxMDAuMCU7Ij5Cb2RlbWxvY2F0aWU6IGh0dHBzOi8vd3d3LmRvdi52bGFhbmRlcmVuLmJlL2RhdGEvYm9kZW1sb2NhdGllLzE5NDktMDA2MDM5PGJyPiBCb2RlbW9ic2VydmF0aWU6IGh0dHBzOi8vd3d3LmRvdi52bGFhbmRlcmVuLmJlL2RhdGEvYm9kZW1vYnNlcnZhdGllLzIwMTktNzM2Mzg3PGJyPiBWYWx1ZTogMC45NjY3NDQwMDYxODcxNjIlPC9kaXY+YClbMF07CiAgICAgICAgICAgIHBvcHVwXzZmODUyODk0NGRlYTQ4YWM4ZGExMjhiMTNlMmZlYWFhLnNldENvbnRlbnQoaHRtbF85M2UzNDNmMTRkOTc0Mjk5ODBmN2FlOTYwNzZmOTY0Yik7CiAgICAgICAgCgogICAgICAgIG1hcmtlcl9lMjUyZGYyMjU5NDQ0NTkxODRkYTExZjJmNTlmMjYyMS5iaW5kUG9wdXAocG9wdXBfNmY4NTI4OTQ0ZGVhNDhhYzhkYTEyOGIxM2UyZmVhYWEpCiAgICAgICAgOwoKICAgICAgICAKICAgIAogICAgCiAgICAgICAgICAgIHZhciBtYXJrZXJfMWQ4NTQzZDk1NGU0NGI4NjhlYjU4MGQzMTkwMTg3MjIgPSBMLm1hcmtlcigKICAgICAgICAgICAgICAgIFs1MC45ODc3NDc3NjcyMzY4MDQsIDMuNDcyODkxNTk5MDEyNTc3NV0sCiAgICAgICAgICAgICAgICB7fQogICAgICAgICAgICApLmFkZFRvKG1hcmtlcl9jbHVzdGVyX2FlM2ZhY2RjZjZmNzRlYmE4NGU5N2QzYTkwMDE4Y2Y1KTsKICAgICAgICAKICAgIAogICAgICAgIHZhciBwb3B1cF9hMGUwYWJhZjlmMzk0MjUzODIwODYxMDNiYjM5OTBmMiA9IEwucG9wdXAoeyJtYXhXaWR0aCI6ICIxMDAlIn0pOwoKICAgICAgICAKICAgICAgICAgICAgdmFyIGh0bWxfZmRjMzczYmQ3NWQ0NDhjMWIxZTYxMzE2YzQ3NDQxNzYgPSAkKGA8ZGl2IGlkPSJodG1sX2ZkYzM3M2JkNzVkNDQ4YzFiMWU2MTMxNmM0NzQ0MTc2IiBzdHlsZT0id2lkdGg6IDEwMC4wJTsgaGVpZ2h0OiAxMDAuMCU7Ij5Cb2RlbWxvY2F0aWU6IGh0dHBzOi8vd3d3LmRvdi52bGFhbmRlcmVuLmJlL2RhdGEvYm9kZW1sb2NhdGllLzE5NjItMDAxMDQyPGJyPiBCb2RlbW9ic2VydmF0aWU6IGh0dHBzOi8vd3d3LmRvdi52bGFhbmRlcmVuLmJlL2RhdGEvYm9kZW1vYnNlcnZhdGllLzIwMTktMTA1MzM3PGJyPiBWYWx1ZTogMC44NDUlPC9kaXY+YClbMF07CiAgICAgICAgICAgIHBvcHVwX2EwZTBhYmFmOWYzOTQyNTM4MjA4NjEwM2JiMzk5MGYyLnNldENvbnRlbnQoaHRtbF9mZGMzNzNiZDc1ZDQ0OGMxYjFlNjEzMTZjNDc0NDE3Nik7CiAgICAgICAgCgogICAgICAgIG1hcmtlcl8xZDg1NDNkOTU0ZTQ0Yjg2OGViNTgwZDMxOTAxODcyMi5iaW5kUG9wdXAocG9wdXBfYTBlMGFiYWY5ZjM5NDI1MzgyMDg2MTAzYmIzOTkwZjIpCiAgICAgICAgOwoKICAgICAgICAKICAgIAogICAgCiAgICAgICAgICAgIHZhciBtYXJrZXJfMzNkNWFkMGQ3YWY0NGMwNGJkMTIzOWMxZTczNTc3ZDEgPSBMLm1hcmtlcigKICAgICAgICAgICAgICAgIFs1MC45MzIyODQxOTAzNjAzLCA0LjE0MzMzOTcwNzI3MTU1MV0sCiAgICAgICAgICAgICAgICB7fQogICAgICAgICAgICApLmFkZFRvKG1hcmtlcl9jbHVzdGVyX2FlM2ZhY2RjZjZmNzRlYmE4NGU5N2QzYTkwMDE4Y2Y1KTsKICAgICAgICAKICAgIAogICAgICAgIHZhciBwb3B1cF81ZTFhMDUxMTZhMzk0ZmQ4YmVhOGI4YWQzNGVjZGMxYyA9IEwucG9wdXAoeyJtYXhXaWR0aCI6ICIxMDAlIn0pOwoKICAgICAgICAKICAgICAgICAgICAgdmFyIGh0bWxfMjEwMDM0MjNjMWNiNGI2OTg1YzEwZjczZmU4NGQ2MTcgPSAkKGA8ZGl2IGlkPSJodG1sXzIxMDAzNDIzYzFjYjRiNjk4NWMxMGY3M2ZlODRkNjE3IiBzdHlsZT0id2lkdGg6IDEwMC4wJTsgaGVpZ2h0OiAxMDAuMCU7Ij5Cb2RlbWxvY2F0aWU6IGh0dHBzOi8vd3d3LmRvdi52bGFhbmRlcmVuLmJlL2RhdGEvYm9kZW1sb2NhdGllLzE5NTAtMDAxNjMyPGJyPiBCb2RlbW9ic2VydmF0aWU6IGh0dHBzOi8vd3d3LmRvdi52bGFhbmRlcmVuLmJlL2RhdGEvYm9kZW1vYnNlcnZhdGllLzIwMTktMTc5Njk4PGJyPiBWYWx1ZTogMC44ODk0MDQ0ODU2OTIxODklPC9kaXY+YClbMF07CiAgICAgICAgICAgIHBvcHVwXzVlMWEwNTExNmEzOTRmZDhiZWE4YjhhZDM0ZWNkYzFjLnNldENvbnRlbnQoaHRtbF8yMTAwMzQyM2MxY2I0YjY5ODVjMTBmNzNmZTg0ZDYxNyk7CiAgICAgICAgCgogICAgICAgIG1hcmtlcl8zM2Q1YWQwZDdhZjQ0YzA0YmQxMjM5YzFlNzM1NzdkMS5iaW5kUG9wdXAocG9wdXBfNWUxYTA1MTE2YTM5NGZkOGJlYThiOGFkMzRlY2RjMWMpCiAgICAgICAgOwoKICAgICAgICAKICAgIAogICAgCiAgICAgICAgICAgIHZhciBtYXJrZXJfMzMxMDVkMGE5ZmYzNDY2ZmI3ZTdlYjYzNTVlYmZhYmIgPSBMLm1hcmtlcigKICAgICAgICAgICAgICAgIFs1MS4xMDM4MDQ3NDM3NDg2NiwgMy4zODE3NDIwNzk3OTQ1NDNdLAogICAgICAgICAgICAgICAge30KICAgICAgICAgICAgKS5hZGRUbyhtYXJrZXJfY2x1c3Rlcl9hZTNmYWNkY2Y2Zjc0ZWJhODRlOTdkM2E5MDAxOGNmNSk7CiAgICAgICAgCiAgICAKICAgICAgICB2YXIgcG9wdXBfZTFkYzNhZjNiNjU1NDg4NjkwMDViNDFjZGU4M2JhZTcgPSBMLnBvcHVwKHsibWF4V2lkdGgiOiAiMTAwJSJ9KTsKCiAgICAgICAgCiAgICAgICAgICAgIHZhciBodG1sX2MzOGUwMTNkZmUwNjQzOTJiM2ZiY2EyYWNhOWQyOGQ2ID0gJChgPGRpdiBpZD0iaHRtbF9jMzhlMDEzZGZlMDY0MzkyYjNmYmNhMmFjYTlkMjhkNiIgc3R5bGU9IndpZHRoOiAxMDAuMCU7IGhlaWdodDogMTAwLjAlOyI+Qm9kZW1sb2NhdGllOiBodHRwczovL3d3dy5kb3YudmxhYW5kZXJlbi5iZS9kYXRhL2JvZGVtbG9jYXRpZS8xOTU0LTAwMjE1Mzxicj4gQm9kZW1vYnNlcnZhdGllOiBodHRwczovL3d3dy5kb3YudmxhYW5kZXJlbi5iZS9kYXRhL2JvZGVtb2JzZXJ2YXRpZS8yMDE5LTI0NjU0Nzxicj4gVmFsdWU6IDEuNDA3NTc5MjczMDA4NTElPC9kaXY+YClbMF07CiAgICAgICAgICAgIHBvcHVwX2UxZGMzYWYzYjY1NTQ4ODY5MDA1YjQxY2RlODNiYWU3LnNldENvbnRlbnQoaHRtbF9jMzhlMDEzZGZlMDY0MzkyYjNmYmNhMmFjYTlkMjhkNik7CiAgICAgICAgCgogICAgICAgIG1hcmtlcl8zMzEwNWQwYTlmZjM0NjZmYjdlN2ViNjM1NWViZmFiYi5iaW5kUG9wdXAocG9wdXBfZTFkYzNhZjNiNjU1NDg4NjkwMDViNDFjZGU4M2JhZTcpCiAgICAgICAgOwoKICAgICAgICAKICAgIAogICAgCiAgICAgICAgICAgIHZhciBtYXJrZXJfZWY5MzVjNDFiOTMyNGM3Y2JlN2IwNjJlNTk2MjQ1MGYgPSBMLm1hcmtlcigKICAgICAgICAgICAgICAgIFs1MS4wODI0MDkzMzEyNDQ2NzYsIDMuOTA1Mjc2MzI3NTcxNjg3XSwKICAgICAgICAgICAgICAgIHt9CiAgICAgICAgICAgICkuYWRkVG8obWFya2VyX2NsdXN0ZXJfYWUzZmFjZGNmNmY3NGViYTg0ZTk3ZDNhOTAwMThjZjUpOwogICAgICAgIAogICAgCiAgICAgICAgdmFyIHBvcHVwX2U1OTNjYjgxYTVhYzRhNjc5NTM2NzMwNzM5OTM4NGEyID0gTC5wb3B1cCh7Im1heFdpZHRoIjogIjEwMCUifSk7CgogICAgICAgIAogICAgICAgICAgICB2YXIgaHRtbF9iMzU1NDk5MmUwODA0MDRlYTMxNDRiZjgyZmY3MGFlMyA9ICQoYDxkaXYgaWQ9Imh0bWxfYjM1NTQ5OTJlMDgwNDA0ZWEzMTQ0YmY4MmZmNzBhZTMiIHN0eWxlPSJ3aWR0aDogMTAwLjAlOyBoZWlnaHQ6IDEwMC4wJTsiPkJvZGVtbG9jYXRpZTogaHR0cHM6Ly93d3cuZG92LnZsYWFuZGVyZW4uYmUvZGF0YS9ib2RlbWxvY2F0aWUvMTk1MS0wMDI1NjI8YnI+IEJvZGVtb2JzZXJ2YXRpZTogaHR0cHM6Ly93d3cuZG92LnZsYWFuZGVyZW4uYmUvZGF0YS9ib2RlbW9ic2VydmF0aWUvMjAxOS0yOTkwOTE8YnI+IFZhbHVlOiAxLjE0NDYyNDkwMzMyNTYlPC9kaXY+YClbMF07CiAgICAgICAgICAgIHBvcHVwX2U1OTNjYjgxYTVhYzRhNjc5NTM2NzMwNzM5OTM4NGEyLnNldENvbnRlbnQoaHRtbF9iMzU1NDk5MmUwODA0MDRlYTMxNDRiZjgyZmY3MGFlMyk7CiAgICAgICAgCgogICAgICAgIG1hcmtlcl9lZjkzNWM0MWI5MzI0YzdjYmU3YjA2MmU1OTYyNDUwZi5iaW5kUG9wdXAocG9wdXBfZTU5M2NiODFhNWFjNGE2Nzk1MzY3MzA3Mzk5Mzg0YTIpCiAgICAgICAgOwoKICAgICAgICAKICAgIAogICAgCiAgICAgICAgICAgIHZhciBtYXJrZXJfZTI0OTI2ZjlkZTc5NGE4MzkwYmJiYmM4ZjYwY2I1MGYgPSBMLm1hcmtlcigKICAgICAgICAgICAgICAgIFs1MS4wNTg5MzkxOTgwMjAxMiwgNC4wMzI3NTcxNTUyNDQ2MV0sCiAgICAgICAgICAgICAgICB7fQogICAgICAgICAgICApLmFkZFRvKG1hcmtlcl9jbHVzdGVyX2FlM2ZhY2RjZjZmNzRlYmE4NGU5N2QzYTkwMDE4Y2Y1KTsKICAgICAgICAKICAgIAogICAgICAgIHZhciBwb3B1cF83YWY1ZDAwYzQwM2E0OGQ0ODRhYWYwYTZmMDNkOWE4OSA9IEwucG9wdXAoeyJtYXhXaWR0aCI6ICIxMDAlIn0pOwoKICAgICAgICAKICAgICAgICAgICAgdmFyIGh0bWxfY2EwYjQ5Y2VmYjVmNDZiMjk4Y2VkMzdhYjY3ODYxN2IgPSAkKGA8ZGl2IGlkPSJodG1sX2NhMGI0OWNlZmI1ZjQ2YjI5OGNlZDM3YWI2Nzg2MTdiIiBzdHlsZT0id2lkdGg6IDEwMC4wJTsgaGVpZ2h0OiAxMDAuMCU7Ij5Cb2RlbWxvY2F0aWU6IGh0dHBzOi8vd3d3LmRvdi52bGFhbmRlcmVuLmJlL2RhdGEvYm9kZW1sb2NhdGllLzE5NTItMDA1MjA1PGJyPiBCb2RlbW9ic2VydmF0aWU6IGh0dHBzOi8vd3d3LmRvdi52bGFhbmRlcmVuLmJlL2RhdGEvYm9kZW1vYnNlcnZhdGllLzIwMTktNjMxMDg0PGJyPiBWYWx1ZTogMS41NDY3OTA0MDk4OTk0NiU8L2Rpdj5gKVswXTsKICAgICAgICAgICAgcG9wdXBfN2FmNWQwMGM0MDNhNDhkNDg0YWFmMGE2ZjAzZDlhODkuc2V0Q29udGVudChodG1sX2NhMGI0OWNlZmI1ZjQ2YjI5OGNlZDM3YWI2Nzg2MTdiKTsKICAgICAgICAKCiAgICAgICAgbWFya2VyX2UyNDkyNmY5ZGU3OTRhODM5MGJiYmJjOGY2MGNiNTBmLmJpbmRQb3B1cChwb3B1cF83YWY1ZDAwYzQwM2E0OGQ0ODRhYWYwYTZmMDNkOWE4OSkKICAgICAgICA7CgogICAgICAgIAogICAgCiAgICAKICAgICAgICAgICAgdmFyIG1hcmtlcl8zYzUyNmVmODdiNjk0MDgwODlmZjVjNGRjY2I2ODIxMCA9IEwubWFya2VyKAogICAgICAgICAgICAgICAgWzUxLjIxOTc4MjMxNjQwOTUsIDQuMjg3MDU5MDE1NTY4MzM3XSwKICAgICAgICAgICAgICAgIHt9CiAgICAgICAgICAgICkuYWRkVG8obWFya2VyX2NsdXN0ZXJfYWUzZmFjZGNmNmY3NGViYTg0ZTk3ZDNhOTAwMThjZjUpOwogICAgICAgIAogICAgCiAgICAgICAgdmFyIHBvcHVwXzY2NTk4MjI3MzQ3MDRjMGRhOGIwOGI2ZmIyNzhjYzM0ID0gTC5wb3B1cCh7Im1heFdpZHRoIjogIjEwMCUifSk7CgogICAgICAgIAogICAgICAgICAgICB2YXIgaHRtbF8zMWQ0YWIwZmQyNjM0NTNiOTFiODc0NjdjMjUwZGZjMSA9ICQoYDxkaXYgaWQ9Imh0bWxfMzFkNGFiMGZkMjYzNDUzYjkxYjg3NDY3YzI1MGRmYzEiIHN0eWxlPSJ3aWR0aDogMTAwLjAlOyBoZWlnaHQ6IDEwMC4wJTsiPkJvZGVtbG9jYXRpZTogaHR0cHM6Ly93d3cuZG92LnZsYWFuZGVyZW4uYmUvZGF0YS9ib2RlbWxvY2F0aWUvMTk0OS0wMDU1ODE8YnI+IEJvZGVtb2JzZXJ2YXRpZTogaHR0cHM6Ly93d3cuZG92LnZsYWFuZGVyZW4uYmUvZGF0YS9ib2RlbW9ic2VydmF0aWUvMjAxOS02Nzk5MjY8YnI+IFZhbHVlOiAxLjEyMTQyMzA0NzE3NzExJTwvZGl2PmApWzBdOwogICAgICAgICAgICBwb3B1cF82NjU5ODIyNzM0NzA0YzBkYThiMDhiNmZiMjc4Y2MzNC5zZXRDb250ZW50KGh0bWxfMzFkNGFiMGZkMjYzNDUzYjkxYjg3NDY3YzI1MGRmYzEpOwogICAgICAgIAoKICAgICAgICBtYXJrZXJfM2M1MjZlZjg3YjY5NDA4MDg5ZmY1YzRkY2NiNjgyMTAuYmluZFBvcHVwKHBvcHVwXzY2NTk4MjI3MzQ3MDRjMGRhOGIwOGI2ZmIyNzhjYzM0KQogICAgICAgIDsKCiAgICAgICAgCiAgICAKICAgIAogICAgICAgICAgICB2YXIgbWFya2VyX2FkOWMzMThmNGQzZDQ3ZjhiNDRiYmFmZDUyMzViNDg4ID0gTC5tYXJrZXIoCiAgICAgICAgICAgICAgICBbNTAuODc4MTg3NDE2NDAzMjIsIDMuNjE1MDAyMjU4MzY3MTg5NV0sCiAgICAgICAgICAgICAgICB7fQogICAgICAgICAgICApLmFkZFRvKG1hcmtlcl9jbHVzdGVyX2FlM2ZhY2RjZjZmNzRlYmE4NGU5N2QzYTkwMDE4Y2Y1KTsKICAgICAgICAKICAgIAogICAgICAgIHZhciBwb3B1cF9lNzc0Mzc2ODYwYjM0ZDBjOTZmOTYwZTNiN2U2MGNkNCA9IEwucG9wdXAoeyJtYXhXaWR0aCI6ICIxMDAlIn0pOwoKICAgICAgICAKICAgICAgICAgICAgdmFyIGh0bWxfMDM2YjQ2MTNjZTg3NDk5MWIxNDY4ODBhNmZlMTZkMDkgPSAkKGA8ZGl2IGlkPSJodG1sXzAzNmI0NjEzY2U4NzQ5OTFiMTQ2ODgwYTZmZTE2ZDA5IiBzdHlsZT0id2lkdGg6IDEwMC4wJTsgaGVpZ2h0OiAxMDAuMCU7Ij5Cb2RlbWxvY2F0aWU6IGh0dHBzOi8vd3d3LmRvdi52bGFhbmRlcmVuLmJlL2RhdGEvYm9kZW1sb2NhdGllLzE5NTctMDA1NjY3PGJyPiBCb2RlbW9ic2VydmF0aWU6IGh0dHBzOi8vd3d3LmRvdi52bGFhbmRlcmVuLmJlL2RhdGEvYm9kZW1vYnNlcnZhdGllLzIwMTktNjkwNTM5PGJyPiBWYWx1ZTogMC45NTkwMTAwNTQxMzc2NjQlPC9kaXY+YClbMF07CiAgICAgICAgICAgIHBvcHVwX2U3NzQzNzY4NjBiMzRkMGM5NmY5NjBlM2I3ZTYwY2Q0LnNldENvbnRlbnQoaHRtbF8wMzZiNDYxM2NlODc0OTkxYjE0Njg4MGE2ZmUxNmQwOSk7CiAgICAgICAgCgogICAgICAgIG1hcmtlcl9hZDljMzE4ZjRkM2Q0N2Y4YjQ0YmJhZmQ1MjM1YjQ4OC5iaW5kUG9wdXAocG9wdXBfZTc3NDM3Njg2MGIzNGQwYzk2Zjk2MGUzYjdlNjBjZDQpCiAgICAgICAgOwoKICAgICAgICAKICAgIAogICAgCiAgICAgICAgICAgIHZhciBtYXJrZXJfNTFlZGRjYjdlZWJjNGZiNmIwYzk1MTQwNTMxNzNlZTMgPSBMLm1hcmtlcigKICAgICAgICAgICAgICAgIFs1MS4wNTQ1NzkxNjM1MjE5MywgNC4xMjM5OTcyMjQ5MjY5NDldLAogICAgICAgICAgICAgICAge30KICAgICAgICAgICAgKS5hZGRUbyhtYXJrZXJfY2x1c3Rlcl9hZTNmYWNkY2Y2Zjc0ZWJhODRlOTdkM2E5MDAxOGNmNSk7CiAgICAgICAgCiAgICAKICAgICAgICB2YXIgcG9wdXBfZjQwYjZlYTQzMWNjNDA1OWI0MmE5ZTEwMWZkNzliNWUgPSBMLnBvcHVwKHsibWF4V2lkdGgiOiAiMTAwJSJ9KTsKCiAgICAgICAgCiAgICAgICAgICAgIHZhciBodG1sXzM1NmRjN2Q5MjQwMTRhNmY5MTJkNzNlNTFhZmFjYmZkID0gJChgPGRpdiBpZD0iaHRtbF8zNTZkYzdkOTI0MDE0YTZmOTEyZDczZTUxYWZhY2JmZCIgc3R5bGU9IndpZHRoOiAxMDAuMCU7IGhlaWdodDogMTAwLjAlOyI+Qm9kZW1sb2NhdGllOiBodHRwczovL3d3dy5kb3YudmxhYW5kZXJlbi5iZS9kYXRhL2JvZGVtbG9jYXRpZS8xOTUyLTAwNTg1NDxicj4gQm9kZW1vYnNlcnZhdGllOiBodHRwczovL3d3dy5kb3YudmxhYW5kZXJlbi5iZS9kYXRhL2JvZGVtb2JzZXJ2YXRpZS8yMDE5LTcxNDA4MTxicj4gVmFsdWU6IDEuMzA3MDM3ODk2MzY1MDQlPC9kaXY+YClbMF07CiAgICAgICAgICAgIHBvcHVwX2Y0MGI2ZWE0MzFjYzQwNTliNDJhOWUxMDFmZDc5YjVlLnNldENvbnRlbnQoaHRtbF8zNTZkYzdkOTI0MDE0YTZmOTEyZDczZTUxYWZhY2JmZCk7CiAgICAgICAgCgogICAgICAgIG1hcmtlcl81MWVkZGNiN2VlYmM0ZmI2YjBjOTUxNDA1MzE3M2VlMy5iaW5kUG9wdXAocG9wdXBfZjQwYjZlYTQzMWNjNDA1OWI0MmE5ZTEwMWZkNzliNWUpCiAgICAgICAgOwoKICAgICAgICAKICAgIAogICAgCiAgICAgICAgICAgIHZhciBtYXJrZXJfMTVjNDdjYjc3ZWQ4NGI4NGE1M2FmMzc0MDEyOWYzMGEgPSBMLm1hcmtlcigKICAgICAgICAgICAgICAgIFs1MS4wMDc0MjExODU2MDMwNCwgNC4xODgwODg3Mzk4NTIwMl0sCiAgICAgICAgICAgICAgICB7fQogICAgICAgICAgICApLmFkZFRvKG1hcmtlcl9jbHVzdGVyX2FlM2ZhY2RjZjZmNzRlYmE4NGU5N2QzYTkwMDE4Y2Y1KTsKICAgICAgICAKICAgIAogICAgICAgIHZhciBwb3B1cF9mNTcxOGVhNzUyN2E0NmJlOTExZDM3MmQ0NDRkZWUzMSA9IEwucG9wdXAoeyJtYXhXaWR0aCI6ICIxMDAlIn0pOwoKICAgICAgICAKICAgICAgICAgICAgdmFyIGh0bWxfMmZlOTMyMDYyMzM0NDU3NGE5YjQ2ZWY3MzA2YzU3YmUgPSAkKGA8ZGl2IGlkPSJodG1sXzJmZTkzMjA2MjMzNDQ1NzRhOWI0NmVmNzMwNmM1N2JlIiBzdHlsZT0id2lkdGg6IDEwMC4wJTsgaGVpZ2h0OiAxMDAuMCU7Ij5Cb2RlbWxvY2F0aWU6IGh0dHBzOi8vd3d3LmRvdi52bGFhbmRlcmVuLmJlL2RhdGEvYm9kZW1sb2NhdGllLzE5NTItMDA1OTk0PGJyPiBCb2RlbW9ic2VydmF0aWU6IGh0dHBzOi8vd3d3LmRvdi52bGFhbmRlcmVuLmJlL2RhdGEvYm9kZW1vYnNlcnZhdGllLzIwMTktNzMwODkwPGJyPiBWYWx1ZTogMC44ODk0MDQ0ODU2OTIxODklPC9kaXY+YClbMF07CiAgICAgICAgICAgIHBvcHVwX2Y1NzE4ZWE3NTI3YTQ2YmU5MTFkMzcyZDQ0NGRlZTMxLnNldENvbnRlbnQoaHRtbF8yZmU5MzIwNjIzMzQ0NTc0YTliNDZlZjczMDZjNTdiZSk7CiAgICAgICAgCgogICAgICAgIG1hcmtlcl8xNWM0N2NiNzdlZDg0Yjg0YTUzYWYzNzQwMTI5ZjMwYS5iaW5kUG9wdXAocG9wdXBfZjU3MThlYTc1MjdhNDZiZTkxMWQzNzJkNDQ0ZGVlMzEpCiAgICAgICAgOwoKICAgICAgICAKICAgIAogICAgCiAgICAgICAgICAgIHZhciBtYXJrZXJfMzFmYzMxMzY0NDFkNGFiM2EzMTY0M2U0N2NmYjE4YjAgPSBMLm1hcmtlcigKICAgICAgICAgICAgICAgIFs1MS4yNTI2MTYyMzg3MzMzNDYsIDQuMTc3MTQ0MTEzNDA1ODY3XSwKICAgICAgICAgICAgICAgIHt9CiAgICAgICAgICAgICkuYWRkVG8obWFya2VyX2NsdXN0ZXJfYWUzZmFjZGNmNmY3NGViYTg0ZTk3ZDNhOTAwMThjZjUpOwogICAgICAgIAogICAgCiAgICAgICAgdmFyIHBvcHVwXzNmYWUyYTkxNDk4NDQ4YjI4ZWUyMmUwYmI5ZTBlMjUzID0gTC5wb3B1cCh7Im1heFdpZHRoIjogIjEwMCUifSk7CgogICAgICAgIAogICAgICAgICAgICB2YXIgaHRtbF9jYTQ0ZTQ0ZTc0ZjA0ZWFiOTVkNGNjODAyZGIyMTI2ZSA9ICQoYDxkaXYgaWQ9Imh0bWxfY2E0NGU0NGU3NGYwNGVhYjk1ZDRjYzgwMmRiMjEyNmUiIHN0eWxlPSJ3aWR0aDogMTAwLjAlOyBoZWlnaHQ6IDEwMC4wJTsiPkJvZGVtbG9jYXRpZTogaHR0cHM6Ly93d3cuZG92LnZsYWFuZGVyZW4uYmUvZGF0YS9ib2RlbWxvY2F0aWUvMTk1MC0wMDY4Mjg8YnI+IEJvZGVtb2JzZXJ2YXRpZTogaHR0cHM6Ly93d3cuZG92LnZsYWFuZGVyZW4uYmUvZGF0YS9ib2RlbW9ic2VydmF0aWUvMjAxOS04MzUwMjE8YnI+IFZhbHVlOiAxLjc4NjU0MjkyMzQzMzg3JTwvZGl2PmApWzBdOwogICAgICAgICAgICBwb3B1cF8zZmFlMmE5MTQ5ODQ0OGIyOGVlMjJlMGJiOWUwZTI1My5zZXRDb250ZW50KGh0bWxfY2E0NGU0NGU3NGYwNGVhYjk1ZDRjYzgwMmRiMjEyNmUpOwogICAgICAgIAoKICAgICAgICBtYXJrZXJfMzFmYzMxMzY0NDFkNGFiM2EzMTY0M2U0N2NmYjE4YjAuYmluZFBvcHVwKHBvcHVwXzNmYWUyYTkxNDk4NDQ4YjI4ZWUyMmUwYmI5ZTBlMjUzKQogICAgICAgIDsKCiAgICAgICAgCiAgICAKICAgIAogICAgICAgICAgICB2YXIgbWFya2VyXzlhZjcwMTAxZjk4MzQ2NDI4ZWU1MDFhOTVhNDZkODMxID0gTC5tYXJrZXIoCiAgICAgICAgICAgICAgICBbNTAuODA1NjM4NzY5MDE1OTEsIDMuNzA5MDkyMjQyMzIzMDE0Nl0sCiAgICAgICAgICAgICAgICB7fQogICAgICAgICAgICApLmFkZFRvKG1hcmtlcl9jbHVzdGVyX2FlM2ZhY2RjZjZmNzRlYmE4NGU5N2QzYTkwMDE4Y2Y1KTsKICAgICAgICAKICAgIAogICAgICAgIHZhciBwb3B1cF81MmRjNWE2MjZlNTU0YmZjYWM1YzljMTEzNmUyMGZjNyA9IEwucG9wdXAoeyJtYXhXaWR0aCI6ICIxMDAlIn0pOwoKICAgICAgICAKICAgICAgICAgICAgdmFyIGh0bWxfZWMyNWM3NzlmNmJiNDMyMWFhMWE1OWZlZTM5ZjlmOGYgPSAkKGA8ZGl2IGlkPSJodG1sX2VjMjVjNzc5ZjZiYjQzMjFhYTFhNTlmZWUzOWY5ZjhmIiBzdHlsZT0id2lkdGg6IDEwMC4wJTsgaGVpZ2h0OiAxMDAuMCU7Ij5Cb2RlbWxvY2F0aWU6IGh0dHBzOi8vd3d3LmRvdi52bGFhbmRlcmVuLmJlL2RhdGEvYm9kZW1sb2NhdGllLzE5NTctMDA2OTM1PGJyPiBCb2RlbW9ic2VydmF0aWU6IGh0dHBzOi8vd3d3LmRvdi52bGFhbmRlcmVuLmJlL2RhdGEvYm9kZW1vYnNlcnZhdGllLzIwMTktODQ5MjY1PGJyPiBWYWx1ZTogMC45MjAzNDAyOTM4OTAxNzglPC9kaXY+YClbMF07CiAgICAgICAgICAgIHBvcHVwXzUyZGM1YTYyNmU1NTRiZmNhYzVjOWMxMTM2ZTIwZmM3LnNldENvbnRlbnQoaHRtbF9lYzI1Yzc3OWY2YmI0MzIxYWExYTU5ZmVlMzlmOWY4Zik7CiAgICAgICAgCgogICAgICAgIG1hcmtlcl85YWY3MDEwMWY5ODM0NjQyOGVlNTAxYTk1YTQ2ZDgzMS5iaW5kUG9wdXAocG9wdXBfNTJkYzVhNjI2ZTU1NGJmY2FjNWM5YzExMzZlMjBmYzcpCiAgICAgICAgOwoKICAgICAgICAKICAgIAogICAgCiAgICAgICAgICAgIHZhciBtYXJrZXJfZDZhODE1MTc2Y2FlNDYzZmIzNGUyNjFjNjMzZTA1OGQgPSBMLm1hcmtlcigKICAgICAgICAgICAgICAgIFs1MS4wMTYyODQ3ODcwNDE1ODUsIDMuNzg5MzQxNDc1MjQ5MjY4N10sCiAgICAgICAgICAgICAgICB7fQogICAgICAgICAgICApLmFkZFRvKG1hcmtlcl9jbHVzdGVyX2FlM2ZhY2RjZjZmNzRlYmE4NGU5N2QzYTkwMDE4Y2Y1KTsKICAgICAgICAKICAgIAogICAgICAgIHZhciBwb3B1cF8zMDU3MWJiOTE1ZWU0ZjgxODQzMzVhNmI5OWMxNGQyNiA9IEwucG9wdXAoeyJtYXhXaWR0aCI6ICIxMDAlIn0pOwoKICAgICAgICAKICAgICAgICAgICAgdmFyIGh0bWxfM2QzNTgxN2IwZDhlNDUzYmFhNDU1MjZkMmU2MWRlODkgPSAkKGA8ZGl2IGlkPSJodG1sXzNkMzU4MTdiMGQ4ZTQ1M2JhYTQ1NTI2ZDJlNjFkZTg5IiBzdHlsZT0id2lkdGg6IDEwMC4wJTsgaGVpZ2h0OiAxMDAuMCU7Ij5Cb2RlbWxvY2F0aWU6IGh0dHBzOi8vd3d3LmRvdi52bGFhbmRlcmVuLmJlL2RhdGEvYm9kZW1sb2NhdGllLzE5NTAtMDA3NjM3PGJyPiBCb2RlbW9ic2VydmF0aWU6IGh0dHBzOi8vd3d3LmRvdi52bGFhbmRlcmVuLmJlL2RhdGEvYm9kZW1vYnNlcnZhdGllLzIwMTktOTQxMjQ0PGJyPiBWYWx1ZTogMC43NjU2NjEyNTI5MDAyMzIlPC9kaXY+YClbMF07CiAgICAgICAgICAgIHBvcHVwXzMwNTcxYmI5MTVlZTRmODE4NDMzNWE2Yjk5YzE0ZDI2LnNldENvbnRlbnQoaHRtbF8zZDM1ODE3YjBkOGU0NTNiYWE0NTUyNmQyZTYxZGU4OSk7CiAgICAgICAgCgogICAgICAgIG1hcmtlcl9kNmE4MTUxNzZjYWU0NjNmYjM0ZTI2MWM2MzNlMDU4ZC5iaW5kUG9wdXAocG9wdXBfMzA1NzFiYjkxNWVlNGY4MTg0MzM1YTZiOTljMTRkMjYpCiAgICAgICAgOwoKICAgICAgICAKICAgIAo8L3NjcmlwdD4=\" style=\"position:absolute;width:100%;height:100%;left:0;top:0;border:none !important;\" allowfullscreen webkitallowfullscreen mozallowfullscreen></iframe></div></div>"
      ],
      "text/plain": [
       "<folium.folium.Map at 0x1fc11697a58>"
      ]
     },
     "execution_count": 20,
     "metadata": {},
     "output_type": "execute_result"
    }
   ],
   "source": [
    "import folium\n",
    "from folium.plugins import MarkerCluster\n",
    "from pyproj import Transformer\n",
    "\n",
    "# convert the coordinates to lat/lon for folium\n",
    "def convert_latlon(x1, y1):\n",
    "    transformer = Transformer.from_crs(\"epsg:31370\", \"epsg:4326\", always_xy=True)\n",
    "    x2,y2 = transformer.transform(x1, y1)\n",
    "    return x2, y2\n",
    "\n",
    "#convert coordinates to wgs84\n",
    "merged['lon'], merged['lat'] = zip(*map(convert_latlon, merged['x'], merged['y']))\n",
    "\n",
    "# Get only location and value\n",
    "loclist = merged[['lat', 'lon']].values.tolist()\n",
    "\n",
    "# initialize the Folium map on the centre of the selected locations, play with the zoom until ok\n",
    "fmap = folium.Map(location=[merged['lat'].mean(), merged['lon'].mean()], zoom_start=10)\n",
    "marker_cluster = MarkerCluster().add_to(fmap)\n",
    "for loc in range(0, len(loclist)):\n",
    "    popup = 'Bodemlocatie: ' + merged['pkey_bodemlocatie'][loc] \n",
    "    popup = popup + '<br> Bodemobservatie: ' + merged['pkey_bodemobservatie'][loc]\n",
    "    popup = popup + '<br> Value: ' + merged['waarde'][loc] + \"%\"\n",
    "    folium.Marker(loclist[loc], popup=popup).add_to(marker_cluster)\n",
    "fmap"
   ]
  },
  {
   "cell_type": "markdown",
   "metadata": {},
   "source": [
    "### Calculate carbon stock in Ghent in the layer 0 - 23 cm"
   ]
  },
  {
   "cell_type": "markdown",
   "metadata": {},
   "source": [
    "*At the moment, there are no bulkdensities available. As soon as there are observations with bulkdensities, this example can be used to calculate a carbon stock in a layer.*"
   ]
  },
  {
   "cell_type": "markdown",
   "metadata": {},
   "source": [
    "Get boundaries of Ghent using WFS"
   ]
  },
  {
   "cell_type": "code",
   "execution_count": 21,
   "metadata": {},
   "outputs": [],
   "source": [
    "from owslib.etree import etree\n",
    "from owslib.wfs import WebFeatureService\n",
    "from pydov.util.location import (\n",
    "    GmlFilter,\n",
    "    Within,\n",
    ")\n",
    "\n",
    "stadsgrenzen = WebFeatureService(\n",
    "    'https://geoservices.informatievlaanderen.be/overdrachtdiensten/VRBG/wfs',\n",
    "    version='1.1.0')\n",
    "\n",
    "gent_filter = PropertyIsEqualTo(propertyname='NAAM', literal='Gent')\n",
    "gent_poly = stadsgrenzen.getfeature(\n",
    "    typename='VRBG:Refgem',\n",
    "    filter=etree.tostring(gent_filter.toXML()).decode(\"utf8\")).read()"
   ]
  },
  {
   "cell_type": "markdown",
   "metadata": {},
   "source": [
    "First get all observations in Ghent for organisch C percentage in requested layer"
   ]
  },
  {
   "cell_type": "code",
   "execution_count": 22,
   "metadata": {},
   "outputs": [
    {
     "name": "stdout",
     "output_type": "stream",
     "text": [
      "[000/247] cccccccccccccccccccccccccccccccccccccccccccccccccc\n",
      "[050/247] cccccccccccccccccccccccccccccccccccccccccccccccccc\n",
      "[100/247] cccccccccccccccccccccccccccccccccccccccccccccccccc\n",
      "[150/247] cccccccccccccccccccccccccccccccccccccccccccccccccc\n",
      "[200/247] ccccccccccccccccccccccccccccccccccccccccccccccc\n"
     ]
    },
    {
     "data": {
      "text/html": [
       "<div>\n",
       "<style scoped>\n",
       "    .dataframe tbody tr th:only-of-type {\n",
       "        vertical-align: middle;\n",
       "    }\n",
       "\n",
       "    .dataframe tbody tr th {\n",
       "        vertical-align: top;\n",
       "    }\n",
       "\n",
       "    .dataframe thead th {\n",
       "        text-align: right;\n",
       "    }\n",
       "</style>\n",
       "<table border=\"1\" class=\"dataframe\">\n",
       "  <thead>\n",
       "    <tr style=\"text-align: right;\">\n",
       "      <th></th>\n",
       "      <th>pkey_bodemlocatie</th>\n",
       "      <th>organic_c_percentage</th>\n",
       "    </tr>\n",
       "  </thead>\n",
       "  <tbody>\n",
       "    <tr>\n",
       "      <th>0</th>\n",
       "      <td>https://www.dov.vlaanderen.be/data/bodemlocati...</td>\n",
       "      <td>1.10595514307811</td>\n",
       "    </tr>\n",
       "    <tr>\n",
       "      <th>1</th>\n",
       "      <td>https://www.dov.vlaanderen.be/data/bodemlocati...</td>\n",
       "      <td>3.58855375096674</td>\n",
       "    </tr>\n",
       "    <tr>\n",
       "      <th>2</th>\n",
       "      <td>https://www.dov.vlaanderen.be/data/bodemlocati...</td>\n",
       "      <td>1.805</td>\n",
       "    </tr>\n",
       "    <tr>\n",
       "      <th>3</th>\n",
       "      <td>https://www.dov.vlaanderen.be/data/bodemlocati...</td>\n",
       "      <td>1.36890951276102</td>\n",
       "    </tr>\n",
       "    <tr>\n",
       "      <th>4</th>\n",
       "      <td>https://www.dov.vlaanderen.be/data/bodemlocati...</td>\n",
       "      <td>2.45939675174014</td>\n",
       "    </tr>\n",
       "  </tbody>\n",
       "</table>\n",
       "</div>"
      ],
      "text/plain": [
       "                                   pkey_bodemlocatie organic_c_percentage\n",
       "0  https://www.dov.vlaanderen.be/data/bodemlocati...     1.10595514307811\n",
       "1  https://www.dov.vlaanderen.be/data/bodemlocati...     3.58855375096674\n",
       "2  https://www.dov.vlaanderen.be/data/bodemlocati...                1.805\n",
       "3  https://www.dov.vlaanderen.be/data/bodemlocati...     1.36890951276102\n",
       "4  https://www.dov.vlaanderen.be/data/bodemlocati...     2.45939675174014"
      ]
     },
     "execution_count": 22,
     "metadata": {},
     "output_type": "execute_result"
    }
   ],
   "source": [
    "from owslib.fes import PropertyIsEqualTo, PropertyIsGreaterThan, PropertyIsLessThan\n",
    "from owslib.fes import And\n",
    "\n",
    "from pydov.search.bodemobservatie import BodemobservatieSearch\n",
    "\n",
    "bodemobservatie = BodemobservatieSearch()\n",
    "\n",
    "# all layers intersect the layer 0-23cm\n",
    "carbon_observaties = bodemobservatie.search(\n",
    "        location=GmlFilter(gent_poly, Within),\n",
    "        query=And([\n",
    "            PropertyIsEqualTo(propertyname=\"parameter\", literal=\"Organische C - percentage\"),\n",
    "            PropertyIsGreaterThan(propertyname=\"diepte_tot\", literal = '0'),\n",
    "            PropertyIsLessThan(propertyname=\"diepte_van\", literal = '23')\n",
    "        ]))\n",
    "carbon_observaties = carbon_observaties[['pkey_bodemlocatie', 'waarde']]\n",
    "carbon_observaties = carbon_observaties.rename(columns={\"waarde\": \"organic_c_percentage\"})\n",
    "carbon_observaties.head()\n"
   ]
  },
  {
   "cell_type": "markdown",
   "metadata": {},
   "source": [
    "Then get all observations in Ghent for bulkdensity in requested layer"
   ]
  },
  {
   "cell_type": "code",
   "execution_count": 23,
   "metadata": {},
   "outputs": [
    {
     "data": {
      "text/html": [
       "<div>\n",
       "<style scoped>\n",
       "    .dataframe tbody tr th:only-of-type {\n",
       "        vertical-align: middle;\n",
       "    }\n",
       "\n",
       "    .dataframe tbody tr th {\n",
       "        vertical-align: top;\n",
       "    }\n",
       "\n",
       "    .dataframe thead th {\n",
       "        text-align: right;\n",
       "    }\n",
       "</style>\n",
       "<table border=\"1\" class=\"dataframe\">\n",
       "  <thead>\n",
       "    <tr style=\"text-align: right;\">\n",
       "      <th></th>\n",
       "      <th>pkey_bodemlocatie</th>\n",
       "      <th>bulkdensity</th>\n",
       "    </tr>\n",
       "  </thead>\n",
       "  <tbody>\n",
       "  </tbody>\n",
       "</table>\n",
       "</div>"
      ],
      "text/plain": [
       "Empty DataFrame\n",
       "Columns: [pkey_bodemlocatie, bulkdensity]\n",
       "Index: []"
      ]
     },
     "execution_count": 23,
     "metadata": {},
     "output_type": "execute_result"
    }
   ],
   "source": [
    "density_observaties = bodemobservatie.search(\n",
    "        location=GmlFilter(gent_poly, Within),\n",
    "        query=And([\n",
    "            PropertyIsEqualTo(propertyname=\"parameter\", literal=\"Bulkdensitiet - gemeten\"),\n",
    "            PropertyIsGreaterThan(propertyname=\"diepte_tot\", literal = '0'),\n",
    "            PropertyIsLessThan(propertyname=\"diepte_van\", literal = '23')\n",
    "        ]))\n",
    "\n",
    "\n",
    "density_observaties = density_observaties[['pkey_bodemlocatie', 'waarde']]\n",
    "density_observaties = density_observaties.rename(columns={\"waarde\": \"bulkdensity\"})\n",
    "density_observaties.head()"
   ]
  },
  {
   "cell_type": "markdown",
   "metadata": {},
   "source": [
    "Merge results together based on their bodemlocatie. Only remains the records where both parameters exists"
   ]
  },
  {
   "cell_type": "code",
   "execution_count": 24,
   "metadata": {},
   "outputs": [
    {
     "data": {
      "text/html": [
       "<div>\n",
       "<style scoped>\n",
       "    .dataframe tbody tr th:only-of-type {\n",
       "        vertical-align: middle;\n",
       "    }\n",
       "\n",
       "    .dataframe tbody tr th {\n",
       "        vertical-align: top;\n",
       "    }\n",
       "\n",
       "    .dataframe thead th {\n",
       "        text-align: right;\n",
       "    }\n",
       "</style>\n",
       "<table border=\"1\" class=\"dataframe\">\n",
       "  <thead>\n",
       "    <tr style=\"text-align: right;\">\n",
       "      <th></th>\n",
       "      <th>pkey_bodemlocatie</th>\n",
       "      <th>organic_c_percentage</th>\n",
       "      <th>bulkdensity</th>\n",
       "    </tr>\n",
       "  </thead>\n",
       "  <tbody>\n",
       "  </tbody>\n",
       "</table>\n",
       "</div>"
      ],
      "text/plain": [
       "Empty DataFrame\n",
       "Columns: [pkey_bodemlocatie, organic_c_percentage, bulkdensity]\n",
       "Index: []"
      ]
     },
     "execution_count": 24,
     "metadata": {},
     "output_type": "execute_result"
    }
   ],
   "source": [
    "import pandas as pd\n",
    "\n",
    "merged = pd.merge(carbon_observaties, density_observaties, on=\"pkey_bodemlocatie\")\n",
    "\n",
    "merged.head()"
   ]
  },
  {
   "cell_type": "code",
   "execution_count": null,
   "metadata": {},
   "outputs": [],
   "source": []
  }
 ],
 "metadata": {
  "kernelspec": {
   "display_name": "Python 3",
   "language": "python",
   "name": "python3"
  },
  "language_info": {
   "codemirror_mode": {
    "name": "ipython",
    "version": 3
   },
   "file_extension": ".py",
   "mimetype": "text/x-python",
   "name": "python",
   "nbconvert_exporter": "python",
   "pygments_lexer": "ipython3",
   "version": "3.7.3"
  }
 },
 "nbformat": 4,
 "nbformat_minor": 4
}
