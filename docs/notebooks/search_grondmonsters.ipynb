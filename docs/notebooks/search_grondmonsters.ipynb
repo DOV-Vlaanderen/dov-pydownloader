{
 "cells": [
  {
   "cell_type": "markdown",
   "metadata": {},
   "source": [
    "# Example of DOV search methods for borehole samples (grondmonsters)"
   ]
  },
  {
   "cell_type": "markdown",
   "metadata": {},
   "source": [
    "## Use cases explained below\n",
    "* Get borehole samples in a bounding box\n",
    "* Get borehole samples with specific properties\n",
    "* Get borehole samples in a bounding box based on specific properties\n",
    "* Select borehole samples in a municipality and return depth\n",
    "* Get borehole samples, returning fields not available in the standard output dataframe"
   ]
  },
  {
   "cell_type": "code",
   "execution_count": 1,
   "metadata": {},
   "outputs": [],
   "source": [
    "%matplotlib inline\n",
    "import inspect, sys\n",
    "import warnings; warnings.simplefilter('ignore')"
   ]
  },
  {
   "cell_type": "code",
   "execution_count": 2,
   "metadata": {},
   "outputs": [],
   "source": [
    "# check pydov path\n",
    "import pydov"
   ]
  },
  {
   "cell_type": "markdown",
   "metadata": {},
   "source": [
    "## Get information about the datatype 'Grondmonster'"
   ]
  },
  {
   "cell_type": "code",
   "execution_count": 3,
   "metadata": {},
   "outputs": [],
   "source": [
    "from pydov.search.grondmonster import GrondmonsterSearch\n",
    "grondmonster = GrondmonsterSearch()"
   ]
  },
  {
   "cell_type": "raw",
   "metadata": {},
   "source": [
    "A description is provided for the 'Grondmonster' datatype:"
   ]
  },
  {
   "cell_type": "code",
   "execution_count": 4,
   "metadata": {},
   "outputs": [
    {
     "data": {
      "text/plain": [
       "u'Grondmonsters in DOV zijn monsters die gekoppeld zijn aan een boring. Deze grondmonsters zijn gekenmerkt door een diepte ten opzichte van het maaiveld en door de manier van staalname. De geografische ligging (X en Y (mL72) en Z (mTAW)) nemen ze over van de gekoppelde boring. Aan deze grondmonsters zijn laboproeven, namelijk resultaten afkomstig van analyses in het laboratorium of enkel referenties naar bepaalde analyses, gekoppeld. De analyseresultaten van de monsters kunnen zeer divers zijn, namelijk onderkenningsproeven met centraal de korrelgrootteverdeling maar ook plasticiteitsgrenzen en humus- en kalkgehalte, metingen van volumemassa- en watergehalte en referenties van doorlatendheid, samendrukbaarheid en schuifweerstandkarakteristieken, glauconietgehalte en steenkoolanalyses. De gegevens van de monsters en de laboresultaten kunnen worden ge\\xebxporteerd in een rapport.'"
      ]
     },
     "execution_count": 4,
     "metadata": {},
     "output_type": "execute_result"
    }
   ],
   "source": [
    "grondmonster.get_description()"
   ]
  },
  {
   "cell_type": "markdown",
   "metadata": {},
   "source": [
    "The different fields that are available for objects of the 'Grondmonster' datatype can be requested with the get_fields() method:"
   ]
  },
  {
   "cell_type": "code",
   "execution_count": 5,
   "metadata": {},
   "outputs": [
    {
     "name": "stdout",
     "output_type": "stream",
     "text": [
      "diameter\n",
      "boringfiche\n",
      "diepte_tot_m\n",
      "naam\n",
      "glauconiet\n",
      "datum\n",
      "boornummer\n",
      "methode\n",
      "mechanisch\n",
      "grondsoort_bggg\n",
      "opdrachten\n",
      "pkey_grondmonster\n",
      "kalkgehalte\n",
      "rapport\n",
      "korrelvolumemassa\n",
      "korrelverdeling\n",
      "onderkenning\n",
      "watergehalte\n",
      "vloeigrens\n",
      "diepte_van_m\n",
      "monstertype\n",
      "volumemassa\n",
      "gemeente\n",
      "peil_tot_mtaw\n",
      "astm_naam\n",
      "Z_mTAW\n",
      "chemisch\n",
      "uitrolgrens\n",
      "steenkool\n",
      "y\n",
      "x\n",
      "humusgehalte\n",
      "fractie\n"
     ]
    }
   ],
   "source": [
    "fields = grondmonster.get_fields()\n",
    "\n",
    "# print available fields\n",
    "for f in fields.values():\n",
    "    print(f['name'])"
   ]
  },
  {
   "cell_type": "markdown",
   "metadata": {},
   "source": [
    "You can get more information of a field by requesting it from the fields dictionary:\n",
    "* *name*: name of the field\n",
    "* *definition*: definition of this field\n",
    "* *cost*: currently this is either 1 or 10, depending on the datasource of the field. It is an indication of the expected time it will take to retrieve this field in the output dataframe.\n",
    "* *notnull*: whether the field is mandatory or not\n",
    "* *type*: datatype of the values of this field"
   ]
  },
  {
   "cell_type": "code",
   "execution_count": 6,
   "metadata": {},
   "outputs": [
    {
     "data": {
      "text/plain": [
       "{'cost': 1,\n",
       " 'definition': 'Geeft aan of er chemische analyses uitgevoerd werden op het grondmonster.',\n",
       " 'name': 'chemisch',\n",
       " 'notnull': False,\n",
       " 'query': True,\n",
       " 'type': 'boolean'}"
      ]
     },
     "execution_count": 6,
     "metadata": {},
     "output_type": "execute_result"
    }
   ],
   "source": [
    "fields['chemisch']"
   ]
  },
  {
   "cell_type": "markdown",
   "metadata": {},
   "source": [
    "## Example use cases"
   ]
  },
  {
   "cell_type": "markdown",
   "metadata": {},
   "source": [
    "### Get borehole samples in a bounding box"
   ]
  },
  {
   "cell_type": "markdown",
   "metadata": {},
   "source": [
    "Get data for all the boreholes that are geographically located within the bounds of the specified box.\n",
    "\n",
    "The coordinates are in the Belgian Lambert72 (EPSG:31370) coordinate system and are given in the order of lower left x, lower left y, upper right x, upper right y."
   ]
  },
  {
   "cell_type": "code",
   "execution_count": 7,
   "metadata": {},
   "outputs": [
    {
     "name": "stdout",
     "output_type": "stream",
     "text": [
      "[000/039] ccccccccccccccccccccccccccccccccccccccc\n"
     ]
    },
    {
     "data": {
      "text/html": [
       "<div>\n",
       "<style scoped>\n",
       "    .dataframe tbody tr th:only-of-type {\n",
       "        vertical-align: middle;\n",
       "    }\n",
       "\n",
       "    .dataframe tbody tr th {\n",
       "        vertical-align: top;\n",
       "    }\n",
       "\n",
       "    .dataframe thead th {\n",
       "        text-align: right;\n",
       "    }\n",
       "</style>\n",
       "<table border=\"1\" class=\"dataframe\">\n",
       "  <thead>\n",
       "    <tr style=\"text-align: right;\">\n",
       "      <th></th>\n",
       "      <th>pkey_grondmonster</th>\n",
       "      <th>naam</th>\n",
       "      <th>boornummer</th>\n",
       "      <th>datum</th>\n",
       "      <th>x</th>\n",
       "      <th>y</th>\n",
       "      <th>gemeente</th>\n",
       "      <th>diepte_van_m</th>\n",
       "      <th>diepte_tot_m</th>\n",
       "      <th>peil_tot_mtaw</th>\n",
       "      <th>...</th>\n",
       "      <th>kalkgehalte</th>\n",
       "      <th>uitrolgrens</th>\n",
       "      <th>vloeigrens</th>\n",
       "      <th>glauconiet</th>\n",
       "      <th>korrelvolumemassa</th>\n",
       "      <th>volumemassa</th>\n",
       "      <th>watergehalte</th>\n",
       "      <th>diameter</th>\n",
       "      <th>fractie</th>\n",
       "      <th>methode</th>\n",
       "    </tr>\n",
       "  </thead>\n",
       "  <tbody>\n",
       "    <tr>\n",
       "      <th>0</th>\n",
       "      <td>https://www.dov.vlaanderen.be/data/grondmonste...</td>\n",
       "      <td>12</td>\n",
       "      <td>GEO-02/028-B5</td>\n",
       "      <td>NaN</td>\n",
       "      <td>122145.0</td>\n",
       "      <td>188881.0</td>\n",
       "      <td>Wichelen</td>\n",
       "      <td>5.5</td>\n",
       "      <td>6.0</td>\n",
       "      <td>2.54</td>\n",
       "      <td>...</td>\n",
       "      <td>0.8</td>\n",
       "      <td>17.4</td>\n",
       "      <td>21.0</td>\n",
       "      <td>NaN</td>\n",
       "      <td>NaN</td>\n",
       "      <td>NaN</td>\n",
       "      <td>NaN</td>\n",
       "      <td>5.00</td>\n",
       "      <td>0.0</td>\n",
       "      <td>ZEEFPROEF</td>\n",
       "    </tr>\n",
       "    <tr>\n",
       "      <th>1</th>\n",
       "      <td>https://www.dov.vlaanderen.be/data/grondmonste...</td>\n",
       "      <td>12</td>\n",
       "      <td>GEO-02/028-B5</td>\n",
       "      <td>NaN</td>\n",
       "      <td>122145.0</td>\n",
       "      <td>188881.0</td>\n",
       "      <td>Wichelen</td>\n",
       "      <td>5.5</td>\n",
       "      <td>6.0</td>\n",
       "      <td>2.54</td>\n",
       "      <td>...</td>\n",
       "      <td>0.8</td>\n",
       "      <td>17.4</td>\n",
       "      <td>21.0</td>\n",
       "      <td>NaN</td>\n",
       "      <td>NaN</td>\n",
       "      <td>NaN</td>\n",
       "      <td>NaN</td>\n",
       "      <td>3.55</td>\n",
       "      <td>0.3</td>\n",
       "      <td>ZEEFPROEF</td>\n",
       "    </tr>\n",
       "    <tr>\n",
       "      <th>2</th>\n",
       "      <td>https://www.dov.vlaanderen.be/data/grondmonste...</td>\n",
       "      <td>12</td>\n",
       "      <td>GEO-02/028-B5</td>\n",
       "      <td>NaN</td>\n",
       "      <td>122145.0</td>\n",
       "      <td>188881.0</td>\n",
       "      <td>Wichelen</td>\n",
       "      <td>5.5</td>\n",
       "      <td>6.0</td>\n",
       "      <td>2.54</td>\n",
       "      <td>...</td>\n",
       "      <td>0.8</td>\n",
       "      <td>17.4</td>\n",
       "      <td>21.0</td>\n",
       "      <td>NaN</td>\n",
       "      <td>NaN</td>\n",
       "      <td>NaN</td>\n",
       "      <td>NaN</td>\n",
       "      <td>2.50</td>\n",
       "      <td>0.6</td>\n",
       "      <td>ZEEFPROEF</td>\n",
       "    </tr>\n",
       "    <tr>\n",
       "      <th>3</th>\n",
       "      <td>https://www.dov.vlaanderen.be/data/grondmonste...</td>\n",
       "      <td>12</td>\n",
       "      <td>GEO-02/028-B5</td>\n",
       "      <td>NaN</td>\n",
       "      <td>122145.0</td>\n",
       "      <td>188881.0</td>\n",
       "      <td>Wichelen</td>\n",
       "      <td>5.5</td>\n",
       "      <td>6.0</td>\n",
       "      <td>2.54</td>\n",
       "      <td>...</td>\n",
       "      <td>0.8</td>\n",
       "      <td>17.4</td>\n",
       "      <td>21.0</td>\n",
       "      <td>NaN</td>\n",
       "      <td>NaN</td>\n",
       "      <td>NaN</td>\n",
       "      <td>NaN</td>\n",
       "      <td>1.80</td>\n",
       "      <td>0.8</td>\n",
       "      <td>ZEEFPROEF</td>\n",
       "    </tr>\n",
       "    <tr>\n",
       "      <th>4</th>\n",
       "      <td>https://www.dov.vlaanderen.be/data/grondmonste...</td>\n",
       "      <td>12</td>\n",
       "      <td>GEO-02/028-B5</td>\n",
       "      <td>NaN</td>\n",
       "      <td>122145.0</td>\n",
       "      <td>188881.0</td>\n",
       "      <td>Wichelen</td>\n",
       "      <td>5.5</td>\n",
       "      <td>6.0</td>\n",
       "      <td>2.54</td>\n",
       "      <td>...</td>\n",
       "      <td>0.8</td>\n",
       "      <td>17.4</td>\n",
       "      <td>21.0</td>\n",
       "      <td>NaN</td>\n",
       "      <td>NaN</td>\n",
       "      <td>NaN</td>\n",
       "      <td>NaN</td>\n",
       "      <td>1.25</td>\n",
       "      <td>1.0</td>\n",
       "      <td>ZEEFPROEF</td>\n",
       "    </tr>\n",
       "  </tbody>\n",
       "</table>\n",
       "<p>5 rows × 24 columns</p>\n",
       "</div>"
      ],
      "text/plain": [
       "                                   pkey_grondmonster naam     boornummer  \\\n",
       "0  https://www.dov.vlaanderen.be/data/grondmonste...   12  GEO-02/028-B5   \n",
       "1  https://www.dov.vlaanderen.be/data/grondmonste...   12  GEO-02/028-B5   \n",
       "2  https://www.dov.vlaanderen.be/data/grondmonste...   12  GEO-02/028-B5   \n",
       "3  https://www.dov.vlaanderen.be/data/grondmonste...   12  GEO-02/028-B5   \n",
       "4  https://www.dov.vlaanderen.be/data/grondmonste...   12  GEO-02/028-B5   \n",
       "\n",
       "   datum         x         y  gemeente  diepte_van_m  diepte_tot_m  \\\n",
       "0    NaN  122145.0  188881.0  Wichelen           5.5           6.0   \n",
       "1    NaN  122145.0  188881.0  Wichelen           5.5           6.0   \n",
       "2    NaN  122145.0  188881.0  Wichelen           5.5           6.0   \n",
       "3    NaN  122145.0  188881.0  Wichelen           5.5           6.0   \n",
       "4    NaN  122145.0  188881.0  Wichelen           5.5           6.0   \n",
       "\n",
       "   peil_tot_mtaw    ...     kalkgehalte uitrolgrens vloeigrens  glauconiet  \\\n",
       "0           2.54    ...             0.8        17.4       21.0         NaN   \n",
       "1           2.54    ...             0.8        17.4       21.0         NaN   \n",
       "2           2.54    ...             0.8        17.4       21.0         NaN   \n",
       "3           2.54    ...             0.8        17.4       21.0         NaN   \n",
       "4           2.54    ...             0.8        17.4       21.0         NaN   \n",
       "\n",
       "   korrelvolumemassa  volumemassa  watergehalte  diameter  fractie    methode  \n",
       "0                NaN          NaN           NaN      5.00      0.0  ZEEFPROEF  \n",
       "1                NaN          NaN           NaN      3.55      0.3  ZEEFPROEF  \n",
       "2                NaN          NaN           NaN      2.50      0.6  ZEEFPROEF  \n",
       "3                NaN          NaN           NaN      1.80      0.8  ZEEFPROEF  \n",
       "4                NaN          NaN           NaN      1.25      1.0  ZEEFPROEF  \n",
       "\n",
       "[5 rows x 24 columns]"
      ]
     },
     "execution_count": 7,
     "metadata": {},
     "output_type": "execute_result"
    }
   ],
   "source": [
    "from pydov.util.location import Within, Box\n",
    "\n",
    "df = grondmonster.search(location=Within(Box(122000, 187000, 124000, 189000)))\n",
    "df.head()"
   ]
  },
  {
   "cell_type": "markdown",
   "metadata": {},
   "source": [
    "The dataframe contains borehole samples from 6 boreholes The available data are flattened to represent unique attributes per row of the dataframe.\n",
    "\n",
    "Using the *pkey_grondmonster* field one can request the details of this borehole in a webbrowser:\n",
    "https://www.dov.vlaanderen.be/data/grondmonster/*pkey_grondmonster*"
   ]
  },
  {
   "cell_type": "code",
   "execution_count": 8,
   "metadata": {},
   "outputs": [
    {
     "name": "stdout",
     "output_type": "stream",
     "text": [
      "https://www.dov.vlaanderen.be/data/grondmonster/2017-180450\n",
      "https://www.dov.vlaanderen.be/data/grondmonster/2017-180448\n",
      "https://www.dov.vlaanderen.be/data/grondmonster/2017-180449\n",
      "https://www.dov.vlaanderen.be/data/grondmonster/2017-180444\n",
      "https://www.dov.vlaanderen.be/data/grondmonster/2017-180445\n",
      "https://www.dov.vlaanderen.be/data/grondmonster/2017-180446\n",
      "https://www.dov.vlaanderen.be/data/grondmonster/2017-180447\n",
      "https://www.dov.vlaanderen.be/data/grondmonster/2017-180452\n",
      "https://www.dov.vlaanderen.be/data/grondmonster/2017-180451\n",
      "https://www.dov.vlaanderen.be/data/grondmonster/2017-180443\n"
     ]
    }
   ],
   "source": [
    "for pkey_grondmonster in set(df.loc[df.boornummer == 'GEO-02/028-B5'].pkey_grondmonster):\n",
    "    print(pkey_grondmonster)"
   ]
  },
  {
   "cell_type": "markdown",
   "metadata": {},
   "source": [
    "There were 10 samples taken from the above borehole, each identified by its own URI."
   ]
  },
  {
   "cell_type": "markdown",
   "metadata": {},
   "source": [
    "### Get borehole samples with specific properties"
   ]
  },
  {
   "cell_type": "markdown",
   "metadata": {},
   "source": [
    "Next to querying borehole samples based on their geographic location within a bounding box, we can also search for borehole samples matching a specific set of properties. For this we can build a query using a combination of the 'Grondmonster' fields and operators provided by the WFS protocol.\n",
    "\n",
    "A list of possible operators can be found below:"
   ]
  },
  {
   "cell_type": "code",
   "execution_count": 9,
   "metadata": {},
   "outputs": [
    {
     "data": {
      "text/plain": [
       "['PropertyIsBetween',\n",
       " 'PropertyIsEqualTo',\n",
       " 'PropertyIsGreaterThan',\n",
       " 'PropertyIsGreaterThanOrEqualTo',\n",
       " 'PropertyIsLessThan',\n",
       " 'PropertyIsLessThanOrEqualTo',\n",
       " 'PropertyIsLike',\n",
       " 'PropertyIsNotEqualTo',\n",
       " 'PropertyIsNull',\n",
       " 'SortProperty']"
      ]
     },
     "execution_count": 9,
     "metadata": {},
     "output_type": "execute_result"
    }
   ],
   "source": [
    "[i for i,j in inspect.getmembers(sys.modules['owslib.fes'], inspect.isclass) if 'Property' in i]"
   ]
  },
  {
   "cell_type": "markdown",
   "metadata": {},
   "source": [
    "In this example we build a query using the *PropertyIsEqualTo* operator to find all boreholes that are within the community (gemeente) of 'Wichelen':"
   ]
  },
  {
   "cell_type": "code",
   "execution_count": 10,
   "metadata": {},
   "outputs": [
    {
     "name": "stdout",
     "output_type": "stream",
     "text": [
      "[000/101] cccccccccccccccccccccccccccccccccccccccccccccccccc\n",
      "[050/101] cccccccccccccccccccccccccccccccccccccccccccccccccc\n",
      "[100/101] c\n"
     ]
    },
    {
     "data": {
      "text/html": [
       "<div>\n",
       "<style scoped>\n",
       "    .dataframe tbody tr th:only-of-type {\n",
       "        vertical-align: middle;\n",
       "    }\n",
       "\n",
       "    .dataframe tbody tr th {\n",
       "        vertical-align: top;\n",
       "    }\n",
       "\n",
       "    .dataframe thead th {\n",
       "        text-align: right;\n",
       "    }\n",
       "</style>\n",
       "<table border=\"1\" class=\"dataframe\">\n",
       "  <thead>\n",
       "    <tr style=\"text-align: right;\">\n",
       "      <th></th>\n",
       "      <th>pkey_grondmonster</th>\n",
       "      <th>naam</th>\n",
       "      <th>boornummer</th>\n",
       "      <th>datum</th>\n",
       "      <th>x</th>\n",
       "      <th>y</th>\n",
       "      <th>gemeente</th>\n",
       "      <th>diepte_van_m</th>\n",
       "      <th>diepte_tot_m</th>\n",
       "      <th>peil_tot_mtaw</th>\n",
       "      <th>...</th>\n",
       "      <th>kalkgehalte</th>\n",
       "      <th>uitrolgrens</th>\n",
       "      <th>vloeigrens</th>\n",
       "      <th>glauconiet</th>\n",
       "      <th>korrelvolumemassa</th>\n",
       "      <th>volumemassa</th>\n",
       "      <th>watergehalte</th>\n",
       "      <th>diameter</th>\n",
       "      <th>fractie</th>\n",
       "      <th>methode</th>\n",
       "    </tr>\n",
       "  </thead>\n",
       "  <tbody>\n",
       "    <tr>\n",
       "      <th>0</th>\n",
       "      <td>https://www.dov.vlaanderen.be/data/grondmonste...</td>\n",
       "      <td>N12</td>\n",
       "      <td>GEO-02/071-B34</td>\n",
       "      <td>NaN</td>\n",
       "      <td>118827.31</td>\n",
       "      <td>189759.49</td>\n",
       "      <td>Wichelen</td>\n",
       "      <td>5.05</td>\n",
       "      <td>5.45</td>\n",
       "      <td>1.76</td>\n",
       "      <td>...</td>\n",
       "      <td>8.7</td>\n",
       "      <td>20.6</td>\n",
       "      <td>26.9</td>\n",
       "      <td>NaN</td>\n",
       "      <td>NaN</td>\n",
       "      <td>NaN</td>\n",
       "      <td>NaN</td>\n",
       "      <td>0.315</td>\n",
       "      <td>0.06</td>\n",
       "      <td>ZEEFPROEF</td>\n",
       "    </tr>\n",
       "    <tr>\n",
       "      <th>1</th>\n",
       "      <td>https://www.dov.vlaanderen.be/data/grondmonste...</td>\n",
       "      <td>N12</td>\n",
       "      <td>GEO-02/071-B34</td>\n",
       "      <td>NaN</td>\n",
       "      <td>118827.31</td>\n",
       "      <td>189759.49</td>\n",
       "      <td>Wichelen</td>\n",
       "      <td>5.05</td>\n",
       "      <td>5.45</td>\n",
       "      <td>1.76</td>\n",
       "      <td>...</td>\n",
       "      <td>8.7</td>\n",
       "      <td>20.6</td>\n",
       "      <td>26.9</td>\n",
       "      <td>NaN</td>\n",
       "      <td>NaN</td>\n",
       "      <td>NaN</td>\n",
       "      <td>NaN</td>\n",
       "      <td>0.224</td>\n",
       "      <td>0.59</td>\n",
       "      <td>ZEEFPROEF</td>\n",
       "    </tr>\n",
       "    <tr>\n",
       "      <th>2</th>\n",
       "      <td>https://www.dov.vlaanderen.be/data/grondmonste...</td>\n",
       "      <td>N12</td>\n",
       "      <td>GEO-02/071-B34</td>\n",
       "      <td>NaN</td>\n",
       "      <td>118827.31</td>\n",
       "      <td>189759.49</td>\n",
       "      <td>Wichelen</td>\n",
       "      <td>5.05</td>\n",
       "      <td>5.45</td>\n",
       "      <td>1.76</td>\n",
       "      <td>...</td>\n",
       "      <td>8.7</td>\n",
       "      <td>20.6</td>\n",
       "      <td>26.9</td>\n",
       "      <td>NaN</td>\n",
       "      <td>NaN</td>\n",
       "      <td>NaN</td>\n",
       "      <td>NaN</td>\n",
       "      <td>0.160</td>\n",
       "      <td>4.39</td>\n",
       "      <td>ZEEFPROEF</td>\n",
       "    </tr>\n",
       "    <tr>\n",
       "      <th>3</th>\n",
       "      <td>https://www.dov.vlaanderen.be/data/grondmonste...</td>\n",
       "      <td>N12</td>\n",
       "      <td>GEO-02/071-B34</td>\n",
       "      <td>NaN</td>\n",
       "      <td>118827.31</td>\n",
       "      <td>189759.49</td>\n",
       "      <td>Wichelen</td>\n",
       "      <td>5.05</td>\n",
       "      <td>5.45</td>\n",
       "      <td>1.76</td>\n",
       "      <td>...</td>\n",
       "      <td>8.7</td>\n",
       "      <td>20.6</td>\n",
       "      <td>26.9</td>\n",
       "      <td>NaN</td>\n",
       "      <td>NaN</td>\n",
       "      <td>NaN</td>\n",
       "      <td>NaN</td>\n",
       "      <td>0.112</td>\n",
       "      <td>22.42</td>\n",
       "      <td>ZEEFPROEF</td>\n",
       "    </tr>\n",
       "    <tr>\n",
       "      <th>4</th>\n",
       "      <td>https://www.dov.vlaanderen.be/data/grondmonste...</td>\n",
       "      <td>N12</td>\n",
       "      <td>GEO-02/071-B34</td>\n",
       "      <td>NaN</td>\n",
       "      <td>118827.31</td>\n",
       "      <td>189759.49</td>\n",
       "      <td>Wichelen</td>\n",
       "      <td>5.05</td>\n",
       "      <td>5.45</td>\n",
       "      <td>1.76</td>\n",
       "      <td>...</td>\n",
       "      <td>8.7</td>\n",
       "      <td>20.6</td>\n",
       "      <td>26.9</td>\n",
       "      <td>NaN</td>\n",
       "      <td>NaN</td>\n",
       "      <td>NaN</td>\n",
       "      <td>NaN</td>\n",
       "      <td>0.080</td>\n",
       "      <td>43.79</td>\n",
       "      <td>ZEEFPROEF</td>\n",
       "    </tr>\n",
       "  </tbody>\n",
       "</table>\n",
       "<p>5 rows × 24 columns</p>\n",
       "</div>"
      ],
      "text/plain": [
       "                                   pkey_grondmonster naam      boornummer  \\\n",
       "0  https://www.dov.vlaanderen.be/data/grondmonste...  N12  GEO-02/071-B34   \n",
       "1  https://www.dov.vlaanderen.be/data/grondmonste...  N12  GEO-02/071-B34   \n",
       "2  https://www.dov.vlaanderen.be/data/grondmonste...  N12  GEO-02/071-B34   \n",
       "3  https://www.dov.vlaanderen.be/data/grondmonste...  N12  GEO-02/071-B34   \n",
       "4  https://www.dov.vlaanderen.be/data/grondmonste...  N12  GEO-02/071-B34   \n",
       "\n",
       "   datum          x          y  gemeente  diepte_van_m  diepte_tot_m  \\\n",
       "0    NaN  118827.31  189759.49  Wichelen          5.05          5.45   \n",
       "1    NaN  118827.31  189759.49  Wichelen          5.05          5.45   \n",
       "2    NaN  118827.31  189759.49  Wichelen          5.05          5.45   \n",
       "3    NaN  118827.31  189759.49  Wichelen          5.05          5.45   \n",
       "4    NaN  118827.31  189759.49  Wichelen          5.05          5.45   \n",
       "\n",
       "   peil_tot_mtaw    ...     kalkgehalte uitrolgrens vloeigrens  glauconiet  \\\n",
       "0           1.76    ...             8.7        20.6       26.9         NaN   \n",
       "1           1.76    ...             8.7        20.6       26.9         NaN   \n",
       "2           1.76    ...             8.7        20.6       26.9         NaN   \n",
       "3           1.76    ...             8.7        20.6       26.9         NaN   \n",
       "4           1.76    ...             8.7        20.6       26.9         NaN   \n",
       "\n",
       "   korrelvolumemassa  volumemassa  watergehalte  diameter  fractie    methode  \n",
       "0                NaN          NaN           NaN     0.315     0.06  ZEEFPROEF  \n",
       "1                NaN          NaN           NaN     0.224     0.59  ZEEFPROEF  \n",
       "2                NaN          NaN           NaN     0.160     4.39  ZEEFPROEF  \n",
       "3                NaN          NaN           NaN     0.112    22.42  ZEEFPROEF  \n",
       "4                NaN          NaN           NaN     0.080    43.79  ZEEFPROEF  \n",
       "\n",
       "[5 rows x 24 columns]"
      ]
     },
     "execution_count": 10,
     "metadata": {},
     "output_type": "execute_result"
    }
   ],
   "source": [
    "from owslib.fes import PropertyIsEqualTo\n",
    "\n",
    "query = PropertyIsEqualTo(propertyname='gemeente',\n",
    "                          literal='Wichelen')\n",
    "df = grondmonster.search(query=query)\n",
    "\n",
    "df.head()"
   ]
  },
  {
   "cell_type": "markdown",
   "metadata": {},
   "source": [
    "Once again we can use the *pkey_grondmonster* as a permanent link to the information of these boreholes:"
   ]
  },
  {
   "cell_type": "code",
   "execution_count": 11,
   "metadata": {},
   "outputs": [
    {
     "name": "stdout",
     "output_type": "stream",
     "text": [
      "https://www.dov.vlaanderen.be/data/grondmonster/2017-172401\n",
      "https://www.dov.vlaanderen.be/data/grondmonster/2017-172409\n",
      "https://www.dov.vlaanderen.be/data/grondmonster/2017-172383\n",
      "https://www.dov.vlaanderen.be/data/grondmonster/2017-172394\n",
      "https://www.dov.vlaanderen.be/data/grondmonster/2017-172367\n"
     ]
    }
   ],
   "source": [
    "for pkey_grondmonster in set(df.loc[df.boornummer == 'GEO-04/022-B4'].pkey_grondmonster):\n",
    "    print(pkey_grondmonster)"
   ]
  },
  {
   "cell_type": "markdown",
   "metadata": {},
   "source": [
    "### Get borehole samples in a bounding box based on specific properties"
   ]
  },
  {
   "cell_type": "markdown",
   "metadata": {},
   "source": [
    "We can combine a query on attributes with a query on geographic location to get the borehole samples within a bounding box that have specific properties.\n",
    "\n",
    "The following example requests the borehole samples with a depth greater than or equal to 15 meters within the given bounding box.\n",
    "\n",
    "(Note that the datatype of the *literal* parameter should be a string, regardless of the datatype of this field in the output dataframe.)"
   ]
  },
  {
   "cell_type": "code",
   "execution_count": 12,
   "metadata": {},
   "outputs": [
    {
     "name": "stdout",
     "output_type": "stream",
     "text": [
      "[000/005] ccccc\n"
     ]
    },
    {
     "data": {
      "text/html": [
       "<div>\n",
       "<style scoped>\n",
       "    .dataframe tbody tr th:only-of-type {\n",
       "        vertical-align: middle;\n",
       "    }\n",
       "\n",
       "    .dataframe tbody tr th {\n",
       "        vertical-align: top;\n",
       "    }\n",
       "\n",
       "    .dataframe thead th {\n",
       "        text-align: right;\n",
       "    }\n",
       "</style>\n",
       "<table border=\"1\" class=\"dataframe\">\n",
       "  <thead>\n",
       "    <tr style=\"text-align: right;\">\n",
       "      <th></th>\n",
       "      <th>pkey_grondmonster</th>\n",
       "      <th>naam</th>\n",
       "      <th>boornummer</th>\n",
       "      <th>datum</th>\n",
       "      <th>x</th>\n",
       "      <th>y</th>\n",
       "      <th>gemeente</th>\n",
       "      <th>diepte_van_m</th>\n",
       "      <th>diepte_tot_m</th>\n",
       "      <th>peil_tot_mtaw</th>\n",
       "      <th>...</th>\n",
       "      <th>kalkgehalte</th>\n",
       "      <th>uitrolgrens</th>\n",
       "      <th>vloeigrens</th>\n",
       "      <th>glauconiet</th>\n",
       "      <th>korrelvolumemassa</th>\n",
       "      <th>volumemassa</th>\n",
       "      <th>watergehalte</th>\n",
       "      <th>diameter</th>\n",
       "      <th>fractie</th>\n",
       "      <th>methode</th>\n",
       "    </tr>\n",
       "  </thead>\n",
       "  <tbody>\n",
       "    <tr>\n",
       "      <th>0</th>\n",
       "      <td>https://www.dov.vlaanderen.be/data/grondmonste...</td>\n",
       "      <td>39A</td>\n",
       "      <td>GEO-02/028-B5</td>\n",
       "      <td>NaN</td>\n",
       "      <td>122145.0</td>\n",
       "      <td>188881.0</td>\n",
       "      <td>Wichelen</td>\n",
       "      <td>17.0</td>\n",
       "      <td>17.37</td>\n",
       "      <td>-8.83</td>\n",
       "      <td>...</td>\n",
       "      <td>5.5</td>\n",
       "      <td>20.0</td>\n",
       "      <td>30.2</td>\n",
       "      <td>NaN</td>\n",
       "      <td>NaN</td>\n",
       "      <td>NaN</td>\n",
       "      <td>NaN</td>\n",
       "      <td>0.900</td>\n",
       "      <td>0.2</td>\n",
       "      <td>ZEEFPROEF</td>\n",
       "    </tr>\n",
       "    <tr>\n",
       "      <th>1</th>\n",
       "      <td>https://www.dov.vlaanderen.be/data/grondmonste...</td>\n",
       "      <td>39A</td>\n",
       "      <td>GEO-02/028-B5</td>\n",
       "      <td>NaN</td>\n",
       "      <td>122145.0</td>\n",
       "      <td>188881.0</td>\n",
       "      <td>Wichelen</td>\n",
       "      <td>17.0</td>\n",
       "      <td>17.37</td>\n",
       "      <td>-8.83</td>\n",
       "      <td>...</td>\n",
       "      <td>5.5</td>\n",
       "      <td>20.0</td>\n",
       "      <td>30.2</td>\n",
       "      <td>NaN</td>\n",
       "      <td>NaN</td>\n",
       "      <td>NaN</td>\n",
       "      <td>NaN</td>\n",
       "      <td>0.630</td>\n",
       "      <td>0.3</td>\n",
       "      <td>ZEEFPROEF</td>\n",
       "    </tr>\n",
       "    <tr>\n",
       "      <th>2</th>\n",
       "      <td>https://www.dov.vlaanderen.be/data/grondmonste...</td>\n",
       "      <td>39A</td>\n",
       "      <td>GEO-02/028-B5</td>\n",
       "      <td>NaN</td>\n",
       "      <td>122145.0</td>\n",
       "      <td>188881.0</td>\n",
       "      <td>Wichelen</td>\n",
       "      <td>17.0</td>\n",
       "      <td>17.37</td>\n",
       "      <td>-8.83</td>\n",
       "      <td>...</td>\n",
       "      <td>5.5</td>\n",
       "      <td>20.0</td>\n",
       "      <td>30.2</td>\n",
       "      <td>NaN</td>\n",
       "      <td>NaN</td>\n",
       "      <td>NaN</td>\n",
       "      <td>NaN</td>\n",
       "      <td>0.450</td>\n",
       "      <td>0.4</td>\n",
       "      <td>ZEEFPROEF</td>\n",
       "    </tr>\n",
       "    <tr>\n",
       "      <th>3</th>\n",
       "      <td>https://www.dov.vlaanderen.be/data/grondmonste...</td>\n",
       "      <td>39A</td>\n",
       "      <td>GEO-02/028-B5</td>\n",
       "      <td>NaN</td>\n",
       "      <td>122145.0</td>\n",
       "      <td>188881.0</td>\n",
       "      <td>Wichelen</td>\n",
       "      <td>17.0</td>\n",
       "      <td>17.37</td>\n",
       "      <td>-8.83</td>\n",
       "      <td>...</td>\n",
       "      <td>5.5</td>\n",
       "      <td>20.0</td>\n",
       "      <td>30.2</td>\n",
       "      <td>NaN</td>\n",
       "      <td>NaN</td>\n",
       "      <td>NaN</td>\n",
       "      <td>NaN</td>\n",
       "      <td>0.315</td>\n",
       "      <td>0.8</td>\n",
       "      <td>ZEEFPROEF</td>\n",
       "    </tr>\n",
       "    <tr>\n",
       "      <th>4</th>\n",
       "      <td>https://www.dov.vlaanderen.be/data/grondmonste...</td>\n",
       "      <td>39A</td>\n",
       "      <td>GEO-02/028-B5</td>\n",
       "      <td>NaN</td>\n",
       "      <td>122145.0</td>\n",
       "      <td>188881.0</td>\n",
       "      <td>Wichelen</td>\n",
       "      <td>17.0</td>\n",
       "      <td>17.37</td>\n",
       "      <td>-8.83</td>\n",
       "      <td>...</td>\n",
       "      <td>5.5</td>\n",
       "      <td>20.0</td>\n",
       "      <td>30.2</td>\n",
       "      <td>NaN</td>\n",
       "      <td>NaN</td>\n",
       "      <td>NaN</td>\n",
       "      <td>NaN</td>\n",
       "      <td>0.224</td>\n",
       "      <td>3.0</td>\n",
       "      <td>ZEEFPROEF</td>\n",
       "    </tr>\n",
       "  </tbody>\n",
       "</table>\n",
       "<p>5 rows × 24 columns</p>\n",
       "</div>"
      ],
      "text/plain": [
       "                                   pkey_grondmonster naam     boornummer  \\\n",
       "0  https://www.dov.vlaanderen.be/data/grondmonste...  39A  GEO-02/028-B5   \n",
       "1  https://www.dov.vlaanderen.be/data/grondmonste...  39A  GEO-02/028-B5   \n",
       "2  https://www.dov.vlaanderen.be/data/grondmonste...  39A  GEO-02/028-B5   \n",
       "3  https://www.dov.vlaanderen.be/data/grondmonste...  39A  GEO-02/028-B5   \n",
       "4  https://www.dov.vlaanderen.be/data/grondmonste...  39A  GEO-02/028-B5   \n",
       "\n",
       "   datum         x         y  gemeente  diepte_van_m  diepte_tot_m  \\\n",
       "0    NaN  122145.0  188881.0  Wichelen          17.0         17.37   \n",
       "1    NaN  122145.0  188881.0  Wichelen          17.0         17.37   \n",
       "2    NaN  122145.0  188881.0  Wichelen          17.0         17.37   \n",
       "3    NaN  122145.0  188881.0  Wichelen          17.0         17.37   \n",
       "4    NaN  122145.0  188881.0  Wichelen          17.0         17.37   \n",
       "\n",
       "   peil_tot_mtaw    ...     kalkgehalte uitrolgrens vloeigrens  glauconiet  \\\n",
       "0          -8.83    ...             5.5        20.0       30.2         NaN   \n",
       "1          -8.83    ...             5.5        20.0       30.2         NaN   \n",
       "2          -8.83    ...             5.5        20.0       30.2         NaN   \n",
       "3          -8.83    ...             5.5        20.0       30.2         NaN   \n",
       "4          -8.83    ...             5.5        20.0       30.2         NaN   \n",
       "\n",
       "   korrelvolumemassa  volumemassa  watergehalte  diameter  fractie    methode  \n",
       "0                NaN          NaN           NaN     0.900      0.2  ZEEFPROEF  \n",
       "1                NaN          NaN           NaN     0.630      0.3  ZEEFPROEF  \n",
       "2                NaN          NaN           NaN     0.450      0.4  ZEEFPROEF  \n",
       "3                NaN          NaN           NaN     0.315      0.8  ZEEFPROEF  \n",
       "4                NaN          NaN           NaN     0.224      3.0  ZEEFPROEF  \n",
       "\n",
       "[5 rows x 24 columns]"
      ]
     },
     "execution_count": 12,
     "metadata": {},
     "output_type": "execute_result"
    }
   ],
   "source": [
    "from owslib.fes import PropertyIsGreaterThanOrEqualTo\n",
    "\n",
    "query = PropertyIsGreaterThanOrEqualTo(\n",
    "            propertyname='diepte_tot_m',\n",
    "            literal='15')\n",
    "\n",
    "df = grondmonster.search(\n",
    "    location=Within(Box(122000, 187000, 124000, 189000)),\n",
    "    query=query\n",
    "    )\n",
    "\n",
    "df.head()"
   ]
  },
  {
   "cell_type": "markdown",
   "metadata": {},
   "source": [
    "### Select borehole samples in a municipality and return depth"
   ]
  },
  {
   "cell_type": "markdown",
   "metadata": {},
   "source": [
    "We can limit the columns in the output dataframe by specifying the *return_fields* parameter in our search.\n",
    "\n",
    "In this example we query all the borehole samples in the city of Ghent and return their depth:"
   ]
  },
  {
   "cell_type": "code",
   "execution_count": 13,
   "metadata": {},
   "outputs": [
    {
     "data": {
      "text/html": [
       "<div>\n",
       "<style scoped>\n",
       "    .dataframe tbody tr th:only-of-type {\n",
       "        vertical-align: middle;\n",
       "    }\n",
       "\n",
       "    .dataframe tbody tr th {\n",
       "        vertical-align: top;\n",
       "    }\n",
       "\n",
       "    .dataframe thead th {\n",
       "        text-align: right;\n",
       "    }\n",
       "</style>\n",
       "<table border=\"1\" class=\"dataframe\">\n",
       "  <thead>\n",
       "    <tr style=\"text-align: right;\">\n",
       "      <th></th>\n",
       "      <th>diepte_tot_m</th>\n",
       "    </tr>\n",
       "  </thead>\n",
       "  <tbody>\n",
       "    <tr>\n",
       "      <th>0</th>\n",
       "      <td>5.0</td>\n",
       "    </tr>\n",
       "    <tr>\n",
       "      <th>1</th>\n",
       "      <td>8.0</td>\n",
       "    </tr>\n",
       "    <tr>\n",
       "      <th>2</th>\n",
       "      <td>12.0</td>\n",
       "    </tr>\n",
       "    <tr>\n",
       "      <th>3</th>\n",
       "      <td>9.0</td>\n",
       "    </tr>\n",
       "    <tr>\n",
       "      <th>4</th>\n",
       "      <td>3.0</td>\n",
       "    </tr>\n",
       "  </tbody>\n",
       "</table>\n",
       "</div>"
      ],
      "text/plain": [
       "   diepte_tot_m\n",
       "0           5.0\n",
       "1           8.0\n",
       "2          12.0\n",
       "3           9.0\n",
       "4           3.0"
      ]
     },
     "execution_count": 13,
     "metadata": {},
     "output_type": "execute_result"
    }
   ],
   "source": [
    "query = PropertyIsEqualTo(propertyname='gemeente',\n",
    "                          literal='Gent')\n",
    "df = grondmonster.search(query=query,\n",
    "                   return_fields=('diepte_tot_m',))\n",
    "\n",
    "df.head()"
   ]
  },
  {
   "cell_type": "code",
   "execution_count": 14,
   "metadata": {},
   "outputs": [
    {
     "data": {
      "text/html": [
       "<div>\n",
       "<style scoped>\n",
       "    .dataframe tbody tr th:only-of-type {\n",
       "        vertical-align: middle;\n",
       "    }\n",
       "\n",
       "    .dataframe tbody tr th {\n",
       "        vertical-align: top;\n",
       "    }\n",
       "\n",
       "    .dataframe thead th {\n",
       "        text-align: right;\n",
       "    }\n",
       "</style>\n",
       "<table border=\"1\" class=\"dataframe\">\n",
       "  <thead>\n",
       "    <tr style=\"text-align: right;\">\n",
       "      <th></th>\n",
       "      <th>diepte_tot_m</th>\n",
       "    </tr>\n",
       "  </thead>\n",
       "  <tbody>\n",
       "    <tr>\n",
       "      <th>count</th>\n",
       "      <td>717.000000</td>\n",
       "    </tr>\n",
       "    <tr>\n",
       "      <th>mean</th>\n",
       "      <td>10.612720</td>\n",
       "    </tr>\n",
       "    <tr>\n",
       "      <th>std</th>\n",
       "      <td>8.180212</td>\n",
       "    </tr>\n",
       "    <tr>\n",
       "      <th>min</th>\n",
       "      <td>0.700000</td>\n",
       "    </tr>\n",
       "    <tr>\n",
       "      <th>25%</th>\n",
       "      <td>3.900000</td>\n",
       "    </tr>\n",
       "    <tr>\n",
       "      <th>50%</th>\n",
       "      <td>8.390000</td>\n",
       "    </tr>\n",
       "    <tr>\n",
       "      <th>75%</th>\n",
       "      <td>15.390000</td>\n",
       "    </tr>\n",
       "    <tr>\n",
       "      <th>max</th>\n",
       "      <td>40.400000</td>\n",
       "    </tr>\n",
       "  </tbody>\n",
       "</table>\n",
       "</div>"
      ],
      "text/plain": [
       "       diepte_tot_m\n",
       "count    717.000000\n",
       "mean      10.612720\n",
       "std        8.180212\n",
       "min        0.700000\n",
       "25%        3.900000\n",
       "50%        8.390000\n",
       "75%       15.390000\n",
       "max       40.400000"
      ]
     },
     "execution_count": 14,
     "metadata": {},
     "output_type": "execute_result"
    }
   ],
   "source": [
    "df.describe()"
   ]
  },
  {
   "cell_type": "code",
   "execution_count": 15,
   "metadata": {},
   "outputs": [
    {
     "data": {
      "text/plain": [
       "<matplotlib.axes._subplots.AxesSubplot at 0x11b6aba8>"
      ]
     },
     "execution_count": 15,
     "metadata": {},
     "output_type": "execute_result"
    },
    {
     "data": {
      "image/png": "[encoded data removed]",
      "text/plain": [
       "<Figure size 432x288 with 1 Axes>"
      ]
     },
     "metadata": {
      "needs_background": "light"
     },
     "output_type": "display_data"
    }
   ],
   "source": [
    "df[df.diepte_tot_m != 0].boxplot()"
   ]
  },
  {
   "cell_type": "markdown",
   "metadata": {},
   "source": [
    "## Get borehole samples, returning fields not available in the standard output dataframe"
   ]
  },
  {
   "cell_type": "markdown",
   "metadata": {},
   "source": [
    "To keep the output dataframe size acceptable, not all availabe WFS fields are included in the standard output. However, one can use this information to select borehole samples as illustrated below.\n",
    "\n",
    "For example, make a selection of the borehole samples in the municipality of Antwerp, for which a mechanical test was carried out"
   ]
  },
  {
   "cell_type": "code",
   "execution_count": 20,
   "metadata": {},
   "outputs": [
    {
     "data": {
      "text/html": [
       "<div>\n",
       "<style scoped>\n",
       "    .dataframe tbody tr th:only-of-type {\n",
       "        vertical-align: middle;\n",
       "    }\n",
       "\n",
       "    .dataframe tbody tr th {\n",
       "        vertical-align: top;\n",
       "    }\n",
       "\n",
       "    .dataframe thead th {\n",
       "        text-align: right;\n",
       "    }\n",
       "</style>\n",
       "<table border=\"1\" class=\"dataframe\">\n",
       "  <thead>\n",
       "    <tr style=\"text-align: right;\">\n",
       "      <th></th>\n",
       "      <th>pkey_grondmonster</th>\n",
       "      <th>boornummer</th>\n",
       "      <th>x</th>\n",
       "      <th>y</th>\n",
       "    </tr>\n",
       "  </thead>\n",
       "  <tbody>\n",
       "    <tr>\n",
       "      <th>0</th>\n",
       "      <td>https://www.dov.vlaanderen.be/data/grondmonste...</td>\n",
       "      <td>1445-GEO-17/047-B211</td>\n",
       "      <td>152332.42</td>\n",
       "      <td>214430.82</td>\n",
       "    </tr>\n",
       "    <tr>\n",
       "      <th>1</th>\n",
       "      <td>https://www.dov.vlaanderen.be/data/grondmonste...</td>\n",
       "      <td>1445-GEO-17/047-B211</td>\n",
       "      <td>152332.42</td>\n",
       "      <td>214430.82</td>\n",
       "    </tr>\n",
       "    <tr>\n",
       "      <th>2</th>\n",
       "      <td>https://www.dov.vlaanderen.be/data/grondmonste...</td>\n",
       "      <td>1445-GEO-17/047-B211</td>\n",
       "      <td>152332.42</td>\n",
       "      <td>214430.82</td>\n",
       "    </tr>\n",
       "    <tr>\n",
       "      <th>3</th>\n",
       "      <td>https://www.dov.vlaanderen.be/data/grondmonste...</td>\n",
       "      <td>1445-GEO-17/047-B211</td>\n",
       "      <td>152332.42</td>\n",
       "      <td>214430.82</td>\n",
       "    </tr>\n",
       "    <tr>\n",
       "      <th>4</th>\n",
       "      <td>https://www.dov.vlaanderen.be/data/grondmonste...</td>\n",
       "      <td>GEO-95/103-b14</td>\n",
       "      <td>143630.00</td>\n",
       "      <td>226985.00</td>\n",
       "    </tr>\n",
       "  </tbody>\n",
       "</table>\n",
       "</div>"
      ],
      "text/plain": [
       "                                   pkey_grondmonster            boornummer  \\\n",
       "0  https://www.dov.vlaanderen.be/data/grondmonste...  1445-GEO-17/047-B211   \n",
       "1  https://www.dov.vlaanderen.be/data/grondmonste...  1445-GEO-17/047-B211   \n",
       "2  https://www.dov.vlaanderen.be/data/grondmonste...  1445-GEO-17/047-B211   \n",
       "3  https://www.dov.vlaanderen.be/data/grondmonste...  1445-GEO-17/047-B211   \n",
       "4  https://www.dov.vlaanderen.be/data/grondmonste...        GEO-95/103-b14   \n",
       "\n",
       "           x          y  \n",
       "0  152332.42  214430.82  \n",
       "1  152332.42  214430.82  \n",
       "2  152332.42  214430.82  \n",
       "3  152332.42  214430.82  \n",
       "4  143630.00  226985.00  "
      ]
     },
     "execution_count": 20,
     "metadata": {},
     "output_type": "execute_result"
    }
   ],
   "source": [
    "from owslib.fes import And\n",
    "\n",
    "query = And([PropertyIsEqualTo(propertyname='gemeente',\n",
    "                               literal='Antwerpen'),\n",
    "             PropertyIsEqualTo(propertyname='mechanisch', \n",
    "                               literal='True')]\n",
    "            )\n",
    "df = grondmonster.search(query=query,\n",
    "                   return_fields=('pkey_grondmonster', 'boornummer', 'x', 'y'))\n",
    "df.head()"
   ]
  },
  {
   "cell_type": "markdown",
   "metadata": {},
   "source": [
    "The data from the mechanical tests are not always available through the webservice. Following the URI of the borehole sample, one can access the available information in the subtype 'mechanisch'."
   ]
  },
  {
   "cell_type": "code",
   "execution_count": 23,
   "metadata": {},
   "outputs": [
    {
     "name": "stdout",
     "output_type": "stream",
     "text": [
      "https://www.dov.vlaanderen.be/data/grondmonster/2018-211727\n",
      "https://www.dov.vlaanderen.be/data/grondmonster/2018-211656\n",
      "https://www.dov.vlaanderen.be/data/grondmonster/2018-211729\n",
      "https://www.dov.vlaanderen.be/data/grondmonster/2018-211728\n"
     ]
    }
   ],
   "source": [
    "for pkey_grondmonster in set(df.loc[df.boornummer=='1445-GEO-17/047-B211'].pkey_grondmonster):\n",
    "    print(pkey_grondmonster)"
   ]
  },
  {
   "cell_type": "markdown",
   "metadata": {},
   "source": [
    "## Visualize results"
   ]
  },
  {
   "cell_type": "markdown",
   "metadata": {},
   "source": [
    "Using Folium, we can display the results of our search on a map."
   ]
  },
  {
   "cell_type": "code",
   "execution_count": null,
   "metadata": {},
   "outputs": [],
   "source": [
    "# import the necessary modules (not included in the requirements of pydov!)\n",
    "import folium\n",
    "from folium.plugins import MarkerCluster\n",
    "from pyproj import Proj, transform"
   ]
  },
  {
   "cell_type": "code",
   "execution_count": null,
   "metadata": {},
   "outputs": [],
   "source": [
    "# convert the coordinates to lat/lon for folium\n",
    "def convert_latlon(x1, y1):\n",
    "    inProj = Proj(init='epsg:31370')\n",
    "    outProj = Proj(init='epsg:4326')\n",
    "    x2,y2 = transform(inProj, outProj, x1, y1)\n",
    "    return x2, y2\n",
    "df['lon'], df['lat'] = zip(*map(convert_latlon, df['x'], df['y'])) \n",
    "# convert to list\n",
    "loclist = df[['lat', 'lon']].values.tolist()"
   ]
  },
  {
   "cell_type": "code",
   "execution_count": null,
   "metadata": {},
   "outputs": [],
   "source": [
    "# initialize the Folium map on the centre of the selected locations, play with the zoom until ok\n",
    "fmap = folium.Map(location=[df['lat'].mean(), df['lon'].mean()], zoom_start=12)\n",
    "marker_cluster = MarkerCluster().add_to(fmap)\n",
    "for loc in range(0, len(loclist)):\n",
    "    folium.Marker(loclist[loc], popup=df['boornummer'][loc]).add_to(marker_cluster)\n",
    "fmap\n"
   ]
  },
  {
   "cell_type": "code",
   "execution_count": null,
   "metadata": {},
   "outputs": [],
   "source": []
  }
 ],
 "metadata": {
  "kernelspec": {
   "display_name": "Python 2",
   "language": "python",
   "name": "python2"
  },
  "language_info": {
   "codemirror_mode": {
    "name": "ipython",
    "version": 2
   },
   "file_extension": ".py",
   "mimetype": "text/x-python",
   "name": "python",
   "nbconvert_exporter": "python",
   "pygments_lexer": "ipython2",
   "version": "2.7.14"
  }
 },
 "nbformat": 4,
 "nbformat_minor": 2
}
