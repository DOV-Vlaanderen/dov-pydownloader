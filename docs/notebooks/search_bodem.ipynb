{
 "cells": [
  {
   "cell_type": "markdown",
   "metadata": {},
   "source": [
    "# Example of DOV search methods for bodem objects"
   ]
  },
  {
   "cell_type": "markdown",
   "metadata": {},
   "source": [
    "[![Binder](https://mybinder.org/badge_logo.svg)](https://mybinder.org/v2/gh/DOV-Vlaanderen/pydov/master?filepath=docs%2Fnotebooks%2Fsearch_boringen.ipynb)"
   ]
  },
  {
   "cell_type": "markdown",
   "metadata": {},
   "source": [
    "## Use cases explained below\n",
    "* Introduction to the bodem-objects\n",
    "* Get bodemsites in a bounding box\n",
    "* Get bodemlocaties with specific properties\n",
    "* Get all direct and indirect bodemobservaties linked to a bodemlocatie\n",
    "* Get all bodemobservaties in a bodemmonster\n",
    "* Find all bodemlocaties where observations exist for organic carbon percentage in East-Flanders between 0 and 30 cm deep\n",
    "* Calculate carbon stock in Ghent in the layer 0 - 23 cm"
   ]
  },
  {
   "cell_type": "code",
   "execution_count": 1,
   "metadata": {},
   "outputs": [],
   "source": [
    "%matplotlib inline\n",
    "\n",
    "import inspect, sys\n",
    "import warnings; warnings.simplefilter('ignore')"
   ]
  },
  {
   "cell_type": "code",
   "execution_count": 2,
   "metadata": {},
   "outputs": [],
   "source": [
    "# check pydov path\n",
    "import pydov"
   ]
  },
  {
   "cell_type": "markdown",
   "metadata": {},
   "source": [
    "## Get information about the datatype 'Bodemlocatie'"
   ]
  },
  {
   "cell_type": "markdown",
   "metadata": {},
   "source": [
    "Other datatypes are also possible:\n",
    "* Bodemsite: BodemsiteSearch\n",
    "* Bodemmonster: BodemmonsterSearch\n",
    "* Bodemobservatie: BodemobservatieSearch"
   ]
  },
  {
   "cell_type": "code",
   "execution_count": 3,
   "metadata": {},
   "outputs": [],
   "source": [
    "from pydov.search.bodemlocatie import BodemlocatieSearch\n",
    "bodemlocatie = BodemlocatieSearch()"
   ]
  },
  {
   "cell_type": "markdown",
   "metadata": {},
   "source": [
    "A description is provided for the 'Bodemlocatie' datatype:"
   ]
  },
  {
   "cell_type": "code",
   "execution_count": 4,
   "metadata": {},
   "outputs": [
    {
     "data": {
      "text/plain": [
       "\"Een bodemlocatie is ofwel een profielput of een boring. Een boring is altijd één puntlocatie (x,y,z) en een profielput heeft minimum één en maximum twee puntlocaties (begin- en eindpunt van de profielput). \\r\\nEen profielput is een uitgegraven put in de bodem waarin profielbeschrijvingen, monsternames of bodemobservaties worden uitgevoerd. Een profielbeschrijving is een waarneming van bodemhorizonten en/of bodemlagen in een uitgegraven profielput. Een bodemhorizont is een visueel te onderscheiden deel van de bodem dat ontstaan is door omzetting van het moedermateriaal door pedogenetische processen of door het afzetten van organisch materiaal. Een bodemhorizont heeft voor de meeste bodemvariabelen homogene morfologische en analytische karakteristieken. Een bodemlaag daarentegen is ontstaan door niet-pedogenetische processen. Aan de hand van een profielput krijg je een beeld van de bodemkundige opbouw.\\r\\nEen boring is het resultaat van het boren in de ondergrond met verwijdering van bodem door middel van een gereedschap in de vorm van een holle buis. Aan de hand van dit opgeboorde bodemmateriaal worden bodembeschrijvingen, bodemobservaties en monsternames uitgevoerd.\\r\\nDe bodemlocaties uit de 'Aardewerk-Vlaanderen-2010' databank worden afzonderlijk ontsloten in de datasets 'Bodemprofielen kartering Belgische bodemkaart' en 'Oppervlaktemonsters kartering Belgische bodemkaart'.\""
      ]
     },
     "execution_count": 4,
     "metadata": {},
     "output_type": "execute_result"
    }
   ],
   "source": [
    "bodemlocatie.get_description()"
   ]
  },
  {
   "cell_type": "markdown",
   "metadata": {},
   "source": [
    "The different fields that are available for objects of the 'Bodemlocatie' datatype can be requested with the get_fields() method:"
   ]
  },
  {
   "cell_type": "code",
   "execution_count": 5,
   "metadata": {},
   "outputs": [
    {
     "name": "stdout",
     "output_type": "stream",
     "text": [
      "naam\n",
      "pkey_bodemlocatie\n",
      "type\n",
      "rapport_bodemlocatie\n",
      "profielbeschrijving\n",
      "waarnemingsdatum\n",
      "doel\n",
      "x\n",
      "y\n",
      "mv_mtaw\n",
      "Auteurs\n",
      "Aantal_classificaties\n",
      "Aantal_opbouwen\n",
      "erfgoed\n",
      "Aantal_observaties\n",
      "Aantal_monsters\n",
      "bodemstreek\n",
      "Bodemsite\n",
      "Opdrachten\n",
      "invoerdatum\n",
      "educatieve_waarde\n"
     ]
    }
   ],
   "source": [
    "fields = bodemlocatie.get_fields()\n",
    "\n",
    "# print available fields\n",
    "for f in fields.values():\n",
    "    print(f['name'])"
   ]
  },
  {
   "cell_type": "markdown",
   "metadata": {},
   "source": [
    "You can get more information of a field by requesting it from the fields dictionary:\n",
    "* *name*: name of the field\n",
    "* *definition*: definition of this field\n",
    "* *cost*: currently this is either 1 or 10, depending on the datasource of the field. It is an indication of the expected time it will take to retrieve this field in the output dataframe.\n",
    "* *notnull*: whether the field is mandatory or not\n",
    "* *type*: datatype of the values of this field"
   ]
  },
  {
   "cell_type": "code",
   "execution_count": 6,
   "metadata": {},
   "outputs": [
    {
     "data": {
      "text/plain": [
       "{'name': 'type',\n",
       " 'definition': 'Het type van de bodemlocatie: boring of profielput.',\n",
       " 'type': 'string',\n",
       " 'notnull': False,\n",
       " 'query': True,\n",
       " 'cost': 1,\n",
       " 'values': {'boring': 'Een boring is het resultaat van het boren in de ondergrond met verwijdering van bodem door middel van een gereedschap in de vorm van een holle buis. Aan de hand van dit opgeboorde bodemmateriaal worden bodembeschrijvingen, bodemobservaties en monsternames uitgevoerd.',\n",
       "  'profielput': 'Een profielput is een uitgegraven put in de bodem waarin profielbeschrijvingen, monsternames of bodemobservaties worden uitgevoerd. Een profielbeschrijving is een waarneming van bodemhorizonten en/of bodemlagen in een uitgegraven profielput. Een bodemhorizont is een visueel te onderscheiden deel van de bodem dat ontstaan is door omzetting van het moedermateriaal door pedogenetische processen of door het afzetten van organisch materiaal. Een bodemhorizont heeft voor de meeste bodemvariabelen homogene morfologische en analytische karakteristieken. Een bodemlaag daarentegen is ontstaan door niet-pedogenetische processen. Aan de hand van een profielput krijg je een beeld van de bodemkundige opbouw.'}}"
      ]
     },
     "execution_count": 6,
     "metadata": {},
     "output_type": "execute_result"
    }
   ],
   "source": [
    "fields['type']"
   ]
  },
  {
   "cell_type": "markdown",
   "metadata": {},
   "source": [
    "Optionally, if the values of the field have a specific domain the possible values are listed as *values*:"
   ]
  },
  {
   "cell_type": "code",
   "execution_count": 7,
   "metadata": {},
   "outputs": [
    {
     "data": {
      "text/plain": [
       "{'boring': 'Een boring is het resultaat van het boren in de ondergrond met verwijdering van bodem door middel van een gereedschap in de vorm van een holle buis. Aan de hand van dit opgeboorde bodemmateriaal worden bodembeschrijvingen, bodemobservaties en monsternames uitgevoerd.',\n",
       " 'profielput': 'Een profielput is een uitgegraven put in de bodem waarin profielbeschrijvingen, monsternames of bodemobservaties worden uitgevoerd. Een profielbeschrijving is een waarneming van bodemhorizonten en/of bodemlagen in een uitgegraven profielput. Een bodemhorizont is een visueel te onderscheiden deel van de bodem dat ontstaan is door omzetting van het moedermateriaal door pedogenetische processen of door het afzetten van organisch materiaal. Een bodemhorizont heeft voor de meeste bodemvariabelen homogene morfologische en analytische karakteristieken. Een bodemlaag daarentegen is ontstaan door niet-pedogenetische processen. Aan de hand van een profielput krijg je een beeld van de bodemkundige opbouw.'}"
      ]
     },
     "execution_count": 7,
     "metadata": {},
     "output_type": "execute_result"
    }
   ],
   "source": [
    "fields['type']['values']"
   ]
  },
  {
   "cell_type": "markdown",
   "metadata": {},
   "source": [
    "## Example use cases"
   ]
  },
  {
   "cell_type": "markdown",
   "metadata": {},
   "source": [
    "### Get bodemsites in a bounding box"
   ]
  },
  {
   "cell_type": "markdown",
   "metadata": {},
   "source": [
    "Get data for all the bodemsites that are geographically located completely within the bounds of the specified box.\n",
    "\n",
    "The coordinates are in the Belgian Lambert72 (EPSG:31370) coordinate system and are given in the order of lower left x, lower left y, upper right x, upper right y."
   ]
  },
  {
   "cell_type": "markdown",
   "metadata": {},
   "source": [
    "The same methods can be used for other bodem objects."
   ]
  },
  {
   "cell_type": "code",
   "execution_count": 8,
   "metadata": {},
   "outputs": [],
   "source": [
    "from pydov.search.bodemsite import BodemsiteSearch\n",
    "bodemsite = BodemsiteSearch()"
   ]
  },
  {
   "cell_type": "code",
   "execution_count": 9,
   "metadata": {},
   "outputs": [
    {
     "name": "stdout",
     "output_type": "stream",
     "text": [
      "[000/007] ccccccc\n"
     ]
    },
    {
     "data": {
      "text/html": [
       "<div>\n",
       "<style scoped>\n",
       "    .dataframe tbody tr th:only-of-type {\n",
       "        vertical-align: middle;\n",
       "    }\n",
       "\n",
       "    .dataframe tbody tr th {\n",
       "        vertical-align: top;\n",
       "    }\n",
       "\n",
       "    .dataframe thead th {\n",
       "        text-align: right;\n",
       "    }\n",
       "</style>\n",
       "<table border=\"1\" class=\"dataframe\">\n",
       "  <thead>\n",
       "    <tr style=\"text-align: right;\">\n",
       "      <th></th>\n",
       "      <th>pkey_bodemsite</th>\n",
       "      <th>naam</th>\n",
       "      <th>waarnemingsdatum</th>\n",
       "      <th>beschrijving</th>\n",
       "      <th>invoerdatum</th>\n",
       "    </tr>\n",
       "  </thead>\n",
       "  <tbody>\n",
       "    <tr>\n",
       "      <th>0</th>\n",
       "      <td>https://www.dov.vlaanderen.be/data/bodemsite/2...</td>\n",
       "      <td>Zoniënwoud_Groenendaal</td>\n",
       "      <td>NaN</td>\n",
       "      <td>Zachte helling op plateau, Bodem nooit onder l...</td>\n",
       "      <td>NaN</td>\n",
       "    </tr>\n",
       "    <tr>\n",
       "      <th>1</th>\n",
       "      <td>https://www.dov.vlaanderen.be/data/bodemsite/2...</td>\n",
       "      <td>Zoniënwoud_Rood Klooster</td>\n",
       "      <td>NaN</td>\n",
       "      <td>Zeer zachte helling op plateau</td>\n",
       "      <td>NaN</td>\n",
       "    </tr>\n",
       "    <tr>\n",
       "      <th>2</th>\n",
       "      <td>https://www.dov.vlaanderen.be/data/bodemsite/1...</td>\n",
       "      <td>Zoniënwoud_Tertiair</td>\n",
       "      <td>1983-01-01</td>\n",
       "      <td>NNW gerichte helling van een 10% langs vallei ...</td>\n",
       "      <td>NaN</td>\n",
       "    </tr>\n",
       "    <tr>\n",
       "      <th>3</th>\n",
       "      <td>https://www.dov.vlaanderen.be/data/bodemsite/2...</td>\n",
       "      <td>Zoniënwoud_Sint_Hubertusdreef</td>\n",
       "      <td>NaN</td>\n",
       "      <td>Hoofd van een concave droge vallei (del), depr...</td>\n",
       "      <td>NaN</td>\n",
       "    </tr>\n",
       "    <tr>\n",
       "      <th>4</th>\n",
       "      <td>https://www.dov.vlaanderen.be/data/bodemsite/2...</td>\n",
       "      <td>Watermaal-Bosvoorde_Zoniënwoud</td>\n",
       "      <td>2011-06-14</td>\n",
       "      <td>bos</td>\n",
       "      <td>NaN</td>\n",
       "    </tr>\n",
       "  </tbody>\n",
       "</table>\n",
       "</div>"
      ],
      "text/plain": [
       "                                      pkey_bodemsite  \\\n",
       "0  https://www.dov.vlaanderen.be/data/bodemsite/2...   \n",
       "1  https://www.dov.vlaanderen.be/data/bodemsite/2...   \n",
       "2  https://www.dov.vlaanderen.be/data/bodemsite/1...   \n",
       "3  https://www.dov.vlaanderen.be/data/bodemsite/2...   \n",
       "4  https://www.dov.vlaanderen.be/data/bodemsite/2...   \n",
       "\n",
       "                             naam waarnemingsdatum  \\\n",
       "0          Zoniënwoud_Groenendaal              NaN   \n",
       "1        Zoniënwoud_Rood Klooster              NaN   \n",
       "2             Zoniënwoud_Tertiair       1983-01-01   \n",
       "3   Zoniënwoud_Sint_Hubertusdreef              NaN   \n",
       "4  Watermaal-Bosvoorde_Zoniënwoud       2011-06-14   \n",
       "\n",
       "                                        beschrijving  invoerdatum  \n",
       "0  Zachte helling op plateau, Bodem nooit onder l...          NaN  \n",
       "1                     Zeer zachte helling op plateau          NaN  \n",
       "2  NNW gerichte helling van een 10% langs vallei ...          NaN  \n",
       "3  Hoofd van een concave droge vallei (del), depr...          NaN  \n",
       "4                                                bos          NaN  "
      ]
     },
     "execution_count": 9,
     "metadata": {},
     "output_type": "execute_result"
    }
   ],
   "source": [
    "from pydov.util.location import Within, Box\n",
    "\n",
    "df = bodemsite.search(location=Within(Box(148000, 160800, 160000, 169500)))\n",
    "df.head()"
   ]
  },
  {
   "cell_type": "markdown",
   "metadata": {},
   "source": [
    "The dataframe contains a list of bodemsites. The available data are flattened to represent unique attributes per row of the dataframe.\n",
    "\n",
    "Using the *pkey_bodemsite* field one can request the details of this bodemsite in a webbrowser:"
   ]
  },
  {
   "cell_type": "code",
   "execution_count": 10,
   "metadata": {},
   "outputs": [
    {
     "name": "stdout",
     "output_type": "stream",
     "text": [
      "https://www.dov.vlaanderen.be/data/bodemsite/2017-000305\n",
      "https://www.dov.vlaanderen.be/data/bodemsite/2017-000306\n",
      "https://www.dov.vlaanderen.be/data/bodemsite/2017-000210\n",
      "https://www.dov.vlaanderen.be/data/bodemsite/2017-000229\n",
      "https://www.dov.vlaanderen.be/data/bodemsite/1983-000216\n",
      "https://www.dov.vlaanderen.be/data/bodemsite/2011-000247\n",
      "https://www.dov.vlaanderen.be/data/bodemsite/2017-000215\n"
     ]
    }
   ],
   "source": [
    "for pkey_bodemsite in set(df.pkey_bodemsite):\n",
    "    print(pkey_bodemsite)"
   ]
  },
  {
   "cell_type": "markdown",
   "metadata": {},
   "source": [
    "### Get bodemlocaties with specific properties"
   ]
  },
  {
   "cell_type": "markdown",
   "metadata": {},
   "source": [
    "Next to querying bodem objects based on their geographic location within a bounding box, we can also search for bodem objects matching a specific set of properties. \n",
    "The same methods can be used for all bodem objects.\n",
    "For this we can build a query using a combination of the 'Bodemlocatie' fields and operators provided by the WFS protocol.\n",
    "\n",
    "A list of possible operators can be found below:"
   ]
  },
  {
   "cell_type": "code",
   "execution_count": 11,
   "metadata": {},
   "outputs": [
    {
     "data": {
      "text/plain": [
       "['PropertyIsBetween',\n",
       " 'PropertyIsEqualTo',\n",
       " 'PropertyIsGreaterThan',\n",
       " 'PropertyIsGreaterThanOrEqualTo',\n",
       " 'PropertyIsLessThan',\n",
       " 'PropertyIsLessThanOrEqualTo',\n",
       " 'PropertyIsLike',\n",
       " 'PropertyIsNotEqualTo',\n",
       " 'PropertyIsNull',\n",
       " 'SortProperty']"
      ]
     },
     "execution_count": 11,
     "metadata": {},
     "output_type": "execute_result"
    }
   ],
   "source": [
    "[i for i,j in inspect.getmembers(sys.modules['owslib.fes'], inspect.isclass) if 'Property' in i]"
   ]
  },
  {
   "cell_type": "markdown",
   "metadata": {},
   "source": [
    "In this example we build a query using the *PropertyIsEqualTo* operator to find all bodemlocaties with bodemstreek 'zandstreek'.\n",
    "We use *max_features=10* to limit the results to 10."
   ]
  },
  {
   "cell_type": "code",
   "execution_count": 12,
   "metadata": {},
   "outputs": [
    {
     "name": "stdout",
     "output_type": "stream",
     "text": [
      "[000/010] cccccccccc\n"
     ]
    },
    {
     "data": {
      "text/html": [
       "<div>\n",
       "<style scoped>\n",
       "    .dataframe tbody tr th:only-of-type {\n",
       "        vertical-align: middle;\n",
       "    }\n",
       "\n",
       "    .dataframe tbody tr th {\n",
       "        vertical-align: top;\n",
       "    }\n",
       "\n",
       "    .dataframe thead th {\n",
       "        text-align: right;\n",
       "    }\n",
       "</style>\n",
       "<table border=\"1\" class=\"dataframe\">\n",
       "  <thead>\n",
       "    <tr style=\"text-align: right;\">\n",
       "      <th></th>\n",
       "      <th>pkey_bodemlocatie</th>\n",
       "      <th>naam</th>\n",
       "      <th>type</th>\n",
       "      <th>waarnemingsdatum</th>\n",
       "      <th>doel</th>\n",
       "      <th>x</th>\n",
       "      <th>y</th>\n",
       "      <th>mv_mtaw</th>\n",
       "      <th>erfgoed</th>\n",
       "      <th>bodemstreek</th>\n",
       "      <th>invoerdatum</th>\n",
       "      <th>educatieve_waarde</th>\n",
       "    </tr>\n",
       "  </thead>\n",
       "  <tbody>\n",
       "    <tr>\n",
       "      <th>0</th>\n",
       "      <td>https://www.dov.vlaanderen.be/data/bodemlocati...</td>\n",
       "      <td>KULEU_30</td>\n",
       "      <td>profielput</td>\n",
       "      <td>2012-05-14</td>\n",
       "      <td>bodemkundige opbouw</td>\n",
       "      <td>160992.14</td>\n",
       "      <td>196155.14</td>\n",
       "      <td>5.00</td>\n",
       "      <td>True</td>\n",
       "      <td>Zandstreek</td>\n",
       "      <td>2012-05-14</td>\n",
       "      <td>ZEER</td>\n",
       "    </tr>\n",
       "    <tr>\n",
       "      <th>1</th>\n",
       "      <td>https://www.dov.vlaanderen.be/data/bodemlocati...</td>\n",
       "      <td>INBO_2</td>\n",
       "      <td>profielput</td>\n",
       "      <td>2007-05-04</td>\n",
       "      <td>bodemkundige opbouw</td>\n",
       "      <td>56598.44</td>\n",
       "      <td>196314.35</td>\n",
       "      <td>20.00</td>\n",
       "      <td>True</td>\n",
       "      <td>Zandstreek</td>\n",
       "      <td>2007-05-04</td>\n",
       "      <td>OK</td>\n",
       "    </tr>\n",
       "    <tr>\n",
       "      <th>2</th>\n",
       "      <td>https://www.dov.vlaanderen.be/data/bodemlocati...</td>\n",
       "      <td>KULEU_15</td>\n",
       "      <td>profielput</td>\n",
       "      <td>2010-06-06</td>\n",
       "      <td>bodemkundige opbouw</td>\n",
       "      <td>175001.18</td>\n",
       "      <td>177459.73</td>\n",
       "      <td>65.58</td>\n",
       "      <td>True</td>\n",
       "      <td>Zandstreek</td>\n",
       "      <td>2010-06-06</td>\n",
       "      <td>ZEER</td>\n",
       "    </tr>\n",
       "    <tr>\n",
       "      <th>3</th>\n",
       "      <td>https://www.dov.vlaanderen.be/data/bodemlocati...</td>\n",
       "      <td>BAAC_12</td>\n",
       "      <td>profielput</td>\n",
       "      <td>2012-07-31</td>\n",
       "      <td>archeologische landschappelijke profielputten</td>\n",
       "      <td>155631.46</td>\n",
       "      <td>184083.61</td>\n",
       "      <td>11.00</td>\n",
       "      <td>True</td>\n",
       "      <td>Zandstreek</td>\n",
       "      <td>2012-07-31</td>\n",
       "      <td>ZEER</td>\n",
       "    </tr>\n",
       "    <tr>\n",
       "      <th>4</th>\n",
       "      <td>https://www.dov.vlaanderen.be/data/bodemlocati...</td>\n",
       "      <td>ILVO_1</td>\n",
       "      <td>profielput</td>\n",
       "      <td>2012-11-20</td>\n",
       "      <td>bodemkundige opbouw</td>\n",
       "      <td>108115.73</td>\n",
       "      <td>185850.71</td>\n",
       "      <td>32.00</td>\n",
       "      <td>True</td>\n",
       "      <td>Zandstreek</td>\n",
       "      <td>2012-11-20</td>\n",
       "      <td>ZEER</td>\n",
       "    </tr>\n",
       "  </tbody>\n",
       "</table>\n",
       "</div>"
      ],
      "text/plain": [
       "                                   pkey_bodemlocatie      naam        type  \\\n",
       "0  https://www.dov.vlaanderen.be/data/bodemlocati...  KULEU_30  profielput   \n",
       "1  https://www.dov.vlaanderen.be/data/bodemlocati...    INBO_2  profielput   \n",
       "2  https://www.dov.vlaanderen.be/data/bodemlocati...  KULEU_15  profielput   \n",
       "3  https://www.dov.vlaanderen.be/data/bodemlocati...   BAAC_12  profielput   \n",
       "4  https://www.dov.vlaanderen.be/data/bodemlocati...    ILVO_1  profielput   \n",
       "\n",
       "  waarnemingsdatum                                           doel          x  \\\n",
       "0       2012-05-14                            bodemkundige opbouw  160992.14   \n",
       "1       2007-05-04                            bodemkundige opbouw   56598.44   \n",
       "2       2010-06-06                            bodemkundige opbouw  175001.18   \n",
       "3       2012-07-31  archeologische landschappelijke profielputten  155631.46   \n",
       "4       2012-11-20                            bodemkundige opbouw  108115.73   \n",
       "\n",
       "           y  mv_mtaw  erfgoed bodemstreek invoerdatum educatieve_waarde  \n",
       "0  196155.14     5.00     True  Zandstreek  2012-05-14              ZEER  \n",
       "1  196314.35    20.00     True  Zandstreek  2007-05-04                OK  \n",
       "2  177459.73    65.58     True  Zandstreek  2010-06-06              ZEER  \n",
       "3  184083.61    11.00     True  Zandstreek  2012-07-31              ZEER  \n",
       "4  185850.71    32.00     True  Zandstreek  2012-11-20              ZEER  "
      ]
     },
     "execution_count": 12,
     "metadata": {},
     "output_type": "execute_result"
    }
   ],
   "source": [
    "from owslib.fes import PropertyIsEqualTo\n",
    "\n",
    "query = PropertyIsEqualTo(propertyname='bodemstreek',\n",
    "                          literal='Zandstreek')\n",
    "df = bodemlocatie.search(query=query, max_features=10)\n",
    "\n",
    "df.head()"
   ]
  },
  {
   "cell_type": "markdown",
   "metadata": {},
   "source": [
    "Once again we can use the *pkey_bodemlocatie* as a permanent link to the information of these bodemlocaties:"
   ]
  },
  {
   "cell_type": "code",
   "execution_count": 13,
   "metadata": {},
   "outputs": [
    {
     "name": "stdout",
     "output_type": "stream",
     "text": [
      "https://www.dov.vlaanderen.be/data/bodemlocatie/2012-000033\n",
      "https://www.dov.vlaanderen.be/data/bodemlocatie/2012-000028\n",
      "https://www.dov.vlaanderen.be/data/bodemlocatie/2012-000026\n",
      "https://www.dov.vlaanderen.be/data/bodemlocatie/2014-000039\n",
      "https://www.dov.vlaanderen.be/data/bodemlocatie/2012-000041\n",
      "https://www.dov.vlaanderen.be/data/bodemlocatie/2007-000102\n",
      "https://www.dov.vlaanderen.be/data/bodemlocatie/2012-000027\n",
      "https://www.dov.vlaanderen.be/data/bodemlocatie/2010-000014\n",
      "https://www.dov.vlaanderen.be/data/bodemlocatie/2014-000040\n",
      "https://www.dov.vlaanderen.be/data/bodemlocatie/2013-000048\n"
     ]
    }
   ],
   "source": [
    "for pkey_bodemlocatie in set(df.pkey_bodemlocatie):\n",
    "    print(pkey_bodemlocatie)"
   ]
  },
  {
   "cell_type": "markdown",
   "metadata": {},
   "source": [
    "### Get all direct and indirect bodemobservaties in bodemlocatie"
   ]
  },
  {
   "cell_type": "markdown",
   "metadata": {},
   "source": [
    "Get all bodemobservaties in a specific bodemlocatie.\n",
    "Direct means bodemobservaties directly linked with a bodemlocatie.\n",
    "Indirect means bodemobservaties linked with child-objects of the bodemlocatie, like bodemmonsters."
   ]
  },
  {
   "cell_type": "code",
   "execution_count": 14,
   "metadata": {},
   "outputs": [],
   "source": [
    "from pydov.search.bodemobservatie import BodemobservatieSearch\n",
    "from pydov.search.bodemlocatie import BodemlocatieSearch\n",
    "bodemobservatie = BodemobservatieSearch()\n",
    "bodemlocatie = BodemlocatieSearch()"
   ]
  },
  {
   "cell_type": "code",
   "execution_count": 15,
   "metadata": {},
   "outputs": [
    {
     "name": "stdout",
     "output_type": "stream",
     "text": [
      "[000/021] ccccccccccccccccccccc\n"
     ]
    },
    {
     "data": {
      "text/html": [
       "<div>\n",
       "<style scoped>\n",
       "    .dataframe tbody tr th:only-of-type {\n",
       "        vertical-align: middle;\n",
       "    }\n",
       "\n",
       "    .dataframe tbody tr th {\n",
       "        vertical-align: top;\n",
       "    }\n",
       "\n",
       "    .dataframe thead th {\n",
       "        text-align: right;\n",
       "    }\n",
       "</style>\n",
       "<table border=\"1\" class=\"dataframe\">\n",
       "  <thead>\n",
       "    <tr style=\"text-align: right;\">\n",
       "      <th></th>\n",
       "      <th>pkey_bodemobservatie</th>\n",
       "      <th>pkey_bodemlocatie</th>\n",
       "      <th>pkey_parent</th>\n",
       "      <th>parameter</th>\n",
       "      <th>parametergroep</th>\n",
       "      <th>waarde</th>\n",
       "      <th>eenheid</th>\n",
       "      <th>ondergrens</th>\n",
       "      <th>bovengrens</th>\n",
       "      <th>detectie</th>\n",
       "      <th>methode</th>\n",
       "      <th>betrouwbaarheid</th>\n",
       "      <th>veld_labo</th>\n",
       "      <th>diepte_van</th>\n",
       "      <th>diepte_tot</th>\n",
       "      <th>observatiedatum</th>\n",
       "      <th>invoerdatum</th>\n",
       "    </tr>\n",
       "  </thead>\n",
       "  <tbody>\n",
       "    <tr>\n",
       "      <th>0</th>\n",
       "      <td>https://www.dov.vlaanderen.be/data/bodemobserv...</td>\n",
       "      <td>https://www.dov.vlaanderen.be/data/bodemlocati...</td>\n",
       "      <td>https://www.dov.vlaanderen.be/data/bodemdiepte...</td>\n",
       "      <td>Ksat</td>\n",
       "      <td>Bodem_fysisch_vocht</td>\n",
       "      <td>0.0000029437</td>\n",
       "      <td>m/s</td>\n",
       "      <td>NaN</td>\n",
       "      <td>NaN</td>\n",
       "      <td>NaN</td>\n",
       "      <td>Ksat Enkele-ring-methode</td>\n",
       "      <td>goed</td>\n",
       "      <td>veld</td>\n",
       "      <td>40.0</td>\n",
       "      <td>85.0</td>\n",
       "      <td>2015-09-08</td>\n",
       "      <td>2019-02-07</td>\n",
       "    </tr>\n",
       "    <tr>\n",
       "      <th>1</th>\n",
       "      <td>https://www.dov.vlaanderen.be/data/bodemobserv...</td>\n",
       "      <td>https://www.dov.vlaanderen.be/data/bodemlocati...</td>\n",
       "      <td>https://www.dov.vlaanderen.be/data/bodemdiepte...</td>\n",
       "      <td>Ksat</td>\n",
       "      <td>Bodem_fysisch_vocht</td>\n",
       "      <td>0.0000154321</td>\n",
       "      <td>m/s</td>\n",
       "      <td>NaN</td>\n",
       "      <td>NaN</td>\n",
       "      <td>NaN</td>\n",
       "      <td>Ksat_Soakaway_methode</td>\n",
       "      <td>goed</td>\n",
       "      <td>veld</td>\n",
       "      <td>40.0</td>\n",
       "      <td>85.0</td>\n",
       "      <td>2015-09-08</td>\n",
       "      <td>2019-02-07</td>\n",
       "    </tr>\n",
       "    <tr>\n",
       "      <th>2</th>\n",
       "      <td>https://www.dov.vlaanderen.be/data/bodemobserv...</td>\n",
       "      <td>https://www.dov.vlaanderen.be/data/bodemlocati...</td>\n",
       "      <td>https://www.dov.vlaanderen.be/data/bodemdiepte...</td>\n",
       "      <td>Ksat</td>\n",
       "      <td>Bodem_fysisch_vocht</td>\n",
       "      <td>0.0000100245</td>\n",
       "      <td>m/s</td>\n",
       "      <td>NaN</td>\n",
       "      <td>NaN</td>\n",
       "      <td>NaN</td>\n",
       "      <td>Ksat Porchet-methode</td>\n",
       "      <td>goed</td>\n",
       "      <td>veld</td>\n",
       "      <td>40.0</td>\n",
       "      <td>85.0</td>\n",
       "      <td>2015-09-08</td>\n",
       "      <td>2019-02-07</td>\n",
       "    </tr>\n",
       "    <tr>\n",
       "      <th>3</th>\n",
       "      <td>https://www.dov.vlaanderen.be/data/bodemobserv...</td>\n",
       "      <td>https://www.dov.vlaanderen.be/data/bodemlocati...</td>\n",
       "      <td>https://www.dov.vlaanderen.be/data/bodemdiepte...</td>\n",
       "      <td>Ksat</td>\n",
       "      <td>Bodem_fysisch_vocht</td>\n",
       "      <td>0.0000036111</td>\n",
       "      <td>m/s</td>\n",
       "      <td>NaN</td>\n",
       "      <td>NaN</td>\n",
       "      <td>NaN</td>\n",
       "      <td>Ksat Enkele-ring-methode</td>\n",
       "      <td>goed</td>\n",
       "      <td>veld</td>\n",
       "      <td>40.0</td>\n",
       "      <td>85.0</td>\n",
       "      <td>2015-09-08</td>\n",
       "      <td>2019-02-07</td>\n",
       "    </tr>\n",
       "    <tr>\n",
       "      <th>4</th>\n",
       "      <td>https://www.dov.vlaanderen.be/data/bodemobserv...</td>\n",
       "      <td>https://www.dov.vlaanderen.be/data/bodemlocati...</td>\n",
       "      <td>https://www.dov.vlaanderen.be/data/bodemdiepte...</td>\n",
       "      <td>Ksat</td>\n",
       "      <td>Bodem_fysisch_vocht</td>\n",
       "      <td>0.0000146735</td>\n",
       "      <td>m/s</td>\n",
       "      <td>NaN</td>\n",
       "      <td>NaN</td>\n",
       "      <td>NaN</td>\n",
       "      <td>Ksat_Soakaway_methode</td>\n",
       "      <td>goed</td>\n",
       "      <td>veld</td>\n",
       "      <td>40.0</td>\n",
       "      <td>85.0</td>\n",
       "      <td>2015-09-08</td>\n",
       "      <td>2019-02-07</td>\n",
       "    </tr>\n",
       "  </tbody>\n",
       "</table>\n",
       "</div>"
      ],
      "text/plain": [
       "                                pkey_bodemobservatie  \\\n",
       "0  https://www.dov.vlaanderen.be/data/bodemobserv...   \n",
       "1  https://www.dov.vlaanderen.be/data/bodemobserv...   \n",
       "2  https://www.dov.vlaanderen.be/data/bodemobserv...   \n",
       "3  https://www.dov.vlaanderen.be/data/bodemobserv...   \n",
       "4  https://www.dov.vlaanderen.be/data/bodemobserv...   \n",
       "\n",
       "                                   pkey_bodemlocatie  \\\n",
       "0  https://www.dov.vlaanderen.be/data/bodemlocati...   \n",
       "1  https://www.dov.vlaanderen.be/data/bodemlocati...   \n",
       "2  https://www.dov.vlaanderen.be/data/bodemlocati...   \n",
       "3  https://www.dov.vlaanderen.be/data/bodemlocati...   \n",
       "4  https://www.dov.vlaanderen.be/data/bodemlocati...   \n",
       "\n",
       "                                         pkey_parent parameter  \\\n",
       "0  https://www.dov.vlaanderen.be/data/bodemdiepte...      Ksat   \n",
       "1  https://www.dov.vlaanderen.be/data/bodemdiepte...      Ksat   \n",
       "2  https://www.dov.vlaanderen.be/data/bodemdiepte...      Ksat   \n",
       "3  https://www.dov.vlaanderen.be/data/bodemdiepte...      Ksat   \n",
       "4  https://www.dov.vlaanderen.be/data/bodemdiepte...      Ksat   \n",
       "\n",
       "        parametergroep        waarde eenheid  ondergrens  bovengrens  \\\n",
       "0  Bodem_fysisch_vocht  0.0000029437     m/s         NaN         NaN   \n",
       "1  Bodem_fysisch_vocht  0.0000154321     m/s         NaN         NaN   \n",
       "2  Bodem_fysisch_vocht  0.0000100245     m/s         NaN         NaN   \n",
       "3  Bodem_fysisch_vocht  0.0000036111     m/s         NaN         NaN   \n",
       "4  Bodem_fysisch_vocht  0.0000146735     m/s         NaN         NaN   \n",
       "\n",
       "   detectie                   methode betrouwbaarheid veld_labo  diepte_van  \\\n",
       "0       NaN  Ksat Enkele-ring-methode            goed      veld        40.0   \n",
       "1       NaN     Ksat_Soakaway_methode            goed      veld        40.0   \n",
       "2       NaN      Ksat Porchet-methode            goed      veld        40.0   \n",
       "3       NaN  Ksat Enkele-ring-methode            goed      veld        40.0   \n",
       "4       NaN     Ksat_Soakaway_methode            goed      veld        40.0   \n",
       "\n",
       "   diepte_tot observatiedatum invoerdatum  \n",
       "0        85.0      2015-09-08  2019-02-07  \n",
       "1        85.0      2015-09-08  2019-02-07  \n",
       "2        85.0      2015-09-08  2019-02-07  \n",
       "3        85.0      2015-09-08  2019-02-07  \n",
       "4        85.0      2015-09-08  2019-02-07  "
      ]
     },
     "execution_count": 15,
     "metadata": {},
     "output_type": "execute_result"
    }
   ],
   "source": [
    "from owslib.fes import PropertyIsEqualTo\n",
    "from pydov.util.query import Join\n",
    "\n",
    "bodemlocaties = bodemlocatie.search(query=PropertyIsEqualTo(propertyname='naam', literal='VMM_INF_52'), \n",
    "                                   return_fields=('pkey_bodemlocatie',))\n",
    "\n",
    "bodemobservaties = bodemobservatie.search(query=Join(bodemlocaties, 'pkey_bodemlocatie'))\n",
    "bodemobservaties.head()"
   ]
  },
  {
   "cell_type": "markdown",
   "metadata": {},
   "source": [
    "### Get all bodemobservaties in a bodemmonster"
   ]
  },
  {
   "cell_type": "markdown",
   "metadata": {},
   "source": [
    "Get all bodemobservaties linked with a bodemmonster"
   ]
  },
  {
   "cell_type": "code",
   "execution_count": 16,
   "metadata": {},
   "outputs": [
    {
     "name": "stdout",
     "output_type": "stream",
     "text": [
      "[000/003] ccc\n"
     ]
    },
    {
     "data": {
      "text/html": [
       "<div>\n",
       "<style scoped>\n",
       "    .dataframe tbody tr th:only-of-type {\n",
       "        vertical-align: middle;\n",
       "    }\n",
       "\n",
       "    .dataframe tbody tr th {\n",
       "        vertical-align: top;\n",
       "    }\n",
       "\n",
       "    .dataframe thead th {\n",
       "        text-align: right;\n",
       "    }\n",
       "</style>\n",
       "<table border=\"1\" class=\"dataframe\">\n",
       "  <thead>\n",
       "    <tr style=\"text-align: right;\">\n",
       "      <th></th>\n",
       "      <th>pkey_bodemobservatie</th>\n",
       "      <th>pkey_bodemlocatie</th>\n",
       "      <th>pkey_parent</th>\n",
       "      <th>parameter</th>\n",
       "      <th>parametergroep</th>\n",
       "      <th>waarde</th>\n",
       "      <th>eenheid</th>\n",
       "      <th>ondergrens</th>\n",
       "      <th>bovengrens</th>\n",
       "      <th>detectie</th>\n",
       "      <th>methode</th>\n",
       "      <th>betrouwbaarheid</th>\n",
       "      <th>veld_labo</th>\n",
       "      <th>diepte_van</th>\n",
       "      <th>diepte_tot</th>\n",
       "      <th>observatiedatum</th>\n",
       "      <th>invoerdatum</th>\n",
       "    </tr>\n",
       "  </thead>\n",
       "  <tbody>\n",
       "    <tr>\n",
       "      <th>0</th>\n",
       "      <td>https://www.dov.vlaanderen.be/data/bodemobserv...</td>\n",
       "      <td>https://www.dov.vlaanderen.be/data/bodemlocati...</td>\n",
       "      <td>https://www.dov.vlaanderen.be/data/bodemmonste...</td>\n",
       "      <td>Textuur - granulometrisch - klassen bodemkarte...</td>\n",
       "      <td>Bodem_fysisch_textuur</td>\n",
       "      <td>E - Klei</td>\n",
       "      <td>-</td>\n",
       "      <td>NaN</td>\n",
       "      <td>NaN</td>\n",
       "      <td>NaN</td>\n",
       "      <td>Textuur pipetmethode Robinson-Köhn</td>\n",
       "      <td>goed</td>\n",
       "      <td>labo</td>\n",
       "      <td>40.0</td>\n",
       "      <td>85.0</td>\n",
       "      <td>2015-08-27</td>\n",
       "      <td>2019-02-07</td>\n",
       "    </tr>\n",
       "    <tr>\n",
       "      <th>1</th>\n",
       "      <td>https://www.dov.vlaanderen.be/data/bodemobserv...</td>\n",
       "      <td>https://www.dov.vlaanderen.be/data/bodemlocati...</td>\n",
       "      <td>https://www.dov.vlaanderen.be/data/bodemmonste...</td>\n",
       "      <td>Textuur - handmatig - klassen bodemkartering</td>\n",
       "      <td>Bodem_fysisch_textuur</td>\n",
       "      <td>A - Leem</td>\n",
       "      <td>-</td>\n",
       "      <td>NaN</td>\n",
       "      <td>NaN</td>\n",
       "      <td>NaN</td>\n",
       "      <td>Textuur manuele schatting (palpatie)</td>\n",
       "      <td>goed</td>\n",
       "      <td>labo</td>\n",
       "      <td>40.0</td>\n",
       "      <td>85.0</td>\n",
       "      <td>2015-08-27</td>\n",
       "      <td>2019-02-07</td>\n",
       "    </tr>\n",
       "    <tr>\n",
       "      <th>2</th>\n",
       "      <td>https://www.dov.vlaanderen.be/data/bodemobserv...</td>\n",
       "      <td>https://www.dov.vlaanderen.be/data/bodemlocati...</td>\n",
       "      <td>https://www.dov.vlaanderen.be/data/bodemmonste...</td>\n",
       "      <td>Textuurfracties</td>\n",
       "      <td>Bodem_fysisch_textuur</td>\n",
       "      <td>Fractiemetingen</td>\n",
       "      <td>%</td>\n",
       "      <td>NaN</td>\n",
       "      <td>NaN</td>\n",
       "      <td>NaN</td>\n",
       "      <td>Textuur pipetmethode Robinson-Köhn</td>\n",
       "      <td>goed</td>\n",
       "      <td>labo</td>\n",
       "      <td>40.0</td>\n",
       "      <td>85.0</td>\n",
       "      <td>2015-09-08</td>\n",
       "      <td>2019-02-19</td>\n",
       "    </tr>\n",
       "  </tbody>\n",
       "</table>\n",
       "</div>"
      ],
      "text/plain": [
       "                                pkey_bodemobservatie  \\\n",
       "0  https://www.dov.vlaanderen.be/data/bodemobserv...   \n",
       "1  https://www.dov.vlaanderen.be/data/bodemobserv...   \n",
       "2  https://www.dov.vlaanderen.be/data/bodemobserv...   \n",
       "\n",
       "                                   pkey_bodemlocatie  \\\n",
       "0  https://www.dov.vlaanderen.be/data/bodemlocati...   \n",
       "1  https://www.dov.vlaanderen.be/data/bodemlocati...   \n",
       "2  https://www.dov.vlaanderen.be/data/bodemlocati...   \n",
       "\n",
       "                                         pkey_parent  \\\n",
       "0  https://www.dov.vlaanderen.be/data/bodemmonste...   \n",
       "1  https://www.dov.vlaanderen.be/data/bodemmonste...   \n",
       "2  https://www.dov.vlaanderen.be/data/bodemmonste...   \n",
       "\n",
       "                                           parameter         parametergroep  \\\n",
       "0  Textuur - granulometrisch - klassen bodemkarte...  Bodem_fysisch_textuur   \n",
       "1       Textuur - handmatig - klassen bodemkartering  Bodem_fysisch_textuur   \n",
       "2                                    Textuurfracties  Bodem_fysisch_textuur   \n",
       "\n",
       "            waarde eenheid  ondergrens  bovengrens  detectie  \\\n",
       "0         E - Klei       -         NaN         NaN       NaN   \n",
       "1         A - Leem       -         NaN         NaN       NaN   \n",
       "2  Fractiemetingen       %         NaN         NaN       NaN   \n",
       "\n",
       "                                methode betrouwbaarheid veld_labo  diepte_van  \\\n",
       "0    Textuur pipetmethode Robinson-Köhn            goed      labo        40.0   \n",
       "1  Textuur manuele schatting (palpatie)            goed      labo        40.0   \n",
       "2    Textuur pipetmethode Robinson-Köhn            goed      labo        40.0   \n",
       "\n",
       "   diepte_tot observatiedatum invoerdatum  \n",
       "0        85.0      2015-08-27  2019-02-07  \n",
       "1        85.0      2015-08-27  2019-02-07  \n",
       "2        85.0      2015-09-08  2019-02-19  "
      ]
     },
     "execution_count": 16,
     "metadata": {},
     "output_type": "execute_result"
    }
   ],
   "source": [
    "from pydov.search.bodemmonster import BodemmonsterSearch\n",
    "bodemmonster = BodemmonsterSearch()\n",
    "\n",
    "bodemmonsters = bodemmonster.search(query=PropertyIsEqualTo(propertyname = 'identificatie', literal='A0057359'),\n",
    "                                   return_fields=('pkey_bodemmonster',))\n",
    "\n",
    "bodemobservaties = bodemobservatie.search(query=Join(bodemmonsters, on = 'pkey_parent', using='pkey_bodemmonster'))\n",
    "bodemobservaties.head()"
   ]
  },
  {
   "cell_type": "markdown",
   "metadata": {},
   "source": [
    "### Find all bodemlocaties where observations exist for organic carbon percentage in East-Flanders between 0 and 30 cm deep"
   ]
  },
  {
   "cell_type": "markdown",
   "metadata": {},
   "source": [
    "Get boundaries of East-Flanders by using a WFS"
   ]
  },
  {
   "cell_type": "code",
   "execution_count": 17,
   "metadata": {},
   "outputs": [],
   "source": [
    "from owslib.etree import etree\n",
    "from owslib.wfs import WebFeatureService\n",
    "from pydov.util.location import (\n",
    "    GmlFilter,\n",
    "    Within,\n",
    ")\n",
    "\n",
    "provinciegrenzen = WebFeatureService(\n",
    "    'https://geoservices.informatievlaanderen.be/overdrachtdiensten/VRBG/wfs',\n",
    "    version='1.1.0')\n",
    "\n",
    "provincie_filter = PropertyIsEqualTo(propertyname='NAAM', literal='Oost-Vlaanderen')\n",
    "provincie_poly = provinciegrenzen.getfeature(\n",
    "    typename='VRBG:Refprv',\n",
    "    filter=etree.tostring(provincie_filter.toXML()).decode(\"utf8\")).read()"
   ]
  },
  {
   "cell_type": "markdown",
   "metadata": {},
   "source": [
    "Get bodemobservaties in East-Flanders with the requested properties"
   ]
  },
  {
   "cell_type": "code",
   "execution_count": 18,
   "metadata": {},
   "outputs": [
    {
     "name": "stdout",
     "output_type": "stream",
     "text": [
      "[000/066] cccccccccccccccccccccccccccccccccccccccccccccccccc\n",
      "[050/066] cccccccccccccccc\n"
     ]
    },
    {
     "data": {
      "text/html": [
       "<div>\n",
       "<style scoped>\n",
       "    .dataframe tbody tr th:only-of-type {\n",
       "        vertical-align: middle;\n",
       "    }\n",
       "\n",
       "    .dataframe tbody tr th {\n",
       "        vertical-align: top;\n",
       "    }\n",
       "\n",
       "    .dataframe thead th {\n",
       "        text-align: right;\n",
       "    }\n",
       "</style>\n",
       "<table border=\"1\" class=\"dataframe\">\n",
       "  <thead>\n",
       "    <tr style=\"text-align: right;\">\n",
       "      <th></th>\n",
       "      <th>pkey_bodemobservatie</th>\n",
       "      <th>pkey_bodemlocatie</th>\n",
       "      <th>pkey_parent</th>\n",
       "      <th>parameter</th>\n",
       "      <th>parametergroep</th>\n",
       "      <th>waarde</th>\n",
       "      <th>eenheid</th>\n",
       "      <th>ondergrens</th>\n",
       "      <th>bovengrens</th>\n",
       "      <th>detectie</th>\n",
       "      <th>methode</th>\n",
       "      <th>betrouwbaarheid</th>\n",
       "      <th>veld_labo</th>\n",
       "      <th>diepte_van</th>\n",
       "      <th>diepte_tot</th>\n",
       "      <th>observatiedatum</th>\n",
       "      <th>invoerdatum</th>\n",
       "    </tr>\n",
       "  </thead>\n",
       "  <tbody>\n",
       "    <tr>\n",
       "      <th>0</th>\n",
       "      <td>https://www.dov.vlaanderen.be/data/bodemobserv...</td>\n",
       "      <td>https://www.dov.vlaanderen.be/data/bodemlocati...</td>\n",
       "      <td>https://www.dov.vlaanderen.be/data/bodemmonste...</td>\n",
       "      <td>Organische C - percentage</td>\n",
       "      <td>Bodem_chemisch</td>\n",
       "      <td>1.50812064965197</td>\n",
       "      <td>%</td>\n",
       "      <td>NaN</td>\n",
       "      <td>NaN</td>\n",
       "      <td>NaN</td>\n",
       "      <td>Aardewerk oude methode organische koolstof</td>\n",
       "      <td>onbekend</td>\n",
       "      <td>veld</td>\n",
       "      <td>0.0</td>\n",
       "      <td>30.0</td>\n",
       "      <td>1949-09-12</td>\n",
       "      <td>NaN</td>\n",
       "    </tr>\n",
       "    <tr>\n",
       "      <th>1</th>\n",
       "      <td>https://www.dov.vlaanderen.be/data/bodemobserv...</td>\n",
       "      <td>https://www.dov.vlaanderen.be/data/bodemlocati...</td>\n",
       "      <td>https://www.dov.vlaanderen.be/data/bodemmonste...</td>\n",
       "      <td>Organische C - percentage</td>\n",
       "      <td>Bodem_chemisch</td>\n",
       "      <td>1.12142304717711</td>\n",
       "      <td>%</td>\n",
       "      <td>NaN</td>\n",
       "      <td>NaN</td>\n",
       "      <td>NaN</td>\n",
       "      <td>Aardewerk oude methode organische koolstof</td>\n",
       "      <td>onbekend</td>\n",
       "      <td>veld</td>\n",
       "      <td>0.0</td>\n",
       "      <td>30.0</td>\n",
       "      <td>1952-04-22</td>\n",
       "      <td>NaN</td>\n",
       "    </tr>\n",
       "    <tr>\n",
       "      <th>2</th>\n",
       "      <td>https://www.dov.vlaanderen.be/data/bodemobserv...</td>\n",
       "      <td>https://www.dov.vlaanderen.be/data/bodemlocati...</td>\n",
       "      <td>https://www.dov.vlaanderen.be/data/bodemmonste...</td>\n",
       "      <td>Organische C - percentage</td>\n",
       "      <td>Bodem_chemisch</td>\n",
       "      <td>1.52358855375097</td>\n",
       "      <td>%</td>\n",
       "      <td>NaN</td>\n",
       "      <td>NaN</td>\n",
       "      <td>NaN</td>\n",
       "      <td>Aardewerk oude methode organische koolstof</td>\n",
       "      <td>onbekend</td>\n",
       "      <td>veld</td>\n",
       "      <td>0.0</td>\n",
       "      <td>30.0</td>\n",
       "      <td>1950-02-08</td>\n",
       "      <td>NaN</td>\n",
       "    </tr>\n",
       "    <tr>\n",
       "      <th>3</th>\n",
       "      <td>https://www.dov.vlaanderen.be/data/bodemobserv...</td>\n",
       "      <td>https://www.dov.vlaanderen.be/data/bodemlocati...</td>\n",
       "      <td>https://www.dov.vlaanderen.be/data/bodemmonste...</td>\n",
       "      <td>Organische C - percentage</td>\n",
       "      <td>Bodem_chemisch</td>\n",
       "      <td>1.430781129157</td>\n",
       "      <td>%</td>\n",
       "      <td>NaN</td>\n",
       "      <td>NaN</td>\n",
       "      <td>NaN</td>\n",
       "      <td>Aardewerk oude methode organische koolstof</td>\n",
       "      <td>onbekend</td>\n",
       "      <td>veld</td>\n",
       "      <td>0.0</td>\n",
       "      <td>30.0</td>\n",
       "      <td>1953-07-07</td>\n",
       "      <td>NaN</td>\n",
       "    </tr>\n",
       "    <tr>\n",
       "      <th>4</th>\n",
       "      <td>https://www.dov.vlaanderen.be/data/bodemobserv...</td>\n",
       "      <td>https://www.dov.vlaanderen.be/data/bodemlocati...</td>\n",
       "      <td>https://www.dov.vlaanderen.be/data/bodemmonste...</td>\n",
       "      <td>Organische C - percentage</td>\n",
       "      <td>Bodem_chemisch</td>\n",
       "      <td>0.935808197989172</td>\n",
       "      <td>%</td>\n",
       "      <td>NaN</td>\n",
       "      <td>NaN</td>\n",
       "      <td>NaN</td>\n",
       "      <td>Aardewerk oude methode organische koolstof</td>\n",
       "      <td>onbekend</td>\n",
       "      <td>veld</td>\n",
       "      <td>0.0</td>\n",
       "      <td>30.0</td>\n",
       "      <td>1950-01-01</td>\n",
       "      <td>NaN</td>\n",
       "    </tr>\n",
       "  </tbody>\n",
       "</table>\n",
       "</div>"
      ],
      "text/plain": [
       "                                pkey_bodemobservatie  \\\n",
       "0  https://www.dov.vlaanderen.be/data/bodemobserv...   \n",
       "1  https://www.dov.vlaanderen.be/data/bodemobserv...   \n",
       "2  https://www.dov.vlaanderen.be/data/bodemobserv...   \n",
       "3  https://www.dov.vlaanderen.be/data/bodemobserv...   \n",
       "4  https://www.dov.vlaanderen.be/data/bodemobserv...   \n",
       "\n",
       "                                   pkey_bodemlocatie  \\\n",
       "0  https://www.dov.vlaanderen.be/data/bodemlocati...   \n",
       "1  https://www.dov.vlaanderen.be/data/bodemlocati...   \n",
       "2  https://www.dov.vlaanderen.be/data/bodemlocati...   \n",
       "3  https://www.dov.vlaanderen.be/data/bodemlocati...   \n",
       "4  https://www.dov.vlaanderen.be/data/bodemlocati...   \n",
       "\n",
       "                                         pkey_parent  \\\n",
       "0  https://www.dov.vlaanderen.be/data/bodemmonste...   \n",
       "1  https://www.dov.vlaanderen.be/data/bodemmonste...   \n",
       "2  https://www.dov.vlaanderen.be/data/bodemmonste...   \n",
       "3  https://www.dov.vlaanderen.be/data/bodemmonste...   \n",
       "4  https://www.dov.vlaanderen.be/data/bodemmonste...   \n",
       "\n",
       "                   parameter  parametergroep             waarde eenheid  \\\n",
       "0  Organische C - percentage  Bodem_chemisch   1.50812064965197       %   \n",
       "1  Organische C - percentage  Bodem_chemisch   1.12142304717711       %   \n",
       "2  Organische C - percentage  Bodem_chemisch   1.52358855375097       %   \n",
       "3  Organische C - percentage  Bodem_chemisch     1.430781129157       %   \n",
       "4  Organische C - percentage  Bodem_chemisch  0.935808197989172       %   \n",
       "\n",
       "   ondergrens  bovengrens  detectie  \\\n",
       "0         NaN         NaN       NaN   \n",
       "1         NaN         NaN       NaN   \n",
       "2         NaN         NaN       NaN   \n",
       "3         NaN         NaN       NaN   \n",
       "4         NaN         NaN       NaN   \n",
       "\n",
       "                                      methode betrouwbaarheid veld_labo  \\\n",
       "0  Aardewerk oude methode organische koolstof        onbekend      veld   \n",
       "1  Aardewerk oude methode organische koolstof        onbekend      veld   \n",
       "2  Aardewerk oude methode organische koolstof        onbekend      veld   \n",
       "3  Aardewerk oude methode organische koolstof        onbekend      veld   \n",
       "4  Aardewerk oude methode organische koolstof        onbekend      veld   \n",
       "\n",
       "   diepte_van  diepte_tot observatiedatum  invoerdatum  \n",
       "0         0.0        30.0      1949-09-12          NaN  \n",
       "1         0.0        30.0      1952-04-22          NaN  \n",
       "2         0.0        30.0      1950-02-08          NaN  \n",
       "3         0.0        30.0      1953-07-07          NaN  \n",
       "4         0.0        30.0      1950-01-01          NaN  "
      ]
     },
     "execution_count": 18,
     "metadata": {},
     "output_type": "execute_result"
    }
   ],
   "source": [
    "from owslib.fes import PropertyIsEqualTo\n",
    "from owslib.fes import And\n",
    "\n",
    "from pydov.search.bodemobservatie import BodemobservatieSearch\n",
    "\n",
    "bodemobservatie = BodemobservatieSearch()\n",
    "\n",
    "# Select only layers with the boundaries 10-30\n",
    "bodemobservaties = bodemobservatie.search(\n",
    "        location=GmlFilter(provincie_poly, Within),\n",
    "        query=And([\n",
    "            PropertyIsEqualTo(propertyname=\"parameter\", literal=\"Organische C - percentage\"),\n",
    "            PropertyIsEqualTo(propertyname=\"diepte_tot\", literal = '30'),\n",
    "            PropertyIsEqualTo(propertyname=\"diepte_van\", literal = '0')\n",
    "        ]))\n",
    "\n",
    "\n",
    "bodemobservaties.head()"
   ]
  },
  {
   "cell_type": "markdown",
   "metadata": {},
   "source": [
    "Now we have all observations with the requested properties. \n",
    "Next we need to link them with the bodemlocatie"
   ]
  },
  {
   "cell_type": "code",
   "execution_count": 19,
   "metadata": {},
   "outputs": [
    {
     "name": "stdout",
     "output_type": "stream",
     "text": [
      "[000/066] cccccccccccccccccccccccccccccccccccccccccccccccccc\n",
      "[050/066] cccccccccccccccc\n"
     ]
    },
    {
     "data": {
      "text/html": [
       "<div>\n",
       "<style scoped>\n",
       "    .dataframe tbody tr th:only-of-type {\n",
       "        vertical-align: middle;\n",
       "    }\n",
       "\n",
       "    .dataframe tbody tr th {\n",
       "        vertical-align: top;\n",
       "    }\n",
       "\n",
       "    .dataframe thead th {\n",
       "        text-align: right;\n",
       "    }\n",
       "</style>\n",
       "<table border=\"1\" class=\"dataframe\">\n",
       "  <thead>\n",
       "    <tr style=\"text-align: right;\">\n",
       "      <th></th>\n",
       "      <th>pkey_bodemobservatie</th>\n",
       "      <th>pkey_bodemlocatie</th>\n",
       "      <th>pkey_parent</th>\n",
       "      <th>parameter</th>\n",
       "      <th>parametergroep</th>\n",
       "      <th>waarde</th>\n",
       "      <th>eenheid</th>\n",
       "      <th>ondergrens</th>\n",
       "      <th>bovengrens</th>\n",
       "      <th>detectie</th>\n",
       "      <th>...</th>\n",
       "      <th>type</th>\n",
       "      <th>waarnemingsdatum</th>\n",
       "      <th>doel</th>\n",
       "      <th>x</th>\n",
       "      <th>y</th>\n",
       "      <th>mv_mtaw</th>\n",
       "      <th>erfgoed</th>\n",
       "      <th>bodemstreek</th>\n",
       "      <th>invoerdatum_y</th>\n",
       "      <th>educatieve_waarde</th>\n",
       "    </tr>\n",
       "  </thead>\n",
       "  <tbody>\n",
       "    <tr>\n",
       "      <th>0</th>\n",
       "      <td>https://www.dov.vlaanderen.be/data/bodemobserv...</td>\n",
       "      <td>https://www.dov.vlaanderen.be/data/bodemlocati...</td>\n",
       "      <td>https://www.dov.vlaanderen.be/data/bodemmonste...</td>\n",
       "      <td>Organische C - percentage</td>\n",
       "      <td>Bodem_chemisch</td>\n",
       "      <td>1.50812064965197</td>\n",
       "      <td>%</td>\n",
       "      <td>NaN</td>\n",
       "      <td>NaN</td>\n",
       "      <td>NaN</td>\n",
       "      <td>...</td>\n",
       "      <td>profielput</td>\n",
       "      <td>1949-09-12</td>\n",
       "      <td>bodemprofielen en oppervlaktemonsters karterin...</td>\n",
       "      <td>141222.0</td>\n",
       "      <td>213316.0</td>\n",
       "      <td>4.0</td>\n",
       "      <td>False</td>\n",
       "      <td>Zandstreek</td>\n",
       "      <td>2019-10-11</td>\n",
       "      <td>OK</td>\n",
       "    </tr>\n",
       "    <tr>\n",
       "      <th>1</th>\n",
       "      <td>https://www.dov.vlaanderen.be/data/bodemobserv...</td>\n",
       "      <td>https://www.dov.vlaanderen.be/data/bodemlocati...</td>\n",
       "      <td>https://www.dov.vlaanderen.be/data/bodemmonste...</td>\n",
       "      <td>Organische C - percentage</td>\n",
       "      <td>Bodem_chemisch</td>\n",
       "      <td>1.12142304717711</td>\n",
       "      <td>%</td>\n",
       "      <td>NaN</td>\n",
       "      <td>NaN</td>\n",
       "      <td>NaN</td>\n",
       "      <td>...</td>\n",
       "      <td>profielput</td>\n",
       "      <td>1952-04-22</td>\n",
       "      <td>bodemprofielen en oppervlaktemonsters karterin...</td>\n",
       "      <td>132594.0</td>\n",
       "      <td>193978.0</td>\n",
       "      <td>3.0</td>\n",
       "      <td>False</td>\n",
       "      <td>Zandstreek</td>\n",
       "      <td>2019-10-11</td>\n",
       "      <td>OK</td>\n",
       "    </tr>\n",
       "    <tr>\n",
       "      <th>2</th>\n",
       "      <td>https://www.dov.vlaanderen.be/data/bodemobserv...</td>\n",
       "      <td>https://www.dov.vlaanderen.be/data/bodemlocati...</td>\n",
       "      <td>https://www.dov.vlaanderen.be/data/bodemmonste...</td>\n",
       "      <td>Organische C - percentage</td>\n",
       "      <td>Bodem_chemisch</td>\n",
       "      <td>1.52358855375097</td>\n",
       "      <td>%</td>\n",
       "      <td>NaN</td>\n",
       "      <td>NaN</td>\n",
       "      <td>NaN</td>\n",
       "      <td>...</td>\n",
       "      <td>profielput</td>\n",
       "      <td>1950-02-08</td>\n",
       "      <td>bodemprofielen en oppervlaktemonsters karterin...</td>\n",
       "      <td>138392.0</td>\n",
       "      <td>217983.0</td>\n",
       "      <td>2.0</td>\n",
       "      <td>False</td>\n",
       "      <td>Doel</td>\n",
       "      <td>2019-10-11</td>\n",
       "      <td>OK</td>\n",
       "    </tr>\n",
       "    <tr>\n",
       "      <th>3</th>\n",
       "      <td>https://www.dov.vlaanderen.be/data/bodemobserv...</td>\n",
       "      <td>https://www.dov.vlaanderen.be/data/bodemlocati...</td>\n",
       "      <td>https://www.dov.vlaanderen.be/data/bodemmonste...</td>\n",
       "      <td>Organische C - percentage</td>\n",
       "      <td>Bodem_chemisch</td>\n",
       "      <td>1.430781129157</td>\n",
       "      <td>%</td>\n",
       "      <td>NaN</td>\n",
       "      <td>NaN</td>\n",
       "      <td>NaN</td>\n",
       "      <td>...</td>\n",
       "      <td>profielput</td>\n",
       "      <td>1953-07-07</td>\n",
       "      <td>bodemprofielen en oppervlaktemonsters karterin...</td>\n",
       "      <td>102902.0</td>\n",
       "      <td>188823.0</td>\n",
       "      <td>8.0</td>\n",
       "      <td>False</td>\n",
       "      <td>Zandstreek</td>\n",
       "      <td>2019-10-11</td>\n",
       "      <td>OK</td>\n",
       "    </tr>\n",
       "    <tr>\n",
       "      <th>4</th>\n",
       "      <td>https://www.dov.vlaanderen.be/data/bodemobserv...</td>\n",
       "      <td>https://www.dov.vlaanderen.be/data/bodemlocati...</td>\n",
       "      <td>https://www.dov.vlaanderen.be/data/bodemmonste...</td>\n",
       "      <td>Organische C - percentage</td>\n",
       "      <td>Bodem_chemisch</td>\n",
       "      <td>0.935808197989172</td>\n",
       "      <td>%</td>\n",
       "      <td>NaN</td>\n",
       "      <td>NaN</td>\n",
       "      <td>NaN</td>\n",
       "      <td>...</td>\n",
       "      <td>profielput</td>\n",
       "      <td>1950-01-01</td>\n",
       "      <td>bodemprofielen en oppervlaktemonsters karterin...</td>\n",
       "      <td>134336.0</td>\n",
       "      <td>180915.0</td>\n",
       "      <td>40.0</td>\n",
       "      <td>False</td>\n",
       "      <td>Zandleemstreek</td>\n",
       "      <td>2019-10-11</td>\n",
       "      <td>OK</td>\n",
       "    </tr>\n",
       "  </tbody>\n",
       "</table>\n",
       "<p>5 rows × 28 columns</p>\n",
       "</div>"
      ],
      "text/plain": [
       "                                pkey_bodemobservatie  \\\n",
       "0  https://www.dov.vlaanderen.be/data/bodemobserv...   \n",
       "1  https://www.dov.vlaanderen.be/data/bodemobserv...   \n",
       "2  https://www.dov.vlaanderen.be/data/bodemobserv...   \n",
       "3  https://www.dov.vlaanderen.be/data/bodemobserv...   \n",
       "4  https://www.dov.vlaanderen.be/data/bodemobserv...   \n",
       "\n",
       "                                   pkey_bodemlocatie  \\\n",
       "0  https://www.dov.vlaanderen.be/data/bodemlocati...   \n",
       "1  https://www.dov.vlaanderen.be/data/bodemlocati...   \n",
       "2  https://www.dov.vlaanderen.be/data/bodemlocati...   \n",
       "3  https://www.dov.vlaanderen.be/data/bodemlocati...   \n",
       "4  https://www.dov.vlaanderen.be/data/bodemlocati...   \n",
       "\n",
       "                                         pkey_parent  \\\n",
       "0  https://www.dov.vlaanderen.be/data/bodemmonste...   \n",
       "1  https://www.dov.vlaanderen.be/data/bodemmonste...   \n",
       "2  https://www.dov.vlaanderen.be/data/bodemmonste...   \n",
       "3  https://www.dov.vlaanderen.be/data/bodemmonste...   \n",
       "4  https://www.dov.vlaanderen.be/data/bodemmonste...   \n",
       "\n",
       "                   parameter  parametergroep             waarde eenheid  \\\n",
       "0  Organische C - percentage  Bodem_chemisch   1.50812064965197       %   \n",
       "1  Organische C - percentage  Bodem_chemisch   1.12142304717711       %   \n",
       "2  Organische C - percentage  Bodem_chemisch   1.52358855375097       %   \n",
       "3  Organische C - percentage  Bodem_chemisch     1.430781129157       %   \n",
       "4  Organische C - percentage  Bodem_chemisch  0.935808197989172       %   \n",
       "\n",
       "   ondergrens  bovengrens  detectie  ...        type waarnemingsdatum  \\\n",
       "0         NaN         NaN       NaN  ...  profielput       1949-09-12   \n",
       "1         NaN         NaN       NaN  ...  profielput       1952-04-22   \n",
       "2         NaN         NaN       NaN  ...  profielput       1950-02-08   \n",
       "3         NaN         NaN       NaN  ...  profielput       1953-07-07   \n",
       "4         NaN         NaN       NaN  ...  profielput       1950-01-01   \n",
       "\n",
       "                                                doel         x         y  \\\n",
       "0  bodemprofielen en oppervlaktemonsters karterin...  141222.0  213316.0   \n",
       "1  bodemprofielen en oppervlaktemonsters karterin...  132594.0  193978.0   \n",
       "2  bodemprofielen en oppervlaktemonsters karterin...  138392.0  217983.0   \n",
       "3  bodemprofielen en oppervlaktemonsters karterin...  102902.0  188823.0   \n",
       "4  bodemprofielen en oppervlaktemonsters karterin...  134336.0  180915.0   \n",
       "\n",
       "  mv_mtaw  erfgoed     bodemstreek invoerdatum_y educatieve_waarde  \n",
       "0     4.0    False      Zandstreek    2019-10-11                OK  \n",
       "1     3.0    False      Zandstreek    2019-10-11                OK  \n",
       "2     2.0    False            Doel    2019-10-11                OK  \n",
       "3     8.0    False      Zandstreek    2019-10-11                OK  \n",
       "4    40.0    False  Zandleemstreek    2019-10-11                OK  \n",
       "\n",
       "[5 rows x 28 columns]"
      ]
     },
     "execution_count": 19,
     "metadata": {},
     "output_type": "execute_result"
    }
   ],
   "source": [
    "from pydov.search.bodemlocatie import BodemlocatieSearch\n",
    "from pydov.util.query import Join\n",
    "import pandas as pd\n",
    "\n",
    "# Find bodemlocatie information for all observations\n",
    "bodemlocatie = BodemlocatieSearch()\n",
    "bodemlocaties = bodemlocatie.search(query=Join(bodemobservaties, on = 'pkey_bodemlocatie', using='pkey_bodemlocatie'))\n",
    "\n",
    "# Merge the bodemlocatie information together with the observation information\n",
    "merged = pd.merge(bodemobservaties, bodemlocaties, on=\"pkey_bodemlocatie\", how='left')\n",
    "\n",
    "merged.head()"
   ]
  },
  {
   "cell_type": "markdown",
   "metadata": {},
   "source": [
    "To export the results to CSV, you can use for example: \n",
    "```python\n",
    "merged.to_csv(\"test.csv\")\n",
    "```"
   ]
  },
  {
   "cell_type": "markdown",
   "metadata": {},
   "source": [
    "We can plot also the results on a map\n",
    "This can take some time!"
   ]
  },
  {
   "cell_type": "code",
   "execution_count": 20,
   "metadata": {
    "scrolled": true
   },
   "outputs": [
    {
     "data": {
      "text/html": [
       "<div style=\"width:100%;\"><div style=\"position:relative;width:100%;height:0;padding-bottom:60%;\"><iframe src=\"data:text/html;charset=utf-8;base64,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\" style=\"position:absolute;width:100%;height:100%;left:0;top:0;border:none !important;\" allowfullscreen webkitallowfullscreen mozallowfullscreen></iframe></div></div>"
      ],
      "text/plain": [
       "<folium.folium.Map at 0x210e48fffd0>"
      ]
     },
     "execution_count": 20,
     "metadata": {},
     "output_type": "execute_result"
    }
   ],
   "source": [
    "import folium\n",
    "from folium.plugins import MarkerCluster\n",
    "from pyproj import Transformer\n",
    "\n",
    "# convert the coordinates to lat/lon for folium\n",
    "def convert_latlon(x1, y1):\n",
    "    transformer = Transformer.from_crs(\"epsg:31370\", \"epsg:4326\", always_xy=True)\n",
    "    x2,y2 = transformer.transform(x1, y1)\n",
    "    return x2, y2\n",
    "\n",
    "#convert coordinates to wgs84\n",
    "merged['lon'], merged['lat'] = zip(*map(convert_latlon, merged['x'], merged['y']))\n",
    "\n",
    "# Get only location and value\n",
    "loclist = merged[['lat', 'lon']].values.tolist()\n",
    "\n",
    "# initialize the Folium map on the centre of the selected locations, play with the zoom until ok\n",
    "fmap = folium.Map(location=[merged['lat'].mean(), merged['lon'].mean()], zoom_start=10)\n",
    "marker_cluster = MarkerCluster().add_to(fmap)\n",
    "for loc in range(0, len(loclist)):\n",
    "    popup = 'Bodemlocatie: ' + merged['pkey_bodemlocatie'][loc] \n",
    "    popup = popup + '<br> Bodemobservatie: ' + merged['pkey_bodemobservatie'][loc]\n",
    "    popup = popup + '<br> Value: ' + merged['waarde'][loc] + \"%\"\n",
    "    folium.Marker(loclist[loc], popup=popup).add_to(marker_cluster)\n",
    "fmap"
   ]
  },
  {
   "cell_type": "markdown",
   "metadata": {},
   "source": [
    "### Calculate carbon stock in Ghent in the layer 0 - 23 cm"
   ]
  },
  {
   "cell_type": "markdown",
   "metadata": {},
   "source": [
    "*At the moment, there are no bulkdensities available. As soon as there are observations with bulkdensities, this example can be used to calculate a carbon stock in a layer.*"
   ]
  },
  {
   "cell_type": "markdown",
   "metadata": {},
   "source": [
    "Get boundaries of Ghent using WFS"
   ]
  },
  {
   "cell_type": "code",
   "execution_count": 21,
   "metadata": {},
   "outputs": [],
   "source": [
    "from owslib.etree import etree\n",
    "from owslib.wfs import WebFeatureService\n",
    "from pydov.util.location import (\n",
    "    GmlFilter,\n",
    "    Within,\n",
    ")\n",
    "\n",
    "stadsgrenzen = WebFeatureService(\n",
    "    'https://geoservices.informatievlaanderen.be/overdrachtdiensten/VRBG/wfs',\n",
    "    version='1.1.0')\n",
    "\n",
    "gent_filter = PropertyIsEqualTo(propertyname='NAAM', literal='Gent')\n",
    "gent_poly = stadsgrenzen.getfeature(\n",
    "    typename='VRBG:Refgem',\n",
    "    filter=etree.tostring(gent_filter.toXML()).decode(\"utf8\")).read()"
   ]
  },
  {
   "cell_type": "markdown",
   "metadata": {},
   "source": [
    "First get all observations in Ghent for organisch C percentage in requested layer"
   ]
  },
  {
   "cell_type": "code",
   "execution_count": 22,
   "metadata": {},
   "outputs": [
    {
     "name": "stdout",
     "output_type": "stream",
     "text": [
      "[000/247] cccccccccccccccccccccccccccccccccccccccccccccccccc\n",
      "[050/247] cccccccccccccccccccccccccccccccccccccccccccccccccc\n",
      "[100/247] cccccccccccccccccccccccccccccccccccccccccccccccccc\n",
      "[150/247] cccccccccccccccccccccccccccccccccccccccccccccccccc\n",
      "[200/247] ccccccccccccccccccccccccccccccccccccccccccccccc\n"
     ]
    },
    {
     "data": {
      "text/html": [
       "<div>\n",
       "<style scoped>\n",
       "    .dataframe tbody tr th:only-of-type {\n",
       "        vertical-align: middle;\n",
       "    }\n",
       "\n",
       "    .dataframe tbody tr th {\n",
       "        vertical-align: top;\n",
       "    }\n",
       "\n",
       "    .dataframe thead th {\n",
       "        text-align: right;\n",
       "    }\n",
       "</style>\n",
       "<table border=\"1\" class=\"dataframe\">\n",
       "  <thead>\n",
       "    <tr style=\"text-align: right;\">\n",
       "      <th></th>\n",
       "      <th>pkey_bodemlocatie</th>\n",
       "      <th>organic_c_percentage</th>\n",
       "    </tr>\n",
       "  </thead>\n",
       "  <tbody>\n",
       "    <tr>\n",
       "      <th>0</th>\n",
       "      <td>https://www.dov.vlaanderen.be/data/bodemlocati...</td>\n",
       "      <td>1.10595514307811</td>\n",
       "    </tr>\n",
       "    <tr>\n",
       "      <th>1</th>\n",
       "      <td>https://www.dov.vlaanderen.be/data/bodemlocati...</td>\n",
       "      <td>3.58855375096674</td>\n",
       "    </tr>\n",
       "    <tr>\n",
       "      <th>2</th>\n",
       "      <td>https://www.dov.vlaanderen.be/data/bodemlocati...</td>\n",
       "      <td>1.805</td>\n",
       "    </tr>\n",
       "    <tr>\n",
       "      <th>3</th>\n",
       "      <td>https://www.dov.vlaanderen.be/data/bodemlocati...</td>\n",
       "      <td>1.36890951276102</td>\n",
       "    </tr>\n",
       "    <tr>\n",
       "      <th>4</th>\n",
       "      <td>https://www.dov.vlaanderen.be/data/bodemlocati...</td>\n",
       "      <td>2.45939675174014</td>\n",
       "    </tr>\n",
       "  </tbody>\n",
       "</table>\n",
       "</div>"
      ],
      "text/plain": [
       "                                   pkey_bodemlocatie organic_c_percentage\n",
       "0  https://www.dov.vlaanderen.be/data/bodemlocati...     1.10595514307811\n",
       "1  https://www.dov.vlaanderen.be/data/bodemlocati...     3.58855375096674\n",
       "2  https://www.dov.vlaanderen.be/data/bodemlocati...                1.805\n",
       "3  https://www.dov.vlaanderen.be/data/bodemlocati...     1.36890951276102\n",
       "4  https://www.dov.vlaanderen.be/data/bodemlocati...     2.45939675174014"
      ]
     },
     "execution_count": 22,
     "metadata": {},
     "output_type": "execute_result"
    }
   ],
   "source": [
    "from owslib.fes import PropertyIsEqualTo, PropertyIsGreaterThan, PropertyIsLessThan\n",
    "from owslib.fes import And\n",
    "\n",
    "from pydov.search.bodemobservatie import BodemobservatieSearch\n",
    "\n",
    "bodemobservatie = BodemobservatieSearch()\n",
    "\n",
    "# all layers intersect the layer 0-23cm\n",
    "carbon_observaties = bodemobservatie.search(\n",
    "        location=GmlFilter(gent_poly, Within),\n",
    "        query=And([\n",
    "            PropertyIsEqualTo(propertyname=\"parameter\", literal=\"Organische C - percentage\"),\n",
    "            PropertyIsGreaterThan(propertyname=\"diepte_tot\", literal = '0'),\n",
    "            PropertyIsLessThan(propertyname=\"diepte_van\", literal = '23')\n",
    "        ]))\n",
    "carbon_observaties = carbon_observaties[['pkey_bodemlocatie', 'waarde']]\n",
    "carbon_observaties = carbon_observaties.rename(columns={\"waarde\": \"organic_c_percentage\"})\n",
    "carbon_observaties.head()\n"
   ]
  },
  {
   "cell_type": "markdown",
   "metadata": {},
   "source": [
    "Then get all observations in Ghent for bulkdensity in requested layer"
   ]
  },
  {
   "cell_type": "code",
   "execution_count": 23,
   "metadata": {},
   "outputs": [
    {
     "data": {
      "text/html": [
       "<div>\n",
       "<style scoped>\n",
       "    .dataframe tbody tr th:only-of-type {\n",
       "        vertical-align: middle;\n",
       "    }\n",
       "\n",
       "    .dataframe tbody tr th {\n",
       "        vertical-align: top;\n",
       "    }\n",
       "\n",
       "    .dataframe thead th {\n",
       "        text-align: right;\n",
       "    }\n",
       "</style>\n",
       "<table border=\"1\" class=\"dataframe\">\n",
       "  <thead>\n",
       "    <tr style=\"text-align: right;\">\n",
       "      <th></th>\n",
       "      <th>pkey_bodemlocatie</th>\n",
       "      <th>bulkdensity</th>\n",
       "    </tr>\n",
       "  </thead>\n",
       "  <tbody>\n",
       "  </tbody>\n",
       "</table>\n",
       "</div>"
      ],
      "text/plain": [
       "Empty DataFrame\n",
       "Columns: [pkey_bodemlocatie, bulkdensity]\n",
       "Index: []"
      ]
     },
     "execution_count": 23,
     "metadata": {},
     "output_type": "execute_result"
    }
   ],
   "source": [
    "density_observaties = bodemobservatie.search(\n",
    "        location=GmlFilter(gent_poly, Within),\n",
    "        query=And([\n",
    "            PropertyIsEqualTo(propertyname=\"parameter\", literal=\"Bulkdensitiet - gemeten\"),\n",
    "            PropertyIsGreaterThan(propertyname=\"diepte_tot\", literal = '0'),\n",
    "            PropertyIsLessThan(propertyname=\"diepte_van\", literal = '23')\n",
    "        ]))\n",
    "\n",
    "\n",
    "density_observaties = density_observaties[['pkey_bodemlocatie', 'waarde']]\n",
    "density_observaties = density_observaties.rename(columns={\"waarde\": \"bulkdensity\"})\n",
    "density_observaties.head()"
   ]
  },
  {
   "cell_type": "markdown",
   "metadata": {},
   "source": [
    "Merge results together based on their bodemlocatie. Only remains the records where both parameters exists"
   ]
  },
  {
   "cell_type": "code",
   "execution_count": 24,
   "metadata": {},
   "outputs": [
    {
     "data": {
      "text/html": [
       "<div>\n",
       "<style scoped>\n",
       "    .dataframe tbody tr th:only-of-type {\n",
       "        vertical-align: middle;\n",
       "    }\n",
       "\n",
       "    .dataframe tbody tr th {\n",
       "        vertical-align: top;\n",
       "    }\n",
       "\n",
       "    .dataframe thead th {\n",
       "        text-align: right;\n",
       "    }\n",
       "</style>\n",
       "<table border=\"1\" class=\"dataframe\">\n",
       "  <thead>\n",
       "    <tr style=\"text-align: right;\">\n",
       "      <th></th>\n",
       "      <th>pkey_bodemlocatie</th>\n",
       "      <th>organic_c_percentage</th>\n",
       "      <th>bulkdensity</th>\n",
       "    </tr>\n",
       "  </thead>\n",
       "  <tbody>\n",
       "  </tbody>\n",
       "</table>\n",
       "</div>"
      ],
      "text/plain": [
       "Empty DataFrame\n",
       "Columns: [pkey_bodemlocatie, organic_c_percentage, bulkdensity]\n",
       "Index: []"
      ]
     },
     "execution_count": 24,
     "metadata": {},
     "output_type": "execute_result"
    }
   ],
   "source": [
    "import pandas as pd\n",
    "\n",
    "merged = pd.merge(carbon_observaties, density_observaties, on=\"pkey_bodemlocatie\")\n",
    "\n",
    "merged.head()"
   ]
  }
 ],
 "metadata": {
  "kernelspec": {
   "display_name": "Python 3",
   "language": "python",
   "name": "python3"
  },
  "language_info": {
   "codemirror_mode": {
    "name": "ipython",
    "version": 3
   },
   "file_extension": ".py",
   "mimetype": "text/x-python",
   "name": "python",
   "nbconvert_exporter": "python",
   "pygments_lexer": "ipython3",
   "version": "3.7.3"
  }
 },
 "nbformat": 4,
 "nbformat_minor": 4
}
